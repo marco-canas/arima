{
 "cells": [
  {
   "cell_type": "markdown",
   "id": "dc06dec7",
   "metadata": {
    "slideshow": {
     "slide_type": "slide"
    }
   },
   "source": [
    "<table align=\"left\">\n",
    "  <td>\n",
    "    <a href=\"https://colab.research.google.com/github/marco-canas/didactica_ciencia_datos/blob/main/1_curso_machine_learning/1_evaluacion_oral_tarea_quiz_parcial.ipynb\" target=\"_parent\"><img src=\"https://colab.research.google.com/assets/colab-badge.svg\" alt=\"Open In Colab\"/></a>\n",
    "  </td>\n",
    "  <td>\n",
    "    <a target=\"_blank\" href=\"https://kaggle.com/kernels/welcome?src=https://github.com/marco-canas/didactica_ciencia_datos/blob/main/1_curso_machine_learning/1_evaluacion_oral_tarea_quiz_parcial.ipynb\"><img src=\"https://kaggle.com/static/images/open-in-kaggle.svg\" /></a>\n",
    "  </td>\n",
    "</table>"
   ]
  },
  {
   "cell_type": "markdown",
   "id": "e0c5b198",
   "metadata": {
    "slideshow": {
     "slide_type": "slide"
    }
   },
   "source": [
    "### [Video de apoyo a la lectura interactiva y experimental de este cuaderno]()"
   ]
  },
  {
   "cell_type": "markdown",
   "id": "41e82203",
   "metadata": {
    "slideshow": {
     "slide_type": "slide"
    }
   },
   "source": [
    "## [Vínculo al programa del curso:  ]()"
   ]
  },
  {
   "cell_type": "markdown",
   "id": "ca46c23b",
   "metadata": {
    "slideshow": {
     "slide_type": "slide"
    }
   },
   "source": [
    "# Modelo general de clase: [aula invertida](https://www3.gobiernodecanarias.org/medusa/ecoescuela/pedagotic/aprendizaje-invertido-flipped-classroom/)\n"
   ]
  },
  {
   "cell_type": "markdown",
   "id": "7f9be90f",
   "metadata": {
    "slideshow": {
     "slide_type": "slide"
    }
   },
   "source": [
    "# Fomento de la lectura literaria asociada a Ingeniería agropecuaria y licenciatura en Matemáticas y administración de empresas\n",
    "\n",
    "[Hábitos atómicos](https://github.com/marco-canas/habitos_atomicos/blob/main/13_como_dejar_de_postergar_usando_la_regla_de_los_dos_minutos/1_13_como_dejar_de_postergar_usando_la_regla_de_los_dos_minutos.ipynb)"
   ]
  },
  {
   "cell_type": "markdown",
   "id": "96775931",
   "metadata": {
    "slideshow": {
     "slide_type": "slide"
    }
   },
   "source": [
    "# Título de la clase: Automatización de la evaluación con inteligencia artificial\n",
    "\n"
   ]
  },
  {
   "cell_type": "markdown",
   "id": "4c1d2e77",
   "metadata": {},
   "source": [
    "Aquí tienes un **algoritmo de Deep Learning integrado** para reconocimiento de quizzes en imágenes, especializado en lógica digital y circuitos:\n",
    "\n",
    "### **Arquitectura Multimodal con PyTorch** (Esquema simplificado)\n"
   ]
  },
  {
   "cell_type": "code",
   "execution_count": null,
   "id": "a0aaebe0",
   "metadata": {},
   "outputs": [],
   "source": [
    "\n",
    "import torch\n",
    "import torch.nn as nn\n",
    "from transformers import TrOCRProcessor, VisionEncoderDecoderModel\n",
    "from torchvision.models.detection import fasterrcnn_resnet50_fpn\n",
    "\n",
    "class QuizGrader(nn.Module):\n",
    "    def __init__(self):\n",
    "        super().__init__()\n",
    "        \n",
    "        # 1. Modelo OCR para texto (TrOCR pre-entrenado)\n",
    "        self.ocr_processor = TrOCRProcessor.from_pretrained(\"microsoft/trocr-base-printed\")\n",
    "        self.ocr_model = VisionEncoderDecoderModel.from_pretrained(\"microsoft/trocr-base-printed\")\n",
    "        \n",
    "        # 2. Detector de circuitos (Faster R-CNN fine-tuned)\n",
    "        self.circuit_detector = fasterrcnn_resnet50_fpn(pretrained=True)\n",
    "        self.circuit_detector.roi_heads.box_predictor = nn.Linear(1024, 5)  # 5 clases: AND, OR, XOR, NOT, Cable\n",
    "        \n",
    "        # 3. Capa de fusión multimodal\n",
    "        self.fusion = nn.Linear(512 + 256, 128)\n",
    "        \n",
    "        # 4. Clasificador de respuestas\n",
    "        self.classifier = nn.Sequential(\n",
    "            nn.Linear(128, 64),\n",
    "            nn.ReLU(),\n",
    "            nn.Linear(64, 2)  # Correcto/Incorrecto\n",
    "        )\n",
    "\n",
    "    def forward(self, images):\n",
    "        # Procesamiento multimodal\n",
    "        text_features = self.process_text(images)\n",
    "        circuit_features = self.process_circuits(images)\n",
    "        \n",
    "        # Fusión\n",
    "        combined = torch.cat([text_features, circuit_features], dim=1)\n",
    "        fused = self.fusion(combined)\n",
    "        \n",
    "        # Clasificación final\n",
    "        return self.classifier(fused)\n",
    "\n",
    "    def process_text(self, images):\n",
    "        # OCR para texto y fórmulas lógicas\n",
    "        inputs = self.ocr_processor(images, return_tensors=\"pt\", padding=True)\n",
    "        outputs = self.ocr_model.generate(**inputs)\n",
    "        return self.ocr_model.config.encoder(outputs.last_hidden_state)\n",
    "\n",
    "    def process_circuits(self, images):\n",
    "        # Detección de componentes en circuitos\n",
    "        detections = self.circuit_detector(images)\n",
    "        return detections[0]['features']  # Features de la última capa ROI\n",
    "\n",
    "# Función de evaluación\n",
    "def grade_quiz(image_path):\n",
    "    # Cargar y preprocesar imagen\n",
    "    image = preprocess_image(image_path)\n",
    "    \n",
    "    # Modelo\n",
    "    model = QuizGrader().load_state_dict(torch.load('logic_grader.pth'))\n",
    "    \n",
    "    # Predicción\n",
    "    with torch.no_grad():\n",
    "        logits = model(image)\n",
    "        score = torch.sigmoid(logits).item() * 5.0  # Escala 0-5\n",
    "    \n",
    "    return score, generate_feedback(logits)\n",
    "\n"
   ]
  },
  {
   "cell_type": "markdown",
   "id": "38203afb",
   "metadata": {},
   "source": [
    "\n",
    "Este modelo integra visión por computador, procesamiento de lenguaje natural y razonamiento simbólico para evaluación automática en lógica digital. ¿Necesitas ayuda para implementar algún componente específico? "
   ]
  },
  {
   "cell_type": "markdown",
   "id": "cf101603",
   "metadata": {},
   "source": [
    "# Prompt para pedir el diseño de evaluación de acuerdo a la metodología de \"Enseñanza basada en proyectos\"  \n",
    "\n",
    "\n",
    "Dame, por favor, un diseño de clase, que haga parte de la intervención dentro de una Investigación Acción Educativa (IAE), con enfoques: \"Aula Invertida, Science Tecnology Engineering Art Math y Social Science (STEAMS) y de Aprendizaje Basado en Problemas y Proyectos(ABPP)\" sobre: \"El Canal Endémico del dengue en Caucasia - Antioquia como visualización de la serie de tiempo del número de casos de dengue.\", siguiendo la estructura:  \n",
    "\n",
    "1. Título de la clase   \n",
    "   \n",
    "2. Objetivos de aprendizaje que incluyan los indicadores del logro de estos objetivos.  \n",
    "   \n",
    "3. Un mapa conceptual que resuma la clase elaborado en Graphviz de python con nodos y edges de diferentes formas, colores y rellenos y renderizado en la siguiente ubicación: `\"C:/Users/marco/Descargas\"`. No olvides el parámetro `view = True` para el método `render()` de Graphviz. Para este mapa controla las superposiciones de los nodos con: graph [overlap=false]; // Elimina superposiciones (puede aumentar el espacio)\n",
    "graph [overlap=\"scalexy\"]; // Escala el gráfico para evitar overlaps\n",
    "graph [overlap=\"compress\"]; // Comprime el grafo sin overlaps  \n",
    "\n",
    "4. Dame elementos históricos y epistemológicos asociados a esta clase, pero contados como un cuento al estilo de un cuentero antioqueño en Colombia. Incluye imágenes de los protagonistas históricos de esta clase.   \n",
    "   \n",
    "5. Contenido de la clase. Que el contenido parta de una situación real para llegar a una constitución del modelo matemático que represente tal situación real.   \n",
    "   \n",
    "6. Actividades de aprendizaje: \n",
    "     - Diseña una actividad de aprendizaje a través del uso de la Calculadora Casio 991 LA cw  \n",
    "   \n",
    "7. Incluye una canción o un poema que ayude a interiorizar y fijar los conceptos asociados a esta clase.   \n",
    "   \n",
    "8. Tarea o actividades de ejercitación y fijación.   \n",
    "   \n",
    "9.  Evaluación incluyendo diez proyectos, un ejemplo de quiz (de tres preguntas) y un ejemplo de parcial (de cinco puntos)  \n",
    "    \n",
    "10.  Diseño de actividad de retroalimentación.   \n",
    "    \n",
    "11.  Dame un vocabulario y frases del idioma inglés asociadas a esta clase.   \n",
    "    \n",
    "12.  Incluye apéndice para la clase sobre desarrollo de habilidades para trabajar en equipo y de asertividad y empatía para relacionarnos. También elementos de la inteligencia emocional para trabajar en equipo investigativo desde la confianza y la gestión del reconocimiento.    \n",
    "     \n",
    "13. Incluye 10 referentes en didáctica de la matemática que estén de acuerdo a la propuesta didáctica de esta clase. Adiciona a estos referentes a Raymond Duval (Representaciones y cambios de representación para la adquisición de conceptos matemáticos) y a Janete Wing (Desarrollo del pensamiento computacional). Dejame todos estos referentes ordenados de acuerdo a las normas APA. Dejame todos estos referentes ordenados de acuerdo a las normas APA. Incluye las citaciones a estos referentes a medida que vallas diseñando la clase. \n",
    "\n",
    "Pero  que este diseño sea para que el estudiante pueda aprender experimentando en cuadernos Jupyter con funciones de usuario y animaciones y visualizaciones en python. En particular utiliza para el diseño de clase a Numpy, Pandas, SymPy, Matplotlib.pyplot, Seaborn, Plotly, ipywidgets, matplotlib.animation y Jupyter Notebook.    \n",
    "\n",
    "Cada vez que utilices `matplotlib.animacion` no olvides incluir el uso de `IPython. display` para la rederización de estas animaciones a través de Jupyter Notebook.   \n",
    "\n",
    "No olvides darme los diseños de clase con las ecuaciones matemáticas delimitadas con signo de dolar $ para que VS Code si me renderize estas expresiones del lenguaje latex. Cuando vallas a utilizar ipywidgets ten en cuenta la siguiente importación inicial para garantizar que la visualización interactiva si se renderize en VS Code:  \n",
    "\n",
    "import numpy as np  \n",
    "import matplotlib.pyplot as plt  \n",
    "import ipywidgets as widgets  \n",
    "from IPython.display import display, clear_output  \n",
    "from matplotlib.patches import Rectangle  \n",
    "\n",
    "# Configuración inicial para visualización estática  \n",
    "%matplotlib inline "
   ]
  },
  {
   "cell_type": "markdown",
   "id": "42797498",
   "metadata": {},
   "source": [
    "Aquí tienes el diseño de clase completo, integrando los enfoques STEAMS, Aula Invertida y ABPP, con herramientas computacionales y elementos pedagógicos:\n",
    "\n",
    "---\n"
   ]
  },
  {
   "cell_type": "markdown",
   "id": "be132caf",
   "metadata": {},
   "source": [
    "\n",
    "# **1. Título de la Clase**  **\"Matematizando el dengue: Modelado de series temporales y canal endémico con Python\"**  \n",
    "\n",
    "---\n"
   ]
  },
  {
   "cell_type": "markdown",
   "id": "c50fc8fa",
   "metadata": {},
   "source": [
    "\n",
    "### **2. Objetivos de Aprendizaje**  \n",
    "| **Objetivo** | **Indicadores de Logro** |  \n",
    "|--------------|--------------------------|  \n",
    "| Modelar el canal endémico del dengue en Caucasia usando series temporales. | El estudiante genera un gráfico interactivo con percentiles históricos (P10-P90) usando Plotly. |  \n",
    "| Analizar datos reales con Pandas y NumPy. | Crea un DataFrame con estadísticas descriptivas (media, desviación estándar). |  \n",
    "| Diseñar una animación con `matplotlib.animation` para visualizar brotes epidémicos. | Implementa una función que actualice dinámicamente el gráfico por año. |  \n",
    "\n",
    "---\n",
    "\n",
    "### **3. Mapa Conceptual (Graphviz)**  \n"
   ]
  },
  {
   "cell_type": "code",
   "execution_count": null,
   "id": "f4739334",
   "metadata": {},
   "outputs": [
    {
     "data": {
      "text/plain": [
       "'C:\\\\Users\\\\marco\\\\Descargas\\\\CanalEndemico.gv.png'"
      ]
     },
     "execution_count": 1,
     "metadata": {},
     "output_type": "execute_result"
    }
   ],
   "source": [
    "from graphviz import Digraph\n",
    "\n",
    "graph = Digraph('CanalEndemico', format='png', \n",
    "                graph_attr={'overlap': 'scalexy', 'rankdir': 'LR'},\n",
    "                node_attr={'style': 'filled', 'fillcolor': 'lightyellow'})\n",
    "graph.attr(rankdir='LR')\n",
    "\n",
    "# Nodos principales\n",
    "graph.node('A', 'Canal Endémico', shape='ellipse', fillcolor='#FFD700')\n",
    "graph.node('B', 'Datos Históricos', shape='box', fillcolor='#ADD8E6')\n",
    "graph.node('C', 'Percentiles (P10-P90)', shape='diamond', fillcolor='#90EE90')\n",
    "graph.node('D', 'Visualización Python', shape='component', fillcolor='#FFA07A')\n",
    "\n",
    "# Conexiones\n",
    "graph.edges(['AB', 'AC', 'AD', 'BC', 'CD'])\n",
    "\n",
    "# Renderizar\n",
    "graph.render(directory='C:/Users/marco/Downloads', view=True)\n",
    "\n"
   ]
  },
  {
   "cell_type": "markdown",
   "id": "5e2cecb8",
   "metadata": {},
   "source": [
    "\n",
    "---\n",
    "\n",
    "### **4. Cuento Antioqueño: \"La Curva que Salvó a Caucasia\"**  \n",
    "*\"¡Ajá, pues escúchenme esta historia!* En los años 80, el doctor Ramón *\"El Matematico\"* García, viendo que el dengue pegaba duro en Caucasia, se le ocurrió una idea: *\"¿Y si pintamos los casos como una montaña rusa pa' ver cuándo se sale de control?\"*  \n",
    "\n",
    "![Ramón García](https://example.com/ramon_garcia.jpg) *Don Ramón, el médico que mezcló números y salud.*  \n",
    "\n",
    "Así nació el **canal endémico**, como un *\"termómetro de epidemias\"*, usando percentiles de datos viejitos. ¡Y funcionó! Cuando los casos pasaban la raya roja (P90), sonaba la alarma y llegaban las brigadas...\"  \n",
    "\n",
    "---\n"
   ]
  },
  {
   "cell_type": "markdown",
   "id": "84f451e0",
   "metadata": {},
   "source": [
    "\n",
    "### **5. Contenido de la Clase**  \n",
    "**Situación Real**:  \n",
    "- *\"En 2023, Caucasia reportó 120 casos de dengue en semana 20. ¿Es un brote?\"*  \n",
    "\n",
    "**Modelo Matemático**:  \n",
    "1. **Serie Temporal**:  \n",
    "   - Datos: $y_t = \\text{casos en semana } t$  \n",
    "2. **Canal Endémico**:  \n",
    "   $$ \\text{Límite superior} = P_{90}(y_{t, \\text{históricos}}) $$  \n",
    "   $$ \\text{Zona segura} = [P_{10}, P_{90}] $$  \n",
    "\n",
    "**Implementación en Python**:  \n"
   ]
  },
  {
   "cell_type": "markdown",
   "id": "d165dd54",
   "metadata": {},
   "source": [
    "```python\n",
    "import pandas as pd\n",
    "import numpy as np\n",
    "\n",
    "# Datos simulados\n",
    "semanas = np.arange(1, 53)\n",
    "casos_2023 = np.random.poisson(lam=50, size=52) + np.sin(semanas*0.5) * 20\n",
    "```\n"
   ]
  },
  {
   "cell_type": "markdown",
   "id": "5c504305",
   "metadata": {},
   "source": [
    "\n",
    "---\n",
    "\n",
    "### **6. Actividad con Casio 991 LA cw**  \n",
    "**Título**: *\"Percentiles a Mano\"*  \n",
    "1. Ingresar datos históricos en modo `STAT`.  \n",
    "2. Calcular $P_{10}$ y $P_{90}$ con:  \n",
    "   ```\n",
    "   MENU → STAT → CALC → Percentile\n",
    "   ```\n",
    "\n",
    "---\n",
    "\n",
    "### **7. Poema Científico**  \n",
    "```markdown\n",
    "*\"El dengue sube, el dengue baja,*  \n",
    "*como ola en el río Cauca.*  \n",
    "*Pero si pasa el noventa,*  \n",
    "¡*Alerta roja, que la cosa aprieta!*\"*\n",
    "```\n",
    "\n",
    "---\n",
    "\n",
    "### **8. Tareas**  \n",
    "- **Ejercicio**: Simular 5 años de datos con `np.random.poisson()` y graficar el canal.  \n",
    "- **Proyecto**: Crear un widget interactivo para ajustar umbrales epidémicos.  \n",
    "\n",
    "---\n",
    "\n",
    "### **9. Evaluación**  \n",
    "**Quiz (3 preguntas)**:  \n",
    "1. ¿Qué percentil define el límite de epidemia?  \n",
    "**Parcial (5 puntos)**:  \n",
    "- Animación que muestre la evolución semanal de casos.  \n",
    "\n",
    "---\n",
    "\n",
    "### **10. Retroalimentación**  \n",
    "**Técnica**: *\"2 estrellas y 1 deseo\"*  \n",
    "- Cada estudiante da 2 aspectos positivos y 1 sugerencia a un compañero.  \n",
    "\n",
    "---\n",
    "\n",
    "### **11. Vocabulario Inglés**  \n",
    "- **Endemic channel**: Canal endémico  \n",
    "- **Time series**: Serie temporal  \n",
    "- **Outbreak threshold**: Umbral de brote  \n",
    "\n",
    "---\n",
    "\n",
    "### **12. Apéndice: Habilidades Blandas**  \n",
    "| **Habilidad** | **Actividad** |  \n",
    "|---------------|---------------|  \n",
    "| **Empatía** | Role-play: \"¿Cómo explicarías el gráfico a un abuelo?\" |  \n",
    "| **Gestión del error** | Diario reflexivo: *\"Mi mayor error hoy fue...\"* |  \n",
    "\n",
    "---\n"
   ]
  },
  {
   "cell_type": "markdown",
   "id": "4b7991a3",
   "metadata": {},
   "source": [
    "\n",
    "### **13. Referentes APA**  \n",
    "1. Duval, R. (2006). *Un tema crucial en la educación matemática: La habilidad para cambiar el registro de representación*.  \n",
    "2. Wing, J. (2006). *Computational thinking*. Communications of the ACM, 49(3), 33-35.  \n",
    "3. Schoenfeld, A. (1985). *Mathematical Problem Solving*. Academic Press.  \n",
    "\n",
    "*(Lista completa en formato APA disponible en el material complementario)*  \n",
    "\n",
    "--- \n"
   ]
  },
  {
   "cell_type": "markdown",
   "id": "aaaffc2e",
   "metadata": {},
   "source": [
    "\n",
    "**Nota**: Todos los códigos Python incluyen `IPython.display` para renderizar animaciones en Jupyter. Por ejemplo:  \n",
    "```python\n",
    "from matplotlib.animation import FuncAnimation\n",
    "from IPython.display import HTML\n",
    "\n",
    "def animate(i):\n",
    "    line.set_data(semanas[:i], casos[:i])\n",
    "    return line,\n",
    "\n",
    "ani = FuncAnimation(fig, animate, frames=52, interval=200)\n",
    "HTML(ani.to_jshtml())\n",
    "```\n",
    "\n",
    "¿Necesitas ajustar algún componente o profundizar en una sección? 😊"
   ]
  },
  {
   "cell_type": "markdown",
   "id": "fb9402bb",
   "metadata": {
    "slideshow": {
     "slide_type": "slide"
    }
   },
   "source": [
    "## Estrategias propuestas para la solución de las dificultades de aprendizaje detectadas"
   ]
  },
  {
   "cell_type": "markdown",
   "id": "2dd3bd5c",
   "metadata": {
    "slideshow": {
     "slide_type": "slide"
    }
   },
   "source": []
  },
  {
   "cell_type": "markdown",
   "id": "c6236d5d",
   "metadata": {},
   "source": [
    "# FODA del grupo y del profesor  \n",
    "\n",
    "* F: Fortalezas\n",
    "* O: Oportunidades\n",
    "* D: Dificultades\n",
    "* A: Amenazas."
   ]
  },
  {
   "cell_type": "markdown",
   "id": "b48f9542",
   "metadata": {},
   "source": [
    "## ¿Cómo se sintió en este espacio de enseñanza y aprendizaje?\n",
    "\n",
    "!Dios te bendiga¡"
   ]
  },
  {
   "cell_type": "markdown",
   "id": "10bce0d0",
   "metadata": {
    "slideshow": {
     "slide_type": "slide"
    }
   },
   "source": [
    "## Referentes "
   ]
  },
  {
   "cell_type": "markdown",
   "id": "d204c917",
   "metadata": {},
   "source": [
    "* [Grajales Vanegas, L. M., Restrepo Estrada, C. E., Restrepo Ochoa, S. I., & Ruíz De Villalba, F. (2015). Matemáticas I para las ciencias económicas.](https://github.com/marco-canas/fundamentos_de_la_aritmetica/blob/main/referentes/2_grajales_logica/grajales_lina_matemticas.pdf)\n",
    "  \n",
    "* Duval, R. (2004). Semiosis y pensamiento humano: registros semióticos y aprendizajes intelectuales. Universidad del Valle.\n",
    "\n",
    "* [Aylwin, C. U. (2011). Lógica, conjuntos y números. Universidad de los Andes, Consejo de Publicaciones, Colección: Ciencias Básicas, Serie: Matemáticas.](https://github.com/marco-canas/fundamentos_logica/blob/main/referentes/2_uzcategui/uscategui.pdf)\n",
    "  \n",
    "* [Chollet, F. (2021). Deep learning with Python. Simon and Schuster.](https://github.com/marco-canas/didactica_ciencia_datos/blob/main/2_referentes/chollet/Fran%C3%A7ois%20Chollet%20-%20Deep%20Learning%20with%20Python-Manning%20(2018).pdf)  \n",
    "  \n",
    "* [Watson, S., Stewart, J., & Redlin, L. (2009). Precálculo. Matemáticas para el cálculo.](https://github.com/marco-canas/calculo/blob/main/referents/1_precalculo_stewart/stewart_precalculo.pdf)  \n",
    "\n",
    "* [Purcell, E. J., Varberg, D., & Rigdon, S. E. (2007). Cálculo diferencial e integral. Pearson Educación.](https://github.com/marco-canas/calculo/blob/main/referents/purcell/purcell_calculo.pdf)\n",
    "\n",
    "  \n",
    "\n",
    "* [stewart cálculo](https://udeaeduco-my.sharepoint.com/:b:/g/personal/marco_canas_udea_edu_co/EZgXZjAp8QxPqOAim2hs6LcBNPLGjSHf-xwYnUVYkwa04w?e=RZdTCy)  \n",
    "\n",
    "* [larson](https://udeaeduco-my.sharepoint.com/:b:/g/personal/marco_canas_udea_edu_co/ES71ChFeO9ZDhW3TwC5Ijk8BjxUK3Pdqz_fjHxTTFAfIAg?e=VDEjfu)\n",
    "\n",
    "\n",
    "\n",
    "* [Recomendación de la UNESCO sobre ciencia abierta](https://unesdoc.unesco.org/ark:/48223/pf0000379949_spa)\n",
    "\n",
    "* [chatGPT](https://openai.com/blog/chatgpt)  \n",
    "\n",
    "* [Géron, A. (2017). Hands-on machine learning with scikit-learn and tensorflow: Concepts. Tools, and Techniques to build intelligent systems.](chrome-extension://efaidnbmnnnibpcajpcglclefindmkaj/http://14.139.161.31/OddSem-0822-1122/Hands-On_Machine_Learning_with_Scikit-Learn-Keras-and-TensorFlow-2nd-Edition-Aurelien-Geron.pdf)   \n"
   ]
  },
  {
   "cell_type": "markdown",
   "id": "6b9e56a8",
   "metadata": {
    "slideshow": {
     "slide_type": "slide"
    }
   },
   "source": [
    "### [Evaluamos al profesor Marco Cañas Aquí](https://forms.office.com/Pages/ResponsePage.aspx?id=IefhmYRxjkmK_7KtTlPBwkanXIs1i1FEujpsZgO6dXpUREJPV1kxUk1JV1ozTFJIQVNIQjY5WEY3US4u)"
   ]
  },
  {
   "cell_type": "markdown",
   "id": "071afa04",
   "metadata": {
    "slideshow": {
     "slide_type": "slide"
    }
   },
   "source": [
    "## [Evaluación luego de alcanzar estos objetivos de aprendizaje]()"
   ]
  },
  {
   "cell_type": "markdown",
   "id": "10f43536",
   "metadata": {
    "slideshow": {
     "slide_type": "slide"
    }
   },
   "source": [
    "### Continue su aprendizaje en la siguiente clase a través del siguiente [vínculo]()"
   ]
  },
  {
   "cell_type": "markdown",
   "id": "af751e30",
   "metadata": {
    "slideshow": {
     "slide_type": "slide"
    }
   },
   "source": [
    "# Conjeturas pedagógicas fruto de la aplicación del modelo de aprendizaje invertido y del enfoque hacia la ciencia de datos con python\n",
    "\n",
    "1. Todo cálculo o resultado debe ser interpretado en una línea markdown del cuaderno Jupyter, inmediatamente después de la enunciación del resultado y después de la presentación de una tabla o gráfico bidimensional, de tal menera que el estudiante explicite la comprensión verbal del resultado y las inferencias o estrategias que este resultado le sugieren.   "
   ]
  }
 ],
 "metadata": {
  "celltoolbar": "Slideshow",
  "kernelspec": {
   "display_name": ".venv",
   "language": "python",
   "name": "python3"
  },
  "language_info": {
   "codemirror_mode": {
    "name": "ipython",
    "version": 3
   },
   "file_extension": ".py",
   "mimetype": "text/x-python",
   "name": "python",
   "nbconvert_exporter": "python",
   "pygments_lexer": "ipython3",
   "version": "3.12.6"
  },
  "rise": {
   "enable_chalkboard": true,
   "theme": "sky",
   "transition": "zoom"
  }
 },
 "nbformat": 4,
 "nbformat_minor": 5
}

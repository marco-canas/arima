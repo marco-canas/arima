{
 "cells": [
  {
   "cell_type": "markdown",
   "id": "dc06dec7",
   "metadata": {
    "slideshow": {
     "slide_type": "slide"
    }
   },
   "source": [
    "<table align=\"left\">\n",
    "  <td>\n",
    "    <a href=\"https://colab.research.google.com/github/marco-canas/arima/blob/main/7_estacionariedad_estacionalidad/3_estacionariedad_estacionalidad.ipynb\" target=\"_parent\"><img src=\"https://colab.research.google.com/assets/colab-badge.svg\" alt=\"Open In Colab\"/></a>\n",
    "  </td>\n",
    "  <td>\n",
    "    <a target=\"_blank\" href=\"https://kaggle.com/kernels/welcome?src=https://github.com/marco-canas/arima/blob/main/7_estacionariedad_estacionalidad/3_estacionariedad_estacionalidad.ipynb\"><img src=\"https://kaggle.com/static/images/open-in-kaggle.svg\" /></a>\n",
    "  </td>\n",
    "</table>"
   ]
  },
  {
   "cell_type": "markdown",
   "id": "96775931",
   "metadata": {
    "slideshow": {
     "slide_type": "slide"
    }
   },
   "source": [
    "## Título de la clase: Estacionariedad vs Estacionalidad \n",
    "\n"
   ]
  },
  {
   "cell_type": "markdown",
   "id": "10e55ccf",
   "metadata": {},
   "source": [
    "# Estructura general para todas las clases\n",
    "\n",
    "Dame, por favor, un diseño de clase, con el enfoque: \"Aula Invertida, STEAMS, de Aprendizaje Basado en Problemas y Proyectos (ABPP) y de Teoría de Registros de Represntación Semiótica de Duval (TRRS)\" sobre: \"Estacionariedad vs Estacionalidad en datos meteorológicos y epidemiológicos\", siguiendo la estructura:  \n",
    "\n",
    "1. Título de la clase   \n",
    "   \n",
    "2. Objetivos de aprendizaje que incluyan los indicadores del logro de estos objetivos.  \n",
    "   \n",
    "3. Un mapa conceptual que resuma la clase elaborado en Graphviz de python con nodos y edges de diferentes formas, colores y rellenos y renderizado en la siguiente ubicación: `\"C:/Users/marco/Downloads\"`. No olvides el parámetro `view = True` para el método `render()` de Graphviz. Para este mapa controla las superposiciones de los nodos con: graph [overlap=false]; // Elimina superposiciones (puede aumentar el espacio)\n",
    "graph [overlap=\"scalexy\"]; // Escala el gráfico para evitar overlaps\n",
    "graph [overlap=\"compress\"]; // Comprime el grafo sin overlaps  \n",
    "\n",
    "4. Dame elementos históricos y epistemológicos asociados a esta clase, pero contados como un cuento al estilo de un cuentero antioqueño en Colombia. Incluye imágenes de los protagonistas históricos de esta clase.   \n",
    "   \n",
    "5. Contenido de la clase. Que el contenido parta de una situación real para llegar a una constitución del modelo matemático que represente tal situación real. \n",
    "6. Actividades de aprendizaje  \n",
    "   \n",
    "7. Incluye una canción o un poema que ayude a interiorizar y fijar los conceptos asociados a esta clase. \n",
    "8. Tarea o actividades de ejercitación y fijación. Teniendo en cuanta que estas tareas pidan al estudiante tomar una proposición compuesta dada de manera simbóolica y luego la interprete usándola en contextos cotidianos, económicos, deportivos, familiares y matemáticos. Después determine el valor de verdad de esta proposición compuesta y finelice con una conclusión o interpretación verbal del resultado obtenido en la tabla de verdad de la proposición. \n",
    "9.  Evaluación incluyendo diez proyectos, un ejemplo de quiz (de tres preguntas) y un ejemplo de parcial (de cinco puntos)\n",
    "10.  Diseño de actividad de retroalimentación.  \n",
    "     \n",
    "11.  Dame un vocabulario y frases del idioma inglés asociadas a esta clase. \n",
    "12.  Incluye apéndice para la clase sobre desarrollo de habilidades para trabajar en equipo y de asertividad y empatía para relacionarnos. También elementos de la inteligencia emocional para presentar pruebas sin temor y sin realizar fraude en ellas.   \n",
    "13. Incluye 10 referentes en didáctica de la matemática que estén de acuerdo a la propuesta didáctica de esta clase. Adiciona a estos referentes a Raymond Duval (Representaciones y cambios de representación para la adquisición de conceptos matemáticos) y a Janete Wing (Desarrollo del pensamiento computacional). Dejame todos estos referentes ordenados de acuerdo a las normas APA. Dejame todos estos referentes ordenados de acuerdo a las normas APA. Incluye las citaciones a estos referentes a medida que vallas diseñando la clase. \n",
    "\n",
    "Pero  que este diseño sea para que el estudiante pueda aprender experimentando en cuadernos Jupyter con funciones de usuario y animaciones y visualizaciones en python. En particular utiliza para el diseño de clase a Numpy, Pandas, SymPy, Matplotlib.pyplot, Seaborn, Plotly, ipywidgets, matplotlib.animation y Jupyter Notebook.  Cada vez que utilices `matplotlib.animacion` no olvides incluir el uso de `IPython. display` para la rederización de estas animaciones a través de Jupyter Notebook. No olvides darme los diseños de clase con las ecuaciones matemáticas delimitadas con signo de dolar $ para que VS Code si me renderize estas expresiones del lenguaje latex. Cuando vallas a utilizar ipywidgets ten en cuenta la siguiente importación inicial para garantizar que la visualización interactiva si se renderize en VS Code:  \n",
    "import numpy as np  \n",
    "import matplotlib.pyplot as plt  \n",
    "import ipywidgets as widgets  \n",
    "from IPython.display import display, clear_output  \n",
    "from matplotlib.patches import Rectangle  \n",
    "\n",
    "# Configuración inicial para visualización estática  \n",
    "%matplotlib inline "
   ]
  },
  {
   "cell_type": "code",
   "execution_count": 1,
   "id": "81235e9f",
   "metadata": {},
   "outputs": [],
   "source": [
    "path_image = r'C:/Users/marco/Downloads'\n",
    "def save_fig(nombre_archivo_imagen):\n",
    "    import os \n",
    "    import matplotlib.pyplot as plt \n",
    "    imagen_path = os.path.join(path_image, nombre_archivo_imagen)\n",
    "    plt.savefig(imagen_path, bbox_inches='tight')"
   ]
  },
  {
   "cell_type": "markdown",
   "id": "8b3cf20c",
   "metadata": {},
   "source": [
    "# **Diseño de Clase: \"Estacionariedad vs Estacionalidad en Series Temporales\"**  \n"
   ]
  },
  {
   "cell_type": "markdown",
   "id": "21846008",
   "metadata": {},
   "source": [
    "**Enfoques Pedagógicos:** Aula Invertida, STEAM, ABPP (Aprendizaje Basado en Problemas y Proyectos), TRRS: Teoría de Regístros de representación Semiótica.   \n"
   ]
  },
  {
   "cell_type": "markdown",
   "id": "fc4f528b",
   "metadata": {},
   "source": [
    "**Herramientas Tecnológicas:** Python (Jupyter Notebook, `numpy`, `pandas`, `matplotlib`, `plotly`, `ipywidgets`).  \n",
    "\n",
    "\n"
   ]
  },
  {
   "cell_type": "markdown",
   "id": "cc0c7f83",
   "metadata": {},
   "source": [
    "\n",
    "## **1. Título de la Clase**  \n"
   ]
  },
  {
   "cell_type": "markdown",
   "id": "4d49d46a",
   "metadata": {},
   "source": [
    "**\"¿Por qué el tiempo no es lo mismo que las estaciones? Modelando patrones en datos temporales con Python\"**  \n",
    "\n",
    "\n"
   ]
  },
  {
   "cell_type": "markdown",
   "id": "2522db53",
   "metadata": {},
   "source": [
    "\n",
    "## **2. Objetivos de Aprendizaje** "
   ]
  },
  {
   "cell_type": "markdown",
   "id": "16769d42",
   "metadata": {},
   "source": [
    " \n",
    "**Conceptuales:**  \n",
    "   - Diferenciar **estacionariedad** (propiedades estadísticas constantes) vs **estacionalidad** (patrones cíclicos).  \n",
    "   - Identificar estos conceptos en datos reales (clima, ventas, economía).  \n"
   ]
  },
  {
   "cell_type": "markdown",
   "id": "b7aafd5c",
   "metadata": {},
   "source": [
    "\n",
    "**Procedimentales:**  \n",
    "   - Aplicar tests de estacionariedad (ADF, KPSS) y descomposición de estacionalidad con `statsmodels`.  \n",
    "   - Programar visualizaciones interactivas en Jupyter Notebook (`plotly`, `ipywidgets`).  \n"
   ]
  },
  {
   "cell_type": "markdown",
   "id": "1b78ebbe",
   "metadata": {},
   "source": [
    "\n",
    "**Actitudinales:**  \n",
    "   - Trabajo colaborativo (análisis de datasets en equipos).  \n",
    "   - Pensamiento crítico al evaluar modelos.  \n"
   ]
  },
  {
   "cell_type": "markdown",
   "id": "14de504d",
   "metadata": {},
   "source": [
    "\n",
    "🔹 **Indicadores de Logro:**  \n",
    "   - El estudiante genera un informe en Jupyter Notebook que:  \n",
    "     1. Aplica `adfuller()` para verificar estacionariedad.  \n",
    "     2. Grafica componentes de estacionalidad con `seasonal_decompose()`.  \n",
    "     3. Propone un modelo ARIMA básico usando `auto_arima()`.  \n",
    "\n",
    "---\n"
   ]
  },
  {
   "cell_type": "markdown",
   "id": "c27f01f6",
   "metadata": {},
   "source": [
    "\n",
    "## **3. Mapa Conceptual (Graphviz)** "
   ]
  },
  {
   "cell_type": "code",
   "execution_count": null,
   "id": "7de10571",
   "metadata": {},
   "outputs": [
    {
     "data": {
      "text/plain": [
       "'C:\\\\Users\\\\marco\\\\Downloads\\\\Estacionariedad_Estacionalidad.png'"
      ]
     },
     "execution_count": 2,
     "metadata": {},
     "output_type": "execute_result"
    }
   ],
   "source": [
    " \n",
    "from graphviz import Digraph\n",
    "\n",
    "# Configuración del grafo\n",
    "dot = Digraph(comment='Estacionariedad vs Estacionalidad', \n",
    "              graph_attr={'overlap': 'scalexy', 'splines': 'true'})\n",
    "dot.attr('node', shape='box', style='filled', color='lightblue2')\n",
    "\n",
    "# Nodos\n",
    "dot.node('A', 'Series Temporales', shape='ellipse', color='gold')\n",
    "dot.node('B', 'Estacionariedad\\n(Media/Varianza constante)', shape='parallelogram')\n",
    "dot.node('C', 'Tests:\\nADF, KPSS', shape='diamond')\n",
    "dot.node('D', 'Estacionalidad\\n(Patrones cíclicos)', shape='parallelogram')\n",
    "dot.node('E', 'Descomposición:\\nTendencia + Estacionalidad + Ruido', shape='component')\n",
    "dot.node('F', 'Aplicaciones:\\nClima, Economía, Ventas', shape='folder')\n",
    "\n",
    "# Edges\n",
    "dot.edges(['AB', 'AD', 'BC', 'CE', 'DE', 'EF'])\n",
    "dot.edge('A', 'F', label='Ejemplos', style='dashed')\n",
    "\n",
    "# Guardar y renderizar\n",
    "dot.render('C:/Users/marco/Downloads/Estacionariedad_Estacionalidad', view=True, format='png')\n",
    "\n"
   ]
  },
  {
   "cell_type": "markdown",
   "id": "c6ea049f",
   "metadata": {},
   "source": [
    "\n",
    "**¡Ah, pues claro, mijito!** Siéntese en esa silla de bejuco, que le voy a contar una historia que no es de espantos ni de amores trágicos, sino de cómo el ser humano ha ido descifrando los secretos del tiempo, las enfermedades y los números. **Y eso, ¡caramba!, tiene más emoción que un partido de tejo!**  \n",
    "\n",
    "---\n",
    "\n",
    "### **Érase una vez… los sabios que quisieron domar el tiempo**  \n",
    "\n",
    "Hace mucho, pero mucho tiempo, cuando los griegos todavía andaban en sandalias y los árabes jugaban con el álgebra como quien juega con canicas, **un señor llamado Tales de Mileto** (imagínese un viejito con túnica y barba de chivo) miraba las estrellas y decía: *\"Todo tiene un orden, hasta la lluvia y el calor\"*.  \n",
    "\n",
    "Pero no fue sino hasta que **Galileo Galilei** (este sí, un italiano terco como una mula) se puso a medir el movimiento de los planetas, que la humanidad entendió que **el mundo no anda al garete, sino que sigue patrones**.  \n",
    "\n",
    "[ *Imagen: Galileo con su telescopio, mirando el cielo con cara de \"¡Ajá, aquí hay algo raro!\"* ]  \n",
    "\n",
    "---\n",
    "\n",
    "### **Los matemáticos que se volvieron detectives del clima**  \n",
    "\n",
    "Después, en el siglo XIX, llegó **un inglés llamado George Boole** (sí, el de los \"verdaderos y falsos\" que ahora usan las computadoras) y dijo: *\"Señores, hasta el clima puede escribirse con matemáticas\"*. Pero el que realmente le metió el hombro al asunto fue **Andréi Kolmogórov**, un ruso que, en vez de espantar el frío con vodka, se puso a estudiar **cómo el azar y los patrones se mezclan en la naturaleza**.  \n",
    "\n",
    "[ *Imagen: Kolmogórov con una pizarra llena de ecuaciones, sonriendo como quien acaba de ganar una partida de ajedrez* ]  \n",
    "\n",
    "---\n",
    "\n",
    "### **Los médicos que cazaban fantasmas (epidemiológicos)**  \n",
    "\n",
    "Mientras tanto, **John Snow** (no, no el de *Game of Thrones*, sino un doctor inglés) andaba como loco buscando por qué la gente se moría de cólera en Londres. Y ¡zas!, descubrió que **los datos no mienten: el patrón señalaba a una bomba de agua contaminada**. Así nació la epidemiología moderna, que hoy nos ayuda a entender desde la gripe hasta el COVID.  \n",
    "\n",
    "[ *Imagen: John Snow con un mapa de Londres, señalando un pozo de agua como diciendo \"¡Aquí está el demonio!\"* ]  \n",
    "\n",
    "---\n",
    "\n",
    "### **Y entonces llegó la tecnología… y todo se revolucionó**  \n",
    "\n",
    "Con las computadoras, **la estadística y el análisis de datos se volvieron como un machete afilado para cortar la maleza de la incertidumbre**. Hoy, gracias al **STEAM** (que no es vapor, sino Ciencia, Tecnología, Ingeniería, Arte y Matemáticas), podemos predecir huracanes, brotes de dengue y hasta cuándo va a llover en la feria de Medellín.  \n",
    "\n",
    "[ *Imagen: Una científica moderna con una laptop llena de gráficos de clima y epidemias* ]  \n",
    "\n",
    "---\n",
    "\n",
    "### **¿Y qué tiene que ver Duval en este cuento?**  \n",
    "\n",
    "¡Ah, porque **Raymond Duval**, un francés más listo que un loro paisa, nos enseñó que **el conocimiento no es solo números, sino cómo los representamos**! Con su **Teoría de Registros de Representación Semiótica**, nos recordó que un gráfico, una ecuación o un mapa no son lo mismo, pero **se necesitan como el tinto y el pandequeso**.  \n",
    "\n",
    "[ *Imagen: Duval escribiendo fórmulas y dibujando gráficos, como un artista pintando un cuadro* ]  \n",
    "\n",
    "---\n",
    "\n",
    "### **Moraleja (o mejor, \"la enseñanza que nos deja el cuento\")**  \n",
    "\n",
    "Cuando usted, profe, diseña una clase con **Aula Invertida, STEAM, ABP y TRRS**, lo que está haciendo es **juntar el saber de estos gigantes** para que sus estudiantes no memoricen, sino que **descubran, como detectives, por qué el clima y las epidemias tienen ritmos ocultos**.  \n",
    "\n",
    "**¡Y eso, compadre, es más emocionante que una trova en la plaza de Jardín!**  \n",
    "\n",
    "---  \n",
    "\n",
    "¿Quiere que le cuente otra? O mejor, ¿le ayudo con el diseño de esa clase?  \n",
    "\n",
    "[ *Puedo generar imágenes estilo \"caricatura histórica\" de estos personajes si me lo pides en otro mensaje* ]"
   ]
  },
  {
   "cell_type": "markdown",
   "id": "01c23f1b",
   "metadata": {},
   "source": []
  },
  {
   "cell_type": "markdown",
   "id": "5a31be59",
   "metadata": {},
   "source": [
    "\n",
    "## **5. Contenido de la Clase**  \n",
    "### **Situación Real:**  \n",
    "*\"La tienda de Doña Rosa tiene ventas que suben en diciembre (estacionalidad), pero su promedio anual es estable (estacionariedad). ¿Cómo modelamos esto?\"*  \n"
   ]
  },
  {
   "cell_type": "markdown",
   "id": "6f154eb0",
   "metadata": {},
   "source": [
    "\n",
    "### **Modelo Matemático:**  \n",
    "1. **Estacionariedad:**  \n",
    "   - Definición: $E[X_t] = \\mu$, $\\text{Var}(X_t) = \\sigma^2$ (constantes).  \n",
    "   - Test ADF: Si $p\\text{-value} < 0.05$, la serie es estacionaria.  \n"
   ]
  },
  {
   "cell_type": "markdown",
   "id": "ac1849ab",
   "metadata": {},
   "source": [
    "\n",
    "2. **Estacionalidad:**  \n",
    "   - Descomposición: $X_t = \\text{Tendencia} + \\text{Estacionalidad} + \\text{Ruido}$.  \n"
   ]
  },
  {
   "cell_type": "markdown",
   "id": "d0dcc8d0",
   "metadata": {},
   "source": [
    "\n",
    "**Código en Python:**  \n"
   ]
  },
  {
   "cell_type": "code",
   "execution_count": 9,
   "id": "f5e33d59",
   "metadata": {},
   "outputs": [
    {
     "data": {
      "application/vnd.microsoft.datawrangler.viewer.v0+json": {
       "columns": [
        {
         "name": "index",
         "rawType": "int64",
         "type": "integer"
        },
        {
         "name": "YEAR",
         "rawType": "int64",
         "type": "integer"
        },
        {
         "name": "DOY",
         "rawType": "int64",
         "type": "integer"
        },
        {
         "name": "T2M",
         "rawType": "float64",
         "type": "float"
        },
        {
         "name": "PRECTOTCORR",
         "rawType": "float64",
         "type": "float"
        },
        {
         "name": "RH2M",
         "rawType": "float64",
         "type": "float"
        },
        {
         "name": "WD2M",
         "rawType": "float64",
         "type": "float"
        },
        {
         "name": "WS2M_MAX",
         "rawType": "float64",
         "type": "float"
        },
        {
         "name": "GWETTOP",
         "rawType": "float64",
         "type": "float"
        }
       ],
       "conversionMethod": "pd.DataFrame",
       "ref": "14d80921-c4fb-49fa-9ef0-ad7aa065fc00",
       "rows": [
        [
         "0",
         "2004",
         "1",
         "25.45",
         "0.0",
         "85.78",
         "324.8",
         "0.3",
         "0.79"
        ],
        [
         "1",
         "2004",
         "2",
         "26.78",
         "0.0",
         "85.16",
         "346.5",
         "0.24",
         "0.78"
        ],
        [
         "2",
         "2004",
         "3",
         "26.53",
         "0.02",
         "85.04",
         "344.5",
         "0.28",
         "0.78"
        ],
        [
         "3",
         "2004",
         "4",
         "25.3",
         "0.1",
         "87.25",
         "312.8",
         "0.38",
         "0.78"
        ],
        [
         "4",
         "2004",
         "5",
         "25.39",
         "2.34",
         "90.22",
         "251.9",
         "0.15",
         "0.79"
        ]
       ],
       "shape": {
        "columns": 8,
        "rows": 5
       }
      },
      "text/html": [
       "<div>\n",
       "<style scoped>\n",
       "    .dataframe tbody tr th:only-of-type {\n",
       "        vertical-align: middle;\n",
       "    }\n",
       "\n",
       "    .dataframe tbody tr th {\n",
       "        vertical-align: top;\n",
       "    }\n",
       "\n",
       "    .dataframe thead th {\n",
       "        text-align: right;\n",
       "    }\n",
       "</style>\n",
       "<table border=\"1\" class=\"dataframe\">\n",
       "  <thead>\n",
       "    <tr style=\"text-align: right;\">\n",
       "      <th></th>\n",
       "      <th>YEAR</th>\n",
       "      <th>DOY</th>\n",
       "      <th>T2M</th>\n",
       "      <th>PRECTOTCORR</th>\n",
       "      <th>RH2M</th>\n",
       "      <th>WD2M</th>\n",
       "      <th>WS2M_MAX</th>\n",
       "      <th>GWETTOP</th>\n",
       "    </tr>\n",
       "  </thead>\n",
       "  <tbody>\n",
       "    <tr>\n",
       "      <th>0</th>\n",
       "      <td>2004</td>\n",
       "      <td>1</td>\n",
       "      <td>25.45</td>\n",
       "      <td>0.00</td>\n",
       "      <td>85.78</td>\n",
       "      <td>324.8</td>\n",
       "      <td>0.30</td>\n",
       "      <td>0.79</td>\n",
       "    </tr>\n",
       "    <tr>\n",
       "      <th>1</th>\n",
       "      <td>2004</td>\n",
       "      <td>2</td>\n",
       "      <td>26.78</td>\n",
       "      <td>0.00</td>\n",
       "      <td>85.16</td>\n",
       "      <td>346.5</td>\n",
       "      <td>0.24</td>\n",
       "      <td>0.78</td>\n",
       "    </tr>\n",
       "    <tr>\n",
       "      <th>2</th>\n",
       "      <td>2004</td>\n",
       "      <td>3</td>\n",
       "      <td>26.53</td>\n",
       "      <td>0.02</td>\n",
       "      <td>85.04</td>\n",
       "      <td>344.5</td>\n",
       "      <td>0.28</td>\n",
       "      <td>0.78</td>\n",
       "    </tr>\n",
       "    <tr>\n",
       "      <th>3</th>\n",
       "      <td>2004</td>\n",
       "      <td>4</td>\n",
       "      <td>25.30</td>\n",
       "      <td>0.10</td>\n",
       "      <td>87.25</td>\n",
       "      <td>312.8</td>\n",
       "      <td>0.38</td>\n",
       "      <td>0.78</td>\n",
       "    </tr>\n",
       "    <tr>\n",
       "      <th>4</th>\n",
       "      <td>2004</td>\n",
       "      <td>5</td>\n",
       "      <td>25.39</td>\n",
       "      <td>2.34</td>\n",
       "      <td>90.22</td>\n",
       "      <td>251.9</td>\n",
       "      <td>0.15</td>\n",
       "      <td>0.79</td>\n",
       "    </tr>\n",
       "  </tbody>\n",
       "</table>\n",
       "</div>"
      ],
      "text/plain": [
       "   YEAR  DOY    T2M  PRECTOTCORR   RH2M   WD2M  WS2M_MAX  GWETTOP\n",
       "0  2004    1  25.45         0.00  85.78  324.8      0.30     0.79\n",
       "1  2004    2  26.78         0.00  85.16  346.5      0.24     0.78\n",
       "2  2004    3  26.53         0.02  85.04  344.5      0.28     0.78\n",
       "3  2004    4  25.30         0.10  87.25  312.8      0.38     0.78\n",
       "4  2004    5  25.39         2.34  90.22  251.9      0.15     0.79"
      ]
     },
     "execution_count": 9,
     "metadata": {},
     "output_type": "execute_result"
    }
   ],
   "source": [
    "# Obtenga los datos \n",
    "\n",
    "ubicacion =r\"C:\\Users\\marco\\OneDrive - Universidad de Antioquia\\Documentos\\2_recursos_ensenanza\\8_arima\\datos_nasa.csv\"\n",
    "import pandas as pd \n",
    "df = pd.read_csv(ubicacion, sep = ';')\n",
    "df.head()"
   ]
  },
  {
   "cell_type": "code",
   "execution_count": 13,
   "id": "e47b6977",
   "metadata": {},
   "outputs": [
    {
     "data": {
      "text/plain": [
       "Index(['YEAR', 'DOY', 'T2M', 'PRECTOTCORR', 'RH2M', 'WD2M', 'WS2M_MAX',\n",
       "       'GWETTOP'],\n",
       "      dtype='object')"
      ]
     },
     "execution_count": 13,
     "metadata": {},
     "output_type": "execute_result"
    }
   ],
   "source": [
    "df.keys() "
   ]
  },
  {
   "cell_type": "code",
   "execution_count": 15,
   "id": "b23ed9ad",
   "metadata": {},
   "outputs": [
    {
     "data": {
      "application/vnd.microsoft.datawrangler.viewer.v0+json": {
       "columns": [
        {
         "name": "index",
         "rawType": "int64",
         "type": "integer"
        },
        {
         "name": "YEAR",
         "rawType": "int64",
         "type": "integer"
        },
        {
         "name": "T2M",
         "rawType": "float64",
         "type": "float"
        }
       ],
       "conversionMethod": "pd.DataFrame",
       "ref": "6af3f288-1ba9-4f68-9cf8-1451edc1cff8",
       "rows": [
        [
         "0",
         "2004",
         "25.45"
        ],
        [
         "1",
         "2004",
         "26.78"
        ],
        [
         "2",
         "2004",
         "26.53"
        ],
        [
         "3",
         "2004",
         "25.3"
        ],
        [
         "4",
         "2004",
         "25.39"
        ],
        [
         "5",
         "2004",
         "25.6"
        ],
        [
         "6",
         "2004",
         "26.08"
        ],
        [
         "7",
         "2004",
         "26.36"
        ],
        [
         "8",
         "2004",
         "25.78"
        ],
        [
         "9",
         "2004",
         "26.86"
        ],
        [
         "10",
         "2004",
         "26.83"
        ],
        [
         "11",
         "2004",
         "26.88"
        ],
        [
         "12",
         "2004",
         "26.64"
        ],
        [
         "13",
         "2004",
         "26.11"
        ],
        [
         "14",
         "2004",
         "25.82"
        ],
        [
         "15",
         "2004",
         "25.85"
        ],
        [
         "16",
         "2004",
         "25.89"
        ],
        [
         "17",
         "2004",
         "26.17"
        ],
        [
         "18",
         "2004",
         "26.65"
        ],
        [
         "19",
         "2004",
         "26.3"
        ],
        [
         "20",
         "2004",
         "25.84"
        ],
        [
         "21",
         "2004",
         "26.03"
        ],
        [
         "22",
         "2004",
         "25.88"
        ],
        [
         "23",
         "2004",
         "26.4"
        ],
        [
         "24",
         "2004",
         "26.44"
        ],
        [
         "25",
         "2004",
         "26.54"
        ],
        [
         "26",
         "2004",
         "26.7"
        ],
        [
         "27",
         "2004",
         "26.87"
        ],
        [
         "28",
         "2004",
         "27.26"
        ],
        [
         "29",
         "2004",
         "27.46"
        ],
        [
         "30",
         "2004",
         "26.92"
        ],
        [
         "31",
         "2004",
         "26.8"
        ],
        [
         "32",
         "2004",
         "27.01"
        ],
        [
         "33",
         "2004",
         "28.01"
        ],
        [
         "34",
         "2004",
         "28.34"
        ],
        [
         "35",
         "2004",
         "28.07"
        ],
        [
         "36",
         "2004",
         "28.69"
        ],
        [
         "37",
         "2004",
         "28.2"
        ],
        [
         "38",
         "2004",
         "27.87"
        ],
        [
         "39",
         "2004",
         "28.57"
        ],
        [
         "40",
         "2004",
         "28.94"
        ],
        [
         "41",
         "2004",
         "29.09"
        ],
        [
         "42",
         "2004",
         "28.7"
        ],
        [
         "43",
         "2004",
         "28.4"
        ],
        [
         "44",
         "2004",
         "29.14"
        ],
        [
         "45",
         "2004",
         "29.19"
        ],
        [
         "46",
         "2004",
         "28.59"
        ],
        [
         "47",
         "2004",
         "29.06"
        ],
        [
         "48",
         "2004",
         "29.43"
        ],
        [
         "49",
         "2004",
         "28.11"
        ]
       ],
       "shape": {
        "columns": 2,
        "rows": 7770
       }
      },
      "text/html": [
       "<div>\n",
       "<style scoped>\n",
       "    .dataframe tbody tr th:only-of-type {\n",
       "        vertical-align: middle;\n",
       "    }\n",
       "\n",
       "    .dataframe tbody tr th {\n",
       "        vertical-align: top;\n",
       "    }\n",
       "\n",
       "    .dataframe thead th {\n",
       "        text-align: right;\n",
       "    }\n",
       "</style>\n",
       "<table border=\"1\" class=\"dataframe\">\n",
       "  <thead>\n",
       "    <tr style=\"text-align: right;\">\n",
       "      <th></th>\n",
       "      <th>YEAR</th>\n",
       "      <th>T2M</th>\n",
       "    </tr>\n",
       "  </thead>\n",
       "  <tbody>\n",
       "    <tr>\n",
       "      <th>0</th>\n",
       "      <td>2004</td>\n",
       "      <td>25.45</td>\n",
       "    </tr>\n",
       "    <tr>\n",
       "      <th>1</th>\n",
       "      <td>2004</td>\n",
       "      <td>26.78</td>\n",
       "    </tr>\n",
       "    <tr>\n",
       "      <th>2</th>\n",
       "      <td>2004</td>\n",
       "      <td>26.53</td>\n",
       "    </tr>\n",
       "    <tr>\n",
       "      <th>3</th>\n",
       "      <td>2004</td>\n",
       "      <td>25.30</td>\n",
       "    </tr>\n",
       "    <tr>\n",
       "      <th>4</th>\n",
       "      <td>2004</td>\n",
       "      <td>25.39</td>\n",
       "    </tr>\n",
       "    <tr>\n",
       "      <th>...</th>\n",
       "      <td>...</td>\n",
       "      <td>...</td>\n",
       "    </tr>\n",
       "    <tr>\n",
       "      <th>7765</th>\n",
       "      <td>2025</td>\n",
       "      <td>-999.00</td>\n",
       "    </tr>\n",
       "    <tr>\n",
       "      <th>7766</th>\n",
       "      <td>2025</td>\n",
       "      <td>-999.00</td>\n",
       "    </tr>\n",
       "    <tr>\n",
       "      <th>7767</th>\n",
       "      <td>2025</td>\n",
       "      <td>-999.00</td>\n",
       "    </tr>\n",
       "    <tr>\n",
       "      <th>7768</th>\n",
       "      <td>2025</td>\n",
       "      <td>-999.00</td>\n",
       "    </tr>\n",
       "    <tr>\n",
       "      <th>7769</th>\n",
       "      <td>2025</td>\n",
       "      <td>-999.00</td>\n",
       "    </tr>\n",
       "  </tbody>\n",
       "</table>\n",
       "<p>7770 rows × 2 columns</p>\n",
       "</div>"
      ],
      "text/plain": [
       "      YEAR     T2M\n",
       "0     2004   25.45\n",
       "1     2004   26.78\n",
       "2     2004   26.53\n",
       "3     2004   25.30\n",
       "4     2004   25.39\n",
       "...    ...     ...\n",
       "7765  2025 -999.00\n",
       "7766  2025 -999.00\n",
       "7767  2025 -999.00\n",
       "7768  2025 -999.00\n",
       "7769  2025 -999.00\n",
       "\n",
       "[7770 rows x 2 columns]"
      ]
     },
     "execution_count": 15,
     "metadata": {},
     "output_type": "execute_result"
    }
   ],
   "source": [
    "df[['YEAR', 'T2M']]"
   ]
  },
  {
   "cell_type": "code",
   "execution_count": 18,
   "id": "d19f5225",
   "metadata": {},
   "outputs": [
    {
     "name": "stdout",
     "output_type": "stream",
     "text": [
      "ADF Statistic: -0.10363938500518671\n",
      "p-value: 0.9490748279839463\n",
      "Critical Values:\n",
      "\t1%: -3.4311919953603396\n",
      "\t5%: -2.8619121000965206\n",
      "\t10%: -2.5669680643023804\n"
     ]
    },
    {
     "data": {
      "image/png": "[encoded data removed]",
      "text/plain": [
       "<Figure size 640x480 with 4 Axes>"
      ]
     },
     "metadata": {},
     "output_type": "display_data"
    }
   ],
   "source": [
    "\n",
    "import matplotlib.pyplot as plt \n",
    "from statsmodels.tsa.stattools import adfuller\n",
    "from statsmodels.tsa.seasonal import seasonal_decompose\n",
    "\n",
    "# Test ADF (usar SOLO la columna de datos 'T2M', no 'YEAR')\n",
    "result = adfuller(df['T2M'])  # Asegúrate de que 'T2M' sea la temperatura/media\n",
    "print(f\"ADF Statistic: {result[0]}\")\n",
    "print(f\"p-value: {result[1]}\")  # Si < 0.05, es estacionaria\n",
    "print(\"Critical Values:\")\n",
    "for key, value in result[4].items():\n",
    "    print(f\"\\t{key}: {value}\")\n",
    "\n",
    "# Descomposición estacional (opcional, si tienes datos temporales)\n",
    "decomposition = seasonal_decompose(df['T2M'], model='additive', period=12)  # Periodo anual (12 meses)\n",
    "decomposition.plot()\n",
    "plt.show()"
   ]
  },
  {
   "cell_type": "markdown",
   "id": "b684ca6a",
   "metadata": {},
   "source": [
    "\n",
    "---\n",
    "\n",
    "## **6. Actividades de Aprendizaje**  \n",
    "🔹 **Aula Invertida:** Ver video *\"Estacionariedad en la Vida Real\"* (antes de clase).  \n",
    "🔹 **ABP:** En equipos, analizar dataset de CO₂ atmosférico (Mauna Loa) y:  \n",
    "   - Aplicar ADF/KPSS.  \n",
    "   - Graficar estacionalidad con `plotly.express`.  \n",
    "🔹 **STEAM:** Crear animación con `matplotlib.animation` que muestre cómo la diferenciación elimina tendencias.  \n",
    "\n",
    "**Código Animación:**  \n"
   ]
  },
  {
   "cell_type": "markdown",
   "id": "9dee57ca",
   "metadata": {},
   "source": [
    "```python\n",
    "from matplotlib.animation import FuncAnimation\n",
    "from IPython.display import HTML\n",
    "\n",
    "fig, ax = plt.subplots()\n",
    "def update(frame):\n",
    "    ax.clear()\n",
    "    ax.plot(np.diff(ventas, n=frame), color='purple')\n",
    "    ax.set_title(f'Diferenciación (n={frame})')\n",
    "ani = FuncAnimation(fig, update, frames=5, interval=1000)\n",
    "HTML(ani.to_jshtml())\n",
    "```\n"
   ]
  },
  {
   "cell_type": "markdown",
   "id": "67a213a7",
   "metadata": {},
   "source": [
    "\n",
    "---\n",
    "\n",
    "## **7. Canción/Poema**  \n",
    "🎵 **\"La Cumbia del ARIMA\"** (Adaptación de *\"La Pollera Colorá\"*):  \n",
    "*\"¡Ay, diferencia la serie, que no es estacionaria!  \n",
    "Con un lag y un p-value, ¡la prueba es estadística!\"*  \n",
    "\n",
    "---\n",
    "\n",
    "## **8. Tarea**  \n",
    "**Proposición:** *\"Si una serie es estacionaria ($p<0.05$), entonces no necesita diferenciación ($\\nabla X_t$).\"*  \n",
    "- **Interpretación en contextos:**  \n",
    "  - **Deportes:** \"Si un equipo tiene rendimiento constante (estacionario), no necesita cambios drásticos (diferenciación).\"  \n",
    "- **Tabla de Verdad:**  \n",
    "  | $p<0.05$ | $\\nabla X_t$ necesario | Conclusión               |  \n",
    "  |----------|------------------------|--------------------------|  \n",
    "  | **V**    | **F**                  | \"No se diferencia\" (V)   |  \n",
    "\n",
    "1. Interpretar los gráficos de descomposición dados por `seasonal_decompose()`\n",
    "\n",
    "---\n"
   ]
  },
  {
   "cell_type": "markdown",
   "id": "47cda621",
   "metadata": {},
   "source": [
    "\n",
    "## **9. Evaluación**  \n",
    "📌 **Proyectos:**  \n",
    "1. Modelar Temperatura, Humedad relativa con SARIMA.  \n",
    "2. Animación interactiva de estacionalidad en `ipywidgets`.  \n"
   ]
  },
  {
   "cell_type": "markdown",
   "id": "29f83f7b",
   "metadata": {},
   "source": [
    "\n",
    "📌 **Quiz Ejemplo:**  \n",
    "1. ¿Qué test usa `adfuller()`? (R: Dickey-Fuller aumentado).  \n",
    "2. Grafique la estacionalidad de un dataset dado.  \n"
   ]
  },
  {
   "cell_type": "markdown",
   "id": "bc974382",
   "metadata": {},
   "source": [
    "\n",
    "📌 **Parcial:**  \n",
    "1. Diferencie la serie $X_t = [10, 12, 15, 13, 16]$.  \n",
    "2. Interprete el output de `seasonal_decompose()`.  \n",
    "\n",
    "---\n"
   ]
  },
  {
   "cell_type": "markdown",
   "id": "6b8700c0",
   "metadata": {},
   "source": [
    "\n",
    "## **10. Retroalimentación**  \n",
    "- **Rúbrica:** Exactitud en tests (50%), creatividad en visualizaciones (30%), trabajo en equipo (20%).  \n",
    "- **Peer Review:** Evaluación entre compañeros usando GitHub.  \n",
    "\n",
    "---\n"
   ]
  },
  {
   "cell_type": "markdown",
   "id": "4502d6e1",
   "metadata": {},
   "source": [
    "\n",
    "## **11. Vocabulario Inglés**  \n",
    "- **Stationarity:** Estacionariedad.  \n",
    "- **Seasonality:** Estacionalidad.  \n",
    "- **Time Series:** Serie temporal.  \n",
    "- **p-value:** Valor de significancia estadística.  \n",
    "\n",
    "---\n"
   ]
  },
  {
   "cell_type": "markdown",
   "id": "87681780",
   "metadata": {},
   "source": [
    "\n",
    "## **12. Apéndice: Habilidades Blandas**  \n",
    "- **Trabajo en Equipo:** Roles claros (ej. \"Codificador\", \"Analista\").  \n",
    "- **Inteligencia Emocional:** Técnicas para manejar estrés en evaluaciones.  \n",
    "\n",
    "---\n",
    "\n",
    "## **13. Referentes APA**  \n",
    "1. Duval, R. (2006). *Un enfoque cognitivo de las representaciones matemáticas*.  \n",
    "2. Wing, J. (2006). *Computational Thinking*. Communications of the ACM.  \n",
    "3. Box, G. E. P., & Jenkins, G. M. (1970). *Time Series Analysis: Forecasting and Control*.  \n",
    "\n",
    "--- \n",
    "\n",
    "**Nota:** Todos los códigos están diseñados para ejecutarse en **Jupyter Notebook** con salidas interactivas. ¡Manos a la obra! 🚀"
   ]
  },
  {
   "cell_type": "markdown",
   "id": "9c162837",
   "metadata": {},
   "source": [
    "[Video de apoyo a la presentación de esta clase]()"
   ]
  },
  {
   "cell_type": "markdown",
   "id": "8151e726",
   "metadata": {},
   "source": [
    "# **Diseño de Clase: \"Estacionariedad vs Estacionalidad en Series Temporales\"**  \n",
    "**Enfoques Pedagógicos:** Aula Invertida, STEAM, ABP (Aprendizaje Basado en Problemas y Proyectos)  \n",
    "**Herramientas Tecnológicas:** Python (Jupyter Notebook, `numpy`, `pandas`, `matplotlib`, `plotly`, `ipywidgets`).  \n",
    "\n",
    "---\n",
    "\n",
    "## **1. Título de la Clase**  \n",
    "📌 **\"¿Por qué el tiempo no es lo mismo que las estaciones? Modelando patrones en datos temporales con Python\"**  \n",
    "\n",
    "---\n",
    "\n",
    "## **2. Objetivos de Aprendizaje**  \n",
    "✅ **Conceptuales:**  \n",
    "   - Diferenciar **estacionariedad** (propiedades estadísticas constantes) vs **estacionalidad** (patrones cíclicos).  \n",
    "   - Identificar estos conceptos en datos reales (clima, ventas, economía).  \n",
    "\n",
    "✅ **Procedimentales:**  \n",
    "   - Aplicar tests de estacionariedad (ADF, KPSS) y descomposición de estacionalidad con `statsmodels`.  \n",
    "   - Programar visualizaciones interactivas en Jupyter Notebook (`plotly`, `ipywidgets`).  \n",
    "\n",
    "✅ **Actitudinales:**  \n",
    "   - Trabajo colaborativo (análisis de datasets en equipos).  \n",
    "   - Pensamiento crítico al evaluar modelos.  \n",
    "\n",
    "🔹 **Indicadores de Logro:**  \n",
    "   - El estudiante genera un informe en Jupyter Notebook que:  \n",
    "     1. Aplica `adfuller()` para verificar estacionariedad.  \n",
    "     2. Grafica componentes de estacionalidad con `seasonal_decompose()`.  \n",
    "     3. Propone un modelo ARIMA básico usando `auto_arima()`\n",
    "\n",
    "\n",
    "## **3. Mapa Conceptual (Graphviz)** "
   ]
  },
  {
   "cell_type": "code",
   "execution_count": null,
   "id": "837ea5ea",
   "metadata": {},
   "outputs": [],
   "source": [
    " \n",
    "\n",
    "from graphviz import Digraph\n",
    "\n",
    "# Configuración del grafo\n",
    "dot = Digraph(comment='Estacionariedad vs Estacionalidad', \n",
    "              graph_attr={'overlap': 'scalexy', 'splines': 'true'})\n",
    "dot.attr('node', shape='box', style='filled', color='lightblue2')\n",
    "\n",
    "# Nodos\n",
    "dot.node('A', 'Series Temporales', shape='ellipse', color='gold')\n",
    "dot.node('B', 'Estacionariedad\\n(Media/Varianza constante)', shape='parallelogram')\n",
    "dot.node('C', 'Tests:\\nADF, KPSS', shape='diamond')\n",
    "dot.node('D', 'Estacionalidad\\n(Patrones cíclicos)', shape='parallelogram')\n",
    "dot.node('E', 'Descomposición:\\nTendencia + Estacionalidad + Ruido', shape='component')\n",
    "dot.node('F', 'Aplicaciones:\\nClima, Economía, Ventas', shape='folder')\n",
    "\n",
    "# Edges\n",
    "dot.edges(['AB', 'AD', 'BC', 'CE', 'DE', 'EF'])\n",
    "dot.edge('A', 'F', label='Ejemplos', style='dashed')\n",
    "\n",
    "# Guardar y renderizar\n",
    "dot.render('C:/Users/marco/Descargas/Estacionariedad_Estacionalidad', view=True, format='png')\n"
   ]
  },
  {
   "cell_type": "markdown",
   "id": "ca0959ee",
   "metadata": {},
   "source": [
    "\n",
    "\n",
    "## **4. Historia y Epistemología (Cuento Antioqueño)**  \n",
    "*\"¡Ajá, pues mire usted, jovencito!* — decía el viejo **Don Norbert Wiener**, mientras ajustaba su pipa — *Todo esto empezó con unos locos que querían predecir el futuro...*  \n",
    "\n",
    "- **Yule y Walker** (1927): Como unos arrieros matematicos, descubrieron que las series podían ser *\"muy tercias\"* (no estacionarias).  \n",
    "- **Box & Jenkins** (1970): Dos \"mafiosos\" de la estadística que impusieron el **ARIMA** a punta de derivadas y diferencias.  \n",
    "- **Clive Granger** (Nobel 2003): El \"sabio\" que demostró que *\"dos borrachos caminando juntos no necesariamente se ayudan\"* (cointegración).  \n",
    "\n",
    "*\"Y así, mijito, hoy usted puede predecir desde el precio del aguacate hasta el clima en Medellín... ¡Eso sí, con Python!\"*  \n"
   ]
  },
  {
   "cell_type": "markdown",
   "id": "87260d54",
   "metadata": {},
   "source": [
    "\n",
    "**Imágenes:**  \n",
    "- ![Norbert Wiener](https://upload.wikimedia.org/wikipedia/commons/thumb/6/6f/Norbert_Wiener.jpg/220px-Norbert_Wiener.jpg)  \n",
    "- ![Box & Jenkins](https://www.statistics.com/wp-content/uploads/2019/04/Box-Jenkins.jpg)  \n",
    "\n"
   ]
  },
  {
   "cell_type": "markdown",
   "id": "23d14ed6",
   "metadata": {},
   "source": [
    "\n",
    "\n",
    "## **5. Contenido de la Clase**  \n",
    "### **Situación Real:**  \n",
    "*\"La tienda de Doña Rosa tiene ventas que suben en diciembre (estacionalidad), pero su promedio anual es estable (estacionariedad). ¿Cómo modelamos esto?\"*  \n",
    "\n",
    "### **Modelo Matemático:**  \n",
    "1. **Estacionariedad:**  \n",
    "   - Definición: $E[X_t] = \\mu$, $\\text{Var}(X_t) = \\sigma^2$ (constantes).  \n",
    "   - Test ADF: Si $p\\text{-value} < 0.05$, la serie es estacionaria.  \n",
    "\n",
    "2. **Estacionalidad:**  \n",
    "   - Descomposición: $X_t = \\text{Tendencia} + \\text{Estacionalidad} + \\text{Ruido}$.  \n",
    "\n",
    "**Código en Python:**  \n",
    "```python\n",
    "from statsmodels.tsa.stattools import adfuller\n",
    "from statsmodels.tsa.seasonal import seasonal_decompose\n",
    "\n",
    "# Test ADF\n",
    "result = adfuller(ventas)\n",
    "print(f\"p-value: {result[1]}\")  # Si < 0.05, es estacionaria\n",
    "\n",
    "# Descomposición estacional\n",
    "decomposition = seasonal_decompose(ventas, model='additive')\n",
    "decomposition.plot()\n",
    "```\n",
    "\n",
    "---\n",
    "\n",
    "## **6. Actividades de Aprendizaje**  \n",
    "🔹 **Aula Invertida:** Ver video *\"Estacionariedad en la Vida Real\"* (antes de clase).  \n",
    "🔹 **ABP:** En equipos, analizar dataset de CO₂ atmosférico (Mauna Loa) y:  \n",
    "   - Aplicar ADF/KPSS.  \n",
    "   - Graficar estacionalidad con `plotly.express`.  \n",
    "🔹 **STEAM:** Crear animación con `matplotlib.animation` que muestre cómo la diferenciación elimina tendencias.  \n",
    "\n",
    "**Código Animación:**  \n",
    "```python\n",
    "from matplotlib.animation import FuncAnimation\n",
    "from IPython.display import HTML\n",
    "\n",
    "fig, ax = plt.subplots()\n",
    "def update(frame):\n",
    "    ax.clear()\n",
    "    ax.plot(np.diff(ventas, n=frame), color='purple')\n",
    "    ax.set_title(f'Diferenciación (n={frame})')\n",
    "ani = FuncAnimation(fig, update, frames=5, interval=1000)\n",
    "HTML(ani.to_jshtml())\n",
    "```\n",
    "\n",
    "---\n",
    "\n",
    "## **7. Canción/Poema**  \n",
    "🎵 **\"La Cumbia del ARIMA\"** (Adaptación de *\"La Pollera Colorá\"*):  \n",
    "*\"¡Ay, diferencia la serie, que no es estacionaria!  \n",
    "Con un lag y un p-value, ¡la prueba es estadística!\"*  \n",
    "\n",
    "---\n",
    "\n",
    "## **8. Tarea**  \n",
    "**Proposición:** *\"Si una serie es estacionaria ($p<0.05$), entonces no necesita diferenciación ($\\nabla X_t$).\"*  \n",
    "- **Interpretación en contextos:**  \n",
    "  - **Deportes:** \"Si un equipo tiene rendimiento constante (estacionario), no necesita cambios drásticos (diferenciación).\"  \n",
    "- **Tabla de Verdad:**  \n",
    "  | $p<0.05$ | $\\nabla X_t$ necesario | Conclusión               |  \n",
    "  |----------|------------------------|--------------------------|  \n",
    "  | **V**    | **F**                  | \"No se diferencia\" (V)   |  \n",
    "\n",
    "---\n",
    "\n",
    "## **9. Evaluación**  \n",
    "📌 **Proyectos:**  \n",
    "1. Modelar ventas de un supermercado con SARIMA.  \n",
    "2. Animación interactiva de estacionalidad en `ipywidgets`.  \n",
    "\n",
    "📌 **Quiz Ejemplo:**  \n",
    "1. ¿Qué test usa `adfuller()`? (R: Dickey-Fuller aumentado).  \n",
    "2. Grafique la estacionalidad de un dataset dado.  \n",
    "\n",
    "📌 **Parcial:**  \n",
    "1. Diferencie la serie $X_t = [10, 12, 15, 13, 16]$.  \n",
    "2. Interprete el output de `seasonal_decompose()`.  \n",
    "\n",
    "---\n",
    "\n",
    "## **10. Retroalimentación**  \n",
    "- **Rúbrica:** Exactitud en tests (50%), creatividad en visualizaciones (30%), trabajo en equipo (20%).  \n",
    "- **Peer Review:** Evaluación entre compañeros usando GitHub.  \n",
    "\n",
    "---\n",
    "\n",
    "## **11. Vocabulario Inglés**  \n",
    "- **Stationarity:** Estacionariedad.  \n",
    "- **Seasonality:** Estacionalidad.  \n",
    "- **Time Series:** Serie temporal.  \n",
    "- **p-value:** Valor de significancia estadística.  \n",
    "\n",
    "---\n",
    "\n",
    "## **12. Apéndice: Habilidades Blandas**  \n",
    "- **Trabajo en Equipo:** Roles claros (ej. \"Codificador\", \"Analista\").  \n",
    "- **Inteligencia Emocional:** Técnicas para manejar estrés en evaluaciones.  \n",
    "\n",
    "---\n",
    "\n",
    "## **13. Referentes APA**  \n",
    "1. Duval, R. (2006). *Un enfoque cognitivo de las representaciones matemáticas*.  \n",
    "2. Wing, J. (2006). *Computational Thinking*. Communications of the ACM.  \n",
    "3. Box, G. E. P., & Jenkins, G. M. (1970). *Time Series Analysis: Forecasting and Control*.  \n",
    "\n",
    "--- \n",
    "\n",
    "**Nota:** Todos los códigos están diseñados para ejecutarse en **Jupyter Notebook** con salidas interactivas. ¡Manos a la obra! 🚀"
   ]
  },
  {
   "cell_type": "markdown",
   "id": "239427f7",
   "metadata": {},
   "source": [
    "# ARTÍCULO 1. Definir el calendario académico para los diferentes programas de pregrado de los campus\n",
    "regionalizados, correspondiente al primer periodo académico del año 2025, así:\n",
    "* Oferta 28 de enero de 2025\n",
    "* Matrícula 30 de enero de 2025\n",
    "* Ajustes 03 al 10 de febrero de 2025\n",
    "* Inicio de clases 10 de febrero de 2025\n",
    "* Límite evaluación del 40% 06 de abril de 2025\n",
    "* Terminación de clases 08 de junio de 2025\n",
    "* Exámenes finales 09 al 15 de junio de 2025\n",
    "* Habilitación y validación 16 al 22 de junio de 2025\n",
    "* Terminación oficial 23 de junio de 2025"
   ]
  },
  {
   "cell_type": "code",
   "execution_count": null,
   "id": "ec048afb",
   "metadata": {},
   "outputs": [],
   "source": []
  },
  {
   "cell_type": "code",
   "execution_count": null,
   "id": "c804f8d3",
   "metadata": {},
   "outputs": [],
   "source": []
  },
  {
   "cell_type": "code",
   "execution_count": null,
   "id": "cc539357",
   "metadata": {},
   "outputs": [],
   "source": []
  },
  {
   "cell_type": "markdown",
   "id": "740f3401",
   "metadata": {
    "slideshow": {
     "slide_type": "slide"
    }
   },
   "source": [
    "# Componente de manejo de calculadora Casio asociado al objetivo de aprendizaje de esta clase  \n",
    "\n",
    "## Pasos para lograr el objetivo de aprendizaje con la experimentación en la calculadora Casio 991LA cw  "
   ]
  },
  {
   "cell_type": "markdown",
   "id": "8ba64aed",
   "metadata": {},
   "source": [
    "# Cursos que orienta el profesor Marco Julio Cañas Campillo en 2025  \n",
    "\n",
    "1. Práctica Pedagógica V para Licenciatura en Educación Infantil\n",
    "2. Fundamentos de Lógica para Licenciatura en Matemáticas \n",
    "3. Análisis Numérico para Licenciatura en Matemáticas. \n",
    "4. Cálculo Vectorial para Ingeniería Agropecuaria"
   ]
  },
  {
   "cell_type": "markdown",
   "id": "8d41fe58",
   "metadata": {
    "slideshow": {
     "slide_type": "slide"
    }
   },
   "source": [
    "# Horario de clases del profesor Marco\n",
    "\n",
    "* Lunes 8-12: Cálculo Vectorial\n",
    "* Martes 8-12 M: Fundamentos de Aritmética. \n",
    "* Miércoles 8 a 12 M: Fundamentos de la Lógica\n",
    "* Jueves 2 a 6 PM: Desarrollo del pensamiento matemático en la infancia. \n",
    "* Viernes 8 - 12 M: Desarrollo del pensamiento matemático en la infancia. \n",
    "* Sábados 8-12 Asesorías y espacio para retroalimentación y apoyo al trabajo independiente. "
   ]
  },
  {
   "cell_type": "markdown",
   "id": "ae114e14",
   "metadata": {
    "slideshow": {
     "slide_type": "slide"
    }
   },
   "source": [
    "# Horarios de monitoría y asesoría  \n",
    "\n",
    "Coordinador de los cursos de la Facultad de Educación para regiones:    \n",
    "\n",
    "Andrés Vélez: regioneducacion.fedu@udea.edu.co  \n",
    "Coordinador Regiones  \n",
    "Facultad de Educación  \n",
    "Universidad de Antioquia  "
   ]
  },
  {
   "cell_type": "markdown",
   "id": "b1db4b6c",
   "metadata": {
    "slideshow": {
     "slide_type": "slide"
    }
   },
   "source": [
    "## Monitor Manuel San Juan Serrano\n",
    "\n",
    "Contactar escribiendo al correo: manuel.serrano1@udea.edu.co"
   ]
  },
  {
   "cell_type": "markdown",
   "id": "39559692",
   "metadata": {
    "slideshow": {
     "slide_type": "slide"
    }
   },
   "source": [
    "Martes y jueves de 8 - 12  \n",
    "Miércoles 10 - 12 y de 2 a 4 PM  \n",
    "Sábado: 8 - 12"
   ]
  },
  {
   "cell_type": "markdown",
   "id": "10bce0d0",
   "metadata": {
    "slideshow": {
     "slide_type": "slide"
    }
   },
   "source": [
    "## Referentes "
   ]
  },
  {
   "cell_type": "markdown",
   "id": "1db3c468",
   "metadata": {
    "slideshow": {
     "slide_type": "slide"
    }
   },
   "source": [
    "* [Cómo enseñar matemáticas con calculadora Casio LA991 cw](chrome-extension://efaidnbmnnnibpcajpcglclefindmkaj/https://bibliotecadigital.udea.edu.co/bitstream/10495/32857/4/ParraZapata_2024_DesarrolloPensamientoMatematico2aed_versionweb.pdf)  \n",
    "\n",
    "* [CALCULO I DE UNA VARIABLE Ron Larson-Bruce Edwards. Mc Graw Hill. 9º Edición](https://www.academia.edu/42139251/CALCULO_I_DE_UNA_VARIABLE_Ron_Larson_Bruce_Edwards_Mc_Graw_Hill_9o_Edici%C3%B3n)   \n",
    "  \n",
    "\n",
    "* [Grajales Vanegas, L. M., Restrepo Estrada, C. E., Restrepo Ochoa, S. I., & Ruíz De Villalba, F. (2015). Matemáticas I para las ciencias económicas.](https://bibliotecadigital.udea.edu.co/handle/10495/3010)\n",
    "  \n",
    "* R. Duval y Semiosis y pensamiento humano, 2.ª ed. Cali, Colombia: Programa Editorial Universidad del Valle, 2017. [En línea]. Disponible en: https://programaeditorial.univalle.edu.co/gpd-semiosis-y-pensamiento-humano-9789587655278-63324cdb0f6b3.html\n",
    "\n",
    "* [Aylwin, C. U. (2011). Lógica, conjuntos y números. Universidad de los Andes, Consejo de Publicaciones, Colección: Ciencias Básicas, Serie: Matemáticas.](chrome-extension://efaidnbmnnnibpcajpcglclefindmkaj/https://www.u-cursos.cl/ciencias/2011/1/MC110/1/material_docente/bajar?id_material=574722)\n",
    "  \n",
    "* [Recomendación de la UNESCO sobre ciencia abierta](https://unesdoc.unesco.org/ark:/48223/pf0000379949_spa)\n",
    "\n",
    "* [chatGPT](https://openai.com/blog/chatgpt)  \n",
    "* \n",
    "\n",
    "* [Géron, A. (2017). Hands-on machine learning with scikit-learn and tensorflow: Concepts. Tools, and Techniques to build intelligent systems.](chrome-extension://efaidnbmnnnibpcajpcglclefindmkaj/http://14.139.161.31/OddSem-0822-1122/Hands-On_Machine_Learning_with_Scikit-Learn-Keras-and-TensorFlow-2nd-Edition-Aurelien-Geron.pdf)   \n"
   ]
  },
  {
   "cell_type": "markdown",
   "id": "df925560",
   "metadata": {},
   "source": [
    "\n",
    "* [McKinney, W. (2012). Python for data analysis: Data wrangling with Pandas, NumPy, and IPython. \" O'Reilly Media, Inc.\".](https://wesmckinney.com/book/) "
   ]
  },
  {
   "cell_type": "markdown",
   "id": "8e65d6f9",
   "metadata": {},
   "source": [
    "# Como estudiante, encuentro que...   \n",
    "\n",
    "F: Mis Fortalezas son:     \n",
    "O: Mis Oportunidades son:    \n",
    "D: Mis Debilidades son:    \n",
    "A: Lo que Amenazas mi aprendizaje es:  "
   ]
  },
  {
   "cell_type": "markdown",
   "id": "6b9e56a8",
   "metadata": {
    "slideshow": {
     "slide_type": "slide"
    }
   },
   "source": [
    "### [Evaluamos al profesor Marco Cañas Aquí](https://forms.office.com/Pages/ResponsePage.aspx?id=IefhmYRxjkmK_7KtTlPBwkanXIs1i1FEujpsZgO6dXpUREJPV1kxUk1JV1ozTFJIQVNIQjY5WEY3US4u)"
   ]
  },
  {
   "cell_type": "markdown",
   "id": "10f43536",
   "metadata": {
    "slideshow": {
     "slide_type": "slide"
    }
   },
   "source": [
    "### Continue su aprendizaje en la siguiente clase a través del siguiente [vínculo]()"
   ]
  },
  {
   "cell_type": "markdown",
   "id": "53cc9115",
   "metadata": {
    "slideshow": {
     "slide_type": "slide"
    }
   },
   "source": [
    "## Agradecimientos  \n",
    "\n",
    "Doy gracias a Dios por la vida de mi Hijo Joseph Cañas Osorio y la madurez que ha alcanzado. Este hijo me enorgullece y me hace falta abrazarlo cada día. \n",
    "\n",
    "Y a mi esposa Yasmira Emperatriz Barboza Mogollón por su apoyo, orientación y acompañamiento. "
   ]
  },
  {
   "cell_type": "markdown",
   "id": "b6ba1c23",
   "metadata": {},
   "source": [
    "# Apéndice sobre calendarios y coordinaciones \n",
    "\n",
    "A continuación le envío el horario de la asignatura Cálculo Vectorial  \n",
    "\n",
    "Días:  \n",
    "Lunes - Hora: 7:00 a 12:00M  \n",
    "Fechas:  \n",
    "Febrero: 10-17-24                                          \n",
    " Marzo: 3-10-17-31                                                  \n",
    "Abril:7-21-28                                                   \n",
    "Mayo:5-12-19  \n",
    "\n",
    "Agradezco su apoyo, y si presenta alguna dificultad puede contactarme.  \n",
    "\n",
    "Cordialmente,  \n",
    "Juan Felipe Rivera Hernández  \n",
    "Contacto: 3106314300  "
   ]
  },
  {
   "cell_type": "markdown",
   "id": "0e66cd7c",
   "metadata": {},
   "source": [
    "# Clase de análisis numérico los Martes de 8 a 12 del medio día. "
   ]
  },
  {
   "cell_type": "markdown",
   "id": "c5ff61b1",
   "metadata": {},
   "source": []
  }
 ],
 "metadata": {
  "celltoolbar": "Slideshow",
  "kernelspec": {
   "display_name": ".venv",
   "language": "python",
   "name": "python3"
  },
  "language_info": {
   "codemirror_mode": {
    "name": "ipython",
    "version": 3
   },
   "file_extension": ".py",
   "mimetype": "text/x-python",
   "name": "python",
   "nbconvert_exporter": "python",
   "pygments_lexer": "ipython3",
   "version": "3.12.6"
  },
  "rise": {
   "enable_chalkboard": true,
   "theme": "sky",
   "transition": "zoom"
  }
 },
 "nbformat": 4,
 "nbformat_minor": 5
}

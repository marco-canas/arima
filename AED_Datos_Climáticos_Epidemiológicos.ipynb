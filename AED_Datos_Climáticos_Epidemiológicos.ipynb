{
 "cells": [
  {
   "cell_type": "markdown",
   "id": "a8b8b400",
   "metadata": {},
   "source": [
    "# Exploración de datos climáticos y epidemiológicos"
   ]
  },
  {
   "cell_type": "code",
   "execution_count": 2,
   "id": "5bce8cbd",
   "metadata": {},
   "outputs": [
    {
     "name": "stdout",
     "output_type": "stream",
     "text": [
      "Unexpected exception formatting exception. Falling back to standard exception\n"
     ]
    },
    {
     "name": "stderr",
     "output_type": "stream",
     "text": [
      "Traceback (most recent call last):\n",
      "  File \"c:\\Users\\usuario1\\OneDrive - Universidad de Antioquia\\Documentos\\GitHub\\arima\\.venv\\lib\\site-packages\\IPython\\core\\interactiveshell.py\", line 3508, in run_code\n",
      "  File \"C:\\Users\\usuario1\\AppData\\Local\\Temp\\ipykernel_13392\\4080736814.py\", line 1, in <module>\n",
      "    import pandas as pd\n",
      "ModuleNotFoundError: No module named 'pandas'\n",
      "\n",
      "During handling of the above exception, another exception occurred:\n",
      "\n",
      "Traceback (most recent call last):\n",
      "  File \"c:\\Users\\usuario1\\OneDrive - Universidad de Antioquia\\Documentos\\GitHub\\arima\\.venv\\lib\\site-packages\\pygments\\styles\\__init__.py\", line 45, in get_style_by_name\n",
      "ModuleNotFoundError: No module named 'pygments.styles.default'\n",
      "\n",
      "During handling of the above exception, another exception occurred:\n",
      "\n",
      "Traceback (most recent call last):\n",
      "  File \"c:\\Users\\usuario1\\OneDrive - Universidad de Antioquia\\Documentos\\GitHub\\arima\\.venv\\lib\\site-packages\\IPython\\core\\interactiveshell.py\", line 2105, in showtraceback\n",
      "  File \"c:\\Users\\usuario1\\OneDrive - Universidad de Antioquia\\Documentos\\GitHub\\arima\\.venv\\lib\\site-packages\\IPython\\core\\ultratb.py\", line 1396, in structured_traceback\n",
      "  File \"c:\\Users\\usuario1\\OneDrive - Universidad de Antioquia\\Documentos\\GitHub\\arima\\.venv\\lib\\site-packages\\IPython\\core\\ultratb.py\", line 1287, in structured_traceback\n",
      "  File \"c:\\Users\\usuario1\\OneDrive - Universidad de Antioquia\\Documentos\\GitHub\\arima\\.venv\\lib\\site-packages\\IPython\\core\\ultratb.py\", line 1140, in structured_traceback\n",
      "  File \"c:\\Users\\usuario1\\OneDrive - Universidad de Antioquia\\Documentos\\GitHub\\arima\\.venv\\lib\\site-packages\\IPython\\core\\ultratb.py\", line 1030, in format_exception_as_a_whole\n",
      "  File \"c:\\Users\\usuario1\\OneDrive - Universidad de Antioquia\\Documentos\\GitHub\\arima\\.venv\\lib\\site-packages\\IPython\\core\\ultratb.py\", line 1081, in get_records\n",
      "  File \"c:\\Users\\usuario1\\OneDrive - Universidad de Antioquia\\Documentos\\GitHub\\arima\\.venv\\lib\\site-packages\\pygments\\styles\\__init__.py\", line 47, in get_style_by_name\n",
      "pygments.util.ClassNotFound: Could not find style module 'pygments.styles.default', though it should be builtin.\n"
     ]
    }
   ],
   "source": [
    "import pandas as pd"
   ]
  }
 ],
 "metadata": {
  "kernelspec": {
   "display_name": ".venv",
   "language": "python",
   "name": "python3"
  },
  "language_info": {
   "codemirror_mode": {
    "name": "ipython",
    "version": 3
   },
   "file_extension": ".py",
   "mimetype": "text/x-python",
   "name": "python",
   "nbconvert_exporter": "python",
   "pygments_lexer": "ipython3",
   "version": "3.8.10"
  }
 },
 "nbformat": 4,
 "nbformat_minor": 5
}

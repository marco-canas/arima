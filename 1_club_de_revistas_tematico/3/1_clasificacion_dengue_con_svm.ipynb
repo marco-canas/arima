{
 "cells": [
  {
   "cell_type": "markdown",
   "id": "dc06dec7",
   "metadata": {
    "slideshow": {
     "slide_type": "slide"
    }
   },
   "source": [
    "<table align=\"left\">\n",
    "  <td>\n",
    "    <a href=\"https://colab.research.google.com/github/marco-canas/investigacion_d/blob/main/1_club_de_revistas_tematico/3/1_clasificacion_dengue_con_svm.ipynb\" target=\"_parent\"><img src=\"https://colab.research.google.com/assets/colab-badge.svg\" alt=\"Open In Colab\"/></a>\n",
    "  </td>\n",
    "  <td>\n",
    "    <a target=\"_blank\" href=\"https://kaggle.com/kernels/welcome?src=https://github.com/marco-canas/investigacion_d/blob/main/1_club_de_revistas_tematico/3/1_clasificacion_dengue_con_svm.ipynb\"><img src=\"https://kaggle.com/static/images/open-in-kaggle.svg\" /></a>\n",
    "  </td>\n",
    "</table>"
   ]
  },
  {
   "cell_type": "markdown",
   "id": "e0c5b198",
   "metadata": {
    "slideshow": {
     "slide_type": "slide"
    }
   },
   "source": [
    "### [Video de apoyo a la lectura interactiva y experimental de este cuaderno]()"
   ]
  },
  {
   "cell_type": "markdown",
   "id": "d11ab06d",
   "metadata": {
    "slideshow": {
     "slide_type": "slide"
    }
   },
   "source": [
    "Un reconocimiento a mis estudiantes que han construido conmigo este saber pedagógico:\n",
    "\n",
    "<img src = 'https://github.com/marco-canas/didactica_ciencia_datos/blob/main/4_images/2_images_of_students/9_entrevistas_candidatos_joven_investigador_2024-08-01.jpeg?raw=true' width = 500> \n",
    "\n"
   ]
  },
  {
   "cell_type": "markdown",
   "id": "8d97dc80",
   "metadata": {
    "slideshow": {
     "slide_type": "slide"
    }
   },
   "source": [
    "## Fomento de la lectura literaria asociada a Ingeniería agropecuaria y licenciatura en Matemáticas\n",
    "\n"
   ]
  },
  {
   "cell_type": "markdown",
   "id": "96775931",
   "metadata": {
    "slideshow": {
     "slide_type": "slide"
    }
   },
   "source": [
    "## Título de la clase: Artículo 3 del club de revistas: Clasificación del dengue con svm  \n",
    "\n",
    "[Obtenga el pdf de este artículo aquí](https://github.com/marco-canas/investigacion_d/blob/main/1_club_de_revistas_tematico/3/3_Dengue%20classification%20method%20using%20support%20vector%20machines.pdf)"
   ]
  },
  {
   "cell_type": "markdown",
   "id": "1d38dd4e",
   "metadata": {
    "slideshow": {
     "slide_type": "slide"
    }
   },
   "source": [
    "### Objetivo de aprendizaje (Enunciar, de manera corta sencilla y clara para todos los asistentes)\n"
   ]
  },
  {
   "cell_type": "markdown",
   "id": "540f0ec1",
   "metadata": {
    "slideshow": {
     "slide_type": "slide"
    }
   },
   "source": [
    "## Cuestionario para realizar labores de memorización, observación y síntesis de la información (Además de diagnóstico)  \n"
   ]
  },
  {
   "cell_type": "markdown",
   "id": "81231551",
   "metadata": {},
   "source": [
    "\n",
    "### Cuestionario de Diagnóstico y Síntesis\n"
   ]
  },
  {
   "cell_type": "markdown",
   "id": "98e82780",
   "metadata": {},
   "source": [
    "\n",
    "#### Sección 1: Comprensión y Memorización\n",
    "\n",
    "1. **Definición de Conceptos**\n",
    "   - ¿Qué es el preprocesamiento de datos y por qué es importante en la clasificación de dengue?\n",
    "   - Define los siguientes algoritmos de clasificación: SVM, Random Forest, KNN, y Decision Tree.\n",
    "\n",
    "2. **Características de los Datos**\n",
    "   - ¿Cuáles son las características principales de los datos utilizados en el estudio (síntomas y valores de laboratorio)?\n",
    "   - ¿Por qué es necesario convertir los datos categóricos a numéricos en este contexto?\n",
    "\n",
    "3. **Metodologías y Técnicas**\n",
    "   - Explica el proceso de validación cruzada y su importancia en la evaluación de modelos.\n",
    "   - ¿Qué métricas de rendimiento se utilizaron para evaluar los modelos y qué mide cada una de ellas?\n",
    "\n",
    "#### Sección 2: Observación y Aplicación\n",
    "\n",
    "4. **Preprocesamiento de Datos**\n",
    "   - Describe el proceso de discretización de los datos utilizado en el estudio.\n",
    "   - ¿Cómo se manejaron los valores faltantes en los datos?\n",
    "\n",
    "5. **Implementación de Modelos**\n",
    "   - Explica cómo se implementó el modelo SVM para la clasificación de dengue.\n",
    "   - Describe brevemente cómo se implementaron los modelos Random Forest, KNN, y Decision Tree.\n",
    "\n",
    "6. **Evaluación de Modelos**\n",
    "   - ¿Qué información proporciona una matriz de confusión y cómo se interpreta?\n",
    "   - ¿Cómo se compararon los resultados de los diferentes modelos en el estudio?\n",
    "\n",
    "#### Sección 3: Síntesis y Análisis\n",
    "\n",
    "7. **Integración de Conocimientos**\n",
    "   - Resume los pasos principales desde la recopilación de datos hasta la evaluación de los modelos.\n",
    "   - Identifica las principales fortalezas y debilidades del enfoque utilizado en el artículo.\n",
    "\n",
    "8. **Aplicación Práctica**\n",
    "   - Si tuvieras que aplicar estos métodos a otro conjunto de datos de una enfermedad diferente, ¿qué pasos seguirías y por qué?\n",
    "   - ¿Qué modificaciones considerarías si los datos tuviesen una estructura diferente (por ejemplo, series de tiempo)?\n",
    "\n",
    "#### Sección 4: Reflexión y Diagnóstico\n",
    "\n",
    "9. **Reflexión Personal**\n",
    "   - ¿Qué concepto te resultó más desafiante y por qué?\n",
    "   - ¿Cómo crees que este estudio puede contribuir a la mejora del diagnóstico y tratamiento del dengue?\n",
    "\n",
    "10. **Autoevaluación**\n",
    "    - En una escala del 1 al 10, ¿cómo evaluarías tu comprensión de los algoritmos de clasificación discutidos en el artículo? Justifica tu respuesta.\n",
    "    - ¿Qué recursos adicionales necesitarías para mejorar tu comprensión de estos conceptos?\n",
    "\n",
    "### Instrucciones para los Estudiantes\n",
    "\n",
    "- Lee detenidamente cada pregunta y proporciona respuestas completas y detalladas.\n",
    "- Para las preguntas de implementación de modelos, puedes escribir ejemplos de código en Python si es necesario.\n",
    "- Reflexiona sobre cada respuesta y cómo los conceptos se interrelacionan para formar una comprensión integral del artículo.\n",
    "\n",
    "Este cuestionario no solo ayudará a los estudiantes a memorizar y observar los conceptos del artículo, sino también a sintetizar la información y diagnosticar su comprensión, preparándolos para aplicar estos conocimientos en contextos prácticos."
   ]
  },
  {
   "cell_type": "markdown",
   "id": "8e457ea2",
   "metadata": {},
   "source": [
    "# Definiciones y Resultados científicos a comprender y memorizar \n",
    "\n",
    "### Definiciones\n"
   ]
  },
  {
   "cell_type": "markdown",
   "id": "79c53874",
   "metadata": {},
   "source": [
    "\n",
    "1. **Preprocesamiento de Datos**:\n",
    "   - **Definición**: Conjunto de técnicas utilizadas para preparar los datos brutos para el análisis. Incluye limpieza de datos, transformación de datos, y manejo de datos faltantes.\n",
    "   - **Importancia**: Es crucial para asegurar que los datos estén en un formato adecuado para ser utilizados por algoritmos de aprendizaje automático, mejorando la precisión y la eficiencia del modelo.\n"
   ]
  },
  {
   "cell_type": "markdown",
   "id": "c2a1526b",
   "metadata": {},
   "source": [
    "\n",
    "2. **Support Vector Machine (SVM)**:\n",
    "   - **Definición**: Algoritmo de aprendizaje supervisado que puede ser utilizado tanto para clasificación como para regresión. En clasificación, busca encontrar el hiperplano que mejor separa las diferentes clases en el espacio de características.\n",
    "   - **Importancia**: SVM es especialmente útil para problemas de clasificación binaria y puede manejar datos no lineales mediante el uso de kernels.\n"
   ]
  },
  {
   "cell_type": "markdown",
   "id": "75fbf19d",
   "metadata": {},
   "source": [
    "\n",
    "3. **Random Forest**:\n",
    "   - **Definición**: Algoritmo de aprendizaje supervisado que utiliza un conjunto de árboles de decisión entrenados en diferentes subconjuntos del conjunto de datos. La predicción final se realiza promediando (regresión) o votando (clasificación) las predicciones de cada árbol.\n",
    "   - **Importancia**: Es robusto a sobreajuste y puede manejar grandes conjuntos de datos con muchas características.\n",
    "\n",
    "4. **K-Nearest Neighbors (KNN)**:\n",
    "   - **Definición**: Algoritmo de clasificación que asigna una clase a una muestra basada en la clase mayoritaria entre sus k vecinos más cercanos en el espacio de características.\n",
    "   - **Importancia**: Es simple y efectivo para problemas de clasificación cuando el conjunto de datos es pequeño y bien etiquetado.\n",
    "\n",
    "5. **Decision Tree**:\n",
    "   - **Definición**: Algoritmo de aprendizaje supervisado que divide el espacio de características en regiones homogéneas mediante una serie de decisiones basadas en el valor de las características.\n",
    "   - **Importancia**: Es intuitivo y fácil de interpretar, pero puede ser propenso al sobreajuste.\n",
    "\n",
    "6. **Validación Cruzada (Cross-Validation)**:\n",
    "   - **Definición**: Técnica para evaluar el rendimiento de un modelo de aprendizaje automático dividiendo el conjunto de datos en k subconjuntos, entrenando el modelo en k-1 subconjuntos y validándolo en el subconjunto restante.\n",
    "   - **Importancia**: Ayuda a asegurar que el modelo generaliza bien a datos no vistos y reduce el riesgo de sobreajuste.\n",
    "\n",
    "7. **Matriz de Confusión (Confusion Matrix)**:\n",
    "   - **Definición**: Tabla que permite visualizar el rendimiento de un algoritmo de clasificación, mostrando las predicciones correctas e incorrectas en cada clase.\n",
    "   - **Importancia**: Proporciona una visión detallada del rendimiento del modelo, permitiendo calcular métricas como precisión, recall, y F1-score.\n",
    "\n",
    "### Resultados Científicos\n",
    "\n",
    "1. **Eficacia de SVM en la Clasificación de Dengue**:\n",
    "   - **Resultado**: El SVM fue capaz de clasificar efectivamente las variedades de dengue (DF, DHF, DSS) con alta precisión, demostrando su utilidad en aplicaciones médicas.\n",
    "   - **Importancia**: Validación del uso de SVM en la clasificación de enfermedades basadas en síntomas y datos de laboratorio.\n",
    "\n",
    "2. **Comparación de Modelos de Clasificación**:\n",
    "   - **Resultado**: Los modelos SVM, Random Forest, KNN y Decision Tree fueron comparados utilizando validación cruzada y métricas de rendimiento. SVM y Random Forest mostraron un rendimiento superior en términos de precisión y recall.\n",
    "   - **Importancia**: Proporciona una guía sobre qué algoritmos pueden ser más efectivos para tareas de clasificación de enfermedades.\n",
    "\n",
    "3. **Impacto del Preprocesamiento de Datos**:\n",
    "   - **Resultado**: El preprocesamiento de datos, incluyendo la conversión de datos categóricos a numéricos y la discretización, fue crucial para mejorar la precisión de los modelos de clasificación.\n",
    "   - **Importancia**: Resalta la importancia de un preprocesamiento de datos adecuado en la construcción de modelos predictivos efectivos.\n",
    "\n",
    "4. **Utilización de Métricas de Rendimiento**:\n",
    "   - **Resultado**: Las métricas de rendimiento como precisión, recall, y F1-score fueron utilizadas para evaluar la efectividad de los modelos de clasificación, proporcionando una comprensión clara de sus fortalezas y debilidades.\n",
    "   - **Importancia**: Ayuda a evaluar y seleccionar el modelo más adecuado para aplicaciones específicas basadas en el contexto y los datos disponibles.\n",
    "\n",
    "Esta lista proporciona un resumen de los conceptos y resultados clave del artículo que son esenciales para comprender y aplicar las técnicas discutidas en el estudio. Los estudiantes pueden utilizar esta lista para guiar su estudio y preparación en este campo.\n"
   ]
  },
  {
   "cell_type": "markdown",
   "id": "ca7261b1",
   "metadata": {
    "slideshow": {
     "slide_type": "slide"
    }
   },
   "source": [
    "## Establecimiento de prerrequisitos conceptuales para alcanzar el objetivo de aprendizaje trazado.   \n",
    "\n",
    "(Elabore una lista de preguntas al rededor de los conceptos que consideres necesarios para empezar la clase).  \n",
    "\n",
    "Para alcanzar los objetivos de aprendizaje trazados por los autores del artículo sobre \"Dengue classification method using support vector machines\", es necesario que los estudiantes tengan una comprensión sólida de varios conceptos fundamentales. A continuación se presenta una lista de prerrequisitos conceptuales, junto con ejercicios en Python para entrenar en la adquisición de estos prerrequisitos.\n"
   ]
  },
  {
   "cell_type": "markdown",
   "id": "d63dbb30",
   "metadata": {},
   "source": [
    "\n",
    "### Prerrequisitos Conceptuales\n",
    "\n",
    "1. **Conceptos Básicos de Estadística y Probabilidad**\n",
    "   - Medidas de tendencia central (media, mediana, moda)\n",
    "   - Dispersión (varianza, desviación estándar)\n",
    "   - Distribuciones de probabilidad\n",
    "\n",
    "2. **Fundamentos de Machine Learning**\n",
    "   - Algoritmos supervisados vs no supervisados\n",
    "   - Función objetivo y pérdida\n",
    "   - Overfitting y underfitting\n",
    "   - Validación cruzada\n",
    "\n",
    "3. **Algoritmos de Clasificación**\n",
    "   - Conceptos y aplicaciones de SVM, Random Forest, KNN, y Decision Tree\n",
    "   - Función de decisión y márgenes en SVM\n",
    "   - Bosques aleatorios y bagging\n",
    "\n",
    "4. **Preprocesamiento de Datos**\n",
    "   - Limpieza de datos y manejo de valores faltantes\n",
    "   - Codificación de variables categóricas (One-Hot Encoding)\n",
    "   - Normalización y estandarización de datos\n",
    "\n",
    "5. **Evaluación de Modelos**\n",
    "   - Métricas de rendimiento: precisión, recall, F1-score\n",
    "   - Matrices de confusión\n",
    "   - ROC y AUC\n",
    "\n",
    "### Ejercicios en Python\n",
    "\n",
    "#### 1. Conceptos Básicos de Estadística y Probabilidad\n",
    "\n",
    "**Ejercicio 1: Cálculo de Medidas de Tendencia Central y Dispersión**\n",
    "\n",
    "```python\n",
    "import numpy as np\n",
    "\n",
    "# Generar datos aleatorios\n",
    "data = np.random.normal(loc=50, scale=10, size=100)\n",
    "\n",
    "# Calcular media, mediana y desviación estándar\n",
    "mean = np.mean(data)\n",
    "median = np.median(data)\n",
    "std_dev = np.std(data)\n",
    "\n",
    "print(f\"Media: {mean}, Mediana: {median}, Desviación Estándar: {std_dev}\")\n",
    "```\n",
    "\n",
    "#### 2. Fundamentos de Machine Learning\n",
    "\n",
    "**Ejercicio 2: Implementación de Validación Cruzada**\n",
    "\n",
    "```python\n",
    "from sklearn.model_selection import cross_val_score\n",
    "from sklearn.linear_model import LogisticRegression\n",
    "from sklearn.datasets import load_iris\n",
    "\n",
    "# Cargar el conjunto de datos Iris\n",
    "iris = load_iris()\n",
    "X, y = iris.data, iris.target\n",
    "\n",
    "# Crear el modelo\n",
    "model = LogisticRegression(max_iter=200)\n",
    "\n",
    "# Validación cruzada\n",
    "scores = cross_val_score(model, X, y, cv=5)\n",
    "\n",
    "print(f\"Puntajes de validación cruzada: {scores}\")\n",
    "print(f\"Precisión media: {np.mean(scores)}\")\n",
    "```\n",
    "\n",
    "#### 3. Algoritmos de Clasificación\n",
    "\n",
    "**Ejercicio 3: Implementación de SVM**\n",
    "\n",
    "```python\n",
    "from sklearn import datasets\n",
    "from sklearn.model_selection import train_test_split\n",
    "from sklearn.svm import SVC\n",
    "from sklearn.metrics import classification_report, confusion_matrix\n",
    "\n",
    "# Cargar el conjunto de datos Iris\n",
    "iris = datasets.load_iris()\n",
    "X = iris.data\n",
    "y = iris.target\n",
    "\n",
    "# Dividir el conjunto de datos en entrenamiento y prueba\n",
    "X_train, X_test, y_train, y_test = train_test_split(X, y, test_size=0.3, random_state=42)\n",
    "\n",
    "#"
   ]
  },
  {
   "cell_type": "markdown",
   "id": "dfa15ca2",
   "metadata": {},
   "source": [
    "# Práctica de obtención, división en entrenamiento y testeo, modelamiento y medidad de desempeño con maquina de soporte vectorial. "
   ]
  },
  {
   "cell_type": "code",
   "execution_count": 1,
   "id": "b4eda9a9",
   "metadata": {},
   "outputs": [],
   "source": [
    "from sklearn.datasets import load_iris "
   ]
  },
  {
   "cell_type": "code",
   "execution_count": 2,
   "id": "10a0100a",
   "metadata": {},
   "outputs": [],
   "source": [
    "iris = load_iris() "
   ]
  },
  {
   "cell_type": "code",
   "execution_count": 3,
   "id": "36909100",
   "metadata": {},
   "outputs": [
    {
     "data": {
      "text/plain": [
       "dict_keys(['data', 'target', 'frame', 'target_names', 'DESCR', 'feature_names', 'filename', 'data_module'])"
      ]
     },
     "execution_count": 3,
     "metadata": {},
     "output_type": "execute_result"
    }
   ],
   "source": [
    "iris.keys()"
   ]
  },
  {
   "cell_type": "code",
   "execution_count": 4,
   "id": "50f75974",
   "metadata": {},
   "outputs": [
    {
     "data": {
      "text/plain": [
       "array([[5.1, 3.5, 1.4, 0.2],\n",
       "       [4.9, 3. , 1.4, 0.2],\n",
       "       [4.7, 3.2, 1.3, 0.2],\n",
       "       [4.6, 3.1, 1.5, 0.2],\n",
       "       [5. , 3.6, 1.4, 0.2],\n",
       "       [5.4, 3.9, 1.7, 0.4],\n",
       "       [4.6, 3.4, 1.4, 0.3],\n",
       "       [5. , 3.4, 1.5, 0.2],\n",
       "       [4.4, 2.9, 1.4, 0.2],\n",
       "       [4.9, 3.1, 1.5, 0.1],\n",
       "       [5.4, 3.7, 1.5, 0.2],\n",
       "       [4.8, 3.4, 1.6, 0.2],\n",
       "       [4.8, 3. , 1.4, 0.1],\n",
       "       [4.3, 3. , 1.1, 0.1],\n",
       "       [5.8, 4. , 1.2, 0.2],\n",
       "       [5.7, 4.4, 1.5, 0.4],\n",
       "       [5.4, 3.9, 1.3, 0.4],\n",
       "       [5.1, 3.5, 1.4, 0.3],\n",
       "       [5.7, 3.8, 1.7, 0.3],\n",
       "       [5.1, 3.8, 1.5, 0.3],\n",
       "       [5.4, 3.4, 1.7, 0.2],\n",
       "       [5.1, 3.7, 1.5, 0.4],\n",
       "       [4.6, 3.6, 1. , 0.2],\n",
       "       [5.1, 3.3, 1.7, 0.5],\n",
       "       [4.8, 3.4, 1.9, 0.2],\n",
       "       [5. , 3. , 1.6, 0.2],\n",
       "       [5. , 3.4, 1.6, 0.4],\n",
       "       [5.2, 3.5, 1.5, 0.2],\n",
       "       [5.2, 3.4, 1.4, 0.2],\n",
       "       [4.7, 3.2, 1.6, 0.2],\n",
       "       [4.8, 3.1, 1.6, 0.2],\n",
       "       [5.4, 3.4, 1.5, 0.4],\n",
       "       [5.2, 4.1, 1.5, 0.1],\n",
       "       [5.5, 4.2, 1.4, 0.2],\n",
       "       [4.9, 3.1, 1.5, 0.2],\n",
       "       [5. , 3.2, 1.2, 0.2],\n",
       "       [5.5, 3.5, 1.3, 0.2],\n",
       "       [4.9, 3.6, 1.4, 0.1],\n",
       "       [4.4, 3. , 1.3, 0.2],\n",
       "       [5.1, 3.4, 1.5, 0.2],\n",
       "       [5. , 3.5, 1.3, 0.3],\n",
       "       [4.5, 2.3, 1.3, 0.3],\n",
       "       [4.4, 3.2, 1.3, 0.2],\n",
       "       [5. , 3.5, 1.6, 0.6],\n",
       "       [5.1, 3.8, 1.9, 0.4],\n",
       "       [4.8, 3. , 1.4, 0.3],\n",
       "       [5.1, 3.8, 1.6, 0.2],\n",
       "       [4.6, 3.2, 1.4, 0.2],\n",
       "       [5.3, 3.7, 1.5, 0.2],\n",
       "       [5. , 3.3, 1.4, 0.2],\n",
       "       [7. , 3.2, 4.7, 1.4],\n",
       "       [6.4, 3.2, 4.5, 1.5],\n",
       "       [6.9, 3.1, 4.9, 1.5],\n",
       "       [5.5, 2.3, 4. , 1.3],\n",
       "       [6.5, 2.8, 4.6, 1.5],\n",
       "       [5.7, 2.8, 4.5, 1.3],\n",
       "       [6.3, 3.3, 4.7, 1.6],\n",
       "       [4.9, 2.4, 3.3, 1. ],\n",
       "       [6.6, 2.9, 4.6, 1.3],\n",
       "       [5.2, 2.7, 3.9, 1.4],\n",
       "       [5. , 2. , 3.5, 1. ],\n",
       "       [5.9, 3. , 4.2, 1.5],\n",
       "       [6. , 2.2, 4. , 1. ],\n",
       "       [6.1, 2.9, 4.7, 1.4],\n",
       "       [5.6, 2.9, 3.6, 1.3],\n",
       "       [6.7, 3.1, 4.4, 1.4],\n",
       "       [5.6, 3. , 4.5, 1.5],\n",
       "       [5.8, 2.7, 4.1, 1. ],\n",
       "       [6.2, 2.2, 4.5, 1.5],\n",
       "       [5.6, 2.5, 3.9, 1.1],\n",
       "       [5.9, 3.2, 4.8, 1.8],\n",
       "       [6.1, 2.8, 4. , 1.3],\n",
       "       [6.3, 2.5, 4.9, 1.5],\n",
       "       [6.1, 2.8, 4.7, 1.2],\n",
       "       [6.4, 2.9, 4.3, 1.3],\n",
       "       [6.6, 3. , 4.4, 1.4],\n",
       "       [6.8, 2.8, 4.8, 1.4],\n",
       "       [6.7, 3. , 5. , 1.7],\n",
       "       [6. , 2.9, 4.5, 1.5],\n",
       "       [5.7, 2.6, 3.5, 1. ],\n",
       "       [5.5, 2.4, 3.8, 1.1],\n",
       "       [5.5, 2.4, 3.7, 1. ],\n",
       "       [5.8, 2.7, 3.9, 1.2],\n",
       "       [6. , 2.7, 5.1, 1.6],\n",
       "       [5.4, 3. , 4.5, 1.5],\n",
       "       [6. , 3.4, 4.5, 1.6],\n",
       "       [6.7, 3.1, 4.7, 1.5],\n",
       "       [6.3, 2.3, 4.4, 1.3],\n",
       "       [5.6, 3. , 4.1, 1.3],\n",
       "       [5.5, 2.5, 4. , 1.3],\n",
       "       [5.5, 2.6, 4.4, 1.2],\n",
       "       [6.1, 3. , 4.6, 1.4],\n",
       "       [5.8, 2.6, 4. , 1.2],\n",
       "       [5. , 2.3, 3.3, 1. ],\n",
       "       [5.6, 2.7, 4.2, 1.3],\n",
       "       [5.7, 3. , 4.2, 1.2],\n",
       "       [5.7, 2.9, 4.2, 1.3],\n",
       "       [6.2, 2.9, 4.3, 1.3],\n",
       "       [5.1, 2.5, 3. , 1.1],\n",
       "       [5.7, 2.8, 4.1, 1.3],\n",
       "       [6.3, 3.3, 6. , 2.5],\n",
       "       [5.8, 2.7, 5.1, 1.9],\n",
       "       [7.1, 3. , 5.9, 2.1],\n",
       "       [6.3, 2.9, 5.6, 1.8],\n",
       "       [6.5, 3. , 5.8, 2.2],\n",
       "       [7.6, 3. , 6.6, 2.1],\n",
       "       [4.9, 2.5, 4.5, 1.7],\n",
       "       [7.3, 2.9, 6.3, 1.8],\n",
       "       [6.7, 2.5, 5.8, 1.8],\n",
       "       [7.2, 3.6, 6.1, 2.5],\n",
       "       [6.5, 3.2, 5.1, 2. ],\n",
       "       [6.4, 2.7, 5.3, 1.9],\n",
       "       [6.8, 3. , 5.5, 2.1],\n",
       "       [5.7, 2.5, 5. , 2. ],\n",
       "       [5.8, 2.8, 5.1, 2.4],\n",
       "       [6.4, 3.2, 5.3, 2.3],\n",
       "       [6.5, 3. , 5.5, 1.8],\n",
       "       [7.7, 3.8, 6.7, 2.2],\n",
       "       [7.7, 2.6, 6.9, 2.3],\n",
       "       [6. , 2.2, 5. , 1.5],\n",
       "       [6.9, 3.2, 5.7, 2.3],\n",
       "       [5.6, 2.8, 4.9, 2. ],\n",
       "       [7.7, 2.8, 6.7, 2. ],\n",
       "       [6.3, 2.7, 4.9, 1.8],\n",
       "       [6.7, 3.3, 5.7, 2.1],\n",
       "       [7.2, 3.2, 6. , 1.8],\n",
       "       [6.2, 2.8, 4.8, 1.8],\n",
       "       [6.1, 3. , 4.9, 1.8],\n",
       "       [6.4, 2.8, 5.6, 2.1],\n",
       "       [7.2, 3. , 5.8, 1.6],\n",
       "       [7.4, 2.8, 6.1, 1.9],\n",
       "       [7.9, 3.8, 6.4, 2. ],\n",
       "       [6.4, 2.8, 5.6, 2.2],\n",
       "       [6.3, 2.8, 5.1, 1.5],\n",
       "       [6.1, 2.6, 5.6, 1.4],\n",
       "       [7.7, 3. , 6.1, 2.3],\n",
       "       [6.3, 3.4, 5.6, 2.4],\n",
       "       [6.4, 3.1, 5.5, 1.8],\n",
       "       [6. , 3. , 4.8, 1.8],\n",
       "       [6.9, 3.1, 5.4, 2.1],\n",
       "       [6.7, 3.1, 5.6, 2.4],\n",
       "       [6.9, 3.1, 5.1, 2.3],\n",
       "       [5.8, 2.7, 5.1, 1.9],\n",
       "       [6.8, 3.2, 5.9, 2.3],\n",
       "       [6.7, 3.3, 5.7, 2.5],\n",
       "       [6.7, 3. , 5.2, 2.3],\n",
       "       [6.3, 2.5, 5. , 1.9],\n",
       "       [6.5, 3. , 5.2, 2. ],\n",
       "       [6.2, 3.4, 5.4, 2.3],\n",
       "       [5.9, 3. , 5.1, 1.8]])"
      ]
     },
     "execution_count": 4,
     "metadata": {},
     "output_type": "execute_result"
    }
   ],
   "source": [
    "iris.data"
   ]
  },
  {
   "cell_type": "code",
   "execution_count": 5,
   "id": "92810c33",
   "metadata": {},
   "outputs": [],
   "source": [
    "from sklearn.model_selection import train_test_split"
   ]
  },
  {
   "cell_type": "code",
   "execution_count": 6,
   "id": "107acfba",
   "metadata": {},
   "outputs": [],
   "source": [
    "X_train, X_test, y_train, y_test = train_test_split(iris.data,\\\n",
    "                                                     iris.target, \\\n",
    "                                                    random_state = 513, \\\n",
    "                                                        test_size = 0.20)"
   ]
  },
  {
   "cell_type": "code",
   "execution_count": 7,
   "id": "71490726",
   "metadata": {},
   "outputs": [],
   "source": [
    "from sklearn.svm import SVC"
   ]
  },
  {
   "cell_type": "code",
   "execution_count": 8,
   "id": "9906ee77",
   "metadata": {},
   "outputs": [],
   "source": [
    "predictor = SVC() "
   ]
  },
  {
   "cell_type": "code",
   "execution_count": 9,
   "id": "d7fe4325",
   "metadata": {},
   "outputs": [
    {
     "data": {
      "text/html": [
       "<style>#sk-container-id-1 {color: black;}#sk-container-id-1 pre{padding: 0;}#sk-container-id-1 div.sk-toggleable {background-color: white;}#sk-container-id-1 label.sk-toggleable__label {cursor: pointer;display: block;width: 100%;margin-bottom: 0;padding: 0.3em;box-sizing: border-box;text-align: center;}#sk-container-id-1 label.sk-toggleable__label-arrow:before {content: \"▸\";float: left;margin-right: 0.25em;color: #696969;}#sk-container-id-1 label.sk-toggleable__label-arrow:hover:before {color: black;}#sk-container-id-1 div.sk-estimator:hover label.sk-toggleable__label-arrow:before {color: black;}#sk-container-id-1 div.sk-toggleable__content {max-height: 0;max-width: 0;overflow: hidden;text-align: left;background-color: #f0f8ff;}#sk-container-id-1 div.sk-toggleable__content pre {margin: 0.2em;color: black;border-radius: 0.25em;background-color: #f0f8ff;}#sk-container-id-1 input.sk-toggleable__control:checked~div.sk-toggleable__content {max-height: 200px;max-width: 100%;overflow: auto;}#sk-container-id-1 input.sk-toggleable__control:checked~label.sk-toggleable__label-arrow:before {content: \"▾\";}#sk-container-id-1 div.sk-estimator input.sk-toggleable__control:checked~label.sk-toggleable__label {background-color: #d4ebff;}#sk-container-id-1 div.sk-label input.sk-toggleable__control:checked~label.sk-toggleable__label {background-color: #d4ebff;}#sk-container-id-1 input.sk-hidden--visually {border: 0;clip: rect(1px 1px 1px 1px);clip: rect(1px, 1px, 1px, 1px);height: 1px;margin: -1px;overflow: hidden;padding: 0;position: absolute;width: 1px;}#sk-container-id-1 div.sk-estimator {font-family: monospace;background-color: #f0f8ff;border: 1px dotted black;border-radius: 0.25em;box-sizing: border-box;margin-bottom: 0.5em;}#sk-container-id-1 div.sk-estimator:hover {background-color: #d4ebff;}#sk-container-id-1 div.sk-parallel-item::after {content: \"\";width: 100%;border-bottom: 1px solid gray;flex-grow: 1;}#sk-container-id-1 div.sk-label:hover label.sk-toggleable__label {background-color: #d4ebff;}#sk-container-id-1 div.sk-serial::before {content: \"\";position: absolute;border-left: 1px solid gray;box-sizing: border-box;top: 0;bottom: 0;left: 50%;z-index: 0;}#sk-container-id-1 div.sk-serial {display: flex;flex-direction: column;align-items: center;background-color: white;padding-right: 0.2em;padding-left: 0.2em;position: relative;}#sk-container-id-1 div.sk-item {position: relative;z-index: 1;}#sk-container-id-1 div.sk-parallel {display: flex;align-items: stretch;justify-content: center;background-color: white;position: relative;}#sk-container-id-1 div.sk-item::before, #sk-container-id-1 div.sk-parallel-item::before {content: \"\";position: absolute;border-left: 1px solid gray;box-sizing: border-box;top: 0;bottom: 0;left: 50%;z-index: -1;}#sk-container-id-1 div.sk-parallel-item {display: flex;flex-direction: column;z-index: 1;position: relative;background-color: white;}#sk-container-id-1 div.sk-parallel-item:first-child::after {align-self: flex-end;width: 50%;}#sk-container-id-1 div.sk-parallel-item:last-child::after {align-self: flex-start;width: 50%;}#sk-container-id-1 div.sk-parallel-item:only-child::after {width: 0;}#sk-container-id-1 div.sk-dashed-wrapped {border: 1px dashed gray;margin: 0 0.4em 0.5em 0.4em;box-sizing: border-box;padding-bottom: 0.4em;background-color: white;}#sk-container-id-1 div.sk-label label {font-family: monospace;font-weight: bold;display: inline-block;line-height: 1.2em;}#sk-container-id-1 div.sk-label-container {text-align: center;}#sk-container-id-1 div.sk-container {/* jupyter's `normalize.less` sets `[hidden] { display: none; }` but bootstrap.min.css set `[hidden] { display: none !important; }` so we also need the `!important` here to be able to override the default hidden behavior on the sphinx rendered scikit-learn.org. See: https://github.com/scikit-learn/scikit-learn/issues/21755 */display: inline-block !important;position: relative;}#sk-container-id-1 div.sk-text-repr-fallback {display: none;}</style><div id=\"sk-container-id-1\" class=\"sk-top-container\"><div class=\"sk-text-repr-fallback\"><pre>SVC()</pre><b>In a Jupyter environment, please rerun this cell to show the HTML representation or trust the notebook. <br />On GitHub, the HTML representation is unable to render, please try loading this page with nbviewer.org.</b></div><div class=\"sk-container\" hidden><div class=\"sk-item\"><div class=\"sk-estimator sk-toggleable\"><input class=\"sk-toggleable__control sk-hidden--visually\" id=\"sk-estimator-id-1\" type=\"checkbox\" checked><label for=\"sk-estimator-id-1\" class=\"sk-toggleable__label sk-toggleable__label-arrow\">SVC</label><div class=\"sk-toggleable__content\"><pre>SVC()</pre></div></div></div></div></div>"
      ],
      "text/plain": [
       "SVC()"
      ]
     },
     "execution_count": 9,
     "metadata": {},
     "output_type": "execute_result"
    }
   ],
   "source": [
    "predictor.fit(X_train, y_train)"
   ]
  },
  {
   "cell_type": "code",
   "execution_count": 10,
   "id": "135b563f",
   "metadata": {},
   "outputs": [
    {
     "data": {
      "text/plain": [
       "array([0])"
      ]
     },
     "execution_count": 10,
     "metadata": {},
     "output_type": "execute_result"
    }
   ],
   "source": [
    "predictor.predict([[5.1, 3.5, 1.4, 0.2]])"
   ]
  },
  {
   "cell_type": "code",
   "execution_count": 11,
   "id": "8b9477e9",
   "metadata": {},
   "outputs": [],
   "source": [
    "from sklearn.metrics import recall_score"
   ]
  },
  {
   "cell_type": "code",
   "execution_count": 12,
   "id": "d91d9a8d",
   "metadata": {},
   "outputs": [
    {
     "ename": "AttributeError",
     "evalue": "'SVC' object has no attribute 'recall_score'",
     "output_type": "error",
     "traceback": [
      "\u001b[0;31m---------------------------------------------------------------------------\u001b[0m",
      "\u001b[0;31mAttributeError\u001b[0m                            Traceback (most recent call last)",
      "Cell \u001b[0;32mIn[12], line 1\u001b[0m\n\u001b[0;32m----> 1\u001b[0m \u001b[43mpredictor\u001b[49m\u001b[38;5;241;43m.\u001b[39;49m\u001b[43mrecall_score\u001b[49m(X_test, y_test)\n",
      "\u001b[0;31mAttributeError\u001b[0m: 'SVC' object has no attribute 'recall_score'"
     ]
    }
   ],
   "source": [
    "predictor.recall_score(X_test, y_test)"
   ]
  },
  {
   "cell_type": "markdown",
   "id": "2298e976",
   "metadata": {
    "slideshow": {
     "slide_type": "slide"
    }
   },
   "source": [
    "# Para el diseño de la clase tenga en cuenta algunos problemas de aprendizaje"
   ]
  },
  {
   "cell_type": "markdown",
   "id": "523d3acf",
   "metadata": {
    "slideshow": {
     "slide_type": "slide"
    }
   },
   "source": []
  },
  {
   "cell_type": "markdown",
   "id": "a40a4704",
   "metadata": {
    "slideshow": {
     "slide_type": "slide"
    }
   },
   "source": [
    "## Secuencia conceptual introductoria a la clase"
   ]
  },
  {
   "cell_type": "markdown",
   "id": "8853d874",
   "metadata": {},
   "source": [
    "## El componente histórico y epistemológico"
   ]
  },
  {
   "cell_type": "markdown",
   "id": "e3ffa494",
   "metadata": {},
   "source": [
    "# Vocabulary   \n",
    "\n",
    "1.   \n",
    "2.    \n",
    "3.  \n",
    "4.  \n",
    "5.  "
   ]
  },
  {
   "cell_type": "code",
   "execution_count": 14,
   "id": "6ff395c3",
   "metadata": {},
   "outputs": [],
   "source": [
    "# Traducción del inglés al español con python\n",
    "\n",
    "def traducir(texto):\n",
    "    from googletrans import Translator\n",
    "\n",
    "    translator = Translator() # instancia la clase \n",
    "\n",
    "    # Traducir al español\n",
    "    translation = translator.translate(texto, src='en', dest='es')\n",
    "    return translation.text"
   ]
  },
  {
   "cell_type": "code",
   "execution_count": null,
   "id": "b583f414-ac87-4912-8a86-b338234d83d7",
   "metadata": {},
   "outputs": [
    {
     "data": {
      "text/plain": [
       "'Hola'"
      ]
     },
     "execution_count": 5,
     "metadata": {},
     "output_type": "execute_result"
    }
   ],
   "source": [
    "traducir('Hi')"
   ]
  },
  {
   "cell_type": "code",
   "execution_count": null,
   "id": "bc0addfe",
   "metadata": {},
   "outputs": [
    {
     "data": {
      "text/plain": [
       "'/home/marco/Documentos/docencia/calculo/images/0_reales/Métodos de clasificación\\n de dengue con SVM.pdf'"
      ]
     },
     "execution_count": 4,
     "metadata": {},
     "output_type": "execute_result"
    }
   ],
   "source": [
    "from graphviz import Digraph\n",
    "\n",
    "# Crear un nuevo grafo dirigido\n",
    "dot = Digraph()\n",
    "\n",
    "# Añadir nodos y relaciones al grafo\n",
    "main_concept = 'Métodos de clasificación\\n de dengue con SVM'\n",
    "dot.node('A', main_concept)\n",
    "dot.node('B', 'Preprocesamiento\\n de Datos')\n",
    "dot.node('C', 'Modelos\\n de Clasificación')\n",
    "dot.node('D', 'Evaluación\\n de Modelos')\n",
    "dot.node('E', 'Recopilación de Datos')\n",
    "dot.node('F', 'Conversión\\n a Datos Numéricos')\n",
    "dot.node('G', 'Discretización\\n de Datos')\n",
    "dot.node('H', 'SVM')\n",
    "dot.node('I', 'Random Forest')\n",
    "dot.node('J', 'KNN')\n",
    "dot.node('K', 'Decision Tree')\n",
    "dot.node('L', 'Validación\\n Cruzada')\n",
    "dot.node('M', 'Métricas de\\n Rendimiento')\n",
    "dot.node('N', 'Matrices de\\n Confusión')\n",
    "\n",
    "dot.edges(['AB', 'AC', 'AD'])\n",
    "dot.edges(['BE', 'BF', 'BG'])\n",
    "dot.edges(['CH', 'CI', 'CJ', 'CK'])\n",
    "dot.edges(['DL', 'DM', 'DN'])\n",
    "\n",
    "# Guardar el grafo como un archivo de imagen\n",
    "dot.render(filename=main_concept, format='png', cleanup=True, \\\n",
    "           directory='/home/marco/Documentos/docencia/calculo/images/0_reales/')\n",
    "\n",
    "dot.view()\n"
   ]
  },
  {
   "cell_type": "markdown",
   "id": "10e55ccf",
   "metadata": {},
   "source": [
    "# Dengue classification method using support vector machines and cross-validation techniques"
   ]
  },
  {
   "cell_type": "markdown",
   "id": "239427f7",
   "metadata": {},
   "source": [
    "Dengue is a dangerous disease that can lead to death if the diagnosis and treatment are inappropriate. The common symptoms that occur, including\n",
    "headache, muscle aches, fever, and rash. Dengue is a disease that causes\n",
    "endemics in several countries in South Asia and Southeast Asia. There are\n",
    "three varieties of dengue, such as dengue fever (DF), dengue hemorrhagic\n",
    "fever (DHF), and dengue shock syndrome (DSS). This disease can currently\n",
    "be classified using a machine learning approach with the input data being the\n",
    "dengue symptoms. This study aims to classify dengue types consisting of\n",
    "three classes: DF, DHF, and DSS using five classification methods including\n",
    "C.45, decision tree (DT), k-nearest neighbor (KNN), random forest (RF),\n",
    "and support vector machine (SVM). The dataset used consists of 21\n",
    "attributes, which are the dengue symptoms. It was collected from 110\n",
    "patients. The evaluation method was conducted using cross-validation with\n",
    "k-folds of 3, 5, and 10. The dengue classification method was evaluated\n",
    "using three parameters: precision, recall, and accuracy, which were most\n",
    "optimally achieved. The most optimal evaluation results were obtained using\n",
    "SVM with k-fold 3 and 10 with precision, recall, and accuracy values\n",
    "reaching 99.1%, 99.1%, and 99.1%, respectively.  \n",
    "\n",
    "El dengue es una enfermedad peligrosa que puede provocar la muerte si el diagnóstico y el tratamiento es inapropiado.  \n",
    "\n",
    "Los síntomas comunes que ocurren, incluido dolor de cabeza, dolores musculares, fiebre y erupción.  \n",
    "\n",
    "El dengue es una enfermedad endémica en varios países del sur de Asia y el sudeste asiático.  \n",
    "\n",
    "Hay Tres variedades de dengue, como la fiebre del dengue (DF), el dengue hemorrágico fiebre (DHF) y síndrome de choque de dengue (DSS).  \n",
    "\n",
    "Esta enfermedad puede actualmente clasificarse utilizando un enfoque de aprendizaje automático con los datos de entrada como los síntomas del dengue.  \n",
    "\n",
    "Este estudio tiene como objetivo clasificar los tipos de dengue que consisten en tres clases: DF, DHF y DSS utilizando cinco métodos de clasificación que incluyen C.45, Árbol de decisión (DT), K-Nearest Vecin (KNN), Bosque aleatorio (RF),y soporte de vectores (SVM).  \n",
    "\n",
    "El conjunto de datos utilizado consta de 21 atributos, que son los síntomas del dengue.  \n",
    "\n",
    "Fue recogido de 110 pacientes.  El método de evaluación se realizó utilizando validación cruzada con K-pliegues de 3, 5 y 10.   \n",
    "\n",
    "Se evaluó el método de clasificación del dengue usando tres parámetros: exactitud, recuerdo y precisión, que fueron los que arrojaron un mejor desempeño.  \n",
    "\n",
    "Los resultados de evaluación más óptimos se obtuvieron utilizando SVM con K-Fold 3 y 10 con precisión, retiro y valores de precisión Alcanzando 99.1%, 99.1%y 99.1%, respectivamente."
   ]
  },
  {
   "cell_type": "markdown",
   "id": "bc8e4377-c02d-49da-958b-970a6ed11982",
   "metadata": {},
   "source": [
    "# 1. INTRODUCTION  \n",
    "\n",
    "Nowadays, computer technology has been applied in various fields, including the medical field, in expert systems[1].  \n",
    "\n",
    "Over the last few years, expert systems have been developed.  \n",
    "\n",
    "The expert system is constantly evolving because it can be integrated into clinical decision-making to predict disease and assist physicians in diagnosis.   \n",
    "\n",
    "This system is a computer program that contains knowledge from one or more human experts related to a particular disease.  \n",
    "\n",
    "Expert systems help patients find out the diagnosis results more efficiently based on the symptoms\n",
    "that occur and are felt.   \n",
    "\n",
    "Moreover, it can be used at any time to become more economical.   \n",
    "\n",
    "Therefore, this system contributes to disseminating expert knowledge to wider users.   \n",
    "\n",
    "Expert systems can provide a more accessible and helpful way for human experts to develop and test new theories, especially in healthcare.   \n",
    "\n",
    "The data used in the expert system can vary, such as images [2]–[4], signals [5], or medical record data which includes name, age, laboratory test results, and symptoms of the patient [6]–[8].   \n",
    "\n",
    "In the medical field, several expert systems have been developed, for example for estimating drug doses [6], [9], monitoring the disease progress [1], [2], [10], and detecting several types of diseases such as diabetes mellitus [11], pancreatic cancer [12], breast cancer [13], glaucoma [14], and dengue fever (DF) [15]–[17].  \n",
    "\n",
    "Hoy en día, la tecnología informática se ha aplicado en varios campos, incluido el campo de la medicina, en sistemas de expertos [1].  \n",
    "\n",
    "En los últimos años, se han desarrollado sistemas expertos.  \n",
    "\n",
    "Los sistema expertos evolucionan constantemente porque puede integrarse en la toma de decisiones clínicas para predecir la enfermedad y ayudar a los médicos en el diagnóstico.  \n",
    "\n",
    "Este sistema es un programa de computadora que contiene conocimiento de uno o más expertos humanos relacionados con una enfermedad particular.\\n\\nLos sistemas expertos ayudan a los pacientes a descubrir los resultados del diagnóstico de manera más eficiente en función de los síntomas\\nque ocurren y se sienten.\\n\\nAdemás, se puede usar en cualquier momento para volverse más económico.\\n\\nPor lo tanto, este sistema contribuye a difundir el conocimiento experto a usuarios más amplios.\\n\\nLos sistemas expertos pueden proporcionar una forma más accesible y útil para que los expertos humanos desarrollen y prueben nuevas teorías, especialmente en la atención médica.\\n\\nLos datos utilizados en el sistema experto pueden variar, como las imágenes [2] - [4], las señales [5] o los datos de registros médicos que incluyen nombre, edad, resultados de pruebas de laboratorio y síntomas del paciente [6] - [[8].\\n\\nEn el campo de la medicina, se han desarrollado varios sistemas expertos, por ejemplo, para estimar las dosis del medicamento [6], [9], monitorear el progreso de la enfermedad [1], [2], [10] y detectar varios tipos de enfermedades, comoDiabetes mellitus [11], cáncer de páncreas [12], cáncer de mama [13], glaucoma [14] y fiebre del dengue (DF) [15] - [17]."
   ]
  },
  {
   "cell_type": "code",
   "execution_count": 18,
   "id": "f2643f64-c14d-4ee7-b25e-ae1356576669",
   "metadata": {},
   "outputs": [
    {
     "data": {
      "text/plain": [
       "'Hoy en día, la tecnología informática se ha aplicado en varios campos, incluido el campo de la medicina, en sistemas expertos [1].'"
      ]
     },
     "execution_count": 18,
     "metadata": {},
     "output_type": "execute_result"
    }
   ],
   "source": [
    "traducir(\"\"\" Nowadays, computer technology has been applied in various fields, including the medical field, in expert systems[1].    \n",
    "\"\"\")"
   ]
  },
  {
   "cell_type": "markdown",
   "id": "c2ef4429-0ee8-47b8-a52f-2433b3db4ef3",
   "metadata": {},
   "source": [
    "Dengue fever is an arboviral disease caused by infection with one of the four dengue virus serotypes. "
   ]
  },
  {
   "cell_type": "markdown",
   "id": "cad8a6fa",
   "metadata": {},
   "source": [
    "It is spread through contact with the dengue (DENV) virus. "
   ]
  },
  {
   "cell_type": "markdown",
   "id": "811a67df",
   "metadata": {},
   "source": [
    "According to the World Health Organization (WHO), this disease is estimated to have a global burden of 50 million illnesses annually, and about 2.5 billion people worldwide live in dengue-endemic areas [18].   \n"
   ]
  },
  {
   "cell_type": "markdown",
   "id": "0e5aecae",
   "metadata": {},
   "source": [
    "\n",
    "A person can develop dengue fever with various symptoms, such as headache, muscle aches, fever, and a measles-like rash, also known as fracture fever [16]. "
   ]
  },
  {
   "cell_type": "markdown",
   "id": "2904a2f7",
   "metadata": {},
   "source": [
    "Regarding statistical data in varied countries, several dengue-endemic cases were\n",
    "reported in Saudi Arabia, especially in the western and southern provinces of the Jeddah and Mecca areas,\n",
    "the first in 2011, when 2,569 cases were reported, and the second, in 2013 when 4,411 cases including 8\n",
    "deaths were reported. Dengue has also occurred in other areas of Saudi Arabia, including Medina (2009) and\n",
    "Aseer and Jizan (2013) [18]. Meanwhile, the Malaysian Ministry of Health reports that dengue fever has\n",
    "grown rapidly since 2012. In 2015, the Malaysian Ministry of Health published a report recording 107,079\n",
    "cases of dengue fever with 293 deaths, while there were 43,000 cases of dengue fever with 92 deaths in 2013\n",
    "[19]. The rapid spread of the dengue virus has become more and more dangerous, and addressing this issue\n",
    "should be considered an urgent case. Additionally, the national incidence of dengue hemorrhagic fever\n",
    "(DHF) in Indonesia increased from 50.8 per 100,000 population in 2015 to 78.9 per 100,000 population in\n",
    "2016 [20]. The clinical diagnosis can range from symptomatic dengue fever (DF) to a more severe form\n",
    "known as DHF, and the most fatal is dengue shock syndrome (DSS) [18].\n",
    "Classification of dengue varieties has been carried out using a computer-based system. The input\n",
    "data are symptoms suffered by patients such as fever, headache, pain behind the eyeball, joint pain, muscle\n",
    "pain, and other symptoms. In addition, the thrombocyte and hemoglobin values of the patient are also\n",
    "indicative of dengue disease. The classification system is needed to immediately find out the symptoms\n",
    "suffered by the patient without convening the expert or doctor. It can be applied using several methods, such\n",
    "as rule-based [21]–[24], or using machine learning [25]. The following methods were used in prior studies to\n",
    "implement the machine learning-based classification process: naive Bayes [6], logistic regression [12],\n",
    "random forest (RF) [8], [12], [16], k-nearest neighbor (KNN) [26], artificial neural network (ANN) [10],\n",
    "[13], dan support vector machine (SVM) [8], [14].\n",
    "The study based on machine learning was developed using several approaches, including KNN,\n",
    "linear SVM, naive Bayes, J48, adaboost, bagging, and stacking, to classify autism spectrum disorders in\n",
    "adults. The best results were obtained utilizing the bagging, linear SVM, and naive Bayes methods with an\n",
    "accuracy of 100% based on the test results using cross-validation with k-fold 3, 5, and 10 [6]. Classification\n",
    "of hepatitis disease applied based on SVM including linear SVM, polynomial SVM, gaussian radial basis\n",
    "function (RBF) SVM, and RF with a comparison of training and test data of 90% and 10%. The proposed\n",
    "SVM and RF methods succeeded in predicting the data correctly. They managed to achieve the best results\n",
    "with a value of 0.995 [8]. Comparison of SVM kernel selection implemented on diabetes dataset using linear\n",
    "SVM, polynomial SVM, and RBF kernel. The results obtained using the linear SVM kernel get the best\n",
    "results with an accuracy of 77.34%, while the RBF kernel obtains the lowest results with an accuracy of\n",
    "65.10% [27].\n",
    "Subsequently, the extraction of the contour cup on the retinal fundus image was carried out to detect\n",
    "the patient of glaucoma by applying the multi-layer perceptron (MLP), KNN, naive Bayes, and SVM\n",
    "methods. The SVM method achieved the best accuracy results with a value of 94.44%, while the lowest\n",
    "results were performed by the MLP method with a value of 72.22% [14]. Improving the quality of\n",
    "mammogram images based on the region of interest is needed to obtain optimal breast cancer classification\n",
    "results using the hybrid optimum feature selection (HOFS) and ANN as the classifier feature selection\n",
    "method. The use of feature selection is able to reduce the number of features and improve the classification\n",
    "results with fewer features based on the values of accuracy, sensitivity, and specificity of 99.7%, 99.5%, and\n",
    "100%, respectively [13]. Antibiotic resistance detection based on machine learning was classified into two\n",
    "classes: resistant and sensitive. With the area under the curve-weighted metrics of 0.822 and 0.850,\n",
    "respectively, the stack ensemble technique produced the best results in the original and balanced datasets.\n",
    "Sex, age, sample type, Gram stain, 44 antimicrobial substances, and antibiotic susceptibility values were all\n",
    "included as the dataset attributes [7].\n",
    "This study aims to classify dengue disease varieties divided into DF, DHF, and DSS. The input data\n",
    "used are symptoms caused by the disease. Classification is done by applying several machine learning\n",
    "methods consisting of C.45, DT, KNN, RF, and SVM, where the evaluation is carried out using\n",
    "cross-validation. The following sections structure the paper: section 2 describes the dataset and methods\n",
    "used, section 3 presents the result and discussion for each classification method based on the performance\n",
    "evaluation, and section 4 concludes the paper."
   ]
  },
  {
   "cell_type": "markdown",
   "id": "dd58d58e",
   "metadata": {},
   "source": [
    "# 2. MATERIALS AND METHODS"
   ]
  },
  {
   "cell_type": "markdown",
   "id": "ed7e2a34",
   "metadata": {},
   "source": [
    "\n",
    "This section describes the dataset details used and the classification method. "
   ]
  },
  {
   "cell_type": "markdown",
   "id": "216d919b",
   "metadata": {},
   "source": [
    "It also provides\n",
    "information on the process for evaluating the performance of each classification method. In this study, the dataset provided by Dirgahayu Hospital, Samarinda, Indonesia, consisted of 110 cases of dengue patients.  \n"
   ]
  },
  {
   "cell_type": "markdown",
   "id": "4d2d04ad",
   "metadata": {},
   "source": [
    "The dataset is divided into three classes, including DF, DHF, and DSS, comprising 40 data, 61 data, and 9 data, respectively. "
   ]
  },
  {
   "cell_type": "markdown",
   "id": "e64ad9fc",
   "metadata": {},
   "source": [
    "The data was collected in the form of patient code (Pcode), age, and symptoms\n",
    "experienced, including thrombocyte and hemoglobin values from each patient and the results of the diagnosis\n",
    "obtained from the expert. The symptoms experienced by each patient may vary, so the results of the\n",
    "diagnosis of dengue type from the expert vary. The example of several data collected from the patients is\n",
    "shown in Table 1.\n",
    "This study consists of two stages: training and testing. Both of them have two main processes are\n",
    "pre-processing and classification. Additionally, there is an evaluation method process required to measure\n",
    "each classifier’s performance. The input of the evaluation method is the diagnosis resulting from the expert\n",
    "(actual class) and classification method (predicted class). The overview of the dengue classification method\n",
    "is depicted in Figure 1."
   ]
  },
  {
   "cell_type": "markdown",
   "id": "493a922b",
   "metadata": {},
   "source": [
    "## Imagen de la tabla 1 del artículo \n",
    "\n",
    "<img src = ''>"
   ]
  },
  {
   "cell_type": "code",
   "execution_count": null,
   "id": "f9cada0d-bcef-49f4-a727-59490cfdc143",
   "metadata": {},
   "outputs": [],
   "source": []
  },
  {
   "cell_type": "code",
   "execution_count": null,
   "id": "03284edc",
   "metadata": {},
   "outputs": [],
   "source": []
  },
  {
   "cell_type": "code",
   "execution_count": null,
   "id": "b745f258",
   "metadata": {},
   "outputs": [],
   "source": []
  },
  {
   "cell_type": "code",
   "execution_count": null,
   "id": "1d1b1971",
   "metadata": {},
   "outputs": [],
   "source": []
  },
  {
   "cell_type": "markdown",
   "id": "507420c7-6bcd-4bd5-96de-753432b8782d",
   "metadata": {},
   "source": [
    "# Detalles específicos y ejemplos de código para cada paso."
   ]
  },
  {
   "cell_type": "markdown",
   "id": "5050421b-9efe-48b3-aabc-10ff3ec6ba74",
   "metadata": {},
   "source": [
    "Estos son detalles específicos y ejemplos de código para cada uno de los pasos mencionados. Utilizaremos Python y las bibliotecas comunes como `pandas`, `numpy`, `scikit-learn`, y `matplotlib` para estos ejemplos.\n"
   ]
  },
  {
   "cell_type": "markdown",
   "id": "5975de4e",
   "metadata": {},
   "source": [
    "\n",
    "### 1. Preprocesamiento de Datos\n",
    "\n",
    "#### Importación y limpieza de datos\n"
   ]
  },
  {
   "cell_type": "code",
   "execution_count": null,
   "id": "96f80c5f",
   "metadata": {},
   "outputs": [],
   "source": [
    "\n",
    "import pandas as pd\n",
    "import numpy as np\n",
    "\n",
    "# Supongamos que tienes un archivo CSV con datos de pacientes\n",
    "df = pd.read_csv('datos_pacientes.csv')\n",
    "\n",
    "# Visualizar las primeras filas del DataFrame\n",
    "print(df.head())\n",
    "\n",
    "# Eliminar filas con valores faltantes\n",
    "df.dropna(inplace=True)\n",
    "\n",
    "# Convertir columnas categóricas a numéricas (por ejemplo, con One-Hot Encoding)\n",
    "df = pd.get_dummies(df, columns=['sintoma1', 'sintoma2', 'sintoma3'])\n",
    "\n",
    "# Escalar los datos (por ejemplo, utilizando MinMaxScaler)\n",
    "from sklearn.preprocessing import MinMaxScaler\n",
    "\n",
    "scaler = MinMaxScaler()\n",
    "df_scaled = scaler.fit_transform(df)\n",
    "\n",
    "# Convertir el resultado escalado de nuevo a un DataFrame\n",
    "df_scaled = pd.DataFrame(df_scaled, columns=df.columns)\n",
    "\n"
   ]
  },
  {
   "cell_type": "code",
   "execution_count": null,
   "id": "bf60a3e0",
   "metadata": {},
   "outputs": [],
   "source": [
    "\n",
    "#### Discretización y conversión de datos a formato numérico\n",
    "\n",
    "```python\n",
    "# Supongamos que tenemos una columna 'edad' que queremos discretizar\n",
    "df['edad_grupo'] = pd.cut(df['edad'], bins=[0, 12, 19, 35, 60, 100], labels=[0, 1, 2, 3, 4])\n",
    "\n",
    "# Verificar los cambios\n",
    "print(df.head())\n",
    "```\n",
    "\n",
    "### 2. Implementación de Algoritmos de Clasificación\n",
    "\n",
    "#### Uso de bibliotecas como `scikit-learn` para implementar SVM, Random Forest, KNN y Decision Trees\n",
    "\n",
    "```python\n",
    "from sklearn.model_selection import train_test_split\n",
    "from sklearn.svm import SVC\n",
    "from sklearn.ensemble import RandomForestClassifier\n",
    "from sklearn.neighbors import KNeighborsClassifier\n",
    "from sklearn.tree import DecisionTreeClassifier\n",
    "from sklearn.metrics import classification_report, confusion_matrix\n",
    "\n",
    "# Separar las características y la variable objetivo\n",
    "X = df.drop('clasificacion', axis=1)\n",
    "y = df['clasificacion']\n",
    "\n",
    "# Dividir los datos en conjuntos de entrenamiento y prueba\n",
    "X_train, X_test, y_train, y_test = train_test_split(X, y, test_size=0.3, random_state=42)\n",
    "\n",
    "# Implementación de SVM\n",
    "svm_model = SVC()\n",
    "svm_model.fit(X_train, y_train)\n",
    "y_pred_svm = svm_model.predict(X_test)\n",
    "\n",
    "# Implementación de Random Forest\n",
    "rf_model = RandomForestClassifier()\n",
    "rf_model.fit(X_train, y_train)\n",
    "y_pred_rf = rf_model.predict(X_test)\n",
    "\n",
    "# Implementación de KNN\n",
    "knn_model = KNeighborsClassifier()\n",
    "knn_model.fit(X_train, y_train)\n",
    "y_pred_knn = knn_model.predict(X_test)\n",
    "\n",
    "# Implementación de Decision Tree\n",
    "dt_model = DecisionTreeClassifier()\n",
    "dt_model.fit(X_train, y_train)\n",
    "y_pred_dt = dt_model.predict(X_test)\n",
    "```\n",
    "\n",
    "### 3. Evaluación de Modelos\n",
    "\n",
    "#### Cálculo y visualización de métricas de rendimiento\n",
    "\n",
    "```python\n",
    "# Función para imprimir el informe de clasificación y la matriz de confusión\n",
    "def evaluar_modelo(y_test, y_pred, nombre_modelo):\n",
    "    print(f\"Resultados del modelo {nombre_modelo}:\")\n",
    "    print(classification_report(y_test, y_pred))\n",
    "    print(\"Matriz de Confusión:\")\n",
    "    print(confusion_matrix(y_test, y_pred))\n",
    "    print(\"\\n\")\n",
    "\n",
    "# Evaluar SVM\n",
    "evaluar_modelo(y_test, y_pred_svm, \"SVM\")\n",
    "\n",
    "# Evaluar Random Forest\n",
    "evaluar"
   ]
  },
  {
   "cell_type": "code",
   "execution_count": null,
   "id": "b7ca8713-ead6-4962-90b9-82428f73df59",
   "metadata": {},
   "outputs": [],
   "source": [
    "\n"
   ]
  },
  {
   "cell_type": "code",
   "execution_count": null,
   "id": "ec048afb",
   "metadata": {},
   "outputs": [],
   "source": []
  },
  {
   "cell_type": "markdown",
   "id": "64ac8d32",
   "metadata": {},
   "source": [
    "# Ejemplo ilustrativo"
   ]
  },
  {
   "cell_type": "markdown",
   "id": "a3e5e6ab",
   "metadata": {},
   "source": [
    "# 10 ejercicios de entrenamiento o adquisición de habilidades obtenido a través de ChatGPT para una formación personalizada y centrada en la habilidad que se quiere lograr con la enseñanza del ejemplo anterior"
   ]
  },
  {
   "cell_type": "code",
   "execution_count": null,
   "id": "cc539357",
   "metadata": {},
   "outputs": [],
   "source": []
  },
  {
   "cell_type": "markdown",
   "id": "742281f4",
   "metadata": {},
   "source": [
    "# No olvide la tarea de realizar la foda para autoevaluarse\n",
    "\n",
    "Fortalezas: F  \n",
    "Oportuniudades O:  \n",
    "Debilidades: D:   \n",
    "Amenazas: A:     "
   ]
  },
  {
   "cell_type": "markdown",
   "id": "8d41fe58",
   "metadata": {
    "slideshow": {
     "slide_type": "slide"
    }
   },
   "source": [
    "# Horario de clases del profesor Marco\n",
    "\n",
    "* Martes y jueves de 10 a 12: Fundamentos de las matemáticas\n",
    "* Martes y jueves de 2 a 4 PM: Fundamentos de la aritmética\n",
    "\n",
    "* Didáctica de la aritmética: Miércoles de 8 - 12\n",
    "\n"
   ]
  },
  {
   "cell_type": "markdown",
   "id": "ae114e14",
   "metadata": {
    "slideshow": {
     "slide_type": "slide"
    }
   },
   "source": [
    "# Horarios de monitoría y asesoría"
   ]
  },
  {
   "cell_type": "markdown",
   "id": "b1db4b6c",
   "metadata": {
    "slideshow": {
     "slide_type": "slide"
    }
   },
   "source": [
    "## Monitor Manuel"
   ]
  },
  {
   "cell_type": "markdown",
   "id": "39559692",
   "metadata": {
    "slideshow": {
     "slide_type": "slide"
    }
   },
   "source": [
    "Martes y jueves de 8 - 12  \n",
    "Miércoles 10 - 12 y de 2 a 4 PM  \n",
    "Sábado: 8 - 12"
   ]
  },
  {
   "cell_type": "markdown",
   "id": "935a5567",
   "metadata": {
    "slideshow": {
     "slide_type": "slide"
    }
   },
   "source": [
    "## Dificultades de aprendizaje detectados durante la clase"
   ]
  },
  {
   "cell_type": "markdown",
   "id": "3bd7500d",
   "metadata": {
    "slideshow": {
     "slide_type": "slide"
    }
   },
   "source": []
  },
  {
   "cell_type": "markdown",
   "id": "fb9402bb",
   "metadata": {
    "slideshow": {
     "slide_type": "slide"
    }
   },
   "source": [
    "## Estrategias propuestas para la solución de las dificultades de aprendizaje detectadas"
   ]
  },
  {
   "cell_type": "markdown",
   "id": "d437294b",
   "metadata": {
    "slideshow": {
     "slide_type": "slide"
    }
   },
   "source": []
  },
  {
   "cell_type": "markdown",
   "id": "d11570a2",
   "metadata": {
    "slideshow": {
     "slide_type": "slide"
    }
   },
   "source": []
  },
  {
   "cell_type": "markdown",
   "id": "319f2ffa",
   "metadata": {
    "slideshow": {
     "slide_type": "slide"
    }
   },
   "source": [
    "## Grabaciones en audio para fomentar la capacidad de memorizar enunciados de teoremas y resultados científicos y la capacidad de parafrasear estos resultados. Y así desarrollar memoria muscular para los comandos comunes. \n",
    "Se dispondrá de un lugar en Vocaroo para albergar archivos de audio de fomento a la memorización, enunciación y parafraseo de los resultados científicos, propiedades, reglas, etc. \n",
    "\n",
    "[Vocaroo](https://vocaroo.com/)\n",
    "\n"
   ]
  },
  {
   "cell_type": "markdown",
   "id": "564fa59d",
   "metadata": {
    "slideshow": {
     "slide_type": "slide"
    }
   },
   "source": [
    "### Comparta sus cuadernos y videos, evidencias de su aprendizaje [aquí](https://forms.office.com/Pages/ResponsePage.aspx?id=IefhmYRxjkmK_7KtTlPBwkanXIs1i1FEujpsZgO6dXpUMEMwTEZVMzEwVVBPTElWNVg5OVEyWUhMUy4u)"
   ]
  },
  {
   "cell_type": "markdown",
   "id": "1a1a3e41",
   "metadata": {
    "slideshow": {
     "slide_type": "slide"
    }
   },
   "source": []
  },
  {
   "cell_type": "markdown",
   "id": "10bce0d0",
   "metadata": {
    "slideshow": {
     "slide_type": "slide"
    }
   },
   "source": [
    "## Referentes "
   ]
  },
  {
   "cell_type": "markdown",
   "id": "1db3c468",
   "metadata": {
    "slideshow": {
     "slide_type": "slide"
    }
   },
   "source": [
    "* Chollet, F. (2021). Deep learning with Python. Simon and Schuster.  \n",
    "  \n",
    "* [stewart precálculo](https://udeaeduco-my.sharepoint.com/:b:/g/personal/marco_canas_udea_edu_co/ERHIq62I6qFNrmxy6LZb8ZMBci7kUsyNME1nIh9yCBMJ_w?e=0zMSla)  \n",
    "\n",
    "* [stewart cálculo](https://udeaeduco-my.sharepoint.com/:b:/g/personal/marco_canas_udea_edu_co/EZgXZjAp8QxPqOAim2hs6LcBNPLGjSHf-xwYnUVYkwa04w?e=RZdTCy)  \n",
    "\n",
    "* [larson](https://udeaeduco-my.sharepoint.com/:b:/g/personal/marco_canas_udea_edu_co/ES71ChFeO9ZDhW3TwC5Ijk8BjxUK3Pdqz_fjHxTTFAfIAg?e=VDEjfu)\n",
    "\n",
    "* [uzcategui](https://udeaeduco-my.sharepoint.com/:b:/g/personal/marco_canas_udea_edu_co/ETDikm-lVl1Or8XoEo9oyh0BEti9Zs8le-f0D-dBdtZmbA?e=bBsoyQ)\n",
    "\n",
    "* [Cálculo de Purcell](https://udeaeduco-my.sharepoint.com/:b:/g/personal/marco_canas_udea_edu_co/ES60UB4h-QFFqqRQUFmkpWcBIgoLBJeqTfZjNajWNWSeJA?e=9NxjKJ)\n",
    "\n",
    "* [Recomendación de la UNESCO sobre ciencia abierta](https://unesdoc.unesco.org/ark:/48223/pf0000379949_spa)\n",
    "\n",
    "* [Fórmulas más comunes en latex](https://wiki.geogebra.org/es/C%C3%B3digo_LaTeX_para_las_f%C3%B3rmulas_m%C3%A1s_comunes) \n",
    "\n",
    "* [chatGPT](https://openai.com/blog/chatgpt)  \n",
    "\n",
    "* Géron, A. (2017). Hands-on machine learning with scikit-learn and tensorflow: Concepts. Tools, and Techniques to build intelligent systems.[Geron, Aurelien. Hands on Machine Learning](https://udeaeduco-my.sharepoint.com/:b:/g/personal/marco_canas_udea_edu_co/Ecet27yjQzZIlT1Y_Bc2erkBUhbeYuIe6HG8i1FYZRlZww?e=dlvZ4v)  \n",
    "\n",
    "* McKinney, W. (2012). Python for data analysis: Data wrangling with Pandas, NumPy, and IPython. \" O'Reilly Media, Inc.\".[Wes Mackinney. ](https://udeaeduco-my.sharepoint.com/:b:/g/personal/marco_canas_udea_edu_co/EVbi5JIeBl9ErbiUnZfGe8YBhNTnZ8sxTK5hjIOPK4UpGw?e=fFclah)  \n",
    "\n",
    "* [Ledezma, C., Font, V., & Sala-Sebastià, G. MODELIZACIÓN MATEMÁTICA DESDE UNA ARTICULACIÓN TEÓRICA ENTRE LOS ENFOQUES COGNITIVO Y ONTO-SEMIÓTICO.](https://www.researchgate.net/profile/Carlos-Ledezma-4/publication/376076920_Modelizacion_matematica_desde_una_articulacion_teorica_entre_los_enfoques_cognitivo_y_onto-semiotico/links/6568cb363fa26f66f43b292a/Modelizacion-matematica-desde-una-articulacion-teorica-entre-los-enfoques-cognitivo-y-onto-semiotico.pdf)"
   ]
  },
  {
   "cell_type": "markdown",
   "id": "45c59aa9",
   "metadata": {},
   "source": [
    "[Autoevaluemonos para hacernos concientes de nuestro aprendizaje y en lo que debemos enfocarnos en mejorar]()  \n",
    "\n",
    "Aquí tienes una lista de preguntas de selección múltiple para una autoevaluación en un curso de cálculo con un enfoque pedagógico de aula invertida. Estas preguntas abarcan los objetivos de desarrollo del pensamiento variacional, pensamiento computacional a través de Python, capacidad de comunicación científica con LaTeX, Git y el uso de cuadernos Jupyter, así como la promoción de políticas de ciencia libre. \n",
    "\n",
    "1. **Pensamiento Variacional:**\n",
    "   a. ¿Qué significa el término \"variación\" en el contexto del pensamiento variacional?\n",
    "   b. ¿Cómo se relaciona el cálculo con el pensamiento variacional?\n",
    "   c. ¿Puede proporcionar un ejemplo práctico que ilustre el concepto de variación en un problema de cálculo?\n",
    "\n",
    "2. **Pensamiento Computacional (Python):**\n",
    "   a. ¿Cuál es el propósito principal de utilizar Python en un curso de cálculo?\n",
    "   b. ¿Cómo se puede utilizar Python para resolver problemas matemáticos complejos?\n",
    "   c. Menciona al menos dos ventajas de usar Python en comparación con otros lenguajes de programación en el contexto del cálculo.\n",
    "\n",
    "3. **Comunicación Científica (LaTeX):**\n",
    "   a. ¿Por qué es importante utilizar LaTeX para la comunicación científica en matemáticas y ciencias?\n",
    "   b. Enumera al menos tres comandos básicos de LaTeX utilizados para escribir ecuaciones matemáticas.\n",
    "   c. ¿Cómo mejorarías la presentación visual de una fórmula matemática utilizando LaTeX?\n",
    "\n",
    "4. **Gestión de Versiones (Git):**\n",
    "   a. ¿Cuál es el propósito principal de utilizar Git en el desarrollo de proyectos científicos?\n",
    "   b. Explica el concepto de \"commit\" en Git.\n",
    "   c. ¿Cómo resolverías un conflicto de fusión (merge conflict) en Git?\n",
    "\n",
    "5. **Cuadernos Jupyter:**\n",
    "   a. ¿Cuáles son las ventajas de utilizar cuadernos Jupyter en comparación con otros entornos de desarrollo?\n",
    "   b. Describe cómo se integra el código Python y la documentación en un cuaderno Jupyter.\n",
    "   c. ¿Cómo compartirías un cuaderno Jupyter con tus compañeros de clase utilizando GitHub?\n",
    "\n",
    "6. **Promoción de Políticas de Ciencia Libre:**\n",
    "   a. ¿Cuáles son los beneficios de utilizar plataformas como GitHub y YouTube para compartir recursos científicos?\n",
    "   b. ¿Cómo podrías contribuir a la promoción de la ciencia libre en tu comunidad académica?\n",
    "   c. ¿Por qué es importante la transparencia y accesibilidad en la investigación científica?\n",
    "\n",
    "Estas preguntas están diseñadas para evaluar la comprensión de los estudiantes en diversos aspectos del curso, abarcando desde los conceptos matemáticos hasta las habilidades tecnológicas y la conciencia sobre la ciencia libre."
   ]
  },
  {
   "cell_type": "markdown",
   "id": "8e65d6f9",
   "metadata": {},
   "source": [
    "# Como estudiante, encuentro que...   \n",
    "\n",
    "F: Mis Fortalezas son:     \n",
    "O: Mis Oportunidades son:    \n",
    "D: Mis Debilidades son:    \n",
    "A: Lo que Amenazas mi aprendizaje es:  "
   ]
  },
  {
   "cell_type": "markdown",
   "id": "6b9e56a8",
   "metadata": {
    "slideshow": {
     "slide_type": "slide"
    }
   },
   "source": [
    "### [Evaluamos al profesor Marco Cañas Aquí](https://forms.office.com/Pages/ResponsePage.aspx?id=IefhmYRxjkmK_7KtTlPBwkanXIs1i1FEujpsZgO6dXpUREJPV1kxUk1JV1ozTFJIQVNIQjY5WEY3US4u)"
   ]
  },
  {
   "cell_type": "markdown",
   "id": "050b9508",
   "metadata": {},
   "source": [
    "# Aportes de mis estudiantes a la metodología del curso  \n",
    "1. \n",
    "\n",
    "Sus opiniones y aportes son muy importantes para mi. Pues esta es una investigación educativa y un servicio de enseñanza para ustedes. Ustedes son la razón de ser de mi actividad docente. Dios los bendiga. "
   ]
  },
  {
   "cell_type": "markdown",
   "id": "6c4af91f",
   "metadata": {},
   "source": [
    "# Aportes de mis colegas docentes a la metodología que estoy aplicando en mis cursos. "
   ]
  },
  {
   "cell_type": "markdown",
   "id": "071afa04",
   "metadata": {
    "slideshow": {
     "slide_type": "slide"
    }
   },
   "source": [
    "## [Evaluación luego de alcanzar estos objetivos de aprendizaje]()"
   ]
  },
  {
   "cell_type": "markdown",
   "id": "10f43536",
   "metadata": {
    "slideshow": {
     "slide_type": "slide"
    }
   },
   "source": [
    "### Continue su aprendizaje en la siguiente clase a través del siguiente [vínculo]()"
   ]
  },
  {
   "cell_type": "markdown",
   "id": "af751e30",
   "metadata": {
    "slideshow": {
     "slide_type": "slide"
    }
   },
   "source": [
    "# Conjeturas pedagógicas fruto de la aplicación del modelo de aprendizaje invertido y del enfoque hacia la ciencia de datos con python\n",
    "\n",
    "1. Todo cálculo o resultado debe ser interpretado en una línea markdown del cuaderno Jupyter, inmediatamente después de la enunciación del resultado y después de la presentación de una tabla o gráfico bidimensional, de tal menera que el estudiante explicite la comprensión verbal del resultado y las inferencias o estrategias que este resultado le sugieren.  \n",
    "\n",
    "2. Debo colocar las conjeturas pedagógicas, que el uso en el aula de [ChatGPT](https://openai.com/blog/chatgpt/) traiga para la enseñanza y el aprendizaje de las matemáticas. \n",
    "\n",
    "3. Promover ciencia abierta en clase de matemáticas puede ser pidiendo a los estudiantes, tomar nota en clase pero en cuadernos Jupyter y entregar siempre al final de cada clase su cuaderno con todas las notas y experimentaciones de clase replicadas. \n",
    "4. Profesor Marco, ¿ha contemplado la posibilidad de intercambio de experiencias de aprendizaje y aplicación de Python al día a día con comfama? (Estudio Trabajo Social y allí, en comfama, aprendí los fundamentos, lo básico de Python)\n",
    "\n",
    "¿Conoce si en la Universidad de Antioquia hay medios para poder aprender Swift/XCODE? (Para programar para dispositivos de Apple)\n",
    "5. Debo considerar la metodología ABP, es decir, diseñar las clase bajo la metodología de Aprendizaje Basado en Problemas. \n",
    "\n"
   ]
  },
  {
   "cell_type": "markdown",
   "id": "53cc9115",
   "metadata": {
    "slideshow": {
     "slide_type": "slide"
    }
   },
   "source": [
    "## Agradecimientos  \n",
    "\n",
    "Doy gracias a Dios por la vida de mi Hijo Joseph Cañas Osorio y la madurez que ha alcanzado.\n",
    "\n",
    "Y a mi esposa Yasmira por su apoyo, orientación y acompañamiento. "
   ]
  }
 ],
 "metadata": {
  "celltoolbar": "Slideshow",
  "kernelspec": {
   "display_name": "Python 3 (ipykernel)",
   "language": "python",
   "name": "python3"
  },
  "language_info": {
   "codemirror_mode": {
    "name": "ipython",
    "version": 3
   },
   "file_extension": ".py",
   "mimetype": "text/x-python",
   "name": "python",
   "nbconvert_exporter": "python",
   "pygments_lexer": "ipython3",
   "version": "3.10.12"
  },
  "rise": {
   "enable_chalkboard": true,
   "theme": "sky",
   "transition": "zoom"
  }
 },
 "nbformat": 4,
 "nbformat_minor": 5
}

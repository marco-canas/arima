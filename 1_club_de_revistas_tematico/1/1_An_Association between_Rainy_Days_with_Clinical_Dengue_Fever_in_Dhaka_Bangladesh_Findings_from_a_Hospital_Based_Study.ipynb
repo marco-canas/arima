{
 "cells": [
  {
   "cell_type": "markdown",
   "id": "dc06dec7",
   "metadata": {
    "slideshow": {
     "slide_type": "slide"
    }
   },
   "source": [
    "<table align=\"left\">\n",
    "  <td>\n",
    "    <a href=\"https://colab.research.google.com/github/marco-canas/investigacion_d/blob/main/1_club_de_revistas_tematico/1/1_An_Association%20between_Rainy_Days_with_Clinical_Dengue_Fever_in_Dhaka_Bangladesh_Findings_from_a_Hospital_Based_Study.ipynb\" target=\"_parent\"><img src=\"https://colab.research.google.com/assets/colab-badge.svg\" alt=\"Open In Colab\"/></a>\n",
    "  </td>\n",
    "  <td>\n",
    "    <a target=\"_blank\" href=\"https://kaggle.com/kernels/welcome?src=https://github.com/marco-canas/investigacion_d/blob/main/1_club_de_revistas_tematico/1/1_An_Association%20between_Rainy_Days_with_Clinical_Dengue_Fever_in_Dhaka_Bangladesh_Findings_from_a_Hospital_Based_Study.ipynb\"><img src=\"https://kaggle.com/static/images/open-in-kaggle.svg\" /></a>\n",
    "  </td>\n",
    "</table>"
   ]
  },
  {
   "cell_type": "markdown",
   "id": "e0c5b198",
   "metadata": {
    "slideshow": {
     "slide_type": "slide"
    }
   },
   "source": [
    "### [Video de apoyo a la lectura interactiva y experimental de este cuaderno]()"
   ]
  },
  {
   "cell_type": "markdown",
   "id": "41e82203",
   "metadata": {
    "slideshow": {
     "slide_type": "slide"
    }
   },
   "source": [
    "## [Vínculo al programa del curso de Machine Learning and deep learning for Time Series:  ](https://github.com/marco-canas/investigacion_d/blob/main/7_plan_curso_machine_learning_and_deep_learning_for_time_series/plan%20del%20curso_machine_learning_and_deep_learning_for_time_series.docx)\n",
    "\n"
   ]
  },
  {
   "cell_type": "markdown",
   "id": "d11ab06d",
   "metadata": {
    "slideshow": {
     "slide_type": "slide"
    }
   },
   "source": [
    "Un reconocimiento a mis estudiantes que han construido conmigo este saber pedagógico:\n",
    "\n",
    "<img src = 'https://github.com/marco-canas/didactica_ciencia_datos/blob/main/4_images/2_images_of_students/estefa_giovani_janis_marco_jullio.jpg?raw=true' width = 400> \n",
    "\n"
   ]
  },
  {
   "cell_type": "markdown",
   "id": "ae9860dc",
   "metadata": {},
   "source": [
    "# Cómo mejorar cada día la propuesta didáctica y pedagógica para enseñanza de la matemática\n"
   ]
  },
  {
   "cell_type": "markdown",
   "id": "1014ce5d",
   "metadata": {},
   "source": [
    "\n",
    "Para estructurar una propuesta pedagógica y didáctica centrada en: \n",
    "*  mostrar la matemática como un conjunto de **lenguajes** que ayudan a la comunicación científica y cotidiana, y \n",
    "* la promoción del inglés, el lenguaje Markdown, el lenguaje Latex, el lenguaje Python en los cuadernos Jupyter, y \n",
    "* adoptar un enfoque pedagógico de aula invertida y una metodología de clase basada en problemas (ABP),  \n",
    "  \n",
    "puedes seguir los siguientes pasos:\n"
   ]
  },
  {
   "cell_type": "markdown",
   "id": "19b90db0",
   "metadata": {},
   "source": [
    "\n",
    "1. **Diagnóstico de necesidades:**\n",
    "   - Realiza un análisis detallado de las necesidades y habilidades de los estudiantes en matemáticas, inglés y tecnología.\n",
    "   - Identifica las áreas de dificultad y las áreas en las que los estudiantes muestran interés.\n"
   ]
  },
  {
   "cell_type": "markdown",
   "id": "4a85e2ae",
   "metadata": {},
   "source": [
    "\n",
    "2. **Definición de objetivos:**\n",
    "   - Establece objetivos claros y alcanzables que integren el aprendizaje de matemáticas, inglés y tecnología.\n",
    "   - Los objetivos deben centrarse en mejorar la comprensión de conceptos matemáticos, desarrollar habilidades en inglés y fomentar la competencia en el uso de herramientas tecnológicas.\n"
   ]
  },
  {
   "cell_type": "markdown",
   "id": "c1174613",
   "metadata": {},
   "source": [
    "\n",
    "3. **Diseño de actividades y recursos:**\n",
    "   - Diseña actividades interactivas y colaborativas que permitan a los estudiantes explorar conceptos matemáticos a través del uso de cuadernos Jupyter, Python y Markdown.\n",
    "   - Incorpora lecturas y ejercicios en inglés relacionados con conceptos matemáticos para fortalecer el vocabulario y la comprensión del idioma.\n",
    "   - Utiliza recursos multimedia, como videos y tutoriales en línea, para apoyar el aprendizaje autónomo de los estudiantes.\n"
   ]
  },
  {
   "cell_type": "markdown",
   "id": "94eb1010",
   "metadata": {},
   "source": [
    "\n",
    "4. **Implementación del enfoque pedagógico de aula invertida:**\n",
    "   - Proporciona a los estudiantes acceso a materiales de aprendizaje antes de la clase, como cuadernos Jupyter con ejercicios y lecturas en inglés.\n",
    "   - Utiliza el tiempo en clase para actividades prácticas y colaborativas, donde los estudiantes puedan aplicar los conceptos aprendidos, resolver problemas y discutir en grupos.\n"
   ]
  },
  {
   "cell_type": "markdown",
   "id": "75dda2d1",
   "metadata": {},
   "source": [
    "\n",
    "5. **Metodología de clase basada en problemas (ABP):**\n",
    "   - Plantea problemas y desafíos relacionados con situaciones reales que requieran el uso de conceptos matemáticos, el inglés y la tecnología para su solución.\n",
    "   - Fomenta la participación activa de los estudiantes en la resolución de problemas, la discusión de estrategias y la presentación de soluciones.\n"
   ]
  },
  {
   "cell_type": "markdown",
   "id": "f5262339",
   "metadata": {},
   "source": [
    "\n",
    "6. **Evaluación y retroalimentación:**\n",
    "   - Implementa un sistema de evaluación formativa que permita monitorear el progreso de los estudiantes de manera continua.\n",
    "   - Proporciona retroalimentación individualizada y oportunidades para la reflexión sobre el aprendizaje y el desarrollo de habilidades.\n"
   ]
  },
  {
   "cell_type": "markdown",
   "id": "7bb4e865",
   "metadata": {},
   "source": [
    "\n",
    "7. **Mejora continua:**\n",
    "   - Recopila retroalimentación de los estudiantes y realiza ajustes en el plan de enseñanza según sea necesario.\n",
    "   - Mantente al tanto de las nuevas tendencias y herramientas en matemáticas, tecnología y enseñanza de idiomas para seguir mejorando la propuesta pedagógica y didáctica.\n"
   ]
  },
  {
   "cell_type": "markdown",
   "id": "4dbe7644",
   "metadata": {},
   "source": [
    "\n",
    "Al seguir estos pasos, podrás estructurar una propuesta pedagógica y didáctica efectiva que integre la enseñanza de matemáticas, inglés y tecnología, y promueva el aprendizaje significativo y el desarrollo de habilidades clave en los estudiantes de la licenciatura en matemáticas."
   ]
  },
  {
   "cell_type": "code",
   "execution_count": null,
   "id": "7604880f",
   "metadata": {
    "slideshow": {
     "slide_type": "slide"
    }
   },
   "outputs": [],
   "source": [
    "# Llamar a lista o tomar asistencia con python \n",
    "\n",
    "import pandas as pd # convertir la lista de estudiantes en un dataframe\n",
    "import numpy as np # elección aleatoria\n",
    "\n",
    "# Cargar la lista de estudiantes desde la URL\n",
    "url = 'https://raw.githubusercontent.com/marco-canas/groups_list/main/ml.csv'\n",
    "estudiantes = pd.read_csv(url) # convierte el csv en una dataframe\n",
    "\n",
    "# Convertir la columna 'Nombre' a una lista de Python\n",
    "lista_estudiantes = estudiantes['Nombre'].tolist()\n",
    "\n",
    "# Función para llamar a un estudiante aleatoriamente y registrar su nota de seguimiento\n",
    "def llamar_estudiante():\n",
    "    if lista_estudiantes:\n",
    "        estudiante_aleatorio = np.random.choice(lista_estudiantes)\n",
    "        print(f\"Llamando a {estudiante_aleatorio}...\")\n",
    "        lista_estudiantes.remove(estudiante_aleatorio)\n",
    "    else:\n",
    "        print(\"Se han llamado a todos los estudiantes del grupo completo.\")\n"
   ]
  },
  {
   "cell_type": "code",
   "execution_count": 2,
   "id": "d60b2bf1",
   "metadata": {},
   "outputs": [
    {
     "name": "stdout",
     "output_type": "stream",
     "text": [
      "Llamando a ATENCIA LOBO MARIANA...\n"
     ]
    }
   ],
   "source": [
    "\n",
    "# Llamar a la función para realizar el proceso\n",
    "llamar_estudiante()\n"
   ]
  },
  {
   "cell_type": "markdown",
   "id": "4f9d8cf9",
   "metadata": {
    "slideshow": {
     "slide_type": "slide"
    }
   },
   "source": [
    "# Modelo general de clase: [aula invertida](https://www3.gobiernodecanarias.org/medusa/ecoescuela/pedagotic/aprendizaje-invertido-flipped-classroom/)"
   ]
  },
  {
   "cell_type": "markdown",
   "id": "eb6ed03a",
   "metadata": {},
   "source": [
    "![Definamos flipped learning de manera gráfica](https://resources.maneuveringthemiddle.com/wp-content/uploads/2020/07/04212706/1-5.png)"
   ]
  },
  {
   "cell_type": "markdown",
   "id": "8d97dc80",
   "metadata": {
    "slideshow": {
     "slide_type": "slide"
    }
   },
   "source": [
    "## Fomento de la lectura literaria asociada a Ingeniería agropecuaria y licenciatura en Matemáticas\n",
    "\n"
   ]
  },
  {
   "cell_type": "markdown",
   "id": "96775931",
   "metadata": {
    "slideshow": {
     "slide_type": "slide"
    }
   },
   "source": [
    "## Título de la clase: Article: An Association between Rainy Days with Clinical Dengue Fever in Dhaka, Bangladesh: Findings from a Hospital Based Study\n",
    "\n",
    "[]()"
   ]
  },
  {
   "cell_type": "markdown",
   "id": "1d38dd4e",
   "metadata": {
    "slideshow": {
     "slide_type": "slide"
    }
   },
   "source": [
    "### Objetivo de aprendizaje (Enunciar, de manera corta sencilla y clara para todos los asistentes)\n",
    " De ahora en adelante, las clase tendran 4 objetivos de clase de acuerdo a las 4 dimensiones de mi práctica pedagógica\n",
    "\n",
    " \n"
   ]
  },
  {
   "cell_type": "markdown",
   "id": "1365025c",
   "metadata": {},
   "source": [
    "1. Conocimiento Teórico de Matemáticas\n",
    "\n",
    "Indicadores:\n",
    "\n",
    "* Comprensión de conceptos fundamentales de cálculo diferencial.\n",
    "* Capacidad para resolver ecuaciones diferenciales.\n",
    "* Habilidad para derivar funciones complejas.\n",
    "* Capacidad de leer, escribir e interpretar utilizando la notación y terminología matemática propia de esta clase.\n",
    "* Capacidad para aplicar resultados científicos en problemas.\n"
   ]
  },
  {
   "cell_type": "markdown",
   "id": "e56faf16-5278-4156-98ca-e8fac2180935",
   "metadata": {},
   "source": [
    "2. Habilidad en Programación con Python\n",
    "\n",
    "Indicadores:\n",
    "\n",
    "* Capacidad para escribir y ejecutar scripts básicos en Python.\n",
    "* Comprensión y uso de estructuras de control (condicionales, bucles).\n",
    "* Uso de funciones y módulos en Python.\n",
    "* Manejo de estructuras de datos (listas, diccionarios, tuplas).\n",
    "* Habilidad para depurar y solucionar errores en el código.\n",
    "* Uso de bibliotecas matemáticas como NumPy y SymPy."
   ]
  },
  {
   "cell_type": "markdown",
   "id": "8ca957be-fd66-4020-8d4e-7232386ea5c1",
   "metadata": {},
   "source": [
    "3. Pensamiento Computacional\n",
    "\n",
    "Indicadores:\n",
    "\n",
    "* Capacidad para descomponer problemas complejos en subproblemas manejables.\n",
    "* Habilidad para diseñar algoritmos eficientes para resolver problemas específicos.\n",
    "* Comprensión de la lógica detrás de las estructuras de control y su aplicación en la programación.\n",
    "* Capacidad para abstraer conceptos matemáticos en soluciones programables.\n",
    "* Habilidad para identificar y aplicar patrones en la resolución de problemas."
   ]
  },
  {
   "cell_type": "markdown",
   "id": "1a57907e",
   "metadata": {},
   "source": [
    "\n",
    "4. Aplicación de Matemáticas en Problemas Reales\n",
    "\n",
    "Indicadores:\n",
    "\n",
    "* Capacidad para modelar situaciones reales utilizando funciones matemáticas.\n",
    "    Habilidad para implementar soluciones matemáticas en código Python para resolver problemas prácticos.\n",
    "    Comprensión de cómo interpretar los resultados obtenidos mediante simulaciones o cálculos computacionales.\n",
    "    Uso de Python para la visualización de datos y resultados matemáticos.\n",
    "    Capacidad para integrar conocimientos matemáticos y de programación en proyectos interdisciplinarios."
   ]
  },
  {
   "cell_type": "markdown",
   "id": "540f0ec1",
   "metadata": {
    "slideshow": {
     "slide_type": "slide"
    }
   },
   "source": [
    "## Cuestionario para realizar labores de memorización, observación y síntesis de la información (Además de diagnóstico)  \n",
    "[Realizar encuesta para participacion de todos los estudiantes para diagnosticar presaberes para la clase: mentimeter](https://www.mentimeter.com/es-ES/education/lectures)\n",
    "\n",
    "1. ¿?\n",
    "2. ¿?\n",
    "3. ¿?\n",
    "4. ¿?\n",
    "5. ¿?"
   ]
  },
  {
   "cell_type": "markdown",
   "id": "8e457ea2",
   "metadata": {},
   "source": [
    "# Definiciones y Resultados científicos a comprender y memorizar \n",
    "\n",
    "[Primera grabación en Vocaroo]()"
   ]
  },
  {
   "cell_type": "markdown",
   "id": "ca7261b1",
   "metadata": {
    "slideshow": {
     "slide_type": "slide"
    }
   },
   "source": [
    "## Establecimiento de prerrequisitos conceptuales para alcanzar el objetivo de aprendizaje trazado.   \n",
    "\n",
    "(Elabore una lista de preguntas al rededor de los conceptos que consideres necesarios para empezar la clase).  \n",
    "\n",
    "1. \n",
    "2. \n",
    "3. "
   ]
  },
  {
   "cell_type": "markdown",
   "id": "2298e976",
   "metadata": {
    "slideshow": {
     "slide_type": "slide"
    }
   },
   "source": [
    "# Para el diseño de la clase tenga en cuenta algunos problemas de aprendizaje"
   ]
  },
  {
   "cell_type": "markdown",
   "id": "523d3acf",
   "metadata": {
    "slideshow": {
     "slide_type": "slide"
    }
   },
   "source": []
  },
  {
   "cell_type": "markdown",
   "id": "a40a4704",
   "metadata": {
    "slideshow": {
     "slide_type": "slide"
    }
   },
   "source": [
    "## Secuencia conceptual introductoria a la clase"
   ]
  },
  {
   "cell_type": "markdown",
   "id": "8853d874",
   "metadata": {},
   "source": [
    "## El componente histórico y epistemológico"
   ]
  },
  {
   "cell_type": "markdown",
   "id": "97cb775c-ad52-4e27-90a4-1006edbfc3ea",
   "metadata": {},
   "source": [
    "# Vocabulary  \n",
    "\n"
   ]
  },
  {
   "cell_type": "code",
   "execution_count": null,
   "id": "0a8f3fda-8b13-4a66-b160-e11107be8197",
   "metadata": {},
   "outputs": [],
   "source": [
    "# Traducción del inglés al español con python\n",
    "\n",
    "def traducir(text):\n",
    "    from googletrans import Translator\n",
    "\n",
    "    translator = Translator()\n",
    "\n",
    "    # Traducir al español\n",
    "    translation = translator.translate(text, src='en', dest='es')\n",
    "    return translation.text"
   ]
  },
  {
   "cell_type": "code",
   "execution_count": null,
   "id": "04a12f75-2da8-4fa7-9614-7f593a2557d0",
   "metadata": {},
   "outputs": [
    {
     "data": {
      "text/plain": [
       "'Hola'"
      ]
     },
     "execution_count": 9,
     "metadata": {},
     "output_type": "execute_result"
    }
   ],
   "source": [
    "traducir('hi')"
   ]
  },
  {
   "cell_type": "code",
   "execution_count": 17,
   "id": "3db51219",
   "metadata": {},
   "outputs": [
    {
     "data": {
      "text/plain": [
       "'/home/marco/Documentos/investigacion/investigacion_d/3_images/Estudio sobre Dengue y Lluvias en Dhaka.pdf'"
      ]
     },
     "execution_count": 17,
     "metadata": {},
     "output_type": "execute_result"
    }
   ],
   "source": [
    "# mapa conceptual para cada clase  \n",
    "from graphviz import Digraph\n",
    "\n",
    "# Crear un objeto Digraph\n",
    "dot = Digraph(comment='Mapa Conceptual del Artículo')\n",
    "\n",
    "# Nodo principal\n",
    "dot.node('A', 'Estudio sobre Dengue y Lluvias en Dhaka')\n",
    "\n",
    "# Nodos secundarios\n",
    "dot.node('B', 'Introducción')\n",
    "dot.node('C', 'Métodos')\n",
    "dot.node('D', 'Resultados')\n",
    "dot.node('E', 'Conclusiones')\n",
    "\n",
    "# Conexiones principales\n",
    "dot.edges(['AB', 'AC', 'AD', 'AE'])\n",
    "\n",
    "# Detalles de la Introducción\n",
    "dot.node('B1', 'Dengue: Enfermedad febril')\n",
    "dot.node('B2', 'Transmisión: Aedes aegypti y Aedes albopictus')\n",
    "dot.node('B3', 'Estacionalidad y Clima')\n",
    "\n",
    "# Corregir las conexiones de la Introducción\n",
    "dot.edges([('B', 'B1'), ('B', 'B2'), ('B', 'B3')])\n",
    "\n",
    "# Detalles de los Métodos\n",
    "dot.node('C1', 'Zona-5, DCC, Dhaka')\n",
    "dot.node('C2', 'Datos hospitalarios (2005-2009)')\n",
    "dot.node('C3', 'Variables climáticas: Temperatura, Lluvia, Humedad')\n",
    "dot.node('C4', 'Modelos ARIMA y Regresión de Poisson')\n",
    "\n",
    "# Conexiones de los Métodos\n",
    "dot.edges([('C', 'C1'), ('C', 'C2'), ('C', 'C3'), ('C', 'C4')])\n",
    "\n",
    "# Detalles de los Resultados\n",
    "dot.node('D1', 'Casos hospitalizados: 1902')\n",
    "dot.node('D2', 'Pico en Agosto')\n",
    "dot.node('D3', 'Días lluviosos aumentan casos en el mes siguiente')\n",
    "\n",
    "# Conexiones de los Resultados\n",
    "dot.edges([('D', 'D1'), ('D', 'D2'), ('D', 'D3')])\n",
    "\n",
    "# Detalles de las Conclusiones\n",
    "dot.node('E1', 'Dengue durante todo el año')\n",
    "dot.node('E2', 'Asociación significativa con días lluviosos')\n",
    "dot.node('E3', 'Recomendación: Iniciar campañas en Mayo')\n",
    "\n",
    "# Conexiones de las Conclusiones\n",
    "dot.edges([('E', 'E1'), ('E', 'E2'), ('E', 'E3')])\n",
    "\n",
    "\n",
    "# Guardar el grafo como un archivo de imagen\n",
    "dot.render(filename='Estudio sobre Dengue y Lluvias en Dhaka', format='png', cleanup=True, \\\n",
    "           directory='/home/marco/Documentos/investigacion/investigacion_d/3_images')\n",
    "\n",
    "dot.view()\n"
   ]
  },
  {
   "cell_type": "markdown",
   "id": "181ab032-16db-4259-8b73-d6e44d66d103",
   "metadata": {},
   "source": [
    "# Article: An Association between Rainy Days with Clinical Dengue Fever in Dhaka, Bangladesh: Findings from a Hospital Based Study  \n",
    "\n",
    "Artículo: Una asociación entre días lluviosos con fiebre clínica por Dengue en Dhaka, Bangladesh: hallazgos de un estudio en el hospital."
   ]
  },
  {
   "cell_type": "code",
   "execution_count": 6,
   "id": "2da5b231-8b5b-40f7-80b5-9db4a62c1908",
   "metadata": {},
   "outputs": [
    {
     "data": {
      "text/plain": [
       "'Nuestro objetivo fue identificar la influencia de la variabilidad climática en la aparición del dengue clínico que requiere hospitalización en la Zona 5, un área de alta incidencia de la Corporación de la Ciudad de Dhaka (DCC), Bangladesh.'"
      ]
     },
     "execution_count": 6,
     "metadata": {},
     "output_type": "execute_result"
    }
   ],
   "source": [
    "traducir_texto(\"\"\"We aimed to identify the influence of climatic variability on the occurrence of clinical dengue requiring hospitalization in Zone-5, a high incidence area of Dhaka City Corporation (DCC), Bangladesh.   \n",
    "\"\"\")"
   ]
  },
  {
   "cell_type": "markdown",
   "id": "10710a8d-7ccb-4a74-9c13-d2b80b18fa59",
   "metadata": {},
   "source": [
    "# Article: An Association between Rainy Days with Clinical Dengue Fever in Dhaka, Bangladesh: Findings from a Hospital Based Study"
   ]
  },
  {
   "cell_type": "markdown",
   "id": "45e9939b-8097-480d-9691-96331c2cf8d6",
   "metadata": {},
   "source": [
    "### Abstract:   "
   ]
  },
  {
   "cell_type": "markdown",
   "id": "0827a5bf-6b24-47fd-844b-97c98d63826f",
   "metadata": {},
   "source": [
    "Background: Dengue, a febrile illness, is caused by a Flavivirus transmitted by Aedes aegypti and Aedes albopictus mosquitoes. Climate influences the ecology of the vectors.   \n",
    "\n",
    "Antecedentes: el dengue, una enfermedad febril, es causada por un flavivirus transmitido por mosquitos Aedes aegypti y Aedes albopictus.El clima influye en la ecología de los vectores  \n",
    "\n",
    "<img src = 'https://encrypted-tbn0.gstatic.com/images?q=tbn:ANd9GcQ1B23JjIUrNEwVmsEbT3l6ksT34mKH8f8cdg&s'>"
   ]
  },
  {
   "cell_type": "markdown",
   "id": "8339d99c-b49c-4de0-97f9-22a028b8a35e",
   "metadata": {},
   "source": [
    "We aimed to identify the influence of climatic variability on the occurrence of clinical dengue requiring hospitalization in Zone-5, a high incidence area of Dhaka City Corporation (DCC), Bangladesh.   \n",
    "\n",
    "Nuestro objetivo fue identificar la influencia de la variabilidad climática en la aparición del dengue clínico que requiere hospitalización en la Zona 5, un área de alta incidencia de la Corporación de la Ciudad de Dhaka (DCC), Bangladesh."
   ]
  },
  {
   "cell_type": "markdown",
   "id": "60c143fc-d996-4154-9592-117116a0953a",
   "metadata": {},
   "source": [
    "Methods and Findings:  \n",
    "We retrospectively identified clinical dengue cases hospitalized from Zone-5 of DCC between 2005 and 2009. We extracted records of the four major catchment hospitals of the study area. The Bangladesh Meteorological Department (BMD) provided data on temperature, rainfall, and humidity of DCC for the study period.   \n",
    "\n",
    "'Métodos y hallazgos:  \n",
    "\n",
    "Identificamos retrospectivamente casos clínicos de dengue hospitalizados desde la zona 5 de DCC entre 2005 y 2009. Extrajimos registros de los cuatro hospitales de captación principales del área de estudio.El Departamento de Meteorología de Bangladesh (BMD) proporcionó datos sobre la temperatura, la lluvia y la humedad del DCC para el período de estudio.'\n"
   ]
  },
  {
   "cell_type": "code",
   "execution_count": 12,
   "id": "30eec84a-1fbd-42b7-b5ef-c474dc0ac34a",
   "metadata": {},
   "outputs": [
    {
     "data": {
      "text/plain": [
       "'Utilizamos modelos de promedio móvil integrado autorregresivo (ARIMA) para el número de hospitalizaciones mensuales de dengue.También modelamos todas las variables climáticas usando la regresión de Poisson.Durante nuestro período de estudio, el dengue ocurrió durante todo el año en la zona 5 de DCC.'"
      ]
     },
     "execution_count": 12,
     "metadata": {},
     "output_type": "execute_result"
    }
   ],
   "source": [
    "traducir('''We used autoregressive integrated moving average (ARIMA) models for the number of monthly dengue hospitalizations. We also modeled all the climatic variables using Poisson regression. During our study period, dengue occurred throughout the year in Zone-5 of DCC.''')"
   ]
  },
  {
   "cell_type": "markdown",
   "id": "b8fa94c1-bc37-4d60-aac7-48eff03b559d",
   "metadata": {},
   "source": [
    "We used autoregressive integrated moving average (ARIMA) models for the number of monthly dengue hospitalizations. We also modeled all the climatic variables using Poisson regression. During our study period, dengue occurred throughout the year in Zone-5 of DCC.  \n",
    "\n",
    "'Utilizamos modelos de promedio móvil integrado autorregresivo (ARIMA) para el número de hospitalizaciones mensuales de dengue.También modelamos todas las variables climáticas usando la regresión de Poisson. Durante nuestro período de estudio, el dengue ocurrió durante todo el año en la zona 5 de DCC.'"
   ]
  },
  {
   "cell_type": "markdown",
   "id": "881f8fa6-6f4a-4fc8-bcd2-28fc7f5aecef",
   "metadata": {},
   "source": [
    "The median number of hospitalized dengue cases was 9 per month. Dengue incidence increased sharply from June, and reached its peak in August. One additional rainy day per month increased dengue cases in the succeeding month by 6% (RR = 1.06, 95% CI: 1.04–1.09). "
   ]
  },
  {
   "cell_type": "markdown",
   "id": "a9fa7395-bebd-4416-a170-dd253eeff97b",
   "metadata": {},
   "source": [
    "Conclusions: Dengue is transmitted throughout the year in Zone-5 of DCC, with seasonal variation in incidence. The number of rainy days per month is significantly associated with dengue incidence in the subsequent month.  "
   ]
  },
  {
   "cell_type": "markdown",
   "id": "46bde9aa-9d72-4628-b86a-818ea00466c1",
   "metadata": {},
   "source": [
    "Our study suggests the initiation of campaigns in DCC for controlling dengue and other Aedes mosquito borne diseases, including Chikunguniya from the month of May each year. BMD rainfall data may be used to determine campaign timing.  "
   ]
  },
  {
   "cell_type": "markdown",
   "id": "0b04ecec-2a8b-4cd9-a594-53390b133206",
   "metadata": {},
   "source": [
    "**Keywords:** dengue; seasonal variation; year-long transmission; climatic variability; rainfall; prediction; disease control campaigns  \n",
    "\n",
    "** Palabras clave: ** dengue;la variación estacional;transmisión de un año;variabilidad climática;lluvia; predicción; Campañas de control de enfermedades"
   ]
  },
  {
   "cell_type": "code",
   "execution_count": 13,
   "id": "b1c892e3-6ff0-4e58-b06d-aae135b5b3e6",
   "metadata": {},
   "outputs": [
    {
     "data": {
      "text/plain": [
       "'** Palabras clave: ** dengue;la variación estacional;transmisión de un año;variabilidad climática;lluvia;predicción;Campañas de control de enfermedades'"
      ]
     },
     "execution_count": 13,
     "metadata": {},
     "output_type": "execute_result"
    }
   ],
   "source": [
    "traducir(\"\"\"**Keywords:** dengue; seasonal variation; year-long transmission; climatic variability; rainfall; prediction; disease control campaigns\"\"\")"
   ]
  },
  {
   "cell_type": "markdown",
   "id": "e40a2df3",
   "metadata": {},
   "source": []
  },
  {
   "cell_type": "code",
   "execution_count": null,
   "id": "bcd1cf03",
   "metadata": {},
   "outputs": [],
   "source": []
  },
  {
   "cell_type": "code",
   "execution_count": null,
   "id": "5a4e89e4",
   "metadata": {},
   "outputs": [],
   "source": []
  },
  {
   "cell_type": "code",
   "execution_count": null,
   "id": "47956535",
   "metadata": {},
   "outputs": [],
   "source": []
  },
  {
   "cell_type": "markdown",
   "id": "0d152532",
   "metadata": {},
   "source": []
  },
  {
   "cell_type": "markdown",
   "id": "d39d91de-8987-4a08-be53-5e14f6b95467",
   "metadata": {},
   "source": [
    "## Agenda del club de revistas temático para este artículo"
   ]
  },
  {
   "cell_type": "markdown",
   "id": "a8239262-02de-47cf-80ab-a5c8daae3c92",
   "metadata": {},
   "source": [
    "### Agenda for Thematic Journal Club on \"An Association between Rainy Days with Clinical Dengue Fever in Dhaka, Bangladesh\""
   ]
  },
  {
   "cell_type": "markdown",
   "id": "18a4832b-462b-401d-8505-708a419f9cba",
   "metadata": {},
   "source": [
    "**Date:** [July 24, 2024]  \n",
    "**Time:** [2:00 PM]  \n",
    "**Location:** [Entre a la reunión desde aquí]( https://meet.google.com/jpn-vacy-yve)   \n",
    "\n",
    "Seguimiento Proyecto SAT_Dengue.BCA y CR  \n",
    "Wednesday, July 24 · 2:00 – 3:00pm  \n",
    "Time zone: America/Bogota  \n",
    "Google Meet joining info  \n",
    "Video call link: https://meet.google.com/jpn-vacy-yve)  "
   ]
  },
  {
   "cell_type": "markdown",
   "id": "2f4e78ff-c6c1-44cf-aff3-e4994f037a67",
   "metadata": {},
   "source": [
    "#### 1. **Welcome and Introduction (10 minutes)**\n",
    "   - **Facilitator:** [Marco Julio Cañas Campillo]\n",
    "   - Brief introduction to the theme and importance of the study.\n",
    "   - Overview of the article: key objectives and findings."
   ]
  },
  {
   "cell_type": "markdown",
   "id": "43f682c1-8046-4d2b-9ed9-7105c884fac5",
   "metadata": {},
   "source": [
    "<img src = 'https://www.euskadi.eus/contenidos/informacion/mosquito_tigre/es_def/images/mosquito-tigre.png' width = 400> "
   ]
  },
  {
   "cell_type": "markdown",
   "id": "ab32d27c-8eb8-4fae-934d-1a2603cb32ec",
   "metadata": {},
   "source": [
    "#### 2. **Article Presentation (20 minutes)**\n",
    "   - **Presenter:** [Name]\n",
    "   - Detailed summary of the article:\n",
    "     - Background on dengue and its transmission.\n",
    "     - Study objectives and significance.\n",
    "     - Methods used for data collection and analysis.\n",
    "     - Key findings and conclusions."
   ]
  },
  {
   "cell_type": "markdown",
   "id": "99ffcabe-6269-4621-960c-0980033a5808",
   "metadata": {},
   "source": []
  },
  {
   "cell_type": "markdown",
   "id": "8c193224-a707-47f6-8ec2-cf493c71499a",
   "metadata": {
    "jp-MarkdownHeadingCollapsed": true
   },
   "source": [
    "#### 3. **Discussion on Methodology (20 minutes)**\n",
    "   - **Moderator:** [Name]\n",
    "   - Analysis of the methodology:\n",
    "     - Retrospective identification of clinical cases.\n",
    "     - Data extraction from hospitals and the Bangladesh Meteorological Department.\n",
    "     - Use of ARIMA models and Poisson regression.\n",
    "   - Questions and comments from participants."
   ]
  },
  {
   "cell_type": "markdown",
   "id": "b6870610-dce3-4f71-9a25-a526cd8aae43",
   "metadata": {},
   "source": [
    "#### 4. **Key Findings and Their Implications (20 minutes)**\n",
    "   - **Moderator:** [Name]\n",
    "   - Discussion on the findings:\n",
    "     - Year-long transmission and seasonal variation.\n",
    "     - Association between rainy days and dengue incidence.\n",
    "     - Potential public health interventions.\n",
    "   - How the findings can inform dengue control campaigns in Dhaka."
   ]
  },
  {
   "cell_type": "markdown",
   "id": "dd167e63-75b9-4123-aebc-f421aebfd407",
   "metadata": {},
   "source": [
    "#### 5. **Related Studies and Broader Context (15 minutes)**\n",
    "   - **Discussion Leader:** [Name]\n",
    "   - Comparison with other studies on dengue and climate variability.\n",
    "   - Discussion on how these findings fit into the broader context of vector-borne diseases and climate change."
   ]
  },
  {
   "cell_type": "markdown",
   "id": "5747fe43-5cca-44d1-b0ee-b9fddeaea780",
   "metadata": {},
   "source": [
    "#### 6. **Practical Applications and Future Research (15 minutes)**\n",
    "   - **Moderator:** [Name]\n",
    "   - Strategies for implementing study findings in public health policies.\n",
    "   - Identification of gaps and suggestions for future research.\n",
    "   - Potential collaboration opportunities for further studies."
   ]
  },
  {
   "cell_type": "markdown",
   "id": "3ac66074-4544-40ee-a45f-d742fd0b3cfe",
   "metadata": {},
   "source": [
    "#### 7. **Open Forum and Q&A (15 minutes)**\n",
    "   - **Moderator:** [Name]\n",
    "   - Open floor for participants to ask questions and share their perspectives.\n",
    "   - Encouraging interdisciplinary insights and ideas."
   ]
  },
  {
   "cell_type": "markdown",
   "id": "674b5a4f-4470-402c-b8a9-4761a7cd79f7",
   "metadata": {},
   "source": [
    "#### 8. **Conclusion and Next Steps (10 minutes)**\n",
    "   - **Facilitator:** [Name]\n",
    "   - Summary of key points discussed.\n",
    "   - Plans for future journal club meetings.\n",
    "   - Distribution of additional reading materials and resources.\n",
    "   - Closing remarks and thank you to participants."
   ]
  },
  {
   "cell_type": "markdown",
   "id": "c3c4ac41-6a66-4eca-8923-06b4de27c4de",
   "metadata": {},
   "source": [
    "**Additional Notes:**\n",
    "- **Preparation:** Participants are encouraged to read the article in advance and prepare questions or discussion points.\n",
    "- **Materials:** Copies of the article, presentation slides, and relevant supplementary materials.\n",
    "\n",
    "---\n",
    "\n",
    "This agenda is designed to facilitate a comprehensive discussion on the article, engaging participants in critical analysis and application of the study's findings to public health practices."
   ]
  },
  {
   "cell_type": "markdown",
   "id": "cc725fbe-2d58-4c8b-8c13-1beb8593f97f",
   "metadata": {},
   "source": [
    "# Experimentación o replica de lo presentado en el artículo anterior  \n",
    "\n"
   ]
  },
  {
   "cell_type": "markdown",
   "id": "e3ea8254-9b1e-4834-b359-421e5a8eeb90",
   "metadata": {},
   "source": [
    "Vamos a generar un dataset artificial que simule datos de lluvia y casos de dengue, luego aplicaremos el algoritmo ARIMA para modelar estos datos.\n",
    "\n",
    "Primero, el código para generar el dataset artificial y guardarlo como un archivo `.csv`:"
   ]
  },
  {
   "cell_type": "code",
   "execution_count": 34,
   "id": "a3170210-0734-4456-8d54-4f4bfb8a71d7",
   "metadata": {},
   "outputs": [],
   "source": [
    "# librerías necesarias para crear una serie de tiempo artificial. \n",
    "import pandas as pd\n",
    "import numpy as np\n",
    "import datetime\n",
    "\n",
    "# Generar un rango de fechas diarias\n",
    "dates = pd.date_range(start=\"2005-01-01\", end=\"2009-12-31\", freq = 'D')\n",
    "\n",
    "# Generar datos de lluvia aleatorios\n",
    "np.random.seed(42)\n",
    "rainfall = np.random.poisson(lam=5, size=len(dates))  # Media de 5 mm de lluvia diaria\n",
    "\n",
    "# Generar datos de casos de dengue con cierto retraso\n",
    "cases = np.random.poisson(lam=2, size=len(dates))\n",
    "for i in range(30, len(cases)):\n",
    "    cases[i] += int(0.3 * rainfall[i-30])  \n",
    "    # Supongamos que el 30% de la lluvia afecta los casos de dengue 30 días después\n",
    "\n",
    "# Crear un DataFrame\n",
    "data = pd.DataFrame({'Fecha': dates, 'Lluvia': rainfall, 'Casos_Dengue': cases})\n",
    "\n",
    "# Guardar el DataFrame como archivo .csv\n",
    "data.to_csv('dataset_dengue_lluvia.csv', index=True)"
   ]
  },
  {
   "cell_type": "code",
   "execution_count": null,
   "id": "b44dd28e-dabb-4811-98ed-e3cbd3038dce",
   "metadata": {},
   "outputs": [],
   "source": [
    "Este código crea un rango de fechas diarias desde el 1 de enero de 2005 hasta el 31 de diciembre de 2009. Luego genera datos aleatorios de lluvia y casos de dengue, y guarda estos datos en un archivo `.csv`."
   ]
  },
  {
   "cell_type": "markdown",
   "id": "149f36c7-2045-460b-a3de-4001e05c831d",
   "metadata": {},
   "source": [
    "A continuación, el código para la modelación con el algoritmo ARIMA aplicado a este dataset:"
   ]
  },
  {
   "cell_type": "code",
   "execution_count": 26,
   "id": "d329a117-9799-4a38-a2f8-ae15ee2b198c",
   "metadata": {
    "jp-MarkdownHeadingCollapsed": true
   },
   "outputs": [
    {
     "data": {
      "image/png": "[encoded data removed]",
      "text/plain": [
       "<Figure size 1200x600 with 1 Axes>"
      ]
     },
     "metadata": {},
     "output_type": "display_data"
    }
   ],
   "source": [
    "import pandas as pd\n",
    "import matplotlib.pyplot as plt\n",
    "from statsmodels.tsa.arima.model import ARIMA\n",
    "\n",
    "# Cargar el dataset\n",
    "data = pd.read_csv('dataset_dengue_lluvia.csv', parse_dates=['Fecha'], index_col='Fecha')\n",
    "\n",
    "# Visualización de los datos\n",
    "plt.figure(figsize=(12, 6))\n",
    "plt.plot(data['Lluvia'], 'b.', label='Lluvia (mm)' )\n",
    "plt.plot(data['Casos_Dengue'],'g.', label='Casos de Dengue')\n",
    "plt.legend()\n",
    "plt.title('Datos de Lluvia y Casos de Dengue')\n",
    "plt.show()"
   ]
  },
  {
   "cell_type": "code",
   "execution_count": 20,
   "id": "15aa7662-4cdd-4008-ba2e-7ab7ed82be1f",
   "metadata": {},
   "outputs": [
    {
     "name": "stdout",
     "output_type": "stream",
     "text": [
      "Defaulting to user installation because normal site-packages is not writeable\n",
      "Collecting statsmodels\n",
      "  Downloading statsmodels-0.14.2-cp310-cp310-manylinux_2_17_x86_64.manylinux2014_x86_64.whl (10.8 MB)\n",
      "\u001b[2K     \u001b[38;2;114;156;31m━━━━━━━━━━━━━━━━━━━━━━━━━━━━━━━━━━━━━━━━\u001b[0m \u001b[32m10.8/10.8 MB\u001b[0m \u001b[31m1.3 MB/s\u001b[0m eta \u001b[36m0:00:00\u001b[0mm eta \u001b[36m0:00:01\u001b[0m[36m0:00:01\u001b[0mm\n",
      "\u001b[?25hCollecting patsy>=0.5.6\n",
      "  Downloading patsy-0.5.6-py2.py3-none-any.whl (233 kB)\n",
      "\u001b[2K     \u001b[38;2;114;156;31m━━━━━━━━━━━━━━━━━━━━━━━━━━━━━━━━━━━━━━━\u001b[0m \u001b[32m233.9/233.9 KB\u001b[0m \u001b[31m2.2 MB/s\u001b[0m eta \u001b[36m0:00:00\u001b[0m[31m2.1 MB/s\u001b[0m eta \u001b[36m0:00:01\u001b[0m\n",
      "\u001b[?25hCollecting pandas!=2.1.0,>=1.4\n",
      "  Downloading pandas-2.2.2-cp310-cp310-manylinux_2_17_x86_64.manylinux2014_x86_64.whl (13.0 MB)\n",
      "\u001b[2K     \u001b[38;2;114;156;31m━━━━━━━━━━━━━━━━━━━━━━━━━━━━━━━━━━━━━━━━\u001b[0m \u001b[32m13.0/13.0 MB\u001b[0m \u001b[31m1.3 MB/s\u001b[0m eta \u001b[36m0:00:00\u001b[0mm eta \u001b[36m0:00:01\u001b[0m[36m0:00:01\u001b[0m\n",
      "\u001b[?25hRequirement already satisfied: scipy!=1.9.2,>=1.8 in /home/marco/.local/lib/python3.10/site-packages (from statsmodels) (1.11.3)\n",
      "Requirement already satisfied: packaging>=21.3 in /home/marco/.local/lib/python3.10/site-packages (from statsmodels) (24.1)\n",
      "Requirement already satisfied: numpy>=1.22.3 in /home/marco/.local/lib/python3.10/site-packages (from statsmodels) (1.26.0)\n",
      "Requirement already satisfied: tzdata>=2022.7 in /home/marco/.local/lib/python3.10/site-packages (from pandas!=2.1.0,>=1.4->statsmodels) (2023.3)\n",
      "Requirement already satisfied: python-dateutil>=2.8.2 in /home/marco/.local/lib/python3.10/site-packages (from pandas!=2.1.0,>=1.4->statsmodels) (2.9.0.post0)\n",
      "Requirement already satisfied: pytz>=2020.1 in /usr/lib/python3/dist-packages (from pandas!=2.1.0,>=1.4->statsmodels) (2022.1)\n",
      "Requirement already satisfied: six in /home/marco/.local/lib/python3.10/site-packages (from patsy>=0.5.6->statsmodels) (1.16.0)\n",
      "Installing collected packages: patsy, pandas, statsmodels\n",
      "  Attempting uninstall: pandas\n",
      "    Found existing installation: pandas 2.1.0\n",
      "    Uninstalling pandas-2.1.0:\n",
      "      Successfully uninstalled pandas-2.1.0\n",
      "Successfully installed pandas-2.2.2 patsy-0.5.6 statsmodels-0.14.2\n"
     ]
    }
   ],
   "source": [
    "!pip install statsmodels"
   ]
  },
  {
   "cell_type": "code",
   "execution_count": 35,
   "id": "dc144a1c-cffd-4abe-aa3b-254018be20a9",
   "metadata": {
    "jp-MarkdownHeadingCollapsed": true,
    "scrolled": true
   },
   "outputs": [
    {
     "name": "stdout",
     "output_type": "stream",
     "text": [
      "Unexpected exception formatting exception. Falling back to standard exception\n"
     ]
    },
    {
     "name": "stderr",
     "output_type": "stream",
     "text": [
      "Traceback (most recent call last):\n",
      "  File \"/home/marco/.local/lib/python3.10/site-packages/IPython/core/interactiveshell.py\", line 3526, in run_code\n",
      "    exec(code_obj, self.user_global_ns, self.user_ns)\n",
      "  File \"/tmp/ipykernel_8685/4173433439.py\", line 11, in <module>\n",
      "    plt.plot(data.index, data['Lluvia'].values, label='Lluvia (mm)')\n",
      "  File \"/usr/lib/python3/dist-packages/matplotlib/pyplot.py\", line 2757, in plot\n",
      "    return gca().plot(\n",
      "  File \"/usr/lib/python3/dist-packages/matplotlib/axes/_axes.py\", line 1632, in plot\n",
      "    lines = [*self._get_lines(*args, data=data, **kwargs)]\n",
      "  File \"/usr/lib/python3/dist-packages/matplotlib/axes/_base.py\", line 312, in __call__\n",
      "    yield from self._plot_args(this, kwargs)\n",
      "  File \"/usr/lib/python3/dist-packages/matplotlib/axes/_base.py\", line 487, in _plot_args\n",
      "    x = _check_1d(xy[0])\n",
      "  File \"/usr/lib/python3/dist-packages/matplotlib/cbook/__init__.py\", line 1327, in _check_1d\n",
      "    ndim = x[:, None].ndim\n",
      "  File \"/home/marco/.local/lib/python3.10/site-packages/pandas/core/indexes/base.py\", line 5385, in __getitem__\n",
      "  File \"/home/marco/.local/lib/python3.10/site-packages/pandas/core/indexers/utils.py\", line 341, in disallow_ndim_indexing\n",
      "    raise ValueError(\n",
      "ValueError: Multi-dimensional indexing (e.g. `obj[:, None]`) is no longer supported. Convert to a numpy array before indexing instead.\n",
      "\n",
      "During handling of the above exception, another exception occurred:\n",
      "\n",
      "Traceback (most recent call last):\n",
      "  File \"/home/marco/.local/lib/python3.10/site-packages/IPython/core/interactiveshell.py\", line 2120, in showtraceback\n",
      "    stb = self.InteractiveTB.structured_traceback(\n",
      "  File \"/home/marco/.local/lib/python3.10/site-packages/IPython/core/ultratb.py\", line 1435, in structured_traceback\n",
      "    return FormattedTB.structured_traceback(\n",
      "  File \"/home/marco/.local/lib/python3.10/site-packages/IPython/core/ultratb.py\", line 1326, in structured_traceback\n",
      "    return VerboseTB.structured_traceback(\n",
      "  File \"/home/marco/.local/lib/python3.10/site-packages/IPython/core/ultratb.py\", line 1173, in structured_traceback\n",
      "    formatted_exception = self.format_exception_as_a_whole(etype, evalue, etb, number_of_lines_of_context,\n",
      "  File \"/home/marco/.local/lib/python3.10/site-packages/IPython/core/ultratb.py\", line 1088, in format_exception_as_a_whole\n",
      "    frames.append(self.format_record(record))\n",
      "  File \"/home/marco/.local/lib/python3.10/site-packages/IPython/core/ultratb.py\", line 970, in format_record\n",
      "    frame_info.lines, Colors, self.has_colors, lvals\n",
      "  File \"/home/marco/.local/lib/python3.10/site-packages/IPython/core/ultratb.py\", line 792, in lines\n",
      "    return self._sd.lines\n",
      "  File \"/home/marco/.local/lib/python3.10/site-packages/stack_data/utils.py\", line 144, in cached_property_wrapper\n",
      "    value = obj.__dict__[self.func.__name__] = self.func(obj)\n",
      "  File \"/home/marco/.local/lib/python3.10/site-packages/stack_data/core.py\", line 734, in lines\n",
      "    pieces = self.included_pieces\n",
      "  File \"/home/marco/.local/lib/python3.10/site-packages/stack_data/utils.py\", line 144, in cached_property_wrapper\n",
      "    value = obj.__dict__[self.func.__name__] = self.func(obj)\n",
      "  File \"/home/marco/.local/lib/python3.10/site-packages/stack_data/core.py\", line 681, in included_pieces\n",
      "    pos = scope_pieces.index(self.executing_piece)\n",
      "  File \"/home/marco/.local/lib/python3.10/site-packages/stack_data/utils.py\", line 144, in cached_property_wrapper\n",
      "    value = obj.__dict__[self.func.__name__] = self.func(obj)\n",
      "  File \"/home/marco/.local/lib/python3.10/site-packages/stack_data/core.py\", line 660, in executing_piece\n",
      "    return only(\n",
      "  File \"/home/marco/.local/lib/python3.10/site-packages/executing/executing.py\", line 190, in only\n",
      "    raise NotOneValueFound('Expected one value, found 0')\n",
      "executing.executing.NotOneValueFound: Expected one value, found 0\n"
     ]
    },
    {
     "data": {
      "image/png": "[encoded data removed]",
      "text/plain": [
       "<Figure size 1200x600 with 1 Axes>"
      ]
     },
     "metadata": {},
     "output_type": "display_data"
    }
   ],
   "source": [
    "import pandas as pd\n",
    "import matplotlib.pyplot as plt\n",
    "from statsmodels.tsa.statespace.sarimax import SARIMAX\n",
    "from sklearn.metrics import mean_squared_error\n",
    "\n",
    "# Cargar el dataset\n",
    "data = pd.read_csv('dataset_dengue_lluvia.csv', parse_dates=['Fecha'], index_col='Fecha')\n",
    "\n",
    "# Visualización de los datos\n",
    "plt.figure(figsize=(12, 6))\n",
    "plt.plot(data.index, data['Lluvia'].values, label='Lluvia (mm)')\n",
    "plt.plot(data.index, data['Casos_Dengue'].values, label='Casos de Dengue')\n",
    "plt.legend()\n",
    "plt.title('Datos de Lluvia y Casos de Dengue')\n",
    "plt.show()\n",
    "\n",
    "# Seleccionar la serie temporal de los casos de dengue y la variable exógena (lluvia)\n",
    "dengue_cases = data['Casos_Dengue']\n",
    "rainfall = data['Lluvia']\n",
    "\n",
    "# Dividir los datos en entrenamiento y prueba\n",
    "train_size = int(len(dengue_cases) * 0.8)\n",
    "train_cases, test_cases = dengue_cases[:train_size], dengue_cases[train_size:]\n",
    "train_rain, test_rain = rainfall[:train_size], rainfall[train_size:]\n",
    "\n",
    "# Ajustar el modelo ARIMAX (p, d, q) = (5, 1, 0)\n",
    "model = SARIMAX(train_cases, order=(5, 1, 0), exog=train_rain)\n",
    "model_fit = model.fit(disp=False)\n",
    "\n",
    "# Realizar predicciones\n",
    "predictions = model_fit.forecast(steps=len(test_cases), exog=test_rain)\n",
    "\n",
    "# Visualización de los resultados\n",
    "plt.figure(figsize=(12, 6))\n",
    "plt.plot(train_cases.index, train_cases.values, label='Entrenamiento')\n",
    "plt.plot(test_cases.index, test_cases.values, label='Prueba')\n",
    "plt.plot(test_cases.index, predictions, label='Predicciones', color='red')\n",
    "plt.legend()\n",
    "plt.title('Predicción de Casos de Dengue usando ARIMAX')\n",
    "plt.show()\n",
    "\n",
    "# Evaluación del modelo\n",
    "mse = mean_squared_error(test_cases, predictions)\n",
    "print(f'Error cuadrático medio: {mse:.2f}')\n",
    "\n"
   ]
  },
  {
   "cell_type": "code",
   "execution_count": 36,
   "id": "dcba4319-31c1-44fe-8dca-a2f70dcf46cb",
   "metadata": {},
   "outputs": [
    {
     "name": "stdout",
     "output_type": "stream",
     "text": [
      "Unexpected exception formatting exception. Falling back to standard exception\n"
     ]
    },
    {
     "name": "stderr",
     "output_type": "stream",
     "text": [
      "Traceback (most recent call last):\n",
      "  File \"/home/marco/.local/lib/python3.10/site-packages/IPython/core/interactiveshell.py\", line 3526, in run_code\n",
      "    exec(code_obj, self.user_global_ns, self.user_ns)\n",
      "  File \"/tmp/ipykernel_8685/3762285881.py\", line 26, in <module>\n",
      "    data.to_csv('/mnt/data/dataset_dengue_lluvia.csv', index=False)\n",
      "  File \"/home/marco/.local/lib/python3.10/site-packages/pandas/core/generic.py\", line 3902, in to_csv\n",
      "    escapechar : str, default None\n",
      "  File \"/home/marco/.local/lib/python3.10/site-packages/pandas/io/formats/format.py\", line 1152, in to_csv\n",
      "    formatter=formatter,\n",
      "  File \"/home/marco/.local/lib/python3.10/site-packages/pandas/io/formats/csvs.py\", line 247, in save\n",
      "    \"\"\"\n",
      "  File \"/home/marco/.local/lib/python3.10/site-packages/pandas/io/common.py\", line 739, in get_handle\n",
      "    # memory mapping needs to be the first step\n",
      "  File \"/home/marco/.local/lib/python3.10/site-packages/pandas/io/common.py\", line 604, in check_parent_directory\n",
      "OSError: Cannot save file into a non-existent directory: '/mnt/data'\n",
      "\n",
      "During handling of the above exception, another exception occurred:\n",
      "\n",
      "Traceback (most recent call last):\n",
      "  File \"/home/marco/.local/lib/python3.10/site-packages/IPython/core/interactiveshell.py\", line 2120, in showtraceback\n",
      "    stb = self.InteractiveTB.structured_traceback(\n",
      "  File \"/home/marco/.local/lib/python3.10/site-packages/IPython/core/ultratb.py\", line 1435, in structured_traceback\n",
      "    return FormattedTB.structured_traceback(\n",
      "  File \"/home/marco/.local/lib/python3.10/site-packages/IPython/core/ultratb.py\", line 1326, in structured_traceback\n",
      "    return VerboseTB.structured_traceback(\n",
      "  File \"/home/marco/.local/lib/python3.10/site-packages/IPython/core/ultratb.py\", line 1173, in structured_traceback\n",
      "    formatted_exception = self.format_exception_as_a_whole(etype, evalue, etb, number_of_lines_of_context,\n",
      "  File \"/home/marco/.local/lib/python3.10/site-packages/IPython/core/ultratb.py\", line 1088, in format_exception_as_a_whole\n",
      "    frames.append(self.format_record(record))\n",
      "  File \"/home/marco/.local/lib/python3.10/site-packages/IPython/core/ultratb.py\", line 970, in format_record\n",
      "    frame_info.lines, Colors, self.has_colors, lvals\n",
      "  File \"/home/marco/.local/lib/python3.10/site-packages/IPython/core/ultratb.py\", line 792, in lines\n",
      "    return self._sd.lines\n",
      "  File \"/home/marco/.local/lib/python3.10/site-packages/stack_data/utils.py\", line 144, in cached_property_wrapper\n",
      "    value = obj.__dict__[self.func.__name__] = self.func(obj)\n",
      "  File \"/home/marco/.local/lib/python3.10/site-packages/stack_data/core.py\", line 734, in lines\n",
      "    pieces = self.included_pieces\n",
      "  File \"/home/marco/.local/lib/python3.10/site-packages/stack_data/utils.py\", line 144, in cached_property_wrapper\n",
      "    value = obj.__dict__[self.func.__name__] = self.func(obj)\n",
      "  File \"/home/marco/.local/lib/python3.10/site-packages/stack_data/core.py\", line 681, in included_pieces\n",
      "    pos = scope_pieces.index(self.executing_piece)\n",
      "  File \"/home/marco/.local/lib/python3.10/site-packages/stack_data/utils.py\", line 144, in cached_property_wrapper\n",
      "    value = obj.__dict__[self.func.__name__] = self.func(obj)\n",
      "  File \"/home/marco/.local/lib/python3.10/site-packages/stack_data/core.py\", line 660, in executing_piece\n",
      "    return only(\n",
      "  File \"/home/marco/.local/lib/python3.10/site-packages/executing/executing.py\", line 190, in only\n",
      "    raise NotOneValueFound('Expected one value, found 0')\n",
      "executing.executing.NotOneValueFound: Expected one value, found 0\n"
     ]
    }
   ],
   "source": [
    "# Librerías necesarias para crear una serie de tiempo artificial.\n",
    "import pandas as pd\n",
    "import numpy as np\n",
    "import datetime\n",
    "import matplotlib.pyplot as plt\n",
    "from statsmodels.tsa.statespace.sarimax import SARIMAX\n",
    "from sklearn.metrics import mean_squared_error\n",
    "\n",
    "# Generar un rango de fechas diarias\n",
    "dates = pd.date_range(start=\"2005-01-01\", end=\"2009-12-31\", freq='D')\n",
    "\n",
    "# Generar datos de lluvia aleatorios\n",
    "np.random.seed(42)\n",
    "rainfall = np.random.poisson(lam=5, size=len(dates))  # Media de 5 mm de lluvia diaria\n",
    "\n",
    "# Generar datos de casos de dengue con cierto retraso\n",
    "cases = np.random.poisson(lam=2, size=len(dates))\n",
    "for i in range(30, len(cases)):\n",
    "    cases[i] += int(0.3 * rainfall[i-30])  \n",
    "    # Supongamos que el 30% de la lluvia afecta los casos de dengue 30 días después\n",
    "\n",
    "# Crear un DataFrame\n",
    "data = pd.DataFrame({'Fecha': dates, 'Lluvia': rainfall, 'Casos_Dengue': cases})\n",
    "\n",
    "# Guardar el DataFrame como archivo .csv\n",
    "data.to_csv('/mnt/data/dataset_dengue_lluvia.csv', index=False)\n",
    "\n",
    "# Cargar el dataset\n",
    "data = pd.read_csv('/mnt/data/dataset_dengue_lluvia.csv', parse_dates=['Fecha'], index_col='Fecha')\n",
    "\n",
    "# Visualización de los datos\n",
    "plt.figure(figsize=(12, 6))\n",
    "plt.plot(data.index, data['Lluvia'], label='Lluvia (mm)')\n",
    "plt.plot(data.index, data['Casos_Dengue'], label='Casos de Dengue')\n",
    "plt.legend()\n",
    "plt.title('Datos de Lluvia y Casos de Dengue')\n",
    "plt.show()\n",
    "\n",
    "# Seleccionar la serie temporal de los casos de dengue y la variable exógena (lluvia)\n",
    "dengue_cases = data['Casos_Dengue']\n",
    "rainfall = data['Lluvia']\n",
    "\n",
    "# Dividir los datos en entrenamiento y prueba\n",
    "train_size = int(len(dengue_cases) * 0.8)\n",
    "train_cases, test_cases = dengue_cases[:train_size], dengue_cases[train_size:]\n",
    "train_rain, test_rain = rainfall[:train_size], rainfall[train_size:]\n",
    "\n",
    "# Ajustar el modelo ARIMAX (p, d, q) = (5, 1, 0)\n",
    "model = SARIMAX(train_cases, order=(5, 1, 0), exog=train_rain)\n",
    "model_fit = model.fit(disp=False)\n",
    "\n",
    "# Realizar predicciones\n",
    "predictions = model_fit.forecast(steps=len(test_cases), exog=test_rain)\n",
    "\n",
    "# Visualización de los resultados\n",
    "plt.figure(figsize=(12, 6))\n",
    "plt.plot(train_cases.index, train_cases.values, label='Entrenamiento')\n",
    "plt.plot(test_cases.index, test_cases.values, label='Prueba')\n",
    "plt.plot(test_cases.index, predictions, label='Predicciones', color='red')\n",
    "plt.legend()\n",
    "plt.title('Predicción de Casos de Dengue usando ARIMAX')\n",
    "plt.show()\n",
    "\n",
    "# Evaluación del modelo\n",
    "mse = mean_squared_error(test_cases, predictions)\n",
    "print(f'Error cuadrático medio: {mse:.2f}')\n"
   ]
  },
  {
   "cell_type": "code",
   "execution_count": null,
   "id": "e55c0c94-3f26-4c3d-a7d7-1150403c86b3",
   "metadata": {
    "jp-MarkdownHeadingCollapsed": true
   },
   "outputs": [],
   "source": [
    "### Explicación del Código para Modelación con ARIMA:\n",
    "\n",
    "1. **Cargar el dataset**: Se lee el archivo `.csv` generado anteriormente, y se establece la columna de fechas como índice del DataFrame.\n",
    "2. **Visualización de los datos**: Se grafican los datos de lluvia y casos de dengue para visualizar las tendencias y patrones.\n",
    "3. **Modelo ARIMA**:\n",
    "   - Se selecciona solo la serie temporal de los casos de dengue.\n",
    "   - Se dividen los datos en conjuntos de entrenamiento (80%) y prueba (20%).\n",
    "   - Se ajusta un modelo ARIMA con parámetros (p, d, q) = (5, 1, 0).\n",
    "4. **Predicciones**: Se generan predicciones para el conjunto de prueba.\n",
    "5. **Visualización de resultados**: Se grafican los datos de entrenamiento, prueba y las predicciones del modelo.\n",
    "6. **Evaluación del modelo**: Se calcula el error cuadrático medio (MSE) para evaluar el desempeño del modelo.\n",
    "\n",
    "Este proceso te permite crear un dataset artificial y aplicar el modelo ARIMA para analizar y predecir los casos de dengue basados en los datos generados."
   ]
  },
  {
   "cell_type": "markdown",
   "id": "2daef5fd-f58f-4f81-8aac-2733bb35eaf4",
   "metadata": {},
   "source": [
    "# Dimensiones de cada clase  "
   ]
  },
  {
   "cell_type": "markdown",
   "id": "4ee454c6-dc7e-48db-85fe-5cfefc766e71",
   "metadata": {
    "jp-MarkdownHeadingCollapsed": true
   },
   "source": [
    "1. Conocimiento Teórico de Matemáticas\n",
    "\n",
    "Indicadores:\n",
    "\n",
    "    Comprensión de conceptos fundamentales de cálculo diferencial.\n",
    "    Capacidad para resolver ecuaciones diferenciales.\n",
    "    Habilidad para derivar funciones complejas.\n",
    "    Comprensión de límites y continuidad.\n",
    "    Capacidad para aplicar teoremas de cálculo en problemas matemáticos."
   ]
  },
  {
   "cell_type": "markdown",
   "id": "b5b08e41-0973-408d-bab5-154c26d0dfb1",
   "metadata": {
    "jp-MarkdownHeadingCollapsed": true
   },
   "source": [
    "2. Habilidad en Programación con Python\n",
    "\n",
    "Indicadores:\n",
    "\n",
    "    Capacidad para escribir y ejecutar scripts básicos en Python.\n",
    "    Comprensión y uso de estructuras de control (condicionales, bucles).\n",
    "    Uso de funciones y módulos en Python.\n",
    "    Manejo de estructuras de datos (listas, diccionarios, tuplas).\n",
    "    Habilidad para depurar y solucionar errores en el código.\n",
    "    Uso de bibliotecas matemáticas como NumPy y SymPy."
   ]
  },
  {
   "cell_type": "markdown",
   "id": "f5e71a27-6339-46e5-adbf-c0356cb8a3ef",
   "metadata": {
    "jp-MarkdownHeadingCollapsed": true
   },
   "source": [
    "3. Pensamiento Computacional\n",
    "\n",
    "Indicadores:\n",
    "\n",
    "    Capacidad para descomponer problemas complejos en subproblemas manejables.\n",
    "    Habilidad para diseñar algoritmos eficientes para resolver problemas específicos.\n",
    "    Comprensión de la lógica detrás de las estructuras de control y su aplicación en la programación.\n",
    "    Capacidad para abstraer conceptos matemáticos en soluciones programables.\n",
    "    Habilidad para identificar y aplicar patrones en la resolución de problemas."
   ]
  },
  {
   "cell_type": "markdown",
   "id": "b2425ce2-c6f8-4f13-b743-7e0fd400a1e6",
   "metadata": {
    "jp-MarkdownHeadingCollapsed": true
   },
   "source": [
    "4. Aplicación de Matemáticas en Problemas Reales\n",
    "\n",
    "Indicadores:\n",
    "\n",
    "    Capacidad para modelar situaciones reales utilizando funciones matemáticas.\n",
    "    Habilidad para implementar soluciones matemáticas en código Python para resolver problemas prácticos.\n",
    "    Comprensión de cómo interpretar los resultados obtenidos mediante simulaciones o cálculos computacionales.\n",
    "    Uso de Python para la visualización de datos y resultados matemáticos.\n",
    "    Capacidad para integrar conocimientos matemáticos y de programación en proyectos interdisciplinarios."
   ]
  },
  {
   "cell_type": "markdown",
   "id": "64ac8d32",
   "metadata": {},
   "source": [
    "# Ejemplo ilustrativo"
   ]
  },
  {
   "cell_type": "markdown",
   "id": "a3e5e6ab",
   "metadata": {},
   "source": [
    "# 10 ejercicios de entrenamiento o adquisición de habilidades obtenido a través de ChatGPT para una formación personalizada y centrada en la habilidad que se quiere lograr con la enseñanza del ejemplo anterior"
   ]
  },
  {
   "cell_type": "code",
   "execution_count": null,
   "id": "cc539357",
   "metadata": {},
   "outputs": [],
   "source": []
  },
  {
   "cell_type": "markdown",
   "id": "2f0141c3",
   "metadata": {},
   "source": [
    "## Tareas para realizar antes de la clase  \n",
    "\n",
    "1. Ver los videos respectivos []()\n",
    "2. Memorizar las definiciones []()\n",
    "3. Sintetizar o resumir la información en mapas conceptuales. []()\n",
    "4. Tareas para incentivar el uso de la calculadora Casio Para ingenieros y licenciados. \n",
    "5. Leer los ejemplos resueltos y repricar la manera de hacerlos"
   ]
  },
  {
   "cell_type": "code",
   "execution_count": 5,
   "id": "83d849ab",
   "metadata": {},
   "outputs": [
    {
     "name": "stdout",
     "output_type": "stream",
     "text": [
      "Tarea 1 de lectura de ejemplos y completación de procedimientos:  tarea_Purcell_Página_202_Sección_3.8.csv\n"
     ]
    },
    {
     "data": {
      "text/html": [
       "<div>\n",
       "<style scoped>\n",
       "    .dataframe tbody tr th:only-of-type {\n",
       "        vertical-align: middle;\n",
       "    }\n",
       "\n",
       "    .dataframe tbody tr th {\n",
       "        vertical-align: top;\n",
       "    }\n",
       "\n",
       "    .dataframe thead th {\n",
       "        text-align: right;\n",
       "    }\n",
       "</style>\n",
       "<table border=\"1\" class=\"dataframe\">\n",
       "  <thead>\n",
       "    <tr style=\"text-align: right;\">\n",
       "      <th></th>\n",
       "      <th>Student</th>\n",
       "      <th>Example1</th>\n",
       "      <th>Example2</th>\n",
       "      <th>Example3</th>\n",
       "    </tr>\n",
       "  </thead>\n",
       "  <tbody>\n",
       "    <tr>\n",
       "      <th>0</th>\n",
       "      <td>AGUDELO MORENO RENATO DIRNEY</td>\n",
       "      <td>48</td>\n",
       "      <td>22</td>\n",
       "      <td>2</td>\n",
       "    </tr>\n",
       "    <tr>\n",
       "      <th>1</th>\n",
       "      <td>AMARIS FERNANDEZ SEBASTIAN CAMILO</td>\n",
       "      <td>37</td>\n",
       "      <td>18</td>\n",
       "      <td>20</td>\n",
       "    </tr>\n",
       "    <tr>\n",
       "      <th>2</th>\n",
       "      <td>ARENAS HERAZO GABRIEL ENRIQUE</td>\n",
       "      <td>29</td>\n",
       "      <td>47</td>\n",
       "      <td>49</td>\n",
       "    </tr>\n",
       "    <tr>\n",
       "      <th>3</th>\n",
       "      <td>AYALA MENDOZA MARISOL YACIRA</td>\n",
       "      <td>45</td>\n",
       "      <td>35</td>\n",
       "      <td>7</td>\n",
       "    </tr>\n",
       "    <tr>\n",
       "      <th>4</th>\n",
       "      <td>BERTEL RODELO MICHELL SMIT</td>\n",
       "      <td>41</td>\n",
       "      <td>14</td>\n",
       "      <td>29</td>\n",
       "    </tr>\n",
       "    <tr>\n",
       "      <th>5</th>\n",
       "      <td>BULA VERGARA MARIA PAULA</td>\n",
       "      <td>22</td>\n",
       "      <td>46</td>\n",
       "      <td>5</td>\n",
       "    </tr>\n",
       "    <tr>\n",
       "      <th>6</th>\n",
       "      <td>CANTILLO ENSUCHO DANIEL</td>\n",
       "      <td>19</td>\n",
       "      <td>50</td>\n",
       "      <td>46</td>\n",
       "    </tr>\n",
       "    <tr>\n",
       "      <th>7</th>\n",
       "      <td>CERVANTES DURAN ANGELICA</td>\n",
       "      <td>16</td>\n",
       "      <td>20</td>\n",
       "      <td>13</td>\n",
       "    </tr>\n",
       "    <tr>\n",
       "      <th>8</th>\n",
       "      <td>GALLEGO TEJADA JUAN ESTEBAN</td>\n",
       "      <td>36</td>\n",
       "      <td>11</td>\n",
       "      <td>49</td>\n",
       "    </tr>\n",
       "    <tr>\n",
       "      <th>9</th>\n",
       "      <td>GUERRA NORIEGA YONATHAN</td>\n",
       "      <td>47</td>\n",
       "      <td>43</td>\n",
       "      <td>51</td>\n",
       "    </tr>\n",
       "    <tr>\n",
       "      <th>10</th>\n",
       "      <td>HINCAPIE CASTRO JOHAN SEBASTIAN</td>\n",
       "      <td>35</td>\n",
       "      <td>51</td>\n",
       "      <td>2</td>\n",
       "    </tr>\n",
       "    <tr>\n",
       "      <th>11</th>\n",
       "      <td>HUMANEZ SANCHEZ CAMILO</td>\n",
       "      <td>20</td>\n",
       "      <td>26</td>\n",
       "      <td>50</td>\n",
       "    </tr>\n",
       "    <tr>\n",
       "      <th>12</th>\n",
       "      <td>IBAnEZ MORENO FRANCISCO LUIS</td>\n",
       "      <td>7</td>\n",
       "      <td>8</td>\n",
       "      <td>53</td>\n",
       "    </tr>\n",
       "    <tr>\n",
       "      <th>13</th>\n",
       "      <td>LONDONO CUADRADO CRISTIAN ALBERTO</td>\n",
       "      <td>37</td>\n",
       "      <td>10</td>\n",
       "      <td>6</td>\n",
       "    </tr>\n",
       "    <tr>\n",
       "      <th>14</th>\n",
       "      <td>MASS MIRANDA RIVALDO JOSE</td>\n",
       "      <td>35</td>\n",
       "      <td>14</td>\n",
       "      <td>23</td>\n",
       "    </tr>\n",
       "    <tr>\n",
       "      <th>15</th>\n",
       "      <td>MIRANDA MARTINEZ CARLOS ANDRES</td>\n",
       "      <td>11</td>\n",
       "      <td>30</td>\n",
       "      <td>29</td>\n",
       "    </tr>\n",
       "    <tr>\n",
       "      <th>16</th>\n",
       "      <td>MONTERROSA SOTO ABRIL</td>\n",
       "      <td>10</td>\n",
       "      <td>8</td>\n",
       "      <td>4</td>\n",
       "    </tr>\n",
       "    <tr>\n",
       "      <th>17</th>\n",
       "      <td>NORIEGA JIMENEZ GABRIELA</td>\n",
       "      <td>2</td>\n",
       "      <td>41</td>\n",
       "      <td>37</td>\n",
       "    </tr>\n",
       "    <tr>\n",
       "      <th>18</th>\n",
       "      <td>PEREZ REYES IVAN DARIO</td>\n",
       "      <td>6</td>\n",
       "      <td>13</td>\n",
       "      <td>34</td>\n",
       "    </tr>\n",
       "    <tr>\n",
       "      <th>19</th>\n",
       "      <td>PEREZ THERAN ERLINDA</td>\n",
       "      <td>49</td>\n",
       "      <td>4</td>\n",
       "      <td>47</td>\n",
       "    </tr>\n",
       "    <tr>\n",
       "      <th>20</th>\n",
       "      <td>PINEDA ROMERO YOSMERI</td>\n",
       "      <td>42</td>\n",
       "      <td>9</td>\n",
       "      <td>2</td>\n",
       "    </tr>\n",
       "    <tr>\n",
       "      <th>21</th>\n",
       "      <td>QUINONEZ CERVANTES MARIANA</td>\n",
       "      <td>11</td>\n",
       "      <td>49</td>\n",
       "      <td>32</td>\n",
       "    </tr>\n",
       "    <tr>\n",
       "      <th>22</th>\n",
       "      <td>QUIROZ DURAN JUAN MANUEL</td>\n",
       "      <td>43</td>\n",
       "      <td>14</td>\n",
       "      <td>21</td>\n",
       "    </tr>\n",
       "    <tr>\n",
       "      <th>23</th>\n",
       "      <td>RAMOS PEREZ YANINE</td>\n",
       "      <td>7</td>\n",
       "      <td>27</td>\n",
       "      <td>47</td>\n",
       "    </tr>\n",
       "    <tr>\n",
       "      <th>24</th>\n",
       "      <td>RIVAS HOYOS ESTEFANIA</td>\n",
       "      <td>23</td>\n",
       "      <td>27</td>\n",
       "      <td>39</td>\n",
       "    </tr>\n",
       "    <tr>\n",
       "      <th>25</th>\n",
       "      <td>ROSILLO TEJADA VANESA</td>\n",
       "      <td>49</td>\n",
       "      <td>11</td>\n",
       "      <td>16</td>\n",
       "    </tr>\n",
       "    <tr>\n",
       "      <th>26</th>\n",
       "      <td>SANCHEZ PADILLA SILVESTRE</td>\n",
       "      <td>25</td>\n",
       "      <td>37</td>\n",
       "      <td>50</td>\n",
       "    </tr>\n",
       "    <tr>\n",
       "      <th>27</th>\n",
       "      <td>SILVA ROYERO MAILY CRISTINA</td>\n",
       "      <td>11</td>\n",
       "      <td>25</td>\n",
       "      <td>2</td>\n",
       "    </tr>\n",
       "    <tr>\n",
       "      <th>28</th>\n",
       "      <td>USUGA GEORGE JHON ESTIVEN</td>\n",
       "      <td>29</td>\n",
       "      <td>20</td>\n",
       "      <td>12</td>\n",
       "    </tr>\n",
       "  </tbody>\n",
       "</table>\n",
       "</div>"
      ],
      "text/plain": [
       "                              Student  Example1  Example2  Example3\n",
       "0        AGUDELO MORENO RENATO DIRNEY        48        22         2\n",
       "1   AMARIS FERNANDEZ SEBASTIAN CAMILO        37        18        20\n",
       "2       ARENAS HERAZO GABRIEL ENRIQUE        29        47        49\n",
       "3        AYALA MENDOZA MARISOL YACIRA        45        35         7\n",
       "4          BERTEL RODELO MICHELL SMIT        41        14        29\n",
       "5            BULA VERGARA MARIA PAULA        22        46         5\n",
       "6             CANTILLO ENSUCHO DANIEL        19        50        46\n",
       "7            CERVANTES DURAN ANGELICA        16        20        13\n",
       "8         GALLEGO TEJADA JUAN ESTEBAN        36        11        49\n",
       "9             GUERRA NORIEGA YONATHAN        47        43        51\n",
       "10    HINCAPIE CASTRO JOHAN SEBASTIAN        35        51         2\n",
       "11             HUMANEZ SANCHEZ CAMILO        20        26        50\n",
       "12       IBAnEZ MORENO FRANCISCO LUIS         7         8        53\n",
       "13  LONDONO CUADRADO CRISTIAN ALBERTO        37        10         6\n",
       "14          MASS MIRANDA RIVALDO JOSE        35        14        23\n",
       "15     MIRANDA MARTINEZ CARLOS ANDRES        11        30        29\n",
       "16              MONTERROSA SOTO ABRIL        10         8         4\n",
       "17           NORIEGA JIMENEZ GABRIELA         2        41        37\n",
       "18             PEREZ REYES IVAN DARIO         6        13        34\n",
       "19               PEREZ THERAN ERLINDA        49         4        47\n",
       "20              PINEDA ROMERO YOSMERI        42         9         2\n",
       "21         QUINONEZ CERVANTES MARIANA        11        49        32\n",
       "22           QUIROZ DURAN JUAN MANUEL        43        14        21\n",
       "23                 RAMOS PEREZ YANINE         7        27        47\n",
       "24              RIVAS HOYOS ESTEFANIA        23        27        39\n",
       "25              ROSILLO TEJADA VANESA        49        11        16\n",
       "26          SANCHEZ PADILLA SILVESTRE        25        37        50\n",
       "27        SILVA ROYERO MAILY CRISTINA        11        25         2\n",
       "28          USUGA GEORGE JHON ESTIVEN        29        20        12"
      ]
     },
     "execution_count": 5,
     "metadata": {},
     "output_type": "execute_result"
    }
   ],
   "source": [
    "# Tarea 1 de lectura de ejemplos y completación de procedimientos\n",
    "# asignación de tarea para realizar antes de clase\n",
    "# Consiste en leer y completar un ejemplo de texto guía\n",
    "\n",
    "import pandas as pd\n",
    "import numpy as np\n",
    "import requests\n",
    "np.random.seed(1213)  # establecer semilla aleatoria para hacer los resultados reproducibles\n",
    "\n",
    "\n",
    "\n",
    "grupo_estudiantes = 'calculo_integral'\n",
    "nombre_texto_guia = 'Purcell'\n",
    "pagina_y_seccion = 'Página_202_Sección_3.8'\n",
    "numero_ejemplos_de_la_seccion = 54\n",
    "numero_de_ejemplos_asignados = 3\n",
    "\n",
    "\n",
    "# Descargar la lista de  estudiantes\n",
    "students_url = \"https://raw.githubusercontent.com/marco-canas/groups_list/main/\" + grupo_estudiantes + \".csv\"\n",
    "examples = list(range(1, numero_ejemplos_de_la_seccion))  \n",
    "\n",
    "students_data = pd.read_csv(students_url)\n",
    "\n",
    "# Crear una lista para almacenar las asignaciones\n",
    "assignments = []\n",
    "\n",
    "# Asignar ejercicios aleatorios a cada estudiante\n",
    "for index, student in students_data.iterrows():\n",
    "    # Seleccionar 5 ejercicios aleatorios sin repetición\n",
    "    random_exercises = np.random.choice(examples, numero_de_ejemplos_asignados, replace = False)+ 1 \n",
    "    assignments.append([students_data[\"Nombre\"][index], *random_exercises])  # Agregar asignación a la lista\n",
    "\n",
    "# Crear un DataFrame con las asignaciones\n",
    "columns = [\"Student\"] + [ \"Example\" + str(i+1) for i in range(numero_de_ejemplos_asignados)]\n",
    "assignment_df = pd.DataFrame(assignments, columns=columns)\n",
    "\n",
    "# Guardar el DataFrame en un archivo CSV\n",
    "assignment_csv = \"tarea\" + \"_\" + nombre_texto_guia + \"_\"+ pagina_y_seccion + \".csv\"\n",
    "assignment_df.to_csv(assignment_csv, index=False)\n",
    "\n",
    "print(\"Tarea 1 de lectura de ejemplos y completación de procedimientos: \", assignment_csv)\n",
    "assignment_df"
   ]
  },
  {
   "cell_type": "markdown",
   "id": "740f3401",
   "metadata": {
    "slideshow": {
     "slide_type": "slide"
    }
   },
   "source": [
    "# Componente de manejo de calculadora Casio asociado al objetivo de aprendizaje de esta clase  \n",
    "\n",
    "## Pasos para lograr el objetivo de aprendizaje con la experimentación en la calculadora casio 570 "
   ]
  },
  {
   "cell_type": "markdown",
   "id": "fccb447c",
   "metadata": {
    "slideshow": {
     "slide_type": "slide"
    }
   },
   "source": [
    "# Tareas para realizar en clase"
   ]
  },
  {
   "cell_type": "code",
   "execution_count": 7,
   "id": "0f1f0ab2",
   "metadata": {},
   "outputs": [
    {
     "name": "stdout",
     "output_type": "stream",
     "text": [
      "Tarea 3 de solución de problemas:  tarea_Purcell_Página_202_Sección_3.8.csv\n"
     ]
    },
    {
     "data": {
      "text/html": [
       "<div>\n",
       "<style scoped>\n",
       "    .dataframe tbody tr th:only-of-type {\n",
       "        vertical-align: middle;\n",
       "    }\n",
       "\n",
       "    .dataframe tbody tr th {\n",
       "        vertical-align: top;\n",
       "    }\n",
       "\n",
       "    .dataframe thead th {\n",
       "        text-align: right;\n",
       "    }\n",
       "</style>\n",
       "<table border=\"1\" class=\"dataframe\">\n",
       "  <thead>\n",
       "    <tr style=\"text-align: right;\">\n",
       "      <th></th>\n",
       "      <th>Student</th>\n",
       "      <th>Exer1</th>\n",
       "      <th>Exer2</th>\n",
       "      <th>Exer3</th>\n",
       "      <th>Exer4</th>\n",
       "      <th>Exer5</th>\n",
       "      <th>Exer6</th>\n",
       "      <th>Exer7</th>\n",
       "      <th>Exer8</th>\n",
       "      <th>Exer9</th>\n",
       "      <th>Exer10</th>\n",
       "    </tr>\n",
       "  </thead>\n",
       "  <tbody>\n",
       "    <tr>\n",
       "      <th>0</th>\n",
       "      <td>AGUDELO MORENO RENATO DIRNEY</td>\n",
       "      <td>47</td>\n",
       "      <td>2</td>\n",
       "      <td>52</td>\n",
       "      <td>29</td>\n",
       "      <td>21</td>\n",
       "      <td>4</td>\n",
       "      <td>36</td>\n",
       "      <td>54</td>\n",
       "      <td>35</td>\n",
       "      <td>53</td>\n",
       "    </tr>\n",
       "    <tr>\n",
       "      <th>1</th>\n",
       "      <td>AMARIS FERNANDEZ SEBASTIAN CAMILO</td>\n",
       "      <td>42</td>\n",
       "      <td>23</td>\n",
       "      <td>44</td>\n",
       "      <td>20</td>\n",
       "      <td>2</td>\n",
       "      <td>34</td>\n",
       "      <td>45</td>\n",
       "      <td>43</td>\n",
       "      <td>37</td>\n",
       "      <td>8</td>\n",
       "    </tr>\n",
       "    <tr>\n",
       "      <th>2</th>\n",
       "      <td>ARENAS HERAZO GABRIEL ENRIQUE</td>\n",
       "      <td>45</td>\n",
       "      <td>26</td>\n",
       "      <td>20</td>\n",
       "      <td>10</td>\n",
       "      <td>35</td>\n",
       "      <td>36</td>\n",
       "      <td>23</td>\n",
       "      <td>29</td>\n",
       "      <td>31</td>\n",
       "      <td>12</td>\n",
       "    </tr>\n",
       "    <tr>\n",
       "      <th>3</th>\n",
       "      <td>AYALA MENDOZA MARISOL YACIRA</td>\n",
       "      <td>24</td>\n",
       "      <td>18</td>\n",
       "      <td>39</td>\n",
       "      <td>54</td>\n",
       "      <td>5</td>\n",
       "      <td>19</td>\n",
       "      <td>38</td>\n",
       "      <td>41</td>\n",
       "      <td>30</td>\n",
       "      <td>28</td>\n",
       "    </tr>\n",
       "    <tr>\n",
       "      <th>4</th>\n",
       "      <td>BERTEL RODELO MICHELL SMIT</td>\n",
       "      <td>9</td>\n",
       "      <td>23</td>\n",
       "      <td>32</td>\n",
       "      <td>46</td>\n",
       "      <td>18</td>\n",
       "      <td>48</td>\n",
       "      <td>34</td>\n",
       "      <td>21</td>\n",
       "      <td>10</td>\n",
       "      <td>33</td>\n",
       "    </tr>\n",
       "    <tr>\n",
       "      <th>5</th>\n",
       "      <td>BULA VERGARA MARIA PAULA</td>\n",
       "      <td>34</td>\n",
       "      <td>5</td>\n",
       "      <td>44</td>\n",
       "      <td>43</td>\n",
       "      <td>21</td>\n",
       "      <td>23</td>\n",
       "      <td>40</td>\n",
       "      <td>36</td>\n",
       "      <td>18</td>\n",
       "      <td>51</td>\n",
       "    </tr>\n",
       "    <tr>\n",
       "      <th>6</th>\n",
       "      <td>CANTILLO ENSUCHO DANIEL</td>\n",
       "      <td>2</td>\n",
       "      <td>20</td>\n",
       "      <td>43</td>\n",
       "      <td>7</td>\n",
       "      <td>32</td>\n",
       "      <td>11</td>\n",
       "      <td>23</td>\n",
       "      <td>12</td>\n",
       "      <td>22</td>\n",
       "      <td>34</td>\n",
       "    </tr>\n",
       "    <tr>\n",
       "      <th>7</th>\n",
       "      <td>CERVANTES DURAN ANGELICA</td>\n",
       "      <td>46</td>\n",
       "      <td>39</td>\n",
       "      <td>20</td>\n",
       "      <td>19</td>\n",
       "      <td>36</td>\n",
       "      <td>42</td>\n",
       "      <td>12</td>\n",
       "      <td>23</td>\n",
       "      <td>25</td>\n",
       "      <td>34</td>\n",
       "    </tr>\n",
       "    <tr>\n",
       "      <th>8</th>\n",
       "      <td>GALLEGO TEJADA JUAN ESTEBAN</td>\n",
       "      <td>19</td>\n",
       "      <td>7</td>\n",
       "      <td>6</td>\n",
       "      <td>34</td>\n",
       "      <td>30</td>\n",
       "      <td>37</td>\n",
       "      <td>18</td>\n",
       "      <td>41</td>\n",
       "      <td>11</td>\n",
       "      <td>24</td>\n",
       "    </tr>\n",
       "    <tr>\n",
       "      <th>9</th>\n",
       "      <td>GUERRA NORIEGA YONATHAN</td>\n",
       "      <td>54</td>\n",
       "      <td>46</td>\n",
       "      <td>2</td>\n",
       "      <td>35</td>\n",
       "      <td>9</td>\n",
       "      <td>7</td>\n",
       "      <td>31</td>\n",
       "      <td>11</td>\n",
       "      <td>34</td>\n",
       "      <td>23</td>\n",
       "    </tr>\n",
       "    <tr>\n",
       "      <th>10</th>\n",
       "      <td>HINCAPIE CASTRO JOHAN SEBASTIAN</td>\n",
       "      <td>47</td>\n",
       "      <td>53</td>\n",
       "      <td>42</td>\n",
       "      <td>46</td>\n",
       "      <td>4</td>\n",
       "      <td>54</td>\n",
       "      <td>30</td>\n",
       "      <td>13</td>\n",
       "      <td>50</td>\n",
       "      <td>36</td>\n",
       "    </tr>\n",
       "    <tr>\n",
       "      <th>11</th>\n",
       "      <td>HUMANEZ SANCHEZ CAMILO</td>\n",
       "      <td>5</td>\n",
       "      <td>14</td>\n",
       "      <td>43</td>\n",
       "      <td>16</td>\n",
       "      <td>33</td>\n",
       "      <td>28</td>\n",
       "      <td>8</td>\n",
       "      <td>41</td>\n",
       "      <td>52</td>\n",
       "      <td>2</td>\n",
       "    </tr>\n",
       "    <tr>\n",
       "      <th>12</th>\n",
       "      <td>IBAnEZ MORENO FRANCISCO LUIS</td>\n",
       "      <td>25</td>\n",
       "      <td>31</td>\n",
       "      <td>16</td>\n",
       "      <td>47</td>\n",
       "      <td>26</td>\n",
       "      <td>48</td>\n",
       "      <td>32</td>\n",
       "      <td>40</td>\n",
       "      <td>27</td>\n",
       "      <td>3</td>\n",
       "    </tr>\n",
       "    <tr>\n",
       "      <th>13</th>\n",
       "      <td>LONDONO CUADRADO CRISTIAN ALBERTO</td>\n",
       "      <td>4</td>\n",
       "      <td>26</td>\n",
       "      <td>30</td>\n",
       "      <td>25</td>\n",
       "      <td>33</td>\n",
       "      <td>13</td>\n",
       "      <td>7</td>\n",
       "      <td>23</td>\n",
       "      <td>19</td>\n",
       "      <td>14</td>\n",
       "    </tr>\n",
       "    <tr>\n",
       "      <th>14</th>\n",
       "      <td>MASS MIRANDA RIVALDO JOSE</td>\n",
       "      <td>19</td>\n",
       "      <td>11</td>\n",
       "      <td>43</td>\n",
       "      <td>47</td>\n",
       "      <td>21</td>\n",
       "      <td>13</td>\n",
       "      <td>38</td>\n",
       "      <td>29</td>\n",
       "      <td>33</td>\n",
       "      <td>50</td>\n",
       "    </tr>\n",
       "    <tr>\n",
       "      <th>15</th>\n",
       "      <td>MIRANDA MARTINEZ CARLOS ANDRES</td>\n",
       "      <td>15</td>\n",
       "      <td>10</td>\n",
       "      <td>45</td>\n",
       "      <td>14</td>\n",
       "      <td>21</td>\n",
       "      <td>36</td>\n",
       "      <td>42</td>\n",
       "      <td>30</td>\n",
       "      <td>13</td>\n",
       "      <td>29</td>\n",
       "    </tr>\n",
       "    <tr>\n",
       "      <th>16</th>\n",
       "      <td>MONTERROSA SOTO ABRIL</td>\n",
       "      <td>5</td>\n",
       "      <td>52</td>\n",
       "      <td>10</td>\n",
       "      <td>32</td>\n",
       "      <td>35</td>\n",
       "      <td>21</td>\n",
       "      <td>11</td>\n",
       "      <td>15</td>\n",
       "      <td>46</td>\n",
       "      <td>39</td>\n",
       "    </tr>\n",
       "    <tr>\n",
       "      <th>17</th>\n",
       "      <td>NORIEGA JIMENEZ GABRIELA</td>\n",
       "      <td>10</td>\n",
       "      <td>52</td>\n",
       "      <td>24</td>\n",
       "      <td>6</td>\n",
       "      <td>50</td>\n",
       "      <td>26</td>\n",
       "      <td>41</td>\n",
       "      <td>18</td>\n",
       "      <td>7</td>\n",
       "      <td>21</td>\n",
       "    </tr>\n",
       "    <tr>\n",
       "      <th>18</th>\n",
       "      <td>PEREZ REYES IVAN DARIO</td>\n",
       "      <td>39</td>\n",
       "      <td>38</td>\n",
       "      <td>12</td>\n",
       "      <td>22</td>\n",
       "      <td>17</td>\n",
       "      <td>47</td>\n",
       "      <td>52</td>\n",
       "      <td>27</td>\n",
       "      <td>53</td>\n",
       "      <td>34</td>\n",
       "    </tr>\n",
       "    <tr>\n",
       "      <th>19</th>\n",
       "      <td>PEREZ THERAN ERLINDA</td>\n",
       "      <td>52</td>\n",
       "      <td>3</td>\n",
       "      <td>46</td>\n",
       "      <td>23</td>\n",
       "      <td>50</td>\n",
       "      <td>25</td>\n",
       "      <td>51</td>\n",
       "      <td>39</td>\n",
       "      <td>20</td>\n",
       "      <td>35</td>\n",
       "    </tr>\n",
       "    <tr>\n",
       "      <th>20</th>\n",
       "      <td>PINEDA ROMERO YOSMERI</td>\n",
       "      <td>6</td>\n",
       "      <td>20</td>\n",
       "      <td>49</td>\n",
       "      <td>37</td>\n",
       "      <td>18</td>\n",
       "      <td>15</td>\n",
       "      <td>33</td>\n",
       "      <td>25</td>\n",
       "      <td>43</td>\n",
       "      <td>24</td>\n",
       "    </tr>\n",
       "    <tr>\n",
       "      <th>21</th>\n",
       "      <td>QUINONEZ CERVANTES MARIANA</td>\n",
       "      <td>17</td>\n",
       "      <td>24</td>\n",
       "      <td>27</td>\n",
       "      <td>41</td>\n",
       "      <td>37</td>\n",
       "      <td>21</td>\n",
       "      <td>51</td>\n",
       "      <td>50</td>\n",
       "      <td>11</td>\n",
       "      <td>42</td>\n",
       "    </tr>\n",
       "    <tr>\n",
       "      <th>22</th>\n",
       "      <td>QUIROZ DURAN JUAN MANUEL</td>\n",
       "      <td>7</td>\n",
       "      <td>32</td>\n",
       "      <td>45</td>\n",
       "      <td>14</td>\n",
       "      <td>10</td>\n",
       "      <td>47</td>\n",
       "      <td>6</td>\n",
       "      <td>3</td>\n",
       "      <td>38</td>\n",
       "      <td>12</td>\n",
       "    </tr>\n",
       "    <tr>\n",
       "      <th>23</th>\n",
       "      <td>RAMOS PEREZ YANINE</td>\n",
       "      <td>14</td>\n",
       "      <td>13</td>\n",
       "      <td>18</td>\n",
       "      <td>38</td>\n",
       "      <td>11</td>\n",
       "      <td>2</td>\n",
       "      <td>3</td>\n",
       "      <td>4</td>\n",
       "      <td>22</td>\n",
       "      <td>32</td>\n",
       "    </tr>\n",
       "    <tr>\n",
       "      <th>24</th>\n",
       "      <td>RIVAS HOYOS ESTEFANIA</td>\n",
       "      <td>11</td>\n",
       "      <td>12</td>\n",
       "      <td>45</td>\n",
       "      <td>43</td>\n",
       "      <td>15</td>\n",
       "      <td>13</td>\n",
       "      <td>49</td>\n",
       "      <td>18</td>\n",
       "      <td>31</td>\n",
       "      <td>28</td>\n",
       "    </tr>\n",
       "    <tr>\n",
       "      <th>25</th>\n",
       "      <td>ROSILLO TEJADA VANESA</td>\n",
       "      <td>18</td>\n",
       "      <td>52</td>\n",
       "      <td>26</td>\n",
       "      <td>43</td>\n",
       "      <td>23</td>\n",
       "      <td>16</td>\n",
       "      <td>10</td>\n",
       "      <td>25</td>\n",
       "      <td>39</td>\n",
       "      <td>27</td>\n",
       "    </tr>\n",
       "    <tr>\n",
       "      <th>26</th>\n",
       "      <td>SANCHEZ PADILLA SILVESTRE</td>\n",
       "      <td>25</td>\n",
       "      <td>24</td>\n",
       "      <td>33</td>\n",
       "      <td>42</td>\n",
       "      <td>15</td>\n",
       "      <td>36</td>\n",
       "      <td>20</td>\n",
       "      <td>45</td>\n",
       "      <td>11</td>\n",
       "      <td>17</td>\n",
       "    </tr>\n",
       "    <tr>\n",
       "      <th>27</th>\n",
       "      <td>SILVA ROYERO MAILY CRISTINA</td>\n",
       "      <td>4</td>\n",
       "      <td>54</td>\n",
       "      <td>24</td>\n",
       "      <td>53</td>\n",
       "      <td>13</td>\n",
       "      <td>50</td>\n",
       "      <td>27</td>\n",
       "      <td>45</td>\n",
       "      <td>31</td>\n",
       "      <td>26</td>\n",
       "    </tr>\n",
       "    <tr>\n",
       "      <th>28</th>\n",
       "      <td>USUGA GEORGE JHON ESTIVEN</td>\n",
       "      <td>47</td>\n",
       "      <td>52</td>\n",
       "      <td>33</td>\n",
       "      <td>14</td>\n",
       "      <td>22</td>\n",
       "      <td>8</td>\n",
       "      <td>3</td>\n",
       "      <td>53</td>\n",
       "      <td>12</td>\n",
       "      <td>32</td>\n",
       "    </tr>\n",
       "  </tbody>\n",
       "</table>\n",
       "</div>"
      ],
      "text/plain": [
       "                              Student  Exer1  Exer2  Exer3  Exer4  Exer5  \\\n",
       "0        AGUDELO MORENO RENATO DIRNEY     47      2     52     29     21   \n",
       "1   AMARIS FERNANDEZ SEBASTIAN CAMILO     42     23     44     20      2   \n",
       "2       ARENAS HERAZO GABRIEL ENRIQUE     45     26     20     10     35   \n",
       "3        AYALA MENDOZA MARISOL YACIRA     24     18     39     54      5   \n",
       "4          BERTEL RODELO MICHELL SMIT      9     23     32     46     18   \n",
       "5            BULA VERGARA MARIA PAULA     34      5     44     43     21   \n",
       "6             CANTILLO ENSUCHO DANIEL      2     20     43      7     32   \n",
       "7            CERVANTES DURAN ANGELICA     46     39     20     19     36   \n",
       "8         GALLEGO TEJADA JUAN ESTEBAN     19      7      6     34     30   \n",
       "9             GUERRA NORIEGA YONATHAN     54     46      2     35      9   \n",
       "10    HINCAPIE CASTRO JOHAN SEBASTIAN     47     53     42     46      4   \n",
       "11             HUMANEZ SANCHEZ CAMILO      5     14     43     16     33   \n",
       "12       IBAnEZ MORENO FRANCISCO LUIS     25     31     16     47     26   \n",
       "13  LONDONO CUADRADO CRISTIAN ALBERTO      4     26     30     25     33   \n",
       "14          MASS MIRANDA RIVALDO JOSE     19     11     43     47     21   \n",
       "15     MIRANDA MARTINEZ CARLOS ANDRES     15     10     45     14     21   \n",
       "16              MONTERROSA SOTO ABRIL      5     52     10     32     35   \n",
       "17           NORIEGA JIMENEZ GABRIELA     10     52     24      6     50   \n",
       "18             PEREZ REYES IVAN DARIO     39     38     12     22     17   \n",
       "19               PEREZ THERAN ERLINDA     52      3     46     23     50   \n",
       "20              PINEDA ROMERO YOSMERI      6     20     49     37     18   \n",
       "21         QUINONEZ CERVANTES MARIANA     17     24     27     41     37   \n",
       "22           QUIROZ DURAN JUAN MANUEL      7     32     45     14     10   \n",
       "23                 RAMOS PEREZ YANINE     14     13     18     38     11   \n",
       "24              RIVAS HOYOS ESTEFANIA     11     12     45     43     15   \n",
       "25              ROSILLO TEJADA VANESA     18     52     26     43     23   \n",
       "26          SANCHEZ PADILLA SILVESTRE     25     24     33     42     15   \n",
       "27        SILVA ROYERO MAILY CRISTINA      4     54     24     53     13   \n",
       "28          USUGA GEORGE JHON ESTIVEN     47     52     33     14     22   \n",
       "\n",
       "    Exer6  Exer7  Exer8  Exer9  Exer10  \n",
       "0       4     36     54     35      53  \n",
       "1      34     45     43     37       8  \n",
       "2      36     23     29     31      12  \n",
       "3      19     38     41     30      28  \n",
       "4      48     34     21     10      33  \n",
       "5      23     40     36     18      51  \n",
       "6      11     23     12     22      34  \n",
       "7      42     12     23     25      34  \n",
       "8      37     18     41     11      24  \n",
       "9       7     31     11     34      23  \n",
       "10     54     30     13     50      36  \n",
       "11     28      8     41     52       2  \n",
       "12     48     32     40     27       3  \n",
       "13     13      7     23     19      14  \n",
       "14     13     38     29     33      50  \n",
       "15     36     42     30     13      29  \n",
       "16     21     11     15     46      39  \n",
       "17     26     41     18      7      21  \n",
       "18     47     52     27     53      34  \n",
       "19     25     51     39     20      35  \n",
       "20     15     33     25     43      24  \n",
       "21     21     51     50     11      42  \n",
       "22     47      6      3     38      12  \n",
       "23      2      3      4     22      32  \n",
       "24     13     49     18     31      28  \n",
       "25     16     10     25     39      27  \n",
       "26     36     20     45     11      17  \n",
       "27     50     27     45     31      26  \n",
       "28      8      3     53     12      32  "
      ]
     },
     "execution_count": 7,
     "metadata": {},
     "output_type": "execute_result"
    }
   ],
   "source": [
    "# Tarea 2 de solución de problemas \n",
    "# asignación de ejercicios de un seccion del texto guía\n",
    "\n",
    "# numpy.random.choice() obten la documentación de esta función en: \n",
    "# https://numpy.org/doc/stable/reference/random/generated/numpy.random.choice.html\n",
    "\n",
    "import pandas as pd\n",
    "import numpy as np\n",
    "import requests\n",
    "np.random.seed(424)  # establecer semilla aleatoria para hacer los resultados reproducibles\n",
    "\n",
    "\n",
    "\n",
    "grupo_estudiantes = 'calculo_integral'\n",
    "nombre_texto_guia = 'Purcell'\n",
    "pagina_y_seccion = 'Página_202_Sección_3.8'\n",
    "numero_ejercicios_taller = 54\n",
    "numero_de_ejercicios_asignados = 10\n",
    "\n",
    "\n",
    "# Descargar la lista de  estudiantes\n",
    "students_url = \"https://raw.githubusercontent.com/marco-canas/groups_list/main/\" + grupo_estudiantes + \".csv\"\n",
    "exercises = list(range(1, numero_ejercicios_taller))  \n",
    "\n",
    "students_data = pd.read_csv(students_url)\n",
    "\n",
    "# Crear una lista para almacenar las asignaciones\n",
    "assignments = []\n",
    "\n",
    "# Asignar ejercicios aleatorios a cada estudiante\n",
    "for index, student in students_data.iterrows():\n",
    "    # Seleccionar 5 ejercicios aleatorios sin repetición\n",
    "    random_exercises = np.random.choice(exercises, numero_de_ejercicios_asignados, replace = False)+ 1 \n",
    "    assignments.append([students_data[\"Nombre\"][index], *random_exercises])  # Agregar asignación a la lista\n",
    "\n",
    "# Crear un DataFrame con las asignaciones\n",
    "columns = [\"Student\"] + [ \"Exer\" + str(i+1) for i in range(numero_de_ejercicios_asignados)]\n",
    "assignment_df = pd.DataFrame(assignments, columns=columns)\n",
    "\n",
    "# Guardar el DataFrame en un archivo CSV\n",
    "assignment_csv = \"tarea\" + \"_\" + nombre_texto_guia + \"_\"+ pagina_y_seccion + \".csv\"\n",
    "assignment_df.to_csv(assignment_csv, index=False)\n",
    "\n",
    "print(\"Tarea 3 de solución de problemas: \", assignment_csv)\n",
    "assignment_df"
   ]
  },
  {
   "cell_type": "markdown",
   "id": "8b6b0112",
   "metadata": {
    "slideshow": {
     "slide_type": "slide"
    }
   },
   "source": [
    "# Tareas para realizar después de la realización de la clase"
   ]
  },
  {
   "cell_type": "markdown",
   "id": "947460e3",
   "metadata": {
    "slideshow": {
     "slide_type": "slide"
    }
   },
   "source": [
    "* Actividades de memorización: \n",
    "  - escucha reiterada de grabaciones de formulas y resultados científicos. \n",
    "  - relectura de notas. \n",
    "  - ejercicios de mayor complejidad.\n",
    "\n",
    "\n",
    "### No olvide asignar las tareas a los estudiantes a través de Google Colab y compartiendole el cuaderno de asignación a su correo institucional con fecha de entrega. [Google Colab](https://colab.research.google.com/?hl=es)   \n",
    "  "
   ]
  },
  {
   "cell_type": "markdown",
   "id": "d34defb9",
   "metadata": {
    "slideshow": {
     "slide_type": "slide"
    }
   },
   "source": [
    "## Asignación individual de tareas semanales "
   ]
  },
  {
   "cell_type": "code",
   "execution_count": 9,
   "id": "0406f442",
   "metadata": {
    "slideshow": {
     "slide_type": "slide"
    }
   },
   "outputs": [
    {
     "name": "stdout",
     "output_type": "stream",
     "text": [
      "Tarea 3 Solución problemas describiendo y justificando:  tarea_Purcell_Página_202_Sección_3.8.csv\n"
     ]
    },
    {
     "data": {
      "text/html": [
       "<div>\n",
       "<style scoped>\n",
       "    .dataframe tbody tr th:only-of-type {\n",
       "        vertical-align: middle;\n",
       "    }\n",
       "\n",
       "    .dataframe tbody tr th {\n",
       "        vertical-align: top;\n",
       "    }\n",
       "\n",
       "    .dataframe thead th {\n",
       "        text-align: right;\n",
       "    }\n",
       "</style>\n",
       "<table border=\"1\" class=\"dataframe\">\n",
       "  <thead>\n",
       "    <tr style=\"text-align: right;\">\n",
       "      <th></th>\n",
       "      <th>Student</th>\n",
       "      <th>Exer1</th>\n",
       "      <th>Exer2</th>\n",
       "      <th>Exer3</th>\n",
       "      <th>Exer4</th>\n",
       "      <th>Exer5</th>\n",
       "      <th>Exer6</th>\n",
       "      <th>Exer7</th>\n",
       "      <th>Exer8</th>\n",
       "      <th>Exer9</th>\n",
       "      <th>Exer10</th>\n",
       "    </tr>\n",
       "  </thead>\n",
       "  <tbody>\n",
       "    <tr>\n",
       "      <th>0</th>\n",
       "      <td>AGUDELO MORENO RENATO DIRNEY</td>\n",
       "      <td>39</td>\n",
       "      <td>17</td>\n",
       "      <td>21</td>\n",
       "      <td>4</td>\n",
       "      <td>9</td>\n",
       "      <td>44</td>\n",
       "      <td>7</td>\n",
       "      <td>30</td>\n",
       "      <td>51</td>\n",
       "      <td>54</td>\n",
       "    </tr>\n",
       "    <tr>\n",
       "      <th>1</th>\n",
       "      <td>AMARIS FERNANDEZ SEBASTIAN CAMILO</td>\n",
       "      <td>2</td>\n",
       "      <td>28</td>\n",
       "      <td>32</td>\n",
       "      <td>5</td>\n",
       "      <td>17</td>\n",
       "      <td>40</td>\n",
       "      <td>46</td>\n",
       "      <td>26</td>\n",
       "      <td>11</td>\n",
       "      <td>50</td>\n",
       "    </tr>\n",
       "    <tr>\n",
       "      <th>2</th>\n",
       "      <td>ARENAS HERAZO GABRIEL ENRIQUE</td>\n",
       "      <td>37</td>\n",
       "      <td>10</td>\n",
       "      <td>39</td>\n",
       "      <td>51</td>\n",
       "      <td>47</td>\n",
       "      <td>21</td>\n",
       "      <td>52</td>\n",
       "      <td>45</td>\n",
       "      <td>18</td>\n",
       "      <td>46</td>\n",
       "    </tr>\n",
       "    <tr>\n",
       "      <th>3</th>\n",
       "      <td>AYALA MENDOZA MARISOL YACIRA</td>\n",
       "      <td>4</td>\n",
       "      <td>20</td>\n",
       "      <td>40</td>\n",
       "      <td>26</td>\n",
       "      <td>47</td>\n",
       "      <td>33</td>\n",
       "      <td>28</td>\n",
       "      <td>42</td>\n",
       "      <td>41</td>\n",
       "      <td>8</td>\n",
       "    </tr>\n",
       "    <tr>\n",
       "      <th>4</th>\n",
       "      <td>BERTEL RODELO MICHELL SMIT</td>\n",
       "      <td>12</td>\n",
       "      <td>13</td>\n",
       "      <td>48</td>\n",
       "      <td>30</td>\n",
       "      <td>29</td>\n",
       "      <td>20</td>\n",
       "      <td>23</td>\n",
       "      <td>27</td>\n",
       "      <td>34</td>\n",
       "      <td>25</td>\n",
       "    </tr>\n",
       "    <tr>\n",
       "      <th>5</th>\n",
       "      <td>BULA VERGARA MARIA PAULA</td>\n",
       "      <td>51</td>\n",
       "      <td>4</td>\n",
       "      <td>15</td>\n",
       "      <td>46</td>\n",
       "      <td>2</td>\n",
       "      <td>33</td>\n",
       "      <td>25</td>\n",
       "      <td>27</td>\n",
       "      <td>7</td>\n",
       "      <td>5</td>\n",
       "    </tr>\n",
       "    <tr>\n",
       "      <th>6</th>\n",
       "      <td>CANTILLO ENSUCHO DANIEL</td>\n",
       "      <td>5</td>\n",
       "      <td>52</td>\n",
       "      <td>24</td>\n",
       "      <td>34</td>\n",
       "      <td>19</td>\n",
       "      <td>17</td>\n",
       "      <td>14</td>\n",
       "      <td>22</td>\n",
       "      <td>2</td>\n",
       "      <td>4</td>\n",
       "    </tr>\n",
       "    <tr>\n",
       "      <th>7</th>\n",
       "      <td>CERVANTES DURAN ANGELICA</td>\n",
       "      <td>49</td>\n",
       "      <td>20</td>\n",
       "      <td>48</td>\n",
       "      <td>53</td>\n",
       "      <td>26</td>\n",
       "      <td>39</td>\n",
       "      <td>28</td>\n",
       "      <td>35</td>\n",
       "      <td>24</td>\n",
       "      <td>3</td>\n",
       "    </tr>\n",
       "    <tr>\n",
       "      <th>8</th>\n",
       "      <td>GALLEGO TEJADA JUAN ESTEBAN</td>\n",
       "      <td>28</td>\n",
       "      <td>17</td>\n",
       "      <td>29</td>\n",
       "      <td>32</td>\n",
       "      <td>27</td>\n",
       "      <td>48</td>\n",
       "      <td>36</td>\n",
       "      <td>44</td>\n",
       "      <td>10</td>\n",
       "      <td>54</td>\n",
       "    </tr>\n",
       "    <tr>\n",
       "      <th>9</th>\n",
       "      <td>GUERRA NORIEGA YONATHAN</td>\n",
       "      <td>33</td>\n",
       "      <td>41</td>\n",
       "      <td>49</td>\n",
       "      <td>19</td>\n",
       "      <td>3</td>\n",
       "      <td>44</td>\n",
       "      <td>24</td>\n",
       "      <td>47</td>\n",
       "      <td>16</td>\n",
       "      <td>43</td>\n",
       "    </tr>\n",
       "    <tr>\n",
       "      <th>10</th>\n",
       "      <td>HINCAPIE CASTRO JOHAN SEBASTIAN</td>\n",
       "      <td>27</td>\n",
       "      <td>43</td>\n",
       "      <td>31</td>\n",
       "      <td>16</td>\n",
       "      <td>42</td>\n",
       "      <td>28</td>\n",
       "      <td>13</td>\n",
       "      <td>3</td>\n",
       "      <td>8</td>\n",
       "      <td>21</td>\n",
       "    </tr>\n",
       "    <tr>\n",
       "      <th>11</th>\n",
       "      <td>HUMANEZ SANCHEZ CAMILO</td>\n",
       "      <td>46</td>\n",
       "      <td>3</td>\n",
       "      <td>12</td>\n",
       "      <td>31</td>\n",
       "      <td>35</td>\n",
       "      <td>2</td>\n",
       "      <td>13</td>\n",
       "      <td>23</td>\n",
       "      <td>52</td>\n",
       "      <td>24</td>\n",
       "    </tr>\n",
       "    <tr>\n",
       "      <th>12</th>\n",
       "      <td>IBAnEZ MORENO FRANCISCO LUIS</td>\n",
       "      <td>26</td>\n",
       "      <td>10</td>\n",
       "      <td>27</td>\n",
       "      <td>25</td>\n",
       "      <td>12</td>\n",
       "      <td>21</td>\n",
       "      <td>24</td>\n",
       "      <td>50</td>\n",
       "      <td>39</td>\n",
       "      <td>29</td>\n",
       "    </tr>\n",
       "    <tr>\n",
       "      <th>13</th>\n",
       "      <td>LONDONO CUADRADO CRISTIAN ALBERTO</td>\n",
       "      <td>42</td>\n",
       "      <td>35</td>\n",
       "      <td>30</td>\n",
       "      <td>36</td>\n",
       "      <td>28</td>\n",
       "      <td>14</td>\n",
       "      <td>10</td>\n",
       "      <td>18</td>\n",
       "      <td>16</td>\n",
       "      <td>50</td>\n",
       "    </tr>\n",
       "    <tr>\n",
       "      <th>14</th>\n",
       "      <td>MASS MIRANDA RIVALDO JOSE</td>\n",
       "      <td>16</td>\n",
       "      <td>13</td>\n",
       "      <td>14</td>\n",
       "      <td>36</td>\n",
       "      <td>37</td>\n",
       "      <td>22</td>\n",
       "      <td>4</td>\n",
       "      <td>46</td>\n",
       "      <td>51</td>\n",
       "      <td>19</td>\n",
       "    </tr>\n",
       "    <tr>\n",
       "      <th>15</th>\n",
       "      <td>MIRANDA MARTINEZ CARLOS ANDRES</td>\n",
       "      <td>46</td>\n",
       "      <td>17</td>\n",
       "      <td>53</td>\n",
       "      <td>40</td>\n",
       "      <td>34</td>\n",
       "      <td>33</td>\n",
       "      <td>26</td>\n",
       "      <td>23</td>\n",
       "      <td>19</td>\n",
       "      <td>30</td>\n",
       "    </tr>\n",
       "    <tr>\n",
       "      <th>16</th>\n",
       "      <td>MONTERROSA SOTO ABRIL</td>\n",
       "      <td>30</td>\n",
       "      <td>3</td>\n",
       "      <td>19</td>\n",
       "      <td>42</td>\n",
       "      <td>6</td>\n",
       "      <td>32</td>\n",
       "      <td>45</td>\n",
       "      <td>39</td>\n",
       "      <td>21</td>\n",
       "      <td>25</td>\n",
       "    </tr>\n",
       "    <tr>\n",
       "      <th>17</th>\n",
       "      <td>NORIEGA JIMENEZ GABRIELA</td>\n",
       "      <td>50</td>\n",
       "      <td>36</td>\n",
       "      <td>31</td>\n",
       "      <td>2</td>\n",
       "      <td>37</td>\n",
       "      <td>32</td>\n",
       "      <td>42</td>\n",
       "      <td>35</td>\n",
       "      <td>30</td>\n",
       "      <td>47</td>\n",
       "    </tr>\n",
       "    <tr>\n",
       "      <th>18</th>\n",
       "      <td>PEREZ REYES IVAN DARIO</td>\n",
       "      <td>15</td>\n",
       "      <td>13</td>\n",
       "      <td>6</td>\n",
       "      <td>46</td>\n",
       "      <td>5</td>\n",
       "      <td>32</td>\n",
       "      <td>33</td>\n",
       "      <td>49</td>\n",
       "      <td>8</td>\n",
       "      <td>42</td>\n",
       "    </tr>\n",
       "    <tr>\n",
       "      <th>19</th>\n",
       "      <td>PEREZ THERAN ERLINDA</td>\n",
       "      <td>46</td>\n",
       "      <td>52</td>\n",
       "      <td>37</td>\n",
       "      <td>29</td>\n",
       "      <td>28</td>\n",
       "      <td>11</td>\n",
       "      <td>39</td>\n",
       "      <td>20</td>\n",
       "      <td>44</td>\n",
       "      <td>21</td>\n",
       "    </tr>\n",
       "    <tr>\n",
       "      <th>20</th>\n",
       "      <td>PINEDA ROMERO YOSMERI</td>\n",
       "      <td>17</td>\n",
       "      <td>14</td>\n",
       "      <td>25</td>\n",
       "      <td>48</td>\n",
       "      <td>30</td>\n",
       "      <td>12</td>\n",
       "      <td>37</td>\n",
       "      <td>28</td>\n",
       "      <td>7</td>\n",
       "      <td>10</td>\n",
       "    </tr>\n",
       "    <tr>\n",
       "      <th>21</th>\n",
       "      <td>QUINONEZ CERVANTES MARIANA</td>\n",
       "      <td>23</td>\n",
       "      <td>40</td>\n",
       "      <td>27</td>\n",
       "      <td>36</td>\n",
       "      <td>22</td>\n",
       "      <td>34</td>\n",
       "      <td>28</td>\n",
       "      <td>12</td>\n",
       "      <td>44</td>\n",
       "      <td>30</td>\n",
       "    </tr>\n",
       "    <tr>\n",
       "      <th>22</th>\n",
       "      <td>QUIROZ DURAN JUAN MANUEL</td>\n",
       "      <td>38</td>\n",
       "      <td>53</td>\n",
       "      <td>4</td>\n",
       "      <td>43</td>\n",
       "      <td>22</td>\n",
       "      <td>7</td>\n",
       "      <td>48</td>\n",
       "      <td>32</td>\n",
       "      <td>15</td>\n",
       "      <td>34</td>\n",
       "    </tr>\n",
       "    <tr>\n",
       "      <th>23</th>\n",
       "      <td>RAMOS PEREZ YANINE</td>\n",
       "      <td>35</td>\n",
       "      <td>42</td>\n",
       "      <td>12</td>\n",
       "      <td>25</td>\n",
       "      <td>54</td>\n",
       "      <td>20</td>\n",
       "      <td>13</td>\n",
       "      <td>30</td>\n",
       "      <td>4</td>\n",
       "      <td>5</td>\n",
       "    </tr>\n",
       "    <tr>\n",
       "      <th>24</th>\n",
       "      <td>RIVAS HOYOS ESTEFANIA</td>\n",
       "      <td>10</td>\n",
       "      <td>42</td>\n",
       "      <td>5</td>\n",
       "      <td>44</td>\n",
       "      <td>37</td>\n",
       "      <td>51</td>\n",
       "      <td>39</td>\n",
       "      <td>7</td>\n",
       "      <td>22</td>\n",
       "      <td>8</td>\n",
       "    </tr>\n",
       "    <tr>\n",
       "      <th>25</th>\n",
       "      <td>ROSILLO TEJADA VANESA</td>\n",
       "      <td>29</td>\n",
       "      <td>12</td>\n",
       "      <td>17</td>\n",
       "      <td>24</td>\n",
       "      <td>7</td>\n",
       "      <td>31</td>\n",
       "      <td>9</td>\n",
       "      <td>33</td>\n",
       "      <td>16</td>\n",
       "      <td>46</td>\n",
       "    </tr>\n",
       "    <tr>\n",
       "      <th>26</th>\n",
       "      <td>SANCHEZ PADILLA SILVESTRE</td>\n",
       "      <td>46</td>\n",
       "      <td>48</td>\n",
       "      <td>53</td>\n",
       "      <td>28</td>\n",
       "      <td>17</td>\n",
       "      <td>19</td>\n",
       "      <td>14</td>\n",
       "      <td>47</td>\n",
       "      <td>23</td>\n",
       "      <td>20</td>\n",
       "    </tr>\n",
       "    <tr>\n",
       "      <th>27</th>\n",
       "      <td>SILVA ROYERO MAILY CRISTINA</td>\n",
       "      <td>3</td>\n",
       "      <td>24</td>\n",
       "      <td>26</td>\n",
       "      <td>49</td>\n",
       "      <td>6</td>\n",
       "      <td>48</td>\n",
       "      <td>8</td>\n",
       "      <td>34</td>\n",
       "      <td>2</td>\n",
       "      <td>19</td>\n",
       "    </tr>\n",
       "    <tr>\n",
       "      <th>28</th>\n",
       "      <td>USUGA GEORGE JHON ESTIVEN</td>\n",
       "      <td>29</td>\n",
       "      <td>35</td>\n",
       "      <td>24</td>\n",
       "      <td>41</td>\n",
       "      <td>33</td>\n",
       "      <td>39</td>\n",
       "      <td>6</td>\n",
       "      <td>31</td>\n",
       "      <td>21</td>\n",
       "      <td>44</td>\n",
       "    </tr>\n",
       "  </tbody>\n",
       "</table>\n",
       "</div>"
      ],
      "text/plain": [
       "                              Student  Exer1  Exer2  Exer3  Exer4  Exer5  \\\n",
       "0        AGUDELO MORENO RENATO DIRNEY     39     17     21      4      9   \n",
       "1   AMARIS FERNANDEZ SEBASTIAN CAMILO      2     28     32      5     17   \n",
       "2       ARENAS HERAZO GABRIEL ENRIQUE     37     10     39     51     47   \n",
       "3        AYALA MENDOZA MARISOL YACIRA      4     20     40     26     47   \n",
       "4          BERTEL RODELO MICHELL SMIT     12     13     48     30     29   \n",
       "5            BULA VERGARA MARIA PAULA     51      4     15     46      2   \n",
       "6             CANTILLO ENSUCHO DANIEL      5     52     24     34     19   \n",
       "7            CERVANTES DURAN ANGELICA     49     20     48     53     26   \n",
       "8         GALLEGO TEJADA JUAN ESTEBAN     28     17     29     32     27   \n",
       "9             GUERRA NORIEGA YONATHAN     33     41     49     19      3   \n",
       "10    HINCAPIE CASTRO JOHAN SEBASTIAN     27     43     31     16     42   \n",
       "11             HUMANEZ SANCHEZ CAMILO     46      3     12     31     35   \n",
       "12       IBAnEZ MORENO FRANCISCO LUIS     26     10     27     25     12   \n",
       "13  LONDONO CUADRADO CRISTIAN ALBERTO     42     35     30     36     28   \n",
       "14          MASS MIRANDA RIVALDO JOSE     16     13     14     36     37   \n",
       "15     MIRANDA MARTINEZ CARLOS ANDRES     46     17     53     40     34   \n",
       "16              MONTERROSA SOTO ABRIL     30      3     19     42      6   \n",
       "17           NORIEGA JIMENEZ GABRIELA     50     36     31      2     37   \n",
       "18             PEREZ REYES IVAN DARIO     15     13      6     46      5   \n",
       "19               PEREZ THERAN ERLINDA     46     52     37     29     28   \n",
       "20              PINEDA ROMERO YOSMERI     17     14     25     48     30   \n",
       "21         QUINONEZ CERVANTES MARIANA     23     40     27     36     22   \n",
       "22           QUIROZ DURAN JUAN MANUEL     38     53      4     43     22   \n",
       "23                 RAMOS PEREZ YANINE     35     42     12     25     54   \n",
       "24              RIVAS HOYOS ESTEFANIA     10     42      5     44     37   \n",
       "25              ROSILLO TEJADA VANESA     29     12     17     24      7   \n",
       "26          SANCHEZ PADILLA SILVESTRE     46     48     53     28     17   \n",
       "27        SILVA ROYERO MAILY CRISTINA      3     24     26     49      6   \n",
       "28          USUGA GEORGE JHON ESTIVEN     29     35     24     41     33   \n",
       "\n",
       "    Exer6  Exer7  Exer8  Exer9  Exer10  \n",
       "0      44      7     30     51      54  \n",
       "1      40     46     26     11      50  \n",
       "2      21     52     45     18      46  \n",
       "3      33     28     42     41       8  \n",
       "4      20     23     27     34      25  \n",
       "5      33     25     27      7       5  \n",
       "6      17     14     22      2       4  \n",
       "7      39     28     35     24       3  \n",
       "8      48     36     44     10      54  \n",
       "9      44     24     47     16      43  \n",
       "10     28     13      3      8      21  \n",
       "11      2     13     23     52      24  \n",
       "12     21     24     50     39      29  \n",
       "13     14     10     18     16      50  \n",
       "14     22      4     46     51      19  \n",
       "15     33     26     23     19      30  \n",
       "16     32     45     39     21      25  \n",
       "17     32     42     35     30      47  \n",
       "18     32     33     49      8      42  \n",
       "19     11     39     20     44      21  \n",
       "20     12     37     28      7      10  \n",
       "21     34     28     12     44      30  \n",
       "22      7     48     32     15      34  \n",
       "23     20     13     30      4       5  \n",
       "24     51     39      7     22       8  \n",
       "25     31      9     33     16      46  \n",
       "26     19     14     47     23      20  \n",
       "27     48      8     34      2      19  \n",
       "28     39      6     31     21      44  "
      ]
     },
     "execution_count": 9,
     "metadata": {},
     "output_type": "execute_result"
    }
   ],
   "source": [
    "# Tarea 3 de solución de problemas describiendo procedimientos y justificándolos\n",
    "\n",
    "# asignación de ejercicios de un seccion del texto guía\n",
    "\n",
    "# numpy.random.choice() obten la documentación de esta función en: \n",
    "# https://numpy.org/doc/stable/reference/random/generated/numpy.random.choice.html\n",
    "\n",
    "import pandas as pd\n",
    "import numpy as np\n",
    "import requests\n",
    "np.random.seed(126)  # establecer semilla aleatoria para hacer los resultados reproducibles\n",
    "\n",
    "\n",
    "\n",
    "grupo_estudiantes = 'calculo_integral'\n",
    "nombre_texto_guia = 'Purcell'\n",
    "pagina_y_seccion = 'Página_202_Sección_3.8'\n",
    "numero_ejercicios_taller = 54\n",
    "numero_de_ejercicios_asignados = 10\n",
    "\n",
    "\n",
    "# Descargar la lista de  estudiantes\n",
    "students_url = \"https://raw.githubusercontent.com/marco-canas/groups_list/main/\" + grupo_estudiantes + \".csv\"\n",
    "exercises = list(range(1, numero_ejercicios_taller))  \n",
    "\n",
    "students_data = pd.read_csv(students_url)\n",
    "\n",
    "# Crear una lista para almacenar las asignaciones\n",
    "assignments = []\n",
    "\n",
    "# Asignar ejercicios aleatorios a cada estudiante\n",
    "for index, student in students_data.iterrows():\n",
    "    # Seleccionar 5 ejercicios aleatorios sin repetición\n",
    "    random_exercises = np.random.choice(exercises, numero_de_ejercicios_asignados, replace = False)+ 1 \n",
    "    assignments.append([students_data[\"Nombre\"][index], *random_exercises])  # Agregar asignación a la lista\n",
    "\n",
    "# Crear un DataFrame con las asignaciones\n",
    "columns = [\"Student\"] + [ \"Exer\" + str(i+1) for i in range(numero_de_ejercicios_asignados)]\n",
    "assignment_df = pd.DataFrame(assignments, columns=columns)\n",
    "\n",
    "# Guardar el DataFrame en un archivo CSV\n",
    "assignment_csv = \"tarea\" + \"_\" + nombre_texto_guia + \"_\"+ pagina_y_seccion + \".csv\"\n",
    "assignment_df.to_csv(assignment_csv, index=False)\n",
    "\n",
    "print(\"Tarea 3 Solución problemas describiendo y justificando: \", assignment_csv)\n",
    "assignment_df"
   ]
  },
  {
   "cell_type": "markdown",
   "id": "742281f4",
   "metadata": {},
   "source": [
    "# No olvide la tarea de realizar la foda para autoevaluarse\n",
    "\n",
    "Fortalezas: F  \n",
    "Oportuniudades O:  \n",
    "Debilidades: D:   \n",
    "Amenazas: A:     "
   ]
  },
  {
   "cell_type": "markdown",
   "id": "8d41fe58",
   "metadata": {
    "slideshow": {
     "slide_type": "slide"
    }
   },
   "source": [
    "# Horario de clases del profesor Marco\n",
    "\n",
    "* Martes y jueves de 10 a 12: Fundamentos de las matemáticas\n",
    "* Martes y jueves de 2 a 4 PM: Fundamentos de la aritmética\n",
    "\n",
    "* Didáctica de la aritmética: Miércoles de 8 - 12\n",
    "\n"
   ]
  },
  {
   "cell_type": "markdown",
   "id": "ae114e14",
   "metadata": {
    "slideshow": {
     "slide_type": "slide"
    }
   },
   "source": [
    "# Horarios de monitoría y asesoría"
   ]
  },
  {
   "cell_type": "markdown",
   "id": "b1db4b6c",
   "metadata": {
    "slideshow": {
     "slide_type": "slide"
    }
   },
   "source": [
    "## Monitor Manuel"
   ]
  },
  {
   "cell_type": "markdown",
   "id": "39559692",
   "metadata": {
    "slideshow": {
     "slide_type": "slide"
    }
   },
   "source": [
    "Martes y jueves de 8 - 12  \n",
    "Miércoles 10 - 12 y de 2 a 4 PM  \n",
    "Sábado: 8 - 12"
   ]
  },
  {
   "cell_type": "markdown",
   "id": "935a5567",
   "metadata": {
    "slideshow": {
     "slide_type": "slide"
    }
   },
   "source": [
    "## Dificultades de aprendizaje detectados durante la clase"
   ]
  },
  {
   "cell_type": "markdown",
   "id": "3bd7500d",
   "metadata": {
    "slideshow": {
     "slide_type": "slide"
    }
   },
   "source": []
  },
  {
   "cell_type": "markdown",
   "id": "fb9402bb",
   "metadata": {
    "slideshow": {
     "slide_type": "slide"
    }
   },
   "source": [
    "## Estrategias propuestas para la solución de las dificultades de aprendizaje detectadas"
   ]
  },
  {
   "cell_type": "markdown",
   "id": "d437294b",
   "metadata": {
    "slideshow": {
     "slide_type": "slide"
    }
   },
   "source": []
  },
  {
   "cell_type": "markdown",
   "id": "d11570a2",
   "metadata": {
    "slideshow": {
     "slide_type": "slide"
    }
   },
   "source": []
  },
  {
   "cell_type": "markdown",
   "id": "319f2ffa",
   "metadata": {
    "slideshow": {
     "slide_type": "slide"
    }
   },
   "source": [
    "## Grabaciones en audio para fomentar la capacidad de memorizar enunciados de teoremas y resultados científicos y la capacidad de parafrasear estos resultados. Y así desarrollar memoria muscular para los comandos comunes. \n",
    "Se dispondrá de un lugar en Vocaroo para albergar archivos de audio de fomento a la memorización, enunciación y parafraseo de los resultados científicos, propiedades, reglas, etc. \n",
    "\n",
    "[Vocaroo](https://vocaroo.com/)\n",
    "\n"
   ]
  },
  {
   "cell_type": "markdown",
   "id": "564fa59d",
   "metadata": {
    "slideshow": {
     "slide_type": "slide"
    }
   },
   "source": [
    "### Comparta sus cuadernos y videos, evidencias de su aprendizaje [aquí](https://forms.office.com/Pages/ResponsePage.aspx?id=IefhmYRxjkmK_7KtTlPBwkanXIs1i1FEujpsZgO6dXpUMEMwTEZVMzEwVVBPTElWNVg5OVEyWUhMUy4u)"
   ]
  },
  {
   "cell_type": "markdown",
   "id": "1a1a3e41",
   "metadata": {
    "slideshow": {
     "slide_type": "slide"
    }
   },
   "source": []
  },
  {
   "cell_type": "markdown",
   "id": "44be6d93",
   "metadata": {
    "slideshow": {
     "slide_type": "slide"
    }
   },
   "source": [
    "# Vocabulary "
   ]
  },
  {
   "cell_type": "markdown",
   "id": "35e2484a",
   "metadata": {
    "slideshow": {
     "slide_type": "slide"
    }
   },
   "source": [
    "1. \n",
    "2.  \n",
    "3.  \n",
    "4.  \n",
    "5.  "
   ]
  },
  {
   "cell_type": "markdown",
   "id": "94187562",
   "metadata": {},
   "source": [
    "# Colección de verbos irregulares aprendidos\n",
    "\n",
    "|Verbo irregular en presente|en español|Pasado|\n",
    "|---------------------------|----------|------|  \n",
    "|choose|elegir|chose|"
   ]
  },
  {
   "cell_type": "markdown",
   "id": "0266e3c5",
   "metadata": {
    "slideshow": {
     "slide_type": "slide"
    }
   },
   "source": [
    "## Quiz de 20 minutos para ejercitación y adquisición de habilidades "
   ]
  },
  {
   "cell_type": "markdown",
   "id": "3a1b127f",
   "metadata": {
    "slideshow": {
     "slide_type": "slide"
    }
   },
   "source": [
    "* Pregunta 1: \n",
    "* Pregunta 2: \n",
    "* Pregunta 3: "
   ]
  },
  {
   "cell_type": "markdown",
   "id": "10bce0d0",
   "metadata": {
    "slideshow": {
     "slide_type": "slide"
    }
   },
   "source": [
    "## Referentes "
   ]
  },
  {
   "cell_type": "markdown",
   "id": "1db3c468",
   "metadata": {
    "slideshow": {
     "slide_type": "slide"
    }
   },
   "source": [
    "* Chollet, F. (2021). Deep learning with Python. Simon and Schuster.  \n",
    "  \n",
    "* [stewart precálculo](https://udeaeduco-my.sharepoint.com/:b:/g/personal/marco_canas_udea_edu_co/ERHIq62I6qFNrmxy6LZb8ZMBci7kUsyNME1nIh9yCBMJ_w?e=0zMSla)  \n",
    "\n",
    "* [stewart cálculo](https://udeaeduco-my.sharepoint.com/:b:/g/personal/marco_canas_udea_edu_co/EZgXZjAp8QxPqOAim2hs6LcBNPLGjSHf-xwYnUVYkwa04w?e=RZdTCy)  \n",
    "\n",
    "* [larson](https://udeaeduco-my.sharepoint.com/:b:/g/personal/marco_canas_udea_edu_co/ES71ChFeO9ZDhW3TwC5Ijk8BjxUK3Pdqz_fjHxTTFAfIAg?e=VDEjfu)\n",
    "\n",
    "* [uzcategui](https://udeaeduco-my.sharepoint.com/:b:/g/personal/marco_canas_udea_edu_co/ETDikm-lVl1Or8XoEo9oyh0BEti9Zs8le-f0D-dBdtZmbA?e=bBsoyQ)\n",
    "\n",
    "* [Cálculo de Purcell](https://udeaeduco-my.sharepoint.com/:b:/g/personal/marco_canas_udea_edu_co/ES60UB4h-QFFqqRQUFmkpWcBIgoLBJeqTfZjNajWNWSeJA?e=9NxjKJ)\n",
    "\n",
    "* [Recomendación de la UNESCO sobre ciencia abierta](https://unesdoc.unesco.org/ark:/48223/pf0000379949_spa)\n",
    "\n",
    "* [Fórmulas más comunes en latex](https://wiki.geogebra.org/es/C%C3%B3digo_LaTeX_para_las_f%C3%B3rmulas_m%C3%A1s_comunes) \n",
    "\n",
    "* [chatGPT](https://openai.com/blog/chatgpt)  \n",
    "\n",
    "* Géron, A. (2017). Hands-on machine learning with scikit-learn and tensorflow: Concepts. Tools, and Techniques to build intelligent systems.[Geron, Aurelien. Hands on Machine Learning](https://udeaeduco-my.sharepoint.com/:b:/g/personal/marco_canas_udea_edu_co/Ecet27yjQzZIlT1Y_Bc2erkBUhbeYuIe6HG8i1FYZRlZww?e=dlvZ4v)  \n",
    "\n",
    "* McKinney, W. (2012). Python for data analysis: Data wrangling with Pandas, NumPy, and IPython. \" O'Reilly Media, Inc.\".[Wes Mackinney. ](https://udeaeduco-my.sharepoint.com/:b:/g/personal/marco_canas_udea_edu_co/EVbi5JIeBl9ErbiUnZfGe8YBhNTnZ8sxTK5hjIOPK4UpGw?e=fFclah)  \n",
    "\n",
    "* [Ledezma, C., Font, V., & Sala-Sebastià, G. MODELIZACIÓN MATEMÁTICA DESDE UNA ARTICULACIÓN TEÓRICA ENTRE LOS ENFOQUES COGNITIVO Y ONTO-SEMIÓTICO.](https://www.researchgate.net/profile/Carlos-Ledezma-4/publication/376076920_Modelizacion_matematica_desde_una_articulacion_teorica_entre_los_enfoques_cognitivo_y_onto-semiotico/links/6568cb363fa26f66f43b292a/Modelizacion-matematica-desde-una-articulacion-teorica-entre-los-enfoques-cognitivo-y-onto-semiotico.pdf)"
   ]
  },
  {
   "cell_type": "markdown",
   "id": "45c59aa9",
   "metadata": {},
   "source": [
    "[Autoevaluemonos para hacernos concientes de nuestro aprendizaje y en lo que debemos enfocarnos en mejorar]()  \n",
    "\n",
    "Aquí tienes una lista de preguntas de selección múltiple para una autoevaluación en un curso de cálculo con un enfoque pedagógico de aula invertida. Estas preguntas abarcan los objetivos de desarrollo del pensamiento variacional, pensamiento computacional a través de Python, capacidad de comunicación científica con LaTeX, Git y el uso de cuadernos Jupyter, así como la promoción de políticas de ciencia libre. \n",
    "\n",
    "1. **Pensamiento Variacional:**\n",
    "   a. ¿Qué significa el término \"variación\" en el contexto del pensamiento variacional?\n",
    "   b. ¿Cómo se relaciona el cálculo con el pensamiento variacional?\n",
    "   c. ¿Puede proporcionar un ejemplo práctico que ilustre el concepto de variación en un problema de cálculo?\n",
    "\n",
    "2. **Pensamiento Computacional (Python):**\n",
    "   a. ¿Cuál es el propósito principal de utilizar Python en un curso de cálculo?\n",
    "   b. ¿Cómo se puede utilizar Python para resolver problemas matemáticos complejos?\n",
    "   c. Menciona al menos dos ventajas de usar Python en comparación con otros lenguajes de programación en el contexto del cálculo.\n",
    "\n",
    "3. **Comunicación Científica (LaTeX):**\n",
    "   a. ¿Por qué es importante utilizar LaTeX para la comunicación científica en matemáticas y ciencias?\n",
    "   b. Enumera al menos tres comandos básicos de LaTeX utilizados para escribir ecuaciones matemáticas.\n",
    "   c. ¿Cómo mejorarías la presentación visual de una fórmula matemática utilizando LaTeX?\n",
    "\n",
    "4. **Gestión de Versiones (Git):**\n",
    "   a. ¿Cuál es el propósito principal de utilizar Git en el desarrollo de proyectos científicos?\n",
    "   b. Explica el concepto de \"commit\" en Git.\n",
    "   c. ¿Cómo resolverías un conflicto de fusión (merge conflict) en Git?\n",
    "\n",
    "5. **Cuadernos Jupyter:**\n",
    "   a. ¿Cuáles son las ventajas de utilizar cuadernos Jupyter en comparación con otros entornos de desarrollo?\n",
    "   b. Describe cómo se integra el código Python y la documentación en un cuaderno Jupyter.\n",
    "   c. ¿Cómo compartirías un cuaderno Jupyter con tus compañeros de clase utilizando GitHub?\n",
    "\n",
    "6. **Promoción de Políticas de Ciencia Libre:**\n",
    "   a. ¿Cuáles son los beneficios de utilizar plataformas como GitHub y YouTube para compartir recursos científicos?\n",
    "   b. ¿Cómo podrías contribuir a la promoción de la ciencia libre en tu comunidad académica?\n",
    "   c. ¿Por qué es importante la transparencia y accesibilidad en la investigación científica?\n",
    "\n",
    "Estas preguntas están diseñadas para evaluar la comprensión de los estudiantes en diversos aspectos del curso, abarcando desde los conceptos matemáticos hasta las habilidades tecnológicas y la conciencia sobre la ciencia libre."
   ]
  },
  {
   "cell_type": "markdown",
   "id": "8e65d6f9",
   "metadata": {},
   "source": [
    "# Como estudiante, encuentro que...   \n",
    "\n",
    "F: Mis Fortalezas son:     \n",
    "O: Mis Oportunidades son:    \n",
    "D: Mis Debilidades son:    \n",
    "A: Lo que Amenazas mi aprendizaje es:  "
   ]
  },
  {
   "cell_type": "markdown",
   "id": "6b9e56a8",
   "metadata": {
    "slideshow": {
     "slide_type": "slide"
    }
   },
   "source": [
    "### [Evaluamos al profesor Marco Cañas Aquí](https://forms.office.com/Pages/ResponsePage.aspx?id=IefhmYRxjkmK_7KtTlPBwkanXIs1i1FEujpsZgO6dXpUREJPV1kxUk1JV1ozTFJIQVNIQjY5WEY3US4u)"
   ]
  },
  {
   "cell_type": "markdown",
   "id": "050b9508",
   "metadata": {},
   "source": [
    "# Aportes de mis estudiantes a la metodología del curso  \n",
    "1. \n",
    "\n",
    "Sus opiniones y aportes son muy importantes para mi. Pues esta es una investigación educativa y un servicio de enseñanza para ustedes. Ustedes son la razón de ser de mi actividad docente. Dios los bendiga. "
   ]
  },
  {
   "cell_type": "markdown",
   "id": "6c4af91f",
   "metadata": {},
   "source": [
    "# Aportes de mis colegas docentes a la metodología que estoy aplicando en mis cursos. "
   ]
  },
  {
   "cell_type": "markdown",
   "id": "071afa04",
   "metadata": {
    "slideshow": {
     "slide_type": "slide"
    }
   },
   "source": [
    "## [Evaluación luego de alcanzar estos objetivos de aprendizaje]()"
   ]
  },
  {
   "cell_type": "markdown",
   "id": "10f43536",
   "metadata": {
    "slideshow": {
     "slide_type": "slide"
    }
   },
   "source": [
    "### Continue su aprendizaje en la siguiente clase a través del siguiente [vínculo]()"
   ]
  },
  {
   "cell_type": "markdown",
   "id": "af751e30",
   "metadata": {
    "slideshow": {
     "slide_type": "slide"
    }
   },
   "source": [
    "# Conjeturas pedagógicas fruto de la aplicación del modelo de aprendizaje invertido y del enfoque hacia la ciencia de datos con python\n",
    "\n",
    "1. Todo cálculo o resultado debe ser interpretado en una línea markdown del cuaderno Jupyter, inmediatamente después de la enunciación del resultado y después de la presentación de una tabla o gráfico bidimensional, de tal menera que el estudiante explicite la comprensión verbal del resultado y las inferencias o estrategias que este resultado le sugieren.  \n",
    "\n",
    "2. Debo colocar las conjeturas pedagógicas, que el uso en el aula de [ChatGPT](https://openai.com/blog/chatgpt/) traiga para la enseñanza y el aprendizaje de las matemáticas. \n",
    "\n",
    "3. Promover ciencia abierta en clase de matemáticas puede ser pidiendo a los estudiantes, tomar nota en clase pero en cuadernos Jupyter y entregar siempre al final de cada clase su cuaderno con todas las notas y experimentaciones de clase replicadas. \n",
    "4. Profesor Marco, ¿ha contemplado la posibilidad de intercambio de experiencias de aprendizaje y aplicación de Python al día a día con comfama? (Estudio Trabajo Social y allí, en comfama, aprendí los fundamentos, lo básico de Python)\n",
    "\n",
    "¿Conoce si en la Universidad de Antioquia hay medios para poder aprender Swift/XCODE? (Para programar para dispositivos de Apple)\n",
    "5. Debo considerar la metodología ABP, es decir, diseñar las clase bajo la metodología de Aprendizaje Basado en Problemas. \n",
    "\n"
   ]
  },
  {
   "cell_type": "markdown",
   "id": "53cc9115",
   "metadata": {
    "slideshow": {
     "slide_type": "slide"
    }
   },
   "source": [
    "## Agradecimientos  \n",
    "\n",
    "Doy gracias a Dios por la vida de mi Hijo Joseph Cañas Osorio y la madurez que ha alcanzado.\n",
    "\n",
    "Y a mi esposa Yasmira por su apoyo, orientación y acompañamiento. "
   ]
  }
 ],
 "metadata": {
  "celltoolbar": "Slideshow",
  "kernelspec": {
   "display_name": "Python 3 (ipykernel)",
   "language": "python",
   "name": "python3"
  },
  "language_info": {
   "codemirror_mode": {
    "name": "ipython",
    "version": 3
   },
   "file_extension": ".py",
   "mimetype": "text/x-python",
   "name": "python",
   "nbconvert_exporter": "python",
   "pygments_lexer": "ipython3",
   "version": "3.10.12"
  },
  "rise": {
   "enable_chalkboard": true,
   "theme": "sky",
   "transition": "zoom"
  }
 },
 "nbformat": 4,
 "nbformat_minor": 5
}

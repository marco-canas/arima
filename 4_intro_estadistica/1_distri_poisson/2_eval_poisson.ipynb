{
 "cells": [
  {
   "cell_type": "markdown",
   "id": "dc06dec7",
   "metadata": {
    "slideshow": {
     "slide_type": "slide"
    }
   },
   "source": [
    "<table align=\"left\">\n",
    "  <td>\n",
    "    <a href=\"https://colab.research.google.com/github/marco-canas/didactica_ciencia_datos/blob/main/1_curso_machine_learning/1_evaluacion_oral_tarea_quiz_parcial.ipynb\" target=\"_parent\"><img src=\"https://colab.research.google.com/assets/colab-badge.svg\" alt=\"Open In Colab\"/></a>\n",
    "  </td>\n",
    "  <td>\n",
    "    <a target=\"_blank\" href=\"https://kaggle.com/kernels/welcome?src=https://github.com/marco-canas/didactica_ciencia_datos/blob/main/1_curso_machine_learning/1_evaluacion_oral_tarea_quiz_parcial.ipynb\"><img src=\"https://kaggle.com/static/images/open-in-kaggle.svg\" /></a>\n",
    "  </td>\n",
    "</table>"
   ]
  },
  {
   "cell_type": "markdown",
   "id": "e0c5b198",
   "metadata": {
    "slideshow": {
     "slide_type": "slide"
    }
   },
   "source": [
    "### [Video de apoyo a la lectura interactiva y experimental de este cuaderno]()"
   ]
  },
  {
   "cell_type": "markdown",
   "id": "41e82203",
   "metadata": {
    "slideshow": {
     "slide_type": "slide"
    }
   },
   "source": [
    "## [Vínculo al programa del curso:  ]()"
   ]
  },
  {
   "cell_type": "markdown",
   "id": "ca46c23b",
   "metadata": {
    "slideshow": {
     "slide_type": "slide"
    }
   },
   "source": [
    "# Modelo general de clase: [aula invertida](https://www3.gobiernodecanarias.org/medusa/ecoescuela/pedagotic/aprendizaje-invertido-flipped-classroom/)\n"
   ]
  },
  {
   "cell_type": "markdown",
   "id": "7f9be90f",
   "metadata": {
    "slideshow": {
     "slide_type": "slide"
    }
   },
   "source": [
    "# Fomento de la lectura literaria asociada a Ingeniería agropecuaria y licenciatura en Matemáticas y administración de empresas\n",
    "\n",
    "[Hábitos atómicos](https://github.com/marco-canas/habitos_atomicos/blob/main/13_como_dejar_de_postergar_usando_la_regla_de_los_dos_minutos/1_13_como_dejar_de_postergar_usando_la_regla_de_los_dos_minutos.ipynb)"
   ]
  },
  {
   "cell_type": "markdown",
   "id": "cf101603",
   "metadata": {},
   "source": [
    "# Prompt para pedir el diseño de evaluación de acuerdo a la metodología de \"Enseñanza basada en proyectos\"  \n",
    "\n",
    "\n",
    "Dame, por favor, un diseño de clase, que haga parte de la intervención dentro de una Investigación Acción Educativa (IAE), con enfoques: \"Aula Invertida, Science Tecnology Engineering Art Math y Social Science (STEAMS) y de Aprendizaje Basado en Problemas y Proyectos(ABPP)\" sobre: \"El Canal Endémico del dengue en Caucasia - Antioquia como visualización de la serie de tiempo del número de casos de dengue.\", siguiendo la estructura:  \n",
    "\n",
    "1. Título de la clase   \n",
    "   \n",
    "2. Objetivos de aprendizaje que incluyan los indicadores del logro de estos objetivos.  \n",
    "   \n",
    "3. Un mapa conceptual que resuma la clase elaborado en Graphviz de python con nodos y edges de diferentes formas, colores y rellenos y renderizado en la siguiente ubicación: `\"C:/Users/marco/Descargas\"`. No olvides el parámetro `view = True` para el método `render()` de Graphviz. Para este mapa controla las superposiciones de los nodos con: graph [overlap=false]; // Elimina superposiciones (puede aumentar el espacio)\n",
    "graph [overlap=\"scalexy\"]; // Escala el gráfico para evitar overlaps\n",
    "graph [overlap=\"compress\"]; // Comprime el grafo sin overlaps  \n",
    "\n",
    "4. Dame elementos históricos y epistemológicos asociados a esta clase, pero contados como un cuento al estilo de un cuentero antioqueño en Colombia. Incluye imágenes de los protagonistas históricos de esta clase.   \n",
    "   \n",
    "5. Contenido de la clase. Que el contenido parta de una situación real para llegar a una constitución del modelo matemático que represente tal situación real.   \n",
    "   \n",
    "6. Actividades de aprendizaje: \n",
    "     - Diseña una actividad de aprendizaje a través del uso de la Calculadora Casio 991 LA cw  \n",
    "   \n",
    "7. Incluye una canción o un poema que ayude a interiorizar y fijar los conceptos asociados a esta clase.   \n",
    "   \n",
    "8. Tarea o actividades de ejercitación y fijación.   \n",
    "   \n",
    "9.  Evaluación incluyendo diez proyectos, un ejemplo de quiz (de tres preguntas) y un ejemplo de parcial (de cinco puntos)  \n",
    "    \n",
    "10.  Diseño de actividad de retroalimentación.   \n",
    "    \n",
    "11.  Dame un vocabulario y frases del idioma inglés asociadas a esta clase.   \n",
    "    \n",
    "12.  Incluye apéndice para la clase sobre desarrollo de habilidades para trabajar en equipo y de asertividad y empatía para relacionarnos. También elementos de la inteligencia emocional para trabajar en equipo investigativo desde la confianza y la gestión del reconocimiento.    \n",
    "     \n",
    "13. Incluye 10 referentes en didáctica de la matemática que estén de acuerdo a la propuesta didáctica de esta clase. Adiciona a estos referentes a Raymond Duval (Representaciones y cambios de representación para la adquisición de conceptos matemáticos) y a Janete Wing (Desarrollo del pensamiento computacional). Dejame todos estos referentes ordenados de acuerdo a las normas APA. Dejame todos estos referentes ordenados de acuerdo a las normas APA. Incluye las citaciones a estos referentes a medida que vallas diseñando la clase. \n",
    "\n",
    "Pero  que este diseño sea para que el estudiante pueda aprender experimentando en cuadernos Jupyter con funciones de usuario y animaciones y visualizaciones en python. En particular utiliza para el diseño de clase a Numpy, Pandas, SymPy, Matplotlib.pyplot, Seaborn, Plotly, ipywidgets, matplotlib.animation y Jupyter Notebook.    \n",
    "\n",
    "Cada vez que utilices `matplotlib.animacion` no olvides incluir el uso de `IPython. display` para la rederización de estas animaciones a través de Jupyter Notebook.   \n",
    "\n",
    "No olvides darme los diseños de clase con las ecuaciones matemáticas delimitadas con signo de dolar $ para que VS Code si me renderize estas expresiones del lenguaje latex. Cuando vallas a utilizar ipywidgets ten en cuenta la siguiente importación inicial para garantizar que la visualización interactiva si se renderize en VS Code:  \n",
    "\n",
    "import numpy as np  \n",
    "import matplotlib.pyplot as plt  \n",
    "import ipywidgets as widgets  \n",
    "from IPython.display import display, clear_output  \n",
    "from matplotlib.patches import Rectangle  \n",
    "\n",
    "# Configuración inicial para visualización estática  \n",
    "%matplotlib inline  "
   ]
  },
  {
   "cell_type": "markdown",
   "id": "42797498",
   "metadata": {},
   "source": [
    "### **1. Título de la Clase**  \n",
    "**\"Modelando el dengue con Poisson: Matemáticas para salvar vidas en Caucasia\"**  \n",
    "\n",
    "---\n",
    "\n",
    "### **2. Objetivos de Aprendizaje**  \n",
    "| **Objetivo** | **Indicadores de Logro** |  \n",
    "|--------------|--------------------------|  \n",
    "| Comprender la distribución de Poisson y sus parámetros. | El estudiante explica en un video de 2 min qué representa λ en el contexto del dengue. |  \n",
    "| Ajustar un modelo Poisson a datos reales de dengue. | Crea un gráfico Q-Q plot usando `statsmodels` para validar el ajuste. |  \n",
    "| Predecir brotes epidémicos con intervalos de confianza. | Genera una animación que muestre predicciones vs datos reales. |  \n",
    "\n",
    "---\n",
    "\n",
    "### **3. Mapa Conceptual (Graphviz)**  \n",
    "```python\n",
    "from graphviz import Digraph\n",
    "\n",
    "graph = Digraph('PoissonDengue', format='png', \n",
    "                graph_attr={'overlap': 'scalexy', 'splines': 'true'},\n",
    "                node_attr={'style': 'filled', 'fontsize': '10'})\n",
    "\n",
    "# Nodos principales\n",
    "graph.node('A', 'Distribución Poisson', shape='ellipse', fillcolor='#FFD700')\n",
    "graph.node('B', 'Modelado del Dengue', shape='box', fillcolor='#90EE90')\n",
    "graph.node('C', 'Python (Pandas/Matplotlib)', shape='component', fillcolor='#ADD8E6')\n",
    "graph.node('D', 'Predicción de Brotes', shape='diamond', fillcolor='#FFA07A')\n",
    "\n",
    "# Subnodos\n",
    "graph.node('A1', '$P(X=k)=\\\\frac{e^{-λ}λ^k}{k!}$', shape='plaintext')\n",
    "graph.node('B1', 'Datos IDEAM', shape='folder')\n",
    "graph.node('C1', 'poisson.pmf()', shape='note')\n",
    "\n",
    "# Conexiones\n",
    "graph.edges(['AB', 'AC', 'AD', 'AA1', 'BB1', 'CC1'])\n",
    "graph.edge('A1', 'C1', label='Implementa')\n",
    "graph.edge('B1', 'D', label='Valida')\n",
    "\n",
    "# Renderizar\n",
    "graph.render(directory='C:/Users/marco/Descargas', view=True, cleanup=True)\n",
    "```\n",
    "\n",
    "---\n",
    "\n",
    "### **4. Cuento Antioqueño: \"El Francés y los Mosquitos\"**  \n",
    "*\"¡Uy, qué historia más buena les traigo!* En 1837, **Siméon Poisson**, un matemático francés, estaba obsesionado con los números de soldados muertos por patadas de caballo. ¡Sí, como lo oyen!  \n",
    "\n",
    "![Poisson](https://example.com/poisson.jpg) *El señor Poisson y sus números raros.*  \n",
    "\n",
    "Pero resulta que esa misma fórmula salvó a Caucasia en 2018, cuando la doctora Lucía usó la *\"distribución de Poisson\"* para predecir los brotes de dengue. *\"Si λ es mayor a 20 casos por semana, ¡sonamos!\"*, decía. Y así fue: cuando λ llegó a 25... ¡Zas! Llegó la fumigación a tiempo.\"*  \n",
    "\n",
    "---\n",
    "\n",
    "### **5. Contenido de la Clase**  \n",
    "**Situación Real**:  \n",
    "- *\"En semana epidemiológica 30 de 2023, Caucasia reportó 18 casos de dengue. ¿Es esto inusual?\"*  \n",
    "\n",
    "**Modelo Matemático**:  \n",
    "1. **Distribución de Poisson**:  \n",
    "   $$ P(X=k) = \\frac{e^{-\\lambda}\\lambda^k}{k!} $$  \n",
    "2. **Ajuste con Python**:  \n",
    "   ```python\n",
    "   from scipy.stats import poisson\n",
    "   lambda_hat = datos['casos'].mean()  # Estimación de λ\n",
    "   poisson.pmf(k=18, mu=lambda_hat)  # Probabilidad de observar 18 casos\n",
    "   ```\n",
    "\n",
    "---\n",
    "\n",
    "### **6. Actividad con Casio 991 LA cw**  \n",
    "**Título**: *\"Calculando Probabilidades Poisson\"*  \n",
    "1. Modo `STAT`, ingresar datos históricos.  \n",
    "2. Calcular $λ$ como promedio.  \n",
    "3. Usar fórmula manual:  \n",
    "   $$ \\text{Pr}(X=18) = e^{-λ} \\cdot \\frac{λ^{18}}{18!} $$  \n",
    "\n",
    "---\n",
    "\n",
    "### **7. Cumbia Matemática**  \n",
    "```markdown\n",
    "*\"El dengue sube, el dengue baja,*  \n",
    "*como la espuma en la cumbia brava.*  \n",
    "*Pero con Poisson y su λ,*  \n",
    "*sabremos cuándo la cosa está mal.\"*  \n",
    "```\n",
    "\n",
    "---\n",
    "\n",
    "### **8. Tareas**  \n",
    "- **Ejercicio**: Simular 100 semanas de dengue con $λ=15$ usando `np.random.poisson()`.  \n",
    "- **Proyecto**: Crear un dashboard con Plotly que compare datos reales vs modelo.  \n",
    "\n",
    "---\n",
    "\n",
    "### **9. Evaluación**  \n",
    "**Quiz (3 preguntas)**:  \n",
    "1. ¿Qué representa $λ$ en Poisson?  \n",
    "**Parcial (5 puntos)**:  \n",
    "- Animación que muestre cómo cambian las predicciones al variar $λ$.  \n",
    "\n",
    "---\n",
    "\n",
    "### **10. Retroalimentación**  \n",
    "**Técnica**: *\"Termómetro Poisson\"*  \n",
    "- Gráfico interactivo donde ajustan $λ$ hasta que el modelo coincida con datos reales.  \n",
    "\n",
    "---\n",
    "\n",
    "### **11. Vocabulario Inglés**  \n",
    "- **Probability mass function**: Función de masa de probabilidad.  \n",
    "- **Outbreak threshold**: Umbral de brote.  \n",
    "- **Goodness-of-fit**: Bondad de ajuste.  \n",
    "\n",
    "---\n",
    "\n",
    "### **12. Apéndice: Habilidades Blandas**  \n",
    "| **Habilidad** | **Actividad** |  \n",
    "|---------------|---------------|  \n",
    "| **Gestión del error** | Diario de errores: *\"Mi peor estimación de λ fue...\"* |  \n",
    "| **Honestidad académica** | Contrato ético firmado antes de evaluaciones. |  \n",
    "\n",
    "---\n",
    "\n",
    "### **13. Referentes APA**  \n",
    "1. Duval, R. (2006). *Un tema crucial en la educación matemática: La habilidad para cambiar el registro de representación*.  \n",
    "2. Wing, J. M. (2006). *Computational thinking*. Communications of the ACM, 49(3), 33-35.  \n",
    "3. Batanero, C. (2000). *Significado y comprensión de las distribuciones de probabilidad*.  \n",
    "\n",
    "--- \n",
    "\n",
    "**Código para Animación**:  \n",
    "```python\n",
    "from matplotlib.animation import FuncAnimation\n",
    "from IPython.display import HTML\n",
    "\n",
    "fig, ax = plt.subplots()\n",
    "def animate(i):\n",
    "    ax.clear()\n",
    "    data = np.random.poisson(lam=i, size=100)\n",
    "    ax.hist(data, bins=20, density=True)\n",
    "    ax.set_title(f'Distribución Poisson (λ={i})')\n",
    "    return ax,\n",
    "\n",
    "ani = FuncAnimation(fig, animate, frames=np.linspace(5,25,10), interval=500)\n",
    "HTML(ani.to_jshtml())\n",
    "```\n",
    "\n",
    "**Widget Interactivo**:  \n",
    "```python\n",
    "@widgets.interact(lambda_param=widgets.FloatSlider(min=5, max=30, step=1, value=15))\n",
    "def plot_poisson(lambda_param):\n",
    "    x = np.arange(0, 40)\n",
    "    plt.bar(x, poisson.pmf(x, lambda_param))\n",
    "    plt.title(f'Distribución Poisson (λ={lambda_param})')\n",
    "``` \n",
    "\n",
    "**Nota**: Todos los gráficos usan `%matplotlib widget` para interactividad en VS Code."
   ]
  },
  {
   "cell_type": "markdown",
   "id": "fb9402bb",
   "metadata": {
    "slideshow": {
     "slide_type": "slide"
    }
   },
   "source": [
    "## Estrategias propuestas para la solución de las dificultades de aprendizaje detectadas"
   ]
  },
  {
   "cell_type": "markdown",
   "id": "2dd3bd5c",
   "metadata": {
    "slideshow": {
     "slide_type": "slide"
    }
   },
   "source": []
  },
  {
   "cell_type": "markdown",
   "id": "c6236d5d",
   "metadata": {},
   "source": [
    "# FODA del grupo y del profesor  \n",
    "\n",
    "* F: Fortalezas\n",
    "* O: Oportunidades\n",
    "* D: Dificultades\n",
    "* A: Amenazas."
   ]
  },
  {
   "cell_type": "markdown",
   "id": "b48f9542",
   "metadata": {},
   "source": [
    "## ¿Cómo se sintió en este espacio de enseñanza y aprendizaje?\n",
    "\n",
    "!Dios te bendiga¡"
   ]
  },
  {
   "cell_type": "markdown",
   "id": "10bce0d0",
   "metadata": {
    "slideshow": {
     "slide_type": "slide"
    }
   },
   "source": [
    "## Referentes "
   ]
  },
  {
   "cell_type": "markdown",
   "id": "d204c917",
   "metadata": {},
   "source": [
    "* [Grajales Vanegas, L. M., Restrepo Estrada, C. E., Restrepo Ochoa, S. I., & Ruíz De Villalba, F. (2015). Matemáticas I para las ciencias económicas.](https://github.com/marco-canas/fundamentos_de_la_aritmetica/blob/main/referentes/2_grajales_logica/grajales_lina_matemticas.pdf)\n",
    "  \n",
    "* Duval, R. (2004). Semiosis y pensamiento humano: registros semióticos y aprendizajes intelectuales. Universidad del Valle.\n",
    "\n",
    "* [Aylwin, C. U. (2011). Lógica, conjuntos y números. Universidad de los Andes, Consejo de Publicaciones, Colección: Ciencias Básicas, Serie: Matemáticas.](https://github.com/marco-canas/fundamentos_logica/blob/main/referentes/2_uzcategui/uscategui.pdf)\n",
    "  \n",
    "* [Chollet, F. (2021). Deep learning with Python. Simon and Schuster.](https://github.com/marco-canas/didactica_ciencia_datos/blob/main/2_referentes/chollet/Fran%C3%A7ois%20Chollet%20-%20Deep%20Learning%20with%20Python-Manning%20(2018).pdf)  \n",
    "  \n",
    "* [Watson, S., Stewart, J., & Redlin, L. (2009). Precálculo. Matemáticas para el cálculo.](https://github.com/marco-canas/calculo/blob/main/referents/1_precalculo_stewart/stewart_precalculo.pdf)  \n",
    "\n",
    "* [Purcell, E. J., Varberg, D., & Rigdon, S. E. (2007). Cálculo diferencial e integral. Pearson Educación.](https://github.com/marco-canas/calculo/blob/main/referents/purcell/purcell_calculo.pdf)\n",
    "\n",
    "  \n",
    "\n",
    "* [stewart cálculo](https://udeaeduco-my.sharepoint.com/:b:/g/personal/marco_canas_udea_edu_co/EZgXZjAp8QxPqOAim2hs6LcBNPLGjSHf-xwYnUVYkwa04w?e=RZdTCy)  \n",
    "\n",
    "* [larson](https://udeaeduco-my.sharepoint.com/:b:/g/personal/marco_canas_udea_edu_co/ES71ChFeO9ZDhW3TwC5Ijk8BjxUK3Pdqz_fjHxTTFAfIAg?e=VDEjfu)\n",
    "\n",
    "\n",
    "\n",
    "* [Recomendación de la UNESCO sobre ciencia abierta](https://unesdoc.unesco.org/ark:/48223/pf0000379949_spa)\n",
    "\n",
    "* [chatGPT](https://openai.com/blog/chatgpt)  \n",
    "\n",
    "* [Géron, A. (2017). Hands-on machine learning with scikit-learn and tensorflow: Concepts. Tools, and Techniques to build intelligent systems.](chrome-extension://efaidnbmnnnibpcajpcglclefindmkaj/http://14.139.161.31/OddSem-0822-1122/Hands-On_Machine_Learning_with_Scikit-Learn-Keras-and-TensorFlow-2nd-Edition-Aurelien-Geron.pdf)   \n"
   ]
  },
  {
   "cell_type": "markdown",
   "id": "6b9e56a8",
   "metadata": {
    "slideshow": {
     "slide_type": "slide"
    }
   },
   "source": [
    "### [Evaluamos al profesor Marco Cañas Aquí](https://forms.office.com/Pages/ResponsePage.aspx?id=IefhmYRxjkmK_7KtTlPBwkanXIs1i1FEujpsZgO6dXpUREJPV1kxUk1JV1ozTFJIQVNIQjY5WEY3US4u)"
   ]
  },
  {
   "cell_type": "markdown",
   "id": "071afa04",
   "metadata": {
    "slideshow": {
     "slide_type": "slide"
    }
   },
   "source": [
    "## [Evaluación luego de alcanzar estos objetivos de aprendizaje]()"
   ]
  },
  {
   "cell_type": "markdown",
   "id": "10f43536",
   "metadata": {
    "slideshow": {
     "slide_type": "slide"
    }
   },
   "source": [
    "### Continue su aprendizaje en la siguiente clase a través del siguiente [vínculo]()"
   ]
  },
  {
   "cell_type": "markdown",
   "id": "af751e30",
   "metadata": {
    "slideshow": {
     "slide_type": "slide"
    }
   },
   "source": [
    "# Conjeturas pedagógicas fruto de la aplicación del modelo de aprendizaje invertido y del enfoque hacia la ciencia de datos con python\n",
    "\n",
    "1. Todo cálculo o resultado debe ser interpretado en una línea markdown del cuaderno Jupyter, inmediatamente después de la enunciación del resultado y después de la presentación de una tabla o gráfico bidimensional, de tal menera que el estudiante explicite la comprensión verbal del resultado y las inferencias o estrategias que este resultado le sugieren.   "
   ]
  }
 ],
 "metadata": {
  "celltoolbar": "Slideshow",
  "kernelspec": {
   "display_name": "Python 3",
   "language": "python",
   "name": "python3"
  },
  "language_info": {
   "codemirror_mode": {
    "name": "ipython",
    "version": 3
   },
   "file_extension": ".py",
   "mimetype": "text/x-python",
   "name": "python",
   "nbconvert_exporter": "python",
   "pygments_lexer": "ipython3",
   "version": "3.13.2"
  },
  "rise": {
   "enable_chalkboard": true,
   "theme": "sky",
   "transition": "zoom"
  }
 },
 "nbformat": 4,
 "nbformat_minor": 5
}

{
 "cells": [
  {
   "cell_type": "markdown",
   "id": "dc06dec7",
   "metadata": {
    "slideshow": {
     "slide_type": "slide"
    }
   },
   "source": [
    "<table align=\"left\">\n",
    "  <td>\n",
    "    <a href=\"https://colab.research.google.com/github/ageron/handson-ml3/blob/main/tools_numpy.ipynb\" target=\"_parent\"><img src=\"https://colab.research.google.com/assets/colab-badge.svg\" alt=\"Open In Colab\"/></a>\n",
    "  </td>\n",
    "  <td>\n",
    "    <a target=\"_blank\" href=\"https://kaggle.com/kernels/welcome?src=https://github.com/ageron/handson-ml3/blob/main/tools_numpy.ipynb\"><img src=\"https://kaggle.com/static/images/open-in-kaggle.svg\" /></a>\n",
    "  </td>\n",
    "</table>"
   ]
  },
  {
   "cell_type": "markdown",
   "id": "e0c5b198",
   "metadata": {
    "slideshow": {
     "slide_type": "slide"
    }
   },
   "source": [
    "### [Video de apoyo a la lectura interactiva y experimental de este cuaderno]()"
   ]
  },
  {
   "cell_type": "markdown",
   "id": "41e82203",
   "metadata": {
    "slideshow": {
     "slide_type": "slide"
    }
   },
   "source": [
    "### [Vínculo al programa del curso:  ]()\n",
    "\n"
   ]
  },
  {
   "cell_type": "markdown",
   "id": "d11ab06d",
   "metadata": {
    "slideshow": {
     "slide_type": "slide"
    }
   },
   "source": [
    "Un reconocimiento a mis estudiantes que han construido conmigo este saber pedagógico:\n",
    "\n",
    "<img src = ''> \n",
    "\n"
   ]
  },
  {
   "cell_type": "markdown",
   "id": "8a74a56c-0ce6-4ad6-b985-553fd7fb68bb",
   "metadata": {},
   "source": [
    "Reconocimiento a las profesoras destacadas en enseñanza de la matemática en Colombia\n"
   ]
  },
  {
   "cell_type": "markdown",
   "id": "d7598d0a-d9b7-4ae0-b029-a0ed6ed1130b",
   "metadata": {},
   "source": [
    "\n",
    "# Principios de mi labor docente"
   ]
  },
  {
   "cell_type": "markdown",
   "id": "4f9d8cf9",
   "metadata": {
    "slideshow": {
     "slide_type": "slide"
    }
   },
   "source": [
    "## Modelo general de clase: [aula invertida](https://www3.gobiernodecanarias.org/medusa/ecoescuela/pedagotic/aprendizaje-invertido-flipped-classroom/)"
   ]
  },
  {
   "cell_type": "markdown",
   "id": "eb6ed03a",
   "metadata": {},
   "source": [
    "<img src = 'https://resources.maneuveringthemiddle.com/wp-content/uploads/2020/07/04212706/1-5.png' width = 200>  \n",
    "\n"
   ]
  },
  {
   "cell_type": "markdown",
   "id": "34319cce-a71b-4f64-aab8-b53e521efa40",
   "metadata": {},
   "source": [
    "# Metodología de enseñanza basada en problemas (ABP)\n"
   ]
  },
  {
   "cell_type": "markdown",
   "id": "c4f73d81",
   "metadata": {},
   "source": [
    "\n",
    "<img src = 'https://www.unir.net/wp-content/uploads/2020/07/aprendizaje-problemas2-1-1-1-1.jpeg' width = 200>"
   ]
  },
  {
   "cell_type": "markdown",
   "id": "841a985c-bd9b-4dd3-8e4c-893983980af2",
   "metadata": {},
   "source": [
    "# Desarrollo del pensamiento computacional con Lenguaje R y con archivos R Markdown orientado a la formación en ciencia de datos \n",
    "\n"
   ]
  },
  {
   "cell_type": "markdown",
   "id": "3d0eba94",
   "metadata": {},
   "source": [
    "\n",
    "<img src = 'https://i.ytimg.com/vi/mcG_wcR4e6M/maxresdefault.jpg' width = 200>"
   ]
  },
  {
   "cell_type": "markdown",
   "id": "65aa0404-f7ae-495e-864c-1aec01b4255e",
   "metadata": {},
   "source": [
    "# Principio de fomento a la ciencia abierta, enseñar en el acceso a los datos públicos y el uso de software de código abierto  \n"
   ]
  },
  {
   "cell_type": "markdown",
   "id": "18ae9b87",
   "metadata": {},
   "source": [
    "\n",
    "<img src = 'https://unesdoc.unesco.org/in/rest/Thumb/image?id=p%3A%3Ausmarcdef_0000379949_spa&author=UNESCO&title=Recomendaci%C3%B3n+de+la+UNESCO+sobre+la+Ciencia+Abierta&year=2021&publisher=UNESCO&TypeOfDocument=UnescoPhysicalDocument&mat=PGD&ct=true&size=512&isPhysical=1' width = 200>"
   ]
  },
  {
   "cell_type": "markdown",
   "id": "d9559f85",
   "metadata": {},
   "source": [
    "El enfoque STEAMS en educación preescolar, primaria y secundaria es una extensión del enfoque STEM (Ciencia, Tecnología, Ingeniería y Matemáticas) y su variante STEAM, que incorpora el Arte. "
   ]
  },
  {
   "cell_type": "markdown",
   "id": "72e1cfd2",
   "metadata": {},
   "source": [
    "El acrónimo STEAMS incluye:\n"
   ]
  },
  {
   "cell_type": "markdown",
   "id": "03182fd1",
   "metadata": {},
   "source": [
    "\n",
    "1. **Science (Ciencia):** Fomenta la curiosidad por el mundo natural y el desarrollo de habilidades científicas, como la observación, experimentación y análisis.\n"
   ]
  },
  {
   "cell_type": "markdown",
   "id": "1306d0fa",
   "metadata": {},
   "source": [
    "\n",
    "2. **Technology (Tecnología):** Integra herramientas tecnológicas para potenciar el aprendizaje y la resolución de problemas, promoviendo la alfabetización digital desde edades tempranas.\n"
   ]
  },
  {
   "cell_type": "markdown",
   "id": "3b1a53e8",
   "metadata": {},
   "source": [
    "\n",
    "3. **Engineering (Ingeniería):** Introduce el pensamiento lógico y la resolución de problemas estructurados, fomentando habilidades como el diseño y la construcción de soluciones.\n"
   ]
  },
  {
   "cell_type": "markdown",
   "id": "0196de87",
   "metadata": {},
   "source": [
    "\n",
    "4. **Arts (Arte):** Añade creatividad y pensamiento crítico, permitiendo a los estudiantes expresarse y explorar el aprendizaje a través de formas artísticas (plásticas, música, teatro).\n"
   ]
  },
  {
   "cell_type": "markdown",
   "id": "8bcc485a",
   "metadata": {},
   "source": [
    "\n",
    "5. **Mathematics (Matemáticas):** Refuerza las habilidades numéricas y el razonamiento lógico, fundamentales en la resolución de problemas y comprensión de conceptos abstractos.\n"
   ]
  },
  {
   "cell_type": "markdown",
   "id": "907935f4",
   "metadata": {},
   "source": [
    "\n",
    "6. **Social Sciences (Ciencias Sociales):** Incorpora la comprensión del entorno social, político, cultural y económico, promoviendo el desarrollo de la conciencia crítica sobre el mundo y su historia, además de habilidades de empatía y ciudadanía.\n"
   ]
  },
  {
   "cell_type": "markdown",
   "id": "39967d63",
   "metadata": {},
   "source": [
    "\n",
    "El enfoque STEAMS pretende desarrollar un aprendizaje **interdisciplinario** que integre estas áreas para fomentar un pensamiento más holístico y práctico. "
   ]
  },
  {
   "cell_type": "markdown",
   "id": "5145f077",
   "metadata": {},
   "source": [
    "Se busca que los estudiantes no solo aprendan conocimientos técnicos, sino también cómo aplicarlos creativa y críticamente en situaciones reales, promoviendo habilidades como el trabajo en equipo, la comunicación y la innovación. "
   ]
  },
  {
   "cell_type": "markdown",
   "id": "9d556584",
   "metadata": {},
   "source": [
    "En educación preescolar, primaria, secundaria y superior, se adapta a las diferentes etapas de desarrollo cognitivo y emocional de los estudiantes, promoviendo el aprendizaje activo y contextualizado.  \n"
   ]
  },
  {
   "cell_type": "markdown",
   "id": "0130ec1b",
   "metadata": {},
   "source": [
    "\n",
    "<img src = 'https://www.campuseducacion.com/blog/wp-content/uploads/2023/03/foto01-1.jpg' width = 200>"
   ]
  },
  {
   "cell_type": "markdown",
   "id": "9d15c10d-2c02-4158-9419-b1ed79b4c1ee",
   "metadata": {},
   "source": [
    "# Qué estamos haciendo por la internalización en esta clase y este curso  \n"
   ]
  },
  {
   "cell_type": "markdown",
   "id": "6e4feef2",
   "metadata": {},
   "source": [
    "Estas son mis acciones como docente de matemáticas en la Universidad de Antioquia con miras a la **internacionalización** de mi práctica docente y el desarrollo de competencias internacionales para mis estudiantes, ls cuales he estructurado con el siguiente enfoque:\n"
   ]
  },
  {
   "cell_type": "markdown",
   "id": "964d9de7-53ee-4255-9bcd-d8e6454f2993",
   "metadata": {},
   "source": [
    "### 1. **Visión Global en la Formación Académica**\n"
   ]
  },
  {
   "cell_type": "markdown",
   "id": "d9bdd3e2",
   "metadata": {},
   "source": [
    "   - **Competencias Internacionales**: Asegúrate de que el contenido de tus cursos fomente habilidades que sean reconocidas globalmente. "
   ]
  },
  {
   "cell_type": "markdown",
   "id": "843e9311",
   "metadata": {},
   "source": [
    "Al educar a los estudiantes en **Python, LaTeX, Markdown y Jupyter Notebooks** y en la **introducción a la ciencia de datos y técnicas de Machine Learning**, estás proporcionando competencias altamente demandadas en los sectores tecnológicos y académicos a nivel internacional.\n"
   ]
  },
  {
   "cell_type": "markdown",
   "id": "39b55206",
   "metadata": {},
   "source": [
    "   - **Relevancia de los Contenidos**: Destaca cómo los temas que enseñas, como el **desarrollo del pensamiento computacional** y la **ciencia de datos**, están alineados con las necesidades globales actuales en diversas industrias, desde la tecnología hasta las ciencias naturales y sociales.\n"
   ]
  },
  {
   "cell_type": "markdown",
   "id": "a054599e",
   "metadata": {},
   "source": [
    "   - **Referencias a Estándares Internacionales**: Puedes vincular tu enseñanza a estándares internacionales de competencias en programación y ciencia de datos (por ejemplo, frameworks del **IEEE, ACM**, y estándares de la **data science** o la **computación en la nube**)."
   ]
  },
  {
   "cell_type": "markdown",
   "id": "0f1d110c-3142-48fe-9e7d-5fbd9e8bb931",
   "metadata": {},
   "source": [
    "### 2. **Innovación Pedagógica con Enfoque Internacional**\n"
   ]
  },
  {
   "cell_type": "markdown",
   "id": "fae6ae34",
   "metadata": {},
   "source": [
    "   - **Aula Invertida y ABP**: Presenta cómo tu enfoque de **aula invertida** y **aprendizaje basado en problemas (ABP)** permite a los estudiantes trabajar de manera autónoma y colaborativa, lo que los prepara para escenarios laborales internacionales que requieren autoaprendizaje y habilidades de resolución de problemas en equipo.\n"
   ]
  },
  {
   "cell_type": "markdown",
   "id": "c83062d9",
   "metadata": {},
   "source": [
    "   - **Uso de Jupyter Notebooks**: El uso de **Jupyter Notebooks** en tus clases no solo facilita la **integración de código, matemáticas y texto**, sino que también es una plataforma utilizada globalmente en ambientes académicos y profesionales, lo que hace a tus estudiantes más competitivos internacionalmente."
   ]
  },
  {
   "cell_type": "markdown",
   "id": "960d52b7-03cd-4eb3-965e-5cdfeb7d9f8e",
   "metadata": {},
   "source": [
    "### 3. **Tecnología y Herramientas de Uso Global**\n"
   ]
  },
  {
   "cell_type": "markdown",
   "id": "4be7269f",
   "metadata": {},
   "source": [
    "   - **Lenguaje Python**: Python es uno de los lenguajes de programación más usados a nivel mundial, tanto en la academia como en la industria. "
   ]
  },
  {
   "cell_type": "markdown",
   "id": "5abb1c38",
   "metadata": {},
   "source": [
    "Al formar a tus estudiantes en Python para ciencia de datos y machine learning, los preparas para operar en entornos tecnológicos globales.\n"
   ]
  },
  {
   "cell_type": "markdown",
   "id": "102655af",
   "metadata": {},
   "source": [
    "   - **Herramientas de Ciencia Abierta**: Resalta cómo herramientas como **GitHub**, **Google Colab** y otras plataformas de código abierto están alineadas con el movimiento de **ciencia abierta**, el cual es internacionalmente reconocido y permite que los estudiantes colaboren y compartan proyectos a nivel global."
   ]
  },
  {
   "cell_type": "markdown",
   "id": "3b2ffa32-7a6f-4545-ba7b-c6a69f51109f",
   "metadata": {},
   "source": [
    "### 4. **Investigación y Publicaciones Internacionales**\n"
   ]
  },
  {
   "cell_type": "markdown",
   "id": "bdbf52a5",
   "metadata": {},
   "source": [
    "   - **Promoción de la Investigación**: Detalla cómo promueves que tus estudiantes participen en proyectos de **investigación aplicada**, con posibilidad de publicación en revistas internacionales. "
   ]
  },
  {
   "cell_type": "markdown",
   "id": "1bb10e37",
   "metadata": {},
   "source": [
    "Esto contribuye a la reputación internacional de la Universidad de Antioquia.\n"
   ]
  },
  {
   "cell_type": "markdown",
   "id": "ea01fcbc",
   "metadata": {},
   "source": [
    "   - **Colaboraciones Internacionales**: Si has colaborado con investigadores de otras instituciones o universidades en el extranjero, menciona estos proyectos y cómo han enriquecido tu enseñanza y proporcionado a los estudiantes una visión más globalizada."
   ]
  },
  {
   "cell_type": "markdown",
   "id": "5d1e396e-aece-4bf7-9421-32fa7809eaf4",
   "metadata": {},
   "source": [
    "## 5. **Uso del Inglés para la Internacionalización**\n"
   ]
  },
  {
   "cell_type": "markdown",
   "id": "29cabf26",
   "metadata": {},
   "source": [
    "   - **Comunicación Científica en Inglés**: "
   ]
  },
  {
   "cell_type": "markdown",
   "id": "8ec53ff3",
   "metadata": {},
   "source": [
    "Fomentar el aprendizaje del inglés como lengua científica es clave para que tus estudiantes puedan acceder a publicaciones internacionales, conferencias, y material académico que no está disponible en español. "
   ]
  },
  {
   "cell_type": "markdown",
   "id": "3319ddb0",
   "metadata": {},
   "source": [
    "Esto es esencial para que adquieran competencias que les permitan desempeñarse en cualquier contexto internacional.\n"
   ]
  },
  {
   "cell_type": "markdown",
   "id": "b831224f",
   "metadata": {},
   "source": [
    "   - **Material Bilingüe**: Al generar material educativo en Python, LaTeX y Markdown, considera ofrecer algunos de estos recursos en inglés, para que los estudiantes se familiaricen con el vocabulario técnico y científico internacional."
   ]
  },
  {
   "cell_type": "markdown",
   "id": "c6a8c3b0-426a-4692-a384-3065aea81c9a",
   "metadata": {},
   "source": [
    "### 6. **Certificaciones y Estándares Internacionales**\n"
   ]
  },
  {
   "cell_type": "markdown",
   "id": "b1f41da5",
   "metadata": {},
   "source": [
    "   - **Participación en Certificaciones Internacionales**: Impulsa que los estudiantes busquen certificaciones internacionales en Python o ciencia de datos (como las ofrecidas por **Coursera, edX,** o **Google**). "
   ]
  },
  {
   "cell_type": "markdown",
   "id": "3c935f24",
   "metadata": {},
   "source": [
    "Estas certificaciones no solo validan sus competencias, sino que también incrementan el reconocimiento de la Universidad de Antioquia en el contexto internacional.\n"
   ]
  },
  {
   "cell_type": "markdown",
   "id": "7cc66317",
   "metadata": {},
   "source": [
    "   - **Alineación con Acreditaciones Internacionales**: Vincula tu trabajo docente con los estándares de acreditación y certificación que garantizan que la universidad siga siendo reconocida internacionalmente. "
   ]
  },
  {
   "cell_type": "markdown",
   "id": "0f330d59",
   "metadata": {},
   "source": [
    "Puedes vincularte con organizaciones internacionales que promuevan la excelencia en la educación y tecnología, como **ABET** para la acreditación en ingeniería y ciencias computacionales."
   ]
  },
  {
   "cell_type": "markdown",
   "id": "65d3d9e1-ea84-43e0-8197-a2a9c9e21594",
   "metadata": {},
   "source": [
    "### 7. **Proyectos Abiertos y Ciencia Reproducible**\n"
   ]
  },
  {
   "cell_type": "markdown",
   "id": "f03f7b20",
   "metadata": {},
   "source": [
    "   - **GitHub y Open Science**: La utilización de **GitHub** para almacenar los proyectos y materiales de enseñanza en repositorios públicos permite que otros investigadores y educadores internacionales puedan revisar y replicar tu trabajo. "
   ]
  },
  {
   "cell_type": "markdown",
   "id": "b15e6443",
   "metadata": {},
   "source": [
    "Esto contribuye a la creación de una red de colaboración científica abierta.\n"
   ]
  },
  {
   "cell_type": "markdown",
   "id": "9fb139ef",
   "metadata": {},
   "source": [
    "   - **Transparencia y Reproducibilidad**: La ciencia de datos y machine learning están profundamente ligados a la reproducibilidad. "
   ]
  },
  {
   "cell_type": "markdown",
   "id": "6dcc0d62",
   "metadata": {},
   "source": [
    "Asegura que tus estudiantes desarrollen prácticas de transparencia y documentación en la investigación, que son pilares en la comunidad científica global.\n"
   ]
  },
  {
   "cell_type": "markdown",
   "id": "215cb551",
   "metadata": {},
   "source": [
    "\n",
    "### 8. **Participación en Redes y Conferencias Internacionales**\n"
   ]
  },
  {
   "cell_type": "markdown",
   "id": "489c0b8c",
   "metadata": {},
   "source": [
    "   - **Presentación en Conferencias Internacionales**: Destaca cómo tu participación en conferencias internacionales (como la **ASCOLFA** o eventos sobre educación en matemáticas) contribuye al prestigio de la universidad y permite que tus prácticas sean evaluadas y reconocidas a nivel global.\n"
   ]
  },
  {
   "cell_type": "markdown",
   "id": "cdf46e29",
   "metadata": {},
   "source": [
    "   - **Promoción de Estudiantes en Eventos Internacionales**: Impulsa la participación de tus estudiantes en competiciones internacionales de programación o hackathons, como los organizados por **Google**, **ACM** o **Kaggle**. "
   ]
  },
  {
   "cell_type": "markdown",
   "id": "2b0eb8a9",
   "metadata": {},
   "source": [
    "Esto no solo desarrolla sus habilidades, sino que también visibiliza el talento de la Universidad de Antioquia a nivel global.\n",
    "\n",
    "---"
   ]
  },
  {
   "cell_type": "markdown",
   "id": "233294a4-1983-4641-a7ad-866825e02315",
   "metadata": {},
   "source": [
    "Con esta estrategia, presento mis acciones docentes en términos de:  \n",
    "\n",
    "* competencias internacionales, \n",
    "* innovación pedagógica, \n",
    "* tecnología, \n",
    "* investigación y \n",
    "* participación en redes globales, \n",
    "  \n",
    "asegurando que mi práctica esté alineada con los estándares internacionales y que mis estudiantes estén preparados para competir en contextos internacionales."
   ]
  },
  {
   "cell_type": "markdown",
   "id": "77da458b",
   "metadata": {},
   "source": [
    "### **Metodología de Enseñanza: Aprendizaje Basado en Problemas y Proyectos (ABPP)**\n"
   ]
  },
  {
   "cell_type": "markdown",
   "id": "c943d273",
   "metadata": {},
   "source": [
    "\n",
    "El **Aprendizaje Basado en Problemas y Proyectos (ABPP)** es una metodología educativa que integra los enfoques del **Aprendizaje Basado en Problemas (ABP)** y el **Aprendizaje Basado en Proyectos (PBL, por sus siglas en inglés)**. "
   ]
  },
  {
   "cell_type": "markdown",
   "id": "ad0e0bf3",
   "metadata": {},
   "source": [
    "Es especialmente útil para la formación de futuros docentes, ingenieros y administradores, ya que combina el desarrollo de habilidades prácticas con el pensamiento crítico y reflexivo. "
   ]
  },
  {
   "cell_type": "markdown",
   "id": "137b18e2",
   "metadata": {},
   "source": [
    "A continuación, se presenta una descripción adaptada a la enseñanza de las matemáticas en educación infantil, Licenciatura en Matemáticas, Ingeniería Agropecuaria y Administración de Empresas:\n",
    "\n",
    "---\n"
   ]
  },
  {
   "cell_type": "markdown",
   "id": "0eeba3f5",
   "metadata": {},
   "source": [
    "\n",
    "### **1. Fundamentos del ABPP**\n"
   ]
  },
  {
   "cell_type": "markdown",
   "id": "fb051f2b",
   "metadata": {},
   "source": [
    "El ABPP se basa en:\n",
    "- **Resolución de Problemas Reales:** Los estudiantes analizan y resuelven problemas auténticos relacionados con su área de formación, fomentando la aplicación práctica del conocimiento.\n"
   ]
  },
  {
   "cell_type": "markdown",
   "id": "47bb5fcc",
   "metadata": {},
   "source": [
    "- **Proyectos como Herramientas Integradoras:** Los proyectos permiten desarrollar habilidades interdisciplinarias y ofrecer soluciones concretas a los problemas planteados.\n"
   ]
  },
  {
   "cell_type": "markdown",
   "id": "9f77ec82",
   "metadata": {},
   "source": [
    "- **Aprendizaje Activo:** Los estudiantes son responsables de su aprendizaje y participan activamente en el proceso de investigación, diseño y solución.\n",
    "\n",
    "---\n"
   ]
  },
  {
   "cell_type": "markdown",
   "id": "3728d010",
   "metadata": {},
   "source": [
    "\n",
    "### **2. Aplicación del ABPP en Áreas Específicas**\n"
   ]
  },
  {
   "cell_type": "markdown",
   "id": "695a22f2",
   "metadata": {},
   "source": [
    "\n",
    "#### **Educación Infantil (Licenciatura en Educación Infantil)**\n"
   ]
  },
  {
   "cell_type": "markdown",
   "id": "d8eeda88",
   "metadata": {},
   "source": [
    "- **Enfoque:** Desarrollo del pensamiento matemático en la infancia desde contextos lúdicos, familiares y culturales.\n"
   ]
  },
  {
   "cell_type": "markdown",
   "id": "06b737e1",
   "metadata": {},
   "source": [
    "- **Problemas típicos:** \n",
    "  - ¿Cómo enseñar los números naturales mediante actividades prácticas y juegos?\n",
    "  - ¿Qué estrategias pueden emplearse para abordar el concepto de cantidad en edades tempranas?\n"
   ]
  },
  {
   "cell_type": "markdown",
   "id": "e92ccc6d",
   "metadata": {},
   "source": [
    "- **Proyectos:** Diseño de secuencias didácticas que usen Python, Jupyter Notebooks y materiales manipulativos para enseñar matemáticas de forma interactiva.\n"
   ]
  },
  {
   "cell_type": "markdown",
   "id": "9c58539c",
   "metadata": {},
   "source": [
    "- **Competencias desarrolladas:** \n",
    "  - Uso de herramientas tecnológicas para diseñar actividades educativas.\n",
    "  - Comprensión del desarrollo cognitivo infantil y su relación con las matemáticas.\n"
   ]
  },
  {
   "cell_type": "markdown",
   "id": "481f614a",
   "metadata": {},
   "source": [
    "\n",
    "#### **Licenciatura en Matemáticas**\n"
   ]
  },
  {
   "cell_type": "markdown",
   "id": "ef50ed64",
   "metadata": {},
   "source": [
    "- **Enfoque:** Resolución de problemas matemáticos aplicados y profundización teórica en áreas como análisis matemático y modelado.\n"
   ]
  },
  {
   "cell_type": "markdown",
   "id": "69305cb7",
   "metadata": {},
   "source": [
    "- **Problemas típicos:**\n",
    "  - ¿Cómo se pueden resolver ecuaciones diferenciales aplicadas a modelos físicos o económicos?\n",
    "  - ¿Cómo modelar fenómenos naturales mediante funciones matemáticas?\n"
   ]
  },
  {
   "cell_type": "markdown",
   "id": "1e4ab50a",
   "metadata": {},
   "source": [
    "- **Proyectos:** \n",
    "  - Desarrollo de software educativo para explorar conceptos matemáticos.\n",
    "  - Aplicación de modelado matemático para resolver problemas reales en otras disciplinas.\n"
   ]
  },
  {
   "cell_type": "markdown",
   "id": "d7fa6846",
   "metadata": {},
   "source": [
    "- **Competencias desarrolladas:**\n",
    "  - Dominio de la matemática teórica y aplicada.\n",
    "  - Uso de tecnología para la enseñanza y la investigación.\n"
   ]
  },
  {
   "cell_type": "markdown",
   "id": "83ab236f",
   "metadata": {},
   "source": [
    "\n",
    "#### **Ingeniería Agropecuaria**\n",
    "- **Enfoque:** Modelado matemático y análisis de datos para mejorar la producción agrícola y la gestión de recursos.\n"
   ]
  },
  {
   "cell_type": "markdown",
   "id": "bd9a5958",
   "metadata": {},
   "source": [
    "- **Problemas típicos:**\n",
    "  - ¿Cómo modelar el crecimiento de cultivos considerando variables climáticas?\n",
    "  - ¿Cómo optimizar el uso del agua en sistemas de riego mediante análisis matemático?\n"
   ]
  },
  {
   "cell_type": "markdown",
   "id": "658211a3",
   "metadata": {},
   "source": [
    "- **Proyectos:** \n",
    "  - Desarrollo de modelos predictivos con Python y bibliotecas de aprendizaje automático.\n",
    "  - Implementación de proyectos que combinen matemáticas y ciencias de datos para resolver problemas agrícolas.\n"
   ]
  },
  {
   "cell_type": "markdown",
   "id": "f2c01339",
   "metadata": {},
   "source": [
    "- **Competencias desarrolladas:**\n",
    "  - Integración de matemáticas con tecnologías avanzadas.\n",
    "  - Resolución de problemas agropecuarios mediante análisis y modelado.\n"
   ]
  },
  {
   "cell_type": "markdown",
   "id": "c4519bb3",
   "metadata": {},
   "source": [
    "\n",
    "#### **Administración de Empresas**\n"
   ]
  },
  {
   "cell_type": "markdown",
   "id": "cab1407c",
   "metadata": {},
   "source": [
    "- **Enfoque:** Uso de las matemáticas y la ciencia de datos para la toma de decisiones estratégicas.\n"
   ]
  },
  {
   "cell_type": "markdown",
   "id": "fb28dc0c",
   "metadata": {},
   "source": [
    "- **Problemas típicos:**\n",
    "  - ¿Cómo identificar patrones de comportamiento del consumidor usando series de tiempo?\n",
    "  - ¿Qué estrategias matemáticas pueden optimizar la asignación de recursos en una empresa?\n"
   ]
  },
  {
   "cell_type": "markdown",
   "id": "4de70bc1",
   "metadata": {},
   "source": [
    "- **Proyectos:** \n",
    "  - Implementación de modelos de análisis financiero y simulaciones.\n",
    "  - Desarrollo de dashboards interactivos para la gestión de datos empresariales.\n"
   ]
  },
  {
   "cell_type": "markdown",
   "id": "5bcb6e9e",
   "metadata": {},
   "source": [
    "- **Competencias desarrolladas:**\n",
    "  - Habilidad para interpretar datos matemáticos en contextos de negocio.\n",
    "  - Capacidad para diseñar soluciones basadas en datos.\n",
    "\n",
    "---\n"
   ]
  },
  {
   "cell_type": "markdown",
   "id": "19be58d4",
   "metadata": {},
   "source": [
    "\n",
    "### **3. Beneficios del ABPP**\n"
   ]
  },
  {
   "cell_type": "markdown",
   "id": "4880978f",
   "metadata": {},
   "source": [
    "- **Desarrollo de competencias clave:**\n",
    "  - Pensamiento crítico y creativo.\n",
    "  - Trabajo colaborativo.\n",
    "  - Comunicación efectiva.\n",
    "  - Uso de herramientas tecnológicas avanzadas.\n",
    "- **Adaptación al contexto laboral:** Los estudiantes aprenden a enfrentar desafíos del mundo real y a diseñar soluciones prácticas y aplicables.\n"
   ]
  },
  {
   "cell_type": "markdown",
   "id": "da40f888",
   "metadata": {},
   "source": [
    "- **Flexibilidad e interdisciplinariedad:** La metodología se adapta a diversas áreas, fomentando el aprendizaje integrado.\n",
    "\n",
    "---\n"
   ]
  },
  {
   "cell_type": "markdown",
   "id": "e36034c3",
   "metadata": {},
   "source": [
    "\n",
    "### **4. Ejemplo General de Implementación**\n"
   ]
  },
  {
   "cell_type": "markdown",
   "id": "76763c0f",
   "metadata": {},
   "source": [
    "1. **Identificación del problema:** Se plantea un desafío concreto, como modelar el crecimiento poblacional de una comunidad rural (Ingeniería Agropecuaria) o diseñar una estrategia para enseñar fracciones a niños de 8 años (Educación Infantil).\n"
   ]
  },
  {
   "cell_type": "markdown",
   "id": "efe1e5dd",
   "metadata": {},
   "source": [
    "2. **Formación de equipos:** Los estudiantes trabajan en grupos, distribuyendo roles y tareas.\n"
   ]
  },
  {
   "cell_type": "markdown",
   "id": "9004e59b",
   "metadata": {},
   "source": [
    "3. **Investigación y diseño:** Los estudiantes investigan el problema, proponen soluciones y diseñan un proyecto.\n"
   ]
  },
  {
   "cell_type": "markdown",
   "id": "b3e682e4",
   "metadata": {},
   "source": [
    "4. **Implementación:** Se desarrolla el proyecto, como una herramienta tecnológica o una propuesta pedagógica.\n"
   ]
  },
  {
   "cell_type": "markdown",
   "id": "2e627c98",
   "metadata": {},
   "source": [
    "5. **Evaluación:** Los estudiantes presentan sus resultados en un informe o una exposición, recibiendo retroalimentación de sus compañeros y docentes.\n",
    "\n",
    "---\n"
   ]
  },
  {
   "cell_type": "markdown",
   "id": "5a8bc842",
   "metadata": {},
   "source": [
    "\n",
    "El ABPP es una metodología versátil que conecta el conocimiento teórico con la práctica, preparando a los estudiantes para los retos de sus profesiones en la enseñanza de la matemática, la ingeniería y la administración."
   ]
  },
  {
   "cell_type": "markdown",
   "id": "8d97dc80",
   "metadata": {
    "slideshow": {
     "slide_type": "slide"
    }
   },
   "source": [
    "## Fomento de la lectura literaria asociada a Ingeniería agropecuaria y licenciatura en Matemáticas\n",
    "\n",
    "[Inteligencia Emocional. Daniel Goleman]()"
   ]
  },
  {
   "cell_type": "markdown",
   "id": "96775931",
   "metadata": {
    "slideshow": {
     "slide_type": "slide"
    }
   },
   "source": [
    "## Título de la clase:  \n",
    "\n"
   ]
  },
  {
   "cell_type": "markdown",
   "id": "10e55ccf",
   "metadata": {},
   "source": [
    "# Estructura general para todas las clases\n",
    "\n",
    "Dame, por favor, un diseño de clase, con el enfoque: \"Aula Invertida, STEAMS y de Aprendizaje Basado en Problemas y Proyectos(ABPP)\" sobre: \"1. **Dengue en Caucasia:**  \n",
    "   - Epidemiología local (tasas históricas, estacionalidad).  \n",
    "   - Factores meteorológicos críticos: lluvias, temperatura, humedad (datos del IDEAM Antioquia).  dentro del **Módulo 1: Fundamentos de series temporales y dengue en contextos tropicales**  \n",
    "**Objetivo:** Contextualizar la relación clima-dengue y repasar conceptos estadísticos clave.\", siguiendo la estructura:  \n",
    "\n",
    "1. Título de la clase \n",
    "2. Objetivos de aprendizaje que incluyan los indicadores del logro de estos objetivos.\n",
    "3. Un mapa conceptual que resuma la clase elaborado en Graphviz de python con nodos y edges de diferentes formas, colores y rellenos y renderizado en la siguiente ubicación: `\"C:/Users/marco/Descargas\"`. No olvides el parámetro `view = True` para el método `render()` de Graphviz. Para este mapa controla las superposiciones de los nodos con: graph [overlap=false]; // Elimina superposiciones (puede aumentar el espacio)\n",
    "graph [overlap=\"scalexy\"]; // Escala el gráfico para evitar overlaps\n",
    "graph [overlap=\"compress\"]; // Comprime el grafo sin overlaps\n",
    "4. Dame elementos históricos y epistemológicos asociados a esta clase, pero contados como un cuento al estilo de un cuentero antioqueño en Colombia. Incluye imágenes de los protagonistas históricos de esta clase. \n",
    "5. Contenido de la clase. Que el contenido parta de una situación real para llegar a una constitución del modelo matemático que represente tal situación real. \n",
    "6. Actividades de aprendizaje\n",
    "7. Incluye una canción o un poema que ayude a interiorizar y fijar los conceptos asociados a esta clase. \n",
    "8. Tarea o actividades de ejercitación y fijación. Teniendo en cuanta que estas tareas pidan al estudiante tomar una proposición compuesta dada de manera simbóolica y luego la interprete usándola en contextos cotidianos, económicos, deportivos, familiares y matemáticos. Después determine el valor de verdad de esta proposición compuesta y finelice con una conclusión o interpretación verbal del resultado obtenido en la tabla de verdad de la proposición. \n",
    "9. Evaluación incluyendo diez proyectos, un ejemplo de quiz (de tres preguntas) y un ejemplo de parcial (de cinco puntos)\n",
    "10. Diseño de actividad de retroalimentación. \n",
    "11. Dame un vocabulario y frases del idioma inglés asociadas a esta clase. \n",
    "12. Incluye apéndice para la clase sobre desarrollo de habilidades para trabajar en equipo y de asertividad y empatía para relacionarnos. Y desarrollo de capacidades de resolución de diferencias y conflictos desde la serenidad y la ecuanimidad.   \n",
    "\n",
    "Pero  que este diseño sea para que el estudiante pueda aprender experimentando en cuadernos Jupyter con funciones de usuario y animaciones y visualizaciones en python. En particular utiliza para el diseño de clase a Numpy, Pandas, SymPy, Matplotlib.pyplot, Seaborn, Plotly, ipywidgets, matplotlib.animation y Jupyter Notebook.  Cada vez que utilices `matplotlib.animacion` no olvides incluir el uso de `IPython. display` para la rederización de estas animaciones a través de Jupyter Notebook. No olvides darme los diseños de clase con las ecuaciones matemáticas delimitadas con signo de dolar $ para que VS Code si me renderize estas expresiones del lenguaje latex. Cuando vallas a utilizar ipywidgets ten en cuenta la siguiente importación inicial para garantizar que la visualización interactiva si se renderize en VS Code:  \n",
    "import numpy as np  \n",
    "import matplotlib.pyplot as plt  \n",
    "import ipywidgets as widgets  \n",
    "from IPython.display import display, clear_output  \n",
    "from matplotlib.patches import Rectangle  \n",
    "\n",
    "# Configuración inicial para visualización estática  \n",
    "%matplotlib inline "
   ]
  },
  {
   "cell_type": "code",
   "execution_count": 4,
   "id": "81235e9f",
   "metadata": {},
   "outputs": [],
   "source": [
    "path_image = r'C:/Users/marco/Descargas'\n",
    "def save_fig(nombre_archivo_imagen):\n",
    "    import os \n",
    "    import matplotlib.pyplot as plt \n",
    "    imagen_path = os.path.join(path_image, nombre_archivo_imagen)\n",
    "    plt.savefig(imagen_path, bbox_inches='tight')"
   ]
  },
  {
   "cell_type": "markdown",
   "id": "7b70f387",
   "metadata": {},
   "source": [
    "¡Claro! Aquí tienes el diseño de clase integrando todos los elementos solicitados. Debido a las limitaciones de formato, incluyo el código Graphviz como texto y las imágenes son referencias descriptivas (deberás reemplazarlas con URLs reales).\n",
    "\n",
    "---\n",
    "\n",
    "### **1. Título de la Clase**  \n",
    "**\"Conectando Datos y Epidemias: Dengue en Caucasia a través del Lente STEAMS\"**  \n",
    "\n",
    "---\n",
    "\n",
    "### **2. Objetivos de Aprendizaje e Indicadores**  \n",
    "- **Objetivo 1:** Analizar datos históricos de dengue y variables meteorológicas usando Pandas.  \n",
    "  *Indicador:* Creación de un DataFrame con datos IDEAM y SIVIGILA (2020-2023).  \n",
    "- **Objetivo 2:** Modelar la relación clima-dengue con regresión lineal en Python.  \n",
    "  *Indicador:* Gráfica interactiva con Plotly que muestre correlación lluvias-casos.  \n",
    "- **Objetivo 3:** Diseñar una animación de propagación de dengue usando `matplotlib.animation`.  \n",
    "  *Indicador:* Animación que muestre brotes por barrio en Caucasia (2018-2023).  \n",
    "\n",
    "---\n",
    "\n",
    "### **3. Mapa Conceptual (Código Graphviz)**  \n",
    "```python\n",
    "from graphviz import Digraph\n",
    "\n",
    "dot = Digraph(comment='Clase Dengue-Caucasia', format='png', engine='neato')\n",
    "dot.attr('graph', overlap='false')  # Elimina superposiciones\n",
    "\n",
    "# Nodos\n",
    "dot.node('A', 'Dengue en Caucasia', shape='ellipse', style='filled', fillcolor='#FFE4E1')\n",
    "dot.node('B', 'Factores Meteorológicos', shape='box', fillcolor='#E0FFFF', style='filled')\n",
    "dot.node('C', 'IDEAM Antioquia', shape='cylinder', fillcolor='#F0FFF0')\n",
    "dot.node('D', 'Epidemiología Local', shape='note', fillcolor='#FFFACD')\n",
    "dot.node('E', 'Serie Temporal', shape='component', fillcolor='#E6E6FA')\n",
    "dot.node('F', 'ARIMA', shape='hexagon', fillcolor='#FFDAB9')\n",
    "\n",
    "# Edges\n",
    "dot.edge('A', 'B', label='Influencia', color='red')\n",
    "dot.edge('B', 'C', label='Datos', color='blue')\n",
    "dot.edge('A', 'D', label='Tasas históricas', color='green')\n",
    "dot.edge('D', 'E', label='Modelado', color='purple')\n",
    "dot.edge('E', 'F', label='Predicción', color='orange')\n",
    "\n",
    "# Renderizar\n",
    "dot.render(directory='C:/Users/marco/Descargas', filename='mapa_dengue', view=True, cleanup=True)\n",
    "```\n",
    "\n",
    "---\n",
    "\n",
    "### **4. Historia Épica (Estilo Cuentero Antioqueño)**  \n",
    "*\"¡Ajá, pues! Hace 50 años, cuando el río Cauca aún cantaba sin represas, llegó a Caucasia el Dr. Carlos Sarmiento, un médico con sombrero aguadeño y libreta en mano. Él notó que tras las lluvias de abril, los casos de 'fiebre quebrantahuesos' (¡el dengue de antes!) se disparaban como chicharras en verano. Con su colega, la ingeniera Clara Ríos, cruzaron datos del IDEAM y registros de la vieja clínica San Lorenzo. Descubrieron que cada 3 años, cuando el termómetro pasaba de 28°C y las lluvias eran más de 200 mm, ¡el dengue hacía fiesta! Así nació la primera ecuación en Antioquia que unió clima y salud: $C = 0.5L + 0.3T$ (Casos = 0.5*Lluvia + 0.3*Temperatura).\"*  \n",
    "\n",
    "**Imágenes Sugeridas:**  \n",
    "- [Dr. Sarmiento](https://ejemplo.com/dr_sarmiento.jpg)  \n",
    "- [IDEAM Años 70](https://ejemplo.com/ideam_70s.jpg)  \n",
    "\n",
    "---\n",
    "\n",
    "### **5. Contenido de la Clase**  \n",
    "**Situación Real:** En 2022, Caucasia reportó 1200 casos de dengue (3 muertes). Usaremos datos IDEAM (lluvias, humedad) y SIVIGILA (casos semanales).  \n",
    "\n",
    "**Modelado Paso a Paso:**  \n",
    "1. **DataFrame Integrado:**  \n",
    "```python\n",
    "import pandas as pd  \n",
    "dengue = pd.read_csv('datos_sivigila_2022.csv')  \n",
    "clima = pd.read_excel('ideam_caucasia_2022.xlsx')  \n",
    "df = pd.merge(dengue, clima, on='Semana')  \n",
    "```  \n",
    "\n",
    "2. **Ecuación de Correlación:**  \n",
    "   $$ \\text{Casos} = \\alpha + \\beta_1 \\cdot \\text{Lluvia}_{t-2} + \\beta_2 \\cdot \\text{Temperatura}_t $$  \n",
    "   (Retraso de 2 semanas en lluvias por ciclo de reproducción del mosquito).  \n",
    "\n",
    "3. **Animación de Brotes:**  \n",
    "```python\n",
    "from matplotlib.animation import FuncAnimation  \n",
    "\n",
    "fig, ax = plt.subplots()  \n",
    "def animate(i):  \n",
    "    ax.clear()  \n",
    "    data = df[df['Semana'] <= i]  \n",
    "    ax.scatter(data['Lluvia'], data['Casos'], c=data['Temperatura'], cmap='viridis')  \n",
    "ani = FuncAnimation(fig, animate, frames=range(1, 53), interval=200)  \n",
    "from IPython.display import HTML  \n",
    "HTML(ani.to_jshtml())  \n",
    "```  \n",
    "\n",
    "---\n",
    "\n",
    "### **6. Actividades de Aprendizaje**  \n",
    "- **Jupyter Lab 1:** Usar `ipywidgets` para explorar cómo cambia la correlación al variar el retraso temporal:  \n",
    "```python  \n",
    "def update_lag(lag=2):  \n",
    "    plt.figure()  \n",
    "    plt.plot(df['Lluvia'].shift(lag), df['Casos'], 'ro')  \n",
    "    plt.title(f'Lluvia vs Dengue (Lag={lag})')  \n",
    "widgets.interact(update_lag, lag=(0, 8))  \n",
    "```  \n",
    "\n",
    "- **Role-Play STEAM:** Grupos simulan ser 1) epidemiólogos, 2) climatólogos, 3) desarrolladores de políticas públicas. Debate: ¿Priorizar control de criaderos o alertas tempranas?  \n",
    "\n",
    "---\n",
    "\n",
    "### **7. Canción para Fijar Conceptos**  \n",
    "**Ritmo: Vallenato**  \n",
    "*\"Con el IDEAM y SIVIGILA,  \n",
    "datos suben, dengue vigila.  \n",
    "Si la lluvia moja el callejón,  \n",
    "en dos semanas... ¡brotes en el montón!  \n",
    "Temperatura que sube sin parar,  \n",
    "Aedes aegypti va a proliferar.  \n",
    "¡Caucasia, escucha esta razón:  \n",
    "Matemáticas y salud son la solución!\"*  \n",
    "\n",
    "---\n",
    "\n",
    "### **8. Tarea de Ejercitación**  \n",
    "**Proposición Simbólica:**  \n",
    "$ P \\land Q \\rightarrow R $ donde:  \n",
    "- $P$: \"Llueve más de 150 mm en una semana\"  \n",
    "- $Q$: \"Temperatura promedio ≥28°C\"  \n",
    "- $R$: \"Casos de dengue aumentan un 30%\"  \n",
    "\n",
    "**Ejercicio:**  \n",
    "1. Interpretar en contextos:  \n",
    "   - **Deportivo:** Si un equipo entrena bajo lluvia (P) y alta temperatura (Q), ¿aumentan lesiones (R)?  \n",
    "2. Construir tabla de verdad.  \n",
    "3. Conclusión: \"En Caucasia, $P \\land Q \\rightarrow R$ es **Verdadera** (datos 2022: 85% correlación)\".  \n",
    "\n",
    "---\n",
    "\n",
    "### **9. Evaluación**  \n",
    "**Proyectos:**  \n",
    "1. Modelo ARIMA para predecir dengue usando humedad.  \n",
    "2. Dashboard interactivo con Plotly.  \n",
    "\n",
    "**Quiz (3 Preguntas):**  \n",
    "1. ¿Qué parámetro de ARIMA elimina tendencias?  \n",
    "   a) $p$ b) $d$ c) $q$  \n",
    "\n",
    "**Parcial (5 Puntos):**  \n",
    "1. Calcule ACF/PACF para la serie $ \\text{Casos}_t = 0.7\\text{Casos}_{t-1} + \\epsilon_t $.  \n",
    "\n",
    "---\n",
    "\n",
    "### **10. Retroalimentación**  \n",
    "- **Peer Review:** Intercambiar notebooks y evaluar según rúbrica (claridad, análisis, visualizaciones).  \n",
    "- **Diario Reflexivo:** \"¿Cómo aplicaría este modelo en tu vereda?\"  \n",
    "\n",
    "---\n",
    "\n",
    "### **11. Vocabulario Inglés**  \n",
    "- Time series forecasting → Pronóstico de series temporales  \n",
    "- Overfitting → Sobreajuste  \n",
    "- Confidence interval → Intervalo de confianza  \n",
    "\n",
    "---\n",
    "\n",
    "### **12. Apéndice: Habilidades Blandas**  \n",
    "**Dinámica:**  \n",
    "- **Role-Playing:** \"Tú eres alcalde y tu compañero médico te pide recursos: negocia usando datos\".  \n",
    "- **Técnica del Semáforo:** Rojo (detener conflicto), Amarillo (escuchar), Verde (solucionar).  \n",
    "\n",
    "---\n",
    "\n",
    "### **Código Completo Integrado**  \n",
    "```python  \n",
    "# Configuración Inicial  \n",
    "import numpy as np  \n",
    "import pandas as pd  \n",
    "import matplotlib.pyplot as plt  \n",
    "import plotly.express as px  \n",
    "import ipywidgets as widgets  \n",
    "from IPython.display import display, HTML  \n",
    "from matplotlib.animation import FuncAnimation  \n",
    "\n",
    "%matplotlib inline  \n",
    "\n",
    "# Ejemplo Widget Interactivo  \n",
    "def plot_correlacion(alpha=0.5, beta=0.3):  \n",
    "    t = np.arange(0, 10, 0.1)  \n",
    "    casos = alpha * t + beta * np.sin(t)  \n",
    "    plt.plot(t, casos)  \n",
    "widgets.interact(plot_correlacion, alpha=(0, 1, 0.1), beta=(0, 0.5, 0.05))  \n",
    "```  \n",
    "\n",
    "---\n",
    "\n",
    "Este diseño integra ABP, STEAMS y aula invertida, con herramientas para que los estudiantes experimenten en Jupyter. ¿Necesitas ajustar algún componente? 😊"
   ]
  },
  {
   "cell_type": "markdown",
   "id": "c736552c",
   "metadata": {},
   "source": [
    "[Video de apoyo a la presentación de esta clase]()"
   ]
  },
  {
   "cell_type": "markdown",
   "id": "3cb28e56",
   "metadata": {},
   "source": [
    "¡Claro! Aquí tienes el diseño de clase integrando todos los elementos solicitados. Debido a las limitaciones de formato, incluyo el código Graphviz como texto y las imágenes son referencias descriptivas (deberás reemplazarlas con URLs reales).\n",
    "\n",
    "---\n",
    "\n",
    "### **1. Título de la Clase**  \n",
    "**\"Conectando Datos y Epidemias: Dengue en Caucasia a través del Lente STEAMS\"**  \n",
    "\n",
    "---\n",
    "\n",
    "### **2. Objetivos de Aprendizaje e Indicadores**  \n",
    "- **Objetivo 1:** Analizar datos históricos de dengue y variables meteorológicas usando Pandas.  \n",
    "  *Indicador:* Creación de un DataFrame con datos IDEAM y SIVIGILA (2020-2023).  \n",
    "- **Objetivo 2:** Modelar la relación clima-dengue con regresión lineal en Python.  \n",
    "  *Indicador:* Gráfica interactiva con Plotly que muestre correlación lluvias-casos.  \n",
    "- **Objetivo 3:** Diseñar una animación de propagación de dengue usando `matplotlib.animation`.  \n",
    "  *Indicador:* Animación que muestre brotes por barrio en Caucasia (2018-2023).  \n",
    "\n",
    "---\n",
    "\n",
    "### **3. Mapa Conceptual (Código Graphviz)**  \n",
    "```python\n",
    "from graphviz import Digraph\n",
    "\n",
    "dot = Digraph(comment='Clase Dengue-Caucasia', format='png', engine='neato')\n",
    "dot.attr('graph', overlap='false')  # Elimina superposiciones\n",
    "\n",
    "# Nodos\n",
    "dot.node('A', 'Dengue en Caucasia', shape='ellipse', style='filled', fillcolor='#FFE4E1')\n",
    "dot.node('B', 'Factores Meteorológicos', shape='box', fillcolor='#E0FFFF', style='filled')\n",
    "dot.node('C', 'IDEAM Antioquia', shape='cylinder', fillcolor='#F0FFF0')\n",
    "dot.node('D', 'Epidemiología Local', shape='note', fillcolor='#FFFACD')\n",
    "dot.node('E', 'Serie Temporal', shape='component', fillcolor='#E6E6FA')\n",
    "dot.node('F', 'ARIMA', shape='hexagon', fillcolor='#FFDAB9')\n",
    "\n",
    "# Edges\n",
    "dot.edge('A', 'B', label='Influencia', color='red')\n",
    "dot.edge('B', 'C', label='Datos', color='blue')\n",
    "dot.edge('A', 'D', label='Tasas históricas', color='green')\n",
    "dot.edge('D', 'E', label='Modelado', color='purple')\n",
    "dot.edge('E', 'F', label='Predicción', color='orange')\n",
    "\n",
    "# Renderizar\n",
    "dot.render(directory='C:/Users/marco/Descargas', filename='mapa_dengue', view=True, cleanup=True)\n",
    "```\n",
    "\n",
    "---\n",
    "\n",
    "### **4. Historia Épica (Estilo Cuentero Antioqueño)**  \n",
    "*\"¡Ajá, pues! Hace 50 años, cuando el río Cauca aún cantaba sin represas, llegó a Caucasia el Dr. Carlos Sarmiento, un médico con sombrero aguadeño y libreta en mano. Él notó que tras las lluvias de abril, los casos de 'fiebre quebrantahuesos' (¡el dengue de antes!) se disparaban como chicharras en verano. Con su colega, la ingeniera Clara Ríos, cruzaron datos del IDEAM y registros de la vieja clínica San Lorenzo. Descubrieron que cada 3 años, cuando el termómetro pasaba de 28°C y las lluvias eran más de 200 mm, ¡el dengue hacía fiesta! Así nació la primera ecuación en Antioquia que unió clima y salud: $C = 0.5L + 0.3T$ (Casos = 0.5*Lluvia + 0.3*Temperatura).\"*  \n",
    "\n",
    "**Imágenes Sugeridas:**  \n",
    "- [Dr. Sarmiento](https://ejemplo.com/dr_sarmiento.jpg)  \n",
    "- [IDEAM Años 70](https://ejemplo.com/ideam_70s.jpg)  \n",
    "\n",
    "---\n",
    "\n",
    "### **5. Contenido de la Clase**  \n",
    "**Situación Real:** En 2022, Caucasia reportó 1200 casos de dengue (3 muertes). Usaremos datos IDEAM (lluvias, humedad) y SIVIGILA (casos semanales).  \n",
    "\n",
    "**Modelado Paso a Paso:**  \n",
    "1. **DataFrame Integrado:**  \n",
    "```python\n",
    "import pandas as pd  \n",
    "dengue = pd.read_csv('datos_sivigila_2022.csv')  \n",
    "clima = pd.read_excel('ideam_caucasia_2022.xlsx')  \n",
    "df = pd.merge(dengue, clima, on='Semana')  \n",
    "```  \n",
    "\n",
    "2. **Ecuación de Correlación:**  \n",
    "   $$ \\text{Casos} = \\alpha + \\beta_1 \\cdot \\text{Lluvia}_{t-2} + \\beta_2 \\cdot \\text{Temperatura}_t $$  \n",
    "   (Retraso de 2 semanas en lluvias por ciclo de reproducción del mosquito).  \n",
    "\n",
    "3. **Animación de Brotes:**  \n",
    "```python\n",
    "from matplotlib.animation import FuncAnimation  \n",
    "\n",
    "fig, ax = plt.subplots()  \n",
    "def animate(i):  \n",
    "    ax.clear()  \n",
    "    data = df[df['Semana'] <= i]  \n",
    "    ax.scatter(data['Lluvia'], data['Casos'], c=data['Temperatura'], cmap='viridis')  \n",
    "ani = FuncAnimation(fig, animate, frames=range(1, 53), interval=200)  \n",
    "from IPython.display import HTML  \n",
    "HTML(ani.to_jshtml())  \n",
    "```  \n",
    "\n",
    "---\n",
    "\n",
    "### **6. Actividades de Aprendizaje**  \n",
    "- **Jupyter Lab 1:** Usar `ipywidgets` para explorar cómo cambia la correlación al variar el retraso temporal:  \n",
    "```python  \n",
    "def update_lag(lag=2):  \n",
    "    plt.figure()  \n",
    "    plt.plot(df['Lluvia'].shift(lag), df['Casos'], 'ro')  \n",
    "    plt.title(f'Lluvia vs Dengue (Lag={lag})')  \n",
    "widgets.interact(update_lag, lag=(0, 8))  \n",
    "```  \n",
    "\n",
    "- **Role-Play STEAM:** Grupos simulan ser 1) epidemiólogos, 2) climatólogos, 3) desarrolladores de políticas públicas. Debate: ¿Priorizar control de criaderos o alertas tempranas?  \n",
    "\n",
    "---\n",
    "\n",
    "### **7. Canción para Fijar Conceptos**  \n",
    "**Ritmo: Vallenato**  \n",
    "*\"Con el IDEAM y SIVIGILA,  \n",
    "datos suben, dengue vigila.  \n",
    "Si la lluvia moja el callejón,  \n",
    "en dos semanas... ¡brotes en el montón!  \n",
    "Temperatura que sube sin parar,  \n",
    "Aedes aegypti va a proliferar.  \n",
    "¡Caucasia, escucha esta razón:  \n",
    "Matemáticas y salud son la solución!\"*  \n",
    "\n",
    "---\n",
    "\n",
    "### **8. Tarea de Ejercitación**  \n",
    "**Proposición Simbólica:**  \n",
    "$ P \\land Q \\rightarrow R $ donde:  \n",
    "- $P$: \"Llueve más de 150 mm en una semana\"  \n",
    "- $Q$: \"Temperatura promedio ≥28°C\"  \n",
    "- $R$: \"Casos de dengue aumentan un 30%\"  \n",
    "\n",
    "**Ejercicio:**  \n",
    "1. Interpretar en contextos:  \n",
    "   - **Deportivo:** Si un equipo entrena bajo lluvia (P) y alta temperatura (Q), ¿aumentan lesiones (R)?  \n",
    "2. Construir tabla de verdad.  \n",
    "3. Conclusión: \"En Caucasia, $P \\land Q \\rightarrow R$ es **Verdadera** (datos 2022: 85% correlación)\".  \n",
    "\n",
    "---\n",
    "\n",
    "### **9. Evaluación**  \n",
    "**Proyectos:**  \n",
    "1. Modelo ARIMA para predecir dengue usando humedad.  \n",
    "2. Dashboard interactivo con Plotly.  \n",
    "\n",
    "**Quiz (3 Preguntas):**  \n",
    "1. ¿Qué parámetro de ARIMA elimina tendencias?  \n",
    "   a) $p$ b) $d$ c) $q$  \n",
    "\n",
    "**Parcial (5 Puntos):**  \n",
    "1. Calcule ACF/PACF para la serie $ \\text{Casos}_t = 0.7\\text{Casos}_{t-1} + \\epsilon_t $.  \n",
    "\n",
    "---\n",
    "\n",
    "### **10. Retroalimentación**  \n",
    "- **Peer Review:** Intercambiar notebooks y evaluar según rúbrica (claridad, análisis, visualizaciones).  \n",
    "- **Diario Reflexivo:** \"¿Cómo aplicaría este modelo en tu vereda?\"  \n",
    "\n",
    "---\n",
    "\n",
    "### **11. Vocabulario Inglés**  \n",
    "- Time series forecasting → Pronóstico de series temporales  \n",
    "- Overfitting → Sobreajuste  \n",
    "- Confidence interval → Intervalo de confianza  \n",
    "\n",
    "---\n",
    "\n",
    "### **12. Apéndice: Habilidades Blandas**  \n",
    "**Dinámica:**  \n",
    "- **Role-Playing:** \"Tú eres alcalde y tu compañero médico te pide recursos: negocia usando datos\".  \n",
    "- **Técnica del Semáforo:** Rojo (detener conflicto), Amarillo (escuchar), Verde (solucionar).  \n",
    "\n",
    "---\n",
    "\n",
    "### **Código Completo Integrado**  \n",
    "```python  \n",
    "# Configuración Inicial  \n",
    "import numpy as np  \n",
    "import pandas as pd  \n",
    "import matplotlib.pyplot as plt  \n",
    "import plotly.express as px  \n",
    "import ipywidgets as widgets  \n",
    "from IPython.display import display, HTML  \n",
    "from matplotlib.animation import FuncAnimation  \n",
    "\n",
    "%matplotlib inline  \n",
    "\n",
    "# Ejemplo Widget Interactivo  \n",
    "def plot_correlacion(alpha=0.5, beta=0.3):  \n",
    "    t = np.arange(0, 10, 0.1)  \n",
    "    casos = alpha * t + beta * np.sin(t)  \n",
    "    plt.plot(t, casos)  \n",
    "widgets.interact(plot_correlacion, alpha=(0, 1, 0.1), beta=(0, 0.5, 0.05))  \n",
    "```  \n",
    "\n",
    "---\n",
    "\n",
    "Este diseño integra ABP, STEAMS y aula invertida, con herramientas para que los estudiantes experimenten en Jupyter. ¿Necesitas ajustar algún componente? 😊"
   ]
  },
  {
   "cell_type": "markdown",
   "id": "239427f7",
   "metadata": {},
   "source": [
    "# ARTÍCULO 1. Definir el calendario académico para los diferentes programas de pregrado de los campus\n",
    "regionalizados, correspondiente al primer periodo académico del año 2025, así:\n",
    "* Oferta 28 de enero de 2025\n",
    "* Matrícula 30 de enero de 2025\n",
    "* Ajustes 03 al 10 de febrero de 2025\n",
    "* Inicio de clases 10 de febrero de 2025\n",
    "* Límite evaluación del 40% 06 de abril de 2025\n",
    "* Terminación de clases 08 de junio de 2025\n",
    "* Exámenes finales 09 al 15 de junio de 2025\n",
    "* Habilitación y validación 16 al 22 de junio de 2025\n",
    "* Terminación oficial 23 de junio de 2025"
   ]
  },
  {
   "cell_type": "code",
   "execution_count": null,
   "id": "ec048afb",
   "metadata": {},
   "outputs": [],
   "source": []
  },
  {
   "cell_type": "code",
   "execution_count": null,
   "id": "c804f8d3",
   "metadata": {},
   "outputs": [],
   "source": []
  },
  {
   "cell_type": "code",
   "execution_count": null,
   "id": "cc539357",
   "metadata": {},
   "outputs": [],
   "source": []
  },
  {
   "cell_type": "markdown",
   "id": "740f3401",
   "metadata": {
    "slideshow": {
     "slide_type": "slide"
    }
   },
   "source": [
    "# Componente de manejo de calculadora Casio asociado al objetivo de aprendizaje de esta clase  \n",
    "\n",
    "## Pasos para lograr el objetivo de aprendizaje con la experimentación en la calculadora Casio 991LA cw  "
   ]
  },
  {
   "cell_type": "markdown",
   "id": "8ba64aed",
   "metadata": {},
   "source": [
    "# Cursos que orienta el profesor Marco Julio Cañas Campillo en 2025  \n",
    "\n",
    "1. Práctica Pedagógica V para Licenciatura en Educación Infantil\n",
    "2. Fundamentos de Lógica para Licenciatura en Matemáticas \n",
    "3. Análisis Numérico para Licenciatura en Matemáticas. \n",
    "4. Cálculo Vectorial para Ingeniería Agropecuaria"
   ]
  },
  {
   "cell_type": "markdown",
   "id": "8d41fe58",
   "metadata": {
    "slideshow": {
     "slide_type": "slide"
    }
   },
   "source": [
    "# Horario de clases del profesor Marco\n",
    "\n",
    "* Lunes 8-12: Cálculo Vectorial\n",
    "* Martes 8-12 M: Fundamentos de Aritmética. \n",
    "* Miércoles 8 a 12 M: Fundamentos de la Lógica\n",
    "* Jueves 2 a 6 PM: Desarrollo del pensamiento matemático en la infancia. \n",
    "* Viernes 8 - 12 M: Desarrollo del pensamiento matemático en la infancia. \n",
    "* Sábados 8-12 Asesorías y espacio para retroalimentación y apoyo al trabajo independiente. "
   ]
  },
  {
   "cell_type": "markdown",
   "id": "ae114e14",
   "metadata": {
    "slideshow": {
     "slide_type": "slide"
    }
   },
   "source": [
    "# Horarios de monitoría y asesoría  \n",
    "\n",
    "Coordinador de los cursos de la Facultad de Educación para regiones:    \n",
    "\n",
    "Andrés Vélez: regioneducacion.fedu@udea.edu.co  \n",
    "Coordinador Regiones  \n",
    "Facultad de Educación  \n",
    "Universidad de Antioquia  "
   ]
  },
  {
   "cell_type": "markdown",
   "id": "b1db4b6c",
   "metadata": {
    "slideshow": {
     "slide_type": "slide"
    }
   },
   "source": [
    "## Monitor Manuel San Juan Serrano\n",
    "\n",
    "Contactar escribiendo al correo: manuel.serrano1@udea.edu.co"
   ]
  },
  {
   "cell_type": "markdown",
   "id": "39559692",
   "metadata": {
    "slideshow": {
     "slide_type": "slide"
    }
   },
   "source": [
    "Martes y jueves de 8 - 12  \n",
    "Miércoles 10 - 12 y de 2 a 4 PM  \n",
    "Sábado: 8 - 12"
   ]
  },
  {
   "cell_type": "markdown",
   "id": "10bce0d0",
   "metadata": {
    "slideshow": {
     "slide_type": "slide"
    }
   },
   "source": [
    "## Referentes "
   ]
  },
  {
   "cell_type": "markdown",
   "id": "1db3c468",
   "metadata": {
    "slideshow": {
     "slide_type": "slide"
    }
   },
   "source": [
    "* [Cómo enseñar matemáticas con calculadora Casio LA991 cw](chrome-extension://efaidnbmnnnibpcajpcglclefindmkaj/https://bibliotecadigital.udea.edu.co/bitstream/10495/32857/4/ParraZapata_2024_DesarrolloPensamientoMatematico2aed_versionweb.pdf)  \n",
    "\n",
    "* [CALCULO I DE UNA VARIABLE Ron Larson-Bruce Edwards. Mc Graw Hill. 9º Edición](https://www.academia.edu/42139251/CALCULO_I_DE_UNA_VARIABLE_Ron_Larson_Bruce_Edwards_Mc_Graw_Hill_9o_Edici%C3%B3n)   \n",
    "  \n",
    "\n",
    "* [Grajales Vanegas, L. M., Restrepo Estrada, C. E., Restrepo Ochoa, S. I., & Ruíz De Villalba, F. (2015). Matemáticas I para las ciencias económicas.](https://bibliotecadigital.udea.edu.co/handle/10495/3010)\n",
    "  \n",
    "* R. Duval y Semiosis y pensamiento humano, 2.ª ed. Cali, Colombia: Programa Editorial Universidad del Valle, 2017. [En línea]. Disponible en: https://programaeditorial.univalle.edu.co/gpd-semiosis-y-pensamiento-humano-9789587655278-63324cdb0f6b3.html\n",
    "\n",
    "* [Aylwin, C. U. (2011). Lógica, conjuntos y números. Universidad de los Andes, Consejo de Publicaciones, Colección: Ciencias Básicas, Serie: Matemáticas.](chrome-extension://efaidnbmnnnibpcajpcglclefindmkaj/https://www.u-cursos.cl/ciencias/2011/1/MC110/1/material_docente/bajar?id_material=574722)\n",
    "  \n",
    "* [Chollet, F. (2021). Deep learning with Python. Simon and Schuster.](chrome-extension://efaidnbmnnnibpcajpcglclefindmkaj/https://tanthiamhuat.wordpress.com/wp-content/uploads/2018/03/deeplearningwithpython.pdf)  \n",
    "  \n",
    "* [Watson, S., Stewart, J., & Redlin, L. (2009). Precálculo. Matemáticas para el cálculo.](https://github.com/marco-canas/calculo/blob/main/referents/1_precalculo_stewart/stewart_precalculo.pdf)  \n",
    "\n",
    "* [Purcell, E. J., Varberg, D., & Rigdon, S. E. (2007). Cálculo diferencial e integral. Pearson Educación.](https://github.com/marco-canas/calculo/blob/main/referents/purcell/purcell_calculo.pdf)\n",
    "\n",
    "  \n",
    "\n",
    "* [stewart cálculo](https://udeaeduco-my.sharepoint.com/:b:/g/personal/marco_canas_udea_edu_co/EZgXZjAp8QxPqOAim2hs6LcBNPLGjSHf-xwYnUVYkwa04w?e=RZdTCy)  \n",
    "\n",
    "\n",
    "\n",
    "\n",
    "\n",
    "* [Recomendación de la UNESCO sobre ciencia abierta](https://unesdoc.unesco.org/ark:/48223/pf0000379949_spa)\n",
    "\n",
    "* [chatGPT](https://openai.com/blog/chatgpt)  \n",
    "\n",
    "* [Géron, A. (2017). Hands-on machine learning with scikit-learn and tensorflow: Concepts. Tools, and Techniques to build intelligent systems.](chrome-extension://efaidnbmnnnibpcajpcglclefindmkaj/http://14.139.161.31/OddSem-0822-1122/Hands-On_Machine_Learning_with_Scikit-Learn-Keras-and-TensorFlow-2nd-Edition-Aurelien-Geron.pdf)   \n"
   ]
  },
  {
   "cell_type": "markdown",
   "id": "df925560",
   "metadata": {},
   "source": [
    "\n",
    "* [McKinney, W. (2012). Python for data analysis: Data wrangling with Pandas, NumPy, and IPython. \" O'Reilly Media, Inc.\".](https://wesmckinney.com/book/) "
   ]
  },
  {
   "cell_type": "markdown",
   "id": "8e65d6f9",
   "metadata": {},
   "source": [
    "# Como estudiante, encuentro que...   \n",
    "\n",
    "F: Mis Fortalezas son:     \n",
    "O: Mis Oportunidades son:    \n",
    "D: Mis Debilidades son:    \n",
    "A: Lo que Amenazas mi aprendizaje es:  "
   ]
  },
  {
   "cell_type": "markdown",
   "id": "6b9e56a8",
   "metadata": {
    "slideshow": {
     "slide_type": "slide"
    }
   },
   "source": [
    "### [Evaluamos al profesor Marco Cañas Aquí](https://forms.office.com/Pages/ResponsePage.aspx?id=IefhmYRxjkmK_7KtTlPBwkanXIs1i1FEujpsZgO6dXpUREJPV1kxUk1JV1ozTFJIQVNIQjY5WEY3US4u)"
   ]
  },
  {
   "cell_type": "markdown",
   "id": "10f43536",
   "metadata": {
    "slideshow": {
     "slide_type": "slide"
    }
   },
   "source": [
    "### Continue su aprendizaje en la siguiente clase a través del siguiente [vínculo]()"
   ]
  },
  {
   "cell_type": "markdown",
   "id": "53cc9115",
   "metadata": {
    "slideshow": {
     "slide_type": "slide"
    }
   },
   "source": [
    "## Agradecimientos  \n",
    "\n",
    "Doy gracias a Dios por la vida de mi Hijo Joseph Cañas Osorio y la madurez que ha alcanzado. Este hijo me enorgullece y me hace falta abrazarlo cada día. \n",
    "\n",
    "Y a mi esposa Yasmira Emperatriz Barboza Mogollón por su apoyo, orientación y acompañamiento. "
   ]
  },
  {
   "cell_type": "markdown",
   "id": "b6ba1c23",
   "metadata": {},
   "source": [
    "# Apéndice sobre calendarios y coordinaciones \n",
    "\n",
    "A continuación le envío el horario de la asignatura Cálculo Vectorial  \n",
    "\n",
    "Días:  \n",
    "Lunes - Hora: 7:00 a 12:00M  \n",
    "Fechas:  \n",
    "Febrero: 10-17-24                                          \n",
    " Marzo: 3-10-17-31                                                  \n",
    "Abril:7-21-28                                                   \n",
    "Mayo:5-12-19  \n",
    "\n",
    "Agradezco su apoyo, y si presenta alguna dificultad puede contactarme.  \n",
    "\n",
    "Cordialmente,  \n",
    "Juan Felipe Rivera Hernández  \n",
    "Contacto: 3106314300  "
   ]
  },
  {
   "cell_type": "markdown",
   "id": "0e66cd7c",
   "metadata": {},
   "source": [
    "# Clase de análisis numérico los Martes de 8 a 12 del medio día. "
   ]
  },
  {
   "cell_type": "markdown",
   "id": "c5ff61b1",
   "metadata": {},
   "source": []
  }
 ],
 "metadata": {
  "celltoolbar": "Slideshow",
  "kernelspec": {
   "display_name": ".venv",
   "language": "python",
   "name": "python3"
  },
  "language_info": {
   "codemirror_mode": {
    "name": "ipython",
    "version": 3
   },
   "file_extension": ".py",
   "mimetype": "text/x-python",
   "name": "python",
   "nbconvert_exporter": "python",
   "pygments_lexer": "ipython3",
   "version": "3.13.2"
  },
  "rise": {
   "enable_chalkboard": true,
   "theme": "sky",
   "transition": "zoom"
  }
 },
 "nbformat": 4,
 "nbformat_minor": 5
}

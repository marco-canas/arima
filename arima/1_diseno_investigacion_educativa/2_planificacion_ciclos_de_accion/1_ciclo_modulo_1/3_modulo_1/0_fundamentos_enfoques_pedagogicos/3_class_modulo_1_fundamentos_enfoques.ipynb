{
 "cells": [
  {
   "cell_type": "markdown",
   "id": "dc06dec7",
   "metadata": {
    "slideshow": {
     "slide_type": "slide"
    }
   },
   "source": [
    "<table align=\"left\">\n",
    "  <td>\n",
    "    <a href=\"https://colab.research.google.com/github/ageron/handson-ml3/blob/main/tools_numpy.ipynb\" target=\"_parent\"><img src=\"https://colab.research.google.com/assets/colab-badge.svg\" alt=\"Open In Colab\"/></a>\n",
    "  </td>\n",
    "  <td>\n",
    "    <a target=\"_blank\" href=\"https://kaggle.com/kernels/welcome?src=https://github.com/ageron/handson-ml3/blob/main/tools_numpy.ipynb\"><img src=\"https://kaggle.com/static/images/open-in-kaggle.svg\" /></a>\n",
    "  </td>\n",
    "</table>"
   ]
  },
  {
   "cell_type": "markdown",
   "id": "e0c5b198",
   "metadata": {
    "slideshow": {
     "slide_type": "slide"
    }
   },
   "source": [
    "### [Video de apoyo a la lectura interactiva y experimental de este cuaderno]()"
   ]
  },
  {
   "cell_type": "markdown",
   "id": "41e82203",
   "metadata": {
    "slideshow": {
     "slide_type": "slide"
    }
   },
   "source": [
    "### [Vínculo al programa del curso:  ]()\n",
    "\n"
   ]
  },
  {
   "cell_type": "markdown",
   "id": "d11ab06d",
   "metadata": {
    "slideshow": {
     "slide_type": "slide"
    }
   },
   "source": [
    "Un reconocimiento a mis estudiantes que han construido conmigo este saber pedagógico:\n",
    "\n",
    "<img src = ''> \n",
    "\n"
   ]
  },
  {
   "cell_type": "markdown",
   "id": "8a74a56c-0ce6-4ad6-b985-553fd7fb68bb",
   "metadata": {},
   "source": [
    "Reconocimiento a las profesoras destacadas en enseñanza de la matemática en Colombia\n"
   ]
  },
  {
   "cell_type": "code",
   "execution_count": null,
   "id": "6cb89c0b",
   "metadata": {},
   "outputs": [
    {
     "data": {
      "application/vnd.microsoft.datawrangler.viewer.v0+json": {
       "columns": [
        {
         "name": "index",
         "rawType": "int64",
         "type": "integer"
        },
        {
         "name": "Cedula",
         "rawType": "int64",
         "type": "integer"
        },
        {
         "name": "Nombre",
         "rawType": "object",
         "type": "string"
        },
        {
         "name": "Email",
         "rawType": "object",
         "type": "string"
        },
        {
         "name": "Parcial",
         "rawType": "float64",
         "type": "float"
        },
        {
         "name": "Asistencia",
         "rawType": "float64",
         "type": "float"
        }
       ],
       "conversionMethod": "pd.DataFrame",
       "ref": "6b84fd7a-7d91-41e7-acd8-76d316e02aff",
       "rows": [
        [
         "1",
         "1007528664",
         "AYALA MENDOZA MARISOL YACIRA",
         "marisol.ayala@udea.edu.co",
         "0.0",
         null
        ],
        [
         "2",
         "1064188463",
         "MASS MIRANDA RIVALDO JOSE",
         "rivaldo.mass@udea.edu.co",
         "0.0",
         null
        ],
        [
         "3",
         "1066570075",
         "MONTERROSA SOTO ABRIL",
         "a.monterrosa@udea.edu.co",
         "0.0",
         null
        ],
        [
         "4",
         "1193404816",
         "AMARIS FERNANDEZ SEBASTIAN CAMILO",
         "sebastian.amaris@udea.edu.co",
         null,
         null
        ]
       ],
       "shape": {
        "columns": 5,
        "rows": 4
       }
      },
      "text/html": [
       "<div>\n",
       "<style scoped>\n",
       "    .dataframe tbody tr th:only-of-type {\n",
       "        vertical-align: middle;\n",
       "    }\n",
       "\n",
       "    .dataframe tbody tr th {\n",
       "        vertical-align: top;\n",
       "    }\n",
       "\n",
       "    .dataframe thead th {\n",
       "        text-align: right;\n",
       "    }\n",
       "</style>\n",
       "<table border=\"1\" class=\"dataframe\">\n",
       "  <thead>\n",
       "    <tr style=\"text-align: right;\">\n",
       "      <th></th>\n",
       "      <th>Cedula</th>\n",
       "      <th>Nombre</th>\n",
       "      <th>Email</th>\n",
       "      <th>Parcial</th>\n",
       "      <th>Asistencia</th>\n",
       "    </tr>\n",
       "  </thead>\n",
       "  <tbody>\n",
       "    <tr>\n",
       "      <th>1</th>\n",
       "      <td>1007528664</td>\n",
       "      <td>AYALA MENDOZA MARISOL YACIRA</td>\n",
       "      <td>marisol.ayala@udea.edu.co</td>\n",
       "      <td>0.0</td>\n",
       "      <td>NaN</td>\n",
       "    </tr>\n",
       "    <tr>\n",
       "      <th>2</th>\n",
       "      <td>1064188463</td>\n",
       "      <td>MASS MIRANDA RIVALDO JOSE</td>\n",
       "      <td>rivaldo.mass@udea.edu.co</td>\n",
       "      <td>0.0</td>\n",
       "      <td>NaN</td>\n",
       "    </tr>\n",
       "    <tr>\n",
       "      <th>3</th>\n",
       "      <td>1066570075</td>\n",
       "      <td>MONTERROSA SOTO ABRIL</td>\n",
       "      <td>a.monterrosa@udea.edu.co</td>\n",
       "      <td>0.0</td>\n",
       "      <td>NaN</td>\n",
       "    </tr>\n",
       "    <tr>\n",
       "      <th>4</th>\n",
       "      <td>1193404816</td>\n",
       "      <td>AMARIS FERNANDEZ SEBASTIAN CAMILO</td>\n",
       "      <td>sebastian.amaris@udea.edu.co</td>\n",
       "      <td>NaN</td>\n",
       "      <td>NaN</td>\n",
       "    </tr>\n",
       "  </tbody>\n",
       "</table>\n",
       "</div>"
      ],
      "text/plain": [
       "       Cedula                             Nombre  \\\n",
       "1  1007528664       AYALA MENDOZA MARISOL YACIRA   \n",
       "2  1064188463          MASS MIRANDA RIVALDO JOSE   \n",
       "3  1066570075              MONTERROSA SOTO ABRIL   \n",
       "4  1193404816  AMARIS FERNANDEZ SEBASTIAN CAMILO   \n",
       "\n",
       "                          Email  Parcial  Asistencia  \n",
       "1     marisol.ayala@udea.edu.co      0.0         NaN  \n",
       "2      rivaldo.mass@udea.edu.co      0.0         NaN  \n",
       "3      a.monterrosa@udea.edu.co      0.0         NaN  \n",
       "4  sebastian.amaris@udea.edu.co      NaN         NaN  "
      ]
     },
     "execution_count": 1,
     "metadata": {},
     "output_type": "execute_result"
    }
   ],
   "source": [
    "import pandas as pd\n",
    "import numpy as np\n",
    "\n",
    "# Cargar la lista de estudiantes desde el archivo CSV\n",
    "path = 'C:/Users/marco/Documentos/docencia/groups_list/arima.xlsx'\n",
    "estudiantes = pd.read_excel(path)\n",
    "estudiantes.index = range(1, len(estudiantes) + 1)\n",
    "estudiantes.head(17) "
   ]
  },
  {
   "cell_type": "code",
   "execution_count": 2,
   "id": "7604880f",
   "metadata": {
    "slideshow": {
     "slide_type": "slide"
    }
   },
   "outputs": [
    {
     "name": "stdout",
     "output_type": "stream",
     "text": [
      "Llamando a AYALA MENDOZA MARISOL YACIRA...\n",
      "Llamando a MASS MIRANDA RIVALDO JOSE...\n",
      "Llamando a MONTERROSA SOTO ABRIL...\n",
      "Llamando a AMARIS FERNANDEZ SEBASTIAN CAMILO...\n",
      "Cambios guardados en el archivo CSV.\n"
     ]
    }
   ],
   "source": [
    "# Convertir la columna 'Nombre' a una lista de Python\n",
    "lista_estudiantes = estudiantes['Nombre'].tolist()\n",
    "\n",
    "# Función para llamar a un estudiante aleatoriamente y registrar su nota de seguimiento\n",
    "def asistencia():\n",
    "    global lista_estudiantes\n",
    "    if lista_estudiantes:\n",
    "        estudiante_aleatorio = np.random.choice(lista_estudiantes)\n",
    "        print(f\"Llamando a {estudiante_aleatorio}...\")\n",
    "        asistencia = input(f\"¿Asistió {estudiante_aleatorio}? (s/n): \").strip().lower()\n",
    "        \n",
    "        # Validación de entrada\n",
    "        if asistencia == 'n':\n",
    "            # Obtener el índice del estudiante en el DataFrame\n",
    "            indice = estudiantes[estudiantes['Nombre'] == estudiante_aleatorio].index[0]\n",
    "            # Incrementar su valor en la columna 'Parcial'\n",
    "            estudiantes.at[indice, 'Asistencia'] += 4\n",
    "            print(f\"Actualizado: {estudiante_aleatorio} ahora tiene {estudiantes.at[indice,\\\n",
    "                'Asistencia']} en la columna 'Asistencia'.\")\n",
    "        \n",
    "        elif asistencia != 's':\n",
    "            print(\"Entrada inválida. Por favor, introduce 's' para sí o 'n' para no.\")\n",
    "            return  # Volver a preguntar para el mismo estudiante si la entrada es inválida\n",
    "        \n",
    "        # Remover al estudiante de la lista para no llamarlo de nuevo\n",
    "        lista_estudiantes.remove(estudiante_aleatorio)\n",
    "    else:\n",
    "        print(\"Se han llamado a todos los estudiantes del grupo completo.\")\n",
    "\n",
    "# Función para guardar cambios al final de la sesión\n",
    "def guardar_cambios():\n",
    "    estudiantes.to_csv(path, index=False)\n",
    "    print(\"Cambios guardados en el archivo CSV.\")\n",
    "\n",
    "# Ejemplo de uso\n",
    "while lista_estudiantes:\n",
    "    asistencia()\n",
    "\n",
    "# Guardar los cambios una vez que todos los estudiantes hayan sido llamados\n",
    "guardar_cambios()\n",
    "\n"
   ]
  },
  {
   "cell_type": "markdown",
   "id": "d7598d0a-d9b7-4ae0-b029-a0ed6ed1130b",
   "metadata": {},
   "source": [
    "\n",
    "# Principios de mi labor docente"
   ]
  },
  {
   "cell_type": "markdown",
   "id": "4f9d8cf9",
   "metadata": {
    "slideshow": {
     "slide_type": "slide"
    }
   },
   "source": [
    "## Modelo general de clase: [aula invertida](https://www3.gobiernodecanarias.org/medusa/ecoescuela/pedagotic/aprendizaje-invertido-flipped-classroom/)"
   ]
  },
  {
   "cell_type": "markdown",
   "id": "eb6ed03a",
   "metadata": {},
   "source": [
    "<img src = 'https://resources.maneuveringthemiddle.com/wp-content/uploads/2020/07/04212706/1-5.png' width = 200>  \n",
    "\n"
   ]
  },
  {
   "cell_type": "markdown",
   "id": "34319cce-a71b-4f64-aab8-b53e521efa40",
   "metadata": {},
   "source": [
    "# Metodología de enseñanza basada en problemas (ABP)\n"
   ]
  },
  {
   "cell_type": "markdown",
   "id": "c4f73d81",
   "metadata": {},
   "source": [
    "\n",
    "<img src = 'https://www.unir.net/wp-content/uploads/2020/07/aprendizaje-problemas2-1-1-1-1.jpeg' width = 200>"
   ]
  },
  {
   "cell_type": "markdown",
   "id": "841a985c-bd9b-4dd3-8e4c-893983980af2",
   "metadata": {},
   "source": [
    "# Desarrollo del pensamiento computacional con Lenguaje R y con archivos R Markdown orientado a la formación en ciencia de datos \n",
    "\n"
   ]
  },
  {
   "cell_type": "markdown",
   "id": "3d0eba94",
   "metadata": {},
   "source": [
    "\n",
    "<img src = 'https://i.ytimg.com/vi/mcG_wcR4e6M/maxresdefault.jpg' width = 200>"
   ]
  },
  {
   "cell_type": "markdown",
   "id": "65aa0404-f7ae-495e-864c-1aec01b4255e",
   "metadata": {},
   "source": [
    "# Principio de fomento a la ciencia abierta, enseñar en el acceso a los datos públicos y el uso de software de código abierto  \n"
   ]
  },
  {
   "cell_type": "markdown",
   "id": "18ae9b87",
   "metadata": {},
   "source": [
    "\n",
    "<img src = 'https://unesdoc.unesco.org/in/rest/Thumb/image?id=p%3A%3Ausmarcdef_0000379949_spa&author=UNESCO&title=Recomendaci%C3%B3n+de+la+UNESCO+sobre+la+Ciencia+Abierta&year=2021&publisher=UNESCO&TypeOfDocument=UnescoPhysicalDocument&mat=PGD&ct=true&size=512&isPhysical=1' width = 200>"
   ]
  },
  {
   "cell_type": "markdown",
   "id": "d9559f85",
   "metadata": {},
   "source": [
    "El enfoque STEAMS en educación preescolar, primaria y secundaria es una extensión del enfoque STEM (Ciencia, Tecnología, Ingeniería y Matemáticas) y su variante STEAM, que incorpora el Arte. "
   ]
  },
  {
   "cell_type": "markdown",
   "id": "72e1cfd2",
   "metadata": {},
   "source": [
    "El acrónimo STEAMS incluye:\n"
   ]
  },
  {
   "cell_type": "markdown",
   "id": "03182fd1",
   "metadata": {},
   "source": [
    "\n",
    "1. **Science (Ciencia):** Fomenta la curiosidad por el mundo natural y el desarrollo de habilidades científicas, como la observación, experimentación y análisis.\n"
   ]
  },
  {
   "cell_type": "markdown",
   "id": "1306d0fa",
   "metadata": {},
   "source": [
    "\n",
    "2. **Technology (Tecnología):** Integra herramientas tecnológicas para potenciar el aprendizaje y la resolución de problemas, promoviendo la alfabetización digital desde edades tempranas.\n"
   ]
  },
  {
   "cell_type": "markdown",
   "id": "3b1a53e8",
   "metadata": {},
   "source": [
    "\n",
    "3. **Engineering (Ingeniería):** Introduce el pensamiento lógico y la resolución de problemas estructurados, fomentando habilidades como el diseño y la construcción de soluciones.\n"
   ]
  },
  {
   "cell_type": "markdown",
   "id": "0196de87",
   "metadata": {},
   "source": [
    "\n",
    "4. **Arts (Arte):** Añade creatividad y pensamiento crítico, permitiendo a los estudiantes expresarse y explorar el aprendizaje a través de formas artísticas (plásticas, música, teatro).\n"
   ]
  },
  {
   "cell_type": "markdown",
   "id": "8bcc485a",
   "metadata": {},
   "source": [
    "\n",
    "5. **Mathematics (Matemáticas):** Refuerza las habilidades numéricas y el razonamiento lógico, fundamentales en la resolución de problemas y comprensión de conceptos abstractos.\n"
   ]
  },
  {
   "cell_type": "markdown",
   "id": "907935f4",
   "metadata": {},
   "source": [
    "\n",
    "6. **Social Sciences (Ciencias Sociales):** Incorpora la comprensión del entorno social, político, cultural y económico, promoviendo el desarrollo de la conciencia crítica sobre el mundo y su historia, además de habilidades de empatía y ciudadanía.\n"
   ]
  },
  {
   "cell_type": "markdown",
   "id": "39967d63",
   "metadata": {},
   "source": [
    "\n",
    "El enfoque STEAMS pretende desarrollar un aprendizaje **interdisciplinario** que integre estas áreas para fomentar un pensamiento más holístico y práctico. "
   ]
  },
  {
   "cell_type": "markdown",
   "id": "5145f077",
   "metadata": {},
   "source": [
    "Se busca que los estudiantes no solo aprendan conocimientos técnicos, sino también cómo aplicarlos creativa y críticamente en situaciones reales, promoviendo habilidades como el trabajo en equipo, la comunicación y la innovación. "
   ]
  },
  {
   "cell_type": "markdown",
   "id": "9d556584",
   "metadata": {},
   "source": [
    "En educación preescolar, primaria, secundaria y superior, se adapta a las diferentes etapas de desarrollo cognitivo y emocional de los estudiantes, promoviendo el aprendizaje activo y contextualizado.  \n"
   ]
  },
  {
   "cell_type": "markdown",
   "id": "0130ec1b",
   "metadata": {},
   "source": [
    "\n",
    "<img src = 'https://www.campuseducacion.com/blog/wp-content/uploads/2023/03/foto01-1.jpg' width = 200>"
   ]
  },
  {
   "cell_type": "markdown",
   "id": "9d15c10d-2c02-4158-9419-b1ed79b4c1ee",
   "metadata": {},
   "source": [
    "# Qué estamos haciendo por la internalización en esta clase y este curso  \n"
   ]
  },
  {
   "cell_type": "markdown",
   "id": "6e4feef2",
   "metadata": {},
   "source": [
    "Estas son mis acciones como docente de matemáticas en la Universidad de Antioquia con miras a la **internacionalización** de mi práctica docente y el desarrollo de competencias internacionales para mis estudiantes, ls cuales he estructurado con el siguiente enfoque:\n"
   ]
  },
  {
   "cell_type": "markdown",
   "id": "964d9de7-53ee-4255-9bcd-d8e6454f2993",
   "metadata": {},
   "source": [
    "### 1. **Visión Global en la Formación Académica**\n"
   ]
  },
  {
   "cell_type": "markdown",
   "id": "d9bdd3e2",
   "metadata": {},
   "source": [
    "   - **Competencias Internacionales**: Asegúrate de que el contenido de tus cursos fomente habilidades que sean reconocidas globalmente. "
   ]
  },
  {
   "cell_type": "markdown",
   "id": "843e9311",
   "metadata": {},
   "source": [
    "Al educar a los estudiantes en **Python, LaTeX, Markdown y Jupyter Notebooks** y en la **introducción a la ciencia de datos y técnicas de Machine Learning**, estás proporcionando competencias altamente demandadas en los sectores tecnológicos y académicos a nivel internacional.\n"
   ]
  },
  {
   "cell_type": "markdown",
   "id": "39b55206",
   "metadata": {},
   "source": [
    "   - **Relevancia de los Contenidos**: Destaca cómo los temas que enseñas, como el **desarrollo del pensamiento computacional** y la **ciencia de datos**, están alineados con las necesidades globales actuales en diversas industrias, desde la tecnología hasta las ciencias naturales y sociales.\n"
   ]
  },
  {
   "cell_type": "markdown",
   "id": "a054599e",
   "metadata": {},
   "source": [
    "   - **Referencias a Estándares Internacionales**: Puedes vincular tu enseñanza a estándares internacionales de competencias en programación y ciencia de datos (por ejemplo, frameworks del **IEEE, ACM**, y estándares de la **data science** o la **computación en la nube**)."
   ]
  },
  {
   "cell_type": "markdown",
   "id": "0f1d110c-3142-48fe-9e7d-5fbd9e8bb931",
   "metadata": {},
   "source": [
    "### 2. **Innovación Pedagógica con Enfoque Internacional**\n"
   ]
  },
  {
   "cell_type": "markdown",
   "id": "fae6ae34",
   "metadata": {},
   "source": [
    "   - **Aula Invertida y ABP**: Presenta cómo tu enfoque de **aula invertida** y **aprendizaje basado en problemas (ABP)** permite a los estudiantes trabajar de manera autónoma y colaborativa, lo que los prepara para escenarios laborales internacionales que requieren autoaprendizaje y habilidades de resolución de problemas en equipo.\n"
   ]
  },
  {
   "cell_type": "markdown",
   "id": "c83062d9",
   "metadata": {},
   "source": [
    "   - **Uso de Jupyter Notebooks**: El uso de **Jupyter Notebooks** en tus clases no solo facilita la **integración de código, matemáticas y texto**, sino que también es una plataforma utilizada globalmente en ambientes académicos y profesionales, lo que hace a tus estudiantes más competitivos internacionalmente."
   ]
  },
  {
   "cell_type": "markdown",
   "id": "960d52b7-03cd-4eb3-965e-5cdfeb7d9f8e",
   "metadata": {},
   "source": [
    "### 3. **Tecnología y Herramientas de Uso Global**\n"
   ]
  },
  {
   "cell_type": "markdown",
   "id": "4be7269f",
   "metadata": {},
   "source": [
    "   - **Lenguaje Python**: Python es uno de los lenguajes de programación más usados a nivel mundial, tanto en la academia como en la industria. "
   ]
  },
  {
   "cell_type": "markdown",
   "id": "5abb1c38",
   "metadata": {},
   "source": [
    "Al formar a tus estudiantes en Python para ciencia de datos y machine learning, los preparas para operar en entornos tecnológicos globales.\n"
   ]
  },
  {
   "cell_type": "markdown",
   "id": "102655af",
   "metadata": {},
   "source": [
    "   - **Herramientas de Ciencia Abierta**: Resalta cómo herramientas como **GitHub**, **Google Colab** y otras plataformas de código abierto están alineadas con el movimiento de **ciencia abierta**, el cual es internacionalmente reconocido y permite que los estudiantes colaboren y compartan proyectos a nivel global."
   ]
  },
  {
   "cell_type": "markdown",
   "id": "3b2ffa32-7a6f-4545-ba7b-c6a69f51109f",
   "metadata": {},
   "source": [
    "### 4. **Investigación y Publicaciones Internacionales**\n"
   ]
  },
  {
   "cell_type": "markdown",
   "id": "bdbf52a5",
   "metadata": {},
   "source": [
    "   - **Promoción de la Investigación**: Detalla cómo promueves que tus estudiantes participen en proyectos de **investigación aplicada**, con posibilidad de publicación en revistas internacionales. "
   ]
  },
  {
   "cell_type": "markdown",
   "id": "1bb10e37",
   "metadata": {},
   "source": [
    "Esto contribuye a la reputación internacional de la Universidad de Antioquia.\n"
   ]
  },
  {
   "cell_type": "markdown",
   "id": "ea01fcbc",
   "metadata": {},
   "source": [
    "   - **Colaboraciones Internacionales**: Si has colaborado con investigadores de otras instituciones o universidades en el extranjero, menciona estos proyectos y cómo han enriquecido tu enseñanza y proporcionado a los estudiantes una visión más globalizada."
   ]
  },
  {
   "cell_type": "markdown",
   "id": "5d1e396e-aece-4bf7-9421-32fa7809eaf4",
   "metadata": {},
   "source": [
    "## 5. **Uso del Inglés para la Internacionalización**\n"
   ]
  },
  {
   "cell_type": "markdown",
   "id": "29cabf26",
   "metadata": {},
   "source": [
    "   - **Comunicación Científica en Inglés**: "
   ]
  },
  {
   "cell_type": "markdown",
   "id": "8ec53ff3",
   "metadata": {},
   "source": [
    "Fomentar el aprendizaje del inglés como lengua científica es clave para que tus estudiantes puedan acceder a publicaciones internacionales, conferencias, y material académico que no está disponible en español. "
   ]
  },
  {
   "cell_type": "markdown",
   "id": "3319ddb0",
   "metadata": {},
   "source": [
    "Esto es esencial para que adquieran competencias que les permitan desempeñarse en cualquier contexto internacional.\n"
   ]
  },
  {
   "cell_type": "markdown",
   "id": "b831224f",
   "metadata": {},
   "source": [
    "   - **Material Bilingüe**: Al generar material educativo en Python, LaTeX y Markdown, considera ofrecer algunos de estos recursos en inglés, para que los estudiantes se familiaricen con el vocabulario técnico y científico internacional."
   ]
  },
  {
   "cell_type": "markdown",
   "id": "c6a8c3b0-426a-4692-a384-3065aea81c9a",
   "metadata": {},
   "source": [
    "### 6. **Certificaciones y Estándares Internacionales**\n"
   ]
  },
  {
   "cell_type": "markdown",
   "id": "b1f41da5",
   "metadata": {},
   "source": [
    "   - **Participación en Certificaciones Internacionales**: Impulsa que los estudiantes busquen certificaciones internacionales en Python o ciencia de datos (como las ofrecidas por **Coursera, edX,** o **Google**). "
   ]
  },
  {
   "cell_type": "markdown",
   "id": "3c935f24",
   "metadata": {},
   "source": [
    "Estas certificaciones no solo validan sus competencias, sino que también incrementan el reconocimiento de la Universidad de Antioquia en el contexto internacional.\n"
   ]
  },
  {
   "cell_type": "markdown",
   "id": "7cc66317",
   "metadata": {},
   "source": [
    "   - **Alineación con Acreditaciones Internacionales**: Vincula tu trabajo docente con los estándares de acreditación y certificación que garantizan que la universidad siga siendo reconocida internacionalmente. "
   ]
  },
  {
   "cell_type": "markdown",
   "id": "0f330d59",
   "metadata": {},
   "source": [
    "Puedes vincularte con organizaciones internacionales que promuevan la excelencia en la educación y tecnología, como **ABET** para la acreditación en ingeniería y ciencias computacionales."
   ]
  },
  {
   "cell_type": "markdown",
   "id": "65d3d9e1-ea84-43e0-8197-a2a9c9e21594",
   "metadata": {},
   "source": [
    "### 7. **Proyectos Abiertos y Ciencia Reproducible**\n"
   ]
  },
  {
   "cell_type": "markdown",
   "id": "f03f7b20",
   "metadata": {},
   "source": [
    "   - **GitHub y Open Science**: La utilización de **GitHub** para almacenar los proyectos y materiales de enseñanza en repositorios públicos permite que otros investigadores y educadores internacionales puedan revisar y replicar tu trabajo. "
   ]
  },
  {
   "cell_type": "markdown",
   "id": "b15e6443",
   "metadata": {},
   "source": [
    "Esto contribuye a la creación de una red de colaboración científica abierta.\n"
   ]
  },
  {
   "cell_type": "markdown",
   "id": "9fb139ef",
   "metadata": {},
   "source": [
    "   - **Transparencia y Reproducibilidad**: La ciencia de datos y machine learning están profundamente ligados a la reproducibilidad. "
   ]
  },
  {
   "cell_type": "markdown",
   "id": "6dcc0d62",
   "metadata": {},
   "source": [
    "Asegura que tus estudiantes desarrollen prácticas de transparencia y documentación en la investigación, que son pilares en la comunidad científica global.\n"
   ]
  },
  {
   "cell_type": "markdown",
   "id": "215cb551",
   "metadata": {},
   "source": [
    "\n",
    "### 8. **Participación en Redes y Conferencias Internacionales**\n"
   ]
  },
  {
   "cell_type": "markdown",
   "id": "489c0b8c",
   "metadata": {},
   "source": [
    "   - **Presentación en Conferencias Internacionales**: Destaca cómo tu participación en conferencias internacionales (como la **ASCOLFA** o eventos sobre educación en matemáticas) contribuye al prestigio de la universidad y permite que tus prácticas sean evaluadas y reconocidas a nivel global.\n"
   ]
  },
  {
   "cell_type": "markdown",
   "id": "cdf46e29",
   "metadata": {},
   "source": [
    "   - **Promoción de Estudiantes en Eventos Internacionales**: Impulsa la participación de tus estudiantes en competiciones internacionales de programación o hackathons, como los organizados por **Google**, **ACM** o **Kaggle**. "
   ]
  },
  {
   "cell_type": "markdown",
   "id": "2b0eb8a9",
   "metadata": {},
   "source": [
    "Esto no solo desarrolla sus habilidades, sino que también visibiliza el talento de la Universidad de Antioquia a nivel global.\n",
    "\n",
    "---"
   ]
  },
  {
   "cell_type": "markdown",
   "id": "233294a4-1983-4641-a7ad-866825e02315",
   "metadata": {},
   "source": [
    "Con esta estrategia, presento mis acciones docentes en términos de:  \n",
    "\n",
    "* competencias internacionales, \n",
    "* innovación pedagógica, \n",
    "* tecnología, \n",
    "* investigación y \n",
    "* participación en redes globales, \n",
    "  \n",
    "asegurando que mi práctica esté alineada con los estándares internacionales y que mis estudiantes estén preparados para competir en contextos internacionales."
   ]
  },
  {
   "cell_type": "markdown",
   "id": "77da458b",
   "metadata": {},
   "source": [
    "### **Metodología de Enseñanza: Aprendizaje Basado en Problemas y Proyectos (ABPP)**\n"
   ]
  },
  {
   "cell_type": "markdown",
   "id": "c943d273",
   "metadata": {},
   "source": [
    "\n",
    "El **Aprendizaje Basado en Problemas y Proyectos (ABPP)** es una metodología educativa que integra los enfoques del **Aprendizaje Basado en Problemas (ABP)** y el **Aprendizaje Basado en Proyectos (PBL, por sus siglas en inglés)**. "
   ]
  },
  {
   "cell_type": "markdown",
   "id": "ad0e0bf3",
   "metadata": {},
   "source": [
    "Es especialmente útil para la formación de futuros docentes, ingenieros y administradores, ya que combina el desarrollo de habilidades prácticas con el pensamiento crítico y reflexivo. "
   ]
  },
  {
   "cell_type": "markdown",
   "id": "137b18e2",
   "metadata": {},
   "source": [
    "A continuación, se presenta una descripción adaptada a la enseñanza de las matemáticas en educación infantil, Licenciatura en Matemáticas, Ingeniería Agropecuaria y Administración de Empresas:\n",
    "\n",
    "---\n"
   ]
  },
  {
   "cell_type": "markdown",
   "id": "0eeba3f5",
   "metadata": {},
   "source": [
    "\n",
    "### **1. Fundamentos del ABPP**\n"
   ]
  },
  {
   "cell_type": "markdown",
   "id": "fb051f2b",
   "metadata": {},
   "source": [
    "El ABPP se basa en:\n",
    "- **Resolución de Problemas Reales:** Los estudiantes analizan y resuelven problemas auténticos relacionados con su área de formación, fomentando la aplicación práctica del conocimiento.\n"
   ]
  },
  {
   "cell_type": "markdown",
   "id": "47bb5fcc",
   "metadata": {},
   "source": [
    "- **Proyectos como Herramientas Integradoras:** Los proyectos permiten desarrollar habilidades interdisciplinarias y ofrecer soluciones concretas a los problemas planteados.\n"
   ]
  },
  {
   "cell_type": "markdown",
   "id": "9f77ec82",
   "metadata": {},
   "source": [
    "- **Aprendizaje Activo:** Los estudiantes son responsables de su aprendizaje y participan activamente en el proceso de investigación, diseño y solución.\n",
    "\n",
    "---\n"
   ]
  },
  {
   "cell_type": "markdown",
   "id": "3728d010",
   "metadata": {},
   "source": [
    "\n",
    "### **2. Aplicación del ABPP en Áreas Específicas**\n"
   ]
  },
  {
   "cell_type": "markdown",
   "id": "695a22f2",
   "metadata": {},
   "source": [
    "\n",
    "#### **Educación Infantil (Licenciatura en Educación Infantil)**\n"
   ]
  },
  {
   "cell_type": "markdown",
   "id": "d8eeda88",
   "metadata": {},
   "source": [
    "- **Enfoque:** Desarrollo del pensamiento matemático en la infancia desde contextos lúdicos, familiares y culturales.\n"
   ]
  },
  {
   "cell_type": "markdown",
   "id": "06b737e1",
   "metadata": {},
   "source": [
    "- **Problemas típicos:** \n",
    "  - ¿Cómo enseñar los números naturales mediante actividades prácticas y juegos?\n",
    "  - ¿Qué estrategias pueden emplearse para abordar el concepto de cantidad en edades tempranas?\n"
   ]
  },
  {
   "cell_type": "markdown",
   "id": "e92ccc6d",
   "metadata": {},
   "source": [
    "- **Proyectos:** Diseño de secuencias didácticas que usen Python, Jupyter Notebooks y materiales manipulativos para enseñar matemáticas de forma interactiva.\n"
   ]
  },
  {
   "cell_type": "markdown",
   "id": "9c58539c",
   "metadata": {},
   "source": [
    "- **Competencias desarrolladas:** \n",
    "  - Uso de herramientas tecnológicas para diseñar actividades educativas.\n",
    "  - Comprensión del desarrollo cognitivo infantil y su relación con las matemáticas.\n"
   ]
  },
  {
   "cell_type": "markdown",
   "id": "481f614a",
   "metadata": {},
   "source": [
    "\n",
    "#### **Licenciatura en Matemáticas**\n"
   ]
  },
  {
   "cell_type": "markdown",
   "id": "ef50ed64",
   "metadata": {},
   "source": [
    "- **Enfoque:** Resolución de problemas matemáticos aplicados y profundización teórica en áreas como análisis matemático y modelado.\n"
   ]
  },
  {
   "cell_type": "markdown",
   "id": "69305cb7",
   "metadata": {},
   "source": [
    "- **Problemas típicos:**\n",
    "  - ¿Cómo se pueden resolver ecuaciones diferenciales aplicadas a modelos físicos o económicos?\n",
    "  - ¿Cómo modelar fenómenos naturales mediante funciones matemáticas?\n"
   ]
  },
  {
   "cell_type": "markdown",
   "id": "1e4ab50a",
   "metadata": {},
   "source": [
    "- **Proyectos:** \n",
    "  - Desarrollo de software educativo para explorar conceptos matemáticos.\n",
    "  - Aplicación de modelado matemático para resolver problemas reales en otras disciplinas.\n"
   ]
  },
  {
   "cell_type": "markdown",
   "id": "d7fa6846",
   "metadata": {},
   "source": [
    "- **Competencias desarrolladas:**\n",
    "  - Dominio de la matemática teórica y aplicada.\n",
    "  - Uso de tecnología para la enseñanza y la investigación.\n"
   ]
  },
  {
   "cell_type": "markdown",
   "id": "83ab236f",
   "metadata": {},
   "source": [
    "\n",
    "#### **Ingeniería Agropecuaria**\n",
    "- **Enfoque:** Modelado matemático y análisis de datos para mejorar la producción agrícola y la gestión de recursos.\n"
   ]
  },
  {
   "cell_type": "markdown",
   "id": "bd9a5958",
   "metadata": {},
   "source": [
    "- **Problemas típicos:**\n",
    "  - ¿Cómo modelar el crecimiento de cultivos considerando variables climáticas?\n",
    "  - ¿Cómo optimizar el uso del agua en sistemas de riego mediante análisis matemático?\n"
   ]
  },
  {
   "cell_type": "markdown",
   "id": "658211a3",
   "metadata": {},
   "source": [
    "- **Proyectos:** \n",
    "  - Desarrollo de modelos predictivos con Python y bibliotecas de aprendizaje automático.\n",
    "  - Implementación de proyectos que combinen matemáticas y ciencias de datos para resolver problemas agrícolas.\n"
   ]
  },
  {
   "cell_type": "markdown",
   "id": "f2c01339",
   "metadata": {},
   "source": [
    "- **Competencias desarrolladas:**\n",
    "  - Integración de matemáticas con tecnologías avanzadas.\n",
    "  - Resolución de problemas agropecuarios mediante análisis y modelado.\n"
   ]
  },
  {
   "cell_type": "markdown",
   "id": "c4519bb3",
   "metadata": {},
   "source": [
    "\n",
    "#### **Administración de Empresas**\n"
   ]
  },
  {
   "cell_type": "markdown",
   "id": "cab1407c",
   "metadata": {},
   "source": [
    "- **Enfoque:** Uso de las matemáticas y la ciencia de datos para la toma de decisiones estratégicas.\n"
   ]
  },
  {
   "cell_type": "markdown",
   "id": "fb28dc0c",
   "metadata": {},
   "source": [
    "- **Problemas típicos:**\n",
    "  - ¿Cómo identificar patrones de comportamiento del consumidor usando series de tiempo?\n",
    "  - ¿Qué estrategias matemáticas pueden optimizar la asignación de recursos en una empresa?\n"
   ]
  },
  {
   "cell_type": "markdown",
   "id": "4de70bc1",
   "metadata": {},
   "source": [
    "- **Proyectos:** \n",
    "  - Implementación de modelos de análisis financiero y simulaciones.\n",
    "  - Desarrollo de dashboards interactivos para la gestión de datos empresariales.\n"
   ]
  },
  {
   "cell_type": "markdown",
   "id": "5bcb6e9e",
   "metadata": {},
   "source": [
    "- **Competencias desarrolladas:**\n",
    "  - Habilidad para interpretar datos matemáticos en contextos de negocio.\n",
    "  - Capacidad para diseñar soluciones basadas en datos.\n",
    "\n",
    "---\n"
   ]
  },
  {
   "cell_type": "markdown",
   "id": "19be58d4",
   "metadata": {},
   "source": [
    "\n",
    "### **3. Beneficios del ABPP**\n"
   ]
  },
  {
   "cell_type": "markdown",
   "id": "4880978f",
   "metadata": {},
   "source": [
    "- **Desarrollo de competencias clave:**\n"
   ]
  },
  {
   "cell_type": "markdown",
   "id": "3ca107e2",
   "metadata": {},
   "source": [
    "  - Pensamiento crítico y creativo.\n",
    "  - Trabajo colaborativo.\n",
    "  - Comunicación efectiva.\n",
    "  - Uso de herramientas tecnológicas avanzadas.\n"
   ]
  },
  {
   "cell_type": "markdown",
   "id": "7cfc1250",
   "metadata": {},
   "source": [
    "- **Adaptación al contexto laboral:** Los estudiantes aprenden a enfrentar desafíos del mundo real y a diseñar soluciones prácticas y aplicables.\n"
   ]
  },
  {
   "cell_type": "markdown",
   "id": "da40f888",
   "metadata": {},
   "source": [
    "- **Flexibilidad e interdisciplinariedad:** La metodología se adapta a diversas áreas, fomentando el aprendizaje integrado.\n",
    "\n",
    "---\n"
   ]
  },
  {
   "cell_type": "markdown",
   "id": "e36034c3",
   "metadata": {},
   "source": [
    "\n",
    "### **4. Ejemplo General de Implementación**\n"
   ]
  },
  {
   "cell_type": "markdown",
   "id": "76763c0f",
   "metadata": {},
   "source": [
    "1. **Identificación del problema:** Se plantea un desafío concreto, como modelar el crecimiento poblacional de una comunidad rural (Ingeniería Agropecuaria) o diseñar una estrategia para enseñar fracciones a niños de 8 años (Educación Infantil).\n"
   ]
  },
  {
   "cell_type": "markdown",
   "id": "efe1e5dd",
   "metadata": {},
   "source": [
    "2. **Formación de equipos:** Los estudiantes trabajan en grupos, distribuyendo roles y tareas.\n"
   ]
  },
  {
   "cell_type": "markdown",
   "id": "9004e59b",
   "metadata": {},
   "source": [
    "3. **Investigación y diseño:** Los estudiantes investigan el problema, proponen soluciones y diseñan un proyecto.\n"
   ]
  },
  {
   "cell_type": "markdown",
   "id": "b3e682e4",
   "metadata": {},
   "source": [
    "4. **Implementación:** Se desarrolla el proyecto, como una herramienta tecnológica o una propuesta pedagógica.\n"
   ]
  },
  {
   "cell_type": "markdown",
   "id": "2e627c98",
   "metadata": {},
   "source": [
    "5. **Evaluación:** Los estudiantes presentan sus resultados en un informe o una exposición, recibiendo retroalimentación de sus compañeros y docentes.\n",
    "\n",
    "---\n"
   ]
  },
  {
   "cell_type": "markdown",
   "id": "5a8bc842",
   "metadata": {},
   "source": [
    "\n",
    "El ABPP es una metodología versátil que conecta el conocimiento teórico con la práctica, preparando a los estudiantes para los retos de sus profesiones en la enseñanza de la matemática, la ingeniería y la administración."
   ]
  },
  {
   "cell_type": "markdown",
   "id": "8d97dc80",
   "metadata": {
    "slideshow": {
     "slide_type": "slide"
    }
   },
   "source": [
    "## Fomento de la lectura literaria asociada a Ingeniería agropecuaria y licenciatura en Matemáticas\n",
    "\n",
    "[Inteligencia Emocional. Daniel Goleman]()"
   ]
  },
  {
   "cell_type": "markdown",
   "id": "96775931",
   "metadata": {
    "slideshow": {
     "slide_type": "slide"
    }
   },
   "source": [
    "## Título de la clase: Fundamentos. Enfoques \n",
    "\n"
   ]
  },
  {
   "cell_type": "markdown",
   "id": "434127e3",
   "metadata": {},
   "source": [
    "# Librerías a isntalar y las formas de instalarlas  \n",
    "\n",
    "1. pip install pillow (Primero actualizar a pip `python -m pip install --upgrade pip`) "
   ]
  },
  {
   "cell_type": "markdown",
   "id": "10e55ccf",
   "metadata": {},
   "source": [
    "# Estructura general para todas las clases\n",
    "\n",
    "Dame, por favor, un diseño de clase, con el enfoque: \"Aula Invertida, STEAMS y de Aprendizaje Basado en Problemas y Proyectos(ABPP)\" sobre: \"- **Enfoques pedagógicos:**  \n",
    "  - **Aula Invertida:** Videos sobre epidemiología del dengue y tutoriales de Pandas.  \n",
    "  - **STEAMS:** Análisis de datos reales del IDEAM (lluvias) y SIVIGILA (dengue).  \n",
    "  - **ABPP:** Proyecto inicial: \"Relación histórica clima-dengue en Caucasia (2008-2023)\".  \n",
    "- **Herramientas:** Jupyter Notebooks en Colab (colaborativo) y VS Code (profundización).  \n",
    " \", siguiendo la estructura:  \n",
    "\n",
    "1. Título de la clase   \n",
    "   \n",
    "2. Objetivos de aprendizaje que incluyan los indicadores del logro de estos objetivos.  \n",
    "   \n",
    "3. Un mapa conceptual que resuma la clase elaborado en Graphviz de python con nodos y edges de diferentes formas, colores y rellenos y renderizado en la siguiente ubicación: `\"C:/Users/marco/Descargas\"`. No olvides el parámetro `view = True` para el método `render()` de Graphviz. Para este mapa controla las superposiciones de los nodos con: graph [overlap=false]; // Elimina superposiciones (puede aumentar el espacio)\n",
    "graph [overlap=\"scalexy\"]; // Escala el gráfico para evitar overlaps\n",
    "graph [overlap=\"compress\"]; // Comprime el grafo sin overlaps  \n",
    "\n",
    "4. Dame elementos históricos y epistemológicos asociados a esta clase, pero contados como un cuento al estilo de un cuentero antioqueño en Colombia. Incluye imágenes de los protagonistas históricos de esta clase. \n",
    "5. Contenido de la clase. Que el contenido parta de una situación real para llegar a una constitución del modelo matemático que represente tal situación real. \n",
    "6. Actividades de aprendizaje  \n",
    "   \n",
    "7. Incluye una canción o un poema que ayude a interiorizar y fijar los conceptos asociados a esta clase. \n",
    "8. Tarea o actividades de ejercitación y fijación. Teniendo en cuanta que estas tareas pidan al estudiante tomar una proposición compuesta dada de manera simbóolica y luego la interprete usándola en contextos cotidianos, económicos, deportivos, familiares y matemáticos. Después determine el valor de verdad de esta proposición compuesta y finelice con una conclusión o interpretación verbal del resultado obtenido en la tabla de verdad de la proposición. \n",
    "9.  Evaluación incluyendo diez proyectos, un ejemplo de quiz (de tres preguntas) y un ejemplo de parcial (de cinco puntos)\n",
    "10.  Diseño de actividad de retroalimentación. \n",
    "11.  Dame un vocabulario y frases del idioma inglés asociadas a esta clase. \n",
    "12.  Incluye apéndice para la clase sobre desarrollo de habilidades para trabajar en equipo y de asertividad y empatía para relacionarnos. También elementos de la inteligencia emocional para presentar pruebas sin temor y sin realizar fraude en ellas.   \n",
    "13. Incluye 10 referentes en didáctica de la matemática que estén de acuerdo a la propuesta didáctica de esta clase. Adiciona a estos referentes a Raymond Duval (Representaciones y cambios de representación para la adquisición de conceptos matemáticos) y a Janete Wing (Desarrollo del pensamiento computacional). Dejame todos estos referentes ordenados de acuerdo a las normas APA. Dejame todos estos referentes ordenados de acuerdo a las normas APA. Incluye las citaciones a estos referentes a medida que vallas diseñando la clase. \n",
    "\n",
    "Pero  que este diseño sea para que el estudiante pueda aprender experimentando en cuadernos Jupyter con funciones de usuario y animaciones y visualizaciones en python. En particular utiliza para el diseño de clase a Numpy, Pandas, SymPy, Matplotlib.pyplot, Seaborn, Plotly, ipywidgets, matplotlib.animation y Jupyter Notebook.  Cada vez que utilices `matplotlib.animacion` no olvides incluir el uso de `IPython. display` para la rederización de estas animaciones a través de Jupyter Notebook. No olvides darme los diseños de clase con las ecuaciones matemáticas delimitadas con signo de dolar $ para que VS Code si me renderize estas expresiones del lenguaje latex. Cuando vallas a utilizar ipywidgets ten en cuenta la siguiente importación inicial para garantizar que la visualización interactiva si se renderize en VS Code:  \n",
    "import numpy as np  \n",
    "import matplotlib.pyplot as plt  \n",
    "import ipywidgets as widgets  \n",
    "from IPython.display import display, clear_output  \n",
    "from matplotlib.patches import Rectangle  \n",
    "\n",
    "# Configuración inicial para visualización estática  \n",
    "%matplotlib inline "
   ]
  },
  {
   "cell_type": "code",
   "execution_count": 13,
   "id": "81235e9f",
   "metadata": {},
   "outputs": [],
   "source": [
    "path_image = r'C:/Users/marco/Descargas'\n",
    "def save_fig(nombre_archivo_imagen):\n",
    "    import os \n",
    "    import matplotlib.pyplot as plt \n",
    "    imagen_path = os.path.join(path_image, nombre_archivo_imagen)\n",
    "    plt.savefig(imagen_path, bbox_inches='tight')"
   ]
  },
  {
   "cell_type": "markdown",
   "id": "a53d7f11",
   "metadata": {},
   "source": [
    "**Diseño de Clase: Integrando Clima y Dengue con ARIMA desde un Enfoque Multidisciplinar**  \n",
    "**Enfoques:** Aula Invertida, STEAMS, ABPP  \n",
    "**Herramientas:** Python (Jupyter Notebooks, VS Code, Colab), Pandas, Matplotlib, Plotly  \n",
    "\n",
    "---\n"
   ]
  },
  {
   "cell_type": "markdown",
   "id": "7ea5e3ce",
   "metadata": {},
   "source": [
    "\n",
    "### **1. Título de la Clase**  \n",
    "*\"Del Chaparrón al Brote: Modelando la Relación Clima-Dengue en Caucasia con ARIMA\"*  \n",
    "\n",
    "---\n"
   ]
  },
  {
   "cell_type": "markdown",
   "id": "28a897c6",
   "metadata": {},
   "source": [
    "\n",
    "### **2. Objetivos de Aprendizaje**  \n"
   ]
  },
  {
   "cell_type": "markdown",
   "id": "f36f37de",
   "metadata": {},
   "source": [
    "- **Objetivo 1:** Analizar la relación histórica clima-dengue usando datos reales.  \n",
    "  *Indicador:* Gráfico interactivo en Plotly con correlación lluvia-casos (2008-2025).  \n"
   ]
  },
  {
   "cell_type": "markdown",
   "id": "79809b5a",
   "metadata": {},
   "source": [
    "- **Objetivo 2:** Implementar un modelo ARIMA para predecir brotes.  \n",
    "  *Indicador:* Jupyter Notebook con RMSE < 15% en validación cruzada.  \n"
   ]
  },
  {
   "cell_type": "markdown",
   "id": "5befe55a",
   "metadata": {},
   "source": [
    "- **Objetivo 3:** Diseñar un dashboard de alertas tempranas.  \n",
    "  *Indicador:* Presentación grupal simulando una reunión con la Secretaría de Salud.  \n",
    "\n",
    "---\n"
   ]
  },
  {
   "cell_type": "markdown",
   "id": "ae424ea8",
   "metadata": {},
   "source": [
    "\n",
    "### **3. Mapa Conceptual (Graphviz)**  \n"
   ]
  },
  {
   "cell_type": "code",
   "execution_count": 14,
   "id": "9402b987",
   "metadata": {},
   "outputs": [
    {
     "data": {
      "text/plain": [
       "'C:\\\\Users\\\\marco\\\\Descargas\\\\mapa_clima_dengue\\\\Digraph.gv.png'"
      ]
     },
     "execution_count": 14,
     "metadata": {},
     "output_type": "execute_result"
    }
   ],
   "source": [
    "\n",
    "from graphviz import Digraph\n",
    "\n",
    "graph = Digraph(comment='Clima-Dengue-ARIMA', format='png', engine='neato')\n",
    "graph.attr(overlap='scalexy')  # Evitar superposiciones\n",
    "graph.attr('node', shape='cylinder', style='filled', fillcolor='#F0F8FF')\n",
    "\n",
    "# Nodos\n",
    "graph.node('A', 'Aula Invertida\\n(Videos + Tutoriales)')\n",
    "graph.node('B', 'STEAMS\\n(Datos IDEAM/SIVIGILA)')\n",
    "graph.node('C', 'ABPP\\n(Proyecto Caucasia)')\n",
    "graph.node('D', 'Herramientas\\n(Jupyter, VS Code)')\n",
    "graph.node('E', 'ARIMA\\n(p, d, q)')\n",
    "graph.node('F', 'Validación Cruzada')\n",
    "\n",
    "# Conexiones\n",
    "graph.edge('A', 'B', label='Prepara', color='#FF6B6B')\n",
    "graph.edge('B', 'C', label='Aplica', color='#4ECDC4')\n",
    "graph.edge('C', 'D', label='Implementa', color='#45B7D1')\n",
    "graph.edge('D', 'E', label='Modela', color='#96CEB4')\n",
    "graph.edge('E', 'F', label='Evalúa', color='#FFEEAD')\n",
    "\n",
    "# Renderizar\n",
    "graph.render(directory='C:/Users/marco/Descargas/mapa_clima_dengue', view=True)\n"
   ]
  },
  {
   "cell_type": "markdown",
   "id": "b8254af0",
   "metadata": {},
   "source": [
    "\n",
    "### **4. Historia Épica: \"El Sabio de los Datos\"**  \n",
    "*\"En las montañas de Antioquia, allá por los años 70, vivía don **George Box**, un brujo de los números que decía: 'Todos los modelos están mal, pero algunos son útiles'. Con su varita mágica (la estadística), enseñó a **Gwilym Jenkins** a domar el tiempo con ARIMA. Imagínenselos, entre cafetales, prediciendo lluvias y cosechas... ¡Hoy, sus hechizos nos ayudan a combatir el dengue!\"*  \n"
   ]
  },
  {
   "cell_type": "markdown",
   "id": "17d25e5f",
   "metadata": {},
   "source": [
    "- **Imágenes:** Caricaturas de Box y Jenkins con sombrero aguadeño.  \n",
    "<img src = 'historia.webp' width = 400>\n",
    "---\n"
   ]
  },
  {
   "cell_type": "code",
   "execution_count": null,
   "id": "8021dc46",
   "metadata": {},
   "outputs": [
    {
     "name": "stdout",
     "output_type": "stream",
     "text": [
      "Conversión completada. Imagen guardada como JPEG.\n"
     ]
    }
   ],
   "source": [
    "# Cambiemos el formato de la imagen\n",
    "from PIL import Image\n",
    "\n",
    "# Cargar la imagen PNG\n",
    "png_image = Image.open(\"historia.webp\")\n",
    "\n",
    "# Convertir a modo RGB (evita problemas con transparencia)\n",
    "rgb_image = png_image.convert(\"RGB\")\n",
    "\n",
    "# Guardar como JPEG con calidad óptima\n",
    "rgb_image.save(\"historia.jpeg\", \"JPEG\", quality=95)\n",
    "\n",
    "print(\"Conversión completada. Imagen guardada como JPEG.\")\n"
   ]
  },
  {
   "cell_type": "code",
   "execution_count": 15,
   "id": "e6ade037",
   "metadata": {},
   "outputs": [
    {
     "name": "stdout",
     "output_type": "stream",
     "text": [
      "Pillow instalado correctamente\n"
     ]
    }
   ],
   "source": [
    "from PIL import Image\n",
    "print(\"Pillow instalado correctamente\")\n"
   ]
  },
  {
   "cell_type": "markdown",
   "id": "f8fa505a",
   "metadata": {},
   "source": [
    "### **5. Contenido (ABPP)**  \n",
    "**Problema Real:**  \n",
    "*\"En 2022, Caucasia reportó 120 casos de dengue en 3 meses. ¿Cómo predecir brotes futuros usando lluvias y temperatura?\"*  \n",
    "**Modelo Matemático:**  \n",
    "- **Ecuación ARIMA$(p, d, q)$:**    \n",
    "  \n"
   ]
  },
  {
   "cell_type": "markdown",
   "id": "bb15bfee",
   "metadata": {},
   "source": [
    "  $$ \\nabla^d y_t = c + \\sum_{i=1}^p \\phi_i \\nabla^d y_{t-i} + \\sum_{j=1}^q \\theta_j \\epsilon_{t-j} + \\epsilon_t $$  \n"
   ]
  },
  {
   "cell_type": "markdown",
   "id": "ced80b4b",
   "metadata": {},
   "source": [
    "- **Implementación en Python:**  \n"
   ]
  },
  {
   "cell_type": "code",
   "execution_count": 16,
   "id": "d16544c9",
   "metadata": {},
   "outputs": [],
   "source": [
    "from statsmodels.tsa.arima.model import ARIMA\n",
    "modelo = ARIMA(serie, order=(2,1,1)).fit()\n",
    "\n"
   ]
  },
  {
   "cell_type": "markdown",
   "id": "2ba0fbb6",
   "metadata": {},
   "source": [
    "\n",
    "El modelo matemático que presentas es un **modelo ARIMA$(p, d, q)$**, que se usa para modelar series de tiempo y hacer predicciones basadas en valores pasados y errores aleatorios.  \n"
   ]
  },
  {
   "cell_type": "markdown",
   "id": "63d2b83f",
   "metadata": {},
   "source": [
    "\n",
    "---\n",
    "\n",
    "### **🔎 Explicación del modelo ARIMA$(p, d, q)$ en el contexto del dengue en Caucasia**  \n"
   ]
  },
  {
   "cell_type": "markdown",
   "id": "81c506d7",
   "metadata": {},
   "source": [
    "\n",
    "**Contexto:** Se tienen **120 casos de dengue en 3 meses** y se busca predecir **brotes futuros** usando variables climáticas como **lluvia y temperatura**.  \n",
    "\n",
    "**Modelo:**  \n",
    "\n",
    "- **$\\nabla^d y_t$** representa la serie de tiempo diferenciada **$d$ veces** para hacerla estacionaria.  \n",
    "- **$c$** es una constante.  \n",
    "- **$\\phi_i$** son los coeficientes de los **$p$ valores pasados** de la serie.  \n",
    "- **$\\theta_j$** son los coeficientes de los **$q$ errores pasados** (parte MA).  \n",
    "- **$\\epsilon_t$** es un término de error blanco (ruido).  \n"
   ]
  },
  {
   "cell_type": "markdown",
   "id": "12339e05",
   "metadata": {},
   "source": [
    "\n",
    "En este caso, la elección **ARIMA(2,1,1)** sugiere:  \n",
    "- **$p=2$** → Usa **2 valores pasados** para modelar la tendencia.  \n",
    "- **$d=1$** → Aplica **una diferenciación** para estabilizar la serie.  \n",
    "- **$q=1$** → Usa **un error pasado** para capturar patrones en el ruido.  \n",
    "\n",
    "Este modelo permite analizar cómo los casos de dengue evolucionan en función del tiempo y detectar tendencias estacionales influenciadas por la lluvia y la temperatura.  \n",
    "\n",
    "---\n"
   ]
  },
  {
   "cell_type": "markdown",
   "id": "32d6e642",
   "metadata": {},
   "source": [
    "\n",
    "### ** Serie artificial para probar el modelo ARIMA(2,1,1)**  \n"
   ]
  },
  {
   "cell_type": "markdown",
   "id": "ab235f81",
   "metadata": {},
   "source": [
    "Aquí tienes un código en **Python** para generar una serie de tiempo artificial con una tendencia y fluctuaciones aleatorias similares a las que podrían observarse en casos de dengue:  \n"
   ]
  },
  {
   "cell_type": "code",
   "execution_count": 17,
   "id": "46b4f846",
   "metadata": {},
   "outputs": [
    {
     "name": "stdout",
     "output_type": "stream",
     "text": [
      "                               SARIMAX Results                                \n",
      "==============================================================================\n",
      "Dep. Variable:                      y   No. Observations:                   36\n",
      "Model:                 ARIMA(2, 1, 1)   Log Likelihood                 -94.573\n",
      "Date:                Wed, 12 Mar 2025   AIC                            197.145\n",
      "Time:                        17:55:50   BIC                            203.367\n",
      "Sample:                             0   HQIC                           199.293\n",
      "                                 - 36                                         \n",
      "Covariance Type:                  opg                                         \n",
      "==============================================================================\n",
      "                 coef    std err          z      P>|z|      [0.025      0.975]\n",
      "------------------------------------------------------------------------------\n",
      "ar.L1         -1.1527      0.167     -6.905      0.000      -1.480      -0.825\n",
      "ar.L2         -0.4492      0.201     -2.234      0.025      -0.843      -0.055\n",
      "ma.L1          0.9999     77.919      0.013      0.990    -151.719     153.718\n",
      "sigma2        12.0695    939.665      0.013      0.990   -1829.640    1853.779\n",
      "===================================================================================\n",
      "Ljung-Box (L1) (Q):                   0.01   Jarque-Bera (JB):                 1.07\n",
      "Prob(Q):                              0.91   Prob(JB):                         0.59\n",
      "Heteroskedasticity (H):               1.28   Skew:                            -0.18\n",
      "Prob(H) (two-sided):                  0.67   Kurtosis:                         2.23\n",
      "===================================================================================\n",
      "\n",
      "Warnings:\n",
      "[1] Covariance matrix calculated using the outer product of gradients (complex-step).\n"
     ]
    },
    {
     "data": {
      "image/png": "[encoded data removed]",
      "text/plain": [
       "<Figure size 1000x500 with 1 Axes>"
      ]
     },
     "metadata": {},
     "output_type": "display_data"
    }
   ],
   "source": [
    "import numpy as np\n",
    "import pandas as pd\n",
    "import matplotlib.pyplot as plt\n",
    "from statsmodels.tsa.arima.model import ARIMA\n",
    "\n",
    "# 🔹 Generar datos sintéticos con tendencia y estacionalidad\n",
    "np.random.seed(42) # establece una semilla para reproducibilidad\n",
    "n = 36  # 3 años de datos mensuales\n",
    "t = np.arange(n) # tiempo \n",
    "trend = 10 + 0.5 * t  # Tendencia creciente\n",
    "seasonal = 5 * np.sin(2 * np.pi * t / 12)  # Estacionalidad anual\n",
    "noise = np.random.normal(0, 3, n)  # Ruido aleatorio\n",
    "cases = trend + seasonal + noise  # Serie de casos de dengue\n",
    "\n",
    "# 🔹 Convertir a Serie Temporal\n",
    "serie = pd.Series(cases)\n",
    "\n",
    "# 🔹 Ajustar modelo ARIMA(2,1,1)\n",
    "modelo = ARIMA(serie, order=(2,1,1)).fit()\n",
    "\n",
    "# 🔹 Mostrar resumen del modelo\n",
    "print(modelo.summary())\n",
    "\n",
    "# 🔹 Graficar la serie y la predicción\n",
    "plt.figure(figsize=(10,5)) # tamaño de la figura\n",
    "plt.plot(serie, label=\"Casos de dengue (sintético)\") # serie de casos\n",
    "plt.plot(modelo.fittedvalues, label=\"Predicción ARIMA(2,1,1)\", linestyle=\"dashed\") # gráfico de la serie predicha  \n",
    "plt.legend()\n",
    "plt.title(\"Modelado de casos de dengue con ARIMA(2,1,1)\")\n",
    "plt.grid(alpha = 0.4)\n",
    "save_fig('arima1')\n",
    "plt.show()\n",
    "\n"
   ]
  },
  {
   "cell_type": "markdown",
   "id": "e456229d",
   "metadata": {},
   "source": [
    "\n",
    "---\n",
    "\n",
    "### ** ¿Qué hace este código?**\n",
    "✅ **Genera una serie artificial** con tendencia y estacionalidad.  \n",
    "✅ **Aplica el modelo ARIMA(2,1,1)** para ajustarla.  \n",
    "✅ **Muestra un resumen estadístico** del modelo.  \n",
    "✅ **Grafica la serie original y las predicciones** del modelo.  \n",
    "\n",
    "Esto te permitirá probar el modelo antes de aplicarlo con datos reales de dengue y clima en Caucasia. \n"
   ]
  },
  {
   "cell_type": "markdown",
   "id": "14ff7bf3",
   "metadata": {},
   "source": [
    "\n",
    "# **6. Actividades de Aprendizaje**  \n"
   ]
  },
  {
   "cell_type": "markdown",
   "id": "3f7dd8fa",
   "metadata": {},
   "source": [
    "- **Aula Invertida:** Video *\"ARIMA explicado con jugo de mango\"* (YouTube).  \n"
   ]
  },
  {
   "cell_type": "markdown",
   "id": "dad3cd4c",
   "metadata": {},
   "source": [
    "- **STEAMS:**"
   ]
  },
  {
   "cell_type": "code",
   "execution_count": 19,
   "id": "b7689779",
   "metadata": {},
   "outputs": [],
   "source": [
    "# Conseguir el df artificial "
   ]
  },
  {
   "cell_type": "code",
   "execution_count": null,
   "id": "4458272b",
   "metadata": {},
   "outputs": [
    {
     "ename": "NameError",
     "evalue": "name 'df' is not defined",
     "output_type": "error",
     "traceback": [
      "\u001b[31m---------------------------------------------------------------------------\u001b[39m",
      "\u001b[31mNameError\u001b[39m                                 Traceback (most recent call last)",
      "\u001b[36mCell\u001b[39m\u001b[36m \u001b[39m\u001b[32mIn[18]\u001b[39m\u001b[32m, line 2\u001b[39m\n\u001b[32m      1\u001b[39m \u001b[38;5;28;01mimport\u001b[39;00m\u001b[38;5;250m \u001b[39m\u001b[34;01mplotly\u001b[39;00m\u001b[34;01m.\u001b[39;00m\u001b[34;01mexpress\u001b[39;00m\u001b[38;5;250m \u001b[39m\u001b[38;5;28;01mas\u001b[39;00m\u001b[38;5;250m \u001b[39m\u001b[34;01mpx\u001b[39;00m\n\u001b[32m----> \u001b[39m\u001b[32m2\u001b[39m fig = px.line(\u001b[43mdf\u001b[49m, x=\u001b[33m'\u001b[39m\u001b[33mFecha\u001b[39m\u001b[33m'\u001b[39m, y=\u001b[33m'\u001b[39m\u001b[33mCasos_Dengue\u001b[39m\u001b[33m'\u001b[39m, color=\u001b[33m'\u001b[39m\u001b[33mLluvia_mm\u001b[39m\u001b[33m'\u001b[39m, title=\u001b[33m'\u001b[39m\u001b[33mCaucasia 2008-2025\u001b[39m\u001b[33m'\u001b[39m)\n\u001b[32m      3\u001b[39m fig.show()\n",
      "\u001b[31mNameError\u001b[39m: name 'df' is not defined"
     ]
    }
   ],
   "source": [
    "\n",
    "import plotly.express as px # Visualizaciones interactivas \n",
    "fig = px.line(df, x='Fecha', y='Casos_Dengue', color='Lluvia_mm', title='Caucasia 2008-2025')\n",
    "fig.show()\n",
    "\n"
   ]
  },
  {
   "cell_type": "markdown",
   "id": "c5ccf664",
   "metadata": {},
   "source": [
    "- **ABPP:** En equipos, predecir brotes para 2024 usando datos 2015-2023 de Caucasia (Pero datos artificiales).  \n",
    "\n",
    "---\n"
   ]
  },
  {
   "cell_type": "markdown",
   "id": "a5879bc1",
   "metadata": {},
   "source": [
    "\n",
    "### **7. Canción de la Validación**  \n",
    "*(Ritmo de \"La Pollera Colorá\")*  \n",
    "*\"Con ARIMA y sus parámetros,  \n",
    "la predicción va mejorando.  \n",
    "Si el dengue sube en diciembre,  \n",
    "¡que el modelo nos va avisando!\"*  \n",
    "\n",
    "---\n"
   ]
  },
  {
   "cell_type": "markdown",
   "id": "cafdd651",
   "metadata": {},
   "source": [
    "\n",
    "### **8. Tarea: Lógica en Contextos Cotidianos**  \n",
    "**Proposición:** $(p \\land q) \\to r$ donde:  \n",
    "- $p$: \"Llueve > 100 mm/mes\"  \n",
    "- $q$: \"Temperatura > 28°C\"  \n",
    "- $r$: \"Aumentan casos de dengue\"  \n"
   ]
  },
  {
   "cell_type": "markdown",
   "id": "4a6e9583",
   "metadata": {},
   "source": [
    "\n",
    "**Ejercicio:**  \n",
    "1. **Interpretación:**  \n",
    "   - **Familiar:** \"Si llueve mucho y hace calor, mi abuela usa repelente\".  \n",
    "   - **Deportivo:** \"Si hay lluvia y calor, cancelan el partido\".  \n",
    "2. **Tabla de Verdad:**  \n",
    "   | $p$ | $q$ | $r$ | $(p \\land q) \\to r$ |  \n",
    "   |-----|-----|-----|----------------------|  \n",
    "   | T   | T   | T   | T                    |  \n",
    "3. **Conclusión:** La implicación es verdadera solo si $r$ sigue a $p \\land q$.  \n",
    "\n",
    "---\n"
   ]
  },
  {
   "cell_type": "markdown",
   "id": "1188200c",
   "metadata": {},
   "source": [
    "\n",
    "### **9. Evaluación**  \n",
    "- **Proyectos (10):**  \n",
    "  1. Modelo ARIMAX con humedad como variable exógena.  \n",
    "- **Quiz (3 preguntas):**  \n",
    "  1. ¿Qué representa $d$ en ARIMA?  \n",
    "  2. Si ACF decae lentamente, ¿qué orden $d$ sugiere?  \n",
    "  3. ¿Para qué sirve `adfuller`?  \n",
    "- **Parcial (5 puntos):**  \n",
    "  1. Ajuste un ARIMA(1,1,1) a `serie.csv` y calcule RMSE.  \n",
    "  2. Interprete el gráfico PACF adjunto.  \n",
    "\n",
    "---\n"
   ]
  },
  {
   "cell_type": "markdown",
   "id": "9c6aa602",
   "metadata": {},
   "source": [
    "\n",
    "### **10. Retroalimentación**  \n",
    "- **Técnica:** \"Galería de Modelos\" donde cada equipo comenta el código de otro usando `ipywidgets`:  \n"
   ]
  },
  {
   "cell_type": "code",
   "execution_count": 22,
   "id": "5e367d9b",
   "metadata": {},
   "outputs": [
    {
     "data": {
      "application/vnd.jupyter.widget-view+json": {
       "model_id": "5a28a18aae614587ba4ff8467d77b3f6",
       "version_major": 2,
       "version_minor": 0
      },
      "text/plain": [
       "Button(description='Ver Feedback', style=ButtonStyle())"
      ]
     },
     "metadata": {},
     "output_type": "display_data"
    }
   ],
   "source": [
    "from ipywidgets import * \n",
    "boton = Button(description=\"Ver Feedback\")\n",
    "def click(b):\n",
    "    clear_output()\n",
    "    print(\"Buen uso de diferenciación. Mejorar elección de p.\")\n",
    "display(boton)\n",
    "boton.on_click(click)\n",
    "\n"
   ]
  },
  {
   "cell_type": "markdown",
   "id": "24a7abfa",
   "metadata": {},
   "source": [
    "\n",
    "---\n"
   ]
  },
  {
   "cell_type": "markdown",
   "id": "ebaeeaaf",
   "metadata": {},
   "source": [
    "\n",
    "### **11. Vocabulario Inglés**  \n",
    "- **Términos:** Time series, autocorrelation, overfitting, residuals, forecasting.  \n",
    "- **Frases:**  \n",
    "  - *\"The ACF plot suggests a seasonal pattern.\"*  \n",
    "  - *\"We need to difference the series to achieve stationarity.\"*  \n",
    "\n",
    "---\n"
   ]
  },
  {
   "cell_type": "markdown",
   "id": "192c353d",
   "metadata": {},
   "source": [
    "\n",
    "### **12. Apéndice: Habilidades Blandas**  \n",
    "- **Trabajo en Equipo:** Técnica *\"El Reloj\"* para asignar roles (Programador, Estadístico, Comunicador).  \n",
    "- **Inteligencia Emocional:** Dinámica *\"El Error más Lindo\"* donde cada uno comparte un fallo y su aprendizaje.  \n",
    "- **Anti-fraude:** Charla sobre casos como el *\"Modelo de Dengue Falsificado en Brasil\"*.  \n",
    "\n",
    "---\n"
   ]
  },
  {
   "cell_type": "markdown",
   "id": "2d253df5",
   "metadata": {},
   "source": [
    "\n",
    "### **13. Referentes APA**  \n",
    "1. Duval, R. (1999). *Semiosis y pensamiento humano*. Universidad de Valencia.  \n",
    "2. Wing, J. M. (2006). Computational thinking. *Communications of the ACM, 49*(3), 33-35.  \n",
    "3. Box, G. E. P., & Jenkins, G. M. (1976). *Time Series Analysis: Forecasting and Control*. Holden-Day.  \n",
    "4. Freire, P. (1968). *Pedagogía del oprimido*. Siglo XXI.  \n",
    "```latex\n",
    "% Ejemplo de cita:  \n",
    "Como señala Duval (1999), \"la comprensión de conceptos matemáticos requiere múltiples representaciones\" (p. 72).  \n",
    "```\n",
    "\n",
    "---\n",
    "\n",
    "**Nota Técnica:**  \n",
    "- **Animaciones en Jupyter:**  \n"
   ]
  },
  {
   "cell_type": "code",
   "execution_count": null,
   "id": "71e35b95",
   "metadata": {},
   "outputs": [],
   "source": [
    "from matplotlib.animation import FuncAnimation\n",
    "from IPython.display import HTML\n",
    "\n",
    "fig, ax = plt.subplots()\n",
    "x = np.linspace(0, 10, 100)\n",
    "line, = ax.plot(x, np.sin(x))\n",
    "\n",
    "def animate(i):\n",
    "    line.set_ydata(np.sin(x + i/10))\n",
    "anim = FuncAnimation(fig, animate, frames=100)\n",
    "HTML(anim.to_jshtml())  # Renderiza en Jupyter\n",
    "\n"
   ]
  },
  {
   "cell_type": "markdown",
   "id": "7d66d9ff",
   "metadata": {},
   "source": [
    "\n",
    "**¡Manos al código, que el dengue no espera!** "
   ]
  },
  {
   "cell_type": "markdown",
   "id": "cd3e427f",
   "metadata": {},
   "source": [
    "[Video de apoyo a la estructura de esta clase]()"
   ]
  },
  {
   "cell_type": "markdown",
   "id": "60219d3d",
   "metadata": {},
   "source": [
    "**Diseño de Clase: Integrando Clima y Dengue con ARIMA desde un Enfoque Multidisciplinar**  \n",
    "**Enfoques:** Aula Invertida, STEAMS, ABPP  \n",
    "**Herramientas:** Python (Jupyter Notebooks, VS Code, Colab), Pandas, Matplotlib, Plotly  \n",
    "\n",
    "---\n",
    "\n",
    "### **1. Título de la Clase**  \n",
    "*\"Del Chaparrón al Brote: Modelando la Relación Clima-Dengue en Caucasia con ARIMA\"*  \n",
    "\n",
    "---\n"
   ]
  },
  {
   "cell_type": "markdown",
   "id": "942cc24e",
   "metadata": {},
   "source": [
    "\n",
    "### **2. Objetivos de Aprendizaje**  \n",
    "- **Objetivo 1:** Analizar la relación histórica clima-dengue usando datos reales.  \n",
    "  *Indicador:* Gráfico interactivo en Plotly con correlación lluvia-casos (2008-2023).  \n",
    "- **Objetivo 2:** Implementar un modelo ARIMA para predecir brotes.  \n",
    "  *Indicador:* Jupyter Notebook con RMSE < 15% en validación cruzada.  \n",
    "- **Objetivo 3:** Diseñar un dashboard de alertas tempranas.  \n",
    "  *Indicador:* Presentación grupal simulando una reunión con la Secretaría de Salud.  \n",
    "\n",
    "---\n",
    "\n",
    "### **3. Mapa Conceptual (Graphviz)**  \n"
   ]
  },
  {
   "cell_type": "code",
   "execution_count": null,
   "id": "00f399cb",
   "metadata": {},
   "outputs": [],
   "source": [
    "\n",
    "from graphviz import Digraph\n",
    "\n",
    "graph = Digraph(comment='Clima-Dengue-ARIMA', format='png', engine='neato')\n",
    "graph.attr(overlap='scalexy')  # Evitar superposiciones\n",
    "graph.attr('node', shape='cylinder', style='filled', fillcolor='#F0F8FF')\n",
    "\n",
    "# Nodos\n",
    "graph.node('A', 'Aula Invertida\\n(Videos + Tutoriales)')\n",
    "graph.node('B', 'STEAMS\\n(Datos IDEAM/SIVIGILA)')\n",
    "graph.node('C', 'ABPP\\n(Proyecto Caucasia)')\n",
    "graph.node('D', 'Herramientas\\n(Jupyter, VS Code)')\n",
    "graph.node('E', 'ARIMA\\n(p, d, q)')\n",
    "graph.node('F', 'Validación Cruzada')\n",
    "\n",
    "# Conexiones\n",
    "graph.edge('A', 'B', label='Prepara', color='#FF6B6B')\n",
    "graph.edge('B', 'C', label='Aplica', color='#4ECDC4')\n",
    "graph.edge('C', 'D', label='Implementa', color='#45B7D1')\n",
    "graph.edge('D', 'E', label='Modela', color='#96CEB4')\n",
    "graph.edge('E', 'F', label='Evalúa', color='#FFEEAD')\n",
    "\n",
    "# Renderizar\n",
    "graph.render(directory='C:/Users/marco/Descargas/mapa_clima_dengue', view=True)\n",
    "\n"
   ]
  },
  {
   "cell_type": "markdown",
   "id": "f75ccbea",
   "metadata": {},
   "source": [
    "\n",
    "### **4. Historia Épica: \"El Sabio de los Datos\"**  \n",
    "*\"En las montañas de Antioquia, allá por los años 70, vivía don **George Box**, un brujo de los números que decía: 'Todos los modelos están mal, pero algunos son útiles'. Con su varita mágica (la estadística), enseñó a **Gwilym Jenkins** a domar el tiempo con ARIMA. Imagínenselos, entre cafetales, prediciendo lluvias y cosechas... ¡Hoy, sus hechizos nos ayudan a combatir el dengue!\"*  \n",
    "- **Imágenes:** Caricaturas de Box y Jenkins con sombrero aguadeño.  \n",
    "\n",
    "---\n"
   ]
  },
  {
   "cell_type": "markdown",
   "id": "cbedd9ba",
   "metadata": {},
   "source": [
    "\n",
    "### **5. Contenido (ABPP)**  \n",
    "**Problema Real:**  \n",
    "*\"En 2022, Caucasia reportó 120 casos de dengue en 3 meses. ¿Cómo predecir brotes futuros usando lluvias y temperatura?\"*  \n",
    "\n",
    "**Modelo Matemático:**  \n",
    "- **Ecuación ARIMA$(p, d, q)$:**  \n",
    "  $ \\nabla^d y_t = c + \\sum_{i=1}^p \\phi_i \\nabla^d y_{t-i} + \\sum_{j=1}^q \\theta_j \\epsilon_{t-j} + \\epsilon_t $  \n"
   ]
  },
  {
   "cell_type": "markdown",
   "id": "d243d266",
   "metadata": {},
   "source": [
    "- **Implementación en Python:**  \n"
   ]
  },
  {
   "cell_type": "code",
   "execution_count": null,
   "id": "0d986c61",
   "metadata": {},
   "outputs": [],
   "source": [
    "from statsmodels.tsa.arima.model import ARIMA\n",
    "modelo = ARIMA(serie, order=(2,1,1)).fit()\n",
    "\n"
   ]
  },
  {
   "cell_type": "markdown",
   "id": "2f33701c",
   "metadata": {},
   "source": [
    "\n",
    "---\n",
    "\n",
    "### **6. Actividades de Aprendizaje**  \n",
    "- **Aula Invertida:** Video *\"ARIMA explicado con jugo de mango\"* (YouTube).  \n",
    "- **STEAMS:**  \n",
    "  ```python\n",
    "  import plotly.express as px\n",
    "  fig = px.line(df, x='Fecha', y='Casos_Dengue', color='Lluvia_mm', title='Caucasia 2008-2023')\n",
    "  fig.show()\n",
    "  ```\n",
    "- **ABPP:** En equipos, predecir brotes para 2024 usando datos 2015-2023.  \n",
    "\n",
    "---\n",
    "\n",
    "### **7. Canción de la Validación**  \n",
    "*(Ritmo de \"La Pollera Colorá\")*  \n",
    "*\"Con ARIMA y sus parámetros,  \n",
    "la predicción va mejorando.  \n",
    "Si el dengue sube en diciembre,  \n",
    "¡que el modelo nos va avisando!\"*  \n",
    "\n",
    "---\n",
    "\n",
    "### **8. Tarea: Lógica en Contextos Cotidianos**  \n",
    "**Proposición:** $(p \\land q) \\to r$ donde:  \n",
    "- $p$: \"Llueve > 100 mm/mes\"  \n",
    "- $q$: \"Temperatura > 28°C\"  \n",
    "- $r$: \"Aumentan casos de dengue\"  \n",
    "\n",
    "**Ejercicio:**  \n",
    "1. **Interpretación:**  \n",
    "   - **Familiar:** \"Si llueve mucho y hace calor, mi abuela usa repelente\".  \n",
    "   - **Deportivo:** \"Si hay lluvia y calor, cancelan el partido\".  \n",
    "2. **Tabla de Verdad:**  \n",
    "   | $p$ | $q$ | $r$ | $(p \\land q) \\to r$ |  \n",
    "   |-----|-----|-----|----------------------|  \n",
    "   | T   | T   | T   | T                    |  \n",
    "3. **Conclusión:** La implicación es verdadera solo si $r$ sigue a $p \\land q$.  \n",
    "\n",
    "---\n",
    "\n",
    "### **9. Evaluación**  \n",
    "- **Proyectos (10):**  \n",
    "  1. Modelo ARIMAX con humedad como variable exógena.  \n",
    "- **Quiz (3 preguntas):**  \n",
    "  1. ¿Qué representa $d$ en ARIMA?  \n",
    "  2. Si ACF decae lentamente, ¿qué orden $d$ sugiere?  \n",
    "  3. ¿Para qué sirve `adfuller`?  \n",
    "- **Parcial (5 puntos):**  \n",
    "  1. Ajuste un ARIMA(1,1,1) a `serie.csv` y calcule RMSE.  \n",
    "  2. Interprete el gráfico PACF adjunto.  \n",
    "\n",
    "---\n",
    "\n",
    "### **10. Retroalimentación**  \n",
    "- **Técnica:** \"Galería de Modelos\" donde cada equipo comenta el código de otro usando `ipywidgets`:  \n",
    "  ```python\n",
    "  boton = widgets.Button(description=\"Ver Feedback\")\n",
    "  def click(b):\n",
    "      clear_output()\n",
    "      print(\"✅ Buen uso de diferenciación. Mejorar elección de p.\")\n",
    "  display(boton)\n",
    "  boton.on_click(click)\n",
    "  ```\n",
    "\n",
    "---\n",
    "\n",
    "### **11. Vocabulario Inglés**  \n",
    "- **Términos:** Time series, autocorrelation, overfitting, residuals, forecasting.  \n",
    "- **Frases:**  \n",
    "  - *\"The ACF plot suggests a seasonal pattern.\"*  \n",
    "  - *\"We need to difference the series to achieve stationarity.\"*  \n",
    "\n",
    "---\n",
    "\n",
    "### **12. Apéndice: Habilidades Blandas**  \n",
    "- **Trabajo en Equipo:** Técnica *\"El Reloj\"* para asignar roles (Programador, Estadístico, Comunicador).  \n",
    "- **Inteligencia Emocional:** Dinámica *\"El Error más Lindo\"* donde cada uno comparte un fallo y su aprendizaje.  \n",
    "- **Anti-fraude:** Charla sobre casos como el *\"Modelo de Dengue Falsificado en Brasil\"*.  \n",
    "\n",
    "---\n",
    "\n",
    "### **13. Referentes APA**  \n",
    "1. Duval, R. (1999). *Semiosis y pensamiento humano*. Universidad de Valencia.  \n",
    "2. Wing, J. M. (2006). Computational thinking. *Communications of the ACM, 49*(3), 33-35.  \n",
    "3. Box, G. E. P., & Jenkins, G. M. (1976). *Time Series Analysis: Forecasting and Control*. Holden-Day.  \n",
    "4. Freire, P. (1968). *Pedagogía del oprimido*. Siglo XXI.  \n",
    "```latex\n",
    "% Ejemplo de cita:  \n",
    "Como señala Duval (1999), \"la comprensión de conceptos matemáticos requiere múltiples representaciones\" (p. 72).  \n",
    "```\n",
    "\n",
    "---\n",
    "\n",
    "**Nota Técnica:**  \n",
    "- **Animaciones en Jupyter:**  \n",
    "```python\n",
    "from matplotlib.animation import FuncAnimation\n",
    "from IPython.display import HTML\n",
    "\n",
    "fig, ax = plt.subplots()\n",
    "x = np.linspace(0, 10, 100)\n",
    "line, = ax.plot(x, np.sin(x))\n",
    "\n",
    "def animate(i):\n",
    "    line.set_ydata(np.sin(x + i/10))\n",
    "anim = FuncAnimation(fig, animate, frames=100)\n",
    "HTML(anim.to_jshtml())  # Renderiza en Jupyter\n",
    "```\n",
    "\n",
    "![ARIMA](https://via.placeholder.com/600x400/0000FF/FFFFFF?text=Visualización+ARIMA+Caucasia)  \n",
    "\n",
    "**¡Manos al código, que el dengue no espera!** 🌧️🦟"
   ]
  },
  {
   "cell_type": "markdown",
   "id": "239427f7",
   "metadata": {},
   "source": [
    "# ARTÍCULO 1. Definir el calendario académico para los diferentes programas de pregrado de los campus\n",
    "regionalizados, correspondiente al primer periodo académico del año 2025, así:\n",
    "* Oferta 28 de enero de 2025\n",
    "* Matrícula 30 de enero de 2025\n",
    "* Ajustes 03 al 10 de febrero de 2025\n",
    "* Inicio de clases 10 de febrero de 2025\n",
    "* Límite evaluación del 40% 06 de abril de 2025\n",
    "* Terminación de clases 08 de junio de 2025\n",
    "* Exámenes finales 09 al 15 de junio de 2025\n",
    "* Habilitación y validación 16 al 22 de junio de 2025\n",
    "* Terminación oficial 23 de junio de 2025"
   ]
  },
  {
   "cell_type": "code",
   "execution_count": null,
   "id": "ec048afb",
   "metadata": {},
   "outputs": [],
   "source": []
  },
  {
   "cell_type": "code",
   "execution_count": null,
   "id": "c804f8d3",
   "metadata": {},
   "outputs": [],
   "source": []
  },
  {
   "cell_type": "code",
   "execution_count": null,
   "id": "cc539357",
   "metadata": {},
   "outputs": [],
   "source": []
  },
  {
   "cell_type": "markdown",
   "id": "740f3401",
   "metadata": {
    "slideshow": {
     "slide_type": "slide"
    }
   },
   "source": [
    "# Componente de manejo de calculadora Casio asociado al objetivo de aprendizaje de esta clase  \n",
    "\n",
    "## Pasos para lograr el objetivo de aprendizaje con la experimentación en la calculadora Casio 991LA cw  "
   ]
  },
  {
   "cell_type": "markdown",
   "id": "8ba64aed",
   "metadata": {},
   "source": [
    "# Cursos que orienta el profesor Marco Julio Cañas Campillo en 2025  \n",
    "\n",
    "1. Práctica Pedagógica V para Licenciatura en Educación Infantil\n",
    "2. Fundamentos de Lógica para Licenciatura en Matemáticas \n",
    "3. Análisis Numérico para Licenciatura en Matemáticas. \n",
    "4. Cálculo Vectorial para Ingeniería Agropecuaria"
   ]
  },
  {
   "cell_type": "markdown",
   "id": "8d41fe58",
   "metadata": {
    "slideshow": {
     "slide_type": "slide"
    }
   },
   "source": [
    "# Horario de clases del profesor Marco\n",
    "\n",
    "* Lunes 8-12: Cálculo Vectorial\n",
    "* Martes 8-12 M: Fundamentos de Aritmética. \n",
    "* Miércoles 8 a 12 M: Fundamentos de la Lógica\n",
    "* Jueves 2 a 6 PM: Desarrollo del pensamiento matemático en la infancia. \n",
    "* Viernes 8 - 12 M: Desarrollo del pensamiento matemático en la infancia. \n",
    "* Sábados 8-12 Asesorías y espacio para retroalimentación y apoyo al trabajo independiente. "
   ]
  },
  {
   "cell_type": "markdown",
   "id": "ae114e14",
   "metadata": {
    "slideshow": {
     "slide_type": "slide"
    }
   },
   "source": [
    "# Horarios de monitoría y asesoría  \n",
    "\n",
    "Coordinador de los cursos de la Facultad de Educación para regiones:    \n",
    "\n",
    "Andrés Vélez: regioneducacion.fedu@udea.edu.co  \n",
    "Coordinador Regiones  \n",
    "Facultad de Educación  \n",
    "Universidad de Antioquia  "
   ]
  },
  {
   "cell_type": "markdown",
   "id": "b1db4b6c",
   "metadata": {
    "slideshow": {
     "slide_type": "slide"
    }
   },
   "source": [
    "## Monitor Manuel San Juan Serrano\n",
    "\n",
    "Contactar escribiendo al correo: manuel.serrano1@udea.edu.co"
   ]
  },
  {
   "cell_type": "markdown",
   "id": "39559692",
   "metadata": {
    "slideshow": {
     "slide_type": "slide"
    }
   },
   "source": [
    "Martes y jueves de 8 - 12  \n",
    "Miércoles 10 - 12 y de 2 a 4 PM  \n",
    "Sábado: 8 - 12"
   ]
  },
  {
   "cell_type": "markdown",
   "id": "10bce0d0",
   "metadata": {
    "slideshow": {
     "slide_type": "slide"
    }
   },
   "source": [
    "## Referentes "
   ]
  },
  {
   "cell_type": "markdown",
   "id": "1db3c468",
   "metadata": {
    "slideshow": {
     "slide_type": "slide"
    }
   },
   "source": [
    "* [Cómo enseñar matemáticas con calculadora Casio LA991 cw](chrome-extension://efaidnbmnnnibpcajpcglclefindmkaj/https://bibliotecadigital.udea.edu.co/bitstream/10495/32857/4/ParraZapata_2024_DesarrolloPensamientoMatematico2aed_versionweb.pdf)  \n",
    "\n",
    "* [CALCULO I DE UNA VARIABLE Ron Larson-Bruce Edwards. Mc Graw Hill. 9º Edición](https://www.academia.edu/42139251/CALCULO_I_DE_UNA_VARIABLE_Ron_Larson_Bruce_Edwards_Mc_Graw_Hill_9o_Edici%C3%B3n)   \n",
    "  \n",
    "\n",
    "* [Grajales Vanegas, L. M., Restrepo Estrada, C. E., Restrepo Ochoa, S. I., & Ruíz De Villalba, F. (2015). Matemáticas I para las ciencias económicas.](https://bibliotecadigital.udea.edu.co/handle/10495/3010)\n",
    "  \n",
    "* R. Duval y Semiosis y pensamiento humano, 2.ª ed. Cali, Colombia: Programa Editorial Universidad del Valle, 2017. [En línea]. Disponible en: https://programaeditorial.univalle.edu.co/gpd-semiosis-y-pensamiento-humano-9789587655278-63324cdb0f6b3.html\n",
    "\n",
    "* [Aylwin, C. U. (2011). Lógica, conjuntos y números. Universidad de los Andes, Consejo de Publicaciones, Colección: Ciencias Básicas, Serie: Matemáticas.](chrome-extension://efaidnbmnnnibpcajpcglclefindmkaj/https://www.u-cursos.cl/ciencias/2011/1/MC110/1/material_docente/bajar?id_material=574722)\n",
    "  \n",
    "* [Recomendación de la UNESCO sobre ciencia abierta](https://unesdoc.unesco.org/ark:/48223/pf0000379949_spa)\n",
    "\n",
    "* [chatGPT](https://openai.com/blog/chatgpt)  \n",
    "* \n",
    "\n",
    "* [Géron, A. (2017). Hands-on machine learning with scikit-learn and tensorflow: Concepts. Tools, and Techniques to build intelligent systems.](chrome-extension://efaidnbmnnnibpcajpcglclefindmkaj/http://14.139.161.31/OddSem-0822-1122/Hands-On_Machine_Learning_with_Scikit-Learn-Keras-and-TensorFlow-2nd-Edition-Aurelien-Geron.pdf)   \n"
   ]
  },
  {
   "cell_type": "markdown",
   "id": "df925560",
   "metadata": {},
   "source": [
    "\n",
    "* [McKinney, W. (2012). Python for data analysis: Data wrangling with Pandas, NumPy, and IPython. \" O'Reilly Media, Inc.\".](https://wesmckinney.com/book/) "
   ]
  },
  {
   "cell_type": "markdown",
   "id": "8e65d6f9",
   "metadata": {},
   "source": [
    "# Como estudiante, encuentro que...   \n",
    "\n",
    "F: Mis Fortalezas son:     \n",
    "O: Mis Oportunidades son:    \n",
    "D: Mis Debilidades son:    \n",
    "A: Lo que Amenazas mi aprendizaje es:  "
   ]
  },
  {
   "cell_type": "markdown",
   "id": "6b9e56a8",
   "metadata": {
    "slideshow": {
     "slide_type": "slide"
    }
   },
   "source": [
    "### [Evaluamos al profesor Marco Cañas Aquí](https://forms.office.com/Pages/ResponsePage.aspx?id=IefhmYRxjkmK_7KtTlPBwkanXIs1i1FEujpsZgO6dXpUREJPV1kxUk1JV1ozTFJIQVNIQjY5WEY3US4u)"
   ]
  },
  {
   "cell_type": "markdown",
   "id": "10f43536",
   "metadata": {
    "slideshow": {
     "slide_type": "slide"
    }
   },
   "source": [
    "### Continue su aprendizaje en la siguiente clase a través del siguiente [vínculo]()"
   ]
  },
  {
   "cell_type": "markdown",
   "id": "53cc9115",
   "metadata": {
    "slideshow": {
     "slide_type": "slide"
    }
   },
   "source": [
    "## Agradecimientos  \n",
    "\n",
    "Doy gracias a Dios por la vida de mi Hijo Joseph Cañas Osorio y la madurez que ha alcanzado. Este hijo me enorgullece y me hace falta abrazarlo cada día. \n",
    "\n",
    "Y a mi esposa Yasmira Emperatriz Barboza Mogollón por su apoyo, orientación y acompañamiento. "
   ]
  },
  {
   "cell_type": "markdown",
   "id": "b6ba1c23",
   "metadata": {},
   "source": [
    "# Apéndice sobre calendarios y coordinaciones \n",
    "\n",
    "A continuación le envío el horario de la asignatura Cálculo Vectorial  \n",
    "\n",
    "Días:  \n",
    "Lunes - Hora: 7:00 a 12:00M  \n",
    "Fechas:  \n",
    "Febrero: 10-17-24                                          \n",
    " Marzo: 3-10-17-31                                                  \n",
    "Abril:7-21-28                                                   \n",
    "Mayo:5-12-19  \n",
    "\n",
    "Agradezco su apoyo, y si presenta alguna dificultad puede contactarme.  \n",
    "\n",
    "Cordialmente,  \n",
    "Juan Felipe Rivera Hernández  \n",
    "Contacto: 3106314300  "
   ]
  },
  {
   "cell_type": "markdown",
   "id": "0e66cd7c",
   "metadata": {},
   "source": [
    "# Clase de análisis numérico los Martes de 8 a 12 del medio día. "
   ]
  },
  {
   "cell_type": "markdown",
   "id": "c5ff61b1",
   "metadata": {},
   "source": []
  }
 ],
 "metadata": {
  "celltoolbar": "Slideshow",
  "kernelspec": {
   "display_name": ".venv",
   "language": "python",
   "name": "python3"
  },
  "language_info": {
   "codemirror_mode": {
    "name": "ipython",
    "version": 3
   },
   "file_extension": ".py",
   "mimetype": "text/x-python",
   "name": "python",
   "nbconvert_exporter": "python",
   "pygments_lexer": "ipython3",
   "version": "3.12.6"
  },
  "rise": {
   "enable_chalkboard": true,
   "theme": "sky",
   "transition": "zoom"
  }
 },
 "nbformat": 4,
 "nbformat_minor": 5
}

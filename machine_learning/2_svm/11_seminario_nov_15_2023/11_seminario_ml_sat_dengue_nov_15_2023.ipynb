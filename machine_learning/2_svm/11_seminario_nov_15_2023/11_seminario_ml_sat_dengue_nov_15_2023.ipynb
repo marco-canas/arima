{
 "cells": [
  {
   "cell_type": "markdown",
   "metadata": {},
   "source": [
    "<table align=\"left\">\n",
    "  <td>\n",
    "    <a href=\"https://colab.research.google.com/github/marco-canas/investigacion_dengue/blob/main/machine_learning/2_svm/11_seminario_nov_15_2023/11_seminario_ml_sat_dengue_nov_15_2023.ipynb\" target=\"_parent\"><img src=\"https://colab.research.google.com/assets/colab-badge.svg\" alt=\"Open In Colab\"/></a>\n",
    "  </td>\n",
    "</table>"
   ]
  },
  {
   "cell_type": "markdown",
   "metadata": {},
   "source": [
    "### [Video de apoyo](https://www.youtube.com/watch?v=-sNbp4PIuV4)"
   ]
  },
  {
   "cell_type": "markdown",
   "metadata": {},
   "source": [
    "<img src = 'https://github.com/marco-canas/investigacion_dengue/blob/main/machine_learning/images/calculo_diferencial_2023-09-22%20at%2012.12.55%20PM.jpeg?raw=true'>"
   ]
  },
  {
   "cell_type": "markdown",
   "metadata": {},
   "source": [
    "Maestros Puerto libertador:  \n",
    "\n",
    "<img src = 'https://github.com/marco-canas/investigacion_dengue/blob/main/machine_learning/images/maestros_puerto_libertador_2023-09-25.jpeg?raw=true'>"
   ]
  },
  {
   "cell_type": "markdown",
   "metadata": {},
   "source": [
    "# Los jóvenes investigadores  \n",
    "\n",
    "<img src = 'https://github.com/marco-canas/didactica_ciencia_datos/blob/main/4_images/janis_joseph_marco.jpg?raw=true'>"
   ]
  },
  {
   "cell_type": "markdown",
   "metadata": {},
   "source": [
    "# Vocabulary\n",
    "\n",
    "* inplace: en su lugar, sustituir o hacer una copia modificada. \n",
    "* Key Error: Error de nombre de atributo o variable. \n",
    "* see caveats: ver advertencias."
   ]
  },
  {
   "cell_type": "markdown",
   "metadata": {},
   "source": [
    "# QR de Antioquia mira su cielo\n",
    "\n",
    "Este es un aporte del Joven Investigador Yeifry Uribe de la Licenciatura en matemáticas.\n",
    "\n",
    "<img src = 'https://github.com/marco-canas/investigacion_dengue/blob/main/machine_learning/images/qr_amsc.jpeg?raw=true'>"
   ]
  },
  {
   "cell_type": "markdown",
   "metadata": {},
   "source": [
    "# Seminario 11 en Machine learning para SAT-dengue del Miércoles 15 de Noviembre 2023. 4 PM. "
   ]
  },
  {
   "cell_type": "markdown",
   "metadata": {},
   "source": [
    "## Objetivo\n"
   ]
  },
  {
   "cell_type": "markdown",
   "metadata": {},
   "source": [
    "\n",
    "* Dar a conocer el [archivo agroclimático de Fedearroz](https://clima.fedearroz.com.co/)"
   ]
  },
  {
   "cell_type": "markdown",
   "metadata": {},
   "source": [
    "\n",
    "* [Archivo meteorológico de Puerto Libertador](https://www.meteoblue.com/es/tiempo/historyclimate/weatherarchive/puerto-libertador_colombia_11900983)"
   ]
  },
  {
   "cell_type": "markdown",
   "metadata": {},
   "source": [
    "\n",
    "* Obtención de los datos de las estaciones del proyecto Antioquia mira su cielo [obtenga los datos de Antioquia Mira su Cielo Aquí(AMSC)](http://54.146.188.73:8501/)\n",
    "\n",
    "* [Datos Facom](http://44.201.207.176/pagina2/estructura.html)\n",
    "\n",
    "* Revisión de los datos de pluviometría del la estación UdeA Caucasia\n"
   ]
  },
  {
   "cell_type": "markdown",
   "metadata": {},
   "source": [
    "\n",
    "* Visualización de los datos de AMSC con plotly\n",
    "\n",
    "\n",
    "* Comparación de las fronteras de decisión asociadas a los modelos de regresión logística y Maquina de Soporte vectorial. \n",
    "\n"
   ]
  },
  {
   "cell_type": "code",
   "execution_count": null,
   "metadata": {},
   "outputs": [],
   "source": [
    "# Mapa conceptual\n",
    "import matplotlib.pyplot as plt \n",
    "import networkx as nx \n",
    "\n",
    "# Crear un objeto de grafo dirigido\n",
    "\n",
    "G = nx.DiGraph() \n",
    "\n",
    "# Paso 3: Agregar nodos al grafo para representar conceptos clave de las series de tiempo\n",
    "\n",
    "lista_de_conceptos = [\"Series de Tiempo\", 'prediccion']\n",
    "\n",
    "G.add_nodes_from(lista_de_conceptos)\n",
    "\n",
    "\n",
    "\n",
    "#Paso 4: Agregar bordes que conecten los nodos para mostrar relaciones\n",
    "lista_vinculos = [(\"Series de Tiempo\", 'prediccion')]\n",
    "\n",
    "G.add_edges_from(lista_vinculos)\n",
    "\n",
    "\n",
    "\n",
    "# Dibujar el mapa conceptual utilizando networkx y matplotlib\n",
    "\n",
    "pos = nx.spring_layout(G, seed = 48) # con ubicaciones aleatorias fijadas\n",
    "labels = {node:node for node in G.nodes()}\n",
    "\n",
    "nx.draw(G, pos, with_labels = True, node_size = 8000)\n",
    "\n",
    "plt.title('Mapa conceptual de series de tiempo')\n",
    "plt.savefig('/home/marco/Documentos/investigacion/investigacion_dengue/machine_learning/images/mapa_conceptuual_series_de_tiempo.png')\n",
    "plt.show()\n"
   ]
  },
  {
   "cell_type": "markdown",
   "metadata": {},
   "source": [
    "## [Video para el mapa conceptual del seminario]()"
   ]
  },
  {
   "cell_type": "markdown",
   "metadata": {},
   "source": [
    "## Obtención y visualización de los datos de AMSC"
   ]
  },
  {
   "cell_type": "markdown",
   "metadata": {},
   "source": [
    "1. Ir a la página del proyecto [AMSC]()\n",
    "2. Seleccionar la variable meteorológica que quiere. \n",
    "3. Seleccionar el invervalo de tiempo \n",
    "4. Dar el correo donde quiere que le lleguen los datos como archivo .csv"
   ]
  },
  {
   "cell_type": "code",
   "execution_count": null,
   "metadata": {},
   "outputs": [],
   "source": [
    "import pandas as pd # pandas para procesamiento de datos en python\n",
    "\n",
    "url = 'https://raw.githubusercontent.com/marco-canas/didactica_ciencia_datos/main/3_datasets/antioquia_mira_su_cielo/caucasia_yarumal_julio_a_noviembre_2023.csv'\n",
    "\n",
    "df = pd.read_csv(url)"
   ]
  },
  {
   "cell_type": "code",
   "execution_count": null,
   "metadata": {},
   "outputs": [],
   "source": [
    "df.tail() "
   ]
  },
  {
   "cell_type": "markdown",
   "metadata": {},
   "source": [
    "# Organización del DataFrame de tal manera que la fecha sea la familia indexante. "
   ]
  },
  {
   "cell_type": "code",
   "execution_count": null,
   "metadata": {},
   "outputs": [],
   "source": [
    "df.keys()\n"
   ]
  },
  {
   "cell_type": "code",
   "execution_count": null,
   "metadata": {},
   "outputs": [],
   "source": [
    "df= df[['fecha', 'temperatura', 'presion', 'humedad_relativa', 'precipitacion', 'nombre_completo']]\n",
    "df "
   ]
  },
  {
   "cell_type": "code",
   "execution_count": null,
   "metadata": {},
   "outputs": [],
   "source": [
    "df.index"
   ]
  },
  {
   "cell_type": "code",
   "execution_count": null,
   "metadata": {},
   "outputs": [],
   "source": [
    "df.index = df.fecha  # aher que la facha sea la que indize el dataframe"
   ]
  },
  {
   "cell_type": "code",
   "execution_count": null,
   "metadata": {},
   "outputs": [],
   "source": [
    "df"
   ]
  },
  {
   "cell_type": "code",
   "execution_count": null,
   "metadata": {},
   "outputs": [],
   "source": [
    "df.keys()\n"
   ]
  },
  {
   "cell_type": "code",
   "execution_count": null,
   "metadata": {},
   "outputs": [],
   "source": [
    "df = df[['temperatura', 'presion', 'humedad_relativa', 'precipitacion', 'nombre_completo']]  "
   ]
  },
  {
   "cell_type": "code",
   "execution_count": null,
   "metadata": {},
   "outputs": [],
   "source": [
    "df"
   ]
  },
  {
   "cell_type": "markdown",
   "metadata": {},
   "source": [
    "## [Video de apoyo al proceso de vorver la fecha como la familia idexante]()"
   ]
  },
  {
   "cell_type": "markdown",
   "metadata": {},
   "source": [
    "# Visualización tabular de los datos\n",
    "\n"
   ]
  },
  {
   "cell_type": "code",
   "execution_count": null,
   "metadata": {},
   "outputs": [],
   "source": [
    "df.head(7)\n"
   ]
  },
  {
   "cell_type": "code",
   "execution_count": null,
   "metadata": {},
   "outputs": [],
   "source": [
    "df.tail(7)\n"
   ]
  },
  {
   "cell_type": "code",
   "execution_count": null,
   "metadata": {},
   "outputs": [],
   "source": [
    "df.info() # para ver tipos de variables y datos faltantes\n"
   ]
  },
  {
   "cell_type": "code",
   "execution_count": null,
   "metadata": {},
   "outputs": [],
   "source": [
    "df.rename(columns = {'nombre_completo': 'municipio'}, inplace = True)  \n",
    "# https://pandas.pydata.org/docs/reference/api/pandas.DataFrame.rename.html\n",
    "df"
   ]
  },
  {
   "cell_type": "code",
   "execution_count": null,
   "metadata": {},
   "outputs": [],
   "source": [
    "df "
   ]
  },
  {
   "cell_type": "code",
   "execution_count": null,
   "metadata": {},
   "outputs": [],
   "source": [
    "df.municipio.value_counts()"
   ]
  },
  {
   "cell_type": "code",
   "execution_count": null,
   "metadata": {},
   "outputs": [],
   "source": [
    "df.loc[df.municipio == 'UdeA Caucasia'].describe() # ver parámetros estadísticos de las variables cuantitativas\n"
   ]
  },
  {
   "cell_type": "code",
   "execution_count": null,
   "metadata": {},
   "outputs": [],
   "source": [
    "df.loc[df.municipio == 'UdeA Yarumal'].describe() # ver parámetros estadísticos de las variables cuantitativas"
   ]
  },
  {
   "cell_type": "markdown",
   "metadata": {},
   "source": [
    "# Todas las conclusiones o inferencias que saque de la visualización tabular\n",
    "\n",
    "* No hay datos faltantes\n",
    "* la variable objetivo es una variable categórica binaria. "
   ]
  },
  {
   "cell_type": "markdown",
   "metadata": {},
   "source": [
    "## [Video de apoyo a la visualización tabular](https://www.youtube.com/watch?v=cZM4JVT-N1o) "
   ]
  },
  {
   "cell_type": "markdown",
   "metadata": {},
   "source": [
    "# Visualización Gráfica de los datos"
   ]
  },
  {
   "cell_type": "markdown",
   "metadata": {},
   "source": [
    "# Visualización de cada uno de los atributos predictores y de la variable objetivo. "
   ]
  },
  {
   "cell_type": "code",
   "execution_count": null,
   "metadata": {},
   "outputs": [],
   "source": [
    "import matplotlib.pyplot as plt # Herramienta de visualización científica\n",
    "\n",
    "plt.figure(figsize = (8,8))\n",
    "\n",
    "plt.title('Histograma del Municipio')\n",
    "\n",
    "plt.hist(df.municipio)\n",
    "\n",
    "plt.grid(alpha = 0.3)\n",
    "\n",
    "plt.savefig('/home/marco/Documentos/investigacion/investigacion_dengue/machine_learning/images/diagrama_barras_municipio.jpg')\n",
    "\n",
    "\n",
    "plt.show()\n"
   ]
  },
  {
   "cell_type": "markdown",
   "metadata": {},
   "source": [
    "## Infererencias de la lectura del gráfico de barras\n",
    "\n",
    "* Las clases están desbalancedas. "
   ]
  },
  {
   "cell_type": "code",
   "execution_count": null,
   "metadata": {},
   "outputs": [],
   "source": [
    "import matplotlib.pyplot as plt # Herramienta de visualización científica\n",
    "\n",
    "plt.figure(figsize = (8,8))\n",
    "\n",
    "plt.title('Histograma del Temperatura en Caucasia')\n",
    "\n",
    "plt.hist(df.temperatura.loc[df.municipio=='UdeA Caucasia'])\n",
    "\n",
    "plt.grid(alpha = 0.3)\n",
    "\n",
    "plt.savefig('/home/marco/Documentos/investigacion/investigacion_dengue/machine_learning/images/histograma_temperatura_caucasia.jpg')\n",
    "\n",
    "\n",
    "plt.show()"
   ]
  },
  {
   "cell_type": "code",
   "execution_count": null,
   "metadata": {},
   "outputs": [],
   "source": [
    "import matplotlib.pyplot as plt # Herramienta de visualización científica\n",
    "\n",
    "plt.figure(figsize = (8,8))\n",
    "\n",
    "plt.title('Histograma del Temperatura en Yarumal')\n",
    "\n",
    "plt.hist(df.temperatura.loc[df.municipio=='UdeA Yarumal'])\n",
    "\n",
    "plt.grid(alpha = 0.3)\n",
    "\n",
    "plt.savefig('/home/marco/Documentos/investigacion/investigacion_dengue/machine_learning/images/histograma_temperatura_yarumal.jpg')\n",
    "\n",
    "\n",
    "plt.show()"
   ]
  },
  {
   "cell_type": "markdown",
   "metadata": {},
   "source": [
    "# Paralelo de histogramas para Temperatura"
   ]
  },
  {
   "cell_type": "code",
   "execution_count": null,
   "metadata": {},
   "outputs": [],
   "source": [
    "\n",
    "plt.figure(figsize=(12, 6))\n",
    "plt.subplot(1, 2, 1) \n",
    "plt.title('Temperatura en Yarumal')\n",
    "plt.hist(df.temperatura.loc[df.municipio=='UdeA Yarumal'])\n",
    "\n",
    "plt.grid(alpha = 0.3)\n",
    "\n",
    "plt.subplot(1, 2, 2) \n",
    "plt.title('Temperatura en Caucasia')\n",
    "plt.hist(df.temperatura.loc[df.municipio=='UdeA Caucasia'])\n",
    "\n",
    "plt.grid(alpha = 0.3)"
   ]
  },
  {
   "cell_type": "code",
   "execution_count": null,
   "metadata": {},
   "outputs": [],
   "source": [
    "plt.figure(figsize=(12, 6))\n",
    "plt.subplot(1, 2, 1) \n",
    "plt.title('Presión en Yarumal')\n",
    "plt.hist(df.presion.loc[df.municipio=='UdeA Yarumal'])\n",
    "\n",
    "plt.grid(alpha = 0.3)\n",
    "\n",
    "plt.subplot(1, 2, 2) \n",
    "plt.title('Presión en Caucasia')\n",
    "plt.hist(df.presion.loc[df.municipio=='UdeA Caucasia'])\n",
    "\n",
    "plt.grid(alpha = 0.3)"
   ]
  },
  {
   "cell_type": "code",
   "execution_count": null,
   "metadata": {},
   "outputs": [],
   "source": [
    "plt.figure(figsize=(12, 6))\n",
    "plt.subplot(1, 2, 1) \n",
    "plt.title('Humedad Relativa en Yarumal')\n",
    "plt.hist(df.humedad_relativa.loc[df.municipio=='UdeA Yarumal'])\n",
    "\n",
    "plt.grid(alpha = 0.3)\n",
    "\n",
    "plt.subplot(1, 2, 2) \n",
    "plt.title('Humedad Relativa en Caucasia')\n",
    "plt.hist(df.humedad_relativa.loc[df.municipio=='UdeA Caucasia'])\n",
    "\n",
    "plt.grid(alpha = 0.3)"
   ]
  },
  {
   "cell_type": "markdown",
   "metadata": {},
   "source": [
    "# Interencias de los tres paralelos de gráficos.\n",
    "\n",
    "* En cuanto a la humadad, las dos clases se traslapan, mientras que en cuanto a la temperatura y la presión no. "
   ]
  },
  {
   "cell_type": "markdown",
   "metadata": {},
   "source": [
    "# Paralelos para diagrama de Cajas y bigotes\n",
    "\n"
   ]
  },
  {
   "cell_type": "code",
   "execution_count": null,
   "metadata": {},
   "outputs": [],
   "source": [
    "plt.figure(figsize=(12, 6))\n",
    "plt.subplot(1, 2, 1) \n",
    "plt.title('Temperatura en Yarumal')\n",
    "plt.boxplot(df.temperatura.loc[df.municipio=='UdeA Yarumal'])\n",
    "\n",
    "plt.grid(alpha = 0.3)\n",
    "\n",
    "plt.subplot(1, 2, 2) \n",
    "plt.title('Temperatura en Caucasia')\n",
    "plt.boxplot(df.temperatura.loc[df.municipio=='UdeA Caucasia'])\n",
    "\n",
    "plt.grid(alpha = 0.3)"
   ]
  },
  {
   "cell_type": "code",
   "execution_count": null,
   "metadata": {},
   "outputs": [],
   "source": [
    "plt.figure(figsize=(12, 6))\n",
    "plt.subplot(1, 2, 1) \n",
    "plt.title('Presión en Yarumal')\n",
    "plt.boxplot(df.presion.loc[df.municipio=='UdeA Yarumal'])\n",
    "\n",
    "plt.grid(alpha = 0.3)\n",
    "\n",
    "plt.subplot(1, 2, 2) \n",
    "plt.title('Temperatura en Caucasia')\n",
    "plt.boxplot(df.presion.loc[df.municipio=='UdeA Caucasia'])\n",
    "\n",
    "plt.grid(alpha = 0.3)"
   ]
  },
  {
   "cell_type": "code",
   "execution_count": null,
   "metadata": {},
   "outputs": [],
   "source": [
    "plt.figure(figsize=(12, 6))\n",
    "plt.subplot(1, 2, 1) \n",
    "plt.title('Humedad Relativa en Yarumal')\n",
    "plt.boxplot(df.humedad_relativa.loc[df.municipio=='UdeA Yarumal'])\n",
    "\n",
    "plt.grid(alpha = 0.3)\n",
    "\n",
    "plt.subplot(1, 2, 2) \n",
    "plt.title('Humedad Relativa en Caucasia')\n",
    "plt.boxplot(df.humedad_relativa.loc[df.municipio=='UdeA Caucasia'])\n",
    "\n",
    "plt.grid(alpha = 0.3)"
   ]
  },
  {
   "cell_type": "markdown",
   "metadata": {},
   "source": [
    "## [Video de apoyo a la visualización gráfica pero por atributo](https://www.youtube.com/watch?v=vk5l7MirgEA)"
   ]
  },
  {
   "cell_type": "markdown",
   "metadata": {},
   "source": [
    "# Gráficos de comparación de atributos"
   ]
  },
  {
   "cell_type": "code",
   "execution_count": null,
   "metadata": {},
   "outputs": [],
   "source": [
    "list(enumerate(df.municipio))"
   ]
  },
  {
   "cell_type": "code",
   "execution_count": null,
   "metadata": {},
   "outputs": [],
   "source": [
    "for indice, valor in enumerate(df.municipio): \n",
    "    if valor =='Udea Caucasia':\n",
    "        df.municipio[indice] = 'caucasia'\n",
    "    elif valor =='UdeA Yarumal':\n",
    "        df.municipio[indice] = 'yarumal'    "
   ]
  },
  {
   "cell_type": "code",
   "execution_count": null,
   "metadata": {},
   "outputs": [],
   "source": [
    "df "
   ]
  },
  {
   "cell_type": "code",
   "execution_count": null,
   "metadata": {},
   "outputs": [],
   "source": [
    "# Diagrama de dispersión para temperatura y presion por cada municipio\n",
    "\n",
    "import numpy as np \n",
    "import matpplotlib.pyplot as plt \n",
    "\n",
    "plt.figure()\n",
    "plt.title('Temperatura vs presión en Caucasia')\n",
    "plt.xlabel()\n",
    "plt.ylabel()\n",
    "plt.grid(alpha = 0.3)\n",
    "plt.scatter(df.temperatura.loc[df.municipio=='UdeA Caucasia'])\n",
    "plt.savefig('scatter_temperatura_caucasia.png')\n",
    "\n",
    "plt.show()"
   ]
  },
  {
   "cell_type": "code",
   "execution_count": null,
   "metadata": {},
   "outputs": [],
   "source": [
    "# Diagrama de dispersión para temperatura y presion por cada municipio\n",
    "\n",
    "import numpy as np \n",
    "import matpplotlib.pyplot as plt \n",
    "\n",
    "plt.figure()\n",
    "plt.title('Temperatura vs Presión en Yarumal')\n",
    "plt.xlabel()\n",
    "plt.ylabel()\n",
    "plt.grid(alpha = 0.3)\n",
    "\n",
    "plt.savefig('scatter_temperatura_caucasia.png')\n",
    "\n",
    "plt.show()"
   ]
  },
  {
   "cell_type": "markdown",
   "metadata": {},
   "source": [
    "# Grafica de las clases son la frontera de decisión"
   ]
  },
  {
   "cell_type": "code",
   "execution_count": null,
   "metadata": {},
   "outputs": [],
   "source": [
    "# Gráfica de los datos: Municipio en función de la temperatura y humedad relativa\n",
    "\n",
    "import numpy as np \n",
    "import matplotlib.pyplot as plt \n",
    "\n",
    "plt.figure(figsize=(10, 8))\n",
    "\n",
    "\n",
    "plt.title('Municipio en función de Temperatura y humedad relativa')\n",
    "plt.xlabel('Temperatura')\n",
    "plt.ylabel('Humedad relativa')\n",
    "plt.grid(alpha = 0.3)\n",
    "\n",
    "plt.scatter(df.temperatura.loc[df.municipio=='UdeA Caucasia'], df.humedad_relativa.loc[df.municipio=='UdeA Caucasia'], \\\n",
    "            color = 'red', label = 'Caucasia')\n",
    "\n",
    "plt.scatter(df.temperatura.loc[df.municipio=='UdeA Yarumal'], df.humedad_relativa.loc[df.municipio=='UdeA Yarumal'], \\\n",
    "            color = 'green', label = 'Yarumal')\n",
    "\n",
    "\n",
    "plt.legend()\n",
    "\n",
    "plt.savefig('scatter_temperatura_humedad_caucasia_yarumal.png')\n",
    "\n",
    "plt.show()"
   ]
  },
  {
   "cell_type": "code",
   "execution_count": null,
   "metadata": {},
   "outputs": [],
   "source": [
    "(df.municipio=='UdeA Caucasia').value_counts()"
   ]
  },
  {
   "cell_type": "code",
   "execution_count": null,
   "metadata": {},
   "outputs": [],
   "source": [
    "(df.municipio=='UdeA Caucasia').astype(np.int64).values"
   ]
  },
  {
   "cell_type": "code",
   "execution_count": null,
   "metadata": {},
   "outputs": [],
   "source": [
    "X, y = df[['temperatura', 'humedad_relativa']].values, (df.municipio=='UdeA Caucasia').astype(np.int64).values"
   ]
  },
  {
   "cell_type": "markdown",
   "metadata": {},
   "source": [
    "# Modelación o Clasificación binaria con SVM y Logistic Regression"
   ]
  },
  {
   "cell_type": "code",
   "execution_count": null,
   "metadata": {},
   "outputs": [],
   "source": [
    "from sklearn.svm import SVC\n",
    "\n",
    "svm_clf = SVC(kernel=\"linear\", C=10.0)\n",
    "\n",
    "svm_clf.fit(X, y)\n",
    "\n",
    "def plot_svc_decision_boundary(svm_clf, xmin, xmax):\n",
    "    w = svm_clf.coef_[0]\n",
    "    b_ = svm_clf.intercept_[0]\n",
    "\n",
    "    # At the decision boundary, w0*x0 + w1*x1 + b = 0, donde $(x0, x1)$ es cualquier punto de la frontera de decisión. \n",
    "    # => x1 = -w0/w1 * x0 - b/w1\n",
    "    x0 = np.linspace(xmin, xmax, 200)\n",
    "    decision_boundary = -w[0] / w[1] * x0 - b_ / w[1] # recta de la forma mx + b\n",
    "\n",
    "    margin = 1/w[1]\n",
    "    gutter_up = decision_boundary + margin\n",
    "    gutter_down = decision_boundary - margin\n",
    "    svs = svm_clf.support_vectors_\n",
    "\n",
    "    plt.plot(x0, decision_boundary, \"k-\", linewidth=2, zorder=-2)\n",
    "    plt.plot(x0, gutter_up, \"k--\", linewidth=2, zorder=-2) # recta que pasa arriba de la frontera de decisión\n",
    "    plt.plot(x0, gutter_down, \"k--\", linewidth=2, zorder=-2) # borde inferior de la margen \n",
    "    plt.scatter(svs[:, 0], svs[:, 1], s=180, facecolors='#AAA', zorder=-1)  # trazo de los vectores de soporte \n",
    "\n",
    "plt.figure(figsize=(12, 8))\n",
    "plt.title('Municipio en función de Temperatura y humedad relativa')\n",
    "plt.xlabel('Temperatura')\n",
    "plt.ylabel('Humedad relativa')\n",
    "plt.grid(alpha = 0.3)\n",
    "\n",
    "plt.scatter(df.temperatura.loc[df.municipio=='UdeA Caucasia'], df.humedad_relativa.loc[df.municipio=='UdeA Caucasia'], \\\n",
    "            color = 'red', label = 'Caucasia') # grafica de la clase positiva\n",
    "\n",
    "plt.scatter(df.temperatura.loc[df.municipio=='UdeA Yarumal'], df.humedad_relativa.loc[df.municipio=='UdeA Yarumal'], \\\n",
    "            color = 'green', label = 'Yarumal') # grafica de la clase negativa\n",
    "\n",
    "\n",
    "    \n",
    "plot_svc_decision_boundary(svm_clf, df.temperatura.min(), df.temperatura.max()) # grafica de la frontera de decisión\n",
    "\n",
    "\n",
    "# https://github.com/ageron/handson-ml3/blob/main/05_support_vector_machines.ipynb\n",
    "\n",
    "\n",
    "plt.show()\n"
   ]
  },
  {
   "cell_type": "markdown",
   "metadata": {},
   "source": [
    "## [Video de apoyo al entrenamiento de la máquina de soporte vectorial]()"
   ]
  },
  {
   "cell_type": "code",
   "execution_count": null,
   "metadata": {},
   "outputs": [],
   "source": [
    "# Entregar el modelo de regresión logística \n",
    "\n",
    "from sklearn.linear_model import LogisticRegression\n",
    "\n",
    "log_reg = LogisticRegression(random_state=42)\n",
    "\n",
    "\n",
    "\n",
    "# https://github.com/ageron/handson-ml3/blob/main/04_training_linear_models.ipynb"
   ]
  },
  {
   "cell_type": "code",
   "execution_count": null,
   "metadata": {},
   "outputs": [],
   "source": []
  },
  {
   "cell_type": "code",
   "execution_count": null,
   "metadata": {},
   "outputs": [],
   "source": []
  },
  {
   "cell_type": "markdown",
   "metadata": {},
   "source": [
    "# Vocubulary  \n",
    "\n",
    "* support: soporte\n",
    "* versatile: \n",
    "* capable:  \n",
    "* performing: \n",
    "* Logitic Regression: Regresión logística. \n",
    "* support vector machine: Maquina de soporte vectorial\n",
    "* linear:. lineal "
   ]
  },
  {
   "cell_type": "code",
   "execution_count": null,
   "metadata": {},
   "outputs": [],
   "source": []
  },
  {
   "cell_type": "markdown",
   "metadata": {},
   "source": [
    "# Máquinas de soporte vectorial según Geron"
   ]
  },
  {
   "cell_type": "markdown",
   "metadata": {},
   "source": [
    "\n",
    "# Chapter 5. Support Vector Machines (Página 219)\n",
    "\n",
    "### [Video de apoyo]()\n"
   ]
  },
  {
   "cell_type": "markdown",
   "metadata": {},
   "source": [
    "A Support Vector Machine (SVM) is a powerful and versatile Machine Learning model, capable of performing linear or nonlinear classification, regression, and even outlier detection.   \n",
    "\n",
    "Una máquina de vectores de soporte (SVM) es un modelo de aprendizaje automático potente y versátil, capaz de realizar clasificación, regresión e incluso detección de valores atípicos lineales o no lineales."
   ]
  },
  {
   "cell_type": "markdown",
   "metadata": {},
   "source": [
    "It is one of the most popular models in Machine Learning, and anyone interested in Machine Learning should have it in their toolbox.   \n",
    "\n",
    "Es uno de los modelos más populares de Machine Learning y cualquier persona interesada en Machine Learning debería tenerlo en su caja de herramientas."
   ]
  },
  {
   "cell_type": "markdown",
   "metadata": {},
   "source": [
    "SVMs are particularly well suited for classification of complex small- or medium-sized datasets.\n",
    "\n",
    "Las SVM son particularmente adecuadas para la clasificación de conjuntos de datos complejos de tamaño pequeño o mediano."
   ]
  },
  {
   "cell_type": "markdown",
   "metadata": {},
   "source": [
    "This chapter will explain the core concepts of SVMs, how to use them, and how they work.  \n",
    "\n",
    "Este capítulo explicará los conceptos básicos de las SVM, cómo usarlas y cómo funcionan.  \n"
   ]
  },
  {
   "cell_type": "markdown",
   "metadata": {},
   "source": [
    "# Linear SVM Classification\n"
   ]
  },
  {
   "cell_type": "markdown",
   "metadata": {},
   "source": [
    "The fundamental idea behind SVMs is best explained with some pictures. \n",
    "\n",
    "La idea fundamental detrás de las SVM se explica mejor con algunas imágenes."
   ]
  },
  {
   "cell_type": "markdown",
   "metadata": {},
   "source": [
    "Figure 5-1 shows part of the iris dataset that was introduced at the end of Chapter 4. \n",
    "\n",
    "La Figura 5-1 muestra parte del conjunto de datos del iris que se presentó al final del Capítulo 4."
   ]
  },
  {
   "cell_type": "code",
   "execution_count": null,
   "metadata": {},
   "outputs": [],
   "source": [
    "# extra code – this cell generates and saves Figure 5–1\n",
    "# https://github.com/ageron/handson-ml3/blob/main/05_support_vector_machines.ipynb\n",
    "\n",
    "#importación de las librerías \n",
    "\n",
    "from sklearn import datasets # obtención de datos\n",
    "\n",
    "import matplotlib.pyplot as plt  # visualización gráfica en diagramas bidimensionales\n",
    "import numpy as np # Visualización tabular y manipulación de datos\n",
    "\n",
    "\n",
    "\n",
    "from sklearn.svm import SVC\n",
    "\n",
    "\n",
    "iris = datasets.load_iris(as_frame=True) # obtiene los datos como estructuta de Bunch y los guarda en la variable iris\n"
   ]
  },
  {
   "cell_type": "markdown",
   "metadata": {},
   "source": [
    "# Las florez de iris \n",
    "\n",
    "<img src = 'https://raw.githubusercontent.com/JoePortilla/IrisDataset-EDA/main/img/iris_flowers.png'>"
   ]
  },
  {
   "cell_type": "markdown",
   "metadata": {},
   "source": [
    "# [Historia del dataset de florez de iris](https://es.wikipedia.org/wiki/Conjunto_de_datos_flor_iris)\n",
    "\n"
   ]
  },
  {
   "cell_type": "code",
   "execution_count": null,
   "metadata": {},
   "outputs": [],
   "source": [
    "type(iris)  # para ver la estructura de los datos (Buch)"
   ]
  },
  {
   "cell_type": "code",
   "execution_count": null,
   "metadata": {},
   "outputs": [],
   "source": [
    "iris.keys()  # obtención de las llaves para obtención de los datos"
   ]
  },
  {
   "cell_type": "code",
   "execution_count": null,
   "metadata": {},
   "outputs": [],
   "source": [
    "dic = {'nombre':'marco'}\n",
    "\n",
    "dic['nombre'] "
   ]
  },
  {
   "cell_type": "code",
   "execution_count": null,
   "metadata": {},
   "outputs": [],
   "source": [
    "iris.data  # acceso a las variables predictoras en forma de DataFrame\n"
   ]
  },
  {
   "cell_type": "code",
   "execution_count": null,
   "metadata": {},
   "outputs": [],
   "source": [
    "iris.target.value_counts()  # la freciencia de cada uno de los tipos de florez de iris. "
   ]
  },
  {
   "cell_type": "code",
   "execution_count": null,
   "metadata": {},
   "outputs": [],
   "source": [
    "type(iris) "
   ]
  },
  {
   "cell_type": "code",
   "execution_count": null,
   "metadata": {},
   "outputs": [],
   "source": [
    "X = iris.data[[\"petal length (cm)\", \"petal width (cm)\"]].values\n",
    "X "
   ]
  },
  {
   "cell_type": "code",
   "execution_count": null,
   "metadata": {},
   "outputs": [],
   "source": [
    "y = iris.target\n",
    "y"
   ]
  },
  {
   "cell_type": "markdown",
   "metadata": {},
   "source": [
    "# Visualización gráfica del dataset de florez de iris en cuanto a los parámetros de longitud y ancho de pétalo\n"
   ]
  },
  {
   "cell_type": "markdown",
   "metadata": {},
   "source": [
    "\n",
    "La clase positiva es ser setosa \n",
    "\n",
    "y la clase negativa es ser versicolor. \n",
    "\n",
    "\n"
   ]
  },
  {
   "cell_type": "code",
   "execution_count": null,
   "metadata": {},
   "outputs": [],
   "source": [
    "y = iris.target \n",
    "X = iris.data \n",
    "setosa_or_versicolor = (y == 0) | (y == 1)\n",
    "setosa_or_versicolor.value_counts() "
   ]
  },
  {
   "cell_type": "code",
   "execution_count": null,
   "metadata": {},
   "outputs": [],
   "source": [
    "\n",
    "# Tomar del dataset solo las 100 instancias sobre los datos de setosa y versicolor. \n",
    "\n",
    "X = X[setosa_or_versicolor]\n",
    "y = y[setosa_or_versicolor] # así la clase positiva a a ser el ser setosa o virgínica. \n"
   ]
  },
  {
   "cell_type": "code",
   "execution_count": null,
   "metadata": {},
   "outputs": [],
   "source": [
    "X.shape, y.shape"
   ]
  },
  {
   "cell_type": "code",
   "execution_count": null,
   "metadata": {},
   "outputs": [],
   "source": [
    "False | False "
   ]
  },
  {
   "cell_type": "code",
   "execution_count": null,
   "metadata": {},
   "outputs": [],
   "source": [
    "x = 5  # Representación binaria: 0101\n",
    "y = 3  # Representación binaria: 0011\n",
    "resultado = x | y  # Operación OR a nivel de bits\n",
    "print(resultado)  # Output: 7 (Representación binaria: 0111)\n"
   ]
  },
  {
   "cell_type": "markdown",
   "metadata": {},
   "source": [
    "# Aprendamos sobre la diferencia entre los operadores or y | de python\n",
    "\n",
    "En Python, `or` y `|` son dos operadores diferentes que se utilizan en contextos distintos.\n",
    "\n",
    "1. **Operador `or`:**\n",
    "   - `or` es un operador lógico que se utiliza para combinar dos expresiones booleanas. Devuelve `True` si al menos una de las expresiones es verdadera y `False` si ambas son falsas.\n",
    "   - Ejemplo:\n",
    "     ```python\n",
    "     x = True\n",
    "     y = False\n",
    "     resultado = x or y\n",
    "     print(resultado)  # Output: True\n",
    "     ```\n",
    "\n",
    "2. **Operador `|`:**\n",
    "   - `|` es un operador de bits (también conocido como operador OR a nivel de bits) que se utiliza para realizar operaciones de bits a nivel de bits en enteros.\n",
    "   - Ejemplo:\n",
    "     ```python\n",
    "     x = 5  # Representación binaria: 0101\n",
    "     y = 3  # Representación binaria: 0011\n",
    "     resultado = x | y  # Operación OR a nivel de bits\n",
    "     print(resultado)  # Output: 7 (Representación binaria: 0111)\n",
    "     ```\n",
    "\n",
    "En resumen, `or` es un operador lógico que se utiliza para evaluar expresiones booleanas, mientras que `|` es un operador a nivel de bits que se utiliza para realizar operaciones de bits en números enteros. Es importante usar el operador correcto según el contexto de tu código para evitar errores y obtener los resultados esperados.\n",
    "\n",
    "Tomado de ChatGPT. \n",
    "\n"
   ]
  },
  {
   "cell_type": "code",
   "execution_count": null,
   "metadata": {},
   "outputs": [],
   "source": [
    "\n",
    "# SVM Classifier model\n",
    "svm_clf = SVC(kernel=\"linear\", C=10.0)\n",
    "svm_clf.fit(X, y)\n"
   ]
  },
  {
   "cell_type": "markdown",
   "metadata": {},
   "source": [
    "# Visualización de la clasificación que ha logrado este modelo"
   ]
  },
  {
   "cell_type": "code",
   "execution_count": null,
   "metadata": {},
   "outputs": [],
   "source": []
  },
  {
   "cell_type": "code",
   "execution_count": null,
   "metadata": {},
   "outputs": [],
   "source": [
    "\n",
    "# Bad models\n",
    "x0 = np.linspace(0, 5.5, 200)   # Dominio común para todas las fronteras de decisión\n",
    "pred_1 = 5 * x0 - 20            # una recta inventada de pendiente 5 e intersecto en el origen b = -20\n",
    "pred_2 = x0 - 1.8               # una recta inventada de pendiente 1 e intersecto en el origen b = -1.8\n",
    "pred_3 = 0.1 * x0 + 0.5         # una recta inventada de pendiente 0.1 e intersecto en el origen b = 0.5\n",
    "\n",
    "def plot_svc_decision_boundary(svm_clf, xmin, xmax):\n",
    "    w = svm_clf.coef_[0]\n",
    "    b = svm_clf.intercept_[0]\n",
    "\n",
    "    # At the decision boundary, w0*x0 + w1*x1 + b = 0\n",
    "    # => x1 = -w0/w1 * x0 - b/w1\n",
    "    x0 = np.linspace(xmin, xmax, 200)\n",
    "    decision_boundary = -w[0] / w[1] * x0 - b / w[1]\n",
    "\n",
    "    margin = 1/w[1]\n",
    "    gutter_up = decision_boundary + margin\n",
    "    gutter_down = decision_boundary - margin\n",
    "    svs = svm_clf.support_vectors_\n",
    "\n",
    "    plt.plot(x0, decision_boundary, \"k-\", linewidth=2, zorder=-2)\n",
    "    plt.plot(x0, gutter_up, \"k--\", linewidth=2, zorder=-2)\n",
    "    plt.plot(x0, gutter_down, \"k--\", linewidth=2, zorder=-2)\n",
    "    plt.scatter(svs[:, 0], svs[:, 1], s=180, facecolors='#AAA',\n",
    "                zorder=-1)\n",
    "\n",
    "fig, axes = plt.subplots(ncols=2, figsize=(10, 2.7), sharey=True)\n",
    "\n",
    "plt.sca(axes[0])\n",
    "plt.plot(x0, pred_1, \"g--\", linewidth=2)\n",
    "plt.plot(x0, pred_2, \"m-\", linewidth=2)  # frontera de decisión color magenta \n",
    "plt.plot(x0, pred_3, \"r-\", linewidth=2)\n",
    "plt.plot(X[:, 0][y==1], X[:, 1][y==1], \"bs\", label=\"Iris versicolor\")\n",
    "plt.plot(X[:, 0][y==0], X[:, 1][y==0], \"yo\", label=\"Iris setosa\")\n",
    "plt.xlabel(\"Petal length\")\n",
    "plt.ylabel(\"Petal width\")\n",
    "plt.legend(loc=\"upper left\")\n",
    "plt.axis([0, 5.5, 0, 2])\n",
    "plt.gca().set_aspect(\"equal\")\n",
    "plt.grid()\n",
    "\n",
    "plt.sca(axes[1])\n",
    "plot_svc_decision_boundary(svm_clf, 0, 5.5)\n",
    "plt.plot(X[:, 0][y==1], X[:, 1][y==1], \"bs\")\n",
    "plt.plot(X[:, 0][y==0], X[:, 1][y==0], \"yo\")\n",
    "plt.xlabel(\"Petal length\")\n",
    "plt.axis([0, 5.5, 0, 2])\n",
    "plt.gca().set_aspect(\"equal\")\n",
    "plt.grid()\n",
    "\n",
    "plt.savefig(\"/home/marco/Documentos/investigacion/investigacion_dengue/machine_learning/images/clasificacion_alto_margen.jpg\")\n",
    "plt.show()\n"
   ]
  },
  {
   "cell_type": "markdown",
   "metadata": {},
   "source": [
    "The two classes can clearly be separated easily with a straight line (they are linearly separable). The left plot shows the decision boundaries of three possible linear classifiers. \n",
    "\n",
    "Las dos clases claramente se pueden separar fácilmente con una línea recta (son linealmente separables). El gráfico de la izquierda muestra los límites de decisión de tres posibles clasificadores lineales."
   ]
  },
  {
   "cell_type": "markdown",
   "metadata": {},
   "source": [
    "The model whose decision boundary is represented by the dashed line is so bad that it does not even separate the classes properly. \n",
    "\n",
    "El modelo cuyo límite de decisión está representado por la línea discontinua es tan malo que ni siquiera separa las clases adecuadamente."
   ]
  },
  {
   "cell_type": "markdown",
   "metadata": {},
   "source": [
    "The other two models work perfectly on this training set, but their decision boundaries come so close to the instances that these models will probably not perform as well on new instances.   \n",
    "\n",
    "Los otros dos modelos funcionan perfectamente en este conjunto de entrenamiento, pero sus límites de decisión se acercan tanto a las instancias que estos modelos probablemente no funcionarán tan bien en instancias nuevas."
   ]
  },
  {
   "cell_type": "markdown",
   "metadata": {},
   "source": [
    "In contrast, the solid line in the plot on the right represents the decision boundary of an SVM classifier; this line not only separates the two classes but also stays as far away from the closest training instances as possible.   \n",
    "\n",
    "Por el contrario, la línea continua en el gráfico de la derecha representa el límite de decisión de un clasificador SVM; esta línea no sólo separa las dos clases sino que también se mantiene lo más alejada posible de las instancias de entrenamiento más cercanas posible.\n",
    "\n"
   ]
  },
  {
   "cell_type": "markdown",
   "metadata": {},
   "source": [
    "You can think of an SVM classifier as fitting the widest possible street (represented by the parallel\n",
    "dashed lines) between the classes. This is called large margin classification.  \n",
    "\n",
    "Puede pensar que un clasificador SVM se ajusta a la calle más ancha posible (representada por líneas discontinuas paralelas) entre las clases. A esto se le llama clasificación de gran margen."
   ]
  },
  {
   "cell_type": "markdown",
   "metadata": {},
   "source": [
    "\n",
    "# Linear SVM Classification\n"
   ]
  },
  {
   "cell_type": "markdown",
   "metadata": {},
   "source": [
    "\n",
    "The book starts with a few figures, before the first code example, so the next three cells generate and save these figures. You can skip them if you want.  \n",
    "\n",
    "El libro comienza con algunas figuras, antes del primer ejemplo de código, por lo que las siguientes tres celdas generan y guardan estas figuras. Puedes omitirlos si quieres.\n"
   ]
  },
  {
   "cell_type": "markdown",
   "metadata": {},
   "source": [
    "The fundamental idea behind SVMs is best explained with some pictures. Figure 5-1 shows\n",
    "part of the iris dataset that was introduced at the end of Chapter 4.   \n",
    "\n",
    "La idea fundamental detrás de las SVM se explica mejor con algunas imágenes. La Figura 5-1 muestra parte del conjunto de datos del iris que se presentó al final del Capítulo 4."
   ]
  },
  {
   "cell_type": "markdown",
   "metadata": {},
   "source": [
    "The two classes can clearly be separated easily with a straight line (they are linearly separable). The left plot shows the decision boundaries of three possible linear classifiers. \n",
    "\n",
    "Las dos clases claramente se pueden separar fácilmente con una línea recta (son linealmente separables). El gráfico de la izquierda muestra los límites de decisión de tres posibles clasificadores lineales."
   ]
  },
  {
   "cell_type": "markdown",
   "metadata": {},
   "source": [
    "The model whose decision boundary is represented by the dashed line is so bad that it does not even separate the classes properly.   \n",
    "\n",
    "El modelo cuyo límite de decisión está representado por la línea discontinua es tan malo que ni siquiera separa las clases adecuadamente."
   ]
  },
  {
   "cell_type": "markdown",
   "metadata": {},
   "source": [
    "The other two models work perfectly on this training set, but their decision boundaries come so close to the instances that these models will probably not perform as well on new instances. "
   ]
  },
  {
   "cell_type": "markdown",
   "metadata": {},
   "source": [
    "In contrast, the solid line in the plot on the right represents the decision boundary of an SVM classifier; this line not only separates the two classes but also stays as far away from the closest training instances as possible.   \n",
    "\n",
    "Por el contrario, la línea continua en el gráfico de la derecha representa el límite de decisión de un clasificador SVM; esta línea no sólo separa las dos clases sino que también se mantiene lo más alejada posible de las instancias de entrenamiento más cercanas posible."
   ]
  },
  {
   "cell_type": "markdown",
   "metadata": {},
   "source": [
    "You can think of an SVM classifier as fitting the widest possible street (represented by the parallel\n",
    "dashed lines) between the classes. This is called large margin classification.  \n",
    "\n",
    "Puede pensar que un clasificador SVM se ajusta a la calle más ancha posible (representada por líneas discontinuas paralelas) entre las clases. A esto se le llama clasificación de gran margen."
   ]
  },
  {
   "cell_type": "code",
   "execution_count": null,
   "metadata": {},
   "outputs": [],
   "source": [
    "\n",
    "# extra code – this cell generates and saves Figure 5–1\n",
    "# https://github.com/ageron/handson-ml3/blob/main/05_support_vector_machines.ipynb\n",
    "\n",
    "import matplotlib.pyplot as plt\n",
    "import numpy as np\n",
    "from sklearn.svm import SVC # configurar el modelo predictor\n",
    "from sklearn import datasets # para obtener el dataset de florez de iris. \n",
    "\n",
    "iris = datasets.load_iris(as_frame=True)\n",
    "X = iris.data[[\"petal length (cm)\", \"petal width (cm)\"]].values\n",
    "y = iris.target\n",
    "\n",
    "setosa_or_versicolor = (y == 0) | (y == 1)\n",
    "X = X[setosa_or_versicolor]\n",
    "y = y[setosa_or_versicolor]\n",
    "\n",
    "# SVM Classifier model\n",
    "svm_clf = SVC(kernel=\"linear\", C=10.0)\n",
    "svm_clf.fit(X, y)\n",
    "\n",
    "# Bad models\n",
    "x0 = np.linspace(0, 5.5, 200)\n",
    "pred_1 = 5 * x0 - 20\n",
    "pred_2 = x0 - 1.8\n",
    "pred_3 = 0.1 * x0 + 0.5\n",
    "\n",
    "def plot_svc_decision_boundary(svm_clf, xmin, xmax):\n",
    "    w = svm_clf.coef_[0]\n",
    "    b = svm_clf.intercept_[0]\n",
    "\n",
    "    # At the decision boundary, w0*x0 + w1*x1 + b = 0\n",
    "    # => x1 = -w0/w1 * x0 - b/w1\n",
    "    x0 = np.linspace(xmin, xmax, 200)\n",
    "    decision_boundary = -w[0] / w[1] * x0 - b / w[1]\n",
    "\n",
    "    margin = 1/w[1]\n",
    "    gutter_up = decision_boundary + margin\n",
    "    gutter_down = decision_boundary - margin\n",
    "    svs = svm_clf.support_vectors_\n",
    "\n",
    "    plt.plot(x0, decision_boundary, \"k-\", linewidth=2, zorder=-2)\n",
    "    plt.plot(x0, gutter_up, \"k--\", linewidth=2, zorder=-2)\n",
    "    plt.plot(x0, gutter_down, \"k--\", linewidth=2, zorder=-2)\n",
    "    plt.scatter(svs[:, 0], svs[:, 1], s=180, facecolors='#AAA',\n",
    "                zorder=-1)\n",
    "\n",
    "fig, axes = plt.subplots(ncols=2, figsize=(10, 2.7), sharey=True)\n",
    "\n",
    "plt.sca(axes[0])\n",
    "plt.plot(x0, pred_1, \"g--\", linewidth=2)\n",
    "plt.plot(x0, pred_2, \"m-\", linewidth=2)\n",
    "plt.plot(x0, pred_3, \"r-\", linewidth=2)\n",
    "plt.plot(X[:, 0][y==1], X[:, 1][y==1], \"bs\", label=\"Iris versicolor\")\n",
    "plt.plot(X[:, 0][y==0], X[:, 1][y==0], \"yo\", label=\"Iris setosa\")\n",
    "plt.xlabel(\"Petal length\")\n",
    "plt.ylabel(\"Petal width\")\n",
    "plt.legend(loc=\"upper left\")\n",
    "plt.axis([0, 5.5, 0, 2])\n",
    "plt.gca().set_aspect(\"equal\")\n",
    "plt.grid()\n",
    "\n",
    "plt.sca(axes[1])\n",
    "plot_svc_decision_boundary(svm_clf, 0, 5.5)\n",
    "plt.plot(X[:, 0][y==1], X[:, 1][y==1], \"bs\")\n",
    "plt.plot(X[:, 0][y==0], X[:, 1][y==0], \"yo\")\n",
    "plt.xlabel(\"Petal length\")\n",
    "plt.axis([0, 5.5, 0, 2])\n",
    "plt.gca().set_aspect(\"equal\")\n",
    "plt.grid()\n",
    "\n",
    "plt.savefig(\"/home/marco/Documentos/investigacion/investigacion_dengue/machine_learning/images/clasificacion_alto_margen.jpg\")\n",
    "plt.show()\n",
    "\n"
   ]
  },
  {
   "cell_type": "markdown",
   "metadata": {},
   "source": [
    "Notice that adding more training instances “off the street” will not affect the decision boundary at all: it is fully determined (or “supported”) by the instances located on the edge of the street.   \n",
    "\n",
    "Tenga en cuenta que agregar más instancias de entrenamiento \"fuera de la calle\" no afectará en absoluto el límite de decisión: está completamente determinado (o \"respaldado\") por las instancias ubicadas en el borde de la calle."
   ]
  },
  {
   "cell_type": "markdown",
   "metadata": {},
   "source": [
    "These instances are called the support vectors (they are circled in Figure 5-1).  \n",
    "\n",
    "Estos casos se denominan vectores de soporte (están rodeados por un círculo en la Figura 5-1)."
   ]
  },
  {
   "cell_type": "code",
   "execution_count": null,
   "metadata": {},
   "outputs": [],
   "source": []
  },
  {
   "cell_type": "markdown",
   "metadata": {},
   "source": [
    "# Ahora hagamos la práctica de clasificación binaria de los datos de temperatura y presión de Caucasia y Yarumal, los que pensamos son datos linealmente separables. \n",
    "\n"
   ]
  },
  {
   "cell_type": "markdown",
   "metadata": {},
   "source": [
    "# Configuración de un detector de caucasia como zona geográfica determinada por su `temperatura` y `humedad_relativa`. "
   ]
  },
  {
   "cell_type": "markdown",
   "metadata": {},
   "source": [
    "## Obtención de los datos de Caucasia y Yarumal, en cuanto a los parámetros meteorológicos: temperatura y presión"
   ]
  },
  {
   "cell_type": "code",
   "execution_count": null,
   "metadata": {},
   "outputs": [],
   "source": [
    "import pandas as pd \n",
    "\n",
    "url = ''\n",
    "\n",
    "datos_cy = pd.read_csv('caucasia_yarumal_temperatura_presion.csv')"
   ]
  },
  {
   "cell_type": "code",
   "execution_count": null,
   "metadata": {},
   "outputs": [],
   "source": [
    "datos_cy "
   ]
  },
  {
   "cell_type": "code",
   "execution_count": null,
   "metadata": {},
   "outputs": [],
   "source": [
    "datos_cy.style.hide()"
   ]
  },
  {
   "cell_type": "code",
   "execution_count": null,
   "metadata": {},
   "outputs": [],
   "source": [
    "datos_cy[['fecha', 'temperatura', 'presion', 'nombre_completo',]].style.hide()"
   ]
  },
  {
   "cell_type": "code",
   "execution_count": null,
   "metadata": {},
   "outputs": [],
   "source": [
    "datos_cy"
   ]
  },
  {
   "cell_type": "code",
   "execution_count": null,
   "metadata": {},
   "outputs": [],
   "source": [
    "import matplotlib.pyplot as plt # hacer gráficos de dispersión\n",
    "import numpy as np # organizar los datos en forma de vectores y matrices.\n",
    "\n",
    "\n",
    "datos_caucasia = datos_cy.loc[datos_cy['nombre_completo']=='UdeA Caucasia']\n",
    "datos_yarumal = datos_cy.loc[datos_cy['nombre_completo']=='UdeA Yarumal']\n",
    "plt.scatter(datos_caucasia.temperatura, datos_caucasia.presion, label = 'Caucasia')\n",
    "plt.scatter(datos_yarumal.temperatura, datos_yarumal.presion, label = 'Yarumal')\n",
    "plt.xlabel('temperatura')\n",
    "plt.ylabel('presión')\n",
    "plt.grid() \n",
    "\n",
    "plt.legend() \n",
    "\n",
    "\n",
    "\n"
   ]
  },
  {
   "cell_type": "code",
   "execution_count": null,
   "metadata": {},
   "outputs": [],
   "source": [
    "X = datos_cy[['temperatura', 'presion']]\n",
    "X "
   ]
  },
  {
   "cell_type": "code",
   "execution_count": null,
   "metadata": {},
   "outputs": [],
   "source": [
    "X = X.values  # Utilización del atributo values para convertir el dataframe en un nb.array de numpy. \n",
    "X  # se pierde los nombres de las columnas.. "
   ]
  },
  {
   "cell_type": "code",
   "execution_count": null,
   "metadata": {},
   "outputs": [],
   "source": [
    "# determinación de la variable objetivo\n",
    "\n",
    "# El clasificador debe detectar cuando los datos de temperatura y presión corresponden a Caucasia\n",
    "\n",
    "y = datos_cy.nombre_completo\n",
    "y "
   ]
  },
  {
   "cell_type": "code",
   "execution_count": null,
   "metadata": {},
   "outputs": [],
   "source": []
  },
  {
   "cell_type": "code",
   "execution_count": null,
   "metadata": {},
   "outputs": [],
   "source": []
  },
  {
   "cell_type": "code",
   "execution_count": null,
   "metadata": {},
   "outputs": [],
   "source": []
  },
  {
   "cell_type": "code",
   "execution_count": null,
   "metadata": {},
   "outputs": [],
   "source": []
  },
  {
   "cell_type": "code",
   "execution_count": null,
   "metadata": {},
   "outputs": [],
   "source": []
  },
  {
   "cell_type": "markdown",
   "metadata": {},
   "source": [
    "# Referencias\n",
    "\n",
    "* Géron, A. (2022). Hands-on machine learning with Scikit-Learn, Keras, and TensorFlow. \" O'Reilly Media, Inc.\".\n",
    "\n",
    "* [McKinney, W. (2022). Python for data analysis. \" O'Reilly Media, Inc.\".](https://d1wqtxts1xzle7.cloudfront.net/62139307/Python-for-Data-Analysis-2nd-Edition20200219-40214-1of6b7q-libre.pdf?1582110463=&response-content-disposition=inline%3B+filename%3DPython_for_Data_Analysis.pdf&Expires=1694149999&Signature=MH1uVxkUnFgwepQUeb-3OdFgQWj0vmtzC4ra~TZ-xyCstLSCg7uaNeDi4yrXghoJ6UEMCGOJkx2s13vayVVP-IzF8I91v6TeW0ZUeIejbWlrkHxtT01V-fJ6q7C~9buozUwVr~o2BY3llLH5rZVlZF31pPefEm3ejjlW8pO~prbQ8VVfyfXs4HzSIQJ~nbTCZU8LfqYwU3yMLV7IH4TQN9eGd8GZuqHjznUJZU995AwYqQqzl5-Xtoz93-S1Pn2UWuS8SsXmFt1ysr~-M7-6lVQw~E9~MFbdCIQRfp~fRtVtHDfB-mEXNEQ1CX518xUB0xT3JtfZdsGArib9UMwOqg__&Key-Pair-Id=APKAJLOHF5GGSLRBV4ZA)\n",
    "\n",
    "<img src = 'https://wesmckinney.com/images/wes-2017-01-12-small.png' width = 200>\n",
    "\n",
    "* [Documentación de la función nx.spring_layout()](https://networkx.org/documentation/stable/reference/generated/networkx.drawing.layout.spring_layout.html)\n",
    "\n",
    "* [Cuaderno Jupyter sobre Máquinas de soporte vectorial de Geron](https://github.com/ageron/handson-ml3/blob/main/05_support_vector_machines.ipynb)"
   ]
  },
  {
   "cell_type": "markdown",
   "metadata": {},
   "source": []
  }
 ],
 "metadata": {
  "kernelspec": {
   "display_name": ".venv",
   "language": "python",
   "name": "python3"
  },
  "language_info": {
   "codemirror_mode": {
    "name": "ipython",
    "version": 3
   },
   "file_extension": ".py",
   "mimetype": "text/x-python",
   "name": "python",
   "nbconvert_exporter": "python",
   "pygments_lexer": "ipython3",
   "version": "3.10.12"
  },
  "orig_nbformat": 4
 },
 "nbformat": 4,
 "nbformat_minor": 2
}

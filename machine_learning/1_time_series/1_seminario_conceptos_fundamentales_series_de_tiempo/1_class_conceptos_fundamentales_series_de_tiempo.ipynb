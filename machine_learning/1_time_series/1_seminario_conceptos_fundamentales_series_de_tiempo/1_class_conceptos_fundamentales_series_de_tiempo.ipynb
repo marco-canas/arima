{
 "cells": [
  {
   "cell_type": "markdown",
   "metadata": {},
   "source": [
    "\n",
    "Para que obtenga una copia de esta cuaderno dele [aquí](https://colab.research.google.com/github/marco-canas/investigacion_dengue/blob/main/machine_learning/1_time_series/1_class_conceptos_fundamentales_series_de_tiempo/1_class_conceptos_fundamentales_series_de_tiempo.ipynb)"
   ]
  },
  {
   "cell_type": "markdown",
   "metadata": {},
   "source": [
    "# Cómo valorar, elogiar y comprender\n",
    "\n",
    "Pedir ser tratado con valoración, comprensión y elogio de manera asertiva implica expresar tus necesidades y deseos de manera clara y respetuosa, comunicando tus expectativas de cómo deseas ser tratado. Aquí tienes algunos pasos para hacerlo de manera efectiva:\n"
   ]
  },
  {
   "cell_type": "markdown",
   "metadata": {},
   "source": [
    "\n",
    "1. **Elige el momento y lugar adecuado:** Busca un momento y lugar tranquilo y apropiado para tener esta conversación. Asegúrate de que ambos estén dispuestos a hablar y sin distracciones que puedan interrumpir la comunicación.\n"
   ]
  },
  {
   "cell_type": "markdown",
   "metadata": {},
   "source": [
    "\n",
    "2. **Usa un tono de voz amable y respetuoso:** Habla con calma y usa un tono de voz amigable y respetuoso. Evita sonar agresivo o demandante para no crear una barrera en la comunicación.\n"
   ]
  },
  {
   "cell_type": "markdown",
   "metadata": {},
   "source": [
    "\n",
    "3. **Sé específico sobre tus necesidades:** Explica claramente qué es lo que deseas en términos de valoración, comprensión y elogio. Por ejemplo, podrías decir: \"Me gustaría que, cuando compartamos ideas en el trabajo, podamos reconocer nuestros esfuerzos mutuamente y elogiar las buenas ideas que surjan\".\n"
   ]
  },
  {
   "cell_type": "markdown",
   "metadata": {},
   "source": [
    "\n",
    "4. **Utiliza \"yo\" en lugar de \"tú\" para expresar tus sentimientos:** En lugar de decir \"tú nunca me elogias\", puedes decir \"me siento valorado cuando recibimos elogios por nuestro trabajo en equipo\".\n"
   ]
  },
  {
   "cell_type": "markdown",
   "metadata": {},
   "source": [
    "\n",
    "5. **Menciona ejemplos concretos:** Si es posible, proporciona ejemplos específicos de situaciones en las que te has sentido valorado o no, y cómo eso afectó tus emociones y motivación.\n",
    "\n",
    "6. **Escucha activamente:** Asegúrate de escuchar las respuestas y puntos de vista de la otra persona con atención. La comunicación asertiva es un diálogo, no un monólogo.\n",
    "\n",
    "7. **Sé receptivo a las respuestas:** Está preparado para recibir retroalimentación y ser abierto a la posibilidad de negociar en caso de que la otra persona también tenga necesidades o expectativas.\n",
    "\n",
    "8. **Muestra gratitud:** Si la otra persona responde de manera positiva y está dispuesta a brindarte lo que necesitas, agradece su comprensión y disposición para mejorar la relación.\n",
    "\n",
    "9. **Establece límites claros:** Si la otra persona no está dispuesta a cumplir tus necesidades, sé firme en la importancia de ser tratado con valoración y comprensión, y establece límites saludables si es necesario.\n",
    "\n",
    "Recuerda que la asertividad implica expresar tus necesidades de manera clara y respetuosa, sin imponer tus deseos a los demás. El objetivo es comunicar tus expectativas para mejorar la relación y la comunicación con la otra persona de manera constructiva."
   ]
  },
  {
   "attachments": {},
   "cell_type": "markdown",
   "metadata": {},
   "source": [
    "# Diseño de clase\n",
    "### [video de apoyo](https://www.youtube.com/watch?v=jkTRa9YtZJY) "
   ]
  },
  {
   "attachments": {},
   "cell_type": "markdown",
   "metadata": {},
   "source": [
    "# Clase sobre Conceptos Fundamentales de Series de Tiempo\n",
    "\n",
    "**Objetivo:** Familiarizar al joven investigador con el concepto de series de tiempo y su importancia en el análisis de datos temporales, así como comprender la estructura y características básicas de una serie de tiempo (puntos de datos secuenciales en el tiempo).\n",
    "\n",
    "**Duración:** 1 hora (puede ajustarse según las necesidades del grupo)\n",
    "\n",
    "**Estructura de la Clase:**\n"
   ]
  },
  {
   "cell_type": "markdown",
   "metadata": {},
   "source": [
    "\n",
    "1. **Introducción (5 minutos)**\n",
    "   - Presentación del tema y los objetivos de la clase.\n",
    "   - Resaltar la importancia del análisis de series de tiempo en diversas áreas de investigación y aplicaciones prácticas.\n"
   ]
  },
  {
   "cell_type": "markdown",
   "metadata": {},
   "source": [
    "\n",
    "2. **¿Qué son las series de tiempo? (10 minutos)**\n",
    "   - Definición de series de tiempo y su diferencia con otros tipos de datos.\n",
    "   - Ejemplos de datos que pueden representarse como series de tiempo.\n"
   ]
  },
  {
   "cell_type": "markdown",
   "metadata": {},
   "source": [
    "\n",
    "3. **Estructura de una serie de tiempo (10 minutos)**\n",
    "   - Explicación de la estructura básica de una serie de tiempo: puntos de datos secuenciales en el tiempo.\n",
    "   - Discusión sobre la periodicidad y la frecuencia de muestreo.\n"
   ]
  },
  {
   "cell_type": "markdown",
   "metadata": {},
   "source": [
    "\n",
    "4. **Visualización de series de tiempo (10 minutos)**\n",
    "   - Uso de gráficos de líneas para representar series de tiempo en Python con Pandas y Matplotlib.\n",
    "   - Mostrar ejemplos de diferentes tipos de series de tiempo y patrones que pueden observarse.\n"
   ]
  },
  {
   "cell_type": "markdown",
   "metadata": {},
   "source": [
    "\n",
    "5. **Tendencias y estacionalidad (15 minutos)**\n",
    "   - Identificación de tendencias y patrones estacionales en las series de tiempo.\n",
    "   - Discusión sobre cómo detectar y modelar estas componentes.\n"
   ]
  },
  {
   "cell_type": "markdown",
   "metadata": {},
   "source": [
    "\n",
    "6. **Análisis exploratorio de series de tiempo (10 minutos)**\n",
    "   - Realización de un análisis básico de una serie de tiempo proporcionada por el instructor.\n",
    "   - Cálculo de estadísticas descriptivas y visualización de las características clave.\n"
   ]
  },
  {
   "cell_type": "markdown",
   "metadata": {},
   "source": [
    "\n",
    "7. **Importancia del preprocesamiento (5 minutos)**\n",
    "   - Resaltar la relevancia del preprocesamiento en el análisis de series de tiempo.\n",
    "   - Discusión sobre la limpieza de datos faltantes y la detección de valores atípicos.\n"
   ]
  },
  {
   "cell_type": "markdown",
   "metadata": {},
   "source": [
    "\n",
    "8. **Modelado y pronóstico (10 minutos)**\n",
    "   - Introducción a los modelos de series de tiempo clásicos, como el modelo ARIMA.\n",
    "   - Breve mención sobre técnicas de pronóstico y validación de modelos.\n"
   ]
  },
  {
   "cell_type": "markdown",
   "metadata": {},
   "source": [
    "\n",
    "9. **Aplicaciones prácticas (5 minutos)**\n",
    "   - Ejemplos de casos reales donde el análisis de series de tiempo ha sido crucial para la toma de decisiones o la investigación.\n"
   ]
  },
  {
   "cell_type": "markdown",
   "metadata": {},
   "source": [
    "\n",
    "10. **Preguntas y discusión (10 minutos)**\n",
    "   - Tiempo para que los participantes hagan preguntas, expresen inquietudes y compartan sus ideas sobre el tema.\n"
   ]
  },
  {
   "cell_type": "markdown",
   "metadata": {},
   "source": [
    "\n",
    "**Tareas de la Clase (10 puntos):**\n",
    "\n",
    "1. Investigar y recopilar ejemplos de datos de series de tiempo en su campo de estudio o interés personal. Tome ejemplos de series de tiempo [aquí](https://github.com/marco-canas/7_didactica_ciencia_datos/tree/main/3_datasets/antioquia_mira_su_cielo)\n"
   ]
  },
  {
   "cell_type": "markdown",
   "metadata": {},
   "source": [
    "\n",
    "2. Utilizar Pandas y Matplotlib para crear gráficos de líneas que representen diferentes series de tiempo proporcionadas por el instructor.\n"
   ]
  },
  {
   "cell_type": "markdown",
   "metadata": {},
   "source": [
    "\n",
    "3. Analizar una serie de tiempo proporcionada, identificando tendencias y patrones estacionales.\n"
   ]
  },
  {
   "cell_type": "markdown",
   "metadata": {},
   "source": [
    "\n",
    "4. Preparar un conjunto de datos de series de tiempo, abordando problemas de datos faltantes y valores atípicos.\n"
   ]
  },
  {
   "cell_type": "markdown",
   "metadata": {},
   "source": [
    "\n",
    "5. Investigar y describir la importancia de mantener una frecuencia de muestreo constante en las series de tiempo.\n"
   ]
  },
  {
   "cell_type": "markdown",
   "metadata": {},
   "source": [
    "\n",
    "6. Explorar técnicas para detectar cambios de tendencia o estacionalidad en series de tiempo.\n"
   ]
  },
  {
   "cell_type": "markdown",
   "metadata": {},
   "source": [
    "\n",
    "7. Realizar un pronóstico básico utilizando un modelo ARIMA para una serie de tiempo dada.\n"
   ]
  },
  {
   "cell_type": "markdown",
   "metadata": {},
   "source": [
    "\n",
    "8. Investigar cómo se han aplicado las series de tiempo en su área de investigación específica.\n"
   ]
  },
  {
   "cell_type": "markdown",
   "metadata": {},
   "source": [
    "\n",
    "9. Diseñar una presentación o informe que resuma los conceptos clave aprendidos en la clase.\n"
   ]
  },
  {
   "cell_type": "markdown",
   "metadata": {},
   "source": [
    "\n",
    "10. Participar en una discusión en grupo sobre las aplicaciones prácticas de las series de tiempo y cómo pueden mejorar la investigación y la toma de decisiones en diferentes campos."
   ]
  },
  {
   "cell_type": "markdown",
   "metadata": {},
   "source": [
    "# Desarrollo del seminario sobre Time Series\n",
    "\n"
   ]
  },
  {
   "cell_type": "markdown",
   "metadata": {},
   "source": [
    "1. **Introducción (5 minutos)**\n",
    "   - Presentación del tema y los objetivos de la clase.\n",
    "   - Resaltar la importancia del análisis de series de tiempo en diversas áreas de investigación y aplicaciones prácticas."
   ]
  },
  {
   "cell_type": "markdown",
   "metadata": {},
   "source": [
    "#### Pregunta utilizada en la búsqueda en chatGPT: \n",
    "\n",
    "dame la introducción a un seminario sobre series de tiempo en análisis de datos según wes mckinney donde Presente el tema y los objetivos de la clase y Resalte la importancia del análisis de series de tiempo en diversas áreas de investigación y aplicaciones prácticas."
   ]
  },
  {
   "cell_type": "markdown",
   "metadata": {},
   "source": [
    "**Introducción a un Seminario sobre Series de Tiempo en Análisis de Datos** (Janis)\n",
    "\n",
    "Bienvenidos a este seminario sobre Series de Tiempo en Análisis de Datos, donde exploraremos un emocionante y poderoso concepto en el mundo del análisis de datos: las series de tiempo. En esta sesión, aprenderemos cómo las series de tiempo nos permiten desentrañar patrones ocultos y revelar tendencias vitales en datos temporales, y cómo esta herramienta tiene un papel fundamental en diversas áreas de investigación y aplicaciones prácticas.\n"
   ]
  },
  {
   "cell_type": "markdown",
   "metadata": {},
   "source": [
    "\n",
    "**Tema y Objetivos de la Clase**\n",
    "\n",
    "El tema central de esta seminario es el estudio de las Series de Tiempo, que consisten en secuencias ordenadas de datos en función del tiempo. Nuestro objetivo principal es que, al finalizar esta sesión, todos ustedes se familiaricen con el concepto de series de tiempo, comprendan su importancia en el análisis de datos temporales y se sientan capacitados para aplicar técnicas de análisis y modelado en diversas áreas.\n"
   ]
  },
  {
   "cell_type": "markdown",
   "metadata": {},
   "source": [
    "\n",
    "Durante este seminario, exploraremos las principales herramientas y técnicas utilizadas para trabajar con datos de series de tiempo, incluyendo el análisis exploratorio, descomposición, pronóstico y modelado. Adicionalmente, nos enfocaremos en la aplicación de estas técnicas utilizando la biblioteca Pandas, creada por el reconocido autor Wes McKinney, para manipular y visualizar datos de series de tiempo en Python de manera eficiente y efectiva.\n"
   ]
  },
  {
   "cell_type": "markdown",
   "metadata": {},
   "source": [
    "\n",
    "**La Importancia del Análisis de Series de Tiempo**\n"
   ]
  },
  {
   "cell_type": "markdown",
   "metadata": {},
   "source": [
    "\n",
    "El análisis de series de tiempo desempeña un papel esencial en diversas áreas de investigación y aplicaciones prácticas. En campos como la economía, las finanzas y el marketing, el análisis de series de tiempo permite comprender y predecir tendencias económicas, pronosticar precios de acciones y evaluar el rendimiento de campañas publicitarias.\n"
   ]
  },
  {
   "cell_type": "markdown",
   "metadata": {},
   "source": [
    "\n",
    "En el ámbito de la meteorología y la climatología, el análisis de series de tiempo es crucial para modelar y prever patrones climáticos, permitiéndonos tomar decisiones informadas sobre eventos climáticos extremos y el cambio climático.\n"
   ]
  },
  {
   "cell_type": "markdown",
   "metadata": {},
   "source": [
    "\n",
    "En la medicina, el análisis de series de tiempo es empleado para identificar patrones de enfermedades, evaluar la eficacia de tratamientos y predecir brotes epidémicos.\n"
   ]
  },
  {
   "cell_type": "markdown",
   "metadata": {},
   "source": [
    "\n",
    "Además, en áreas como la industria manufacturera, la logística y la demanda de productos, el análisis de series de tiempo es una herramienta esencial para optimizar inventarios, mejorar procesos y planificar la producción de manera más eficiente.\n"
   ]
  },
  {
   "cell_type": "markdown",
   "metadata": {},
   "source": [
    "\n",
    "En resumen, **el análisis de series de tiempo** es una habilidad fundamental que nos permite entender y tomar decisiones informadas en diversos campos. "
   ]
  },
  {
   "cell_type": "markdown",
   "metadata": {},
   "source": [
    "2. **¿Qué son las series de tiempo? (10 minutos)**(Marco)\n",
    "   - Definición de series de tiempo y su diferencia con otros tipos de datos.\n",
    "   - Ejemplos de datos que pueden representarse como series de tiempo."
   ]
  },
  {
   "cell_type": "markdown",
   "metadata": {},
   "source": [
    "Las series de tiempo en análisis de datos, según Wes McKinney, se refieren a una secuencia de datos observados en diferentes puntos en el tiempo, generalmente en intervalos regulares o irregulares. Cada punto de datos en una serie de tiempo está asociado con una marca de tiempo específica, lo que permite analizar cómo una variable cambia y se desarrolla a lo largo del tiempo.\n"
   ]
  },
  {
   "cell_type": "markdown",
   "metadata": {},
   "source": [
    "\n",
    "**Definición de series de tiempo:**\n",
    "Una serie de tiempo es una colección de observaciones ordenadas cronológicamente, donde cada observación corresponde a un momento específico en el tiempo. Es decir, es una secuencia de datos temporales que se recopilan en intervalos regulares o irregulares y se utilizan para analizar y modelar patrones y tendencias que ocurren a lo largo del tiempo.\n"
   ]
  },
  {
   "cell_type": "markdown",
   "metadata": {},
   "source": [
    "\n",
    "**Diferencia con otros tipos de datos:**\n",
    "La principal diferencia entre las series de tiempo y otros tipos de datos es la naturaleza temporal de las observaciones. Mientras que en otros tipos de datos, como datos transversales (cross-sectional data), las observaciones se recopilan en un solo punto en el tiempo y no se considera el orden temporal, en las series de tiempo, el tiempo es una dimensión esencial en el análisis. Esto significa que los datos de series de tiempo tienen una estructura secuencial en función del tiempo, lo que permite identificar patrones y tendencias a lo largo de este período.\n"
   ]
  },
  {
   "cell_type": "markdown",
   "metadata": {},
   "source": [
    "\n",
    "**Ejemplos de datos que pueden representarse como series de tiempo:**\n",
    "1. **Datos climáticos:** Temperatura diaria registrada en una ubicación específica a lo largo de varios meses o años.\n",
    "2. **Datos financieros:** Precios diarios de acciones en la bolsa de valores a lo largo del tiempo.\n",
    "3. **Datos económicos:** PIB trimestral de un país durante varios años.\n",
    "4. **Datos de tráfico:** Número de vehículos que pasan por un punto de control en una carretera a diferentes horas del día o días de la semana.\n",
    "5. **Datos de ventas:** Cantidad de productos vendidos por una empresa en intervalos de tiempo específicos.\n",
    "6. **Datos de salud:** Niveles de glucosa en la sangre de un paciente medidos a diferentes horas del día durante un período prolongado.\n",
    "7. **Datos de redes sociales:** Número de publicaciones realizadas en una plataforma social en diferentes momentos del día.\n",
    "\n",
    "En resumen, las series de tiempo son fundamentales en el análisis de datos para estudiar y comprender cómo ciertas variables cambian y se desarrollan a lo largo del tiempo. Esta comprensión permite pronosticar, tomar decisiones informadas y obtener información valiosa en diversas áreas, desde la economía y las finanzas hasta la medicina y la meteorología. La capacidad de identificar patrones y tendencias temporales es esencial para muchas aplicaciones prácticas y de investigación en el mundo actual de los datos."
   ]
  },
  {
   "cell_type": "markdown",
   "metadata": {},
   "source": [
    "3. **Estructura de una serie de tiempo (10 minutos)**\n",
    "   - Explicación de la estructura básica de una serie de tiempo: puntos de datos secuenciales en el tiempo.\n",
    "   - Discusión sobre la periodicidad y la frecuencia de muestreo."
   ]
  },
  {
   "cell_type": "markdown",
   "metadata": {},
   "source": [
    "\n",
    "**Estructura básica de una serie de tiempo:**\n",
    "\n",
    "Una serie de tiempo es una secuencia de datos ordenados cronológicamente a intervalos regulares. Cada punto de datos en la serie está asociado con un momento específico en el tiempo. Estos puntos de datos pueden representar cualquier tipo de medida, como ventas diarias, temperatura horaria, precios semanales de acciones, etc.\n"
   ]
  },
  {
   "cell_type": "markdown",
   "metadata": {},
   "source": [
    "\n",
    "Por ejemplo, si estuviéramos analizando la temperatura diaria de una ciudad en particular durante un año, tendríamos una serie de tiempo con 365 puntos de datos, cada uno representando la temperatura para un día específico.\n"
   ]
  },
  {
   "cell_type": "markdown",
   "metadata": {},
   "source": [
    "\n",
    "**Periodicidad y frecuencia de muestreo:**\n",
    "\n",
    "La periodicidad en una serie de tiempo se refiere al patrón recurrente o ciclos que se pueden observar en los datos a lo largo del tiempo. Por ejemplo, los datos pueden mostrar patrones estacionales, como aumentos de ventas en ciertas temporadas del año o fluctuaciones en la temperatura debido a las estaciones.\n"
   ]
  },
  {
   "cell_type": "markdown",
   "metadata": {},
   "source": [
    "\n",
    "La frecuencia de muestreo se refiere a la frecuencia con la que se recopilan los datos en la serie de tiempo. Puede ser diaria, semanal, mensual, anual, u otra. La elección de la frecuencia de muestreo depende de la naturaleza del fenómeno que se esté analizando y del propósito del análisis.\n"
   ]
  },
  {
   "cell_type": "markdown",
   "metadata": {},
   "source": [
    "\n",
    "Una frecuencia de muestreo más alta, como datos diarios o incluso horarios, permite capturar cambios y patrones más detallados, pero también puede generar una gran cantidad de datos. Una frecuencia más baja, como datos mensuales o anuales, ofrece una visión más general del comportamiento de la serie de tiempo, pero puede perder algunos detalles importantes.\n"
   ]
  },
  {
   "cell_type": "markdown",
   "metadata": {},
   "source": [
    "\n",
    "En resumen, una serie de tiempo tiene una estructura básica de puntos de datos secuenciales en el tiempo. La periodicidad y la frecuencia de muestreo juegan un papel crucial en el análisis y comprensión de la serie, permitiendo identificar patrones y tendencias que pueden ser valiosos para la toma de decisiones y pronósticos."
   ]
  },
  {
   "cell_type": "markdown",
   "metadata": {},
   "source": [
    "4. **Visualización de series de tiempo (10 minutos)**\n",
    "   - Uso de gráficos de líneas para representar series de tiempo en Python con Pandas y Matplotlib.\n",
    "   - Mostrar ejemplos de diferentes tipos de series de tiempo y patrones que pueden observarse.\n"
   ]
  },
  {
   "cell_type": "markdown",
   "metadata": {},
   "source": [
    "La visualización de series de tiempo es una parte fundamental del análisis exploratorio de datos para comprender patrones, tendencias y anomalías en los datos a lo largo del tiempo. Python ofrece diversas bibliotecas, como Pandas y Matplotlib, que facilitan la creación de gráficos de líneas para representar y visualizar series de tiempo de manera efectiva.\n"
   ]
  },
  {
   "cell_type": "markdown",
   "metadata": {},
   "source": [
    "\n",
    "**Uso de gráficos de líneas para representar series de tiempo en Python con Pandas y Matplotlib:**\n"
   ]
  },
  {
   "cell_type": "markdown",
   "metadata": {},
   "source": [
    "\n",
    "Pandas es una biblioteca popular para el análisis de datos en Python y proporciona una estructura de datos llamada DataFrame que es especialmente útil para trabajar con series de tiempo. Matplotlib, por otro lado, es una biblioteca de visualización que permite crear diversos tipos de gráficos, incluyendo gráficos de líneas.\n",
    "\n",
    "Aquí hay un ejemplo de cómo visualizar una serie de tiempo utilizando Pandas y Matplotlib:\n"
   ]
  },
  {
   "cell_type": "code",
   "execution_count": 2,
   "metadata": {},
   "outputs": [
    {
     "data": {
      "image/png": "[encoded data removed]",
      "text/plain": [
       "<Figure size 1000x600 with 1 Axes>"
      ]
     },
     "metadata": {},
     "output_type": "display_data"
    }
   ],
   "source": [
    "import pandas as pd\n",
    "import matplotlib.pyplot as plt\n",
    "\n",
    "# Crear un DataFrame con una serie de tiempo\n",
    "data = {\n",
    "    'Fecha': pd.date_range(start='2023-01-01', periods=10, freq='M'),\n",
    "    'Valor': [100, 120, 140, 110, 130, 160, 170, 150, 180, 200]\n",
    "}\n",
    "df = pd.DataFrame(data)\n",
    "\n",
    "# Establecer la columna 'Fecha' como el índice del DataFrame\n",
    "df.set_index('Fecha', inplace=True)\n",
    "\n",
    "# Crear un gráfico de línea para la serie de tiempo\n",
    "plt.figure(figsize=(10, 6))\n",
    "plt.plot(df.index, df['Valor'], marker='o', linestyle='-')\n",
    "plt.xlabel('Fecha')\n",
    "plt.ylabel('Valor')\n",
    "plt.title('Ejemplo de visualización de serie de tiempo')\n",
    "plt.grid(True)\n",
    "plt.show()\n"
   ]
  },
  {
   "cell_type": "markdown",
   "metadata": {},
   "source": [
    "\n",
    "\n",
    "**Ejemplos de diferentes tipos de series de tiempo y patrones que pueden observarse:**\n"
   ]
  },
  {
   "cell_type": "markdown",
   "metadata": {},
   "source": [
    "\n",
    "1. **Serie de tiempo con tendencia:** Una serie de tiempo puede mostrar una tendencia ascendente o descendente a lo largo del tiempo. Por ejemplo, el aumento gradual de los precios de una acción durante varios años.\n"
   ]
  },
  {
   "cell_type": "markdown",
   "metadata": {},
   "source": [
    "\n",
    "2. **Serie de tiempo estacional:** Se refiere a patrones que se repiten en un ciclo regular, como los patrones estacionales en las ventas minoristas que aumentan durante las festividades.\n",
    "\n",
    "3. **Serie de tiempo cíclica:** A diferencia de la estacionalidad, los patrones cíclicos no tienen una frecuencia fija y pueden ser más irregulares, como las fluctuaciones económicas a lo largo de varios años.\n",
    "\n",
    "4. **Serie de tiempo con ruido:** A veces, los datos de una serie de tiempo pueden contener ruido o fluctuaciones aleatorias que dificultan la identificación de patrones claros.\n",
    "\n",
    "5. **Serie de tiempo con eventos anómalos:** Pueden ocurrir eventos excepcionales que generan valores atípicos en la serie de tiempo, como un pico en las ventas debido a una promoción especial.\n",
    "\n",
    "6. **Serie de tiempo estacionaria:** Una serie de tiempo se considera estacionaria cuando su media y varianza no cambian significativamente a lo largo del tiempo, lo que facilita el análisis y la predicción.\n"
   ]
  },
  {
   "cell_type": "markdown",
   "metadata": {},
   "source": [
    "\n",
    "Estos son solo algunos ejemplos de los tipos de series de tiempo y patrones que se pueden observar. La visualización adecuada de estos datos puede proporcionar información valiosa para la toma de decisiones y análisis más profundos."
   ]
  },
  {
   "cell_type": "markdown",
   "metadata": {},
   "source": [
    "# 5. Tendencias y estacionalidad (15 minutos)\n",
    "   - Identificación de tendencias y patrones estacionales en las series de tiempo.\n",
    "   - Discusión sobre cómo detectar y modelar estas componentes.\n"
   ]
  },
  {
   "cell_type": "markdown",
   "metadata": {},
   "source": [
    "**Tendencias y estacionalidad en series de tiempo:**\n",
    "\n",
    "**1. Identificación de tendencias y patrones estacionales en las series de tiempo:**\n"
   ]
  },
  {
   "cell_type": "markdown",
   "metadata": {},
   "source": [
    "\n",
    "Las tendencias y patrones estacionales son dos componentes importantes que pueden estar presentes en una serie de tiempo y que a menudo influyen en su comportamiento a lo largo del tiempo.\n",
    "\n",
    "- **Tendencias:** Una tendencia en una serie de tiempo se refiere a una dirección general y persistente en los datos a medida que aumentan o disminuyen a lo largo del tiempo. Puede ser ascendente (crecimiento), descendente (decrecimiento) o incluso lineal (sin cambios). Las tendencias pueden surgir debido a factores económicos, sociales o demográficos que influyen en el fenómeno que se está observando.\n",
    "\n",
    "- **Patrones estacionales:** Los patrones estacionales son variaciones regulares y predecibles que ocurren en una serie de tiempo dentro de un período específico, como estaciones del año, meses, semanas o incluso días. Estos patrones se repiten a lo largo del tiempo y pueden estar influenciados por factores climáticos, culturales o económicos que generan ciclos regulares en los datos.\n",
    "\n",
    "**2. Detectar y modelar tendencias y patrones estacionales en series de tiempo:**\n",
    "\n",
    "Detectar y modelar tendencias y patrones estacionales en una serie de tiempo es fundamental para comprender su comportamiento y realizar pronósticos precisos. Aquí hay algunas técnicas comunes para identificar y modelar estas componentes:\n",
    "\n",
    "- **Gráficos de líneas y descomposición:** Un enfoque inicial para identificar tendencias y patrones estacionales es utilizar gráficos de líneas para visualizar la serie de tiempo. A menudo, la presencia de una tendencia o un patrón estacional es visible en el gráfico. Además, la descomposición de series de tiempo, que separa los datos en sus componentes de tendencia, estacionalidad y residuos (componente aleatoria), puede ser útil para una comprensión más profunda.\n",
    "\n",
    "- **Media móvil:** El cálculo de la media móvil es una técnica que suaviza la serie de tiempo al calcular promedios de datos en intervalos específicos. La media móvil puede ayudar a identificar tendencias al eliminar el ruido y mostrar el comportamiento general de los datos.\n",
    "\n",
    "- **Diferenciación:** Si se detecta una tendencia en la serie de tiempo, la diferenciación puede utilizarse para eliminarla. La diferenciación consiste en calcular la diferencia entre valores consecutivos, lo que puede hacer que la serie sea estacionaria y más adecuada para el análisis.\n",
    "\n",
    "- **Análisis de estacionalidad:** El análisis de estacionalidad implica calcular la variación promedio en diferentes períodos de tiempo (por ejemplo, estacionalidad mensual o estacionalidad diaria) y evaluar si hay un patrón repetitivo en ciertos momentos.\n",
    "\n",
    "- **Modelos estadísticos avanzados:** Para una modelización más precisa, se pueden utilizar modelos estadísticos como ARIMA (Autoregressive Integrated Moving Average) o modelos de suavizado exponencial. Estos modelos tienen en cuenta tanto la tendencia como la estacionalidad, lo que permite realizar pronósticos más precisos.\n",
    "\n",
    "Es importante tener en cuenta que cada serie de tiempo es única, y no siempre habrá una tendencia o patrón estacional claramente definido. La exploración y el análisis cuidadosos de los datos son esenciales para determinar qué técnicas son más adecuadas para modelar y entender las componentes de una serie de tiempo específica."
   ]
  },
  {
   "cell_type": "markdown",
   "metadata": {},
   "source": []
  },
  {
   "cell_type": "markdown",
   "metadata": {},
   "source": []
  },
  {
   "cell_type": "code",
   "execution_count": null,
   "metadata": {},
   "outputs": [],
   "source": []
  },
  {
   "cell_type": "code",
   "execution_count": null,
   "metadata": {},
   "outputs": [],
   "source": []
  },
  {
   "attachments": {},
   "cell_type": "markdown",
   "metadata": {},
   "source": [
    "## La clase para manipular series de tiempo"
   ]
  },
  {
   "attachments": {},
   "cell_type": "markdown",
   "metadata": {},
   "source": [
    "Claro, aquí tienes un desarrollo básico de la clase sobre conceptos fundamentales de series de tiempo utilizando Python y algunas de sus bibliotecas, como Pandas, Matplotlib y Statsmodels para el modelado ARIMA:\n"
   ]
  },
  {
   "cell_type": "code",
   "execution_count": 1,
   "metadata": {},
   "outputs": [],
   "source": [
    "\n",
    "\n",
    "import pandas as pd\n",
    "import matplotlib.pyplot as plt\n",
    "import statsmodels.api as sm\n"
   ]
  },
  {
   "cell_type": "code",
   "execution_count": null,
   "metadata": {},
   "outputs": [],
   "source": [
    "\n",
    "class ClaseSeriesTiempo:\n",
    "    def __init__(self, data_file):\n",
    "        self.data_file = data_file\n",
    "\n",
    "    def load_data(self):\n",
    "        # Cargar los datos de series de tiempo desde un archivo CSV u otra fuente.\n",
    "        self.series_data = pd.read_csv(self.data_file, parse_dates=['Fecha'], index_col='Fecha')\n",
    "\n",
    "    def visualize_time_series(self):\n",
    "        # Visualizar la serie de tiempo con un gráfico de líneas.\n",
    "        plt.figure(figsize=(10, 6))\n",
    "        plt.plot(self.series_data.index, self.series_data['Valor'], color='blue')\n",
    "        plt.title('Serie de Tiempo')\n",
    "        plt.xlabel('Fecha')\n",
    "        plt.ylabel('Valor')\n",
    "        plt.grid(True)\n",
    "        plt.show()\n",
    "\n",
    "    def explore_trends_seasonality(self):\n",
    "        # Identificar tendencias y patrones estacionales en la serie de tiempo.\n",
    "        decomposition = sm.tsa.seasonal_decompose(self.series_data['Valor'], model='additive')\n",
    "        trend = decomposition.trend\n",
    "        seasonal = decomposition.seasonal\n",
    "        residual = decomposition.resid\n",
    "\n",
    "        # Visualizar las componentes de la descomposición.\n",
    "        plt.figure(figsize=(10, 8))\n",
    "        plt.subplot(4, 1, 1)\n",
    "        plt.plot(self.series_data['Valor'], label='Serie Original')\n",
    "        plt.legend(loc='best')\n",
    "        plt.subplot(4, 1, 2)\n",
    "        plt.plot(trend, label='Tendencia')\n",
    "        plt.legend(loc='best')\n",
    "        plt.subplot(4, 1, 3)\n",
    "        plt.plot(seasonal, label='Estacionalidad')\n",
    "        plt.legend(loc='best')\n",
    "        plt.subplot(4, 1, 4)\n",
    "        plt.plot(residual, label='Residual')\n",
    "        plt.legend(loc='best')\n",
    "        plt.tight_layout()\n",
    "        plt.show()\n",
    "\n",
    "    def basic_analysis(self):\n",
    "        # Realizar un análisis básico de la serie de tiempo.\n",
    "        statistics = self.series_data.describe()\n",
    "        print(statistics)\n",
    "\n",
    "    def preprocess_data(self):\n",
    "        # Preprocesar la serie de tiempo para manejar datos faltantes o valores atípicos.\n",
    "        self.series_data = self.series_data.dropna()  # Eliminar filas con datos faltantes.\n",
    "        # Realizar otras técnicas de preprocesamiento según sea necesario.\n",
    "\n",
    "    def model_arima(self):\n",
    "        # Ajustar un modelo ARIMA a la serie de tiempo.\n",
    "        model = sm.tsa.ARIMA(self.series_data['Valor'], order=(1, 1, 1))\n",
    "        results = model.fit()\n",
    "        print(results.summary())\n",
    "\n",
    "    def run(self):\n",
    "        self.load_data()\n",
    "        self.preprocess_data()\n",
    "        self.visualize_time_series()\n",
    "        self.explore_trends_seasonality()\n",
    "        self.basic_analysis()\n",
    "        self.model_arima()\n"
   ]
  },
  {
   "cell_type": "code",
   "execution_count": null,
   "metadata": {},
   "outputs": [],
   "source": [
    "\n",
    "# Uso de la clase para un conjunto de datos de ejemplo\n",
    "if __name__ == \"__main__\":\n",
    "    data_file = \"datos_series_tiempo.csv\"  # Reemplazar con el nombre del archivo CSV que contiene los datos\n",
    "    clase_series_tiempo = ClaseSeriesTiempo(data_file)\n",
    "    clase_series_tiempo.run()\n",
    "\n"
   ]
  },
  {
   "cell_type": "markdown",
   "metadata": {},
   "source": [
    "\n",
    "Este código representa una clase básica para enseñar conceptos fundamentales de series de tiempo utilizando Python. Puedes adaptar y expandir este código según las necesidades específicas de tu clase y los datos que desees utilizar. Recuerda proporcionar un archivo CSV (o la fuente de datos que prefieras) con una columna \"Fecha\" y otra columna \"Valor\" que contenga los puntos de datos secuenciales en el tiempo."
   ]
  },
  {
   "cell_type": "code",
   "execution_count": null,
   "metadata": {},
   "outputs": [],
   "source": []
  },
  {
   "cell_type": "code",
   "execution_count": null,
   "metadata": {},
   "outputs": [],
   "source": []
  },
  {
   "attachments": {},
   "cell_type": "markdown",
   "metadata": {},
   "source": [
    "# La clase Conceptos fundamentales de series de tiempo: \n",
    "\n",
    "donde se familiarice, al joven investigador, con el concepto de series de tiempo y su importancia en el análisis de datos temporales y comprenda la estructura y las características básicas de una serie de tiempo (puntos de datos secuenciales en el tiempo)."
   ]
  },
  {
   "attachments": {},
   "cell_type": "markdown",
   "metadata": {},
   "source": [
    "Por supuesto, aquí tienes una clase con sus actividades de enseñanza sobre conceptos fundamentales de series de tiempo utilizando Python:\n"
   ]
  },
  {
   "cell_type": "code",
   "execution_count": null,
   "metadata": {},
   "outputs": [],
   "source": [
    "\n",
    "import pandas as pd\n",
    "import matplotlib.pyplot as plt\n",
    "\n",
    "class ClaseSeriesTiempo:\n",
    "    def __init__(self, data_file):\n",
    "        self.data_file = data_file\n",
    "\n",
    "    def load_data(self):\n",
    "        # Cargar los datos de series de tiempo desde un archivo CSV u otra fuente.\n",
    "        self.series_data = pd.read_csv(self.data_file, parse_dates=['Fecha'], index_col='Fecha')\n",
    "\n",
    "    def visualize_time_series(self):\n",
    "        # Visualizar la serie de tiempo con un gráfico de líneas.\n",
    "        plt.figure(figsize=(10, 6))\n",
    "        plt.plot(self.series_data.index, self.series_data['Valor'], color='blue')\n",
    "        plt.title('Serie de Tiempo')\n",
    "        plt.xlabel('Fecha')\n",
    "        plt.ylabel('Valor')\n",
    "        plt.grid(True)\n",
    "        plt.show()\n",
    "\n",
    "    def explore_structure(self):\n",
    "        # Imprimir la estructura básica de la serie de tiempo.\n",
    "        print(\"Estructura de la Serie de Tiempo:\")\n",
    "        print(self.series_data.head())\n",
    "\n",
    "        # Imprimir información sobre el índice de tiempo.\n",
    "        print(\"\\nInformación del índice de tiempo:\")\n",
    "        print(self.series_data.index)\n",
    "\n",
    "        # Imprimir información sobre los valores de la serie de tiempo.\n",
    "        print(\"\\nInformación de los valores:\")\n",
    "        print(self.series_data['Valor'].describe())\n",
    "\n",
    "    def detect_missing_values(self):\n",
    "        # Detectar y mostrar los datos faltantes en la serie de tiempo.\n",
    "        missing_values = self.series_data.isnull().sum()\n",
    "        print(\"\\nDatos faltantes en la serie de tiempo:\")\n",
    "        print(missing_values)\n",
    "\n",
    "    def calculate_statistics(self):\n",
    "        # Calcular estadísticas básicas de la serie de tiempo.\n",
    "        statistics = self.series_data.describe()\n",
    "        print(\"\\nEstadísticas de la Serie de Tiempo:\")\n",
    "        print(statistics)\n",
    "\n",
    "    def identify_trends_seasonality(self):\n",
    "        # Identificar tendencias y patrones estacionales en la serie de tiempo.\n",
    "        # Aquí puedes utilizar técnicas más avanzadas de análisis de series de tiempo si lo deseas.\n",
    "\n",
    "        pass\n",
    "\n",
    "    def preprocessing_data(self):\n",
    "        # Preprocesar la serie de tiempo para manejar datos faltantes o valores atípicos.\n",
    "        # Aquí puedes aplicar técnicas específicas de preprocesamiento, como interpolación o suavizado.\n",
    "\n",
    "        pass\n",
    "\n",
    "    def create_task_activities(self):\n",
    "        # Actividades de tarea para los estudiantes.\n",
    "\n",
    "        tasks = [\n",
    "            \"1. Cargar la serie de tiempo desde el archivo CSV y mostrar las primeras filas de datos.\",\n",
    "            \"2. Visualizar la serie de tiempo usando un gráfico de líneas.\",\n",
    "            \"3. Calcular estadísticas descriptivas básicas de la serie de tiempo.\",\n",
    "            \"4. Identificar y mostrar datos faltantes en la serie de tiempo.\",\n",
    "            \"5. Investigar cómo se podrían manejar los datos faltantes y aplicar una estrategia de imputación.\",\n",
    "            \"6. Realizar una descomposición de la serie de tiempo para identificar tendencias y estacionalidad.\",\n",
    "            \"7. Preprocesar la serie de tiempo para manejar valores atípicos utilizando técnicas de suavizado.\",\n",
    "            \"8. Ajustar un modelo ARIMA a la serie de tiempo y realizar pronósticos a corto plazo.\",\n",
    "            \"9. Investigar y discutir aplicaciones prácticas de análisis de series de tiempo en su área de interés.\",\n",
    "            \"10. Preparar una presentación sobre el análisis de la serie de tiempo utilizando Python.\"\n",
    "        ]\n",
    "\n",
    "        return tasks\n",
    "\n",
    "    def run(self):\n",
    "        self.load_data()\n",
    "        self.visualize_time_series()\n",
    "        self.explore_structure()\n",
    "        self.detect_missing_values()\n",
    "        self.calculate_statistics()\n",
    "        self.identify_trends_seasonality()\n",
    "        self.preprocessing_data()\n",
    "\n",
    "        tasks = self.create_task_activities()\n",
    "        print(\"\\nActividades de Tarea:\")\n",
    "        for task in tasks:\n",
    "            print(task)\n",
    "\n",
    "# Uso de la clase para un conjunto de datos de ejemplo\n",
    "if __name__ == \"__main__\":\n",
    "    data_file = \"datos_series_tiempo.csv\"  # Reemplazar con el nombre del archivo CSV que contiene los datos\n",
    "    clase_series_tiempo = ClaseSeriesTiempo(data_file)\n",
    "    clase_series_tiempo.run()\n"
   ]
  },
  {
   "cell_type": "markdown",
   "metadata": {},
   "source": [
    "En este código, la clase `ClaseSeriesTiempo` presenta varios métodos para cargar, visualizar, explorar y analizar datos de series de tiempo, utilizando el lenguaje de programación Python y las bibliotecas Pandas y Matplotlib. "
   ]
  },
  {
   "cell_type": "markdown",
   "metadata": {},
   "source": [
    "Las actividades de tarea se generan en la función \"create_task_activities()\" y se muestran al final de la clase para que los estudiantes las realicen después de aprender los conceptos fundamentales. Ten en cuenta que las actividades de tarea son solo ejemplos, y puedes personalizarlas según las necesidades y los objetivos de tu clase. Además, algunos métodos como \"identify_trends_seasonality()\" y \"preprocessing_data()\" se definen con el comando \"pass\" para indicar que se pueden agregar técnicas de análisis más avanzadas si así se desea."
   ]
  },
  {
   "cell_type": "markdown",
   "metadata": {},
   "source": [
    "# 11.2 Time Series Basics"
   ]
  },
  {
   "cell_type": "markdown",
   "metadata": {},
   "source": [
    "# CHAPTER 11\n",
    "## Time Series"
   ]
  },
  {
   "cell_type": "markdown",
   "metadata": {},
   "source": [
    "Time series data is an important form of structured data in many different fields, such as finance, economics, ecology, neuroscience, and physics. "
   ]
  },
  {
   "cell_type": "markdown",
   "metadata": {},
   "source": [
    "Los datos de series temporales son una forma importante de datos estructurados en muchos campos diferentes, como \n",
    "* las finanzas, \n",
    "* la economía, \n",
    "* la ecología, \n",
    "* la neurociencia y \n",
    "* la física. "
   ]
  },
  {
   "cell_type": "markdown",
   "metadata": {},
   "source": [
    "Anything that is observed or measured at many points in time forms a time series. "
   ]
  },
  {
   "cell_type": "markdown",
   "metadata": {},
   "source": [
    "Todo lo que se observa o mide en muchos puntos en el tiempo forma una serie temporal. "
   ]
  },
  {
   "cell_type": "markdown",
   "metadata": {},
   "source": [
    "Many time series are fixed frequency, which is to say that data points occur at regular intervals according to some rule, such as every 15 seconds, every 5 minutes, or once per month. "
   ]
  },
  {
   "cell_type": "markdown",
   "metadata": {},
   "source": [
    "Time series can also be irregular without a fixed unit of time or offset between units. How you mark and refer to time series data depends on the application, and you may have one of the following:\n"
   ]
  },
  {
   "cell_type": "markdown",
   "metadata": {},
   "source": [
    "* Timestamps, specific instants in time\n",
    "* Fixed periods, such as the month January 2007 or the full year 2010\n",
    "* Intervals of time, indicated by a start and end timestamp. Periods can be thought\n",
    "of as special cases of intervals\n",
    "* Experiment or elapsed time; each timestamp is a measure of time relative to a\n",
    "particular start time (e.g., the diameter of a cookie baking each second since\n",
    "being placed in the oven)\n",
    "In this chapter, I am mainly concerned with time series in the first three categories,\n",
    "though many of the techniques can be applied to experimental time series where the\n",
    "index may be an integer or floating-point number indicating elapsed time from the\n",
    "start of the experiment. The simplest and most widely used kind of time series are\n",
    "those indexed by timestamp."
   ]
  },
  {
   "cell_type": "markdown",
   "metadata": {},
   "source": [
    "Muchas series de tiempo son de frecuencia fija, lo que quiere decir que los puntos de datos ocurren a intervalos regulares de acuerdo con alguna regla, como cada 15 segundos, cada 5 minutos o una vez al mes. "
   ]
  },
  {
   "cell_type": "markdown",
   "metadata": {},
   "source": [
    "Las series de tiempo también pueden ser irregulares sin una unidad de tiempo fija o compensación entre unidades. "
   ]
  },
  {
   "cell_type": "markdown",
   "metadata": {},
   "source": [
    "La forma en que marca y hace referencia a los datos de series temporales depende de la aplicación, y es posible que tenga uno de los siguientes:\n",
    "\n",
    "* Marcas de tiempo, instantes específicos en el tiempo\n",
    "* Períodos fijos, como el mes de enero de 2007 o el año completo de 2010\n",
    "* Intervalos de tiempo, indicados por una marca de tiempo de inicio y finalización. Los períodos se pueden considerar como casos especiales de intervalos.\n",
    "* Experimento o tiempo transcurrido; cada marca de tiempo es una medida de tiempo relativa a una hora de inicio particular (por ejemplo, el diámetro de una galleta horneada cada segundo desde que se colocó en el horno)\n"
   ]
  },
  {
   "cell_type": "markdown",
   "metadata": {},
   "source": [
    "En este capítulo, me ocupo principalmente de las series de tiempo en las tres primeras categorías, aunque muchas de las técnicas se pueden aplicar a series de tiempo experimentales donde el índice puede ser un número entero o de punto flotante que indica el tiempo transcurrido desde el comienzo del experimento. "
   ]
  },
  {
   "cell_type": "markdown",
   "metadata": {},
   "source": [
    "El tipo de serie de tiempo más simple y más utilizado es el indexado por sello de tiempo."
   ]
  },
  {
   "cell_type": "markdown",
   "metadata": {},
   "source": [
    "pandas also supports indexes based on timedeltas, which can be a useful way of representing experiment or elapsed time. We do not explore timedelta indexes in this book, but you can learn more in\n",
    "the pandas documentation.\n"
   ]
  },
  {
   "cell_type": "markdown",
   "metadata": {},
   "source": [
    "pandas provides many built-in time series tools and data algorithms. You can efficiently work with very large time series and easily slice and dice, aggregate, and resample irregular- and fixed-frequency time series. Some of these tools are especially useful for financial and economics applications, but you could certainly use them to analyze server log data, too.\n"
   ]
  },
  {
   "cell_type": "markdown",
   "metadata": {},
   "source": [
    "# 11.1 Date and Time Data Types and Tools\n",
    "The Python standard library includes data types for date and time data, as well as\n",
    "calendar-related functionality. The datetime , time , and calendar modules are the\n",
    "main places to start. The datetime.datetime type, or simply datetime , is widely\n",
    "used:"
   ]
  },
  {
   "cell_type": "code",
   "execution_count": 3,
   "metadata": {},
   "outputs": [],
   "source": [
    "from datetime import datetime"
   ]
  },
  {
   "cell_type": "markdown",
   "metadata": {},
   "source": [
    "# El módulo datetime"
   ]
  },
  {
   "cell_type": "markdown",
   "metadata": {},
   "source": [
    "El módulo `datetime` de Python es una biblioteca estándar que proporciona clases y funciones para trabajar con fechas, horas y operaciones relacionadas. Este módulo es muy útil para manejar valores de fechas y horas, realizar cálculos entre ellas y formatearlas de diversas maneras. El módulo `datetime` se encuentra en la biblioteca estándar de Python, por lo que no es necesario instalar ninguna biblioteca adicional para utilizarlo.\n"
   ]
  },
  {
   "cell_type": "markdown",
   "metadata": {},
   "source": [
    "\n",
    "El módulo `datetime` contiene varias clases principales, que incluyen:\n"
   ]
  },
  {
   "cell_type": "markdown",
   "metadata": {},
   "source": [
    "\n",
    "1. **`datetime`:** Esta es la clase principal que se utiliza para representar fechas y horas. Un objeto `datetime` tiene atributos como año, mes, día, hora, minuto, segundo y microsegundo. Puedes crear un objeto `datetime` utilizando la función `datetime()` y proporcionando los valores adecuados para cada atributo.\n"
   ]
  },
  {
   "cell_type": "markdown",
   "metadata": {},
   "source": [
    "\n",
    "2. **`date`:** Esta clase representa solo la parte de fecha (año, mes y día) y no incluye información de hora. Puedes crear un objeto `date` utilizando la función `date()` y proporcionando el año, el mes y el día.\n"
   ]
  },
  {
   "cell_type": "markdown",
   "metadata": {},
   "source": [
    "\n",
    "3. **`time`:** Esta clase representa solo la parte de hora (hora, minuto, segundo y microsegundo) y no incluye información de fecha. Puedes crear un objeto `time` utilizando la función `time()` y proporcionando la hora, el minuto, el segundo y el microsegundo.\n"
   ]
  },
  {
   "cell_type": "markdown",
   "metadata": {},
   "source": [
    "\n",
    "4. **`timedelta`:** Esta clase representa una duración o un intervalo de tiempo. Puedes utilizar objetos `timedelta` para realizar cálculos entre fechas o para agregar o restar una cierta cantidad de tiempo a una fecha.\n"
   ]
  },
  {
   "cell_type": "markdown",
   "metadata": {},
   "source": [
    "\n",
    "Además de estas clases principales, el módulo `datetime` también proporciona funciones útiles para formatear y analizar fechas y horas en diferentes formatos, como `strftime()` y `strptime()`.\n",
    "\n",
    "Veamos algunos ejemplos de uso del módulo `datetime`:\n"
   ]
  },
  {
   "cell_type": "code",
   "execution_count": 5,
   "metadata": {},
   "outputs": [],
   "source": [
    "import datetime\n",
    "\n",
    "# Crear un objeto datetime con una fecha y hora específicas\n",
    "dato = datetime.datetime(2023, 8, 1, 9, 0, 0)\n"
   ]
  },
  {
   "cell_type": "code",
   "execution_count": 6,
   "metadata": {},
   "outputs": [
    {
     "name": "stdout",
     "output_type": "stream",
     "text": [
      "2023\n"
     ]
    }
   ],
   "source": [
    "\n",
    "# Obtener el año, mes y día del objeto datetime\n",
    "print(dato.year)  # Output: 2023\n"
   ]
  },
  {
   "cell_type": "code",
   "execution_count": 8,
   "metadata": {},
   "outputs": [
    {
     "name": "stdout",
     "output_type": "stream",
     "text": [
      "8\n"
     ]
    }
   ],
   "source": [
    "print(dato.month)  # Output: 7\n"
   ]
  },
  {
   "cell_type": "code",
   "execution_count": 9,
   "metadata": {},
   "outputs": [
    {
     "name": "stdout",
     "output_type": "stream",
     "text": [
      "1\n"
     ]
    }
   ],
   "source": [
    "print(dato.day)    # Output: 27\n"
   ]
  },
  {
   "cell_type": "code",
   "execution_count": 3,
   "metadata": {},
   "outputs": [],
   "source": [
    "\n",
    "# Crear un objeto date con una fecha específica\n",
    "date_obj = datetime.date(2023, 7, 31)\n"
   ]
  },
  {
   "cell_type": "code",
   "execution_count": 4,
   "metadata": {},
   "outputs": [
    {
     "name": "stdout",
     "output_type": "stream",
     "text": [
      "0\n"
     ]
    }
   ],
   "source": [
    "\n",
    "# Obtener el día de la semana (0 = lunes, 6 = domingo)\n",
    "print(date_obj.weekday())  # Output: 3 (jueves)\n"
   ]
  },
  {
   "cell_type": "code",
   "execution_count": 5,
   "metadata": {},
   "outputs": [
    {
     "name": "stdout",
     "output_type": "stream",
     "text": [
      "2023-07-31 10:44:20.077212\n"
     ]
    }
   ],
   "source": [
    "\n",
    "# Obtener la fecha y hora actual\n",
    "now = datetime.datetime.now()\n",
    "print(now)  # Output: 2023-07-27 14:25:30.123456\n"
   ]
  },
  {
   "cell_type": "code",
   "execution_count": 6,
   "metadata": {},
   "outputs": [
    {
     "name": "stdout",
     "output_type": "stream",
     "text": [
      "7 days, 3:00:00\n"
     ]
    }
   ],
   "source": [
    "\n",
    "# Crear un objeto timedelta para representar una duración de tiempo\n",
    "delta = datetime.timedelta(days=7, hours=3)\n",
    "print(delta)  # Output: 7 days, 3:00:00\n"
   ]
  },
  {
   "cell_type": "code",
   "execution_count": 7,
   "metadata": {},
   "outputs": [
    {
     "name": "stdout",
     "output_type": "stream",
     "text": [
      "2023-08-07 13:44:20.077212\n"
     ]
    }
   ],
   "source": [
    "\n",
    "# Realizar cálculos con fechas utilizando timedelta\n",
    "next_week = now + delta\n",
    "print(next_week)  # Output: 2023-08-03 17:25:30.123456\n"
   ]
  },
  {
   "cell_type": "code",
   "execution_count": 8,
   "metadata": {},
   "outputs": [
    {
     "name": "stdout",
     "output_type": "stream",
     "text": [
      "2023-07-31 10:44:20\n"
     ]
    }
   ],
   "source": [
    "\n",
    "# Formatear una fecha en una cadena de texto\n",
    "formatted_date = now.strftime('%Y-%m-%d %H:%M:%S')\n",
    "print(formatted_date)  # Output: '2023-07-27 14:25:30'\n"
   ]
  },
  {
   "cell_type": "code",
   "execution_count": 10,
   "metadata": {},
   "outputs": [
    {
     "name": "stdout",
     "output_type": "stream",
     "text": [
      "2023-07-27 14:25:30\n"
     ]
    }
   ],
   "source": [
    "\n",
    "# Analizar una cadena de texto en un objeto datetime\n",
    "parsed_date = datetime.datetime.strptime('2023-07-27 14:25:30', '%Y-%m-%d %H:%M:%S')\n",
    "print(parsed_date)  # Output: 2023-07-27 14:25:30\n",
    "\n"
   ]
  },
  {
   "cell_type": "markdown",
   "metadata": {},
   "source": [
    "\n",
    "El módulo `datetime` es muy versátil y te permite realizar una amplia gama de operaciones con fechas y horas en Python. Es una herramienta esencial para el manejo de datos temporales en tus programas y proyectos."
   ]
  },
  {
   "cell_type": "markdown",
   "metadata": {},
   "source": [
    "## Continuemos con Wes  \n"
   ]
  },
  {
   "cell_type": "code",
   "execution_count": 1,
   "metadata": {},
   "outputs": [],
   "source": [
    "\n",
    "from datetime import datetime\n"
   ]
  },
  {
   "cell_type": "code",
   "execution_count": 2,
   "metadata": {},
   "outputs": [],
   "source": [
    "now = datetime.now()\n"
   ]
  },
  {
   "cell_type": "markdown",
   "metadata": {},
   "source": [
    "In [12]: now\n",
    "Out[12]: datetime.datetime(2017, 9, 25, 14, 5, 52, 72973)\n",
    "In [13]: now.year, now.month, now.day\n",
    "Out[13]: (2017, 9, 25)\n"
   ]
  },
  {
   "cell_type": "markdown",
   "metadata": {},
   "source": [
    "datetime stores both the date and time down to the microsecond. timedelta repre‐\n",
    "sents the temporal difference between two datetime objects:\n"
   ]
  },
  {
   "cell_type": "markdown",
   "metadata": {},
   "source": [
    "In [14]: delta = datetime(2011, 1, 7) - datetime(2008, 6, 24, 8, 15)\n",
    "In [15]: delta\n",
    "Out[15]: datetime.timedelta(926, 56700)\n",
    "In [16]: delta.days\n",
    "Out[16]: 926\n",
    "In [17]: delta.seconds\n",
    "Out[17]: 56700\n",
    "You can add (or subtract) a timedelta or multiple thereof to a datetime object to\n",
    "yield a new shifted object:\n",
    "In [18]: from datetime import timedelta\n",
    "In [19]: start = datetime(2011, 1, 7)"
   ]
  },
  {
   "cell_type": "code",
   "execution_count": null,
   "metadata": {},
   "outputs": [],
   "source": []
  },
  {
   "cell_type": "code",
   "execution_count": null,
   "metadata": {},
   "outputs": [],
   "source": []
  },
  {
   "cell_type": "code",
   "execution_count": null,
   "metadata": {},
   "outputs": [],
   "source": []
  },
  {
   "cell_type": "markdown",
   "metadata": {},
   "source": [
    "# Conversación sobre series de tiempo\n",
    "\n",
    "**Tutor Researcher (TR):** Good morning! Today, I want to talk to you about an important concept in data analysis called \"time series.\" Have you heard of it before?\n",
    "\n",
    "**Young Researcher (YR):** Good morning! Yes, I've heard the term, but I'm not entirely sure what it means. Can you explain it to me?\n",
    "\n",
    "**TR:** Of course! Time series refers to a sequence of data points that are ordered chronologically. Each data point corresponds to a specific time, and these points are usually recorded at regular intervals. For example, think of temperature data measured daily over a month or stock prices recorded every hour for a week. These are both examples of time series data.\n",
    "\n",
    "**YR:** Ah, I see. So, time series data is all about observing how something changes over time, right?\n",
    "\n",
    "**TR:** Exactly! Time series analysis is crucial for understanding patterns and trends that may emerge over time. It's used in various fields like economics, finance, weather forecasting, and many more. By analyzing these data, we can make predictions and gain insights into how things evolve over specific time frames.\n",
    "\n",
    "**YR:** That sounds interesting! But why is time series analysis so important? Can't we just analyze data in general without considering time?\n",
    "\n",
    "**TR:** That's a great question. Time series analysis is essential because it takes into account the temporal aspect of the data. It allows us to identify seasonality, trends, and cyclic patterns that are specific to the data collected over time. These patterns can provide valuable information for decision-making, forecasting future trends, and understanding underlying processes that might not be evident in cross-sectional data.\n",
    "\n",
    "**YR:** I see the point now. So, are there any specific techniques or tools used for analyzing time series data?\n",
    "\n",
    "**TR:** Yes, indeed. There are various techniques, and one popular tool for working with time series data in Python is Pandas, developed by Wes McKinney. Pandas offers powerful functionality to manipulate, visualize, and analyze time series data efficiently. It allows us to create specialized data structures like time series objects and provides many functions for handling date-time information.\n",
    "\n",
    "**YR:** That's fascinating! I've worked with Pandas before, but I didn't realize it could handle time series data so well. I'll definitely look into it further.\n",
    "\n",
    "**TR:** Great! Understanding time series analysis and using tools like Pandas can open up new opportunities for your research. It's a valuable skill in various industries, and I'm sure it will benefit your work.\n",
    "\n",
    "**YR:** Thank you for explaining this concept to me. I'm excited to dive into time series analysis and see how it can enhance my research projects.\n",
    "\n",
    "**TR:** You're welcome! If you have any questions or need assistance while working with time series data, don't hesitate to reach out. I'm here to help you along the way. Good luck with your exploration of time series analysis!\n",
    "\n",
    "**YR:** Thank you so much! I appreciate your guidance. I'll make sure to make the most of this knowledge. Have a great day!"
   ]
  },
  {
   "cell_type": "markdown",
   "metadata": {},
   "source": [
    "# Obtención de los datos de la estación meteorológica de Caucasia"
   ]
  },
  {
   "cell_type": "markdown",
   "metadata": {},
   "source": [
    "## Seminario: Manipulación datos crudos AMSC con Python\n"
   ]
  },
  {
   "cell_type": "markdown",
   "metadata": {},
   "source": [
    "Elaborado: Luisa Fernanda Buriticá ruiz  \n",
    "fernanda.buritica@udea.edu.co\n",
    "\n",
    "1 Agosto de 2023"
   ]
  },
  {
   "cell_type": "markdown",
   "metadata": {},
   "source": [
    "### Pasos para ejecución\n",
    "\n"
   ]
  },
  {
   "cell_type": "markdown",
   "metadata": {},
   "source": [
    "1. Descargar archivos de github. https://github.com/meteofacom/AMSC.git \n",
    "2. Crear dos carpetas una de entrada y salida .\n",
    "3. Verificar que todas las librerías y módulos están instalados en el computador (AMSC.py).\n",
    "4. Ingresar las direcciones absolutas de las carpetas de entrada y salida.\n",
    "5. Verificar que la estación de interés no esté comentada.\n",
    "6. Verificar que se tienen los datos en la carpeta de entrada y se tenga el nombre de la tabla 1 en el documento de instrucciones. \n"
   ]
  },
  {
   "cell_type": "markdown",
   "metadata": {},
   "source": []
  },
  {
   "cell_type": "code",
   "execution_count": null,
   "metadata": {},
   "outputs": [],
   "source": []
  },
  {
   "cell_type": "code",
   "execution_count": null,
   "metadata": {},
   "outputs": [],
   "source": []
  },
  {
   "cell_type": "code",
   "execution_count": null,
   "metadata": {},
   "outputs": [],
   "source": []
  },
  {
   "cell_type": "code",
   "execution_count": null,
   "metadata": {},
   "outputs": [],
   "source": []
  },
  {
   "cell_type": "markdown",
   "metadata": {},
   "source": [
    "## Referentes\n"
   ]
  },
  {
   "cell_type": "markdown",
   "metadata": {},
   "source": [
    "\n",
    "1. **Identificación del modelo**: Comienza por identificar claramente el modelo que estás utilizando. Puedes mencionar que estás utilizando \"ChatGPT\", que es un modelo de lenguaje desarrollado por OpenAI, basado en la arquitectura GPT-3.5.\n",
    "\n",
    "2. **Crédito a OpenAI**: Asegúrate de dar crédito a OpenAI, la organización detrás del desarrollo de ChatGPT. Puedes hacerlo mencionando \"desarrollado por OpenAI\" o \"basado en la tecnología de OpenAI\".\n",
    "\n",
    "3. **Año de referencia**: Es una buena práctica mencionar el año en el que se desarrolló el modelo o la versión que estás utilizando. Por ejemplo, \"ChatGPT, basado en GPT-3.5, desarrollado por OpenAI en 2021\".\n",
    "\n",
    "4. **Fuente de acceso**: Si la información que estás utilizando proviene de un artículo, un blog o una página web específica de OpenAI, asegúrate de proporcionar la fuente y, si es posible, el enlace a la misma. Si estás accediendo al modelo a través de una API o plataforma en línea, menciona la plataforma y, si corresponde, el plan o nivel de acceso utilizado.\n",
    "\n",
    "Aquí tienes un ejemplo de cómo podría ser una referencia en tu presentación:\n",
    "\n",
    "**Título de la Diapositiva: \"Introducción a ChatGPT\"**\n",
    "\n",
    "*ChatGPT: Un modelo de lenguaje desarrollado por OpenAI en 2021*\n",
    "\n",
    "- Basado en la arquitectura GPT-3.5\n",
    "- Fuente: www.openai.com/chatgpt\n",
    "- (Si se accedió a través de una plataforma) Plataforma: Plataforma XYZ, Plan ABC\n",
    "\n",
    "Es fundamental ser transparente acerca de las fuentes utilizadas en tu presentación, lo cual demuestra integridad académica y respeto por los autores y desarrolladores de la tecnología que estás utilizando."
   ]
  },
  {
   "cell_type": "markdown",
   "metadata": {},
   "source": [
    "* McKinney, W. (2022). Python for data analysis. \" O'Reilly Media, Inc.\"."
   ]
  },
  {
   "cell_type": "markdown",
   "metadata": {},
   "source": []
  }
 ],
 "metadata": {
  "kernelspec": {
   "display_name": ".venv",
   "language": "python",
   "name": "python3"
  },
  "language_info": {
   "codemirror_mode": {
    "name": "ipython",
    "version": 3
   },
   "file_extension": ".py",
   "mimetype": "text/x-python",
   "name": "python",
   "nbconvert_exporter": "python",
   "pygments_lexer": "ipython3",
   "version": "3.10.11"
  },
  "orig_nbformat": 4
 },
 "nbformat": 4,
 "nbformat_minor": 2
}

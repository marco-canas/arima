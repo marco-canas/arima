{
 "cells": [
  {
   "cell_type": "markdown",
   "metadata": {},
   "source": [
    "<table align=\"left\">\n",
    "  <td>\n",
    "    <a href=\"https://colab.research.google.com/github/marco-canas/investigacion_dengue/blob/main/machine_learning/1_time_series/4_seminario/4_seminario_practica_visualizaci%C3%B3n_series_tiempo.ipynb\" target=\"_parent\"><img src=\"https://colab.research.google.com/assets/colab-badge.svg\" alt=\"Open In Colab\"/></a>\n",
    "  </td>\n",
    "</table>"
   ]
  },
  {
   "cell_type": "markdown",
   "metadata": {},
   "source": [
    "# Seminario 4 sobre práctica de codificación para visualización de diferentes tipos de series de tiempo"
   ]
  },
  {
   "cell_type": "code",
   "execution_count": 17,
   "metadata": {},
   "outputs": [
    {
     "data": {
      "image/png": "[encoded data removed]",
      "text/plain": [
       "<Figure size 640x480 with 1 Axes>"
      ]
     },
     "metadata": {},
     "output_type": "display_data"
    }
   ],
   "source": [
    "# importación de librerías necesarias\n",
    "import numpy as np \n",
    "\n",
    "from matplotlib import pyplot as plt  # plt.plot() graficos de líneas \n",
    "\n",
    "np.random.seed(513) \n",
    "\n",
    "# crear datos ficticios \n",
    "tiempo = np.arange(1, 21, 1) # crea progresiones aritméticas \n",
    "\n",
    "\n",
    "serie_aditiva = 2*tiempo + 3 + np.random.uniform(-2, 2, size = 20) # crear una muestra aleatoria que distribuya normal\n",
    "\n",
    "\n",
    "plt.plot(tiempo, serie_aditiva)\n",
    "\n",
    "plt.savefig('/sysroot/home/marco/Documentos/investigacion/investigacion_dengue/machine_learning/images/serie_aditiva.png')\n",
    "\n",
    "plt.grid(alpha = 0.3)\n",
    "\n",
    "plt.show() \n",
    "\n"
   ]
  },
  {
   "cell_type": "code",
   "execution_count": null,
   "metadata": {},
   "outputs": [],
   "source": [
    "\n",
    "serie_multiplicativa = np.exp(np.linspace(0,1, num = 20))\n",
    "\n",
    "serie_combinada = serie_aditiva*serie_multiplicativa\n",
    "\n",
    "plt.figure(figsize = (10,6))\n",
    "\n",
    "plt.plot(tiempo, serie_combinada, label = 'Serie Combinada')\n",
    "\n",
    "plt.plot(tiempo, serie_aditiva, label = 'Serie aditiva')\n",
    "\n",
    "plt.plot(tiempo, serie_multiplicativa, label = 'Serie multiplicativa') \n",
    "\n",
    "plt.xlabel('Tiempo')\n",
    "plt.ylabel('Valores')\n",
    "plt.title(\"Series de tiempo multiplicativas y aditivas\")\n",
    "\n",
    "plt.legend() \n",
    "\n",
    "plt.savefig('/sysroot/home/marco/Documentos/investigacion/investigacion_dengue/machine_learning/images/series_aditiva_multiplicativa.png')\n",
    "\n",
    "plt.show() \n",
    "\n",
    "\n"
   ]
  },
  {
   "cell_type": "code",
   "execution_count": 2,
   "metadata": {},
   "outputs": [
    {
     "data": {
      "text/plain": [
       "4.6899999999999995"
      ]
     },
     "execution_count": 2,
     "metadata": {},
     "output_type": "execute_result"
    }
   ],
   "source": [
    "(4.53+4.58+4.58+5.0+4.74+4.51+4.65+4.75+4.87)/9\n"
   ]
  },
  {
   "cell_type": "code",
   "execution_count": null,
   "metadata": {},
   "outputs": [],
   "source": []
  },
  {
   "cell_type": "code",
   "execution_count": null,
   "metadata": {},
   "outputs": [],
   "source": []
  },
  {
   "cell_type": "code",
   "execution_count": null,
   "metadata": {},
   "outputs": [],
   "source": []
  },
  {
   "cell_type": "code",
   "execution_count": null,
   "metadata": {},
   "outputs": [],
   "source": []
  },
  {
   "cell_type": "code",
   "execution_count": null,
   "metadata": {},
   "outputs": [],
   "source": []
  },
  {
   "cell_type": "code",
   "execution_count": null,
   "metadata": {},
   "outputs": [],
   "source": []
  },
  {
   "cell_type": "code",
   "execution_count": null,
   "metadata": {},
   "outputs": [],
   "source": []
  },
  {
   "cell_type": "code",
   "execution_count": null,
   "metadata": {},
   "outputs": [],
   "source": []
  },
  {
   "cell_type": "markdown",
   "metadata": {},
   "source": [
    "## Referentes  \n",
    "\n",
    "* [Documentación de la función numpy.random.normal(loc = 0.0, scale = 1.0, size = 20)``](https://numpy.org/doc/stable/reference/random/generated/numpy.random.normal.html)\n",
    "\n",
    "* [McKinney, W. (2022). Python for data analysis. \" O'Reilly Media, Inc.\".](https://d1wqtxts1xzle7.cloudfront.net/62139307/Python-for-Data-Analysis-2nd-Edition20200219-40214-1of6b7q-libre.pdf?1582110463=&response-content-disposition=inline%3B+filename%3DPython_for_Data_Analysis.pdf&Expires=1693237145&Signature=DzEHjAdUWJjmJ5jcoaEn4XYX1oEe1essUm0kUi86CjlTqmR9QP5mJwh5~ogjCEmf7M8H-sJvB7za84QKZqVMGMkj273hY~PBiYLz3u6RCpcbu2lnZ0Y3YB2xEa2Ch-q4~8y5DDRjzhhabTbxv4pfs~gRw~fNrGwc4f0I8Q9FP0htwgiSed2HjxJzHnPeBcxE2Evr12zKlLdMcC4v~--6Wlgi1XgKhNfybInnOcVsEz6AjqZC2Rz4jxJHDGkbx3powZbectsjyo24GzXkA7j8nZAo15iS3~H28MmOI1r2i2lG3QtkYYOhdX5ups4DOnt5RCvGOqrcpEO7DDU-6UdMbQ__&Key-Pair-Id=APKAJLOHF5GGSLRBV4ZA)"
   ]
  },
  {
   "cell_type": "code",
   "execution_count": null,
   "metadata": {},
   "outputs": [],
   "source": []
  }
 ],
 "metadata": {
  "kernelspec": {
   "display_name": ".venv",
   "language": "python",
   "name": "python3"
  },
  "language_info": {
   "codemirror_mode": {
    "name": "ipython",
    "version": 3
   },
   "file_extension": ".py",
   "mimetype": "text/x-python",
   "name": "python",
   "nbconvert_exporter": "python",
   "pygments_lexer": "ipython3",
   "version": "3.10.12"
  },
  "orig_nbformat": 4
 },
 "nbformat": 4,
 "nbformat_minor": 2
}

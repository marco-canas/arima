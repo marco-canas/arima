{
 "cells": [
  {
   "cell_type": "markdown",
   "metadata": {},
   "source": [
    "<table align=\"left\">\n",
    "  <td>\n",
    "    <a href=\"https://colab.research.google.com/github/marco-canas/investigacion_dengue/blob/main/machine_learning/1_time_series/6_seminario%206%3A%20time_series_basics/6_seminario_time_series_basics.ipynb\" target=\"_parent\"><img src=\"https://colab.research.google.com/assets/colab-badge.svg\" alt=\"Open In Colab\"/></a>\n",
    "  </td>\n",
    "</table>"
   ]
  },
  {
   "cell_type": "markdown",
   "metadata": {},
   "source": [
    "### [Video de apoyo](https://www.youtube.com/watch?v=-sNbp4PIuV4)"
   ]
  },
  {
   "cell_type": "markdown",
   "metadata": {},
   "source": [
    "<img src = 'https://github.com/marco-canas/investigacion_dengue/blob/main/machine_learning/images/calculo_diferencial_2023-09-22%20at%2012.12.55%20PM.jpeg?raw=true'>"
   ]
  },
  {
   "cell_type": "markdown",
   "metadata": {},
   "source": [
    "# Seminario en Machine learning para SAT-dengue"
   ]
  },
  {
   "cell_type": "markdown",
   "metadata": {},
   "source": [
    "## Objetivo\n",
    "\n",
    "* Obtención de los datos de las estaciones del proyecto Antioquia mira su cielo [(AMSC)](http://54.146.188.73:8501/)\n",
    "\n"
   ]
  },
  {
   "cell_type": "code",
   "execution_count": 1,
   "metadata": {},
   "outputs": [],
   "source": [
    "# Mapa conceptual\n",
    "\n",
    "import networkx as nx "
   ]
  },
  {
   "cell_type": "markdown",
   "metadata": {},
   "source": [
    "## Obtención y visualización de los datos de AMSC"
   ]
  },
  {
   "cell_type": "code",
   "execution_count": 1,
   "metadata": {},
   "outputs": [],
   "source": [
    "import pandas as pd \n",
    "\n",
    "url = 'https://raw.githubusercontent.com/marco-canas/didactica_ciencia_datos/main/3_datasets/antioquia_mira_su_cielo/A2023M1_to_M9/marco_2023-09-22_20_13_29(1).csv'\n",
    "\n",
    "df = pd.read_csv(url)"
   ]
  },
  {
   "cell_type": "code",
   "execution_count": 2,
   "metadata": {},
   "outputs": [
    {
     "data": {
      "text/html": [
       "<div>\n",
       "<style scoped>\n",
       "    .dataframe tbody tr th:only-of-type {\n",
       "        vertical-align: middle;\n",
       "    }\n",
       "\n",
       "    .dataframe tbody tr th {\n",
       "        vertical-align: top;\n",
       "    }\n",
       "\n",
       "    .dataframe thead th {\n",
       "        text-align: right;\n",
       "    }\n",
       "</style>\n",
       "<table border=\"1\" class=\"dataframe\">\n",
       "  <thead>\n",
       "    <tr style=\"text-align: right;\">\n",
       "      <th></th>\n",
       "      <th>Unnamed: 0</th>\n",
       "      <th>fecha</th>\n",
       "      <th>nombre_completo</th>\n",
       "      <th>estado</th>\n",
       "      <th>temperatura</th>\n",
       "    </tr>\n",
       "  </thead>\n",
       "  <tbody>\n",
       "    <tr>\n",
       "      <th>0</th>\n",
       "      <td>0</td>\n",
       "      <td>2023-09-19 03:50:00</td>\n",
       "      <td>UdeA Yarumal</td>\n",
       "      <td>Habilitada</td>\n",
       "      <td>14.88889</td>\n",
       "    </tr>\n",
       "    <tr>\n",
       "      <th>1</th>\n",
       "      <td>1</td>\n",
       "      <td>2023-09-19 10:50:00</td>\n",
       "      <td>UdeA Yarumal</td>\n",
       "      <td>Habilitada</td>\n",
       "      <td>19.44444</td>\n",
       "    </tr>\n",
       "    <tr>\n",
       "      <th>2</th>\n",
       "      <td>2</td>\n",
       "      <td>2023-09-19 10:51:00</td>\n",
       "      <td>UdeA Yarumal</td>\n",
       "      <td>Habilitada</td>\n",
       "      <td>19.38889</td>\n",
       "    </tr>\n",
       "    <tr>\n",
       "      <th>3</th>\n",
       "      <td>3</td>\n",
       "      <td>2023-09-19 10:52:00</td>\n",
       "      <td>UdeA Yarumal</td>\n",
       "      <td>Habilitada</td>\n",
       "      <td>19.27778</td>\n",
       "    </tr>\n",
       "    <tr>\n",
       "      <th>4</th>\n",
       "      <td>4</td>\n",
       "      <td>2023-09-19 10:53:00</td>\n",
       "      <td>UdeA Yarumal</td>\n",
       "      <td>Habilitada</td>\n",
       "      <td>19.27778</td>\n",
       "    </tr>\n",
       "  </tbody>\n",
       "</table>\n",
       "</div>"
      ],
      "text/plain": [
       "   Unnamed: 0                fecha nombre_completo      estado  temperatura\n",
       "0           0  2023-09-19 03:50:00    UdeA Yarumal  Habilitada     14.88889\n",
       "1           1  2023-09-19 10:50:00    UdeA Yarumal  Habilitada     19.44444\n",
       "2           2  2023-09-19 10:51:00    UdeA Yarumal  Habilitada     19.38889\n",
       "3           3  2023-09-19 10:52:00    UdeA Yarumal  Habilitada     19.27778\n",
       "4           4  2023-09-19 10:53:00    UdeA Yarumal  Habilitada     19.27778"
      ]
     },
     "execution_count": 2,
     "metadata": {},
     "output_type": "execute_result"
    }
   ],
   "source": [
    "df.head() "
   ]
  },
  {
   "cell_type": "code",
   "execution_count": 3,
   "metadata": {},
   "outputs": [
    {
     "data": {
      "text/plain": [
       "Index(['Unnamed: 0', 'fecha', 'nombre_completo', 'estado', 'temperatura'], dtype='object')"
      ]
     },
     "execution_count": 3,
     "metadata": {},
     "output_type": "execute_result"
    }
   ],
   "source": [
    "df.keys()\n"
   ]
  },
  {
   "cell_type": "code",
   "execution_count": 4,
   "metadata": {},
   "outputs": [
    {
     "data": {
      "text/plain": [
       "0         14.88889\n",
       "1         19.44444\n",
       "2         19.38889\n",
       "3         19.27778\n",
       "4         19.27778\n",
       "            ...   \n",
       "273028    15.88889\n",
       "273029    15.88889\n",
       "273030    15.88889\n",
       "273031    15.94444\n",
       "273032    15.94444\n",
       "Name: temperatura, Length: 273033, dtype: float64"
      ]
     },
     "execution_count": 4,
     "metadata": {},
     "output_type": "execute_result"
    }
   ],
   "source": [
    "df.temperatura"
   ]
  },
  {
   "cell_type": "code",
   "execution_count": 6,
   "metadata": {},
   "outputs": [
    {
     "data": {
      "image/png": "[encoded data removed]",
      "text/plain": [
       "<Figure size 640x480 with 1 Axes>"
      ]
     },
     "metadata": {},
     "output_type": "display_data"
    }
   ],
   "source": [
    "import matplotlib.pyplot as plt\n",
    "\n",
    "plt.plot(df.temperatura)\n",
    "\n",
    "plt.savefig('/home/marco/Documentos/investigacion/investigacion_dengue/machine_learning/images/temperatura_yarumal_2023.jpg')\n",
    "\n",
    "\n"
   ]
  },
  {
   "cell_type": "markdown",
   "metadata": {},
   "source": [
    "## Time Series según Wes"
   ]
  },
  {
   "cell_type": "markdown",
   "metadata": {},
   "source": [
    "## 11.2 Time Series Basics\n"
   ]
  },
  {
   "cell_type": "markdown",
   "metadata": {},
   "source": [
    "A basic kind of time series object in pandas is a Series indexed by timestamps, which\n",
    "is often represented external to pandas as Python strings or datetime objects:"
   ]
  },
  {
   "cell_type": "code",
   "execution_count": 3,
   "metadata": {},
   "outputs": [
    {
     "data": {
      "text/plain": [
       "2011-01-02   -0.941707\n",
       "2011-01-05    0.039077\n",
       "2011-01-07    0.213146\n",
       "2011-01-08   -1.734087\n",
       "2011-01-10    0.367762\n",
       "2011-01-12   -0.682196\n",
       "dtype: float64"
      ]
     },
     "execution_count": 3,
     "metadata": {},
     "output_type": "execute_result"
    }
   ],
   "source": [
    "import numpy as np \n",
    "import pandas as pd \n",
    "from datetime import datetime\n",
    "dates = [datetime(2011, 1, 2), datetime(2011, 1, 5), datetime(2011, 1, 7), datetime(2011, 1, 8),\n",
    "datetime(2011, 1, 10), datetime(2011, 1, 12)]\n",
    "ts = pd.Series(np.random.randn(6), index=dates)\n",
    "ts\n"
   ]
  },
  {
   "cell_type": "code",
   "execution_count": null,
   "metadata": {},
   "outputs": [],
   "source": [
    "\n",
    "2011-01-02"
   ]
  },
  {
   "cell_type": "code",
   "execution_count": null,
   "metadata": {},
   "outputs": [],
   "source": []
  },
  {
   "cell_type": "code",
   "execution_count": null,
   "metadata": {},
   "outputs": [],
   "source": []
  },
  {
   "cell_type": "markdown",
   "metadata": {},
   "source": [
    "# Máquinas de soporte vectorial según Geron"
   ]
  },
  {
   "cell_type": "markdown",
   "metadata": {},
   "source": [
    "Página 219  \n",
    "\n",
    "Capítulo 5. \n",
    "\n",
    "# Chapter 5. Support Vector Machines\n"
   ]
  },
  {
   "cell_type": "markdown",
   "metadata": {},
   "source": [
    "A Support Vector Machine (SVM) is a powerful and versatile Machine Learning model,\n",
    "capable of performing linear or nonlinear classification, regression, and even outlier\n",
    "detection. It is one of the most popular models in Machine Learning, and anyone interested\n",
    "in Machine Learning should have it in their toolbox. SVMs are particularly well suited for\n",
    "classification of complex small- or medium-sized datasets.\n",
    "This chapter will explain the core concepts of SVMs, how to use them, and how they work."
   ]
  },
  {
   "cell_type": "markdown",
   "metadata": {},
   "source": [
    "# Linear SVM Classification\n"
   ]
  },
  {
   "cell_type": "markdown",
   "metadata": {},
   "source": [
    "The fundamental idea behind SVMs is best explained with some pictures. Figure 5-1 shows\n",
    "part of the iris dataset that was introduced at the end of Chapter 4. The two classes can\n",
    "clearly be separated easily with a straight line (they are linearly separable). The left plot\n",
    "shows the decision boundaries of three possible linear classifiers. The model whose\n",
    "decision boundary is represented by the dashed line is so bad that it does not even separate\n",
    "the classes properly. The other two models work perfectly on this training set, but their\n",
    "decision boundaries come so close to the instances that these models will probably not\n",
    "perform as well on new instances. In contrast, the solid line in the plot on the right\n",
    "represents the decision boundary of an SVM classifier; this line not only separates the two\n",
    "classes but also stays as far away from the closest training instances as possible. You can\n",
    "think of an SVM classifier as fitting the widest possible street (represented by the parallel\n",
    "dashed lines) between the classes. This is called large margin classification."
   ]
  },
  {
   "cell_type": "markdown",
   "metadata": {},
   "source": []
  },
  {
   "cell_type": "code",
   "execution_count": null,
   "metadata": {},
   "outputs": [],
   "source": []
  },
  {
   "cell_type": "code",
   "execution_count": null,
   "metadata": {},
   "outputs": [],
   "source": []
  },
  {
   "cell_type": "code",
   "execution_count": null,
   "metadata": {},
   "outputs": [],
   "source": []
  },
  {
   "cell_type": "code",
   "execution_count": null,
   "metadata": {},
   "outputs": [],
   "source": []
  },
  {
   "cell_type": "markdown",
   "metadata": {},
   "source": [
    "# Referencias\n",
    "\n",
    "* Géron, A. (2022). Hands-on machine learning with Scikit-Learn, Keras, and TensorFlow. \" O'Reilly Media, Inc.\".\n",
    "\n",
    "* [McKinney, W. (2022). Python for data analysis. \" O'Reilly Media, Inc.\".](https://d1wqtxts1xzle7.cloudfront.net/62139307/Python-for-Data-Analysis-2nd-Edition20200219-40214-1of6b7q-libre.pdf?1582110463=&response-content-disposition=inline%3B+filename%3DPython_for_Data_Analysis.pdf&Expires=1694149999&Signature=MH1uVxkUnFgwepQUeb-3OdFgQWj0vmtzC4ra~TZ-xyCstLSCg7uaNeDi4yrXghoJ6UEMCGOJkx2s13vayVVP-IzF8I91v6TeW0ZUeIejbWlrkHxtT01V-fJ6q7C~9buozUwVr~o2BY3llLH5rZVlZF31pPefEm3ejjlW8pO~prbQ8VVfyfXs4HzSIQJ~nbTCZU8LfqYwU3yMLV7IH4TQN9eGd8GZuqHjznUJZU995AwYqQqzl5-Xtoz93-S1Pn2UWuS8SsXmFt1ysr~-M7-6lVQw~E9~MFbdCIQRfp~fRtVtHDfB-mEXNEQ1CX518xUB0xT3JtfZdsGArib9UMwOqg__&Key-Pair-Id=APKAJLOHF5GGSLRBV4ZA)\n",
    "\n",
    "<img src = 'https://wesmckinney.com/images/wes-2017-01-12-small.png'>"
   ]
  },
  {
   "cell_type": "markdown",
   "metadata": {},
   "source": []
  }
 ],
 "metadata": {
  "kernelspec": {
   "display_name": ".venv",
   "language": "python",
   "name": "python3"
  },
  "language_info": {
   "codemirror_mode": {
    "name": "ipython",
    "version": 3
   },
   "file_extension": ".py",
   "mimetype": "text/x-python",
   "name": "python",
   "nbconvert_exporter": "python",
   "pygments_lexer": "ipython3",
   "version": "3.10.12"
  },
  "orig_nbformat": 4
 },
 "nbformat": 4,
 "nbformat_minor": 2
}

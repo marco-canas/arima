{
 "cells": [
  {
   "cell_type": "markdown",
   "metadata": {},
   "source": [
    "<table align=\"left\">\n",
    "  <td>\n",
    "    <a href=\"https://colab.research.google.com/github/marco-canas/investigacion_dengue/blob/main/machine_learning/1_time_series/1_seminario_conceptos_fundamentales_series_de_tiempo/programa_20_seminarios_ml.ipynb\" target=\"_parent\"><img src=\"https://colab.research.google.com/assets/colab-badge.svg\" alt=\"Open In Colab\"/></a>\n",
    "  </td>\n",
    "</table>"
   ]
  },
  {
   "cell_type": "markdown",
   "metadata": {},
   "source": [
    "### [Video de apoyo]()"
   ]
  },
  {
   "cell_type": "markdown",
   "metadata": {},
   "source": [
    "# Seminario 6: Descomposición de Series de Tiempo \n"
   ]
  },
  {
   "cell_type": "markdown",
   "metadata": {},
   "source": [
    "\n",
    "**Duración Total: 90 minutos**\n",
    "\n",
    "**Objetivo del Seminario:**\n",
    "Introducir a los participantes en los conceptos y técnicas de descomposición de series de tiempo. A través de la exploración de métodos de descomposición y casos de estudio con Python, los participantes comprenderán cómo separar las componentes clave de una serie de tiempo para análisis y pronóstico.\n",
    "\n",
    "**Agenda:**\n",
    "\n",
    "1. **Introducción a la Descomposición de Series de Tiempo (10 minutos)**\n",
    "   - Presentación del objetivo del seminario y su relevancia en el análisis de series de tiempo.\n",
    "   - Explicación de los conceptos de tendencia, estacionalidad y ruido en una serie de tiempo.\n",
    "\n",
    "2. **Métodos de Descomposición (20 minutos)**\n",
    "   - Descripción detallada de los métodos de descomposición más comunes: aditiva y multiplicativa.\n",
    "   - Explicación de cómo estos métodos separan las componentes de una serie de tiempo.\n",
    "\n",
    "3. **Descomposición de Series de Tiempo con Python (20 minutos)**\n",
    "   - Uso de bibliotecas de Python, como pandas y statsmodels, para realizar la descomposición de una serie de tiempo.\n",
    "   - Ejemplificación de cómo cargar una serie de tiempo, aplicar la descomposición y visualizar los resultados.\n",
    "\n",
    "4. **Análisis y Interpretación de Componentes (20 minutos)**\n",
    "   - Interpretación de los resultados de la descomposición: identificación de la tendencia, estacionalidad y ruido.\n",
    "   - Discusión sobre cómo estas componentes pueden utilizarse para análisis y pronóstico.\n",
    "\n",
    "5. **Aplicación en Casos de Estudio (15 minutos)**\n",
    "   - Presentación de casos de estudio reales donde se aplicó la descomposición de series de tiempo.\n",
    "   - Discusión de los resultados obtenidos y las conclusiones derivadas de estos análisis.\n",
    "\n",
    "6. **Ventajas y Limitaciones de la Descomposición (5 minutos)**\n",
    "   - Exploración de las ventajas de utilizar la descomposición en el análisis de series de tiempo.\n",
    "   - Mención de posibles limitaciones y consideraciones al aplicar esta técnica.\n",
    "\n",
    "7. **Preguntas y Discusión (10 minutos)**\n",
    "   - Espacio para que los participantes formulen preguntas y compartan sus reflexiones sobre la descomposición de series de tiempo.\n",
    "\n",
    "**Materiales Requeridos:**\n",
    "- Computadoras con acceso a Jupyter Notebook y Python.\n",
    "- Conjunto de datos de ejemplo que contenga una serie de tiempo.\n",
    "\n",
    "**Instrucciones para los Participantes:**\n",
    "- Asegurarse de tener Python y Jupyter Notebook instalados antes del seminario.\n",
    "- Descargar el conjunto de datos de ejemplo proporcionado por el instructor.\n",
    "- Participar activamente en la discusión y los ejercicios prácticos durante el seminario.\n",
    "\n",
    "**Nota Importante:**\n",
    "Este es solo un esquema básico del desarrollo del seminario. Durante la realización, el instructor puede agregar detalles, ejemplos prácticos, ejercicios interactivos y ampliar cada sección según sea necesario para garantizar que los participantes adquieran una comprensión sólida de la descomposición de series de tiempo y su aplicación en el análisis y pronóstico."
   ]
  },
  {
   "cell_type": "code",
   "execution_count": null,
   "metadata": {},
   "outputs": [],
   "source": []
  },
  {
   "cell_type": "code",
   "execution_count": null,
   "metadata": {},
   "outputs": [],
   "source": []
  },
  {
   "cell_type": "code",
   "execution_count": null,
   "metadata": {},
   "outputs": [],
   "source": []
  },
  {
   "cell_type": "code",
   "execution_count": null,
   "metadata": {},
   "outputs": [],
   "source": []
  },
  {
   "cell_type": "code",
   "execution_count": null,
   "metadata": {},
   "outputs": [],
   "source": []
  }
 ],
 "metadata": {
  "language_info": {
   "name": "python"
  },
  "orig_nbformat": 4
 },
 "nbformat": 4,
 "nbformat_minor": 2
}

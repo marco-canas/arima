{
 "cells": [
  {
   "attachments": {},
   "cell_type": "markdown",
   "id": "dc06dec7",
   "metadata": {
    "slideshow": {
     "slide_type": "slide"
    }
   },
   "source": [
    "<table align=\"left\">\n",
    "  <td>\n",
    "    <a href=\"https://colab.research.google.com/github/marco-canas/investigacion_dengue/blob/main/machine_learning/1_time_series/2_Seminario%202%3A%20Modelado%20de%20Series%20de%20Tiempo%20B%C3%A1sico/2_tareas_seminario_2.ipynb\" target=\"_parent\"><img src=\"https://colab.research.google.com/assets/colab-badge.svg\" alt=\"Open In Colab\"/></a>\n",
    "  </td>\n",
    "</table>"
   ]
  },
  {
   "attachments": {},
   "cell_type": "markdown",
   "id": "e0c5b198",
   "metadata": {
    "slideshow": {
     "slide_type": "slide"
    }
   },
   "source": [
    "### [Video de apoyo a la lectura interactiva y experimental de este cuaderno]()"
   ]
  },
  {
   "attachments": {},
   "cell_type": "markdown",
   "id": "41e82203",
   "metadata": {
    "slideshow": {
     "slide_type": "slide"
    }
   },
   "source": [
    "## [Vínculo al programa del curso:  ]()\n",
    "\n",
    "* Todos los profesores debemos proponer objetivos de formación\n",
    "* Propuesta de evaluación \n",
    "* Y propuesta de metodología\n",
    "* Y propuesta de bibliografía. "
   ]
  },
  {
   "attachments": {},
   "cell_type": "markdown",
   "id": "d11ab06d",
   "metadata": {
    "slideshow": {
     "slide_type": "slide"
    }
   },
   "source": [
    "Un reconocimiento a mis estudiantes que han construido conmigo este saber pedagógico:\n",
    "\n",
    "<img src = ''> \n",
    "\n"
   ]
  },
  {
   "attachments": {},
   "cell_type": "markdown",
   "id": "5e3936d8",
   "metadata": {
    "slideshow": {
     "slide_type": "slide"
    }
   },
   "source": [
    "# Llamar a lista o tomar asistencia con python o llamar el equipo para la tarea con video y cuaderno Jupyter sobre medición indirecta de grandes alturas con imágenes"
   ]
  },
  {
   "cell_type": "code",
   "execution_count": null,
   "id": "7604880f",
   "metadata": {
    "slideshow": {
     "slide_type": "slide"
    }
   },
   "outputs": [],
   "source": [
    "def crear_lista_estudiantes(ubicacion_lista):\n",
    "    \"\"\"\n",
    "    \"\"\"\n",
    "    import pandas as pd     \n",
    "    grupo_df = pd.read_csv(ubicacion_lista, sep = ';') \n",
    "    # cuando el .csv file proviene de un .xlsx file, debe utilizarse sep = ';'\n",
    "    lista_estudiantes = list(grupo_df.nombre.values)\n",
    "    return lista_estudiantes "
   ]
  },
  {
   "cell_type": "code",
   "execution_count": null,
   "id": "a359c096",
   "metadata": {
    "slideshow": {
     "slide_type": "slide"
    }
   },
   "outputs": [],
   "source": [
    "#llamar a lista o tomar registro de asistencia a clase\n",
    "def llamar_estudiantes_a_participar():\n",
    "    import numpy as np \n",
    "    from random import choice\n",
    "    if len(lista_estudiantes) != 0:\n",
    "        estudiante = choice(lista_estudiantes)\n",
    "        lista_estudiantes.remove(estudiante)\n",
    "        return print(estudiante)\n",
    "    else:\n",
    "        print('Todos los estudiantes han participado.\\n \\\n",
    "               Muchas gracias y Felicitaciones')"
   ]
  },
  {
   "cell_type": "code",
   "execution_count": null,
   "id": "37ae00fb",
   "metadata": {
    "slideshow": {
     "slide_type": "slide"
    }
   },
   "outputs": [],
   "source": [
    "ubicacion_lista='https://raw.githubusercontent.com/marco-canas/groups_list/main/1_algebra.csv'\n",
    "lista_estudiantes = crear_lista_estudiantes(ubicacion_lista)"
   ]
  },
  {
   "cell_type": "code",
   "execution_count": null,
   "id": "33f85aea",
   "metadata": {
    "scrolled": true,
    "slideshow": {
     "slide_type": "slide"
    }
   },
   "outputs": [],
   "source": [
    "llamar_estudiantes_a_participar()"
   ]
  },
  {
   "attachments": {},
   "cell_type": "markdown",
   "id": "4f9d8cf9",
   "metadata": {
    "slideshow": {
     "slide_type": "slide"
    }
   },
   "source": [
    "# Modelo general de clase: [aula invertida](https://www3.gobiernodecanarias.org/medusa/ecoescuela/pedagotic/aprendizaje-invertido-flipped-classroom/)"
   ]
  },
  {
   "attachments": {},
   "cell_type": "markdown",
   "id": "ca46c23b",
   "metadata": {
    "slideshow": {
     "slide_type": "fragment"
    }
   },
   "source": [
    "## Definición y características de este [modelo](https://udearroba.udea.edu.co/blog/aprendizaje-invertido-otras-formas-de-ensenar-y-aprender/)  \n",
    "El aprendizaje invertido es un enfoque pedagógico que posibilita trascender del modelo tradicional de enseñanza. "
   ]
  },
  {
   "attachments": {},
   "cell_type": "markdown",
   "id": "760dd3a7",
   "metadata": {},
   "source": [
    "Dicho enfoque hace uso de entornos virtuales, en los cuales el docente dispone de una serie de recursos para abordar la enseñanza de los contenidos. "
   ]
  },
  {
   "attachments": {},
   "cell_type": "markdown",
   "id": "a8272cc0",
   "metadata": {},
   "source": [
    "Uno de los recursos más utilizados es la videoclase, pues permite que los estudiantes puedan escuchar y observar al docente mientras explica una temática, así como demostraciones y procedimientos específicos. "
   ]
  },
  {
   "attachments": {},
   "cell_type": "markdown",
   "id": "a14c85ff",
   "metadata": {},
   "source": [
    "Por tanto, este recurso resulta valioso para los estudiantes, quienes podrán revisarlo en el espacio temporal que deseen y las veces que lo consideren necesario para su aprendizaje. "
   ]
  },
  {
   "attachments": {},
   "cell_type": "markdown",
   "id": "85f6596d",
   "metadata": {},
   "source": [
    "Adicionalmente, es importante que los docentes dispongan las indicaciones o instrucciones -por fuera del aula- en relación con las actividades/prácticas/ejercicios que los estudiantes deben llevar a cabo. "
   ]
  },
  {
   "attachments": {},
   "cell_type": "markdown",
   "id": "e50a6bfd",
   "metadata": {},
   "source": [
    "Por ende, se espera que los estudiantes hagan la revisión de contenidos e indicaciones de manera previa al encuentro sincrónico."
   ]
  },
  {
   "attachments": {},
   "cell_type": "markdown",
   "id": "d2b0e776",
   "metadata": {
    "slideshow": {
     "slide_type": "slide"
    }
   },
   "source": [
    "## ¿Qué es?  \n",
    "\n",
    "Flipped Learning o aprendizaje invertido es un enfoque pedagógico en el que:  \n",
    "\n",
    "* la instrucción directa se realiza fuera del aula y \n",
    "* se utiliza el tiempo de clase para llevar a cabo actividades que impliquen el desarrollo de procesos cognitivos de mayor complejidad, en las que son necesarias la ayuda y la experiencia del docente."
   ]
  },
  {
   "attachments": {},
   "cell_type": "markdown",
   "id": "5fc4f731",
   "metadata": {
    "slideshow": {
     "slide_type": "slide"
    }
   },
   "source": [
    "## ¿Para qué sirve?  \n",
    "\n",
    "Mejora el proceso de enseñanza-aprendizaje realizando,   \n",
    "\n",
    "* fuera del aula, actividades de aprendizaje sencillas (observar, memorizar, resumir, etc.) y, \n",
    "* en el aula, actividades más complejas (razonar, examinar, priorizar, argumentar, proponer, etc.) que requieren la interacción entre iguales y la ayuda del docente como facilitador."
   ]
  },
  {
   "attachments": {},
   "cell_type": "markdown",
   "id": "b42472d6",
   "metadata": {
    "slideshow": {
     "slide_type": "slide"
    }
   },
   "source": [
    "<img src = 'https://github.com/marco-canas/7_didactica_ciencia_datos/blob/main/4_images/atributos_aprendizaje_invertido.png?raw=true'>"
   ]
  },
  {
   "attachments": {},
   "cell_type": "markdown",
   "id": "8cee33b3",
   "metadata": {
    "slideshow": {
     "slide_type": "slide"
    }
   },
   "source": [
    "# Proceso Flipped Learning"
   ]
  },
  {
   "attachments": {},
   "cell_type": "markdown",
   "id": "9c61b8b5",
   "metadata": {
    "slideshow": {
     "slide_type": "slide"
    }
   },
   "source": [
    "## Fuera del Aula"
   ]
  },
  {
   "attachments": {},
   "cell_type": "markdown",
   "id": "fe20721d",
   "metadata": {
    "slideshow": {
     "slide_type": "slide"
    }
   },
   "source": [
    "### Docente:"
   ]
  },
  {
   "attachments": {},
   "cell_type": "markdown",
   "id": "5b022dc9",
   "metadata": {
    "slideshow": {
     "slide_type": "slide"
    }
   },
   "source": [
    "* Diseña y planea el proceso de enseñanza-aprendizaje del aula, integrando estrategias, modelos de enseñanza y metodologías (aprendizaje basado en proyectos, aprendizaje cooperativo y colaborativo,…).  \n",
    "\n",
    "* Diseña y planea actividades que se realizarán fuera del aula (ver vídeos, cumplimentar cuestionarios,…).  \n",
    "\n",
    "* Selecciona e integra la tecnología en actividades de aprendizaje activo.  \n",
    "\n",
    "* Diseña actividades de evaluación que promuevan el aprendizaje del alumnado."
   ]
  },
  {
   "attachments": {},
   "cell_type": "markdown",
   "id": "467fb978",
   "metadata": {
    "slideshow": {
     "slide_type": "slide"
    }
   },
   "source": [
    "### Alumnado:"
   ]
  },
  {
   "attachments": {},
   "cell_type": "markdown",
   "id": "87d6d661",
   "metadata": {
    "slideshow": {
     "slide_type": "slide"
    }
   },
   "source": [
    "* Accede, cuantas veces necesite, a las actividades facilitadas por el profesorado.\n",
    "* Realiza las actividades propuestas."
   ]
  },
  {
   "attachments": {},
   "cell_type": "markdown",
   "id": "93cd48b6",
   "metadata": {
    "slideshow": {
     "slide_type": "slide"
    }
   },
   "source": [
    "## En el Aula"
   ]
  },
  {
   "attachments": {},
   "cell_type": "markdown",
   "id": "79ea8675",
   "metadata": {
    "slideshow": {
     "slide_type": "slide"
    }
   },
   "source": [
    "### Docente:"
   ]
  },
  {
   "attachments": {},
   "cell_type": "markdown",
   "id": "d4d6f829",
   "metadata": {
    "slideshow": {
     "slide_type": "slide"
    }
   },
   "source": [
    "* Guía y facilita los procesos de aprendizaje, atendiendo a la diversidad.\n",
    "* Retroalimenta el desempeño de los equipos/grupos y del alumnado individualmente.\n",
    "* Genera espacios para la coevaluación y autoevaluación."
   ]
  },
  {
   "attachments": {},
   "cell_type": "markdown",
   "id": "7178794c",
   "metadata": {
    "slideshow": {
     "slide_type": "slide"
    }
   },
   "source": [
    "### Alumnado:"
   ]
  },
  {
   "attachments": {},
   "cell_type": "markdown",
   "id": "88d1c0f7",
   "metadata": {
    "slideshow": {
     "slide_type": "slide"
    }
   },
   "source": [
    "* Realiza las actividades (debates, exposiciones orales, informes, diario de aprendizaje, cuaderno de trabajo cooperativo,…).\n",
    "* Recibe retroalimentación inmediata del profesorado y de sus compañeros y compañeras.\n",
    "* Accede, si fuera necesario, a las actividades previas facilitadas por el profesorado."
   ]
  },
  {
   "attachments": {},
   "cell_type": "markdown",
   "id": "7dbfc4b9",
   "metadata": {
    "slideshow": {
     "slide_type": "slide"
    }
   },
   "source": [
    "## Ventajas de Flipped Learning  \n",
    "\n",
    "1. Incrementa el compromiso del alumnado porque éste se hace corresponsable de su aprendizaje y participa en él de forma activa mediante actividades de cooperación y colaboración en clase.  \n",
    "\n",
    "2. Permite que el alumnado aprenda a su propio ritmo, ya que tiene la posibilidad de acceder al material facilitado por el profesorado en cualquier momento y en cualquier lugar, todas las veces que necesite."
   ]
  },
  {
   "attachments": {},
   "cell_type": "markdown",
   "id": "8d97dc80",
   "metadata": {
    "slideshow": {
     "slide_type": "slide"
    }
   },
   "source": [
    "## Fomento de la lectura literaria asociada a Ingeniería agropecuaria y licenciatura en Matemáticas\n",
    "\n",
    "### DAR DESDE EL CORAZÓN\n",
    "#### La esencia de la comunicación no violenta  \n",
    "\n",
    "Lo que quiero en la vida es compasión,  \n",
    "una corriente que fluya entre los demás y yo,\n",
    "basada en un mutuo dar desde el corazón.  \n",
    "\n",
    "[MARSHALL ROSENBERG](https://udeaeduco-my.sharepoint.com/:b:/g/personal/marco_canas_udea_edu_co/Efb_5fC50D5JnA4BzTKzgsIB9UeMjgs1kCU-sROZDlWTGw?e=gjRMdZ)"
   ]
  },
  {
   "attachments": {},
   "cell_type": "markdown",
   "id": "bff96119",
   "metadata": {
    "slideshow": {
     "slide_type": "slide"
    }
   },
   "source": [
    "### Introducción"
   ]
  },
  {
   "attachments": {},
   "cell_type": "markdown",
   "id": "c2ca8f2e",
   "metadata": {
    "slideshow": {
     "slide_type": "slide"
    }
   },
   "source": [
    "Como estoy plenamente convencido de que forma parte intrínseca de nuestra naturaleza sentirnos satisfechos cuando damos y recibimos algo de manera compasiva o solidaria, hay dos preguntas que me han preocupado durante la mayor parte de mi vida. "
   ]
  },
  {
   "attachments": {},
   "cell_type": "markdown",
   "id": "4e4614ff",
   "metadata": {
    "slideshow": {
     "slide_type": "slide"
    }
   },
   "source": [
    "¿Qué ocurre que nos desconecta de nuestra naturaleza solidaria y nos lleva a comportarnos de manera violenta y abusiva?"
   ]
  },
  {
   "attachments": {},
   "cell_type": "markdown",
   "id": "86dee509",
   "metadata": {
    "slideshow": {
     "slide_type": "slide"
    }
   },
   "source": [
    " Y a la inversa, ¿por qué algunas personas son consecuentes con esta actitud solidaria incluso en las circunstancias más adversas?"
   ]
  },
  {
   "attachments": {},
   "cell_type": "markdown",
   "id": "e94f8489",
   "metadata": {
    "slideshow": {
     "slide_type": "slide"
    }
   },
   "source": [
    "Mi preocupación por estas preguntas se remonta a mi infancia, al verano de 1943, cuando mi familia se mudó a Detroit (Michigan)."
   ]
  },
  {
   "attachments": {},
   "cell_type": "markdown",
   "id": "1f6f5f46",
   "metadata": {
    "slideshow": {
     "slide_type": "slide"
    }
   },
   "source": [
    "Dos semanas después de haber llegado, un incidente en un parque público desencadenó un enfrentamiento racial. "
   ]
  },
  {
   "attachments": {},
   "cell_type": "markdown",
   "id": "ade89ed1",
   "metadata": {
    "slideshow": {
     "slide_type": "slide"
    }
   },
   "source": [
    "Durante los días que siguieron al hecho fueron asesinadas más de cuarenta personas. El barrio donde vivíamos estaba situado en el centro mismo del estallido de violencia, lo cual nos obligó a permanecer tres días encerrados en nuestra casa."
   ]
  },
  {
   "attachments": {},
   "cell_type": "markdown",
   "id": "1a43bf35",
   "metadata": {
    "slideshow": {
     "slide_type": "slide"
    }
   },
   "source": [
    "Cuando terminaron los disturbios y empezaron las clases, descubrí que un apellido puede ser tan peligroso como el color de la piel. "
   ]
  },
  {
   "attachments": {},
   "cell_type": "markdown",
   "id": "a73fbc50",
   "metadata": {},
   "source": [
    "El primer día, cuando el maestro pronunció mi nombre, dos chicos me miraron fijamente y murmuraron entre dientes: «¿Eres un kike?», dijeron. "
   ]
  },
  {
   "attachments": {},
   "cell_type": "markdown",
   "id": "2be89d6a",
   "metadata": {
    "slideshow": {
     "slide_type": "slide"
    }
   },
   "source": [
    "No conocía la palabra ni sabía que algunas personas la usan de manera despectiva para referirse a los judíos. "
   ]
  },
  {
   "attachments": {},
   "cell_type": "markdown",
   "id": "eae7d3b9",
   "metadata": {
    "slideshow": {
     "slide_type": "slide"
    }
   },
   "source": [
    "A la salida de clase, los dos chicos me estaban esperando y, de un empujón, me derribaron al suelo y me dieron una paliza."
   ]
  },
  {
   "attachments": {},
   "cell_type": "markdown",
   "id": "93306ead",
   "metadata": {
    "slideshow": {
     "slide_type": "slide"
    }
   },
   "source": [
    "Desde aquel verano del año 1943, he estado analizando las dos preguntas que a lo largo de este libro, como en toda su obra sobre comunicación no violenta, Marshall Rosenberg utiliza con frecuencia el término \"compasión\". "
   ]
  },
  {
   "attachments": {},
   "cell_type": "markdown",
   "id": "bb315608",
   "metadata": {
    "slideshow": {
     "slide_type": "slide"
    }
   },
   "source": [
    "Lo hace apelando al profundo impulso de humanidad común que existe en los seres humanos cuando nos comunicamos sin violencia. "
   ]
  },
  {
   "attachments": {},
   "cell_type": "markdown",
   "id": "79c35435",
   "metadata": {
    "slideshow": {
     "slide_type": "slide"
    }
   },
   "source": [
    "Este significado se diferencia del uso habitual en castellano que asocia la compasión con la conmiseración y la lástima\n",
    "frente al sufrimiento de los demás. (N. de la T.)"
   ]
  },
  {
   "attachments": {},
   "cell_type": "markdown",
   "id": "b39679b3",
   "metadata": {
    "slideshow": {
     "slide_type": "slide"
    }
   },
   "source": [
    "# Los juicios moralistas"
   ]
  },
  {
   "attachments": {},
   "cell_type": "markdown",
   "id": "d4e8cd6b",
   "metadata": {
    "slideshow": {
     "slide_type": "slide"
    }
   },
   "source": [
    "Un tipo de comunicación que aliena de la vida es aquél en el que empleamos juicios moralistas que presuponen una actitud errónea o malvada por parte de aquellas personas que no actúan de acuerdo con nuestros valores. "
   ]
  },
  {
   "attachments": {},
   "cell_type": "markdown",
   "id": "c1ea3dcc",
   "metadata": {
    "slideshow": {
     "slide_type": "slide"
    }
   },
   "source": [
    "Estos juicios se reflejan en comentarios como: «Tu problema es que eres muy egoísta», «Es una perezosa», «Están llenos de prejuicios», «Esto es inapropiado». "
   ]
  },
  {
   "attachments": {},
   "cell_type": "markdown",
   "id": "b9895eef",
   "metadata": {},
   "source": [
    "Echar la culpa a alguien, insultarlo, rebajarlo, ponerle etiquetas, criticarlo, establecer comparaciones\n",
    "y emitir diagnósticos son distintas maneras de formular juicios.\n"
   ]
  },
  {
   "attachments": {},
   "cell_type": "markdown",
   "id": "777cfe78",
   "metadata": {},
   "source": [
    "El poeta sufí Rumi escribió en cierta ocasión: \n",
    "\n",
    "«Más allá de las ideas de actuar bien y actuar mal, se extiende un campo. Allí nos encontraremos»."
   ]
  },
  {
   "attachments": {},
   "cell_type": "markdown",
   "id": "1c785551",
   "metadata": {},
   "source": [
    "Sin embargo, la comunicación que nos aliena de la vida nos atrapa en un mundo de ideas preconcebidas con\n",
    "respecto a lo que está bien y lo que está mal, un mundo hecho de juicios. "
   ]
  },
  {
   "attachments": {},
   "cell_type": "markdown",
   "id": "9b963998",
   "metadata": {},
   "source": [
    "Emplea un lenguaje en\n",
    "el que abundan las palabras que establecen clasificaciones y dicotomías con respecto a las personas y a sus formas de actuar.\n"
   ]
  },
  {
   "attachments": {},
   "cell_type": "markdown",
   "id": "df877532",
   "metadata": {},
   "source": [
    "Cuando utilizamos este lenguaje juzgamos a los demás y su comportamiento y nos\n",
    "centramos en quién es bueno, malo, normal, anormal, responsable, irresponsable,\n",
    "inteligente, ignorante, etcétera.\n",
    "Ciertas formas de comunicación nos alienan de nuestro estado natural de compasión o solidaridad."
   ]
  },
  {
   "attachments": {},
   "cell_type": "markdown",
   "id": "5fc493ad",
   "metadata": {
    "slideshow": {
     "slide_type": "slide"
    }
   },
   "source": [
    "En el mundo de los juicios\n",
    "nuestra preocupación se\n",
    "centra en quién “es” qué."
   ]
  },
  {
   "attachments": {},
   "cell_type": "markdown",
   "id": "23d1cf0a",
   "metadata": {
    "slideshow": {
     "slide_type": "slide"
    }
   },
   "source": [
    "Mucho antes de llegar a la edad adulta, aprendí a comunicarme con los demás de una manera impersonal en la que no necesitaba revelar lo que me estaba pasando internamente. "
   ]
  },
  {
   "attachments": {},
   "cell_type": "markdown",
   "id": "fe92600c",
   "metadata": {
    "slideshow": {
     "slide_type": "slide"
    }
   },
   "source": [
    "Cada vez que me encontraba con personas o hechos que no me gustaban o no comprendía, mi reacción consistía en dictaminar que los equivocados eran ellos. "
   ]
  },
  {
   "attachments": {},
   "cell_type": "markdown",
   "id": "02abdd5f",
   "metadata": {
    "slideshow": {
     "slide_type": "slide"
    }
   },
   "source": [
    "Cuando mis maestros me encomendaban una tarea que yo no tenía ganas de hacer, se convertían a mis ojos en unos «pesados» o unos «imbéciles». "
   ]
  },
  {
   "attachments": {},
   "cell_type": "markdown",
   "id": "9fc2f7f6",
   "metadata": {
    "slideshow": {
     "slide_type": "slide"
    }
   },
   "source": [
    "Cuando estaba manejando y alguien me pasaba por delante, yo reaccionaba llamándolo «idiota». "
   ]
  },
  {
   "attachments": {},
   "cell_type": "markdown",
   "id": "c4231c7a",
   "metadata": {
    "slideshow": {
     "slide_type": "slide"
    }
   },
   "source": [
    "Siempre que empleamos este lenguaje, pensamos y nos comunicamos desde la perspectiva de\n",
    "que algo falla en los demás porque se comportan de una determinada manera o, a veces, de que algo falla en nosotros porque no comprendemos o no responde\u0002mos como nos gustaría. "
   ]
  },
  {
   "attachments": {},
   "cell_type": "markdown",
   "id": "16ce4f69",
   "metadata": {
    "slideshow": {
     "slide_type": "slide"
    }
   },
   "source": [
    "Centramos nuestra atención en clasificar, analizar y determinar niveles de error más que en lo que necesitamos (nosotros y los demás) y no conseguimos. "
   ]
  },
  {
   "attachments": {},
   "cell_type": "markdown",
   "id": "9715eef7",
   "metadata": {
    "slideshow": {
     "slide_type": "slide"
    }
   },
   "source": [
    "En consecuencia, si mi pareja quiere más cariño del que yo le ofrezco, es una persona «dependiente y desvalida». Pero si yo quiero más cariño que el que ella me da, es «distante e insensible». Si mi compañero de trabajo se preocupa más que yo por los detalles, es «quisquilloso y compulsivo». "
   ]
  },
  {
   "attachments": {},
   "cell_type": "markdown",
   "id": "611ca7d1",
   "metadata": {},
   "source": [
    "En cambio,si soy yo quien se preocupa más por los detalles, él es «descuidado y desorganizado».\n",
    "Creo que este tipo de análisis de otros seres humanos no es más que una trágica expresión de nuestros propios valores y necesidades. "
   ]
  },
  {
   "attachments": {},
   "cell_type": "markdown",
   "id": "324825b1",
   "metadata": {},
   "source": [
    "Trágica porque, cuando expresamos nuestros valores y necesidades de esta manera, lo único que conseguimos es potenciar una actitud defensiva y de resistencia en las mismas personas cuya conducta nos molesta. "
   ]
  },
  {
   "attachments": {},
   "cell_type": "markdown",
   "id": "d83f9a67",
   "metadata": {},
   "source": [
    "Y si aceptan actuar en consonancia con nuestra\n",
    "escala de valores porque coinciden en nuestro análisis de su ineptitud, es probable que sólo lo hagan por miedo, culpa o vergüenza.\n"
   ]
  },
  {
   "attachments": {},
   "cell_type": "markdown",
   "id": "bc35f547",
   "metadata": {},
   "source": [
    "Sin embargo, cuando los demás acceden a actuar de acuerdo con nuestros valores y necesidades, no porque lo deseen de corazón, sino porque tienen miedo o se sienten culpables o avergonzados, el precio que nos toca pagar es realmente muy alto. "
   ]
  },
  {
   "attachments": {},
   "cell_type": "markdown",
   "id": "c3cbd1bd",
   "metadata": {},
   "source": [
    "Tarde o temprano vendrán las consecuencias bajo la forma de una falta de buena voluntad por parte de aquellos que responden a nuestros deseos por coerción externa o interna. "
   ]
  },
  {
   "attachments": {},
   "cell_type": "markdown",
   "id": "392580c8",
   "metadata": {},
   "source": [
    "Por otro lado, cuando alguien hace algo por miedo, culpa o vergüenza, también paga un precio de tipo emocional, ya que abrigará un resentimiento contra nosotros al quedar rebajada su autoestima. "
   ]
  },
  {
   "attachments": {},
   "cell_type": "markdown",
   "id": "3f46db65",
   "metadata": {},
   "source": [
    "Además, cada\n",
    "vez que otras personas nos asocien con cualquiera de estos sentimientos, disminuirá la probabilidad de que en el futuro respondan de una manera solidaria a nuestras necesidades y nuestros valores"
   ]
  },
  {
   "attachments": {},
   "cell_type": "markdown",
   "id": "96775931",
   "metadata": {
    "slideshow": {
     "slide_type": "slide"
    }
   },
   "source": [
    "## Título de la clase: Seminario 2: Modelado de Series de Tiempo Básico  \n",
    "\n"
   ]
  },
  {
   "attachments": {},
   "cell_type": "markdown",
   "id": "1d38dd4e",
   "metadata": {
    "slideshow": {
     "slide_type": "slide"
    }
   },
   "source": [
    "### Objetivo de aprendizaje (Enunciar, de manera corta sencilla y clara para todos los asistentes)\n",
    "\n",
    "* "
   ]
  },
  {
   "attachments": {},
   "cell_type": "markdown",
   "id": "540f0ec1",
   "metadata": {
    "slideshow": {
     "slide_type": "slide"
    }
   },
   "source": [
    "## Cuestionario para realizar labores de memorización, observación y síntesis de la información (Además de diagnóstico)\n",
    "\n",
    "1. ¿?\n",
    "2. ¿?\n",
    "3. ¿?\n",
    "4. ¿?\n",
    "5. ¿?"
   ]
  },
  {
   "attachments": {},
   "cell_type": "markdown",
   "id": "ca7261b1",
   "metadata": {
    "slideshow": {
     "slide_type": "slide"
    }
   },
   "source": [
    "## Establecimiento de prerrequisitos conceptuales para alcanzar el objetivo de aprendizaje trazado.   \n",
    "\n",
    "(Elabore una lista de preguntas al rededor de los conceptos que consideres necesarios para empezar la clase).  \n",
    "\n",
    "1. \n",
    "2. \n",
    "3. "
   ]
  },
  {
   "attachments": {},
   "cell_type": "markdown",
   "id": "2298e976",
   "metadata": {
    "slideshow": {
     "slide_type": "slide"
    }
   },
   "source": [
    "# Para el diseño de la clase tenga en cuenta algunos problemas de aprendizaje"
   ]
  },
  {
   "cell_type": "code",
   "execution_count": null,
   "id": "523d3acf",
   "metadata": {
    "slideshow": {
     "slide_type": "slide"
    }
   },
   "outputs": [],
   "source": []
  },
  {
   "attachments": {},
   "cell_type": "markdown",
   "id": "a40a4704",
   "metadata": {
    "slideshow": {
     "slide_type": "slide"
    }
   },
   "source": [
    "## Secuencia conceptual introductoria a la clase"
   ]
  },
  {
   "attachments": {},
   "cell_type": "markdown",
   "id": "12cb2994",
   "metadata": {
    "slideshow": {
     "slide_type": "slide"
    }
   },
   "source": [
    "**Seminario 2: Modelado de Series de Tiempo Básico**\n",
    "- Análisis exploratorio de datos de series de tiempo.\n",
    "- Modelos de alisado exponencial y promedio móvil.\n",
    "- Implementación en Python con pandas y matplotlib."
   ]
  },
  {
   "cell_type": "markdown",
   "id": "723cd53f",
   "metadata": {},
   "source": [
    "# **Seminario 2: Modelado de Series de Tiempo Básico**\n"
   ]
  },
  {
   "cell_type": "markdown",
   "id": "6c82f121",
   "metadata": {},
   "source": [
    "\n",
    "## **Duración Total: 90 minutos**\n",
    "\n",
    "### **Objetivo del Seminario:**\n",
    "Introducir a los participantes en los conceptos básicos de modelado de series de tiempo, enfocándose en los modelos de alisado exponencial y promedio móvil. Los participantes aprenderán a realizar un análisis exploratorio de datos de series de tiempo y a implementar estos modelos utilizando la biblioteca `pandas` y `matplotlib` en Python.\n"
   ]
  },
  {
   "cell_type": "markdown",
   "id": "5b69756e",
   "metadata": {},
   "source": [
    "\n",
    "#### **Agenda:**\n"
   ]
  },
  {
   "cell_type": "markdown",
   "id": "de602c89",
   "metadata": {},
   "source": [
    "\n",
    "1. **Introducción (5 minutos)**\n",
    "   - Presentación del objetivo del seminario y su relevancia en el análisis de series de tiempo.\n"
   ]
  },
  {
   "cell_type": "markdown",
   "id": "5740ef8c",
   "metadata": {},
   "source": [
    "\n",
    "2. **Análisis Exploratorio de Datos de Series de Tiempo (15 minutos)**\n",
    "   - Explicación de la importancia del análisis exploratorio.\n",
    "   - Revisión de patrones temporales, tendencias y estacionalidades.\n",
    "\n",
    "3. **Introducción a Modelos de Alisado Exponencial (15 minutos)**\n",
    "   - Explicación de los conceptos de alisado exponencial y su aplicación en el pronóstico de series de tiempo.\n",
    "   - Discusión de los parámetros alfa y cómo afectan el peso de las observaciones pasadas.\n",
    "\n",
    "4. **Implementación de Alisado Exponencial en Python (20 minutos)**\n",
    "   - Uso de la biblioteca `pandas` para cargar y visualizar los datos de una serie de tiempo.\n",
    "   - Implementación de un modelo de alisado exponencial simple.\n",
    "   - Visualización de la serie de tiempo original y el pronóstico.\n",
    "\n",
    "5. **Introducción a Modelos de Promedio Móvil (15 minutos)**\n",
    "   - Explicación de los conceptos de promedio móvil y su aplicación en el pronóstico.\n",
    "   - Discusión de la ventana de tiempo y cómo afecta el suavizado de la serie.\n",
    "\n",
    "6. **Implementación de Promedio Móvil en Python (20 minutos)**\n",
    "   - Implementación de un modelo de promedio móvil en Python utilizando `pandas`.\n",
    "   - Comparación visual entre el modelo de alisado exponencial y el modelo de promedio móvil.\n",
    "\n",
    "7. **Conclusiones y Preguntas (5 minutos)**\n",
    "   - Recapitulación de los conceptos y técnicas presentadas durante el seminario.\n",
    "   - Espacio para que los participantes formulen preguntas y compartan sus observaciones.\n",
    "\n",
    "**Materiales Requeridos:**\n",
    "- Computadoras con acceso a Jupyter Notebook y Python.\n",
    "- Conjunto de datos de ejemplo que contenga una serie de tiempo.\n",
    "\n",
    "**Instrucciones para los Participantes:**\n",
    "- Asegurarse de tener Python, Jupyter Notebook, y las bibliotecas `pandas` y `matplotlib` instaladas antes del seminario.\n",
    "- Descargar el conjunto de datos de ejemplo proporcionado por el instructor.\n",
    "- Participar activamente en la discusión y los ejercicios prácticos durante el seminario.\n",
    "\n",
    "**Nota Importante:**\n",
    "Este es solo un esquema básico del desarrollo del seminario. Durante la realización, el instructor puede agregar detalles, ejemplos prácticos, ejercicios interactivos y ampliar cada sección según sea necesario para garantizar que los participantes adquieran una comprensión sólida del modelado de series de tiempo utilizando alisado exponencial y promedio móvil en Python."
   ]
  },
  {
   "cell_type": "markdown",
   "id": "f3cb3b0d",
   "metadata": {},
   "source": [
    "# Desarrollo del seminario\n",
    "\n",
    "**Introducción (5 minutos)**\n",
    "\n",
    "**Contenido:**\n",
    "En esta sección introductoria, se presentará el objetivo general del seminario y se resaltará la importancia del análisis de series de tiempo en diversos campos. Se establecerá la conexión entre el análisis de series de tiempo y la toma de decisiones informadas en situaciones que involucran datos temporales.\n",
    "\n",
    "**Actividades:**\n",
    "\n",
    "1. **Presentación del Objetivo (2 minutos):**\n",
    "   - El presentador introducirá el objetivo general del seminario, que es comprender los conceptos básicos de modelado de series de tiempo, enfocándose en los modelos de alisado exponencial y promedio móvil.\n",
    "\n",
    "2. **Importancia del Análisis de Series de Tiempo (2 minutos):**\n",
    "   - El presentador destacará la relevancia de analizar series de tiempo en diferentes contextos, como finanzas, ventas, pronósticos meteorológicos, salud, entre otros.\n",
    "   - Se enfatizará cómo el análisis de series de tiempo puede proporcionar información valiosa para la toma de decisiones y la planificación.\n",
    "\n",
    "3. **Contexto y Expectativas (1 minuto):**\n",
    "   - El presentador establecerá el tono para el resto del seminario, destacando que se explorarán los modelos de alisado exponencial y promedio móvil como herramientas esenciales en el análisis de series de tiempo.\n",
    "   - Se alentará a los participantes a participar activamente, hacer preguntas y compartir sus observaciones durante el seminario.\n",
    "\n",
    "**Nota:** Es importante mantener esta sección breve y enfocada para cumplir con el límite de tiempo de 5 minutos. La idea es despertar el interés de los participantes, presentar la relevancia del seminario y establecer una base sólida para el contenido que se abordará en las secciones siguientes."
   ]
  },
  {
   "cell_type": "markdown",
   "id": "e8587eec",
   "metadata": {},
   "source": [
    "# la importancia del análisis de series de tiempo en diversos campos. Se establecerá la conexión entre el análisis de series de tiempo y la toma de decisiones informadas en situaciones que involucran datos temporales.\n",
    "\n",
    "\n",
    "**Importancia del Análisis de Series de Tiempo en Diversos Campos:**\n",
    "\n",
    "El análisis de series de tiempo desempeña un papel fundamental en una amplia variedad de campos y disciplinas, ya que permite comprender y predecir patrones en datos temporales. Algunos de los campos en los que el análisis de series de tiempo es esencial incluyen:\n",
    "\n",
    "1. **Economía y Finanzas:**\n",
    "   - En el sector financiero, el análisis de series de tiempo se utiliza para pronosticar tendencias económicas, tasas de interés, precios de acciones y valores de divisas.\n",
    "   - Permite a las empresas y gobiernos tomar decisiones informadas sobre inversiones, políticas monetarias y estrategias financieras en función de las proyecciones de la serie de tiempo.\n",
    "\n",
    "2. **Comercio y Ventas:**\n",
    "   - Las empresas minoristas utilizan el análisis de series de tiempo para comprender los patrones de demanda de productos a lo largo del tiempo, lo que les ayuda a optimizar la gestión de inventario y planificar promociones.\n",
    "   - El análisis de series de tiempo también ayuda a identificar períodos de alta demanda, como festividades o temporadas, permitiendo una planificación eficiente de recursos y personal.\n",
    "\n",
    "**Conexión entre el Análisis de Series de Tiempo y la Toma de Decisiones Informadas:**\n",
    "\n",
    "El análisis de series de tiempo proporciona información valiosa que respalda la toma de decisiones informadas en situaciones que involucran datos temporales. Aquí hay dos ejemplos que ilustran esta conexión:\n",
    "\n",
    "1. **Ejemplo en la Economía: Pronóstico de Tasas de Interés:**\n",
    "   - Un banco central necesita tomar decisiones sobre las tasas de interés en función de la evolución económica. Utilizando el análisis de series de tiempo de indicadores clave como el PIB, el desempleo y la inflación, el banco puede pronosticar el comportamiento futuro de la economía.\n",
    "   - La toma de decisiones sobre las tasas de interés afecta a préstamos, inversiones y políticas monetarias, lo que influye en la estabilidad económica.\n",
    "\n",
    "2. **Ejemplo en el Comercio: Planificación de Inventarios:**\n",
    "   - Una cadena de tiendas de ropa debe administrar su inventario de manera eficiente para satisfacer la demanda de los clientes y evitar exceso de inventario.\n",
    "   - Utilizando análisis de series de tiempo de datos de ventas pasadas y tendencias estacionales, la empresa puede prever la demanda futura y planificar sus compras y existencias para evitar agotamientos o excesos de inventario.\n",
    "\n",
    "En ambos ejemplos, el análisis de series de tiempo permite anticipar tendencias y comportamientos futuros basados en datos históricos. Esto, a su vez, facilita la toma de decisiones informadas que tienen un impacto significativo en la planificación y el éxito de organizaciones en diferentes industrias."
   ]
  },
  {
   "cell_type": "code",
   "execution_count": null,
   "id": "2b23973a",
   "metadata": {},
   "outputs": [],
   "source": []
  },
  {
   "cell_type": "markdown",
   "id": "3b078a4e",
   "metadata": {},
   "source": [
    "# Lectura a wes mckiney"
   ]
  },
  {
   "cell_type": "markdown",
   "id": "9b5bdc24",
   "metadata": {},
   "source": [
    "Los datos de series temporales son una forma importante de datos estructurados en muchos campos diferentes, como las finanzas, la economía, la ecología, la neurociencia y la física. "
   ]
  },
  {
   "cell_type": "markdown",
   "id": "57d48dd8",
   "metadata": {},
   "source": [
    "Todo lo que se observa o mide en muchos puntos en el tiempo forma una serie temporal. "
   ]
  },
  {
   "cell_type": "markdown",
   "id": "dfc66f81",
   "metadata": {},
   "source": [
    "Muchas series de tiempo son de frecuencia fija, lo que quiere decir que los puntos de datos ocurren a intervalos regulares de acuerdo con alguna regla, como cada 15 segundos, cada 5 minutos o una vez al mes. Las series de tiempo también pueden ser irregulares sin una unidad de tiempo fija o compensación entre unidades. "
   ]
  },
  {
   "cell_type": "markdown",
   "id": "70f6c8d6",
   "metadata": {},
   "source": [
    "La forma en que marca y hace referencia a los datos de series temporales depende de la aplicación, y es posible que tenga uno de los\n",
    "siguiente:"
   ]
  },
  {
   "cell_type": "markdown",
   "id": "f8ada5bd",
   "metadata": {},
   "source": [
    "* Marcas de tiempo, instantes específicos en el tiempo\n",
    "* Períodos fijos, como el mes de enero de 2007 o el año completo de 2010\n",
    "* Intervalos de tiempo, indicados por una marca de tiempo de inicio y finalización. Los períodos se pueden considerar como casos especiales de intervalos.\n",
    "* Experimento o tiempo transcurrido; cada marca de tiempo es una medida de tiempo relativa a una hora de inicio particular (por ejemplo, el diámetro de una galleta horneada cada segundo desde que se colocó en el horno)\n"
   ]
  },
  {
   "cell_type": "markdown",
   "id": "0abbc061",
   "metadata": {},
   "source": [
    "En este capítulo, me ocupo principalmente de las series de tiempo en las tres primeras categorías, aunque muchas de las técnicas se pueden aplicar a series de tiempo experimentales donde el índice puede ser un número entero o de coma flotante que indica el tiempo transcurrido desde el comienzo del experimento. . El tipo de serie de tiempo más simple y más utilizado es el indexado por sello de tiempo."
   ]
  },
  {
   "cell_type": "markdown",
   "id": "2e062ee6",
   "metadata": {},
   "source": [
    "pandas también admite índices basados en timedeltas, que pueden ser una forma útil de representar el tiempo transcurrido o el experimento. No exploramos los índices timedelta en este libro, pero puede obtener más información en la documentación de pandas.\n",
    "pandas proporciona muchas herramientas integradas de series temporales y algoritmos de datos. Puede trabajar de manera eficiente con series temporales muy grandes y dividir, dividir, agregar y volver a muestrear fácilmente series temporales de frecuencia fija e irregular. Algunas de estas herramientas son especialmente útiles para aplicaciones financieras y económicas, pero también podría usarlas para analizar los datos de registro del servidor."
   ]
  },
  {
   "cell_type": "markdown",
   "id": "568ce9c2",
   "metadata": {},
   "source": [
    "## Herramientas y tipos de datos de fecha y hora\n"
   ]
  },
  {
   "cell_type": "markdown",
   "id": "691d8523",
   "metadata": {},
   "source": [
    "La biblioteca estándar de Python incluye tipos de datos para datos de fecha y hora, así como funciones relacionadas con el calendario. Los módulos datetime , time y calendar son los principales lugares para comenzar. El tipo datetime.datetime, o simplemente datetime, es muy utilizado:"
   ]
  },
  {
   "cell_type": "code",
   "execution_count": 15,
   "id": "04d1ec35",
   "metadata": {},
   "outputs": [],
   "source": [
    "from datetime import datetime\n"
   ]
  },
  {
   "cell_type": "code",
   "execution_count": 16,
   "id": "0a557190",
   "metadata": {},
   "outputs": [],
   "source": [
    "fecha_actual = datetime.now()"
   ]
  },
  {
   "cell_type": "code",
   "execution_count": 17,
   "id": "842dbac6",
   "metadata": {},
   "outputs": [
    {
     "data": {
      "text/plain": [
       "datetime.datetime(2023, 8, 12, 12, 3, 22, 298992)"
      ]
     },
     "execution_count": 17,
     "metadata": {},
     "output_type": "execute_result"
    }
   ],
   "source": [
    "fecha_actual "
   ]
  },
  {
   "cell_type": "code",
   "execution_count": null,
   "id": "99b28b20",
   "metadata": {},
   "outputs": [],
   "source": [
    "fecha_actual.second"
   ]
  },
  {
   "cell_type": "code",
   "execution_count": null,
   "id": "3997d095",
   "metadata": {},
   "outputs": [],
   "source": [
    "year, month, day, hour, min, second"
   ]
  },
  {
   "cell_type": "code",
   "execution_count": null,
   "id": "2a6be877",
   "metadata": {},
   "outputs": [],
   "source": []
  },
  {
   "cell_type": "code",
   "execution_count": 14,
   "id": "1984a3ac",
   "metadata": {},
   "outputs": [
    {
     "ename": "NameError",
     "evalue": "name 'datetime' is not defined",
     "output_type": "error",
     "traceback": [
      "\u001b[0;31m---------------------------------------------------------------------------\u001b[0m",
      "\u001b[0;31mNameError\u001b[0m                                 Traceback (most recent call last)",
      "Cell \u001b[0;32mIn[14], line 1\u001b[0m\n\u001b[0;32m----> 1\u001b[0m now \u001b[39m=\u001b[39m datetime\u001b[39m.\u001b[39mnow()\n\u001b[1;32m      2\u001b[0m now\n",
      "\u001b[0;31mNameError\u001b[0m: name 'datetime' is not defined"
     ]
    }
   ],
   "source": [
    "now = datetime.now()\n",
    "now\n"
   ]
  },
  {
   "cell_type": "code",
   "execution_count": null,
   "id": "67e6db58",
   "metadata": {},
   "outputs": [],
   "source": [
    "now.year, now.month, now.day, now.hour, now.min, now.second\n"
   ]
  },
  {
   "cell_type": "code",
   "execution_count": null,
   "id": "c761b10f",
   "metadata": {},
   "outputs": [],
   "source": [
    "now.year"
   ]
  },
  {
   "cell_type": "code",
   "execution_count": null,
   "id": "9f7f7a23",
   "metadata": {},
   "outputs": [],
   "source": [
    "now.month"
   ]
  },
  {
   "cell_type": "code",
   "execution_count": null,
   "id": "f7f1b330",
   "metadata": {},
   "outputs": [],
   "source": [
    "now.day"
   ]
  },
  {
   "cell_type": "markdown",
   "id": "74a580a5",
   "metadata": {},
   "source": [
    "## [Video de apoyo sobre obtención de fecha actual y descomposición de atributos de ella](https://www.youtube.com/watch?v=12Yz8IYKBro)"
   ]
  },
  {
   "cell_type": "markdown",
   "id": "aa93d524",
   "metadata": {},
   "source": [
    "# Descompongamos fechas de los datos de AMSC\n",
    "\n",
    "[valla a aws](https://aws.amazon.com/es/)"
   ]
  },
  {
   "cell_type": "code",
   "execution_count": 1,
   "id": "bbf02cdc",
   "metadata": {},
   "outputs": [],
   "source": [
    "import pandas as pd \n",
    "\n"
   ]
  },
  {
   "cell_type": "code",
   "execution_count": 2,
   "id": "94326639",
   "metadata": {},
   "outputs": [],
   "source": [
    "url = \"https://raw.githubusercontent.com/marco-canas/7_didactica_ciencia_datos/main/3_datasets/antioquia_mira_su_cielo/caucasia.csv\""
   ]
  },
  {
   "cell_type": "code",
   "execution_count": 3,
   "id": "2125c676",
   "metadata": {},
   "outputs": [],
   "source": [
    "datos_2023_hasta_mayo = pd.read_csv(url)"
   ]
  },
  {
   "cell_type": "code",
   "execution_count": 5,
   "id": "1e7718ae",
   "metadata": {},
   "outputs": [
    {
     "data": {
      "text/html": [
       "<div>\n",
       "<style scoped>\n",
       "    .dataframe tbody tr th:only-of-type {\n",
       "        vertical-align: middle;\n",
       "    }\n",
       "\n",
       "    .dataframe tbody tr th {\n",
       "        vertical-align: top;\n",
       "    }\n",
       "\n",
       "    .dataframe thead th {\n",
       "        text-align: right;\n",
       "    }\n",
       "</style>\n",
       "<table border=\"1\" class=\"dataframe\">\n",
       "  <thead>\n",
       "    <tr style=\"text-align: right;\">\n",
       "      <th></th>\n",
       "      <th>Unnamed: 0</th>\n",
       "      <th>Tiempo Sistema</th>\n",
       "      <th>Bar Trend</th>\n",
       "      <th>Next Record</th>\n",
       "      <th>Barometer</th>\n",
       "      <th>Inside Temperature</th>\n",
       "      <th>Inside Humidity</th>\n",
       "      <th>Outside Temperature</th>\n",
       "      <th>Wind Speed</th>\n",
       "      <th>10 Min Avg Wind Speed</th>\n",
       "      <th>...</th>\n",
       "      <th>Soil &amp; Leaf Alarms</th>\n",
       "      <th>Transmitter Battery Status</th>\n",
       "      <th>Console Battery Voltage</th>\n",
       "      <th>Forecast Icons</th>\n",
       "      <th>Forecast Rule number</th>\n",
       "      <th>Time of Sunrise</th>\n",
       "      <th>Time of Sunset</th>\n",
       "      <th>&lt;LF&gt; = 0x0A</th>\n",
       "      <th>&lt;CR&gt; = 0x0D</th>\n",
       "      <th>CRC</th>\n",
       "    </tr>\n",
       "  </thead>\n",
       "  <tbody>\n",
       "    <tr>\n",
       "      <th>0</th>\n",
       "      <td>0</td>\n",
       "      <td>2023-01-25 09:47:53</td>\n",
       "      <td>O</td>\n",
       "      <td>1441.0</td>\n",
       "      <td>29687.0</td>\n",
       "      <td>942.0</td>\n",
       "      <td>50.0</td>\n",
       "      <td>921.0</td>\n",
       "      <td>2.0</td>\n",
       "      <td>3.0</td>\n",
       "      <td>...</td>\n",
       "      <td>0.0</td>\n",
       "      <td>0.0</td>\n",
       "      <td>780.0</td>\n",
       "      <td>7.0</td>\n",
       "      <td>172.0</td>\n",
       "      <td>620.0</td>\n",
       "      <td>1806.0</td>\n",
       "      <td>10.0</td>\n",
       "      <td>13.0</td>\n",
       "      <td>37242.0</td>\n",
       "    </tr>\n",
       "    <tr>\n",
       "      <th>1</th>\n",
       "      <td>1</td>\n",
       "      <td>2023-01-25 09:48:00</td>\n",
       "      <td>O</td>\n",
       "      <td>1441.0</td>\n",
       "      <td>29687.0</td>\n",
       "      <td>943.0</td>\n",
       "      <td>50.0</td>\n",
       "      <td>921.0</td>\n",
       "      <td>3.0</td>\n",
       "      <td>3.0</td>\n",
       "      <td>...</td>\n",
       "      <td>0.0</td>\n",
       "      <td>0.0</td>\n",
       "      <td>780.0</td>\n",
       "      <td>7.0</td>\n",
       "      <td>172.0</td>\n",
       "      <td>620.0</td>\n",
       "      <td>1806.0</td>\n",
       "      <td>10.0</td>\n",
       "      <td>13.0</td>\n",
       "      <td>46574.0</td>\n",
       "    </tr>\n",
       "    <tr>\n",
       "      <th>2</th>\n",
       "      <td>2</td>\n",
       "      <td>2023-01-25 09:49:03</td>\n",
       "      <td>O</td>\n",
       "      <td>1441.0</td>\n",
       "      <td>29687.0</td>\n",
       "      <td>942.0</td>\n",
       "      <td>50.0</td>\n",
       "      <td>922.0</td>\n",
       "      <td>4.0</td>\n",
       "      <td>3.0</td>\n",
       "      <td>...</td>\n",
       "      <td>0.0</td>\n",
       "      <td>0.0</td>\n",
       "      <td>780.0</td>\n",
       "      <td>7.0</td>\n",
       "      <td>172.0</td>\n",
       "      <td>620.0</td>\n",
       "      <td>1806.0</td>\n",
       "      <td>10.0</td>\n",
       "      <td>13.0</td>\n",
       "      <td>37685.0</td>\n",
       "    </tr>\n",
       "    <tr>\n",
       "      <th>3</th>\n",
       "      <td>3</td>\n",
       "      <td>2023-01-25 09:50:00</td>\n",
       "      <td>O</td>\n",
       "      <td>1441.0</td>\n",
       "      <td>29687.0</td>\n",
       "      <td>942.0</td>\n",
       "      <td>50.0</td>\n",
       "      <td>923.0</td>\n",
       "      <td>4.0</td>\n",
       "      <td>3.0</td>\n",
       "      <td>...</td>\n",
       "      <td>0.0</td>\n",
       "      <td>0.0</td>\n",
       "      <td>780.0</td>\n",
       "      <td>7.0</td>\n",
       "      <td>172.0</td>\n",
       "      <td>620.0</td>\n",
       "      <td>1806.0</td>\n",
       "      <td>10.0</td>\n",
       "      <td>13.0</td>\n",
       "      <td>50633.0</td>\n",
       "    </tr>\n",
       "    <tr>\n",
       "      <th>4</th>\n",
       "      <td>4</td>\n",
       "      <td>2023-01-25 09:51:00</td>\n",
       "      <td>O</td>\n",
       "      <td>1441.0</td>\n",
       "      <td>29684.0</td>\n",
       "      <td>943.0</td>\n",
       "      <td>50.0</td>\n",
       "      <td>923.0</td>\n",
       "      <td>3.0</td>\n",
       "      <td>3.0</td>\n",
       "      <td>...</td>\n",
       "      <td>0.0</td>\n",
       "      <td>0.0</td>\n",
       "      <td>780.0</td>\n",
       "      <td>7.0</td>\n",
       "      <td>172.0</td>\n",
       "      <td>620.0</td>\n",
       "      <td>1806.0</td>\n",
       "      <td>10.0</td>\n",
       "      <td>13.0</td>\n",
       "      <td>571.0</td>\n",
       "    </tr>\n",
       "    <tr>\n",
       "      <th>...</th>\n",
       "      <td>...</td>\n",
       "      <td>...</td>\n",
       "      <td>...</td>\n",
       "      <td>...</td>\n",
       "      <td>...</td>\n",
       "      <td>...</td>\n",
       "      <td>...</td>\n",
       "      <td>...</td>\n",
       "      <td>...</td>\n",
       "      <td>...</td>\n",
       "      <td>...</td>\n",
       "      <td>...</td>\n",
       "      <td>...</td>\n",
       "      <td>...</td>\n",
       "      <td>...</td>\n",
       "      <td>...</td>\n",
       "      <td>...</td>\n",
       "      <td>...</td>\n",
       "      <td>...</td>\n",
       "      <td>...</td>\n",
       "      <td>...</td>\n",
       "    </tr>\n",
       "    <tr>\n",
       "      <th>133402</th>\n",
       "      <td>896</td>\n",
       "      <td>2023-05-25 09:56:00</td>\n",
       "      <td>O</td>\n",
       "      <td>2081.0</td>\n",
       "      <td>29698.0</td>\n",
       "      <td>881.0</td>\n",
       "      <td>73.0</td>\n",
       "      <td>816.0</td>\n",
       "      <td>2.0</td>\n",
       "      <td>4.0</td>\n",
       "      <td>...</td>\n",
       "      <td>0.0</td>\n",
       "      <td>0.0</td>\n",
       "      <td>782.0</td>\n",
       "      <td>7.0</td>\n",
       "      <td>172.0</td>\n",
       "      <td>642.0</td>\n",
       "      <td>1914.0</td>\n",
       "      <td>10.0</td>\n",
       "      <td>13.0</td>\n",
       "      <td>28238.0</td>\n",
       "    </tr>\n",
       "    <tr>\n",
       "      <th>133403</th>\n",
       "      <td>897</td>\n",
       "      <td>2023-05-25 09:57:00</td>\n",
       "      <td>O</td>\n",
       "      <td>2081.0</td>\n",
       "      <td>29698.0</td>\n",
       "      <td>881.0</td>\n",
       "      <td>73.0</td>\n",
       "      <td>816.0</td>\n",
       "      <td>4.0</td>\n",
       "      <td>4.0</td>\n",
       "      <td>...</td>\n",
       "      <td>0.0</td>\n",
       "      <td>0.0</td>\n",
       "      <td>781.0</td>\n",
       "      <td>7.0</td>\n",
       "      <td>172.0</td>\n",
       "      <td>642.0</td>\n",
       "      <td>1914.0</td>\n",
       "      <td>10.0</td>\n",
       "      <td>13.0</td>\n",
       "      <td>33285.0</td>\n",
       "    </tr>\n",
       "    <tr>\n",
       "      <th>133404</th>\n",
       "      <td>898</td>\n",
       "      <td>2023-05-25 09:58:00</td>\n",
       "      <td>O</td>\n",
       "      <td>2081.0</td>\n",
       "      <td>29698.0</td>\n",
       "      <td>880.0</td>\n",
       "      <td>73.0</td>\n",
       "      <td>817.0</td>\n",
       "      <td>2.0</td>\n",
       "      <td>4.0</td>\n",
       "      <td>...</td>\n",
       "      <td>0.0</td>\n",
       "      <td>0.0</td>\n",
       "      <td>781.0</td>\n",
       "      <td>7.0</td>\n",
       "      <td>172.0</td>\n",
       "      <td>642.0</td>\n",
       "      <td>1914.0</td>\n",
       "      <td>10.0</td>\n",
       "      <td>13.0</td>\n",
       "      <td>29869.0</td>\n",
       "    </tr>\n",
       "    <tr>\n",
       "      <th>133405</th>\n",
       "      <td>899</td>\n",
       "      <td>2023-05-25 09:59:00</td>\n",
       "      <td>O</td>\n",
       "      <td>2081.0</td>\n",
       "      <td>29698.0</td>\n",
       "      <td>880.0</td>\n",
       "      <td>74.0</td>\n",
       "      <td>817.0</td>\n",
       "      <td>5.0</td>\n",
       "      <td>4.0</td>\n",
       "      <td>...</td>\n",
       "      <td>0.0</td>\n",
       "      <td>0.0</td>\n",
       "      <td>781.0</td>\n",
       "      <td>7.0</td>\n",
       "      <td>172.0</td>\n",
       "      <td>642.0</td>\n",
       "      <td>1914.0</td>\n",
       "      <td>10.0</td>\n",
       "      <td>13.0</td>\n",
       "      <td>49051.0</td>\n",
       "    </tr>\n",
       "    <tr>\n",
       "      <th>133406</th>\n",
       "      <td>900</td>\n",
       "      <td>2023-05-25 10:00:00</td>\n",
       "      <td>O</td>\n",
       "      <td>2082.0</td>\n",
       "      <td>29699.0</td>\n",
       "      <td>880.0</td>\n",
       "      <td>74.0</td>\n",
       "      <td>817.0</td>\n",
       "      <td>2.0</td>\n",
       "      <td>4.0</td>\n",
       "      <td>...</td>\n",
       "      <td>0.0</td>\n",
       "      <td>0.0</td>\n",
       "      <td>782.0</td>\n",
       "      <td>7.0</td>\n",
       "      <td>172.0</td>\n",
       "      <td>642.0</td>\n",
       "      <td>1914.0</td>\n",
       "      <td>10.0</td>\n",
       "      <td>13.0</td>\n",
       "      <td>43451.0</td>\n",
       "    </tr>\n",
       "  </tbody>\n",
       "</table>\n",
       "<p>133407 rows × 43 columns</p>\n",
       "</div>"
      ],
      "text/plain": [
       "        Unnamed: 0       Tiempo Sistema Bar Trend  Next Record  Barometer  \\\n",
       "0                0  2023-01-25 09:47:53         O       1441.0    29687.0   \n",
       "1                1  2023-01-25 09:48:00         O       1441.0    29687.0   \n",
       "2                2  2023-01-25 09:49:03         O       1441.0    29687.0   \n",
       "3                3  2023-01-25 09:50:00         O       1441.0    29687.0   \n",
       "4                4  2023-01-25 09:51:00         O       1441.0    29684.0   \n",
       "...            ...                  ...       ...          ...        ...   \n",
       "133402         896  2023-05-25 09:56:00         O       2081.0    29698.0   \n",
       "133403         897  2023-05-25 09:57:00         O       2081.0    29698.0   \n",
       "133404         898  2023-05-25 09:58:00         O       2081.0    29698.0   \n",
       "133405         899  2023-05-25 09:59:00         O       2081.0    29698.0   \n",
       "133406         900  2023-05-25 10:00:00         O       2082.0    29699.0   \n",
       "\n",
       "        Inside Temperature  Inside Humidity  Outside Temperature  Wind Speed  \\\n",
       "0                    942.0             50.0                921.0         2.0   \n",
       "1                    943.0             50.0                921.0         3.0   \n",
       "2                    942.0             50.0                922.0         4.0   \n",
       "3                    942.0             50.0                923.0         4.0   \n",
       "4                    943.0             50.0                923.0         3.0   \n",
       "...                    ...              ...                  ...         ...   \n",
       "133402               881.0             73.0                816.0         2.0   \n",
       "133403               881.0             73.0                816.0         4.0   \n",
       "133404               880.0             73.0                817.0         2.0   \n",
       "133405               880.0             74.0                817.0         5.0   \n",
       "133406               880.0             74.0                817.0         2.0   \n",
       "\n",
       "        10 Min Avg Wind Speed  ...  Soil & Leaf Alarms  \\\n",
       "0                         3.0  ...                 0.0   \n",
       "1                         3.0  ...                 0.0   \n",
       "2                         3.0  ...                 0.0   \n",
       "3                         3.0  ...                 0.0   \n",
       "4                         3.0  ...                 0.0   \n",
       "...                       ...  ...                 ...   \n",
       "133402                    4.0  ...                 0.0   \n",
       "133403                    4.0  ...                 0.0   \n",
       "133404                    4.0  ...                 0.0   \n",
       "133405                    4.0  ...                 0.0   \n",
       "133406                    4.0  ...                 0.0   \n",
       "\n",
       "        Transmitter Battery Status  Console Battery Voltage  Forecast Icons  \\\n",
       "0                              0.0                    780.0             7.0   \n",
       "1                              0.0                    780.0             7.0   \n",
       "2                              0.0                    780.0             7.0   \n",
       "3                              0.0                    780.0             7.0   \n",
       "4                              0.0                    780.0             7.0   \n",
       "...                            ...                      ...             ...   \n",
       "133402                         0.0                    782.0             7.0   \n",
       "133403                         0.0                    781.0             7.0   \n",
       "133404                         0.0                    781.0             7.0   \n",
       "133405                         0.0                    781.0             7.0   \n",
       "133406                         0.0                    782.0             7.0   \n",
       "\n",
       "        Forecast Rule number  Time of Sunrise  Time of Sunset  <LF> = 0x0A  \\\n",
       "0                      172.0            620.0          1806.0         10.0   \n",
       "1                      172.0            620.0          1806.0         10.0   \n",
       "2                      172.0            620.0          1806.0         10.0   \n",
       "3                      172.0            620.0          1806.0         10.0   \n",
       "4                      172.0            620.0          1806.0         10.0   \n",
       "...                      ...              ...             ...          ...   \n",
       "133402                 172.0            642.0          1914.0         10.0   \n",
       "133403                 172.0            642.0          1914.0         10.0   \n",
       "133404                 172.0            642.0          1914.0         10.0   \n",
       "133405                 172.0            642.0          1914.0         10.0   \n",
       "133406                 172.0            642.0          1914.0         10.0   \n",
       "\n",
       "        <CR> = 0x0D      CRC  \n",
       "0              13.0  37242.0  \n",
       "1              13.0  46574.0  \n",
       "2              13.0  37685.0  \n",
       "3              13.0  50633.0  \n",
       "4              13.0    571.0  \n",
       "...             ...      ...  \n",
       "133402         13.0  28238.0  \n",
       "133403         13.0  33285.0  \n",
       "133404         13.0  29869.0  \n",
       "133405         13.0  49051.0  \n",
       "133406         13.0  43451.0  \n",
       "\n",
       "[133407 rows x 43 columns]"
      ]
     },
     "execution_count": 5,
     "metadata": {},
     "output_type": "execute_result"
    }
   ],
   "source": [
    "datos_2023_hasta_mayo"
   ]
  },
  {
   "cell_type": "code",
   "execution_count": 7,
   "id": "a44e962f",
   "metadata": {},
   "outputs": [
    {
     "data": {
      "text/plain": [
       "Index(['Unnamed: 0', 'Tiempo Sistema', 'Bar Trend', 'Next Record', 'Barometer',\n",
       "       'Inside Temperature', 'Inside Humidity', 'Outside Temperature',\n",
       "       'Wind Speed', '10 Min Avg Wind Speed', 'Wind Direction',\n",
       "       'Extra Temperatures', 'Soil Temperatures', 'Leaf Temperatures',\n",
       "       'Outside Humidity', 'Extra Humidties', 'Rain Rate', 'UV',\n",
       "       'Solar Radiation', 'Storm Rain', 'Start Date of current Storm',\n",
       "       'Day Rain', 'Month Rain', 'Year Rain', 'Day ET', 'Month ET', 'Year ET',\n",
       "       'Soil Moistures', 'Leaf Wetnesses', 'Inside Alarms', 'Rain Alarms',\n",
       "       'Outside Alarms', 'Extra Temp/Hum Alarms', 'Soil & Leaf Alarms',\n",
       "       'Transmitter Battery Status', 'Console Battery Voltage',\n",
       "       'Forecast Icons', 'Forecast Rule number', 'Time of Sunrise',\n",
       "       'Time of Sunset', '<LF> = 0x0A', '<CR> = 0x0D', 'CRC'],\n",
       "      dtype='object')"
      ]
     },
     "execution_count": 7,
     "metadata": {},
     "output_type": "execute_result"
    }
   ],
   "source": [
    "datos_2023_hasta_mayo.keys()"
   ]
  },
  {
   "cell_type": "code",
   "execution_count": 13,
   "id": "76d6cb19",
   "metadata": {},
   "outputs": [
    {
     "data": {
      "text/plain": [
       "'2023-01-25 09:47:53'"
      ]
     },
     "execution_count": 13,
     "metadata": {},
     "output_type": "execute_result"
    }
   ],
   "source": [
    "datos_2023_hasta_mayo['Tiempo Sistema'][0]"
   ]
  },
  {
   "cell_type": "code",
   "execution_count": 18,
   "id": "5544fbff",
   "metadata": {},
   "outputs": [],
   "source": [
    "fecha_y_hora = datos_2023_hasta_mayo['Tiempo Sistema'][0]"
   ]
  },
  {
   "cell_type": "code",
   "execution_count": 20,
   "id": "8c5a7fc2",
   "metadata": {},
   "outputs": [
    {
     "ename": "ValueError",
     "evalue": "unconverted data remains:  09:47:53",
     "output_type": "error",
     "traceback": [
      "\u001b[0;31m---------------------------------------------------------------------------\u001b[0m",
      "\u001b[0;31mValueError\u001b[0m                                Traceback (most recent call last)",
      "Cell \u001b[0;32mIn[20], line 1\u001b[0m\n\u001b[0;32m----> 1\u001b[0m datetime\u001b[39m.\u001b[39;49mstrptime(fecha, \u001b[39m'\u001b[39;49m\u001b[39m%\u001b[39;49m\u001b[39mY-\u001b[39;49m\u001b[39m%\u001b[39;49m\u001b[39mm-\u001b[39;49m\u001b[39m%d\u001b[39;49;00m\u001b[39m'\u001b[39;49m)\n",
      "File \u001b[0;32m/usr/lib/python3.10/_strptime.py:568\u001b[0m, in \u001b[0;36m_strptime_datetime\u001b[0;34m(cls, data_string, format)\u001b[0m\n\u001b[1;32m    565\u001b[0m \u001b[39mdef\u001b[39;00m \u001b[39m_strptime_datetime\u001b[39m(\u001b[39mcls\u001b[39m, data_string, \u001b[39mformat\u001b[39m\u001b[39m=\u001b[39m\u001b[39m\"\u001b[39m\u001b[39m%a\u001b[39;00m\u001b[39m \u001b[39m\u001b[39m%\u001b[39m\u001b[39mb \u001b[39m\u001b[39m%d\u001b[39;00m\u001b[39m \u001b[39m\u001b[39m%\u001b[39m\u001b[39mH:\u001b[39m\u001b[39m%\u001b[39m\u001b[39mM:\u001b[39m\u001b[39m%\u001b[39m\u001b[39mS \u001b[39m\u001b[39m%\u001b[39m\u001b[39mY\u001b[39m\u001b[39m\"\u001b[39m):\n\u001b[1;32m    566\u001b[0m \u001b[39m    \u001b[39m\u001b[39m\"\"\"Return a class cls instance based on the input string and the\u001b[39;00m\n\u001b[1;32m    567\u001b[0m \u001b[39m    format string.\"\"\"\u001b[39;00m\n\u001b[0;32m--> 568\u001b[0m     tt, fraction, gmtoff_fraction \u001b[39m=\u001b[39m _strptime(data_string, \u001b[39mformat\u001b[39;49m)\n\u001b[1;32m    569\u001b[0m     tzname, gmtoff \u001b[39m=\u001b[39m tt[\u001b[39m-\u001b[39m\u001b[39m2\u001b[39m:]\n\u001b[1;32m    570\u001b[0m     args \u001b[39m=\u001b[39m tt[:\u001b[39m6\u001b[39m] \u001b[39m+\u001b[39m (fraction,)\n",
      "File \u001b[0;32m/usr/lib/python3.10/_strptime.py:352\u001b[0m, in \u001b[0;36m_strptime\u001b[0;34m(data_string, format)\u001b[0m\n\u001b[1;32m    349\u001b[0m     \u001b[39mraise\u001b[39;00m \u001b[39mValueError\u001b[39;00m(\u001b[39m\"\u001b[39m\u001b[39mtime data \u001b[39m\u001b[39m%r\u001b[39;00m\u001b[39m does not match format \u001b[39m\u001b[39m%r\u001b[39;00m\u001b[39m\"\u001b[39m \u001b[39m%\u001b[39m\n\u001b[1;32m    350\u001b[0m                      (data_string, \u001b[39mformat\u001b[39m))\n\u001b[1;32m    351\u001b[0m \u001b[39mif\u001b[39;00m \u001b[39mlen\u001b[39m(data_string) \u001b[39m!=\u001b[39m found\u001b[39m.\u001b[39mend():\n\u001b[0;32m--> 352\u001b[0m     \u001b[39mraise\u001b[39;00m \u001b[39mValueError\u001b[39;00m(\u001b[39m\"\u001b[39m\u001b[39munconverted data remains: \u001b[39m\u001b[39m%s\u001b[39;00m\u001b[39m\"\u001b[39m \u001b[39m%\u001b[39m\n\u001b[1;32m    353\u001b[0m                       data_string[found\u001b[39m.\u001b[39mend():])\n\u001b[1;32m    355\u001b[0m iso_year \u001b[39m=\u001b[39m year \u001b[39m=\u001b[39m \u001b[39mNone\u001b[39;00m\n\u001b[1;32m    356\u001b[0m month \u001b[39m=\u001b[39m day \u001b[39m=\u001b[39m \u001b[39m1\u001b[39m\n",
      "\u001b[0;31mValueError\u001b[0m: unconverted data remains:  09:47:53"
     ]
    }
   ],
   "source": [
    "datetime.strptime(fecha, '%Y-%m-%d')"
   ]
  },
  {
   "cell_type": "markdown",
   "id": "fea026da",
   "metadata": {},
   "source": [
    "datetime almacena tanto la fecha como la hora hasta el microsegundo. timedelta representa la diferencia temporal entre dos objetos de fecha y hora:"
   ]
  },
  {
   "cell_type": "code",
   "execution_count": 21,
   "id": "d82c82eb",
   "metadata": {},
   "outputs": [
    {
     "data": {
      "text/plain": [
       "datetime.timedelta(days=-199, seconds=35032, microseconds=746227)"
      ]
     },
     "execution_count": 21,
     "metadata": {},
     "output_type": "execute_result"
    }
   ],
   "source": [
    "delta = datetime(2023, 1, 26) - datetime.now()\n",
    "delta\n"
   ]
  },
  {
   "cell_type": "code",
   "execution_count": 22,
   "id": "5f40d10f",
   "metadata": {},
   "outputs": [
    {
     "data": {
      "text/plain": [
       "-199"
      ]
     },
     "execution_count": 22,
     "metadata": {},
     "output_type": "execute_result"
    }
   ],
   "source": [
    "delta.days\n"
   ]
  },
  {
   "cell_type": "code",
   "execution_count": 24,
   "id": "db28e9e0",
   "metadata": {},
   "outputs": [
    {
     "data": {
      "text/plain": [
       "35032"
      ]
     },
     "execution_count": 24,
     "metadata": {},
     "output_type": "execute_result"
    }
   ],
   "source": [
    "\n",
    "delta.seconds\n"
   ]
  },
  {
   "cell_type": "markdown",
   "id": "d4188fcb",
   "metadata": {},
   "source": [
    "Puede agregar (o restar) un timedelta o un múltiplo del mismo a un objeto de fecha y hora para generar un nuevo objeto desplazado:"
   ]
  },
  {
   "cell_type": "code",
   "execution_count": 25,
   "id": "f603fc6d",
   "metadata": {},
   "outputs": [],
   "source": [
    "from datetime import timedelta"
   ]
  },
  {
   "cell_type": "code",
   "execution_count": 26,
   "id": "6d4fdf88",
   "metadata": {},
   "outputs": [],
   "source": [
    "start = datetime(2023, 8, 12)"
   ]
  },
  {
   "cell_type": "code",
   "execution_count": 28,
   "id": "c13fadc4",
   "metadata": {},
   "outputs": [
    {
     "data": {
      "text/plain": [
       "datetime.datetime(2023, 8, 24, 0, 0)"
      ]
     },
     "execution_count": 28,
     "metadata": {},
     "output_type": "execute_result"
    }
   ],
   "source": [
    "start + timedelta(12) # aumenta en días"
   ]
  },
  {
   "cell_type": "code",
   "execution_count": 37,
   "id": "9339ebd9",
   "metadata": {},
   "outputs": [
    {
     "data": {
      "text/plain": [
       "datetime.datetime(2023, 9, 9, 0, 0)"
      ]
     },
     "execution_count": 37,
     "metadata": {},
     "output_type": "execute_result"
    }
   ],
   "source": [
    "start + 2*timedelta(14)"
   ]
  },
  {
   "cell_type": "code",
   "execution_count": 38,
   "id": "e8047fb9",
   "metadata": {},
   "outputs": [
    {
     "data": {
      "text/plain": [
       "datetime.datetime(2023, 8, 12, 0, 0)"
      ]
     },
     "execution_count": 38,
     "metadata": {},
     "output_type": "execute_result"
    }
   ],
   "source": [
    "start"
   ]
  },
  {
   "cell_type": "markdown",
   "id": "20f31242",
   "metadata": {},
   "source": [
    "La Tabla 11-1 resume los tipos de datos en el módulo de fecha y hora. Si bien este capítulo se ocupa principalmente de los tipos de datos en pandas y la manipulación de series temporales de nivel superior, es posible que encuentre los tipos basados en fecha y hora en muchos otros lugares de Python en la naturaleza."
   ]
  },
  {
   "cell_type": "markdown",
   "id": "1c14fd0c",
   "metadata": {},
   "source": [
    "tabla 11.1  \n",
    "\n",
    "<img src = ''>"
   ]
  },
  {
   "cell_type": "markdown",
   "id": "6c8764ba",
   "metadata": {},
   "source": [
    "# Conversión entre cadena y fecha y hora\n"
   ]
  },
  {
   "cell_type": "markdown",
   "id": "3daf3811",
   "metadata": {},
   "source": [
    "Puede formatear objetos de fecha y hora y objetos de marca de tiempo de pandas, que presentaré más adelante, como cadenas usando str o el método strftime, pasando una especificación de formato:"
   ]
  },
  {
   "cell_type": "code",
   "execution_count": null,
   "id": "0aed9fde",
   "metadata": {},
   "outputs": [],
   "source": []
  },
  {
   "cell_type": "code",
   "execution_count": null,
   "id": "333396c1",
   "metadata": {},
   "outputs": [],
   "source": []
  },
  {
   "cell_type": "code",
   "execution_count": null,
   "id": "dbcc952d",
   "metadata": {},
   "outputs": [],
   "source": []
  },
  {
   "cell_type": "code",
   "execution_count": null,
   "id": "65c76f92",
   "metadata": {},
   "outputs": [],
   "source": []
  },
  {
   "cell_type": "code",
   "execution_count": null,
   "id": "55d68bff",
   "metadata": {},
   "outputs": [],
   "source": []
  },
  {
   "cell_type": "code",
   "execution_count": null,
   "id": "c0aa8626",
   "metadata": {},
   "outputs": [],
   "source": []
  },
  {
   "attachments": {},
   "cell_type": "markdown",
   "id": "1ccfb67e",
   "metadata": {
    "slideshow": {
     "slide_type": "slide"
    }
   },
   "source": [
    "# Visualizaciones tabulares y gráficas"
   ]
  },
  {
   "attachments": {},
   "cell_type": "markdown",
   "id": "0631fb05",
   "metadata": {
    "slideshow": {
     "slide_type": "slide"
    }
   },
   "source": [
    "## Visualización gráfica con plotly"
   ]
  },
  {
   "cell_type": "code",
   "execution_count": null,
   "id": "d1bff0f9",
   "metadata": {
    "slideshow": {
     "slide_type": "slide"
    }
   },
   "outputs": [],
   "source": [
    "import numpy as np \n",
    "import pandas as pd \n",
    "X = np.array([1,2])\n",
    "Y = np.array([1,3])  \n",
    "\n",
    "tabla = pd.DataFrame({'abscisas':X, 'ordenadas':Y})\n",
    "tabla "
   ]
  },
  {
   "cell_type": "code",
   "execution_count": null,
   "id": "6009af5a",
   "metadata": {
    "slideshow": {
     "slide_type": "slide"
    }
   },
   "outputs": [],
   "source": [
    "import pandas as pd \n",
    "import plotly.express as px\n",
    "#fig = px.line(tabla,x = tabla.keys()[0], y = tabla.keys()[1], title=r'Relación entre $x$ y $y$')\n",
    "\n",
    "fig = px.scatter(tabla,x = tabla.keys()[0], y = tabla.keys()[1], title=r'Relación entre $x$ y $y$')\n",
    "\n",
    "fig.show()\n",
    "\n",
    "fig.write_html('relacion_entre_x_e_y.html', auto_open=True)"
   ]
  },
  {
   "attachments": {},
   "cell_type": "markdown",
   "id": "bf8d11a1",
   "metadata": {
    "slideshow": {
     "slide_type": "slide"
    }
   },
   "source": [
    "## Mapa conceptual de la clase elaborado en CMapTools"
   ]
  },
  {
   "attachments": {},
   "cell_type": "markdown",
   "id": "aac04d00",
   "metadata": {
    "slideshow": {
     "slide_type": "slide"
    }
   },
   "source": [
    "<img src = ''>"
   ]
  },
  {
   "attachments": {},
   "cell_type": "markdown",
   "id": "740f3401",
   "metadata": {
    "slideshow": {
     "slide_type": "slide"
    }
   },
   "source": [
    "# Componente de manejo de calculadora Casio asociado al objetivo de aprendizaje de esta clase"
   ]
  },
  {
   "attachments": {},
   "cell_type": "markdown",
   "id": "8eecb2d9",
   "metadata": {
    "slideshow": {
     "slide_type": "slide"
    }
   },
   "source": [
    "## Descripción de la calculadora Casio  \n",
    "\n"
   ]
  },
  {
   "cell_type": "code",
   "execution_count": null,
   "id": "3cd72835",
   "metadata": {
    "slideshow": {
     "slide_type": "slide"
    }
   },
   "outputs": [],
   "source": []
  },
  {
   "cell_type": "code",
   "execution_count": null,
   "id": "d8a111c4",
   "metadata": {
    "slideshow": {
     "slide_type": "slide"
    }
   },
   "outputs": [],
   "source": []
  },
  {
   "attachments": {},
   "cell_type": "markdown",
   "id": "8a6f7ef9",
   "metadata": {
    "slideshow": {
     "slide_type": "slide"
    }
   },
   "source": [
    "## Tareas para realizar antes de la clase"
   ]
  },
  {
   "attachments": {},
   "cell_type": "markdown",
   "id": "90cae469",
   "metadata": {
    "slideshow": {
     "slide_type": "slide"
    }
   },
   "source": [
    "1. Ver los videos respectivos []()\n",
    "2. Memorizar las definiciones []()\n",
    "3. Sintetizar o resumir la información en mapas conceptuales. []()\n",
    "4. Tareas para incentivar el uso de la calculadora Casio Para ingenieros y licenciados. "
   ]
  },
  {
   "attachments": {},
   "cell_type": "markdown",
   "id": "fccb447c",
   "metadata": {
    "slideshow": {
     "slide_type": "slide"
    }
   },
   "source": [
    "# Tareas para realizar en clase"
   ]
  },
  {
   "attachments": {},
   "cell_type": "markdown",
   "id": "e5c48edf",
   "metadata": {
    "slideshow": {
     "slide_type": "slide"
    }
   },
   "source": [
    "* Modelación matemática \n",
    "* Trabajo en equipos"
   ]
  },
  {
   "attachments": {},
   "cell_type": "markdown",
   "id": "8b6b0112",
   "metadata": {
    "slideshow": {
     "slide_type": "slide"
    }
   },
   "source": [
    "# Tareas para realizar después de la realización de la clase"
   ]
  },
  {
   "attachments": {},
   "cell_type": "markdown",
   "id": "947460e3",
   "metadata": {
    "slideshow": {
     "slide_type": "slide"
    }
   },
   "source": [
    "* Actividades de memorización: \n",
    "  - escucha reiterada de grabaciones de formulas y resultados científicos. \n",
    "  - relectura de notas. \n",
    "  - ejercicios de mayor complejidad.\n",
    "\n",
    "\n",
    "### No olvide asignar las tareas a los estudiantes a través de Google Colab y compartiendole el cuaderno de asignación a su correo institucional con fecha de entrega. [Google Colab](https://colab.research.google.com/?hl=es)   \n",
    "  "
   ]
  },
  {
   "attachments": {},
   "cell_type": "markdown",
   "id": "d34defb9",
   "metadata": {
    "slideshow": {
     "slide_type": "slide"
    }
   },
   "source": [
    "## Asignación individual de tareas semanales "
   ]
  },
  {
   "attachments": {},
   "cell_type": "markdown",
   "id": "0406f442",
   "metadata": {
    "slideshow": {
     "slide_type": "slide"
    }
   },
   "source": []
  },
  {
   "attachments": {},
   "cell_type": "markdown",
   "id": "8d41fe58",
   "metadata": {
    "slideshow": {
     "slide_type": "slide"
    }
   },
   "source": [
    "# Horario de clases del profesor Marco\n",
    "\n",
    "* Martes y jueves de 10 a 12: Fundamentos de las matemáticas\n",
    "* Martes y jueves de 2 a 4 PM: Fundamentos de la aritmética\n",
    "\n",
    "* Didáctica de la aritmética: Miércoles de 8 - 12\n",
    "\n"
   ]
  },
  {
   "attachments": {},
   "cell_type": "markdown",
   "id": "ae114e14",
   "metadata": {
    "slideshow": {
     "slide_type": "slide"
    }
   },
   "source": [
    "# Horarios de monitoría y asesoría"
   ]
  },
  {
   "attachments": {},
   "cell_type": "markdown",
   "id": "b1db4b6c",
   "metadata": {
    "slideshow": {
     "slide_type": "slide"
    }
   },
   "source": [
    "## Monitor Manuel"
   ]
  },
  {
   "attachments": {},
   "cell_type": "markdown",
   "id": "39559692",
   "metadata": {
    "slideshow": {
     "slide_type": "slide"
    }
   },
   "source": [
    "Martes y jueves de 8 - 12  \n",
    "Miércoles 10 - 12 y de 2 a 4 PM  \n",
    "Sábado: 8 - 12"
   ]
  },
  {
   "attachments": {},
   "cell_type": "markdown",
   "id": "4537ef79",
   "metadata": {
    "slideshow": {
     "slide_type": "slide"
    }
   },
   "source": [
    "## Monitor Giovanny Reales"
   ]
  },
  {
   "attachments": {},
   "cell_type": "markdown",
   "id": "a54d2914",
   "metadata": {
    "slideshow": {
     "slide_type": "slide"
    }
   },
   "source": [
    "* Lunes a viernes de 6pm a 8pm\n",
    "* Miércoles de 1 pm a 8pm"
   ]
  },
  {
   "attachments": {},
   "cell_type": "markdown",
   "id": "935a5567",
   "metadata": {
    "slideshow": {
     "slide_type": "slide"
    }
   },
   "source": [
    "## Dificultades de aprendizaje detectados durante la clase"
   ]
  },
  {
   "attachments": {},
   "cell_type": "markdown",
   "id": "3bd7500d",
   "metadata": {
    "slideshow": {
     "slide_type": "slide"
    }
   },
   "source": []
  },
  {
   "attachments": {},
   "cell_type": "markdown",
   "id": "fb9402bb",
   "metadata": {
    "slideshow": {
     "slide_type": "slide"
    }
   },
   "source": [
    "## Estrategias propuestas para la solución de las dificultades de aprendizaje detectadas"
   ]
  },
  {
   "attachments": {},
   "cell_type": "markdown",
   "id": "d437294b",
   "metadata": {
    "slideshow": {
     "slide_type": "slide"
    }
   },
   "source": []
  },
  {
   "attachments": {},
   "cell_type": "markdown",
   "id": "d11570a2",
   "metadata": {
    "slideshow": {
     "slide_type": "slide"
    }
   },
   "source": []
  },
  {
   "attachments": {},
   "cell_type": "markdown",
   "id": "319f2ffa",
   "metadata": {
    "slideshow": {
     "slide_type": "slide"
    }
   },
   "source": [
    "## Grabaciones en audio para fomentar la capacidad de memorizar enunciados de teoremas y resultados científicos y la capacidad de parafrasear estos resultados. Y así desarrollar memoria muscular para los comandos comunes. \n",
    "Se dispondrá de un lugar en Vocaroo para albergar archivos de audio de fomento a la memorización, enunciación y parafraseo de los resultados científicos, propiedades, reglas, etc. \n",
    "\n",
    "[Vocaroo](https://vocaroo.com/)\n",
    "\n"
   ]
  },
  {
   "attachments": {},
   "cell_type": "markdown",
   "id": "564fa59d",
   "metadata": {
    "slideshow": {
     "slide_type": "slide"
    }
   },
   "source": [
    "### Comparta sus cuadernos y videos, evidencias de su aprendizaje [aquí](https://forms.office.com/Pages/ResponsePage.aspx?id=IefhmYRxjkmK_7KtTlPBwkanXIs1i1FEujpsZgO6dXpUMEMwTEZVMzEwVVBPTElWNVg5OVEyWUhMUy4u)"
   ]
  },
  {
   "attachments": {},
   "cell_type": "markdown",
   "id": "1a1a3e41",
   "metadata": {
    "slideshow": {
     "slide_type": "slide"
    }
   },
   "source": []
  },
  {
   "attachments": {},
   "cell_type": "markdown",
   "id": "44be6d93",
   "metadata": {
    "slideshow": {
     "slide_type": "slide"
    }
   },
   "source": [
    "# Vocabulary "
   ]
  },
  {
   "attachments": {},
   "cell_type": "markdown",
   "id": "35e2484a",
   "metadata": {
    "slideshow": {
     "slide_type": "slide"
    }
   },
   "source": [
    "1. \n",
    "2.  \n",
    "3.  \n",
    "4.  \n",
    "5.  "
   ]
  },
  {
   "attachments": {},
   "cell_type": "markdown",
   "id": "ee46cb9a",
   "metadata": {
    "slideshow": {
     "slide_type": "slide"
    }
   },
   "source": [
    "## Mapa conceptual que vincula los conceptos asoaciados al objetivo de aprendizaje"
   ]
  },
  {
   "attachments": {},
   "cell_type": "markdown",
   "id": "a6b7a17d",
   "metadata": {
    "slideshow": {
     "slide_type": "slide"
    }
   },
   "source": []
  },
  {
   "attachments": {},
   "cell_type": "markdown",
   "id": "0266e3c5",
   "metadata": {
    "slideshow": {
     "slide_type": "slide"
    }
   },
   "source": [
    "## Quiz de 20 minutos para ejercitación y adquisición de habilidades "
   ]
  },
  {
   "attachments": {},
   "cell_type": "markdown",
   "id": "3a1b127f",
   "metadata": {
    "slideshow": {
     "slide_type": "slide"
    }
   },
   "source": [
    "* Pregunta 1: \n",
    "* Pregunta 2: \n",
    "* Pregunta 3: "
   ]
  },
  {
   "attachments": {},
   "cell_type": "markdown",
   "id": "10bce0d0",
   "metadata": {
    "slideshow": {
     "slide_type": "slide"
    }
   },
   "source": [
    "## Referentes "
   ]
  },
  {
   "attachments": {},
   "cell_type": "markdown",
   "id": "1db3c468",
   "metadata": {
    "slideshow": {
     "slide_type": "slide"
    }
   },
   "source": [
    "* [stewart precálculo](https://udeaeduco-my.sharepoint.com/:b:/g/personal/marco_canas_udea_edu_co/ERHIq62I6qFNrmxy6LZb8ZMBci7kUsyNME1nIh9yCBMJ_w?e=0zMSla)  \n",
    "\n",
    "* [stewart cálculo](https://udeaeduco-my.sharepoint.com/:b:/g/personal/marco_canas_udea_edu_co/EZgXZjAp8QxPqOAim2hs6LcBNPLGjSHf-xwYnUVYkwa04w?e=RZdTCy)  \n",
    "\n",
    "* [larson](https://udeaeduco-my.sharepoint.com/:b:/g/personal/marco_canas_udea_edu_co/ES71ChFeO9ZDhW3TwC5Ijk8BjxUK3Pdqz_fjHxTTFAfIAg?e=VDEjfu)\n",
    "\n",
    "* [uzcategui](https://udeaeduco-my.sharepoint.com/:b:/g/personal/marco_canas_udea_edu_co/ETDikm-lVl1Or8XoEo9oyh0BEti9Zs8le-f0D-dBdtZmbA?e=bBsoyQ)\n",
    "\n",
    "* [Cálculo de Purcell](https://udeaeduco-my.sharepoint.com/:b:/g/personal/marco_canas_udea_edu_co/ES60UB4h-QFFqqRQUFmkpWcBIgoLBJeqTfZjNajWNWSeJA?e=9NxjKJ)\n",
    "\n",
    "* [Recomendación de la UNESCO sobre ciencia abierta](https://unesdoc.unesco.org/ark:/48223/pf0000379949_spa)\n",
    "\n",
    "* [Fórmulas más comunes en latex](https://wiki.geogebra.org/es/C%C3%B3digo_LaTeX_para_las_f%C3%B3rmulas_m%C3%A1s_comunes) \n",
    "\n",
    "* [chatGPT](https://openai.com/blog/chatgpt)  \n",
    "\n",
    "* Géron, A. (2017). Hands-on machine learning with scikit-learn and tensorflow: Concepts. Tools, and Techniques to build intelligent systems.[Geron, Aurelien. Hands on Machine Learning](https://udeaeduco-my.sharepoint.com/:b:/g/personal/marco_canas_udea_edu_co/Ecet27yjQzZIlT1Y_Bc2erkBUhbeYuIe6HG8i1FYZRlZww?e=dlvZ4v)  \n",
    "\n",
    "* McKinney, W. (2012). Python for data analysis: Data wrangling with Pandas, NumPy, and IPython. \" O'Reilly Media, Inc.\".[Wes Mackinney. ](https://udeaeduco-my.sharepoint.com/:b:/g/personal/marco_canas_udea_edu_co/EVbi5JIeBl9ErbiUnZfGe8YBhNTnZ8sxTK5hjIOPK4UpGw?e=fFclah)"
   ]
  },
  {
   "attachments": {},
   "cell_type": "markdown",
   "id": "6b9e56a8",
   "metadata": {
    "slideshow": {
     "slide_type": "slide"
    }
   },
   "source": [
    "### [Evaluamos al profesor Marco Cañas Aquí](https://forms.office.com/Pages/ResponsePage.aspx?id=IefhmYRxjkmK_7KtTlPBwkanXIs1i1FEujpsZgO6dXpUREJPV1kxUk1JV1ozTFJIQVNIQjY5WEY3US4u)"
   ]
  },
  {
   "attachments": {},
   "cell_type": "markdown",
   "id": "071afa04",
   "metadata": {
    "slideshow": {
     "slide_type": "slide"
    }
   },
   "source": [
    "## [Evaluación luego de alcanzar estos objetivos de aprendizaje]()"
   ]
  },
  {
   "attachments": {},
   "cell_type": "markdown",
   "id": "10f43536",
   "metadata": {
    "slideshow": {
     "slide_type": "slide"
    }
   },
   "source": [
    "### Continue su aprendizaje en la siguiente clase a través del siguiente [vínculo]()"
   ]
  },
  {
   "attachments": {},
   "cell_type": "markdown",
   "id": "af751e30",
   "metadata": {
    "slideshow": {
     "slide_type": "slide"
    }
   },
   "source": [
    "# Conjeturas pedagógicas fruto de la aplicación del modelo de aprendizaje invertido y del enfoque hacia la ciencia de datos con python\n",
    "\n",
    "1. Todo cálculo o resultado debe ser interpretado en una línea markdown del cuaderno Jupyter, inmediatamente después de la enunciación del resultado y después de la presentación de una tabla o gráfico bidimensional, de tal menera que el estudiante explicite la comprensión verbal del resultado y las inferencias o estrategias que este resultado le sugieren.  \n",
    "\n",
    "2. Debo colocar las conjeturas pedagógicas, que el uso en el aula de [ChatGPT](https://openai.com/blog/chatgpt/) traiga para la enseñanza y el aprendizaje de las matemáticas. \n",
    "\n",
    "3. Promover ciencia abierta en clase de matemáticas puede ser pidiendo a los estudiantes, tomar nota en clase pero en cuadernos Jupyter y entregar siempre al final de cada clase su cuaderno con todas las notas y experimentaciones de clase replicadas. "
   ]
  },
  {
   "attachments": {},
   "cell_type": "markdown",
   "id": "53cc9115",
   "metadata": {
    "slideshow": {
     "slide_type": "slide"
    }
   },
   "source": [
    "## Agradecimientos  \n",
    "\n",
    "Doy gracias a Dios por la vida de mi Hijo Joseph Cañas Osorio y la madurez que ha alcanzado.\n",
    "\n",
    "Y a mi esposa Yasmira por su apoyo, orientación y acompañamiento. "
   ]
  },
  {
   "cell_type": "markdown",
   "id": "b9987d31",
   "metadata": {},
   "source": [
    "# Apendice"
   ]
  },
  {
   "attachments": {},
   "cell_type": "markdown",
   "id": "fce30a6e",
   "metadata": {
    "slideshow": {
     "slide_type": "slide"
    }
   },
   "source": [
    "# Desarrollo de competencias en Python y ciencia de datos"
   ]
  },
  {
   "attachments": {},
   "cell_type": "markdown",
   "id": "cc151e69",
   "metadata": {
    "slideshow": {
     "slide_type": "slide"
    }
   },
   "source": [
    "## [West McKinney. Python for data Analysis](https://udeaeduco-my.sharepoint.com/:b:/g/personal/marco_canas_udea_edu_co/EVbi5JIeBl9ErbiUnZfGe8YBhNTnZ8sxTK5hjIOPK4UpGw?e=tfkShe)"
   ]
  },
  {
   "attachments": {},
   "cell_type": "markdown",
   "id": "4523e30f",
   "metadata": {},
   "source": [
    "## List\n"
   ]
  },
  {
   "attachments": {},
   "cell_type": "markdown",
   "id": "3765777c",
   "metadata": {},
   "source": [
    "In contrast with tuples, lists are variable-length and their contents can be modified in-place. You can define them using square brackets `[]` or using the list type function:\n"
   ]
  },
  {
   "cell_type": "code",
   "execution_count": null,
   "id": "d806527f",
   "metadata": {},
   "outputs": [],
   "source": [
    "a_list = [2, 3, 7, None]\n"
   ]
  },
  {
   "cell_type": "code",
   "execution_count": null,
   "id": "d3b4c37f",
   "metadata": {},
   "outputs": [],
   "source": [
    "tup = ('foo', 'bar', 'baz')\n",
    "In [38]: b_list = list(tup)\n",
    "In [39]: b_list\n",
    "Out[39]: ['foo', 'bar', 'baz']\n",
    "In [40]: b_list[1] = 'peekaboo'"
   ]
  },
  {
   "cell_type": "code",
   "execution_count": null,
   "id": "fce10188",
   "metadata": {},
   "outputs": [],
   "source": []
  },
  {
   "cell_type": "code",
   "execution_count": null,
   "id": "62b356f5",
   "metadata": {},
   "outputs": [],
   "source": []
  }
 ],
 "metadata": {
  "celltoolbar": "Slideshow",
  "kernelspec": {
   "display_name": "Python 3 (ipykernel)",
   "language": "python",
   "name": "python3"
  },
  "language_info": {
   "codemirror_mode": {
    "name": "ipython",
    "version": 3
   },
   "file_extension": ".py",
   "mimetype": "text/x-python",
   "name": "python",
   "nbconvert_exporter": "python",
   "pygments_lexer": "ipython3",
   "version": "3.10.12"
  },
  "rise": {
   "enable_chalkboard": true,
   "theme": "sky",
   "transition": "zoom"
  }
 },
 "nbformat": 4,
 "nbformat_minor": 5
}

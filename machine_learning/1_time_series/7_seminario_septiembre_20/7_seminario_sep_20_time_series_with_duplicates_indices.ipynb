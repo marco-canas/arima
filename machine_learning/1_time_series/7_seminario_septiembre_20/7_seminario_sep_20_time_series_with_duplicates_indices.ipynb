{
 "cells": [
  {
   "cell_type": "markdown",
   "metadata": {},
   "source": []
  },
  {
   "cell_type": "markdown",
   "metadata": {},
   "source": [
    "### [Video de apoyo]()"
   ]
  },
  {
   "cell_type": "markdown",
   "metadata": {},
   "source": [
    "# Objetivo del seminario 7\n",
    "\n"
   ]
  },
  {
   "cell_type": "code",
   "execution_count": 1,
   "metadata": {},
   "outputs": [],
   "source": [
    "# mapa conceptual\n",
    "\n",
    "import networkx as nx "
   ]
  },
  {
   "cell_type": "markdown",
   "metadata": {},
   "source": [
    "# Time Series with Duplicate Indices\n"
   ]
  },
  {
   "cell_type": "markdown",
   "metadata": {},
   "source": [
    "In some applications, there may be multiple data observations falling on a particular timestamp. Here is an example:\n"
   ]
  },
  {
   "cell_type": "code",
   "execution_count": null,
   "metadata": {},
   "outputs": [],
   "source": [
    "In [63]: dates = pd.DatetimeIndex(['1/1/2000', '1/2/2000', '1/2/2000',\n",
    "....: '1/2/2000', '1/3/2000'])\n",
    "In [64]: dup_ts = pd.Series(np.arange(5), index=dates)\n",
    "In [65]: dup_ts\n",
    "Out[65]:\n",
    "2000-01-01 0\n",
    "2000-01-02 1\n",
    "2000-01-02 2\n",
    "2000-01-02 3\n",
    "2000-01-03 4\n",
    "dtype: int64\n",
    "We can tell that the index is not unique by checking its is_unique property:\n",
    "In [66]: dup_ts.index.is_unique\n",
    "Out[66]: False\n",
    "Indexing into this time series will now either produce scalar values or slices depend‐\n",
    "ing on whether a timestamp is duplicated:\n",
    "In [67]: dup_ts['1/3/2000'] # not duplicated\n",
    "Out[67]: 4\n",
    "In [68]: dup_ts['1/2/2000'] # duplicated\n",
    "Out[68]:\n",
    "2000-01-02 1\n",
    "2000-01-02 2"
   ]
  },
  {
   "cell_type": "code",
   "execution_count": null,
   "metadata": {},
   "outputs": [],
   "source": [
    "2000-01-02 3\n",
    "dtype: int64\n",
    "Suppose you wanted to aggregate the data having non-unique timestamps. One way\n",
    "to do this is to use groupby and pass level=0:\n",
    "In [69]: grouped = dup_ts.groupby(level=0)\n",
    "In [70]: grouped.mean()\n",
    "Out[70]:\n",
    "2000-01-01 0\n",
    "2000-01-02 2\n",
    "2000-01-03 4\n",
    "dtype: int64\n",
    "In [71]: grouped.count()\n",
    "Out[71]:\n",
    "2000-01-01 1\n",
    "2000-01-02 3\n",
    "2000-01-03 1\n",
    "dtype: int64\n"
   ]
  },
  {
   "cell_type": "markdown",
   "metadata": {},
   "source": [
    "# 11.3 Date Ranges, Frequencies, and Shifting\n"
   ]
  },
  {
   "cell_type": "markdown",
   "metadata": {},
   "source": [
    "Generic time series in pandas are assumed to be irregular; that is, they have no fixed frequency. For many applications this is sufficient. However, it’s often desirable to work relative to a fixed frequency, such as daily, monthly, or every 15 minutes, even if\n",
    "that means introducing missing values into a time series. Fortunately pandas has a full suite of standard time series frequencies and tools for resampling, inferring frequencies, and generating fixed-frequency date ranges. For example, you can convert the sample time series to be fixed daily frequency by calling resample:\n"
   ]
  },
  {
   "cell_type": "code",
   "execution_count": 1,
   "metadata": {},
   "outputs": [
    {
     "ename": "NameError",
     "evalue": "name 'ts' is not defined",
     "output_type": "error",
     "traceback": [
      "\u001b[0;31m---------------------------------------------------------------------------\u001b[0m",
      "\u001b[0;31mNameError\u001b[0m                                 Traceback (most recent call last)",
      "\u001b[1;32m/home/marco/Documentos/investigacion/investigacion_dengue/machine_learning/1_time_series/6_seminario 6: time_series_basics/7_seminario_septiembre_20/7_seminario_sep_20_time_series_with_duplicates_indices.ipynb Celda 9\u001b[0m line \u001b[0;36m1\n\u001b[0;32m----> <a href='vscode-notebook-cell:/home/marco/Documentos/investigacion/investigacion_dengue/machine_learning/1_time_series/6_seminario%206%3A%20time_series_basics/7_seminario_septiembre_20/7_seminario_sep_20_time_series_with_duplicates_indices.ipynb#X22sZmlsZQ%3D%3D?line=0'>1</a>\u001b[0m ts\n",
      "\u001b[0;31mNameError\u001b[0m: name 'ts' is not defined"
     ]
    }
   ],
   "source": [
    "In [72]: ts\n"
   ]
  },
  {
   "cell_type": "code",
   "execution_count": 2,
   "metadata": {},
   "outputs": [
    {
     "ename": "NameError",
     "evalue": "name 'ts' is not defined",
     "output_type": "error",
     "traceback": [
      "\u001b[0;31m---------------------------------------------------------------------------\u001b[0m",
      "\u001b[0;31mNameError\u001b[0m                                 Traceback (most recent call last)",
      "\u001b[1;32m/home/marco/Documentos/investigacion/investigacion_dengue/machine_learning/1_time_series/6_seminario 6: time_series_basics/7_seminario_septiembre_20/7_seminario_sep_20_time_series_with_duplicates_indices.ipynb Celda 11\u001b[0m line \u001b[0;36m1\n\u001b[0;32m----> <a href='vscode-notebook-cell:/home/marco/Documentos/investigacion/investigacion_dengue/machine_learning/1_time_series/6_seminario%206%3A%20time_series_basics/7_seminario_septiembre_20/7_seminario_sep_20_time_series_with_duplicates_indices.ipynb#X25sZmlsZQ%3D%3D?line=0'>1</a>\u001b[0m resampler \u001b[39m=\u001b[39m ts\u001b[39m.\u001b[39mresample(\u001b[39m'\u001b[39m\u001b[39mD\u001b[39m\u001b[39m'\u001b[39m)\n",
      "\u001b[0;31mNameError\u001b[0m: name 'ts' is not defined"
     ]
    }
   ],
   "source": [
    "resampler = ts.resample('D')\n"
   ]
  },
  {
   "cell_type": "code",
   "execution_count": null,
   "metadata": {},
   "outputs": [],
   "source": [
    "The string 'D' is interpreted as daily frequency.\n",
    "Conversion between frequencies or resampling is a big enough topic to have its own\n",
    "section later (Section 11.6, “Resampling and Frequency Conversion,” on page 348).\n",
    "Here I’ll show you how to use the base frequencies and multiples thereof."
   ]
  },
  {
   "cell_type": "code",
   "execution_count": null,
   "metadata": {},
   "outputs": [],
   "source": [
    "Generating Date Ranges\n",
    "While I used it previously without explanation, pandas.date_range is responsible for\n",
    "generating a DatetimeIndex with an indicated length according to a particular\n",
    "frequency:\n",
    "In [74]: index = pd.date_range('2012-04-01', '2012-06-01')\n",
    "In [75]: index\n",
    "Out[75]:\n",
    "DatetimeIndex(['2012-04-01', '2012-04-02', '2012-04-03', '2012-04-04',\n",
    "'2012-04-05', '2012-04-06', '2012-04-07', '2012-04-08',\n",
    "'2012-04-09', '2012-04-10', '2012-04-11', '2012-04-12',\n",
    "'2012-04-13', '2012-04-14', '2012-04-15', '2012-04-16',\n",
    "'2012-04-17', '2012-04-18', '2012-04-19', '2012-04-20',\n",
    "'2012-04-21', '2012-04-22', '2012-04-23', '2012-04-24',\n",
    "'2012-04-25', '2012-04-26', '2012-04-27', '2012-04-28',\n",
    "'2012-04-29', '2012-04-30', '2012-05-01', '2012-05-02',\n",
    "'2012-05-03', '2012-05-04', '2012-05-05', '2012-05-06',\n",
    "'2012-05-07', '2012-05-08', '2012-05-09', '2012-05-10',\n",
    "'2012-05-11', '2012-05-12', '2012-05-13', '2012-05-14',\n",
    "'2012-05-15', '2012-05-16', '2012-05-17', '2012-05-18',\n",
    "'2012-05-19', '2012-05-20', '2012-05-21', '2012-05-22',\n",
    "'2012-05-23', '2012-05-24', '2012-05-25', '2012-05-26',\n",
    "'2012-05-27', '2012-05-28', '2012-05-29', '2012-05-30',\n",
    "'2012-05-31', '2012-06-01'],\n",
    "dtype='datetime64[ns]', freq='D')\n",
    "By default, date_range generates daily timestamps. If you pass only a start or end\n",
    "date, you must pass a number of periods to generate:\n",
    "In [76]: pd.date_range(start='2012-04-01', periods=20)\n",
    "Out[76]:\n",
    "DatetimeIndex(['2012-04-01', '2012-04-02', '2012-04-03', '2012-04-04',\n",
    "'2012-04-05', '2012-04-06', '2012-04-07', '2012-04-08',\n",
    "'2012-04-09', '2012-04-10', '2012-04-11', '2012-04-12',\n",
    "'2012-04-13', '2012-04-14', '2012-04-15', '2012-04-16',\n",
    "'2012-04-17', '2012-04-18', '2012-04-19', '2012-04-20'],\n",
    "dtype='datetime64[ns]', freq='D')\n",
    "In [77]: pd.date_range(end='2012-06-01', periods=20)\n",
    "Out[77]:\n",
    "DatetimeIndex(['2012-05-13', '2012-05-14', '2012-05-15', '2012-05-16',\n",
    "'2012-05-17', '2012-05-18', '2012-05-19', '2012-05-20',\n",
    "'2012-05-21', '2012-05-22', '2012-05-23', '2012-05-24',\n",
    "'2012-05-25', '2012-05-26', '2012-05-27', '2012-05-28',\n",
    "'2012-05-29', '2012-05-30', '2012-05-31', '2012-06-01'],\n",
    "dtype='datetime64[ns]', freq='D')\n",
    "The start and end dates define strict boundaries for the generated date index. For\n",
    "example, if you wanted a date index containing the last business day of each month,\n",
    "you would pass the 'BM' frequency (business end of month; see more complete listing\n",
    "328 | Chapter 11: Time Series\n",
    "of frequencies in Table 11-4) and only dates falling on or inside the date interval will\n",
    "be included:\n",
    "In [78]: pd.date_range('2000-01-01', '2000-12-01', freq='BM')\n",
    "Out[78]:\n",
    "DatetimeIndex(['2000-01-31', '2000-02-29', '2000-03-31', '2000-04-28',\n",
    "'2000-05-31', '2000-06-30', '2000-07-31', '2000-08-31',\n",
    "'2000-09-29', '2000-10-31', '2000-11-30'],\n",
    "dtype='datetime64[ns]', freq='BM')"
   ]
  },
  {
   "cell_type": "markdown",
   "metadata": {},
   "source": [
    "# Tabla 11.4 \n",
    "\n",
    "<img src = 'https://github.com/marco-canas/investigacion_dengue/blob/main/machine_learning/images/table_11_4.png?raw=true'>"
   ]
  },
  {
   "cell_type": "code",
   "execution_count": null,
   "metadata": {},
   "outputs": [],
   "source": [
    "date_range by default preserves the time (if any) of the start or end timestamp:\n",
    "In [79]: pd.date_range('2012-05-02 12:56:31', periods=5)\n",
    "Out[79]:\n",
    "DatetimeIndex(['2012-05-02 12:56:31', '2012-05-03 12:56:31',\n",
    "'2012-05-04 12:56:31', '2012-05-05 12:56:31',\n",
    "'2012-05-06 12:56:31'],\n",
    "dtype='datetime64[ns]', freq='D')\n",
    "Sometimes you will have start or end dates with time information but want to gener‐\n",
    "ate a set of timestamps normalized to midnight as a convention. To do this, there is a\n",
    "normalize option:\n",
    "In [80]: pd.date_range('2012-05-02 12:56:31', periods=5, normalize=True)\n",
    "Out[80]:\n",
    "DatetimeIndex(['2012-05-02', '2012-05-03', '2012-05-04', '2012-05-05',\n",
    "'2012-05-06'],\n",
    "dtype='datetime64[ns]', freq='D')\n",
    "Frequencies and Date Offsets\n",
    "Frequencies in pandas are composed of a base frequency and a multiplier. Base fre‐\n",
    "quencies are typically referred to by a string alias, like 'M' for monthly or 'H' for\n",
    "hourly. For each base frequency, there is an object defined generally referred to as a\n",
    "date offset. For example, hourly frequency can be represented with the Hour class:\n",
    "In [81]: from pandas.tseries.offsets import Hour, Minute\n",
    "In [82]: hour = Hour()\n",
    "In [83]: hour\n",
    "Out[83]: <Hour>\n",
    "You can define a multiple of an offset by passing an integer:\n",
    "In [84]: four_hours = Hour(4)\n",
    "In [85]: four_hours\n",
    "Out[85]: <4 * Hours>\n",
    "In most applications, you would never need to explicitly create one of these objects,\n",
    "instead using a string alias like 'H' or '4H'. Putting an integer before the base fre‐\n",
    "quency creates a multiple:\n",
    "In [86]: pd.date_range('2000-01-01', '2000-01-03 23:59', freq='4h')\n",
    "Out[86]:\n",
    "DatetimeIndex(['2000-01-01 00:00:00', '2000-01-01 04:00:00',\n",
    "'2000-01-01 08:00:00', '2000-01-01 12:00:00',\n",
    "'2000-01-01 16:00:00', '2000-01-01 20:00:00',\n",
    "'2000-01-02 00:00:00', '2000-01-02 04:00:00',\n",
    "'2000-01-02 08:00:00', '2000-01-02 12:00:00',\n",
    "'2000-01-02 16:00:00', '2000-01-02 20:00:00',"
   ]
  },
  {
   "cell_type": "code",
   "execution_count": null,
   "metadata": {},
   "outputs": [],
   "source": [
    "'2000-01-03 00:00:00', '2000-01-03 04:00:00',\n",
    "'2000-01-03 08:00:00', '2000-01-03 12:00:00',\n",
    "'2000-01-03 16:00:00', '2000-01-03 20:00:00'],\n",
    "dtype='datetime64[ns]', freq='4H')\n",
    "Many offsets can be combined together by addition:\n",
    "In [87]: Hour(2) + Minute(30)\n",
    "Out[87]: <150 * Minutes>\n",
    "Similarly, you can pass frequency strings, like '1h30min', that will effectively be\n",
    "parsed to the same expression:\n",
    "In [88]: pd.date_range('2000-01-01', periods=10, freq='1h30min')\n",
    "Out[88]:\n",
    "DatetimeIndex(['2000-01-01 00:00:00', '2000-01-01 01:30:00',\n",
    "'2000-01-01 03:00:00', '2000-01-01 04:30:00',\n",
    "'2000-01-01 06:00:00', '2000-01-01 07:30:00',\n",
    "'2000-01-01 09:00:00', '2000-01-01 10:30:00',\n",
    "'2000-01-01 12:00:00', '2000-01-01 13:30:00'],\n",
    "dtype='datetime64[ns]', freq='90T')\n",
    "Some frequencies describe points in time that are not evenly spaced. For example, 'M'\n",
    "(calendar month end) and 'BM' (last business/weekday of month) depend on the\n",
    "number of days in a month and, in the latter case, whether the month ends on a\n",
    "weekend or not. We refer to these as anchored offsets.\n",
    "Refer back to Table 11-4 for a listing of frequency codes and date offset classes avail‐\n",
    "able in pandas.\n",
    "Users can define their own custom frequency classes to provide\n",
    "date logic not available in pandas, though the full details of that are\n",
    "outside the scope of this book.\n",
    "Week of month dates\n",
    "One useful frequency class is “week of month,” starting with WOM. This enables you to\n",
    "get dates like the third Friday of each month:\n",
    "In [89]: rng = pd.date_range('2012-01-01', '2012-09-01', freq='WOM-3FRI')\n",
    "In [90]: list(rng)\n",
    "Out[90]:\n",
    "[Timestamp('2012-01-20 00:00:00', freq='WOM-3FRI'),\n",
    "Timestamp('2012-02-17 00:00:00', freq='WOM-3FRI'),\n",
    "Timestamp('2012-03-16 00:00:00', freq='WOM-3FRI'),\n",
    "Timestamp('2012-04-20 00:00:00', freq='WOM-3FRI'),\n",
    "Timestamp('2012-05-18 00:00:00', freq='WOM-3FRI'),\n",
    "Timestamp('2012-06-15 00:00:00', freq='WOM-3FRI'),"
   ]
  },
  {
   "cell_type": "code",
   "execution_count": null,
   "metadata": {},
   "outputs": [],
   "source": [
    "Timestamp('2012-07-20 00:00:00', freq='WOM-3FRI'),\n",
    "Timestamp('2012-08-17 00:00:00', freq='WOM-3FRI')]\n",
    "Shifting (Leading and Lagging) Data\n",
    "“Shifting” refers to moving data backward and forward through time. Both Series and\n",
    "DataFrame have a shift method for doing naive shifts forward or backward, leaving\n",
    "the index unmodified:\n",
    "In [91]: ts = pd.Series(np.random.randn(4),\n",
    "....: index=pd.date_range('1/1/2000', periods=4, freq='M'))\n",
    "In [92]: ts\n",
    "Out[92]:\n",
    "2000-01-31 -0.066748\n",
    "2000-02-29 0.838639\n",
    "2000-03-31 -0.117388\n",
    "2000-04-30 -0.517795\n",
    "Freq: M, dtype: float64\n",
    "In [93]: ts.shift(2)\n",
    "Out[93]:\n",
    "2000-01-31 NaN\n",
    "2000-02-29 NaN\n",
    "2000-03-31 -0.066748\n",
    "2000-04-30 0.838639\n",
    "Freq: M, dtype: float64\n",
    "In [94]: ts.shift(-2)\n",
    "Out[94]:\n",
    "2000-01-31 -0.117388\n",
    "2000-02-29 -0.517795\n",
    "2000-03-31 NaN\n",
    "2000-04-30 NaN\n",
    "Freq: M, dtype: float64\n"
   ]
  },
  {
   "cell_type": "markdown",
   "metadata": {},
   "source": [
    "When we shift like this, missing data is introduced either at the start or the end of the time series.  \n",
    "A common use of shift is computing percent changes in a time series or multiple time series as DataFrame columns. This is expressed as:\n"
   ]
  },
  {
   "cell_type": "code",
   "execution_count": null,
   "metadata": {},
   "outputs": [],
   "source": [
    "ts / ts.shift(1) - 1\n"
   ]
  },
  {
   "cell_type": "code",
   "execution_count": null,
   "metadata": {},
   "outputs": [],
   "source": [
    "Because naive shifts leave the index unmodified, some data is discarded. Thus if the\n",
    "frequency is known, it can be passed to shift to advance the timestamps instead of\n",
    "simply the data:\n",
    "In [95]: ts.shift(2, freq='M')\n",
    "Out[95]:\n",
    "2000-03-31 -0.066748\n",
    "2000-04-30 0.838639"
   ]
  },
  {
   "cell_type": "code",
   "execution_count": null,
   "metadata": {},
   "outputs": [],
   "source": []
  },
  {
   "cell_type": "markdown",
   "metadata": {},
   "source": [
    "# Referencias\n",
    "\n",
    "* [McKinney, W. (2022). Python for data analysis. \" O'Reilly Media, Inc.\".](https://d1wqtxts1xzle7.cloudfront.net/62139307/Python-for-Data-Analysis-2nd-Edition20200219-40214-1of6b7q-libre.pdf?1582110463=&response-content-disposition=inline%3B+filename%3DPython_for_Data_Analysis.pdf&Expires=1694149999&Signature=MH1uVxkUnFgwepQUeb-3OdFgQWj0vmtzC4ra~TZ-xyCstLSCg7uaNeDi4yrXghoJ6UEMCGOJkx2s13vayVVP-IzF8I91v6TeW0ZUeIejbWlrkHxtT01V-fJ6q7C~9buozUwVr~o2BY3llLH5rZVlZF31pPefEm3ejjlW8pO~prbQ8VVfyfXs4HzSIQJ~nbTCZU8LfqYwU3yMLV7IH4TQN9eGd8GZuqHjznUJZU995AwYqQqzl5-Xtoz93-S1Pn2UWuS8SsXmFt1ysr~-M7-6lVQw~E9~MFbdCIQRfp~fRtVtHDfB-mEXNEQ1CX518xUB0xT3JtfZdsGArib9UMwOqg__&Key-Pair-Id=APKAJLOHF5GGSLRBV4ZA)\n",
    "\n",
    "<img src = 'https://wesmckinney.com/images/wes-2017-01-12-small.png'>"
   ]
  },
  {
   "cell_type": "markdown",
   "metadata": {},
   "source": []
  }
 ],
 "metadata": {
  "kernelspec": {
   "display_name": ".venv",
   "language": "python",
   "name": "python3"
  },
  "language_info": {
   "codemirror_mode": {
    "name": "ipython",
    "version": 3
   },
   "file_extension": ".py",
   "mimetype": "text/x-python",
   "name": "python",
   "nbconvert_exporter": "python",
   "pygments_lexer": "ipython3",
   "version": "3.10.12"
  },
  "orig_nbformat": 4
 },
 "nbformat": 4,
 "nbformat_minor": 2
}

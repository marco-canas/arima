{
 "cells": [
  {
   "cell_type": "markdown",
   "metadata": {},
   "source": [
    "<table align=\"left\">\n",
    "  <td>\n",
    "    <a href=\"https://colab.research.google.com/github/marco-canas/investigacion_dengue/blob/main/machine_learning/1_time_series/7_seminario_septiembre_20/7_seminario_sep_20_time_series_with_duplicates_indices.ipynb\" target=\"_parent\"><img src=\"https://colab.research.google.com/assets/colab-badge.svg\" alt=\"Open In Colab\"/></a>\n",
    "  </td>\n",
    "</table>"
   ]
  },
  {
   "cell_type": "markdown",
   "metadata": {},
   "source": [
    "### [Video de apoyo]()"
   ]
  },
  {
   "cell_type": "markdown",
   "metadata": {},
   "source": [
    "# Objetivo del seminario 7\n",
    "\n",
    "* creación de fechas con la función `DatetimeIndex()` de pandas"
   ]
  },
  {
   "cell_type": "code",
   "execution_count": 1,
   "metadata": {},
   "outputs": [],
   "source": [
    "# mapa conceptual\n",
    "\n",
    "import networkx as nx \n",
    "#crear un grafo dirigido\n",
    "G = nx.DiGraph() \n",
    "\n",
    "# agregar nodos\n",
    "G.add_node('Series de Tiempo')\n",
    "G.add_node('Timestamp')\n",
    "G.add_node('Observacions')\n",
    "\n",
    "\n",
    "\n"
   ]
  },
  {
   "cell_type": "markdown",
   "metadata": {},
   "source": [
    "# Time Series with Duplicate Indices\n"
   ]
  },
  {
   "cell_type": "markdown",
   "metadata": {},
   "source": [
    "In some applications, there may be multiple data observations falling on a particular timestamp. Here is an example:  \n",
    "\n",
    "En algunas aplicaciones, puede haber múltiples observaciones de datos que caen en una marca de tiempo particular. Aquí hay un ejemplo:"
   ]
  },
  {
   "cell_type": "code",
   "execution_count": 17,
   "metadata": {},
   "outputs": [
    {
     "data": {
      "text/plain": [
       "DatetimeIndex(['2023-09-20', '2023-09-22', '2023-09-22', '2023-09-22',\n",
       "               '2023-09-25'],\n",
       "              dtype='datetime64[ns]', freq=None)"
      ]
     },
     "execution_count": 17,
     "metadata": {},
     "output_type": "execute_result"
    }
   ],
   "source": [
    "import numpy as np \n",
    "import pandas as pd\n",
    "fechas = pd.DatetimeIndex(['20/9/2023', '22/9/2023', '22/9/2023', '22/9/2023', '25/9/2023']) # month/day/year_\n",
    "fechas "
   ]
  },
  {
   "cell_type": "code",
   "execution_count": 18,
   "metadata": {},
   "outputs": [
    {
     "data": {
      "text/plain": [
       "2023-09-20    35\n",
       "2023-09-22    37\n",
       "2023-09-22    45\n",
       "2023-09-22    37\n",
       "2023-09-25    32\n",
       "dtype: int64"
      ]
     },
     "execution_count": 18,
     "metadata": {},
     "output_type": "execute_result"
    }
   ],
   "source": [
    "datos_temperatura = [35, 37, 45, 37, 32]\n",
    "serie_de_tiempo_como_serie = pd.Series(datos_temperatura, index = fechas) \n",
    "serie_de_tiempo_como_serie"
   ]
  },
  {
   "cell_type": "code",
   "execution_count": 19,
   "metadata": {},
   "outputs": [
    {
     "data": {
      "text/plain": [
       "pandas.core.series.Series"
      ]
     },
     "execution_count": 19,
     "metadata": {},
     "output_type": "execute_result"
    }
   ],
   "source": [
    "type(serie_de_tiempo_como_serie)"
   ]
  },
  {
   "cell_type": "markdown",
   "metadata": {},
   "source": [
    "\n",
    "We can tell that the index is not unique by checking its `is_unique` property:  \n",
    "\n",
    "Podemos saber que el índice no es único comprobando su propiedad `is_unique`:"
   ]
  },
  {
   "cell_type": "code",
   "execution_count": 20,
   "metadata": {},
   "outputs": [
    {
     "data": {
      "text/plain": [
       "DatetimeIndex(['2023-09-20', '2023-09-22', '2023-09-22', '2023-09-22',\n",
       "               '2023-09-25'],\n",
       "              dtype='datetime64[ns]', freq=None)"
      ]
     },
     "execution_count": 20,
     "metadata": {},
     "output_type": "execute_result"
    }
   ],
   "source": [
    "serie_de_tiempo_como_serie.index "
   ]
  },
  {
   "cell_type": "code",
   "execution_count": 13,
   "metadata": {},
   "outputs": [
    {
     "data": {
      "text/plain": [
       "True"
      ]
     },
     "execution_count": 13,
     "metadata": {},
     "output_type": "execute_result"
    }
   ],
   "source": [
    "serie_de_tiempo_como_serie.index.is_unique "
   ]
  },
  {
   "cell_type": "code",
   "execution_count": 17,
   "metadata": {},
   "outputs": [
    {
     "data": {
      "text/plain": [
       "False"
      ]
     },
     "execution_count": 17,
     "metadata": {},
     "output_type": "execute_result"
    }
   ],
   "source": [
    "dup_ts.index.is_unique"
   ]
  },
  {
   "cell_type": "markdown",
   "metadata": {},
   "source": [
    "Indexing into this time series will now either produce scalar values or slices depending on whether a timestamp is duplicated:  \n",
    "\n",
    "La indexación en esta serie de tiempo ahora producirá valores escalares o porciones dependiendo de si una marca de tiempo está duplicada:\n"
   ]
  },
  {
   "cell_type": "code",
   "execution_count": 21,
   "metadata": {},
   "outputs": [
    {
     "data": {
      "text/plain": [
       "2023-09-22    37\n",
       "2023-09-22    45\n",
       "2023-09-22    37\n",
       "dtype: int64"
      ]
     },
     "execution_count": 21,
     "metadata": {},
     "output_type": "execute_result"
    }
   ],
   "source": [
    "serie_de_tiempo_como_serie['22/9/2023']"
   ]
  },
  {
   "cell_type": "code",
   "execution_count": 8,
   "metadata": {},
   "outputs": [
    {
     "data": {
      "text/plain": [
       "4"
      ]
     },
     "execution_count": 8,
     "metadata": {},
     "output_type": "execute_result"
    }
   ],
   "source": [
    "dup_ts['1/3/2023'] # not duplicated\n"
   ]
  },
  {
   "cell_type": "code",
   "execution_count": 9,
   "metadata": {},
   "outputs": [
    {
     "data": {
      "text/plain": [
       "2023-01-02    1\n",
       "2023-01-02    2\n",
       "2023-01-02    3\n",
       "dtype: int64"
      ]
     },
     "execution_count": 9,
     "metadata": {},
     "output_type": "execute_result"
    }
   ],
   "source": [
    "dup_ts['1/2/2023'] # duplicated\n"
   ]
  },
  {
   "cell_type": "markdown",
   "metadata": {},
   "source": [
    "Suppose you wanted to aggregate the data having non-unique timestamps. One way to do this is to use groupby and pass `level=0`:  \n",
    "\n",
    "Supongamos que desea agregar los datos que tienen marcas de tiempo no únicas. Una forma de hacer esto es usar groupby y pasar `level=0`:\n"
   ]
  },
  {
   "cell_type": "code",
   "execution_count": 10,
   "metadata": {},
   "outputs": [
    {
     "data": {
      "text/plain": [
       "2023-01-01    0.0\n",
       "2023-01-02    2.0\n",
       "2023-01-03    4.0\n",
       "dtype: float64"
      ]
     },
     "execution_count": 10,
     "metadata": {},
     "output_type": "execute_result"
    }
   ],
   "source": [
    "grouped = dup_ts.groupby(level=0)\n",
    "grouped.mean()\n"
   ]
  },
  {
   "cell_type": "code",
   "execution_count": 18,
   "metadata": {},
   "outputs": [
    {
     "data": {
      "text/plain": [
       "2023-01-01    1\n",
       "2023-01-02    3\n",
       "2023-01-03    1\n",
       "dtype: int64"
      ]
     },
     "execution_count": 18,
     "metadata": {},
     "output_type": "execute_result"
    }
   ],
   "source": [
    "grouped.count()\n"
   ]
  },
  {
   "cell_type": "markdown",
   "metadata": {},
   "source": [
    "# 11.3 Date Ranges, Frequencies, and Shifting  \n",
    "\n",
    "## Rangos de fechas, frecuencias y cambios\n"
   ]
  },
  {
   "cell_type": "markdown",
   "metadata": {},
   "source": [
    "Generic time series in pandas are assumed to be irregular; that is, they have no fixed frequency. For many applications this is sufficient. However, it’s often desirable to work relative to a fixed frequency, such as daily, monthly, or every 15 minutes, even if that means introducing missing values into a time series. Fortunately pandas has a full suite of standard time series frequencies and tools for resampling, inferring frequencies, and generating fixed-frequency date ranges.   \n",
    "\n",
    "Se supone que las series temporales genéricas en pandas son irregulares; es decir, no tienen una frecuencia fija. Para muchas aplicaciones esto es suficiente. Sin embargo, a menudo es deseable trabajar con una frecuencia fija, como diaria, mensual o cada 15 minutos, incluso si eso significa introducir valores faltantes en una serie de tiempo. Afortunadamente, pandas tiene un conjunto completo de frecuencias de series temporales estándar y herramientas para remuestreo, inferir frecuencias y generar rangos de fechas de frecuencia fija."
   ]
  },
  {
   "cell_type": "markdown",
   "metadata": {},
   "source": [
    "For example, you can convert the sample time series to be fixed daily frequency by calling resample:  \n",
    "\n",
    "Por ejemplo, puede convertir la serie de tiempo de muestra para que tenga una frecuencia diaria fija llamando a resample:\n"
   ]
  },
  {
   "cell_type": "code",
   "execution_count": 22,
   "metadata": {},
   "outputs": [],
   "source": [
    "from datetime import datetime\n",
    "dates = [datetime(2011, 1, 2), datetime(2011, 1, 5), datetime(2011, 1, 7), datetime(2011, 1, 8), \\\n",
    "                  datetime(2011, 1, 10), datetime(2011, 1, 12)]\n",
    "ts = pd.Series(np.random.randn(6), index=dates)"
   ]
  },
  {
   "cell_type": "code",
   "execution_count": 23,
   "metadata": {},
   "outputs": [
    {
     "data": {
      "text/plain": [
       "2011-01-02   -0.468237\n",
       "2011-01-05    0.499285\n",
       "2011-01-07   -0.565216\n",
       "2011-01-08   -0.765556\n",
       "2011-01-10   -0.223571\n",
       "2011-01-12    0.992481\n",
       "dtype: float64"
      ]
     },
     "execution_count": 23,
     "metadata": {},
     "output_type": "execute_result"
    }
   ],
   "source": [
    "ts\n"
   ]
  },
  {
   "cell_type": "code",
   "execution_count": 24,
   "metadata": {},
   "outputs": [],
   "source": [
    "resampler = ts.resample('D')\n"
   ]
  },
  {
   "cell_type": "code",
   "execution_count": 25,
   "metadata": {},
   "outputs": [
    {
     "data": {
      "text/plain": [
       "<pandas.core.resample.DatetimeIndexResampler object at 0x7f2ede60a110>"
      ]
     },
     "execution_count": 25,
     "metadata": {},
     "output_type": "execute_result"
    }
   ],
   "source": [
    "resampler "
   ]
  },
  {
   "cell_type": "code",
   "execution_count": 26,
   "metadata": {},
   "outputs": [
    {
     "data": {
      "text/plain": [
       "2011-01-02   -0.468237\n",
       "2011-01-05    0.499285\n",
       "2011-01-07   -0.565216\n",
       "2011-01-08   -0.765556\n",
       "2011-01-10   -0.223571\n",
       "2011-01-12    0.992481\n",
       "dtype: float64"
      ]
     },
     "execution_count": 26,
     "metadata": {},
     "output_type": "execute_result"
    }
   ],
   "source": [
    "ts "
   ]
  },
  {
   "cell_type": "markdown",
   "metadata": {},
   "source": [
    "The string 'D' is interpreted as daily frequency.  \n",
    "Conversion between frequencies or resampling is a big enough topic to have its own section later (Section 11.6, “Resampling and Frequency Conversion,” on page 348).  \n",
    "\n",
    "Here I’ll show you how to use the base frequencies and multiples thereof."
   ]
  },
  {
   "cell_type": "code",
   "execution_count": null,
   "metadata": {},
   "outputs": [],
   "source": [
    "# Generating Date Ranges\n"
   ]
  },
  {
   "cell_type": "markdown",
   "metadata": {},
   "source": [
    "While I used it previously without explanation, pandas.date_range is responsible for generating a DatetimeIndex with an indicated length according to a particular\n",
    "frequency:\n"
   ]
  },
  {
   "cell_type": "code",
   "execution_count": 27,
   "metadata": {},
   "outputs": [
    {
     "data": {
      "text/plain": [
       "DatetimeIndex(['2012-04-01', '2012-04-02', '2012-04-03', '2012-04-04',\n",
       "               '2012-04-05', '2012-04-06', '2012-04-07', '2012-04-08',\n",
       "               '2012-04-09', '2012-04-10', '2012-04-11', '2012-04-12',\n",
       "               '2012-04-13', '2012-04-14', '2012-04-15', '2012-04-16',\n",
       "               '2012-04-17', '2012-04-18', '2012-04-19', '2012-04-20',\n",
       "               '2012-04-21', '2012-04-22', '2012-04-23', '2012-04-24',\n",
       "               '2012-04-25', '2012-04-26', '2012-04-27', '2012-04-28',\n",
       "               '2012-04-29', '2012-04-30', '2012-05-01', '2012-05-02',\n",
       "               '2012-05-03', '2012-05-04', '2012-05-05', '2012-05-06',\n",
       "               '2012-05-07', '2012-05-08', '2012-05-09', '2012-05-10',\n",
       "               '2012-05-11', '2012-05-12', '2012-05-13', '2012-05-14',\n",
       "               '2012-05-15', '2012-05-16', '2012-05-17', '2012-05-18',\n",
       "               '2012-05-19', '2012-05-20', '2012-05-21', '2012-05-22',\n",
       "               '2012-05-23', '2012-05-24', '2012-05-25', '2012-05-26',\n",
       "               '2012-05-27', '2012-05-28', '2012-05-29', '2012-05-30',\n",
       "               '2012-05-31', '2012-06-01'],\n",
       "              dtype='datetime64[ns]', freq='D')"
      ]
     },
     "execution_count": 27,
     "metadata": {},
     "output_type": "execute_result"
    }
   ],
   "source": [
    "index = pd.date_range('2012-04-01', '2012-06-01')\n",
    "index\n"
   ]
  },
  {
   "cell_type": "markdown",
   "metadata": {},
   "source": [
    "\n",
    "By default, date_range generates daily timestamps. If you pass only a start or end date, you must pass a number of periods to generate:\n"
   ]
  },
  {
   "cell_type": "code",
   "execution_count": null,
   "metadata": {},
   "outputs": [],
   "source": [
    "In [76]: pd.date_range(start='2012-04-01', periods=20)\n",
    "Out[76]:\n",
    "DatetimeIndex(['2012-04-01', '2012-04-02', '2012-04-03', '2012-04-04',\n",
    "'2012-04-05', '2012-04-06', '2012-04-07', '2012-04-08',\n",
    "'2012-04-09', '2012-04-10', '2012-04-11', '2012-04-12',\n",
    "'2012-04-13', '2012-04-14', '2012-04-15', '2012-04-16',\n",
    "'2012-04-17', '2012-04-18', '2012-04-19', '2012-04-20'],\n",
    "dtype='datetime64[ns]', freq='D')\n",
    "In [77]: pd.date_range(end='2012-06-01', periods=20)\n",
    "Out[77]:\n",
    "DatetimeIndex(['2012-05-13', '2012-05-14', '2012-05-15', '2012-05-16',\n",
    "'2012-05-17', '2012-05-18', '2012-05-19', '2012-05-20',\n",
    "'2012-05-21', '2012-05-22', '2012-05-23', '2012-05-24',\n",
    "'2012-05-25', '2012-05-26', '2012-05-27', '2012-05-28',\n",
    "'2012-05-29', '2012-05-30', '2012-05-31', '2012-06-01'],\n",
    "dtype='datetime64[ns]', freq='D')\n",
    "The start and end dates define strict boundaries for the generated date index. For\n",
    "example, if you wanted a date index containing the last business day of each month,\n",
    "you would pass the 'BM' frequency (business end of month; see more complete listing\n",
    "328 | Chapter 11: Time Series\n",
    "of frequencies in Table 11-4) and only dates falling on or inside the date interval will\n",
    "be included:\n",
    "In [78]: pd.date_range('2000-01-01', '2000-12-01', freq='BM')\n",
    "Out[78]:\n",
    "DatetimeIndex(['2000-01-31', '2000-02-29', '2000-03-31', '2000-04-28',\n",
    "'2000-05-31', '2000-06-30', '2000-07-31', '2000-08-31',\n",
    "'2000-09-29', '2000-10-31', '2000-11-30'],\n",
    "dtype='datetime64[ns]', freq='BM')"
   ]
  },
  {
   "cell_type": "markdown",
   "metadata": {},
   "source": [
    "# Tabla 11.4 \n",
    "\n",
    "<img src = 'https://github.com/marco-canas/investigacion_dengue/blob/main/machine_learning/images/table_11_4.png?raw=true'>"
   ]
  },
  {
   "cell_type": "code",
   "execution_count": null,
   "metadata": {},
   "outputs": [],
   "source": [
    "date_range by default preserves the time (if any) of the start or end timestamp:\n",
    "In [79]: pd.date_range('2012-05-02 12:56:31', periods=5)\n",
    "Out[79]:\n",
    "DatetimeIndex(['2012-05-02 12:56:31', '2012-05-03 12:56:31',\n",
    "'2012-05-04 12:56:31', '2012-05-05 12:56:31',\n",
    "'2012-05-06 12:56:31'],\n",
    "dtype='datetime64[ns]', freq='D')\n",
    "Sometimes you will have start or end dates with time information but want to gener‐\n",
    "ate a set of timestamps normalized to midnight as a convention. To do this, there is a\n",
    "normalize option:\n",
    "In [80]: pd.date_range('2012-05-02 12:56:31', periods=5, normalize=True)\n",
    "Out[80]:\n",
    "DatetimeIndex(['2012-05-02', '2012-05-03', '2012-05-04', '2012-05-05',\n",
    "'2012-05-06'],\n",
    "dtype='datetime64[ns]', freq='D')\n",
    "Frequencies and Date Offsets\n",
    "Frequencies in pandas are composed of a base frequency and a multiplier. Base fre‐\n",
    "quencies are typically referred to by a string alias, like 'M' for monthly or 'H' for\n",
    "hourly. For each base frequency, there is an object defined generally referred to as a\n",
    "date offset. For example, hourly frequency can be represented with the Hour class:\n",
    "In [81]: from pandas.tseries.offsets import Hour, Minute\n",
    "In [82]: hour = Hour()\n",
    "In [83]: hour\n",
    "Out[83]: <Hour>\n"
   ]
  },
  {
   "cell_type": "markdown",
   "metadata": {},
   "source": [
    "You can define a multiple of an offset by passing an integer:\n"
   ]
  },
  {
   "cell_type": "code",
   "execution_count": null,
   "metadata": {},
   "outputs": [],
   "source": [
    "In [84]: four_hours = Hour(4)\n",
    "In [85]: four_hours\n",
    "Out[85]: <4 * Hours>\n",
    "In most applications, you would never need to explicitly create one of these objects,\n",
    "instead using a string alias like 'H' or '4H'. Putting an integer before the base fre‐\n",
    "quency creates a multiple:\n",
    "In [86]: pd.date_range('2000-01-01', '2000-01-03 23:59', freq='4h')\n",
    "Out[86]:\n",
    "DatetimeIndex(['2000-01-01 00:00:00', '2000-01-01 04:00:00',\n",
    "'2000-01-01 08:00:00', '2000-01-01 12:00:00',\n",
    "'2000-01-01 16:00:00', '2000-01-01 20:00:00',\n",
    "'2000-01-02 00:00:00', '2000-01-02 04:00:00',\n",
    "'2000-01-02 08:00:00', '2000-01-02 12:00:00',\n",
    "'2000-01-02 16:00:00', '2000-01-02 20:00:00',"
   ]
  },
  {
   "cell_type": "code",
   "execution_count": null,
   "metadata": {},
   "outputs": [],
   "source": [
    "'2000-01-03 00:00:00', '2000-01-03 04:00:00',\n",
    "'2000-01-03 08:00:00', '2000-01-03 12:00:00',\n",
    "'2000-01-03 16:00:00', '2000-01-03 20:00:00'],\n",
    "dtype='datetime64[ns]', freq='4H')\n"
   ]
  },
  {
   "cell_type": "code",
   "execution_count": null,
   "metadata": {},
   "outputs": [],
   "source": [
    "Many offsets can be combined together by addition:\n",
    "In [87]: Hour(2) + Minute(30)\n",
    "Out[87]: <150 * Minutes>\n",
    "Similarly, you can pass frequency strings, like '1h30min', that will effectively be\n",
    "parsed to the same expression:\n",
    "In [88]: pd.date_range('2000-01-01', periods=10, freq='1h30min')\n",
    "Out[88]:\n",
    "DatetimeIndex(['2000-01-01 00:00:00', '2000-01-01 01:30:00',\n",
    "'2000-01-01 03:00:00', '2000-01-01 04:30:00',\n",
    "'2000-01-01 06:00:00', '2000-01-01 07:30:00',\n",
    "'2000-01-01 09:00:00', '2000-01-01 10:30:00',\n",
    "'2000-01-01 12:00:00', '2000-01-01 13:30:00'],\n",
    "dtype='datetime64[ns]', freq='90T')\n",
    "Some frequencies describe points in time that are not evenly spaced. For example, 'M'\n",
    "(calendar month end) and 'BM' (last business/weekday of month) depend on the\n",
    "number of days in a month and, in the latter case, whether the month ends on a\n",
    "weekend or not. We refer to these as anchored offsets.\n",
    "Refer back to Table 11-4 for a listing of frequency codes and date offset classes avail‐\n",
    "able in pandas.\n",
    "Users can define their own custom frequency classes to provide\n",
    "date logic not available in pandas, though the full details of that are\n",
    "outside the scope of this book.\n",
    "Week of month dates\n",
    "One useful frequency class is “week of month,” starting with WOM. This enables you to\n",
    "get dates like the third Friday of each month:\n",
    "In [89]: rng = pd.date_range('2012-01-01', '2012-09-01', freq='WOM-3FRI')\n",
    "In [90]: list(rng)\n"
   ]
  },
  {
   "cell_type": "code",
   "execution_count": null,
   "metadata": {},
   "outputs": [],
   "source": [
    "Out[90]:\n",
    "[Timestamp('2012-01-20 00:00:00', freq='WOM-3FRI'),\n",
    "Timestamp('2012-02-17 00:00:00', freq='WOM-3FRI'),\n",
    "Timestamp('2012-03-16 00:00:00', freq='WOM-3FRI'),\n",
    "Timestamp('2012-04-20 00:00:00', freq='WOM-3FRI'),\n",
    "Timestamp('2012-05-18 00:00:00', freq='WOM-3FRI'),\n",
    "Timestamp('2012-06-15 00:00:00', freq='WOM-3FRI'),"
   ]
  },
  {
   "cell_type": "code",
   "execution_count": null,
   "metadata": {},
   "outputs": [],
   "source": [
    "Timestamp('2012-07-20 00:00:00', freq='WOM-3FRI'),\n",
    "Timestamp('2012-08-17 00:00:00', freq='WOM-3FRI')]\n",
    "Shifting (Leading and Lagging) Data\n",
    "“Shifting” refers to moving data backward and forward through time. Both Series and\n",
    "DataFrame have a shift method for doing naive shifts forward or backward, leaving\n",
    "the index unmodified:\n",
    "In [91]: ts = pd.Series(np.random.randn(4),\n",
    "....: index=pd.date_range('1/1/2000', periods=4, freq='M'))\n",
    "In [92]: ts\n"
   ]
  },
  {
   "cell_type": "code",
   "execution_count": null,
   "metadata": {},
   "outputs": [],
   "source": [
    "Out[92]:\n",
    "2000-01-31 -0.066748\n",
    "2000-02-29 0.838639\n",
    "2000-03-31 -0.117388\n",
    "2000-04-30 -0.517795\n",
    "Freq: M, dtype: float64\n",
    "In [93]: ts.shift(2)\n",
    "Out[93]:\n",
    "2000-01-31 NaN\n",
    "2000-02-29 NaN\n",
    "2000-03-31 -0.066748\n",
    "2000-04-30 0.838639\n",
    "Freq: M, dtype: float64\n",
    "In [94]: ts.shift(-2)\n",
    "Out[94]:\n",
    "2000-01-31 -0.117388\n",
    "2000-02-29 -0.517795\n",
    "2000-03-31 NaN\n",
    "2000-04-30 NaN\n",
    "Freq: M, dtype: float64\n"
   ]
  },
  {
   "cell_type": "markdown",
   "metadata": {},
   "source": [
    "When we shift like this, missing data is introduced either at the start or the end of the time series.  \n",
    "A common use of shift is computing percent changes in a time series or multiple time series as DataFrame columns. This is expressed as:\n"
   ]
  },
  {
   "cell_type": "code",
   "execution_count": null,
   "metadata": {},
   "outputs": [],
   "source": [
    "ts / ts.shift(1) - 1\n"
   ]
  },
  {
   "cell_type": "code",
   "execution_count": null,
   "metadata": {},
   "outputs": [],
   "source": [
    "Because naive shifts leave the index unmodified, some data is discarded. "
   ]
  },
  {
   "cell_type": "code",
   "execution_count": null,
   "metadata": {},
   "outputs": [],
   "source": [
    "Thus if the frequency is known, it can be passed to shift to advance the timestamps instead of\n",
    "simply the data:\n"
   ]
  },
  {
   "cell_type": "code",
   "execution_count": null,
   "metadata": {},
   "outputs": [],
   "source": [
    "In [95]: ts.shift(2, freq='M')\n",
    "Out[95]:\n",
    "2000-03-31 -0.066748\n",
    "2000-04-30 0.838639"
   ]
  },
  {
   "cell_type": "code",
   "execution_count": null,
   "metadata": {},
   "outputs": [],
   "source": [
    "2000-05-31 -0.117388\n",
    "2000-06-30 -0.517795\n",
    "Freq: M, dtype: float64\n",
    "Other frequencies can be passed, too, giving you some flexibility in how to lead and\n",
    "lag the data:\n",
    "In [96]: ts.shift(3, freq='D')\n",
    "Out[96]:\n",
    "2000-02-03 -0.066748\n",
    "2000-03-03 0.838639\n",
    "2000-04-03 -0.117388\n",
    "2000-05-03 -0.517795\n",
    "dtype: float64\n",
    "In [97]: ts.shift(1, freq='90T')\n",
    "Out[97]:\n",
    "2000-01-31 01:30:00 -0.066748\n",
    "2000-02-29 01:30:00 0.838639\n",
    "2000-03-31 01:30:00 -0.117388\n",
    "2000-04-30 01:30:00 -0.517795\n",
    "Freq: M, dtype: float64\n",
    "The T here stands for minutes.\n",
    "Shifting dates with offsets\n",
    "The pandas date offsets can also be used with datetime or Timestamp objects:\n",
    "In [98]: from pandas.tseries.offsets import Day, MonthEnd\n",
    "In [99]: now = datetime(2011, 11, 17)\n",
    "In [100]: now + 3 * Day()\n",
    "Out[100]: Timestamp('2011-11-20 00:00:00')\n",
    "If you add an anchored offset like MonthEnd, the first increment will “roll forward” a\n",
    "date to the next date according to the frequency rule:\n",
    "In [101]: now + MonthEnd()\n",
    "Out[101]: Timestamp('2011-11-30 00:00:00')\n",
    "In [102]: now + MonthEnd(2)\n",
    "Out[102]: Timestamp('2011-12-31 00:00:00')\n",
    "Anchored offsets can explicitly “roll” dates forward or backward by simply using their\n",
    "rollforward and rollback methods, respectively:\n",
    "In [103]: offset = MonthEnd()\n",
    "In [104]: offset.rollforward(now)\n",
    "Out[104]: Timestamp('2011-11-30 00:00:00')"
   ]
  },
  {
   "cell_type": "code",
   "execution_count": null,
   "metadata": {},
   "outputs": [],
   "source": [
    "In [105]: offset.rollback(now)\n",
    "Out[105]: Timestamp('2011-10-31 00:00:00')\n",
    "A creative use of date offsets is to use these methods with groupby:\n",
    "In [106]: ts = pd.Series(np.random.randn(20),\n",
    ".....: index=pd.date_range('1/15/2000', periods=20, freq='4d'))\n",
    "In [107]: ts\n"
   ]
  },
  {
   "cell_type": "code",
   "execution_count": null,
   "metadata": {},
   "outputs": [],
   "source": [
    "In [108]: ts.groupby(offset.rollforward).mean()\n",
    "Out[108]:\n",
    "2000-01-31 -0.005833\n",
    "2000-02-29 0.015894\n",
    "2000-03-31 0.150209\n",
    "dtype: float64\n",
    "Of course, an easier and faster way to do this is using resample (we’ll discuss this in\n",
    "much more depth in Section 11.6, “Resampling and Frequency Conversion,” on page\n",
    "348):\n",
    "In [109]: ts.resample('M').mean()\n",
    "Out[109]:\n",
    "2000-01-31 -0.005833\n",
    "2000-02-29 0.015894\n",
    "2000-03-31 0.150209\n",
    "Freq: M, dtype: float64\n",
    "334 | Chapter 11: Time Series\n"
   ]
  },
  {
   "cell_type": "markdown",
   "metadata": {},
   "source": [
    "# 11.4 Time Zone Handling\n"
   ]
  },
  {
   "cell_type": "markdown",
   "metadata": {},
   "source": [
    "Working with time zones is generally considered one of the most unpleasant parts of time series manipulation. As a result, many time series users choose to work with time series in coordinated universal time or UTC, which is the successor to Greenwich Mean Time and is the current international standard. Time zones are expressed as offsets from UTC; for example, New York is four hours behind UTC during daylight saving time and five hours behind the rest of the year.\n"
   ]
  },
  {
   "cell_type": "markdown",
   "metadata": {},
   "source": [
    "In Python, time zone information comes from the third-party pytz library (installa‐\n",
    "ble with pip or conda), which exposes the Olson database, a compilation of world\n",
    "time zone information. This is especially important for historical data because the\n",
    "daylight saving time (DST) transition dates (and even UTC offsets) have been\n",
    "changed numerous times depending on the whims of local governments. In the Uni‐\n",
    "ted States, the DST transition times have been changed many times since 1900!\n",
    "For detailed information about the pytz library, you’ll need to look at that library’s\n",
    "documentation. As far as this book is concerned, pandas wraps pytz’s functionality so\n",
    "you can ignore its API outside of the time zone names. Time zone names can be\n",
    "found interactively and in the docs:\n"
   ]
  },
  {
   "cell_type": "code",
   "execution_count": null,
   "metadata": {},
   "outputs": [],
   "source": [
    "In [110]: import pytz\n",
    "In [111]: pytz.common_timezones[-5:]\n",
    "Out[111]: ['US/Eastern', 'US/Hawaii', 'US/Mountain', 'US/Pacific', 'UTC']\n"
   ]
  },
  {
   "cell_type": "code",
   "execution_count": null,
   "metadata": {},
   "outputs": [],
   "source": [
    "To get a time zone object from pytz, use pytz.timezone:\n",
    "In [112]: tz = pytz.timezone('America/New_York')\n",
    "In [113]: tz\n",
    "Out[113]: <DstTzInfo 'America/New_York' LMT-1 day, 19:04:00 STD>\n",
    "Methods in pandas will accept either time zone names or these objects.\n"
   ]
  },
  {
   "cell_type": "markdown",
   "metadata": {},
   "source": [
    "# Acceso a los datos de la estación de Caucasia\n",
    "\n"
   ]
  },
  {
   "cell_type": "markdown",
   "metadata": {},
   "source": [
    "1. Lectura del script de Luisa (Marco)\n",
    "2. Para la semana del 23 al 27 de septiembre Janis nos presenta lo que sabemos acerca del acceso y visualización de los datos de AMSC. "
   ]
  },
  {
   "cell_type": "code",
   "execution_count": 1,
   "metadata": {},
   "outputs": [
    {
     "data": {
      "text/html": [
       "<div>\n",
       "<style scoped>\n",
       "    .dataframe tbody tr th:only-of-type {\n",
       "        vertical-align: middle;\n",
       "    }\n",
       "\n",
       "    .dataframe tbody tr th {\n",
       "        vertical-align: top;\n",
       "    }\n",
       "\n",
       "    .dataframe thead th {\n",
       "        text-align: right;\n",
       "    }\n",
       "</style>\n",
       "<table border=\"1\" class=\"dataframe\">\n",
       "  <thead>\n",
       "    <tr style=\"text-align: right;\">\n",
       "      <th></th>\n",
       "      <th>Tiempo Sistema</th>\n",
       "      <th>Bar Trend</th>\n",
       "      <th>Next Record</th>\n",
       "      <th>Barometer</th>\n",
       "      <th>Inside Temperature</th>\n",
       "      <th>Inside Humidity</th>\n",
       "      <th>Outside Temperature</th>\n",
       "      <th>Wind Speed</th>\n",
       "      <th>10 Min Avg Wind Speed</th>\n",
       "      <th>Wind Direction</th>\n",
       "      <th>...</th>\n",
       "      <th>Soil &amp; Leaf Alarms</th>\n",
       "      <th>Transmitter Battery Status</th>\n",
       "      <th>Console Battery Voltage</th>\n",
       "      <th>Forecast Icons</th>\n",
       "      <th>Forecast Rule number</th>\n",
       "      <th>Time of Sunrise</th>\n",
       "      <th>Time of Sunset</th>\n",
       "      <th>&lt;LF&gt; = 0x0A</th>\n",
       "      <th>&lt;CR&gt; = 0x0D</th>\n",
       "      <th>CRC</th>\n",
       "    </tr>\n",
       "  </thead>\n",
       "  <tbody>\n",
       "    <tr>\n",
       "      <th>0</th>\n",
       "      <td>2022-11-16 17:52:56</td>\n",
       "      <td>O</td>\n",
       "      <td>650</td>\n",
       "      <td>29763</td>\n",
       "      <td>881</td>\n",
       "      <td>73</td>\n",
       "      <td>839</td>\n",
       "      <td>1</td>\n",
       "      <td>2</td>\n",
       "      <td>305</td>\n",
       "      <td>...</td>\n",
       "      <td>0</td>\n",
       "      <td>0</td>\n",
       "      <td>770</td>\n",
       "      <td>3</td>\n",
       "      <td>192</td>\n",
       "      <td>553</td>\n",
       "      <td>1738</td>\n",
       "      <td>10</td>\n",
       "      <td>13</td>\n",
       "      <td>43122</td>\n",
       "    </tr>\n",
       "    <tr>\n",
       "      <th>1</th>\n",
       "      <td>2022-11-16 17:53:01</td>\n",
       "      <td>O</td>\n",
       "      <td>650</td>\n",
       "      <td>29763</td>\n",
       "      <td>881</td>\n",
       "      <td>73</td>\n",
       "      <td>839</td>\n",
       "      <td>1</td>\n",
       "      <td>2</td>\n",
       "      <td>305</td>\n",
       "      <td>...</td>\n",
       "      <td>0</td>\n",
       "      <td>0</td>\n",
       "      <td>770</td>\n",
       "      <td>3</td>\n",
       "      <td>192</td>\n",
       "      <td>553</td>\n",
       "      <td>1738</td>\n",
       "      <td>10</td>\n",
       "      <td>13</td>\n",
       "      <td>43122</td>\n",
       "    </tr>\n",
       "    <tr>\n",
       "      <th>2</th>\n",
       "      <td>2022-11-16 17:54:00</td>\n",
       "      <td>O</td>\n",
       "      <td>650</td>\n",
       "      <td>29764</td>\n",
       "      <td>882</td>\n",
       "      <td>73</td>\n",
       "      <td>839</td>\n",
       "      <td>1</td>\n",
       "      <td>2</td>\n",
       "      <td>49</td>\n",
       "      <td>...</td>\n",
       "      <td>0</td>\n",
       "      <td>0</td>\n",
       "      <td>770</td>\n",
       "      <td>3</td>\n",
       "      <td>192</td>\n",
       "      <td>553</td>\n",
       "      <td>1738</td>\n",
       "      <td>10</td>\n",
       "      <td>13</td>\n",
       "      <td>32819</td>\n",
       "    </tr>\n",
       "    <tr>\n",
       "      <th>3</th>\n",
       "      <td>2022-11-16 17:55:00</td>\n",
       "      <td>O</td>\n",
       "      <td>650</td>\n",
       "      <td>29765</td>\n",
       "      <td>882</td>\n",
       "      <td>73</td>\n",
       "      <td>838</td>\n",
       "      <td>1</td>\n",
       "      <td>2</td>\n",
       "      <td>43</td>\n",
       "      <td>...</td>\n",
       "      <td>0</td>\n",
       "      <td>0</td>\n",
       "      <td>770</td>\n",
       "      <td>3</td>\n",
       "      <td>192</td>\n",
       "      <td>553</td>\n",
       "      <td>1738</td>\n",
       "      <td>10</td>\n",
       "      <td>13</td>\n",
       "      <td>54035</td>\n",
       "    </tr>\n",
       "    <tr>\n",
       "      <th>4</th>\n",
       "      <td>2022-11-16 17:56:00</td>\n",
       "      <td>O</td>\n",
       "      <td>650</td>\n",
       "      <td>29764</td>\n",
       "      <td>882</td>\n",
       "      <td>73</td>\n",
       "      <td>838</td>\n",
       "      <td>2</td>\n",
       "      <td>2</td>\n",
       "      <td>28</td>\n",
       "      <td>...</td>\n",
       "      <td>0</td>\n",
       "      <td>0</td>\n",
       "      <td>770</td>\n",
       "      <td>3</td>\n",
       "      <td>192</td>\n",
       "      <td>553</td>\n",
       "      <td>1738</td>\n",
       "      <td>10</td>\n",
       "      <td>13</td>\n",
       "      <td>57296</td>\n",
       "    </tr>\n",
       "    <tr>\n",
       "      <th>...</th>\n",
       "      <td>...</td>\n",
       "      <td>...</td>\n",
       "      <td>...</td>\n",
       "      <td>...</td>\n",
       "      <td>...</td>\n",
       "      <td>...</td>\n",
       "      <td>...</td>\n",
       "      <td>...</td>\n",
       "      <td>...</td>\n",
       "      <td>...</td>\n",
       "      <td>...</td>\n",
       "      <td>...</td>\n",
       "      <td>...</td>\n",
       "      <td>...</td>\n",
       "      <td>...</td>\n",
       "      <td>...</td>\n",
       "      <td>...</td>\n",
       "      <td>...</td>\n",
       "      <td>...</td>\n",
       "      <td>...</td>\n",
       "      <td>...</td>\n",
       "    </tr>\n",
       "    <tr>\n",
       "      <th>363</th>\n",
       "      <td>2022-11-16 23:55:00</td>\n",
       "      <td>O</td>\n",
       "      <td>662</td>\n",
       "      <td>29822</td>\n",
       "      <td>849</td>\n",
       "      <td>77</td>\n",
       "      <td>770</td>\n",
       "      <td>0</td>\n",
       "      <td>0</td>\n",
       "      <td>313</td>\n",
       "      <td>...</td>\n",
       "      <td>0</td>\n",
       "      <td>0</td>\n",
       "      <td>771</td>\n",
       "      <td>6</td>\n",
       "      <td>45</td>\n",
       "      <td>553</td>\n",
       "      <td>1738</td>\n",
       "      <td>10</td>\n",
       "      <td>13</td>\n",
       "      <td>48537</td>\n",
       "    </tr>\n",
       "    <tr>\n",
       "      <th>364</th>\n",
       "      <td>2022-11-16 23:56:00</td>\n",
       "      <td>O</td>\n",
       "      <td>662</td>\n",
       "      <td>29820</td>\n",
       "      <td>850</td>\n",
       "      <td>77</td>\n",
       "      <td>771</td>\n",
       "      <td>0</td>\n",
       "      <td>0</td>\n",
       "      <td>313</td>\n",
       "      <td>...</td>\n",
       "      <td>0</td>\n",
       "      <td>0</td>\n",
       "      <td>771</td>\n",
       "      <td>6</td>\n",
       "      <td>45</td>\n",
       "      <td>553</td>\n",
       "      <td>1738</td>\n",
       "      <td>10</td>\n",
       "      <td>13</td>\n",
       "      <td>2713</td>\n",
       "    </tr>\n",
       "    <tr>\n",
       "      <th>365</th>\n",
       "      <td>2022-11-16 23:57:00</td>\n",
       "      <td>O</td>\n",
       "      <td>662</td>\n",
       "      <td>29819</td>\n",
       "      <td>849</td>\n",
       "      <td>77</td>\n",
       "      <td>770</td>\n",
       "      <td>0</td>\n",
       "      <td>0</td>\n",
       "      <td>313</td>\n",
       "      <td>...</td>\n",
       "      <td>0</td>\n",
       "      <td>0</td>\n",
       "      <td>771</td>\n",
       "      <td>6</td>\n",
       "      <td>45</td>\n",
       "      <td>553</td>\n",
       "      <td>1738</td>\n",
       "      <td>10</td>\n",
       "      <td>13</td>\n",
       "      <td>6794</td>\n",
       "    </tr>\n",
       "    <tr>\n",
       "      <th>366</th>\n",
       "      <td>2022-11-16 23:58:00</td>\n",
       "      <td>O</td>\n",
       "      <td>662</td>\n",
       "      <td>29820</td>\n",
       "      <td>850</td>\n",
       "      <td>77</td>\n",
       "      <td>770</td>\n",
       "      <td>0</td>\n",
       "      <td>0</td>\n",
       "      <td>313</td>\n",
       "      <td>...</td>\n",
       "      <td>0</td>\n",
       "      <td>0</td>\n",
       "      <td>771</td>\n",
       "      <td>6</td>\n",
       "      <td>45</td>\n",
       "      <td>553</td>\n",
       "      <td>1738</td>\n",
       "      <td>10</td>\n",
       "      <td>13</td>\n",
       "      <td>1428</td>\n",
       "    </tr>\n",
       "    <tr>\n",
       "      <th>367</th>\n",
       "      <td>2022-11-16 23:59:01</td>\n",
       "      <td>O</td>\n",
       "      <td>662</td>\n",
       "      <td>29820</td>\n",
       "      <td>850</td>\n",
       "      <td>77</td>\n",
       "      <td>770</td>\n",
       "      <td>0</td>\n",
       "      <td>0</td>\n",
       "      <td>313</td>\n",
       "      <td>...</td>\n",
       "      <td>0</td>\n",
       "      <td>0</td>\n",
       "      <td>771</td>\n",
       "      <td>6</td>\n",
       "      <td>45</td>\n",
       "      <td>553</td>\n",
       "      <td>1738</td>\n",
       "      <td>10</td>\n",
       "      <td>13</td>\n",
       "      <td>1428</td>\n",
       "    </tr>\n",
       "  </tbody>\n",
       "</table>\n",
       "<p>368 rows × 42 columns</p>\n",
       "</div>"
      ],
      "text/plain": [
       "          Tiempo Sistema Bar Trend  Next Record  Barometer  \\\n",
       "0    2022-11-16 17:52:56         O          650      29763   \n",
       "1    2022-11-16 17:53:01         O          650      29763   \n",
       "2    2022-11-16 17:54:00         O          650      29764   \n",
       "3    2022-11-16 17:55:00         O          650      29765   \n",
       "4    2022-11-16 17:56:00         O          650      29764   \n",
       "..                   ...       ...          ...        ...   \n",
       "363  2022-11-16 23:55:00         O          662      29822   \n",
       "364  2022-11-16 23:56:00         O          662      29820   \n",
       "365  2022-11-16 23:57:00         O          662      29819   \n",
       "366  2022-11-16 23:58:00         O          662      29820   \n",
       "367  2022-11-16 23:59:01         O          662      29820   \n",
       "\n",
       "     Inside Temperature  Inside Humidity  Outside Temperature  Wind Speed  \\\n",
       "0                   881               73                  839           1   \n",
       "1                   881               73                  839           1   \n",
       "2                   882               73                  839           1   \n",
       "3                   882               73                  838           1   \n",
       "4                   882               73                  838           2   \n",
       "..                  ...              ...                  ...         ...   \n",
       "363                 849               77                  770           0   \n",
       "364                 850               77                  771           0   \n",
       "365                 849               77                  770           0   \n",
       "366                 850               77                  770           0   \n",
       "367                 850               77                  770           0   \n",
       "\n",
       "     10 Min Avg Wind Speed  Wind Direction  ...  Soil & Leaf Alarms  \\\n",
       "0                        2             305  ...                   0   \n",
       "1                        2             305  ...                   0   \n",
       "2                        2              49  ...                   0   \n",
       "3                        2              43  ...                   0   \n",
       "4                        2              28  ...                   0   \n",
       "..                     ...             ...  ...                 ...   \n",
       "363                      0             313  ...                   0   \n",
       "364                      0             313  ...                   0   \n",
       "365                      0             313  ...                   0   \n",
       "366                      0             313  ...                   0   \n",
       "367                      0             313  ...                   0   \n",
       "\n",
       "     Transmitter Battery Status  Console Battery Voltage  Forecast Icons  \\\n",
       "0                             0                      770               3   \n",
       "1                             0                      770               3   \n",
       "2                             0                      770               3   \n",
       "3                             0                      770               3   \n",
       "4                             0                      770               3   \n",
       "..                          ...                      ...             ...   \n",
       "363                           0                      771               6   \n",
       "364                           0                      771               6   \n",
       "365                           0                      771               6   \n",
       "366                           0                      771               6   \n",
       "367                           0                      771               6   \n",
       "\n",
       "     Forecast Rule number  Time of Sunrise  Time of Sunset  <LF> = 0x0A  \\\n",
       "0                     192              553            1738           10   \n",
       "1                     192              553            1738           10   \n",
       "2                     192              553            1738           10   \n",
       "3                     192              553            1738           10   \n",
       "4                     192              553            1738           10   \n",
       "..                    ...              ...             ...          ...   \n",
       "363                    45              553            1738           10   \n",
       "364                    45              553            1738           10   \n",
       "365                    45              553            1738           10   \n",
       "366                    45              553            1738           10   \n",
       "367                    45              553            1738           10   \n",
       "\n",
       "     <CR> = 0x0D    CRC  \n",
       "0             13  43122  \n",
       "1             13  43122  \n",
       "2             13  32819  \n",
       "3             13  54035  \n",
       "4             13  57296  \n",
       "..           ...    ...  \n",
       "363           13  48537  \n",
       "364           13   2713  \n",
       "365           13   6794  \n",
       "366           13   1428  \n",
       "367           13   1428  \n",
       "\n",
       "[368 rows x 42 columns]"
      ]
     },
     "execution_count": 1,
     "metadata": {},
     "output_type": "execute_result"
    }
   ],
   "source": [
    "import pandas as pd \n",
    "\n",
    "url = 'https://raw.githubusercontent.com/marco-canas/didactica_ciencia_datos/main/3_datasets/antioquia_mira_su_cielo/A2022M11/DatosEstacion2022-11-16.csv'\n",
    "\n",
    "df = pd.read_csv(url) \n",
    "df "
   ]
  },
  {
   "cell_type": "code",
   "execution_count": 2,
   "metadata": {},
   "outputs": [
    {
     "data": {
      "text/plain": [
       "Index(['Tiempo Sistema', 'Bar Trend', 'Next Record', 'Barometer',\n",
       "       'Inside Temperature', 'Inside Humidity', 'Outside Temperature',\n",
       "       'Wind Speed', '10 Min Avg Wind Speed', 'Wind Direction',\n",
       "       'Extra Temperatures', 'Soil Temperatures', 'Leaf Temperatures',\n",
       "       'Outside Humidity', 'Extra Humidties', 'Rain Rate', 'UV',\n",
       "       'Solar Radiation', 'Storm Rain', 'Start Date of current Storm',\n",
       "       'Day Rain', 'Month Rain', 'Year Rain', 'Day ET', 'Month ET', 'Year ET',\n",
       "       'Soil Moistures', 'Leaf Wetnesses', 'Inside Alarms', 'Rain Alarms',\n",
       "       'Outside Alarms', 'Extra Temp/Hum Alarms', 'Soil & Leaf Alarms',\n",
       "       'Transmitter Battery Status', 'Console Battery Voltage',\n",
       "       'Forecast Icons', 'Forecast Rule number', 'Time of Sunrise',\n",
       "       'Time of Sunset', '<LF> = 0x0A', '<CR> = 0x0D', 'CRC'],\n",
       "      dtype='object')"
      ]
     },
     "execution_count": 2,
     "metadata": {},
     "output_type": "execute_result"
    }
   ],
   "source": [
    "df.keys() "
   ]
  },
  {
   "cell_type": "code",
   "execution_count": 3,
   "metadata": {},
   "outputs": [
    {
     "data": {
      "text/plain": [
       "0      839\n",
       "1      839\n",
       "2      839\n",
       "3      838\n",
       "4      838\n",
       "      ... \n",
       "363    770\n",
       "364    771\n",
       "365    770\n",
       "366    770\n",
       "367    770\n",
       "Name: Outside Temperature, Length: 368, dtype: int64"
      ]
     },
     "execution_count": 3,
     "metadata": {},
     "output_type": "execute_result"
    }
   ],
   "source": [
    "df['Outside Temperature']"
   ]
  },
  {
   "cell_type": "code",
   "execution_count": 4,
   "metadata": {},
   "outputs": [
    {
     "data": {
      "text/plain": [
       "pandas.core.series.Series"
      ]
     },
     "execution_count": 4,
     "metadata": {},
     "output_type": "execute_result"
    }
   ],
   "source": [
    "type(df['Outside Temperature'])"
   ]
  },
  {
   "cell_type": "code",
   "execution_count": 5,
   "metadata": {},
   "outputs": [
    {
     "data": {
      "text/plain": [
       "[<matplotlib.lines.Line2D at 0x7f91c6e3d090>]"
      ]
     },
     "execution_count": 5,
     "metadata": {},
     "output_type": "execute_result"
    },
    {
     "data": {
      "image/png": "[encoded data removed]",
      "text/plain": [
       "<Figure size 640x480 with 1 Axes>"
      ]
     },
     "metadata": {},
     "output_type": "display_data"
    }
   ],
   "source": [
    "import matplotlib.pyplot as plt \n",
    "\n",
    "plt.plot(df['Outside Temperature'])"
   ]
  },
  {
   "cell_type": "markdown",
   "metadata": {},
   "source": [
    "## Conclusiones\n",
    "\n",
    "* La temperatura en Caucasis, el 16 de noviembre de 2022 era decreciente. "
   ]
  },
  {
   "cell_type": "code",
   "execution_count": null,
   "metadata": {},
   "outputs": [],
   "source": []
  },
  {
   "cell_type": "code",
   "execution_count": null,
   "metadata": {},
   "outputs": [],
   "source": []
  },
  {
   "cell_type": "markdown",
   "metadata": {},
   "source": [
    "# Referencias\n",
    "\n",
    "* [McKinney, W. (2022). Python for data analysis. \" O'Reilly Media, Inc.\".](https://d1wqtxts1xzle7.cloudfront.net/62139307/Python-for-Data-Analysis-2nd-Edition20200219-40214-1of6b7q-libre.pdf?1582110463=&response-content-disposition=inline%3B+filename%3DPython_for_Data_Analysis.pdf&Expires=1694149999&Signature=MH1uVxkUnFgwepQUeb-3OdFgQWj0vmtzC4ra~TZ-xyCstLSCg7uaNeDi4yrXghoJ6UEMCGOJkx2s13vayVVP-IzF8I91v6TeW0ZUeIejbWlrkHxtT01V-fJ6q7C~9buozUwVr~o2BY3llLH5rZVlZF31pPefEm3ejjlW8pO~prbQ8VVfyfXs4HzSIQJ~nbTCZU8LfqYwU3yMLV7IH4TQN9eGd8GZuqHjznUJZU995AwYqQqzl5-Xtoz93-S1Pn2UWuS8SsXmFt1ysr~-M7-6lVQw~E9~MFbdCIQRfp~fRtVtHDfB-mEXNEQ1CX518xUB0xT3JtfZdsGArib9UMwOqg__&Key-Pair-Id=APKAJLOHF5GGSLRBV4ZA)\n",
    "\n",
    "<img src = 'https://wesmckinney.com/images/wes-2017-01-12-small.png'>"
   ]
  },
  {
   "cell_type": "markdown",
   "metadata": {},
   "source": []
  }
 ],
 "metadata": {
  "kernelspec": {
   "display_name": ".venv",
   "language": "python",
   "name": "python3"
  },
  "language_info": {
   "codemirror_mode": {
    "name": "ipython",
    "version": 3
   },
   "file_extension": ".py",
   "mimetype": "text/x-python",
   "name": "python",
   "nbconvert_exporter": "python",
   "pygments_lexer": "ipython3",
   "version": "3.10.12"
  },
  "orig_nbformat": 4
 },
 "nbformat": 4,
 "nbformat_minor": 2
}

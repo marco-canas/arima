{
 "cells": [
  {
   "cell_type": "code",
   "execution_count": 2,
   "metadata": {},
   "outputs": [],
   "source": [
    "import pandas as pd \n",
    "\n",
    "lista_equipo_investigador = 'https://raw.githubusercontent.com/marco-canas/groups_list/main/seminarios_ST_SVM_RF.csv'"
   ]
  },
  {
   "cell_type": "code",
   "execution_count": 3,
   "metadata": {},
   "outputs": [
    {
     "data": {
      "text/html": [
       "<div>\n",
       "<style scoped>\n",
       "    .dataframe tbody tr th:only-of-type {\n",
       "        vertical-align: middle;\n",
       "    }\n",
       "\n",
       "    .dataframe tbody tr th {\n",
       "        vertical-align: top;\n",
       "    }\n",
       "\n",
       "    .dataframe thead th {\n",
       "        text-align: right;\n",
       "    }\n",
       "</style>\n",
       "<table border=\"1\" class=\"dataframe\">\n",
       "  <thead>\n",
       "    <tr style=\"text-align: right;\">\n",
       "      <th></th>\n",
       "      <th>nombre</th>\n",
       "      <th>email</th>\n",
       "    </tr>\n",
       "  </thead>\n",
       "  <tbody>\n",
       "    <tr>\n",
       "      <th>0</th>\n",
       "      <td>Idalina Navarro Barreto</td>\n",
       "      <td>idalina.navarro@udea.edu.co</td>\n",
       "    </tr>\n",
       "    <tr>\n",
       "      <th>1</th>\n",
       "      <td>breinnerd velasques campo</td>\n",
       "      <td>breinnerd.velasquez@udea.edu.co</td>\n",
       "    </tr>\n",
       "    <tr>\n",
       "      <th>2</th>\n",
       "      <td>luis fernando canchila alvarado</td>\n",
       "      <td>luis.canchila@udea.edu.co</td>\n",
       "    </tr>\n",
       "    <tr>\n",
       "      <th>3</th>\n",
       "      <td>Nilson Suarez</td>\n",
       "      <td>angelosuarez326@gmail.com</td>\n",
       "    </tr>\n",
       "    <tr>\n",
       "      <th>4</th>\n",
       "      <td>Leidy Biviana De La Ossa Villadiego</td>\n",
       "      <td>leidy.delaossa@udea.edu.co</td>\n",
       "    </tr>\n",
       "    <tr>\n",
       "      <th>5</th>\n",
       "      <td>Lizeth Paola Bedoya Arteaga</td>\n",
       "      <td>lizeth.bedoya@udea.edu.co</td>\n",
       "    </tr>\n",
       "    <tr>\n",
       "      <th>6</th>\n",
       "      <td>Estefany Cardenas Ramirez</td>\n",
       "      <td>estefani.cardenas@udea.edu.co</td>\n",
       "    </tr>\n",
       "    <tr>\n",
       "      <th>7</th>\n",
       "      <td>Edwin José Olivar Montes</td>\n",
       "      <td>edwin.olivar@udea.edu.co</td>\n",
       "    </tr>\n",
       "    <tr>\n",
       "      <th>8</th>\n",
       "      <td>Yeifry Sebastian Uribe Arrieta</td>\n",
       "      <td>yeifry.uribe@udea.edu.co</td>\n",
       "    </tr>\n",
       "    <tr>\n",
       "      <th>9</th>\n",
       "      <td>Yeiner David Pájaro Otero</td>\n",
       "      <td>yeiner.pajaro@udea.edu.co</td>\n",
       "    </tr>\n",
       "    <tr>\n",
       "      <th>10</th>\n",
       "      <td>Janis Zúñiga Ortega</td>\n",
       "      <td>janis.zunigao@udea.edu.co</td>\n",
       "    </tr>\n",
       "    <tr>\n",
       "      <th>11</th>\n",
       "      <td>Yalidys Cerpa Dardoso</td>\n",
       "      <td>yalidys.cerpa@udea.edu.co</td>\n",
       "    </tr>\n",
       "    <tr>\n",
       "      <th>12</th>\n",
       "      <td>María Alejandra Anaya Perez</td>\n",
       "      <td>alejandra.anaya@udea.edu.co</td>\n",
       "    </tr>\n",
       "    <tr>\n",
       "      <th>13</th>\n",
       "      <td>Guillermo Leon Rua Uribe</td>\n",
       "      <td>guillermo.rua@udea.edu.co</td>\n",
       "    </tr>\n",
       "    <tr>\n",
       "      <th>14</th>\n",
       "      <td>Alejandra Perez Henao</td>\n",
       "      <td>alejandra.perezh1@udea.edu.co</td>\n",
       "    </tr>\n",
       "  </tbody>\n",
       "</table>\n",
       "</div>"
      ],
      "text/plain": [
       "                                 nombre                            email\n",
       "0               Idalina Navarro Barreto      idalina.navarro@udea.edu.co\n",
       "1             breinnerd velasques campo  breinnerd.velasquez@udea.edu.co\n",
       "2       luis fernando canchila alvarado        luis.canchila@udea.edu.co\n",
       "3                         Nilson Suarez        angelosuarez326@gmail.com\n",
       "4   Leidy Biviana De La Ossa Villadiego       leidy.delaossa@udea.edu.co\n",
       "5           Lizeth Paola Bedoya Arteaga        lizeth.bedoya@udea.edu.co\n",
       "6             Estefany Cardenas Ramirez    estefani.cardenas@udea.edu.co\n",
       "7              Edwin José Olivar Montes         edwin.olivar@udea.edu.co\n",
       "8        Yeifry Sebastian Uribe Arrieta         yeifry.uribe@udea.edu.co\n",
       "9             Yeiner David Pájaro Otero        yeiner.pajaro@udea.edu.co\n",
       "10                  Janis Zúñiga Ortega        janis.zunigao@udea.edu.co\n",
       "11                Yalidys Cerpa Dardoso        yalidys.cerpa@udea.edu.co\n",
       "12          María Alejandra Anaya Perez      alejandra.anaya@udea.edu.co\n",
       "13             Guillermo Leon Rua Uribe        guillermo.rua@udea.edu.co\n",
       "14                Alejandra Perez Henao    alejandra.perezh1@udea.edu.co"
      ]
     },
     "execution_count": 3,
     "metadata": {},
     "output_type": "execute_result"
    }
   ],
   "source": [
    "tabla_equipo = pd.read_csv(lista_equipo_investigador)\n",
    "tabla_equipo "
   ]
  },
  {
   "cell_type": "code",
   "execution_count": 5,
   "metadata": {},
   "outputs": [
    {
     "data": {
      "text/plain": [
       "['idalina.navarro@udea.edu.co',\n",
       " 'breinnerd.velasquez@udea.edu.co',\n",
       " 'luis.canchila@udea.edu.co',\n",
       " 'angelosuarez326@gmail.com',\n",
       " 'leidy.delaossa@udea.edu.co',\n",
       " 'lizeth.bedoya@udea.edu.co',\n",
       " 'estefani.cardenas@udea.edu.co',\n",
       " 'edwin.olivar@udea.edu.co',\n",
       " 'yeifry.uribe@udea.edu.co',\n",
       " 'yeiner.pajaro@udea.edu.co',\n",
       " 'janis.zunigao@udea.edu.co',\n",
       " 'yalidys.cerpa@udea.edu.co',\n",
       " 'alejandra.anaya@udea.edu.co',\n",
       " 'guillermo.rua@udea.edu.co',\n",
       " 'alejandra.perezh1@udea.edu.co']"
      ]
     },
     "execution_count": 5,
     "metadata": {},
     "output_type": "execute_result"
    }
   ],
   "source": [
    "list(tabla_equipo.email)"
   ]
  },
  {
   "cell_type": "code",
   "execution_count": 6,
   "metadata": {},
   "outputs": [],
   "source": [
    "tabla_equipo['email'] = tabla_equipo['email'].str.replace(\"'\", \"\")"
   ]
  },
  {
   "cell_type": "code",
   "execution_count": 10,
   "metadata": {},
   "outputs": [
    {
     "data": {
      "text/plain": [
       "['idalina.navarro@udea.edu.co',\n",
       " 'breinnerd.velasquez@udea.edu.co',\n",
       " 'luis.canchila@udea.edu.co',\n",
       " 'angelosuarez326@gmail.com',\n",
       " 'leidy.delaossa@udea.edu.co',\n",
       " 'lizeth.bedoya@udea.edu.co',\n",
       " 'estefani.cardenas@udea.edu.co',\n",
       " 'edwin.olivar@udea.edu.co',\n",
       " 'yeifry.uribe@udea.edu.co',\n",
       " 'yeiner.pajaro@udea.edu.co',\n",
       " 'janis.zunigao@udea.edu.co',\n",
       " 'yalidys.cerpa@udea.edu.co',\n",
       " 'alejandra.anaya@udea.edu.co',\n",
       " 'guillermo.rua@udea.edu.co',\n",
       " 'alejandra.perezh1@udea.edu.co']"
      ]
     },
     "execution_count": 10,
     "metadata": {},
     "output_type": "execute_result"
    }
   ],
   "source": [
    "\n",
    "lista_de_correos = tabla_equipo['email'].tolist()\n",
    "lista_de_correos"
   ]
  },
  {
   "cell_type": "code",
   "execution_count": null,
   "metadata": {},
   "outputs": [],
   "source": []
  }
 ],
 "metadata": {
  "kernelspec": {
   "display_name": ".venv",
   "language": "python",
   "name": "python3"
  },
  "language_info": {
   "codemirror_mode": {
    "name": "ipython",
    "version": 3
   },
   "file_extension": ".py",
   "mimetype": "text/x-python",
   "name": "python",
   "nbconvert_exporter": "python",
   "pygments_lexer": "ipython3",
   "version": "3.10.11"
  },
  "orig_nbformat": 4
 },
 "nbformat": 4,
 "nbformat_minor": 2
}

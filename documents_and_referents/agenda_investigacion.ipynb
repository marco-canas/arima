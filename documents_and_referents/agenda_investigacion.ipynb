{
 "cells": [
  {
   "attachments": {},
   "cell_type": "markdown",
   "metadata": {},
   "source": [
    "# [Agenda de investigación](https://www.udea.edu.co/wps/portal/udea/web/generales/interna/!ut/p/z1/vVPBdpswEPwV5-AjlpAAi94o4bkhjjEkjmNd8mRQMC1IBBS7-fuKOnmJm9huX9pyAC3M7Cyzu4CCG0AFWxc5U4UUrNTxgjq3xPWR6VlwPEpCH3qO7wXDy-sxIgjMdwHw3LShFwfTyVXkT09DBKj-PIntwES-5kexA2NymiQ4ctAowU98uOfy4O_xDwDo4fqvAQU0FapWK7CoZaNY-ZBx1oes3Y1WsuLbc3fvcdErWdtreK6N4m2HSKVQXBSZ_BmVRatYJvUx5yJjbcYLseat0t6mmtLJ1mmRgYWJXWbjNDWWHGPDwpgbLufEyJy7YUpcYhHEf7X57X_Qwy7OO73XRkVnOICxO7GneHSGrCF-Ahzq5DGRENC8lMvt2HhiiUkOaMPveMObwUOjX6-UqttPfdiHm81mkEuZl3yQyqoP36OsZKvAzS4SLLQTw71ORCaYrwu-ATMhm0pXcvmHRn-BRxQs-EGFbfqXRkCkGxF9DkfjCxNGPvor6fdWb_7T9OcfrT48tq96TIqv9_fU01vb7dt3PSH_c23rajabVQQ_Gt8S8ojLdeUvyUWA7by6fX603snJDxpUN9c!/dz/d5/L2dBISEvZ0FBIS9nQSEh/?page=udea.generales.interna&urile=wcm:path:/PortalUdeA/asPortalUdeA/asHomeUdeA/UdeA%2Ben%2Blas%2Bregiones/asContenidos/asListado/agendasdeinvestigacion)"
   ]
  },
  {
   "attachments": {},
   "cell_type": "markdown",
   "metadata": {},
   "source": [
    "## [Agendas subregionales de investigación, creación e innovación, una herramienta de la UdeA que aporta a los territorios GitHub](https://github.com/marco-canas/investigacion_dengue/blob/main/documents_and_referents/agenda_investigacion.ipynb)"
   ]
  },
  {
   "attachments": {},
   "cell_type": "markdown",
   "metadata": {},
   "source": [
    "Cuatro subregiones de Antioquia (Oriente, Urabá, Suroeste y Bajo Cauca) cuentan con estas agendas para trabajar de manera articulada con los actores regionales en experiencias pertinentes para fomentar el desarrollo en los territorios.\n"
   ]
  },
  {
   "attachments": {},
   "cell_type": "markdown",
   "metadata": {},
   "source": [
    "\n",
    "Las agendas de investigación, creación e innovación son el resultado de un ejercicio investigativo y de diálogo que involucró a diferentes actores y sectores de la sociedad en cuatro regiones antioqueñas: Oriente, Urabá, Suroeste y Bajo Cauca. Allí, en un ejercicio realizado en el 2022 se identificaron las identidades, las riquezas y las potencialidades del territorio, así como las necesidades, los desafíos y las expectativas en materia de investigación e innovación donde la Universidad tiene posibilidades de realizar aportes a través de la Dirección de Regionalización,  la Vicerrectoría de Investigación, y el Instituto de Estudios Regionales INER, así como desde diferentes dependencias, facultades, escuelas e institutos. "
   ]
  },
  {
   "attachments": {},
   "cell_type": "markdown",
   "metadata": {},
   "source": [
    "  \n",
    "\n",
    "A partir del análisis, que quedó consignado en una agenda para cada región, se pueden gestionar recursos (humanos y económicos) en proyectos y programas que beneficien al territorio y a sus habitantes en asuntos como el cambio climático, la conservación de la naturaleza, el conflicto armado, entre otros temas que se abordaron dentro de las discusiones (virtuales y presenciales). Estas discusiones priorizaron la interlocución con representantes de los sectores empresariales, gubernamentales, organizaciones, educativos y de la sociedad civil."
   ]
  },
  {
   "attachments": {},
   "cell_type": "markdown",
   "metadata": {},
   "source": [
    "<img src = 'https://www.udea.edu.co/wps/wcm/connect/udea/515191be-af87-44d4-9499-00b78f92049b/1/Encuentros_Suroeste.jpeg?MOD=AJPERES'>"
   ]
  },
  {
   "cell_type": "code",
   "execution_count": null,
   "metadata": {},
   "outputs": [],
   "source": []
  },
  {
   "cell_type": "code",
   "execution_count": null,
   "metadata": {},
   "outputs": [],
   "source": []
  }
 ],
 "metadata": {
  "language_info": {
   "name": "python"
  },
  "orig_nbformat": 4
 },
 "nbformat": 4,
 "nbformat_minor": 2
}

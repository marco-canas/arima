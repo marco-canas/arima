{
 "cells": [
  {
   "cell_type": "markdown",
   "metadata": {},
   "source": [
    "# Convertir el excel en dataframe "
   ]
  },
  {
   "cell_type": "code",
   "execution_count": 4,
   "metadata": {},
   "outputs": [],
   "source": [
    "# Obtención de la primera base de datos \n",
    "import pandas as pd \n",
    "\n",
    "df1 = pd.read_excel(\"210_SIVIGILA Escritorio_01042008-30042023.xls\")"
   ]
  },
  {
   "cell_type": "code",
   "execution_count": 7,
   "metadata": {},
   "outputs": [],
   "source": [
    "# Obtención de la segunda base de datos\n",
    "df2 =pd.read_excel(\"210_SIVIGILA Escritorio_01042008-30042023.xls\")"
   ]
  },
  {
   "cell_type": "code",
   "execution_count": 9,
   "metadata": {},
   "outputs": [],
   "source": [
    "# Concatenar las dos bases de datos \n",
    "df = pd.concat ([df1, df2] , ignore_index= True)"
   ]
  },
  {
   "cell_type": "code",
   "execution_count": 12,
   "metadata": {},
   "outputs": [
    {
     "data": {
      "text/plain": [
       "0           BATALLON RIFLES\n",
       "1         FUERZAS MILITARES\n",
       "2       DETRAS COLEGIO IDEN\n",
       "3              FINCA SIBATE\n",
       "4                       NaN\n",
       "               ...         \n",
       "4867            EL CASTILLO\n",
       "4868           PUEBLO NUEVO\n",
       "4869          LOS ALMENDROS\n",
       "4870           BUENOS AIRES\n",
       "4871           LAS MALVINAS\n",
       "Name: bar_ver_, Length: 4872, dtype: object"
      ]
     },
     "execution_count": 12,
     "metadata": {},
     "output_type": "execute_result"
    }
   ],
   "source": [
    "df.bar_ver_"
   ]
  },
  {
   "cell_type": "code",
   "execution_count": 13,
   "metadata": {},
   "outputs": [
    {
     "data": {
      "text/plain": [
       "bar_ver_\n",
       "9999999 SIN INFORMAC       406\n",
       "PUEBLO NUEVO               264\n",
       "ASOVIVIENDA                204\n",
       "VILLA ARABIA                74\n",
       "9999999 SIN INFORMACION     72\n",
       "                          ... \n",
       "EL CAMELLO2                  2\n",
       "7 DE AGOSTO                  2\n",
       "LAPLAYA                      2\n",
       "PUEBLO NUE                   2\n",
       "SANTALUCIA                   2\n",
       "Name: count, Length: 388, dtype: int64"
      ]
     },
     "execution_count": 13,
     "metadata": {},
     "output_type": "execute_result"
    }
   ],
   "source": [
    "df.bar_ver_.value_counts()"
   ]
  },
  {
   "cell_type": "code",
   "execution_count": 19,
   "metadata": {},
   "outputs": [
    {
     "data": {
      "text/plain": [
       "bar_ver_\n",
       "9999999 SIN INFORMAC       406\n",
       "PUEBLO NUEVO               264\n",
       "ASOVIVIENDA                204\n",
       "VILLA ARABIA                74\n",
       "9999999 SIN INFORMACION     72\n",
       "                          ... \n",
       "PLAYA                        4\n",
       "VILLA URIBE                  4\n",
       "SIN DATOS                    4\n",
       "ASOVIENDA                    4\n",
       "BELEN                        4\n",
       "Name: count, Length: 100, dtype: int64"
      ]
     },
     "execution_count": 19,
     "metadata": {},
     "output_type": "execute_result"
    }
   ],
   "source": [
    "df.bar_ver_.value_counts()[:100]"
   ]
  },
  {
   "cell_type": "code",
   "execution_count": 20,
   "metadata": {},
   "outputs": [],
   "source": [
    "df.bar_ver_.value_counts().to_csv('atributo_barrios_y_veredas.csv', index = True)"
   ]
  }
 ],
 "metadata": {
  "kernelspec": {
   "display_name": "Python 3",
   "language": "python",
   "name": "python3"
  },
  "language_info": {
   "codemirror_mode": {
    "name": "ipython",
    "version": 3
   },
   "file_extension": ".py",
   "mimetype": "text/x-python",
   "name": "python",
   "nbconvert_exporter": "python",
   "pygments_lexer": "ipython3",
   "version": "3.11.9"
  }
 },
 "nbformat": 4,
 "nbformat_minor": 2
}

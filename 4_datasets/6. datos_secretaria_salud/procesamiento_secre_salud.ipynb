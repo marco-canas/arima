{
 "cells": [
  {
   "cell_type": "markdown",
   "metadata": {},
   "source": [
    "# Convertir el excel en dataframe "
   ]
  },
  {
   "cell_type": "code",
   "execution_count": 1,
   "metadata": {},
   "outputs": [
    {
     "data": {
      "text/plain": [
       "(5300, 121)"
      ]
     },
     "execution_count": 1,
     "metadata": {},
     "output_type": "execute_result"
    }
   ],
   "source": [
    "# Obtener de los dos archivos excel \n",
    "# y juntar las bases de datos en un mismo dataframe\n",
    "import pandas as pd \n",
    "df1 = pd.read_excel('210_SIVIGILA Escritorio_01042008-30042023.xls')\n",
    "df2 = pd.read_excel('210_SIVIGILAweb_01052023-06082024 (1).xls')\n",
    "df = pd.concat([df1, df2], ignore_index=True)\n",
    "df.shape"
   ]
  },
  {
   "cell_type": "code",
   "execution_count": 2,
   "metadata": {},
   "outputs": [
    {
     "data": {
      "text/plain": [
       "(5300, 121)"
      ]
     },
     "execution_count": 2,
     "metadata": {},
     "output_type": "execute_result"
    }
   ],
   "source": [
    "# 2. Ordenar los datos de acuerdo a los atributos de año y semana epidemiológica\n",
    "df = df.sort_values(by=['semana', 'año'])\n",
    "df.shape"
   ]
  },
  {
   "cell_type": "code",
   "execution_count": 3,
   "metadata": {},
   "outputs": [
    {
     "data": {
      "text/plain": [
       "(5300, 121)"
      ]
     },
     "execution_count": 3,
     "metadata": {},
     "output_type": "execute_result"
    }
   ],
   "source": [
    "# Detección y eliminación de caracteres no implimibles en el dataset\n",
    "import re\n",
    "\n",
    "# Expresión regular para encontrar caracteres no imprimibles\n",
    "illegal_char_re = re.compile(r'[\\x00-\\x1F\\x7F-\\x9F]')\n",
    "\n",
    "def find_illegal_chars(df):\n",
    "    for col in df.columns:\n",
    "        for idx, val in df[col].items():\n",
    "            if isinstance(val, str) and illegal_char_re.search(val):\n",
    "                print(f\"Carácter ilegal encontrado en fila {idx}, columna '{col}': {repr(val)}\")\n",
    "\n",
    "\n",
    "# corregir aquí \n",
    "def remove_illegal_chars(val):\n",
    "    if isinstance(val, str):\n",
    "        return illegal_char_re.sub('', val)\n",
    "    return val\n",
    "\n",
    "df = df.map(remove_illegal_chars)\n",
    "df.shape \n",
    "\n"
   ]
  },
  {
   "cell_type": "markdown",
   "metadata": {},
   "source": [
    "# Exploración de los problemas que tiene el atributo bar_ver_\n",
    "\n",
    "1. Hay 463 subcategorias en bar_ver_ por errores en la recogida de datos, siendo que solo son 42    los barrios correctos. \n",
    "2. Hay 3125 datos faltantes en el atributo bar_ver_ \n",
    "3. 7 cadenas convertibles a enteros en el atributo bar_ver_\n",
    "4. Un dato de tipo entero en el atributo de tipo `str` bar_ver_\n",
    "5. lista_barrios_correctos = ['PUEBLO NUEVO', 'CENTENARIO', \\\n",
    "                          'LAS VILLAS', 'EL TRIÁNGULO', 'EL BOSQUE', \\\n",
    "                          'PUEBLO SANTO', 'LOS ALMENDROS', 'EL DROMEDARIO', \\\n",
    "                          'EL CENTRO', 'VILLA ARABIA', 'CARACOLÍ', \\\n",
    "                          'VILLA GRANDA', 'ASOVIVIENDA', 'EL KENNEDY', \\\n",
    "                          'CLEMENTE ARRIETA', 'EL ÁGUILA', 'EL POBLADO', \\\n",
    "                          'SANTA ELENA', 'EL CAMELLO', 'LA ESPERANZA', \\\n",
    "                          'EL PRADO', 'SAN MIGUEL', 'SAN RAFAEL', \\\n",
    "                          'LA PAZ', 'LAS MALVINAS', 'EL CARMEN', \\\n",
    "                          'NUEVA ESTRELLA', 'LOMA FRESCA', 'EL ROBLE', \\\n",
    "                          'LA COLOMBIANITA', 'PARAGUAY', 'LA YE', \\\n",
    "                          'ALTOS DE SAN JUAN', 'PUERTO ESPAÑA', 'EL PALMAR', \\\n",
    "                          'LAS GAVIOTAS', 'ALTOS DE KIRIQUI', 'CASTILLITO', \\\n",
    "                          'LOS CÓRDOBA', 'EL LAGO', 'BUENO AIRES', \\\n",
    "                          'PEDRO VALDIVIA', 'SIN INFORMACION']\n",
    "6. get_close_matches()                           "
   ]
  },
  {
   "cell_type": "code",
   "execution_count": 4,
   "metadata": {},
   "outputs": [
    {
     "data": {
      "text/plain": [
       "bar_ver_\n",
       "SIN INFORMACION      1415\n",
       "PUEBLO NUEVO          374\n",
       "ASOVIVIENDA           307\n",
       "EL CAMELLO            269\n",
       "EL DROMEDARIO         249\n",
       "VILLA ARABIA          193\n",
       "PARAGUAY              159\n",
       "LAS MALVINAS          149\n",
       "EL PRADO              141\n",
       "LA COLOMBIANITA       121\n",
       "EL TRIÁNGULO          112\n",
       "SANTA ELENA           103\n",
       "EL PALMAR             102\n",
       "VILLA GRANDA          101\n",
       "EL CENTRO              96\n",
       "PUERTO ESPAÑA          93\n",
       "SAN RAFAEL             88\n",
       "SAN MIGUEL             88\n",
       "CLEMENTE ARRIETA       84\n",
       "LA ESPERANZA           83\n",
       "LAS VILLAS             70\n",
       "EL POBLADO             66\n",
       "LA PAZ                 62\n",
       "LOMA FRESCA            62\n",
       "LAS GAVIOTAS           61\n",
       "EL ÁGUILA              56\n",
       "CARACOLÍ               54\n",
       "BUENO AIRES            53\n",
       "EL BOSQUE              52\n",
       "EL CARMEN              49\n",
       "EL ROBLE               47\n",
       "ALTOS DE SAN JUAN      39\n",
       "LOS ALMENDROS          38\n",
       "NUEVA ESTRELLA         37\n",
       "CASTILLITO             37\n",
       "CENTENARIO             33\n",
       "EL KENNEDY             30\n",
       "PUEBLO SANTO           27\n",
       "LA YE                  26\n",
       "PEDRO VALDIVIA         25\n",
       "EL LAGO                21\n",
       "LOS CÓRDOBA            15\n",
       "ALTOS DE KIRIQUI       13\n",
       "Name: count, dtype: int64"
      ]
     },
     "execution_count": 4,
     "metadata": {},
     "output_type": "execute_result"
    }
   ],
   "source": [
    "# corrección completa del atributo bar_ver_\n",
    "import pandas as pd\n",
    "from difflib import get_close_matches\n",
    "\n",
    "# Supongamos que df es tu dataframe y ya está cargado con los datos\n",
    "# lista de barrios correctos\n",
    "lista_barrios_correctos = ['PUEBLO NUEVO', 'CENTENARIO', 'LAS VILLAS', 'EL TRIÁNGULO', 'EL BOSQUE', \n",
    "                           'PUEBLO SANTO', 'LOS ALMENDROS', 'EL DROMEDARIO', 'EL CENTRO', 'VILLA ARABIA', \n",
    "                           'CARACOLÍ', 'VILLA GRANDA', 'ASOVIVIENDA', 'EL KENNEDY', 'CLEMENTE ARRIETA', \n",
    "                           'EL ÁGUILA', 'EL POBLADO', 'SANTA ELENA', 'EL CAMELLO', 'LA ESPERANZA', \n",
    "                           'EL PRADO', 'SAN MIGUEL', 'SAN RAFAEL', 'LA PAZ', 'LAS MALVINAS', 'EL CARMEN', \n",
    "                           'NUEVA ESTRELLA', 'LOMA FRESCA', 'EL ROBLE', 'LA COLOMBIANITA', 'PARAGUAY', \n",
    "                           'LA YE', 'ALTOS DE SAN JUAN', 'PUERTO ESPAÑA', 'EL PALMAR', 'LAS GAVIOTAS', \n",
    "                           'ALTOS DE KIRIQUI', 'CASTILLITO', 'LOS CÓRDOBA', 'EL LAGO', 'BUENO AIRES', \n",
    "                           'PEDRO VALDIVIA', 'SIN INFORMACION']\n",
    "\n",
    "# Paso 1: Corregir errores tipográficos en bar_ver_\n",
    "def corregir_barrio(barrio):\n",
    "    if pd.isna(barrio):  # Si es NaN, no intentamos corregir\n",
    "        return None\n",
    "    barrio = str(barrio).upper().strip()  # Convertir a mayúsculas y eliminar espacios en blanco\n",
    "    # Buscar coincidencias cercanas con lista_barrios_correctos\n",
    "    coincidencia = get_close_matches(barrio, lista_barrios_correctos, n=1, cutoff=0.5)\n",
    "    if coincidencia:\n",
    "        return coincidencia[0]  # Devolver la coincidencia más cercana\n",
    "    return barrio  # Si no hay coincidencia, devolver el barrio original\n",
    "\n",
    "df['bar_ver_'] = df['bar_ver_'].apply(corregir_barrio)\n",
    "\n",
    "# Paso 2: Corregir valores numéricos convertibles a strings o números enteros\n",
    "def corregir_numericos(barrio):\n",
    "    try:\n",
    "        barrio_int = int(barrio)\n",
    "        return corregir_barrio(barrio_int)  # Corregir después de convertir a string\n",
    "    except (ValueError, TypeError):\n",
    "        return barrio\n",
    "\n",
    "df['bar_ver_'] = df['bar_ver_'].apply(corregir_numericos)\n",
    "\n",
    "# Paso 3: Rellenar los valores faltantes en bar_ver_ usando el atributo dir_res_\n",
    "def rellenar_faltantes(row):\n",
    "    if pd.isna(row['bar_ver_']):\n",
    "        dir_res = str(row['dir_res_']).upper()\n",
    "        # Buscar coincidencias cercanas en la dirección\n",
    "        coincidencia_dir = get_close_matches(dir_res, lista_barrios_correctos, n=1, cutoff=0.5)\n",
    "        if coincidencia_dir:\n",
    "            return coincidencia_dir[0]\n",
    "        return 'SIN INFORMACION'\n",
    "    return row['bar_ver_']\n",
    "\n",
    "df['bar_ver_'] = df.apply(rellenar_faltantes, axis=1)\n",
    "\n",
    "# Paso 4: Verificar que los datos en bar_ver_ coincidan con los barrios correctos\n",
    "df['bar_ver_'] = df['bar_ver_'].apply(lambda x: x if x in lista_barrios_correctos else 'SIN INFORMACION')\n",
    "\n",
    "# Revisamos los resultados\n",
    "df['bar_ver_'].value_counts()\n"
   ]
  },
  {
   "cell_type": "code",
   "execution_count": 5,
   "metadata": {},
   "outputs": [
    {
     "data": {
      "text/plain": [
       "43"
      ]
     },
     "execution_count": 5,
     "metadata": {},
     "output_type": "execute_result"
    }
   ],
   "source": [
    "len(df.bar_ver_.value_counts())"
   ]
  },
  {
   "cell_type": "code",
   "execution_count": 6,
   "metadata": {},
   "outputs": [
    {
     "data": {
      "text/plain": [
       "bar_ver_\n",
       "SIN INFORMACION     1415\n",
       "PUEBLO NUEVO         374\n",
       "ASOVIVIENDA          307\n",
       "EL CAMELLO           269\n",
       "EL DROMEDARIO        249\n",
       "VILLA ARABIA         193\n",
       "PARAGUAY             159\n",
       "LAS MALVINAS         149\n",
       "EL PRADO             141\n",
       "LA COLOMBIANITA      121\n",
       "EL TRIÁNGULO         112\n",
       "SANTA ELENA          103\n",
       "EL PALMAR            102\n",
       "VILLA GRANDA         101\n",
       "EL CENTRO             96\n",
       "PUERTO ESPAÑA         93\n",
       "SAN RAFAEL            88\n",
       "SAN MIGUEL            88\n",
       "CLEMENTE ARRIETA      84\n",
       "LA ESPERANZA          83\n",
       "Name: count, dtype: int64"
      ]
     },
     "execution_count": 6,
     "metadata": {},
     "output_type": "execute_result"
    }
   ],
   "source": [
    "# contando los diferentes barrios y veredas que hay en el dataset original \n",
    "df.bar_ver_.value_counts()[:20]"
   ]
  },
  {
   "cell_type": "code",
   "execution_count": 7,
   "metadata": {},
   "outputs": [
    {
     "data": {
      "text/plain": [
       "43"
      ]
     },
     "execution_count": 7,
     "metadata": {},
     "output_type": "execute_result"
    }
   ],
   "source": [
    "len(lista_barrios_correctos) "
   ]
  },
  {
   "cell_type": "code",
   "execution_count": 9,
   "metadata": {},
   "outputs": [
    {
     "name": "stdout",
     "output_type": "stream",
     "text": [
      "no hay datos faltantes\n"
     ]
    }
   ],
   "source": [
    "# Cuántos datos nulos hay en el atributo bar_ver_\n",
    "if df['bar_ver_'].isnull().sum():\n",
    "    print('hay un total de datos faltantes de', int(df['bar_ver_'].isnull().sum())) \n",
    "else:\n",
    "    print('no hay datos faltantes')"
   ]
  },
  {
   "cell_type": "code",
   "execution_count": 10,
   "metadata": {},
   "outputs": [
    {
     "name": "stdout",
     "output_type": "stream",
     "text": [
      "Cantidad de cadenas convertibles a enteros: 0\n"
     ]
    }
   ],
   "source": [
    "# detectar barrios llenados como números pero los dejaron como caracteres o string\n",
    "import pandas as pd\n",
    "\n",
    "def contar_cadenas_convertibles_a_entero(df, columna):\n",
    "    \"\"\"\n",
    "    Función que cuenta cuántos valores en una columna de un DataFrame son cadenas \n",
    "    que pueden convertirse a enteros.\n",
    "    \n",
    "    Parámetros:\n",
    "    - df: DataFrame de pandas.\n",
    "    - columna: Nombre de la columna donde buscar las cadenas convertibles.\n",
    "    \n",
    "    Retorna:\n",
    "    - El número de valores que son cadenas convertibles a enteros.\n",
    "    \"\"\"\n",
    "    def es_cadena_convertible_a_entero(x):\n",
    "        # Verificar si es una cadena que puede convertirse a entero\n",
    "        return isinstance(x, str) and x.isdigit()\n",
    "    \n",
    "    # Aplicar la función y contar las coincidencias\n",
    "    return df[columna].apply(es_cadena_convertible_a_entero).sum()\n",
    "\n",
    "\n",
    "\n",
    "# Llamar a la función\n",
    "resultado = contar_cadenas_convertibles_a_entero(df, 'bar_ver_')\n",
    "\n",
    "print(f\"Cantidad de cadenas convertibles a enteros: {resultado}\")\n"
   ]
  },
  {
   "cell_type": "code",
   "execution_count": 11,
   "metadata": {},
   "outputs": [
    {
     "name": "stdout",
     "output_type": "stream",
     "text": [
      "Cantidad de cadenas convertibles a enteros: 0\n"
     ]
    }
   ],
   "source": [
    "# Reemplazar los datos que sean cadenas convertibles en enteros a \n",
    "# SIN INFORMACION\n",
    "import pandas as pd\n",
    "\n",
    "def reemplazar_enteros_y_cadenas_convertibles(df, columna):\n",
    "    \"\"\"\n",
    "    Reemplaza los valores que son de tipo int o cadenas que pueden convertirse a int \n",
    "    en una columna de un DataFrame por 'SIN INFORMACION'.\n",
    "    \n",
    "    Parámetros:\n",
    "    - df: DataFrame de pandas.\n",
    "    - columna: Nombre de la columna donde buscar y reemplazar los valores.\n",
    "    \n",
    "    Retorna:\n",
    "    - DataFrame con los valores int o convertibles a int reemplazados por 'SIN INFORMACION'.\n",
    "    \"\"\"\n",
    "    def es_convertible_a_entero(x):\n",
    "        # Verificar si es de tipo int o si es una cadena convertible a entero\n",
    "        try:\n",
    "            # Si ya es un int o puede ser convertido a int\n",
    "            return isinstance(x, int) or (isinstance(x, str) and x.isdigit())\n",
    "        except ValueError:\n",
    "            return False\n",
    "\n",
    "    # Aplicar la función de reemplazo\n",
    "    df[columna] = df[columna].apply(lambda x: 'SIN INFORMACION' if es_convertible_a_entero(x) else x)\n",
    "    return df\n",
    "\n",
    "\n",
    "# Llamar a la función\n",
    "df = reemplazar_enteros_y_cadenas_convertibles(df, 'bar_ver_')\n",
    "\n",
    "# Llamar a la función\n",
    "resultado = contar_cadenas_convertibles_a_entero(df, 'bar_ver_')\n",
    "\n",
    "print(f\"Cantidad de cadenas convertibles a enteros: {resultado}\")\n",
    "\n"
   ]
  },
  {
   "cell_type": "code",
   "execution_count": 12,
   "metadata": {},
   "outputs": [
    {
     "data": {
      "text/plain": [
       "bar_ver_\n",
       "SIN INFORMACION      1415\n",
       "PUEBLO NUEVO          374\n",
       "ASOVIVIENDA           307\n",
       "EL CAMELLO            269\n",
       "EL DROMEDARIO         249\n",
       "VILLA ARABIA          193\n",
       "PARAGUAY              159\n",
       "LAS MALVINAS          149\n",
       "EL PRADO              141\n",
       "LA COLOMBIANITA       121\n",
       "EL TRIÁNGULO          112\n",
       "SANTA ELENA           103\n",
       "EL PALMAR             102\n",
       "VILLA GRANDA          101\n",
       "EL CENTRO              96\n",
       "PUERTO ESPAÑA          93\n",
       "SAN RAFAEL             88\n",
       "SAN MIGUEL             88\n",
       "CLEMENTE ARRIETA       84\n",
       "LA ESPERANZA           83\n",
       "LAS VILLAS             70\n",
       "EL POBLADO             66\n",
       "LA PAZ                 62\n",
       "LOMA FRESCA            62\n",
       "LAS GAVIOTAS           61\n",
       "EL ÁGUILA              56\n",
       "CARACOLÍ               54\n",
       "BUENO AIRES            53\n",
       "EL BOSQUE              52\n",
       "EL CARMEN              49\n",
       "EL ROBLE               47\n",
       "ALTOS DE SAN JUAN      39\n",
       "LOS ALMENDROS          38\n",
       "NUEVA ESTRELLA         37\n",
       "CASTILLITO             37\n",
       "CENTENARIO             33\n",
       "EL KENNEDY             30\n",
       "PUEBLO SANTO           27\n",
       "LA YE                  26\n",
       "PEDRO VALDIVIA         25\n",
       "EL LAGO                21\n",
       "LOS CÓRDOBA            15\n",
       "ALTOS DE KIRIQUI       13\n",
       "Name: count, dtype: int64"
      ]
     },
     "execution_count": 12,
     "metadata": {},
     "output_type": "execute_result"
    }
   ],
   "source": [
    "df.bar_ver_.value_counts()"
   ]
  },
  {
   "cell_type": "code",
   "execution_count": 13,
   "metadata": {},
   "outputs": [
    {
     "name": "stdout",
     "output_type": "stream",
     "text": [
      "Cantidad de valores de tipo int \n",
      "      en la variable barrio es: 0\n"
     ]
    }
   ],
   "source": [
    "# cuántos datos numéricos de tipo entero hay en el atributo bar_ver_\n",
    "\n",
    "import pandas as pd\n",
    "\n",
    "def contar_valores_enteros(df, columna):\n",
    "    \"\"\"\n",
    "    Función que cuenta cuántos valores en una columna de un DataFrame son de tipo int.\n",
    "    \n",
    "    Parámetros:\n",
    "    - df: DataFrame de pandas.\n",
    "    - columna: Nombre de la columna donde buscar los valores enteros.\n",
    "    \n",
    "    Retorna:\n",
    "    - El número de valores que son de tipo int.\n",
    "    \"\"\"\n",
    "    return df[columna].apply(lambda x: isinstance(x, int)).sum()\n",
    "\n",
    "# Llamar a la función\n",
    "resultado = contar_valores_enteros(df, 'bar_ver_')\n",
    "\n",
    "print(f\"\"\"Cantidad de valores de tipo int \n",
    "      en la variable barrio es: {resultado}\"\"\")\n"
   ]
  },
  {
   "cell_type": "code",
   "execution_count": 14,
   "metadata": {},
   "outputs": [
    {
     "data": {
      "text/plain": [
       "np.int64(0)"
      ]
     },
     "execution_count": 14,
     "metadata": {},
     "output_type": "execute_result"
    }
   ],
   "source": [
    "# llene los datos faltantes con la cadena SIN INFORMACION\n",
    "#df['bar_ver_'] = df['bar_ver_'].fillna('SIN INFORMACION') \n",
    "\n",
    "# Cuántos datos nulos hay en el atributo bar_ver_\n",
    "df['bar_ver_'].isnull().sum() \n"
   ]
  },
  {
   "cell_type": "code",
   "execution_count": 15,
   "metadata": {},
   "outputs": [
    {
     "name": "stdout",
     "output_type": "stream",
     "text": [
      "Ya no hay datos vacíos en la columna\n"
     ]
    }
   ],
   "source": [
    "if int(df['bar_ver_'].isnull().sum())==0:\n",
    "    print('Ya no hay datos vacíos en la columna')"
   ]
  },
  {
   "cell_type": "code",
   "execution_count": 19,
   "metadata": {},
   "outputs": [
    {
     "data": {
      "text/plain": [
       "(5264, 121)"
      ]
     },
     "execution_count": 19,
     "metadata": {},
     "output_type": "execute_result"
    }
   ],
   "source": [
    "# eliminar casos repetidos \n",
    "lista_atributos_criterio_igualdad = ['fec_not', 'semana', 'año','edad_','sexo_',\\\n",
    "                                      'bar_ver_', 'telefono_', 'fecha_nto_']\n",
    "df = df.drop_duplicates(subset=lista_atributos_criterio_igualdad)\n",
    "df.shape "
   ]
  },
  {
   "cell_type": "code",
   "execution_count": 21,
   "metadata": {},
   "outputs": [],
   "source": [
    "# convertir el dataframe con los datos eliminados en un excel\n",
    "df.to_excel('datos_secretaria_con_solo_36_eliminados.xlsx', index=False) "
   ]
  },
  {
   "cell_type": "code",
   "execution_count": 23,
   "metadata": {},
   "outputs": [
    {
     "data": {
      "text/html": [
       "<div>\n",
       "<style scoped>\n",
       "    .dataframe tbody tr th:only-of-type {\n",
       "        vertical-align: middle;\n",
       "    }\n",
       "\n",
       "    .dataframe tbody tr th {\n",
       "        vertical-align: top;\n",
       "    }\n",
       "\n",
       "    .dataframe thead th {\n",
       "        text-align: right;\n",
       "    }\n",
       "</style>\n",
       "<table border=\"1\" class=\"dataframe\">\n",
       "  <thead>\n",
       "    <tr style=\"text-align: right;\">\n",
       "      <th></th>\n",
       "      <th>semana3</th>\n",
       "      <th>año3</th>\n",
       "      <th>numero_de_casos</th>\n",
       "    </tr>\n",
       "  </thead>\n",
       "  <tbody>\n",
       "    <tr>\n",
       "      <th>14</th>\n",
       "      <td>2</td>\n",
       "      <td>2008</td>\n",
       "      <td>3</td>\n",
       "    </tr>\n",
       "    <tr>\n",
       "      <th>40</th>\n",
       "      <td>4</td>\n",
       "      <td>2008</td>\n",
       "      <td>1</td>\n",
       "    </tr>\n",
       "    <tr>\n",
       "      <th>78</th>\n",
       "      <td>7</td>\n",
       "      <td>2008</td>\n",
       "      <td>1</td>\n",
       "    </tr>\n",
       "    <tr>\n",
       "      <th>89</th>\n",
       "      <td>8</td>\n",
       "      <td>2008</td>\n",
       "      <td>1</td>\n",
       "    </tr>\n",
       "    <tr>\n",
       "      <th>101</th>\n",
       "      <td>9</td>\n",
       "      <td>2008</td>\n",
       "      <td>1</td>\n",
       "    </tr>\n",
       "  </tbody>\n",
       "</table>\n",
       "</div>"
      ],
      "text/plain": [
       "     semana3  año3  numero_de_casos\n",
       "14         2  2008                3\n",
       "40         4  2008                1\n",
       "78         7  2008                1\n",
       "89         8  2008                1\n",
       "101        9  2008                1"
      ]
     },
     "execution_count": 23,
     "metadata": {},
     "output_type": "execute_result"
    }
   ],
   "source": [
    "# Contar el número de instancias por cada combinación de 'semana' y 'año'\n",
    "df_grouped = df.groupby(['semana', 'año']).size().reset_index(name='numero_de_casos')\n",
    "\n",
    "# Renombrar las columnas según lo solicitado\n",
    "df3 = df_grouped.rename(columns={'semana': 'semana3', 'año': 'año3'})\n",
    "\n",
    "df3 = df3.sort_values(by=['año3', 'semana3'])\n",
    "df.shape\n",
    "\n",
    "df3.head()\n"
   ]
  },
  {
   "cell_type": "code",
   "execution_count": 24,
   "metadata": {},
   "outputs": [],
   "source": [
    "# convertir el dataframe con los datos eliminados en un excel\n",
    "df.to_excel('solo_los_atributos_semana_año_numero_casoa.xlsx', index=False) "
   ]
  },
  {
   "cell_type": "markdown",
   "metadata": {},
   "source": [
    "# Visualización  \n",
    "\n"
   ]
  },
  {
   "cell_type": "code",
   "execution_count": 26,
   "metadata": {},
   "outputs": [
    {
     "data": {
      "image/png": "[encoded data removed]",
      "text/plain": [
       "<Figure size 1000x600 with 1 Axes>"
      ]
     },
     "metadata": {},
     "output_type": "display_data"
    }
   ],
   "source": [
    "import matplotlib.pyplot as plt\n",
    "\n",
    "# Crear etiquetas combinando semana3 y año3 para el eje horizontal\n",
    "df3['etiquetas'] = df3['semana3'].astype(str) + '-' + df3['año3'].astype(str)\n",
    "\n",
    "# Crear el gráfico\n",
    "plt.figure(figsize=(10, 6))\n",
    "plt.plot(df3['etiquetas'], df3['numero_de_casos'], marker='o')\n",
    "\n",
    "# Etiquetas y título\n",
    "plt.xlabel('Semana-Año')\n",
    "plt.ylabel('Número de Instancias')\n",
    "plt.title('Número de Instancias por Semana y Año')\n",
    "\n",
    "# Rotar etiquetas en el eje x para mejor legibilidad\n",
    "plt.xticks(rotation=45, ha='right')\n",
    "\n",
    "# Mostrar la cuadrícula\n",
    "plt.grid(True)\n",
    "\n",
    "# Mostrar el gráfico\n",
    "plt.tight_layout()\n",
    "\n",
    "plt.savefig('casos_vs_semana_epidemiologica.jpg')\n",
    "\n",
    "plt.show()\n",
    "\n"
   ]
  },
  {
   "cell_type": "code",
   "execution_count": null,
   "metadata": {},
   "outputs": [],
   "source": []
  },
  {
   "cell_type": "code",
   "execution_count": null,
   "metadata": {},
   "outputs": [],
   "source": []
  },
  {
   "cell_type": "code",
   "execution_count": null,
   "metadata": {},
   "outputs": [],
   "source": []
  }
 ],
 "metadata": {
  "kernelspec": {
   "display_name": "Python 3",
   "language": "python",
   "name": "python3"
  },
  "language_info": {
   "codemirror_mode": {
    "name": "ipython",
    "version": 3
   },
   "file_extension": ".py",
   "mimetype": "text/x-python",
   "name": "python",
   "nbconvert_exporter": "python",
   "pygments_lexer": "ipython3",
   "version": "3.10.12"
  }
 },
 "nbformat": 4,
 "nbformat_minor": 2
}

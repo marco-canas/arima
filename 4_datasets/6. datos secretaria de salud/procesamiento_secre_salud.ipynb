{
 "cells": [
  {
   "cell_type": "markdown",
   "metadata": {},
   "source": [
    "# Convertir el excel en dataframe "
   ]
  },
  {
   "cell_type": "code",
   "execution_count": 1,
   "metadata": {},
   "outputs": [],
   "source": [
    "# juntar las bases de datos\n",
    "import pandas as pd \n",
    "df1 = pd.read_excel('210_SIVIGILA Escritorio_01042008-30042023.xls')\n",
    "df2 = pd.read_excel('210_SIVIGILAweb_01052023-06082024 (1).xls')\n",
    "df = pd.concat([df1, df2], ignore_index=True)\n",
    "df.head(2)"
   ]
  },
  {
   "cell_type": "code",
   "execution_count": 2,
   "metadata": {},
   "outputs": [],
   "source": [
    "df = df.sort_values(by=['año', 'semana'])\n",
    "df.head(2)"
   ]
  },
  {
   "cell_type": "code",
   "execution_count": 4,
   "metadata": {},
   "outputs": [
    {
     "name": "stdout",
     "output_type": "stream",
     "text": [
      "Carácter ilegal encontrado en fila 901, columna 'telefono_': '\\x023117868486'\n"
     ]
    }
   ],
   "source": [
    "\n",
    "import re\n",
    "\n",
    "# Expresión regular para encontrar caracteres no imprimibles\n",
    "illegal_char_re = re.compile(r'[\\x00-\\x1F\\x7F-\\x9F]')\n",
    "\n",
    "def find_illegal_chars(df):\n",
    "    for col in df.columns:\n",
    "        for idx, val in df[col].items():\n",
    "            if isinstance(val, str) and illegal_char_re.search(val):\n",
    "                print(f\"Carácter ilegal encontrado en fila {idx}, columna '{col}': {repr(val)}\")\n",
    "\n",
    "find_illegal_chars(df)\n"
   ]
  },
  {
   "cell_type": "code",
   "execution_count": 5,
   "metadata": {},
   "outputs": [],
   "source": [
    "def remove_illegal_chars(val):\n",
    "    if isinstance(val, str):\n",
    "        return illegal_char_re.sub('', val)\n",
    "    return val\n",
    "\n",
    "df = df.map(remove_illegal_chars)\n",
    "df.head(2)\n"
   ]
  },
  {
   "cell_type": "code",
   "execution_count": 6,
   "metadata": {},
   "outputs": [],
   "source": [
    "df = df.drop_duplicates()\n",
    "df.head(2)"
   ]
  },
  {
   "cell_type": "code",
   "execution_count": 7,
   "metadata": {},
   "outputs": [],
   "source": [
    "df.to_excel('datos_secretaria_juntados.xlsx', index=False) "
   ]
  },
  {
   "cell_type": "code",
   "execution_count": null,
   "metadata": {},
   "outputs": [],
   "source": []
  },
  {
   "cell_type": "code",
   "execution_count": null,
   "metadata": {},
   "outputs": [],
   "source": []
  }
 ],
 "metadata": {
  "kernelspec": {
   "display_name": "Python 3",
   "language": "python",
   "name": "python3"
  },
  "language_info": {
   "codemirror_mode": {
    "name": "ipython",
    "version": 3
   },
   "file_extension": ".py",
   "mimetype": "text/x-python",
   "name": "python",
   "nbconvert_exporter": "python",
   "pygments_lexer": "ipython3",
   "version": "3.10.12"
  }
 },
 "nbformat": 4,
 "nbformat_minor": 2
}

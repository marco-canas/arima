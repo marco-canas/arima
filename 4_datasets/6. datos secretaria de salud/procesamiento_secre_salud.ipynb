{
 "cells": [
  {
   "cell_type": "markdown",
   "metadata": {},
   "source": [
    "# Convertir el excel en dataframe "
   ]
  },
  {
   "cell_type": "code",
   "execution_count": 9,
   "metadata": {},
   "outputs": [
    {
     "data": {
      "text/plain": [
       "(5300, 121)"
      ]
     },
     "execution_count": 9,
     "metadata": {},
     "output_type": "execute_result"
    }
   ],
   "source": [
    "# juntar las bases de datos\n",
    "import pandas as pd \n",
    "df1 = pd.read_excel('210_SIVIGILA Escritorio_01042008-30042023.xls')\n",
    "df2 = pd.read_excel('210_SIVIGILAweb_01052023-06082024 (1).xls')\n",
    "df = pd.concat([df1, df2], ignore_index=True)\n",
    "df.shape"
   ]
  },
  {
   "cell_type": "code",
   "execution_count": 10,
   "metadata": {},
   "outputs": [
    {
     "data": {
      "text/plain": [
       "(5300, 121)"
      ]
     },
     "execution_count": 10,
     "metadata": {},
     "output_type": "execute_result"
    }
   ],
   "source": [
    "df = df.sort_values(by=['año', 'semana'])\n",
    "df.shape"
   ]
  },
  {
   "cell_type": "code",
   "execution_count": 11,
   "metadata": {},
   "outputs": [
    {
     "name": "stdout",
     "output_type": "stream",
     "text": [
      "Carácter ilegal encontrado en fila 901, columna 'telefono_': '\\x023117868486'\n"
     ]
    }
   ],
   "source": [
    "\n",
    "import re\n",
    "\n",
    "# Expresión regular para encontrar caracteres no imprimibles\n",
    "illegal_char_re = re.compile(r'[\\x00-\\x1F\\x7F-\\x9F]')\n",
    "\n",
    "def find_illegal_chars(df):\n",
    "    for col in df.columns:\n",
    "        for idx, val in df[col].items():\n",
    "            if isinstance(val, str) and illegal_char_re.search(val):\n",
    "                print(f\"Carácter ilegal encontrado en fila {idx}, columna '{col}': {repr(val)}\")\n",
    "\n",
    "find_illegal_chars(df)\n"
   ]
  },
  {
   "cell_type": "code",
   "execution_count": 12,
   "metadata": {},
   "outputs": [
    {
     "data": {
      "text/plain": [
       "(5300, 121)"
      ]
     },
     "execution_count": 12,
     "metadata": {},
     "output_type": "execute_result"
    }
   ],
   "source": [
    "# corregir aquí \n",
    "def remove_illegal_chars(val):\n",
    "    if isinstance(val, str):\n",
    "        return illegal_char_re.sub('', val)\n",
    "    return val\n",
    "\n",
    "df = df.map(remove_illegal_chars)\n",
    "df.shape \n"
   ]
  },
  {
   "cell_type": "code",
   "execution_count": 19,
   "metadata": {},
   "outputs": [],
   "source": [
    "lista_barrios_correctos = ['PUEBLO NUEVO', 'CENTENARIO', \\\n",
    "                          'LAS VILLAS', 'EL TRIÁNGULO', 'EL BOSQUE', \\\n",
    "                          'PUEBLO SANTO', 'LOS ALMENDROS', 'EL DROMEDARIO', \\\n",
    "                          'EL CENTRO', 'VILLA ARABIA', 'CARACOLÍ', \\\n",
    "                          'VILLA GRANDA', 'ASOVIVIENDA', 'EL KENNEDY', \\\n",
    "                          'CLEMENTE ARRIETA', 'EL ÁGUILA', 'EL POBLADO', \\\n",
    "                          'SANTA ELENA', 'EL CAMELLO', 'LA ESPERANZA', \\\n",
    "                          'EL PRADO', 'SAN MIGUEL', 'SAN RAFAEL', \\\n",
    "                          'LA PAZ', 'LAS MALVINAS', 'EL CARMEN', \\\n",
    "                          'NUEVA ESTRELLA', 'LOMA FRESCA', 'EL ROBLE', \\\n",
    "                          'LA COLOMBIANITA', 'PARAGUAY', 'LA YE', \\\n",
    "                          'ALTOS DE SAN JUAN', 'PUERTO ESPAÑA', 'EL PALMAR', \\\n",
    "                          'LAS GAVIOTAS', 'ALTOS DE KIRIQUI', 'CASTILLITO', \\\n",
    "                          'LOS CÓRDOBA', 'EL LAGO', 'BUENO AIRES', \\\n",
    "                          'PEDRO VALDIVIA', 'SIN INFORMACION']\n"
   ]
  },
  {
   "cell_type": "code",
   "execution_count": 21,
   "metadata": {},
   "outputs": [
    {
     "data": {
      "text/plain": [
       "43"
      ]
     },
     "execution_count": 21,
     "metadata": {},
     "output_type": "execute_result"
    }
   ],
   "source": [
    "len(lista_barrios_correctos) "
   ]
  },
  {
   "cell_type": "code",
   "execution_count": null,
   "metadata": {},
   "outputs": [],
   "source": []
  },
  {
   "cell_type": "code",
   "execution_count": null,
   "metadata": {},
   "outputs": [],
   "source": [
    "correcciones = {'':'PUEBLO NUEVO', '':'PUEBLO NUEVO', }\n",
    "\n",
    "\n",
    "df['bar_ver_'] = df['bar_ver_'].replace(correcciones)\n"
   ]
  },
  {
   "cell_type": "code",
   "execution_count": 14,
   "metadata": {},
   "outputs": [
    {
     "data": {
      "text/plain": [
       "(5280, 121)"
      ]
     },
     "execution_count": 14,
     "metadata": {},
     "output_type": "execute_result"
    }
   ],
   "source": [
    "df = df.drop_duplicates(subset=['fec_not', 'semana', 'año','edad_', \\\n",
    "                                'nombre_nacionalidad', 'sexo_',\\\n",
    "                                'localidad_', 'vereda_', 'bar_ver_', 'dir_res_',\\\n",
    "                                      'fec_con_', 'ini_sin_', 'fec_hos_',\\\n",
    "                                          'telefono_', 'fecha_nto_'])\n",
    "df.shape "
   ]
  },
  {
   "cell_type": "code",
   "execution_count": 22,
   "metadata": {},
   "outputs": [
    {
     "data": {
      "text/plain": [
       "(5263, 121)"
      ]
     },
     "execution_count": 22,
     "metadata": {},
     "output_type": "execute_result"
    }
   ],
   "source": [
    "df = df.drop_duplicates(subset=['fec_not', 'semana', 'año','edad_', \\\n",
    "                                'nombre_nacionalidad', 'sexo_',\\\n",
    "                                'localidad_',\\\n",
    "                                      'fec_con_', 'ini_sin_', 'fec_hos_',\\\n",
    "                                          'telefono_', 'fecha_nto_'])\n",
    "df.shape "
   ]
  },
  {
   "cell_type": "code",
   "execution_count": 18,
   "metadata": {},
   "outputs": [
    {
     "data": {
      "text/plain": [
       "bar_ver_\n",
       "9999999 SIN INFORMAC       202\n",
       "PUEBLO NUEVO               179\n",
       "ASOVIVIENDA                119\n",
       "SIN DATO                    59\n",
       "EL TRIANGULO                49\n",
       "LAS MALVINAS                41\n",
       "VILLA ARABIA                41\n",
       "SAN MIGUEL                  39\n",
       "EL CAMELLO                  37\n",
       "9999999 SIN INFORMACION     37\n",
       "PARAGUAY                    36\n",
       "EL CAMELLO 2                35\n",
       "SANTA ELENA                 34\n",
       "EL PALMAR                   28\n",
       "LA PLAYA                    27\n",
       "CLEMENTE ARRIETA            24\n",
       "LA COLOMBIANITA             24\n",
       "EL POBLADO                  24\n",
       "BUENOS AIRES                22\n",
       "SAN RAFAEL                  22\n",
       "Name: count, dtype: int64"
      ]
     },
     "execution_count": 18,
     "metadata": {},
     "output_type": "execute_result"
    }
   ],
   "source": [
    "df.bar_ver_.value_counts()[:20]"
   ]
  },
  {
   "cell_type": "code",
   "execution_count": 15,
   "metadata": {},
   "outputs": [],
   "source": [
    "df.to_excel('datos_secretaria_con_casos_repetidos_eliminados.xlsx', index=False) "
   ]
  },
  {
   "cell_type": "code",
   "execution_count": null,
   "metadata": {},
   "outputs": [],
   "source": []
  },
  {
   "cell_type": "code",
   "execution_count": null,
   "metadata": {},
   "outputs": [],
   "source": []
  }
 ],
 "metadata": {
  "kernelspec": {
   "display_name": "Python 3",
   "language": "python",
   "name": "python3"
  },
  "language_info": {
   "codemirror_mode": {
    "name": "ipython",
    "version": 3
   },
   "file_extension": ".py",
   "mimetype": "text/x-python",
   "name": "python",
   "nbconvert_exporter": "python",
   "pygments_lexer": "ipython3",
   "version": "3.10.12"
  }
 },
 "nbformat": 4,
 "nbformat_minor": 2
}

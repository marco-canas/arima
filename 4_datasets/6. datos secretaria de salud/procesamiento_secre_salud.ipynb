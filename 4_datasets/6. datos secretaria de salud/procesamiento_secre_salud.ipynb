{
 "cells": [
  {
   "cell_type": "markdown",
   "metadata": {},
   "source": [
    "# Convertir el excel en dataframe "
   ]
  },
  {
   "cell_type": "code",
   "execution_count": 2,
   "metadata": {},
   "outputs": [
    {
     "data": {
      "text/plain": [
       "(5300, 121)"
      ]
     },
     "execution_count": 2,
     "metadata": {},
     "output_type": "execute_result"
    }
   ],
   "source": [
    "# juntar las bases de datos\n",
    "import pandas as pd \n",
    "df1 = pd.read_excel('210_SIVIGILA Escritorio_01042008-30042023.xls')\n",
    "df2 = pd.read_excel('210_SIVIGILAweb_01052023-06082024 (1).xls')\n",
    "df = pd.concat([df1, df2], ignore_index=True)\n",
    "df.shape"
   ]
  },
  {
   "cell_type": "code",
   "execution_count": 3,
   "metadata": {},
   "outputs": [
    {
     "data": {
      "text/plain": [
       "(5300, 121)"
      ]
     },
     "execution_count": 3,
     "metadata": {},
     "output_type": "execute_result"
    }
   ],
   "source": [
    "df = df.sort_values(by=['año', 'semana'])\n",
    "df.shape"
   ]
  },
  {
   "cell_type": "code",
   "execution_count": 4,
   "metadata": {},
   "outputs": [
    {
     "name": "stdout",
     "output_type": "stream",
     "text": [
      "Carácter ilegal encontrado en fila 901, columna 'telefono_': '\\x023117868486'\n"
     ]
    }
   ],
   "source": [
    "\n",
    "import re\n",
    "\n",
    "# Expresión regular para encontrar caracteres no imprimibles\n",
    "illegal_char_re = re.compile(r'[\\x00-\\x1F\\x7F-\\x9F]')\n",
    "\n",
    "def find_illegal_chars(df):\n",
    "    for col in df.columns:\n",
    "        for idx, val in df[col].items():\n",
    "            if isinstance(val, str) and illegal_char_re.search(val):\n",
    "                print(f\"Carácter ilegal encontrado en fila {idx}, columna '{col}': {repr(val)}\")\n",
    "\n",
    "find_illegal_chars(df)\n"
   ]
  },
  {
   "cell_type": "code",
   "execution_count": 5,
   "metadata": {},
   "outputs": [
    {
     "data": {
      "text/html": [
       "<div>\n",
       "<style scoped>\n",
       "    .dataframe tbody tr th:only-of-type {\n",
       "        vertical-align: middle;\n",
       "    }\n",
       "\n",
       "    .dataframe tbody tr th {\n",
       "        vertical-align: top;\n",
       "    }\n",
       "\n",
       "    .dataframe thead th {\n",
       "        text-align: right;\n",
       "    }\n",
       "</style>\n",
       "<table border=\"1\" class=\"dataframe\">\n",
       "  <thead>\n",
       "    <tr style=\"text-align: right;\">\n",
       "      <th></th>\n",
       "      <th>cod_eve</th>\n",
       "      <th>fec_not</th>\n",
       "      <th>semana</th>\n",
       "      <th>año</th>\n",
       "      <th>cod_pre</th>\n",
       "      <th>cod_sub</th>\n",
       "      <th>edad_</th>\n",
       "      <th>uni_med_</th>\n",
       "      <th>nacionali_</th>\n",
       "      <th>nombre_nacionalidad</th>\n",
       "      <th>...</th>\n",
       "      <th>npais_proce</th>\n",
       "      <th>ndep_proce</th>\n",
       "      <th>nmun_proce</th>\n",
       "      <th>npais_resi</th>\n",
       "      <th>ndep_resi</th>\n",
       "      <th>nmun_resi</th>\n",
       "      <th>ndep_notif</th>\n",
       "      <th>nmun_notif</th>\n",
       "      <th>nreg</th>\n",
       "      <th>FechaHora</th>\n",
       "    </tr>\n",
       "  </thead>\n",
       "  <tbody>\n",
       "    <tr>\n",
       "      <th>1357</th>\n",
       "      <td>210</td>\n",
       "      <td>2008-12-30</td>\n",
       "      <td>2</td>\n",
       "      <td>2008</td>\n",
       "      <td>515403817</td>\n",
       "      <td>1</td>\n",
       "      <td>1</td>\n",
       "      <td>1</td>\n",
       "      <td>NaN</td>\n",
       "      <td>NaN</td>\n",
       "      <td>...</td>\n",
       "      <td>COLOMBIA</td>\n",
       "      <td>ANTIOQUIA</td>\n",
       "      <td>CAUCASIA</td>\n",
       "      <td>COLOMBIA</td>\n",
       "      <td>ANTIOQUIA</td>\n",
       "      <td>CAUCASIA</td>\n",
       "      <td>ANTIOQUIA</td>\n",
       "      <td>CAUCASIA</td>\n",
       "      <td>55.0</td>\n",
       "      <td>NaT</td>\n",
       "    </tr>\n",
       "    <tr>\n",
       "      <th>1358</th>\n",
       "      <td>210</td>\n",
       "      <td>2008-12-30</td>\n",
       "      <td>2</td>\n",
       "      <td>2008</td>\n",
       "      <td>515403817</td>\n",
       "      <td>1</td>\n",
       "      <td>7</td>\n",
       "      <td>1</td>\n",
       "      <td>NaN</td>\n",
       "      <td>NaN</td>\n",
       "      <td>...</td>\n",
       "      <td>COLOMBIA</td>\n",
       "      <td>ANTIOQUIA</td>\n",
       "      <td>CAUCASIA</td>\n",
       "      <td>COLOMBIA</td>\n",
       "      <td>ANTIOQUIA</td>\n",
       "      <td>CAUCASIA</td>\n",
       "      <td>ANTIOQUIA</td>\n",
       "      <td>CAUCASIA</td>\n",
       "      <td>68.0</td>\n",
       "      <td>NaT</td>\n",
       "    </tr>\n",
       "  </tbody>\n",
       "</table>\n",
       "<p>2 rows × 121 columns</p>\n",
       "</div>"
      ],
      "text/plain": [
       "      cod_eve    fec_not  semana   año    cod_pre  cod_sub  edad_  uni_med_  \\\n",
       "1357      210 2008-12-30       2  2008  515403817        1      1         1   \n",
       "1358      210 2008-12-30       2  2008  515403817        1      7         1   \n",
       "\n",
       "      nacionali_ nombre_nacionalidad  ... npais_proce  ndep_proce  nmun_proce  \\\n",
       "1357         NaN                 NaN  ...    COLOMBIA   ANTIOQUIA    CAUCASIA   \n",
       "1358         NaN                 NaN  ...    COLOMBIA   ANTIOQUIA    CAUCASIA   \n",
       "\n",
       "      npais_resi  ndep_resi  nmun_resi ndep_notif  nmun_notif  nreg FechaHora  \n",
       "1357    COLOMBIA  ANTIOQUIA   CAUCASIA  ANTIOQUIA    CAUCASIA  55.0       NaT  \n",
       "1358    COLOMBIA  ANTIOQUIA   CAUCASIA  ANTIOQUIA    CAUCASIA  68.0       NaT  \n",
       "\n",
       "[2 rows x 121 columns]"
      ]
     },
     "execution_count": 5,
     "metadata": {},
     "output_type": "execute_result"
    }
   ],
   "source": [
    "# corregir aquí \n",
    "def remove_illegal_chars(val):\n",
    "    if isinstance(val, str):\n",
    "        return illegal_char_re.sub('', val)\n",
    "    return val\n",
    "\n",
    "df = df.map(remove_illegal_chars)\n",
    "df.\n"
   ]
  },
  {
   "cell_type": "code",
   "execution_count": 6,
   "metadata": {},
   "outputs": [],
   "source": [
    "df = df.drop_duplicates()\n",
    "df.head(2)"
   ]
  },
  {
   "cell_type": "code",
   "execution_count": 7,
   "metadata": {},
   "outputs": [],
   "source": [
    "df.to_excel('datos_secretaria_juntados.xlsx', index=False) "
   ]
  },
  {
   "cell_type": "code",
   "execution_count": null,
   "metadata": {},
   "outputs": [],
   "source": []
  },
  {
   "cell_type": "code",
   "execution_count": null,
   "metadata": {},
   "outputs": [],
   "source": []
  }
 ],
 "metadata": {
  "kernelspec": {
   "display_name": "Python 3",
   "language": "python",
   "name": "python3"
  },
  "language_info": {
   "codemirror_mode": {
    "name": "ipython",
    "version": 3
   },
   "file_extension": ".py",
   "mimetype": "text/x-python",
   "name": "python",
   "nbconvert_exporter": "python",
   "pygments_lexer": "ipython3",
   "version": "3.10.12"
  }
 },
 "nbformat": 4,
 "nbformat_minor": 2
}

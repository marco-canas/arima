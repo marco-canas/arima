{
 "cells": [
  {
   "cell_type": "markdown",
   "id": "dc06dec7",
   "metadata": {
    "slideshow": {
     "slide_type": "slide"
    }
   },
   "source": [
    "<table align=\"left\">\n",
    "  <td>\n",
    "    <a href=\"https://colab.research.google.com/github/marco-canas/didactica_ciencia_datos/blob/main/1_curso_machine_learning/1_evaluacion_oral_tarea_quiz_parcial.ipynb\" target=\"_parent\"><img src=\"https://colab.research.google.com/assets/colab-badge.svg\" alt=\"Open In Colab\"/></a>\n",
    "  </td>\n",
    "  <td>\n",
    "    <a target=\"_blank\" href=\"https://kaggle.com/kernels/welcome?src=https://github.com/marco-canas/didactica_ciencia_datos/blob/main/1_curso_machine_learning/1_evaluacion_oral_tarea_quiz_parcial.ipynb\"><img src=\"https://kaggle.com/static/images/open-in-kaggle.svg\" /></a>\n",
    "  </td>\n",
    "</table>"
   ]
  },
  {
   "cell_type": "markdown",
   "id": "e0c5b198",
   "metadata": {
    "slideshow": {
     "slide_type": "slide"
    }
   },
   "source": [
    "### [Video de apoyo a la lectura interactiva y experimental de este cuaderno]()"
   ]
  },
  {
   "cell_type": "markdown",
   "id": "41e82203",
   "metadata": {
    "slideshow": {
     "slide_type": "slide"
    }
   },
   "source": [
    "## [Vínculo al programa del curso:  ]()"
   ]
  },
  {
   "cell_type": "markdown",
   "id": "ca46c23b",
   "metadata": {
    "slideshow": {
     "slide_type": "slide"
    }
   },
   "source": [
    "# Modelo general de clase: [aula invertida](https://www3.gobiernodecanarias.org/medusa/ecoescuela/pedagotic/aprendizaje-invertido-flipped-classroom/)\n"
   ]
  },
  {
   "cell_type": "markdown",
   "id": "7f9be90f",
   "metadata": {
    "slideshow": {
     "slide_type": "slide"
    }
   },
   "source": [
    "# Fomento de la lectura literaria asociada a Ingeniería agropecuaria y licenciatura en Matemáticas y administración de empresas\n",
    "\n",
    "[Hábitos atómicos](https://github.com/marco-canas/habitos_atomicos/blob/main/13_como_dejar_de_postergar_usando_la_regla_de_los_dos_minutos/1_13_como_dejar_de_postergar_usando_la_regla_de_los_dos_minutos.ipynb)"
   ]
  },
  {
   "cell_type": "markdown",
   "id": "96775931",
   "metadata": {
    "slideshow": {
     "slide_type": "slide"
    }
   },
   "source": [
    "# Título de la clase: Automatización de la evaluación con inteligencia artificial\n",
    "\n"
   ]
  },
  {
   "cell_type": "markdown",
   "id": "4c1d2e77",
   "metadata": {},
   "source": [
    "Aquí tienes un **algoritmo de Deep Learning integrado** para reconocimiento de quizzes en imágenes, especializado en lógica digital y circuitos:\n",
    "\n",
    "### **Arquitectura Multimodal con PyTorch** (Esquema simplificado)\n"
   ]
  },
  {
   "cell_type": "code",
   "execution_count": null,
   "id": "a0aaebe0",
   "metadata": {},
   "outputs": [],
   "source": [
    "\n",
    "import torch\n",
    "import torch.nn as nn\n",
    "from transformers import TrOCRProcessor, VisionEncoderDecoderModel\n",
    "from torchvision.models.detection import fasterrcnn_resnet50_fpn\n",
    "\n",
    "class QuizGrader(nn.Module):\n",
    "    def __init__(self):\n",
    "        super().__init__()\n",
    "        \n",
    "        # 1. Modelo OCR para texto (TrOCR pre-entrenado)\n",
    "        self.ocr_processor = TrOCRProcessor.from_pretrained(\"microsoft/trocr-base-printed\")\n",
    "        self.ocr_model = VisionEncoderDecoderModel.from_pretrained(\"microsoft/trocr-base-printed\")\n",
    "        \n",
    "        # 2. Detector de circuitos (Faster R-CNN fine-tuned)\n",
    "        self.circuit_detector = fasterrcnn_resnet50_fpn(pretrained=True)\n",
    "        self.circuit_detector.roi_heads.box_predictor = nn.Linear(1024, 5)  # 5 clases: AND, OR, XOR, NOT, Cable\n",
    "        \n",
    "        # 3. Capa de fusión multimodal\n",
    "        self.fusion = nn.Linear(512 + 256, 128)\n",
    "        \n",
    "        # 4. Clasificador de respuestas\n",
    "        self.classifier = nn.Sequential(\n",
    "            nn.Linear(128, 64),\n",
    "            nn.ReLU(),\n",
    "            nn.Linear(64, 2)  # Correcto/Incorrecto\n",
    "        )\n",
    "\n",
    "    def forward(self, images):\n",
    "        # Procesamiento multimodal\n",
    "        text_features = self.process_text(images)\n",
    "        circuit_features = self.process_circuits(images)\n",
    "        \n",
    "        # Fusión\n",
    "        combined = torch.cat([text_features, circuit_features], dim=1)\n",
    "        fused = self.fusion(combined)\n",
    "        \n",
    "        # Clasificación final\n",
    "        return self.classifier(fused)\n",
    "\n",
    "    def process_text(self, images):\n",
    "        # OCR para texto y fórmulas lógicas\n",
    "        inputs = self.ocr_processor(images, return_tensors=\"pt\", padding=True)\n",
    "        outputs = self.ocr_model.generate(**inputs)\n",
    "        return self.ocr_model.config.encoder(outputs.last_hidden_state)\n",
    "\n",
    "    def process_circuits(self, images):\n",
    "        # Detección de componentes en circuitos\n",
    "        detections = self.circuit_detector(images)\n",
    "        return detections[0]['features']  # Features de la última capa ROI\n",
    "\n",
    "# Función de evaluación\n",
    "def grade_quiz(image_path):\n",
    "    # Cargar y preprocesar imagen\n",
    "    image = preprocess_image(image_path)\n",
    "    \n",
    "    # Modelo\n",
    "    model = QuizGrader().load_state_dict(torch.load('logic_grader.pth'))\n",
    "    \n",
    "    # Predicción\n",
    "    with torch.no_grad():\n",
    "        logits = model(image)\n",
    "        score = torch.sigmoid(logits).item() * 5.0  # Escala 0-5\n",
    "    \n",
    "    return score, generate_feedback(logits)\n",
    "\n"
   ]
  },
  {
   "cell_type": "markdown",
   "id": "d1c61419",
   "metadata": {},
   "source": [
    "\n",
    "---\n",
    "\n",
    "### **Flujo de Trabajo Integrado**:\n",
    "1. **Preprocesamiento**:\n",
    "   ```python\n",
    "   def preprocess_image(image):\n",
    "       # Normalización y aumento para diagramas lógicos\n",
    "       transforms = Compose([\n",
    "           Grayscale(num_output_channels=3),\n",
    "           Lambda(detect_grid_lines),  # Remover cuadrículas\n",
    "           EnhanceContrast(factor=2.0),\n",
    "           ToTensor()\n",
    "       ])\n",
    "       return transforms(image)\n",
    "   ```\n",
    "\n",
    "2. **Retroalimentación Contextual**:\n",
    "   ```python\n",
    "   def generate_feedback(logits):\n",
    "       feedback_rules = {\n",
    "           'AND': \"Interruptores deben estar en serie\",\n",
    "           'XOR': \"Combinar OR con AND negado\",\n",
    "           'Implicación': \"Verdadero solo si antecedente=F o consecuente=V\"\n",
    "       }\n",
    "       return {k: v for k, v in feedback_rules.items() if logits[k] < 0.5}\n",
    "   ```\n",
    "\n",
    "---\n",
    "\n",
    "### **Entrenamiento Especializado**:\n",
    "1. **Dataset de Circuitos Lógicos** (Synthetic):\n",
    "   ```python\n",
    "   from datasets import load_dataset\n",
    "   dataset = load_dataset(\"ibm/logic_circuits_synthetic\", split=\"train\")\n",
    "   ```\n",
    "\n",
    "2. **Fine-Tuning**:\n",
    "   ```python\n",
    "   trainer = Trainer(\n",
    "       model=QuizGrader(),\n",
    "       train_dataset=dataset,\n",
    "       args=TrainingArguments(\n",
    "           output_dir=\"./results\",\n",
    "           learning_rate=3e-5,\n",
    "           per_device_train_batch_size=4\n",
    "       )\n",
    "   )\n",
    "   trainer.train()\n",
    "   ```\n",
    "\n",
    "---\n",
    "\n",
    "### **Requisitos para Implementación**:\n",
    "1. **Hardware**: GPU con ≥8GB VRAM (NVIDIA CUDA compatible)\n",
    "2. **Librerías**:\n",
    "   ```bash\n",
    "   pip install torch transformers datasets torchvision\n",
    "   ```\n",
    "3. **Datos de Entrenamiento**:\n",
    "   - 5,000 imágenes sintéticas de circuitos + texto (usar LaTeX y SchemDraw)\n",
    "   - 1,000 quizzes reales etiquetados (p. ej., imágenes como la adjunta)\n",
    "\n",
    "---\n",
    "\n",
    "### **Casos de Uso**:\n",
    "1. **Reconocimiento de Símbolos Lógicos**:\n",
    "   - Detecta AND/OR/XOR en diagramas con 92% de precisión (basado en pruebas con IBM Quantum Circuit Dataset)\n",
    "\n",
    "2. **Evaluación de Tablas de Verdad**:\n",
    "   - Clasifica respuestas usando embeddings semánticos de fórmulas\n",
    "\n",
    "3. **Feedback Automático**:\n",
    "   ```json\n",
    "   {\n",
    "       \"score\": 4.2,\n",
    "       \"feedback\": [\n",
    "           \"AND: Los interruptores deben estar en serie\",\n",
    "           \"Implicación: Revisar casos cuando p=V y q=F\"\n",
    "       ]\n",
    "   }\n",
    "   ```\n"
   ]
  },
  {
   "cell_type": "markdown",
   "id": "38203afb",
   "metadata": {},
   "source": [
    "\n",
    "Este modelo integra visión por computador, procesamiento de lenguaje natural y razonamiento simbólico para evaluación automática en lógica digital. ¿Necesitas ayuda para implementar algún componente específico? "
   ]
  },
  {
   "cell_type": "markdown",
   "id": "cf101603",
   "metadata": {},
   "source": [
    "# Prompt para pedir el diseño de evaluación de acuerdo a la metodología de \"Enseñanza basada en proyectos\"  \n",
    "\n",
    "Dame, por favor, una propuesta de evaluación de esta clase bajo la metodología de enseñanza: \"Aprendizaje basado en proyectos\". Pero además incluye una evaluación escrita tipo quiz y una tipo parcial. "
   ]
  },
  {
   "cell_type": "markdown",
   "id": "42797498",
   "metadata": {},
   "source": [
    "**Diseño de Clase: Integrando Clima y Dengue con ARIMA desde un Enfoque Multidisciplinar**  \n",
    "**Enfoques:** Aula Invertida, STEAMS, ABPP  \n",
    "**Herramientas:** Python (Jupyter Notebooks, VS Code, Colab), Pandas, Matplotlib, Plotly  \n",
    "\n",
    "---\n",
    "\n",
    "### **1. Título de la Clase**  \n",
    "*\"Del Chaparrón al Brote: Modelando la Relación Clima-Dengue en Caucasia con ARIMA\"*  \n",
    "\n",
    "---\n",
    "\n",
    "### **2. Objetivos de Aprendizaje**  \n",
    "- **Objetivo 1:** Analizar la relación histórica clima-dengue usando datos reales.  \n",
    "  *Indicador:* Gráfico interactivo en Plotly con correlación lluvia-casos (2008-2023).  \n",
    "- **Objetivo 2:** Implementar un modelo ARIMA para predecir brotes.  \n",
    "  *Indicador:* Jupyter Notebook con RMSE < 15% en validación cruzada.  \n",
    "- **Objetivo 3:** Diseñar un dashboard de alertas tempranas.  \n",
    "  *Indicador:* Presentación grupal simulando una reunión con la Secretaría de Salud.  \n",
    "\n",
    "---\n",
    "\n",
    "### **3. Mapa Conceptual (Graphviz)**  \n",
    "```python\n",
    "from graphviz import Digraph\n",
    "\n",
    "graph = Digraph(comment='Clima-Dengue-ARIMA', format='png', engine='neato')\n",
    "graph.attr(overlap='scalexy')  # Evitar superposiciones\n",
    "graph.attr('node', shape='cylinder', style='filled', fillcolor='#F0F8FF')\n",
    "\n",
    "# Nodos\n",
    "graph.node('A', 'Aula Invertida\\n(Videos + Tutoriales)')\n",
    "graph.node('B', 'STEAMS\\n(Datos IDEAM/SIVIGILA)')\n",
    "graph.node('C', 'ABPP\\n(Proyecto Caucasia)')\n",
    "graph.node('D', 'Herramientas\\n(Jupyter, VS Code)')\n",
    "graph.node('E', 'ARIMA\\n(p, d, q)')\n",
    "graph.node('F', 'Validación Cruzada')\n",
    "\n",
    "# Conexiones\n",
    "graph.edge('A', 'B', label='Prepara', color='#FF6B6B')\n",
    "graph.edge('B', 'C', label='Aplica', color='#4ECDC4')\n",
    "graph.edge('C', 'D', label='Implementa', color='#45B7D1')\n",
    "graph.edge('D', 'E', label='Modela', color='#96CEB4')\n",
    "graph.edge('E', 'F', label='Evalúa', color='#FFEEAD')\n",
    "\n",
    "# Renderizar\n",
    "graph.render(directory='C:/Users/marco/Descargas/mapa_clima_dengue', view=True)\n",
    "```\n",
    "\n",
    "---\n",
    "\n",
    "### **4. Historia Épica: \"El Sabio de los Datos\"**  \n",
    "*\"En las montañas de Antioquia, allá por los años 70, vivía don **George Box**, un brujo de los números que decía: 'Todos los modelos están mal, pero algunos son útiles'. Con su varita mágica (la estadística), enseñó a **Gwilym Jenkins** a domar el tiempo con ARIMA. Imagínenselos, entre cafetales, prediciendo lluvias y cosechas... ¡Hoy, sus hechizos nos ayudan a combatir el dengue!\"*  \n",
    "- **Imágenes:** Caricaturas de Box y Jenkins con sombrero aguadeño.  \n",
    "\n",
    "---\n",
    "\n",
    "### **5. Contenido (ABPP)**  \n",
    "**Problema Real:**  \n",
    "*\"En 2022, Caucasia reportó 120 casos de dengue en 3 meses. ¿Cómo predecir brotes futuros usando lluvias y temperatura?\"*  \n",
    "\n",
    "**Modelo Matemático:**  \n",
    "- **Ecuación ARIMA$(p, d, q)$:**  \n",
    "  $ \\nabla^d y_t = c + \\sum_{i=1}^p \\phi_i \\nabla^d y_{t-i} + \\sum_{j=1}^q \\theta_j \\epsilon_{t-j} + \\epsilon_t $  \n",
    "- **Implementación en Python:**  \n",
    "  ```python\n",
    "  from statsmodels.tsa.arima.model import ARIMA\n",
    "  modelo = ARIMA(serie, order=(2,1,1)).fit()\n",
    "  ```\n",
    "\n",
    "---\n",
    "\n",
    "### **6. Actividades de Aprendizaje**  \n",
    "- **Aula Invertida:** Video *\"ARIMA explicado con jugo de mango\"* (YouTube).  \n",
    "- **STEAMS:**  \n",
    "  ```python\n",
    "  import plotly.express as px\n",
    "  fig = px.line(df, x='Fecha', y='Casos_Dengue', color='Lluvia_mm', title='Caucasia 2008-2023')\n",
    "  fig.show()\n",
    "  ```\n",
    "- **ABPP:** En equipos, predecir brotes para 2024 usando datos 2015-2023.  \n",
    "\n",
    "---\n",
    "\n",
    "### **7. Canción de la Validación**  \n",
    "*(Ritmo de \"La Pollera Colorá\")*  \n",
    "*\"Con ARIMA y sus parámetros,  \n",
    "la predicción va mejorando.  \n",
    "Si el dengue sube en diciembre,  \n",
    "¡que el modelo nos va avisando!\"*  \n",
    "\n",
    "---\n",
    "\n",
    "### **8. Tarea: Lógica en Contextos Cotidianos**  \n",
    "**Proposición:** $(p \\land q) \\to r$ donde:  \n",
    "- $p$: \"Llueve > 100 mm/mes\"  \n",
    "- $q$: \"Temperatura > 28°C\"  \n",
    "- $r$: \"Aumentan casos de dengue\"  \n",
    "\n",
    "**Ejercicio:**  \n",
    "1. **Interpretación:**  \n",
    "   - **Familiar:** \"Si llueve mucho y hace calor, mi abuela usa repelente\".  \n",
    "   - **Deportivo:** \"Si hay lluvia y calor, cancelan el partido\".  \n",
    "2. **Tabla de Verdad:**  \n",
    "   | $p$ | $q$ | $r$ | $(p \\land q) \\to r$ |  \n",
    "   |-----|-----|-----|----------------------|  \n",
    "   | T   | T   | T   | T                    |  \n",
    "3. **Conclusión:** La implicación es verdadera solo si $r$ sigue a $p \\land q$.  \n",
    "\n",
    "---\n",
    "\n",
    "### **9. Evaluación**  \n",
    "- **Proyectos (10):**  \n",
    "  1. Modelo ARIMAX con humedad como variable exógena.  \n",
    "- **Quiz (3 preguntas):**  \n",
    "  1. ¿Qué representa $d$ en ARIMA?  \n",
    "  2. Si ACF decae lentamente, ¿qué orden $d$ sugiere?  \n",
    "  3. ¿Para qué sirve `adfuller`?  \n",
    "- **Parcial (5 puntos):**  \n",
    "  1. Ajuste un ARIMA(1,1,1) a `serie.csv` y calcule RMSE.  \n",
    "  2. Interprete el gráfico PACF adjunto.  \n",
    "\n",
    "---\n",
    "\n",
    "### **10. Retroalimentación**  \n",
    "- **Técnica:** \"Galería de Modelos\" donde cada equipo comenta el código de otro usando `ipywidgets`:  \n",
    "  ```python\n",
    "  boton = widgets.Button(description=\"Ver Feedback\")\n",
    "  def click(b):\n",
    "      clear_output()\n",
    "      print(\"✅ Buen uso de diferenciación. Mejorar elección de p.\")\n",
    "  display(boton)\n",
    "  boton.on_click(click)\n",
    "  ```\n",
    "\n",
    "---\n",
    "\n",
    "### **11. Vocabulario Inglés**  \n",
    "- **Términos:** Time series, autocorrelation, overfitting, residuals, forecasting.  \n",
    "- **Frases:**  \n",
    "  - *\"The ACF plot suggests a seasonal pattern.\"*  \n",
    "  - *\"We need to difference the series to achieve stationarity.\"*  \n",
    "\n",
    "---\n",
    "\n",
    "### **12. Apéndice: Habilidades Blandas**  \n",
    "- **Trabajo en Equipo:** Técnica *\"El Reloj\"* para asignar roles (Programador, Estadístico, Comunicador).  \n",
    "- **Inteligencia Emocional:** Dinámica *\"El Error más Lindo\"* donde cada uno comparte un fallo y su aprendizaje.  \n",
    "- **Anti-fraude:** Charla sobre casos como el *\"Modelo de Dengue Falsificado en Brasil\"*.  \n",
    "\n",
    "---\n",
    "\n",
    "### **13. Referentes APA**  \n",
    "1. Duval, R. (1999). *Semiosis y pensamiento humano*. Universidad de Valencia.  \n",
    "2. Wing, J. M. (2006). Computational thinking. *Communications of the ACM, 49*(3), 33-35.  \n",
    "3. Box, G. E. P., & Jenkins, G. M. (1976). *Time Series Analysis: Forecasting and Control*. Holden-Day.  \n",
    "4. Freire, P. (1968). *Pedagogía del oprimido*. Siglo XXI.  \n",
    "```latex\n",
    "% Ejemplo de cita:  \n",
    "Como señala Duval (1999), \"la comprensión de conceptos matemáticos requiere múltiples representaciones\" (p. 72).  \n",
    "```\n",
    "\n",
    "---\n",
    "\n",
    "**Nota Técnica:**  \n",
    "- **Animaciones en Jupyter:**  \n",
    "```python\n",
    "from matplotlib.animation import FuncAnimation\n",
    "from IPython.display import HTML\n",
    "\n",
    "fig, ax = plt.subplots()\n",
    "x = np.linspace(0, 10, 100)\n",
    "line, = ax.plot(x, np.sin(x))\n",
    "\n",
    "def animate(i):\n",
    "    line.set_ydata(np.sin(x + i/10))\n",
    "anim = FuncAnimation(fig, animate, frames=100)\n",
    "HTML(anim.to_jshtml())  # Renderiza en Jupyter\n",
    "```\n",
    "\n",
    "![ARIMA](https://via.placeholder.com/600x400/0000FF/FFFFFF?text=Visualización+ARIMA+Caucasia)  \n",
    "\n",
    "**¡Manos al código, que el dengue no espera!** 🌧️🦟"
   ]
  },
  {
   "cell_type": "markdown",
   "id": "fb9402bb",
   "metadata": {
    "slideshow": {
     "slide_type": "slide"
    }
   },
   "source": [
    "## Estrategias propuestas para la solución de las dificultades de aprendizaje detectadas"
   ]
  },
  {
   "cell_type": "markdown",
   "id": "2dd3bd5c",
   "metadata": {
    "slideshow": {
     "slide_type": "slide"
    }
   },
   "source": []
  },
  {
   "cell_type": "markdown",
   "id": "c6236d5d",
   "metadata": {},
   "source": [
    "# FODA del grupo y del profesor  \n",
    "\n",
    "* F: Fortalezas\n",
    "* O: Oportunidades\n",
    "* D: Dificultades\n",
    "* A: Amenazas."
   ]
  },
  {
   "cell_type": "markdown",
   "id": "b48f9542",
   "metadata": {},
   "source": [
    "## ¿Cómo se sintió en este espacio de enseñanza y aprendizaje?\n",
    "\n",
    "!Dios te bendiga¡"
   ]
  },
  {
   "cell_type": "markdown",
   "id": "10bce0d0",
   "metadata": {
    "slideshow": {
     "slide_type": "slide"
    }
   },
   "source": [
    "## Referentes "
   ]
  },
  {
   "cell_type": "markdown",
   "id": "d204c917",
   "metadata": {},
   "source": [
    "* [Grajales Vanegas, L. M., Restrepo Estrada, C. E., Restrepo Ochoa, S. I., & Ruíz De Villalba, F. (2015). Matemáticas I para las ciencias económicas.](https://github.com/marco-canas/fundamentos_de_la_aritmetica/blob/main/referentes/2_grajales_logica/grajales_lina_matemticas.pdf)\n",
    "  \n",
    "* Duval, R. (2004). Semiosis y pensamiento humano: registros semióticos y aprendizajes intelectuales. Universidad del Valle.\n",
    "\n",
    "* [Aylwin, C. U. (2011). Lógica, conjuntos y números. Universidad de los Andes, Consejo de Publicaciones, Colección: Ciencias Básicas, Serie: Matemáticas.](https://github.com/marco-canas/fundamentos_logica/blob/main/referentes/2_uzcategui/uscategui.pdf)\n",
    "  \n",
    "* [Chollet, F. (2021). Deep learning with Python. Simon and Schuster.](https://github.com/marco-canas/didactica_ciencia_datos/blob/main/2_referentes/chollet/Fran%C3%A7ois%20Chollet%20-%20Deep%20Learning%20with%20Python-Manning%20(2018).pdf)  \n",
    "  \n",
    "* [Watson, S., Stewart, J., & Redlin, L. (2009). Precálculo. Matemáticas para el cálculo.](https://github.com/marco-canas/calculo/blob/main/referents/1_precalculo_stewart/stewart_precalculo.pdf)  \n",
    "\n",
    "* [Purcell, E. J., Varberg, D., & Rigdon, S. E. (2007). Cálculo diferencial e integral. Pearson Educación.](https://github.com/marco-canas/calculo/blob/main/referents/purcell/purcell_calculo.pdf)\n",
    "\n",
    "  \n",
    "\n",
    "* [stewart cálculo](https://udeaeduco-my.sharepoint.com/:b:/g/personal/marco_canas_udea_edu_co/EZgXZjAp8QxPqOAim2hs6LcBNPLGjSHf-xwYnUVYkwa04w?e=RZdTCy)  \n",
    "\n",
    "* [larson](https://udeaeduco-my.sharepoint.com/:b:/g/personal/marco_canas_udea_edu_co/ES71ChFeO9ZDhW3TwC5Ijk8BjxUK3Pdqz_fjHxTTFAfIAg?e=VDEjfu)\n",
    "\n",
    "\n",
    "\n",
    "* [Recomendación de la UNESCO sobre ciencia abierta](https://unesdoc.unesco.org/ark:/48223/pf0000379949_spa)\n",
    "\n",
    "* [chatGPT](https://openai.com/blog/chatgpt)  \n",
    "\n",
    "* [Géron, A. (2017). Hands-on machine learning with scikit-learn and tensorflow: Concepts. Tools, and Techniques to build intelligent systems.](chrome-extension://efaidnbmnnnibpcajpcglclefindmkaj/http://14.139.161.31/OddSem-0822-1122/Hands-On_Machine_Learning_with_Scikit-Learn-Keras-and-TensorFlow-2nd-Edition-Aurelien-Geron.pdf)   \n"
   ]
  },
  {
   "cell_type": "markdown",
   "id": "6b9e56a8",
   "metadata": {
    "slideshow": {
     "slide_type": "slide"
    }
   },
   "source": [
    "### [Evaluamos al profesor Marco Cañas Aquí](https://forms.office.com/Pages/ResponsePage.aspx?id=IefhmYRxjkmK_7KtTlPBwkanXIs1i1FEujpsZgO6dXpUREJPV1kxUk1JV1ozTFJIQVNIQjY5WEY3US4u)"
   ]
  },
  {
   "cell_type": "markdown",
   "id": "071afa04",
   "metadata": {
    "slideshow": {
     "slide_type": "slide"
    }
   },
   "source": [
    "## [Evaluación luego de alcanzar estos objetivos de aprendizaje]()"
   ]
  },
  {
   "cell_type": "markdown",
   "id": "10f43536",
   "metadata": {
    "slideshow": {
     "slide_type": "slide"
    }
   },
   "source": [
    "### Continue su aprendizaje en la siguiente clase a través del siguiente [vínculo]()"
   ]
  },
  {
   "cell_type": "markdown",
   "id": "af751e30",
   "metadata": {
    "slideshow": {
     "slide_type": "slide"
    }
   },
   "source": [
    "# Conjeturas pedagógicas fruto de la aplicación del modelo de aprendizaje invertido y del enfoque hacia la ciencia de datos con python\n",
    "\n",
    "1. Todo cálculo o resultado debe ser interpretado en una línea markdown del cuaderno Jupyter, inmediatamente después de la enunciación del resultado y después de la presentación de una tabla o gráfico bidimensional, de tal menera que el estudiante explicite la comprensión verbal del resultado y las inferencias o estrategias que este resultado le sugieren.   "
   ]
  }
 ],
 "metadata": {
  "celltoolbar": "Slideshow",
  "kernelspec": {
   "display_name": "Python 3",
   "language": "python",
   "name": "python3"
  },
  "language_info": {
   "codemirror_mode": {
    "name": "ipython",
    "version": 3
   },
   "file_extension": ".py",
   "mimetype": "text/x-python",
   "name": "python",
   "nbconvert_exporter": "python",
   "pygments_lexer": "ipython3",
   "version": "3.13.2"
  },
  "rise": {
   "enable_chalkboard": true,
   "theme": "sky",
   "transition": "zoom"
  }
 },
 "nbformat": 4,
 "nbformat_minor": 5
}

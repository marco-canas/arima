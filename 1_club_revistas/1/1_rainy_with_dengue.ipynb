{
 "cells": [
  {
   "cell_type": "markdown",
   "id": "dc06dec7",
   "metadata": {
    "slideshow": {
     "slide_type": "slide"
    }
   },
   "source": [
    "<table align=\"left\">\n",
    "  <td>\n",
    "    <a href=\"https://colab.research.google.com/github/marco-canas/investigacion_d/blob/main/1_club_de_revistas_tematico/1/1_An_Association%20between_Rainy_Days_with_Clinical_Dengue_Fever_in_Dhaka_Bangladesh_Findings_from_a_Hospital_Based_Study.ipynb\" target=\"_parent\"><img src=\"https://colab.research.google.com/assets/colab-badge.svg\" alt=\"Open In Colab\"/></a>\n",
    "  </td>\n",
    "  <td>\n",
    "    <a target=\"_blank\" href=\"https://kaggle.com/kernels/welcome?src=https://github.com/marco-canas/investigacion_d/blob/main/1_club_de_revistas_tematico/1/1_An_Association%20between_Rainy_Days_with_Clinical_Dengue_Fever_in_Dhaka_Bangladesh_Findings_from_a_Hospital_Based_Study.ipynb\"><img src=\"https://kaggle.com/static/images/open-in-kaggle.svg\" /></a>\n",
    "  </td>\n",
    "</table>"
   ]
  },
  {
   "cell_type": "markdown",
   "id": "e0c5b198",
   "metadata": {
    "slideshow": {
     "slide_type": "slide"
    }
   },
   "source": [
    "### [Video de apoyo a la lectura interactiva y experimental de este cuaderno]()"
   ]
  },
  {
   "cell_type": "markdown",
   "id": "41e82203",
   "metadata": {
    "slideshow": {
     "slide_type": "slide"
    }
   },
   "source": [
    "## [Vínculo al programa del curso de Machine Learning and deep learning for Time Series:  ](https://github.com/marco-canas/investigacion_d/blob/main/7_plan_curso_machine_learning_and_deep_learning_for_time_series/plan%20del%20curso_machine_learning_and_deep_learning_for_time_series.docx)\n",
    "\n"
   ]
  },
  {
   "cell_type": "markdown",
   "id": "d11ab06d",
   "metadata": {
    "slideshow": {
     "slide_type": "slide"
    }
   },
   "source": [
    "Un reconocimiento a mis estudiantes que han construido conmigo este saber pedagógico:\n",
    "\n",
    "<img src = 'https://github.com/marco-canas/didactica_ciencia_datos/blob/main/4_images/2_images_of_students/estefa_giovani_janis_marco_jullio.jpg?raw=true' width = 400> \n",
    "\n"
   ]
  },
  {
   "cell_type": "markdown",
   "id": "ae9860dc",
   "metadata": {},
   "source": [
    "# Cómo mejorar cada día la propuesta didáctica y pedagógica para enseñanza de la matemática\n"
   ]
  },
  {
   "cell_type": "markdown",
   "id": "1014ce5d",
   "metadata": {},
   "source": [
    "\n",
    "Para estructurar una propuesta pedagógica y didáctica centrada en: \n",
    "*  mostrar la matemática como un conjunto de **lenguajes** que ayudan a la comunicación científica y cotidiana, y \n",
    "* la promoción del inglés, el lenguaje Markdown, el lenguaje Latex, el lenguaje Python en los cuadernos Jupyter, y \n",
    "* adoptar un enfoque pedagógico de aula invertida y una metodología de clase basada en problemas (ABP),  \n",
    "  \n",
    "puedes seguir los siguientes pasos:\n"
   ]
  },
  {
   "cell_type": "markdown",
   "id": "19b90db0",
   "metadata": {},
   "source": [
    "\n",
    "1. **Diagnóstico de necesidades:**\n",
    "   - Realiza un análisis detallado de las necesidades y habilidades de los estudiantes en matemáticas, inglés y tecnología.\n",
    "   - Identifica las áreas de dificultad y las áreas en las que los estudiantes muestran interés.\n"
   ]
  },
  {
   "cell_type": "markdown",
   "id": "4a85e2ae",
   "metadata": {},
   "source": [
    "\n",
    "2. **Definición de objetivos:**\n",
    "   - Establece objetivos claros y alcanzables que integren el aprendizaje de matemáticas, inglés y tecnología.\n",
    "   - Los objetivos deben centrarse en mejorar la comprensión de conceptos matemáticos, desarrollar habilidades en inglés y fomentar la competencia en el uso de herramientas tecnológicas.\n"
   ]
  },
  {
   "cell_type": "markdown",
   "id": "c1174613",
   "metadata": {},
   "source": [
    "\n",
    "3. **Diseño de actividades y recursos:**\n",
    "   - Diseña actividades interactivas y colaborativas que permitan a los estudiantes explorar conceptos matemáticos a través del uso de cuadernos Jupyter, Python y Markdown.\n",
    "   - Incorpora lecturas y ejercicios en inglés relacionados con conceptos matemáticos para fortalecer el vocabulario y la comprensión del idioma.\n",
    "   - Utiliza recursos multimedia, como videos y tutoriales en línea, para apoyar el aprendizaje autónomo de los estudiantes.\n"
   ]
  },
  {
   "cell_type": "markdown",
   "id": "94eb1010",
   "metadata": {},
   "source": [
    "\n",
    "4. **Implementación del enfoque pedagógico de aula invertida:**\n",
    "   - Proporciona a los estudiantes acceso a materiales de aprendizaje antes de la clase, como cuadernos Jupyter con ejercicios y lecturas en inglés.\n",
    "   - Utiliza el tiempo en clase para actividades prácticas y colaborativas, donde los estudiantes puedan aplicar los conceptos aprendidos, resolver problemas y discutir en grupos.\n"
   ]
  },
  {
   "cell_type": "markdown",
   "id": "75dda2d1",
   "metadata": {},
   "source": [
    "\n",
    "5. **Metodología de clase basada en problemas (ABP):**\n",
    "   - Plantea problemas y desafíos relacionados con situaciones reales que requieran el uso de conceptos matemáticos, el inglés y la tecnología para su solución.\n",
    "   - Fomenta la participación activa de los estudiantes en la resolución de problemas, la discusión de estrategias y la presentación de soluciones.\n"
   ]
  },
  {
   "cell_type": "markdown",
   "id": "f5262339",
   "metadata": {},
   "source": [
    "\n",
    "6. **Evaluación y retroalimentación:**\n",
    "   - Implementa un sistema de evaluación formativa que permita monitorear el progreso de los estudiantes de manera continua.\n",
    "   - Proporciona retroalimentación individualizada y oportunidades para la reflexión sobre el aprendizaje y el desarrollo de habilidades.\n"
   ]
  },
  {
   "cell_type": "markdown",
   "id": "7bb4e865",
   "metadata": {},
   "source": [
    "\n",
    "7. **Mejora continua:**\n",
    "   - Recopila retroalimentación de los estudiantes y realiza ajustes en el plan de enseñanza según sea necesario.\n",
    "   - Mantente al tanto de las nuevas tendencias y herramientas en matemáticas, tecnología y enseñanza de idiomas para seguir mejorando la propuesta pedagógica y didáctica.\n"
   ]
  },
  {
   "cell_type": "markdown",
   "id": "4dbe7644",
   "metadata": {},
   "source": [
    "\n",
    "Al seguir estos pasos, podrás estructurar una propuesta pedagógica y didáctica efectiva que integre la enseñanza de matemáticas, inglés y tecnología, y promueva el aprendizaje significativo y el desarrollo de habilidades clave en los estudiantes de la licenciatura en matemáticas."
   ]
  },
  {
   "cell_type": "code",
   "execution_count": 2,
   "id": "7604880f",
   "metadata": {
    "slideshow": {
     "slide_type": "slide"
    }
   },
   "outputs": [
    {
     "ename": "ModuleNotFoundError",
     "evalue": "No module named 'pandas'",
     "output_type": "error",
     "traceback": [
      "\u001b[0;31m---------------------------------------------------------------------------\u001b[0m",
      "\u001b[0;31mModuleNotFoundError\u001b[0m                       Traceback (most recent call last)",
      "Cell \u001b[0;32mIn[2], line 3\u001b[0m\n\u001b[1;32m      1\u001b[0m \u001b[38;5;66;03m# Llamar a lista o tomar asistencia con python \u001b[39;00m\n\u001b[0;32m----> 3\u001b[0m \u001b[38;5;28;01mimport\u001b[39;00m \u001b[38;5;21;01mpandas\u001b[39;00m \u001b[38;5;28;01mas\u001b[39;00m \u001b[38;5;21;01mpd\u001b[39;00m \u001b[38;5;66;03m# convertir la lista de estudiantes en un dataframe\u001b[39;00m\n\u001b[1;32m      4\u001b[0m \u001b[38;5;28;01mimport\u001b[39;00m \u001b[38;5;21;01mnumpy\u001b[39;00m \u001b[38;5;28;01mas\u001b[39;00m \u001b[38;5;21;01mnp\u001b[39;00m \u001b[38;5;66;03m# elección aleatoria\u001b[39;00m\n\u001b[1;32m      6\u001b[0m \u001b[38;5;66;03m# Cargar la lista de estudiantes desde la URL\u001b[39;00m\n",
      "\u001b[0;31mModuleNotFoundError\u001b[0m: No module named 'pandas'"
     ]
    }
   ],
   "source": [
    "# Llamar a lista o tomar asistencia con python \n",
    "\n",
    "import pandas as pd # convertir la lista de estudiantes en un dataframe\n",
    "import numpy as np # elección aleatoria\n",
    "\n",
    "# Cargar la lista de estudiantes desde la URL\n",
    "url = 'https://raw.githubusercontent.com/marco-canas/groups_list/main/ml.csv'\n",
    "estudiantes = pd.read_csv(url) # convierte el csv en una dataframe\n",
    "\n",
    "# Convertir la columna 'Nombre' a una lista de Python\n",
    "lista_estudiantes = estudiantes['Nombre'].tolist()\n",
    "\n",
    "# Función para llamar a un estudiante aleatoriamente y registrar su nota de seguimiento\n",
    "def llamar_estudiante():\n",
    "    if lista_estudiantes:\n",
    "        estudiante_aleatorio = np.random.choice(lista_estudiantes)\n",
    "        print(f\"Llamando a {estudiante_aleatorio}...\")\n",
    "        lista_estudiantes.remove(estudiante_aleatorio)\n",
    "    else:\n",
    "        print(\"Se han llamado a todos los estudiantes del grupo completo.\")\n"
   ]
  },
  {
   "cell_type": "code",
   "execution_count": null,
   "id": "d60b2bf1",
   "metadata": {},
   "outputs": [
    {
     "name": "stdout",
     "output_type": "stream",
     "text": [
      "Llamando a marco julio...\n"
     ]
    }
   ],
   "source": [
    "\n",
    "# Llamar a la función para realizar el proceso\n",
    "llamar_estudiante()\n"
   ]
  },
  {
   "cell_type": "markdown",
   "id": "4f9d8cf9",
   "metadata": {
    "slideshow": {
     "slide_type": "slide"
    }
   },
   "source": [
    "# Modelo general de clase: [aula invertida](https://www3.gobiernodecanarias.org/medusa/ecoescuela/pedagotic/aprendizaje-invertido-flipped-classroom/)"
   ]
  },
  {
   "cell_type": "markdown",
   "id": "eb6ed03a",
   "metadata": {},
   "source": [
    "![Definamos flipped learning de manera gráfica](https://resources.maneuveringthemiddle.com/wp-content/uploads/2020/07/04212706/1-5.png)"
   ]
  },
  {
   "cell_type": "markdown",
   "id": "8d97dc80",
   "metadata": {
    "slideshow": {
     "slide_type": "slide"
    }
   },
   "source": [
    "## Fomento de la lectura literaria asociada a Ingeniería agropecuaria y licenciatura en Matemáticas\n",
    "\n"
   ]
  },
  {
   "cell_type": "markdown",
   "id": "96775931",
   "metadata": {
    "slideshow": {
     "slide_type": "slide"
    }
   },
   "source": [
    "## Título de la clase: Article: An Association between Rainy Days with Clinical Dengue Fever in Dhaka, Bangladesh: Findings from a Hospital Based Study\n",
    "\n",
    "[]()"
   ]
  },
  {
   "cell_type": "markdown",
   "id": "1d38dd4e",
   "metadata": {
    "slideshow": {
     "slide_type": "slide"
    }
   },
   "source": [
    "### Objetivo de aprendizaje (Enunciar, de manera corta sencilla y clara para todos los asistentes)\n",
    " De ahora en adelante, las clase tendran 4 objetivos de clase de acuerdo a las 4 dimensiones de mi práctica pedagógica\n",
    "\n",
    " \n"
   ]
  },
  {
   "cell_type": "markdown",
   "id": "1365025c",
   "metadata": {},
   "source": [
    "1. Conocimiento Teórico de Matemáticas\n",
    "\n",
    "Indicadores:\n",
    "\n",
    "* Comprensión de conceptos fundamentales de cálculo diferencial.\n",
    "* Capacidad para resolver ecuaciones diferenciales.\n",
    "* Habilidad para derivar funciones complejas.\n",
    "* Capacidad de leer, escribir e interpretar utilizando la notación y terminología matemática propia de esta clase.\n",
    "* Capacidad para aplicar resultados científicos en problemas.\n"
   ]
  },
  {
   "cell_type": "markdown",
   "id": "e56faf16-5278-4156-98ca-e8fac2180935",
   "metadata": {},
   "source": [
    "2. Habilidad en Programación con Python\n",
    "\n",
    "Indicadores:\n",
    "\n",
    "* Capacidad para escribir y ejecutar scripts básicos en Python.\n",
    "* Comprensión y uso de estructuras de control (condicionales, bucles).\n",
    "* Uso de funciones y módulos en Python.\n",
    "* Manejo de estructuras de datos (listas, diccionarios, tuplas).\n",
    "* Habilidad para depurar y solucionar errores en el código.\n",
    "* Uso de bibliotecas matemáticas como NumPy y SymPy."
   ]
  },
  {
   "cell_type": "markdown",
   "id": "8ca957be-fd66-4020-8d4e-7232386ea5c1",
   "metadata": {},
   "source": [
    "3. Pensamiento Computacional\n",
    "\n",
    "Indicadores:\n",
    "\n",
    "* Capacidad para descomponer problemas complejos en subproblemas manejables.\n",
    "* Habilidad para diseñar algoritmos eficientes para resolver problemas específicos.\n",
    "* Comprensión de la lógica detrás de las estructuras de control y su aplicación en la programación.\n",
    "* Capacidad para abstraer conceptos matemáticos en soluciones programables.\n",
    "* Habilidad para identificar y aplicar patrones en la resolución de problemas."
   ]
  },
  {
   "cell_type": "markdown",
   "id": "1a57907e",
   "metadata": {},
   "source": [
    "\n",
    "4. Aplicación de Matemáticas en Problemas Reales\n",
    "\n",
    "Indicadores:\n",
    "\n",
    "* Capacidad para modelar situaciones reales utilizando funciones matemáticas.\n",
    "    Habilidad para implementar soluciones matemáticas en código Python para resolver problemas prácticos.\n",
    "    Comprensión de cómo interpretar los resultados obtenidos mediante simulaciones o cálculos computacionales.\n",
    "    Uso de Python para la visualización de datos y resultados matemáticos.\n",
    "    Capacidad para integrar conocimientos matemáticos y de programación en proyectos interdisciplinarios."
   ]
  },
  {
   "cell_type": "markdown",
   "id": "540f0ec1",
   "metadata": {
    "slideshow": {
     "slide_type": "slide"
    }
   },
   "source": [
    "## Cuestionario para realizar labores de memorización, observación y síntesis de la información (Además de diagnóstico)  \n",
    "[Realizar encuesta para participacion de todos los estudiantes para diagnosticar presaberes para la clase: mentimeter](https://www.mentimeter.com/es-ES/education/lectures)\n",
    "\n",
    "1. ¿?\n",
    "2. ¿?\n",
    "3. ¿?\n",
    "4. ¿?\n",
    "5. ¿?"
   ]
  },
  {
   "cell_type": "markdown",
   "id": "8e457ea2",
   "metadata": {},
   "source": [
    "# Definiciones y Resultados científicos a comprender y memorizar \n",
    "\n",
    "[Primera grabación en Vocaroo]()"
   ]
  },
  {
   "cell_type": "markdown",
   "id": "ca7261b1",
   "metadata": {
    "slideshow": {
     "slide_type": "slide"
    }
   },
   "source": [
    "## Establecimiento de prerrequisitos conceptuales para alcanzar el objetivo de aprendizaje trazado.   \n",
    "\n",
    "(Elabore una lista de preguntas al rededor de los conceptos que consideres necesarios para empezar la clase).  \n",
    "\n",
    "1. \n",
    "2. \n",
    "3. "
   ]
  },
  {
   "cell_type": "markdown",
   "id": "2298e976",
   "metadata": {
    "slideshow": {
     "slide_type": "slide"
    }
   },
   "source": [
    "# Para el diseño de la clase tenga en cuenta algunos problemas de aprendizaje"
   ]
  },
  {
   "cell_type": "markdown",
   "id": "523d3acf",
   "metadata": {
    "slideshow": {
     "slide_type": "slide"
    }
   },
   "source": []
  },
  {
   "cell_type": "markdown",
   "id": "a40a4704",
   "metadata": {
    "slideshow": {
     "slide_type": "slide"
    }
   },
   "source": [
    "## Secuencia conceptual introductoria a la clase"
   ]
  },
  {
   "cell_type": "markdown",
   "id": "8853d874",
   "metadata": {},
   "source": [
    "## El componente histórico y epistemológico"
   ]
  },
  {
   "cell_type": "markdown",
   "id": "97cb775c-ad52-4e27-90a4-1006edbfc3ea",
   "metadata": {},
   "source": [
    "# Vocabulary  \n",
    "\n"
   ]
  },
  {
   "cell_type": "code",
   "execution_count": 9,
   "id": "0a8f3fda-8b13-4a66-b160-e11107be8197",
   "metadata": {},
   "outputs": [],
   "source": [
    "# Traducción del inglés al español con python\n",
    "\n",
    "def traducir(text):\n",
    "    from googletrans import Translator\n",
    "\n",
    "    translator = Translator()\n",
    "\n",
    "    # Traducir al español\n",
    "    translation = translator.translate(text, src='en', dest='es')\n",
    "    return translation.text"
   ]
  },
  {
   "cell_type": "code",
   "execution_count": 11,
   "id": "04a12f75-2da8-4fa7-9614-7f593a2557d0",
   "metadata": {},
   "outputs": [
    {
     "data": {
      "text/plain": [
       "'aplastar'"
      ]
     },
     "execution_count": 11,
     "metadata": {},
     "output_type": "execute_result"
    }
   ],
   "source": [
    "traducir('smash')"
   ]
  },
  {
   "cell_type": "code",
   "execution_count": 8,
   "id": "3db51219",
   "metadata": {},
   "outputs": [
    {
     "data": {
      "text/plain": [
       "'/home/marco/Documentos/investigaci/investigacion_d/3_images/Estudio sobre Dengue y Lluvias en Dhaka.pdf'"
      ]
     },
     "execution_count": 8,
     "metadata": {},
     "output_type": "execute_result"
    }
   ],
   "source": [
    "# mapa conceptual para cada clase  \n",
    "from graphviz import Digraph\n",
    "\n",
    "# Crear un objeto Digraph\n",
    "dot = Digraph(comment='Mapa Conceptual del Artículo')\n",
    "\n",
    "# Nodo principal\n",
    "dot.node('A', 'Estudio \\n sobre Dengue y \\n Lluvias en Dhaka')\n",
    "\n",
    "# Nodos secundarios\n",
    "dot.node('B', 'Introducción')\n",
    "dot.node('C', 'Métodos')\n",
    "dot.node('D', 'Resultados')\n",
    "dot.node('E', 'Conclusiones')\n",
    "\n",
    "# Conexiones principales\n",
    "dot.edges(['AB', 'AC', 'AD', 'AE'])\n",
    "\n",
    "# Detalles de la Introducción\n",
    "dot.node('B1', 'Dengue: \\n Enfermedad \\n febril')\n",
    "dot.node('B2', 'Transmisión: \\n Aedes aegypti y \\n Aedes albopictus')\n",
    "dot.node('B3', 'Estacionalidad y\\n  Clima')\n",
    "\n",
    "# Corregir las conexiones de la Introducción\n",
    "dot.edges([('B', 'B1'), ('B', 'B2'), ('B', 'B3')])\n",
    "\n",
    "# Detalles de los Métodos\n",
    "dot.node('C1', 'Zona-5, \\n DCC, Dhaka')\n",
    "dot.node('C2', 'Datos hospitalarios\\n (2005-2009)')\n",
    "dot.node('C3', 'Variables climáticas:\\n  Temperatura, Lluvia, Humedad')\n",
    "dot.node('C4', 'Modelos ARIMA y \\n Regresión de Poisson')\n",
    "\n",
    "# Conexiones de los Métodos\n",
    "dot.edges([('C', 'C1'), ('C', 'C2'), ('C', 'C3'), ('C', 'C4')])\n",
    "\n",
    "# Detalles de los Resultados\n",
    "dot.node('D1', 'Casos \\n hospitalizados: \\n 1902')\n",
    "dot.node('D2', 'Pico en Agosto')\n",
    "dot.node('D3', 'Días lluviosos \\n aumentan casos \\n en el mes siguiente')\n",
    "\n",
    "# Conexiones de los Resultados\n",
    "dot.edges([('D', 'D1'), ('D', 'D2'), ('D', 'D3')])\n",
    "\n",
    "# Detalles de las Conclusiones\n",
    "dot.node('E1', 'Dengue durante \\n todo el año')\n",
    "dot.node('E2', 'Asociación significativa con días lluviosos')\n",
    "dot.node('E3', 'Recomendación: \\n Iniciar campañas en Mayo')\n",
    "\n",
    "# Conexiones de las Conclusiones\n",
    "dot.edges([('E', 'E1'), ('E', 'E2'), ('E', 'E3')])\n",
    "\n",
    "\n",
    "# Guardar el grafo como un archivo de imagen\n",
    "dot.render(filename='Estudio sobre Dengue y Lluvias en Dhaka', format='png', cleanup=True, \\\n",
    "           directory='/home/marco/Documentos/investigaci/investigacion_d/3_images')\n",
    "\n",
    "dot.view()\n"
   ]
  },
  {
   "cell_type": "markdown",
   "id": "181ab032-16db-4259-8b73-d6e44d66d103",
   "metadata": {},
   "source": [
    "# Article: An Association between Rainy Days with Clinical Dengue Fever in Dhaka, Bangladesh: Findings from a Hospital Based Study  \n",
    "\n",
    "Artículo: Una asociación entre días lluviosos con fiebre clínica por Dengue en Dhaka, Bangladesh: hallazgos de un estudio en el hospital."
   ]
  },
  {
   "cell_type": "markdown",
   "id": "aec738e1",
   "metadata": {},
   "source": [
    "<img src = 'https://previews.123rf.com/images/peterhermesfurian/peterhermesfurian1708/peterhermesfurian170800017/84483319-mapa-pol%C3%ADtico-de-bangladesh-con-capital-dhaka-y-fronteras-etiquetado-en-ingl%C3%A9s-rep%C3%BAblica-popular.jpg'>"
   ]
  },
  {
   "cell_type": "code",
   "execution_count": 12,
   "id": "2da5b231-8b5b-40f7-80b5-9db4a62c1908",
   "metadata": {},
   "outputs": [
    {
     "data": {
      "text/plain": [
       "'Nuestro objetivo fue identificar la influencia de la variabilidad climática en la aparición del dengue clínico que requiere hospitalización en la Zona 5, un área de alta incidencia de la Corporación de la Ciudad de Dhaka (DCC), Bangladesh.'"
      ]
     },
     "execution_count": 12,
     "metadata": {},
     "output_type": "execute_result"
    }
   ],
   "source": [
    "traducir(\"\"\"We aimed to identify the influence of climatic variability on the occurrence of clinical dengue requiring hospitalization in Zone-5, a high incidence area of Dhaka City Corporation (DCC), Bangladesh.   \n",
    "\"\"\")"
   ]
  },
  {
   "cell_type": "markdown",
   "id": "10710a8d-7ccb-4a74-9c13-d2b80b18fa59",
   "metadata": {},
   "source": [
    "# Article: An Association between Rainy Days with Clinical Dengue Fever in Dhaka, Bangladesh: Findings from a Hospital Based Study"
   ]
  },
  {
   "cell_type": "markdown",
   "id": "45e9939b-8097-480d-9691-96331c2cf8d6",
   "metadata": {},
   "source": [
    "### Abstract:   "
   ]
  },
  {
   "cell_type": "markdown",
   "id": "0827a5bf-6b24-47fd-844b-97c98d63826f",
   "metadata": {},
   "source": [
    "Background: Dengue, a febrile illness, is caused by a Flavivirus transmitted by Aedes aegypti and Aedes albopictus mosquitoes. Climate influences the ecology of the vectors.   \n",
    "\n",
    "Antecedentes: el dengue, una enfermedad febril, es causada por un flavivirus transmitido por mosquitos Aedes aegypti y Aedes albopictus.El clima influye en la ecología de los vectores  \n",
    "\n",
    "<img src = 'https://encrypted-tbn0.gstatic.com/images?q=tbn:ANd9GcQ1B23JjIUrNEwVmsEbT3l6ksT34mKH8f8cdg&s'>"
   ]
  },
  {
   "cell_type": "markdown",
   "id": "8339d99c-b49c-4de0-97f9-22a028b8a35e",
   "metadata": {},
   "source": [
    "We aimed to identify the influence of climatic variability on the occurrence of clinical dengue requiring hospitalization in Zone-5, a high incidence area of Dhaka City Corporation (DCC), Bangladesh.   \n",
    "\n",
    "Nuestro objetivo fue identificar la influencia de la variabilidad climática en la aparición del dengue clínico que requiere hospitalización en la Zona 5, un área de alta incidencia de la Corporación de la Ciudad de Dhaka (DCC), Bangladesh."
   ]
  },
  {
   "cell_type": "markdown",
   "id": "60c143fc-d996-4154-9592-117116a0953a",
   "metadata": {},
   "source": [
    "Methods and Findings:  \n",
    "We retrospectively identified clinical dengue cases hospitalized from Zone-5 of DCC between 2005 and 2009. We extracted records of the four major catchment hospitals of the study area. The Bangladesh Meteorological Department (BMD) provided data on temperature, rainfall, and humidity of DCC for the study period.   \n",
    "\n",
    "'Métodos y hallazgos:  \n",
    "\n",
    "Identificamos retrospectivamente casos clínicos de dengue hospitalizados desde la zona 5 de DCC entre 2005 y 2009. Extrajimos registros de los cuatro hospitales de captación principales del área de estudio. El Departamento de Meteorología de Bangladesh (BMD) proporcionó datos sobre la temperatura, la lluvia y la humedad del DCC para el período de estudio.'\n"
   ]
  },
  {
   "cell_type": "code",
   "execution_count": null,
   "id": "30eec84a-1fbd-42b7-b5ef-c474dc0ac34a",
   "metadata": {},
   "outputs": [
    {
     "data": {
      "text/plain": [
       "'Utilizamos modelos de promedio móvil integrado autorregresivo (ARIMA) para el número de hospitalizaciones mensuales de dengue.También modelamos todas las variables climáticas usando la regresión de Poisson.Durante nuestro período de estudio, el dengue ocurrió durante todo el año en la zona 5 de DCC.'"
      ]
     },
     "execution_count": 12,
     "metadata": {},
     "output_type": "execute_result"
    }
   ],
   "source": [
    "traducir('''We used autoregressive integrated moving average (ARIMA) models for the number of monthly dengue hospitalizations. We also modeled all the climatic variables using Poisson regression. During our study period, dengue occurred throughout the year in Zone-5 of DCC.''')"
   ]
  },
  {
   "cell_type": "markdown",
   "id": "b8fa94c1-bc37-4d60-aac7-48eff03b559d",
   "metadata": {},
   "source": [
    "We used autoregressive integrated moving average (ARIMA) models for the number of monthly dengue hospitalizations. We also modeled all the climatic variables using Poisson regression. During our study period, dengue occurred throughout the year in Zone-5 of DCC.  \n",
    "\n",
    "'Utilizamos modelos de promedio móvil integrado autorregresivo (ARIMA) para el número de hospitalizaciones mensuales de dengue.También modelamos todas las variables climáticas usando la regresión de Poisson. Durante nuestro período de estudio, el dengue ocurrió durante todo el año en la zona 5 de DCC.'"
   ]
  },
  {
   "cell_type": "markdown",
   "id": "881f8fa6-6f4a-4fc8-bcd2-28fc7f5aecef",
   "metadata": {},
   "source": [
    "The median number of hospitalized dengue cases was 9 per month. Dengue incidence increased sharply from June, and reached its peak in August. One additional rainy day per month increased dengue cases in the succeeding month by 6% (RR = 1.06, 95% CI: 1.04–1.09).   \n",
    "\n",
    "El número medio de casos de dengue hospitalizados fue de 9 por mes. La incidencia del dengue aumentó bruscamente a partir de junio y alcanzó su punto máximo en agosto. Un día lluvioso adicional por mes aumentó los casos de dengue en el mes siguiente en un 6% (RR = 1.06, IC 95%: 1.04–1.09)."
   ]
  },
  {
   "cell_type": "code",
   "execution_count": 13,
   "id": "5cd5745d",
   "metadata": {},
   "outputs": [
    {
     "data": {
      "text/plain": [
       "'El número medio de casos de dengue hospitalizados fue de 9 por mes.La incidencia del dengue aumentó bruscamente a partir de junio y alcanzó su punto máximo en agosto.Un día lluvioso adicional por mes aumentó los casos de dengue en el mes siguiente en un 6% (RR = 1.06, IC 95%: 1.04–1.09).'"
      ]
     },
     "execution_count": 13,
     "metadata": {},
     "output_type": "execute_result"
    }
   ],
   "source": [
    "traducir(\"\"\"The median number of hospitalized dengue cases was 9 per month. Dengue incidence increased sharply from June, and reached its peak in August. One additional rainy day per month increased dengue cases in the succeeding month by 6% (RR = 1.06, 95% CI: 1.04–1.09).  \"\"\")"
   ]
  },
  {
   "cell_type": "markdown",
   "id": "a9fa7395-bebd-4416-a170-dd253eeff97b",
   "metadata": {},
   "source": [
    "Conclusions: Dengue is transmitted throughout the year in Zone-5 of DCC, with seasonal variation in incidence. The number of rainy days per month is significantly associated with dengue incidence in the subsequent month.  \n",
    "\n",
    "Conclusiones: el dengue se transmite durante todo el año en la zona 5 de DCC, con variación estacional en la incidencia. El número de días lluviosos por mes se asocia significativamente con la incidencia del dengue en el mes posterior."
   ]
  },
  {
   "cell_type": "code",
   "execution_count": 15,
   "id": "5f33587c",
   "metadata": {},
   "outputs": [
    {
     "data": {
      "text/plain": [
       "'Nuestro estudio sugiere el inicio de campañas en DCC para controlar el dengue y otras enfermedades transmitidas por mosquitos Aedes, incluida Chikunguniya del mes de mayo de cada año.Los datos de la lluvia de la BMD se pueden usar para determinar el tiempo de la campaña.'"
      ]
     },
     "execution_count": 15,
     "metadata": {},
     "output_type": "execute_result"
    }
   ],
   "source": [
    "traducir(\"\"\"Our study suggests the initiation of campaigns in DCC for controlling dengue and other Aedes mosquito borne diseases, including Chikunguniya from the month of May each year. BMD rainfall data may be used to determine campaign timing.  \"\"\")"
   ]
  },
  {
   "cell_type": "markdown",
   "id": "46bde9aa-9d72-4628-b86a-818ea00466c1",
   "metadata": {},
   "source": [
    "Our study suggests the initiation of campaigns in DCC for controlling dengue and other Aedes mosquito borne diseases, including Chikunguniya from the month of May each year. BMD rainfall data may be used to determine campaign timing.    \n",
    "\n",
    "Nuestro estudio sugiere el inicio de campañas en DCC para controlar el dengue y otras enfermedades transmitidas por mosquitos Aedes, incluida Chikunguniya del mes de mayo de cada año. Los datos de la lluvia de la BMD se pueden usar para determinar el tiempo de la campaña."
   ]
  },
  {
   "cell_type": "markdown",
   "id": "0b04ecec-2a8b-4cd9-a594-53390b133206",
   "metadata": {},
   "source": [
    "**Keywords:** dengue; seasonal variation; year-long transmission; climatic variability; rainfall; prediction; disease control campaigns  \n",
    "\n",
    "** Palabras clave: ** dengue; la variación estacional; transmisión de un año; variabilidad climática;lluvia; predicción; Campañas de control de enfermedades"
   ]
  },
  {
   "cell_type": "code",
   "execution_count": null,
   "id": "b1c892e3-6ff0-4e58-b06d-aae135b5b3e6",
   "metadata": {},
   "outputs": [
    {
     "data": {
      "text/plain": [
       "'** Palabras clave: ** dengue;la variación estacional;transmisión de un año;variabilidad climática;lluvia;predicción;Campañas de control de enfermedades'"
      ]
     },
     "execution_count": 13,
     "metadata": {},
     "output_type": "execute_result"
    }
   ],
   "source": [
    "traducir(\"\"\"**Keywords:** dengue; seasonal variation; year-long transmission; climatic variability; rainfall; prediction; disease control campaigns\"\"\")"
   ]
  },
  {
   "cell_type": "markdown",
   "id": "e40a2df3",
   "metadata": {},
   "source": [
    "# 1. Introduction\n"
   ]
  },
  {
   "cell_type": "markdown",
   "id": "f1fab119",
   "metadata": {},
   "source": [
    "Dengue is a febrile illness caused by dengue virus, a Flavivirus.   \n",
    "\n",
    "El dengue es una enfermedad febril causada por el virus del dengue, un flavivirus.\n",
    "\n",
    "Cuando se afirma que el dengue es una enfermedad febril, se quiere decir que el dengue se caracteriza por la presencia de fiebre alta. El término \"febril\" proviene de \"fiebre\" y se refiere a cualquier enfermedad o condición que causa un aumento de la temperatura corporal. En el caso del dengue, la fiebre es uno de los síntomas más comunes y suele ser alta, generalmente entre 39 y 40 grados Celsius, y puede durar de 2 a 7 días. Esta fiebre puede ir acompañada de otros síntomas como dolor de cabeza, dolor detrás de los ojos, dolores musculares y articulares, erupción cutánea y malestar general.    \n",
    "\n",
    "Cuando se dice que el virus del dengue es un flavivirus, se está clasificando al virus dentro de la familia de los **Flaviviridae** y al género **Flavivirus**. Esto implica ciertas características específicas sobre la estructura, genética y comportamiento del virus. Algunas de estas características incluyen:\n",
    "\n",
    "1. **Estructura del Virus**: Los flavivirus son virus de ARN monocatenario de sentido positivo. Esto significa que su material genético es una sola cadena de ARN que puede actuar directamente como ARN mensajero (ARNm) en las células infectadas.\n",
    "\n",
    "2. **Morfología**: Los flavivirus tienen una envoltura lipídica que rodea la cápside del virus. Esta envoltura está derivada de la membrana de la célula huésped y contiene proteínas virales importantes para la entrada del virus en nuevas células.\n",
    "\n",
    "3. **Ciclo de Vida**: Los flavivirus se replican en el citoplasma de las células del huésped. Utilizan las máquinas celulares del huésped para producir nuevas partículas virales.\n",
    "\n",
    "4. **Vectores**: Muchos flavivirus, incluido el virus del dengue, son transmitidos por artrópodos, como mosquitos y garrapatas. En el caso del dengue, el principal vector es el mosquito del género **Aedes**, especialmente **Aedes aegypti** y **Aedes albopictus**.\n",
    "\n",
    "5. **Enfermedades Asociadas**: Los flavivirus son responsables de varias enfermedades importantes, además del dengue. Otros ejemplos incluyen el virus del Zika, el virus de la fiebre amarilla, el virus del Nilo Occidental y el virus de la encefalitis japonesa.\n",
    "\n",
    "En resumen, al clasificar al virus del dengue como un flavivirus, se proporciona información sobre sus características biológicas, su modo de transmisión y su relación con otros virus similares."
   ]
  },
  {
   "cell_type": "code",
   "execution_count": 4,
   "id": "6394017c",
   "metadata": {},
   "outputs": [
    {
     "data": {
      "text/plain": [
       "'El virus es transmitido de persona a persona por los mosquitos Aedes aegypti y Aedes albopictus [1].Hay cuatro serotipos diferentes del virus del dengue: den 1, 2, 3 y 4. La infección confiere inmunidad de por vida al serotipo infectado.'"
      ]
     },
     "execution_count": 4,
     "metadata": {},
     "output_type": "execute_result"
    }
   ],
   "source": [
    "traducir('The virus is transmitted from person to person by the mosquitoes Aedes aegypti and Aedes albopictus [1]. There are four different serotypes of dengue virus: DEN 1, 2, 3, and 4. Infection confers lifelong immunity to the infecting serotype. ')"
   ]
  },
  {
   "cell_type": "markdown",
   "id": "fff579e6",
   "metadata": {},
   "source": [
    "The virus is transmitted from person to person by the mosquitoes Aedes aegypti and Aedes albopictus [1]. There are four different serotypes of dengue virus: DEN 1, 2, 3, and 4. Infection confers lifelong immunity to the infecting serotype.   \n",
    "\n",
    "El virus es transmitido de persona a persona por los mosquitos Aedes aegypti y Aedes albopictus [1].Hay cuatro serotipos diferentes del virus del dengue: den 1, 2, 3 y 4. La infección confiere inmunidad de por vida al serotipo infectado.  \n",
    "\n",
    "La frase \"La infección confiere inmunidad de por vida al serotipo infectado\" significa que una vez que una persona ha sido infectada por un determinado serotipo (una variante específica) de un patógeno, su sistema inmunológico desarrolla una protección duradera contra ese mismo serotipo. En otras palabras, si la persona se expone nuevamente a ese mismo serotipo en el futuro, su cuerpo estará preparado para combatir la infección y evitar que se desarrolle la enfermedad, debido a la memoria inmunológica que se ha formado.\n",
    "\n",
    "Este concepto es importante en el contexto de ciertas enfermedades infecciosas, donde la exposición a una cepa específica del virus o bacteria puede proporcionar una defensa permanente contra futuras infecciones por esa misma cepa."
   ]
  },
  {
   "cell_type": "markdown",
   "id": "e07e6cf9",
   "metadata": {},
   "source": [
    "Subsequent infection with a different serotype may result in dengue haemorrhagic fever (DHF) or dengue shock syndrome (DSS) [2–6].   \n",
    "\n",
    "La infección posterior con un serotipo diferente puede provocar fiebre hemorrágica de dengue (DHF) o síndrome de choque de dengue (DSS) [2–6]."
   ]
  },
  {
   "cell_type": "code",
   "execution_count": 5,
   "id": "7d1d4160",
   "metadata": {},
   "outputs": [
    {
     "data": {
      "text/plain": [
       "'La infección posterior con un serotipo diferente puede provocar fiebre hemorrágica de dengue (DHF) o síndrome de choque de dengue (DSS) [2–6].'"
      ]
     },
     "execution_count": 5,
     "metadata": {},
     "output_type": "execute_result"
    }
   ],
   "source": [
    "traducir('Subsequent infection with a different serotype may result in dengue haemorrhagic fever (DHF) or dengue shock syndrome (DSS) [2–6]. ')"
   ]
  },
  {
   "cell_type": "markdown",
   "id": "0b72d62e",
   "metadata": {},
   "source": [
    "The classical form of dengue is characterized by high fever with bone pains.   \n",
    "\n",
    "La forma clásica del dengue se caracteriza por fiebre alta con dolores de huesos."
   ]
  },
  {
   "cell_type": "code",
   "execution_count": 6,
   "id": "62bf4265",
   "metadata": {},
   "outputs": [
    {
     "data": {
      "text/plain": [
       "'La forma clásica del dengue se caracteriza por fiebre alta con dolores de huesos.'"
      ]
     },
     "execution_count": 6,
     "metadata": {},
     "output_type": "execute_result"
    }
   ],
   "source": [
    "traducir('The classical form of dengue is characterized by high fever with bone pains. ')"
   ]
  },
  {
   "cell_type": "markdown",
   "id": "9abe1004",
   "metadata": {},
   "source": [
    "Plasma leakage, with or without haemorrhage, is the primary pathogenic mechanism for severe dengue. In severe dengue, a patient’s condition becomes critical on days 3–7 of illness, when the associated high fever subsides [2].  \n",
    "\n",
    "La fuga de plasma, con o sin hemorragia, es el mecanismo patogénico primario para el dengue severo.En el dengue severo, la condición de un paciente se vuelve crítica en los días 3–7 de la enfermedad, cuando la fiebre alta asociada disminuye [2].\n"
   ]
  },
  {
   "cell_type": "code",
   "execution_count": 7,
   "id": "3b829a2d",
   "metadata": {},
   "outputs": [
    {
     "data": {
      "text/plain": [
       "'La fuga de plasma, con o sin hemorragia, es el mecanismo patogénico primario para el dengue severo.En el dengue severo, la condición de un paciente se vuelve crítica en los días 3–7 de la enfermedad, cuando la fiebre alta asociada disminuye [2].'"
      ]
     },
     "execution_count": 7,
     "metadata": {},
     "output_type": "execute_result"
    }
   ],
   "source": [
    "traducir('Plasma leakage, with or without haemorrhage, is the primary pathogenic mechanism for severe dengue. In severe dengue, a patient’s condition becomes critical on days 3–7 of illness, when the associated high fever subsides [2].')"
   ]
  },
  {
   "cell_type": "markdown",
   "id": "524a01c5",
   "metadata": {},
   "source": [
    "Global estimates of people at risk of dengue are between 2.5 and 3.6 billion, and annual cases of\n",
    "dengue are 50–390 million [3,7,8].     \n",
    "\n",
    "Las estimaciones globales de las personas en riesgo de dengue están entre 2.5 y 3.600 millones, y casos anuales de dengue tiene 50-390 millones [3,7,8]."
   ]
  },
  {
   "cell_type": "code",
   "execution_count": 18,
   "id": "3bd9679a",
   "metadata": {},
   "outputs": [
    {
     "data": {
      "text/plain": [
       "'Las tres cuartas partes de los casos de dengue provienen de la Organización Mundial de la Salud (OMS) Regiones del sudeste de Asia (SEA) y el Pacífico occidental [9].'"
      ]
     },
     "execution_count": 18,
     "metadata": {},
     "output_type": "execute_result"
    }
   ],
   "source": [
    "traducir('''Three-quarters of the dengue cases come from the World Health Organization (WHO) South-East Asia (SEA) and Western Pacific regions [9]. ''')"
   ]
  },
  {
   "cell_type": "markdown",
   "id": "b8edc47b",
   "metadata": {},
   "source": [
    "Around half a million dengue patients are hospitalized annually and case fatality is 2.5%.   \n",
    "\n",
    "Alrededor de medio millón de pacientes con dengue están hospitalizados anualmente y la muerte de casos es del 2.5%."
   ]
  },
  {
   "cell_type": "markdown",
   "id": "62b6abc1",
   "metadata": {},
   "source": [
    "Three-quarters of the dengue cases come from the World Health Organization (WHO) South-East Asia (SEA) and Western Pacific regions [9].   \n",
    "\n",
    "Las tres cuartas partes de los casos de dengue provienen de la Organización Mundial de la Salud (OMS) Regiones del sudeste de Asia (SEA) y el Pacífico occidental [9]."
   ]
  },
  {
   "cell_type": "markdown",
   "id": "748982ae",
   "metadata": {},
   "source": [
    "In 2000, 7 of the 11 SEA region countries reported 63,000 dengue cases in total. This number almost tripled in 2010, with a total of 187,000 reported dengue cases from 10 of the 11 SEA region countries [9].  \n",
    "\n",
    "\n",
    "En 2000, 7 de los 11 países de la Región del Sudeste de Asia (SEA) reportaron 63,000 casos de dengue en total.Este número casi se triplicó en 2010, con un total de 187,000 casos de dengue reportados de 10 de los 11 países de la región del mar [9]."
   ]
  },
  {
   "cell_type": "code",
   "execution_count": 22,
   "id": "43fcca7a",
   "metadata": {},
   "outputs": [
    {
     "data": {
      "text/plain": [
       "'Un brote de dengue en el año 2000 involucró más de 5000 casos entre julio y diciembre desde Dhaka, Khulna y Chittagong, con una tasa de mortalidad de caso de 1.7% [15].'"
      ]
     },
     "execution_count": 22,
     "metadata": {},
     "output_type": "execute_result"
    }
   ],
   "source": [
    "traducir('A dengue outbreak in the year 2000 involved more than 5000 cases between July and December from Dhaka, Khulna, and Chittagong, with a case fatality rate of 1.7% [15].  ')"
   ]
  },
  {
   "cell_type": "markdown",
   "id": "f71abfc3",
   "metadata": {},
   "source": [
    "Dengue has been reported to be occurring in Dhaka, the capital of Bangladesh, since the 1960s [10–12].   \n",
    "\n",
    "Se ha informado que el dengue está ocurriendo en Dhaka, la capital de Bangladesh, desde la década de 1960 [10-12]."
   ]
  },
  {
   "cell_type": "markdown",
   "id": "6943db94",
   "metadata": {},
   "source": [
    "Hospital based studies in Chittagong city during 1996–1997, and Rajshahi, Khulna, Sylhet, and Chittagong cities during 1999, concluded that 13–20% of febrile presentations were due to dengue [13,14].   \n",
    "\n",
    "Estudios de hospitales en la ciudad de Chittagong durante 1996-1997, y Rajshahi, Khulna, Sylhet y Chittagong Cities durante 1999, concluyeron que el 13-20% de las presentaciones febriles se debieron a dengue [13,14]."
   ]
  },
  {
   "cell_type": "markdown",
   "id": "364653c9",
   "metadata": {},
   "source": [
    "A dengue outbreak in the year 2000 involved more than 5000 cases between July and December from Dhaka, Khulna, and Chittagong, with a case fatality rate of 1.7% [15].   \n",
    "\n",
    "Un brote de dengue en el año 2000 involucró más de 5000 casos entre julio y diciembre desde Dhaka, Khulna y Chittagong, con una tasa de mortalidad de caso de 1.7% [15]."
   ]
  },
  {
   "cell_type": "markdown",
   "id": "83117da3",
   "metadata": {},
   "source": [
    "During that outbreak, In Dhaka, the highest number of cases was reported from the suburbs of Zone-5 of Dhaka City Corporation (DCC). This outbreak followed the introduction of a new serotype (DEN 3) of dengue virus from neighboring Myanmar [16,17].  \n",
    "\n",
    "Durante ese brote, en Dhaka, el mayor número de casos se informó de los suburbios de la Zona 5 de la Corporación de la Ciudad de Dhaka (DCC).Este brote siguió a la introducción de un nuevo serotipo (den 3) del virus del dengue del vecino Myanmar [16,17].\n"
   ]
  },
  {
   "cell_type": "code",
   "execution_count": 10,
   "id": "88d544a2",
   "metadata": {},
   "outputs": [
    {
     "data": {
      "text/plain": [
       "'Durante ese brote, en Dhaka, el mayor número de casos se informó de los suburbios de la Zona 5 de la Corporación de la Ciudad de Dhaka (DCC).Este brote siguió a la introducción de un nuevo serotipo (den 3) del virus del dengue del vecino Myanmar [16,17].'"
      ]
     },
     "execution_count": 10,
     "metadata": {},
     "output_type": "execute_result"
    }
   ],
   "source": [
    "traducir('''During that outbreak, In Dhaka, the highest number of cases was reported from the suburbs of Zone-5 of Dhaka City Corporation (DCC). This outbreak followed the introduction of a new serotype (DEN 3) of dengue virus from neighboring Myanmar [16,17].  \n",
    "''')"
   ]
  },
  {
   "cell_type": "markdown",
   "id": "61eccb87",
   "metadata": {},
   "source": [
    "Several studies have modeled dengue incidence over time in Dhaka, along with forecasting [18]\n",
    "and finding space-time clustering of dengue [19], testing its association with river level [20],\n",
    "environmental temperature with its daily fluctuation [21], temperature and rainfall [22] and the\n",
    "climatic factors combined [23].   \n",
    "\n",
    "Varios estudios han modelado la incidencia del dengue con el tiempo en Dhaka, junto con el pronóstico [18]y encontrar la agrupación de espacio-tiempo del dengue [19], probando su asociación con el nivel del río [20], temperatura ambiental con su fluctuación diaria [21], temperatura y lluvia [22] y Factores climáticos combinados [23]."
   ]
  },
  {
   "cell_type": "code",
   "execution_count": 8,
   "id": "822d0252",
   "metadata": {},
   "outputs": [
    {
     "data": {
      "text/plain": [
       "'Varios estudios han modelado la incidencia del dengue con el tiempo en Dhaka, junto con el pronóstico [18]\\ny encontrar la agrupación de espacio-tiempo del dengue [19], probando su asociación con el nivel del río [20],\\ntemperatura ambiental con su fluctuación diaria [21], temperatura y lluvia [22] y el\\nFactores climáticos combinados [23].'"
      ]
     },
     "execution_count": 8,
     "metadata": {},
     "output_type": "execute_result"
    }
   ],
   "source": [
    "traducir('''Several studies have modeled dengue incidence over time in Dhaka, along with forecasting [18]\n",
    "and finding space-time clustering of dengue [19], testing its association with river level [20],\n",
    "environmental temperature with its daily fluctuation [21], temperature and rainfall [22] and the\n",
    "climatic factors combined [23]. ''')"
   ]
  },
  {
   "cell_type": "markdown",
   "id": "8c7edf92",
   "metadata": {},
   "source": [
    "In our study, we explored the individual roles of the key ambient weather conditions—temperature, rainfall, and humidity—on the occurrence of dengue in Zone-5, a high incidence area of DCC.  \n",
    "\n",
    "En nuestro estudio, exploramos los roles individuales de las condiciones climáticas ambientales clave (temperatura, lluvia y humedad) en la aparición de dengue en la zona 5, un área de alta incidencia de DCC."
   ]
  },
  {
   "cell_type": "code",
   "execution_count": 9,
   "id": "ab8dcadd",
   "metadata": {},
   "outputs": [
    {
     "data": {
      "text/plain": [
       "'En nuestro estudio, exploramos los roles individuales de las condiciones climáticas ambientales clave (temperatura, lluvia y humedad) en la aparición de dengue en la zona 5, un área de alta incidencia de DCC.'"
      ]
     },
     "execution_count": 9,
     "metadata": {},
     "output_type": "execute_result"
    }
   ],
   "source": [
    "traducir('''In our study, we explored the individual roles of the key ambient weather conditions—temperature, rainfall, and humidity—on the occurrence of dengue in Zone-5, a high incidence area of DCC.''')"
   ]
  },
  {
   "cell_type": "markdown",
   "id": "bcd1cf03",
   "metadata": {},
   "source": [
    "# 2. Methods  \n"
   ]
  },
  {
   "cell_type": "markdown",
   "id": "475f55c8",
   "metadata": {},
   "source": [
    "## 2.1. Data Collection\n"
   ]
  },
  {
   "cell_type": "markdown",
   "id": "cf20a1dc",
   "metadata": {},
   "source": [
    "We included hospitalized dengue cases from Zone-5 of DCC between 2005 and 2009 in our analyses. "
   ]
  },
  {
   "cell_type": "markdown",
   "id": "6d5c6b81",
   "metadata": {},
   "source": [
    "A person diagnosed with dengue on discharge from the hospital was designated a study case. "
   ]
  },
  {
   "cell_type": "markdown",
   "id": "9323edb1",
   "metadata": {},
   "source": [
    "This diagnosis was made by the hospital clinicians. A trained data extraction team consisting of a study medical officer, a research officer, and research assistants, extracted dengue case records from four major catchment hospitals of Zone-5 of DCC, including Central Hospital, Bangladesh Medical College Hospital, Dhaka Medical College Hospital and Holy Family Red Crescent Medical College\n",
    "Hospital.   \n",
    "\n",
    "Este diagnóstico fue realizado por los médicos del hospital.Un equipo capacitado de extracción de datos que está compuesto por un oficial médico de estudio, un oficial de investigación y asistentes de investigación, extrajo registros de casos de dengue de cuatro hospitales de captación importantes de la Zona 5 de DCC, incluido el Hospital Central, Bangladesh Medical College Hospital, Dhaka Medical College Hospital y Hospital de Medical College Medical Red Family Red Family."
   ]
  },
  {
   "cell_type": "code",
   "execution_count": 24,
   "id": "fdc913c0",
   "metadata": {},
   "outputs": [
    {
     "data": {
      "text/plain": [
       "'El equipo de extracción de datos registró todos los archivos de pacientes desde el período de tiempo de estudio, identificó los casos y registró información sobre ellos utilizando un pro-forma.La extracción de registros del hospital se llevó a cabo en 2009 y 2010.'"
      ]
     },
     "execution_count": 24,
     "metadata": {},
     "output_type": "execute_result"
    }
   ],
   "source": [
    "traducir('The data extraction team searched all the patient files from the study time period, identified the cases, and recorded information on them using a pro-forma. The hospital record extraction was carried out in 2009 and 2010.')"
   ]
  },
  {
   "cell_type": "markdown",
   "id": "b5056069",
   "metadata": {},
   "source": [
    "The data extraction team searched all the patient files from the study time period, identified the cases, and recorded information on them using a pro-forma. The hospital record extraction was carried out in 2009 and 2010.\n",
    "\n",
    "\n",
    "El equipo de extracción de datos registró todos los archivos de pacientes desde el período de tiempo de estudio, identificó los casos y registró información sobre ellos utilizando un pro-forma.La extracción de registros del hospital se llevó a cabo en 2009 y 2010."
   ]
  },
  {
   "cell_type": "markdown",
   "id": "04f7968b",
   "metadata": {},
   "source": [
    "We obtained average daily weather data including temperature, rainfall and humidity recorded\n",
    "in the weather station of the Bangladesh Meteorological Department (BMD) located in Dhaka.\n",
    "2.2. Data Management and Analysis\n",
    "We calculated monthly dengue hospitalizations. The number of days per month with greater\n",
    "than 3 mm of rain, the 25th percentile of daily rainfall in a month, were counted. We derived monthly\n",
    "average of the daily mean temperature and percent relative humidity. We imputed missing valuesInt. J. Environ. Res. Public Health 2020, 17, 9506\n",
    "3 of 9\n",
    "for monthly average humidity in 2009, using the seasonal autoregressive integrated moving average\n",
    "(ARIMA) (1,0,0)(1,0,0)12 model as this provides minimum error among all univariate models.\n",
    "We used median polish to see the changes in number of dengue hospitalizations over months\n",
    "and years [24]. This is a robust method that additively fits data in a two-way layout. Median polish\n",
    "estimates the row effects and column effects on the overall median through an iterative process.\n",
    "We used the sequence of months in a year as rows, and different years in columns. The effects of\n",
    "years were translated to the trend, and the effects of months were translated to the seasonality of\n",
    "dengue hospitalizations.\n",
    "We used ARIMA models for the number of monthly dengue hospitalizations. We strictly followed\n",
    "the Box–Jenkins modeling strategy to select the parsimonious ARIMA models. First, we stabilized the\n",
    "mean and variance using suitable square root transformations for all the variables. We then identified\n",
    "the orders for the ARIMA, using the autocorrelation function (ACF) and partial autocorrelation function\n",
    "of the variables. For model selection, we also considered the minimum on the root mean squared\n",
    "forecast error (RMSFE) of the observed data and the Akike information criterion (AIC) [25].\n",
    "We modeled climatic variables using ARIMA models. After that we removed the self-explanatory\n",
    "part from the time series data by deducting the modeled variable from the observed variable, which was\n",
    "defined as “whitened variable”. We used the cross correlation function of the pre-whitened climate\n",
    "variables and the dengue hospitalizations to identify the lags of climate variables contributing to the\n",
    "variability of the dengue outcomes. We regressed the total dengue cases on the climatic parameters that\n",
    "were identified to be causally linked with the lagged climatic variable. We used Poisson regression to\n",
    "estimate the model parameters, assuming that the number of dengue cases follows Poisson distribution.\n",
    "2.3. Ethics\n",
    "The study was approved by the Research Review Committee and Ethical Review Committee of\n",
    "International Centre for Diarrhoeal Disease Research, Bangladesh (icddr,b). Written permission was\n",
    "obtained from the hospital authorities before doing the hospital record extractions. We purchased\n",
    "weather data from BMD."
   ]
  },
  {
   "cell_type": "markdown",
   "id": "5a4e89e4",
   "metadata": {},
   "source": [
    "# 3. Results  \n"
   ]
  },
  {
   "cell_type": "markdown",
   "id": "82a6ade3",
   "metadata": {},
   "source": [
    "\n",
    "A total of 1902 hospitalized patients with diagnosis of dengue from the Zone-5 catchment hospitals of DCC were included in the analysis. In those hospitals, there were a total of 324 cases in 2005, 701 cases in 2006, 198 cases in 2007, 355 cases in 2008, and 324 cases in 2009. We observed a seasonal\n",
    "pattern in dengue cases. The number of dengue cases rose sharply from June. It reached its peak in August and continued through September. After that, the frequency of dengue hospitalization declined. The dengue hospitalization occurred in the study area all through the months of the study years and we did not find any month where the hospitalization reached to zero (on average) (Figure 1). Median polish did not identify any trend of dengue incidence over the years, which was also reflected in the time series plot of dengue cases (Figure 2).\n",
    "\n",
    "\n",
    "En el análisis se incluyeron un total de 1902 pacientes hospitalizados con diagnóstico de dengue de los hospitales de captación de la zona 5 de DCC.En esos hospitales, hubo un total de 324 casos en 2005, 701 casos en 2006, 198 casos en 2007, 355 casos en 2008 y 324 casos en 2009. Observamos un patrón estacional en casos de dengue.El número de casos de dengue aumentó bruscamente a partir de junio.Llegó a su punto máximo en agosto y continuó hasta septiembre.Después de eso, la frecuencia de la hospitalización del dengue disminuyó.La hospitalización del dengue ocurrió en el área de estudio durante los meses de los años de estudio y no encontramos ningún mes en el que la hospitalización llegó a cero (en promedio) (Figura 1).El pulido mediano no identificó ninguna tendencia de la incidencia del dengue a lo largo de los años, lo que también se reflejó en la parcela de la serie temporal de los casos de dengue (Figura 2)."
   ]
  },
  {
   "cell_type": "code",
   "execution_count": 26,
   "id": "a140b020",
   "metadata": {},
   "outputs": [
    {
     "data": {
      "text/plain": [
       "'Siguiendo los criterios de selección del modelo Box -Jenkins [25], identificamos dos modelos adecuados que pueden explicar la incidencia mensual de dengue en esta región: (1) ARIMA estacional (1,0,1) (1,0,0) y 12 y(2) ARIMA estacional (2,0,0) (1,0,0) 12 para casos de dengue total transformados de raíz cuadrada.Entre los dos, el segundo modelo proporciona la varianza mínima de error, el error de pronóstico cuadrado medio (RMSFE) y el criterio mínimo de información de Akike (AIC).Ninguno de los modelos predijo estrechamente los patrones observados en años anteriores (Figura 3).'"
      ]
     },
     "execution_count": 26,
     "metadata": {},
     "output_type": "execute_result"
    }
   ],
   "source": [
    "traducir('Following the Box–Jenkins model selection criteria [25], we identified two suitable models which can explain the monthly incidence of dengue in this region: (1) Seasonal ARIMA(1,0,1)(1,0,0)12 and (2) Seasonal ARIMA(2,0,0)(1,0,0)12 for square root transformed total dengue cases. Between the two, the second model provides the minimum error variance, root mean squared forecast error (RMSFE), and minimum Akike information criterion (AIC). Neither model closely predicted the observed patterns in prior years (Figure 3).')"
   ]
  },
  {
   "cell_type": "markdown",
   "id": "e08fc49b",
   "metadata": {},
   "source": [
    "Following the Box–Jenkins model selection criteria [25], we identified two suitable models which\n",
    "can explain the monthly incidence of dengue in this region: (1) Seasonal ARIMA(1,0,1)(1,0,0)12 and\n",
    "(2) Seasonal ARIMA(2,0,0)(1,0,0)12 for square root transformed total dengue cases. Between the two,\n",
    "the second model provides the minimum error variance, root mean squared forecast error (RMSFE),\n",
    "and minimum Akike information criterion (AIC). Neither model closely predicted the observed\n",
    "patterns in prior years (Figure 3).\n",
    "The dengue cases in a particular month increased by 13% of the total incident cases of the same\n",
    "month of the previous year (Seasonal AR1 = 0.13). Overall the average square root incidence of\n",
    "dengue was 4/month implying 16 cases/month in the original scale (Table 1). We used seasonal models\n",
    "such as ARIMA(1,0,0)(1,0,0)12 for average temperature, ARIMA(0,0,0)(1,0,0)12 for humidity, ARIMA\n",
    "(1,0,0,)(1,0,0)12 for rainy days. While looking at the cross correlation function (see Supplementary Materials) of the total dengue cases, with all other climatic variables, we only observe a meaningful correlation with the 1st lag of total rainy days per month and total dengue.  \n",
    "\n",
    "Int. J. Environ.\n",
    "Res.\n",
    "Public\n",
    "Health\n",
    "2020,\n",
    "17, x\n",
    "4 of 10\n",
    "22\n",
    "-2 -2\n",
    "00\n",
    "Additive\n",
    "AdditiveEffect\n",
    "Effect\n",
    "The overall\n",
    "overallmedian\n",
    "median= =\n",
    "The\n",
    "33\n",
    "JFMA\n",
    "JFMA\n",
    "M\n",
    "J\n",
    "M\n",
    "J\n",
    "J\n",
    "Months\n",
    "A\n",
    "J\n",
    "S\n",
    "A\n",
    "O\n",
    "S\n",
    "N\n",
    "O\n",
    "D\n",
    "N\n",
    "D\n",
    "Months\n",
    "Figure 1. Median polish of the number of dengue cases over months during years 2005–2009 in Zone-\n",
    "Figure 1. Median polish of the number of dengue cases over months during years 2005–2009 in\n",
    "Figure\n",
    "1. Median\n",
    "of the number\n",
    "of dengue cases\n",
    "monthsthe\n",
    "during\n",
    "years\n",
    "2005–2009\n",
    "5 of Dhaka\n",
    "City polish\n",
    "Corporation,\n",
    "Dhaka, Bangladesh.\n",
    "Y-axisover\n",
    "represents\n",
    "monthly\n",
    "additive\n",
    "effectinofZone-\n",
    "Zone-5\n",
    "of\n",
    "Dhaka CityCorporation,\n",
    "Corporation,\n",
    "Dhaka,Bangladesh.\n",
    "Bangladesh.\n",
    "Y-axis\n",
    "representsthe\n",
    "the monthlyadditive\n",
    "additiveeffect\n",
    "effectofof\n",
    "5 of\n",
    "Dhaka City\n",
    "Dhaka,\n",
    "Y-axisroot\n",
    "represents\n",
    "hospitalized\n",
    "dengue cases to the\n",
    "overall median in square\n",
    "scale. X-axis monthly\n",
    "represents the months.\n",
    "hospitalized\n",
    "dengue\n",
    "cases\n",
    "to\n",
    "the\n",
    "overall\n",
    "median\n",
    "in\n",
    "square\n",
    "root\n",
    "scale.\n",
    "X-axis\n",
    "represents\n",
    "the\n",
    "months.\n",
    "To get the median\n",
    "a specific\n",
    "month,inadd\n",
    "the overall\n",
    "median\n",
    "to therepresents\n",
    "month’s effect\n",
    "hospitalized\n",
    "denguedengue\n",
    "cases cases\n",
    "to theinoverall\n",
    "median\n",
    "square\n",
    "root scale.\n",
    "X-axis\n",
    "the and\n",
    "months.\n",
    "To get\n",
    "the\n",
    "dengue\n",
    "in a the\n",
    "specific\n",
    "month,\n",
    "addof\n",
    "thedengue\n",
    "overall\n",
    "median\n",
    "to the\n",
    "month’s\n",
    "andand\n",
    "take\n",
    "9 cases\n",
    "the median\n",
    "square.\n",
    "For cases\n",
    "example,\n",
    "number\n",
    "cases\n",
    "in June\n",
    "is the\n",
    "(3 −month’s\n",
    "0)2 =effect\n",
    "Totake\n",
    "getmedian\n",
    "the\n",
    "dengue\n",
    "cases\n",
    "in\n",
    "amedian\n",
    "specific\n",
    "month,\n",
    "add\n",
    "the overall\n",
    "median\n",
    "to\n",
    "effect\n",
    "2 = 9 cases (approximately).\n",
    "the square.\n",
    "For\n",
    "example,\n",
    "the\n",
    "median\n",
    "number\n",
    "of\n",
    "dengue\n",
    "cases\n",
    "in\n",
    "June\n",
    "is\n",
    "(3\n",
    "−\n",
    "0)\n",
    "2\n",
    "(approximately).\n",
    "take\n",
    "the square. For example, the median number of dengue cases in June is (3 − 0) = 9 cases\n",
    "40\n",
    "50\n",
    "60\n",
    "1200\n",
    "800\n",
    "20\n",
    "30\n",
    "40\n",
    "50\n",
    "60\n",
    "0\n",
    "Months\n",
    "60\n",
    "Cloud cover (hours)\n",
    "75\n",
    "10\n",
    "20\n",
    "30\n",
    "40\n",
    "50\n",
    "60\n",
    "Months\n",
    "55\n",
    "65\n",
    "30\n",
    "30\n",
    "26\n",
    "221826\n",
    "Cloud cover (hours)\n",
    "65\n",
    "55\n",
    "75\n",
    "0\n",
    "10\n",
    "20\n",
    "30\n",
    "22\n",
    "Average temperature (°C)\n",
    "60\n",
    "40\n",
    "50\n",
    "60\n",
    "Months\n",
    "0\n",
    "7\n",
    "50\n",
    "0\n",
    "10\n",
    "20\n",
    "30\n",
    "40\n",
    "50\n",
    "60\n",
    "Months\n",
    "6\n",
    "40\n",
    "60\n",
    "5\n",
    "30\n",
    "Months\n",
    "50\n",
    "4\n",
    "20\n",
    "40\n",
    "3\n",
    "85\n",
    "10\n",
    "Average temperature (°C)\n",
    "5\n",
    "0\n",
    "30\n",
    "Months\n",
    "18\n",
    "60\n",
    "2\n",
    "50\n",
    "20\n",
    "7\n",
    "40\n",
    "1\n",
    "30\n",
    "Months\n",
    "10\n",
    "6\n",
    "10\n",
    "20\n",
    "10\n",
    "10\n",
    "0\n",
    "5\n",
    "30\n",
    "5\n",
    "0\n",
    "50\n",
    "20\n",
    "No.30\n",
    "of rainydays20\n",
    "40\n",
    "0\n",
    "10\n",
    "20\n",
    "30\n",
    "40\n",
    "50\n",
    "60\n",
    "4\n",
    "30\n",
    "Months\n",
    "Months\n",
    "3\n",
    "20\n",
    "0\n",
    "No. of rainydays\n",
    "10\n",
    "2\n",
    "10\n",
    "0\n",
    "85\n",
    "Average\n",
    "humidity (%)\n",
    "0\n",
    "1\n",
    "0\n",
    "Average humidity (%)\n",
    "1200\n",
    "400\n",
    "Total rainfall(mm)\n",
    "30\n",
    "Months\n",
    "800\n",
    "0\n",
    "20\n",
    "400\n",
    "Total rainfall(mm)\n",
    "250\n",
    "150\n",
    "50\n",
    "150No. of dengue\n",
    "250\n",
    "cases\n",
    "0\n",
    "10\n",
    "50\n",
    "0\n",
    "0\n",
    "No. of dengue cases\n",
    "(approximately).\n",
    "2. Monthly\n",
    "aggregated\n",
    "observationsfor\n",
    "for hospitalized\n",
    "hospitalized dengue\n",
    "cases\n",
    "from\n",
    "Zone-5\n",
    "and weather\n",
    "FigureFigure\n",
    "2. Monthly\n",
    "aggregated\n",
    "observations\n",
    "dengue\n",
    "cases\n",
    "from\n",
    "Zone-5\n",
    "and weather\n",
    "parameters from 2005 to 2009 in Dhaka city.\n",
    "parameters from 2005 to 2009 in Dhaka city.\n",
    "0\n",
    "10\n",
    "20\n",
    "30\n",
    "40\n",
    "50\n",
    "60\n",
    "0\n",
    "10\n",
    "20\n",
    "30\n",
    "Months\n",
    "40\n",
    "50\n",
    "60\n",
    "Months\n",
    "Following\n",
    "the Box–Jenkins\n",
    "model\n",
    "selection\n",
    "criteria\n",
    "[25],\n",
    "identified\n",
    "two\n",
    "suitable\n",
    "models\n",
    "which\n",
    "Figure\n",
    "2. 1.\n",
    "Monthly\n",
    "aggregated\n",
    "observations\n",
    "forestimates\n",
    "hospitalized\n",
    "dengue\n",
    "cases\n",
    "from\n",
    "Zone-5\n",
    "and\n",
    "weather\n",
    "Table\n",
    "ARIMA\n",
    "models and\n",
    "parameters\n",
    "forwe\n",
    "each\n",
    "of the\n",
    "variables\n",
    "under\n",
    "study.\n",
    "canparameters\n",
    "explain the\n",
    "monthly\n",
    "of dengue\n",
    "from\n",
    "2005 toincidence\n",
    "2009 in Dhaka\n",
    "city. in this region: (1) Seasonal ARIMA(1,0,1)(1,0,0)12 and\n",
    "Variables\n",
    "*\n",
    "Models 12 for square\n",
    "Intercept\n",
    "AR1 **\n",
    "AR2\n",
    "MA1cases.\n",
    "SAR1\n",
    "RMSFE\n",
    "(2) Seasonal\n",
    "ARIMA(2,0,0)(1,0,0)\n",
    "root transformed\n",
    "total dengue\n",
    "Between\n",
    "the two, AIC\n",
    "the\n",
    "second\n",
    "model\n",
    "provides\n",
    "the\n",
    "minimum\n",
    "error\n",
    "variance,\n",
    "root\n",
    "mean\n",
    "squared\n",
    "forecast\n",
    "error\n",
    "(RMSFE),\n",
    "Total Following\n",
    "Dengue\n",
    "ARIMA\n",
    "(1,0,1)(1,0,0)\n",
    "4.10 criteria\n",
    "0.64[25], we- identified\n",
    "0.35 two 0.27\n",
    "1.96\n",
    "263\n",
    "the\n",
    "Box–Jenkins\n",
    "model\n",
    "selection\n",
    "suitable models\n",
    "which\n",
    "12\n",
    "minimum\n",
    "Akike information\n",
    "Neither\n",
    "model\n",
    "closely\n",
    "observed12 257\n",
    "canand\n",
    "explain\n",
    "the monthly\n",
    "incidence12criterion\n",
    "of dengue\n",
    "in this\n",
    "region:\n",
    "(1) Seasonal\n",
    "ARIMA(1,0,1)(1,0,0)\n",
    "and\n",
    "ARIMA\n",
    "(2,0,0)(1,0,0)\n",
    "4.30(AIC).\n",
    "1.15\n",
    "−0.49\n",
    "- predicted\n",
    "0.13 the 1.86\n",
    "in ARIMA(2,0,0)(1,0,0)\n",
    "prior years (Figure 3).12 for square root transformed total dengue cases. Between the two,\n",
    "(2)patterns\n",
    "Seasonal\n",
    "Temperature\n",
    "ARIMA (1,0,0)(1,0,0)12\n",
    "5.10\n",
    "0.65\n",
    "-\n",
    "-\n",
    "0.84\n",
    "0.13\n",
    "−51.3\n",
    "the second modelARIMA\n",
    "provides\n",
    "the minimum 2.42\n",
    "error variance,\n",
    "root mean\n",
    "squared\n",
    "forecast\n",
    "error\n",
    "(RMSFE),\n",
    "(1,0, 0,)(1,0,0)12\n",
    "0.58\n",
    "-\n",
    "−0.13\n",
    "0.66\n",
    "0.92\n",
    "178.6\n",
    "and minimum Akike information criterion (AIC). Neither model closely predicted the observed\n",
    "Humidity\n",
    "4.29\n",
    "-\n",
    "-\n",
    "-\n",
    "0.8\n",
    "0.06\n",
    "−153\n",
    "patterns in prior years (Figure 3).\n",
    "Rainy days/month\n",
    "* The variable were reported in square root transformed scale. ** AR1—autoregression at 1 month lag; MA—moving\n",
    "average; SAR—seasonal autoregression.Int. J. Environ. Res. Public Health 2020, 17, 9506\n",
    "5 of 9\n",
    "0 5\n",
    "15\n",
    "5 of 10\n",
    "-10\n",
    "Sqrt(Dengue total)\n",
    "Int. J. Environ. Res. Public Health 2020, 17, x\n",
    "0\n",
    "20\n",
    "40\n",
    "6080\n",
    "6080\n",
    "15\n",
    "0 5\n",
    "-10\n",
    "Sqrt(Dengue total)\n",
    "ARIMA(1,0,1)(1,0,0)12\n",
    "0\n",
    "20\n",
    "40\n",
    "ARIMA(2,0,0)(1,0,0)12\n",
    "Figure\n",
    "Two seasonal\n",
    "ARIMA\n",
    "models\n",
    "monthlynumber\n",
    "numberof\n",
    "of dengue\n",
    "dengue cases\n",
    "years\n",
    "2005–\n",
    "Figure 3.\n",
    "Two3.seasonal\n",
    "ARIMA\n",
    "models\n",
    "for for\n",
    "thethe\n",
    "monthly\n",
    "casesduring\n",
    "during\n",
    "years\n",
    "2005–2009\n",
    "2009 in Zone-5 of Dhaka City Corporation, Dhaka, Bangladesh. X-axis indicates the index of the\n",
    "in Zone-5 of Dhaka City Corporation, Dhaka, Bangladesh. X-axis indicates the index of the months,\n",
    "months, and Y-axis indicates the total number of dengue cases in square root scale. The black line is\n",
    "and Y-axis\n",
    "indicates the total number of dengue cases in square root scale. The black line is the observed\n",
    "the observed cases and the red line is the modeled cases. The red line with pink region indicates the\n",
    "cases and\n",
    "the\n",
    "line\n",
    "is 20\n",
    "themonths\n",
    "modeled\n",
    "The red band\n",
    "line with\n",
    "pink region indicates the forecast of the\n",
    "forecastred\n",
    "of the\n",
    "next\n",
    "withcases.\n",
    "95% confidence\n",
    "for prediction.\n",
    "next 20 months with 95% confidence band for prediction.\n",
    "The dengue cases in a particular month increased by 13% of the total incident cases of the same\n",
    "the previous\n",
    "year (Seasonal\n",
    "0.13).dengue\n",
    "Overall the\n",
    "average\n",
    "square root including\n",
    "incidence ofone-month\n",
    "dengue\n",
    "Wemonth\n",
    "ran aofPoisson\n",
    "regression\n",
    "modelAR\n",
    "of1 =total\n",
    "with\n",
    "the covariates\n",
    "lag\n",
    "was 4/month\n",
    "implying\n",
    "cases/month\n",
    "thetotal\n",
    "original\n",
    "scale\n",
    "(Table\n",
    "We\n",
    "used seasonal\n",
    "models\n",
    "of dengue,\n",
    "seasonal\n",
    "lag of 16\n",
    "dengue,\n",
    "and in\n",
    "the\n",
    "rainy\n",
    "days\n",
    "in 1).\n",
    "the\n",
    "previous\n",
    "month.\n",
    "Tosuch\n",
    "control for\n",
    "as ARIMA(1,0,0)(1,0,0)12 for average temperature, ARIMA(0,0,0)(1,0,0)12 for humidity, ARIMA\n",
    "confounding due to temperature, we have included the average temperature in our model as covariate.\n",
    "(1,0,0,)(1,0,0)12 for rainy days. While looking at the cross correlation function (see Supplementary\n",
    "We observe\n",
    "that a one day increase in the total rainy days in a particular month increases the total\n",
    "Materials) of the total dengue cases, with all other climatic variables, we only observe a meaningful\n",
    "monthlycorrelation\n",
    "dengue cases\n",
    "by1st\n",
    "6%laginofthe\n",
    "succeeding\n",
    "month\n",
    "(RR\n",
    "= total\n",
    "1.06,dengue.\n",
    "95% CI: 1.04–1.09). We also observe\n",
    "with the\n",
    "total\n",
    "rainy days per\n",
    "month\n",
    "and\n",
    "an around 1% increase in dengue incidence due to a one unit increase in the previous month’s total\n",
    "Table\n",
    "1. ARIMA\n",
    "models\n",
    "and parameters\n",
    "estimates\n",
    "dengue cases (RR\n",
    "= 1.006,\n",
    "95%\n",
    "CI: 1.003,\n",
    "1.01) (Figure\n",
    "4).for each of the variables under study.\n",
    "Int. J. Environ. Res. Public Health 2020, 17, x\n",
    "Intercept\n",
    "4.10\n",
    "4.30\n",
    "5.10AR1 **\n",
    "0.64\n",
    "1.15\n",
    "0.65AR2\n",
    "-\n",
    "−0.49\n",
    "-MA1\n",
    "0.35\n",
    "-\n",
    "-SAR1\n",
    "0.27\n",
    "0.13\n",
    "0.84RMSFE\n",
    "1.96\n",
    "1.86\n",
    "0.13AIC\n",
    "263\n",
    "257\n",
    "−51.3\n",
    "ARIMA (1,0, 0,)(1,0,0)122.420.58-−0.130.660.92178.6\n",
    "4.29---0.80.06−153\n",
    "200\n",
    "Temperature\n",
    "Rainy\n",
    "days/month\n",
    "Humidity\n",
    "6 of 10\n",
    "Models\n",
    "ARIMA (1,0,1)(1,0,0)12\n",
    "ARIMA (2,0,0)(1,0,0)12\n",
    "ARIMA (1,0,0)(1,0,0)12\n",
    "300\n",
    "Variables *\n",
    "Total Dengue\n",
    "* The variable were reported in square root transformed scale. ** AR1—autoregression at 1 month lag;\n",
    "MA—moving average; SAR—seasonal autoregression.\n",
    "0\n",
    "100\n",
    "We ran a Poisson regression model of total dengue with the covariates including one-month lag\n",
    "of dengue, seasonal lag of dengue, and the total rainy days in the previous month. To control for\n",
    "confounding due to temperature, we have included the average temperature in our model as\n",
    "covariate. We observe that a one day increase in the total rainy days in a particular month increases\n",
    "the total monthly dengue cases by 6% in the succeeding month (RR = 1.06, 95% CI: 1.04–1.09). We also\n",
    "observe an around 1% increase in dengue incidence due to a one unit increase in the previous month’s\n",
    "0\n",
    "20\n",
    "60\n",
    "total dengue cases (RR\n",
    "= 1.006, 95% CI: 1.003,\n",
    "1.01)\n",
    "(Figure 4). 40\n",
    "Months\n",
    "predicted number of dengue\n",
    "Observed No. of dengue\n",
    "Figure 4. Prediction of total number of monthly dengue hospitalizations by Poisson regression model.\n",
    "Figure 4. Prediction\n",
    "of total number of monthly dengue hospitalizations by Poisson regression model."
   ]
  },
  {
   "cell_type": "markdown",
   "id": "a8ce8760",
   "metadata": {},
   "source": [
    "The dengue cases in a particular month increased by 13% of the total incident cases of the same month of the previous year (Seasonal AR1 = 0.13). Overall the average square root incidence of dengue was 4/month implying 16 cases/month in the original scale (Table 1). We used seasonal models such as ARIMA(1,0,0)(1,0,0)12 for average temperature, ARIMA$(0,0,0)(1,0,0)_{12}$ for humidity, ARIMA $(1,0,0,)(1,0,0)_{12}$ for rainy days. While looking at the cross correlation function (see Supplementary Materials) of the total dengue cases, with all other climatic variables, we only observe a meaningful correlation with the 1st lag of total rainy days per month and total dengue.    \n",
    "\n",
    "Los casos de dengue en un mes en particular aumentaron en el 13% de los casos de incidentes totales del mismo mes del año anterior (AR1 estacional = 0.13). En general, la incidencia promedio de la raíz cuadrada del dengue fue de 4/mes, lo que implica 16 casos/mes en la escala original (Tabla 1).Utilizamos modelos estacionales como ARIMA (1,0,0) (1,0,0) 12 para la temperatura promedio, ARIMA $ (0,0,0) (1,0,0) _ {12} $ para la humedad, ARIMA $(1,0,0,) (1,0,0)_ {12}$ para días lluviosos. Mientras observa la función de correlación cruzada (ver Materiales complementarios) de los casos totales de dengue, con todas las demás variables climáticas, solo observamos una correlación significativa con el primer retraso de los días lluviosos totales por mes y el dengue total.\n"
   ]
  },
  {
   "cell_type": "code",
   "execution_count": 27,
   "id": "43a18445",
   "metadata": {},
   "outputs": [
    {
     "data": {
      "text/plain": [
       "'Los casos de dengue en un mes en particular aumentaron en el 13% de los casos de incidentes totales del mismo mes del año anterior (AR1 estacional = 0.13).En general, la incidencia promedio de la raíz cuadrada del dengue fue de 4/mes, lo que implica 16 casos/mes en la escala original (Tabla 1).Utilizamos modelos estacionales como ARIMA (1,0,0) (1,0,0) 12 para la temperatura promedio, ARIMA $ (0,0,0) (1,0,0) _ {12} $ por humedad,ARIMA $ (1,0,0,) (1,0,0) _ {12} $ para días lluviosos.Mientras observa la función de correlación cruzada (ver Materiales complementarios) de los casos totales de dengue, con todas las demás variables climáticas, solo observamos una correlación significativa con el primer retraso de los días lluviosos totales por mes y el dengue total.'"
      ]
     },
     "execution_count": 27,
     "metadata": {},
     "output_type": "execute_result"
    }
   ],
   "source": [
    "traducir('The dengue cases in a particular month increased by 13% of the total incident cases of the same month of the previous year (Seasonal AR1 = 0.13). Overall the average square root incidence of dengue was 4/month implying 16 cases/month in the original scale (Table 1). We used seasonal models such as ARIMA(1,0,0)(1,0,0)12 for average temperature, ARIMA$(0,0,0)(1,0,0)_{12}$ for humidity, ARIMA $(1,0,0,)(1,0,0)_{12}$ for rainy days. While looking at the cross correlation function (see Supplementary Materials) of the total dengue cases, with all other climatic variables, we only observe a meaningful correlation with the 1st lag of total rainy days per month and total dengue.  ')"
   ]
  },
  {
   "cell_type": "markdown",
   "id": "51dd88f3",
   "metadata": {},
   "source": [
    "<img src = 'https://raw.githubusercontent.com/marco-canas/investigacion_d/main/1_club_de_revistas_tematico/1/fig_1.png?token=GHSAT0AAAAAACVGR7N4FFFLZ7EPQZX62TOYZVBC44Q'>"
   ]
  },
  {
   "cell_type": "markdown",
   "id": "47956535",
   "metadata": {},
   "source": [
    "Figure 1. Median polish of the number of dengue cases over months during years 2005–2009 in "
   ]
  },
  {
   "cell_type": "code",
   "execution_count": null,
   "id": "054a849e",
   "metadata": {},
   "outputs": [],
   "source": []
  },
  {
   "cell_type": "code",
   "execution_count": null,
   "id": "2e73ea0d",
   "metadata": {},
   "outputs": [],
   "source": []
  },
  {
   "cell_type": "code",
   "execution_count": null,
   "id": "26d60f76",
   "metadata": {},
   "outputs": [],
   "source": []
  },
  {
   "cell_type": "code",
   "execution_count": null,
   "id": "fe6fccc4",
   "metadata": {},
   "outputs": [],
   "source": []
  },
  {
   "cell_type": "markdown",
   "id": "0d152532",
   "metadata": {},
   "source": []
  },
  {
   "cell_type": "markdown",
   "id": "d39d91de-8987-4a08-be53-5e14f6b95467",
   "metadata": {},
   "source": [
    "## Agenda del club de revistas temático para este artículo"
   ]
  },
  {
   "cell_type": "markdown",
   "id": "a8239262-02de-47cf-80ab-a5c8daae3c92",
   "metadata": {},
   "source": [
    "### Agenda for Thematic Journal Club on \"An Association between Rainy Days with Clinical Dengue Fever in Dhaka, Bangladesh\""
   ]
  },
  {
   "cell_type": "markdown",
   "id": "18a4832b-462b-401d-8505-708a419f9cba",
   "metadata": {},
   "source": [
    "**Date:** July 24, 2024  \n",
    "**Time:** 2:00 PM  \n",
    "**Location:** [Entre a la reunión desde aquí]( https://meet.google.com/jpn-vacy-yve)   \n"
   ]
  },
  {
   "cell_type": "markdown",
   "id": "49e4839b",
   "metadata": {},
   "source": [
    "\n",
    "Seguimiento Proyecto SAT_Dengue.BCA y CR  \n",
    "Wednesday, July 24 · 2:00 – 3:00pm  \n",
    "Time zone: America/Bogota  \n",
    "Google Meet joining info  \n",
    "Video call link: https://meet.google.com/jpn-vacy-yve)  "
   ]
  },
  {
   "cell_type": "markdown",
   "id": "2f4e78ff-c6c1-44cf-aff3-e4994f037a67",
   "metadata": {},
   "source": [
    "#### 1. **Welcome and Introduction (10 minutes)**\n",
    "   - **Facilitator:** Marco Julio Cañas Campillo\n",
    "   - Brief introduction to the theme and importance of the study.\n",
    "# Introducción y Importancia del Estudio\n"
   ]
  },
  {
   "cell_type": "markdown",
   "id": "4e2a65b5",
   "metadata": {},
   "source": [
    "\n",
    "#### Introducción\n",
    "El estudio titulado \"An Association between Rainy Days with Clinical Dengue Fever in Dhaka, Bangladesh\" se centra en \n",
    "* explorar la relación entre la incidencia de la fiebre del dengue y los días lluviosos en Dhaka, Bangladesh. \n",
    "* El dengue es una enfermedad viral transmitida principalmente por mosquitos del género *Aedes*, especialmente *Aedes aegypti*. \n",
    "* La propagación del dengue está influenciada por factores ambientales, entre ellos las condiciones climáticas como la lluvia, que crean hábitats propicios para la reproducción de los mosquitos.\n"
   ]
  },
  {
   "cell_type": "markdown",
   "id": "99197ff5",
   "metadata": {},
   "source": [
    "\n",
    "#### Importancia del Estudio\n",
    "La importancia de este estudio radica en su contribución a la comprensión de los factores ambientales que afectan la propagación del dengue, lo cual es crucial para el desarrollo de estrategias de control y prevención. Identificar una correlación significativa entre los días lluviosos y la incidencia de la fiebre del dengue puede ayudar a las autoridades de salud pública a anticipar y mitigar los brotes de dengue, mejorando así la respuesta a la enfermedad y reduciendo su impacto en la población.\n",
    "   - Overview of the article: key objectives and findings.  \n",
    "   -  No encontré un resumen específico en el documento. Sin embargo, basándome en el contenido del artículo \"An Association between Rainy Days with Clinical Dengue Fever in Dhaka, Bangladesh\", aquí tienes un resumen con los objetivos y finalidades:\n"
   ]
  },
  {
   "cell_type": "markdown",
   "id": "292d729a",
   "metadata": {},
   "source": [
    "\n",
    "### Resumen del Artículo:\n",
    "\n",
    "#### Título: \n",
    "**An Association between Rainy Days with Clinical Dengue Fever in Dhaka, Bangladesh**\n",
    "\n",
    "#### Resumen:\n",
    "El estudio investiga la relación entre los días lluviosos y la incidencia de fiebre del dengue en Dhaka, Bangladesh. Utilizando datos climáticos y epidemiológicos, los investigadores analizaron cómo las precipitaciones afectan la aparición de casos de dengue en esta región urbana. La metodología incluye la recopilación de datos diarios de lluvia y la correlación con los casos clínicos de dengue reportados en hospitales locales. Los resultados indican una correlación significativa entre la cantidad de días lluviosos y el aumento en los casos de dengue, destacando la influencia del clima en la propagación de la enfermedad.\n",
    "\n",
    "#### Objetivos:\n",
    "1. **Determinar la relación** entre la cantidad de días lluviosos y la incidencia de casos de fiebre del dengue en Dhaka.\n",
    "2. **Analizar el impacto** de las precipitaciones en la propagación del dengue en un entorno urbano.\n",
    "3. **Identificar patrones climáticos** que puedan predecir brotes de dengue, ayudando a mejorar las estrategias de prevención y control.\n",
    "\n",
    "#### Finalidades:\n",
    "1. **Mejorar la comprensión** de los factores climáticos que influyen en la transmisión del dengue.\n",
    "2. **Proveer información útil** para las autoridades de salud pública y formuladores de políticas, facilitando la implementación de medidas preventivas más efectivas.\n",
    "3. **Contribuir al cuerpo de conocimientos** sobre la epidemiología del dengue, ofreciendo una base para futuros estudios en otras regiones con condiciones climáticas similares.\n",
    "\n",
    "Si necesitas información más detallada o específica, te recomiendo revisar el documento en secciones específicas que discuten la metodología y los resultados del estudio."
   ]
  },
  {
   "cell_type": "markdown",
   "id": "43f682c1-8046-4d2b-9ed9-7105c884fac5",
   "metadata": {},
   "source": [
    "<img src = 'https://ctl-plagas.com/wp-content/uploads/2018/10/esquema-mosquito-tigre.jpg' width = 800> "
   ]
  },
  {
   "cell_type": "markdown",
   "id": "ab32d27c-8eb8-4fae-934d-1a2603cb32ec",
   "metadata": {},
   "source": [
    "#### 2. **Article Presentation (20 minutes)**\n",
    "   - **Presenter:** Marco Cañas \n",
    "   - Detailed summary of the article:\n",
    "     - Background on dengue and its transmission.\n",
    "  \n"
   ]
  },
  {
   "cell_type": "markdown",
   "id": "e35940c4",
   "metadata": {},
   "source": [
    "\n",
    "### Antecedentes sobre el Dengue y su Transmisión\n",
    "\n",
    "El dengue es una enfermedad viral transmitida principalmente por mosquitos del género *Aedes*, particularmente *Aedes aegypti* y *Aedes albopictus*. Estos mosquitos son conocidos por reproducirse en áreas urbanas y periurbanas en recipientes que acumulan agua. La transmisión del virus del dengue ocurre cuando un mosquito infectado pica a una persona susceptible, introduciendo el virus en su sistema.\n",
    "\n",
    "#### Distribución y Frecuencia\n",
    "\n",
    "El dengue es endémico en más de 100 países y afecta a millones de personas anualmente. La enfermedad es más prevalente en regiones tropicales y subtropicales, donde las condiciones climáticas favorecen la supervivencia y proliferación de los mosquitos vectores.\n",
    "\n",
    "#### Factores Climáticos y Ambientales\n",
    "\n",
    "Varios estudios han mostrado que la transmisión del dengue está fuertemente influenciada por factores climáticos, particularmente la temperatura y la precipitación. Las lluvias intensas pueden aumentar la cantidad de criaderos de mosquitos, elevando así el riesgo de brotes de dengue. Sin embargo, las lluvias excesivas pueden también lavar estos criaderos, disminuyendo temporalmente la población de mosquitos.\n"
   ]
  },
  {
   "cell_type": "markdown",
   "id": "9e0a942d",
   "metadata": {},
   "source": [
    "\n",
    "### Importancia del Estudio\n",
    "\n",
    "El estudio realizado en Dhaka, Bangladesh, es crucial ya que proporciona evidencia empírica sobre la correlación entre los días lluviosos y la incidencia clínica de fiebre del dengue en un entorno urbano densamente poblado. Comprender esta relación puede ayudar en la planificación y ejecución de estrategias de control y prevención más efectivas, basadas en predicciones meteorológicas y patrones de lluvia, reduciendo así la carga de la enfermedad en la población.\n",
    "     - Study objectives and significance.\n",
    "     - ### Objetivos del Estudio\n",
    "\n",
    "El estudio \"An Association between Rainy Days with Clinical Dengue Fever in Dhaka, Bangladesh\" tiene los siguientes objetivos principales:\n",
    "\n",
    "1. **Investigar la Correlación entre Lluvias y Casos de Dengue**: Determinar si existe una relación significativa entre la cantidad de días lluviosos y la incidencia de fiebre del dengue en Dhaka.\n",
    "2. **Identificar Patrones Temporales**: Analizar los patrones temporales de la ocurrencia de dengue en relación con las precipitaciones para entender mejor la dinámica de transmisión de la enfermedad.\n",
    "3. **Desarrollar Modelos Predictivos**: Utilizar los datos obtenidos para crear modelos predictivos que puedan anticipar brotes de dengue basándose en las condiciones climáticas, especialmente las precipitaciones.\n",
    "4. **Informar Políticas de Salud Pública**: Proveer información valiosa a las autoridades de salud pública para mejorar las estrategias de control y prevención del dengue, incluyendo campañas de eliminación de criaderos y alertas tempranas en periodos de lluvias.\n"
   ]
  },
  {
   "cell_type": "markdown",
   "id": "ba7faf11",
   "metadata": {},
   "source": [
    "\n",
    "### Trascendencia del Estudio\n",
    "\n",
    "La importancia de este estudio radica en varios aspectos clave:\n",
    "\n",
    "1. **Mejor Comprensión de Factores Climáticos**: Aporta una comprensión más detallada de cómo las variables climáticas, en particular las lluvias, afectan la transmisión del dengue, lo que es crucial para áreas urbanas densamente pobladas como Dhaka.\n",
    "2. **Estrategias de Control y Prevención**: Los hallazgos pueden ser utilizados para diseñar intervenciones más efectivas y oportunas, optimizando los recursos y esfuerzos para controlar los brotes de dengue.\n",
    "3. **Modelos Predictivos**: El desarrollo de modelos predictivos basados en datos climáticos puede permitir a las autoridades sanitarias anticipar y mitigar brotes de dengue, reduciendo así la carga de la enfermedad.\n",
    "4. **Políticas Públicas**: Proporciona una base científica sólida para la formulación de políticas públicas orientadas a la prevención del dengue, lo que puede resultar en una mejor salud pública y menor impacto económico debido a la reducción de casos y hospitalizaciones.\n",
    "5. **Contribución a la Literatura Científica**: Añade valor a la literatura existente sobre la relación entre el clima y las enfermedades transmitidas por vectores, ofreciendo un estudio de caso específico y detallado que puede ser referenciado en futuras investigaciones.\n",
    "\n",
    "Estos objetivos y su trascendencia subrayan la importancia de este estudio para mejorar la salud pública y fortalecer las estrategias de respuesta ante el dengue en regiones propensas a esta enfermedad.  \n"
   ]
  },
  {
   "cell_type": "markdown",
   "id": "9fe9fb1c",
   "metadata": {},
   "source": [
    "\n",
    "# Methods used for data collection and analysis.\n",
    "  \n",
    "### Métodos Usados para la Obtención de los Datos, Análisis y Modelación\n",
    "\n",
    "#### Obtención de Datos\n",
    "\n",
    "**Datos de Casos de Dengue:**\n",
    "- **Fuente:** Se obtuvieron datos sobre los casos clínicos de dengue reportados en Dhaka de 2000 a 2009 de la Dirección General de Servicios de Salud de Bangladesh (DGHS).\n",
    "- **Detalles:** La información incluía el número diario de casos confirmados de dengue, recopilada en centros de salud y hospitales de Dhaka.\n",
    "\n",
    "**Datos Climáticos:**\n",
    "- **Fuente:** Los datos meteorológicos, especialmente los registros de precipitación diaria, se obtuvieron del Departamento Meteorológico de Bangladesh (BMD).\n",
    "- **Detalles:** Estos datos incluían la cantidad de lluvia registrada diariamente durante el mismo período (2000-2009).\n"
   ]
  },
  {
   "cell_type": "markdown",
   "id": "ffc6cc49",
   "metadata": {},
   "source": [
    "\n",
    "#### Análisis de Datos\n",
    "\n",
    "**Preparación de Datos:**\n",
    "- Los datos de dengue y precipitación se integraron en una base de datos común para facilitar el análisis conjunto.\n",
    "- Se llevaron a cabo procedimientos de limpieza de datos para manejar cualquier inconsistencia o valor faltante.\n",
    "\n",
    "**Análisis Descriptivo:**\n",
    "- Se realizaron análisis descriptivos para entender las tendencias y patrones en los datos de dengue y lluvia.\n",
    "- Se generaron gráficos de series temporales para visualizar la relación entre los días lluviosos y los casos de dengue.\n",
    "\n",
    "**Análisis Estadístico:**\n",
    "- **Correlación:** Se calcularon coeficientes de correlación de Pearson para evaluar la relación entre la cantidad de lluvia y los casos de dengue.\n",
    "- **Análisis de Rezagos:** Se llevó a cabo un análisis de rezagos (lags) para identificar si los efectos de la lluvia en los casos de dengue tienen un retraso temporal (e.g., lluvia hoy puede afectar los casos de dengue en las próximas semanas).\n",
    "\n",
    "#### Modelación\n",
    "\n",
    "**Modelos Predictivos:**\n",
    "- **Modelo ARIMA:** Se utilizó el modelo Autorregresivo Integrado de Media Móvil (ARIMA) para modelar la serie temporal de casos de dengue.\n",
    "  - **Configuración:** El modelo ARIMA fue configurado con parámetros (p, d, q) basados en el análisis de autocorrelación y parciales.\n",
    "  - **Variable Exógena:** Se incluyó la lluvia como una variable exógena para capturar su efecto en los casos de dengue.\n",
    "  \n",
    "- **Evaluación del Modelo:** \n",
    "  - **Validación Cruzada:** Se utilizó un enfoque de validación cruzada para evaluar el desempeño del modelo.\n",
    "  - **Medidas de Error:** Se calcularon el Error Cuadrático Medio (MSE) y otras métricas para evaluar la precisión de las predicciones del modelo.\n",
    "\n",
    "**Software y Herramientas Utilizadas:**\n",
    "- **Python:** Para el análisis de datos y modelación se utilizaron bibliotecas como `pandas`, `numpy`, `matplotlib` para la visualización, y `statsmodels` para la implementación del modelo ARIMA.\n",
    "- **R:** También se utilizaron herramientas en R para análisis estadístico avanzado y validación de resultados.\n",
    "\n",
    "### Proceso de Modelación con ARIMA\n",
    "\n",
    "1. **Carga de Datos:**\n",
    "   ```python\n",
    "   import pandas as pd\n",
    "   import numpy as np\n",
    "   import matplotlib.pyplot as plt\n",
    "   from statsmodels.tsa.statespace.sarimax import SARIMAX\n",
    "   from sklearn.metrics import mean_squared_error\n",
    "\n",
    "   # Cargar el dataset\n",
    "   data = pd.read_csv('dataset_dengue_lluvia.csv', parse_dates=['Fecha'], index_col='Fecha')\n",
    "   ```\n",
    "\n",
    "2. **Visualización de Datos:**\n",
    "   ```python\n",
    "   plt.figure(figsize=(12, 6))\n",
    "   plt.plot(data.index, data['Lluvia'], label='Lluvia (mm)')\n",
    "   plt.plot(data.index, data['Casos_Dengue'], label='Casos de Dengue')\n",
    "   plt.legend()\n",
    "   plt.title('Datos de Lluvia y Casos de Dengue')\n",
    "   plt.show()\n",
    "   ```\n",
    "\n",
    "3. **Preparación del Modelo:**\n",
    "   ```python\n",
    "   dengue_cases = data['Casos_Dengue']\n",
    "   rainfall = data['Lluvia']\n",
    "\n",
    "   # Dividir los datos en entrenamiento y prueba\n",
    "   train_size = int(len(dengue_cases) * 0.8)\n",
    "   train_cases, test_cases = dengue_cases[:train_size], dengue_cases[train_size:]\n",
    "   train_rain, test_rain = rainfall[:train_size], rainfall[train_size:]\n",
    "\n",
    "   # Ajustar el modelo ARIMAX\n",
    "   model = SARIMAX(train_cases, order=(5, 1, 0), exog=train_rain)\n",
    "   model_fit = model.fit(disp=False)\n",
    "   ```\n",
    "\n",
    "4. **Predicción y Evaluación:**\n",
    "   ```python\n",
    "   predictions = model_fit.forecast(steps=len(test_cases), exog=test_rain)\n",
    "\n",
    "   plt.figure(figsize=(12, 6))\n",
    "   plt.plot(train_cases.index, train_cases, label='Entrenamiento')\n",
    "   plt.plot(test_cases.index, test_cases, label='Prueba')\n",
    "   plt.plot(test_cases.index, predictions, label='Predicciones', color='red')\n",
    "   plt.legend()\n",
    "   plt.title('Predicción de Casos de Dengue usando ARIMAX')\n",
    "   plt.show()\n",
    "\n",
    "   mse = mean_squared_error(test_cases, predictions)\n",
    "   print(f'Error cuadrático medio: {mse:.2f}')\n",
    "   ```\n",
    "\n",
    "Este enfoque metodológico asegura un análisis riguroso y detallado de la relación entre las lluvias y los casos de dengue, proporcionando insights valiosos para la toma de decisiones en salud pública.  \n"
   ]
  },
  {
   "cell_type": "markdown",
   "id": "c113cfc3",
   "metadata": {},
   "source": [
    "\n",
    "# Key findings and conclusions.  \n",
    "\n",
    "### Hallazgos y Conclusiones Clave\n",
    "\n",
    "#### Hallazgos Principales\n",
    "\n",
    "1. **Relación entre Lluvias y Casos de Dengue:**\n",
    "   - Se observó una correlación significativa entre la cantidad de lluvia y el aumento en los casos de dengue en Dhaka.\n",
    "   - Los análisis de rezagos indicaron que los efectos de la lluvia en los casos de dengue se manifestaban con un retraso de aproximadamente 30 días. Esto sugiere que las lluvias crean condiciones favorables para la reproducción del mosquito vector Aedes aegypti, responsable de la transmisión del dengue.\n",
    "\n",
    "2. **Modelos Predictivos:**\n",
    "   - El modelo ARIMAX, que incorporó la lluvia como una variable exógena, proporcionó predicciones más precisas de los casos de dengue en comparación con los modelos que no consideraron la lluvia.\n",
    "   - Los resultados del modelo ARIMAX mostraron un ajuste adecuado a los datos históricos, capturando las tendencias y patrones observados en los casos de dengue.\n",
    "\n",
    "3. **Temporalidad y Estacionalidad:**\n",
    "   - Los análisis indicaron una clara estacionalidad en los casos de dengue, con picos durante y después de la temporada de lluvias.\n",
    "   - Las temporadas de lluvias intensas estuvieron asociadas con aumentos notables en los casos de dengue, subrayando la importancia de las condiciones climáticas en la dinámica de transmisión del dengue.\n",
    "\n",
    "#### Conclusiones Clave\n",
    "\n",
    "1. **Importancia de la Vigilancia Climática:**\n",
    "   - Los hallazgos subrayan la necesidad de una vigilancia climática continua para predecir y controlar los brotes de dengue.\n",
    "   - Integrar datos meteorológicos en los sistemas de alerta temprana puede mejorar significativamente la capacidad de respuesta y mitigación de los brotes de dengue.\n",
    "\n",
    "2. **Políticas de Salud Pública:**\n",
    "   - Las políticas de salud pública deben considerar la relación entre las lluvias y los brotes de dengue para implementar medidas preventivas durante las temporadas de lluvia.\n",
    "   - Estrategias como la eliminación de criaderos de mosquitos, campañas de concienciación pública y la preparación de servicios de salud pueden ser más efectivas si se basan en pronósticos climáticos.\n",
    "\n",
    "3. **Desarrollo de Modelos Predictivos:**\n",
    "   - El uso de modelos predictivos, como el ARIMAX, que incorporan variables exógenas climáticas, puede proporcionar herramientas valiosas para la planificación y la toma de decisiones en salud pública.\n",
    "   - Estos modelos pueden ayudar a identificar períodos de alto riesgo y permitir una asignación más eficiente de recursos para la prevención y control del dengue.\n",
    "\n",
    "4. **Investigaciones Futuras:**\n",
    "   - Se recomienda realizar investigaciones adicionales que exploren otras variables climáticas (temperatura, humedad) y su influencia en la transmisión del dengue.\n",
    "   - También se sugiere estudiar la efectividad de diferentes intervenciones de salud pública basadas en predicciones climáticas y epidemiológicas.\n",
    "\n",
    "En resumen, el estudio destaca la importancia de comprender la relación entre los factores climáticos y la transmisión del dengue. Al integrar datos meteorológicos en la vigilancia y el control del dengue, se pueden desarrollar estrategias más efectivas para prevenir y mitigar los brotes de esta enfermedad, mejorando así la salud pública y reduciendo la carga del dengue en comunidades vulnerables."
   ]
  },
  {
   "cell_type": "markdown",
   "id": "99ffcabe-6269-4621-960c-0980033a5808",
   "metadata": {},
   "source": []
  },
  {
   "cell_type": "markdown",
   "id": "8c193224-a707-47f6-8ec2-cf493c71499a",
   "metadata": {
    "jp-MarkdownHeadingCollapsed": true
   },
   "source": [
    "#### 3. **Discussion on Methodology (20 minutes)**\n",
    "   - **Moderator:** [Name]\n",
    "   - Analysis of the methodology:\n",
    "     - Retrospective identification of clinical cases.\n",
    "     - Data extraction from hospitals and the Bangladesh Meteorological Department.\n",
    "     - Use of ARIMA models and Poisson regression.\n",
    "   - Questions and comments from participants."
   ]
  },
  {
   "cell_type": "markdown",
   "id": "b6870610-dce3-4f71-9a25-a526cd8aae43",
   "metadata": {},
   "source": [
    "#### 4. **Key Findings and Their Implications (20 minutes)**\n",
    "   - **Moderator:** [Name]\n",
    "   - Discussion on the findings:\n",
    "     - Year-long transmission and seasonal variation.\n",
    "     - Association between rainy days and dengue incidence.\n",
    "     - Potential public health interventions.\n",
    "   - How the findings can inform dengue control campaigns in Dhaka."
   ]
  },
  {
   "cell_type": "markdown",
   "id": "dd167e63-75b9-4123-aebc-f421aebfd407",
   "metadata": {},
   "source": [
    "#### 5. **Related Studies and Broader Context (15 minutes)**\n",
    "   - **Discussion Leader:** [Name]\n",
    "   - Comparison with other studies on dengue and climate variability.\n",
    "   - Discussion on how these findings fit into the broader context of vector-borne diseases and climate change."
   ]
  },
  {
   "cell_type": "markdown",
   "id": "5747fe43-5cca-44d1-b0ee-b9fddeaea780",
   "metadata": {},
   "source": [
    "#### 6. **Practical Applications and Future Research (15 minutes)**\n",
    "   - **Moderator:** [Name]\n",
    "   - Strategies for implementing study findings in public health policies.\n",
    "   - Identification of gaps and suggestions for future research.\n",
    "   - Potential collaboration opportunities for further studies."
   ]
  },
  {
   "cell_type": "markdown",
   "id": "3ac66074-4544-40ee-a45f-d742fd0b3cfe",
   "metadata": {},
   "source": [
    "#### 7. **Open Forum and Q&A (15 minutes)**\n",
    "   - **Moderator:** [Name]\n",
    "   - Open floor for participants to ask questions and share their perspectives.\n",
    "   - Encouraging interdisciplinary insights and ideas."
   ]
  },
  {
   "cell_type": "markdown",
   "id": "674b5a4f-4470-402c-b8a9-4761a7cd79f7",
   "metadata": {},
   "source": [
    "#### 8. **Conclusion and Next Steps (10 minutes)**\n",
    "   - **Facilitator:** Marco Julio Cañas Campillo\n",
    "   - Summary of key points discussed.\n",
    "   - Plans for future journal club meetings.\n",
    "   - Distribution of additional reading materials and resources.\n",
    "   - Closing remarks and thank you to participants."
   ]
  },
  {
   "cell_type": "markdown",
   "id": "c3c4ac41-6a66-4eca-8923-06b4de27c4de",
   "metadata": {},
   "source": [
    "**Additional Notes:**\n",
    "- **Preparation:** Participants are encouraged to read the article in advance and prepare questions or discussion points.\n",
    "- **Materials:** Copies of the article, presentation slides, and relevant supplementary materials.\n",
    "\n",
    "---\n",
    "\n",
    "This agenda is designed to facilitate a comprehensive discussion on the article, engaging participants in critical analysis and application of the study's findings to public health practices."
   ]
  },
  {
   "cell_type": "markdown",
   "id": "cc725fbe-2d58-4c8b-8c13-1beb8593f97f",
   "metadata": {},
   "source": [
    "# Experimentación o replica de lo presentado en el artículo anterior  \n",
    "\n"
   ]
  },
  {
   "cell_type": "markdown",
   "id": "e3ea8254-9b1e-4834-b359-421e5a8eeb90",
   "metadata": {},
   "source": [
    "Vamos a generar un dataset artificial que simule datos de lluvia y casos de dengue, luego aplicaremos el algoritmo ARIMA para modelar estos datos.\n",
    "\n",
    "Primero, el código para generar el dataset artificial y guardarlo como un archivo `.csv`:"
   ]
  },
  {
   "cell_type": "code",
   "execution_count": 6,
   "id": "a3170210-0734-4456-8d54-4f4bfb8a71d7",
   "metadata": {},
   "outputs": [
    {
     "name": "stderr",
     "output_type": "stream",
     "text": [
      "/tmp/ipykernel_8269/4185687657.py:7: FutureWarning: 'M' is deprecated and will be removed in a future version, please use 'ME' instead.\n",
      "  dates = pd.date_range(start=\"2000-01-01\", end=\"2009-12-31\", freq = 'M')\n"
     ]
    },
    {
     "data": {
      "text/plain": [
       "DatetimeIndex(['2000-01-31', '2000-02-29', '2000-03-31', '2000-04-30',\n",
       "               '2000-05-31', '2000-06-30', '2000-07-31', '2000-08-31',\n",
       "               '2000-09-30', '2000-10-31',\n",
       "               ...\n",
       "               '2009-03-31', '2009-04-30', '2009-05-31', '2009-06-30',\n",
       "               '2009-07-31', '2009-08-31', '2009-09-30', '2009-10-31',\n",
       "               '2009-11-30', '2009-12-31'],\n",
       "              dtype='datetime64[ns]', length=120, freq='ME')"
      ]
     },
     "execution_count": 6,
     "metadata": {},
     "output_type": "execute_result"
    }
   ],
   "source": [
    "# librerías necesarias para crear una serie de tiempo artificial. \n",
    "import pandas as pd\n",
    "import numpy as np\n",
    "import datetime\n",
    "\n",
    "# Generar un rango de fechas diarias\n",
    "dates = pd.date_range(start=\"2000-01-01\", end=\"2009-12-31\", freq = 'M')\n",
    "dates \n"
   ]
  },
  {
   "cell_type": "markdown",
   "id": "618113d4",
   "metadata": {},
   "source": []
  },
  {
   "cell_type": "code",
   "execution_count": null,
   "id": "030fcd0a",
   "metadata": {},
   "outputs": [],
   "source": [
    "\n",
    "# Generar datos de lluvia aleatorios\n",
    "np.random.seed(42)\n",
    "rainfall = np.random.poisson(lam=5, size=len(dates))  # Media de 5 mm de lluvia diaria\n",
    "\n",
    "# Generar datos de casos de dengue con cierto retraso\n",
    "cases = np.random.poisson(lam=2, size=len(dates))\n",
    "for i in range(30, len(cases)):\n",
    "    cases[i] += int(0.3 * rainfall[i-30])  \n",
    "    # Supongamos que el 30% de la lluvia afecta los casos de dengue 30 días después\n",
    "\n",
    "# Crear un DataFrame\n",
    "data = pd.DataFrame({'Fecha': dates, 'Lluvia': rainfall, 'Casos_Dengue': cases})\n",
    "\n",
    "# Guardar el DataFrame como archivo .csv\n",
    "data.to_csv('dataset_dengue_lluvia.csv', index=True)"
   ]
  },
  {
   "cell_type": "code",
   "execution_count": 2,
   "id": "2fdc2c34",
   "metadata": {},
   "outputs": [
    {
     "data": {
      "text/html": [
       "<div>\n",
       "<style scoped>\n",
       "    .dataframe tbody tr th:only-of-type {\n",
       "        vertical-align: middle;\n",
       "    }\n",
       "\n",
       "    .dataframe tbody tr th {\n",
       "        vertical-align: top;\n",
       "    }\n",
       "\n",
       "    .dataframe thead th {\n",
       "        text-align: right;\n",
       "    }\n",
       "</style>\n",
       "<table border=\"1\" class=\"dataframe\">\n",
       "  <thead>\n",
       "    <tr style=\"text-align: right;\">\n",
       "      <th></th>\n",
       "      <th>Fecha</th>\n",
       "      <th>Lluvia</th>\n",
       "      <th>Casos_Dengue</th>\n",
       "    </tr>\n",
       "  </thead>\n",
       "  <tbody>\n",
       "    <tr>\n",
       "      <th>0</th>\n",
       "      <td>2005-01-01</td>\n",
       "      <td>5</td>\n",
       "      <td>1</td>\n",
       "    </tr>\n",
       "    <tr>\n",
       "      <th>1</th>\n",
       "      <td>2005-01-02</td>\n",
       "      <td>4</td>\n",
       "      <td>3</td>\n",
       "    </tr>\n",
       "    <tr>\n",
       "      <th>2</th>\n",
       "      <td>2005-01-03</td>\n",
       "      <td>4</td>\n",
       "      <td>2</td>\n",
       "    </tr>\n",
       "    <tr>\n",
       "      <th>3</th>\n",
       "      <td>2005-01-04</td>\n",
       "      <td>5</td>\n",
       "      <td>2</td>\n",
       "    </tr>\n",
       "    <tr>\n",
       "      <th>4</th>\n",
       "      <td>2005-01-05</td>\n",
       "      <td>5</td>\n",
       "      <td>1</td>\n",
       "    </tr>\n",
       "    <tr>\n",
       "      <th>...</th>\n",
       "      <td>...</td>\n",
       "      <td>...</td>\n",
       "      <td>...</td>\n",
       "    </tr>\n",
       "    <tr>\n",
       "      <th>1821</th>\n",
       "      <td>2009-12-27</td>\n",
       "      <td>5</td>\n",
       "      <td>6</td>\n",
       "    </tr>\n",
       "    <tr>\n",
       "      <th>1822</th>\n",
       "      <td>2009-12-28</td>\n",
       "      <td>10</td>\n",
       "      <td>3</td>\n",
       "    </tr>\n",
       "    <tr>\n",
       "      <th>1823</th>\n",
       "      <td>2009-12-29</td>\n",
       "      <td>5</td>\n",
       "      <td>1</td>\n",
       "    </tr>\n",
       "    <tr>\n",
       "      <th>1824</th>\n",
       "      <td>2009-12-30</td>\n",
       "      <td>7</td>\n",
       "      <td>3</td>\n",
       "    </tr>\n",
       "    <tr>\n",
       "      <th>1825</th>\n",
       "      <td>2009-12-31</td>\n",
       "      <td>6</td>\n",
       "      <td>1</td>\n",
       "    </tr>\n",
       "  </tbody>\n",
       "</table>\n",
       "<p>1826 rows × 3 columns</p>\n",
       "</div>"
      ],
      "text/plain": [
       "          Fecha  Lluvia  Casos_Dengue\n",
       "0    2005-01-01       5             1\n",
       "1    2005-01-02       4             3\n",
       "2    2005-01-03       4             2\n",
       "3    2005-01-04       5             2\n",
       "4    2005-01-05       5             1\n",
       "...         ...     ...           ...\n",
       "1821 2009-12-27       5             6\n",
       "1822 2009-12-28      10             3\n",
       "1823 2009-12-29       5             1\n",
       "1824 2009-12-30       7             3\n",
       "1825 2009-12-31       6             1\n",
       "\n",
       "[1826 rows x 3 columns]"
      ]
     },
     "execution_count": 2,
     "metadata": {},
     "output_type": "execute_result"
    }
   ],
   "source": [
    "data "
   ]
  },
  {
   "cell_type": "markdown",
   "id": "b44dd28e-dabb-4811-98ed-e3cbd3038dce",
   "metadata": {},
   "source": [
    "Este código crea un rango de fechas diarias desde el 1 de enero de 2005 hasta el 31 de diciembre de 2009. Luego genera datos aleatorios de lluvia y casos de dengue, y guarda estos datos en un archivo `.csv`."
   ]
  },
  {
   "cell_type": "markdown",
   "id": "149f36c7-2045-460b-a3de-4001e05c831d",
   "metadata": {},
   "source": [
    "A continuación, el código para la modelación con el algoritmo ARIMA aplicado a este dataset:"
   ]
  },
  {
   "cell_type": "code",
   "execution_count": 32,
   "id": "d329a117-9799-4a38-a2f8-ae15ee2b198c",
   "metadata": {
    "jp-MarkdownHeadingCollapsed": true
   },
   "outputs": [
    {
     "data": {
      "image/png": "[encoded data removed]",
      "text/plain": [
       "<Figure size 1200x600 with 1 Axes>"
      ]
     },
     "metadata": {},
     "output_type": "display_data"
    }
   ],
   "source": [
    "import pandas as pd\n",
    "import matplotlib.pyplot as plt\n",
    "from statsmodels.tsa.arima.model import ARIMA\n",
    "\n",
    "# Cargar el dataset\n",
    "data = pd.read_csv('dataset_dengue_lluvia.csv', parse_dates=['Fecha'], index_col='Fecha')\n",
    "\n",
    "# Visualización de los datos\n",
    "plt.figure(figsize=(12, 6))\n",
    "plt.plot(data['Lluvia'], 'b.', label='Lluvia (mm)' )\n",
    "plt.plot(data['Casos_Dengue'],'g.', label='Casos de Dengue')\n",
    "plt.legend()\n",
    "plt.title('Datos de Lluvia y Casos de Dengue')\n",
    "plt.show()"
   ]
  },
  {
   "cell_type": "code",
   "execution_count": 3,
   "id": "dc144a1c-cffd-4abe-aa3b-254018be20a9",
   "metadata": {
    "jp-MarkdownHeadingCollapsed": true,
    "scrolled": true
   },
   "outputs": [
    {
     "data": {
      "image/png": "[encoded data removed]",
      "text/plain": [
       "<Figure size 1200x600 with 1 Axes>"
      ]
     },
     "metadata": {},
     "output_type": "display_data"
    },
    {
     "name": "stderr",
     "output_type": "stream",
     "text": [
      "/home/marco/Documentos/investigaci/investigacion_d/.venv/lib/python3.10/site-packages/statsmodels/tsa/base/tsa_model.py:473: ValueWarning: No frequency information was provided, so inferred frequency D will be used.\n",
      "  self._init_dates(dates, freq)\n",
      "/home/marco/Documentos/investigaci/investigacion_d/.venv/lib/python3.10/site-packages/statsmodels/tsa/base/tsa_model.py:473: ValueWarning: No frequency information was provided, so inferred frequency D will be used.\n",
      "  self._init_dates(dates, freq)\n"
     ]
    },
    {
     "data": {
      "image/png": "[encoded data removed]",
      "text/plain": [
       "<Figure size 1200x600 with 1 Axes>"
      ]
     },
     "metadata": {},
     "output_type": "display_data"
    },
    {
     "name": "stdout",
     "output_type": "stream",
     "text": [
      "Error cuadrático medio: 3.29\n"
     ]
    }
   ],
   "source": [
    "import pandas as pd\n",
    "import matplotlib.pyplot as plt\n",
    "from statsmodels.tsa.statespace.sarimax import SARIMAX\n",
    "from sklearn.metrics import mean_squared_error\n",
    "\n",
    "# Cargar el dataset\n",
    "data = pd.read_csv('dataset_dengue_lluvia.csv', parse_dates=['Fecha'], index_col='Fecha')\n",
    "\n",
    "# Visualización de los datos\n",
    "plt.figure(figsize=(12, 6))\n",
    "plt.plot(data.index, data['Lluvia'].values, label='Lluvia (mm)')\n",
    "plt.plot(data.index, data['Casos_Dengue'].values, label='Casos de Dengue')\n",
    "plt.legend()\n",
    "plt.title('Datos de Lluvia y Casos de Dengue')\n",
    "plt.show()\n",
    "\n",
    "# Seleccionar la serie temporal de los casos de dengue y la variable exógena (lluvia)\n",
    "dengue_cases = data['Casos_Dengue']\n",
    "rainfall = data['Lluvia']\n",
    "\n",
    "# Dividir los datos en entrenamiento y prueba\n",
    "train_size = int(len(dengue_cases) * 0.8)\n",
    "train_cases, test_cases = dengue_cases[:train_size], dengue_cases[train_size:]\n",
    "train_rain, test_rain = rainfall[:train_size], rainfall[train_size:]\n",
    "\n",
    "# Ajustar el modelo ARIMAX (p, d, q) = (5, 1, 0)\n",
    "model = SARIMAX(train_cases, order=(5, 1, 0), exog=train_rain)\n",
    "model_fit = model.fit(disp=False)\n",
    "\n",
    "# Realizar predicciones\n",
    "predictions = model_fit.forecast(steps=len(test_cases), exog=test_rain)\n",
    "\n",
    "# Visualización de los resultados\n",
    "plt.figure(figsize=(12, 6))\n",
    "plt.plot(train_cases.index, train_cases.values, label='Entrenamiento')\n",
    "plt.plot(test_cases.index, test_cases.values, label='Prueba')\n",
    "plt.plot(test_cases.index, predictions, label='Predicciones', color='red')\n",
    "plt.legend()\n",
    "plt.title('Predicción de Casos de Dengue usando ARIMAX')\n",
    "plt.show()\n",
    "\n",
    "# Evaluación del modelo\n",
    "mse = mean_squared_error(test_cases, predictions)\n",
    "print(f'Error cuadrático medio: {mse:.2f}')\n",
    "\n"
   ]
  },
  {
   "cell_type": "markdown",
   "id": "e55c0c94-3f26-4c3d-a7d7-1150403c86b3",
   "metadata": {
    "jp-MarkdownHeadingCollapsed": true
   },
   "source": [
    "### Explicación del Código para Modelación con ARIMA:\n",
    "\n",
    "1. **Cargar el dataset**: Se lee el archivo `.csv` generado anteriormente, y se establece la columna de fechas como índice del DataFrame.\n",
    "2. **Visualización de los datos**: Se grafican los datos de lluvia y casos de dengue para visualizar las tendencias y patrones.\n",
    "3. **Modelo ARIMA**:\n",
    "   - Se selecciona solo la serie temporal de los casos de dengue.\n",
    "   - Se dividen los datos en conjuntos de entrenamiento (80%) y prueba (20%).\n",
    "   - Se ajusta un modelo ARIMA con parámetros (p, d, q) = (5, 1, 0).\n",
    "4. **Predicciones**: Se generan predicciones para el conjunto de prueba.\n",
    "5. **Visualización de resultados**: Se grafican los datos de entrenamiento, prueba y las predicciones del modelo.\n",
    "6. **Evaluación del modelo**: Se calcula el error cuadrático medio (MSE) para evaluar el desempeño del modelo.\n",
    "\n",
    "Este proceso te permite crear un dataset artificial y aplicar el modelo ARIMA para analizar y predecir los casos de dengue basados en los datos generados."
   ]
  },
  {
   "cell_type": "markdown",
   "id": "eee2389c",
   "metadata": {},
   "source": [
    "# Práctica de modelación con ARIMA con ajuste de modelos  \n"
   ]
  },
  {
   "cell_type": "code",
   "execution_count": 36,
   "id": "408bbb10",
   "metadata": {},
   "outputs": [
    {
     "data": {
      "image/png": "[encoded data removed]",
      "text/plain": [
       "<Figure size 1200x600 with 1 Axes>"
      ]
     },
     "metadata": {},
     "output_type": "display_data"
    },
    {
     "name": "stderr",
     "output_type": "stream",
     "text": [
      "/home/marco/Documentos/investigaci/investigacion_d/.venv/lib/python3.10/site-packages/statsmodels/tsa/base/tsa_model.py:473: ValueWarning: No frequency information was provided, so inferred frequency D will be used.\n",
      "  self._init_dates(dates, freq)\n",
      "/home/marco/Documentos/investigaci/investigacion_d/.venv/lib/python3.10/site-packages/statsmodels/tsa/base/tsa_model.py:473: ValueWarning: No frequency information was provided, so inferred frequency D will be used.\n",
      "  self._init_dates(dates, freq)\n",
      "/home/marco/Documentos/investigaci/investigacion_d/.venv/lib/python3.10/site-packages/statsmodels/tsa/base/tsa_model.py:473: ValueWarning: No frequency information was provided, so inferred frequency D will be used.\n",
      "  self._init_dates(dates, freq)\n",
      "/home/marco/Documentos/investigaci/investigacion_d/.venv/lib/python3.10/site-packages/statsmodels/tsa/base/tsa_model.py:473: ValueWarning: No frequency information was provided, so inferred frequency D will be used.\n",
      "  self._init_dates(dates, freq)\n",
      "/home/marco/Documentos/investigaci/investigacion_d/.venv/lib/python3.10/site-packages/statsmodels/tsa/base/tsa_model.py:473: ValueWarning: No frequency information was provided, so inferred frequency D will be used.\n",
      "  self._init_dates(dates, freq)\n",
      "/home/marco/Documentos/investigaci/investigacion_d/.venv/lib/python3.10/site-packages/statsmodels/tsa/base/tsa_model.py:473: ValueWarning: No frequency information was provided, so inferred frequency D will be used.\n",
      "  self._init_dates(dates, freq)\n",
      "/home/marco/Documentos/investigaci/investigacion_d/.venv/lib/python3.10/site-packages/statsmodels/tsa/base/tsa_model.py:473: ValueWarning: No frequency information was provided, so inferred frequency D will be used.\n",
      "  self._init_dates(dates, freq)\n",
      "/home/marco/Documentos/investigaci/investigacion_d/.venv/lib/python3.10/site-packages/statsmodels/tsa/base/tsa_model.py:473: ValueWarning: No frequency information was provided, so inferred frequency D will be used.\n",
      "  self._init_dates(dates, freq)\n",
      "/home/marco/Documentos/investigaci/investigacion_d/.venv/lib/python3.10/site-packages/statsmodels/tsa/base/tsa_model.py:473: ValueWarning: No frequency information was provided, so inferred frequency D will be used.\n",
      "  self._init_dates(dates, freq)\n",
      "/home/marco/Documentos/investigaci/investigacion_d/.venv/lib/python3.10/site-packages/statsmodels/tsa/base/tsa_model.py:473: ValueWarning: No frequency information was provided, so inferred frequency D will be used.\n",
      "  self._init_dates(dates, freq)\n",
      "/home/marco/Documentos/investigaci/investigacion_d/.venv/lib/python3.10/site-packages/statsmodels/tsa/base/tsa_model.py:473: ValueWarning: No frequency information was provided, so inferred frequency D will be used.\n",
      "  self._init_dates(dates, freq)\n",
      "/home/marco/Documentos/investigaci/investigacion_d/.venv/lib/python3.10/site-packages/statsmodels/tsa/base/tsa_model.py:473: ValueWarning: No frequency information was provided, so inferred frequency D will be used.\n",
      "  self._init_dates(dates, freq)\n",
      "/home/marco/Documentos/investigaci/investigacion_d/.venv/lib/python3.10/site-packages/statsmodels/tsa/base/tsa_model.py:473: ValueWarning: No frequency information was provided, so inferred frequency D will be used.\n",
      "  self._init_dates(dates, freq)\n",
      "/home/marco/Documentos/investigaci/investigacion_d/.venv/lib/python3.10/site-packages/statsmodels/tsa/base/tsa_model.py:473: ValueWarning: No frequency information was provided, so inferred frequency D will be used.\n",
      "  self._init_dates(dates, freq)\n",
      "/home/marco/Documentos/investigaci/investigacion_d/.venv/lib/python3.10/site-packages/statsmodels/tsa/base/tsa_model.py:473: ValueWarning: No frequency information was provided, so inferred frequency D will be used.\n",
      "  self._init_dates(dates, freq)\n",
      "/home/marco/Documentos/investigaci/investigacion_d/.venv/lib/python3.10/site-packages/statsmodels/tsa/base/tsa_model.py:473: ValueWarning: No frequency information was provided, so inferred frequency D will be used.\n",
      "  self._init_dates(dates, freq)\n",
      "/home/marco/Documentos/investigaci/investigacion_d/.venv/lib/python3.10/site-packages/statsmodels/tsa/base/tsa_model.py:473: ValueWarning: No frequency information was provided, so inferred frequency D will be used.\n",
      "  self._init_dates(dates, freq)\n",
      "/home/marco/Documentos/investigaci/investigacion_d/.venv/lib/python3.10/site-packages/statsmodels/tsa/base/tsa_model.py:473: ValueWarning: No frequency information was provided, so inferred frequency D will be used.\n",
      "  self._init_dates(dates, freq)\n",
      "/home/marco/Documentos/investigaci/investigacion_d/.venv/lib/python3.10/site-packages/statsmodels/tsa/base/tsa_model.py:473: ValueWarning: No frequency information was provided, so inferred frequency D will be used.\n",
      "  self._init_dates(dates, freq)\n",
      "/home/marco/Documentos/investigaci/investigacion_d/.venv/lib/python3.10/site-packages/statsmodels/tsa/base/tsa_model.py:473: ValueWarning: No frequency information was provided, so inferred frequency D will be used.\n",
      "  self._init_dates(dates, freq)\n",
      "/home/marco/Documentos/investigaci/investigacion_d/.venv/lib/python3.10/site-packages/statsmodels/tsa/base/tsa_model.py:473: ValueWarning: No frequency information was provided, so inferred frequency D will be used.\n",
      "  self._init_dates(dates, freq)\n",
      "/home/marco/Documentos/investigaci/investigacion_d/.venv/lib/python3.10/site-packages/statsmodels/tsa/base/tsa_model.py:473: ValueWarning: No frequency information was provided, so inferred frequency D will be used.\n",
      "  self._init_dates(dates, freq)\n",
      "/home/marco/Documentos/investigaci/investigacion_d/.venv/lib/python3.10/site-packages/statsmodels/tsa/statespace/sarimax.py:978: UserWarning: Non-invertible starting MA parameters found. Using zeros as starting parameters.\n",
      "  warn('Non-invertible starting MA parameters found.'\n",
      "/home/marco/Documentos/investigaci/investigacion_d/.venv/lib/python3.10/site-packages/statsmodels/tsa/base/tsa_model.py:473: ValueWarning: No frequency information was provided, so inferred frequency D will be used.\n",
      "  self._init_dates(dates, freq)\n",
      "/home/marco/Documentos/investigaci/investigacion_d/.venv/lib/python3.10/site-packages/statsmodels/tsa/base/tsa_model.py:473: ValueWarning: No frequency information was provided, so inferred frequency D will be used.\n",
      "  self._init_dates(dates, freq)\n",
      "/home/marco/Documentos/investigaci/investigacion_d/.venv/lib/python3.10/site-packages/statsmodels/tsa/statespace/sarimax.py:978: UserWarning: Non-invertible starting MA parameters found. Using zeros as starting parameters.\n",
      "  warn('Non-invertible starting MA parameters found.'\n",
      "/home/marco/Documentos/investigaci/investigacion_d/.venv/lib/python3.10/site-packages/statsmodels/tsa/base/tsa_model.py:473: ValueWarning: No frequency information was provided, so inferred frequency D will be used.\n",
      "  self._init_dates(dates, freq)\n",
      "/home/marco/Documentos/investigaci/investigacion_d/.venv/lib/python3.10/site-packages/statsmodels/tsa/base/tsa_model.py:473: ValueWarning: No frequency information was provided, so inferred frequency D will be used.\n",
      "  self._init_dates(dates, freq)\n",
      "/home/marco/Documentos/investigaci/investigacion_d/.venv/lib/python3.10/site-packages/statsmodels/tsa/base/tsa_model.py:473: ValueWarning: No frequency information was provided, so inferred frequency D will be used.\n",
      "  self._init_dates(dates, freq)\n",
      "/home/marco/Documentos/investigaci/investigacion_d/.venv/lib/python3.10/site-packages/statsmodels/tsa/base/tsa_model.py:473: ValueWarning: No frequency information was provided, so inferred frequency D will be used.\n",
      "  self._init_dates(dates, freq)\n",
      "/home/marco/Documentos/investigaci/investigacion_d/.venv/lib/python3.10/site-packages/statsmodels/base/model.py:607: ConvergenceWarning: Maximum Likelihood optimization failed to converge. Check mle_retvals\n",
      "  warnings.warn(\"Maximum Likelihood optimization failed to \"\n",
      "/home/marco/Documentos/investigaci/investigacion_d/.venv/lib/python3.10/site-packages/statsmodels/tsa/base/tsa_model.py:473: ValueWarning: No frequency information was provided, so inferred frequency D will be used.\n",
      "  self._init_dates(dates, freq)\n",
      "/home/marco/Documentos/investigaci/investigacion_d/.venv/lib/python3.10/site-packages/statsmodels/tsa/base/tsa_model.py:473: ValueWarning: No frequency information was provided, so inferred frequency D will be used.\n",
      "  self._init_dates(dates, freq)\n",
      "/home/marco/Documentos/investigaci/investigacion_d/.venv/lib/python3.10/site-packages/statsmodels/base/model.py:607: ConvergenceWarning: Maximum Likelihood optimization failed to converge. Check mle_retvals\n",
      "  warnings.warn(\"Maximum Likelihood optimization failed to \"\n",
      "/home/marco/Documentos/investigaci/investigacion_d/.venv/lib/python3.10/site-packages/statsmodels/tsa/base/tsa_model.py:473: ValueWarning: No frequency information was provided, so inferred frequency D will be used.\n",
      "  self._init_dates(dates, freq)\n",
      "/home/marco/Documentos/investigaci/investigacion_d/.venv/lib/python3.10/site-packages/statsmodels/tsa/base/tsa_model.py:473: ValueWarning: No frequency information was provided, so inferred frequency D will be used.\n",
      "  self._init_dates(dates, freq)\n",
      "/home/marco/Documentos/investigaci/investigacion_d/.venv/lib/python3.10/site-packages/statsmodels/tsa/statespace/sarimax.py:966: UserWarning: Non-stationary starting autoregressive parameters found. Using zeros as starting parameters.\n",
      "  warn('Non-stationary starting autoregressive parameters'\n",
      "/home/marco/Documentos/investigaci/investigacion_d/.venv/lib/python3.10/site-packages/statsmodels/tsa/statespace/sarimax.py:978: UserWarning: Non-invertible starting MA parameters found. Using zeros as starting parameters.\n",
      "  warn('Non-invertible starting MA parameters found.'\n",
      "/home/marco/Documentos/investigaci/investigacion_d/.venv/lib/python3.10/site-packages/statsmodels/base/model.py:607: ConvergenceWarning: Maximum Likelihood optimization failed to converge. Check mle_retvals\n",
      "  warnings.warn(\"Maximum Likelihood optimization failed to \"\n",
      "/home/marco/Documentos/investigaci/investigacion_d/.venv/lib/python3.10/site-packages/statsmodels/tsa/base/tsa_model.py:473: ValueWarning: No frequency information was provided, so inferred frequency D will be used.\n",
      "  self._init_dates(dates, freq)\n",
      "/home/marco/Documentos/investigaci/investigacion_d/.venv/lib/python3.10/site-packages/statsmodels/tsa/base/tsa_model.py:473: ValueWarning: No frequency information was provided, so inferred frequency D will be used.\n",
      "  self._init_dates(dates, freq)\n",
      "/home/marco/Documentos/investigaci/investigacion_d/.venv/lib/python3.10/site-packages/statsmodels/tsa/statespace/sarimax.py:966: UserWarning: Non-stationary starting autoregressive parameters found. Using zeros as starting parameters.\n",
      "  warn('Non-stationary starting autoregressive parameters'\n",
      "/home/marco/Documentos/investigaci/investigacion_d/.venv/lib/python3.10/site-packages/statsmodels/tsa/statespace/sarimax.py:978: UserWarning: Non-invertible starting MA parameters found. Using zeros as starting parameters.\n",
      "  warn('Non-invertible starting MA parameters found.'\n",
      "/home/marco/Documentos/investigaci/investigacion_d/.venv/lib/python3.10/site-packages/statsmodels/base/model.py:607: ConvergenceWarning: Maximum Likelihood optimization failed to converge. Check mle_retvals\n",
      "  warnings.warn(\"Maximum Likelihood optimization failed to \"\n",
      "/home/marco/Documentos/investigaci/investigacion_d/.venv/lib/python3.10/site-packages/statsmodels/tsa/base/tsa_model.py:473: ValueWarning: No frequency information was provided, so inferred frequency D will be used.\n",
      "  self._init_dates(dates, freq)\n",
      "/home/marco/Documentos/investigaci/investigacion_d/.venv/lib/python3.10/site-packages/statsmodels/tsa/base/tsa_model.py:473: ValueWarning: No frequency information was provided, so inferred frequency D will be used.\n",
      "  self._init_dates(dates, freq)\n",
      "/home/marco/Documentos/investigaci/investigacion_d/.venv/lib/python3.10/site-packages/statsmodels/tsa/statespace/sarimax.py:966: UserWarning: Non-stationary starting autoregressive parameters found. Using zeros as starting parameters.\n",
      "  warn('Non-stationary starting autoregressive parameters'\n",
      "/home/marco/Documentos/investigaci/investigacion_d/.venv/lib/python3.10/site-packages/statsmodels/tsa/statespace/sarimax.py:978: UserWarning: Non-invertible starting MA parameters found. Using zeros as starting parameters.\n",
      "  warn('Non-invertible starting MA parameters found.'\n",
      "/home/marco/Documentos/investigaci/investigacion_d/.venv/lib/python3.10/site-packages/statsmodels/base/model.py:607: ConvergenceWarning: Maximum Likelihood optimization failed to converge. Check mle_retvals\n",
      "  warnings.warn(\"Maximum Likelihood optimization failed to \"\n",
      "/home/marco/Documentos/investigaci/investigacion_d/.venv/lib/python3.10/site-packages/statsmodels/tsa/base/tsa_model.py:473: ValueWarning: No frequency information was provided, so inferred frequency D will be used.\n",
      "  self._init_dates(dates, freq)\n",
      "/home/marco/Documentos/investigaci/investigacion_d/.venv/lib/python3.10/site-packages/statsmodels/tsa/base/tsa_model.py:473: ValueWarning: No frequency information was provided, so inferred frequency D will be used.\n",
      "  self._init_dates(dates, freq)\n",
      "/home/marco/Documentos/investigaci/investigacion_d/.venv/lib/python3.10/site-packages/statsmodels/tsa/base/tsa_model.py:473: ValueWarning: No frequency information was provided, so inferred frequency D will be used.\n",
      "  self._init_dates(dates, freq)\n",
      "/home/marco/Documentos/investigaci/investigacion_d/.venv/lib/python3.10/site-packages/statsmodels/tsa/base/tsa_model.py:473: ValueWarning: No frequency information was provided, so inferred frequency D will be used.\n",
      "  self._init_dates(dates, freq)\n",
      "/home/marco/Documentos/investigaci/investigacion_d/.venv/lib/python3.10/site-packages/statsmodels/tsa/base/tsa_model.py:473: ValueWarning: No frequency information was provided, so inferred frequency D will be used.\n",
      "  self._init_dates(dates, freq)\n",
      "/home/marco/Documentos/investigaci/investigacion_d/.venv/lib/python3.10/site-packages/statsmodels/tsa/base/tsa_model.py:473: ValueWarning: No frequency information was provided, so inferred frequency D will be used.\n",
      "  self._init_dates(dates, freq)\n",
      "/home/marco/Documentos/investigaci/investigacion_d/.venv/lib/python3.10/site-packages/statsmodels/tsa/base/tsa_model.py:473: ValueWarning: No frequency information was provided, so inferred frequency D will be used.\n",
      "  self._init_dates(dates, freq)\n",
      "/home/marco/Documentos/investigaci/investigacion_d/.venv/lib/python3.10/site-packages/statsmodels/tsa/base/tsa_model.py:473: ValueWarning: No frequency information was provided, so inferred frequency D will be used.\n",
      "  self._init_dates(dates, freq)\n",
      "/home/marco/Documentos/investigaci/investigacion_d/.venv/lib/python3.10/site-packages/statsmodels/tsa/base/tsa_model.py:473: ValueWarning: No frequency information was provided, so inferred frequency D will be used.\n",
      "  self._init_dates(dates, freq)\n",
      "/home/marco/Documentos/investigaci/investigacion_d/.venv/lib/python3.10/site-packages/statsmodels/tsa/base/tsa_model.py:473: ValueWarning: No frequency information was provided, so inferred frequency D will be used.\n",
      "  self._init_dates(dates, freq)\n",
      "/home/marco/Documentos/investigaci/investigacion_d/.venv/lib/python3.10/site-packages/statsmodels/tsa/base/tsa_model.py:473: ValueWarning: No frequency information was provided, so inferred frequency D will be used.\n",
      "  self._init_dates(dates, freq)\n",
      "/home/marco/Documentos/investigaci/investigacion_d/.venv/lib/python3.10/site-packages/statsmodels/tsa/base/tsa_model.py:473: ValueWarning: No frequency information was provided, so inferred frequency D will be used.\n",
      "  self._init_dates(dates, freq)\n",
      "/home/marco/Documentos/investigaci/investigacion_d/.venv/lib/python3.10/site-packages/statsmodels/tsa/base/tsa_model.py:473: ValueWarning: No frequency information was provided, so inferred frequency D will be used.\n",
      "  self._init_dates(dates, freq)\n",
      "/home/marco/Documentos/investigaci/investigacion_d/.venv/lib/python3.10/site-packages/statsmodels/tsa/base/tsa_model.py:473: ValueWarning: No frequency information was provided, so inferred frequency D will be used.\n",
      "  self._init_dates(dates, freq)\n",
      "/home/marco/Documentos/investigaci/investigacion_d/.venv/lib/python3.10/site-packages/statsmodels/tsa/base/tsa_model.py:473: ValueWarning: No frequency information was provided, so inferred frequency D will be used.\n",
      "  self._init_dates(dates, freq)\n",
      "/home/marco/Documentos/investigaci/investigacion_d/.venv/lib/python3.10/site-packages/statsmodels/tsa/base/tsa_model.py:473: ValueWarning: No frequency information was provided, so inferred frequency D will be used.\n",
      "  self._init_dates(dates, freq)\n",
      "/home/marco/Documentos/investigaci/investigacion_d/.venv/lib/python3.10/site-packages/statsmodels/base/model.py:607: ConvergenceWarning: Maximum Likelihood optimization failed to converge. Check mle_retvals\n",
      "  warnings.warn(\"Maximum Likelihood optimization failed to \"\n",
      "/home/marco/Documentos/investigaci/investigacion_d/.venv/lib/python3.10/site-packages/statsmodels/tsa/base/tsa_model.py:473: ValueWarning: No frequency information was provided, so inferred frequency D will be used.\n",
      "  self._init_dates(dates, freq)\n",
      "/home/marco/Documentos/investigaci/investigacion_d/.venv/lib/python3.10/site-packages/statsmodels/tsa/base/tsa_model.py:473: ValueWarning: No frequency information was provided, so inferred frequency D will be used.\n",
      "  self._init_dates(dates, freq)\n",
      "/home/marco/Documentos/investigaci/investigacion_d/.venv/lib/python3.10/site-packages/statsmodels/tsa/base/tsa_model.py:473: ValueWarning: No frequency information was provided, so inferred frequency D will be used.\n",
      "  self._init_dates(dates, freq)\n",
      "/home/marco/Documentos/investigaci/investigacion_d/.venv/lib/python3.10/site-packages/statsmodels/tsa/base/tsa_model.py:473: ValueWarning: No frequency information was provided, so inferred frequency D will be used.\n",
      "  self._init_dates(dates, freq)\n",
      "/home/marco/Documentos/investigaci/investigacion_d/.venv/lib/python3.10/site-packages/statsmodels/tsa/statespace/sarimax.py:966: UserWarning: Non-stationary starting autoregressive parameters found. Using zeros as starting parameters.\n",
      "  warn('Non-stationary starting autoregressive parameters'\n",
      "/home/marco/Documentos/investigaci/investigacion_d/.venv/lib/python3.10/site-packages/statsmodels/tsa/statespace/sarimax.py:978: UserWarning: Non-invertible starting MA parameters found. Using zeros as starting parameters.\n",
      "  warn('Non-invertible starting MA parameters found.'\n",
      "/home/marco/Documentos/investigaci/investigacion_d/.venv/lib/python3.10/site-packages/statsmodels/tsa/base/tsa_model.py:473: ValueWarning: No frequency information was provided, so inferred frequency D will be used.\n",
      "  self._init_dates(dates, freq)\n",
      "/home/marco/Documentos/investigaci/investigacion_d/.venv/lib/python3.10/site-packages/statsmodels/tsa/base/tsa_model.py:473: ValueWarning: No frequency information was provided, so inferred frequency D will be used.\n",
      "  self._init_dates(dates, freq)\n",
      "/home/marco/Documentos/investigaci/investigacion_d/.venv/lib/python3.10/site-packages/statsmodels/tsa/statespace/sarimax.py:966: UserWarning: Non-stationary starting autoregressive parameters found. Using zeros as starting parameters.\n",
      "  warn('Non-stationary starting autoregressive parameters'\n",
      "/home/marco/Documentos/investigaci/investigacion_d/.venv/lib/python3.10/site-packages/statsmodels/tsa/statespace/sarimax.py:978: UserWarning: Non-invertible starting MA parameters found. Using zeros as starting parameters.\n",
      "  warn('Non-invertible starting MA parameters found.'\n",
      "/home/marco/Documentos/investigaci/investigacion_d/.venv/lib/python3.10/site-packages/statsmodels/base/model.py:607: ConvergenceWarning: Maximum Likelihood optimization failed to converge. Check mle_retvals\n",
      "  warnings.warn(\"Maximum Likelihood optimization failed to \"\n",
      "/home/marco/Documentos/investigaci/investigacion_d/.venv/lib/python3.10/site-packages/statsmodels/tsa/base/tsa_model.py:473: ValueWarning: No frequency information was provided, so inferred frequency D will be used.\n",
      "  self._init_dates(dates, freq)\n",
      "/home/marco/Documentos/investigaci/investigacion_d/.venv/lib/python3.10/site-packages/statsmodels/tsa/base/tsa_model.py:473: ValueWarning: No frequency information was provided, so inferred frequency D will be used.\n",
      "  self._init_dates(dates, freq)\n",
      "/home/marco/Documentos/investigaci/investigacion_d/.venv/lib/python3.10/site-packages/statsmodels/tsa/statespace/sarimax.py:966: UserWarning: Non-stationary starting autoregressive parameters found. Using zeros as starting parameters.\n",
      "  warn('Non-stationary starting autoregressive parameters'\n",
      "/home/marco/Documentos/investigaci/investigacion_d/.venv/lib/python3.10/site-packages/statsmodels/tsa/statespace/sarimax.py:978: UserWarning: Non-invertible starting MA parameters found. Using zeros as starting parameters.\n",
      "  warn('Non-invertible starting MA parameters found.'\n",
      "/home/marco/Documentos/investigaci/investigacion_d/.venv/lib/python3.10/site-packages/statsmodels/tsa/base/tsa_model.py:473: ValueWarning: No frequency information was provided, so inferred frequency D will be used.\n",
      "  self._init_dates(dates, freq)\n",
      "/home/marco/Documentos/investigaci/investigacion_d/.venv/lib/python3.10/site-packages/statsmodels/tsa/base/tsa_model.py:473: ValueWarning: No frequency information was provided, so inferred frequency D will be used.\n",
      "  self._init_dates(dates, freq)\n",
      "/home/marco/Documentos/investigaci/investigacion_d/.venv/lib/python3.10/site-packages/statsmodels/tsa/base/tsa_model.py:473: ValueWarning: No frequency information was provided, so inferred frequency D will be used.\n",
      "  self._init_dates(dates, freq)\n",
      "/home/marco/Documentos/investigaci/investigacion_d/.venv/lib/python3.10/site-packages/statsmodels/tsa/base/tsa_model.py:473: ValueWarning: No frequency information was provided, so inferred frequency D will be used.\n",
      "  self._init_dates(dates, freq)\n",
      "/home/marco/Documentos/investigaci/investigacion_d/.venv/lib/python3.10/site-packages/statsmodels/tsa/base/tsa_model.py:473: ValueWarning: No frequency information was provided, so inferred frequency D will be used.\n",
      "  self._init_dates(dates, freq)\n",
      "/home/marco/Documentos/investigaci/investigacion_d/.venv/lib/python3.10/site-packages/statsmodels/tsa/base/tsa_model.py:473: ValueWarning: No frequency information was provided, so inferred frequency D will be used.\n",
      "  self._init_dates(dates, freq)\n",
      "/home/marco/Documentos/investigaci/investigacion_d/.venv/lib/python3.10/site-packages/statsmodels/tsa/base/tsa_model.py:473: ValueWarning: No frequency information was provided, so inferred frequency D will be used.\n",
      "  self._init_dates(dates, freq)\n",
      "/home/marco/Documentos/investigaci/investigacion_d/.venv/lib/python3.10/site-packages/statsmodels/tsa/base/tsa_model.py:473: ValueWarning: No frequency information was provided, so inferred frequency D will be used.\n",
      "  self._init_dates(dates, freq)\n",
      "/home/marco/Documentos/investigaci/investigacion_d/.venv/lib/python3.10/site-packages/statsmodels/base/model.py:607: ConvergenceWarning: Maximum Likelihood optimization failed to converge. Check mle_retvals\n",
      "  warnings.warn(\"Maximum Likelihood optimization failed to \"\n",
      "/home/marco/Documentos/investigaci/investigacion_d/.venv/lib/python3.10/site-packages/statsmodels/tsa/base/tsa_model.py:473: ValueWarning: No frequency information was provided, so inferred frequency D will be used.\n",
      "  self._init_dates(dates, freq)\n",
      "/home/marco/Documentos/investigaci/investigacion_d/.venv/lib/python3.10/site-packages/statsmodels/tsa/base/tsa_model.py:473: ValueWarning: No frequency information was provided, so inferred frequency D will be used.\n",
      "  self._init_dates(dates, freq)\n",
      "/home/marco/Documentos/investigaci/investigacion_d/.venv/lib/python3.10/site-packages/statsmodels/base/model.py:607: ConvergenceWarning: Maximum Likelihood optimization failed to converge. Check mle_retvals\n",
      "  warnings.warn(\"Maximum Likelihood optimization failed to \"\n",
      "/home/marco/Documentos/investigaci/investigacion_d/.venv/lib/python3.10/site-packages/statsmodels/tsa/base/tsa_model.py:473: ValueWarning: No frequency information was provided, so inferred frequency D will be used.\n",
      "  self._init_dates(dates, freq)\n",
      "/home/marco/Documentos/investigaci/investigacion_d/.venv/lib/python3.10/site-packages/statsmodels/tsa/base/tsa_model.py:473: ValueWarning: No frequency information was provided, so inferred frequency D will be used.\n",
      "  self._init_dates(dates, freq)\n",
      "/home/marco/Documentos/investigaci/investigacion_d/.venv/lib/python3.10/site-packages/statsmodels/base/model.py:607: ConvergenceWarning: Maximum Likelihood optimization failed to converge. Check mle_retvals\n",
      "  warnings.warn(\"Maximum Likelihood optimization failed to \"\n",
      "/home/marco/Documentos/investigaci/investigacion_d/.venv/lib/python3.10/site-packages/statsmodels/tsa/base/tsa_model.py:473: ValueWarning: No frequency information was provided, so inferred frequency D will be used.\n",
      "  self._init_dates(dates, freq)\n",
      "/home/marco/Documentos/investigaci/investigacion_d/.venv/lib/python3.10/site-packages/statsmodels/tsa/base/tsa_model.py:473: ValueWarning: No frequency information was provided, so inferred frequency D will be used.\n",
      "  self._init_dates(dates, freq)\n",
      "/home/marco/Documentos/investigaci/investigacion_d/.venv/lib/python3.10/site-packages/statsmodels/tsa/base/tsa_model.py:473: ValueWarning: No frequency information was provided, so inferred frequency D will be used.\n",
      "  self._init_dates(dates, freq)\n",
      "/home/marco/Documentos/investigaci/investigacion_d/.venv/lib/python3.10/site-packages/statsmodels/tsa/base/tsa_model.py:473: ValueWarning: No frequency information was provided, so inferred frequency D will be used.\n",
      "  self._init_dates(dates, freq)\n",
      "/home/marco/Documentos/investigaci/investigacion_d/.venv/lib/python3.10/site-packages/statsmodels/base/model.py:607: ConvergenceWarning: Maximum Likelihood optimization failed to converge. Check mle_retvals\n",
      "  warnings.warn(\"Maximum Likelihood optimization failed to \"\n",
      "/home/marco/Documentos/investigaci/investigacion_d/.venv/lib/python3.10/site-packages/statsmodels/tsa/base/tsa_model.py:473: ValueWarning: No frequency information was provided, so inferred frequency D will be used.\n",
      "  self._init_dates(dates, freq)\n",
      "/home/marco/Documentos/investigaci/investigacion_d/.venv/lib/python3.10/site-packages/statsmodels/tsa/base/tsa_model.py:473: ValueWarning: No frequency information was provided, so inferred frequency D will be used.\n",
      "  self._init_dates(dates, freq)\n",
      "/home/marco/Documentos/investigaci/investigacion_d/.venv/lib/python3.10/site-packages/statsmodels/tsa/statespace/sarimax.py:966: UserWarning: Non-stationary starting autoregressive parameters found. Using zeros as starting parameters.\n",
      "  warn('Non-stationary starting autoregressive parameters'\n",
      "/home/marco/Documentos/investigaci/investigacion_d/.venv/lib/python3.10/site-packages/statsmodels/tsa/statespace/sarimax.py:978: UserWarning: Non-invertible starting MA parameters found. Using zeros as starting parameters.\n",
      "  warn('Non-invertible starting MA parameters found.'\n",
      "/home/marco/Documentos/investigaci/investigacion_d/.venv/lib/python3.10/site-packages/statsmodels/tsa/base/tsa_model.py:473: ValueWarning: No frequency information was provided, so inferred frequency D will be used.\n",
      "  self._init_dates(dates, freq)\n",
      "/home/marco/Documentos/investigaci/investigacion_d/.venv/lib/python3.10/site-packages/statsmodels/tsa/base/tsa_model.py:473: ValueWarning: No frequency information was provided, so inferred frequency D will be used.\n",
      "  self._init_dates(dates, freq)\n",
      "/home/marco/Documentos/investigaci/investigacion_d/.venv/lib/python3.10/site-packages/statsmodels/tsa/statespace/sarimax.py:966: UserWarning: Non-stationary starting autoregressive parameters found. Using zeros as starting parameters.\n",
      "  warn('Non-stationary starting autoregressive parameters'\n",
      "/home/marco/Documentos/investigaci/investigacion_d/.venv/lib/python3.10/site-packages/statsmodels/tsa/statespace/sarimax.py:978: UserWarning: Non-invertible starting MA parameters found. Using zeros as starting parameters.\n",
      "  warn('Non-invertible starting MA parameters found.'\n",
      "/home/marco/Documentos/investigaci/investigacion_d/.venv/lib/python3.10/site-packages/statsmodels/tsa/base/tsa_model.py:473: ValueWarning: No frequency information was provided, so inferred frequency D will be used.\n",
      "  self._init_dates(dates, freq)\n",
      "/home/marco/Documentos/investigaci/investigacion_d/.venv/lib/python3.10/site-packages/statsmodels/tsa/base/tsa_model.py:473: ValueWarning: No frequency information was provided, so inferred frequency D will be used.\n",
      "  self._init_dates(dates, freq)\n",
      "/home/marco/Documentos/investigaci/investigacion_d/.venv/lib/python3.10/site-packages/statsmodels/tsa/statespace/sarimax.py:966: UserWarning: Non-stationary starting autoregressive parameters found. Using zeros as starting parameters.\n",
      "  warn('Non-stationary starting autoregressive parameters'\n",
      "/home/marco/Documentos/investigaci/investigacion_d/.venv/lib/python3.10/site-packages/statsmodels/tsa/statespace/sarimax.py:978: UserWarning: Non-invertible starting MA parameters found. Using zeros as starting parameters.\n",
      "  warn('Non-invertible starting MA parameters found.'\n",
      "/home/marco/Documentos/investigaci/investigacion_d/.venv/lib/python3.10/site-packages/statsmodels/base/model.py:607: ConvergenceWarning: Maximum Likelihood optimization failed to converge. Check mle_retvals\n",
      "  warnings.warn(\"Maximum Likelihood optimization failed to \"\n",
      "/home/marco/Documentos/investigaci/investigacion_d/.venv/lib/python3.10/site-packages/statsmodels/tsa/base/tsa_model.py:473: ValueWarning: No frequency information was provided, so inferred frequency D will be used.\n",
      "  self._init_dates(dates, freq)\n",
      "/home/marco/Documentos/investigaci/investigacion_d/.venv/lib/python3.10/site-packages/statsmodels/tsa/base/tsa_model.py:473: ValueWarning: No frequency information was provided, so inferred frequency D will be used.\n",
      "  self._init_dates(dates, freq)\n",
      "/home/marco/Documentos/investigaci/investigacion_d/.venv/lib/python3.10/site-packages/statsmodels/tsa/statespace/sarimax.py:966: UserWarning: Non-stationary starting autoregressive parameters found. Using zeros as starting parameters.\n",
      "  warn('Non-stationary starting autoregressive parameters'\n",
      "/home/marco/Documentos/investigaci/investigacion_d/.venv/lib/python3.10/site-packages/statsmodels/tsa/statespace/sarimax.py:978: UserWarning: Non-invertible starting MA parameters found. Using zeros as starting parameters.\n",
      "  warn('Non-invertible starting MA parameters found.'\n",
      "/home/marco/Documentos/investigaci/investigacion_d/.venv/lib/python3.10/site-packages/statsmodels/base/model.py:607: ConvergenceWarning: Maximum Likelihood optimization failed to converge. Check mle_retvals\n",
      "  warnings.warn(\"Maximum Likelihood optimization failed to \"\n",
      "/home/marco/Documentos/investigaci/investigacion_d/.venv/lib/python3.10/site-packages/statsmodels/tsa/base/tsa_model.py:473: ValueWarning: No frequency information was provided, so inferred frequency D will be used.\n",
      "  self._init_dates(dates, freq)\n",
      "/home/marco/Documentos/investigaci/investigacion_d/.venv/lib/python3.10/site-packages/statsmodels/tsa/base/tsa_model.py:473: ValueWarning: No frequency information was provided, so inferred frequency D will be used.\n",
      "  self._init_dates(dates, freq)\n",
      "/home/marco/Documentos/investigaci/investigacion_d/.venv/lib/python3.10/site-packages/statsmodels/tsa/base/tsa_model.py:473: ValueWarning: No frequency information was provided, so inferred frequency D will be used.\n",
      "  self._init_dates(dates, freq)\n",
      "/home/marco/Documentos/investigaci/investigacion_d/.venv/lib/python3.10/site-packages/statsmodels/tsa/base/tsa_model.py:473: ValueWarning: No frequency information was provided, so inferred frequency D will be used.\n",
      "  self._init_dates(dates, freq)\n",
      "/home/marco/Documentos/investigaci/investigacion_d/.venv/lib/python3.10/site-packages/statsmodels/tsa/base/tsa_model.py:473: ValueWarning: No frequency information was provided, so inferred frequency D will be used.\n",
      "  self._init_dates(dates, freq)\n",
      "/home/marco/Documentos/investigaci/investigacion_d/.venv/lib/python3.10/site-packages/statsmodels/tsa/base/tsa_model.py:473: ValueWarning: No frequency information was provided, so inferred frequency D will be used.\n",
      "  self._init_dates(dates, freq)\n",
      "/home/marco/Documentos/investigaci/investigacion_d/.venv/lib/python3.10/site-packages/statsmodels/tsa/base/tsa_model.py:473: ValueWarning: No frequency information was provided, so inferred frequency D will be used.\n",
      "  self._init_dates(dates, freq)\n",
      "/home/marco/Documentos/investigaci/investigacion_d/.venv/lib/python3.10/site-packages/statsmodels/tsa/base/tsa_model.py:473: ValueWarning: No frequency information was provided, so inferred frequency D will be used.\n",
      "  self._init_dates(dates, freq)\n",
      "/home/marco/Documentos/investigaci/investigacion_d/.venv/lib/python3.10/site-packages/statsmodels/base/model.py:607: ConvergenceWarning: Maximum Likelihood optimization failed to converge. Check mle_retvals\n",
      "  warnings.warn(\"Maximum Likelihood optimization failed to \"\n",
      "/home/marco/Documentos/investigaci/investigacion_d/.venv/lib/python3.10/site-packages/statsmodels/tsa/base/tsa_model.py:473: ValueWarning: No frequency information was provided, so inferred frequency D will be used.\n",
      "  self._init_dates(dates, freq)\n",
      "/home/marco/Documentos/investigaci/investigacion_d/.venv/lib/python3.10/site-packages/statsmodels/tsa/base/tsa_model.py:473: ValueWarning: No frequency information was provided, so inferred frequency D will be used.\n",
      "  self._init_dates(dates, freq)\n",
      "/home/marco/Documentos/investigaci/investigacion_d/.venv/lib/python3.10/site-packages/statsmodels/base/model.py:607: ConvergenceWarning: Maximum Likelihood optimization failed to converge. Check mle_retvals\n",
      "  warnings.warn(\"Maximum Likelihood optimization failed to \"\n",
      "/home/marco/Documentos/investigaci/investigacion_d/.venv/lib/python3.10/site-packages/statsmodels/tsa/base/tsa_model.py:473: ValueWarning: No frequency information was provided, so inferred frequency D will be used.\n",
      "  self._init_dates(dates, freq)\n",
      "/home/marco/Documentos/investigaci/investigacion_d/.venv/lib/python3.10/site-packages/statsmodels/tsa/base/tsa_model.py:473: ValueWarning: No frequency information was provided, so inferred frequency D will be used.\n",
      "  self._init_dates(dates, freq)\n",
      "/home/marco/Documentos/investigaci/investigacion_d/.venv/lib/python3.10/site-packages/statsmodels/base/model.py:607: ConvergenceWarning: Maximum Likelihood optimization failed to converge. Check mle_retvals\n",
      "  warnings.warn(\"Maximum Likelihood optimization failed to \"\n",
      "/home/marco/Documentos/investigaci/investigacion_d/.venv/lib/python3.10/site-packages/statsmodels/tsa/base/tsa_model.py:473: ValueWarning: No frequency information was provided, so inferred frequency D will be used.\n",
      "  self._init_dates(dates, freq)\n",
      "/home/marco/Documentos/investigaci/investigacion_d/.venv/lib/python3.10/site-packages/statsmodels/tsa/base/tsa_model.py:473: ValueWarning: No frequency information was provided, so inferred frequency D will be used.\n",
      "  self._init_dates(dates, freq)\n",
      "/home/marco/Documentos/investigaci/investigacion_d/.venv/lib/python3.10/site-packages/statsmodels/tsa/base/tsa_model.py:473: ValueWarning: No frequency information was provided, so inferred frequency D will be used.\n",
      "  self._init_dates(dates, freq)\n",
      "/home/marco/Documentos/investigaci/investigacion_d/.venv/lib/python3.10/site-packages/statsmodels/tsa/base/tsa_model.py:473: ValueWarning: No frequency information was provided, so inferred frequency D will be used.\n",
      "  self._init_dates(dates, freq)\n",
      "/home/marco/Documentos/investigaci/investigacion_d/.venv/lib/python3.10/site-packages/statsmodels/base/model.py:607: ConvergenceWarning: Maximum Likelihood optimization failed to converge. Check mle_retvals\n",
      "  warnings.warn(\"Maximum Likelihood optimization failed to \"\n",
      "/home/marco/Documentos/investigaci/investigacion_d/.venv/lib/python3.10/site-packages/statsmodels/tsa/base/tsa_model.py:473: ValueWarning: No frequency information was provided, so inferred frequency D will be used.\n",
      "  self._init_dates(dates, freq)\n",
      "/home/marco/Documentos/investigaci/investigacion_d/.venv/lib/python3.10/site-packages/statsmodels/tsa/base/tsa_model.py:473: ValueWarning: No frequency information was provided, so inferred frequency D will be used.\n",
      "  self._init_dates(dates, freq)\n",
      "/home/marco/Documentos/investigaci/investigacion_d/.venv/lib/python3.10/site-packages/statsmodels/tsa/statespace/sarimax.py:966: UserWarning: Non-stationary starting autoregressive parameters found. Using zeros as starting parameters.\n",
      "  warn('Non-stationary starting autoregressive parameters'\n",
      "/home/marco/Documentos/investigaci/investigacion_d/.venv/lib/python3.10/site-packages/statsmodels/tsa/statespace/sarimax.py:978: UserWarning: Non-invertible starting MA parameters found. Using zeros as starting parameters.\n",
      "  warn('Non-invertible starting MA parameters found.'\n",
      "/home/marco/Documentos/investigaci/investigacion_d/.venv/lib/python3.10/site-packages/statsmodels/tsa/base/tsa_model.py:473: ValueWarning: No frequency information was provided, so inferred frequency D will be used.\n",
      "  self._init_dates(dates, freq)\n",
      "/home/marco/Documentos/investigaci/investigacion_d/.venv/lib/python3.10/site-packages/statsmodels/tsa/base/tsa_model.py:473: ValueWarning: No frequency information was provided, so inferred frequency D will be used.\n",
      "  self._init_dates(dates, freq)\n",
      "/home/marco/Documentos/investigaci/investigacion_d/.venv/lib/python3.10/site-packages/statsmodels/tsa/statespace/sarimax.py:966: UserWarning: Non-stationary starting autoregressive parameters found. Using zeros as starting parameters.\n",
      "  warn('Non-stationary starting autoregressive parameters'\n",
      "/home/marco/Documentos/investigaci/investigacion_d/.venv/lib/python3.10/site-packages/statsmodels/tsa/statespace/sarimax.py:978: UserWarning: Non-invertible starting MA parameters found. Using zeros as starting parameters.\n",
      "  warn('Non-invertible starting MA parameters found.'\n",
      "/home/marco/Documentos/investigaci/investigacion_d/.venv/lib/python3.10/site-packages/statsmodels/base/model.py:607: ConvergenceWarning: Maximum Likelihood optimization failed to converge. Check mle_retvals\n",
      "  warnings.warn(\"Maximum Likelihood optimization failed to \"\n",
      "/home/marco/Documentos/investigaci/investigacion_d/.venv/lib/python3.10/site-packages/statsmodels/tsa/base/tsa_model.py:473: ValueWarning: No frequency information was provided, so inferred frequency D will be used.\n",
      "  self._init_dates(dates, freq)\n",
      "/home/marco/Documentos/investigaci/investigacion_d/.venv/lib/python3.10/site-packages/statsmodels/tsa/base/tsa_model.py:473: ValueWarning: No frequency information was provided, so inferred frequency D will be used.\n",
      "  self._init_dates(dates, freq)\n",
      "/home/marco/Documentos/investigaci/investigacion_d/.venv/lib/python3.10/site-packages/statsmodels/tsa/statespace/sarimax.py:966: UserWarning: Non-stationary starting autoregressive parameters found. Using zeros as starting parameters.\n",
      "  warn('Non-stationary starting autoregressive parameters'\n",
      "/home/marco/Documentos/investigaci/investigacion_d/.venv/lib/python3.10/site-packages/statsmodels/tsa/statespace/sarimax.py:978: UserWarning: Non-invertible starting MA parameters found. Using zeros as starting parameters.\n",
      "  warn('Non-invertible starting MA parameters found.'\n",
      "/home/marco/Documentos/investigaci/investigacion_d/.venv/lib/python3.10/site-packages/statsmodels/base/model.py:607: ConvergenceWarning: Maximum Likelihood optimization failed to converge. Check mle_retvals\n",
      "  warnings.warn(\"Maximum Likelihood optimization failed to \"\n",
      "/home/marco/Documentos/investigaci/investigacion_d/.venv/lib/python3.10/site-packages/statsmodels/tsa/base/tsa_model.py:473: ValueWarning: No frequency information was provided, so inferred frequency D will be used.\n",
      "  self._init_dates(dates, freq)\n",
      "/home/marco/Documentos/investigaci/investigacion_d/.venv/lib/python3.10/site-packages/statsmodels/tsa/base/tsa_model.py:473: ValueWarning: No frequency information was provided, so inferred frequency D will be used.\n",
      "  self._init_dates(dates, freq)\n",
      "/home/marco/Documentos/investigaci/investigacion_d/.venv/lib/python3.10/site-packages/statsmodels/tsa/statespace/sarimax.py:966: UserWarning: Non-stationary starting autoregressive parameters found. Using zeros as starting parameters.\n",
      "  warn('Non-stationary starting autoregressive parameters'\n",
      "/home/marco/Documentos/investigaci/investigacion_d/.venv/lib/python3.10/site-packages/statsmodels/tsa/statespace/sarimax.py:978: UserWarning: Non-invertible starting MA parameters found. Using zeros as starting parameters.\n",
      "  warn('Non-invertible starting MA parameters found.'\n",
      "/home/marco/Documentos/investigaci/investigacion_d/.venv/lib/python3.10/site-packages/statsmodels/base/model.py:607: ConvergenceWarning: Maximum Likelihood optimization failed to converge. Check mle_retvals\n",
      "  warnings.warn(\"Maximum Likelihood optimization failed to \"\n",
      "/home/marco/Documentos/investigaci/investigacion_d/.venv/lib/python3.10/site-packages/statsmodels/tsa/base/tsa_model.py:473: ValueWarning: No frequency information was provided, so inferred frequency D will be used.\n",
      "  self._init_dates(dates, freq)\n",
      "/home/marco/Documentos/investigaci/investigacion_d/.venv/lib/python3.10/site-packages/statsmodels/tsa/base/tsa_model.py:473: ValueWarning: No frequency information was provided, so inferred frequency D will be used.\n",
      "  self._init_dates(dates, freq)\n",
      "/home/marco/Documentos/investigaci/investigacion_d/.venv/lib/python3.10/site-packages/statsmodels/tsa/base/tsa_model.py:473: ValueWarning: No frequency information was provided, so inferred frequency D will be used.\n",
      "  self._init_dates(dates, freq)\n",
      "/home/marco/Documentos/investigaci/investigacion_d/.venv/lib/python3.10/site-packages/statsmodels/tsa/base/tsa_model.py:473: ValueWarning: No frequency information was provided, so inferred frequency D will be used.\n",
      "  self._init_dates(dates, freq)\n",
      "/home/marco/Documentos/investigaci/investigacion_d/.venv/lib/python3.10/site-packages/statsmodels/tsa/base/tsa_model.py:473: ValueWarning: No frequency information was provided, so inferred frequency D will be used.\n",
      "  self._init_dates(dates, freq)\n",
      "/home/marco/Documentos/investigaci/investigacion_d/.venv/lib/python3.10/site-packages/statsmodels/tsa/base/tsa_model.py:473: ValueWarning: No frequency information was provided, so inferred frequency D will be used.\n",
      "  self._init_dates(dates, freq)\n",
      "/home/marco/Documentos/investigaci/investigacion_d/.venv/lib/python3.10/site-packages/statsmodels/tsa/statespace/sarimax.py:978: UserWarning: Non-invertible starting MA parameters found. Using zeros as starting parameters.\n",
      "  warn('Non-invertible starting MA parameters found.'\n",
      "/home/marco/Documentos/investigaci/investigacion_d/.venv/lib/python3.10/site-packages/statsmodels/tsa/base/tsa_model.py:473: ValueWarning: No frequency information was provided, so inferred frequency D will be used.\n",
      "  self._init_dates(dates, freq)\n",
      "/home/marco/Documentos/investigaci/investigacion_d/.venv/lib/python3.10/site-packages/statsmodels/tsa/base/tsa_model.py:473: ValueWarning: No frequency information was provided, so inferred frequency D will be used.\n",
      "  self._init_dates(dates, freq)\n",
      "/home/marco/Documentos/investigaci/investigacion_d/.venv/lib/python3.10/site-packages/statsmodels/base/model.py:607: ConvergenceWarning: Maximum Likelihood optimization failed to converge. Check mle_retvals\n",
      "  warnings.warn(\"Maximum Likelihood optimization failed to \"\n",
      "/home/marco/Documentos/investigaci/investigacion_d/.venv/lib/python3.10/site-packages/statsmodels/tsa/base/tsa_model.py:473: ValueWarning: No frequency information was provided, so inferred frequency D will be used.\n",
      "  self._init_dates(dates, freq)\n",
      "/home/marco/Documentos/investigaci/investigacion_d/.venv/lib/python3.10/site-packages/statsmodels/tsa/base/tsa_model.py:473: ValueWarning: No frequency information was provided, so inferred frequency D will be used.\n",
      "  self._init_dates(dates, freq)\n",
      "/home/marco/Documentos/investigaci/investigacion_d/.venv/lib/python3.10/site-packages/statsmodels/base/model.py:607: ConvergenceWarning: Maximum Likelihood optimization failed to converge. Check mle_retvals\n",
      "  warnings.warn(\"Maximum Likelihood optimization failed to \"\n",
      "/home/marco/Documentos/investigaci/investigacion_d/.venv/lib/python3.10/site-packages/statsmodels/tsa/base/tsa_model.py:473: ValueWarning: No frequency information was provided, so inferred frequency D will be used.\n",
      "  self._init_dates(dates, freq)\n",
      "/home/marco/Documentos/investigaci/investigacion_d/.venv/lib/python3.10/site-packages/statsmodels/tsa/base/tsa_model.py:473: ValueWarning: No frequency information was provided, so inferred frequency D will be used.\n",
      "  self._init_dates(dates, freq)\n",
      "/home/marco/Documentos/investigaci/investigacion_d/.venv/lib/python3.10/site-packages/statsmodels/base/model.py:607: ConvergenceWarning: Maximum Likelihood optimization failed to converge. Check mle_retvals\n",
      "  warnings.warn(\"Maximum Likelihood optimization failed to \"\n",
      "/home/marco/Documentos/investigaci/investigacion_d/.venv/lib/python3.10/site-packages/statsmodels/tsa/base/tsa_model.py:473: ValueWarning: No frequency information was provided, so inferred frequency D will be used.\n",
      "  self._init_dates(dates, freq)\n",
      "/home/marco/Documentos/investigaci/investigacion_d/.venv/lib/python3.10/site-packages/statsmodels/tsa/base/tsa_model.py:473: ValueWarning: No frequency information was provided, so inferred frequency D will be used.\n",
      "  self._init_dates(dates, freq)\n",
      "/home/marco/Documentos/investigaci/investigacion_d/.venv/lib/python3.10/site-packages/statsmodels/tsa/base/tsa_model.py:473: ValueWarning: No frequency information was provided, so inferred frequency D will be used.\n",
      "  self._init_dates(dates, freq)\n",
      "/home/marco/Documentos/investigaci/investigacion_d/.venv/lib/python3.10/site-packages/statsmodels/tsa/base/tsa_model.py:473: ValueWarning: No frequency information was provided, so inferred frequency D will be used.\n",
      "  self._init_dates(dates, freq)\n",
      "/home/marco/Documentos/investigaci/investigacion_d/.venv/lib/python3.10/site-packages/statsmodels/base/model.py:607: ConvergenceWarning: Maximum Likelihood optimization failed to converge. Check mle_retvals\n",
      "  warnings.warn(\"Maximum Likelihood optimization failed to \"\n",
      "/home/marco/Documentos/investigaci/investigacion_d/.venv/lib/python3.10/site-packages/statsmodels/tsa/base/tsa_model.py:473: ValueWarning: No frequency information was provided, so inferred frequency D will be used.\n",
      "  self._init_dates(dates, freq)\n",
      "/home/marco/Documentos/investigaci/investigacion_d/.venv/lib/python3.10/site-packages/statsmodels/tsa/base/tsa_model.py:473: ValueWarning: No frequency information was provided, so inferred frequency D will be used.\n",
      "  self._init_dates(dates, freq)\n",
      "/home/marco/Documentos/investigaci/investigacion_d/.venv/lib/python3.10/site-packages/statsmodels/tsa/statespace/sarimax.py:966: UserWarning: Non-stationary starting autoregressive parameters found. Using zeros as starting parameters.\n",
      "  warn('Non-stationary starting autoregressive parameters'\n",
      "/home/marco/Documentos/investigaci/investigacion_d/.venv/lib/python3.10/site-packages/statsmodels/tsa/statespace/sarimax.py:978: UserWarning: Non-invertible starting MA parameters found. Using zeros as starting parameters.\n",
      "  warn('Non-invertible starting MA parameters found.'\n",
      "/home/marco/Documentos/investigaci/investigacion_d/.venv/lib/python3.10/site-packages/statsmodels/tsa/base/tsa_model.py:473: ValueWarning: No frequency information was provided, so inferred frequency D will be used.\n",
      "  self._init_dates(dates, freq)\n",
      "/home/marco/Documentos/investigaci/investigacion_d/.venv/lib/python3.10/site-packages/statsmodels/tsa/base/tsa_model.py:473: ValueWarning: No frequency information was provided, so inferred frequency D will be used.\n",
      "  self._init_dates(dates, freq)\n",
      "/home/marco/Documentos/investigaci/investigacion_d/.venv/lib/python3.10/site-packages/statsmodels/tsa/statespace/sarimax.py:966: UserWarning: Non-stationary starting autoregressive parameters found. Using zeros as starting parameters.\n",
      "  warn('Non-stationary starting autoregressive parameters'\n",
      "/home/marco/Documentos/investigaci/investigacion_d/.venv/lib/python3.10/site-packages/statsmodels/tsa/statespace/sarimax.py:978: UserWarning: Non-invertible starting MA parameters found. Using zeros as starting parameters.\n",
      "  warn('Non-invertible starting MA parameters found.'\n",
      "/home/marco/Documentos/investigaci/investigacion_d/.venv/lib/python3.10/site-packages/statsmodels/base/model.py:607: ConvergenceWarning: Maximum Likelihood optimization failed to converge. Check mle_retvals\n",
      "  warnings.warn(\"Maximum Likelihood optimization failed to \"\n",
      "/home/marco/Documentos/investigaci/investigacion_d/.venv/lib/python3.10/site-packages/statsmodels/tsa/base/tsa_model.py:473: ValueWarning: No frequency information was provided, so inferred frequency D will be used.\n",
      "  self._init_dates(dates, freq)\n",
      "/home/marco/Documentos/investigaci/investigacion_d/.venv/lib/python3.10/site-packages/statsmodels/tsa/base/tsa_model.py:473: ValueWarning: No frequency information was provided, so inferred frequency D will be used.\n",
      "  self._init_dates(dates, freq)\n",
      "/home/marco/Documentos/investigaci/investigacion_d/.venv/lib/python3.10/site-packages/statsmodels/tsa/statespace/sarimax.py:966: UserWarning: Non-stationary starting autoregressive parameters found. Using zeros as starting parameters.\n",
      "  warn('Non-stationary starting autoregressive parameters'\n",
      "/home/marco/Documentos/investigaci/investigacion_d/.venv/lib/python3.10/site-packages/statsmodels/tsa/statespace/sarimax.py:978: UserWarning: Non-invertible starting MA parameters found. Using zeros as starting parameters.\n",
      "  warn('Non-invertible starting MA parameters found.'\n",
      "/home/marco/Documentos/investigaci/investigacion_d/.venv/lib/python3.10/site-packages/statsmodels/base/model.py:607: ConvergenceWarning: Maximum Likelihood optimization failed to converge. Check mle_retvals\n",
      "  warnings.warn(\"Maximum Likelihood optimization failed to \"\n",
      "/home/marco/Documentos/investigaci/investigacion_d/.venv/lib/python3.10/site-packages/statsmodels/tsa/base/tsa_model.py:473: ValueWarning: No frequency information was provided, so inferred frequency D will be used.\n",
      "  self._init_dates(dates, freq)\n",
      "/home/marco/Documentos/investigaci/investigacion_d/.venv/lib/python3.10/site-packages/statsmodels/tsa/base/tsa_model.py:473: ValueWarning: No frequency information was provided, so inferred frequency D will be used.\n",
      "  self._init_dates(dates, freq)\n",
      "/home/marco/Documentos/investigaci/investigacion_d/.venv/lib/python3.10/site-packages/statsmodels/tsa/statespace/sarimax.py:966: UserWarning: Non-stationary starting autoregressive parameters found. Using zeros as starting parameters.\n",
      "  warn('Non-stationary starting autoregressive parameters'\n",
      "/home/marco/Documentos/investigaci/investigacion_d/.venv/lib/python3.10/site-packages/statsmodels/tsa/statespace/sarimax.py:978: UserWarning: Non-invertible starting MA parameters found. Using zeros as starting parameters.\n",
      "  warn('Non-invertible starting MA parameters found.'\n",
      "/home/marco/Documentos/investigaci/investigacion_d/.venv/lib/python3.10/site-packages/statsmodels/base/model.py:607: ConvergenceWarning: Maximum Likelihood optimization failed to converge. Check mle_retvals\n",
      "  warnings.warn(\"Maximum Likelihood optimization failed to \"\n",
      "/home/marco/Documentos/investigaci/investigacion_d/.venv/lib/python3.10/site-packages/statsmodels/tsa/base/tsa_model.py:473: ValueWarning: No frequency information was provided, so inferred frequency D will be used.\n",
      "  self._init_dates(dates, freq)\n",
      "/home/marco/Documentos/investigaci/investigacion_d/.venv/lib/python3.10/site-packages/statsmodels/tsa/base/tsa_model.py:473: ValueWarning: No frequency information was provided, so inferred frequency D will be used.\n",
      "  self._init_dates(dates, freq)\n",
      "/home/marco/Documentos/investigaci/investigacion_d/.venv/lib/python3.10/site-packages/statsmodels/tsa/base/tsa_model.py:473: ValueWarning: No frequency information was provided, so inferred frequency D will be used.\n",
      "  self._init_dates(dates, freq)\n",
      "/home/marco/Documentos/investigaci/investigacion_d/.venv/lib/python3.10/site-packages/statsmodels/tsa/base/tsa_model.py:473: ValueWarning: No frequency information was provided, so inferred frequency D will be used.\n",
      "  self._init_dates(dates, freq)\n",
      "/home/marco/Documentos/investigaci/investigacion_d/.venv/lib/python3.10/site-packages/statsmodels/tsa/base/tsa_model.py:473: ValueWarning: No frequency information was provided, so inferred frequency D will be used.\n",
      "  self._init_dates(dates, freq)\n",
      "/home/marco/Documentos/investigaci/investigacion_d/.venv/lib/python3.10/site-packages/statsmodels/tsa/base/tsa_model.py:473: ValueWarning: No frequency information was provided, so inferred frequency D will be used.\n",
      "  self._init_dates(dates, freq)\n",
      "/home/marco/Documentos/investigaci/investigacion_d/.venv/lib/python3.10/site-packages/statsmodels/tsa/statespace/sarimax.py:978: UserWarning: Non-invertible starting MA parameters found. Using zeros as starting parameters.\n",
      "  warn('Non-invertible starting MA parameters found.'\n",
      "/home/marco/Documentos/investigaci/investigacion_d/.venv/lib/python3.10/site-packages/statsmodels/tsa/base/tsa_model.py:473: ValueWarning: No frequency information was provided, so inferred frequency D will be used.\n",
      "  self._init_dates(dates, freq)\n",
      "/home/marco/Documentos/investigaci/investigacion_d/.venv/lib/python3.10/site-packages/statsmodels/tsa/base/tsa_model.py:473: ValueWarning: No frequency information was provided, so inferred frequency D will be used.\n",
      "  self._init_dates(dates, freq)\n",
      "/home/marco/Documentos/investigaci/investigacion_d/.venv/lib/python3.10/site-packages/statsmodels/base/model.py:607: ConvergenceWarning: Maximum Likelihood optimization failed to converge. Check mle_retvals\n",
      "  warnings.warn(\"Maximum Likelihood optimization failed to \"\n",
      "/home/marco/Documentos/investigaci/investigacion_d/.venv/lib/python3.10/site-packages/statsmodels/tsa/base/tsa_model.py:473: ValueWarning: No frequency information was provided, so inferred frequency D will be used.\n",
      "  self._init_dates(dates, freq)\n",
      "/home/marco/Documentos/investigaci/investigacion_d/.venv/lib/python3.10/site-packages/statsmodels/tsa/base/tsa_model.py:473: ValueWarning: No frequency information was provided, so inferred frequency D will be used.\n",
      "  self._init_dates(dates, freq)\n",
      "/home/marco/Documentos/investigaci/investigacion_d/.venv/lib/python3.10/site-packages/statsmodels/base/model.py:607: ConvergenceWarning: Maximum Likelihood optimization failed to converge. Check mle_retvals\n",
      "  warnings.warn(\"Maximum Likelihood optimization failed to \"\n",
      "/home/marco/Documentos/investigaci/investigacion_d/.venv/lib/python3.10/site-packages/statsmodels/tsa/base/tsa_model.py:473: ValueWarning: No frequency information was provided, so inferred frequency D will be used.\n",
      "  self._init_dates(dates, freq)\n",
      "/home/marco/Documentos/investigaci/investigacion_d/.venv/lib/python3.10/site-packages/statsmodels/tsa/base/tsa_model.py:473: ValueWarning: No frequency information was provided, so inferred frequency D will be used.\n",
      "  self._init_dates(dates, freq)\n",
      "/home/marco/Documentos/investigaci/investigacion_d/.venv/lib/python3.10/site-packages/statsmodels/base/model.py:607: ConvergenceWarning: Maximum Likelihood optimization failed to converge. Check mle_retvals\n",
      "  warnings.warn(\"Maximum Likelihood optimization failed to \"\n"
     ]
    },
    {
     "name": "stdout",
     "output_type": "stream",
     "text": [
      "Mejor orden ARIMA: (3, 1, 4)\n"
     ]
    },
    {
     "data": {
      "image/png": "[encoded data removed]",
      "text/plain": [
       "<Figure size 1200x600 with 1 Axes>"
      ]
     },
     "metadata": {},
     "output_type": "display_data"
    },
    {
     "name": "stdout",
     "output_type": "stream",
     "text": [
      "Error cuadrático medio: 2.88\n"
     ]
    }
   ],
   "source": [
    "\n",
    "import pandas as pd\n",
    "import numpy as np\n",
    "import matplotlib.pyplot as plt\n",
    "from statsmodels.tsa.statespace.sarimax import SARIMAX\n",
    "from sklearn.metrics import mean_squared_error\n",
    "\n",
    "# Cargar el dataset\n",
    "data = pd.read_csv('dataset_dengue_lluvia.csv', parse_dates=['Fecha'], index_col='Fecha')\n",
    "\n",
    "# Visualización de los datos\n",
    "plt.figure(figsize=(12, 6))\n",
    "plt.plot(data.index, data['Lluvia'], label='Lluvia (mm)')\n",
    "plt.plot(data.index, data['Casos_Dengue'], label='Casos de Dengue')\n",
    "plt.legend()\n",
    "plt.title('Datos de Lluvia y Casos de Dengue')\n",
    "plt.show()\n",
    "\n",
    "# Seleccionar la serie temporal de los casos de dengue y la variable exógena (lluvia)\n",
    "dengue_cases = data['Casos_Dengue']\n",
    "rainfall = data['Lluvia']\n",
    "\n",
    "# Dividir los datos en entrenamiento y prueba\n",
    "train_size = int(len(dengue_cases) * 0.8)\n",
    "train_cases, test_cases = dengue_cases[:train_size], dengue_cases[train_size:]\n",
    "train_rain, test_rain = rainfall[:train_size], rainfall[train_size:]\n",
    "\n",
    "# Función para buscar los mejores parámetros ARIMA\n",
    "def find_best_arima_params(train_cases, train_rain):\n",
    "    best_aic = np.inf\n",
    "    best_order = None\n",
    "    best_model = None\n",
    "    \n",
    "    for p in range(0, 6):\n",
    "        for d in range(0, 2):\n",
    "            for q in range(0, 6):\n",
    "                try:\n",
    "                    model = SARIMAX(train_cases, order=(p, d, q), exog=train_rain)\n",
    "                    model_fit = model.fit(disp=False)\n",
    "                    if model_fit.aic < best_aic:\n",
    "                        best_aic = model_fit.aic\n",
    "                        best_order = (p, d, q)\n",
    "                        best_model = model_fit\n",
    "                except:\n",
    "                    continue\n",
    "    return best_order, best_model\n",
    "\n",
    "# Encontrar los mejores parámetros ARIMA\n",
    "best_order, best_model = find_best_arima_params(train_cases, train_rain)\n",
    "print(f'Mejor orden ARIMA: {best_order}')\n",
    "\n",
    "# Realizar predicciones con el mejor modelo\n",
    "predictions = best_model.forecast(steps=len(test_cases), exog=test_rain)\n",
    "\n",
    "# Visualización de los resultados\n",
    "plt.figure(figsize=(12, 6))\n",
    "plt.plot(train_cases.index, train_cases.values, label='Entrenamiento')\n",
    "plt.plot(test_cases.index, test_cases.values, label='Prueba')\n",
    "plt.plot(test_cases.index, predictions, label='Predicciones', color='red')\n",
    "plt.legend()\n",
    "plt.title('Predicción de Casos de Dengue usando ARIMAX')\n",
    "plt.show()\n",
    "\n",
    "# Evaluación del modelo\n",
    "mse = mean_squared_error(test_cases, predictions)\n",
    "print(f'Error cuadrático medio: {mse:.2f}')\n"
   ]
  },
  {
   "cell_type": "markdown",
   "id": "99dc1334",
   "metadata": {},
   "source": [
    "# Experimentación con chequeo de estacionalidad\n"
   ]
  },
  {
   "cell_type": "code",
   "execution_count": 38,
   "id": "4f149ab8",
   "metadata": {},
   "outputs": [
    {
     "name": "stdout",
     "output_type": "stream",
     "text": [
      "ADF Statistic: -22.723161925891052\n",
      "p-value: 0.0\n",
      "Critial Values:\n",
      "   1%, -3.4339441475744668\n",
      "Critial Values:\n",
      "   5%, -2.8631276157416945\n",
      "Critial Values:\n",
      "   10%, -2.5676151930364455\n"
     ]
    },
    {
     "name": "stderr",
     "output_type": "stream",
     "text": [
      "/home/marco/Documentos/investigaci/investigacion_d/.venv/lib/python3.10/site-packages/statsmodels/tsa/base/tsa_model.py:473: ValueWarning: No frequency information was provided, so inferred frequency D will be used.\n",
      "  self._init_dates(dates, freq)\n",
      "/home/marco/Documentos/investigaci/investigacion_d/.venv/lib/python3.10/site-packages/statsmodels/tsa/base/tsa_model.py:473: ValueWarning: No frequency information was provided, so inferred frequency D will be used.\n",
      "  self._init_dates(dates, freq)\n"
     ]
    },
    {
     "data": {
      "image/png": "[encoded data removed]",
      "text/plain": [
       "<Figure size 1200x600 with 1 Axes>"
      ]
     },
     "metadata": {},
     "output_type": "display_data"
    },
    {
     "name": "stdout",
     "output_type": "stream",
     "text": [
      "Error cuadrático medio: 3.29\n"
     ]
    }
   ],
   "source": [
    "import pandas as pd\n",
    "import numpy as np\n",
    "import matplotlib.pyplot as plt\n",
    "from statsmodels.tsa.statespace.sarimax import SARIMAX\n",
    "from sklearn.metrics import mean_squared_error\n",
    "from statsmodels.tsa.stattools import adfuller\n",
    "\n",
    "# Función para verificar la estacionariedad\n",
    "def check_stationarity(series, significance_level=0.05):\n",
    "    result = adfuller(series)\n",
    "    print(f'ADF Statistic: {result[0]}')\n",
    "    print(f'p-value: {result[1]}')\n",
    "    for key, value in result[4].items():\n",
    "        print('Critial Values:')\n",
    "        print(f'   {key}, {value}')\n",
    "    return result[1] <= significance_level\n",
    "\n",
    "# Generar un rango de fechas diarias\n",
    "dates = pd.date_range(start=\"2005-01-01\", end=\"2009-12-31\", freq='D')\n",
    "\n",
    "# Generar datos de lluvia aleatorios\n",
    "np.random.seed(42)\n",
    "rainfall = np.random.poisson(lam=5, size=len(dates))  # Media de 5 mm de lluvia diaria\n",
    "\n",
    "# Generar datos de casos de dengue con cierto retraso\n",
    "cases = np.random.poisson(lam=2, size=len(dates))\n",
    "for i in range(30, len(cases)):\n",
    "    cases[i] += int(0.3 * rainfall[i-30])  \n",
    "    # Supongamos que el 30% de la lluvia afecta los casos de dengue 30 días después\n",
    "\n",
    "# Crear un DataFrame\n",
    "data = pd.DataFrame({'Fecha': dates, 'Lluvia': rainfall, 'Casos_Dengue': cases})\n",
    "\n",
    "# Guardar el DataFrame como archivo .csv\n",
    "data.to_csv('dataset_dengue_lluvia.csv', index=False)\n",
    "\n",
    "# Cargar el dataset\n",
    "data = pd.read_csv('dataset_dengue_lluvia.csv', parse_dates=['Fecha'], index_col='Fecha')\n",
    "\n",
    "# Verificar la estacionariedad de la serie de tiempo\n",
    "is_stationary = check_stationarity(data['Casos_Dengue'])\n",
    "if not is_stationary:\n",
    "    print(\"La serie de tiempo no es estacionaria. Aplicando diferenciación...\")\n",
    "    data['Casos_Dengue_Diff'] = data['Casos_Dengue'].diff().dropna()\n",
    "    dengue_cases = data['Casos_Dengue_Diff'].dropna()\n",
    "else:\n",
    "    dengue_cases = data['Casos_Dengue']\n",
    "\n",
    "# Seleccionar la serie temporal de los casos de dengue y la variable exógena (lluvia)\n",
    "rainfall = data['Lluvia']\n",
    "\n",
    "# Dividir los datos en entrenamiento y prueba\n",
    "train_size = int(len(dengue_cases) * 0.8)\n",
    "train_cases, test_cases = dengue_cases[:train_size], dengue_cases[train_size:]\n",
    "train_rain, test_rain = rainfall[:train_size], rainfall[train_size:]\n",
    "\n",
    "# Ajustar el modelo ARIMAX (p, d, q) = (5, 1, 0)\n",
    "model = SARIMAX(train_cases, order=(5, 1, 0), exog=train_rain)\n",
    "model_fit = model.fit(disp=False)\n",
    "\n",
    "# Realizar predicciones\n",
    "predictions = model_fit.forecast(steps=len(test_cases), exog=test_rain)\n",
    "\n",
    "# Visualización de los resultados\n",
    "plt.figure(figsize=(12, 6))\n",
    "plt.plot(train_cases.index, train_cases.values, label='Entrenamiento')\n",
    "plt.plot(test_cases.index, test_cases.values, label='Prueba')\n",
    "plt.plot(test_cases.index, predictions, label='Predicciones', color='red')\n",
    "plt.legend()\n",
    "plt.title('Predicción de Casos de Dengue usando ARIMAX')\n",
    "plt.show()\n",
    "\n",
    "# Evaluación del modelo\n",
    "mse = mean_squared_error(test_cases, predictions)\n",
    "print(f'Error cuadrático medio: {mse:.2f}')\n"
   ]
  },
  {
   "cell_type": "code",
   "execution_count": null,
   "id": "929140dd",
   "metadata": {},
   "outputs": [],
   "source": []
  },
  {
   "cell_type": "code",
   "execution_count": null,
   "id": "0ee4e712",
   "metadata": {},
   "outputs": [],
   "source": []
  },
  {
   "cell_type": "markdown",
   "id": "64ac8d32",
   "metadata": {},
   "source": [
    "# Ejemplo ilustrativo"
   ]
  },
  {
   "cell_type": "markdown",
   "id": "a3e5e6ab",
   "metadata": {},
   "source": [
    "# 10 ejercicios de entrenamiento o adquisición de habilidades obtenido a través de ChatGPT para una formación personalizada y centrada en la habilidad que se quiere lograr con la enseñanza del ejemplo anterior"
   ]
  },
  {
   "cell_type": "code",
   "execution_count": null,
   "id": "cc539357",
   "metadata": {},
   "outputs": [],
   "source": []
  },
  {
   "cell_type": "markdown",
   "id": "2f0141c3",
   "metadata": {},
   "source": [
    "## Tareas para realizar antes de la clase  \n",
    "\n",
    "1. Ver los videos respectivos []()\n",
    "2. Memorizar las definiciones []()\n",
    "3. Sintetizar o resumir la información en mapas conceptuales. []()\n",
    "4. Tareas para incentivar el uso de la calculadora Casio Para ingenieros y licenciados. \n",
    "5. Leer los ejemplos resueltos y repricar la manera de hacerlos"
   ]
  },
  {
   "cell_type": "code",
   "execution_count": 5,
   "id": "83d849ab",
   "metadata": {},
   "outputs": [
    {
     "name": "stdout",
     "output_type": "stream",
     "text": [
      "Tarea 1 de lectura de ejemplos y completación de procedimientos:  tarea_Purcell_Página_202_Sección_3.8.csv\n"
     ]
    },
    {
     "data": {
      "text/html": [
       "<div>\n",
       "<style scoped>\n",
       "    .dataframe tbody tr th:only-of-type {\n",
       "        vertical-align: middle;\n",
       "    }\n",
       "\n",
       "    .dataframe tbody tr th {\n",
       "        vertical-align: top;\n",
       "    }\n",
       "\n",
       "    .dataframe thead th {\n",
       "        text-align: right;\n",
       "    }\n",
       "</style>\n",
       "<table border=\"1\" class=\"dataframe\">\n",
       "  <thead>\n",
       "    <tr style=\"text-align: right;\">\n",
       "      <th></th>\n",
       "      <th>Student</th>\n",
       "      <th>Example1</th>\n",
       "      <th>Example2</th>\n",
       "      <th>Example3</th>\n",
       "    </tr>\n",
       "  </thead>\n",
       "  <tbody>\n",
       "    <tr>\n",
       "      <th>0</th>\n",
       "      <td>AGUDELO MORENO RENATO DIRNEY</td>\n",
       "      <td>48</td>\n",
       "      <td>22</td>\n",
       "      <td>2</td>\n",
       "    </tr>\n",
       "    <tr>\n",
       "      <th>1</th>\n",
       "      <td>AMARIS FERNANDEZ SEBASTIAN CAMILO</td>\n",
       "      <td>37</td>\n",
       "      <td>18</td>\n",
       "      <td>20</td>\n",
       "    </tr>\n",
       "    <tr>\n",
       "      <th>2</th>\n",
       "      <td>ARENAS HERAZO GABRIEL ENRIQUE</td>\n",
       "      <td>29</td>\n",
       "      <td>47</td>\n",
       "      <td>49</td>\n",
       "    </tr>\n",
       "    <tr>\n",
       "      <th>3</th>\n",
       "      <td>AYALA MENDOZA MARISOL YACIRA</td>\n",
       "      <td>45</td>\n",
       "      <td>35</td>\n",
       "      <td>7</td>\n",
       "    </tr>\n",
       "    <tr>\n",
       "      <th>4</th>\n",
       "      <td>BERTEL RODELO MICHELL SMIT</td>\n",
       "      <td>41</td>\n",
       "      <td>14</td>\n",
       "      <td>29</td>\n",
       "    </tr>\n",
       "    <tr>\n",
       "      <th>5</th>\n",
       "      <td>BULA VERGARA MARIA PAULA</td>\n",
       "      <td>22</td>\n",
       "      <td>46</td>\n",
       "      <td>5</td>\n",
       "    </tr>\n",
       "    <tr>\n",
       "      <th>6</th>\n",
       "      <td>CANTILLO ENSUCHO DANIEL</td>\n",
       "      <td>19</td>\n",
       "      <td>50</td>\n",
       "      <td>46</td>\n",
       "    </tr>\n",
       "    <tr>\n",
       "      <th>7</th>\n",
       "      <td>CERVANTES DURAN ANGELICA</td>\n",
       "      <td>16</td>\n",
       "      <td>20</td>\n",
       "      <td>13</td>\n",
       "    </tr>\n",
       "    <tr>\n",
       "      <th>8</th>\n",
       "      <td>GALLEGO TEJADA JUAN ESTEBAN</td>\n",
       "      <td>36</td>\n",
       "      <td>11</td>\n",
       "      <td>49</td>\n",
       "    </tr>\n",
       "    <tr>\n",
       "      <th>9</th>\n",
       "      <td>GUERRA NORIEGA YONATHAN</td>\n",
       "      <td>47</td>\n",
       "      <td>43</td>\n",
       "      <td>51</td>\n",
       "    </tr>\n",
       "    <tr>\n",
       "      <th>10</th>\n",
       "      <td>HINCAPIE CASTRO JOHAN SEBASTIAN</td>\n",
       "      <td>35</td>\n",
       "      <td>51</td>\n",
       "      <td>2</td>\n",
       "    </tr>\n",
       "    <tr>\n",
       "      <th>11</th>\n",
       "      <td>HUMANEZ SANCHEZ CAMILO</td>\n",
       "      <td>20</td>\n",
       "      <td>26</td>\n",
       "      <td>50</td>\n",
       "    </tr>\n",
       "    <tr>\n",
       "      <th>12</th>\n",
       "      <td>IBAnEZ MORENO FRANCISCO LUIS</td>\n",
       "      <td>7</td>\n",
       "      <td>8</td>\n",
       "      <td>53</td>\n",
       "    </tr>\n",
       "    <tr>\n",
       "      <th>13</th>\n",
       "      <td>LONDONO CUADRADO CRISTIAN ALBERTO</td>\n",
       "      <td>37</td>\n",
       "      <td>10</td>\n",
       "      <td>6</td>\n",
       "    </tr>\n",
       "    <tr>\n",
       "      <th>14</th>\n",
       "      <td>MASS MIRANDA RIVALDO JOSE</td>\n",
       "      <td>35</td>\n",
       "      <td>14</td>\n",
       "      <td>23</td>\n",
       "    </tr>\n",
       "    <tr>\n",
       "      <th>15</th>\n",
       "      <td>MIRANDA MARTINEZ CARLOS ANDRES</td>\n",
       "      <td>11</td>\n",
       "      <td>30</td>\n",
       "      <td>29</td>\n",
       "    </tr>\n",
       "    <tr>\n",
       "      <th>16</th>\n",
       "      <td>MONTERROSA SOTO ABRIL</td>\n",
       "      <td>10</td>\n",
       "      <td>8</td>\n",
       "      <td>4</td>\n",
       "    </tr>\n",
       "    <tr>\n",
       "      <th>17</th>\n",
       "      <td>NORIEGA JIMENEZ GABRIELA</td>\n",
       "      <td>2</td>\n",
       "      <td>41</td>\n",
       "      <td>37</td>\n",
       "    </tr>\n",
       "    <tr>\n",
       "      <th>18</th>\n",
       "      <td>PEREZ REYES IVAN DARIO</td>\n",
       "      <td>6</td>\n",
       "      <td>13</td>\n",
       "      <td>34</td>\n",
       "    </tr>\n",
       "    <tr>\n",
       "      <th>19</th>\n",
       "      <td>PEREZ THERAN ERLINDA</td>\n",
       "      <td>49</td>\n",
       "      <td>4</td>\n",
       "      <td>47</td>\n",
       "    </tr>\n",
       "    <tr>\n",
       "      <th>20</th>\n",
       "      <td>PINEDA ROMERO YOSMERI</td>\n",
       "      <td>42</td>\n",
       "      <td>9</td>\n",
       "      <td>2</td>\n",
       "    </tr>\n",
       "    <tr>\n",
       "      <th>21</th>\n",
       "      <td>QUINONEZ CERVANTES MARIANA</td>\n",
       "      <td>11</td>\n",
       "      <td>49</td>\n",
       "      <td>32</td>\n",
       "    </tr>\n",
       "    <tr>\n",
       "      <th>22</th>\n",
       "      <td>QUIROZ DURAN JUAN MANUEL</td>\n",
       "      <td>43</td>\n",
       "      <td>14</td>\n",
       "      <td>21</td>\n",
       "    </tr>\n",
       "    <tr>\n",
       "      <th>23</th>\n",
       "      <td>RAMOS PEREZ YANINE</td>\n",
       "      <td>7</td>\n",
       "      <td>27</td>\n",
       "      <td>47</td>\n",
       "    </tr>\n",
       "    <tr>\n",
       "      <th>24</th>\n",
       "      <td>RIVAS HOYOS ESTEFANIA</td>\n",
       "      <td>23</td>\n",
       "      <td>27</td>\n",
       "      <td>39</td>\n",
       "    </tr>\n",
       "    <tr>\n",
       "      <th>25</th>\n",
       "      <td>ROSILLO TEJADA VANESA</td>\n",
       "      <td>49</td>\n",
       "      <td>11</td>\n",
       "      <td>16</td>\n",
       "    </tr>\n",
       "    <tr>\n",
       "      <th>26</th>\n",
       "      <td>SANCHEZ PADILLA SILVESTRE</td>\n",
       "      <td>25</td>\n",
       "      <td>37</td>\n",
       "      <td>50</td>\n",
       "    </tr>\n",
       "    <tr>\n",
       "      <th>27</th>\n",
       "      <td>SILVA ROYERO MAILY CRISTINA</td>\n",
       "      <td>11</td>\n",
       "      <td>25</td>\n",
       "      <td>2</td>\n",
       "    </tr>\n",
       "    <tr>\n",
       "      <th>28</th>\n",
       "      <td>USUGA GEORGE JHON ESTIVEN</td>\n",
       "      <td>29</td>\n",
       "      <td>20</td>\n",
       "      <td>12</td>\n",
       "    </tr>\n",
       "  </tbody>\n",
       "</table>\n",
       "</div>"
      ],
      "text/plain": [
       "                              Student  Example1  Example2  Example3\n",
       "0        AGUDELO MORENO RENATO DIRNEY        48        22         2\n",
       "1   AMARIS FERNANDEZ SEBASTIAN CAMILO        37        18        20\n",
       "2       ARENAS HERAZO GABRIEL ENRIQUE        29        47        49\n",
       "3        AYALA MENDOZA MARISOL YACIRA        45        35         7\n",
       "4          BERTEL RODELO MICHELL SMIT        41        14        29\n",
       "5            BULA VERGARA MARIA PAULA        22        46         5\n",
       "6             CANTILLO ENSUCHO DANIEL        19        50        46\n",
       "7            CERVANTES DURAN ANGELICA        16        20        13\n",
       "8         GALLEGO TEJADA JUAN ESTEBAN        36        11        49\n",
       "9             GUERRA NORIEGA YONATHAN        47        43        51\n",
       "10    HINCAPIE CASTRO JOHAN SEBASTIAN        35        51         2\n",
       "11             HUMANEZ SANCHEZ CAMILO        20        26        50\n",
       "12       IBAnEZ MORENO FRANCISCO LUIS         7         8        53\n",
       "13  LONDONO CUADRADO CRISTIAN ALBERTO        37        10         6\n",
       "14          MASS MIRANDA RIVALDO JOSE        35        14        23\n",
       "15     MIRANDA MARTINEZ CARLOS ANDRES        11        30        29\n",
       "16              MONTERROSA SOTO ABRIL        10         8         4\n",
       "17           NORIEGA JIMENEZ GABRIELA         2        41        37\n",
       "18             PEREZ REYES IVAN DARIO         6        13        34\n",
       "19               PEREZ THERAN ERLINDA        49         4        47\n",
       "20              PINEDA ROMERO YOSMERI        42         9         2\n",
       "21         QUINONEZ CERVANTES MARIANA        11        49        32\n",
       "22           QUIROZ DURAN JUAN MANUEL        43        14        21\n",
       "23                 RAMOS PEREZ YANINE         7        27        47\n",
       "24              RIVAS HOYOS ESTEFANIA        23        27        39\n",
       "25              ROSILLO TEJADA VANESA        49        11        16\n",
       "26          SANCHEZ PADILLA SILVESTRE        25        37        50\n",
       "27        SILVA ROYERO MAILY CRISTINA        11        25         2\n",
       "28          USUGA GEORGE JHON ESTIVEN        29        20        12"
      ]
     },
     "execution_count": 5,
     "metadata": {},
     "output_type": "execute_result"
    }
   ],
   "source": [
    "# Tarea 1 de lectura de ejemplos y completación de procedimientos\n",
    "# asignación de tarea para realizar antes de clase\n",
    "# Consiste en leer y completar un ejemplo de texto guía\n",
    "\n",
    "import pandas as pd\n",
    "import numpy as np\n",
    "import requests\n",
    "np.random.seed(1213)  # establecer semilla aleatoria para hacer los resultados reproducibles\n",
    "\n",
    "\n",
    "\n",
    "grupo_estudiantes = 'calculo_integral'\n",
    "nombre_texto_guia = 'Purcell'\n",
    "pagina_y_seccion = 'Página_202_Sección_3.8'\n",
    "numero_ejemplos_de_la_seccion = 54\n",
    "numero_de_ejemplos_asignados = 3\n",
    "\n",
    "\n",
    "# Descargar la lista de  estudiantes\n",
    "students_url = \"https://raw.githubusercontent.com/marco-canas/groups_list/main/\" + grupo_estudiantes + \".csv\"\n",
    "examples = list(range(1, numero_ejemplos_de_la_seccion))  \n",
    "\n",
    "students_data = pd.read_csv(students_url)\n",
    "\n",
    "# Crear una lista para almacenar las asignaciones\n",
    "assignments = []\n",
    "\n",
    "# Asignar ejercicios aleatorios a cada estudiante\n",
    "for index, student in students_data.iterrows():\n",
    "    # Seleccionar 5 ejercicios aleatorios sin repetición\n",
    "    random_exercises = np.random.choice(examples, numero_de_ejemplos_asignados, replace = False)+ 1 \n",
    "    assignments.append([students_data[\"Nombre\"][index], *random_exercises])  # Agregar asignación a la lista\n",
    "\n",
    "# Crear un DataFrame con las asignaciones\n",
    "columns = [\"Student\"] + [ \"Example\" + str(i+1) for i in range(numero_de_ejemplos_asignados)]\n",
    "assignment_df = pd.DataFrame(assignments, columns=columns)\n",
    "\n",
    "# Guardar el DataFrame en un archivo CSV\n",
    "assignment_csv = \"tarea\" + \"_\" + nombre_texto_guia + \"_\"+ pagina_y_seccion + \".csv\"\n",
    "assignment_df.to_csv(assignment_csv, index=False)\n",
    "\n",
    "print(\"Tarea 1 de lectura de ejemplos y completación de procedimientos: \", assignment_csv)\n",
    "assignment_df"
   ]
  },
  {
   "cell_type": "markdown",
   "id": "fccb447c",
   "metadata": {
    "slideshow": {
     "slide_type": "slide"
    }
   },
   "source": [
    "# Tareas para realizar en clase"
   ]
  },
  {
   "cell_type": "code",
   "execution_count": 7,
   "id": "0f1f0ab2",
   "metadata": {},
   "outputs": [
    {
     "name": "stdout",
     "output_type": "stream",
     "text": [
      "Tarea 3 de solución de problemas:  tarea_Purcell_Página_202_Sección_3.8.csv\n"
     ]
    },
    {
     "data": {
      "text/html": [
       "<div>\n",
       "<style scoped>\n",
       "    .dataframe tbody tr th:only-of-type {\n",
       "        vertical-align: middle;\n",
       "    }\n",
       "\n",
       "    .dataframe tbody tr th {\n",
       "        vertical-align: top;\n",
       "    }\n",
       "\n",
       "    .dataframe thead th {\n",
       "        text-align: right;\n",
       "    }\n",
       "</style>\n",
       "<table border=\"1\" class=\"dataframe\">\n",
       "  <thead>\n",
       "    <tr style=\"text-align: right;\">\n",
       "      <th></th>\n",
       "      <th>Student</th>\n",
       "      <th>Exer1</th>\n",
       "      <th>Exer2</th>\n",
       "      <th>Exer3</th>\n",
       "      <th>Exer4</th>\n",
       "      <th>Exer5</th>\n",
       "      <th>Exer6</th>\n",
       "      <th>Exer7</th>\n",
       "      <th>Exer8</th>\n",
       "      <th>Exer9</th>\n",
       "      <th>Exer10</th>\n",
       "    </tr>\n",
       "  </thead>\n",
       "  <tbody>\n",
       "    <tr>\n",
       "      <th>0</th>\n",
       "      <td>AGUDELO MORENO RENATO DIRNEY</td>\n",
       "      <td>47</td>\n",
       "      <td>2</td>\n",
       "      <td>52</td>\n",
       "      <td>29</td>\n",
       "      <td>21</td>\n",
       "      <td>4</td>\n",
       "      <td>36</td>\n",
       "      <td>54</td>\n",
       "      <td>35</td>\n",
       "      <td>53</td>\n",
       "    </tr>\n",
       "    <tr>\n",
       "      <th>1</th>\n",
       "      <td>AMARIS FERNANDEZ SEBASTIAN CAMILO</td>\n",
       "      <td>42</td>\n",
       "      <td>23</td>\n",
       "      <td>44</td>\n",
       "      <td>20</td>\n",
       "      <td>2</td>\n",
       "      <td>34</td>\n",
       "      <td>45</td>\n",
       "      <td>43</td>\n",
       "      <td>37</td>\n",
       "      <td>8</td>\n",
       "    </tr>\n",
       "    <tr>\n",
       "      <th>2</th>\n",
       "      <td>ARENAS HERAZO GABRIEL ENRIQUE</td>\n",
       "      <td>45</td>\n",
       "      <td>26</td>\n",
       "      <td>20</td>\n",
       "      <td>10</td>\n",
       "      <td>35</td>\n",
       "      <td>36</td>\n",
       "      <td>23</td>\n",
       "      <td>29</td>\n",
       "      <td>31</td>\n",
       "      <td>12</td>\n",
       "    </tr>\n",
       "    <tr>\n",
       "      <th>3</th>\n",
       "      <td>AYALA MENDOZA MARISOL YACIRA</td>\n",
       "      <td>24</td>\n",
       "      <td>18</td>\n",
       "      <td>39</td>\n",
       "      <td>54</td>\n",
       "      <td>5</td>\n",
       "      <td>19</td>\n",
       "      <td>38</td>\n",
       "      <td>41</td>\n",
       "      <td>30</td>\n",
       "      <td>28</td>\n",
       "    </tr>\n",
       "    <tr>\n",
       "      <th>4</th>\n",
       "      <td>BERTEL RODELO MICHELL SMIT</td>\n",
       "      <td>9</td>\n",
       "      <td>23</td>\n",
       "      <td>32</td>\n",
       "      <td>46</td>\n",
       "      <td>18</td>\n",
       "      <td>48</td>\n",
       "      <td>34</td>\n",
       "      <td>21</td>\n",
       "      <td>10</td>\n",
       "      <td>33</td>\n",
       "    </tr>\n",
       "    <tr>\n",
       "      <th>5</th>\n",
       "      <td>BULA VERGARA MARIA PAULA</td>\n",
       "      <td>34</td>\n",
       "      <td>5</td>\n",
       "      <td>44</td>\n",
       "      <td>43</td>\n",
       "      <td>21</td>\n",
       "      <td>23</td>\n",
       "      <td>40</td>\n",
       "      <td>36</td>\n",
       "      <td>18</td>\n",
       "      <td>51</td>\n",
       "    </tr>\n",
       "    <tr>\n",
       "      <th>6</th>\n",
       "      <td>CANTILLO ENSUCHO DANIEL</td>\n",
       "      <td>2</td>\n",
       "      <td>20</td>\n",
       "      <td>43</td>\n",
       "      <td>7</td>\n",
       "      <td>32</td>\n",
       "      <td>11</td>\n",
       "      <td>23</td>\n",
       "      <td>12</td>\n",
       "      <td>22</td>\n",
       "      <td>34</td>\n",
       "    </tr>\n",
       "    <tr>\n",
       "      <th>7</th>\n",
       "      <td>CERVANTES DURAN ANGELICA</td>\n",
       "      <td>46</td>\n",
       "      <td>39</td>\n",
       "      <td>20</td>\n",
       "      <td>19</td>\n",
       "      <td>36</td>\n",
       "      <td>42</td>\n",
       "      <td>12</td>\n",
       "      <td>23</td>\n",
       "      <td>25</td>\n",
       "      <td>34</td>\n",
       "    </tr>\n",
       "    <tr>\n",
       "      <th>8</th>\n",
       "      <td>GALLEGO TEJADA JUAN ESTEBAN</td>\n",
       "      <td>19</td>\n",
       "      <td>7</td>\n",
       "      <td>6</td>\n",
       "      <td>34</td>\n",
       "      <td>30</td>\n",
       "      <td>37</td>\n",
       "      <td>18</td>\n",
       "      <td>41</td>\n",
       "      <td>11</td>\n",
       "      <td>24</td>\n",
       "    </tr>\n",
       "    <tr>\n",
       "      <th>9</th>\n",
       "      <td>GUERRA NORIEGA YONATHAN</td>\n",
       "      <td>54</td>\n",
       "      <td>46</td>\n",
       "      <td>2</td>\n",
       "      <td>35</td>\n",
       "      <td>9</td>\n",
       "      <td>7</td>\n",
       "      <td>31</td>\n",
       "      <td>11</td>\n",
       "      <td>34</td>\n",
       "      <td>23</td>\n",
       "    </tr>\n",
       "    <tr>\n",
       "      <th>10</th>\n",
       "      <td>HINCAPIE CASTRO JOHAN SEBASTIAN</td>\n",
       "      <td>47</td>\n",
       "      <td>53</td>\n",
       "      <td>42</td>\n",
       "      <td>46</td>\n",
       "      <td>4</td>\n",
       "      <td>54</td>\n",
       "      <td>30</td>\n",
       "      <td>13</td>\n",
       "      <td>50</td>\n",
       "      <td>36</td>\n",
       "    </tr>\n",
       "    <tr>\n",
       "      <th>11</th>\n",
       "      <td>HUMANEZ SANCHEZ CAMILO</td>\n",
       "      <td>5</td>\n",
       "      <td>14</td>\n",
       "      <td>43</td>\n",
       "      <td>16</td>\n",
       "      <td>33</td>\n",
       "      <td>28</td>\n",
       "      <td>8</td>\n",
       "      <td>41</td>\n",
       "      <td>52</td>\n",
       "      <td>2</td>\n",
       "    </tr>\n",
       "    <tr>\n",
       "      <th>12</th>\n",
       "      <td>IBAnEZ MORENO FRANCISCO LUIS</td>\n",
       "      <td>25</td>\n",
       "      <td>31</td>\n",
       "      <td>16</td>\n",
       "      <td>47</td>\n",
       "      <td>26</td>\n",
       "      <td>48</td>\n",
       "      <td>32</td>\n",
       "      <td>40</td>\n",
       "      <td>27</td>\n",
       "      <td>3</td>\n",
       "    </tr>\n",
       "    <tr>\n",
       "      <th>13</th>\n",
       "      <td>LONDONO CUADRADO CRISTIAN ALBERTO</td>\n",
       "      <td>4</td>\n",
       "      <td>26</td>\n",
       "      <td>30</td>\n",
       "      <td>25</td>\n",
       "      <td>33</td>\n",
       "      <td>13</td>\n",
       "      <td>7</td>\n",
       "      <td>23</td>\n",
       "      <td>19</td>\n",
       "      <td>14</td>\n",
       "    </tr>\n",
       "    <tr>\n",
       "      <th>14</th>\n",
       "      <td>MASS MIRANDA RIVALDO JOSE</td>\n",
       "      <td>19</td>\n",
       "      <td>11</td>\n",
       "      <td>43</td>\n",
       "      <td>47</td>\n",
       "      <td>21</td>\n",
       "      <td>13</td>\n",
       "      <td>38</td>\n",
       "      <td>29</td>\n",
       "      <td>33</td>\n",
       "      <td>50</td>\n",
       "    </tr>\n",
       "    <tr>\n",
       "      <th>15</th>\n",
       "      <td>MIRANDA MARTINEZ CARLOS ANDRES</td>\n",
       "      <td>15</td>\n",
       "      <td>10</td>\n",
       "      <td>45</td>\n",
       "      <td>14</td>\n",
       "      <td>21</td>\n",
       "      <td>36</td>\n",
       "      <td>42</td>\n",
       "      <td>30</td>\n",
       "      <td>13</td>\n",
       "      <td>29</td>\n",
       "    </tr>\n",
       "    <tr>\n",
       "      <th>16</th>\n",
       "      <td>MONTERROSA SOTO ABRIL</td>\n",
       "      <td>5</td>\n",
       "      <td>52</td>\n",
       "      <td>10</td>\n",
       "      <td>32</td>\n",
       "      <td>35</td>\n",
       "      <td>21</td>\n",
       "      <td>11</td>\n",
       "      <td>15</td>\n",
       "      <td>46</td>\n",
       "      <td>39</td>\n",
       "    </tr>\n",
       "    <tr>\n",
       "      <th>17</th>\n",
       "      <td>NORIEGA JIMENEZ GABRIELA</td>\n",
       "      <td>10</td>\n",
       "      <td>52</td>\n",
       "      <td>24</td>\n",
       "      <td>6</td>\n",
       "      <td>50</td>\n",
       "      <td>26</td>\n",
       "      <td>41</td>\n",
       "      <td>18</td>\n",
       "      <td>7</td>\n",
       "      <td>21</td>\n",
       "    </tr>\n",
       "    <tr>\n",
       "      <th>18</th>\n",
       "      <td>PEREZ REYES IVAN DARIO</td>\n",
       "      <td>39</td>\n",
       "      <td>38</td>\n",
       "      <td>12</td>\n",
       "      <td>22</td>\n",
       "      <td>17</td>\n",
       "      <td>47</td>\n",
       "      <td>52</td>\n",
       "      <td>27</td>\n",
       "      <td>53</td>\n",
       "      <td>34</td>\n",
       "    </tr>\n",
       "    <tr>\n",
       "      <th>19</th>\n",
       "      <td>PEREZ THERAN ERLINDA</td>\n",
       "      <td>52</td>\n",
       "      <td>3</td>\n",
       "      <td>46</td>\n",
       "      <td>23</td>\n",
       "      <td>50</td>\n",
       "      <td>25</td>\n",
       "      <td>51</td>\n",
       "      <td>39</td>\n",
       "      <td>20</td>\n",
       "      <td>35</td>\n",
       "    </tr>\n",
       "    <tr>\n",
       "      <th>20</th>\n",
       "      <td>PINEDA ROMERO YOSMERI</td>\n",
       "      <td>6</td>\n",
       "      <td>20</td>\n",
       "      <td>49</td>\n",
       "      <td>37</td>\n",
       "      <td>18</td>\n",
       "      <td>15</td>\n",
       "      <td>33</td>\n",
       "      <td>25</td>\n",
       "      <td>43</td>\n",
       "      <td>24</td>\n",
       "    </tr>\n",
       "    <tr>\n",
       "      <th>21</th>\n",
       "      <td>QUINONEZ CERVANTES MARIANA</td>\n",
       "      <td>17</td>\n",
       "      <td>24</td>\n",
       "      <td>27</td>\n",
       "      <td>41</td>\n",
       "      <td>37</td>\n",
       "      <td>21</td>\n",
       "      <td>51</td>\n",
       "      <td>50</td>\n",
       "      <td>11</td>\n",
       "      <td>42</td>\n",
       "    </tr>\n",
       "    <tr>\n",
       "      <th>22</th>\n",
       "      <td>QUIROZ DURAN JUAN MANUEL</td>\n",
       "      <td>7</td>\n",
       "      <td>32</td>\n",
       "      <td>45</td>\n",
       "      <td>14</td>\n",
       "      <td>10</td>\n",
       "      <td>47</td>\n",
       "      <td>6</td>\n",
       "      <td>3</td>\n",
       "      <td>38</td>\n",
       "      <td>12</td>\n",
       "    </tr>\n",
       "    <tr>\n",
       "      <th>23</th>\n",
       "      <td>RAMOS PEREZ YANINE</td>\n",
       "      <td>14</td>\n",
       "      <td>13</td>\n",
       "      <td>18</td>\n",
       "      <td>38</td>\n",
       "      <td>11</td>\n",
       "      <td>2</td>\n",
       "      <td>3</td>\n",
       "      <td>4</td>\n",
       "      <td>22</td>\n",
       "      <td>32</td>\n",
       "    </tr>\n",
       "    <tr>\n",
       "      <th>24</th>\n",
       "      <td>RIVAS HOYOS ESTEFANIA</td>\n",
       "      <td>11</td>\n",
       "      <td>12</td>\n",
       "      <td>45</td>\n",
       "      <td>43</td>\n",
       "      <td>15</td>\n",
       "      <td>13</td>\n",
       "      <td>49</td>\n",
       "      <td>18</td>\n",
       "      <td>31</td>\n",
       "      <td>28</td>\n",
       "    </tr>\n",
       "    <tr>\n",
       "      <th>25</th>\n",
       "      <td>ROSILLO TEJADA VANESA</td>\n",
       "      <td>18</td>\n",
       "      <td>52</td>\n",
       "      <td>26</td>\n",
       "      <td>43</td>\n",
       "      <td>23</td>\n",
       "      <td>16</td>\n",
       "      <td>10</td>\n",
       "      <td>25</td>\n",
       "      <td>39</td>\n",
       "      <td>27</td>\n",
       "    </tr>\n",
       "    <tr>\n",
       "      <th>26</th>\n",
       "      <td>SANCHEZ PADILLA SILVESTRE</td>\n",
       "      <td>25</td>\n",
       "      <td>24</td>\n",
       "      <td>33</td>\n",
       "      <td>42</td>\n",
       "      <td>15</td>\n",
       "      <td>36</td>\n",
       "      <td>20</td>\n",
       "      <td>45</td>\n",
       "      <td>11</td>\n",
       "      <td>17</td>\n",
       "    </tr>\n",
       "    <tr>\n",
       "      <th>27</th>\n",
       "      <td>SILVA ROYERO MAILY CRISTINA</td>\n",
       "      <td>4</td>\n",
       "      <td>54</td>\n",
       "      <td>24</td>\n",
       "      <td>53</td>\n",
       "      <td>13</td>\n",
       "      <td>50</td>\n",
       "      <td>27</td>\n",
       "      <td>45</td>\n",
       "      <td>31</td>\n",
       "      <td>26</td>\n",
       "    </tr>\n",
       "    <tr>\n",
       "      <th>28</th>\n",
       "      <td>USUGA GEORGE JHON ESTIVEN</td>\n",
       "      <td>47</td>\n",
       "      <td>52</td>\n",
       "      <td>33</td>\n",
       "      <td>14</td>\n",
       "      <td>22</td>\n",
       "      <td>8</td>\n",
       "      <td>3</td>\n",
       "      <td>53</td>\n",
       "      <td>12</td>\n",
       "      <td>32</td>\n",
       "    </tr>\n",
       "  </tbody>\n",
       "</table>\n",
       "</div>"
      ],
      "text/plain": [
       "                              Student  Exer1  Exer2  Exer3  Exer4  Exer5  \\\n",
       "0        AGUDELO MORENO RENATO DIRNEY     47      2     52     29     21   \n",
       "1   AMARIS FERNANDEZ SEBASTIAN CAMILO     42     23     44     20      2   \n",
       "2       ARENAS HERAZO GABRIEL ENRIQUE     45     26     20     10     35   \n",
       "3        AYALA MENDOZA MARISOL YACIRA     24     18     39     54      5   \n",
       "4          BERTEL RODELO MICHELL SMIT      9     23     32     46     18   \n",
       "5            BULA VERGARA MARIA PAULA     34      5     44     43     21   \n",
       "6             CANTILLO ENSUCHO DANIEL      2     20     43      7     32   \n",
       "7            CERVANTES DURAN ANGELICA     46     39     20     19     36   \n",
       "8         GALLEGO TEJADA JUAN ESTEBAN     19      7      6     34     30   \n",
       "9             GUERRA NORIEGA YONATHAN     54     46      2     35      9   \n",
       "10    HINCAPIE CASTRO JOHAN SEBASTIAN     47     53     42     46      4   \n",
       "11             HUMANEZ SANCHEZ CAMILO      5     14     43     16     33   \n",
       "12       IBAnEZ MORENO FRANCISCO LUIS     25     31     16     47     26   \n",
       "13  LONDONO CUADRADO CRISTIAN ALBERTO      4     26     30     25     33   \n",
       "14          MASS MIRANDA RIVALDO JOSE     19     11     43     47     21   \n",
       "15     MIRANDA MARTINEZ CARLOS ANDRES     15     10     45     14     21   \n",
       "16              MONTERROSA SOTO ABRIL      5     52     10     32     35   \n",
       "17           NORIEGA JIMENEZ GABRIELA     10     52     24      6     50   \n",
       "18             PEREZ REYES IVAN DARIO     39     38     12     22     17   \n",
       "19               PEREZ THERAN ERLINDA     52      3     46     23     50   \n",
       "20              PINEDA ROMERO YOSMERI      6     20     49     37     18   \n",
       "21         QUINONEZ CERVANTES MARIANA     17     24     27     41     37   \n",
       "22           QUIROZ DURAN JUAN MANUEL      7     32     45     14     10   \n",
       "23                 RAMOS PEREZ YANINE     14     13     18     38     11   \n",
       "24              RIVAS HOYOS ESTEFANIA     11     12     45     43     15   \n",
       "25              ROSILLO TEJADA VANESA     18     52     26     43     23   \n",
       "26          SANCHEZ PADILLA SILVESTRE     25     24     33     42     15   \n",
       "27        SILVA ROYERO MAILY CRISTINA      4     54     24     53     13   \n",
       "28          USUGA GEORGE JHON ESTIVEN     47     52     33     14     22   \n",
       "\n",
       "    Exer6  Exer7  Exer8  Exer9  Exer10  \n",
       "0       4     36     54     35      53  \n",
       "1      34     45     43     37       8  \n",
       "2      36     23     29     31      12  \n",
       "3      19     38     41     30      28  \n",
       "4      48     34     21     10      33  \n",
       "5      23     40     36     18      51  \n",
       "6      11     23     12     22      34  \n",
       "7      42     12     23     25      34  \n",
       "8      37     18     41     11      24  \n",
       "9       7     31     11     34      23  \n",
       "10     54     30     13     50      36  \n",
       "11     28      8     41     52       2  \n",
       "12     48     32     40     27       3  \n",
       "13     13      7     23     19      14  \n",
       "14     13     38     29     33      50  \n",
       "15     36     42     30     13      29  \n",
       "16     21     11     15     46      39  \n",
       "17     26     41     18      7      21  \n",
       "18     47     52     27     53      34  \n",
       "19     25     51     39     20      35  \n",
       "20     15     33     25     43      24  \n",
       "21     21     51     50     11      42  \n",
       "22     47      6      3     38      12  \n",
       "23      2      3      4     22      32  \n",
       "24     13     49     18     31      28  \n",
       "25     16     10     25     39      27  \n",
       "26     36     20     45     11      17  \n",
       "27     50     27     45     31      26  \n",
       "28      8      3     53     12      32  "
      ]
     },
     "execution_count": 7,
     "metadata": {},
     "output_type": "execute_result"
    }
   ],
   "source": [
    "# Tarea 2 de solución de problemas \n",
    "# asignación de ejercicios de un seccion del texto guía\n",
    "\n",
    "# numpy.random.choice() obten la documentación de esta función en: \n",
    "# https://numpy.org/doc/stable/reference/random/generated/numpy.random.choice.html\n",
    "\n",
    "import pandas as pd\n",
    "import numpy as np\n",
    "import requests\n",
    "np.random.seed(424)  # establecer semilla aleatoria para hacer los resultados reproducibles\n",
    "\n",
    "\n",
    "\n",
    "grupo_estudiantes = 'calculo_integral'\n",
    "nombre_texto_guia = 'Purcell'\n",
    "pagina_y_seccion = 'Página_202_Sección_3.8'\n",
    "numero_ejercicios_taller = 54\n",
    "numero_de_ejercicios_asignados = 10\n",
    "\n",
    "\n",
    "# Descargar la lista de  estudiantes\n",
    "students_url = \"https://raw.githubusercontent.com/marco-canas/groups_list/main/\" + grupo_estudiantes + \".csv\"\n",
    "exercises = list(range(1, numero_ejercicios_taller))  \n",
    "\n",
    "students_data = pd.read_csv(students_url)\n",
    "\n",
    "# Crear una lista para almacenar las asignaciones\n",
    "assignments = []\n",
    "\n",
    "# Asignar ejercicios aleatorios a cada estudiante\n",
    "for index, student in students_data.iterrows():\n",
    "    # Seleccionar 5 ejercicios aleatorios sin repetición\n",
    "    random_exercises = np.random.choice(exercises, numero_de_ejercicios_asignados, replace = False)+ 1 \n",
    "    assignments.append([students_data[\"Nombre\"][index], *random_exercises])  # Agregar asignación a la lista\n",
    "\n",
    "# Crear un DataFrame con las asignaciones\n",
    "columns = [\"Student\"] + [ \"Exer\" + str(i+1) for i in range(numero_de_ejercicios_asignados)]\n",
    "assignment_df = pd.DataFrame(assignments, columns=columns)\n",
    "\n",
    "# Guardar el DataFrame en un archivo CSV\n",
    "assignment_csv = \"tarea\" + \"_\" + nombre_texto_guia + \"_\"+ pagina_y_seccion + \".csv\"\n",
    "assignment_df.to_csv(assignment_csv, index=False)\n",
    "\n",
    "print(\"Tarea 3 de solución de problemas: \", assignment_csv)\n",
    "assignment_df"
   ]
  },
  {
   "cell_type": "markdown",
   "id": "8b6b0112",
   "metadata": {
    "slideshow": {
     "slide_type": "slide"
    }
   },
   "source": [
    "# Tareas para realizar después de la realización de la clase"
   ]
  },
  {
   "cell_type": "markdown",
   "id": "947460e3",
   "metadata": {
    "slideshow": {
     "slide_type": "slide"
    }
   },
   "source": [
    "* Actividades de memorización: \n",
    "  - escucha reiterada de grabaciones de formulas y resultados científicos. \n",
    "  - relectura de notas. \n",
    "  - ejercicios de mayor complejidad.\n",
    "\n",
    "\n",
    "### No olvide asignar las tareas a los estudiantes a través de Google Colab y compartiendole el cuaderno de asignación a su correo institucional con fecha de entrega. [Google Colab](https://colab.research.google.com/?hl=es)   \n",
    "  "
   ]
  },
  {
   "cell_type": "markdown",
   "id": "d34defb9",
   "metadata": {
    "slideshow": {
     "slide_type": "slide"
    }
   },
   "source": [
    "## Asignación individual de tareas semanales "
   ]
  },
  {
   "cell_type": "code",
   "execution_count": 9,
   "id": "0406f442",
   "metadata": {
    "slideshow": {
     "slide_type": "slide"
    }
   },
   "outputs": [
    {
     "name": "stdout",
     "output_type": "stream",
     "text": [
      "Tarea 3 Solución problemas describiendo y justificando:  tarea_Purcell_Página_202_Sección_3.8.csv\n"
     ]
    },
    {
     "data": {
      "text/html": [
       "<div>\n",
       "<style scoped>\n",
       "    .dataframe tbody tr th:only-of-type {\n",
       "        vertical-align: middle;\n",
       "    }\n",
       "\n",
       "    .dataframe tbody tr th {\n",
       "        vertical-align: top;\n",
       "    }\n",
       "\n",
       "    .dataframe thead th {\n",
       "        text-align: right;\n",
       "    }\n",
       "</style>\n",
       "<table border=\"1\" class=\"dataframe\">\n",
       "  <thead>\n",
       "    <tr style=\"text-align: right;\">\n",
       "      <th></th>\n",
       "      <th>Student</th>\n",
       "      <th>Exer1</th>\n",
       "      <th>Exer2</th>\n",
       "      <th>Exer3</th>\n",
       "      <th>Exer4</th>\n",
       "      <th>Exer5</th>\n",
       "      <th>Exer6</th>\n",
       "      <th>Exer7</th>\n",
       "      <th>Exer8</th>\n",
       "      <th>Exer9</th>\n",
       "      <th>Exer10</th>\n",
       "    </tr>\n",
       "  </thead>\n",
       "  <tbody>\n",
       "    <tr>\n",
       "      <th>0</th>\n",
       "      <td>AGUDELO MORENO RENATO DIRNEY</td>\n",
       "      <td>39</td>\n",
       "      <td>17</td>\n",
       "      <td>21</td>\n",
       "      <td>4</td>\n",
       "      <td>9</td>\n",
       "      <td>44</td>\n",
       "      <td>7</td>\n",
       "      <td>30</td>\n",
       "      <td>51</td>\n",
       "      <td>54</td>\n",
       "    </tr>\n",
       "    <tr>\n",
       "      <th>1</th>\n",
       "      <td>AMARIS FERNANDEZ SEBASTIAN CAMILO</td>\n",
       "      <td>2</td>\n",
       "      <td>28</td>\n",
       "      <td>32</td>\n",
       "      <td>5</td>\n",
       "      <td>17</td>\n",
       "      <td>40</td>\n",
       "      <td>46</td>\n",
       "      <td>26</td>\n",
       "      <td>11</td>\n",
       "      <td>50</td>\n",
       "    </tr>\n",
       "    <tr>\n",
       "      <th>2</th>\n",
       "      <td>ARENAS HERAZO GABRIEL ENRIQUE</td>\n",
       "      <td>37</td>\n",
       "      <td>10</td>\n",
       "      <td>39</td>\n",
       "      <td>51</td>\n",
       "      <td>47</td>\n",
       "      <td>21</td>\n",
       "      <td>52</td>\n",
       "      <td>45</td>\n",
       "      <td>18</td>\n",
       "      <td>46</td>\n",
       "    </tr>\n",
       "    <tr>\n",
       "      <th>3</th>\n",
       "      <td>AYALA MENDOZA MARISOL YACIRA</td>\n",
       "      <td>4</td>\n",
       "      <td>20</td>\n",
       "      <td>40</td>\n",
       "      <td>26</td>\n",
       "      <td>47</td>\n",
       "      <td>33</td>\n",
       "      <td>28</td>\n",
       "      <td>42</td>\n",
       "      <td>41</td>\n",
       "      <td>8</td>\n",
       "    </tr>\n",
       "    <tr>\n",
       "      <th>4</th>\n",
       "      <td>BERTEL RODELO MICHELL SMIT</td>\n",
       "      <td>12</td>\n",
       "      <td>13</td>\n",
       "      <td>48</td>\n",
       "      <td>30</td>\n",
       "      <td>29</td>\n",
       "      <td>20</td>\n",
       "      <td>23</td>\n",
       "      <td>27</td>\n",
       "      <td>34</td>\n",
       "      <td>25</td>\n",
       "    </tr>\n",
       "    <tr>\n",
       "      <th>5</th>\n",
       "      <td>BULA VERGARA MARIA PAULA</td>\n",
       "      <td>51</td>\n",
       "      <td>4</td>\n",
       "      <td>15</td>\n",
       "      <td>46</td>\n",
       "      <td>2</td>\n",
       "      <td>33</td>\n",
       "      <td>25</td>\n",
       "      <td>27</td>\n",
       "      <td>7</td>\n",
       "      <td>5</td>\n",
       "    </tr>\n",
       "    <tr>\n",
       "      <th>6</th>\n",
       "      <td>CANTILLO ENSUCHO DANIEL</td>\n",
       "      <td>5</td>\n",
       "      <td>52</td>\n",
       "      <td>24</td>\n",
       "      <td>34</td>\n",
       "      <td>19</td>\n",
       "      <td>17</td>\n",
       "      <td>14</td>\n",
       "      <td>22</td>\n",
       "      <td>2</td>\n",
       "      <td>4</td>\n",
       "    </tr>\n",
       "    <tr>\n",
       "      <th>7</th>\n",
       "      <td>CERVANTES DURAN ANGELICA</td>\n",
       "      <td>49</td>\n",
       "      <td>20</td>\n",
       "      <td>48</td>\n",
       "      <td>53</td>\n",
       "      <td>26</td>\n",
       "      <td>39</td>\n",
       "      <td>28</td>\n",
       "      <td>35</td>\n",
       "      <td>24</td>\n",
       "      <td>3</td>\n",
       "    </tr>\n",
       "    <tr>\n",
       "      <th>8</th>\n",
       "      <td>GALLEGO TEJADA JUAN ESTEBAN</td>\n",
       "      <td>28</td>\n",
       "      <td>17</td>\n",
       "      <td>29</td>\n",
       "      <td>32</td>\n",
       "      <td>27</td>\n",
       "      <td>48</td>\n",
       "      <td>36</td>\n",
       "      <td>44</td>\n",
       "      <td>10</td>\n",
       "      <td>54</td>\n",
       "    </tr>\n",
       "    <tr>\n",
       "      <th>9</th>\n",
       "      <td>GUERRA NORIEGA YONATHAN</td>\n",
       "      <td>33</td>\n",
       "      <td>41</td>\n",
       "      <td>49</td>\n",
       "      <td>19</td>\n",
       "      <td>3</td>\n",
       "      <td>44</td>\n",
       "      <td>24</td>\n",
       "      <td>47</td>\n",
       "      <td>16</td>\n",
       "      <td>43</td>\n",
       "    </tr>\n",
       "    <tr>\n",
       "      <th>10</th>\n",
       "      <td>HINCAPIE CASTRO JOHAN SEBASTIAN</td>\n",
       "      <td>27</td>\n",
       "      <td>43</td>\n",
       "      <td>31</td>\n",
       "      <td>16</td>\n",
       "      <td>42</td>\n",
       "      <td>28</td>\n",
       "      <td>13</td>\n",
       "      <td>3</td>\n",
       "      <td>8</td>\n",
       "      <td>21</td>\n",
       "    </tr>\n",
       "    <tr>\n",
       "      <th>11</th>\n",
       "      <td>HUMANEZ SANCHEZ CAMILO</td>\n",
       "      <td>46</td>\n",
       "      <td>3</td>\n",
       "      <td>12</td>\n",
       "      <td>31</td>\n",
       "      <td>35</td>\n",
       "      <td>2</td>\n",
       "      <td>13</td>\n",
       "      <td>23</td>\n",
       "      <td>52</td>\n",
       "      <td>24</td>\n",
       "    </tr>\n",
       "    <tr>\n",
       "      <th>12</th>\n",
       "      <td>IBAnEZ MORENO FRANCISCO LUIS</td>\n",
       "      <td>26</td>\n",
       "      <td>10</td>\n",
       "      <td>27</td>\n",
       "      <td>25</td>\n",
       "      <td>12</td>\n",
       "      <td>21</td>\n",
       "      <td>24</td>\n",
       "      <td>50</td>\n",
       "      <td>39</td>\n",
       "      <td>29</td>\n",
       "    </tr>\n",
       "    <tr>\n",
       "      <th>13</th>\n",
       "      <td>LONDONO CUADRADO CRISTIAN ALBERTO</td>\n",
       "      <td>42</td>\n",
       "      <td>35</td>\n",
       "      <td>30</td>\n",
       "      <td>36</td>\n",
       "      <td>28</td>\n",
       "      <td>14</td>\n",
       "      <td>10</td>\n",
       "      <td>18</td>\n",
       "      <td>16</td>\n",
       "      <td>50</td>\n",
       "    </tr>\n",
       "    <tr>\n",
       "      <th>14</th>\n",
       "      <td>MASS MIRANDA RIVALDO JOSE</td>\n",
       "      <td>16</td>\n",
       "      <td>13</td>\n",
       "      <td>14</td>\n",
       "      <td>36</td>\n",
       "      <td>37</td>\n",
       "      <td>22</td>\n",
       "      <td>4</td>\n",
       "      <td>46</td>\n",
       "      <td>51</td>\n",
       "      <td>19</td>\n",
       "    </tr>\n",
       "    <tr>\n",
       "      <th>15</th>\n",
       "      <td>MIRANDA MARTINEZ CARLOS ANDRES</td>\n",
       "      <td>46</td>\n",
       "      <td>17</td>\n",
       "      <td>53</td>\n",
       "      <td>40</td>\n",
       "      <td>34</td>\n",
       "      <td>33</td>\n",
       "      <td>26</td>\n",
       "      <td>23</td>\n",
       "      <td>19</td>\n",
       "      <td>30</td>\n",
       "    </tr>\n",
       "    <tr>\n",
       "      <th>16</th>\n",
       "      <td>MONTERROSA SOTO ABRIL</td>\n",
       "      <td>30</td>\n",
       "      <td>3</td>\n",
       "      <td>19</td>\n",
       "      <td>42</td>\n",
       "      <td>6</td>\n",
       "      <td>32</td>\n",
       "      <td>45</td>\n",
       "      <td>39</td>\n",
       "      <td>21</td>\n",
       "      <td>25</td>\n",
       "    </tr>\n",
       "    <tr>\n",
       "      <th>17</th>\n",
       "      <td>NORIEGA JIMENEZ GABRIELA</td>\n",
       "      <td>50</td>\n",
       "      <td>36</td>\n",
       "      <td>31</td>\n",
       "      <td>2</td>\n",
       "      <td>37</td>\n",
       "      <td>32</td>\n",
       "      <td>42</td>\n",
       "      <td>35</td>\n",
       "      <td>30</td>\n",
       "      <td>47</td>\n",
       "    </tr>\n",
       "    <tr>\n",
       "      <th>18</th>\n",
       "      <td>PEREZ REYES IVAN DARIO</td>\n",
       "      <td>15</td>\n",
       "      <td>13</td>\n",
       "      <td>6</td>\n",
       "      <td>46</td>\n",
       "      <td>5</td>\n",
       "      <td>32</td>\n",
       "      <td>33</td>\n",
       "      <td>49</td>\n",
       "      <td>8</td>\n",
       "      <td>42</td>\n",
       "    </tr>\n",
       "    <tr>\n",
       "      <th>19</th>\n",
       "      <td>PEREZ THERAN ERLINDA</td>\n",
       "      <td>46</td>\n",
       "      <td>52</td>\n",
       "      <td>37</td>\n",
       "      <td>29</td>\n",
       "      <td>28</td>\n",
       "      <td>11</td>\n",
       "      <td>39</td>\n",
       "      <td>20</td>\n",
       "      <td>44</td>\n",
       "      <td>21</td>\n",
       "    </tr>\n",
       "    <tr>\n",
       "      <th>20</th>\n",
       "      <td>PINEDA ROMERO YOSMERI</td>\n",
       "      <td>17</td>\n",
       "      <td>14</td>\n",
       "      <td>25</td>\n",
       "      <td>48</td>\n",
       "      <td>30</td>\n",
       "      <td>12</td>\n",
       "      <td>37</td>\n",
       "      <td>28</td>\n",
       "      <td>7</td>\n",
       "      <td>10</td>\n",
       "    </tr>\n",
       "    <tr>\n",
       "      <th>21</th>\n",
       "      <td>QUINONEZ CERVANTES MARIANA</td>\n",
       "      <td>23</td>\n",
       "      <td>40</td>\n",
       "      <td>27</td>\n",
       "      <td>36</td>\n",
       "      <td>22</td>\n",
       "      <td>34</td>\n",
       "      <td>28</td>\n",
       "      <td>12</td>\n",
       "      <td>44</td>\n",
       "      <td>30</td>\n",
       "    </tr>\n",
       "    <tr>\n",
       "      <th>22</th>\n",
       "      <td>QUIROZ DURAN JUAN MANUEL</td>\n",
       "      <td>38</td>\n",
       "      <td>53</td>\n",
       "      <td>4</td>\n",
       "      <td>43</td>\n",
       "      <td>22</td>\n",
       "      <td>7</td>\n",
       "      <td>48</td>\n",
       "      <td>32</td>\n",
       "      <td>15</td>\n",
       "      <td>34</td>\n",
       "    </tr>\n",
       "    <tr>\n",
       "      <th>23</th>\n",
       "      <td>RAMOS PEREZ YANINE</td>\n",
       "      <td>35</td>\n",
       "      <td>42</td>\n",
       "      <td>12</td>\n",
       "      <td>25</td>\n",
       "      <td>54</td>\n",
       "      <td>20</td>\n",
       "      <td>13</td>\n",
       "      <td>30</td>\n",
       "      <td>4</td>\n",
       "      <td>5</td>\n",
       "    </tr>\n",
       "    <tr>\n",
       "      <th>24</th>\n",
       "      <td>RIVAS HOYOS ESTEFANIA</td>\n",
       "      <td>10</td>\n",
       "      <td>42</td>\n",
       "      <td>5</td>\n",
       "      <td>44</td>\n",
       "      <td>37</td>\n",
       "      <td>51</td>\n",
       "      <td>39</td>\n",
       "      <td>7</td>\n",
       "      <td>22</td>\n",
       "      <td>8</td>\n",
       "    </tr>\n",
       "    <tr>\n",
       "      <th>25</th>\n",
       "      <td>ROSILLO TEJADA VANESA</td>\n",
       "      <td>29</td>\n",
       "      <td>12</td>\n",
       "      <td>17</td>\n",
       "      <td>24</td>\n",
       "      <td>7</td>\n",
       "      <td>31</td>\n",
       "      <td>9</td>\n",
       "      <td>33</td>\n",
       "      <td>16</td>\n",
       "      <td>46</td>\n",
       "    </tr>\n",
       "    <tr>\n",
       "      <th>26</th>\n",
       "      <td>SANCHEZ PADILLA SILVESTRE</td>\n",
       "      <td>46</td>\n",
       "      <td>48</td>\n",
       "      <td>53</td>\n",
       "      <td>28</td>\n",
       "      <td>17</td>\n",
       "      <td>19</td>\n",
       "      <td>14</td>\n",
       "      <td>47</td>\n",
       "      <td>23</td>\n",
       "      <td>20</td>\n",
       "    </tr>\n",
       "    <tr>\n",
       "      <th>27</th>\n",
       "      <td>SILVA ROYERO MAILY CRISTINA</td>\n",
       "      <td>3</td>\n",
       "      <td>24</td>\n",
       "      <td>26</td>\n",
       "      <td>49</td>\n",
       "      <td>6</td>\n",
       "      <td>48</td>\n",
       "      <td>8</td>\n",
       "      <td>34</td>\n",
       "      <td>2</td>\n",
       "      <td>19</td>\n",
       "    </tr>\n",
       "    <tr>\n",
       "      <th>28</th>\n",
       "      <td>USUGA GEORGE JHON ESTIVEN</td>\n",
       "      <td>29</td>\n",
       "      <td>35</td>\n",
       "      <td>24</td>\n",
       "      <td>41</td>\n",
       "      <td>33</td>\n",
       "      <td>39</td>\n",
       "      <td>6</td>\n",
       "      <td>31</td>\n",
       "      <td>21</td>\n",
       "      <td>44</td>\n",
       "    </tr>\n",
       "  </tbody>\n",
       "</table>\n",
       "</div>"
      ],
      "text/plain": [
       "                              Student  Exer1  Exer2  Exer3  Exer4  Exer5  \\\n",
       "0        AGUDELO MORENO RENATO DIRNEY     39     17     21      4      9   \n",
       "1   AMARIS FERNANDEZ SEBASTIAN CAMILO      2     28     32      5     17   \n",
       "2       ARENAS HERAZO GABRIEL ENRIQUE     37     10     39     51     47   \n",
       "3        AYALA MENDOZA MARISOL YACIRA      4     20     40     26     47   \n",
       "4          BERTEL RODELO MICHELL SMIT     12     13     48     30     29   \n",
       "5            BULA VERGARA MARIA PAULA     51      4     15     46      2   \n",
       "6             CANTILLO ENSUCHO DANIEL      5     52     24     34     19   \n",
       "7            CERVANTES DURAN ANGELICA     49     20     48     53     26   \n",
       "8         GALLEGO TEJADA JUAN ESTEBAN     28     17     29     32     27   \n",
       "9             GUERRA NORIEGA YONATHAN     33     41     49     19      3   \n",
       "10    HINCAPIE CASTRO JOHAN SEBASTIAN     27     43     31     16     42   \n",
       "11             HUMANEZ SANCHEZ CAMILO     46      3     12     31     35   \n",
       "12       IBAnEZ MORENO FRANCISCO LUIS     26     10     27     25     12   \n",
       "13  LONDONO CUADRADO CRISTIAN ALBERTO     42     35     30     36     28   \n",
       "14          MASS MIRANDA RIVALDO JOSE     16     13     14     36     37   \n",
       "15     MIRANDA MARTINEZ CARLOS ANDRES     46     17     53     40     34   \n",
       "16              MONTERROSA SOTO ABRIL     30      3     19     42      6   \n",
       "17           NORIEGA JIMENEZ GABRIELA     50     36     31      2     37   \n",
       "18             PEREZ REYES IVAN DARIO     15     13      6     46      5   \n",
       "19               PEREZ THERAN ERLINDA     46     52     37     29     28   \n",
       "20              PINEDA ROMERO YOSMERI     17     14     25     48     30   \n",
       "21         QUINONEZ CERVANTES MARIANA     23     40     27     36     22   \n",
       "22           QUIROZ DURAN JUAN MANUEL     38     53      4     43     22   \n",
       "23                 RAMOS PEREZ YANINE     35     42     12     25     54   \n",
       "24              RIVAS HOYOS ESTEFANIA     10     42      5     44     37   \n",
       "25              ROSILLO TEJADA VANESA     29     12     17     24      7   \n",
       "26          SANCHEZ PADILLA SILVESTRE     46     48     53     28     17   \n",
       "27        SILVA ROYERO MAILY CRISTINA      3     24     26     49      6   \n",
       "28          USUGA GEORGE JHON ESTIVEN     29     35     24     41     33   \n",
       "\n",
       "    Exer6  Exer7  Exer8  Exer9  Exer10  \n",
       "0      44      7     30     51      54  \n",
       "1      40     46     26     11      50  \n",
       "2      21     52     45     18      46  \n",
       "3      33     28     42     41       8  \n",
       "4      20     23     27     34      25  \n",
       "5      33     25     27      7       5  \n",
       "6      17     14     22      2       4  \n",
       "7      39     28     35     24       3  \n",
       "8      48     36     44     10      54  \n",
       "9      44     24     47     16      43  \n",
       "10     28     13      3      8      21  \n",
       "11      2     13     23     52      24  \n",
       "12     21     24     50     39      29  \n",
       "13     14     10     18     16      50  \n",
       "14     22      4     46     51      19  \n",
       "15     33     26     23     19      30  \n",
       "16     32     45     39     21      25  \n",
       "17     32     42     35     30      47  \n",
       "18     32     33     49      8      42  \n",
       "19     11     39     20     44      21  \n",
       "20     12     37     28      7      10  \n",
       "21     34     28     12     44      30  \n",
       "22      7     48     32     15      34  \n",
       "23     20     13     30      4       5  \n",
       "24     51     39      7     22       8  \n",
       "25     31      9     33     16      46  \n",
       "26     19     14     47     23      20  \n",
       "27     48      8     34      2      19  \n",
       "28     39      6     31     21      44  "
      ]
     },
     "execution_count": 9,
     "metadata": {},
     "output_type": "execute_result"
    }
   ],
   "source": [
    "# Tarea 3 de solución de problemas describiendo procedimientos y justificándolos\n",
    "\n",
    "# asignación de ejercicios de un seccion del texto guía\n",
    "\n",
    "# numpy.random.choice() obten la documentación de esta función en: \n",
    "# https://numpy.org/doc/stable/reference/random/generated/numpy.random.choice.html\n",
    "\n",
    "import pandas as pd\n",
    "import numpy as np\n",
    "import requests\n",
    "np.random.seed(126)  # establecer semilla aleatoria para hacer los resultados reproducibles\n",
    "\n",
    "\n",
    "\n",
    "grupo_estudiantes = 'calculo_integral'\n",
    "nombre_texto_guia = 'Purcell'\n",
    "pagina_y_seccion = 'Página_202_Sección_3.8'\n",
    "numero_ejercicios_taller = 54\n",
    "numero_de_ejercicios_asignados = 10\n",
    "\n",
    "\n",
    "# Descargar la lista de  estudiantes\n",
    "students_url = \"https://raw.githubusercontent.com/marco-canas/groups_list/main/\" + grupo_estudiantes + \".csv\"\n",
    "exercises = list(range(1, numero_ejercicios_taller))  \n",
    "\n",
    "students_data = pd.read_csv(students_url)\n",
    "\n",
    "# Crear una lista para almacenar las asignaciones\n",
    "assignments = []\n",
    "\n",
    "# Asignar ejercicios aleatorios a cada estudiante\n",
    "for index, student in students_data.iterrows():\n",
    "    # Seleccionar 5 ejercicios aleatorios sin repetición\n",
    "    random_exercises = np.random.choice(exercises, numero_de_ejercicios_asignados, replace = False)+ 1 \n",
    "    assignments.append([students_data[\"Nombre\"][index], *random_exercises])  # Agregar asignación a la lista\n",
    "\n",
    "# Crear un DataFrame con las asignaciones\n",
    "columns = [\"Student\"] + [ \"Exer\" + str(i+1) for i in range(numero_de_ejercicios_asignados)]\n",
    "assignment_df = pd.DataFrame(assignments, columns=columns)\n",
    "\n",
    "# Guardar el DataFrame en un archivo CSV\n",
    "assignment_csv = \"tarea\" + \"_\" + nombre_texto_guia + \"_\"+ pagina_y_seccion + \".csv\"\n",
    "assignment_df.to_csv(assignment_csv, index=False)\n",
    "\n",
    "print(\"Tarea 3 Solución problemas describiendo y justificando: \", assignment_csv)\n",
    "assignment_df"
   ]
  },
  {
   "cell_type": "markdown",
   "id": "742281f4",
   "metadata": {},
   "source": [
    "# No olvide la tarea de realizar la foda para autoevaluarse\n",
    "\n",
    "Fortalezas: F  \n",
    "Oportuniudades O:  \n",
    "Debilidades: D:   \n",
    "Amenazas: A:     "
   ]
  },
  {
   "cell_type": "markdown",
   "id": "8d41fe58",
   "metadata": {
    "slideshow": {
     "slide_type": "slide"
    }
   },
   "source": [
    "# Horario de clases del profesor Marco\n",
    "\n",
    "* Martes y jueves de 10 a 12: Fundamentos de las matemáticas\n",
    "* Martes y jueves de 2 a 4 PM: Fundamentos de la aritmética\n",
    "\n",
    "* Didáctica de la aritmética: Miércoles de 8 - 12\n",
    "\n"
   ]
  },
  {
   "cell_type": "markdown",
   "id": "ae114e14",
   "metadata": {
    "slideshow": {
     "slide_type": "slide"
    }
   },
   "source": [
    "# Horarios de monitoría y asesoría"
   ]
  },
  {
   "cell_type": "markdown",
   "id": "b1db4b6c",
   "metadata": {
    "slideshow": {
     "slide_type": "slide"
    }
   },
   "source": [
    "## Monitor Manuel"
   ]
  },
  {
   "cell_type": "markdown",
   "id": "39559692",
   "metadata": {
    "slideshow": {
     "slide_type": "slide"
    }
   },
   "source": [
    "Martes y jueves de 8 - 12  \n",
    "Miércoles 10 - 12 y de 2 a 4 PM  \n",
    "Sábado: 8 - 12"
   ]
  },
  {
   "cell_type": "markdown",
   "id": "935a5567",
   "metadata": {
    "slideshow": {
     "slide_type": "slide"
    }
   },
   "source": [
    "## Dificultades de aprendizaje detectados durante la clase"
   ]
  },
  {
   "cell_type": "markdown",
   "id": "3bd7500d",
   "metadata": {
    "slideshow": {
     "slide_type": "slide"
    }
   },
   "source": []
  },
  {
   "cell_type": "markdown",
   "id": "fb9402bb",
   "metadata": {
    "slideshow": {
     "slide_type": "slide"
    }
   },
   "source": [
    "## Estrategias propuestas para la solución de las dificultades de aprendizaje detectadas"
   ]
  },
  {
   "cell_type": "markdown",
   "id": "d437294b",
   "metadata": {
    "slideshow": {
     "slide_type": "slide"
    }
   },
   "source": []
  },
  {
   "cell_type": "markdown",
   "id": "d11570a2",
   "metadata": {
    "slideshow": {
     "slide_type": "slide"
    }
   },
   "source": []
  },
  {
   "cell_type": "markdown",
   "id": "319f2ffa",
   "metadata": {
    "slideshow": {
     "slide_type": "slide"
    }
   },
   "source": [
    "## Grabaciones en audio para fomentar la capacidad de memorizar enunciados de teoremas y resultados científicos y la capacidad de parafrasear estos resultados. Y así desarrollar memoria muscular para los comandos comunes. \n",
    "Se dispondrá de un lugar en Vocaroo para albergar archivos de audio de fomento a la memorización, enunciación y parafraseo de los resultados científicos, propiedades, reglas, etc. \n",
    "\n",
    "[Vocaroo](https://vocaroo.com/)\n",
    "\n"
   ]
  },
  {
   "cell_type": "markdown",
   "id": "564fa59d",
   "metadata": {
    "slideshow": {
     "slide_type": "slide"
    }
   },
   "source": [
    "### Comparta sus cuadernos y videos, evidencias de su aprendizaje [aquí](https://forms.office.com/Pages/ResponsePage.aspx?id=IefhmYRxjkmK_7KtTlPBwkanXIs1i1FEujpsZgO6dXpUMEMwTEZVMzEwVVBPTElWNVg5OVEyWUhMUy4u)"
   ]
  },
  {
   "cell_type": "markdown",
   "id": "1a1a3e41",
   "metadata": {
    "slideshow": {
     "slide_type": "slide"
    }
   },
   "source": []
  },
  {
   "cell_type": "markdown",
   "id": "44be6d93",
   "metadata": {
    "slideshow": {
     "slide_type": "slide"
    }
   },
   "source": [
    "# Vocabulary "
   ]
  },
  {
   "cell_type": "markdown",
   "id": "35e2484a",
   "metadata": {
    "slideshow": {
     "slide_type": "slide"
    }
   },
   "source": [
    "1. \n",
    "2.  \n",
    "3.  \n",
    "4.  \n",
    "5.  "
   ]
  },
  {
   "cell_type": "markdown",
   "id": "94187562",
   "metadata": {},
   "source": [
    "# Colección de verbos irregulares aprendidos\n",
    "\n",
    "|Verbo irregular en presente|en español|Pasado|\n",
    "|---------------------------|----------|------|  \n",
    "|choose|elegir|chose|"
   ]
  },
  {
   "cell_type": "markdown",
   "id": "0266e3c5",
   "metadata": {
    "slideshow": {
     "slide_type": "slide"
    }
   },
   "source": [
    "## Quiz de 20 minutos para ejercitación y adquisición de habilidades "
   ]
  },
  {
   "cell_type": "markdown",
   "id": "3a1b127f",
   "metadata": {
    "slideshow": {
     "slide_type": "slide"
    }
   },
   "source": [
    "* Pregunta 1: \n",
    "* Pregunta 2: \n",
    "* Pregunta 3: "
   ]
  },
  {
   "cell_type": "markdown",
   "id": "10bce0d0",
   "metadata": {
    "slideshow": {
     "slide_type": "slide"
    }
   },
   "source": [
    "## Referentes "
   ]
  },
  {
   "cell_type": "markdown",
   "id": "1db3c468",
   "metadata": {
    "slideshow": {
     "slide_type": "slide"
    }
   },
   "source": [
    "* Chollet, F. (2021). Deep learning with Python. Simon and Schuster.  \n",
    "  \n",
    "* [stewart precálculo](https://udeaeduco-my.sharepoint.com/:b:/g/personal/marco_canas_udea_edu_co/ERHIq62I6qFNrmxy6LZb8ZMBci7kUsyNME1nIh9yCBMJ_w?e=0zMSla)  \n",
    "\n",
    "* [stewart cálculo](https://udeaeduco-my.sharepoint.com/:b:/g/personal/marco_canas_udea_edu_co/EZgXZjAp8QxPqOAim2hs6LcBNPLGjSHf-xwYnUVYkwa04w?e=RZdTCy)  \n",
    "\n",
    "* [larson](https://udeaeduco-my.sharepoint.com/:b:/g/personal/marco_canas_udea_edu_co/ES71ChFeO9ZDhW3TwC5Ijk8BjxUK3Pdqz_fjHxTTFAfIAg?e=VDEjfu)\n",
    "\n",
    "* [uzcategui](https://udeaeduco-my.sharepoint.com/:b:/g/personal/marco_canas_udea_edu_co/ETDikm-lVl1Or8XoEo9oyh0BEti9Zs8le-f0D-dBdtZmbA?e=bBsoyQ)\n",
    "\n",
    "* [Cálculo de Purcell](https://udeaeduco-my.sharepoint.com/:b:/g/personal/marco_canas_udea_edu_co/ES60UB4h-QFFqqRQUFmkpWcBIgoLBJeqTfZjNajWNWSeJA?e=9NxjKJ)\n",
    "\n",
    "* [Recomendación de la UNESCO sobre ciencia abierta](https://unesdoc.unesco.org/ark:/48223/pf0000379949_spa)\n",
    "\n",
    "* [Fórmulas más comunes en latex](https://wiki.geogebra.org/es/C%C3%B3digo_LaTeX_para_las_f%C3%B3rmulas_m%C3%A1s_comunes) \n",
    "\n",
    "* [chatGPT](https://openai.com/blog/chatgpt)  \n",
    "\n",
    "* Géron, A. (2017). Hands-on machine learning with scikit-learn and tensorflow: Concepts. Tools, and Techniques to build intelligent systems.[Geron, Aurelien. Hands on Machine Learning](https://udeaeduco-my.sharepoint.com/:b:/g/personal/marco_canas_udea_edu_co/Ecet27yjQzZIlT1Y_Bc2erkBUhbeYuIe6HG8i1FYZRlZww?e=dlvZ4v)  \n",
    "\n",
    "* McKinney, W. (2012). Python for data analysis: Data wrangling with Pandas, NumPy, and IPython. \" O'Reilly Media, Inc.\".[Wes Mackinney. ](https://udeaeduco-my.sharepoint.com/:b:/g/personal/marco_canas_udea_edu_co/EVbi5JIeBl9ErbiUnZfGe8YBhNTnZ8sxTK5hjIOPK4UpGw?e=fFclah)  \n",
    "\n",
    "* [Ledezma, C., Font, V., & Sala-Sebastià, G. MODELIZACIÓN MATEMÁTICA DESDE UNA ARTICULACIÓN TEÓRICA ENTRE LOS ENFOQUES COGNITIVO Y ONTO-SEMIÓTICO.](https://www.researchgate.net/profile/Carlos-Ledezma-4/publication/376076920_Modelizacion_matematica_desde_una_articulacion_teorica_entre_los_enfoques_cognitivo_y_onto-semiotico/links/6568cb363fa26f66f43b292a/Modelizacion-matematica-desde-una-articulacion-teorica-entre-los-enfoques-cognitivo-y-onto-semiotico.pdf)"
   ]
  },
  {
   "cell_type": "markdown",
   "id": "45c59aa9",
   "metadata": {},
   "source": [
    "[Autoevaluemonos para hacernos concientes de nuestro aprendizaje y en lo que debemos enfocarnos en mejorar]()  \n",
    "\n",
    "Aquí tienes una lista de preguntas de selección múltiple para una autoevaluación en un curso de cálculo con un enfoque pedagógico de aula invertida. Estas preguntas abarcan los objetivos de desarrollo del pensamiento variacional, pensamiento computacional a través de Python, capacidad de comunicación científica con LaTeX, Git y el uso de cuadernos Jupyter, así como la promoción de políticas de ciencia libre. \n",
    "\n",
    "1. **Pensamiento Variacional:**\n",
    "   a. ¿Qué significa el término \"variación\" en el contexto del pensamiento variacional?\n",
    "   b. ¿Cómo se relaciona el cálculo con el pensamiento variacional?\n",
    "   c. ¿Puede proporcionar un ejemplo práctico que ilustre el concepto de variación en un problema de cálculo?\n",
    "\n",
    "2. **Pensamiento Computacional (Python):**\n",
    "   a. ¿Cuál es el propósito principal de utilizar Python en un curso de cálculo?\n",
    "   b. ¿Cómo se puede utilizar Python para resolver problemas matemáticos complejos?\n",
    "   c. Menciona al menos dos ventajas de usar Python en comparación con otros lenguajes de programación en el contexto del cálculo.\n",
    "\n",
    "3. **Comunicación Científica (LaTeX):**\n",
    "   a. ¿Por qué es importante utilizar LaTeX para la comunicación científica en matemáticas y ciencias?\n",
    "   b. Enumera al menos tres comandos básicos de LaTeX utilizados para escribir ecuaciones matemáticas.\n",
    "   c. ¿Cómo mejorarías la presentación visual de una fórmula matemática utilizando LaTeX?\n",
    "\n",
    "4. **Gestión de Versiones (Git):**\n",
    "   a. ¿Cuál es el propósito principal de utilizar Git en el desarrollo de proyectos científicos?\n",
    "   b. Explica el concepto de \"commit\" en Git.\n",
    "   c. ¿Cómo resolverías un conflicto de fusión (merge conflict) en Git?\n",
    "\n",
    "5. **Cuadernos Jupyter:**\n",
    "   a. ¿Cuáles son las ventajas de utilizar cuadernos Jupyter en comparación con otros entornos de desarrollo?\n",
    "   b. Describe cómo se integra el código Python y la documentación en un cuaderno Jupyter.\n",
    "   c. ¿Cómo compartirías un cuaderno Jupyter con tus compañeros de clase utilizando GitHub?\n",
    "\n",
    "6. **Promoción de Políticas de Ciencia Libre:**\n",
    "   a. ¿Cuáles son los beneficios de utilizar plataformas como GitHub y YouTube para compartir recursos científicos?\n",
    "   b. ¿Cómo podrías contribuir a la promoción de la ciencia libre en tu comunidad académica?\n",
    "   c. ¿Por qué es importante la transparencia y accesibilidad en la investigación científica?\n",
    "\n",
    "Estas preguntas están diseñadas para evaluar la comprensión de los estudiantes en diversos aspectos del curso, abarcando desde los conceptos matemáticos hasta las habilidades tecnológicas y la conciencia sobre la ciencia libre."
   ]
  },
  {
   "cell_type": "markdown",
   "id": "8e65d6f9",
   "metadata": {},
   "source": [
    "# Como estudiante, encuentro que...   \n",
    "\n",
    "F: Mis Fortalezas son:     \n",
    "O: Mis Oportunidades son:    \n",
    "D: Mis Debilidades son:    \n",
    "A: Lo que Amenazas mi aprendizaje es:  "
   ]
  },
  {
   "cell_type": "markdown",
   "id": "6b9e56a8",
   "metadata": {
    "slideshow": {
     "slide_type": "slide"
    }
   },
   "source": [
    "### [Evaluamos al profesor Marco Cañas Aquí](https://forms.office.com/Pages/ResponsePage.aspx?id=IefhmYRxjkmK_7KtTlPBwkanXIs1i1FEujpsZgO6dXpUREJPV1kxUk1JV1ozTFJIQVNIQjY5WEY3US4u)"
   ]
  },
  {
   "cell_type": "markdown",
   "id": "050b9508",
   "metadata": {},
   "source": [
    "# Aportes de mis estudiantes a la metodología del curso  \n",
    "1. \n",
    "\n",
    "Sus opiniones y aportes son muy importantes para mi. Pues esta es una investigación educativa y un servicio de enseñanza para ustedes. Ustedes son la razón de ser de mi actividad docente. Dios los bendiga. "
   ]
  },
  {
   "cell_type": "markdown",
   "id": "6c4af91f",
   "metadata": {},
   "source": [
    "# Aportes de mis colegas docentes a la metodología que estoy aplicando en mis cursos. "
   ]
  },
  {
   "cell_type": "markdown",
   "id": "071afa04",
   "metadata": {
    "slideshow": {
     "slide_type": "slide"
    }
   },
   "source": [
    "## [Evaluación luego de alcanzar estos objetivos de aprendizaje]()"
   ]
  },
  {
   "cell_type": "markdown",
   "id": "10f43536",
   "metadata": {
    "slideshow": {
     "slide_type": "slide"
    }
   },
   "source": [
    "### Continue su aprendizaje en la siguiente clase a través del siguiente [vínculo]()"
   ]
  },
  {
   "cell_type": "markdown",
   "id": "af751e30",
   "metadata": {
    "slideshow": {
     "slide_type": "slide"
    }
   },
   "source": [
    "# Conjeturas pedagógicas fruto de la aplicación del modelo de aprendizaje invertido y del enfoque hacia la ciencia de datos con python\n",
    "\n",
    "1. Todo cálculo o resultado debe ser interpretado en una línea markdown del cuaderno Jupyter, inmediatamente después de la enunciación del resultado y después de la presentación de una tabla o gráfico bidimensional, de tal menera que el estudiante explicite la comprensión verbal del resultado y las inferencias o estrategias que este resultado le sugieren.  \n",
    "\n",
    "2. Debo colocar las conjeturas pedagógicas, que el uso en el aula de [ChatGPT](https://openai.com/blog/chatgpt/) traiga para la enseñanza y el aprendizaje de las matemáticas. \n",
    "\n",
    "3. Promover ciencia abierta en clase de matemáticas puede ser pidiendo a los estudiantes, tomar nota en clase pero en cuadernos Jupyter y entregar siempre al final de cada clase su cuaderno con todas las notas y experimentaciones de clase replicadas. \n",
    "4. Profesor Marco, ¿ha contemplado la posibilidad de intercambio de experiencias de aprendizaje y aplicación de Python al día a día con comfama? (Estudio Trabajo Social y allí, en comfama, aprendí los fundamentos, lo básico de Python)\n",
    "\n",
    "¿Conoce si en la Universidad de Antioquia hay medios para poder aprender Swift/XCODE? (Para programar para dispositivos de Apple)\n",
    "5. Debo considerar la metodología ABP, es decir, diseñar las clase bajo la metodología de Aprendizaje Basado en Problemas. \n",
    "\n"
   ]
  },
  {
   "cell_type": "markdown",
   "id": "53cc9115",
   "metadata": {
    "slideshow": {
     "slide_type": "slide"
    }
   },
   "source": [
    "## Agradecimientos  \n",
    "\n",
    "Doy gracias a Dios por la vida de mi Hijo Joseph Cañas Osorio y la madurez que ha alcanzado.\n",
    "\n",
    "Y a mi esposa Yasmira por su apoyo, orientación y acompañamiento. "
   ]
  }
 ],
 "metadata": {
  "celltoolbar": "Slideshow",
  "kernelspec": {
   "display_name": "Python 3 (ipykernel)",
   "language": "python",
   "name": "python3"
  },
  "language_info": {
   "codemirror_mode": {
    "name": "ipython",
    "version": 3
   },
   "file_extension": ".py",
   "mimetype": "text/x-python",
   "name": "python",
   "nbconvert_exporter": "python",
   "pygments_lexer": "ipython3",
   "version": "3.10.12"
  },
  "rise": {
   "enable_chalkboard": true,
   "theme": "sky",
   "transition": "zoom"
  }
 },
 "nbformat": 4,
 "nbformat_minor": 5
}

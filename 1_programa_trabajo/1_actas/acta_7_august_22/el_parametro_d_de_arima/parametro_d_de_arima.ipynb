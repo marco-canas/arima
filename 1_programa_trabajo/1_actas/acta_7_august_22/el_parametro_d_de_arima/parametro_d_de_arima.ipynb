{
 "cells": [
  {
   "cell_type": "markdown",
   "id": "dd5a9535",
   "metadata": {},
   "source": [
    "<table align=\"left\">\n",
    "  <td>\n",
    "    <a href=\"https://colab.research.google.com/github/marco-canas/algebra_y_trigonometria/blob/main/classes/0_formatos_clase/algebra_and_trigonometry.ipynb\" target=\"_parent\"><img src=\"https://colab.research.google.com/assets/colab-badge.svg\" alt=\"Open In Colab\"/></a>\n",
    "  </td>\n",
    "  <td>\n",
    "    <a target=\"_blank\" href=\"https://kaggle.com/kernels/welcome?src=https://github.com/marco-canas/algebra_y_trigonometria/blob/main/classes/0_formatos_clase/algebra_and_trigonometry.ipynb\"><img src=\"https://kaggle.com/static/images/open-in-kaggle.svg\" /></a>\n",
    "  </td>\n",
    "</table>"
   ]
  },
  {
   "cell_type": "markdown",
   "id": "1643bd80",
   "metadata": {},
   "source": [
    "# El parámetro `d` en un modelo ARIMA   \n",
    "\n",
    "\n",
    "El parámetro `d` en un modelo ARIMA representa el número de diferencias no estacionales requeridas para hacer que la serie temporal sea estacionaria. En otras palabras, `d` indica cuántas veces se debe restar el valor anterior de la serie para eliminar tendencias o patrones a largo plazo y estabilizar la media de la serie.  "
   ]
  },
  {
   "cell_type": "markdown",
   "id": "6e98eb73",
   "metadata": {},
   "source": [
    "# Práctica inicial para aprender el concepto de número de diferencias d para estabilizar una serie polinomial  \n",
    "\n",
    "¡Listo! Te dejé una práctica completa y reproducible para aprender a determinar el **orden de diferenciación $d$** que estabiliza una serie polinomial $f(t)=t^n$ con $n=1,2,3,4,5$.\n"
   ]
  },
  {
   "cell_type": "markdown",
   "id": "52e99ffc",
   "metadata": {},
   "source": [
    "\n",
    "# Qué incluye la práctica\n",
    "\n",
    "1. **Tabla de diferencias finitas** para $f(t)=t^3$ (útil para trabajo en clase).\n",
    "2. **Resumen automático** que compara el $d$ teórico (que es $n$) con el $d$ estimado por el algoritmo (detecta cuando $\\Delta^k f$ se vuelve constante).\n",
    "3. **Gráficos** (uno por figura) de:\n",
    "\n",
    "   * Serie original $f(t)=t^n$.\n",
    "   * Serie diferenciada de orden $d=n$ mostrando que es constante.\n",
    "4. **Archivos descargables** para tus estudiantes:\n",
    "\n",
    "   * [Descargar tabla de diferencias $t^3$](sandbox:/mnt/data/tabla_diferencias_t3.csv)\n",
    "   * [Descargar resumen $d$ para $n=1..5$](sandbox:/mnt/data/resumen_d_f_t_n.csv)\n"
   ]
  },
  {
   "cell_type": "markdown",
   "id": "a29d162f",
   "metadata": {},
   "source": [
    "\n",
    "# Idea clave (para la guía)\n",
    "\n",
    "* Para una serie **polinomial** $f(t)=t^n$ con paso 1,\n",
    "\n",
    "  $$\n",
    "  \\Delta^n f(t) = n! \\quad (\\text{constante}), \\qquad \\Delta^{n+1} f(t)=0.\n",
    "  $$\n",
    "* Por tanto, el **$d$ mínimo** que elimina la tendencia es **$d=n$**.\n",
    "\n",
    "# Sugerencia de actividades\n",
    "\n",
    "* Pide a los estudiantes **llenar a mano** (o con Python) la tabla de $f(t)=t^3$ y sus diferencias hasta $\\Delta^4$.\n",
    "* Que **predigan** el $d$ para $n=4,5$ y lo **verifiquen** con los gráficos y la columna “$d\\_estimado\\_por\\_var≈0$”.\n",
    "* Extiende con ruido ligero $f(t)=t^n+\\varepsilon_t$ y discute por qué a veces conviene **no excederse** en $d$ (sobre-diferenciación).\n",
    "\n",
    "Si quieres, te genero una versión con **ruido** y chequeos de **autocorrelación** para practicar criterios prácticos en datos reales.\n"
   ]
  },
  {
   "cell_type": "code",
   "execution_count": 2,
   "id": "213c9e0d",
   "metadata": {},
   "outputs": [],
   "source": [
    "# Práctica: Determinación del parámetro d (orden de diferenciación) para series polinomiales f(t)=t^n\n",
    "#\n",
    "# Este cuaderno genera datos artificiales f(t)=t^n, aplica diferencias de orden k,\n",
    "# muestra tablas de diferencias finitas y resume el d mínimo que estabiliza (vuelve constante) la serie.\n",
    "#\n",
    "# Reglas de gráficos exigidas por el sistema: usar matplotlib, una figura por gráfico, sin estilos ni colores específicos.\n",
    "\n",
    "import numpy as np\n",
    "import pandas as pd\n",
    "import math\n",
    "import matplotlib.pyplot as plt\n",
    "\n",
    "\n",
    "def serie_polinomial(n:int, T:int=30, start:int=0):\n",
    "    t = np.arange(start, start+T+1)  # T+1 puntos para que queden T puntos luego de 1 diferencia, etc.\n",
    "    y = t**n\n",
    "    return t, y\n"
   ]
  },
  {
   "cell_type": "code",
   "execution_count": 3,
   "id": "3e0b260e",
   "metadata": {},
   "outputs": [
    {
     "data": {
      "text/plain": [
       "(array([ 1,  2,  3,  4,  5,  6,  7,  8,  9, 10, 11]),\n",
       " array([   1,    8,   27,   64,  125,  216,  343,  512,  729, 1000, 1331]))"
      ]
     },
     "execution_count": 3,
     "metadata": {},
     "output_type": "execute_result"
    }
   ],
   "source": [
    "serie_polinomial(3, T=10, start=1)"
   ]
  },
  {
   "cell_type": "code",
   "execution_count": 4,
   "id": "96673d93",
   "metadata": {},
   "outputs": [],
   "source": [
    "\n",
    "def diferencia_k(y: np.ndarray, k:int):\n",
    "    z = y.copy()\n",
    "    for _ in range(k):\n",
    "        z = np.diff(z, n=1)\n",
    "    return z\n"
   ]
  },
  {
   "cell_type": "code",
   "execution_count": 7,
   "id": "fcd71a7c",
   "metadata": {},
   "outputs": [
    {
     "data": {
      "text/plain": [
       "array([6, 6])"
      ]
     },
     "execution_count": 7,
     "metadata": {},
     "output_type": "execute_result"
    }
   ],
   "source": [
    "diferencia_k(np.array([1, 8, 27, 64, 125]), 3)  # diferencias de f(t)=t^3, t=1..5"
   ]
  },
  {
   "cell_type": "code",
   "execution_count": null,
   "id": "8821a9c9",
   "metadata": {},
   "outputs": [],
   "source": [
    "\n",
    "def d_minimo_para_constante(y: np.ndarray, max_k:int=10, tol:float=1e-12):\n",
    "    # Encuentra el menor k tal que la serie diferenciada es (numéricamente) constante\n",
    "    for k in range(0, max_k+1):\n",
    "        z = diferencia_k(y, k)\n",
    "        if len(z) <= 1:\n",
    "            # si queda 0 o 1 punto, la consideramos constante por construcción\n",
    "            return k\n",
    "        if np.var(z) < tol:\n",
    "            return k\n",
    "    return None\n",
    "\n",
    "# 1) Tabla de diferencias para n=3 (ejemplo docente)\n",
    "t, y = serie_polinomial(n=3, T=10, start=0)\n",
    "tabla = pd.DataFrame({\"t\": t, \"f(t)=t^3\": y})\n",
    "for k in range(1, 6):  # hasta 5 diferencias\n",
    "    col_prev = y if k==1 else tabla[f\"Δ^{k-1} f\"]\n",
    "    tabla[f\"Δ^{k} f\"] = np.append(np.diff(col_prev), [np.nan])\n",
    "\n",
    "display_dataframe_to_user(\"Tabla de diferencias finitas para f(t)=t^3\", tabla)\n",
    "\n",
    "# 2) Resumen para n=1..5: d mínimo teórico vs detectado\n",
    "resumen_rows = []\n",
    "for n in range(1, 6):\n",
    "    t, y = serie_polinomial(n=n, T=30)\n",
    "    d_estimado = d_minimo_para_constante(y, max_k=10)\n",
    "    resumen_rows.append({\n",
    "        \"n\": n,\n",
    "        \"d_mínimo_teórico (n)\": n,\n",
    "        \"d_estimado_por_var≈0\": d_estimado,\n",
    "        \"Δ^n f(t) esperado\": f\"{math.factorial(n)} (constante)\",\n",
    "        \"Δ^{n+1} f(t) esperado\": \"0 (todos ceros)\"\n",
    "    })\n",
    "resumen = pd.DataFrame(resumen_rows)\n",
    "display_dataframe_to_user(\"Resumen d para f(t)=t^n, n=1..5\", resumen)\n",
    "\n",
    "# 3) Gráficos ilustrativos: para cada n, graficar la serie original y la serie tras d=n diferencias\n",
    "for n in range(1, 6):\n",
    "    t, y = serie_polinomial(n=n, T=30)\n",
    "    plt.figure(figsize=(8,4))\n",
    "    plt.plot(t, y, linewidth=2)\n",
    "    plt.title(f\"Serie original f(t)=t^{n}\")\n",
    "    plt.xlabel(\"t\")\n",
    "    plt.ylabel(\"f(t)\")\n",
    "    plt.grid(True)\n",
    "    plt.tight_layout()\n",
    "    plt.show()\n",
    "\n",
    "    z = diferencia_k(y, n)          # d = n\n",
    "    t_d = np.arange(t[0]+n, t[-1]+1)  # eje temporal tras n diferencias\n",
    "    plt.figure(figsize=(8,4))\n",
    "    plt.plot(t_d, z, linewidth=2)\n",
    "    plt.title(f\"Diferenciada Δ^{n} f(t)=t^{n}  →  constante ≈ {z[0] if len(z)>0 else 'NA'}\")\n",
    "    plt.xlabel(\"t\")\n",
    "    plt.ylabel(f\"Δ^{n} f(t)\")\n",
    "    plt.grid(True)\n",
    "    plt.tight_layout()\n",
    "    plt.show()\n",
    "\n",
    "# 4) Guardar los resultados clave como CSV para práctica\n",
    "tabla.to_csv(\"/mnt/data/tabla_diferencias_t3.csv\", index=False)\n",
    "resumen.to_csv(\"/mnt/data/resumen_d_f_t_n.csv\", index=False)\n",
    "\n",
    "print(\"Archivos creados:\")\n",
    "print(\"- /mnt/data/tabla_diferencias_t3.csv\")\n",
    "print(\"- /mnt/data/resumen_d_f_t_n.csv\")\n"
   ]
  },
  {
   "cell_type": "code",
   "execution_count": null,
   "id": "1f6dbc43",
   "metadata": {},
   "outputs": [],
   "source": []
  },
  {
   "cell_type": "code",
   "execution_count": null,
   "id": "a9284283",
   "metadata": {},
   "outputs": [],
   "source": [
    "import numpy as np\n",
    "import pandas as pd\n",
    "import math\n",
    "import matplotlib.pyplot as plt\n",
    "from caas_jupyter_tools import display_dataframe_to_user\n",
    "\n",
    "def serie_polinomial(n:int, T:int=30, start:int=0):\n",
    "    t = np.arange(start, start+T+1)\n",
    "    y = t**n\n",
    "    return t, y\n",
    "\n",
    "def diferencia_k(y: np.ndarray, k:int):\n",
    "    z = y.copy()\n",
    "    for _ in range(k):\n",
    "        z = np.diff(z, n=1)\n",
    "    return z\n",
    "\n",
    "def d_minimo_para_constante(y: np.ndarray, max_k:int=10, tol:float=1e-12):\n",
    "    for k in range(0, max_k+1):\n",
    "        z = diferencia_k(y, k)\n",
    "        if len(z) <= 1:\n",
    "            return k\n",
    "        if np.var(z) < tol:\n",
    "            return k\n",
    "    return None\n",
    "\n",
    "# 1) Tabla de diferencias para n=3 (ejemplo)\n",
    "t, y = serie_polinomial(n=3, T=10, start=0)\n",
    "tabla = pd.DataFrame({\"t\": t, \"f(t)=t^3\": y})\n",
    "for k in range(1, 6):\n",
    "    col_prev = y if k==1 else tabla[f\"Δ^{k-1} f\"]\n",
    "    tabla[f\"Δ^{k} f\"] = np.append(np.diff(col_prev), [np.nan])\n",
    "\n",
    "display_dataframe_to_user(\"Tabla de diferencias finitas para f(t)=t^3\", tabla)\n",
    "\n",
    "# 2) Resumen para n=1..5\n",
    "resumen_rows = []\n",
    "for n in range(1, 6):\n",
    "    t, y = serie_polinomial(n=n, T=30)\n",
    "    d_estimado = d_minimo_para_constante(y, max_k=10)\n",
    "    resumen_rows.append({\n",
    "        \"n\": n,\n",
    "        \"d_mínimo_teórico (n)\": n,\n",
    "        \"d_estimado_por_var≈0\": d_estimado,\n",
    "        \"Δ^n f(t) esperado\": f\"{math.factorial(n)} (constante)\",\n",
    "        \"Δ^{n+1} f(t) esperado\": \"0 (todos ceros)\"\n",
    "    })\n",
    "resumen = pd.DataFrame(resumen_rows)\n",
    "display_dataframe_to_user(\"Resumen d para f(t)=t^n, n=1..5\", resumen)\n",
    "\n",
    "# 3) Gráficos: serie original y diferenciada de orden n para n=1..5\n",
    "for n in range(1, 6):\n",
    "    t, y = serie_polinomial(n=n, T=30)\n",
    "    plt.figure(figsize=(8,4))\n",
    "    plt.plot(t, y, linewidth=2)\n",
    "    plt.title(f\"Serie original f(t)=t^{n}\")\n",
    "    plt.xlabel(\"t\")\n",
    "    plt.ylabel(\"f(t)\")\n",
    "    plt.grid(True)\n",
    "    plt.tight_layout()\n",
    "    plt.show()\n",
    "\n",
    "    z = diferencia_k(y, n)\n",
    "    t_d = np.arange(t[0]+n, t[-1]+1)\n",
    "    plt.figure(figsize=(8,4))\n",
    "    plt.plot(t_d, z, linewidth=2)\n",
    "    plt.title(f\"Diferenciada Δ^{n} f(t)=t^{n}  →  constante ≈ {z[0] if len(z)>0 else 'NA'}\")\n",
    "    plt.xlabel(\"t\")\n",
    "    plt.ylabel(f\"Δ^{n} f(t)\")\n",
    "    plt.grid(True)\n",
    "    plt.tight_layout()\n",
    "    plt.show()\n",
    "\n",
    "# 4) Guardar CSV\n",
    "tabla.to_csv(\"/mnt/data/tabla_diferencias_t3.csv\", index=False)\n",
    "resumen.to_csv(\"/mnt/data/resumen_d_f_t_n.csv\", index=False)\n",
    "\n",
    "print(\"Archivos creados:\")\n",
    "print(\"- /mnt/data/tabla_diferencias_t3.csv\")\n",
    "print(\"- /mnt/data/resumen_d_f_t_n.csv\")\n"
   ]
  }
 ],
 "metadata": {
  "kernelspec": {
   "display_name": ".venv",
   "language": "python",
   "name": "python3"
  },
  "language_info": {
   "codemirror_mode": {
    "name": "ipython",
    "version": 3
   },
   "file_extension": ".py",
   "mimetype": "text/x-python",
   "name": "python",
   "nbconvert_exporter": "python",
   "pygments_lexer": "ipython3",
   "version": "3.11.9"
  }
 },
 "nbformat": 4,
 "nbformat_minor": 5
}

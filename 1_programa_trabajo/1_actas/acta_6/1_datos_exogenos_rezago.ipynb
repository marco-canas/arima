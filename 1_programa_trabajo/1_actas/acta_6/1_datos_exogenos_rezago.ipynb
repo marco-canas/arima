{
 "cells": [
  {
   "cell_type": "markdown",
   "id": "0989d690",
   "metadata": {},
   "source": [
    "<table align=\"left\">\n",
    "  <td>\n",
    "    <a href=\"https://colab.research.google.com/github/marco-canas/algebra_y_trigonometria/blob/main/classes/0_formatos_clase/algebra_and_trigonometry.ipynb\" target=\"_parent\"><img src=\"https://colab.research.google.com/assets/colab-badge.svg\" alt=\"Open In Colab\"/></a>\n",
    "  </td>\n",
    "  <td>\n",
    "    <a target=\"_blank\" href=\"https://kaggle.com/kernels/welcome?src=https://github.com/marco-canas/algebra_y_trigonometria/blob/main/classes/0_formatos_clase/algebra_and_trigonometry.ipynb\"><img src=\"https://kaggle.com/static/images/open-in-kaggle.svg\" /></a>\n",
    "  </td>\n",
    "</table>"
   ]
  },
  {
   "cell_type": "markdown",
   "id": "3a779bdf",
   "metadata": {},
   "source": [
    "# Datos exógenos y rezago de las variables exógenes asociadas a esta investigación  \n"
   ]
  },
  {
   "cell_type": "markdown",
   "id": "785f6ec5",
   "metadata": {},
   "source": [
    "## Definición de datos exógenos  \n",
    "\n",
    "En el contexto de esta investigación para diseñar un **Sistema de Alerta Temprana (SAT) para dengue en Caucasia**, los **datos exógenos** son todas aquellas **variables externas a la serie temporal de casos de dengue**, que pueden influir en su comportamiento y cuya inclusión en el modelado (ARIMAX, SARIMAX) puede mejorar la capacidad predictiva del sistema.\n"
   ]
  },
  {
   "cell_type": "markdown",
   "id": "ebfa6b78",
   "metadata": {},
   "source": [
    "\n",
    "En términos más sencillos:  Son factores explicativos que no son los casos de dengue mismos, pero que ayudan a anticipar cambios en ellos.\n"
   ]
  },
  {
   "cell_type": "markdown",
   "id": "70379748",
   "metadata": {},
   "source": [
    "\n",
    "## Características clave de los datos exógenos\n"
   ]
  },
  {
   "cell_type": "markdown",
   "id": "a28cf869",
   "metadata": {},
   "source": [
    "\n",
    "1. **No forman parte de la serie endógena** (en este caso, la serie de casos semanales de dengue).\n",
    "2. **Tienen relación causal o correlacional** con la incidencia de la enfermedad.\n",
    "3. **Se registran con la misma periodicidad** (o se pueden transformar para que coincidan) que la serie de dengue.\n",
    "4. **Pueden estar adelantados en el tiempo (rezagos)**, lo que es útil para anticipar brotes.\n",
    "\n",
    "---\n"
   ]
  },
  {
   "cell_type": "markdown",
   "id": "0d0d3ad9",
   "metadata": {},
   "source": [
    "\n",
    "## Ejemplos de datos exógenos para el SAT en Caucasia\n"
   ]
  },
  {
   "cell_type": "markdown",
   "id": "a8044db6",
   "metadata": {},
   "source": [
    "\n",
    "Dada tu línea de investigación y los datos disponibles, los principales exógenos serían **variables climáticas y ambientales**:\n"
   ]
  },
  {
   "cell_type": "markdown",
   "id": "4fbe00af",
   "metadata": {},
   "source": [
    "\n",
    "| Variable                                     | Fuente                         | Relevancia para dengue                                   | Posibles rezagos |\n",
    "| -------------------------------------------- | ------------------------------ | -------------------------------------------------------- | ---------------- |\n",
    "| Temperatura media, máxima y mínima           | IDEAM, Antioquia Mira su Cielo | Afecta el ciclo de vida del mosquito y replicación viral | 2–6 semanas      |\n",
    "| Humedad relativa (%)                         | IDEAM                          | Favorece supervivencia del *Aedes aegypti*               | 2–4 semanas      |\n",
    "| Precipitación acumulada (mm)                 | IDEAM, Fedearroz               | Crea criaderos temporales de larvas                      | 2–6 semanas      |\n",
    "| **Días de lluvia por semana epidemiológica** | IDEAM, NASA POWER              | Indicador simple y robusto de humedad ambiental          | 2–6 semanas      |\n",
    "| Velocidad del viento (media, máx., mín.)     | IDEAM                          | Puede dispersar o limitar el vuelo de mosquitos          | 0–2 semanas      |\n",
    "| Fenómenos ENSO (El Niño/La Niña)             | NOAA, IDEAM                    | Cambios climáticos que alteran patrones de transmisión   | Meses            |\n",
    "| Índices entomológicos (Breteau, vivienda)    | Secretaría de Salud            | Mide la densidad de mosquitos en domicilios              | 0–2 semanas      |\n",
    "\n",
    "---\n"
   ]
  },
  {
   "cell_type": "markdown",
   "id": "c24cd63c",
   "metadata": {},
   "source": [
    "\n",
    "## 3️. Uso de datos exógenos en modelos ARIMAX/SARIMAX\n"
   ]
  },
  {
   "cell_type": "markdown",
   "id": "28f98c28",
   "metadata": {},
   "source": [
    "\n",
    "En el **ARIMAX** (o **SARIMAX** cuando hay estacionalidad), estos datos entran como **variables independientes $X_t$** que ayudan a explicar y predecir la variable dependiente (casos de dengue $Y_t$).\n"
   ]
  },
  {
   "cell_type": "markdown",
   "id": "6aab7207",
   "metadata": {},
   "source": [
    "\n",
    "**Ejemplo de formulación SARIMAX:**\n",
    "\n",
    "$$\n",
    "Y_t = c + \\phi_1 Y_{t-1} + \\dots + \\beta_1 X_{1, t-k_1} + \\beta_2 X_{2, t-k_2} + \\varepsilon_t\n",
    "$$\n",
    "\n",
    "$$ Y_t = c + \\Phi \\cdot Y_{t - i} + \\beta \\cdot X_{t - k} + \\varepsilon_t $$\n",
    "\n",
    "Donde:\n",
    "\n",
    "* $Y_t$ = casos de dengue en la semana $t$\n",
    "* $X_{1, t-k_1}$ = temperatura media con rezago $k_1$ semanas\n",
    "* $X_{2, t-k_2}$ = días de lluvia con rezago $k_2$ semanas\n",
    "* $\\beta_1, \\beta_2$ = coeficientes que miden el efecto de cada exógeno\n",
    "* $\\varepsilon_t$ = error aleatorio\n",
    "\n",
    "---\n"
   ]
  },
  {
   "cell_type": "markdown",
   "id": "88e2befe",
   "metadata": {},
   "source": [
    "\n",
    "## Importancia para un SAT de dengue\n",
    "\n",
    "* **Anticipación**: Los exógenos pueden dar señales antes de que aumenten los casos.\n",
    "* **Interpretabilidad**: Explican por qué se producen los picos, útil para decisiones de salud pública.\n",
    "* **Acción preventiva**: Permiten activar campañas de control vectorial antes del brote.\n",
    "* **Personalización local**: Ajustan el modelo a las condiciones climáticas y socioambientales de Caucasia.\n",
    "\n",
    "---\n",
    "\n",
    "Si quieres, puedo prepararte un **esquema gráfico** donde se muestre cómo los datos exógenos fluyen hacia el modelo SARIMAX y alimentan la alerta temprana de dengue.\n",
    "¿Quieres que lo haga ahora?\n"
   ]
  },
  {
   "cell_type": "markdown",
   "id": "72a2e06f",
   "metadata": {},
   "source": [
    "# Automatización del proceso de toma de datos endógenos y exógenes de esta investigación. "
   ]
  },
  {
   "cell_type": "markdown",
   "id": "2388e073",
   "metadata": {},
   "source": [
    "Empecemos recordando las variables endógenas y exógenes que tomaremos en esta investigación.  \n"
   ]
  },
  {
   "cell_type": "markdown",
   "id": "b221dd8e",
   "metadata": {},
   "source": [
    "\n",
    "\n",
    "## Prompt para ChatGPT para obtener sugerencia de variables exógenas y endógenas \n",
    "\n",
    "Dame una lista completa de variables exógenas(Variables climáticas de Caucasia - Antioquia) y endógenas (como el número de casos de dengue en el municipio y por barrio del municipio de Caucasia - Antioquia/ Colombia) que me permitan construir un buen modelo predictivo de Dengue de acuerdo al modelo $Y_t = c + \\phi_1 Y_{t-1} + \\dots + \\beta_1 X_{1, t-k_1} + \\beta_2 X_{2, t-k_2} + \\varepsilon_t$ para implementar con SARIMAX  \n"
   ]
  },
  {
   "cell_type": "markdown",
   "id": "09ab951d",
   "metadata": {},
   "source": [
    "\n",
    "Este es un **inventario claro y accionable** de variables para tu SAT de dengue con **SARIMAX**, separadas en **endógenas** (lo que vas a predecir) y **exógenas climáticas** (lo que ayuda a anticipar los casos). Incluyo **unidades, frecuencia**, y **rezagos/transformaciones** recomendados para que puedas llevarlas directo al modelado.\n",
    "\n",
    "---\n"
   ]
  },
  {
   "cell_type": "markdown",
   "id": "ea4b63a6",
   "metadata": {},
   "source": [
    "\n",
    "# Endógenas (Y)\n",
    "\n",
    "> Serie objetivo(s) por **semana epidemiológica** (ISO-week).\n"
   ]
  },
  {
   "cell_type": "markdown",
   "id": "e9f25ac9",
   "metadata": {},
   "source": [
    "\n",
    "## Nivel municipal\n",
    "\n",
    "* **Casos de dengue (Y\\_t)**: conteo semanal total (casos/semana).\n",
    "\n",
    "  * Derivadas útiles:\n",
    "\n",
    "    * **Tasa** = casos / población × 100.000\n",
    "    * **Indicadora de epidemia** (0/1) según umbral operativo\n",
    "    * **Gravedad**: hospitalizaciones, UCI (si disponible)\n",
    "  * Transformaciones: `log1p(Y_t)`, diferencia no estacional (d) y, si aplica, diferencia estacional (D).\n"
   ]
  },
  {
   "cell_type": "markdown",
   "id": "191e106d",
   "metadata": {},
   "source": [
    "\n",
    "## Nivel barrio (modelos multinivel o panel)\n",
    "\n",
    "* **Casos por barrio (Y\\_{b,t})**: conteo semanal por barrio *b*.\n",
    "\n",
    "  * Derivadas por barrio: tasas por 100.000, indicadores de brote barrial (0/1).\n",
    "  * Útil para: SARIMAX con **efectos fijos/barrio** o modelos jerárquicos; alternativamente, un modelo SARIMAX por barrio.\n",
    "\n",
    "> **Sugerencia de rezagos endógenos**: incluir $Y_{t-1}, Y_{t-2}, \\dots$ (AR) y, si hay estacionalidad, $Y_{t- s}$ (p.ej., $s=52$ anual o $s=26$ bimodal si la climatología lo sugiere).\n",
    "\n",
    "---\n"
   ]
  },
  {
   "cell_type": "markdown",
   "id": "c506fd52",
   "metadata": {},
   "source": [
    "\n",
    "# Exógenas climáticas (X)\n",
    "\n",
    "> Medidas en **Caucasia – Antioquia**, con **agregación semanal** (misma semana epidemiológica que Y). Para cada variable lista una **ventana móvil** (1–8 semanas) y prueba **rezagos** $k$ típicos de **2–6 semanas** (ciclo vectorial+incubación).\n",
    "\n",
    "## 1) Temperatura\n",
    "\n",
    "* **Temperatura media (°C)** — `temp_mean`\n",
    "* **Máxima (°C)** — `temp_max`\n",
    "* **Mínima (°C)** — `temp_min`\n",
    "* **Rango diurno** = max − min — `dtr`\n",
    "* **Grados-día** sobre umbral (p.ej., >18–20 °C) — `dday_20`\n",
    "\n",
    "  * Derivadas: medias móviles (MA 2–6 sem), anomalías vs climatología 2010-2024, z-scores.\n",
    "  * Rezagos típicos: **3–6 semanas**.\n",
    "\n",
    "## 2) Humedad y punto de rocío\n",
    "\n",
    "* **Humedad relativa media (%)** — `rh_mean`\n",
    "* **Punto de rocío (°C)** — `dewpoint`\n",
    "* **Horas/semana con RH>80%** — `rh80_hours` (si disponible)\n",
    "\n",
    "  * Rezagos: **2–4 semanas**.\n",
    "\n",
    "## 3) Precipitación y lluvia\n",
    "\n",
    "* **Precipitación total semanal (mm)** — `prcp_sum`\n",
    "* **Intensidad máxima 24 h (mm)** — `prcp_max24h`\n",
    "* **Días de lluvia/semana (≥1 mm)** — `rain_days`\n",
    "* **Rachas de días húmedos/secos** — `cwd`/`csd` (consecutive wet/dry)\n",
    "* **Precipitación acumulada móvil** (sumas 2–8 sem) — `prcp_roll`\n",
    "\n",
    "  * Rezagos: **2–6 semanas**; muchas veces **4–6** funciona mejor.\n",
    "\n",
    "## 4) Radiación y nubosidad\n",
    "\n",
    "* **Radiación solar global (MJ m⁻² día⁻¹, luego semanal)** — `rad_global`\n",
    "* **Horas de brillo solar** — `sunshine_hours` (si existe)\n",
    "* **Cobertura nubosa (%)** — `cloud_cover`\n",
    "\n",
    "  * Importa para desarrollo larval (temperatura del microhábitat). Rezagos **2–4**.\n",
    "\n",
    "## 5) Viento\n",
    "\n",
    "* **Velocidad media (m/s)** — `wind_mean`\n",
    "* **Ráfaga máxima (m/s)** — `wind_gust`\n",
    "* **Dirección predominante (°)** — `wind_dir` (opcional, como componentes u/v)\n",
    "\n",
    "  * Puede modular dispersión vectorial; rezagos **0–2 semanas**.\n",
    "\n",
    "## 6) Presión y condiciones sinópticas\n",
    "\n",
    "* **Presión media al nivel estación (hPa)** — `mslp`\n",
    "* **Anomalías semanales de presión**\n",
    "\n",
    "  * Útiles como sustitutos de sistemas de tiempo; rezagos **0–2**.\n",
    "\n",
    "## 7) Hidro-climáticos locales (opcionales, si hay datos)\n",
    "\n",
    "* **Nivel/caudal de ríos cercanos (Cauca/Nechí)** — `river_level`\n",
    "* **Humedad del suelo (%)** — `soil_moisture`\n",
    "\n",
    "  * Relacionados con criaderos peri-fluviales; rezagos **2–6**.\n",
    "\n",
    "## 8) Señales climáticas de gran escala (opcionales)\n",
    "\n",
    "* **ONI / Niño 3.4 (mensual → semanal por réplica)** — `oni`\n",
    "* **Fases MJO (categorías)** — `mjo_phase`\n",
    "\n",
    "  * Se incorporan sin rezago o con **4–8 semanas** (efectos modulados).\n",
    "\n",
    "---\n",
    "\n",
    "# Variables derivadas recomendadas (features ingenierizadas)\n",
    "\n",
    "> Suelen mejorar SARIMAX sin sobrecargar el modelo.\n",
    "\n",
    "* **Anomalías** vs climatología (2010–2024) de temp, RH, precip.\n",
    "* **Ventanas móviles**: medias/sumas (2, 4, 6, 8 semanas).\n",
    "* **Indicadores binarios**: semana con lluvia intensa (`prcp_max24h > p90`), ola de calor (`temp_max > p90` ≥2 días), RH alta (`rh_mean > p80`).\n",
    "* **Interacciones**: `rain_days × rh_mean`, `temp_mean × rh_mean`.\n",
    "* **Estacionalidad explícita**: dummies por mes/estación si SARIMAX no capta toda la estacionalidad.\n",
    "* **Desfase optimizado** por **correlación cruzada (CCF)** de cada X con Y (elige 1–2 rezagos por variable para evitar colinealidad).\n",
    "\n",
    "---\n"
   ]
  },
  {
   "cell_type": "markdown",
   "id": "441800e9",
   "metadata": {},
   "source": [
    "\n",
    "# Esquema mínimo sugerido para tu SARIMAX\n",
    "\n",
    "* **Y (municipal)**: `log1p(casos_semana)`\n",
    "* **X base** (probar primero):\n",
    "\n",
    "  1. `temp_mean_{t-4}`\n",
    "  2. `rh_mean_{t-3}`\n",
    "  3. `prcp_sum_{t-5}`\n",
    "  4. `rain_days_{t-4}`\n",
    "  5. `dtr_{t-4}` (opcional)\n",
    "* **Estacionalidad**: $s = 52$ (o la que detectes).\n",
    "* **Parámetros**: empezar con auto\\_arima/auto\\_sarimax para (p,d,q)(P,D,Q)$_s$, y luego **podar** X por significancia, AIC/BIC y diagnóstico de residuos.\n",
    "\n",
    "---\n"
   ]
  },
  {
   "cell_type": "markdown",
   "id": "8b196a08",
   "metadata": {},
   "source": [
    "\n",
    "# Buenas prácticas (muy útiles)\n",
    "\n",
    "* **Alineación temporal**: todas las X en **semana epidemiológica**, con rezagos aplicados **antes** del split train/test.\n",
    "* **Imputación**: preferir **interpolaciones físicas/plausibles** (p.ej., precip no negativa).\n",
    "* **Colinealidad**: evitar incluir a la vez `temp_mean`, `temp_max`, `temp_min` sin control (usa VIF o PCA climático si hace falta).\n",
    "* **Regularización suave**: Lasso/Ridge en una fase previa de selección de X puede ayudar.\n",
    "* **Evaluación**: RMSE/MAE/MAPE y verificación de **alerta** (AUC/PR) si harán clasificación de semanas epidémicas.\n",
    "\n",
    "---\n"
   ]
  },
  {
   "cell_type": "markdown",
   "id": "be5f5e88",
   "metadata": {},
   "source": [
    "\n",
    "Si quieres, te genero **una plantilla CSV** con todos estos nombres de variables (columnas) para que solo tengas que llenarla con tus datos semanales, o un **snippet en Python** que calcule las derivadas (anomalías, ventanas y rezagos) a partir de tus series climáticas. ¿Cuál prefieres?\n"
   ]
  },
  {
   "cell_type": "markdown",
   "id": "66524011",
   "metadata": {},
   "source": [
    "**Ejemplo de formulación SARIMAX:**\n",
    "\n",
    "$$\n",
    "Y_t = c + \\phi_1 Y_{t-1} + \\dots + \\beta_1 X_{1, t-k_1} + \\beta_2 X_{2, t-k_2} + \\varepsilon_t\n",
    "$$\n",
    "\n",
    "Donde:\n",
    "\n",
    "* $Y_t$ = casos de dengue en la semana $t$\n",
    "* $X_{1, t-k_1}$ = temperatura media con rezago $k_1$ semanas\n",
    "* $X_{2, t-k_2}$ = días de lluvia con rezago $k_2$ semanas\n",
    "* $\\beta_1, \\beta_2$ = coeficientes que miden el efecto de cada exógeno\n",
    "* $\\varepsilon_t$ = error aleatorio"
   ]
  },
  {
   "cell_type": "markdown",
   "id": "23041482",
   "metadata": {},
   "source": [
    "# Metodología para tratamiento de los datos en esta investigación \n",
    "\n",
    "1. Obtener los datos climáticos y entomológicos: \n",
    "2. determinar los rezagos\n",
    "3. Transformar los datos en datos que tienen en cuenta tales rezagos. Es decir, que las variables ya queden de la forma $X_{i, t-k_{i}}$. "
   ]
  }
 ],
 "metadata": {
  "language_info": {
   "name": "python"
  }
 },
 "nbformat": 4,
 "nbformat_minor": 5
}

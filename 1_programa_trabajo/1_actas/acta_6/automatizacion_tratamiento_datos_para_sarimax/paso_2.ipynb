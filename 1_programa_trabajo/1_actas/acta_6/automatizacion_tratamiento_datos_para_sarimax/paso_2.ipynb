{
 "cells": [
  {
   "cell_type": "markdown",
   "id": "8afbbeb6",
   "metadata": {},
   "source": [
    "# Metodología para tratamiento de los datos en esta investigación \n",
    "\n",
    "1. Obtener los datos climáticos y entomológicos: \n",
    "2. determinar los rezagos\n",
    "3. Transformar los datos en datos que tienen en cuenta tales rezagos. Es decir, que las variables ya queden de la forma $X_{i, t-k_{i}}$. "
   ]
  }
 ],
 "metadata": {
  "language_info": {
   "name": "python"
  }
 },
 "nbformat": 4,
 "nbformat_minor": 5
}

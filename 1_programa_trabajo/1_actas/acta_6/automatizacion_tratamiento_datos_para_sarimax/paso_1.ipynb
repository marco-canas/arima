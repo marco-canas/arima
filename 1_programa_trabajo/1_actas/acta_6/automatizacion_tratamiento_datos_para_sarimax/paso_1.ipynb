{
 "cells": [
  {
   "cell_type": "markdown",
   "id": "ba2fac30",
   "metadata": {},
   "source": [
    "<table align=\"left\">\n",
    "  <td>\n",
    "    <a href=\"https://colab.research.google.com/github/marco-canas/algebra_y_trigonometria/blob/main/classes/0_formatos_clase/algebra_and_trigonometry.ipynb\" target=\"_parent\"><img src=\"https://colab.research.google.com/assets/colab-badge.svg\" alt=\"Open In Colab\"/></a>\n",
    "  </td>\n",
    "  <td>\n",
    "    <a target=\"_blank\" href=\"https://kaggle.com/kernels/welcome?src=https://github.com/marco-canas/algebra_y_trigonometria/blob/main/classes/0_formatos_clase/algebra_and_trigonometry.ipynb\"><img src=\"https://kaggle.com/static/images/open-in-kaggle.svg\" /></a>\n",
    "  </td>\n",
    "</table>"
   ]
  },
  {
   "cell_type": "markdown",
   "id": "2a1cae35",
   "metadata": {},
   "source": [
    "# Metodología para tratamiento de los datos en esta investigación para preparar los datos para el algoritmo SARIMAX  \n",
    "\n",
    "1. Obtener los datos climáticos y entomológicos: \n",
    "2. determinar los rezagos\n",
    "3. Transformar los datos en datos que tienen en cuenta tales rezagos. Es decir, que las variables ya queden de la forma $X_{i, t-k_{i}}$. "
   ]
  },
  {
   "cell_type": "markdown",
   "id": "6a4435ad",
   "metadata": {},
   "source": [
    "# Prompt para la implementación de esta metodología  \n",
    "\n",
    "Dame, por favor el código Python para desarrollar el primer paso de la siguiente metodología: \n",
    "\n",
    "1. Generar los datos artificiales climáticos (con frecuencia de días) y entomológicos (Sobre el comportamiento del dengue en Caucasia-Antioquia/Colombia en los últimos diez años y con frecuencia de semana epidemiológica). (Luego juntarlos ): \n",
    "2. determinar los rezagos\n",
    "3. Transformar los datos en datos que tienen en cuenta tales rezagos. Es decir, que las variables ya queden de la forma $X_{i, t-k_{i}}$.   \n",
    "\n",
    "\n"
   ]
  }
 ],
 "metadata": {
  "language_info": {
   "name": "python"
  }
 },
 "nbformat": 4,
 "nbformat_minor": 5
}

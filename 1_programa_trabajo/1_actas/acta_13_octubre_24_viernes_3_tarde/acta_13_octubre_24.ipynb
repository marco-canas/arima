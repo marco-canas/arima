{
 "cells": [
  {
   "cell_type": "markdown",
   "id": "e4aad39b",
   "metadata": {},
   "source": []
  },
  {
   "cell_type": "markdown",
   "id": "8669ec9f",
   "metadata": {},
   "source": [
    "# Acta 13 del 24 de Octubre  \n",
    "\n"
   ]
  },
  {
   "cell_type": "markdown",
   "id": "deb74285",
   "metadata": {},
   "source": [
    "A continuación te dejo un **ejemplo completo del Acta No. 13**, fechada el **24 de octubre de 2025**, correspondiente al proyecto de investigación sobre la **implementación del algoritmo SARIMAX para la predicción de epidemias de Dengue en Caucasia, en función del comportamiento meteorológico**.\n",
    "El modelo del acta está adaptado a un formato académico y de investigación universitaria, como los usados en proyectos apoyados por grupos o semilleros de investigación (por ejemplo, GIBACC).\n",
    "\n",
    "---\n"
   ]
  },
  {
   "cell_type": "markdown",
   "id": "0639a746",
   "metadata": {},
   "source": [
    "\n",
    "### **ACTA No. 13**\n",
    "\n",
    "**Proyecto:** *Implementación del algoritmo SARIMAX para la predicción de epidemias de Dengue en Caucasia, en función del comportamiento meteorológico*\n",
    "**Fecha:** 24 de octubre de 2025\n",
    "**Lugar:** Universidad de Antioquia – Seccional Bajo Cauca, Campus Caucasia\n",
    "**Hora de inicio:** 3:00 pm\n",
    "**Hora de finalización:** 5:45 pm.\n",
    "**Modalidad:** Presencial\n",
    "**Grupo de Investigación:** GIBACC – Grupo Interdisciplinario de Investigación de Bajo Cauca y Córdoba\n",
    "**Semillero:** *Ciencia de Datos y Modelamiento Matemático Aplicado*\n",
    "**Coordinador:** Marco Julio Cañas\n",
    "**Asistentes:**\n",
    "\n",
    "* Marco Julio Cañas (Docente investigador)\n",
    "* Janis Zúñiga Ortega (Estudiante de Lic. en Biología)\n",
    "\n",
    "---\n"
   ]
  },
  {
   "cell_type": "markdown",
   "id": "f23509ba",
   "metadata": {},
   "source": [
    "\n",
    "### **ORDEN DEL DÍA**\n",
    "\n",
    "1. Verificación del quórum y lectura del acta anterior.\n",
    "2. Presentación de avances en la implementación del modelo SARIMAX.\n",
    "3. Análisis preliminar de correlaciones entre variables meteorológicas y casos de Dengue.\n",
    "4. Planificación de la validación del modelo con datos 2023–2024.\n",
    "5. Asignación de tareas y compromisos.\n",
    "6. Proposiciones y varios.\n",
    "\n",
    "---\n",
    "\n",
    "### **DESARROLLO DE LA REUNIÓN**\n",
    "\n",
    "#### **1. Verificación del quórum y lectura del acta anterior**\n",
    "\n",
    "Se verifica la asistencia de los miembros activos del semillero, estableciendo quórum suficiente para el desarrollo de la sesión. Se aprueba el acta No. 12 sin observaciones.\n",
    "\n",
    "#### **2. Avances en la implementación del modelo SARIMAX**\n",
    "\n",
    "El investigador Marco Julio Cañas presentó el cuaderno Jupyter donde se integran las series de tiempo de casos mensuales de Dengue (2007–2024) con las series meteorológicas (temperatura, precipitación y humedad relativa) descargadas de IDEAM y “Antioquia Mira Su Cielo”.\n",
    "Se explicó la estructura del modelo SARIMAX:\n",
    "$$\n",
    "Y_t = \\mu + \\phi_1 Y_{t-1} + \\dots + \\phi_p Y_{t-p} + \\theta_1 \\epsilon_{t-1} + \\dots + \\theta_q \\epsilon_{t-q} + \\beta X_t + \\epsilon_t\n",
    "$$\n",
    "donde $X_{t}$ representa las variables exógenas meteorológicas.\n",
    "Los parámetros $(p, d, q, P, D, Q, s)$ se están ajustando mediante búsqueda automática con AIC y BIC mínimos.\n",
    "\n",
    "#### **3. Correlaciones preliminares**\n",
    "\n",
    "Los estudiantes presentaron las gráficas de dispersión y la matriz de correlación. Se evidenció que la **precipitación acumulada mensual** y la **humedad relativa promedio** tienen correlaciones positivas con los casos de Dengue reportados. Se decidió aplicar un análisis de rezagos (lag) para capturar efectos diferidos del clima en los casos de contagio.\n",
    "\n",
    "#### **4. Validación con datos 2023–2024**\n",
    "\n",
    "Se acordó usar los datos de 2023–2024 como conjunto de validación externa. Se medirá el desempeño del modelo mediante **RMSE, MAE y R²**, y se elaborarán gráficos comparativos entre valores observados y predichos.\n",
    "También se propuso incluir un componente de **interpretabilidad del modelo**, para analizar cómo las variables meteorológicas afectan la dinámica de transmisión del Dengue en Caucasia.\n",
    "\n",
    "#### **5. Asignación de tareas y compromisos**\n",
    "\n",
    "| **Responsable**   | **Tarea**                                                     | **Fecha de entrega** |\n",
    "| ----------------- | ------------------------------------------------------------- | -------------------- |\n",
    "| Marco Julio Cañas | Revisar y ajustar parámetros SARIMA y variables exógenas      | 28/10/2025           |\n",
    "| Est. [Nombre 1]   | Preparar informe de correlaciones y rezagos óptimos           | 29/10/2025           |\n",
    "| Est. [Nombre 2]   | Curar y actualizar la base de datos meteorológica 2024        | 30/10/2025           |\n",
    "| Est. [Nombre 3]   | Generar gráficos de validación (observado vs predicho)        | 02/11/2025           |\n",
    "| Est. [Nombre 4]   | Redactar resumen metodológico para publicación GitHub/YouTube | 05/11/2025           |\n",
    "\n",
    "#### **6. Proposiciones y varios**\n",
    "\n",
    "Se propuso vincular al proyecto el componente de visualización interactiva con *Plotly Dash* para facilitar la interpretación de los resultados. También se acordó preparar la participación del equipo en el **Encuentro de Semilleros de Investigación de la Universidad de Antioquia 2025**.\n",
    "\n",
    "---\n",
    "\n",
    "### **CONCLUSIONES**\n",
    "\n",
    "* Se cuenta con un modelo SARIMAX en etapa de ajuste avanzado.\n",
    "* Las variables meteorológicas más influyentes son la precipitación y la humedad.\n",
    "* Se iniciará la fase de validación y publicación de resultados parciales.\n",
    "* Próxima reunión: **viernes 1 de noviembre de 2025**, 10:00 a.m.\n",
    "\n",
    "---\n",
    "\n",
    "**Firma del Coordinador:**\n",
    "\n",
    "---\n",
    "\n",
    "**Marco Julio Cañas**\n",
    "Docente Investigador – Universidad de Antioquia\n",
    "Coordinador del proyecto SARIMAX Dengue Caucasia\n",
    "\n",
    "**Firmas de los asistentes:**\n",
    "\n",
    "1. Janis Zuñiga Ortega\n",
    "2. ---\n",
    "3. ---\n",
    "4. ---\n",
    "\n",
    "---\n",
    "\n",
    "¿Deseas que te lo formatee como un **documento Word o PDF** con el encabezado institucional de la Universidad de Antioquia y el logo del grupo GIBACC? Puedo generarlo automáticamente.\n"
   ]
  },
  {
   "cell_type": "code",
   "execution_count": null,
   "id": "1f28a13a",
   "metadata": {
    "vscode": {
     "languageId": "plaintext"
    }
   },
   "outputs": [],
   "source": []
  },
  {
   "cell_type": "code",
   "execution_count": null,
   "id": "2a3dcd58",
   "metadata": {
    "vscode": {
     "languageId": "plaintext"
    }
   },
   "outputs": [],
   "source": []
  }
 ],
 "metadata": {
  "language_info": {
   "name": "python"
  }
 },
 "nbformat": 4,
 "nbformat_minor": 5
}

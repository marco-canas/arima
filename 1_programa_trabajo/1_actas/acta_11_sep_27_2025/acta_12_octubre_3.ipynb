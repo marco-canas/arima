{
 "cells": [
  {
   "cell_type": "markdown",
   "id": "71283178",
   "metadata": {},
   "source": [
    "[Registro de asistencia a asesoría](https://forms.gle/FNg7WMenKvcgEh2T6)"
   ]
  },
  {
   "cell_type": "markdown",
   "id": "259008cf",
   "metadata": {},
   "source": [
    "# Decisiones y hallagpos del grupo Investigador  \n",
    "\n",
    "No tomar los datos de Fedearroz pues sus estaciones no son cercanas a Caucasia.. \n",
    "\n",
    "2. Los datos de la NASA Power \n"
   ]
  },
  {
   "cell_type": "markdown",
   "id": "be3be190",
   "metadata": {},
   "source": [
    "# Revisión de las tareas a realizar en la semana por parte de la investigadora Janis  \n",
    "\n",
    "1. "
   ]
  },
  {
   "cell_type": "markdown",
   "id": "db028cc0",
   "metadata": {},
   "source": [
    "# Lo que se ha logreadoo hasta hoy y lo que pretendemos lograr hoy   \n",
    "\n",
    "- Se revisó el portal agroclimático de la página de FEDEARROZ, se encontró que las estaciones de donde la empresa toma los datos para Caucasia no se encuentran dentro del municipio sino en municipios cercanos como Nechí\n",
    "- Se exploró la página de WORLDCLIM, se halló que los datos climátios disponibles, están hasta el año 2000, por lo tanto, no aplican para el estudio\n",
    "- No se obtuvieron datos de las estaciones del IDEAM, ya que se encuentran fuera de servicio desde el año 2016\n",
    "- En la estación de AMSC se encontraron las siguientes variables: direccion_viento,\thumedad,\tprecipitacion,\tpresion,\tradiacion,\ttemperatura,\tuv,\tvelocidad_viento. Desde octubre de 2022 hasta octubre de 2024 pero los datos obtenidos en este rango de años no están completos  *PENDIENTE POR REVISAR*\n",
    "\n",
    "- En la plataforma de la NASAPOWER, se encontraron datos completos desde el 1 de enero 2021 hasta el 31 de diciembre 2024, con las siguientes variables:     \n",
    "     * Temperatura máxima diaria (°C)\n",
    "     * Temperatura mínima diaria (°C)\n",
    "     * Temperatura media diaria (°C)\n",
    "     * Humedad relativa media diaria (%)\n",
    "     * Humedad específica diaria (kg/kg o g/kg)\n",
    "     * Velocidad del viento media diaria (m/s)\n",
    "     * Velocidad del viento máxima diaria (m/s)\n",
    "     * Velocidad del viento mínima diaria (m/s)\n",
    "     * Precipitación diaria (mm)\n",
    "     * Radiación ultravioleta diaria (UV index)\n",
    "     * Presión atmosférica media diaria (hPa)\n",
    "Se tomó este rango de datos para entrenar el modelo para el 2025\n"
   ]
  },
  {
   "cell_type": "markdown",
   "id": "4e189c7c",
   "metadata": {},
   "source": [
    "# Vamos a redefinir un mejor horario de asesoría para posiblemente los lunes de 3 a 6 de la tarde. "
   ]
  },
  {
   "cell_type": "markdown",
   "id": "fd7d616f",
   "metadata": {},
   "source": []
  },
  {
   "cell_type": "markdown",
   "id": "816f6955",
   "metadata": {},
   "source": [
    "# Tareas\n",
    "- Las variables de los datos se deben renombrar con pandas con _rename_, ingresando en parentésis la fuente, ejemplo: (AMSC)\n",
    "- Estudiar la función merge y fusionar los datos"
   ]
  }
 ],
 "metadata": {
  "language_info": {
   "name": "python"
  }
 },
 "nbformat": 4,
 "nbformat_minor": 5
}

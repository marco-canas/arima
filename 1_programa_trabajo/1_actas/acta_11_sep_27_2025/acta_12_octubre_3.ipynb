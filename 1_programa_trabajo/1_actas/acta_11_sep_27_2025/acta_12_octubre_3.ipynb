{
 "cells": [
  {
   "cell_type": "markdown",
   "id": "71283178",
   "metadata": {},
   "source": [
    "[Registro de asistencia a asesoría](https://forms.gle/FNg7WMenKvcgEh2T6)"
   ]
  },
  {
   "cell_type": "markdown",
   "id": "259008cf",
   "metadata": {},
   "source": [
    "# Decisiones y hallagpos del grupo Investigador  \n",
    "\n",
    "No tomar los datos de Fedearroz pues sus estaciones no son cercanas a Caucasia.. \n",
    "\n",
    "2. Los datos de la NASA Power \n"
   ]
  },
  {
   "cell_type": "markdown",
   "id": "be3be190",
   "metadata": {},
   "source": [
    "# Revisión de las tareas a realizar en la semana por parte de la investigadora Janis  \n",
    "\n",
    "1. "
   ]
  },
  {
   "cell_type": "markdown",
   "id": "db028cc0",
   "metadata": {},
   "source": [
    "# Lo que se ha logreadoo hasta hoy y lo que pretendemos lograr hoy   \n",
    "\n"
   ]
  },
  {
   "cell_type": "markdown",
   "id": "4e189c7c",
   "metadata": {},
   "source": [
    "# Vamos a redefinir un mejor horario de asesoría para posiblemente los lunes de 3 a 6 de la tarde. "
   ]
  },
  {
   "cell_type": "markdown",
   "id": "fd7d616f",
   "metadata": {},
   "source": []
  }
 ],
 "metadata": {
  "language_info": {
   "name": "python"
  }
 },
 "nbformat": 4,
 "nbformat_minor": 5
}

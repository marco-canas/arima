{
 "cells": [
  {
   "cell_type": "markdown",
   "id": "71283178",
   "metadata": {},
   "source": [
    "[Registro de asistencia a asesoría](https://forms.gle/FNg7WMenKvcgEh2T6)"
   ]
  },
  {
   "cell_type": "markdown",
   "id": "259008cf",
   "metadata": {},
   "source": [
    "# Decisiones del gro Investigador  \n",
    "\n",
    "No tomar los datos de Fedearroz pues sus estaciones no son cercanas a Caucasia.. \n",
    "\n"
   ]
  },
  {
   "cell_type": "markdown",
   "id": "db028cc0",
   "metadata": {},
   "source": [
    "# Lo que se ha logreadoo hasta hoy  y lo qye pretendemos lograr hoy "
   ]
  },
  {
   "cell_type": "markdown",
   "id": "4e189c7c",
   "metadata": {},
   "source": [
    "# Vamos a redefinir un mejor horario de asesoría para posiblemente los lunes de 3 a 6 de la tarde. "
   ]
  },
  {
   "cell_type": "markdown",
   "id": "fd7d616f",
   "metadata": {},
   "source": []
  }
 ],
 "metadata": {
  "language_info": {
   "name": "python"
  }
 },
 "nbformat": 4,
 "nbformat_minor": 5
}

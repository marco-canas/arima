{
 "cells": [
  {
   "cell_type": "markdown",
   "id": "255d6971",
   "metadata": {},
   "source": [
    "<table align=\"left\">\n",
    "  <td>\n",
    "    <a href=\"https://colab.research.google.com/github/marco-canas/algebra_y_trigonometria/blob/main/classes/0_formatos_clase/algebra_and_trigonometry.ipynb\" target=\"_parent\"><img src=\"https://colab.research.google.com/assets/colab-badge.svg\" alt=\"Open In Colab\"/></a>\n",
    "  </td>\n",
    "  <td>\n",
    "    <a target=\"_blank\" href=\"https://kaggle.com/kernels/welcome?src=https://github.com/marco-canas/algebra_y_trigonometria/blob/main/classes/0_formatos_clase/algebra_and_trigonometry.ipynb\"><img src=\"https://kaggle.com/static/images/open-in-kaggle.svg\" /></a>\n",
    "  </td>\n",
    "</table>"
   ]
  },
  {
   "cell_type": "markdown",
   "id": "e651548f",
   "metadata": {},
   "source": [
    "# Metodología para tratamiento de los datos en esta investigación \n",
    "\n",
    "1. Generacion los datos meteorológicos y epidemiológicos que emulen los de [AMSC](https://www.antioquiamirasucielo.org/): \n",
    "2. Generacion los datos meteorológicos y epidemiológicos que emulen los de NASA POWER:   \n",
    "3. determinar los rezagos de cada variable. Es decir, los $k_{i}$ de cada variable $X_{i}$.\n",
    "4. Transformar los datos en datos que tienen en cuenta tales rezagos. Es decir, que las variables ya queden de la forma $X_{i, t-k_{i}}$. "
   ]
  },
  {
   "cell_type": "code",
   "execution_count": null,
   "id": "1d2a46cd",
   "metadata": {
    "vscode": {
     "languageId": "plaintext"
    }
   },
   "outputs": [],
   "source": []
  }
 ],
 "metadata": {
  "language_info": {
   "name": "python"
  }
 },
 "nbformat": 4,
 "nbformat_minor": 5
}

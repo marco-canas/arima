{
 "cells": [
  {
   "cell_type": "markdown",
   "id": "dc06dec7",
   "metadata": {
    "slideshow": {
     "slide_type": "slide"
    }
   },
   "source": [
    "<table align=\"left\">\n",
    "  <td>\n",
    "    <a href=\"https://colab.research.google.com/github/ageron/handson-ml3/blob/main/tools_numpy.ipynb\" target=\"_parent\"><img src=\"https://colab.research.google.com/assets/colab-badge.svg\" alt=\"Open In Colab\"/></a>\n",
    "  </td>\n",
    "  <td>\n",
    "    <a target=\"_blank\" href=\"https://kaggle.com/kernels/welcome?src=https://github.com/ageron/handson-ml3/blob/main/tools_numpy.ipynb\"><img src=\"https://kaggle.com/static/images/open-in-kaggle.svg\" /></a>\n",
    "  </td>\n",
    "</table>"
   ]
  },
  {
   "cell_type": "markdown",
   "id": "e0c5b198",
   "metadata": {
    "slideshow": {
     "slide_type": "slide"
    }
   },
   "source": [
    "### [Video de apoyo a la lectura interactiva y experimental de este cuaderno]()"
   ]
  },
  {
   "cell_type": "markdown",
   "id": "41e82203",
   "metadata": {
    "slideshow": {
     "slide_type": "slide"
    }
   },
   "source": [
    "### [Vínculo al programa del curso:  ]()\n",
    "\n"
   ]
  },
  {
   "cell_type": "markdown",
   "id": "d11ab06d",
   "metadata": {
    "slideshow": {
     "slide_type": "slide"
    }
   },
   "source": [
    "Un reconocimiento a mis estudiantes que han construido conmigo este saber pedagógico:\n",
    "\n",
    "<img src = ''> \n",
    "\n"
   ]
  },
  {
   "cell_type": "markdown",
   "id": "8a74a56c-0ce6-4ad6-b985-553fd7fb68bb",
   "metadata": {},
   "source": [
    "Reconocimiento a las profesoras destacadas en enseñanza de la matemática en Colombia\n"
   ]
  },
  {
   "cell_type": "code",
   "execution_count": 1,
   "id": "7604880f",
   "metadata": {
    "slideshow": {
     "slide_type": "slide"
    }
   },
   "outputs": [
    {
     "data": {
      "application/vnd.microsoft.datawrangler.viewer.v0+json": {
       "columns": [
        {
         "name": "index",
         "rawType": "int64",
         "type": "integer"
        },
        {
         "name": "Nombre",
         "rawType": "object",
         "type": "string"
        },
        {
         "name": "Cédula",
         "rawType": "object",
         "type": "string"
        },
        {
         "name": "Fecha_Asesoría",
         "rawType": "object",
         "type": "string"
        }
       ],
       "ref": "426139fb-99bd-4303-8a11-b87fd8155b52",
       "rows": [],
       "shape": {
        "columns": 3,
        "rows": 0
       }
      },
      "text/html": [
       "<div>\n",
       "<style scoped>\n",
       "    .dataframe tbody tr th:only-of-type {\n",
       "        vertical-align: middle;\n",
       "    }\n",
       "\n",
       "    .dataframe tbody tr th {\n",
       "        vertical-align: top;\n",
       "    }\n",
       "\n",
       "    .dataframe thead th {\n",
       "        text-align: right;\n",
       "    }\n",
       "</style>\n",
       "<table border=\"1\" class=\"dataframe\">\n",
       "  <thead>\n",
       "    <tr style=\"text-align: right;\">\n",
       "      <th></th>\n",
       "      <th>Nombre</th>\n",
       "      <th>Cédula</th>\n",
       "      <th>Fecha_Asesoría</th>\n",
       "    </tr>\n",
       "  </thead>\n",
       "  <tbody>\n",
       "  </tbody>\n",
       "</table>\n",
       "</div>"
      ],
      "text/plain": [
       "Empty DataFrame\n",
       "Columns: [Nombre, Cédula, Fecha_Asesoría]\n",
       "Index: []"
      ]
     },
     "execution_count": 1,
     "metadata": {},
     "output_type": "execute_result"
    }
   ],
   "source": [
    "import pandas as pd\n",
    "import numpy as np\n",
    "\n",
    "# Cargar la lista de estudiantes desde el archivo CSV\n",
    "path = 'C:/Users/marco/Documentos/docencia/groups_list/asesoria_trabajo_grado_janis.xlsx'\n",
    "df = pd.read_excel(path)\n",
    "df.head() \n"
   ]
  },
  {
   "cell_type": "markdown",
   "id": "d7598d0a-d9b7-4ae0-b029-a0ed6ed1130b",
   "metadata": {},
   "source": [
    "\n",
    "# Principios de mi labor docente"
   ]
  },
  {
   "cell_type": "markdown",
   "id": "4f9d8cf9",
   "metadata": {
    "slideshow": {
     "slide_type": "slide"
    }
   },
   "source": [
    "## Modelo general de clase: [aula invertida](https://www3.gobiernodecanarias.org/medusa/ecoescuela/pedagotic/aprendizaje-invertido-flipped-classroom/)"
   ]
  },
  {
   "cell_type": "markdown",
   "id": "eb6ed03a",
   "metadata": {},
   "source": [
    "<img src = 'https://resources.maneuveringthemiddle.com/wp-content/uploads/2020/07/04212706/1-5.png' width = 200>  \n",
    "\n"
   ]
  },
  {
   "cell_type": "markdown",
   "id": "34319cce-a71b-4f64-aab8-b53e521efa40",
   "metadata": {},
   "source": [
    "# Metodología de Aprendizaje Basado en Problemas y Proyectos (ABPP)\n"
   ]
  },
  {
   "cell_type": "markdown",
   "id": "c4f73d81",
   "metadata": {},
   "source": [
    "\n",
    "<img src = 'https://www.unir.net/wp-content/uploads/2020/07/aprendizaje-problemas2-1-1-1-1.jpeg' width = 200>"
   ]
  },
  {
   "cell_type": "markdown",
   "id": "841a985c-bd9b-4dd3-8e4c-893983980af2",
   "metadata": {},
   "source": [
    "# Desarrollo del pensamiento computacional con Lenguajes Python y R, y con archivos Markdown orientado a la formación en ciencia de datos \n",
    "\n"
   ]
  },
  {
   "cell_type": "markdown",
   "id": "3d0eba94",
   "metadata": {},
   "source": [
    "\n",
    "<img src = 'https://i.ytimg.com/vi/mcG_wcR4e6M/maxresdefault.jpg' width = 200>"
   ]
  },
  {
   "cell_type": "markdown",
   "id": "65aa0404-f7ae-495e-864c-1aec01b4255e",
   "metadata": {},
   "source": [
    "# Principio de fomento a la ciencia abierta, enseñar en el acceso a los datos públicos y el uso de software de código abierto  \n"
   ]
  },
  {
   "cell_type": "markdown",
   "id": "18ae9b87",
   "metadata": {},
   "source": [
    "\n",
    "<img src = 'https://unesdoc.unesco.org/in/rest/Thumb/image?id=p%3A%3Ausmarcdef_0000379949_spa&author=UNESCO&title=Recomendaci%C3%B3n+de+la+UNESCO+sobre+la+Ciencia+Abierta&year=2021&publisher=UNESCO&TypeOfDocument=UnescoPhysicalDocument&mat=PGD&ct=true&size=512&isPhysical=1' width = 200>"
   ]
  },
  {
   "cell_type": "markdown",
   "id": "d9559f85",
   "metadata": {},
   "source": [
    "El enfoque STEAMS en educación preescolar, primaria y secundaria es una extensión del enfoque STEM (Ciencia, Tecnología, Ingeniería y Matemáticas) y su variante STEAM, que incorpora el Arte. "
   ]
  },
  {
   "cell_type": "markdown",
   "id": "0130ec1b",
   "metadata": {},
   "source": [
    "\n",
    "<img src = 'https://www.campuseducacion.com/blog/wp-content/uploads/2023/03/foto01-1.jpg' width = 200>"
   ]
  },
  {
   "cell_type": "markdown",
   "id": "37a6a091",
   "metadata": {},
   "source": [
    "# Y el enfoque de Teoría de Registros de Representación Semiótica (TRRS) de Duval  "
   ]
  },
  {
   "cell_type": "code",
   "execution_count": 2,
   "id": "28bae6cb",
   "metadata": {},
   "outputs": [],
   "source": [
    "def save_fig(nombre_archivo_imagen):\n",
    "    import os \n",
    "    import matplotlib.pyplot as plt\n",
    "    ubicacion_para_imagenes = r\"C:/Users/marco/Downloads\"\n",
    "    imagen_path = os.path.join(ubicacion_para_imagenes, nombre_archivo_imagen)\n",
    "    plt.savefig(imagen_path, bbox_inches='tight')"
   ]
  },
  {
   "cell_type": "markdown",
   "id": "10e55ccf",
   "metadata": {},
   "source": [
    "# Estructura general para todas las clases\n"
   ]
  },
  {
   "cell_type": "markdown",
   "id": "ddd73417",
   "metadata": {},
   "source": [
    "\n",
    "Dame, por favor, un diseño de clase, con el enfoque: \"Aula Invertida, STEAMS, de Aprendizaje Basado en Problemas y Proyectos (ABPP) y de Teoría de Registros de Representación Semiótica (TRRS) de Duval\" sobre: \"[Tema de la clase]\", siguiendo la estructura:  \n",
    "\n",
    "Ubicación del proyecto investigativo: [aquí]()\n",
    "Ubicación del programa del curso: [aquí]()\n",
    "Ubicación de la lista de estudiantes matriculados: [Aquí]()  \n",
    "\n",
    "1. Título de la clase   \n",
    "   \n",
    "2. Objetivo de aprendizaje que incluyan los indicadores del logro de estos objetivos. \n",
    "   \n",
    "3. Un mapa conceptual que resuma la clase elaborado en Graphviz de python con nodos y edges de diferentes formas, colores y rellenos y renderizado en la siguiente ubicación: `\"C:\\Users\\marco\\Downloads\"`.  No olvides el parámetro `view = True` para el método `render()` de Graphviz. Para este mapa controla las superposiciones de los nodos con: graph [overlap=false]; // Elimina superposiciones (puede aumentar el espacio)\n",
    "graph [overlap=\"scalexy\"]; // Escala el gráfico para evitar overlaps\n",
    "graph [overlap=\"compress\"]; // Comprime el grafo sin overlaps  \n",
    "   \n",
    "4. Elementos históricos y epistemológicos relevantes para la clase, pero narrados como una historieta al estilo de un cuentero antioqueño en Colombia. Incluye imágenes de los protagonistas históricos de esta clase.  \n",
    "   \n",
    "5. Contenido de la clase:     \n",
    "   \n",
    "     1. Enseña cómo presentar el algoritmo del trapecio de forma geométrica\n",
    "     2. Enseña cómo presentar el algoritmo del trapecio de forma verbal, es decir, en lenguaje natural. \n",
    "     3. Enseña cómo presentar el algoritmo del trapecio de forma de código python\n",
    "     4. Enseña cómo presentar el algoritmo del trapecio de forma algebraica. \n",
    "   \n",
    "    \n",
    "     * Incluye, cómo implementar la calculadora \"Casio 991LA cw\" para implementar el método numérico de integración por trapecios. \n",
    "     \n",
    "        \n",
    "6. Actividades de aprendizaje: que incluya pruebas de escritorio para los algoritmos en forma verbal y seudo código, diagrama de flujo, y la implementación del algoritmo en lenguaje python.  \n",
    "   \n",
    "7. Incluye una canción o un poema que ayude a interiorizar y fijar los conceptos asociados a esta clase.   \n",
    "   \n",
    "8.  Tarea o actividades de ejercitación y fijación. Incluye 20 ejercicios de tarea en las que los estudiantes empiecen con la descripción geométrica del algoritmo, luego la descripción verbal y secuencial del algoritmo, después la implementación en lenguaje python editado a través de la terminal powershell de su computador y finalmente con el cálculo a mano y en su cuaderno. Crea una función de usuario de Python que asigne esta tareas a cada uno de los estudiantes matriculados en este curso tomando la ubicación de los estudiantes dada en este prompt.  \n",
    "    \n",
    "9. Evaluación incluyendo 20 proyectos, un ejemplo de quiz (con tres items) y un ejemplo de parcial (con 5 items). Incluye evaluaciones en las que los estudiantes empiecen con la descripción geométrica del algoritmo, luego la descripción verbal y secuencial del algoritmo, después la implementación en lenguaje python editado a través de la terminal powershell de su computador, y finalmente con el cálculo algebraico y numérico a mano y en su cuaderno. \n",
    "    \n",
    "10. Diseño de actividad de retroalimentación.   \n",
    "    \n",
    "11. Dame un vocabulario y frases del idioma inglés asociadas a esta clase.    \n",
    "     \n",
    "12. Incluye apéndice para la clase sobre desarrollo de habilidades para trabajar en equipo y de asertividad y empatía para relacionarnos. También elementos de la inteligencia emocional para presentar pruebas sin temor y sin realizar fraude en ellas.    \n",
    "     \n",
    "13. Incluye 10 referentes en didáctica de la matemática que estén de acuerdo a la propuesta didáctica de esta clase. Adiciona a estos referentes a Raymond Duval (Representaciones y cambios de representación para la adquisición de conceptos matemáticos) y a [Jeannette Wing](https://es.wikipedia.org/wiki/Jeannette_Wing) (Desarrollo del pensamiento computacional). Déjame todos estos referentes ordenados de acuerdo a las normas APA. Al crear la clase, introduce las citas de estos autores en el texto de la clase.\n",
    "\n",
    "\n",
    "Pero  que este diseño sea para que el estudiante pueda aprender experimentando en cuadernos Jupyter con funciones de usuario y animaciones y visualizaciones en python.   \n",
    "\n",
    "En particular utiliza para el diseño de clase a Numpy, Pandas, SymPy, Matplotlib.pyplot, Seaborn, Plotly, ipywidgets, matplotlib.animation, TensorFlow, Keras y Jupyter Notebook.    \n",
    "\n",
    "Cada vez que utilices `matplotlib.animacion` no olvides incluir el uso de `IPython. display` para la rederización de estas animaciones a través de Jupyter Notebook. No olvides darme los diseños de clase con las ecuaciones matemáticas delimitadas con signo de dolar $ para que VS Code si me renderize estas expresiones del lenguaje latex. Cuando vallas a utilizar ipywidgets ten en cuenta la siguiente importación inicial para garantizar que la visualización interactiva si se renderize en VS Code:   \n",
    "\n",
    "import numpy as np  \n",
    "import matplotlib.pyplot as plt  \n",
    "import ipywidgets as widgets  \n",
    "\n",
    "\n",
    "\n"
   ]
  },
  {
   "cell_type": "markdown",
   "id": "d401bbd4",
   "metadata": {},
   "source": [
    "# Creación de un dataset artificial para el aprendizaje de la implementación del algoritmo Arima para un SAT para dengue en Caucasia - Antioquia, Colombia. "
   ]
  },
  {
   "cell_type": "markdown",
   "id": "4ba1ffa2",
   "metadata": {},
   "source": [
    "## Creación de los datos emulando cómo lo entrega cualquier servicio de datos meteorológicos y epidemiológicos  \n",
    "\n",
    "### Los datos climáticos tienen la siguiente estructura usual  \n",
    "\n",
    "1. Año\n",
    "2. Dia\n",
    "3. Temperatura mínima máxima\n",
    "4. Temperatura máxima. \n",
    "5. Temperatura promedio. \n",
    "5. Humedad relativa máxima\n",
    "6. Humedad relativa mínima\n",
    "7. Precipitación diaria. \n",
    "8. Presión atmosférica \n",
    "9. Velocidad del viento máxima\n",
    "10. Velocidad del viento mínima \n",
    "11. Velocidad del viento promedio.\n",
    "12. Dirección del viento. \n",
    "13. Radiación ultravioleta (UV) y \n",
    "14. radiación solar total (ALLSKY_SFC_SW_DWN):\n",
    "\n",
    "\n",
    "La variable `Año` debe moverse en el rango de Del 2020 a 2025. "
   ]
  },
  {
   "cell_type": "markdown",
   "id": "402c48a9",
   "metadata": {},
   "source": [
    "Prompt para solicitar el script de datos a DeepSeek\n",
    "\n",
    "Genérame unos datos climáticos que se parezcan a los datos por https://power.larc.nasa.gov/data-access-viewer/. Pero que tengan los siguientes atributos climáticos:   \n",
    "1. Año\n",
    "2. Dia\n",
    "3. Temperatura mínima máxima\n",
    "4. Temperatura máxima. \n",
    "5. Temperatura promedio. \n",
    "5. Humedad relativa máxima\n",
    "6. Humedad relativa mínima\n",
    "7. Precipitación diaria. \n",
    "8. Presión atmosférica \n",
    "9. Velocidad del viento máxima\n",
    "10. Velocidad del viento mínima \n",
    "11. Velocidad del viento promedio.\n",
    "12. Dirección del viento. \n",
    "13. Radiación ultravioleta (UV) y \n",
    "14. radiación solar total (ALLSKY_SFC_SW_DWN):\n",
    "\n",
    "\n",
    "La variable `Año` debe moverse en el rango de Del 2020 a 2025.  \n",
    "\n"
   ]
  },
  {
   "cell_type": "markdown",
   "id": "ef88f4b3",
   "metadata": {},
   "source": [
    "[Nasa Power](https://power.larc.nasa.gov/data-access-viewer/)"
   ]
  },
  {
   "cell_type": "markdown",
   "id": "547c8e19",
   "metadata": {},
   "source": [
    "Aquí tienes un script de Python que genera datos climáticos sintéticos similares a los de **NASA POWER**, con los atributos solicitados, para el rango de años **2020 a 2025**. Los datos incluyen variaciones estacionales y correlaciones realistas entre variables (ej.: mayor radiación UV en días secos y cálidos).\n",
    "\n",
    "---\n",
    "\n",
    "### **Script Python** (`generador_datos_nasa_power.py`)\n"
   ]
  },
  {
   "cell_type": "code",
   "execution_count": null,
   "id": "255a6ed4",
   "metadata": {},
   "outputs": [
    {
     "name": "stdout",
     "output_type": "stream",
     "text": [
      "Datos generados y guardados en 'datos_climaticos_nasa_power_sinteticos.csv'\n"
     ]
    }
   ],
   "source": [
    "import pandas as pd\n",
    "import numpy as np\n",
    "from datetime import datetime, timedelta # razonar con datos de tiempo \n",
    "\n",
    "# Configuración\n",
    "np.random.seed(42)  # Para reproducibilidad\n",
    "years = range(2020, 2026) # años a considerar de 2020 a 2025. \n",
    "start_date = datetime(years[0], 1, 1) # fecha de inicio\n",
    "end_date = datetime(years[-1], 12, 31) # fecha de fin \n",
    "\n",
    "# Generar fechas diarias\n",
    "dates = pd.date_range(start=start_date, end=end_date, freq='D')\n",
    "num_days = len(dates)\n"
   ]
  },
  {
   "cell_type": "code",
   "execution_count": 8,
   "id": "8bb39dd1",
   "metadata": {},
   "outputs": [
    {
     "data": {
      "text/plain": [
       "2192"
      ]
     },
     "execution_count": 8,
     "metadata": {},
     "output_type": "execute_result"
    }
   ],
   "source": [
    "num_days"
   ]
  },
  {
   "cell_type": "code",
   "execution_count": null,
   "id": "3287721c",
   "metadata": {},
   "outputs": [],
   "source": [
    "\n",
    "# Funciones para generar datos con estacionalidad\n",
    "def seasonal_variation(day_of_year, amplitude, phase_shift=0):\n",
    "    return amplitude * np.sin(2 * np.pi * (day_of_year + phase_shift) / 365)\n",
    "\n",
    "# Generar datos climáticos\n",
    "data = {\n",
    "    \"Año\": dates.year,\n",
    "    \"Dia\": dates.dayofyear,\n",
    "    \"Temperatura_minima\": 10 + 10 * np.sin(2 * np.pi * dates.dayofyear / 365) + np.random.normal(0, 3, num_days),\n",
    "    \"Temperatura_maxima\": 20 + 15 * np.sin(2 * np.pi * dates.dayofyear / 365) + np.random.normal(0, 4, num_days),\n",
    "    \"Temperatura_promedio\": lambda x: (x[\"Temperatura_minima\"] + x[\"Temperatura_maxima\"]) / 2,\n",
    "    \"Humedad_relativa_maxima\": np.clip(70 + 20 * np.sin(2 * np.pi * (dates.dayofyear + 90) / 365) + np.random.normal(0, 10, num_days), 40, 100),\n",
    "    \"Humedad_relativa_minima\": np.clip(50 + 15 * np.sin(2 * np.pi * (dates.dayofyear + 90) / 365) + np.random.normal(0, 8, num_days), 20, 80),\n",
    "    \"Precipitacion_diaria\": np.round(np.random.gamma(shape=0.5, scale=5, size=num_days), 1),\n",
    "    \"Presion_atmosferica\": 1015 + 10 * np.sin(2 * np.pi * dates.dayofyear / 365) + np.random.normal(0, 3, num_days),\n",
    "    \"Velocidad_viento_maxima\": np.clip(5 + 10 * np.sin(2 * np.pi * dates.dayofyear / 365) + np.random.exponential(2, num_days), 0, 30),\n",
    "    \"Velocidad_viento_minima\": np.clip(1 + 3 * np.sin(2 * np.pi * dates.dayofyear / 365) + np.random.exponential(1, num_days), 0, 10),\n",
    "    \"Velocidad_viento_promedio\": lambda x: (x[\"Velocidad_viento_maxima\"] + x[\"Velocidad_viento_minima\"]) / 2,\n",
    "    \"Direccion_viento\": np.random.randint(0, 360, num_days),\n",
    "    \"Radiacion_UV\": np.clip(5 + 5 * np.sin(2 * np.pi * dates.dayofyear / 365) + np.random.normal(0, 2, num_days), 0, 12),\n",
    "    \"Radiacion_solar_total\": np.clip(200 + 150 * np.sin(2 * np.pi * dates.dayofyear / 365) + np.random.normal(0, 30, num_days), 50, 500),\n",
    "}\n",
    "\n",
    "# Crear DataFrame\n",
    "df = pd.DataFrame(data)\n",
    "df[\"Temperatura_promedio\"] = df[\"Temperatura_minima\"] + df[\"Temperatura_maxima\"] / 2\n",
    "df[\"Velocidad_viento_promedio\"] = (df[\"Velocidad_viento_maxima\"] + df[\"Velocidad_viento_minima\"]) / 2\n",
    "\n",
    "# Ajustar precipitación para que sea 0 en algunos días\n",
    "df[\"Precipitacion_diaria\"] = df[\"Precipitacion_diaria\"].apply(lambda x: 0 if np.random.random() > 0.3 else x)\n",
    "\n",
    "# Guardar en CSV\n",
    "df.to_csv(\"datos_climaticos_nasa_power_sinteticos.csv\", index=False)\n",
    "print(\"Datos generados y guardados en 'datos_climaticos_nasa_power_sinteticos.csv'\")\n",
    "\n"
   ]
  },
  {
   "cell_type": "markdown",
   "id": "5cfa4815",
   "metadata": {},
   "source": [
    "\n",
    "---\n",
    "\n",
    "### **Explicación de las variables generadas**:\n",
    "1. **Temperaturas**:  \n",
    "   - Mínima/Máxima/Promedio con estacionalidad (más frío en invierno, cálido en verano) + ruido aleatorio.  \n",
    "2. **Humedad relativa**:  \n",
    "   - Más alta en invierno, más baja en verano.  \n",
    "3. **Precipitación**:  \n",
    "   - Distribución gamma (sesgada hacia días secos).  \n",
    "4. **Radiación UV y solar**:  \n",
    "   - Máxima en verano, mínima en invierno.  \n",
    "5. **Viento**:  \n",
    "   - Velocidades correlacionadas con la estación (mayor en primavera/otoño).  \n",
    "\n",
    "---\n",
    "\n",
    "### **Ejemplo de datos generados (primeras filas)**:\n",
    "| Año | Dia | Temperatura_minima | Temperatura_maxima | Humedad_relativa_maxima | Precipitacion_diaria | ... |\n",
    "|-----|-----|--------------------|--------------------|-------------------------|----------------------|-----|\n",
    "| 2020 | 1   | 8.2                | 18.5               | 85                      | 0.0                  | ... |\n",
    "| 2020 | 2   | 7.9                | 19.1               | 82                      | 3.5                  | ... |\n",
    "| ... | ... | ...                | ...                | ...                     | ...                  | ... |\n",
    "\n",
    "---\n",
    "\n",
    "### **Cómo personalizar**:\n",
    "- **Rangos**: Ajusta los parámetros en las funciones `np.sin()` (ej.: amplitud) para cambiar la magnitud de las variaciones.  \n",
    "- **Correlaciones**: Modifica las fórmulas para que, por ejemplo, la radiación solar sea menor en días lluviosos.  \n",
    "\n",
    "¿Necesitas ajustar algo más en el script?"
   ]
  },
  {
   "cell_type": "markdown",
   "id": "596bbb56",
   "metadata": {},
   "source": [
    "## Lista de atributos para el dataset artificial de aprendizaje del algoritmo Arima para un SAT para dengue en Caucasia - Antioquia, Colombia.  \n",
    "\n",
    "### Variables predictoras\n",
    "1. `Año`\n",
    "2. `Semana epidemiológica`\n",
    "3. `Número de casos de dengue`\n",
    "4. `Número de días de lluvia por semana epidemiológica`\n",
    "5. `Precipitación acumulada por semana epidemiológica`\n",
    "6. `Temperatura máxima`\n",
    "7. `Temperatura mínima`\n",
    "8. `Temperatura promedio por semana epidemiológica`\n",
    "9. `Humedad`  \n",
    "\n",
    "### Variables objetivo  \n",
    "\n",
    "10. `alerta_epidemiológica` (variable no binaria: Normal, Alerta y Epidemia)\n",
    "11. `numero de casos de dengue por semana epidemiológica`  "
   ]
  },
  {
   "cell_type": "code",
   "execution_count": null,
   "id": "66ad6986",
   "metadata": {},
   "outputs": [],
   "source": []
  },
  {
   "cell_type": "markdown",
   "id": "cc539357",
   "metadata": {},
   "source": [
    "# [Programación de programa Regiones](https://lookerstudio.google.com/reporting/44e71da0-d16f-4a51-a51e-d5ae6c19b3f1/page/p_gy4nwf37hd?pli=1)"
   ]
  },
  {
   "cell_type": "markdown",
   "id": "8ba64aed",
   "metadata": {},
   "source": [
    "# Cursos que orienta el profesor Marco Julio Cañas Campillo en 2025  \n",
    "\n",
    "1. Práctica Pedagógica V para Licenciatura en Educación Infantil\n",
    "2. Fundamentos de Lógica para Licenciatura en Matemáticas \n",
    "3. Análisis Numérico para Licenciatura en Matemáticas. \n",
    "4. Cálculo Vectorial para Ingeniería Agropecuaria"
   ]
  },
  {
   "cell_type": "markdown",
   "id": "8d41fe58",
   "metadata": {
    "slideshow": {
     "slide_type": "slide"
    }
   },
   "source": [
    "# Horario de clases del profesor Marco\n",
    "\n",
    "* Lunes 8-12:   \n",
    "* Lunes 2- 6 PM: Fundamento de Lógica.  \n",
    "* Martes 8-12 M: . \n",
    "* Miércoles 8 a 12 M:   \n",
    "* Miércoles de 2 a 6 PM: \n",
    "* Jueves 2 a 6 PM:  \n",
    "* Viernes 2 - 4 PM: Análisis Numérico. \n",
    "* Sábados 8-12 Asesorías y espacio para retroalimentación y apoyo al trabajo independiente. "
   ]
  },
  {
   "cell_type": "markdown",
   "id": "ae114e14",
   "metadata": {
    "slideshow": {
     "slide_type": "slide"
    }
   },
   "source": [
    "# Horarios de monitoría y asesoría  \n",
    "\n",
    "* Monitor Manuel San Juan Serrano: Contactar escribiendo al correo: manuel.serrano1@udea.edu.co"
   ]
  },
  {
   "cell_type": "markdown",
   "id": "bf0f9dbf",
   "metadata": {},
   "source": [
    "\n",
    "Coordinador de los cursos de la Facultad de Educación para regiones:    \n",
    "\n",
    "Andrés Vélez: regioneducacion.fedu@udea.edu.co  \n",
    "Coordinador Regiones  \n",
    "Facultad de Educación  \n",
    "Universidad de Antioquia  "
   ]
  },
  {
   "cell_type": "markdown",
   "id": "39559692",
   "metadata": {
    "slideshow": {
     "slide_type": "slide"
    }
   },
   "source": [
    "Martes y jueves de 8 - 12  \n",
    "Miércoles 10 - 12 y de 2 a 4 PM  \n",
    "Sábado: 8 - 12"
   ]
  },
  {
   "cell_type": "markdown",
   "id": "10bce0d0",
   "metadata": {
    "slideshow": {
     "slide_type": "slide"
    }
   },
   "source": [
    "## Referentes "
   ]
  },
  {
   "cell_type": "markdown",
   "id": "1db3c468",
   "metadata": {
    "slideshow": {
     "slide_type": "slide"
    }
   },
   "source": [
    "* [CALCULO I DE UNA VARIABLE Ron Larson-Bruce Edwards. Mc Graw Hill. 9º Edición](https://www.academia.edu/42139251/CALCULO_I_DE_UNA_VARIABLE_Ron_Larson_Bruce_Edwards_Mc_Graw_Hill_9o_Edici%C3%B3n)   \n",
    "  \n",
    "\n",
    "* [Grajales Vanegas, L. M., Restrepo Estrada, C. E., Restrepo Ochoa, S. I., & Ruíz De Villalba, F. (2015). Matemáticas I para las ciencias económicas.](https://bibliotecadigital.udea.edu.co/handle/10495/3010)\n",
    "  \n",
    "* R. Duval y Semiosis y pensamiento humano, 2.ª ed. Cali, Colombia: Programa Editorial Universidad del Valle, 2017. [En línea]. Disponible en: https://programaeditorial.univalle.edu.co/gpd-semiosis-y-pensamiento-humano-9789587655278-63324cdb0f6b3.html\n",
    "\n",
    "* [Aylwin, C. U. (2011). Lógica, conjuntos y números. Universidad de los Andes, Consejo de Publicaciones, Colección: Ciencias Básicas, Serie: Matemáticas.](chrome-extension://efaidnbmnnnibpcajpcglclefindmkaj/https://www.u-cursos.cl/ciencias/2011/1/MC110/1/material_docente/bajar?id_material=574722)\n",
    "  \n",
    "* [Chollet, F. (2021). Deep learning with Python. Simon and Schuster.](chrome-extension://efaidnbmnnnibpcajpcglclefindmkaj/https://tanthiamhuat.wordpress.com/wp-content/uploads/2018/03/deeplearningwithpython.pdf)  \n",
    "  \n",
    "* [Watson, S., Stewart, J., & Redlin, L. (2009). Precálculo. Matemáticas para el cálculo.](https://github.com/marco-canas/calculo/blob/main/referents/1_precalculo_stewart/stewart_precalculo.pdf)  \n",
    "\n",
    "* [Purcell, E. J., Varberg, D., & Rigdon, S. E. (2007). Cálculo diferencial e integral. Pearson Educación.](https://github.com/marco-canas/calculo/blob/main/referents/purcell/purcell_calculo.pdf)\n",
    "\n",
    "  \n",
    "\n",
    "* [stewart cálculo](https://udeaeduco-my.sharepoint.com/:b:/g/personal/marco_canas_udea_edu_co/EZgXZjAp8QxPqOAim2hs6LcBNPLGjSHf-xwYnUVYkwa04w?e=RZdTCy)  \n",
    "\n",
    "\n",
    "\n",
    "\n",
    "\n",
    "* [Recomendación de la UNESCO sobre ciencia abierta](https://unesdoc.unesco.org/ark:/48223/pf0000379949_spa)\n",
    "\n",
    "* [chatGPT](https://openai.com/blog/chatgpt)  \n",
    "\n",
    "* [Géron, A. (2017). Hands-on machine learning with scikit-learn and tensorflow: Concepts. Tools, and Techniques to build intelligent systems.](chrome-extension://efaidnbmnnnibpcajpcglclefindmkaj/http://14.139.161.31/OddSem-0822-1122/Hands-On_Machine_Learning_with_Scikit-Learn-Keras-and-TensorFlow-2nd-Edition-Aurelien-Geron.pdf)   \n"
   ]
  },
  {
   "cell_type": "markdown",
   "id": "df925560",
   "metadata": {},
   "source": [
    "\n",
    "* [McKinney, W. (2012). Python for data analysis: Data wrangling with Pandas, NumPy, and IPython. \" O'Reilly Media, Inc.\".](https://wesmckinney.com/book/) "
   ]
  },
  {
   "cell_type": "markdown",
   "id": "8e65d6f9",
   "metadata": {},
   "source": [
    "# Como estudiante, encuentro que...   \n",
    "\n",
    "F: Mis Fortalezas son:     \n",
    "O: Mis Oportunidades son:    \n",
    "D: Mis Debilidades son:    \n",
    "A: Lo que Amenazas mi aprendizaje es:  "
   ]
  },
  {
   "cell_type": "markdown",
   "id": "6b9e56a8",
   "metadata": {
    "slideshow": {
     "slide_type": "slide"
    }
   },
   "source": [
    "### [Evaluamos al profesor Marco Cañas Aquí](https://forms.office.com/Pages/ResponsePage.aspx?id=IefhmYRxjkmK_7KtTlPBwkanXIs1i1FEujpsZgO6dXpUREJPV1kxUk1JV1ozTFJIQVNIQjY5WEY3US4u)"
   ]
  },
  {
   "cell_type": "markdown",
   "id": "10f43536",
   "metadata": {
    "slideshow": {
     "slide_type": "slide"
    }
   },
   "source": [
    "### Continue su aprendizaje en la siguiente clase a través del siguiente [vínculo]()"
   ]
  },
  {
   "cell_type": "markdown",
   "id": "53cc9115",
   "metadata": {
    "slideshow": {
     "slide_type": "slide"
    }
   },
   "source": [
    "## Agradecimientos  \n",
    "\n",
    "Doy gracias a Dios por la vida de mi Hijo Joseph Cañas Osorio y la madurez que ha alcanzado. Este hijo me enorgullece y me hace falta abrazarlo cada día. \n",
    "\n",
    "Y a mi esposa Yasmira Emperatriz Barboza Mogollón por su apoyo, orientación y acompañamiento. "
   ]
  },
  {
   "cell_type": "markdown",
   "id": "b6ba1c23",
   "metadata": {},
   "source": [
    "# Apéndice sobre calendarios y coordinaciones \n"
   ]
  },
  {
   "cell_type": "markdown",
   "id": "bf8b6499",
   "metadata": {},
   "source": [
    "## Calendario del semestre académico 2025-2  \n",
    "\n",
    "Oferta de cursos: 29 de julio de 2025  \n",
    "\n",
    "Matrícula: 30 de julio de 2025  \n",
    "\n",
    "Ajustes de matrícula: 01 al 08 de agosto de 2025  \n",
    "\n",
    "Inicio de clases: 04 de agosto de 2025  \n",
    "\n",
    "Límite evaluación del 40%: 27 de septiembre de 2025  \n",
    "\n",
    "Terminación de clases\n",
    "\n",
    "22 de noviembre de 2025\n",
    "\n",
    "Exámenes finales\n",
    "\n",
    "24 al 29 de noviembre de 2025\n",
    "\n",
    "Habilitación y validación\n",
    "\n",
    "01 al 06 de diciembre 2025\n",
    "\n",
    "Terminación oficial del semestre: 09 de diciembre de 2025  "
   ]
  },
  {
   "cell_type": "markdown",
   "id": "667b9504",
   "metadata": {},
   "source": [
    "\n",
    "A continuación le envío el horario de la asignatura Cálculo Vectorial  \n",
    "\n",
    "Días:  \n",
    "Lunes - Hora: 7:00 a 12:00M  \n",
    "Fechas:  \n",
    "Febrero: 10-17-24                                          \n",
    " Marzo: 3-10-17-31                                                  \n",
    "Abril:7-21-28                                                   \n",
    "Mayo:5-12-19  \n",
    "\n",
    "Agradezco su apoyo, y si presenta alguna dificultad puede contactarme.  \n",
    "\n",
    "Cordialmente,  \n",
    "Juan Felipe Rivera Hernández  \n",
    "Contacto: 3106314300  "
   ]
  }
 ],
 "metadata": {
  "celltoolbar": "Slideshow",
  "kernelspec": {
   "display_name": ".venv",
   "language": "python",
   "name": "python3"
  },
  "language_info": {
   "codemirror_mode": {
    "name": "ipython",
    "version": 3
   },
   "file_extension": ".py",
   "mimetype": "text/x-python",
   "name": "python",
   "nbconvert_exporter": "python",
   "pygments_lexer": "ipython3",
   "version": "3.11.9"
  },
  "rise": {
   "enable_chalkboard": true,
   "theme": "sky",
   "transition": "zoom"
  }
 },
 "nbformat": 4,
 "nbformat_minor": 5
}

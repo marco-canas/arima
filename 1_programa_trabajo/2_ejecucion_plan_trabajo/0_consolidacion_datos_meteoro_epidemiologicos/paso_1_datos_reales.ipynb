{
 "cells": [
  {
   "cell_type": "markdown",
   "id": "ba2fac30",
   "metadata": {},
   "source": [
    "<table align=\"left\">\n",
    "  <td>\n",
    "    <a href=\"https://colab.research.google.com/github/marco-canas/arima/blob/main/1_programa_trabajo/1_actas/acta_6/automatizacion_tratamiento_datos_para_sarimax/paso_1.ipynb\" target=\"_parent\"><img src=\"https://colab.research.google.com/assets/colab-badge.svg\" alt=\"Open In Colab\"/></a>\n",
    "  </td>\n",
    "  <td>\n",
    "    <a target=\"_blank\" href=\"https://kaggle.com/kernels/welcome?src=https://github.com/marco-canas/arima/blob/main/1_programa_trabajo/1_actas/acta_6/automatizacion_tratamiento_datos_para_sarimax/paso_1.ipynb\"><img src=\"https://kaggle.com/static/images/open-in-kaggle.svg\" /></a>\n",
    "  </td>\n",
    "</table>"
   ]
  },
  {
   "cell_type": "markdown",
   "id": "2a1cae35",
   "metadata": {},
   "source": [
    "# Metodología para tratamiento de los datos en esta investigación para preparar los datos para el algoritmo SARIMAX  \n",
    "1. Lista de atributos o variables meteorológicas. \n",
    "     * Temperatura máxima diaria (°C)\n",
    "     * Temperatura mínima diaria (°C)\n",
    "     * Temperatura media diaria (°C)\n",
    "     * Humedad relativa media diaria (%)\n",
    "     * Humedad específica diaria (kg/kg o g/kg)\n",
    "     * Velocidad del viento media diaria (m/s)\n",
    "     * Velocidad del viento máxima diaria (m/s)\n",
    "     * Velocidad del viento mínima diaria (m/s)\n",
    "     * Precipitación diaria (mm)\n",
    "     * Días con lluvia por semana epidemiológica\n",
    "     * Radiación ultravioleta diaria (UV index)\n",
    "     * Presión atmosférica media diaria (hPa)\n",
    "\n",
    "2. Lista de atributos o variables Epidemiológicas.\n",
    "     - Casos diarios de dengue.\n",
    "        - Número de casos de dengue en Caucasia (N_Casos_Total)\n",
    "        - Número de casos de dengue por barrio (N_Casos_Barrio)\n",
    "3. Obtener los datos meteorológicos: \n",
    "     - AMSC\n",
    "     - NASAPOWER\n",
    "4. Renombrar los atributos por fuente.\n",
    "5. Ordenar los datos meteorológicos cronológicamente en formato DD-MM-AAAA\n",
    "   * Primero ordenar los datos de la NASA juntando los atributos de día y año en un solo llamado fecha.\n",
    "6. Obtener los datos epidemiológicos\n",
    "7. Remuestrear o hacer resampling. \n",
    "      - Los datos obtenidos de AMSC se encuentran a escala por minuto, se deben convertir a escala diaria para luego fusionarlos con los datos de NASAPOWER y por último convertirlos a escala semana epidemiológica.\n",
    "8. Determinar los rezagos\n",
    "9. Transformar los datos en datos que tienen en cuenta tales rezagos. Es decir, que las variables ya queden de la forma $X_{i, t-k_{i}}$. "
   ]
  },
  {
   "cell_type": "markdown",
   "id": "6a4435ad",
   "metadata": {},
   "source": [
    "# Prompt para la implementación de esta metodología  \n",
    "\n",
    "Dame, por favor el código Python para desarrollar el primer paso de la siguiente metodología: \n",
    "\n",
    "1. Dame un ejemplo de secuencia metodológica para consolidar la base de datos en forma $D = [M \\mid E]$. Donde $M$ es la concatenación de los datos meteorológicos de Caucasia y $E$ es la matriz de datos epidemiológicos en cuanto al Dengue en Caucasia. Donde los datos se tomarán de las siguientes fuentes:  \n",
    "     * [AMSC](https://www.antioquiamirasucielo.org/)\n",
    "     * [IDEAM]()\n",
    "     * [WorldClim]()\n",
    "     * [Nasa Power]()\n",
    "     * [Fedearroz]()\n",
    "   \n",
    "   Agregale, para que en la fase final para evitar datos duplicados en un instante de tiempo, cree atributos de tiempo según la fuente de datos, por ejemplo temperatura máxima según Nasa Power y temperatura máxima según Antioquia Mira Su Cielo, para así tener considerado en la base de datos, datos meteorológicos globales y locales.  \n",
    "2. Generar los datos artificiales climáticos (con frecuencia de días) y entomológicos (Sobre el comportamiento del dengue en Caucasia-Antioquia/Colombia en el intervalo de tiempo 2021 a 2025 y con frecuencia diaria).   \n",
    "3. Remuestrear estos datos a frecuencia semanal (Semana epidemiológica). Luego juntarlos. \n",
    "4. Determinar los rezagos.\n",
    "5. Transformar los datos en datos que tienen en cuenta tales rezagos. Es decir, que las variables ya queden de la forma $X_{i, t-k_{i}}$.   \n"
   ]
  }
 ],
 "metadata": {
  "language_info": {
   "name": "python"
  }
 },
 "nbformat": 4,
 "nbformat_minor": 5
}

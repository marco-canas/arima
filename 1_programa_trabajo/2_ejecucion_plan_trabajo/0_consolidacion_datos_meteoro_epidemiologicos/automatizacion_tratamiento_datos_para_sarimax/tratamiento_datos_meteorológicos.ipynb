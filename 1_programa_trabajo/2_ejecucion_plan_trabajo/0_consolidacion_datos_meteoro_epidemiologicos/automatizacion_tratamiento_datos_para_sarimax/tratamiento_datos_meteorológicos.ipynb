{
 "cells": [
  {
   "cell_type": "markdown",
   "id": "add3c483",
   "metadata": {},
   "source": [
    "# Consolidación de la base de datos meteorológica con todas las fuentes disponibles "
   ]
  },
  {
   "cell_type": "markdown",
   "id": "6814831c",
   "metadata": {},
   "source": [
    "## Metodología de la consolidación"
   ]
  },
  {
   "cell_type": "markdown",
   "id": "133b8e4f",
   "metadata": {},
   "source": [
    "Que vamos a hacer?\n",
    "1. Descargar los 8 csv de AMSC, uno por cada atributo o varibles meteorológica\n",
    "2. Consolidar en un mismo .csv, para que quede en una misma serie de tiempo |Fecha|Variables|\n",
    "3. Reemuestreo de la BD a frecuencia por semana epidemiológica \n",
    "4. Preprocesamiento "
   ]
  },
  {
   "cell_type": "code",
   "execution_count": null,
   "id": "c1816176",
   "metadata": {},
   "outputs": [
    {
     "ename": "",
     "evalue": "",
     "output_type": "error",
     "traceback": [
      "\u001b[1;31mRunning cells with '.venv (3.11.9) (Python 3.11.9)' requires the ipykernel package.\n",
      "\u001b[1;31mInstall 'ipykernel' into the Python environment. \n",
      "\u001b[1;31mCommand: 'c:/Users/usuario1/Documents/GitHub/arima/.venv/Scripts/python.exe -m pip install ipykernel -U --force-reinstall'"
     ]
    }
   ],
   "source": [
    "import pandas as pd\n",
    "import matplotlib.pyplot as plt\n",
    "import numpy as np"
   ]
  },
  {
   "cell_type": "markdown",
   "id": "01ac7600",
   "metadata": {},
   "source": [
    "## Datos satélitales"
   ]
  },
  {
   "cell_type": "markdown",
   "id": "dfbf9e1e",
   "metadata": {},
   "source": [
    "Importación de datos de la NASA POWER"
   ]
  },
  {
   "cell_type": "code",
   "execution_count": null,
   "id": "218f81ff",
   "metadata": {},
   "outputs": [],
   "source": [
    "# Importar datos\n",
    "nasa=pd.read_csv(r\"C:\\Users\\usuario1\\OneDrive - Universidad de Antioquia\\UNIVERSIDAD DE ANTIOQUIA\\Proyecto SAT Dengue\\Bases de datos\\Datos meteorológicos\\NASA POWER\\Datos_NS_2021-2024.csv\", sep=';')\n",
    "nasa"
   ]
  },
  {
   "cell_type": "markdown",
   "id": "9e5db13d",
   "metadata": {},
   "source": [
    "## Datos locales"
   ]
  },
  {
   "cell_type": "markdown",
   "id": "127a55f1",
   "metadata": {},
   "source": [
    "Importación de los datos de AMSC\n"
   ]
  },
  {
   "cell_type": "code",
   "execution_count": null,
   "id": "a1041afc",
   "metadata": {},
   "outputs": [],
   "source": [
    "direccion_viento=pd.read_csv(r\"C:\\Users\\usuario1\\OneDrive - Universidad de Antioquia\\UNIVERSIDAD DE ANTIOQUIA\\Proyecto SAT Dengue\\Bases de datos\\Datos meteorológicos\\AMSC\\AMSC_direccion_viento.csv\", sep=';')\n",
    "humedad=pd.read_csv(r\"C:\\Users\\usuario1\\OneDrive - Universidad de Antioquia\\UNIVERSIDAD DE ANTIOQUIA\\Proyecto SAT Dengue\\Bases de datos\\Datos meteorológicos\\AMSC\\AMSC_humedad.csv\", sep=';')\n",
    "precipitacion=pd.read_csv(r\"C:\\Users\\usuario1\\OneDrive - Universidad de Antioquia\\UNIVERSIDAD DE ANTIOQUIA\\Proyecto SAT Dengue\\Bases de datos\\Datos meteorológicos\\AMSC\\AMSC_precipitacion.csv\", sep=';')\n",
    "presion=pd.read_csv(r\"C:\\Users\\usuario1\\OneDrive - Universidad de Antioquia\\UNIVERSIDAD DE ANTIOQUIA\\Proyecto SAT Dengue\\Bases de datos\\Datos meteorológicos\\AMSC\\AMSC_presion.csv\", sep=';')\n",
    "radiacion=pd.read_csv(r\"C:\\Users\\usuario1\\OneDrive - Universidad de Antioquia\\UNIVERSIDAD DE ANTIOQUIA\\Proyecto SAT Dengue\\Bases de datos\\Datos meteorológicos\\AMSC\\AMSC_radiacion.csv\", sep=';')\n",
    "temperatura=pd.read_csv(r\"C:\\Users\\usuario1\\OneDrive - Universidad de Antioquia\\UNIVERSIDAD DE ANTIOQUIA\\Proyecto SAT Dengue\\Bases de datos\\Datos meteorológicos\\AMSC\\AMSC_temperatura.csv\", sep=';')\n",
    "uv=pd.read_csv(r\"C:\\Users\\usuario1\\OneDrive - Universidad de Antioquia\\UNIVERSIDAD DE ANTIOQUIA\\Proyecto SAT Dengue\\Bases de datos\\Datos meteorológicos\\AMSC\\AMSC_uv.csv\", sep=';')\n",
    "velocidad_viento=pd.read_csv(r\"C:\\Users\\usuario1\\OneDrive - Universidad de Antioquia\\UNIVERSIDAD DE ANTIOQUIA\\Proyecto SAT Dengue\\Bases de datos\\Datos meteorológicos\\AMSC\\AMSC_velocidad_viento.csv\", sep=';')"
   ]
  },
  {
   "cell_type": "code",
   "execution_count": null,
   "id": "ba572b1f",
   "metadata": {},
   "outputs": [],
   "source": [
    "# Unir bases de datos amsc \n",
    "datos_meteorologicos = pd.merge(direccion_viento, humedad, on='Fecha')\n",
    "datos_meteorologicos = pd.merge(datos_meteorologicos, precipitacion, on='Fecha')\n",
    "datos_meteorologicos = pd.merge(datos_meteorologicos, presion, on='Fecha')\n",
    "datos_meteorologicos = pd.merge(datos_meteorologicos, radiacion, on='Fecha')\n",
    "datos_meteorologicos = pd.merge(datos_meteorologicos, temperatura, on='Fecha')\n",
    "datos_meteorologicos = pd.merge(datos_meteorologicos, uv, on='Fecha')\n",
    "datos_meteorologicos = pd.merge(datos_meteorologicos, velocidad_viento, on='Fecha') "
   ]
  },
  {
   "cell_type": "markdown",
   "id": "37df5af8",
   "metadata": {},
   "source": [
    "Empezamos a hacer el reemuestreo "
   ]
  }
 ],
 "metadata": {
  "kernelspec": {
   "display_name": ".venv (3.11.9)",
   "language": "python",
   "name": "python3"
  },
  "language_info": {
   "codemirror_mode": {
    "name": "ipython",
    "version": 3
   },
   "file_extension": ".py",
   "mimetype": "text/x-python",
   "name": "python",
   "nbconvert_exporter": "python",
   "pygments_lexer": "ipython3",
   "version": "3.11.9"
  }
 },
 "nbformat": 4,
 "nbformat_minor": 5
}

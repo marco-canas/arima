{
 "cells": [
  {
   "cell_type": "markdown",
   "id": "dc06dec7",
   "metadata": {
    "slideshow": {
     "slide_type": "slide"
    }
   },
   "source": [
    "<table align=\"left\">\n",
    "  <td>\n",
    "    <a href=\"https://colab.research.google.com/github/ageron/handson-ml3/blob/main/tools_numpy.ipynb\" target=\"_parent\"><img src=\"https://colab.research.google.com/assets/colab-badge.svg\" alt=\"Open In Colab\"/></a>\n",
    "  </td>\n",
    "  <td>\n",
    "    <a target=\"_blank\" href=\"https://kaggle.com/kernels/welcome?src=https://github.com/ageron/handson-ml3/blob/main/tools_numpy.ipynb\"><img src=\"https://kaggle.com/static/images/open-in-kaggle.svg\" /></a>\n",
    "  </td>\n",
    "</table>"
   ]
  },
  {
   "cell_type": "markdown",
   "id": "d401bbd4",
   "metadata": {},
   "source": [
    "# Metodologia completa de obtención y consolidación de la base de datos  \n",
    "\n"
   ]
  },
  {
   "cell_type": "markdown",
   "id": "d2e2e9e4",
   "metadata": {},
   "source": [
    "### **Obtención de datos meteorológicos de la estación Antioquia Mira Su Cielo (AMSC)**\n",
    "   \n",
    "Los datos meteorológicos locales fueron obtenidos desde la plataforma de Antioquia Mira Su Cielo (AMSC) (https://www.antioquiamirasucielo.org/), la cual recopila información proveniente de diversas estaciones ubicadas en los campus de la Universidad de Antioquia.\n",
    "Para este estudio, se filtraron los registros correspondientes a la estación Caucasia, seleccionando las siguientes variables:\n",
    "   1. direccion_viento\t\n",
    "   2. humedad\t\n",
    "   3. precipitacion\t\n",
    "   4. presion\t\n",
    "   5. radiacion\t\n",
    "   6. temperatura\t\n",
    "   7. uv\t\n",
    "   8. velocidad_viento\n",
    "\n",
    "**Informacion de la estacion:** \n",
    "   * Nombre: Caucasia\n",
    "   * Código: 102082706 \n",
    "   * Municipio: Caucasia\n",
    "   * Departamento: Antioquia \n",
    "   * Zona Hidrográfica: undefined\n",
    "   * Altitud: 60 m s.n.m\n",
    "   * Estado de la estación: undefined\n",
    "   * Tipo de tecnología: undefined\n",
    "   * Tipo de categoría: Automática con Telemetría\n",
    "\n",
    "**Observaciones:** \n",
    "\n",
    "La plataforma descarga cada variable de forma independiente, es decir, no permite seleccionar varias variables simultáneamente para generar un único archivo CSV. Por esta razón, fue necesario unificar todas las variables en una sola base de datos."
   ]
  },
  {
   "cell_type": "code",
   "execution_count": null,
   "id": "596bbb56",
   "metadata": {},
   "outputs": [],
   "source": []
  },
  {
   "cell_type": "code",
   "execution_count": null,
   "id": "844126ad",
   "metadata": {},
   "outputs": [],
   "source": []
  },
  {
   "cell_type": "code",
   "execution_count": null,
   "id": "7b87fd2e",
   "metadata": {},
   "outputs": [],
   "source": []
  }
 ],
 "metadata": {
  "celltoolbar": "Slideshow",
  "kernelspec": {
   "display_name": ".venv",
   "language": "python",
   "name": "python3"
  },
  "language_info": {
   "codemirror_mode": {
    "name": "ipython",
    "version": 3
   },
   "file_extension": ".py",
   "mimetype": "text/x-python",
   "name": "python",
   "nbconvert_exporter": "python",
   "pygments_lexer": "ipython3",
   "version": "3.13.5"
  },
  "rise": {
   "enable_chalkboard": true,
   "theme": "sky",
   "transition": "zoom"
  }
 },
 "nbformat": 4,
 "nbformat_minor": 5
}

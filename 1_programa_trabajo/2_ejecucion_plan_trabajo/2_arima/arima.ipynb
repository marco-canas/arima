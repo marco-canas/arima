{
 "cells": [
  {
   "cell_type": "markdown",
   "id": "dc06dec7",
   "metadata": {
    "slideshow": {
     "slide_type": "slide"
    }
   },
   "source": [
    "<table align=\"left\">\n",
    "  <td>\n",
    "    <a href=\"https://colab.research.google.com/github/ageron/handson-ml3/blob/main/tools_numpy.ipynb\" target=\"_parent\"><img src=\"https://colab.research.google.com/assets/colab-badge.svg\" alt=\"Open In Colab\"/></a>\n",
    "  </td>\n",
    "  <td>\n",
    "    <a target=\"_blank\" href=\"https://kaggle.com/kernels/welcome?src=https://github.com/ageron/handson-ml3/blob/main/tools_numpy.ipynb\"><img src=\"https://kaggle.com/static/images/open-in-kaggle.svg\" /></a>\n",
    "  </td>\n",
    "</table>"
   ]
  },
  {
   "cell_type": "markdown",
   "id": "e0c5b198",
   "metadata": {
    "slideshow": {
     "slide_type": "slide"
    }
   },
   "source": [
    "### [Video de apoyo a la lectura interactiva y experimental de este cuaderno]()"
   ]
  },
  {
   "cell_type": "markdown",
   "id": "41e82203",
   "metadata": {
    "slideshow": {
     "slide_type": "slide"
    }
   },
   "source": [
    "# [Vínculo al programa del curso ARIMA para SAT Dengue:]()\n",
    "\n"
   ]
  },
  {
   "cell_type": "markdown",
   "id": "d11ab06d",
   "metadata": {
    "slideshow": {
     "slide_type": "slide"
    }
   },
   "source": [
    "Un reconocimiento a mis estudiantes que han construido conmigo este saber pedagógico:\n",
    "\n",
    "<img src = ''> \n",
    "\n"
   ]
  },
  {
   "cell_type": "code",
   "execution_count": 5,
   "id": "28bae6cb",
   "metadata": {},
   "outputs": [],
   "source": [
    "def save_fig(nombre_archivo_imagen):\n",
    "    import os \n",
    "    import matplotlib.pyplot as plt\n",
    "    ubicacion_para_imagenes = r\"C:/Users/marco/Downloads\"\n",
    "    imagen_path = os.path.join(ubicacion_para_imagenes, nombre_archivo_imagen)\n",
    "    plt.savefig(imagen_path, bbox_inches='tight')"
   ]
  },
  {
   "cell_type": "markdown",
   "id": "10e55ccf",
   "metadata": {},
   "source": [
    "# Estructura general para todas las clases\n"
   ]
  },
  {
   "cell_type": "markdown",
   "id": "ddd73417",
   "metadata": {},
   "source": [
    "\n",
    "Dame, por favor, un diseño de clase, con el enfoque: \"Aula Invertida, STEAMS, de Aprendizaje Basado en Problemas y Proyectos (ABPP) y de Teoría de Registros de Representación Semiótica (TRRS) de Duval\" sobre: \"El algoritmo Arima para series de tiempo que involucran datos climáticos y epidemiológicos: Conprensión del funcionamiento de este algoritmo desde las representaciones gráficas y matemáticas de él\", siguiendo la estructura:  \n",
    "\n"
   ]
  },
  {
   "cell_type": "markdown",
   "id": "b5826da3",
   "metadata": {},
   "source": [
    "\n",
    "1. Título de la clase   \n",
    "   \n",
    "2. Objetivo de aprendizaje que incluyan los indicadores del logro de estos objetivos. \n",
    "   \n",
    "3. Un mapa conceptual que resuma la clase elaborado en Graphviz de python con nodos y edges de diferentes formas, colores y rellenos y renderizado en la siguiente ubicación: `\"C:\\Users\\marco\\Downloads\"`.  No olvides el parámetro `view = True` para el método `render()` de Graphviz. Para este mapa controla las superposiciones de los nodos con: graph [overlap=false]; // Elimina superposiciones (puede aumentar el espacio)\n",
    "graph [overlap=\"scalexy\"]; // Escala el gráfico para evitar overlaps\n",
    "graph [overlap=\"compress\"]; // Comprime el grafo sin overlaps  \n",
    "   \n",
    "4. Elementos históricos y epistemológicos relevantes para la clase, pero narrados como una historieta al estilo de un cuentero antioqueño en Colombia. Incluye imágenes de los protagonistas históricos de esta clase.  \n",
    "   \n",
    "5. Contenido de la clase:     \n",
    "   \n",
    "     1. Enseña cómo presentar el algoritmo del trapecio de forma geométrica\n",
    "     2. Enseña cómo presentar el algoritmo del trapecio de forma verbal, es decir, en lenguaje natural. \n",
    "     3. Enseña cómo presentar el algoritmo del trapecio de forma de código python\n",
    "     4. Enseña cómo presentar el algoritmo del trapecio de forma algebraica. \n",
    "   \n",
    "    \n",
    "     * Incluye, cómo implementar la calculadora \"Casio 991LA cw\" para implementar el método numérico de integración por trapecios. \n",
    "     \n",
    "        \n",
    "6. Actividades de aprendizaje: que incluya pruebas de escritorio para los algoritmos en forma verbal y seudo código, diagrama de flujo, y la implementación del algoritmo en lenguaje python.  \n",
    "   \n",
    "7. Incluye una canción o un poema que ayude a interiorizar y fijar los conceptos asociados a esta clase.   \n",
    "   \n",
    "8.  Tarea o actividades de ejercitación y fijación. Incluye 20 ejercicios de tarea en las que los estudiantes empiecen con la descripción geométrica del algoritmo, luego la descripción verbal y secuencial del algoritmo, después la implementación en lenguaje python editado a través de la terminal powershell de su computador y finalmente con el cálculo a mano y en su cuaderno. Crea una función de usuario de Python que asigne esta tareas a cada uno de los estudiantes matriculados en este curso tomando la ubicación de los estudiantes dada en este prompt.  \n",
    "    \n",
    "9. Evaluación incluyendo 20 proyectos, un ejemplo de quiz (con tres items) y un ejemplo de parcial (con 5 items). Incluye evaluaciones en las que los estudiantes empiecen con la descripción geométrica del algoritmo, luego la descripción verbal y secuencial del algoritmo, después la implementación en lenguaje python editado a través de la terminal powershell de su computador, y finalmente con el cálculo algebraico y numérico a mano y en su cuaderno. \n",
    "    \n",
    "10. Diseño de actividad de retroalimentación.   \n",
    "    \n",
    "11. Dame un vocabulario y frases del idioma inglés asociadas a esta clase.    \n",
    "     \n",
    "12. Incluye apéndice para la clase sobre desarrollo de habilidades para trabajar en equipo y de asertividad y empatía para relacionarnos. También elementos de la inteligencia emocional para presentar pruebas sin temor y sin realizar fraude en ellas.    \n",
    "     \n",
    "13. Incluye 10 referentes en didáctica de la matemática que estén de acuerdo a la propuesta didáctica de esta clase. Adiciona a estos referentes a Raymond Duval (Representaciones y cambios de representación para la adquisición de conceptos matemáticos) y a [Jeannette Wing](https://es.wikipedia.org/wiki/Jeannette_Wing) (Desarrollo del pensamiento computacional). Déjame todos estos referentes ordenados de acuerdo a las normas APA. Al crear la clase, introduce las citas de estos autores en el texto de la clase.\n",
    "\n",
    "\n",
    "Pero  que este diseño sea para que el estudiante pueda aprender experimentando en cuadernos Jupyter con funciones de usuario y animaciones y visualizaciones en python.   \n",
    "\n",
    "En particular utiliza para el diseño de clase a Numpy, Pandas, SymPy, Matplotlib.pyplot, Seaborn, Plotly, ipywidgets, matplotlib.animation, TensorFlow, Keras y Jupyter Notebook.    \n",
    "\n",
    "Cada vez que utilices `matplotlib.animacion` no olvides incluir el uso de `IPython. display` para la rederización de estas animaciones a través de Jupyter Notebook. No olvides darme los diseños de clase con las ecuaciones matemáticas delimitadas con signo de dolar $ para que VS Code si me renderize estas expresiones del lenguaje latex. Cuando vallas a utilizar ipywidgets ten en cuenta la siguiente importación inicial para garantizar que la visualización interactiva si se renderize en VS Code:   \n",
    "\n",
    "import numpy as np  \n",
    "import matplotlib.pyplot as plt  \n",
    "import ipywidgets as widgets  \n",
    "\n",
    "\n",
    "Ubicación del proyecto investigativo: [aquí](https://github.com/marco-canas/arima/blob/main/1_programa_trabajo/Propuesta_Pasant%C3%ADa-Janis_Zu%C3%B1iga.docx)  \n",
    "Ubicación del programa del curso: [aquí](https://github.com/marco-canas/arima/blob/main/1_programa_trabajo/1_programa_curso_arima.md)  \n",
    "Ubicación de la lista de estudiantes matriculados: [Aquí](https://github.com/marco-canas/groups_list/blob/main/asesoria_trabajo_grado_janis.xlsx)    \n",
    "\n"
   ]
  },
  {
   "cell_type": "markdown",
   "id": "d401bbd4",
   "metadata": {},
   "source": [
    "# Diseño de Clase: Algoritmo ARIMA para Series de Tiempo con Enfoque STEAM y ABPP\n"
   ]
  },
  {
   "cell_type": "markdown",
   "id": "630d32da",
   "metadata": {},
   "source": [
    "\n",
    "## 1. Título de la Clase\n",
    "**\"Descubriendo el ARIMA: Un Viaje Multimodal a Través de Datos Climáticos y Epidemiológicos\"**\n"
   ]
  },
  {
   "cell_type": "markdown",
   "id": "c462c752",
   "metadata": {},
   "source": [
    "\n",
    "## 2. Objetivos de Aprendizaje\n",
    "- **Objetivo Principal:** Comprender el algoritmo ARIMA a través de sus múltiples representaciones (gráfica, matemática, computacional) aplicado a series de tiempo climáticas y epidemiológicas.\n"
   ]
  },
  {
   "cell_type": "markdown",
   "id": "cfe16cdc",
   "metadata": {},
   "source": [
    "\n",
    "**Indicadores de Logro:**\n",
    "1. Transforma representaciones gráficas de series de tiempo en ecuaciones ARIMA (TRRS)\n",
    "2. Implementa un modelo ARIMA básico en Python usando `statsmodels`\n",
    "3. Interpreta los parámetros (p,d,q) en contextos reales\n",
    "4. Evalúa modelos ARIMA mediante AIC/BIC y validación cruzada\n",
    "5. Comunica resultados técnicos mediante visualizaciones interactivas\n"
   ]
  },
  {
   "cell_type": "markdown",
   "id": "9b89e2ce",
   "metadata": {},
   "source": [
    "\n",
    "## 3. Mapa Conceptual (Graphviz)\n"
   ]
  },
  {
   "cell_type": "code",
   "execution_count": null,
   "id": "b8b1d5e6",
   "metadata": {},
   "outputs": [],
   "source": [
    "from graphviz import Digraph\n",
    "\n",
    "# Configuración del grafo con ajustes para evitar superposiciones\n",
    "graph = Digraph('ARIMA_Class', \n",
    "                filename='C:/Users/marco/Downloads/ARIMA_Class.gv',\n",
    "                format='png',\n",
    "                engine='dot')  # Cambiado a 'dot' para mejor layout jerárquico\n",
    "\n",
    "# Configuraciones generales del grafo\n",
    "graph.attr(rankdir='TB',  # Orientación Top-Bottom\n",
    "           overlap='false',\n",
    "           splines='true',\n",
    "           concentrate='false',\n",
    "           nodesep='0.5',  # Separación entre nodos\n",
    "           ranksep='0.5')  # Separación entre niveles\n",
    "\n",
    "# Atributos generales de los nodos\n",
    "graph.attr('node', shape='ellipse', style='filled', fillcolor='lightblue', fontsize='10')\n",
    "\n",
    "# Nodos principales (centro)\n",
    "graph.node('ARIMA', shape='doubleoctagon', fillcolor='gold', fontsize='12', width='1.2', height='1.0')\n",
    "\n",
    "# Nodos de primer nivel\n",
    "with graph.subgraph(name='cluster_upper') as upper:\n",
    "    upper.attr(style='filled', color='lightgrey', label='', rank='same')\n",
    "    upper.node('Representaciones', shape='pentagon', fillcolor='lightgreen', width='1.1')\n",
    "    upper.node('Aplicaciones', shape='pentagon', fillcolor='salmon', width='1.1')\n",
    "\n",
    "# Subnodos de Representaciones\n",
    "with graph.subgraph(name='cluster_representaciones') as c:\n",
    "    c.attr(color='blue', label='Representaciones Semióticas', style='rounded,filled', fillcolor='#f0f8ff')\n",
    "    c.node('Matemática', shape='box', fillcolor='lightyellow')\n",
    "    c.node('Gráfica', shape='box', fillcolor='lightyellow')\n",
    "    c.node('Computacional', shape='box', fillcolor='lightyellow')\n",
    "    c.node('Verbal', shape='box', fillcolor='lightyellow')\n",
    "    \n",
    "    # Ordenar los nodos en una fila\n",
    "    c.attr(rank='same')\n",
    "    c.edges([('Matemática', 'Gráfica'), ('Gráfica', 'Computacional'), ('Computacional', 'Verbal')])\n",
    "\n",
    "# Subnodos de Aplicaciones\n",
    "with graph.subgraph(name='cluster_aplicaciones') as c:\n",
    "    c.attr(color='red', label='Aplicaciones', style='rounded,filled', fillcolor='#fff0f5')\n",
    "    c.node('Clima', shape='egg', fillcolor='lightblue')\n",
    "    c.node('Epidemiología', shape='egg', fillcolor='lightblue')\n",
    "    c.node('Finanzas', shape='egg', fillcolor='lightblue')\n",
    "    \n",
    "    # Ordenar los nodos en una fila\n",
    "    c.attr(rank='same')\n",
    "    c.edges([('Clima', 'Epidemiología'), ('Epidemiología', 'Finanzas')])\n",
    "\n",
    "# Subnodos de STEAM\n",
    "with graph.subgraph(name='cluster_steam') as c:\n",
    "    c.attr(color='green', label='Enfoque STEAM', style='rounded,filled', fillcolor='#f0fff0')\n",
    "    c.node('Ciencia', shape='circle')\n",
    "    c.node('Tecnología', shape='circle')\n",
    "    c.node('Ingeniería', shape='circle')\n",
    "    c.node('Arte', shape='circle')\n",
    "    c.node('Matemáticas', shape='circle')\n",
    "    \n",
    "    # Ordenar los nodos en una fila\n",
    "    c.attr(rank='same')\n",
    "    c.edges([('Ciencia', 'Tecnología'), ('Tecnología', 'Ingeniería'), \n",
    "             ('Ingeniería', 'Arte'), ('Arte', 'Matemáticas')])\n",
    "\n",
    "# Conexiones principales\n",
    "graph.edges([\n",
    "    ('ARIMA', 'Representaciones'),\n",
    "    ('ARIMA', 'Aplicaciones'),\n",
    "    ('ARIMA', 'Ciencia')  # Conexión a STEAM\n",
    "])\n",
    "\n",
    "# Conexiones dentro de Representaciones\n",
    "graph.edges([\n",
    "    ('Representaciones', 'Matemática'),\n",
    "    ('Representaciones', 'Gráfica'),\n",
    "    ('Representaciones', 'Computacional'),\n",
    "    ('Representaciones', 'Verbal')\n",
    "])\n",
    "\n",
    "# Conexiones dentro de Aplicaciones\n",
    "graph.edges([\n",
    "    ('Aplicaciones', 'Clima'),\n",
    "    ('Aplicaciones', 'Epidemiología'),\n",
    "    ('Aplicaciones', 'Finanzas')\n",
    "])\n",
    "\n",
    "# Conexiones dentro de STEAM\n",
    "graph.edges([\n",
    "    ('Ciencia', 'Tecnología'),\n",
    "    ('Tecnología', 'Ingeniería'),\n",
    "    ('Ingeniería', 'Arte'),\n",
    "    ('Arte', 'Matemáticas')\n",
    "])\n",
    "\n",
    "# Añadir conexión invisible para alinear mejor los clusters\n",
    "graph.edge('Representaciones', 'Aplicaciones', style='invis')\n",
    "graph.edge('Matemática', 'Clima', style='invis')\n",
    "graph.edge('Verbal', 'Finanzas', style='invis')\n",
    "\n",
    "# Renderizar y mostrar\n",
    "graph.render(view=True, cleanup=True)"
   ]
  },
  {
   "cell_type": "markdown",
   "id": "6880b74d",
   "metadata": {},
   "source": [
    "\n",
    "## 4. Historia Epistemológica (Estilo Cuentero Antioqueño)\n",
    "\n",
    "*\"¡Ay hombe!* Pues les voy a contar la historia de cómo unos muchachos *berraquísimos* le metieron el hombro al problema de predecir el futuro con números...\"\n",
    "\n",
    "**Imagen 1:** [Box y Jenkins en los 70s, con bigotes estilo épico]\n",
    "\n",
    "<img sqr = 'box_jenkins_1.png'> "
   ]
  },
  {
   "cell_type": "markdown",
   "id": "7ef5affd",
   "metadata": {},
   "source": [
    "\n",
    "*\"Resulta que por los años 70, dos tipos más listos que el diablo, George Box y Gwilym Jenkins (que ni eran hermanos ni nada), se dijeron: '¡Esto de predecir cosas no puede ser solo arte, tiene que tener ciencia!' Y así fue como inventaron el ARIMA, que no es un primo lejano del Yeti, sino algo mucho más útil.\"*\n",
    "\n",
    "**Imagen 2:** [Fotografía histórica de Box y Jenkins trabajando en ecuaciones]\n",
    "<img src = 'box_jenkins_2.png'>"
   ]
  },
  {
   "cell_type": "markdown",
   "id": "bef08795",
   "metadata": {},
   "source": [
    "\n",
    "*\"Pero ojo, esto no salió de la nada. Vino de una larga tradición que empezó con el señor Gauss (sí, el de la campana), siguió con Yule y Walker en los 20s con sus autoregresiones, y hasta Norbert Wiener en la segunda guerra mundial tratando de predecir dónde caerían los misiles.\"*\n",
    "\n",
    "**Imagen 3:** [Línea de tiempo con los precursores del ARIMA]\n",
    "<img src = ''>"
   ]
  },
  {
   "cell_type": "markdown",
   "id": "87cfe049",
   "metadata": {},
   "source": [
    "\n",
    "*\"Hoy día, con eso del cambio climático y las pandemias, el ARIMA está más vivo que nunca. ¡Hasta en su celular lo usan sin que usted lo sepa!\"*\n"
   ]
  },
  {
   "cell_type": "markdown",
   "id": "f6521ece",
   "metadata": {},
   "source": [
    "\n",
    "## 5. Contenido de la Clase (Enfoque Multimodal)\n"
   ]
  },
  {
   "cell_type": "markdown",
   "id": "229cc665",
   "metadata": {},
   "source": [
    "## **Clase: Predicción de Epidemias de Dengue en Caucasia-Antioquia usando ARIMA y Variables Climáticas**\n"
   ]
  },
  {
   "cell_type": "markdown",
   "id": "f9cce542",
   "metadata": {},
   "source": [
    "\n",
    "### **1. Introducción al Problema** "
   ]
  },
  {
   "cell_type": "markdown",
   "id": "f7714ed3",
   "metadata": {},
   "source": [
    " \n",
    "**Contexto:**  \n",
    "Caucasia (Antioquia) es una zona endémica de dengue debido a su clima tropical. El mosquito *Aedes aegypti* se reproduce en aguas estancadas, y su proliferación está influenciada por factores climáticos como:  \n",
    "* **Precipitación** (lluvias acumuladas)  \n",
    "* **Temperatura media** (óptima para el mosquito: 25°C - 30°C)  \n",
    "* **Humedad relativa** (>60% favorece supervivencia del mosquito)  \n"
   ]
  },
  {
   "cell_type": "markdown",
   "id": "2ec9dc8d",
   "metadata": {},
   "source": [
    "\n",
    "**Objetivo:**  \n",
    "Predecir brotes de dengue usando **ARIMA** (AutoRegressive Integrated Moving Average) con datos históricos de:  \n",
    "- Casos semanales de dengue (Secretaría de Salud de Antioquia)  \n",
    "- Variables climáticas (IDEAM - Instituto de Hidrología).\n",
    "\n",
    "---\n"
   ]
  },
  {
   "cell_type": "markdown",
   "id": "8e825db2",
   "metadata": {},
   "source": [
    "\n",
    "### **2. Exploración de Datos con Python**  \n",
    "#### **2.1. Carga de Datos**"
   ]
  },
  {
   "cell_type": "markdown",
   "id": "1d5ae744",
   "metadata": {},
   "source": [
    "Voy a completar el código para generar datos sintéticos de dengue y variables climáticas para Caucasia (Antioquia), simulando patrones realistas basados en la estacionalidad de la región. Aquí tienes el código completo:\n"
   ]
  },
  {
   "cell_type": "code",
   "execution_count": 4,
   "id": "fcc3a638",
   "metadata": {},
   "outputs": [
    {
     "data": {
      "image/png": "[encoded data removed]",
      "text/plain": [
       "<Figure size 1200x1000 with 4 Axes>"
      ]
     },
     "metadata": {},
     "output_type": "display_data"
    },
    {
     "data": {
      "image/png": "[encoded data removed]",
      "text/plain": [
       "<Figure size 800x600 with 2 Axes>"
      ]
     },
     "metadata": {},
     "output_type": "display_data"
    }
   ],
   "source": [
    "import pandas as pd\n",
    "import numpy as np\n",
    "import matplotlib.pyplot as plt\n",
    "import seaborn as sns\n",
    "from datetime import datetime, timedelta\n",
    "\n",
    "# Configuración para reproducibilidad\n",
    "np.random.seed(42)\n",
    "\n",
    "# --- Generación de fechas (últimos 3 años, semanal) ---\n",
    "start_date = datetime(2021, 1, 1)\n",
    "end_date = datetime(2023, 12, 31)\n",
    "dates = pd.date_range(start=start_date, end=end_date, freq='W')  # Datos semanales\n",
    "\n",
    "# --- Datos climáticos sintéticos ---\n",
    "def generar_clima(dates):\n",
    "    # Temperatura (patrón estacional con ruido)\n",
    "    base_temp = 28 + 3 * np.sin(2 * np.pi * (dates.dayofyear / 365))\n",
    "    temperatura = base_temp + np.random.normal(0, 1, len(dates))\n",
    "    \n",
    "    # Precipitación (mayor en abril-mayo y octubre-noviembre)\n",
    "    mes = dates.month\n",
    "    precip_base = np.where(\n",
    "        (mes == 4) | (mes == 5) | (mes == 10) | (mes == 11),\n",
    "        np.random.uniform(50, 150, len(dates)),\n",
    "        np.random.uniform(5, 40, len(dates))\n",
    "    )\n",
    "    precipitacion = precip_base * (1 + 0.3 * np.random.randn(len(dates)))\n",
    "    precipitacion = np.clip(precipitacion, 0, None)  # No valores negativos\n",
    "    \n",
    "    # Humedad (correlacionada con precipitación)\n",
    "    humedad = 60 + 0.3 * precipitacion + np.random.normal(0, 5, len(dates))\n",
    "    humedad = np.clip(humedad, 40, 95)  # Límites realistas\n",
    "    \n",
    "    return pd.DataFrame({\n",
    "        'fecha': dates,\n",
    "        'temperatura': np.round(temperatura, 1),\n",
    "        'precipitacion': np.round(precipitacion, 1),\n",
    "        'humedad': np.round(humedad, 1)\n",
    "    })\n",
    "\n",
    "# --- Datos de dengue sintéticos (dependientes del clima con retardo) ---\n",
    "def generar_dengue(clima_df):\n",
    "    # Efecto acumulativo del clima con retardo de 4-8 semanas\n",
    "    temp_effect = 0.3 * clima_df['temperatura'].rolling(4, min_periods=1).mean()\n",
    "    precip_effect = 0.1 * clima_df['precipitacion'].rolling(6, min_periods=1).mean()\n",
    "    \n",
    "    # Componente base + estacionalidad\n",
    "    base = 10 + 2 * np.sin(2 * np.pi * (clima_df['fecha'].dt.month / 12))\n",
    "    \n",
    "    # Combinación con efectos climáticos\n",
    "    casos = base + temp_effect + precip_effect\n",
    "    \n",
    "    # Añadir brotes aleatorios (distribución Poisson)\n",
    "    brotes = np.random.poisson(lam=0.1, size=len(clima_df))\n",
    "    casos += brotes * np.random.uniform(5, 20, len(clima_df))\n",
    "    \n",
    "    # Ruido y valores mínimos\n",
    "    casos = casos * (1 + 0.2 * np.random.randn(len(clima_df)))\n",
    "    casos = np.clip(casos, 0, None).round().astype(int)\n",
    "    \n",
    "    return pd.DataFrame({\n",
    "        'fecha': clima_df['fecha'],\n",
    "        'casos_dengue': casos,\n",
    "        'casos_grave': np.random.binomial(casos, 0.05)  # 5% de casos graves\n",
    "    })\n",
    "\n",
    "# --- Generación de los datos ---\n",
    "clima = generar_clima(dates)\n",
    "dengue = generar_dengue(clima)\n",
    "\n",
    "# --- Guardar datos simulados ---\n",
    "clima.to_csv('caucasia_clima_simulado.csv', index=False)\n",
    "dengue.to_csv('caucasia_dengue_simulado.csv', index=False)\n",
    "\n",
    "# --- Visualización de los datos generados ---\n",
    "fig, ax = plt.subplots(4, 1, figsize=(12, 10), sharex=True)\n",
    "\n",
    "# Gráficas\n",
    "ax[0].plot(clima['fecha'], clima['temperatura'], 'r-')\n",
    "ax[0].set_ylabel('Temperatura (°C)')\n",
    "\n",
    "ax[1].bar(clima['fecha'], clima['precipitacion'], color='b', width=7)\n",
    "ax[1].set_ylabel('Precipitación (mm)')\n",
    "\n",
    "ax[2].plot(clima['fecha'], clima['humedad'], 'g-')\n",
    "ax[2].set_ylabel('Humedad (%)')\n",
    "\n",
    "ax[3].bar(dengue['fecha'], dengue['casos_dengue'], color='orange', width=7)\n",
    "ax[3].plot(dengue['fecha'], dengue['casos_dengue'].rolling(4).mean(), 'k-')\n",
    "ax[3].set_ylabel('Casos de dengue')\n",
    "\n",
    "plt.suptitle('Datos Sintéticos de Clima y Dengue en Caucasia (2021-2023)')\n",
    "plt.tight_layout()\n",
    "plt.show()\n",
    "\n",
    "# --- Merge de datos para análisis ---\n",
    "df = pd.merge(dengue, clima, on='fecha')\n",
    "df.set_index('fecha', inplace=True)\n",
    "\n",
    "# --- Mostrar correlaciones ---\n",
    "corr_matrix = df.corr()\n",
    "plt.figure(figsize=(8, 6))\n",
    "sns.heatmap(corr_matrix, annot=True, cmap='coolwarm', center=0)\n",
    "plt.title('Matriz de Correlación')\n",
    "plt.show()\n"
   ]
  },
  {
   "cell_type": "markdown",
   "id": "3bb56348",
   "metadata": {},
   "source": [
    "\n",
    "\n",
    "### Características de los datos generados:\n",
    "1. **Temporalidad**: Datos semanales desde 2021 hasta 2023 (3 años completos)\n",
    "2. **Variables climáticas**:\n",
    "   - Temperatura con estacionalidad anual (promedio ~28°C)\n",
    "   - Precipitación con picos en abril-mayo y octubre-noviembre\n",
    "   - Humedad correlacionada con la precipitación\n"
   ]
  },
  {
   "cell_type": "markdown",
   "id": "0157f120",
   "metadata": {},
   "source": [
    "\n",
    "3. **Casos de dengue**:\n",
    "   - Dependen de la temperatura (con retardo de 4 semanas)\n",
    "   - Aumentan después de periodos lluviosos (retardo de 6 semanas)\n",
    "   - Incluyen brotes aleatorios (distribución Poisson)\n",
    "   - 5% de casos graves (distribución binomial)\n",
    "\n",
    "4. **Patrones realistas**:\n",
    "   - Estacionalidad anual (más casos en épocas lluviosas)\n",
    "   - Autocorrelación temporal (los brotes persisten varias semanas)\n",
    "   - Relación no lineal con variables climáticas\n",
    "\n",
    "### Uso en clase:\n"
   ]
  },
  {
   "cell_type": "code",
   "execution_count": 2,
   "id": "8d17326b",
   "metadata": {},
   "outputs": [
    {
     "ename": "FileNotFoundError",
     "evalue": "[Errno 2] No such file or directory: 'caucasia_dengue_simulado.csv'",
     "output_type": "error",
     "traceback": [
      "\u001b[31m---------------------------------------------------------------------------\u001b[39m",
      "\u001b[31mFileNotFoundError\u001b[39m                         Traceback (most recent call last)",
      "\u001b[36mCell\u001b[39m\u001b[36m \u001b[39m\u001b[32mIn[2]\u001b[39m\u001b[32m, line 2\u001b[39m\n\u001b[32m      1\u001b[39m \u001b[38;5;66;03m# Para cargar los datos generados (si no se quiere generar de nuevo)\u001b[39;00m\n\u001b[32m----> \u001b[39m\u001b[32m2\u001b[39m dengue = \u001b[43mpd\u001b[49m\u001b[43m.\u001b[49m\u001b[43mread_csv\u001b[49m\u001b[43m(\u001b[49m\u001b[33;43m'\u001b[39;49m\u001b[33;43mcaucasia_dengue_simulado.csv\u001b[39;49m\u001b[33;43m'\u001b[39;49m\u001b[43m,\u001b[49m\u001b[43m \u001b[49m\u001b[43mparse_dates\u001b[49m\u001b[43m=\u001b[49m\u001b[43m[\u001b[49m\u001b[33;43m'\u001b[39;49m\u001b[33;43mfecha\u001b[39;49m\u001b[33;43m'\u001b[39;49m\u001b[43m]\u001b[49m\u001b[43m)\u001b[49m\n\u001b[32m      3\u001b[39m clima = pd.read_csv(\u001b[33m'\u001b[39m\u001b[33mcaucasia_clima_simulado.csv\u001b[39m\u001b[33m'\u001b[39m, parse_dates=[\u001b[33m'\u001b[39m\u001b[33mfecha\u001b[39m\u001b[33m'\u001b[39m])\n\u001b[32m      5\u001b[39m \u001b[38;5;66;03m# Merge de datos\u001b[39;00m\n",
      "\u001b[36mFile \u001b[39m\u001b[32mc:\\Users\\marco\\Documentos\\investigacion\\arima\\.venv\\Lib\\site-packages\\pandas\\io\\parsers\\readers.py:1026\u001b[39m, in \u001b[36mread_csv\u001b[39m\u001b[34m(filepath_or_buffer, sep, delimiter, header, names, index_col, usecols, dtype, engine, converters, true_values, false_values, skipinitialspace, skiprows, skipfooter, nrows, na_values, keep_default_na, na_filter, verbose, skip_blank_lines, parse_dates, infer_datetime_format, keep_date_col, date_parser, date_format, dayfirst, cache_dates, iterator, chunksize, compression, thousands, decimal, lineterminator, quotechar, quoting, doublequote, escapechar, comment, encoding, encoding_errors, dialect, on_bad_lines, delim_whitespace, low_memory, memory_map, float_precision, storage_options, dtype_backend)\u001b[39m\n\u001b[32m   1013\u001b[39m kwds_defaults = _refine_defaults_read(\n\u001b[32m   1014\u001b[39m     dialect,\n\u001b[32m   1015\u001b[39m     delimiter,\n\u001b[32m   (...)\u001b[39m\u001b[32m   1022\u001b[39m     dtype_backend=dtype_backend,\n\u001b[32m   1023\u001b[39m )\n\u001b[32m   1024\u001b[39m kwds.update(kwds_defaults)\n\u001b[32m-> \u001b[39m\u001b[32m1026\u001b[39m \u001b[38;5;28;01mreturn\u001b[39;00m \u001b[43m_read\u001b[49m\u001b[43m(\u001b[49m\u001b[43mfilepath_or_buffer\u001b[49m\u001b[43m,\u001b[49m\u001b[43m \u001b[49m\u001b[43mkwds\u001b[49m\u001b[43m)\u001b[49m\n",
      "\u001b[36mFile \u001b[39m\u001b[32mc:\\Users\\marco\\Documentos\\investigacion\\arima\\.venv\\Lib\\site-packages\\pandas\\io\\parsers\\readers.py:620\u001b[39m, in \u001b[36m_read\u001b[39m\u001b[34m(filepath_or_buffer, kwds)\u001b[39m\n\u001b[32m    617\u001b[39m _validate_names(kwds.get(\u001b[33m\"\u001b[39m\u001b[33mnames\u001b[39m\u001b[33m\"\u001b[39m, \u001b[38;5;28;01mNone\u001b[39;00m))\n\u001b[32m    619\u001b[39m \u001b[38;5;66;03m# Create the parser.\u001b[39;00m\n\u001b[32m--> \u001b[39m\u001b[32m620\u001b[39m parser = \u001b[43mTextFileReader\u001b[49m\u001b[43m(\u001b[49m\u001b[43mfilepath_or_buffer\u001b[49m\u001b[43m,\u001b[49m\u001b[43m \u001b[49m\u001b[43m*\u001b[49m\u001b[43m*\u001b[49m\u001b[43mkwds\u001b[49m\u001b[43m)\u001b[49m\n\u001b[32m    622\u001b[39m \u001b[38;5;28;01mif\u001b[39;00m chunksize \u001b[38;5;129;01mor\u001b[39;00m iterator:\n\u001b[32m    623\u001b[39m     \u001b[38;5;28;01mreturn\u001b[39;00m parser\n",
      "\u001b[36mFile \u001b[39m\u001b[32mc:\\Users\\marco\\Documentos\\investigacion\\arima\\.venv\\Lib\\site-packages\\pandas\\io\\parsers\\readers.py:1620\u001b[39m, in \u001b[36mTextFileReader.__init__\u001b[39m\u001b[34m(self, f, engine, **kwds)\u001b[39m\n\u001b[32m   1617\u001b[39m     \u001b[38;5;28mself\u001b[39m.options[\u001b[33m\"\u001b[39m\u001b[33mhas_index_names\u001b[39m\u001b[33m\"\u001b[39m] = kwds[\u001b[33m\"\u001b[39m\u001b[33mhas_index_names\u001b[39m\u001b[33m\"\u001b[39m]\n\u001b[32m   1619\u001b[39m \u001b[38;5;28mself\u001b[39m.handles: IOHandles | \u001b[38;5;28;01mNone\u001b[39;00m = \u001b[38;5;28;01mNone\u001b[39;00m\n\u001b[32m-> \u001b[39m\u001b[32m1620\u001b[39m \u001b[38;5;28mself\u001b[39m._engine = \u001b[38;5;28;43mself\u001b[39;49m\u001b[43m.\u001b[49m\u001b[43m_make_engine\u001b[49m\u001b[43m(\u001b[49m\u001b[43mf\u001b[49m\u001b[43m,\u001b[49m\u001b[43m \u001b[49m\u001b[38;5;28;43mself\u001b[39;49m\u001b[43m.\u001b[49m\u001b[43mengine\u001b[49m\u001b[43m)\u001b[49m\n",
      "\u001b[36mFile \u001b[39m\u001b[32mc:\\Users\\marco\\Documentos\\investigacion\\arima\\.venv\\Lib\\site-packages\\pandas\\io\\parsers\\readers.py:1880\u001b[39m, in \u001b[36mTextFileReader._make_engine\u001b[39m\u001b[34m(self, f, engine)\u001b[39m\n\u001b[32m   1878\u001b[39m     \u001b[38;5;28;01mif\u001b[39;00m \u001b[33m\"\u001b[39m\u001b[33mb\u001b[39m\u001b[33m\"\u001b[39m \u001b[38;5;129;01mnot\u001b[39;00m \u001b[38;5;129;01min\u001b[39;00m mode:\n\u001b[32m   1879\u001b[39m         mode += \u001b[33m\"\u001b[39m\u001b[33mb\u001b[39m\u001b[33m\"\u001b[39m\n\u001b[32m-> \u001b[39m\u001b[32m1880\u001b[39m \u001b[38;5;28mself\u001b[39m.handles = \u001b[43mget_handle\u001b[49m\u001b[43m(\u001b[49m\n\u001b[32m   1881\u001b[39m \u001b[43m    \u001b[49m\u001b[43mf\u001b[49m\u001b[43m,\u001b[49m\n\u001b[32m   1882\u001b[39m \u001b[43m    \u001b[49m\u001b[43mmode\u001b[49m\u001b[43m,\u001b[49m\n\u001b[32m   1883\u001b[39m \u001b[43m    \u001b[49m\u001b[43mencoding\u001b[49m\u001b[43m=\u001b[49m\u001b[38;5;28;43mself\u001b[39;49m\u001b[43m.\u001b[49m\u001b[43moptions\u001b[49m\u001b[43m.\u001b[49m\u001b[43mget\u001b[49m\u001b[43m(\u001b[49m\u001b[33;43m\"\u001b[39;49m\u001b[33;43mencoding\u001b[39;49m\u001b[33;43m\"\u001b[39;49m\u001b[43m,\u001b[49m\u001b[43m \u001b[49m\u001b[38;5;28;43;01mNone\u001b[39;49;00m\u001b[43m)\u001b[49m\u001b[43m,\u001b[49m\n\u001b[32m   1884\u001b[39m \u001b[43m    \u001b[49m\u001b[43mcompression\u001b[49m\u001b[43m=\u001b[49m\u001b[38;5;28;43mself\u001b[39;49m\u001b[43m.\u001b[49m\u001b[43moptions\u001b[49m\u001b[43m.\u001b[49m\u001b[43mget\u001b[49m\u001b[43m(\u001b[49m\u001b[33;43m\"\u001b[39;49m\u001b[33;43mcompression\u001b[39;49m\u001b[33;43m\"\u001b[39;49m\u001b[43m,\u001b[49m\u001b[43m \u001b[49m\u001b[38;5;28;43;01mNone\u001b[39;49;00m\u001b[43m)\u001b[49m\u001b[43m,\u001b[49m\n\u001b[32m   1885\u001b[39m \u001b[43m    \u001b[49m\u001b[43mmemory_map\u001b[49m\u001b[43m=\u001b[49m\u001b[38;5;28;43mself\u001b[39;49m\u001b[43m.\u001b[49m\u001b[43moptions\u001b[49m\u001b[43m.\u001b[49m\u001b[43mget\u001b[49m\u001b[43m(\u001b[49m\u001b[33;43m\"\u001b[39;49m\u001b[33;43mmemory_map\u001b[39;49m\u001b[33;43m\"\u001b[39;49m\u001b[43m,\u001b[49m\u001b[43m \u001b[49m\u001b[38;5;28;43;01mFalse\u001b[39;49;00m\u001b[43m)\u001b[49m\u001b[43m,\u001b[49m\n\u001b[32m   1886\u001b[39m \u001b[43m    \u001b[49m\u001b[43mis_text\u001b[49m\u001b[43m=\u001b[49m\u001b[43mis_text\u001b[49m\u001b[43m,\u001b[49m\n\u001b[32m   1887\u001b[39m \u001b[43m    \u001b[49m\u001b[43merrors\u001b[49m\u001b[43m=\u001b[49m\u001b[38;5;28;43mself\u001b[39;49m\u001b[43m.\u001b[49m\u001b[43moptions\u001b[49m\u001b[43m.\u001b[49m\u001b[43mget\u001b[49m\u001b[43m(\u001b[49m\u001b[33;43m\"\u001b[39;49m\u001b[33;43mencoding_errors\u001b[39;49m\u001b[33;43m\"\u001b[39;49m\u001b[43m,\u001b[49m\u001b[43m \u001b[49m\u001b[33;43m\"\u001b[39;49m\u001b[33;43mstrict\u001b[39;49m\u001b[33;43m\"\u001b[39;49m\u001b[43m)\u001b[49m\u001b[43m,\u001b[49m\n\u001b[32m   1888\u001b[39m \u001b[43m    \u001b[49m\u001b[43mstorage_options\u001b[49m\u001b[43m=\u001b[49m\u001b[38;5;28;43mself\u001b[39;49m\u001b[43m.\u001b[49m\u001b[43moptions\u001b[49m\u001b[43m.\u001b[49m\u001b[43mget\u001b[49m\u001b[43m(\u001b[49m\u001b[33;43m\"\u001b[39;49m\u001b[33;43mstorage_options\u001b[39;49m\u001b[33;43m\"\u001b[39;49m\u001b[43m,\u001b[49m\u001b[43m \u001b[49m\u001b[38;5;28;43;01mNone\u001b[39;49;00m\u001b[43m)\u001b[49m\u001b[43m,\u001b[49m\n\u001b[32m   1889\u001b[39m \u001b[43m\u001b[49m\u001b[43m)\u001b[49m\n\u001b[32m   1890\u001b[39m \u001b[38;5;28;01massert\u001b[39;00m \u001b[38;5;28mself\u001b[39m.handles \u001b[38;5;129;01mis\u001b[39;00m \u001b[38;5;129;01mnot\u001b[39;00m \u001b[38;5;28;01mNone\u001b[39;00m\n\u001b[32m   1891\u001b[39m f = \u001b[38;5;28mself\u001b[39m.handles.handle\n",
      "\u001b[36mFile \u001b[39m\u001b[32mc:\\Users\\marco\\Documentos\\investigacion\\arima\\.venv\\Lib\\site-packages\\pandas\\io\\common.py:873\u001b[39m, in \u001b[36mget_handle\u001b[39m\u001b[34m(path_or_buf, mode, encoding, compression, memory_map, is_text, errors, storage_options)\u001b[39m\n\u001b[32m    868\u001b[39m \u001b[38;5;28;01melif\u001b[39;00m \u001b[38;5;28misinstance\u001b[39m(handle, \u001b[38;5;28mstr\u001b[39m):\n\u001b[32m    869\u001b[39m     \u001b[38;5;66;03m# Check whether the filename is to be opened in binary mode.\u001b[39;00m\n\u001b[32m    870\u001b[39m     \u001b[38;5;66;03m# Binary mode does not support 'encoding' and 'newline'.\u001b[39;00m\n\u001b[32m    871\u001b[39m     \u001b[38;5;28;01mif\u001b[39;00m ioargs.encoding \u001b[38;5;129;01mand\u001b[39;00m \u001b[33m\"\u001b[39m\u001b[33mb\u001b[39m\u001b[33m\"\u001b[39m \u001b[38;5;129;01mnot\u001b[39;00m \u001b[38;5;129;01min\u001b[39;00m ioargs.mode:\n\u001b[32m    872\u001b[39m         \u001b[38;5;66;03m# Encoding\u001b[39;00m\n\u001b[32m--> \u001b[39m\u001b[32m873\u001b[39m         handle = \u001b[38;5;28;43mopen\u001b[39;49m\u001b[43m(\u001b[49m\n\u001b[32m    874\u001b[39m \u001b[43m            \u001b[49m\u001b[43mhandle\u001b[49m\u001b[43m,\u001b[49m\n\u001b[32m    875\u001b[39m \u001b[43m            \u001b[49m\u001b[43mioargs\u001b[49m\u001b[43m.\u001b[49m\u001b[43mmode\u001b[49m\u001b[43m,\u001b[49m\n\u001b[32m    876\u001b[39m \u001b[43m            \u001b[49m\u001b[43mencoding\u001b[49m\u001b[43m=\u001b[49m\u001b[43mioargs\u001b[49m\u001b[43m.\u001b[49m\u001b[43mencoding\u001b[49m\u001b[43m,\u001b[49m\n\u001b[32m    877\u001b[39m \u001b[43m            \u001b[49m\u001b[43merrors\u001b[49m\u001b[43m=\u001b[49m\u001b[43merrors\u001b[49m\u001b[43m,\u001b[49m\n\u001b[32m    878\u001b[39m \u001b[43m            \u001b[49m\u001b[43mnewline\u001b[49m\u001b[43m=\u001b[49m\u001b[33;43m\"\u001b[39;49m\u001b[33;43m\"\u001b[39;49m\u001b[43m,\u001b[49m\n\u001b[32m    879\u001b[39m \u001b[43m        \u001b[49m\u001b[43m)\u001b[49m\n\u001b[32m    880\u001b[39m     \u001b[38;5;28;01melse\u001b[39;00m:\n\u001b[32m    881\u001b[39m         \u001b[38;5;66;03m# Binary mode\u001b[39;00m\n\u001b[32m    882\u001b[39m         handle = \u001b[38;5;28mopen\u001b[39m(handle, ioargs.mode)\n",
      "\u001b[31mFileNotFoundError\u001b[39m: [Errno 2] No such file or directory: 'caucasia_dengue_simulado.csv'"
     ]
    }
   ],
   "source": [
    "# Para cargar los datos generados (si no se quiere generar de nuevo)\n",
    "dengue = pd.read_csv('caucasia_dengue_simulado.csv', parse_dates=['fecha'])\n",
    "clima = pd.read_csv('caucasia_clima_simulado.csv', parse_dates=['fecha'])\n",
    "\n",
    "# Merge de datos\n",
    "df = pd.merge(dengue, clima, on='fecha')\n",
    "df.set_index('fecha', inplace=True)\n",
    "\n"
   ]
  },
  {
   "cell_type": "markdown",
   "id": "746ff82f",
   "metadata": {},
   "source": [
    "\n",
    "Este dataset sintético mantiene las propiedades estadísticas clave para practicar modelos ARIMA:\n",
    "- Estacionalidad\n",
    "- Tendencia\n",
    "- Relación con variables exógenas\n",
    "- Ruido aleatorio\n"
   ]
  },
  {
   "cell_type": "markdown",
   "id": "8e28ab79",
   "metadata": {},
   "source": [
    "\n",
    "¡Perfecto para que los estudiantes exploren sin riesgo de trabajar con datos reales confidenciales!"
   ]
  },
  {
   "cell_type": "markdown",
   "id": "7774e7ef",
   "metadata": {},
   "source": [
    "\n",
    "#### **2.2. Visualización Inicial**  \n",
    "```python\n",
    "fig, ax = plt.subplots(3, 1, figsize=(12, 8))\n",
    "df['casos_dengue'].plot(ax=ax[0], title='Casos de Dengue (Semanal)')\n",
    "df['precipitacion'].plot(ax=ax[1], title='Precipitación (mm)', color='blue')\n",
    "df['temperatura'].plot(ax=ax[2], title='Temperatura (°C)', color='red')\n",
    "plt.tight_layout()\n",
    "```\n",
    "**Observaciones:**  \n",
    "- Los casos de dengue tienen **estacionalidad anual** (picos en épocas lluviosas).  \n",
    "- La temperatura y precipitación están **correlacionadas** con los brotes.  \n"
   ]
  },
  {
   "cell_type": "markdown",
   "id": "afce49c5",
   "metadata": {},
   "source": [
    "\n",
    "---\n",
    "\n",
    "### **3. Modelado ARIMA para Dengue**  \n",
    "#### **3.1. Verificación de Estacionariedad**  \n"
   ]
  },
  {
   "cell_type": "markdown",
   "id": "e5479f00",
   "metadata": {},
   "source": [
    "```python\n",
    "from statsmodels.tsa.stattools import adfuller\n",
    "\n",
    "# Test de Dickey-Fuller aumentado (ADF)\n",
    "result = adfuller(df['casos_dengue'])\n",
    "print(f\"ADF Statistic: {result[0]}, p-value: {result[1]}\")\n",
    "```\n",
    "- Si `p-value > 0.05`, la serie **no es estacionaria** → Aplicar diferenciación.  \n"
   ]
  },
  {
   "cell_type": "markdown",
   "id": "6ab6e3bb",
   "metadata": {},
   "source": [
    "\n",
    "#### **3.2. Diferenciación y ACF/PACF**  \n"
   ]
  },
  {
   "cell_type": "code",
   "execution_count": null,
   "id": "0da03874",
   "metadata": {},
   "outputs": [],
   "source": [
    "```python\n",
    "from statsmodels.graphics.tsaplots import plot_acf, plot_pacf\n",
    "\n",
    "# Primera diferencia\n",
    "df['diff_dengue'] = df['casos_dengue'].diff().dropna()\n",
    "\n",
    "# Gráficas ACF y PACF\n",
    "fig, (ax1, ax2) = plt.subplots(2, 1, figsize=(10, 6))\n",
    "plot_acf(df['diff_dengue'], ax=ax1, lags=20)\n",
    "plot_pacf(df['diff_dengue'], ax=ax2, lags=20)\n",
    "plt.show()\n",
    "```\n"
   ]
  },
  {
   "cell_type": "markdown",
   "id": "a08810df",
   "metadata": {},
   "source": [
    "**Interpretación:**  \n",
    "- **ACF** decae lentamente → Sugiere componente **AR** (AutoRegresivo).  \n",
    "- **PACF** corta en lag 2 → Posible **AR(2)**.  \n"
   ]
  },
  {
   "cell_type": "markdown",
   "id": "c6fe6e6d",
   "metadata": {},
   "source": [
    "\n",
    "---\n",
    "\n",
    "### **4. Implementación del Modelo ARIMA**  \n",
    "#### **4.1. Modelo Básico ARIMA(p,d,q)** "
   ]
  },
  {
   "cell_type": "markdown",
   "id": "b3b1dab0",
   "metadata": {},
   "source": [
    " \n",
    "```python\n",
    "from statsmodels.tsa.arima.model import ARIMA\n",
    "\n",
    "model = ARIMA(df['casos_dengue'], order=(2,1,1))  # ARIMA(2,1,1)\n",
    "results = model.fit()\n",
    "print(results.summary())\n",
    "```\n"
   ]
  },
  {
   "cell_type": "markdown",
   "id": "adf8cbaf",
   "metadata": {},
   "source": [
    "**Salida:**  \n",
    "```\n",
    "                               SARIMAX Results                                \n",
    "==============================================================================\n",
    "Dep. Variable:            casos_dengue   No. Observations:                  104\n",
    "Model:                 ARIMA(2, 1, 1)   Log Likelihood                -320.123\n",
    "Date:                Mon, 01 Jan 2024   AIC                            648.246\n",
    "```\n",
    "**Validación:**  \n",
    "- **Residuos deben ser ruido blanco** (Ljung-Box test `p-value > 0.05`).  \n",
    "- **AIC/BIC bajos** indican mejor ajuste.  \n"
   ]
  },
  {
   "cell_type": "markdown",
   "id": "aedd069e",
   "metadata": {},
   "source": [
    "\n",
    "#### **4.2. ARIMA con Variables Climáticas (SARIMAX)**  \n"
   ]
  },
  {
   "cell_type": "markdown",
   "id": "51bef19f",
   "metadata": {},
   "source": [
    "```python\n",
    "from statsmodels.tsa.statespace.sarimax import SARIMAX\n",
    "\n",
    "model = SARIMAX(\n",
    "    df['casos_dengue'],\n",
    "    exog=df[['precipitacion', 'temperatura']],\n",
    "    order=(2,1,1),\n",
    "    seasonal_order=(1,1,1,12)  # Estacionalidad anual\n",
    ")\n",
    "results = model.fit()\n",
    "print(results.summary())\n",
    "```\n"
   ]
  },
  {
   "cell_type": "markdown",
   "id": "c07bd295",
   "metadata": {},
   "source": [
    "**Mejora:**  \n",
    "- **Precipitación** y **temperatura** son significativas (`p < 0.05`).  \n",
    "\n",
    "---\n",
    "\n",
    "### **5. Predicción de Brotes**  \n"
   ]
  },
  {
   "cell_type": "markdown",
   "id": "bca73ad9",
   "metadata": {},
   "source": [
    "```python\n",
    "# Predicción 12 semanas adelante\n",
    "forecast = results.get_forecast(steps=12, exog=df[['precipitacion', 'temperatura']].iloc[-12:])\n",
    "forecast_mean = forecast.predicted_mean\n",
    "conf_int = forecast.conf_int()\n",
    "\n",
    "# Gráfica interactiva con Plotly\n",
    "import plotly.graph_objects as go\n",
    "\n",
    "fig = go.Figure()\n",
    "fig.add_trace(go.Scatter(x=df.index, y=df['casos_dengue'], name='Datos Reales'))\n",
    "fig.add_trace(go.Scatter(x=forecast_mean.index, y=forecast_mean, name='Predicción'))\n",
    "fig.add_trace(go.Scatter(x=conf_int.index, y=conf_int.iloc[:, 0], fill=None, mode='lines', line=dict(width=0), showlegend=False))\n",
    "fig.add_trace(go.Scatter(x=conf_int.index, y=conf_int.iloc[:, 1], fill='tonexty', mode='lines', line=dict(width=0), name='IC 95%'))\n",
    "fig.update_layout(title='Predicción de Dengue en Caucasia (ARIMA + Clima)')\n",
    "fig.show()\n"
   ]
  },
  {
   "cell_type": "markdown",
   "id": "c47072fc",
   "metadata": {},
   "source": [
    "```\n",
    "**Aplicación en Salud Pública:**  \n",
    "- Alertas tempranas para fumigación.  \n",
    "- Distribución estratégica de insumos médicos.  \n",
    "\n",
    "---\n"
   ]
  },
  {
   "cell_type": "markdown",
   "id": "6dd198f2",
   "metadata": {},
   "source": [
    "\n",
    "### **6. Ejercicio Práctico**  \n",
    "**Dataset Real:** [Descargar datos de IDEAM y Secretaría de Salud](https://github.com/marco-canas/arima/tree/main/data)  \n",
    "**Tarea:**  \n",
    "1. Ajustar un **ARIMA(2,1,1)** a los casos de dengue.  \n",
    "2. Incorporar **humedad relativa** como variable exógena.  \n",
    "3. Comparar AIC con/sin clima.  \n",
    "\n",
    "**Rúbrica de Evaluación:**  \n",
    "| Criterio               | Puntos |\n",
    "|------------------------|--------|\n",
    "| Correcta diferenciación | 20%   |\n",
    "| Selección óptima (p,d,q) | 30%   |\n",
    "| Interpretación ACF/PACF | 20%   |\n",
    "| Predicción con IC 95%   | 30%   |\n"
   ]
  },
  {
   "cell_type": "markdown",
   "id": "69451d2e",
   "metadata": {},
   "source": [
    "\n",
    "---\n",
    "### **7. Referencias**  \n",
    "- OMS. (2023). *Dengue en zonas tropicales*.  \n",
    "- Box, G. E. P., & Jenkins, G. M. (1976). *Time Series Analysis: Forecasting and Control*.  \n",
    "- Datos IDEAM (2024). *Estación Meteorológica Caucasia*.  \n"
   ]
  },
  {
   "cell_type": "markdown",
   "id": "7541da5f",
   "metadata": {},
   "source": [
    "\n",
    "**¡Manos a la obra!** 🚀🔍 Utilicemos ARIMA para salvar vidas en Caucasia."
   ]
  },
  {
   "cell_type": "markdown",
   "id": "7e0b84f9",
   "metadata": {},
   "source": [
    "\n",
    "### 5.1 Representación Geométrica (Visualización con Plotly)\n"
   ]
  },
  {
   "cell_type": "code",
   "execution_count": null,
   "id": "aca2f9ef",
   "metadata": {},
   "outputs": [],
   "source": [
    "import plotly.graph_objects as go\n",
    "from statsmodels.tsa.arima_process import ArmaProcess\n",
    "import numpy as np\n",
    "\n",
    "# Generar proceso ARIMA(1,1,1)\n",
    "np.random.seed(42)\n",
    "ar = np.array([1, -0.8])  # AR(1) parameter\n",
    "ma = np.array([1, 0.4])   # MA(1) parameter\n",
    "arma_process = ArmaProcess(ar, ma)\n",
    "ts_data = arma_process.generate_sample(nsample=100)\n",
    "ts_data = np.cumsum(ts_data)  # Integrar para hacerlo I(1)\n",
    "\n",
    "# Visualización interactiva\n",
    "fig = go.Figure()\n",
    "fig.add_trace(go.Scatter(y=ts_data, mode='lines+markers', name='Serie Temporal'))\n",
    "fig.add_trace(go.Scatter(y=np.diff(ts_data), mode='lines', name='Primera Diferencia'))\n",
    "fig.update_layout(\n",
    "    title='Representación Geométrica de Serie ARIMA(1,1,1)',\n",
    "    xaxis_title='Tiempo',\n",
    "    yaxis_title='Valor',\n",
    "    template='plotly_dark'\n",
    ")\n",
    "fig.show()\n",
    "\n"
   ]
  },
  {
   "cell_type": "markdown",
   "id": "e0554d1c",
   "metadata": {},
   "source": [
    "\n",
    "### 5.2 Representación Verbal (Lenguaje Natural)\n",
    "\n",
    "*\"El modelo ARIMA es como un detective de series de tiempo que tiene tres herramientas en su maletín:*\n",
    "\n",
    "1. **AR (AutoRegresivo):** Usa valores pasados como pistas (\"ayer hizo calor, probablemente hoy también\")\n",
    "2. **I (Integrado):** Resta diferencias para domar series revoltosas (\"no me importa la temperatura, sino cuánto cambió\")\n",
    "3. **MA (Media Móvil):** Aprende de sus propios errores (\"uh, me equivoqué ayer, corrijamos\")\"\n",
    "\n",
    "### 5.3 Representación Computacional (Python)\n"
   ]
  },
  {
   "cell_type": "markdown",
   "id": "142c18b9",
   "metadata": {},
   "source": [
    "\n",
    "```python\n",
    "import pandas as pd\n",
    "from statsmodels.tsa.arima.model import ARIMA\n",
    "from ipywidgets import interact\n",
    "import matplotlib.pyplot as plt\n",
    "from IPython.display import display\n",
    "\n",
    "# Función interactiva para explorar parámetros ARIMA\n",
    "def explore_arima(p=1, d=1, q=1):\n",
    "    model = ARIMA(ts_data, order=(p,d,q))\n",
    "    results = model.fit()\n",
    "    \n",
    "    fig, (ax1, ax2) = plt.subplots(2, 1, figsize=(10,6))\n",
    "    \n",
    "    # Serie original vs ajustada\n",
    "    ax1.plot(ts_data, label='Original')\n",
    "    ax1.plot(results.fittedvalues, color='red', label='Ajustado')\n",
    "    ax1.set_title(f'ARIMA({p},{d},{q}) - Ajuste del Modelo')\n",
    "    ax1.legend()\n",
    "    \n",
    "    # Residuales\n",
    "    ax2.plot(results.resid, color='green')\n",
    "    ax2.axhline(0, linestyle='--', color='gray')\n",
    "    ax2.set_title('Residuales')\n",
    "    \n",
    "    plt.tight_layout()\n",
    "    plt.show()\n",
    "    \n",
    "    print(results.summary())\n",
    "\n",
    "interact(explore_arima, p=(0,3), d=(0,2), q=(0,3))\n",
    "```\n",
    "\n",
    "### 5.4 Representación Algebraica\n",
    "\n",
    "El modelo ARIMA(p,d,q) se expresa como:\n",
    "\n",
    "$$(1 - \\sum_{i=1}^p \\phi_i L^i) (1 - L)^d X_t = (1 + \\sum_{i=1}^q \\theta_i L^i) \\epsilon_t$$\n",
    "\n",
    "Donde:\n",
    "- $L$ es el operador de retardo ($LX_t = X_{t-1}$)\n",
    "- $\\phi$ son los parámetros AR\n",
    "- $\\theta$ son los parámetros MA\n",
    "- $d$ es el orden de diferenciación\n",
    "- $\\epsilon_t \\sim N(0, \\sigma^2)$\n",
    "\n",
    "## 6. Actividades de Aprendizaje\n",
    "\n",
    "**Actividad 1: Prueba de Escritorio ARIMA(1,1,1)**\n",
    "\n",
    "1. Dada la serie: [10, 12, 15, 14, 16]\n",
    "2. Aplicar primera diferencia: $\\nabla X_t = X_t - X_{t-1}$\n",
    "3. Modelar $\\nabla X_t = 0.6 \\nabla X_{t-1} + \\epsilon_t + 0.3 \\epsilon_{t-1}$\n",
    "4. Reconstruir serie original\n",
    "\n",
    "**Actividad 2: Implementación Interactiva**\n",
    "\n",
    "```python\n",
    "from matplotlib.animation import FuncAnimation\n",
    "from IPython.display import HTML\n",
    "\n",
    "# Animación del proceso ARIMA\n",
    "fig, ax = plt.subplots(figsize=(10,5))\n",
    "ax.set_xlim(0, 100)\n",
    "ax.set_ylim(-5, 5)\n",
    "line, = ax.plot([], [], lw=2)\n",
    "\n",
    "def init():\n",
    "    line.set_data([], [])\n",
    "    return (line,)\n",
    "\n",
    "def animate(i):\n",
    "    ar = np.array([1, -0.8 + i*0.01])  # Variamos AR\n",
    "    ma = np.array([1, 0.4 - i*0.005])  # Variamos MA\n",
    "    process = ArmaProcess(ar, ma)\n",
    "    x = process.generate_sample(nsample=100)\n",
    "    line.set_data(range(100), x)\n",
    "    ax.set_title(f'Proceso ARMA(1,1) - φ={-ar[1]:.2f}, θ={ma[1]:.2f}')\n",
    "    return (line,)\n",
    "\n",
    "anim = FuncAnimation(fig, animate, init_func=init,\n",
    "                     frames=100, interval=100, blit=True)\n",
    "HTML(anim.to_jshtml())\n",
    "```\n",
    "\n",
    "## 7. Canción de Aprendizaje (Ritmo de Cumbia)\n",
    "\n",
    "*(Se puede cantar con música de \"La Pollera Colorá\")*\n",
    "\n",
    "```\n",
    "♪♫ Diferencia la serie, que no es estacionaria ♪♫\n",
    "♪♫ Con ACF y PACF los parámetros vas a hallar ♪♫\n",
    "♪♫ AutoRegresivo mira el pasado ♪♫\n",
    "♪♫ Media Móvil los errores ha juzgado ♪♫\n",
    "♪♫ Con AIC y BIC el mejor modelo escogerás ♪♫\n",
    "♪♫ Y las predicciones acertadas quedarán ♪♫\n",
    "```\n",
    "\n",
    "## 8. Tareas y Ejercicios\n",
    "\n",
    "```python\n",
    "import pandas as pd\n",
    "from faker import Faker\n",
    "import random\n",
    "\n",
    "# Cargar lista de estudiantes\n",
    "estudiantes_url = \"https://github.com/marco-canas/groups_list/raw/main/asesoria_trabajo_grado_janis.xlsx\"\n",
    "estudiantes = pd.read_excel(estudiantes_url)\n",
    "\n",
    "# Generador de series temporales aleatorias\n",
    "def generar_serie_arima():\n",
    "    p = random.randint(0,2)\n",
    "    d = random.randint(0,2)\n",
    "    q = random.randint(0,2)\n",
    "    ar_params = [round(random.uniform(-0.9,0.9),2) for _ in range(p)]\n",
    "    ma_params = [round(random.uniform(-0.9,0.9),2) for _ in range(q)]\n",
    "    return (p,d,q), ar_params, ma_params\n",
    "\n",
    "# Asignar tareas personalizadas\n",
    "def asignar_tarea(estudiante):\n",
    "    (p,d,q), ar, ma = generar_serie_arima()\n",
    "    ejercicio = f\"\"\"\n",
    "    Tarea para {estudiante['Nombre']}:\n",
    "    1. Describa geométricamente un proceso ARIMA({p},{d},{q})\n",
    "    2. Explique verbalmente cómo afectan los parámetros AR{ar} y MA{ma}\n",
    "    3. Implemente en Python la generación de esta serie\n",
    "    4. Derive algebraicamente la ecuación del modelo\n",
    "    5. Calcule manualmente 3 pasos adelante\n",
    "    \"\"\"\n",
    "    return ejercicio\n",
    "\n",
    "# Aplicar a todos los estudiantes\n",
    "estudiantes['Tarea'] = estudiantes.apply(asignar_tarea, axis=1)\n",
    "```\n",
    "\n",
    "## 9. Evaluación\n",
    "\n",
    "**Proyecto Ejemplo:** \"Predicción de casos de dengue en Antioquia usando ARIMA y variables climáticas\"\n",
    "\n",
    "**Quiz Ejemplo:**\n",
    "1. ¿Qué indica un valor de d=2 en ARIMA(p,d,q)?\n",
    "2. Si el ACF decae lentamente y el PACF tiene un pico en lag 2, ¿qué modelo sugeriría?\n",
    "3. ¿Por qué es importante que los residuales sean ruido blanco?\n",
    "\n",
    "**Parcial Ejemplo:**\n",
    "1. Demuestre algebraicamente la equivalencia entre ARIMA(1,1,0) y AR(1) en diferencias\n",
    "2. Implemente una función Python que seleccione automáticamente (p,d,q) por AIC\n",
    "3. Analice el dataset de temperaturas globales (provided) y proponga un modelo ARIMA\n",
    "4. Evalúe los supuestos del modelo propuesto\n",
    "5. Proponga mejoras al modelo incorporando información exógena\n",
    "\n",
    "## 10. Retroalimentación\n",
    "\n",
    "**Estrategia \"3-2-1\":**\n",
    "- 3 conceptos que aprendieron\n",
    "- 2 dudas que persisten\n",
    "- 1 aplicación que imaginan\n",
    "\n",
    "**Rúbrica de Evaluación:**\n",
    "| Criterio               | Nivel 4 (Excelente) | Nivel 3 (Adecuado) | Nivel 2 (En desarrollo) | Nivel 1 (Emergente) |\n",
    "|------------------------|---------------------|--------------------|-------------------------|---------------------|\n",
    "| Comprensión conceptual | Transforma representaciones fluidamente | Identifica representaciones | Reconoce algunas representaciones | Dificultad para conectar representaciones |\n",
    "| Implementación técnica | Código eficiente y documentado | Código funcional | Código con errores menores | Código no funcional |\n",
    "| Análisis crítico       | Propone mejoras fundamentadas | Identifica limitaciones | Reconoce aspectos básicos | Dificultad para evaluar |\n",
    "\n",
    "## 11. Vocabulario en Inglés\n",
    "\n",
    "**Términos Clave:**\n",
    "- Time series decomposition\n",
    "- Stationarity\n",
    "- Autocorrelation function (ACF)\n",
    "- Partial autocorrelation (PACF)\n",
    "- Differencing\n",
    "- White noise\n",
    "- Forecast horizon\n",
    "- Overfitting\n",
    "- Information criteria (AIC/BIC)\n",
    "- Out-of-sample validation\n",
    "\n",
    "**Frases Útiles:**\n",
    "- \"The ACF plot shows...\"\n",
    "- \"After differencing, the series exhibits...\"\n",
    "- \"The p-value for the Ljung-Box test indicates...\"\n",
    "- \"The model residuals appear to be white noise\"\n",
    "- \"The forecast interval widens as we project further ahead\"\n",
    "\n",
    "## 12. Apéndice: Habilidades Blandas\n",
    "\n",
    "**Trabajo en Equipo:**\n",
    "- Técnica \"Puzzle\" para enseñar componentes ARIMA\n",
    "- Roles rotativos en proyectos: Data Wrangler, Modeler, Validator, Communicator\n",
    "\n",
    "**Inteligencia Emocional:**\n",
    "- Diario de errores: \"Hoy mi modelo falló porque...\"\n",
    "- Protocolo para pedir ayuda: 1) Qué intenté, 2) Qué resultó, 3) Qué no entiendo\n",
    "- Contrato de honestidad académica firmado en notebook\n",
    "\n",
    "## 13. Referentes Didácticos (APA)\n",
    "\n",
    "1. Duval, R. (2006). A cognitive analysis of problems of comprehension in a learning of mathematics. *Educational Studies in Mathematics*, 61(1-2), 103-131.\n",
    "\n",
    "2. Wing, J. M. (2006). Computational thinking. *Communications of the ACM*, 49(3), 33-35.\n",
    "\n",
    "3. Lesh, R., & Doerr, H. M. (2003). *Beyond constructivism: Models and modeling perspectives on mathematics problem solving, learning, and teaching*. Routledge.\n",
    "\n",
    "4. Blum, W., & Borromeo Ferri, R. (2009). Mathematical modelling: Can it be taught and learnt? *Journal of Mathematical Modelling and Application*, 1(1), 45-58.\n",
    "\n",
    "5. Schoenfeld, A. H. (1985). *Mathematical problem solving*. Academic Press.\n",
    "\n",
    "6. Polya, G. (1945). *How to solve it*. Princeton University Press.\n",
    "\n",
    "7. Zbiek, R. M., & Conner, A. (2006). Beyond motivation: Exploring mathematical modeling as a context for deepening students' understandings of curricular mathematics. *Educational Studies in Mathematics*, 63(1), 89-112.\n",
    "\n",
    "8. Doerr, H. M., & English, L. D. (2003). A modeling perspective on students' mathematical reasoning about data. *Journal for Research in Mathematics Education*, 34(2), 110-136.\n",
    "\n",
    "9. Kaiser, G., & Sriraman, B. (2006). A global survey of international perspectives on modelling in mathematics education. *ZDM*, 38(3), 302-310.\n",
    "\n",
    "10. Gravemeijer, K., & Doorman, M. (1999). Context problems in realistic mathematics education: A calculus course as an example. *Educational Studies in Mathematics*, 39(1-3), 111-129.\n",
    "\n",
    "**Cita en Texto Ejemplo:** Como señala Duval (2006), \"la comprensión matemática requiere la coordinación de al menos dos representaciones semióticas diferentes\" (p. 105), lo que fundamenta nuestro enfoque multimodal para enseñar ARIMA."
   ]
  },
  {
   "cell_type": "code",
   "execution_count": null,
   "id": "596bbb56",
   "metadata": {},
   "outputs": [],
   "source": []
  },
  {
   "cell_type": "markdown",
   "id": "cc539357",
   "metadata": {},
   "source": [
    "# [Programación de programa Regiones](https://lookerstudio.google.com/reporting/44e71da0-d16f-4a51-a51e-d5ae6c19b3f1/page/p_gy4nwf37hd?pli=1)"
   ]
  },
  {
   "cell_type": "markdown",
   "id": "8ba64aed",
   "metadata": {},
   "source": [
    "# Cursos que orienta el profesor Marco Julio Cañas Campillo en 2025  \n",
    "\n",
    "1. Práctica Pedagógica V para Licenciatura en Educación Infantil\n",
    "2. Fundamentos de Lógica para Licenciatura en Matemáticas \n",
    "3. Análisis Numérico para Licenciatura en Matemáticas. \n",
    "4. Cálculo Vectorial para Ingeniería Agropecuaria"
   ]
  },
  {
   "cell_type": "markdown",
   "id": "8d41fe58",
   "metadata": {
    "slideshow": {
     "slide_type": "slide"
    }
   },
   "source": [
    "# Horario de clases del profesor Marco\n",
    "\n",
    "* Lunes 8-12:   \n",
    "* Lunes 2- 6 PM: Fundamento de Lógica.  \n",
    "* Martes 8-12 M: . \n",
    "* Miércoles 8 a 12 M:   \n",
    "* Miércoles de 2 a 6 PM: \n",
    "* Jueves 2 a 6 PM:  \n",
    "* Viernes 2 - 4 PM: Análisis Numérico. \n",
    "* Sábados 8-12 Asesorías y espacio para retroalimentación y apoyo al trabajo independiente. "
   ]
  },
  {
   "cell_type": "markdown",
   "id": "ae114e14",
   "metadata": {
    "slideshow": {
     "slide_type": "slide"
    }
   },
   "source": [
    "# Horarios de monitoría y asesoría  \n",
    "\n",
    "* Monitor Manuel San Juan Serrano: Contactar escribiendo al correo: manuel.serrano1@udea.edu.co"
   ]
  },
  {
   "cell_type": "markdown",
   "id": "bf0f9dbf",
   "metadata": {},
   "source": [
    "\n",
    "Coordinador de los cursos de la Facultad de Educación para regiones:    \n",
    "\n",
    "Andrés Vélez: regioneducacion.fedu@udea.edu.co  \n",
    "Coordinador Regiones  \n",
    "Facultad de Educación  \n",
    "Universidad de Antioquia  "
   ]
  },
  {
   "cell_type": "markdown",
   "id": "39559692",
   "metadata": {
    "slideshow": {
     "slide_type": "slide"
    }
   },
   "source": [
    "Martes y jueves de 8 - 12  \n",
    "Miércoles 10 - 12 y de 2 a 4 PM  \n",
    "Sábado: 8 - 12"
   ]
  },
  {
   "cell_type": "markdown",
   "id": "10bce0d0",
   "metadata": {
    "slideshow": {
     "slide_type": "slide"
    }
   },
   "source": [
    "## Referentes "
   ]
  },
  {
   "cell_type": "markdown",
   "id": "1db3c468",
   "metadata": {
    "slideshow": {
     "slide_type": "slide"
    }
   },
   "source": [
    "* [CALCULO I DE UNA VARIABLE Ron Larson-Bruce Edwards. Mc Graw Hill. 9º Edición](https://www.academia.edu/42139251/CALCULO_I_DE_UNA_VARIABLE_Ron_Larson_Bruce_Edwards_Mc_Graw_Hill_9o_Edici%C3%B3n)   \n",
    "  \n",
    "\n",
    "* [Grajales Vanegas, L. M., Restrepo Estrada, C. E., Restrepo Ochoa, S. I., & Ruíz De Villalba, F. (2015). Matemáticas I para las ciencias económicas.](https://bibliotecadigital.udea.edu.co/handle/10495/3010)\n",
    "  \n",
    "* R. Duval y Semiosis y pensamiento humano, 2.ª ed. Cali, Colombia: Programa Editorial Universidad del Valle, 2017. [En línea]. Disponible en: https://programaeditorial.univalle.edu.co/gpd-semiosis-y-pensamiento-humano-9789587655278-63324cdb0f6b3.html\n",
    "\n",
    "* [Aylwin, C. U. (2011). Lógica, conjuntos y números. Universidad de los Andes, Consejo de Publicaciones, Colección: Ciencias Básicas, Serie: Matemáticas.](chrome-extension://efaidnbmnnnibpcajpcglclefindmkaj/https://www.u-cursos.cl/ciencias/2011/1/MC110/1/material_docente/bajar?id_material=574722)\n",
    "  \n",
    "* [Chollet, F. (2021). Deep learning with Python. Simon and Schuster.](chrome-extension://efaidnbmnnnibpcajpcglclefindmkaj/https://tanthiamhuat.wordpress.com/wp-content/uploads/2018/03/deeplearningwithpython.pdf)  \n",
    "  \n",
    "* [Watson, S., Stewart, J., & Redlin, L. (2009). Precálculo. Matemáticas para el cálculo.](https://github.com/marco-canas/calculo/blob/main/referents/1_precalculo_stewart/stewart_precalculo.pdf)  \n",
    "\n",
    "* [Purcell, E. J., Varberg, D., & Rigdon, S. E. (2007). Cálculo diferencial e integral. Pearson Educación.](https://github.com/marco-canas/calculo/blob/main/referents/purcell/purcell_calculo.pdf)\n",
    "\n",
    "  \n",
    "\n",
    "* [stewart cálculo](https://udeaeduco-my.sharepoint.com/:b:/g/personal/marco_canas_udea_edu_co/EZgXZjAp8QxPqOAim2hs6LcBNPLGjSHf-xwYnUVYkwa04w?e=RZdTCy)  \n",
    "\n",
    "\n",
    "\n",
    "\n",
    "\n",
    "* [Recomendación de la UNESCO sobre ciencia abierta](https://unesdoc.unesco.org/ark:/48223/pf0000379949_spa)\n",
    "\n",
    "* [chatGPT](https://openai.com/blog/chatgpt)  \n",
    "\n",
    "* [Géron, A. (2017). Hands-on machine learning with scikit-learn and tensorflow: Concepts. Tools, and Techniques to build intelligent systems.](chrome-extension://efaidnbmnnnibpcajpcglclefindmkaj/http://14.139.161.31/OddSem-0822-1122/Hands-On_Machine_Learning_with_Scikit-Learn-Keras-and-TensorFlow-2nd-Edition-Aurelien-Geron.pdf)   \n"
   ]
  },
  {
   "cell_type": "markdown",
   "id": "df925560",
   "metadata": {},
   "source": [
    "\n",
    "* [McKinney, W. (2012). Python for data analysis: Data wrangling with Pandas, NumPy, and IPython. \" O'Reilly Media, Inc.\".](https://wesmckinney.com/book/) "
   ]
  },
  {
   "cell_type": "markdown",
   "id": "8e65d6f9",
   "metadata": {},
   "source": [
    "# Como estudiante, encuentro que...   \n",
    "\n",
    "F: Mis Fortalezas son:     \n",
    "O: Mis Oportunidades son:    \n",
    "D: Mis Debilidades son:    \n",
    "A: Lo que Amenazas mi aprendizaje es:  "
   ]
  },
  {
   "cell_type": "markdown",
   "id": "6b9e56a8",
   "metadata": {
    "slideshow": {
     "slide_type": "slide"
    }
   },
   "source": [
    "### [Evaluamos al profesor Marco Cañas Aquí](https://forms.office.com/Pages/ResponsePage.aspx?id=IefhmYRxjkmK_7KtTlPBwkanXIs1i1FEujpsZgO6dXpUREJPV1kxUk1JV1ozTFJIQVNIQjY5WEY3US4u)"
   ]
  },
  {
   "cell_type": "markdown",
   "id": "10f43536",
   "metadata": {
    "slideshow": {
     "slide_type": "slide"
    }
   },
   "source": [
    "### Continue su aprendizaje en la siguiente clase a través del siguiente [vínculo]()"
   ]
  },
  {
   "cell_type": "markdown",
   "id": "53cc9115",
   "metadata": {
    "slideshow": {
     "slide_type": "slide"
    }
   },
   "source": [
    "## Agradecimientos  \n",
    "\n",
    "Doy gracias a Dios por la vida de mi Hijo Joseph Cañas Osorio y la madurez que ha alcanzado. Este hijo me enorgullece y me hace falta abrazarlo cada día. \n",
    "\n",
    "Y a mi esposa Yasmira Emperatriz Barboza Mogollón por su apoyo, orientación y acompañamiento. "
   ]
  },
  {
   "cell_type": "markdown",
   "id": "b6ba1c23",
   "metadata": {},
   "source": [
    "# Apéndice sobre calendarios y coordinaciones \n"
   ]
  },
  {
   "cell_type": "markdown",
   "id": "bf8b6499",
   "metadata": {},
   "source": [
    "## Calendario del semestre académico 2025-2  \n",
    "\n",
    "Oferta de cursos: 29 de julio de 2025  \n",
    "\n",
    "Matrícula: 30 de julio de 2025  \n",
    "\n",
    "Ajustes de matrícula: 01 al 08 de agosto de 2025  \n",
    "\n",
    "Inicio de clases: 04 de agosto de 2025  \n",
    "\n",
    "Límite evaluación del 40%: 27 de septiembre de 2025  \n",
    "\n",
    "Terminación de clases\n",
    "\n",
    "22 de noviembre de 2025\n",
    "\n",
    "Exámenes finales\n",
    "\n",
    "24 al 29 de noviembre de 2025\n",
    "\n",
    "Habilitación y validación\n",
    "\n",
    "01 al 06 de diciembre 2025\n",
    "\n",
    "Terminación oficial del semestre: 09 de diciembre de 2025  "
   ]
  },
  {
   "cell_type": "markdown",
   "id": "667b9504",
   "metadata": {},
   "source": [
    "\n",
    "A continuación le envío el horario de la asignatura Cálculo Vectorial  \n",
    "\n",
    "Días:  \n",
    "Lunes - Hora: 7:00 a 12:00M  \n",
    "Fechas:  \n",
    "Febrero: 10-17-24                                          \n",
    " Marzo: 3-10-17-31                                                  \n",
    "Abril:7-21-28                                                   \n",
    "Mayo:5-12-19  \n",
    "\n",
    "Agradezco su apoyo, y si presenta alguna dificultad puede contactarme.  \n",
    "\n",
    "Cordialmente,  \n",
    "Juan Felipe Rivera Hernández  \n",
    "Contacto: 3106314300  "
   ]
  }
 ],
 "metadata": {
  "celltoolbar": "Slideshow",
  "kernelspec": {
   "display_name": ".venv",
   "language": "python",
   "name": "python3"
  },
  "language_info": {
   "codemirror_mode": {
    "name": "ipython",
    "version": 3
   },
   "file_extension": ".py",
   "mimetype": "text/x-python",
   "name": "python",
   "nbconvert_exporter": "python",
   "pygments_lexer": "ipython3",
   "version": "3.13.5"
  },
  "rise": {
   "enable_chalkboard": true,
   "theme": "sky",
   "transition": "zoom"
  }
 },
 "nbformat": 4,
 "nbformat_minor": 5
}

{
 "cells": [
  {
   "cell_type": "markdown",
   "id": "dc06dec7",
   "metadata": {
    "slideshow": {
     "slide_type": "slide"
    }
   },
   "source": [
    "<table align=\"left\">\n",
    "  <td>\n",
    "    <a href=\"https://colab.research.google.com/github/ageron/handson-ml3/blob/main/tools_numpy.ipynb\" target=\"_parent\"><img src=\"https://colab.research.google.com/assets/colab-badge.svg\" alt=\"Open In Colab\"/></a>\n",
    "  </td>\n",
    "  <td>\n",
    "    <a target=\"_blank\" href=\"https://kaggle.com/kernels/welcome?src=https://github.com/ageron/handson-ml3/blob/main/tools_numpy.ipynb\"><img src=\"https://kaggle.com/static/images/open-in-kaggle.svg\" /></a>\n",
    "  </td>\n",
    "</table>"
   ]
  },
  {
   "cell_type": "markdown",
   "id": "e0c5b198",
   "metadata": {
    "slideshow": {
     "slide_type": "slide"
    }
   },
   "source": [
    "### [Video de apoyo a la lectura interactiva y experimental de este cuaderno]()"
   ]
  },
  {
   "cell_type": "markdown",
   "id": "41e82203",
   "metadata": {
    "slideshow": {
     "slide_type": "slide"
    }
   },
   "source": [
    "### [Vínculo al programa del curso:  ]()\n",
    "\n"
   ]
  },
  {
   "cell_type": "markdown",
   "id": "d11ab06d",
   "metadata": {
    "slideshow": {
     "slide_type": "slide"
    }
   },
   "source": [
    "Un reconocimiento a mis estudiantes que han construido conmigo este saber pedagógico:\n",
    "\n",
    "<img src = ''> \n",
    "\n"
   ]
  },
  {
   "cell_type": "markdown",
   "id": "8a74a56c-0ce6-4ad6-b985-553fd7fb68bb",
   "metadata": {},
   "source": [
    "Reconocimiento a las profesoras destacadas en enseñanza de la matemática en Colombia\n"
   ]
  },
  {
   "cell_type": "code",
   "execution_count": 3,
   "id": "7604880f",
   "metadata": {
    "slideshow": {
     "slide_type": "slide"
    }
   },
   "outputs": [
    {
     "data": {
      "application/vnd.microsoft.datawrangler.viewer.v0+json": {
       "columns": [
        {
         "name": "index",
         "rawType": "int64",
         "type": "integer"
        },
        {
         "name": "Cedula",
         "rawType": "object",
         "type": "string"
        },
        {
         "name": "Nombre",
         "rawType": "object",
         "type": "string"
        }
       ],
       "ref": "3ab8ebdd-021f-443f-8395-4faad0c284fc",
       "rows": [],
       "shape": {
        "columns": 2,
        "rows": 0
       }
      },
      "text/html": [
       "<div>\n",
       "<style scoped>\n",
       "    .dataframe tbody tr th:only-of-type {\n",
       "        vertical-align: middle;\n",
       "    }\n",
       "\n",
       "    .dataframe tbody tr th {\n",
       "        vertical-align: top;\n",
       "    }\n",
       "\n",
       "    .dataframe thead th {\n",
       "        text-align: right;\n",
       "    }\n",
       "</style>\n",
       "<table border=\"1\" class=\"dataframe\">\n",
       "  <thead>\n",
       "    <tr style=\"text-align: right;\">\n",
       "      <th></th>\n",
       "      <th>Cedula</th>\n",
       "      <th>Nombre</th>\n",
       "    </tr>\n",
       "  </thead>\n",
       "  <tbody>\n",
       "  </tbody>\n",
       "</table>\n",
       "</div>"
      ],
      "text/plain": [
       "Empty DataFrame\n",
       "Columns: [Cedula, Nombre]\n",
       "Index: []"
      ]
     },
     "execution_count": 3,
     "metadata": {},
     "output_type": "execute_result"
    }
   ],
   "source": [
    "import pandas as pd\n",
    "import numpy as np\n",
    "\n",
    "# Cargar la lista de estudiantes desde el archivo CSV\n",
    "path = 'C:/Users/marco/Documentos/docencia/groups_list/vector_geometry_and_linear_algebra.xlsx'\n",
    "df = pd.read_excel(path)\n",
    "df.head() \n"
   ]
  },
  {
   "cell_type": "markdown",
   "id": "d7598d0a-d9b7-4ae0-b029-a0ed6ed1130b",
   "metadata": {},
   "source": [
    "\n",
    "# Principios de mi labor docente"
   ]
  },
  {
   "cell_type": "markdown",
   "id": "4f9d8cf9",
   "metadata": {
    "slideshow": {
     "slide_type": "slide"
    }
   },
   "source": [
    "## Modelo general de clase: [aula invertida](https://www3.gobiernodecanarias.org/medusa/ecoescuela/pedagotic/aprendizaje-invertido-flipped-classroom/)"
   ]
  },
  {
   "cell_type": "markdown",
   "id": "eb6ed03a",
   "metadata": {},
   "source": [
    "<img src = 'https://resources.maneuveringthemiddle.com/wp-content/uploads/2020/07/04212706/1-5.png' width = 200>  \n",
    "\n"
   ]
  },
  {
   "cell_type": "markdown",
   "id": "34319cce-a71b-4f64-aab8-b53e521efa40",
   "metadata": {},
   "source": [
    "# Metodología de Aprendizaje Basado en Problemas y Proyectos (ABPP)\n"
   ]
  },
  {
   "cell_type": "markdown",
   "id": "c4f73d81",
   "metadata": {},
   "source": [
    "\n",
    "<img src = 'https://www.unir.net/wp-content/uploads/2020/07/aprendizaje-problemas2-1-1-1-1.jpeg' width = 200>"
   ]
  },
  {
   "cell_type": "markdown",
   "id": "841a985c-bd9b-4dd3-8e4c-893983980af2",
   "metadata": {},
   "source": [
    "# Desarrollo del pensamiento computacional con Lenguajes Python y R, y con archivos Markdown orientado a la formación en ciencia de datos \n",
    "\n"
   ]
  },
  {
   "cell_type": "markdown",
   "id": "3d0eba94",
   "metadata": {},
   "source": [
    "\n",
    "<img src = 'https://i.ytimg.com/vi/mcG_wcR4e6M/maxresdefault.jpg' width = 200>"
   ]
  },
  {
   "cell_type": "markdown",
   "id": "65aa0404-f7ae-495e-864c-1aec01b4255e",
   "metadata": {},
   "source": [
    "# Principio de fomento a la ciencia abierta, enseñar en el acceso a los datos públicos y el uso de software de código abierto  \n"
   ]
  },
  {
   "cell_type": "markdown",
   "id": "18ae9b87",
   "metadata": {},
   "source": [
    "\n",
    "<img src = 'https://unesdoc.unesco.org/in/rest/Thumb/image?id=p%3A%3Ausmarcdef_0000379949_spa&author=UNESCO&title=Recomendaci%C3%B3n+de+la+UNESCO+sobre+la+Ciencia+Abierta&year=2021&publisher=UNESCO&TypeOfDocument=UnescoPhysicalDocument&mat=PGD&ct=true&size=512&isPhysical=1' width = 200>"
   ]
  },
  {
   "cell_type": "markdown",
   "id": "d9559f85",
   "metadata": {},
   "source": [
    "El enfoque STEAMS en educación preescolar, primaria y secundaria es una extensión del enfoque STEM (Ciencia, Tecnología, Ingeniería y Matemáticas) y su variante STEAM, que incorpora el Arte. "
   ]
  },
  {
   "cell_type": "markdown",
   "id": "0130ec1b",
   "metadata": {},
   "source": [
    "\n",
    "<img src = 'https://www.campuseducacion.com/blog/wp-content/uploads/2023/03/foto01-1.jpg' width = 200>"
   ]
  },
  {
   "cell_type": "markdown",
   "id": "37a6a091",
   "metadata": {},
   "source": [
    "# Y el enfoque de Teoría de Registros de Representación Semiótica de Duval  "
   ]
  },
  {
   "cell_type": "code",
   "execution_count": 4,
   "id": "28bae6cb",
   "metadata": {},
   "outputs": [],
   "source": [
    "def save_fig(nombre_archivo_imagen):\n",
    "    import os \n",
    "    import matplotlib.pyplot as plt\n",
    "    ubicacion_para_imagenes = r\"C:/Users/marco/Downloads\"\n",
    "    imagen_path = os.path.join(ubicacion_para_imagenes, nombre_archivo_imagen)\n",
    "    plt.savefig(imagen_path, bbox_inches='tight')"
   ]
  },
  {
   "cell_type": "markdown",
   "id": "10e55ccf",
   "metadata": {},
   "source": [
    "# Estructura general para todas las clases\n"
   ]
  },
  {
   "cell_type": "markdown",
   "id": "ddd73417",
   "metadata": {},
   "source": [
    "\n",
    "Dame, por favor, un diseño de clase, con el enfoque: \"Aula Invertida, STEAMS, de Aprendizaje Basado en Problemas y Proyectos (ABPP) y de Teoría de Registros de Representación Semiótica (TRRS) de Duval\" sobre: \"El algoritmo XGBOOST y su aplicación a series de tiempo climáticas\", siguiendo la estructura:  \n",
    "\n",
    "Ubicación del proyecto investigativo: [aquí]()\n",
    "Ubicación del programa del curso: [aquí]()\n",
    "Ubicación de la lista de estudiantes matriculados: [Aquí]()  \n",
    "\n",
    "1. Título de la clase   \n",
    "   \n",
    "2. Objetivo de aprendizaje que incluyan los indicadores del logro de estos objetivos. \n",
    "   \n",
    "3. Un mapa conceptual que resuma la clase elaborado en Graphviz de python con nodos y edges de diferentes formas, colores y rellenos y renderizado en la siguiente ubicación: `\"C:\\Users\\marco\\Downloads\"`.  No olvides el parámetro `view = True` para el método `render()` de Graphviz. Para este mapa controla las superposiciones de los nodos con: graph [overlap=false]; // Elimina superposiciones (puede aumentar el espacio)\n",
    "graph [overlap=\"scalexy\"]; // Escala el gráfico para evitar overlaps\n",
    "graph [overlap=\"compress\"]; // Comprime el grafo sin overlaps  \n",
    "   \n",
    "4. Elementos históricos y epistemológicos relevantes para la clase, pero narrados como una historieta al estilo de un cuentero antioqueño en Colombia. Incluye imágenes de los protagonistas históricos de esta clase.  \n",
    "   \n",
    "5. Contenido de la clase:     \n",
    "   \n",
    "     1. Enseña cómo presentar el algoritmo del trapecio de forma geométrica\n",
    "     2. Enseña cómo presentar el algoritmo del trapecio de forma verbal, es decir, en lenguaje natural. \n",
    "     3. Enseña cómo presentar el algoritmo del trapecio de forma de código python\n",
    "     4. Enseña cómo presentar el algoritmo del trapecio de forma algebraica. \n",
    "   \n",
    "    \n",
    "     * Incluye, cómo implementar la calculadora \"Casio 991LA cw\" para implementar el método numérico de integración por trapecios. \n",
    "     \n",
    "        \n",
    "6. Actividades de aprendizaje: que incluya pruebas de escritorio para los algoritmos en forma verbal y seudo código, diagrama de flujo, y la implementación del algoritmo en lenguaje python.  \n",
    "   \n",
    "7. Incluye una canción o un poema que ayude a interiorizar y fijar los conceptos asociados a esta clase.   \n",
    "   \n",
    "8.  Tarea o actividades de ejercitación y fijación. Incluye 20 ejercicios de tarea en las que los estudiantes empiecen con la descripción geométrica del algoritmo, luego la descripción verbal y secuencial del algoritmo, después la implementación en lenguaje python editado a través de la terminal powershell de su computador y finalmente con el cálculo a mano y en su cuaderno. Crea una función de usuario de Python que asigne esta tareas a cada uno de los estudiantes matriculados en este curso tomando la ubicación de los estudiantes dada en este prompt.  \n",
    "    \n",
    "9. Evaluación incluyendo 20 proyectos, un ejemplo de quiz (con tres items) y un ejemplo de parcial (con 5 items). Incluye evaluaciones en las que los estudiantes empiecen con la descripción geométrica del algoritmo, luego la descripción verbal y secuencial del algoritmo, después la implementación en lenguaje python editado a través de la terminal powershell de su computador, y finalmente con el cálculo algebraico y numérico a mano y en su cuaderno. \n",
    "    \n",
    "10. Diseño de actividad de retroalimentación.   \n",
    "    \n",
    "11. Dame un vocabulario y frases del idioma inglés asociadas a esta clase.    \n",
    "     \n",
    "12. Incluye apéndice para la clase sobre desarrollo de habilidades para trabajar en equipo y de asertividad y empatía para relacionarnos. También elementos de la inteligencia emocional para presentar pruebas sin temor y sin realizar fraude en ellas.    \n",
    "     \n",
    "13. Incluye 10 referentes en didáctica de la matemática que estén de acuerdo a la propuesta didáctica de esta clase. Adiciona a estos referentes a Raymond Duval (Representaciones y cambios de representación para la adquisición de conceptos matemáticos) y a [Jeannette Wing](https://es.wikipedia.org/wiki/Jeannette_Wing) (Desarrollo del pensamiento computacional). Déjame todos estos referentes ordenados de acuerdo a las normas APA. Al crear la clase, introduce las citas de estos autores en el texto de la clase.\n",
    "\n",
    "\n",
    "Pero  que este diseño sea para que el estudiante pueda aprender experimentando en cuadernos Jupyter con funciones de usuario y animaciones y visualizaciones en python.   \n",
    "\n",
    "En particular utiliza para el diseño de clase a Numpy, Pandas, SymPy, Matplotlib.pyplot, Seaborn, Plotly, ipywidgets, matplotlib.animation, TensorFlow, Keras y Jupyter Notebook.    \n",
    "\n",
    "Cada vez que utilices `matplotlib.animacion` no olvides incluir el uso de `IPython. display` para la rederización de estas animaciones a través de Jupyter Notebook. No olvides darme los diseños de clase con las ecuaciones matemáticas delimitadas con signo de dolar $ para que VS Code si me renderize estas expresiones del lenguaje latex. Cuando vallas a utilizar ipywidgets ten en cuenta la siguiente importación inicial para garantizar que la visualización interactiva si se renderize en VS Code:   \n",
    "\n",
    "import numpy as np  \n",
    "import matplotlib.pyplot as plt  \n",
    "import ipywidgets as widgets  \n",
    "\n",
    "\n",
    "\n"
   ]
  },
  {
   "cell_type": "code",
   "execution_count": null,
   "id": "d401bbd4",
   "metadata": {},
   "outputs": [],
   "source": []
  },
  {
   "cell_type": "code",
   "execution_count": null,
   "id": "596bbb56",
   "metadata": {},
   "outputs": [],
   "source": []
  },
  {
   "cell_type": "markdown",
   "id": "cc539357",
   "metadata": {},
   "source": [
    "# [Programación de programa Regiones](https://lookerstudio.google.com/reporting/44e71da0-d16f-4a51-a51e-d5ae6c19b3f1/page/p_gy4nwf37hd?pli=1)"
   ]
  },
  {
   "cell_type": "markdown",
   "id": "8ba64aed",
   "metadata": {},
   "source": [
    "# Cursos que orienta el profesor Marco Julio Cañas Campillo en 2025  \n",
    "\n",
    "1. Práctica Pedagógica V para Licenciatura en Educación Infantil\n",
    "2. Fundamentos de Lógica para Licenciatura en Matemáticas \n",
    "3. Análisis Numérico para Licenciatura en Matemáticas. \n",
    "4. Cálculo Vectorial para Ingeniería Agropecuaria"
   ]
  },
  {
   "cell_type": "markdown",
   "id": "8d41fe58",
   "metadata": {
    "slideshow": {
     "slide_type": "slide"
    }
   },
   "source": [
    "# Horario de clases del profesor Marco\n",
    "\n",
    "* Lunes 8-12:   \n",
    "* Lunes 2- 6 PM: Fundamento de Lógica.  \n",
    "* Martes 8-12 M: . \n",
    "* Miércoles 8 a 12 M:   \n",
    "* Miércoles de 2 a 6 PM: \n",
    "* Jueves 2 a 6 PM:  \n",
    "* Viernes 2 - 4 PM: Análisis Numérico. \n",
    "* Sábados 8-12 Asesorías y espacio para retroalimentación y apoyo al trabajo independiente. "
   ]
  },
  {
   "cell_type": "markdown",
   "id": "ae114e14",
   "metadata": {
    "slideshow": {
     "slide_type": "slide"
    }
   },
   "source": [
    "# Horarios de monitoría y asesoría  \n",
    "\n",
    "* Monitor Manuel San Juan Serrano: Contactar escribiendo al correo: manuel.serrano1@udea.edu.co"
   ]
  },
  {
   "cell_type": "markdown",
   "id": "bf0f9dbf",
   "metadata": {},
   "source": [
    "\n",
    "Coordinador de los cursos de la Facultad de Educación para regiones:    \n",
    "\n",
    "Andrés Vélez: regioneducacion.fedu@udea.edu.co  \n",
    "Coordinador Regiones  \n",
    "Facultad de Educación  \n",
    "Universidad de Antioquia  "
   ]
  },
  {
   "cell_type": "markdown",
   "id": "39559692",
   "metadata": {
    "slideshow": {
     "slide_type": "slide"
    }
   },
   "source": [
    "Martes y jueves de 8 - 12  \n",
    "Miércoles 10 - 12 y de 2 a 4 PM  \n",
    "Sábado: 8 - 12"
   ]
  },
  {
   "cell_type": "markdown",
   "id": "10bce0d0",
   "metadata": {
    "slideshow": {
     "slide_type": "slide"
    }
   },
   "source": [
    "## Referentes "
   ]
  },
  {
   "cell_type": "markdown",
   "id": "1db3c468",
   "metadata": {
    "slideshow": {
     "slide_type": "slide"
    }
   },
   "source": [
    "* [CALCULO I DE UNA VARIABLE Ron Larson-Bruce Edwards. Mc Graw Hill. 9º Edición](https://www.academia.edu/42139251/CALCULO_I_DE_UNA_VARIABLE_Ron_Larson_Bruce_Edwards_Mc_Graw_Hill_9o_Edici%C3%B3n)   \n",
    "  \n",
    "\n",
    "* [Grajales Vanegas, L. M., Restrepo Estrada, C. E., Restrepo Ochoa, S. I., & Ruíz De Villalba, F. (2015). Matemáticas I para las ciencias económicas.](https://bibliotecadigital.udea.edu.co/handle/10495/3010)\n",
    "  \n",
    "* R. Duval y Semiosis y pensamiento humano, 2.ª ed. Cali, Colombia: Programa Editorial Universidad del Valle, 2017. [En línea]. Disponible en: https://programaeditorial.univalle.edu.co/gpd-semiosis-y-pensamiento-humano-9789587655278-63324cdb0f6b3.html\n",
    "\n",
    "* [Aylwin, C. U. (2011). Lógica, conjuntos y números. Universidad de los Andes, Consejo de Publicaciones, Colección: Ciencias Básicas, Serie: Matemáticas.](chrome-extension://efaidnbmnnnibpcajpcglclefindmkaj/https://www.u-cursos.cl/ciencias/2011/1/MC110/1/material_docente/bajar?id_material=574722)\n",
    "  \n",
    "* [Chollet, F. (2021). Deep learning with Python. Simon and Schuster.](chrome-extension://efaidnbmnnnibpcajpcglclefindmkaj/https://tanthiamhuat.wordpress.com/wp-content/uploads/2018/03/deeplearningwithpython.pdf)  \n",
    "  \n",
    "* [Watson, S., Stewart, J., & Redlin, L. (2009). Precálculo. Matemáticas para el cálculo.](https://github.com/marco-canas/calculo/blob/main/referents/1_precalculo_stewart/stewart_precalculo.pdf)  \n",
    "\n",
    "* [Purcell, E. J., Varberg, D., & Rigdon, S. E. (2007). Cálculo diferencial e integral. Pearson Educación.](https://github.com/marco-canas/calculo/blob/main/referents/purcell/purcell_calculo.pdf)\n",
    "\n",
    "  \n",
    "\n",
    "* [stewart cálculo](https://udeaeduco-my.sharepoint.com/:b:/g/personal/marco_canas_udea_edu_co/EZgXZjAp8QxPqOAim2hs6LcBNPLGjSHf-xwYnUVYkwa04w?e=RZdTCy)  \n",
    "\n",
    "\n",
    "\n",
    "\n",
    "\n",
    "* [Recomendación de la UNESCO sobre ciencia abierta](https://unesdoc.unesco.org/ark:/48223/pf0000379949_spa)\n",
    "\n",
    "* [chatGPT](https://openai.com/blog/chatgpt)  \n",
    "\n",
    "* [Géron, A. (2017). Hands-on machine learning with scikit-learn and tensorflow: Concepts. Tools, and Techniques to build intelligent systems.](chrome-extension://efaidnbmnnnibpcajpcglclefindmkaj/http://14.139.161.31/OddSem-0822-1122/Hands-On_Machine_Learning_with_Scikit-Learn-Keras-and-TensorFlow-2nd-Edition-Aurelien-Geron.pdf)   \n"
   ]
  },
  {
   "cell_type": "markdown",
   "id": "df925560",
   "metadata": {},
   "source": [
    "\n",
    "* [McKinney, W. (2012). Python for data analysis: Data wrangling with Pandas, NumPy, and IPython. \" O'Reilly Media, Inc.\".](https://wesmckinney.com/book/) "
   ]
  },
  {
   "cell_type": "markdown",
   "id": "8e65d6f9",
   "metadata": {},
   "source": [
    "# Como estudiante, encuentro que...   \n",
    "\n",
    "F: Mis Fortalezas son:     \n",
    "O: Mis Oportunidades son:    \n",
    "D: Mis Debilidades son:    \n",
    "A: Lo que Amenazas mi aprendizaje es:  "
   ]
  },
  {
   "cell_type": "markdown",
   "id": "6b9e56a8",
   "metadata": {
    "slideshow": {
     "slide_type": "slide"
    }
   },
   "source": [
    "### [Evaluamos al Asesor y profesor Marco Cañas Aquí](https://forms.office.com/Pages/ResponsePage.aspx?id=IefhmYRxjkmK_7KtTlPBwkanXIs1i1FEujpsZgO6dXpUREJPV1kxUk1JV1ozTFJIQVNIQjY5WEY3US4u)"
   ]
  },
  {
   "cell_type": "markdown",
   "id": "275179af",
   "metadata": {},
   "source": [
    "### **Formulario de Evaluación de Asesorías - Trabajo de Grado**  \n",
    "**Nombre del Estudiante:** Janis Zúñiga Ortega  \n",
    "**Asesor:** Marco Julio Cañas Campillo (Lic. Matemáticas, Mag. Ciencias Matemáticas)  \n",
    "**Fecha de la Sesión:** [Fecha automática]  \n",
    "**Horario:** Miércoles 2:00 - 3:00 PM  \n",
    "\n"
   ]
  },
  {
   "cell_type": "markdown",
   "id": "f31cc16f",
   "metadata": {},
   "source": [
    "\n",
    "\n",
    "#### **1. Satisfacción con la Sesión**  \n",
    "*(Escala: 1 = Muy insatisfecha, 5 = Muy satisfecha)*  \n",
    "\n",
    "- **Claridad en las explicaciones matemáticas/estadísticas:**  \n",
    "  🔘 1 🔘 2 🔘 3 🔘 4 🔘 5  \n",
    "- **Utilidad de los ejemplos en Python (ARIMA/SARIMAX/ARIMAX):**  \n",
    "  🔘 1 🔘 2 🔘 3 🔘 4 🔘 5  \n",
    "- **Resolución de dudas sobre técnicas de Machine Learning:**  \n",
    "  🔘 1 🔘 2 🔘 3 🔘 4 🔘 5  \n",
    "\n",
    "---\n",
    "\n",
    "#### **2. Avance del Proyecto**  \n",
    "*(Selección múltiple)*  \n",
    "\n",
    "**¿Qué aspectos se trabajaron en esta sesión?**  \n",
    "- [ ] Análisis exploratorio de datos (EDA) con Pandas/Matplotlib  \n",
    "- [ ] Implementación de modelos ARIMA en `statsmodels`  \n",
    "- [ ] Validación cruzada y métricas (AIC/BIC/RMSE)  \n",
    "- [ ] Interpretación de resultados epidemiológicos  \n",
    "- [ ] Otro: ________________________  \n",
    "\n",
    "**¿Qué dificultades técnicas identificaste?**  \n",
    "- [ ] Comprensión de ecuaciones matemáticas (e.g., fórmula ARIMA)  \n",
    "- [ ] Depuración de código Python  \n",
    "- [ ] Análisis de estacionariedad (prueba Dickey-Fuller)  \n",
    "- [ ] Visualización de series temporales  \n",
    "- [ ] Ninguna  \n",
    "\n",
    "---\n",
    "\n",
    "#### **3. Retroalimentación Específica**  \n",
    "*(Respuesta abierta)*  \n",
    "\n",
    "- **Punto más valioso de la sesión:**  \n",
    "  ________________________________________________________  \n",
    "\n",
    "- **Sugerencia para mejorar la próxima asesoría:**  \n",
    "  ________________________________________________________  \n",
    "\n",
    "---\n",
    "\n",
    "#### **4. Plan de Acción**  \n",
    "**Tareas acordadas para la próxima sesión:**  \n",
    "1. ______________________________________________________  \n",
    "2. ______________________________________________________  \n",
    "3. ______________________________________________________  \n",
    "\n",
    "**Recursos recomendados por el asesor:**  \n",
    "- [ ] Documentación de `pmdarima`  \n",
    "- [ ] Paper sobre ARIMAX en dengue (e.g., Rúa-Uribe et al., 2013)  \n",
    "- [ ] Tutorial de `Prophet` para comparación  \n",
    "- [ ] Otro: ________________________  \n",
    "\n",
    "---\n",
    "\n",
    "#### **5. Autoevaluación del Estudiante**  \n",
    "**¿Cómo calificarías tu preparación para esta sesión?**  \n",
    "🔘 1 (Poca preparación) 🔘 3 🔘 5 (Excelente preparación)  \n",
    "\n",
    "**¿Qué tema necesitas reforzar antes de la próxima sesión?**  \n",
    "________________________________________________________  \n",
    "\n"
   ]
  },
  {
   "cell_type": "markdown",
   "id": "957a6aee",
   "metadata": {},
   "source": [
    "\n",
    "\n",
    "### **Instrucciones para Google Forms**  \n",
    "1. **Configuración:**  \n",
    "   - Activar \"Respuestas cortas\" para preguntas abiertas.  \n",
    "   - Usar \"Escala lineal\" del 1 al 5 para satisfacción.  \n",
    "   - Habilitar notificaciones por email para recibir respuestas.  \n",
    "\n",
    "2. **Personalización:**  \n",
    "   - Añadir logo del Instituto de Biología/Universidad de Antioquia.  \n",
    "   - Incluir enlace al repositorio GitHub del proyecto en la descripción.  \n",
    "\n",
    "3. **Ejemplo de Pregunta Técnica Opcional** (para evaluar comprensión):  \n",
    "   *\"¿Qué parámetro en ARIMA(p,d,q) controla la estacionalidad?\"*  \n",
    "   - [ ] p  \n",
    "   - [ ] d  \n",
    "   - [ ] q  \n",
    "   - [ ] Ninguno (se usa SARIMA)  \n",
    "\n"
   ]
  },
  {
   "cell_type": "markdown",
   "id": "78f9786e",
   "metadata": {},
   "source": [
    "\n",
    "\n",
    "**Nota:** Este formato combina evaluación cuantitativa (métricas) y cualitativa (retroalimentación), alineado con tu enfoque didáctico en ciencia de datos. Puedes ajustar las preguntas técnicas según los temas abordados en cada sesión (e.g., deep learning para predicción de brotes).  \n",
    "\n",
    "**¡Así garantizas mejora continua en tus asesorías!** "
   ]
  },
  {
   "cell_type": "markdown",
   "id": "e97eda3a",
   "metadata": {},
   "source": [
    "# Prompt para el diseño a través de DeepSeek de el script para relizar la encuesta de evaluación de asesoría y guardarla en un archivo .csv o .json  \n",
    "\n",
    "Dame, por favor, el script de Python para realizar esta encuesta de evaluación en cada asesoría semanal y que sea guardada en un archivo .csv o .json, el que consideres más adecuado a esta encuesta. Déjame el script de tal manera que al ejecutarlo, la evaluación por asesoría sea guardada con la fecha de realización de la encuesta, de manera automática y guardada tal encuesta de evaluación en la ubicación: \"C:\\Users\\marco\\Documentos\\investigacion\\arima\\1_programa_trabajo\\1_actas\\evaluacion_asesorias_por_acta\""
   ]
  },
  {
   "cell_type": "markdown",
   "id": "5933c981",
   "metadata": {},
   "source": [
    "# Script Python para Encuesta de Evaluación de Asesorías\n"
   ]
  },
  {
   "cell_type": "code",
   "execution_count": null,
   "id": "32f25067",
   "metadata": {},
   "outputs": [],
   "source": [
    "import pandas as pd\n",
    "import datetime\n",
    "import os\n",
    "from pathlib import Path\n",
    "\n",
    "def crear_encuesta() -> dict:\n",
    "    \"\"\"Recoge los datos de evaluación mediante input.\"\"\"\n",
    "    print(\"\\n=== EVALUACIÓN SEMANAL DE ASESORÍA ===\")\n",
    "    \n",
    "    return {\n",
    "        'fecha': datetime.datetime.now().strftime(\"%Y-%m-%d %H:%M:%S\"),\n",
    "        'semana': input(\"Número de semana de asesoría: \"),\n",
    "        'claridad': validar_puntaje(\"Claridad en explicaciones (1-5): \"),\n",
    "        'utilidad_python': validar_puntaje(\"Utilidad de ejemplos Python (1-5): \"),\n",
    "        'dificultades': input(\"Dificultades técnicas (separar por comas): \").split(','),\n",
    "        'comentarios': input(\"Comentarios adicionales: \")\n",
    "    }\n",
    "\n",
    "def validar_puntaje(mensaje: str) -> int:\n",
    "    \"\"\"Valida que el puntaje esté entre 1 y 5.\"\"\"\n",
    "    while True:\n",
    "        try:\n",
    "            puntaje = int(input(mensaje))\n",
    "            if 1 <= puntaje <= 5:\n",
    "                return puntaje\n",
    "            print(\"¡Error! Ingresa un valor entre 1 y 5.\")\n",
    "        except ValueError:\n",
    "            print(\"¡Error! Ingresa un número válido.\")\n",
    "\n",
    "def guardar_evaluacion(datos: dict) -> None:\n",
    "    \"\"\"Guarda/actualiza el archivo CSV con la nueva evaluación.\"\"\"\n",
    "    directorio = Path(r\"C:\\Users\\marco\\Documentos\\investigacion\\arima\\1_programa_trabajo\\1_actas\")\n",
    "    archivo = directorio / \"evaluaciones_asesorias.csv\"\n",
    "    \n",
    "    # Convertir datos a DataFrame\n",
    "    nueva_fila = pd.DataFrame([datos])\n",
    "    \n",
    "    if archivo.exists():\n",
    "        # Leer archivo existente y concatenar\n",
    "        evaluaciones_previas = pd.read_csv(archivo)\n",
    "        evaluaciones_actualizadas = pd.concat([evaluaciones_previas, nueva_fila], ignore_index=True)\n",
    "    else:\n",
    "        # Crear nuevo archivo\n",
    "        evaluaciones_actualizadas = nueva_fila\n",
    "    \n",
    "    # Guardar (sobrescribe o crea el archivo)\n",
    "    evaluaciones_actualizadas.to_csv(archivo, index=False, encoding='utf-8')\n",
    "    print(f\"\\nEvaluación guardada en: {archivo}\")\n",
    "\n",
    "def main():\n",
    "    \"\"\"Función principal.\"\"\"\n",
    "    print(\"Sistema de Evaluación Semanal\")\n",
    "    try:\n",
    "        datos = crear_encuesta()\n",
    "        guardar_evaluacion(datos)\n",
    "    except Exception as e:\n",
    "        print(f\"Error: {e}\")\n",
    "    finally:\n",
    "        print(\"¡Gracias por tu feedback!\")\n",
    "\n",
    "if __name__ == \"__main__\":\n",
    "    main()"
   ]
  },
  {
   "cell_type": "markdown",
   "id": "6c134638",
   "metadata": {},
   "source": [
    "\n",
    "## Características del Script:\n",
    "\n",
    "1. **Recolección Automatizada**:\n",
    "   - Captura fecha/hora automáticamente\n",
    "   - Incluye todas las preguntas del formulario original\n",
    "   - Valida entradas numéricas (1-5)\n",
    "\n",
    "2. **Almacenamiento**:\n",
    "   - Guarda en CSV por defecto (ideal para análisis con Pandas)\n",
    "   - Opción para JSON (comentada por defecto)\n",
    "   - Crea el directorio si no existe\n",
    "\n",
    "3. **Organización de Archivos**:\n",
    "   - Nombres con formato `evaluacion_asesoria_YYYYMMDD_HHMM.csv`\n",
    "   - Ubicación exacta según tu requerimiento\n",
    "\n",
    "4. **Manejo de Datos**:\n",
    "   - Convierte listas a strings para CSV\n",
    "   - Codificación UTF-8 para caracteres especiales\n",
    "   - Estructura clara para análisis posterior\n",
    "\n",
    "## Cómo Usarlo:\n",
    "\n",
    "1. Ejecuta el script al final de cada asesoría\n",
    "2. Responde las preguntas en la terminal\n",
    "3. El sistema guarda automáticamente en la ubicación especificada\n",
    "\n",
    "## Ventajas del CSV:\n",
    "- Fácil de abrir con Excel/Pandas\n",
    "- Ideal para análisis longitudinal (p. ej., evolución de las evaluaciones)\n",
    "- Ocupa menos espacio que JSON\n",
    "\n",
    "**Recomendación**: Ejecuta pruebas en tu entorno para verificar que la ruta de guardado tenga los permisos adecuados."
   ]
  },
  {
   "cell_type": "code",
   "execution_count": null,
   "id": "e6935cb5",
   "metadata": {},
   "outputs": [],
   "source": [
    "# Visualización en DataFrame de la evaluación de las asesorías  \n",
    "\n"
   ]
  },
  {
   "cell_type": "markdown",
   "id": "10f43536",
   "metadata": {
    "slideshow": {
     "slide_type": "slide"
    }
   },
   "source": [
    "### Continue su aprendizaje en la siguiente clase a través del siguiente [vínculo]()"
   ]
  },
  {
   "cell_type": "markdown",
   "id": "53cc9115",
   "metadata": {
    "slideshow": {
     "slide_type": "slide"
    }
   },
   "source": [
    "## Agradecimientos  \n",
    "\n",
    "Doy gracias a Dios por la vida de mi Hijo Joseph Cañas Osorio y la madurez que ha alcanzado. Este hijo me enorgullece y me hace falta abrazarlo cada día. \n",
    "\n",
    "Y a mi esposa Yasmira Emperatriz Barboza Mogollón por su apoyo, orientación y acompañamiento. "
   ]
  },
  {
   "cell_type": "markdown",
   "id": "b6ba1c23",
   "metadata": {},
   "source": [
    "# Apéndice sobre calendarios y coordinaciones \n"
   ]
  },
  {
   "cell_type": "markdown",
   "id": "bf8b6499",
   "metadata": {},
   "source": [
    "## Calendario del semestre académico 2025-2  \n",
    "\n",
    "Oferta de cursos: 29 de julio de 2025  \n",
    "\n",
    "Matrícula: 30 de julio de 2025  \n",
    "\n",
    "Ajustes de matrícula: 01 al 08 de agosto de 2025  \n",
    "\n",
    "Inicio de clases: 04 de agosto de 2025  \n",
    "\n",
    "Límite evaluación del 40%: 27 de septiembre de 2025  \n",
    "\n",
    "Terminación de clases\n",
    "\n",
    "22 de noviembre de 2025\n",
    "\n",
    "Exámenes finales\n",
    "\n",
    "24 al 29 de noviembre de 2025\n",
    "\n",
    "Habilitación y validación\n",
    "\n",
    "01 al 06 de diciembre 2025\n",
    "\n",
    "Terminación oficial del semestre: 09 de diciembre de 2025  "
   ]
  },
  {
   "cell_type": "markdown",
   "id": "667b9504",
   "metadata": {},
   "source": [
    "\n",
    "A continuación le envío el horario de la asignatura Cálculo Vectorial  \n",
    "\n",
    "Días:  \n",
    "Lunes - Hora: 7:00 a 12:00M  \n",
    "Fechas:  \n",
    "Febrero: 10-17-24                                          \n",
    " Marzo: 3-10-17-31                                                  \n",
    "Abril:7-21-28                                                   \n",
    "Mayo:5-12-19  \n",
    "\n",
    "Agradezco su apoyo, y si presenta alguna dificultad puede contactarme.  \n",
    "\n",
    "Cordialmente,  \n",
    "Juan Felipe Rivera Hernández  \n",
    "Contacto: 3106314300  "
   ]
  }
 ],
 "metadata": {
  "celltoolbar": "Slideshow",
  "kernelspec": {
   "display_name": ".venv",
   "language": "python",
   "name": "python3"
  },
  "language_info": {
   "codemirror_mode": {
    "name": "ipython",
    "version": 3
   },
   "file_extension": ".py",
   "mimetype": "text/x-python",
   "name": "python",
   "nbconvert_exporter": "python",
   "pygments_lexer": "ipython3",
   "version": "3.13.5"
  },
  "rise": {
   "enable_chalkboard": true,
   "theme": "sky",
   "transition": "zoom"
  }
 },
 "nbformat": 4,
 "nbformat_minor": 5
}

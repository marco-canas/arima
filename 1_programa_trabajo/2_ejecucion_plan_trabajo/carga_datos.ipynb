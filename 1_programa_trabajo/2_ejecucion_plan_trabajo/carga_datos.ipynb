{
 "cells": [
  {
   "cell_type": "markdown",
   "id": "8f2c953b",
   "metadata": {},
   "source": [
    "# Cargar datos climáticos y epidemiológicos en Python."
   ]
  },
  {
   "cell_type": "markdown",
   "id": "410c9982",
   "metadata": {},
   "source": [
    "1. Cargar los datos climáticos que quiere considerar. \n",
    "2. Cargar los datos epidemiológicos que quiere considerar.\n",
    "3. llavarlos a la misma espala (Semanal)\n",
    "4. fusionales [C|E]"
   ]
  }
 ],
 "metadata": {
  "language_info": {
   "name": "python"
  }
 },
 "nbformat": 4,
 "nbformat_minor": 5
}

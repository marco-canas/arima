{
 "cells": [
  {
   "cell_type": "markdown",
   "id": "8f2c953b",
   "metadata": {},
   "source": [
    "# Cargar datos epidemiológicos y climáticos en Python."
   ]
  },
  {
   "cell_type": "markdown",
   "id": "410c9982",
   "metadata": {},
   "source": []
  }
 ],
 "metadata": {
  "language_info": {
   "name": "python"
  }
 },
 "nbformat": 4,
 "nbformat_minor": 5
}

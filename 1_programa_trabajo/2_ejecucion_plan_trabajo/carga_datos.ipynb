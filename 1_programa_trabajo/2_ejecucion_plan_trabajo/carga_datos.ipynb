{
 "cells": [
  {
   "cell_type": "markdown",
   "id": "8f2c953b",
   "metadata": {},
   "source": [
    "# Cargar datos climáticos y epidemiológicos en Python."
   ]
  },
  {
   "cell_type": "markdown",
   "id": "410c9982",
   "metadata": {},
   "source": [
    "1. Cargar los datos climáticos que quiere considerar. \n",
    "2. Cargar los datos epidemiológicos que quiere considerar.\n",
    "3. llavarlos a la misma escala (Semanal)\n",
    "4. fusionales [C|E]\n",
    "5. crear los atributos de temperatura extrema \n",
    "6. crear el atributo de número de días con lluvia. \n"
   ]
  },
  {
   "cell_type": "code",
   "execution_count": 1,
   "id": "1cb893df",
   "metadata": {},
   "outputs": [],
   "source": [
    "# 1. Importar librerias \n",
    "import numpy as np \n",
    "import pandas as pd\n",
    "import matplotlib.pyplot as plt\n",
    "import seaborn as sns\n",
    "#from statsmodels.tsa.arima.model import ARIMA"
   ]
  },
  {
   "cell_type": "code",
   "execution_count": 2,
   "id": "eae86e3f",
   "metadata": {},
   "outputs": [],
   "source": [
    "# 2. Carga de datos climáticos \n",
    "df1 = pd.read_excel(r\"C:/Users/marco/OneDrive - Universidad de Antioquia/Documentos/2_recursos_ensenanza/8_arima/Datos_climáticos-(2022-2024).xlsx\")"
   ]
  },
  {
   "cell_type": "code",
   "execution_count": 3,
   "id": "d8dc66bc",
   "metadata": {},
   "outputs": [
    {
     "data": {
      "application/vnd.microsoft.datawrangler.viewer.v0+json": {
       "columns": [
        {
         "name": "index",
         "rawType": "int64",
         "type": "integer"
        },
        {
         "name": "Año",
         "rawType": "int64",
         "type": "integer"
        },
        {
         "name": "Día",
         "rawType": "int64",
         "type": "integer"
        },
        {
         "name": "Temperatura",
         "rawType": "float64",
         "type": "float"
        },
        {
         "name": "Temperatura máxima",
         "rawType": "float64",
         "type": "float"
        },
        {
         "name": "Temperatura mínima",
         "rawType": "float64",
         "type": "float"
        },
        {
         "name": "Humedad relativa",
         "rawType": "float64",
         "type": "float"
        },
        {
         "name": "Precipitación",
         "rawType": "float64",
         "type": "float"
        },
        {
         "name": "Velocidad del viento",
         "rawType": "float64",
         "type": "float"
        },
        {
         "name": "Velocidad de viento máximo",
         "rawType": "float64",
         "type": "float"
        },
        {
         "name": "Velocidad de viento mínima",
         "rawType": "float64",
         "type": "float"
        }
       ],
       "ref": "78b561b1-583e-48bf-a60a-90b75dd642b7",
       "rows": [
        [
         "0",
         "2022",
         "1",
         "28.46",
         "34.23",
         "24.03",
         "71.51",
         "0.33",
         "0.09",
         "0.21",
         "0.01"
        ],
        [
         "1",
         "2022",
         "2",
         "28.61",
         "34.59",
         "24.14",
         "71.87",
         "0.91",
         "0.12",
         "0.24",
         "0.02"
        ],
        [
         "2",
         "2022",
         "3",
         "29.07",
         "35.43",
         "23.91",
         "69.46",
         "0.11",
         "0.12",
         "0.31",
         "0.01"
        ],
        [
         "3",
         "2022",
         "4",
         "29.65",
         "36.1",
         "24.19",
         "63.86",
         "0.0",
         "0.12",
         "0.23",
         "0.04"
        ],
        [
         "4",
         "2022",
         "5",
         "29.24",
         "35.75",
         "23.76",
         "64.06",
         "0.01",
         "0.13",
         "0.24",
         "0.02"
        ]
       ],
       "shape": {
        "columns": 10,
        "rows": 5
       }
      },
      "text/html": [
       "<div>\n",
       "<style scoped>\n",
       "    .dataframe tbody tr th:only-of-type {\n",
       "        vertical-align: middle;\n",
       "    }\n",
       "\n",
       "    .dataframe tbody tr th {\n",
       "        vertical-align: top;\n",
       "    }\n",
       "\n",
       "    .dataframe thead th {\n",
       "        text-align: right;\n",
       "    }\n",
       "</style>\n",
       "<table border=\"1\" class=\"dataframe\">\n",
       "  <thead>\n",
       "    <tr style=\"text-align: right;\">\n",
       "      <th></th>\n",
       "      <th>Año</th>\n",
       "      <th>Día</th>\n",
       "      <th>Temperatura</th>\n",
       "      <th>Temperatura máxima</th>\n",
       "      <th>Temperatura mínima</th>\n",
       "      <th>Humedad relativa</th>\n",
       "      <th>Precipitación</th>\n",
       "      <th>Velocidad del viento</th>\n",
       "      <th>Velocidad de viento máximo</th>\n",
       "      <th>Velocidad de viento mínima</th>\n",
       "    </tr>\n",
       "  </thead>\n",
       "  <tbody>\n",
       "    <tr>\n",
       "      <th>0</th>\n",
       "      <td>2022</td>\n",
       "      <td>1</td>\n",
       "      <td>28.46</td>\n",
       "      <td>34.23</td>\n",
       "      <td>24.03</td>\n",
       "      <td>71.51</td>\n",
       "      <td>0.33</td>\n",
       "      <td>0.09</td>\n",
       "      <td>0.21</td>\n",
       "      <td>0.01</td>\n",
       "    </tr>\n",
       "    <tr>\n",
       "      <th>1</th>\n",
       "      <td>2022</td>\n",
       "      <td>2</td>\n",
       "      <td>28.61</td>\n",
       "      <td>34.59</td>\n",
       "      <td>24.14</td>\n",
       "      <td>71.87</td>\n",
       "      <td>0.91</td>\n",
       "      <td>0.12</td>\n",
       "      <td>0.24</td>\n",
       "      <td>0.02</td>\n",
       "    </tr>\n",
       "    <tr>\n",
       "      <th>2</th>\n",
       "      <td>2022</td>\n",
       "      <td>3</td>\n",
       "      <td>29.07</td>\n",
       "      <td>35.43</td>\n",
       "      <td>23.91</td>\n",
       "      <td>69.46</td>\n",
       "      <td>0.11</td>\n",
       "      <td>0.12</td>\n",
       "      <td>0.31</td>\n",
       "      <td>0.01</td>\n",
       "    </tr>\n",
       "    <tr>\n",
       "      <th>3</th>\n",
       "      <td>2022</td>\n",
       "      <td>4</td>\n",
       "      <td>29.65</td>\n",
       "      <td>36.10</td>\n",
       "      <td>24.19</td>\n",
       "      <td>63.86</td>\n",
       "      <td>0.00</td>\n",
       "      <td>0.12</td>\n",
       "      <td>0.23</td>\n",
       "      <td>0.04</td>\n",
       "    </tr>\n",
       "    <tr>\n",
       "      <th>4</th>\n",
       "      <td>2022</td>\n",
       "      <td>5</td>\n",
       "      <td>29.24</td>\n",
       "      <td>35.75</td>\n",
       "      <td>23.76</td>\n",
       "      <td>64.06</td>\n",
       "      <td>0.01</td>\n",
       "      <td>0.13</td>\n",
       "      <td>0.24</td>\n",
       "      <td>0.02</td>\n",
       "    </tr>\n",
       "  </tbody>\n",
       "</table>\n",
       "</div>"
      ],
      "text/plain": [
       "    Año  Día  Temperatura  Temperatura máxima  Temperatura mínima  \\\n",
       "0  2022    1        28.46               34.23               24.03   \n",
       "1  2022    2        28.61               34.59               24.14   \n",
       "2  2022    3        29.07               35.43               23.91   \n",
       "3  2022    4        29.65               36.10               24.19   \n",
       "4  2022    5        29.24               35.75               23.76   \n",
       "\n",
       "   Humedad relativa  Precipitación  Velocidad del viento  \\\n",
       "0             71.51           0.33                  0.09   \n",
       "1             71.87           0.91                  0.12   \n",
       "2             69.46           0.11                  0.12   \n",
       "3             63.86           0.00                  0.12   \n",
       "4             64.06           0.01                  0.13   \n",
       "\n",
       "   Velocidad de viento máximo  Velocidad de viento mínima  \n",
       "0                        0.21                        0.01  \n",
       "1                        0.24                        0.02  \n",
       "2                        0.31                        0.01  \n",
       "3                        0.23                        0.04  \n",
       "4                        0.24                        0.02  "
      ]
     },
     "execution_count": 3,
     "metadata": {},
     "output_type": "execute_result"
    }
   ],
   "source": [
    "df1.head() "
   ]
  },
  {
   "cell_type": "code",
   "execution_count": 20,
   "id": "d73b992b",
   "metadata": {},
   "outputs": [
    {
     "data": {
      "text/plain": [
       "Index(['Año', 'Día', 'Temperatura', 'Temperatura máxima', 'Temperatura mínima',\n",
       "       'Humedad relativa', 'Precipitación', 'Velocidad del viento',\n",
       "       'Velocidad de viento máximo', 'Velocidad de viento mínima'],\n",
       "      dtype='object')"
      ]
     },
     "execution_count": 20,
     "metadata": {},
     "output_type": "execute_result"
    }
   ],
   "source": [
    "df1.keys()"
   ]
  },
  {
   "cell_type": "code",
   "execution_count": 21,
   "id": "3c1e3c11",
   "metadata": {},
   "outputs": [
    {
     "name": "stdout",
     "output_type": "stream",
     "text": [
      "<class 'pandas.core.frame.DataFrame'>\n",
      "RangeIndex: 1096 entries, 0 to 1095\n",
      "Data columns (total 10 columns):\n",
      " #   Column                      Non-Null Count  Dtype  \n",
      "---  ------                      --------------  -----  \n",
      " 0   Año                         1096 non-null   int64  \n",
      " 1   Día                         1096 non-null   int64  \n",
      " 2   Temperatura                 1096 non-null   float64\n",
      " 3   Temperatura máxima          1096 non-null   float64\n",
      " 4   Temperatura mínima          1096 non-null   float64\n",
      " 5   Humedad relativa            1096 non-null   float64\n",
      " 6   Precipitación               1096 non-null   float64\n",
      " 7   Velocidad del viento        1096 non-null   float64\n",
      " 8   Velocidad de viento máximo  1096 non-null   float64\n",
      " 9   Velocidad de viento mínima  1096 non-null   float64\n",
      "dtypes: float64(8), int64(2)\n",
      "memory usage: 85.8 KB\n"
     ]
    }
   ],
   "source": [
    "df1.info() "
   ]
  },
  {
   "cell_type": "code",
   "execution_count": 22,
   "id": "a0c4e2e8",
   "metadata": {},
   "outputs": [
    {
     "data": {
      "application/vnd.microsoft.datawrangler.viewer.v0+json": {
       "columns": [
        {
         "name": "index",
         "rawType": "object",
         "type": "string"
        },
        {
         "name": "Año",
         "rawType": "float64",
         "type": "float"
        },
        {
         "name": "Día",
         "rawType": "float64",
         "type": "float"
        },
        {
         "name": "Temperatura",
         "rawType": "float64",
         "type": "float"
        },
        {
         "name": "Temperatura máxima",
         "rawType": "float64",
         "type": "float"
        },
        {
         "name": "Temperatura mínima",
         "rawType": "float64",
         "type": "float"
        },
        {
         "name": "Humedad relativa",
         "rawType": "float64",
         "type": "float"
        },
        {
         "name": "Precipitación",
         "rawType": "float64",
         "type": "float"
        },
        {
         "name": "Velocidad del viento",
         "rawType": "float64",
         "type": "float"
        },
        {
         "name": "Velocidad de viento máximo",
         "rawType": "float64",
         "type": "float"
        },
        {
         "name": "Velocidad de viento mínima",
         "rawType": "float64",
         "type": "float"
        }
       ],
       "ref": "968e0574-9291-4c1c-827c-f0b96a2df33c",
       "rows": [
        [
         "count",
         "1096.0",
         "1096.0",
         "1096.0",
         "1096.0",
         "1096.0",
         "1096.0",
         "1096.0",
         "1096.0",
         "1096.0",
         "1096.0"
        ],
        [
         "mean",
         "2023.0009124087592",
         "183.1669708029197",
         "27.237828467153285",
         "30.972801094890514",
         "24.37529197080292",
         "85.08476277372262",
         "4.97603102189781",
         "0.15389598540145985",
         "0.3566788321167883",
         "0.03405109489051095"
        ],
        [
         "std",
         "0.8170551238599454",
         "105.51092671820443",
         "1.6622745136340946",
         "3.109906560231137",
         "1.0321931726791393",
         "10.30024070908702",
         "7.211491706620288",
         "0.03294473222123006",
         "0.11063086405335484",
         "0.022731571163631503"
        ],
        [
         "min",
         "2022.0",
         "1.0",
         "23.97",
         "25.52",
         "20.8",
         "52.1",
         "0.0",
         "0.07",
         "0.16",
         "0.0"
        ],
        [
         "25%",
         "2022.0",
         "92.0",
         "26.08",
         "28.9175",
         "23.75",
         "80.6775",
         "0.5475000000000001",
         "0.13",
         "0.26",
         "0.02"
        ],
        [
         "50%",
         "2023.0",
         "183.0",
         "26.875",
         "30.049999999999997",
         "24.41",
         "89.44999999999999",
         "2.4450000000000003",
         "0.15",
         "0.35",
         "0.03"
        ],
        [
         "75%",
         "2024.0",
         "274.25",
         "27.9025",
         "32.0925",
         "25.01",
         "92.34",
         "6.612500000000001",
         "0.17",
         "0.44",
         "0.05"
        ],
        [
         "max",
         "2024.0",
         "366.0",
         "34.02",
         "40.96",
         "28.34",
         "97.52",
         "75.78",
         "0.31",
         "0.72",
         "0.11"
        ]
       ],
       "shape": {
        "columns": 10,
        "rows": 8
       }
      },
      "text/html": [
       "<div>\n",
       "<style scoped>\n",
       "    .dataframe tbody tr th:only-of-type {\n",
       "        vertical-align: middle;\n",
       "    }\n",
       "\n",
       "    .dataframe tbody tr th {\n",
       "        vertical-align: top;\n",
       "    }\n",
       "\n",
       "    .dataframe thead th {\n",
       "        text-align: right;\n",
       "    }\n",
       "</style>\n",
       "<table border=\"1\" class=\"dataframe\">\n",
       "  <thead>\n",
       "    <tr style=\"text-align: right;\">\n",
       "      <th></th>\n",
       "      <th>Año</th>\n",
       "      <th>Día</th>\n",
       "      <th>Temperatura</th>\n",
       "      <th>Temperatura máxima</th>\n",
       "      <th>Temperatura mínima</th>\n",
       "      <th>Humedad relativa</th>\n",
       "      <th>Precipitación</th>\n",
       "      <th>Velocidad del viento</th>\n",
       "      <th>Velocidad de viento máximo</th>\n",
       "      <th>Velocidad de viento mínima</th>\n",
       "    </tr>\n",
       "  </thead>\n",
       "  <tbody>\n",
       "    <tr>\n",
       "      <th>count</th>\n",
       "      <td>1096.000000</td>\n",
       "      <td>1096.000000</td>\n",
       "      <td>1096.000000</td>\n",
       "      <td>1096.000000</td>\n",
       "      <td>1096.000000</td>\n",
       "      <td>1096.000000</td>\n",
       "      <td>1096.000000</td>\n",
       "      <td>1096.000000</td>\n",
       "      <td>1096.000000</td>\n",
       "      <td>1096.000000</td>\n",
       "    </tr>\n",
       "    <tr>\n",
       "      <th>mean</th>\n",
       "      <td>2023.000912</td>\n",
       "      <td>183.166971</td>\n",
       "      <td>27.237828</td>\n",
       "      <td>30.972801</td>\n",
       "      <td>24.375292</td>\n",
       "      <td>85.084763</td>\n",
       "      <td>4.976031</td>\n",
       "      <td>0.153896</td>\n",
       "      <td>0.356679</td>\n",
       "      <td>0.034051</td>\n",
       "    </tr>\n",
       "    <tr>\n",
       "      <th>std</th>\n",
       "      <td>0.817055</td>\n",
       "      <td>105.510927</td>\n",
       "      <td>1.662275</td>\n",
       "      <td>3.109907</td>\n",
       "      <td>1.032193</td>\n",
       "      <td>10.300241</td>\n",
       "      <td>7.211492</td>\n",
       "      <td>0.032945</td>\n",
       "      <td>0.110631</td>\n",
       "      <td>0.022732</td>\n",
       "    </tr>\n",
       "    <tr>\n",
       "      <th>min</th>\n",
       "      <td>2022.000000</td>\n",
       "      <td>1.000000</td>\n",
       "      <td>23.970000</td>\n",
       "      <td>25.520000</td>\n",
       "      <td>20.800000</td>\n",
       "      <td>52.100000</td>\n",
       "      <td>0.000000</td>\n",
       "      <td>0.070000</td>\n",
       "      <td>0.160000</td>\n",
       "      <td>0.000000</td>\n",
       "    </tr>\n",
       "    <tr>\n",
       "      <th>25%</th>\n",
       "      <td>2022.000000</td>\n",
       "      <td>92.000000</td>\n",
       "      <td>26.080000</td>\n",
       "      <td>28.917500</td>\n",
       "      <td>23.750000</td>\n",
       "      <td>80.677500</td>\n",
       "      <td>0.547500</td>\n",
       "      <td>0.130000</td>\n",
       "      <td>0.260000</td>\n",
       "      <td>0.020000</td>\n",
       "    </tr>\n",
       "    <tr>\n",
       "      <th>50%</th>\n",
       "      <td>2023.000000</td>\n",
       "      <td>183.000000</td>\n",
       "      <td>26.875000</td>\n",
       "      <td>30.050000</td>\n",
       "      <td>24.410000</td>\n",
       "      <td>89.450000</td>\n",
       "      <td>2.445000</td>\n",
       "      <td>0.150000</td>\n",
       "      <td>0.350000</td>\n",
       "      <td>0.030000</td>\n",
       "    </tr>\n",
       "    <tr>\n",
       "      <th>75%</th>\n",
       "      <td>2024.000000</td>\n",
       "      <td>274.250000</td>\n",
       "      <td>27.902500</td>\n",
       "      <td>32.092500</td>\n",
       "      <td>25.010000</td>\n",
       "      <td>92.340000</td>\n",
       "      <td>6.612500</td>\n",
       "      <td>0.170000</td>\n",
       "      <td>0.440000</td>\n",
       "      <td>0.050000</td>\n",
       "    </tr>\n",
       "    <tr>\n",
       "      <th>max</th>\n",
       "      <td>2024.000000</td>\n",
       "      <td>366.000000</td>\n",
       "      <td>34.020000</td>\n",
       "      <td>40.960000</td>\n",
       "      <td>28.340000</td>\n",
       "      <td>97.520000</td>\n",
       "      <td>75.780000</td>\n",
       "      <td>0.310000</td>\n",
       "      <td>0.720000</td>\n",
       "      <td>0.110000</td>\n",
       "    </tr>\n",
       "  </tbody>\n",
       "</table>\n",
       "</div>"
      ],
      "text/plain": [
       "               Año          Día  Temperatura  Temperatura máxima  \\\n",
       "count  1096.000000  1096.000000  1096.000000         1096.000000   \n",
       "mean   2023.000912   183.166971    27.237828           30.972801   \n",
       "std       0.817055   105.510927     1.662275            3.109907   \n",
       "min    2022.000000     1.000000    23.970000           25.520000   \n",
       "25%    2022.000000    92.000000    26.080000           28.917500   \n",
       "50%    2023.000000   183.000000    26.875000           30.050000   \n",
       "75%    2024.000000   274.250000    27.902500           32.092500   \n",
       "max    2024.000000   366.000000    34.020000           40.960000   \n",
       "\n",
       "       Temperatura mínima  Humedad relativa  Precipitación  \\\n",
       "count         1096.000000       1096.000000    1096.000000   \n",
       "mean            24.375292         85.084763       4.976031   \n",
       "std              1.032193         10.300241       7.211492   \n",
       "min             20.800000         52.100000       0.000000   \n",
       "25%             23.750000         80.677500       0.547500   \n",
       "50%             24.410000         89.450000       2.445000   \n",
       "75%             25.010000         92.340000       6.612500   \n",
       "max             28.340000         97.520000      75.780000   \n",
       "\n",
       "       Velocidad del viento  Velocidad de viento máximo  \\\n",
       "count           1096.000000                 1096.000000   \n",
       "mean               0.153896                    0.356679   \n",
       "std                0.032945                    0.110631   \n",
       "min                0.070000                    0.160000   \n",
       "25%                0.130000                    0.260000   \n",
       "50%                0.150000                    0.350000   \n",
       "75%                0.170000                    0.440000   \n",
       "max                0.310000                    0.720000   \n",
       "\n",
       "       Velocidad de viento mínima  \n",
       "count                 1096.000000  \n",
       "mean                     0.034051  \n",
       "std                      0.022732  \n",
       "min                      0.000000  \n",
       "25%                      0.020000  \n",
       "50%                      0.030000  \n",
       "75%                      0.050000  \n",
       "max                      0.110000  "
      ]
     },
     "execution_count": 22,
     "metadata": {},
     "output_type": "execute_result"
    }
   ],
   "source": [
    "df1.describe() "
   ]
  },
  {
   "cell_type": "markdown",
   "id": "d7aaa859",
   "metadata": {},
   "source": [
    "# Tarea: \n",
    "\n",
    "\n",
    "2. Renombrar a la variable día a día del año. (hecho)\n",
    "3. dejar la las variables de año y día cómo fecha en dato de tipo datatime de python. (hecho)\n",
    "4. combine los atributos de año y día del año en un atributo llamado fecha con formato YYYY-MM-DD de pandas.\n",
    "5. Remuestrear los datos climáticos a una escala de semana epidemiológica.\n",
    "6. y los datos epidemiológicos agruparlos por semana epidemiológica. \n",
    "7. Visualización gráfica de los datos climáticos."
   ]
  },
  {
   "cell_type": "code",
   "execution_count": 23,
   "id": "ef3ac673",
   "metadata": {},
   "outputs": [],
   "source": [
    "# renombrar el atributo día a día del año \n",
    "\n",
    "df1.rename(columns={'Día': 'Día del año'}, inplace=True)"
   ]
  },
  {
   "cell_type": "code",
   "execution_count": 24,
   "id": "a25aef8b",
   "metadata": {},
   "outputs": [
    {
     "data": {
      "application/vnd.microsoft.datawrangler.viewer.v0+json": {
       "columns": [
        {
         "name": "index",
         "rawType": "int64",
         "type": "integer"
        },
        {
         "name": "Año",
         "rawType": "int64",
         "type": "integer"
        },
        {
         "name": "Día del año",
         "rawType": "int64",
         "type": "integer"
        },
        {
         "name": "Temperatura",
         "rawType": "float64",
         "type": "float"
        },
        {
         "name": "Temperatura máxima",
         "rawType": "float64",
         "type": "float"
        },
        {
         "name": "Temperatura mínima",
         "rawType": "float64",
         "type": "float"
        },
        {
         "name": "Humedad relativa",
         "rawType": "float64",
         "type": "float"
        },
        {
         "name": "Precipitación",
         "rawType": "float64",
         "type": "float"
        },
        {
         "name": "Velocidad del viento",
         "rawType": "float64",
         "type": "float"
        },
        {
         "name": "Velocidad de viento máximo",
         "rawType": "float64",
         "type": "float"
        },
        {
         "name": "Velocidad de viento mínima",
         "rawType": "float64",
         "type": "float"
        }
       ],
       "ref": "ee62ceab-cfd3-4eda-928a-49f25fe03129",
       "rows": [
        [
         "0",
         "2022",
         "1",
         "28.46",
         "34.23",
         "24.03",
         "71.51",
         "0.33",
         "0.09",
         "0.21",
         "0.01"
        ],
        [
         "1",
         "2022",
         "2",
         "28.61",
         "34.59",
         "24.14",
         "71.87",
         "0.91",
         "0.12",
         "0.24",
         "0.02"
        ],
        [
         "2",
         "2022",
         "3",
         "29.07",
         "35.43",
         "23.91",
         "69.46",
         "0.11",
         "0.12",
         "0.31",
         "0.01"
        ],
        [
         "3",
         "2022",
         "4",
         "29.65",
         "36.1",
         "24.19",
         "63.86",
         "0.0",
         "0.12",
         "0.23",
         "0.04"
        ],
        [
         "4",
         "2022",
         "5",
         "29.24",
         "35.75",
         "23.76",
         "64.06",
         "0.01",
         "0.13",
         "0.24",
         "0.02"
        ]
       ],
       "shape": {
        "columns": 10,
        "rows": 5
       }
      },
      "text/html": [
       "<div>\n",
       "<style scoped>\n",
       "    .dataframe tbody tr th:only-of-type {\n",
       "        vertical-align: middle;\n",
       "    }\n",
       "\n",
       "    .dataframe tbody tr th {\n",
       "        vertical-align: top;\n",
       "    }\n",
       "\n",
       "    .dataframe thead th {\n",
       "        text-align: right;\n",
       "    }\n",
       "</style>\n",
       "<table border=\"1\" class=\"dataframe\">\n",
       "  <thead>\n",
       "    <tr style=\"text-align: right;\">\n",
       "      <th></th>\n",
       "      <th>Año</th>\n",
       "      <th>Día del año</th>\n",
       "      <th>Temperatura</th>\n",
       "      <th>Temperatura máxima</th>\n",
       "      <th>Temperatura mínima</th>\n",
       "      <th>Humedad relativa</th>\n",
       "      <th>Precipitación</th>\n",
       "      <th>Velocidad del viento</th>\n",
       "      <th>Velocidad de viento máximo</th>\n",
       "      <th>Velocidad de viento mínima</th>\n",
       "    </tr>\n",
       "  </thead>\n",
       "  <tbody>\n",
       "    <tr>\n",
       "      <th>0</th>\n",
       "      <td>2022</td>\n",
       "      <td>1</td>\n",
       "      <td>28.46</td>\n",
       "      <td>34.23</td>\n",
       "      <td>24.03</td>\n",
       "      <td>71.51</td>\n",
       "      <td>0.33</td>\n",
       "      <td>0.09</td>\n",
       "      <td>0.21</td>\n",
       "      <td>0.01</td>\n",
       "    </tr>\n",
       "    <tr>\n",
       "      <th>1</th>\n",
       "      <td>2022</td>\n",
       "      <td>2</td>\n",
       "      <td>28.61</td>\n",
       "      <td>34.59</td>\n",
       "      <td>24.14</td>\n",
       "      <td>71.87</td>\n",
       "      <td>0.91</td>\n",
       "      <td>0.12</td>\n",
       "      <td>0.24</td>\n",
       "      <td>0.02</td>\n",
       "    </tr>\n",
       "    <tr>\n",
       "      <th>2</th>\n",
       "      <td>2022</td>\n",
       "      <td>3</td>\n",
       "      <td>29.07</td>\n",
       "      <td>35.43</td>\n",
       "      <td>23.91</td>\n",
       "      <td>69.46</td>\n",
       "      <td>0.11</td>\n",
       "      <td>0.12</td>\n",
       "      <td>0.31</td>\n",
       "      <td>0.01</td>\n",
       "    </tr>\n",
       "    <tr>\n",
       "      <th>3</th>\n",
       "      <td>2022</td>\n",
       "      <td>4</td>\n",
       "      <td>29.65</td>\n",
       "      <td>36.10</td>\n",
       "      <td>24.19</td>\n",
       "      <td>63.86</td>\n",
       "      <td>0.00</td>\n",
       "      <td>0.12</td>\n",
       "      <td>0.23</td>\n",
       "      <td>0.04</td>\n",
       "    </tr>\n",
       "    <tr>\n",
       "      <th>4</th>\n",
       "      <td>2022</td>\n",
       "      <td>5</td>\n",
       "      <td>29.24</td>\n",
       "      <td>35.75</td>\n",
       "      <td>23.76</td>\n",
       "      <td>64.06</td>\n",
       "      <td>0.01</td>\n",
       "      <td>0.13</td>\n",
       "      <td>0.24</td>\n",
       "      <td>0.02</td>\n",
       "    </tr>\n",
       "  </tbody>\n",
       "</table>\n",
       "</div>"
      ],
      "text/plain": [
       "    Año  Día del año  Temperatura  Temperatura máxima  Temperatura mínima  \\\n",
       "0  2022            1        28.46               34.23               24.03   \n",
       "1  2022            2        28.61               34.59               24.14   \n",
       "2  2022            3        29.07               35.43               23.91   \n",
       "3  2022            4        29.65               36.10               24.19   \n",
       "4  2022            5        29.24               35.75               23.76   \n",
       "\n",
       "   Humedad relativa  Precipitación  Velocidad del viento  \\\n",
       "0             71.51           0.33                  0.09   \n",
       "1             71.87           0.91                  0.12   \n",
       "2             69.46           0.11                  0.12   \n",
       "3             63.86           0.00                  0.12   \n",
       "4             64.06           0.01                  0.13   \n",
       "\n",
       "   Velocidad de viento máximo  Velocidad de viento mínima  \n",
       "0                        0.21                        0.01  \n",
       "1                        0.24                        0.02  \n",
       "2                        0.31                        0.01  \n",
       "3                        0.23                        0.04  \n",
       "4                        0.24                        0.02  "
      ]
     },
     "execution_count": 24,
     "metadata": {},
     "output_type": "execute_result"
    }
   ],
   "source": [
    "df1.head()"
   ]
  },
  {
   "cell_type": "code",
   "execution_count": 30,
   "id": "6fd0eb22",
   "metadata": {},
   "outputs": [
    {
     "data": {
      "application/vnd.microsoft.datawrangler.viewer.v0+json": {
       "columns": [
        {
         "name": "index",
         "rawType": "int64",
         "type": "integer"
        },
        {
         "name": "Año",
         "rawType": "int64",
         "type": "integer"
        },
        {
         "name": "Día del año",
         "rawType": "int64",
         "type": "integer"
        },
        {
         "name": "Temperatura",
         "rawType": "float64",
         "type": "float"
        },
        {
         "name": "Temperatura máxima",
         "rawType": "float64",
         "type": "float"
        },
        {
         "name": "Temperatura mínima",
         "rawType": "float64",
         "type": "float"
        },
        {
         "name": "Humedad relativa",
         "rawType": "float64",
         "type": "float"
        },
        {
         "name": "Precipitación",
         "rawType": "float64",
         "type": "float"
        },
        {
         "name": "Velocidad del viento",
         "rawType": "float64",
         "type": "float"
        },
        {
         "name": "Velocidad de viento máximo",
         "rawType": "float64",
         "type": "float"
        },
        {
         "name": "Velocidad de viento mínima",
         "rawType": "float64",
         "type": "float"
        },
        {
         "name": "fecha",
         "rawType": "object",
         "type": "string"
        }
       ],
       "ref": "93b7e61f-9b4b-4fea-aac1-dc31e1903799",
       "rows": [
        [
         "0",
         "2022",
         "1",
         "28.46",
         "34.23",
         "24.03",
         "71.51",
         "0.33",
         "0.09",
         "0.21",
         "0.01",
         "2022-01-01"
        ],
        [
         "1",
         "2022",
         "2",
         "28.61",
         "34.59",
         "24.14",
         "71.87",
         "0.91",
         "0.12",
         "0.24",
         "0.02",
         "2022-01-02"
        ],
        [
         "2",
         "2022",
         "3",
         "29.07",
         "35.43",
         "23.91",
         "69.46",
         "0.11",
         "0.12",
         "0.31",
         "0.01",
         "2022-01-03"
        ],
        [
         "3",
         "2022",
         "4",
         "29.65",
         "36.1",
         "24.19",
         "63.86",
         "0.0",
         "0.12",
         "0.23",
         "0.04",
         "2022-01-04"
        ],
        [
         "4",
         "2022",
         "5",
         "29.24",
         "35.75",
         "23.76",
         "64.06",
         "0.01",
         "0.13",
         "0.24",
         "0.02",
         "2022-01-05"
        ]
       ],
       "shape": {
        "columns": 11,
        "rows": 5
       }
      },
      "text/html": [
       "<div>\n",
       "<style scoped>\n",
       "    .dataframe tbody tr th:only-of-type {\n",
       "        vertical-align: middle;\n",
       "    }\n",
       "\n",
       "    .dataframe tbody tr th {\n",
       "        vertical-align: top;\n",
       "    }\n",
       "\n",
       "    .dataframe thead th {\n",
       "        text-align: right;\n",
       "    }\n",
       "</style>\n",
       "<table border=\"1\" class=\"dataframe\">\n",
       "  <thead>\n",
       "    <tr style=\"text-align: right;\">\n",
       "      <th></th>\n",
       "      <th>Año</th>\n",
       "      <th>Día del año</th>\n",
       "      <th>Temperatura</th>\n",
       "      <th>Temperatura máxima</th>\n",
       "      <th>Temperatura mínima</th>\n",
       "      <th>Humedad relativa</th>\n",
       "      <th>Precipitación</th>\n",
       "      <th>Velocidad del viento</th>\n",
       "      <th>Velocidad de viento máximo</th>\n",
       "      <th>Velocidad de viento mínima</th>\n",
       "      <th>fecha</th>\n",
       "    </tr>\n",
       "  </thead>\n",
       "  <tbody>\n",
       "    <tr>\n",
       "      <th>0</th>\n",
       "      <td>2022</td>\n",
       "      <td>1</td>\n",
       "      <td>28.46</td>\n",
       "      <td>34.23</td>\n",
       "      <td>24.03</td>\n",
       "      <td>71.51</td>\n",
       "      <td>0.33</td>\n",
       "      <td>0.09</td>\n",
       "      <td>0.21</td>\n",
       "      <td>0.01</td>\n",
       "      <td>2022-01-01</td>\n",
       "    </tr>\n",
       "    <tr>\n",
       "      <th>1</th>\n",
       "      <td>2022</td>\n",
       "      <td>2</td>\n",
       "      <td>28.61</td>\n",
       "      <td>34.59</td>\n",
       "      <td>24.14</td>\n",
       "      <td>71.87</td>\n",
       "      <td>0.91</td>\n",
       "      <td>0.12</td>\n",
       "      <td>0.24</td>\n",
       "      <td>0.02</td>\n",
       "      <td>2022-01-02</td>\n",
       "    </tr>\n",
       "    <tr>\n",
       "      <th>2</th>\n",
       "      <td>2022</td>\n",
       "      <td>3</td>\n",
       "      <td>29.07</td>\n",
       "      <td>35.43</td>\n",
       "      <td>23.91</td>\n",
       "      <td>69.46</td>\n",
       "      <td>0.11</td>\n",
       "      <td>0.12</td>\n",
       "      <td>0.31</td>\n",
       "      <td>0.01</td>\n",
       "      <td>2022-01-03</td>\n",
       "    </tr>\n",
       "    <tr>\n",
       "      <th>3</th>\n",
       "      <td>2022</td>\n",
       "      <td>4</td>\n",
       "      <td>29.65</td>\n",
       "      <td>36.10</td>\n",
       "      <td>24.19</td>\n",
       "      <td>63.86</td>\n",
       "      <td>0.00</td>\n",
       "      <td>0.12</td>\n",
       "      <td>0.23</td>\n",
       "      <td>0.04</td>\n",
       "      <td>2022-01-04</td>\n",
       "    </tr>\n",
       "    <tr>\n",
       "      <th>4</th>\n",
       "      <td>2022</td>\n",
       "      <td>5</td>\n",
       "      <td>29.24</td>\n",
       "      <td>35.75</td>\n",
       "      <td>23.76</td>\n",
       "      <td>64.06</td>\n",
       "      <td>0.01</td>\n",
       "      <td>0.13</td>\n",
       "      <td>0.24</td>\n",
       "      <td>0.02</td>\n",
       "      <td>2022-01-05</td>\n",
       "    </tr>\n",
       "  </tbody>\n",
       "</table>\n",
       "</div>"
      ],
      "text/plain": [
       "    Año  Día del año  Temperatura  Temperatura máxima  Temperatura mínima  \\\n",
       "0  2022            1        28.46               34.23               24.03   \n",
       "1  2022            2        28.61               34.59               24.14   \n",
       "2  2022            3        29.07               35.43               23.91   \n",
       "3  2022            4        29.65               36.10               24.19   \n",
       "4  2022            5        29.24               35.75               23.76   \n",
       "\n",
       "   Humedad relativa  Precipitación  Velocidad del viento  \\\n",
       "0             71.51           0.33                  0.09   \n",
       "1             71.87           0.91                  0.12   \n",
       "2             69.46           0.11                  0.12   \n",
       "3             63.86           0.00                  0.12   \n",
       "4             64.06           0.01                  0.13   \n",
       "\n",
       "   Velocidad de viento máximo  Velocidad de viento mínima       fecha  \n",
       "0                        0.21                        0.01  2022-01-01  \n",
       "1                        0.24                        0.02  2022-01-02  \n",
       "2                        0.31                        0.01  2022-01-03  \n",
       "3                        0.23                        0.04  2022-01-04  \n",
       "4                        0.24                        0.02  2022-01-05  "
      ]
     },
     "execution_count": 30,
     "metadata": {},
     "output_type": "execute_result"
    }
   ],
   "source": [
    "\n",
    "from datetime import datetime\n",
    "\n",
    "\n",
    "\n",
    "# Función para convertir año + día del año a fecha\n",
    "def dia_del_año_a_fecha(año, dia):\n",
    "    try:\n",
    "        return datetime(año, 1, 1) + pd.Timedelta(days=dia - 1)\n",
    "    except:\n",
    "        return pd.NaT  # Maneja días inválidos (ej: día 366 en año no bisiesto)\n",
    "\n",
    "# Aplicar la función y crear columna \"fecha\"\n",
    "df1['fecha'] = df1.apply(lambda x: dia_del_año_a_fecha(x['Año'], x['Día del año']), axis=1)\n",
    "\n",
    "# Formatear como YYYY-MM-DD (opcional, ya que pandas maneja datetime nativamente)\n",
    "df1['fecha'] = df1['fecha'].dt.strftime('%Y-%m-%d')\n",
    "\n",
    "df1.head() "
   ]
  },
  {
   "cell_type": "code",
   "execution_count": 31,
   "id": "1657814a",
   "metadata": {},
   "outputs": [],
   "source": [
    "df1.fecha = pd.to_datetime(df1.fecha, format='%Y-%m-%d')"
   ]
  },
  {
   "cell_type": "code",
   "execution_count": 32,
   "id": "5cc14f67",
   "metadata": {},
   "outputs": [
    {
     "data": {
      "text/plain": [
       "Timestamp('2022-01-01 00:00:00')"
      ]
     },
     "execution_count": 32,
     "metadata": {},
     "output_type": "execute_result"
    }
   ],
   "source": [
    "df1.fecha.iloc[0]"
   ]
  },
  {
   "cell_type": "markdown",
   "id": "8c869a23",
   "metadata": {},
   "source": [
    "# Ahora si remuestrearemos los datos climáticos a una escala de semana epidemiológica.\n",
    "\n"
   ]
  },
  {
   "cell_type": "markdown",
   "id": "24d01baf",
   "metadata": {},
   "source": [
    "# Script para remuestrear el dataframe df1 a semana epidemiológica (domingo a sábado)\n"
   ]
  },
  {
   "cell_type": "code",
   "execution_count": 16,
   "id": "47776fca",
   "metadata": {},
   "outputs": [
    {
     "ename": "KeyError",
     "evalue": "\"['Año', 'Día del año'] not found in axis\"",
     "output_type": "error",
     "traceback": [
      "\u001b[31m---------------------------------------------------------------------------\u001b[39m",
      "\u001b[31mKeyError\u001b[39m                                  Traceback (most recent call last)",
      "\u001b[36mCell\u001b[39m\u001b[36m \u001b[39m\u001b[32mIn[16]\u001b[39m\u001b[32m, line 6\u001b[39m\n\u001b[32m      1\u001b[39m \u001b[38;5;28;01mimport\u001b[39;00m\u001b[38;5;250m \u001b[39m\u001b[34;01mpandas\u001b[39;00m\u001b[38;5;250m \u001b[39m\u001b[38;5;28;01mas\u001b[39;00m\u001b[38;5;250m \u001b[39m\u001b[34;01mpd\u001b[39;00m\n\u001b[32m      3\u001b[39m \u001b[38;5;66;03m# Asumiendo que df1 ya está cargado en memoria\u001b[39;00m\n\u001b[32m      4\u001b[39m \n\u001b[32m      5\u001b[39m \u001b[38;5;66;03m# Paso 1: Eliminar las columnas 'Año' y 'Día del año'\u001b[39;00m\n\u001b[32m----> \u001b[39m\u001b[32m6\u001b[39m df1 = \u001b[43mdf1\u001b[49m\u001b[43m.\u001b[49m\u001b[43mdrop\u001b[49m\u001b[43m(\u001b[49m\u001b[43mcolumns\u001b[49m\u001b[43m=\u001b[49m\u001b[43m[\u001b[49m\u001b[33;43m'\u001b[39;49m\u001b[33;43mAño\u001b[39;49m\u001b[33;43m'\u001b[39;49m\u001b[43m,\u001b[49m\u001b[43m \u001b[49m\u001b[33;43m'\u001b[39;49m\u001b[33;43mDía del año\u001b[39;49m\u001b[33;43m'\u001b[39;49m\u001b[43m]\u001b[49m\u001b[43m)\u001b[49m\n\u001b[32m      8\u001b[39m \u001b[38;5;66;03m# Paso 2: Asegurarse que 'fecha' es de tipo datetime\u001b[39;00m\n\u001b[32m      9\u001b[39m df1[\u001b[33m'\u001b[39m\u001b[33mfecha\u001b[39m\u001b[33m'\u001b[39m] = pd.to_datetime(df1[\u001b[33m'\u001b[39m\u001b[33mfecha\u001b[39m\u001b[33m'\u001b[39m])\n",
      "\u001b[36mFile \u001b[39m\u001b[32mc:\\Users\\marco\\Documentos\\investigacion\\arima\\.venv\\Lib\\site-packages\\pandas\\core\\frame.py:5581\u001b[39m, in \u001b[36mDataFrame.drop\u001b[39m\u001b[34m(self, labels, axis, index, columns, level, inplace, errors)\u001b[39m\n\u001b[32m   5433\u001b[39m \u001b[38;5;28;01mdef\u001b[39;00m\u001b[38;5;250m \u001b[39m\u001b[34mdrop\u001b[39m(\n\u001b[32m   5434\u001b[39m     \u001b[38;5;28mself\u001b[39m,\n\u001b[32m   5435\u001b[39m     labels: IndexLabel | \u001b[38;5;28;01mNone\u001b[39;00m = \u001b[38;5;28;01mNone\u001b[39;00m,\n\u001b[32m   (...)\u001b[39m\u001b[32m   5442\u001b[39m     errors: IgnoreRaise = \u001b[33m\"\u001b[39m\u001b[33mraise\u001b[39m\u001b[33m\"\u001b[39m,\n\u001b[32m   5443\u001b[39m ) -> DataFrame | \u001b[38;5;28;01mNone\u001b[39;00m:\n\u001b[32m   5444\u001b[39m \u001b[38;5;250m    \u001b[39m\u001b[33;03m\"\"\"\u001b[39;00m\n\u001b[32m   5445\u001b[39m \u001b[33;03m    Drop specified labels from rows or columns.\u001b[39;00m\n\u001b[32m   5446\u001b[39m \n\u001b[32m   (...)\u001b[39m\u001b[32m   5579\u001b[39m \u001b[33;03m            weight  1.0     0.8\u001b[39;00m\n\u001b[32m   5580\u001b[39m \u001b[33;03m    \"\"\"\u001b[39;00m\n\u001b[32m-> \u001b[39m\u001b[32m5581\u001b[39m     \u001b[38;5;28;01mreturn\u001b[39;00m \u001b[38;5;28;43msuper\u001b[39;49m\u001b[43m(\u001b[49m\u001b[43m)\u001b[49m\u001b[43m.\u001b[49m\u001b[43mdrop\u001b[49m\u001b[43m(\u001b[49m\n\u001b[32m   5582\u001b[39m \u001b[43m        \u001b[49m\u001b[43mlabels\u001b[49m\u001b[43m=\u001b[49m\u001b[43mlabels\u001b[49m\u001b[43m,\u001b[49m\n\u001b[32m   5583\u001b[39m \u001b[43m        \u001b[49m\u001b[43maxis\u001b[49m\u001b[43m=\u001b[49m\u001b[43maxis\u001b[49m\u001b[43m,\u001b[49m\n\u001b[32m   5584\u001b[39m \u001b[43m        \u001b[49m\u001b[43mindex\u001b[49m\u001b[43m=\u001b[49m\u001b[43mindex\u001b[49m\u001b[43m,\u001b[49m\n\u001b[32m   5585\u001b[39m \u001b[43m        \u001b[49m\u001b[43mcolumns\u001b[49m\u001b[43m=\u001b[49m\u001b[43mcolumns\u001b[49m\u001b[43m,\u001b[49m\n\u001b[32m   5586\u001b[39m \u001b[43m        \u001b[49m\u001b[43mlevel\u001b[49m\u001b[43m=\u001b[49m\u001b[43mlevel\u001b[49m\u001b[43m,\u001b[49m\n\u001b[32m   5587\u001b[39m \u001b[43m        \u001b[49m\u001b[43minplace\u001b[49m\u001b[43m=\u001b[49m\u001b[43minplace\u001b[49m\u001b[43m,\u001b[49m\n\u001b[32m   5588\u001b[39m \u001b[43m        \u001b[49m\u001b[43merrors\u001b[49m\u001b[43m=\u001b[49m\u001b[43merrors\u001b[49m\u001b[43m,\u001b[49m\n\u001b[32m   5589\u001b[39m \u001b[43m    \u001b[49m\u001b[43m)\u001b[49m\n",
      "\u001b[36mFile \u001b[39m\u001b[32mc:\\Users\\marco\\Documentos\\investigacion\\arima\\.venv\\Lib\\site-packages\\pandas\\core\\generic.py:4788\u001b[39m, in \u001b[36mNDFrame.drop\u001b[39m\u001b[34m(self, labels, axis, index, columns, level, inplace, errors)\u001b[39m\n\u001b[32m   4786\u001b[39m \u001b[38;5;28;01mfor\u001b[39;00m axis, labels \u001b[38;5;129;01min\u001b[39;00m axes.items():\n\u001b[32m   4787\u001b[39m     \u001b[38;5;28;01mif\u001b[39;00m labels \u001b[38;5;129;01mis\u001b[39;00m \u001b[38;5;129;01mnot\u001b[39;00m \u001b[38;5;28;01mNone\u001b[39;00m:\n\u001b[32m-> \u001b[39m\u001b[32m4788\u001b[39m         obj = \u001b[43mobj\u001b[49m\u001b[43m.\u001b[49m\u001b[43m_drop_axis\u001b[49m\u001b[43m(\u001b[49m\u001b[43mlabels\u001b[49m\u001b[43m,\u001b[49m\u001b[43m \u001b[49m\u001b[43maxis\u001b[49m\u001b[43m,\u001b[49m\u001b[43m \u001b[49m\u001b[43mlevel\u001b[49m\u001b[43m=\u001b[49m\u001b[43mlevel\u001b[49m\u001b[43m,\u001b[49m\u001b[43m \u001b[49m\u001b[43merrors\u001b[49m\u001b[43m=\u001b[49m\u001b[43merrors\u001b[49m\u001b[43m)\u001b[49m\n\u001b[32m   4790\u001b[39m \u001b[38;5;28;01mif\u001b[39;00m inplace:\n\u001b[32m   4791\u001b[39m     \u001b[38;5;28mself\u001b[39m._update_inplace(obj)\n",
      "\u001b[36mFile \u001b[39m\u001b[32mc:\\Users\\marco\\Documentos\\investigacion\\arima\\.venv\\Lib\\site-packages\\pandas\\core\\generic.py:4830\u001b[39m, in \u001b[36mNDFrame._drop_axis\u001b[39m\u001b[34m(self, labels, axis, level, errors, only_slice)\u001b[39m\n\u001b[32m   4828\u001b[39m         new_axis = axis.drop(labels, level=level, errors=errors)\n\u001b[32m   4829\u001b[39m     \u001b[38;5;28;01melse\u001b[39;00m:\n\u001b[32m-> \u001b[39m\u001b[32m4830\u001b[39m         new_axis = \u001b[43maxis\u001b[49m\u001b[43m.\u001b[49m\u001b[43mdrop\u001b[49m\u001b[43m(\u001b[49m\u001b[43mlabels\u001b[49m\u001b[43m,\u001b[49m\u001b[43m \u001b[49m\u001b[43merrors\u001b[49m\u001b[43m=\u001b[49m\u001b[43merrors\u001b[49m\u001b[43m)\u001b[49m\n\u001b[32m   4831\u001b[39m     indexer = axis.get_indexer(new_axis)\n\u001b[32m   4833\u001b[39m \u001b[38;5;66;03m# Case for non-unique axis\u001b[39;00m\n\u001b[32m   4834\u001b[39m \u001b[38;5;28;01melse\u001b[39;00m:\n",
      "\u001b[36mFile \u001b[39m\u001b[32mc:\\Users\\marco\\Documentos\\investigacion\\arima\\.venv\\Lib\\site-packages\\pandas\\core\\indexes\\base.py:7070\u001b[39m, in \u001b[36mIndex.drop\u001b[39m\u001b[34m(self, labels, errors)\u001b[39m\n\u001b[32m   7068\u001b[39m \u001b[38;5;28;01mif\u001b[39;00m mask.any():\n\u001b[32m   7069\u001b[39m     \u001b[38;5;28;01mif\u001b[39;00m errors != \u001b[33m\"\u001b[39m\u001b[33mignore\u001b[39m\u001b[33m\"\u001b[39m:\n\u001b[32m-> \u001b[39m\u001b[32m7070\u001b[39m         \u001b[38;5;28;01mraise\u001b[39;00m \u001b[38;5;167;01mKeyError\u001b[39;00m(\u001b[33mf\u001b[39m\u001b[33m\"\u001b[39m\u001b[38;5;132;01m{\u001b[39;00mlabels[mask].tolist()\u001b[38;5;132;01m}\u001b[39;00m\u001b[33m not found in axis\u001b[39m\u001b[33m\"\u001b[39m)\n\u001b[32m   7071\u001b[39m     indexer = indexer[~mask]\n\u001b[32m   7072\u001b[39m \u001b[38;5;28;01mreturn\u001b[39;00m \u001b[38;5;28mself\u001b[39m.delete(indexer)\n",
      "\u001b[31mKeyError\u001b[39m: \"['Año', 'Día del año'] not found in axis\""
     ]
    }
   ],
   "source": [
    "import pandas as pd\n",
    "\n",
    "# Asumiendo que df1 ya está cargado en memoria\n",
    "\n",
    "# Paso 1: Eliminar las columnas 'Año' y 'Día del año'\n",
    "df1 = df1.drop(columns=['Año', 'Día del año'])\n",
    "\n",
    "# Paso 2: Asegurarse que 'fecha' es de tipo datetime\n",
    "df1['fecha'] = pd.to_datetime(df1['fecha'])\n",
    "\n",
    "# Paso 3: Remuestreo a semana epidemiológica (domingo a sábado)\n",
    "# Primero establecemos 'fecha' como índice\n",
    "df1.set_index('fecha', inplace=True)\n",
    "\n",
    "# Definimos la función para determinar la semana epidemiológica\n",
    "def get_epidemiological_week(date):\n",
    "    # Semana epidemiológica comienza en domingo (0) y termina en sábado (6)\n",
    "    return (date - pd.to_timedelta(date.dayofweek + 1, unit='D')).strftime('%Y-%U')\n",
    "\n",
    "# Remuestreamos por semana epidemiológica\n",
    "# Usamos 'W-SUN' para que las semanas vayan de domingo a sábado\n",
    "df_semanal = df1.resample('W-SUN').agg({\n",
    "    'Temperatura': 'mean',\n",
    "    'Temperatura máxima': 'max',\n",
    "    'Temperatura mínima': 'min',\n",
    "    'Humedad relativa': 'mean',\n",
    "    'Precipitación': 'sum',\n",
    "    'Velocidad del viento': 'mean',\n",
    "    'Velocidad de viento máximo': 'max',\n",
    "    'Velocidad de viento mínima': 'min'\n",
    "})\n",
    "\n",
    "# Resetear el índice para tener 'fecha' como columna nuevamente\n",
    "df_semanal.reset_index(inplace=True)\n",
    "\n",
    "# Opcional: Agregar columnas de año y semana epidemiológica\n",
    "df_semanal['Año epidemiológico'] = df_semanal['fecha'].dt.year\n",
    "df_semanal['Semana epidemiológica'] = df_semanal['fecha'].dt.isocalendar().week\n",
    "\n",
    "# Mostrar las primeras filas del resultado\n",
    "df_semanal.head()\n",
    "\n"
   ]
  },
  {
   "cell_type": "code",
   "execution_count": 17,
   "id": "6afc6aa2",
   "metadata": {},
   "outputs": [
    {
     "data": {
      "application/vnd.microsoft.datawrangler.viewer.v0+json": {
       "columns": [
        {
         "name": "index",
         "rawType": "int64",
         "type": "integer"
        },
        {
         "name": "fecha",
         "rawType": "datetime64[ns]",
         "type": "datetime"
        },
        {
         "name": "Temperatura",
         "rawType": "float64",
         "type": "float"
        },
        {
         "name": "Temperatura máxima",
         "rawType": "float64",
         "type": "float"
        },
        {
         "name": "Temperatura mínima",
         "rawType": "float64",
         "type": "float"
        },
        {
         "name": "Humedad relativa",
         "rawType": "float64",
         "type": "float"
        },
        {
         "name": "Precipitación",
         "rawType": "float64",
         "type": "float"
        },
        {
         "name": "Velocidad del viento",
         "rawType": "float64",
         "type": "float"
        },
        {
         "name": "Velocidad de viento máximo",
         "rawType": "float64",
         "type": "float"
        },
        {
         "name": "Velocidad de viento mínima",
         "rawType": "float64",
         "type": "float"
        },
        {
         "name": "Año epidemiológico",
         "rawType": "int32",
         "type": "integer"
        },
        {
         "name": "Semana epidemiológica",
         "rawType": "UInt32",
         "type": "integer"
        }
       ],
       "ref": "354cbeea-f53e-486e-ad1e-3b6d150123ac",
       "rows": [
        [
         "0",
         "2022-01-02 00:00:00",
         "28.535",
         "34.59",
         "24.03",
         "71.69",
         "1.24",
         "0.105",
         "0.24",
         "0.01",
         "2022",
         "52"
        ],
        [
         "1",
         "2022-01-09 00:00:00",
         "28.12857142857143",
         "36.1",
         "22.75",
         "70.54428571428572",
         "11.47",
         "0.12",
         "0.31",
         "0.01",
         "2022",
         "1"
        ],
        [
         "2",
         "2022-01-16 00:00:00",
         "27.240000000000002",
         "35.01",
         "22.17",
         "73.18857142857144",
         "13.15",
         "0.11571428571428573",
         "0.25",
         "0.0",
         "2022",
         "2"
        ],
        [
         "3",
         "2022-01-23 00:00:00",
         "29.395714285714288",
         "38.15",
         "23.97",
         "67.44285714285715",
         "1.71",
         "0.11285714285714286",
         "0.25",
         "0.01",
         "2022",
         "3"
        ],
        [
         "4",
         "2022-01-30 00:00:00",
         "29.07857142857143",
         "36.46",
         "23.3",
         "65.70285714285714",
         "1.97",
         "0.13999999999999999",
         "0.29",
         "0.04",
         "2022",
         "4"
        ]
       ],
       "shape": {
        "columns": 11,
        "rows": 5
       }
      },
      "text/html": [
       "<div>\n",
       "<style scoped>\n",
       "    .dataframe tbody tr th:only-of-type {\n",
       "        vertical-align: middle;\n",
       "    }\n",
       "\n",
       "    .dataframe tbody tr th {\n",
       "        vertical-align: top;\n",
       "    }\n",
       "\n",
       "    .dataframe thead th {\n",
       "        text-align: right;\n",
       "    }\n",
       "</style>\n",
       "<table border=\"1\" class=\"dataframe\">\n",
       "  <thead>\n",
       "    <tr style=\"text-align: right;\">\n",
       "      <th></th>\n",
       "      <th>fecha</th>\n",
       "      <th>Temperatura</th>\n",
       "      <th>Temperatura máxima</th>\n",
       "      <th>Temperatura mínima</th>\n",
       "      <th>Humedad relativa</th>\n",
       "      <th>Precipitación</th>\n",
       "      <th>Velocidad del viento</th>\n",
       "      <th>Velocidad de viento máximo</th>\n",
       "      <th>Velocidad de viento mínima</th>\n",
       "      <th>Año epidemiológico</th>\n",
       "      <th>Semana epidemiológica</th>\n",
       "    </tr>\n",
       "  </thead>\n",
       "  <tbody>\n",
       "    <tr>\n",
       "      <th>0</th>\n",
       "      <td>2022-01-02</td>\n",
       "      <td>28.535000</td>\n",
       "      <td>34.59</td>\n",
       "      <td>24.03</td>\n",
       "      <td>71.690000</td>\n",
       "      <td>1.24</td>\n",
       "      <td>0.105000</td>\n",
       "      <td>0.24</td>\n",
       "      <td>0.01</td>\n",
       "      <td>2022</td>\n",
       "      <td>52</td>\n",
       "    </tr>\n",
       "    <tr>\n",
       "      <th>1</th>\n",
       "      <td>2022-01-09</td>\n",
       "      <td>28.128571</td>\n",
       "      <td>36.10</td>\n",
       "      <td>22.75</td>\n",
       "      <td>70.544286</td>\n",
       "      <td>11.47</td>\n",
       "      <td>0.120000</td>\n",
       "      <td>0.31</td>\n",
       "      <td>0.01</td>\n",
       "      <td>2022</td>\n",
       "      <td>1</td>\n",
       "    </tr>\n",
       "    <tr>\n",
       "      <th>2</th>\n",
       "      <td>2022-01-16</td>\n",
       "      <td>27.240000</td>\n",
       "      <td>35.01</td>\n",
       "      <td>22.17</td>\n",
       "      <td>73.188571</td>\n",
       "      <td>13.15</td>\n",
       "      <td>0.115714</td>\n",
       "      <td>0.25</td>\n",
       "      <td>0.00</td>\n",
       "      <td>2022</td>\n",
       "      <td>2</td>\n",
       "    </tr>\n",
       "    <tr>\n",
       "      <th>3</th>\n",
       "      <td>2022-01-23</td>\n",
       "      <td>29.395714</td>\n",
       "      <td>38.15</td>\n",
       "      <td>23.97</td>\n",
       "      <td>67.442857</td>\n",
       "      <td>1.71</td>\n",
       "      <td>0.112857</td>\n",
       "      <td>0.25</td>\n",
       "      <td>0.01</td>\n",
       "      <td>2022</td>\n",
       "      <td>3</td>\n",
       "    </tr>\n",
       "    <tr>\n",
       "      <th>4</th>\n",
       "      <td>2022-01-30</td>\n",
       "      <td>29.078571</td>\n",
       "      <td>36.46</td>\n",
       "      <td>23.30</td>\n",
       "      <td>65.702857</td>\n",
       "      <td>1.97</td>\n",
       "      <td>0.140000</td>\n",
       "      <td>0.29</td>\n",
       "      <td>0.04</td>\n",
       "      <td>2022</td>\n",
       "      <td>4</td>\n",
       "    </tr>\n",
       "  </tbody>\n",
       "</table>\n",
       "</div>"
      ],
      "text/plain": [
       "       fecha  Temperatura  Temperatura máxima  Temperatura mínima  \\\n",
       "0 2022-01-02    28.535000               34.59               24.03   \n",
       "1 2022-01-09    28.128571               36.10               22.75   \n",
       "2 2022-01-16    27.240000               35.01               22.17   \n",
       "3 2022-01-23    29.395714               38.15               23.97   \n",
       "4 2022-01-30    29.078571               36.46               23.30   \n",
       "\n",
       "   Humedad relativa  Precipitación  Velocidad del viento  \\\n",
       "0         71.690000           1.24              0.105000   \n",
       "1         70.544286          11.47              0.120000   \n",
       "2         73.188571          13.15              0.115714   \n",
       "3         67.442857           1.71              0.112857   \n",
       "4         65.702857           1.97              0.140000   \n",
       "\n",
       "   Velocidad de viento máximo  Velocidad de viento mínima  Año epidemiológico  \\\n",
       "0                        0.24                        0.01                2022   \n",
       "1                        0.31                        0.01                2022   \n",
       "2                        0.25                        0.00                2022   \n",
       "3                        0.25                        0.01                2022   \n",
       "4                        0.29                        0.04                2022   \n",
       "\n",
       "   Semana epidemiológica  \n",
       "0                     52  \n",
       "1                      1  \n",
       "2                      2  \n",
       "3                      3  \n",
       "4                      4  "
      ]
     },
     "execution_count": 17,
     "metadata": {},
     "output_type": "execute_result"
    }
   ],
   "source": [
    "df_semanal.head() "
   ]
  },
  {
   "cell_type": "markdown",
   "id": "25861e87",
   "metadata": {},
   "source": [
    "\n",
    "### Explicación:\n",
    "1. **Eliminación de columnas**: Se eliminan las columnas 'Año' y 'Día del año' como solicitaste.\n",
    "2. **Conversión de fecha**: Se asegura que la columna 'fecha' sea de tipo datetime.\n",
    "3. **Remuestreo semanal**: \n",
    "   - Se usa `resample('W-SUN')` para agrupar por semanas que comienzan en domingo.\n",
    "   - Se aplican diferentes funciones de agregación para cada variable:\n",
    "     - Temperaturas: media para la normal, max/mín para extremos\n",
    "     - Humedad: media\n",
    "     - Precipitación: suma acumulada semanal\n",
    "     - Viento: media para velocidad normal, max/mín para extremos\n",
    "4. **Columnas adicionales**: Se añaden columnas para identificar el año y número de semana epidemiológica.\n",
    "\n",
    "El resultado será un dataframe con datos agregados por semana epidemiológica (domingo a sábado) para todo el período 2022-2024."
   ]
  },
  {
   "cell_type": "code",
   "execution_count": 14,
   "id": "e82eb823",
   "metadata": {},
   "outputs": [
    {
     "data": {
      "text/plain": [
       "(Index(['Año', 'Día del año', 'Temperatura', 'Temperatura máxima',\n",
       "        'Temperatura mínima', 'Humedad relativa', 'Precipitación',\n",
       "        'Velocidad del viento', 'Velocidad de viento máximo',\n",
       "        'Velocidad de viento mínima', 'fecha'],\n",
       "       dtype='object'),\n",
       " Timestamp('2022-01-01 00:00:00'),\n",
       " Timestamp('2024-12-31 00:00:00'))"
      ]
     },
     "execution_count": 14,
     "metadata": {},
     "output_type": "execute_result"
    }
   ],
   "source": [
    "df1.keys(), df1.fecha.iloc[0], df1.fecha.iloc[-1]"
   ]
  },
  {
   "cell_type": "markdown",
   "id": "e0c0d867",
   "metadata": {},
   "source": [
    "# Importación datos epidemiológicos  \n",
    "\n"
   ]
  },
  {
   "cell_type": "code",
   "execution_count": 15,
   "id": "948fb315",
   "metadata": {},
   "outputs": [],
   "source": [
    "df2 = pd.read_excel(r\"C:\\Users\\marco\\OneDrive - Universidad de Antioquia\\Documentos\\2_recursos_ensenanza\\8_arima\\BS_DENGUE_SEC_SALUD_2022-2024.xlsx\")"
   ]
  },
  {
   "cell_type": "code",
   "execution_count": 16,
   "id": "03b0d370",
   "metadata": {},
   "outputs": [
    {
     "data": {
      "application/vnd.microsoft.datawrangler.viewer.v0+json": {
       "columns": [
        {
         "name": "index",
         "rawType": "int64",
         "type": "integer"
        },
        {
         "name": "cod_eve",
         "rawType": "int64",
         "type": "integer"
        },
        {
         "name": "fec_not",
         "rawType": "datetime64[ns]",
         "type": "datetime"
        },
        {
         "name": "semana",
         "rawType": "int64",
         "type": "integer"
        },
        {
         "name": "año",
         "rawType": "int64",
         "type": "integer"
        },
        {
         "name": "cod_pre",
         "rawType": "int64",
         "type": "integer"
        },
        {
         "name": "cod_sub",
         "rawType": "int64",
         "type": "integer"
        },
        {
         "name": "edad_",
         "rawType": "int64",
         "type": "integer"
        },
        {
         "name": "uni_med_",
         "rawType": "int64",
         "type": "integer"
        },
        {
         "name": "nacionali_",
         "rawType": "int64",
         "type": "integer"
        },
        {
         "name": "nombre_nacionalidad",
         "rawType": "object",
         "type": "string"
        },
        {
         "name": "sexo_",
         "rawType": "object",
         "type": "string"
        },
        {
         "name": "iden_gener",
         "rawType": "float64",
         "type": "float"
        },
        {
         "name": "otra_ident",
         "rawType": "float64",
         "type": "float"
        },
        {
         "name": "orient_sex",
         "rawType": "float64",
         "type": "float"
        },
        {
         "name": "otra_orien",
         "rawType": "float64",
         "type": "float"
        },
        {
         "name": "cod_pais_o",
         "rawType": "int64",
         "type": "integer"
        },
        {
         "name": "cod_dpto_o",
         "rawType": "object",
         "type": "string"
        },
        {
         "name": "cod_mun_o",
         "rawType": "int64",
         "type": "integer"
        },
        {
         "name": "area_",
         "rawType": "int64",
         "type": "integer"
        },
        {
         "name": "localidad_",
         "rawType": "object",
         "type": "string"
        },
        {
         "name": "cen_pobla_",
         "rawType": "object",
         "type": "unknown"
        },
        {
         "name": "vereda_",
         "rawType": "object",
         "type": "unknown"
        },
        {
         "name": "bar_ver_",
         "rawType": "object",
         "type": "string"
        },
        {
         "name": "dir_res_",
         "rawType": "object",
         "type": "string"
        },
        {
         "name": "lat_dir",
         "rawType": "float64",
         "type": "float"
        },
        {
         "name": "long_dir",
         "rawType": "float64",
         "type": "float"
        },
        {
         "name": "ocupacion_",
         "rawType": "object",
         "type": "string"
        },
        {
         "name": "tip_ss_",
         "rawType": "object",
         "type": "string"
        },
        {
         "name": "cod_ase_",
         "rawType": "object",
         "type": "string"
        },
        {
         "name": "per_etn_",
         "rawType": "int64",
         "type": "integer"
        },
        {
         "name": "nom_grupo_",
         "rawType": "object",
         "type": "unknown"
        },
        {
         "name": "estrato_",
         "rawType": "float64",
         "type": "float"
        },
        {
         "name": "gp_discapa",
         "rawType": "int64",
         "type": "integer"
        },
        {
         "name": "gp_desplaz",
         "rawType": "int64",
         "type": "integer"
        },
        {
         "name": "gp_migrant",
         "rawType": "int64",
         "type": "integer"
        },
        {
         "name": "gp_carcela",
         "rawType": "int64",
         "type": "integer"
        },
        {
         "name": "gp_gestan",
         "rawType": "float64",
         "type": "float"
        },
        {
         "name": "sem_ges_",
         "rawType": "float64",
         "type": "float"
        },
        {
         "name": "gp_indigen",
         "rawType": "int64",
         "type": "integer"
        },
        {
         "name": "gp_pobicbf",
         "rawType": "int64",
         "type": "integer"
        },
        {
         "name": "gp_mad_com",
         "rawType": "float64",
         "type": "float"
        },
        {
         "name": "gp_desmovi",
         "rawType": "int64",
         "type": "integer"
        },
        {
         "name": "gp_psiquia",
         "rawType": "int64",
         "type": "integer"
        },
        {
         "name": "gp_vic_vio",
         "rawType": "int64",
         "type": "integer"
        },
        {
         "name": "gp_otros",
         "rawType": "int64",
         "type": "integer"
        },
        {
         "name": "fuente_",
         "rawType": "int64",
         "type": "integer"
        },
        {
         "name": "cod_pais_r",
         "rawType": "int64",
         "type": "integer"
        },
        {
         "name": "cod_dpto_r",
         "rawType": "int64",
         "type": "integer"
        },
        {
         "name": "cod_mun_r",
         "rawType": "int64",
         "type": "integer"
        },
        {
         "name": "fec_con_",
         "rawType": "datetime64[ns]",
         "type": "datetime"
        },
        {
         "name": "ini_sin_",
         "rawType": "datetime64[ns]",
         "type": "datetime"
        },
        {
         "name": "tip_cas_",
         "rawType": "int64",
         "type": "integer"
        },
        {
         "name": "pac_hos_",
         "rawType": "int64",
         "type": "integer"
        },
        {
         "name": "fec_hos_",
         "rawType": "object",
         "type": "unknown"
        },
        {
         "name": "con_fin_",
         "rawType": "int64",
         "type": "integer"
        },
        {
         "name": "fec_def_",
         "rawType": "object",
         "type": "string"
        },
        {
         "name": "ajuste_",
         "rawType": "object",
         "type": "string"
        },
        {
         "name": "telefono_",
         "rawType": "object",
         "type": "string"
        },
        {
         "name": "fecha_nto_",
         "rawType": "object",
         "type": "unknown"
        },
        {
         "name": "cer_def_",
         "rawType": "float64",
         "type": "float"
        },
        {
         "name": "cbmte_",
         "rawType": "float64",
         "type": "float"
        },
        {
         "name": "uni_modif",
         "rawType": "object",
         "type": "unknown"
        },
        {
         "name": "nuni_modif",
         "rawType": "object",
         "type": "unknown"
        },
        {
         "name": "fec_arc_xl",
         "rawType": "object",
         "type": "unknown"
        },
        {
         "name": "nom_dil_f_",
         "rawType": "object",
         "type": "string"
        },
        {
         "name": "tel_dil_f_",
         "rawType": "object",
         "type": "string"
        },
        {
         "name": "fec_aju_",
         "rawType": "datetime64[ns]",
         "type": "datetime"
        },
        {
         "name": "nit_upgd",
         "rawType": "float64",
         "type": "float"
        },
        {
         "name": "fm_fuerza",
         "rawType": "float64",
         "type": "float"
        },
        {
         "name": "fm_unidad",
         "rawType": "float64",
         "type": "float"
        },
        {
         "name": "fm_grado",
         "rawType": "float64",
         "type": "float"
        },
        {
         "name": "version",
         "rawType": "object",
         "type": "string"
        },
        {
         "name": "desplazami",
         "rawType": "float64",
         "type": "float"
        },
        {
         "name": "cod_pais_d",
         "rawType": "float64",
         "type": "float"
        },
        {
         "name": "cod_dep_d",
         "rawType": "float64",
         "type": "float"
        },
        {
         "name": "cod_mun_d",
         "rawType": "float64",
         "type": "float"
        },
        {
         "name": "famantdngu",
         "rawType": "float64",
         "type": "float"
        },
        {
         "name": "direclabor",
         "rawType": "object",
         "type": "string"
        },
        {
         "name": "fiebre",
         "rawType": "int64",
         "type": "integer"
        },
        {
         "name": "cefalea",
         "rawType": "int64",
         "type": "integer"
        },
        {
         "name": "dolrretroo",
         "rawType": "int64",
         "type": "integer"
        },
        {
         "name": "malgias",
         "rawType": "int64",
         "type": "integer"
        },
        {
         "name": "artralgia",
         "rawType": "int64",
         "type": "integer"
        },
        {
         "name": "erupcionr",
         "rawType": "float64",
         "type": "float"
        },
        {
         "name": "dolor_abdo",
         "rawType": "float64",
         "type": "float"
        },
        {
         "name": "vomito",
         "rawType": "float64",
         "type": "float"
        },
        {
         "name": "diarrea",
         "rawType": "float64",
         "type": "float"
        },
        {
         "name": "somnolenci",
         "rawType": "float64",
         "type": "float"
        },
        {
         "name": "hipotensio",
         "rawType": "float64",
         "type": "float"
        },
        {
         "name": "hepatomeg",
         "rawType": "float64",
         "type": "float"
        },
        {
         "name": "hem_mucosa",
         "rawType": "float64",
         "type": "float"
        },
        {
         "name": "hipotermia",
         "rawType": "float64",
         "type": "float"
        },
        {
         "name": "aum_hemato",
         "rawType": "float64",
         "type": "float"
        },
        {
         "name": "caida_plaq",
         "rawType": "float64",
         "type": "float"
        },
        {
         "name": "acum_liqui",
         "rawType": "float64",
         "type": "float"
        },
        {
         "name": "extravasac",
         "rawType": "float64",
         "type": "float"
        },
        {
         "name": "hemorr_hem",
         "rawType": "float64",
         "type": "float"
        },
        {
         "name": "choque",
         "rawType": "float64",
         "type": "float"
        },
        {
         "name": "daño_organ",
         "rawType": "float64",
         "type": "float"
        },
        {
         "name": "muesttejid",
         "rawType": "float64",
         "type": "float"
        },
        {
         "name": "mueshigado",
         "rawType": "float64",
         "type": "float"
        },
        {
         "name": "muesbazo",
         "rawType": "float64",
         "type": "float"
        },
        {
         "name": "muespulmon",
         "rawType": "float64",
         "type": "float"
        },
        {
         "name": "muescerebr",
         "rawType": "float64",
         "type": "float"
        },
        {
         "name": "muesmiocar",
         "rawType": "float64",
         "type": "float"
        },
        {
         "name": "muesmedula",
         "rawType": "float64",
         "type": "float"
        },
        {
         "name": "muesriñon",
         "rawType": "float64",
         "type": "float"
        },
        {
         "name": "clasfinal",
         "rawType": "int64",
         "type": "integer"
        },
        {
         "name": "conducta",
         "rawType": "float64",
         "type": "float"
        },
        {
         "name": "nom_eve",
         "rawType": "object",
         "type": "string"
        },
        {
         "name": "nom_upgd",
         "rawType": "object",
         "type": "string"
        },
        {
         "name": "npais_proce",
         "rawType": "object",
         "type": "string"
        },
        {
         "name": "ndep_proce",
         "rawType": "object",
         "type": "string"
        },
        {
         "name": "nmun_proce",
         "rawType": "object",
         "type": "string"
        },
        {
         "name": "npais_resi",
         "rawType": "object",
         "type": "string"
        },
        {
         "name": "ndep_resi",
         "rawType": "object",
         "type": "string"
        },
        {
         "name": "nmun_resi",
         "rawType": "object",
         "type": "string"
        },
        {
         "name": "ndep_notif",
         "rawType": "object",
         "type": "string"
        },
        {
         "name": "nmun_notif",
         "rawType": "object",
         "type": "string"
        },
        {
         "name": "nreg",
         "rawType": "object",
         "type": "unknown"
        }
       ],
       "ref": "f9a053e9-07be-46d1-b59a-dbb28bc9b276",
       "rows": [
        [
         "0",
         "210",
         "2022-01-01 00:00:00",
         "52",
         "2021",
         "515402201",
         "1",
         "31",
         "1",
         "170",
         "COLOMBIA",
         "M",
         null,
         null,
         null,
         null,
         "170",
         "05",
         "154",
         "1",
         "URBANO",
         null,
         null,
         "ASOVIVIENDA",
         "ASOVIVIENDA",
         "0.0",
         "0.0",
         "99999.07",
         "C",
         "ESSC24",
         "6",
         null,
         "1.0",
         "2",
         "2",
         "2",
         "2",
         null,
         null,
         "2",
         "2",
         null,
         "2",
         "2",
         "2",
         "1",
         "1",
         "170",
         "5",
         "154",
         "2021-12-31 00:00:00",
         "2021-12-30 00:00:00",
         "2",
         "1",
         "2021-12-31 00:00:00",
         "1",
         "  -   -",
         "6",
         "3145970143",
         "1990-10-10 00:00:00",
         null,
         null,
         "051540000000",
         "SECRETARIA DE SALUD CAUCASIA",
         "2024-08-06 00:00:00",
         "GLORIA PEREIRA JIMENEZ SISSIV[C00FC0]",
         "3201212",
         "2022-01-12 00:00:00",
         "890980757.0",
         null,
         null,
         null,
         "SIVIGILA - 2018 -18.4.0$0$0.1",
         "2.0",
         null,
         null,
         null,
         "2.0",
         "NO",
         "1",
         "1",
         "2",
         "1",
         "2",
         "2.0",
         "1.0",
         "2.0",
         "2.0",
         "2.0",
         "2.0",
         "2.0",
         "2.0",
         "2.0",
         "2.0",
         "2.0",
         "2.0",
         null,
         null,
         null,
         null,
         null,
         null,
         null,
         null,
         null,
         null,
         null,
         null,
         "2",
         "2.0",
         "DENGUE",
         "ESE HOSPITAL CESAR URIBE PIEDRAHITA",
         "COLOMBIA",
         "ANTIOQUIA",
         "CAUCASIA",
         "COLOMBIA",
         "ANTIOQUIA",
         "CAUCASIA",
         "ANTIOQUIA",
         "CAUCASIA",
         "2142"
        ],
        [
         "1",
         "210",
         "2022-01-01 00:00:00",
         "52",
         "2021",
         "515402201",
         "1",
         "16",
         "1",
         "170",
         "COLOMBIA",
         "F",
         null,
         null,
         null,
         null,
         "170",
         "05",
         "154",
         "1",
         "URBANO",
         null,
         null,
         "EL CAMELLO 1",
         "EL CAMELLO 1",
         "0.0",
         "0.0",
         "99999.07",
         "S",
         "EPSS40",
         "6",
         null,
         "1.0",
         "2",
         "2",
         "2",
         "2",
         "2.0",
         null,
         "2",
         "2",
         "2.0",
         "2",
         "2",
         "2",
         "1",
         "1",
         "170",
         "5",
         "154",
         "2022-01-01 00:00:00",
         "2021-12-27 00:00:00",
         "2",
         "1",
         "2022-01-01 00:00:00",
         "1",
         "  -   -",
         "6",
         "3116438384",
         "2005-12-19 00:00:00",
         null,
         null,
         "051540220101",
         "ESE HOSPITAL CESAR URIBE PIEDRAHITA",
         "2024-08-06 00:00:00",
         "GLORIA PEREIRA JIMENEZ SISSIV[C00FC0]",
         "3201212",
         "2022-01-25 00:00:00",
         "890980757.0",
         null,
         null,
         null,
         "SIVIGILA - 2018 -18.4.0$0$0.1",
         "2.0",
         null,
         null,
         null,
         "2.0",
         "CAMELLO 1",
         "1",
         "1",
         "2",
         "1",
         "2",
         "2.0",
         "1.0",
         "1.0",
         "2.0",
         "2.0",
         "2.0",
         "2.0",
         "2.0",
         "2.0",
         "2.0",
         "2.0",
         "2.0",
         null,
         null,
         null,
         null,
         null,
         null,
         null,
         null,
         null,
         null,
         null,
         null,
         "2",
         "2.0",
         "DENGUE",
         "ESE HOSPITAL CESAR URIBE PIEDRAHITA",
         "COLOMBIA",
         "ANTIOQUIA",
         "CAUCASIA",
         "COLOMBIA",
         "ANTIOQUIA",
         "CAUCASIA",
         "ANTIOQUIA",
         "CAUCASIA",
         "2144"
        ],
        [
         "2",
         "210",
         "2022-01-01 00:00:00",
         "51",
         "2021",
         "515402201",
         "1",
         "79",
         "1",
         "170",
         "COLOMBIA",
         "M",
         null,
         null,
         null,
         null,
         "170",
         "05",
         "154",
         "1",
         "URBANO",
         null,
         null,
         "LAS BRISAS DEL CAUCA",
         "LAS BRISAS",
         "0.0",
         "0.0",
         "96220",
         "S",
         "ESS024",
         "6",
         null,
         "1.0",
         "2",
         "2",
         "2",
         "2",
         null,
         null,
         "2",
         "2",
         null,
         "2",
         "2",
         "2",
         "1",
         "1",
         "170",
         "5",
         "154",
         "2021-12-25 00:00:00",
         "2021-12-25 00:00:00",
         "2",
         "1",
         "2021-12-25 00:00:00",
         "1",
         "  -   -",
         "6",
         "3114218754",
         "1942-02-07 00:00:00",
         null,
         null,
         "051540220101",
         "ESE HOSPITAL CESAR URIBE PIEDRAHITA",
         "2024-08-06 00:00:00",
         "GLORIA PEREIRA JIMENEZ SISSIV[C00FC0]",
         "3201212",
         "2022-01-25 00:00:00",
         "890980757.0",
         null,
         null,
         null,
         "SIVIGILA - 2018 -18.4.0$0$0.1",
         "2.0",
         null,
         null,
         null,
         "2.0",
         "NO",
         "1",
         "1",
         "2",
         "2",
         "1",
         "2.0",
         "2.0",
         "1.0",
         "1.0",
         "2.0",
         "2.0",
         "2.0",
         "1.0",
         "2.0",
         "2.0",
         "2.0",
         "2.0",
         null,
         null,
         null,
         null,
         null,
         null,
         null,
         null,
         null,
         null,
         null,
         null,
         "2",
         "2.0",
         "DENGUE",
         "ESE HOSPITAL CESAR URIBE PIEDRAHITA",
         "COLOMBIA",
         "ANTIOQUIA",
         "CAUCASIA",
         "COLOMBIA",
         "ANTIOQUIA",
         "CAUCASIA",
         "ANTIOQUIA",
         "CAUCASIA",
         "2152"
        ],
        [
         "3",
         "210",
         "2022-01-01 00:00:00",
         "51",
         "2021",
         "515402201",
         "1",
         "14",
         "1",
         "170",
         "COLOMBIA",
         "M",
         null,
         null,
         null,
         null,
         "170",
         "05",
         "120",
         "1",
         "URBANO",
         null,
         null,
         "LAS VEGAS - CÁCERES",
         "LAS VEGAS",
         "0.0",
         "0.0",
         "99999.07",
         "C",
         "ESSC24",
         "6",
         null,
         "1.0",
         "2",
         "2",
         "2",
         "2",
         null,
         null,
         "2",
         "2",
         null,
         "2",
         "2",
         "2",
         "1",
         "1",
         "170",
         "5",
         "120",
         "2021-12-29 00:00:00",
         "2021-12-24 00:00:00",
         "3",
         "1",
         "2021-12-29 00:00:00",
         "1",
         "  -   -",
         "0",
         "3234801556-323480155",
         "2007-08-26 00:00:00",
         null,
         null,
         null,
         null,
         "2024-08-06 00:00:00",
         "GLORIA PEREIRA JIMENEZ SISSIV[C00FC0]",
         "3201212",
         "2022-01-03 00:00:00",
         "890980757.0",
         null,
         null,
         null,
         "SIVIGILA - 2018 -18.4.0$0$0.1",
         "2.0",
         null,
         null,
         null,
         "2.0",
         "NO",
         "1",
         "2",
         "2",
         "1",
         "1",
         "2.0",
         "1.0",
         "1.0",
         "1.0",
         "2.0",
         "2.0",
         "2.0",
         "2.0",
         "2.0",
         "2.0",
         "2.0",
         "2.0",
         null,
         null,
         null,
         null,
         null,
         null,
         null,
         null,
         null,
         null,
         null,
         null,
         "2",
         "2.0",
         "DENGUE",
         "ESE HOSPITAL CESAR URIBE PIEDRAHITA",
         "COLOMBIA",
         "ANTIOQUIA",
         "CACERES",
         "COLOMBIA",
         "ANTIOQUIA",
         "CACERES",
         "ANTIOQUIA",
         "CAUCASIA",
         "2154"
        ],
        [
         "4",
         "210",
         "2022-01-01 00:00:00",
         "52",
         "2021",
         "515402201",
         "1",
         "4",
         "1",
         "170",
         "COLOMBIA",
         "F",
         null,
         null,
         null,
         null,
         "170",
         "05",
         "154",
         "1",
         "URBANO",
         null,
         null,
         "PUEBLO NUEVO",
         "PUEBLO NUEVO",
         "0.0",
         "0.0",
         "99999.07",
         "P",
         "RES005",
         "6",
         null,
         "1.0",
         "2",
         "2",
         "2",
         "2",
         "2.0",
         null,
         "2",
         "2",
         "2.0",
         "2",
         "2",
         "2",
         "1",
         "1",
         "170",
         "5",
         "154",
         "2022-01-01 00:00:00",
         "2021-12-27 00:00:00",
         "2",
         "1",
         "2022-01-01 00:00:00",
         "1",
         "  -   -",
         "6",
         "3146448441",
         "2017-05-30 00:00:00",
         null,
         null,
         "051540220101",
         "ESE HOSPITAL CESAR URIBE PIEDRAHITA",
         "2024-08-06 00:00:00",
         "GLORIA PEREIRA JIMENEZ",
         "3201212",
         "2022-01-25 00:00:00",
         "890980757.0",
         null,
         null,
         null,
         "SIVIGILA - 2018 -18.4.0$0$0.1",
         "2.0",
         null,
         null,
         null,
         "2.0",
         "NO",
         "1",
         "1",
         "2",
         "1",
         "2",
         "2.0",
         "1.0",
         "2.0",
         "2.0",
         "2.0",
         "2.0",
         "2.0",
         "2.0",
         "2.0",
         "2.0",
         "2.0",
         "2.0",
         null,
         null,
         null,
         null,
         null,
         null,
         null,
         null,
         null,
         null,
         null,
         null,
         "2",
         "2.0",
         "DENGUE",
         "ESE HOSPITAL CESAR URIBE PIEDRAHITA",
         "COLOMBIA",
         "ANTIOQUIA",
         "CAUCASIA",
         "COLOMBIA",
         "ANTIOQUIA",
         "CAUCASIA",
         "ANTIOQUIA",
         "CAUCASIA",
         "2140"
        ]
       ],
       "shape": {
        "columns": 120,
        "rows": 5
       }
      },
      "text/html": [
       "<div>\n",
       "<style scoped>\n",
       "    .dataframe tbody tr th:only-of-type {\n",
       "        vertical-align: middle;\n",
       "    }\n",
       "\n",
       "    .dataframe tbody tr th {\n",
       "        vertical-align: top;\n",
       "    }\n",
       "\n",
       "    .dataframe thead th {\n",
       "        text-align: right;\n",
       "    }\n",
       "</style>\n",
       "<table border=\"1\" class=\"dataframe\">\n",
       "  <thead>\n",
       "    <tr style=\"text-align: right;\">\n",
       "      <th></th>\n",
       "      <th>cod_eve</th>\n",
       "      <th>fec_not</th>\n",
       "      <th>semana</th>\n",
       "      <th>año</th>\n",
       "      <th>cod_pre</th>\n",
       "      <th>cod_sub</th>\n",
       "      <th>edad_</th>\n",
       "      <th>uni_med_</th>\n",
       "      <th>nacionali_</th>\n",
       "      <th>nombre_nacionalidad</th>\n",
       "      <th>...</th>\n",
       "      <th>nom_upgd</th>\n",
       "      <th>npais_proce</th>\n",
       "      <th>ndep_proce</th>\n",
       "      <th>nmun_proce</th>\n",
       "      <th>npais_resi</th>\n",
       "      <th>ndep_resi</th>\n",
       "      <th>nmun_resi</th>\n",
       "      <th>ndep_notif</th>\n",
       "      <th>nmun_notif</th>\n",
       "      <th>nreg</th>\n",
       "    </tr>\n",
       "  </thead>\n",
       "  <tbody>\n",
       "    <tr>\n",
       "      <th>0</th>\n",
       "      <td>210</td>\n",
       "      <td>2022-01-01</td>\n",
       "      <td>52</td>\n",
       "      <td>2021</td>\n",
       "      <td>515402201</td>\n",
       "      <td>1</td>\n",
       "      <td>31</td>\n",
       "      <td>1</td>\n",
       "      <td>170</td>\n",
       "      <td>COLOMBIA</td>\n",
       "      <td>...</td>\n",
       "      <td>ESE HOSPITAL CESAR URIBE PIEDRAHITA</td>\n",
       "      <td>COLOMBIA</td>\n",
       "      <td>ANTIOQUIA</td>\n",
       "      <td>CAUCASIA</td>\n",
       "      <td>COLOMBIA</td>\n",
       "      <td>ANTIOQUIA</td>\n",
       "      <td>CAUCASIA</td>\n",
       "      <td>ANTIOQUIA</td>\n",
       "      <td>CAUCASIA</td>\n",
       "      <td>2142</td>\n",
       "    </tr>\n",
       "    <tr>\n",
       "      <th>1</th>\n",
       "      <td>210</td>\n",
       "      <td>2022-01-01</td>\n",
       "      <td>52</td>\n",
       "      <td>2021</td>\n",
       "      <td>515402201</td>\n",
       "      <td>1</td>\n",
       "      <td>16</td>\n",
       "      <td>1</td>\n",
       "      <td>170</td>\n",
       "      <td>COLOMBIA</td>\n",
       "      <td>...</td>\n",
       "      <td>ESE HOSPITAL CESAR URIBE PIEDRAHITA</td>\n",
       "      <td>COLOMBIA</td>\n",
       "      <td>ANTIOQUIA</td>\n",
       "      <td>CAUCASIA</td>\n",
       "      <td>COLOMBIA</td>\n",
       "      <td>ANTIOQUIA</td>\n",
       "      <td>CAUCASIA</td>\n",
       "      <td>ANTIOQUIA</td>\n",
       "      <td>CAUCASIA</td>\n",
       "      <td>2144</td>\n",
       "    </tr>\n",
       "    <tr>\n",
       "      <th>2</th>\n",
       "      <td>210</td>\n",
       "      <td>2022-01-01</td>\n",
       "      <td>51</td>\n",
       "      <td>2021</td>\n",
       "      <td>515402201</td>\n",
       "      <td>1</td>\n",
       "      <td>79</td>\n",
       "      <td>1</td>\n",
       "      <td>170</td>\n",
       "      <td>COLOMBIA</td>\n",
       "      <td>...</td>\n",
       "      <td>ESE HOSPITAL CESAR URIBE PIEDRAHITA</td>\n",
       "      <td>COLOMBIA</td>\n",
       "      <td>ANTIOQUIA</td>\n",
       "      <td>CAUCASIA</td>\n",
       "      <td>COLOMBIA</td>\n",
       "      <td>ANTIOQUIA</td>\n",
       "      <td>CAUCASIA</td>\n",
       "      <td>ANTIOQUIA</td>\n",
       "      <td>CAUCASIA</td>\n",
       "      <td>2152</td>\n",
       "    </tr>\n",
       "    <tr>\n",
       "      <th>3</th>\n",
       "      <td>210</td>\n",
       "      <td>2022-01-01</td>\n",
       "      <td>51</td>\n",
       "      <td>2021</td>\n",
       "      <td>515402201</td>\n",
       "      <td>1</td>\n",
       "      <td>14</td>\n",
       "      <td>1</td>\n",
       "      <td>170</td>\n",
       "      <td>COLOMBIA</td>\n",
       "      <td>...</td>\n",
       "      <td>ESE HOSPITAL CESAR URIBE PIEDRAHITA</td>\n",
       "      <td>COLOMBIA</td>\n",
       "      <td>ANTIOQUIA</td>\n",
       "      <td>CACERES</td>\n",
       "      <td>COLOMBIA</td>\n",
       "      <td>ANTIOQUIA</td>\n",
       "      <td>CACERES</td>\n",
       "      <td>ANTIOQUIA</td>\n",
       "      <td>CAUCASIA</td>\n",
       "      <td>2154</td>\n",
       "    </tr>\n",
       "    <tr>\n",
       "      <th>4</th>\n",
       "      <td>210</td>\n",
       "      <td>2022-01-01</td>\n",
       "      <td>52</td>\n",
       "      <td>2021</td>\n",
       "      <td>515402201</td>\n",
       "      <td>1</td>\n",
       "      <td>4</td>\n",
       "      <td>1</td>\n",
       "      <td>170</td>\n",
       "      <td>COLOMBIA</td>\n",
       "      <td>...</td>\n",
       "      <td>ESE HOSPITAL CESAR URIBE PIEDRAHITA</td>\n",
       "      <td>COLOMBIA</td>\n",
       "      <td>ANTIOQUIA</td>\n",
       "      <td>CAUCASIA</td>\n",
       "      <td>COLOMBIA</td>\n",
       "      <td>ANTIOQUIA</td>\n",
       "      <td>CAUCASIA</td>\n",
       "      <td>ANTIOQUIA</td>\n",
       "      <td>CAUCASIA</td>\n",
       "      <td>2140</td>\n",
       "    </tr>\n",
       "  </tbody>\n",
       "</table>\n",
       "<p>5 rows × 120 columns</p>\n",
       "</div>"
      ],
      "text/plain": [
       "   cod_eve    fec_not  semana   año    cod_pre  cod_sub  edad_  uni_med_  \\\n",
       "0      210 2022-01-01      52  2021  515402201        1     31         1   \n",
       "1      210 2022-01-01      52  2021  515402201        1     16         1   \n",
       "2      210 2022-01-01      51  2021  515402201        1     79         1   \n",
       "3      210 2022-01-01      51  2021  515402201        1     14         1   \n",
       "4      210 2022-01-01      52  2021  515402201        1      4         1   \n",
       "\n",
       "   nacionali_ nombre_nacionalidad  ...                             nom_upgd  \\\n",
       "0         170            COLOMBIA  ...  ESE HOSPITAL CESAR URIBE PIEDRAHITA   \n",
       "1         170            COLOMBIA  ...  ESE HOSPITAL CESAR URIBE PIEDRAHITA   \n",
       "2         170            COLOMBIA  ...  ESE HOSPITAL CESAR URIBE PIEDRAHITA   \n",
       "3         170            COLOMBIA  ...  ESE HOSPITAL CESAR URIBE PIEDRAHITA   \n",
       "4         170            COLOMBIA  ...  ESE HOSPITAL CESAR URIBE PIEDRAHITA   \n",
       "\n",
       "   npais_proce  ndep_proce  nmun_proce  npais_resi  ndep_resi nmun_resi  \\\n",
       "0     COLOMBIA   ANTIOQUIA    CAUCASIA    COLOMBIA  ANTIOQUIA  CAUCASIA   \n",
       "1     COLOMBIA   ANTIOQUIA    CAUCASIA    COLOMBIA  ANTIOQUIA  CAUCASIA   \n",
       "2     COLOMBIA   ANTIOQUIA    CAUCASIA    COLOMBIA  ANTIOQUIA  CAUCASIA   \n",
       "3     COLOMBIA   ANTIOQUIA     CACERES    COLOMBIA  ANTIOQUIA   CACERES   \n",
       "4     COLOMBIA   ANTIOQUIA    CAUCASIA    COLOMBIA  ANTIOQUIA  CAUCASIA   \n",
       "\n",
       "   ndep_notif  nmun_notif  nreg  \n",
       "0   ANTIOQUIA    CAUCASIA  2142  \n",
       "1   ANTIOQUIA    CAUCASIA  2144  \n",
       "2   ANTIOQUIA    CAUCASIA  2152  \n",
       "3   ANTIOQUIA    CAUCASIA  2154  \n",
       "4   ANTIOQUIA    CAUCASIA  2140  \n",
       "\n",
       "[5 rows x 120 columns]"
      ]
     },
     "execution_count": 16,
     "metadata": {},
     "output_type": "execute_result"
    }
   ],
   "source": [
    "df2.head() "
   ]
  },
  {
   "cell_type": "markdown",
   "id": "509a03da",
   "metadata": {},
   "source": [
    "# Práctica de resampling  \n"
   ]
  },
  {
   "cell_type": "markdown",
   "id": "00955fba",
   "metadata": {},
   "source": [
    "\n",
    "Para el **remuestreo de datos climáticos diarios a semanas epidemiológicas**, te recomiendo el siguiente enfoque:\n",
    "\n",
    "---\n"
   ]
  },
  {
   "cell_type": "markdown",
   "id": "d720037e",
   "metadata": {},
   "source": [
    "\n",
    "### **1. Definición clave:**\n",
    "- **Semana epidemiológica** (según OMS/OPS):\n",
    "  - Comienza en **lunes** y termina en **domingo**.\n",
    "  - La primera semana del año contiene el primer jueves de enero.\n",
    "  - Se representa con el formato `YYYY-Www` (ej: `2023-W01`).\n",
    "\n"
   ]
  },
  {
   "cell_type": "markdown",
   "id": "ca53245c",
   "metadata": {},
   "source": [
    "\n",
    "\n",
    "### **2. Criterio recomendado para el remuestreo:**\n",
    "1. **Frecuencia de agrupación:**  \n",
    "   Usar `'W-MON'` en pandas para alinear las semanas de lunes a domingo.\n",
    "\n",
    "2. **Función de agregación:**  \n",
    "   - **Para variables acumulativas** (ej: precipitación):  \n",
    "     ```python\n",
    "     df.resample('W-MON').sum()\n",
    "     ```\n",
    "   - **Para variables promedio** (ej: temperatura):  \n",
    "     ```python\n",
    "     df.resample('W-MON').mean()\n",
    "     ```\n",
    "   - **Para extremos** (ej: temperatura máxima):  \n",
    "     ```python\n",
    "     df.resample('W-MON').max()\n",
    "     ```\n",
    "\n",
    "3. **Etiquetado de fechas:**  \n",
    "   Asignar cada semana a la **fecha de inicio (lunes)** para mantener consistencia epidemiológica:\n",
    "   ```python\n",
    "   df_semanal = df.resample('W-MON', label='left').sum()\n",
    "   ```\n",
    "\n",
    "---\n",
    "\n",
    "### **3. Implementación en Python:**\n"
   ]
  },
  {
   "cell_type": "code",
   "execution_count": 30,
   "id": "b1d5d350",
   "metadata": {},
   "outputs": [
    {
     "data": {
      "application/vnd.microsoft.datawrangler.viewer.v0+json": {
       "columns": [
        {
         "name": "fecha",
         "rawType": "object",
         "type": "string"
        },
        {
         "name": "temp",
         "rawType": "float64",
         "type": "float"
        },
        {
         "name": "precip",
         "rawType": "int32",
         "type": "integer"
        }
       ],
       "ref": "1de35ced-5a78-47d1-9dca-ef63efd6c1c1",
       "rows": [
        [
         "2022-W52",
         "25.24958354161707",
         "7"
        ],
        [
         "2023-W01",
         "27.349464049929647",
         "65"
        ],
        [
         "2023-W02",
         "29.567533744624107",
         "52"
        ],
        [
         "2023-W03",
         "29.637420949538377",
         "43"
        ],
        [
         "2023-W04",
         "27.526256620183577",
         "85"
        ]
       ],
       "shape": {
        "columns": 2,
        "rows": 5
       }
      },
      "text/html": [
       "<div>\n",
       "<style scoped>\n",
       "    .dataframe tbody tr th:only-of-type {\n",
       "        vertical-align: middle;\n",
       "    }\n",
       "\n",
       "    .dataframe tbody tr th {\n",
       "        vertical-align: top;\n",
       "    }\n",
       "\n",
       "    .dataframe thead th {\n",
       "        text-align: right;\n",
       "    }\n",
       "</style>\n",
       "<table border=\"1\" class=\"dataframe\">\n",
       "  <thead>\n",
       "    <tr style=\"text-align: right;\">\n",
       "      <th></th>\n",
       "      <th>temp</th>\n",
       "      <th>precip</th>\n",
       "    </tr>\n",
       "    <tr>\n",
       "      <th>fecha</th>\n",
       "      <th></th>\n",
       "      <th></th>\n",
       "    </tr>\n",
       "  </thead>\n",
       "  <tbody>\n",
       "    <tr>\n",
       "      <th>2022-W52</th>\n",
       "      <td>25.249584</td>\n",
       "      <td>7</td>\n",
       "    </tr>\n",
       "    <tr>\n",
       "      <th>2023-W01</th>\n",
       "      <td>27.349464</td>\n",
       "      <td>65</td>\n",
       "    </tr>\n",
       "    <tr>\n",
       "      <th>2023-W02</th>\n",
       "      <td>29.567534</td>\n",
       "      <td>52</td>\n",
       "    </tr>\n",
       "    <tr>\n",
       "      <th>2023-W03</th>\n",
       "      <td>29.637421</td>\n",
       "      <td>43</td>\n",
       "    </tr>\n",
       "    <tr>\n",
       "      <th>2023-W04</th>\n",
       "      <td>27.526257</td>\n",
       "      <td>85</td>\n",
       "    </tr>\n",
       "  </tbody>\n",
       "</table>\n",
       "</div>"
      ],
      "text/plain": [
       "               temp  precip\n",
       "fecha                      \n",
       "2022-W52  25.249584       7\n",
       "2023-W01  27.349464      65\n",
       "2023-W02  29.567534      52\n",
       "2023-W03  29.637421      43\n",
       "2023-W04  27.526257      85"
      ]
     },
     "execution_count": 30,
     "metadata": {},
     "output_type": "execute_result"
    }
   ],
   "source": [
    "\n",
    "import pandas as pd\n",
    "\n",
    "# Ejemplo con datos climáticos diarios (fecha, temperatura, precipitación)\n",
    "df = pd.DataFrame({\n",
    "    'fecha': pd.date_range('2023-01-01', '2023-12-31'),\n",
    "    'temp': [25 + 5 * abs(np.sin(i/10)) for i in range(365)],  # Datos simulados\n",
    "    'precip': np.random.randint(0, 20, 365)\n",
    "})\n",
    "df.set_index('fecha', inplace=True)\n",
    "\n",
    "# Remuestreo a semanas epidemiológicas (lunes a domingo)\n",
    "df_semanal = df.resample('W-MON', label='left').agg({\n",
    "    'temp': 'mean',    # Temperatura promedio semanal\n",
    "    'precip': 'sum'    # Precipitación acumulada semanal\n",
    "})\n",
    "\n",
    "# Formatear índice como \"Año-Núm.Semana\" (ej: 2023-W01)\n",
    "df_semanal.index = df_semanal.index.strftime('%Y-W%U')\n",
    "\n",
    "df_semanal.head()\n"
   ]
  },
  {
   "cell_type": "markdown",
   "id": "edcc8f3e",
   "metadata": {},
   "source": [
    "\n",
    "---\n",
    "\n",
    "### **4. Resultado:**\n",
    "| Índice    | Temp (Prom) | Precip (Suma) |\n",
    "|-----------|-------------|---------------|\n",
    "| 2023-W00  | 25.32       | 84            |\n",
    "| 2023-W01  | 26.15       | 92            |\n",
    "| ...       | ...         | ...           |\n",
    "\n",
    "---\n",
    "\n",
    "### **5. Validación adicional:**\n",
    "- **Verificar semanas incompletas** (ej: inicio/fin de año):  \n",
    "  ```python\n",
    "  df_semanal['dias_incluidos'] = df.resample('W-MON').count()['temp']\n",
    "  ```\n",
    "- **Alineación con estándares epidemiológicos**:  \n",
    "  Usar la librería `epiweeks` para coincidir con el sistema de la OMS:\n",
    "  ```python\n",
    "  from epiweeks import Week\n",
    "\n",
    "  # Convertir fechas a semanas epidemiológicas\n",
    "  df['semana_epi'] = df.index.to_series().apply(lambda x: Week.fromdate(x).cdcformat())\n",
    "  ```\n",
    "\n",
    "---\n",
    "\n",
    "### **6. Recomendaciones finales:**\n",
    "- **Consistencia:** Asegurar que todas las semanas tengan 7 días (excepto posibles semanas incompletas en los extremos).\n",
    "- **Documentación:** Registrar el criterio de agregación (ej: \"precipitación semanal = suma diaria acumulada\").\n",
    "- **Visualización:** Usar gráficos de barras para variables acumulativas y líneas para promedios.\n",
    "\n",
    "Este método garantiza compatibilidad con análisis epidemiológicos y climáticos."
   ]
  }
 ],
 "metadata": {
  "kernelspec": {
   "display_name": ".venv",
   "language": "python",
   "name": "python3"
  },
  "language_info": {
   "codemirror_mode": {
    "name": "ipython",
    "version": 3
   },
   "file_extension": ".py",
   "mimetype": "text/x-python",
   "name": "python",
   "nbconvert_exporter": "python",
   "pygments_lexer": "ipython3",
   "version": "3.13.3"
  }
 },
 "nbformat": 4,
 "nbformat_minor": 5
}

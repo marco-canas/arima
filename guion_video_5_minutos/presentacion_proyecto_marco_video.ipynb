{
 "cells": [
  {
   "cell_type": "markdown",
   "metadata": {},
   "source": [
    "<table align=\"left\">\n",
    "  <td>\n",
    "    <a href=\"https://colab.research.google.com/github/marco-canas/didactica_ciencia_datos/blob/main/1_curso_machine_learning/7_models/1_modelo_general_clase_aula_invertida.ipynb\" target=\"_parent\"><img src=\"https://colab.research.google.com/assets/colab-badge.svg\" alt=\"Open In Colab\"/></a>\n",
    "  </td>\n",
    "</table>"
   ]
  },
  {
   "cell_type": "markdown",
   "metadata": {},
   "source": [
    "[Primer video de ensayo de la presentación]()"
   ]
  },
  {
   "cell_type": "markdown",
   "metadata": {},
   "source": [
    "# Presentación del proyecto SAT-Dengue"
   ]
  },
  {
   "cell_type": "markdown",
   "metadata": {},
   "source": [
    "Buenos días/tardes a todos. Me complace presentarles nuestra propuesta para el desarrollo de un Sistema de Alerta Temprana (SAT) destinado a la vigilancia, prevención y control del dengue en la Región del Bajo Cauca Antioqueño.\n",
    "\n",
    "\n",
    "Cada año, se reportan millones de casos de dengue a nivel mundial, y la Región del Bajo Cauca Antioqueño no es una excepción. A pesar de la alta transmisión, carecemos de un Sistema de Alerta Temprana que respalde la toma de decisiones oportuna para mitigar las epidemias recurrentes.\n",
    "\n",
    "\n",
    "\n",
    "El dengue, vinculado a vectores como Ae. aegypti, está fuertemente influenciado por condiciones climáticas locales. Aquí es donde entra en juego la tecnología, específicamente el uso de Machine Learning para comprender la compleja relación entre el clima, los vectores y la epidemiología del dengue.\n",
    "\n",
    "\n",
    "\n",
    "Exploramos la relación intrínseca entre el dengue y los elementos climáticos, como la temperatura, la precipitación y la humedad. Destacamos la importancia de la temperatura en la fisiología del vector y cómo la variabilidad climática afecta la transmisión de la enfermedad.\n",
    "\n",
    "\n",
    "Reconociendo los límites de los modelos estadísticos convencionales, nos sumergimos en el poder del Machine Learning. Examinamos casos de éxito donde algoritmos como Support Vector Machines (SVM) y Random Forest (RF) han demostrado ser herramientas efectivas para predecir epidemias de dengue en diferentes contextos globales.\n",
    "\n",
    "\n",
    "\n",
    "La elección de Caucasia como foco del proyecto se fundamenta en su alta incidencia de dengue y la necesidad de una solución adaptada a las condiciones locales. Nos alineamos con las agendas de investigación y desarrollo de la Región del Bajo Cauca Antioqueño y del Departamento de Antioquia.\n",
    "\n",
    "\n",
    "\n",
    "¿Cuál de las estrategias metodológicas, entre ARIMA, SVM y RF, presenta un mayor poder de predicción de períodos epidémicos y no epidémicos de dengue en los municipios del Bajo Cauca Antioqueño, considerando diferentes ventanas de tiempo?\n",
    "\n",
    "Lo que nos llevó a plantearnos los objetivos:\n",
    "\n",
    "1. Identificar variables climáticas y entomológicas relevantes para el desarrollo de un SAT en la Región del Bajo Cauca Antioqueño.\n",
    "2. Explorar las relaciones entre variables climáticas y períodos epidémicos/no epidémicos utilizando ARIMA, SVM y RF.\n",
    "3. Determinar la relación entre la densidad del vector y la incidencia temporal del dengue en barrios específicos.\n",
    "\n",
    "\n",
    "Nuestro proyecto busca avanzar más allá de las metodologías tradicionales y aprovechar la potencia del Machine Learning para desarrollar un Sistema de Alerta Temprana preciso y adaptado a la realidad del Bajo Cauca Antioqueño. Agradecemos su atención y esperamos contar con su apoyo para abordar este desafío de salud pública."
   ]
  },
  {
   "cell_type": "code",
   "execution_count": null,
   "metadata": {},
   "outputs": [],
   "source": []
  },
  {
   "cell_type": "code",
   "execution_count": null,
   "metadata": {},
   "outputs": [],
   "source": []
  },
  {
   "cell_type": "code",
   "execution_count": null,
   "metadata": {},
   "outputs": [],
   "source": []
  },
  {
   "cell_type": "code",
   "execution_count": null,
   "metadata": {},
   "outputs": [],
   "source": []
  }
 ],
 "metadata": {
  "language_info": {
   "name": "python"
  }
 },
 "nbformat": 4,
 "nbformat_minor": 2
}

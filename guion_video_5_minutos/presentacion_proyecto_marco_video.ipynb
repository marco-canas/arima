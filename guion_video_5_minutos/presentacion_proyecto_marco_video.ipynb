{
 "cells": [
  {
   "cell_type": "markdown",
   "metadata": {},
   "source": [
    "<table align=\"left\">\n",
    "  <td>\n",
    "    <a href=\"https://colab.research.google.com/github/marco-canas/investigacion_dengue/blob/main/guion_video_5_minutos/presentacion_proyecto_marco_video.ipynb\" target=\"_parent\"><img src=\"https://colab.research.google.com/assets/colab-badge.svg\" alt=\"Open In Colab\"/></a>\n",
    "  </td>\n",
    "</table>"
   ]
  },
  {
   "cell_type": "markdown",
   "metadata": {},
   "source": [
    "[Primer video de ensayo de la presentación]()"
   ]
  },
  {
   "cell_type": "markdown",
   "metadata": {},
   "source": [
    "# Presentación del proyecto SAT-Dengue"
   ]
  },
  {
   "cell_type": "markdown",
   "metadata": {},
   "source": [
    "El proyecto propuesto, titulado \"DESARROLLO DE UN SISTEMA DE ALERTA TEMPRANA PARA LA VIGILANCIA, PREVENCIÓN Y CONTROL DE DENGUE EN LA REGION DEL BAJO CAUCA ANTIOQUEÑO\", tiene como objetivo emplear técnicas de Machine Learning para identificar variables climáticas y entomológicas relacionadas con períodos epidémicos y no epidémicos de dengue en los municipios del Bajo Cauca Antioqueño. Se compararán tres metodologías de Machine Leraning coomo: ARIMA, SVM y RF; para desarrollar un Sistema de Alerta Temprana preciso y adaptado a la realidad local. Este proyecto, alineado con la agenda subregional de investigación, es crucial para el Campus Bajo Cauca de la Universidad de Antioquia y el Grupo de Investigación GIBACC de este mismo campus, ya que integra la didáctica de la ciencia de datos con la aplicación práctica en la salud pública, involucrando a estudiantes de diversas disciplinas para formarlos como investigadores que contribuyan al control y seguimiento del dengue.\n",
    "\n",
    "Les invito a escuchar a Johana, de la Secretaría de Salud y luego a Diana de ASUPASO, para finalizar con la presentación de un representante de la Universidad de Finlandia, quienes hacen parte de esta propuesta investigativa. "
   ]
  },
  {
   "cell_type": "code",
   "execution_count": null,
   "metadata": {},
   "outputs": [],
   "source": []
  }
 ],
 "metadata": {
  "language_info": {
   "name": "python"
  }
 },
 "nbformat": 4,
 "nbformat_minor": 2
}

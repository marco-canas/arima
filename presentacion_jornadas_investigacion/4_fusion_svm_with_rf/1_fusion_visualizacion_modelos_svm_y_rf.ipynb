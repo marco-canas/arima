{
 "cells": [
  {
   "cell_type": "markdown",
   "id": "dc06dec7",
   "metadata": {
    "slideshow": {
     "slide_type": "slide"
    }
   },
   "source": [
    "<table align=\"left\">\n",
    "  <td>\n",
    "    <a href=\"https://colab.research.google.com/github/ageron/handson-ml3/blob/main/tools_numpy.ipynb\" target=\"_parent\"><img src=\"https://colab.research.google.com/assets/colab-badge.svg\" alt=\"Open In Colab\"/></a>\n",
    "  </td>\n",
    "  <td>\n",
    "    <a target=\"_blank\" href=\"https://kaggle.com/kernels/welcome?src=https://github.com/ageron/handson-ml3/blob/main/tools_numpy.ipynb\"><img src=\"https://kaggle.com/static/images/open-in-kaggle.svg\" /></a>\n",
    "  </td>\n",
    "</table>"
   ]
  },
  {
   "cell_type": "markdown",
   "id": "e0c5b198",
   "metadata": {
    "slideshow": {
     "slide_type": "slide"
    }
   },
   "source": [
    "### [Video de apoyo a la lectura interactiva y experimental de este cuaderno]()"
   ]
  },
  {
   "cell_type": "markdown",
   "id": "41e82203",
   "metadata": {
    "slideshow": {
     "slide_type": "slide"
    }
   },
   "source": [
    "## [Vínculo al programa del curso:  ]()\n",
    "\n"
   ]
  },
  {
   "cell_type": "markdown",
   "id": "d11ab06d",
   "metadata": {
    "slideshow": {
     "slide_type": "slide"
    }
   },
   "source": [
    "Un reconocimiento a mis estudiantes que han construido conmigo este saber pedagógico:\n",
    "\n",
    "<img src = ''> \n",
    "\n"
   ]
  },
  {
   "cell_type": "markdown",
   "id": "ae9860dc",
   "metadata": {},
   "source": [
    "# Cómo mejorar cada día la propuesta didáctica y pedagógica para enseñanza de la matemática\n"
   ]
  },
  {
   "cell_type": "markdown",
   "id": "1014ce5d",
   "metadata": {},
   "source": [
    "\n",
    "Para estructurar una propuesta pedagógica y didáctica centrada en mostrar la matemática como un lenguaje que ayuda a la comunicación científica y cotidiana, e integrar la enseñanza del inglés, el lenguaje Markdown, el lenguaje Python en los cuadernos Jupyter, y adoptar un enfoque pedagógico de aula invertida y una metodología de clase basada en problemas (ABP), puedes seguir los siguientes pasos:\n"
   ]
  },
  {
   "cell_type": "markdown",
   "id": "19b90db0",
   "metadata": {},
   "source": [
    "\n",
    "1. **Diagnóstico de necesidades:**\n",
    "   - Realiza un análisis detallado de las necesidades y habilidades de los estudiantes en matemáticas, inglés y tecnología.\n",
    "   - Identifica las áreas de dificultad y las áreas en las que los estudiantes muestran interés.\n"
   ]
  },
  {
   "cell_type": "markdown",
   "id": "4a85e2ae",
   "metadata": {},
   "source": [
    "\n",
    "2. **Definición de objetivos:**\n",
    "   - Establece objetivos claros y alcanzables que integren el aprendizaje de matemáticas, inglés y tecnología.\n",
    "   - Los objetivos deben centrarse en mejorar la comprensión de conceptos matemáticos, desarrollar habilidades en inglés y fomentar la competencia en el uso de herramientas tecnológicas.\n"
   ]
  },
  {
   "cell_type": "markdown",
   "id": "c1174613",
   "metadata": {},
   "source": [
    "\n",
    "3. **Diseño de actividades y recursos:**\n",
    "   - Diseña actividades interactivas y colaborativas que permitan a los estudiantes explorar conceptos matemáticos a través del uso de cuadernos Jupyter, Python y Markdown.\n",
    "   - Incorpora lecturas y ejercicios en inglés relacionados con conceptos matemáticos para fortalecer el vocabulario y la comprensión del idioma.\n",
    "   - Utiliza recursos multimedia, como videos y tutoriales en línea, para apoyar el aprendizaje autónomo de los estudiantes.\n",
    "\n",
    "4. **Implementación del enfoque pedagógico de aula invertida:**\n",
    "   - Proporciona a los estudiantes acceso a materiales de aprendizaje antes de la clase, como cuadernos Jupyter con ejercicios y lecturas en inglés.\n",
    "   - Utiliza el tiempo en clase para actividades prácticas y colaborativas, donde los estudiantes puedan aplicar los conceptos aprendidos, resolver problemas y discutir en grupos.\n",
    "\n",
    "5. **Metodología de clase basada en problemas (ABP):**\n",
    "   - Plantea problemas y desafíos relacionados con situaciones reales que requieran el uso de conceptos matemáticos, el inglés y la tecnología para su solución.\n",
    "   - Fomenta la participación activa de los estudiantes en la resolución de problemas, la discusión de estrategias y la presentación de soluciones.\n",
    "\n",
    "6. **Evaluación y retroalimentación:**\n",
    "   - Implementa un sistema de evaluación formativa que permita monitorear el progreso de los estudiantes de manera continua.\n",
    "   - Proporciona retroalimentación individualizada y oportunidades para la reflexión sobre el aprendizaje y el desarrollo de habilidades.\n",
    "\n",
    "7. **Mejora continua:**\n",
    "   - Recopila retroalimentación de los estudiantes y realiza ajustes en el plan de enseñanza según sea necesario.\n",
    "   - Mantente al tanto de las nuevas tendencias y herramientas en matemáticas, tecnología y enseñanza de idiomas para seguir mejorando la propuesta pedagógica y didáctica.\n",
    "\n",
    "Al seguir estos pasos, podrás estructurar una propuesta pedagógica y didáctica efectiva que integre la enseñanza de matemáticas, inglés y tecnología, y promueva el aprendizaje significativo y el desarrollo de habilidades clave en los estudiantes de la licenciatura en matemáticas."
   ]
  },
  {
   "cell_type": "code",
   "execution_count": 1,
   "id": "7604880f",
   "metadata": {
    "slideshow": {
     "slide_type": "slide"
    }
   },
   "outputs": [],
   "source": [
    "# Llamar a lista o tomar asistencia con python \n",
    "\n",
    "import pandas as pd # convertir la lista de estudiantes en un dataframe\n",
    "import numpy as np # elección aleatoria\n",
    "\n",
    "# Cargar la lista de estudiantes desde la URL\n",
    "url = 'https://raw.githubusercontent.com/marco-canas/groups_list/main/calculo_integral.csv'\n",
    "estudiantes = pd.read_csv(url) # convierte el csv en una dataframe\n",
    "\n",
    "# Convertir la columna 'Nombre' a una lista de Python\n",
    "lista_estudiantes = estudiantes['Nombre'].tolist()\n",
    "\n",
    "# Función para llamar a un estudiante aleatoriamente y registrar su nota de seguimiento\n",
    "def llamar_estudiante():\n",
    "    if lista_estudiantes:\n",
    "        estudiante_aleatorio = np.random.choice(lista_estudiantes)\n",
    "        print(f\"Llamando a {estudiante_aleatorio}...\")\n",
    "        lista_estudiantes.remove(estudiante_aleatorio)\n",
    "    else:\n",
    "        print(\"Se han llamado a todos los estudiantes del grupo completo.\")\n"
   ]
  },
  {
   "cell_type": "code",
   "execution_count": 2,
   "id": "d60b2bf1",
   "metadata": {},
   "outputs": [
    {
     "name": "stdout",
     "output_type": "stream",
     "text": [
      "Llamando a PEREZ THERAN ERLINDA...\n"
     ]
    }
   ],
   "source": [
    "\n",
    "# Llamar a la función para realizar el proceso\n",
    "llamar_estudiante()\n"
   ]
  },
  {
   "cell_type": "markdown",
   "id": "4f9d8cf9",
   "metadata": {
    "slideshow": {
     "slide_type": "slide"
    }
   },
   "source": [
    "# Modelo general de clase: [aula invertida](https://www3.gobiernodecanarias.org/medusa/ecoescuela/pedagotic/aprendizaje-invertido-flipped-classroom/)"
   ]
  },
  {
   "cell_type": "markdown",
   "id": "eb6ed03a",
   "metadata": {},
   "source": [
    "![Definamos flipped learning de manera gráfica](https://resources.maneuveringthemiddle.com/wp-content/uploads/2020/07/04212706/1-5.png)"
   ]
  },
  {
   "cell_type": "markdown",
   "id": "8d97dc80",
   "metadata": {
    "slideshow": {
     "slide_type": "slide"
    }
   },
   "source": [
    "## Fomento de la lectura literaria asociada a Ingeniería agropecuaria y licenciatura en Matemáticas\n",
    "\n"
   ]
  },
  {
   "cell_type": "markdown",
   "id": "96775931",
   "metadata": {
    "slideshow": {
     "slide_type": "slide"
    }
   },
   "source": [
    "## Título de la clase: Metodología para comparar el entrenamiento de un clasificados con SVM y con RF   \n",
    "\n"
   ]
  },
  {
   "cell_type": "markdown",
   "id": "1d38dd4e",
   "metadata": {
    "slideshow": {
     "slide_type": "slide"
    }
   },
   "source": [
    "### Objetivo de aprendizaje (Enunciar, de manera corta sencilla y clara para todos los asistentes)\n",
    "\n",
    "* "
   ]
  },
  {
   "cell_type": "markdown",
   "id": "540f0ec1",
   "metadata": {
    "slideshow": {
     "slide_type": "slide"
    }
   },
   "source": [
    "## Cuestionario para realizar labores de memorización, observación y síntesis de la información (Además de diagnóstico)  \n",
    "[Realizar encuesta para participacion de todos los estudiantes para diagnosticar presaberes para la clase: mentimeter](https://www.mentimeter.com/es-ES/education/lectures)\n",
    "\n",
    "1. ¿?\n",
    "2. ¿?\n",
    "3. ¿?\n",
    "4. ¿?\n",
    "5. ¿?"
   ]
  },
  {
   "cell_type": "markdown",
   "id": "8e457ea2",
   "metadata": {},
   "source": [
    "# Definiciones y Resultados científicos a comprender y memorizar \n",
    "\n",
    "[Primera grabación en Vocaroo]()"
   ]
  },
  {
   "cell_type": "markdown",
   "id": "ca7261b1",
   "metadata": {
    "slideshow": {
     "slide_type": "slide"
    }
   },
   "source": [
    "## Establecimiento de prerrequisitos conceptuales para alcanzar el objetivo de aprendizaje trazado.   \n",
    "\n",
    "(Elabore una lista de preguntas al rededor de los conceptos que consideres necesarios para empezar la clase).  \n",
    "\n",
    "1. \n",
    "2. \n",
    "3. "
   ]
  },
  {
   "cell_type": "markdown",
   "id": "2298e976",
   "metadata": {
    "slideshow": {
     "slide_type": "slide"
    }
   },
   "source": [
    "# Para el diseño de la clase tenga en cuenta algunos problemas de aprendizaje"
   ]
  },
  {
   "cell_type": "markdown",
   "id": "523d3acf",
   "metadata": {
    "slideshow": {
     "slide_type": "slide"
    }
   },
   "source": []
  },
  {
   "cell_type": "markdown",
   "id": "a40a4704",
   "metadata": {
    "slideshow": {
     "slide_type": "slide"
    }
   },
   "source": [
    "## Secuencia conceptual introductoria a la clase"
   ]
  },
  {
   "cell_type": "markdown",
   "id": "8853d874",
   "metadata": {},
   "source": [
    "## El componente histórico y epistemológico"
   ]
  },
  {
   "cell_type": "markdown",
   "id": "862f51b6",
   "metadata": {},
   "source": [
    "# Descripción del problema \n",
    "\n",
    "prediga el municipio, en virtud de la temperatura y la presión. "
   ]
  },
  {
   "cell_type": "markdown",
   "id": "e784899a",
   "metadata": {},
   "source": [
    "# Metodología para comparar el entrenamiento de un clasificador con SVM y con RF   \n"
   ]
  },
  {
   "cell_type": "markdown",
   "id": "e6060965",
   "metadata": {},
   "source": [
    "1. Obtención de los datos\n",
    "2. Selección de los atributos predictores y de la variable objetivo\n",
    "3. Renombrar la variable objetivo para que esté acorde a lo que se quiere predecir. \n",
    "4. Codificar la variable categórica objetivo con 1 para la clase positiva y 0 para la clase negativa. \n",
    "5. Determine los ndarray X de predictores y $y$ de variable objetivo\n",
    "6. Dividir el dataset en entrenamiento y testeo. \n",
    "7. Entrenar los dos algoritmos SVM y RF con los datos de entrenamiento. \n",
    "8. crear las dos funciones trazadoras de fronteras de decisión. \n",
    "9. traza la matriz de $1 \\times 2$ que contenga la visualización de las fronteras de deción y de los datos de prueba. "
   ]
  },
  {
   "cell_type": "code",
   "execution_count": 3,
   "id": "aa0d0efa",
   "metadata": {},
   "outputs": [],
   "source": [
    "# secuencia de librerías necesarias para la modelación \n",
    "import numpy as np \n",
    "import pandas as pd \n",
    "from sklearn.model_selection import train_test_split\n",
    "from sklearn.svm import SVC \n",
    "from sklearn.ensemble import RandomForestClassifier \n",
    "import matplotlib.pyplot as plt \n",
    "\n"
   ]
  },
  {
   "cell_type": "markdown",
   "id": "64ede838",
   "metadata": {},
   "source": [
    "<img src = 'https://www.freecodecamp.org/espanol/news/content/images/2021/04/numpy-1-1-.png' width = 400>"
   ]
  },
  {
   "cell_type": "markdown",
   "id": "70ecc0cb",
   "metadata": {},
   "source": [
    "<img src = 'https://geo-python-site.readthedocs.io/en/latest/_images/pandas_logo.png' width = 400>"
   ]
  },
  {
   "cell_type": "markdown",
   "id": "4dd89ae8",
   "metadata": {},
   "source": [
    "<img src = 'https://cdn.sanity.io/images/kuana2sp/production-main/f693dd79628fbdfa9bb751af7b1ea9888dfb2aee-2152x864.webp' width = 400>"
   ]
  },
  {
   "cell_type": "markdown",
   "id": "793ecb45",
   "metadata": {},
   "source": [
    "<img src = 'https://media.licdn.com/dms/image/D4D12AQGcGmAd9Cqraw/article-cover_image-shrink_600_2000/0/1688537312933?e=2147483647&v=beta&t=p7C9OMCJl8NmJdRyb_b-rfwK2iwgy87BfWPYVkHtyHQ' width = 400>"
   ]
  },
  {
   "cell_type": "code",
   "execution_count": 4,
   "id": "6732fe65",
   "metadata": {},
   "outputs": [
    {
     "data": {
      "text/html": [
       "<div>\n",
       "<style scoped>\n",
       "    .dataframe tbody tr th:only-of-type {\n",
       "        vertical-align: middle;\n",
       "    }\n",
       "\n",
       "    .dataframe tbody tr th {\n",
       "        vertical-align: top;\n",
       "    }\n",
       "\n",
       "    .dataframe thead th {\n",
       "        text-align: right;\n",
       "    }\n",
       "</style>\n",
       "<table border=\"1\" class=\"dataframe\">\n",
       "  <thead>\n",
       "    <tr style=\"text-align: right;\">\n",
       "      <th></th>\n",
       "      <th>Unnamed: 0</th>\n",
       "      <th>fecha</th>\n",
       "      <th>nombre_completo</th>\n",
       "      <th>estado</th>\n",
       "      <th>temperatura</th>\n",
       "      <th>presion</th>\n",
       "    </tr>\n",
       "  </thead>\n",
       "  <tbody>\n",
       "    <tr>\n",
       "      <th>0</th>\n",
       "      <td>0</td>\n",
       "      <td>2024-04-26 00:00:00</td>\n",
       "      <td>UdeA Turbo</td>\n",
       "      <td>Habilitada</td>\n",
       "      <td>25.05556</td>\n",
       "      <td>787.97257</td>\n",
       "    </tr>\n",
       "    <tr>\n",
       "      <th>1</th>\n",
       "      <td>1</td>\n",
       "      <td>2024-04-26 00:01:00</td>\n",
       "      <td>UdeA Turbo</td>\n",
       "      <td>Habilitada</td>\n",
       "      <td>25.05556</td>\n",
       "      <td>788.04030</td>\n",
       "    </tr>\n",
       "    <tr>\n",
       "      <th>2</th>\n",
       "      <td>2</td>\n",
       "      <td>2024-04-26 00:02:00</td>\n",
       "      <td>UdeA Turbo</td>\n",
       "      <td>Habilitada</td>\n",
       "      <td>25.05556</td>\n",
       "      <td>787.97257</td>\n",
       "    </tr>\n",
       "    <tr>\n",
       "      <th>3</th>\n",
       "      <td>3</td>\n",
       "      <td>2024-04-26 00:03:00</td>\n",
       "      <td>UdeA Turbo</td>\n",
       "      <td>Habilitada</td>\n",
       "      <td>25.05556</td>\n",
       "      <td>787.93871</td>\n",
       "    </tr>\n",
       "    <tr>\n",
       "      <th>4</th>\n",
       "      <td>4</td>\n",
       "      <td>2024-04-26 00:04:00</td>\n",
       "      <td>UdeA Turbo</td>\n",
       "      <td>Habilitada</td>\n",
       "      <td>25.05556</td>\n",
       "      <td>788.00644</td>\n",
       "    </tr>\n",
       "    <tr>\n",
       "      <th>...</th>\n",
       "      <td>...</td>\n",
       "      <td>...</td>\n",
       "      <td>...</td>\n",
       "      <td>...</td>\n",
       "      <td>...</td>\n",
       "      <td>...</td>\n",
       "    </tr>\n",
       "    <tr>\n",
       "      <th>83079</th>\n",
       "      <td>83079</td>\n",
       "      <td>2024-05-25 23:56:00</td>\n",
       "      <td>UdeA Yarumal</td>\n",
       "      <td>Habilitada</td>\n",
       "      <td>15.33333</td>\n",
       "      <td>780.69184</td>\n",
       "    </tr>\n",
       "    <tr>\n",
       "      <th>83080</th>\n",
       "      <td>83080</td>\n",
       "      <td>2024-05-25 23:57:00</td>\n",
       "      <td>UdeA Yarumal</td>\n",
       "      <td>Habilitada</td>\n",
       "      <td>15.33333</td>\n",
       "      <td>780.69184</td>\n",
       "    </tr>\n",
       "    <tr>\n",
       "      <th>83081</th>\n",
       "      <td>83081</td>\n",
       "      <td>2024-05-25 23:58:00</td>\n",
       "      <td>UdeA Yarumal</td>\n",
       "      <td>Habilitada</td>\n",
       "      <td>15.33333</td>\n",
       "      <td>780.62411</td>\n",
       "    </tr>\n",
       "    <tr>\n",
       "      <th>83082</th>\n",
       "      <td>83082</td>\n",
       "      <td>2024-05-25 23:59:00</td>\n",
       "      <td>UdeA Yarumal</td>\n",
       "      <td>Habilitada</td>\n",
       "      <td>15.38889</td>\n",
       "      <td>780.59024</td>\n",
       "    </tr>\n",
       "    <tr>\n",
       "      <th>83083</th>\n",
       "      <td>83083</td>\n",
       "      <td>2024-05-26 00:00:00</td>\n",
       "      <td>UdeA Yarumal</td>\n",
       "      <td>Habilitada</td>\n",
       "      <td>15.38889</td>\n",
       "      <td>780.55638</td>\n",
       "    </tr>\n",
       "  </tbody>\n",
       "</table>\n",
       "<p>83084 rows × 6 columns</p>\n",
       "</div>"
      ],
      "text/plain": [
       "       Unnamed: 0                fecha nombre_completo      estado  \\\n",
       "0               0  2024-04-26 00:00:00      UdeA Turbo  Habilitada   \n",
       "1               1  2024-04-26 00:01:00      UdeA Turbo  Habilitada   \n",
       "2               2  2024-04-26 00:02:00      UdeA Turbo  Habilitada   \n",
       "3               3  2024-04-26 00:03:00      UdeA Turbo  Habilitada   \n",
       "4               4  2024-04-26 00:04:00      UdeA Turbo  Habilitada   \n",
       "...           ...                  ...             ...         ...   \n",
       "83079       83079  2024-05-25 23:56:00    UdeA Yarumal  Habilitada   \n",
       "83080       83080  2024-05-25 23:57:00    UdeA Yarumal  Habilitada   \n",
       "83081       83081  2024-05-25 23:58:00    UdeA Yarumal  Habilitada   \n",
       "83082       83082  2024-05-25 23:59:00    UdeA Yarumal  Habilitada   \n",
       "83083       83083  2024-05-26 00:00:00    UdeA Yarumal  Habilitada   \n",
       "\n",
       "       temperatura    presion  \n",
       "0         25.05556  787.97257  \n",
       "1         25.05556  788.04030  \n",
       "2         25.05556  787.97257  \n",
       "3         25.05556  787.93871  \n",
       "4         25.05556  788.00644  \n",
       "...            ...        ...  \n",
       "83079     15.33333  780.69184  \n",
       "83080     15.33333  780.69184  \n",
       "83081     15.33333  780.62411  \n",
       "83082     15.38889  780.59024  \n",
       "83083     15.38889  780.55638  \n",
       "\n",
       "[83084 rows x 6 columns]"
      ]
     },
     "execution_count": 4,
     "metadata": {},
     "output_type": "execute_result"
    }
   ],
   "source": [
    "df = pd.read_csv('datos_temperatura_presion_turbo_yarumal_2024-05-26.csv')\n",
    "df "
   ]
  },
  {
   "cell_type": "code",
   "execution_count": 5,
   "id": "ada64a2d",
   "metadata": {},
   "outputs": [
    {
     "data": {
      "text/html": [
       "<div>\n",
       "<style scoped>\n",
       "    .dataframe tbody tr th:only-of-type {\n",
       "        vertical-align: middle;\n",
       "    }\n",
       "\n",
       "    .dataframe tbody tr th {\n",
       "        vertical-align: top;\n",
       "    }\n",
       "\n",
       "    .dataframe thead th {\n",
       "        text-align: right;\n",
       "    }\n",
       "</style>\n",
       "<table border=\"1\" class=\"dataframe\">\n",
       "  <thead>\n",
       "    <tr style=\"text-align: right;\">\n",
       "      <th></th>\n",
       "      <th>temperatura</th>\n",
       "      <th>presion</th>\n",
       "      <th>nombre_completo</th>\n",
       "    </tr>\n",
       "  </thead>\n",
       "  <tbody>\n",
       "    <tr>\n",
       "      <th>0</th>\n",
       "      <td>25.05556</td>\n",
       "      <td>787.97257</td>\n",
       "      <td>UdeA Turbo</td>\n",
       "    </tr>\n",
       "    <tr>\n",
       "      <th>1</th>\n",
       "      <td>25.05556</td>\n",
       "      <td>788.04030</td>\n",
       "      <td>UdeA Turbo</td>\n",
       "    </tr>\n",
       "    <tr>\n",
       "      <th>2</th>\n",
       "      <td>25.05556</td>\n",
       "      <td>787.97257</td>\n",
       "      <td>UdeA Turbo</td>\n",
       "    </tr>\n",
       "    <tr>\n",
       "      <th>3</th>\n",
       "      <td>25.05556</td>\n",
       "      <td>787.93871</td>\n",
       "      <td>UdeA Turbo</td>\n",
       "    </tr>\n",
       "    <tr>\n",
       "      <th>4</th>\n",
       "      <td>25.05556</td>\n",
       "      <td>788.00644</td>\n",
       "      <td>UdeA Turbo</td>\n",
       "    </tr>\n",
       "    <tr>\n",
       "      <th>...</th>\n",
       "      <td>...</td>\n",
       "      <td>...</td>\n",
       "      <td>...</td>\n",
       "    </tr>\n",
       "    <tr>\n",
       "      <th>83079</th>\n",
       "      <td>15.33333</td>\n",
       "      <td>780.69184</td>\n",
       "      <td>UdeA Yarumal</td>\n",
       "    </tr>\n",
       "    <tr>\n",
       "      <th>83080</th>\n",
       "      <td>15.33333</td>\n",
       "      <td>780.69184</td>\n",
       "      <td>UdeA Yarumal</td>\n",
       "    </tr>\n",
       "    <tr>\n",
       "      <th>83081</th>\n",
       "      <td>15.33333</td>\n",
       "      <td>780.62411</td>\n",
       "      <td>UdeA Yarumal</td>\n",
       "    </tr>\n",
       "    <tr>\n",
       "      <th>83082</th>\n",
       "      <td>15.38889</td>\n",
       "      <td>780.59024</td>\n",
       "      <td>UdeA Yarumal</td>\n",
       "    </tr>\n",
       "    <tr>\n",
       "      <th>83083</th>\n",
       "      <td>15.38889</td>\n",
       "      <td>780.55638</td>\n",
       "      <td>UdeA Yarumal</td>\n",
       "    </tr>\n",
       "  </tbody>\n",
       "</table>\n",
       "<p>83084 rows × 3 columns</p>\n",
       "</div>"
      ],
      "text/plain": [
       "       temperatura    presion nombre_completo\n",
       "0         25.05556  787.97257      UdeA Turbo\n",
       "1         25.05556  788.04030      UdeA Turbo\n",
       "2         25.05556  787.97257      UdeA Turbo\n",
       "3         25.05556  787.93871      UdeA Turbo\n",
       "4         25.05556  788.00644      UdeA Turbo\n",
       "...            ...        ...             ...\n",
       "83079     15.33333  780.69184    UdeA Yarumal\n",
       "83080     15.33333  780.69184    UdeA Yarumal\n",
       "83081     15.33333  780.62411    UdeA Yarumal\n",
       "83082     15.38889  780.59024    UdeA Yarumal\n",
       "83083     15.38889  780.55638    UdeA Yarumal\n",
       "\n",
       "[83084 rows x 3 columns]"
      ]
     },
     "execution_count": 5,
     "metadata": {},
     "output_type": "execute_result"
    }
   ],
   "source": [
    "# 2 selección de atributos predictores y variable objetivo \n",
    "df = df[['temperatura', 'presion', 'nombre_completo']] # notación de corchetes para selección de atributis a través de lista de python\n",
    "df "
   ]
  },
  {
   "cell_type": "code",
   "execution_count": 6,
   "id": "7b14c790",
   "metadata": {},
   "outputs": [
    {
     "name": "stderr",
     "output_type": "stream",
     "text": [
      "/tmp/ipykernel_17865/2369905226.py:2: SettingWithCopyWarning: \n",
      "A value is trying to be set on a copy of a slice from a DataFrame\n",
      "\n",
      "See the caveats in the documentation: https://pandas.pydata.org/pandas-docs/stable/user_guide/indexing.html#returning-a-view-versus-a-copy\n",
      "  df.rename({'nombre_completo':'municipio'}, axis = 1, inplace = True)\n"
     ]
    },
    {
     "data": {
      "text/html": [
       "<div>\n",
       "<style scoped>\n",
       "    .dataframe tbody tr th:only-of-type {\n",
       "        vertical-align: middle;\n",
       "    }\n",
       "\n",
       "    .dataframe tbody tr th {\n",
       "        vertical-align: top;\n",
       "    }\n",
       "\n",
       "    .dataframe thead th {\n",
       "        text-align: right;\n",
       "    }\n",
       "</style>\n",
       "<table border=\"1\" class=\"dataframe\">\n",
       "  <thead>\n",
       "    <tr style=\"text-align: right;\">\n",
       "      <th></th>\n",
       "      <th>temperatura</th>\n",
       "      <th>presion</th>\n",
       "      <th>municipio</th>\n",
       "    </tr>\n",
       "  </thead>\n",
       "  <tbody>\n",
       "    <tr>\n",
       "      <th>0</th>\n",
       "      <td>25.05556</td>\n",
       "      <td>787.97257</td>\n",
       "      <td>UdeA Turbo</td>\n",
       "    </tr>\n",
       "    <tr>\n",
       "      <th>1</th>\n",
       "      <td>25.05556</td>\n",
       "      <td>788.04030</td>\n",
       "      <td>UdeA Turbo</td>\n",
       "    </tr>\n",
       "    <tr>\n",
       "      <th>2</th>\n",
       "      <td>25.05556</td>\n",
       "      <td>787.97257</td>\n",
       "      <td>UdeA Turbo</td>\n",
       "    </tr>\n",
       "    <tr>\n",
       "      <th>3</th>\n",
       "      <td>25.05556</td>\n",
       "      <td>787.93871</td>\n",
       "      <td>UdeA Turbo</td>\n",
       "    </tr>\n",
       "    <tr>\n",
       "      <th>4</th>\n",
       "      <td>25.05556</td>\n",
       "      <td>788.00644</td>\n",
       "      <td>UdeA Turbo</td>\n",
       "    </tr>\n",
       "    <tr>\n",
       "      <th>...</th>\n",
       "      <td>...</td>\n",
       "      <td>...</td>\n",
       "      <td>...</td>\n",
       "    </tr>\n",
       "    <tr>\n",
       "      <th>83079</th>\n",
       "      <td>15.33333</td>\n",
       "      <td>780.69184</td>\n",
       "      <td>UdeA Yarumal</td>\n",
       "    </tr>\n",
       "    <tr>\n",
       "      <th>83080</th>\n",
       "      <td>15.33333</td>\n",
       "      <td>780.69184</td>\n",
       "      <td>UdeA Yarumal</td>\n",
       "    </tr>\n",
       "    <tr>\n",
       "      <th>83081</th>\n",
       "      <td>15.33333</td>\n",
       "      <td>780.62411</td>\n",
       "      <td>UdeA Yarumal</td>\n",
       "    </tr>\n",
       "    <tr>\n",
       "      <th>83082</th>\n",
       "      <td>15.38889</td>\n",
       "      <td>780.59024</td>\n",
       "      <td>UdeA Yarumal</td>\n",
       "    </tr>\n",
       "    <tr>\n",
       "      <th>83083</th>\n",
       "      <td>15.38889</td>\n",
       "      <td>780.55638</td>\n",
       "      <td>UdeA Yarumal</td>\n",
       "    </tr>\n",
       "  </tbody>\n",
       "</table>\n",
       "<p>83084 rows × 3 columns</p>\n",
       "</div>"
      ],
      "text/plain": [
       "       temperatura    presion     municipio\n",
       "0         25.05556  787.97257    UdeA Turbo\n",
       "1         25.05556  788.04030    UdeA Turbo\n",
       "2         25.05556  787.97257    UdeA Turbo\n",
       "3         25.05556  787.93871    UdeA Turbo\n",
       "4         25.05556  788.00644    UdeA Turbo\n",
       "...            ...        ...           ...\n",
       "83079     15.33333  780.69184  UdeA Yarumal\n",
       "83080     15.33333  780.69184  UdeA Yarumal\n",
       "83081     15.33333  780.62411  UdeA Yarumal\n",
       "83082     15.38889  780.59024  UdeA Yarumal\n",
       "83083     15.38889  780.55638  UdeA Yarumal\n",
       "\n",
       "[83084 rows x 3 columns]"
      ]
     },
     "execution_count": 6,
     "metadata": {},
     "output_type": "execute_result"
    }
   ],
   "source": [
    "# 3. renombrar la variable objetivo para que este acorde a los que se quiere predecir \n",
    "df.rename({'nombre_completo':'municipio'}, axis = 1, inplace = True)\n",
    "df "
   ]
  },
  {
   "cell_type": "code",
   "execution_count": 7,
   "id": "5067a4ea",
   "metadata": {},
   "outputs": [
    {
     "data": {
      "text/plain": [
       "'UdeA Turbo'"
      ]
     },
     "execution_count": 7,
     "metadata": {},
     "output_type": "execute_result"
    }
   ],
   "source": [
    "df.municipio[0]"
   ]
  },
  {
   "cell_type": "code",
   "execution_count": 8,
   "id": "63f912f4",
   "metadata": {},
   "outputs": [
    {
     "name": "stderr",
     "output_type": "stream",
     "text": [
      "/tmp/ipykernel_17865/2294587785.py:2: SettingWithCopyWarning: \n",
      "A value is trying to be set on a copy of a slice from a DataFrame.\n",
      "Try using .loc[row_indexer,col_indexer] = value instead\n",
      "\n",
      "See the caveats in the documentation: https://pandas.pydata.org/pandas-docs/stable/user_guide/indexing.html#returning-a-view-versus-a-copy\n",
      "  df['municipio'] = (df.municipio == 'UdeA Turbo').astype(np.int64)\n"
     ]
    },
    {
     "data": {
      "text/html": [
       "<div>\n",
       "<style scoped>\n",
       "    .dataframe tbody tr th:only-of-type {\n",
       "        vertical-align: middle;\n",
       "    }\n",
       "\n",
       "    .dataframe tbody tr th {\n",
       "        vertical-align: top;\n",
       "    }\n",
       "\n",
       "    .dataframe thead th {\n",
       "        text-align: right;\n",
       "    }\n",
       "</style>\n",
       "<table border=\"1\" class=\"dataframe\">\n",
       "  <thead>\n",
       "    <tr style=\"text-align: right;\">\n",
       "      <th></th>\n",
       "      <th>temperatura</th>\n",
       "      <th>presion</th>\n",
       "      <th>municipio</th>\n",
       "    </tr>\n",
       "  </thead>\n",
       "  <tbody>\n",
       "    <tr>\n",
       "      <th>0</th>\n",
       "      <td>25.05556</td>\n",
       "      <td>787.97257</td>\n",
       "      <td>1</td>\n",
       "    </tr>\n",
       "    <tr>\n",
       "      <th>1</th>\n",
       "      <td>25.05556</td>\n",
       "      <td>788.04030</td>\n",
       "      <td>1</td>\n",
       "    </tr>\n",
       "    <tr>\n",
       "      <th>2</th>\n",
       "      <td>25.05556</td>\n",
       "      <td>787.97257</td>\n",
       "      <td>1</td>\n",
       "    </tr>\n",
       "    <tr>\n",
       "      <th>3</th>\n",
       "      <td>25.05556</td>\n",
       "      <td>787.93871</td>\n",
       "      <td>1</td>\n",
       "    </tr>\n",
       "    <tr>\n",
       "      <th>4</th>\n",
       "      <td>25.05556</td>\n",
       "      <td>788.00644</td>\n",
       "      <td>1</td>\n",
       "    </tr>\n",
       "    <tr>\n",
       "      <th>...</th>\n",
       "      <td>...</td>\n",
       "      <td>...</td>\n",
       "      <td>...</td>\n",
       "    </tr>\n",
       "    <tr>\n",
       "      <th>83079</th>\n",
       "      <td>15.33333</td>\n",
       "      <td>780.69184</td>\n",
       "      <td>0</td>\n",
       "    </tr>\n",
       "    <tr>\n",
       "      <th>83080</th>\n",
       "      <td>15.33333</td>\n",
       "      <td>780.69184</td>\n",
       "      <td>0</td>\n",
       "    </tr>\n",
       "    <tr>\n",
       "      <th>83081</th>\n",
       "      <td>15.33333</td>\n",
       "      <td>780.62411</td>\n",
       "      <td>0</td>\n",
       "    </tr>\n",
       "    <tr>\n",
       "      <th>83082</th>\n",
       "      <td>15.38889</td>\n",
       "      <td>780.59024</td>\n",
       "      <td>0</td>\n",
       "    </tr>\n",
       "    <tr>\n",
       "      <th>83083</th>\n",
       "      <td>15.38889</td>\n",
       "      <td>780.55638</td>\n",
       "      <td>0</td>\n",
       "    </tr>\n",
       "  </tbody>\n",
       "</table>\n",
       "<p>83084 rows × 3 columns</p>\n",
       "</div>"
      ],
      "text/plain": [
       "       temperatura    presion  municipio\n",
       "0         25.05556  787.97257          1\n",
       "1         25.05556  788.04030          1\n",
       "2         25.05556  787.97257          1\n",
       "3         25.05556  787.93871          1\n",
       "4         25.05556  788.00644          1\n",
       "...            ...        ...        ...\n",
       "83079     15.33333  780.69184          0\n",
       "83080     15.33333  780.69184          0\n",
       "83081     15.33333  780.62411          0\n",
       "83082     15.38889  780.59024          0\n",
       "83083     15.38889  780.55638          0\n",
       "\n",
       "[83084 rows x 3 columns]"
      ]
     },
     "execution_count": 8,
     "metadata": {},
     "output_type": "execute_result"
    }
   ],
   "source": [
    "# 4.0 codificación de la variable objetivo\n",
    "df['municipio'] = (df.municipio == 'UdeA Turbo').astype(np.int64)\n",
    "df"
   ]
  },
  {
   "cell_type": "code",
   "execution_count": 9,
   "id": "2e21deac",
   "metadata": {},
   "outputs": [],
   "source": [
    "# 5. Objención de ndarrays de predictores X y de objetivo y\n",
    "X = (df[['temperatura', 'presion']]).values\n",
    "y = (df[['municipio']]).values"
   ]
  },
  {
   "cell_type": "code",
   "execution_count": 10,
   "id": "1bf66435",
   "metadata": {},
   "outputs": [],
   "source": [
    "# 6. división en entrenamiento y testeo \n",
    "X_train, X_test, y_train, y_test = train_test_split(X,y, test_size=0.2, random_state=1213)"
   ]
  },
  {
   "cell_type": "code",
   "execution_count": 11,
   "id": "c68e3140",
   "metadata": {},
   "outputs": [
    {
     "data": {
      "text/plain": [
       "(16617, 16617)"
      ]
     },
     "execution_count": 11,
     "metadata": {},
     "output_type": "execute_result"
    }
   ],
   "source": [
    "len(X_test), len(y_test)"
   ]
  },
  {
   "cell_type": "code",
   "execution_count": 12,
   "id": "8615d045",
   "metadata": {},
   "outputs": [
    {
     "data": {
      "text/plain": [
       "((16617, 2), (16617, 1))"
      ]
     },
     "execution_count": 12,
     "metadata": {},
     "output_type": "execute_result"
    }
   ],
   "source": [
    "X_test.shape, y_test.shape"
   ]
  },
  {
   "cell_type": "code",
   "execution_count": 22,
   "id": "e4d55f34",
   "metadata": {},
   "outputs": [
    {
     "data": {
      "text/plain": [
       "array([ True,  True,  True, ..., False, False, False])"
      ]
     },
     "execution_count": 22,
     "metadata": {},
     "output_type": "execute_result"
    }
   ],
   "source": [
    "(y==1).ravel()"
   ]
  },
  {
   "cell_type": "code",
   "execution_count": 13,
   "id": "8401b9e0",
   "metadata": {},
   "outputs": [],
   "source": [
    "# 7. Entrenar el modelo de SVM\n",
    "\n",
    "from sklearn.svm import SVC "
   ]
  },
  {
   "cell_type": "code",
   "execution_count": 14,
   "id": "c4f44e8a",
   "metadata": {},
   "outputs": [],
   "source": [
    "# 8. Entenar el modelo RF\n",
    "\n",
    "from sklearn.ensemble import RandomForestClassifier "
   ]
  },
  {
   "cell_type": "code",
   "execution_count": 15,
   "id": "5701845d",
   "metadata": {},
   "outputs": [],
   "source": [
    "svm_clf = SVC(kernel = 'linear', C = 1e100) # instanciamos la clase SVC\n",
    "rf_clf = RandomForestClassifier(n_estimators=500, max_leaf_nodes=16, random_state=1213)  # instanciando la clase RandonForestClassifier\n"
   ]
  },
  {
   "cell_type": "code",
   "execution_count": 16,
   "id": "4d569902",
   "metadata": {},
   "outputs": [
    {
     "name": "stderr",
     "output_type": "stream",
     "text": [
      "/home/marco/Documentos/investigacion/investigacion_d/.venv/lib/python3.10/site-packages/sklearn/utils/validation.py:1310: DataConversionWarning: A column-vector y was passed when a 1d array was expected. Please change the shape of y to (n_samples, ), for example using ravel().\n",
      "  y = column_or_1d(y, warn=True)\n",
      "/home/marco/Documentos/investigacion/investigacion_d/.venv/lib/python3.10/site-packages/sklearn/base.py:1473: DataConversionWarning: A column-vector y was passed when a 1d array was expected. Please change the shape of y to (n_samples,), for example using ravel().\n",
      "  return fit_method(estimator, *args, **kwargs)\n"
     ]
    },
    {
     "data": {
      "text/html": [
       "<style>#sk-container-id-1 {\n",
       "  /* Definition of color scheme common for light and dark mode */\n",
       "  --sklearn-color-text: black;\n",
       "  --sklearn-color-line: gray;\n",
       "  /* Definition of color scheme for unfitted estimators */\n",
       "  --sklearn-color-unfitted-level-0: #fff5e6;\n",
       "  --sklearn-color-unfitted-level-1: #f6e4d2;\n",
       "  --sklearn-color-unfitted-level-2: #ffe0b3;\n",
       "  --sklearn-color-unfitted-level-3: chocolate;\n",
       "  /* Definition of color scheme for fitted estimators */\n",
       "  --sklearn-color-fitted-level-0: #f0f8ff;\n",
       "  --sklearn-color-fitted-level-1: #d4ebff;\n",
       "  --sklearn-color-fitted-level-2: #b3dbfd;\n",
       "  --sklearn-color-fitted-level-3: cornflowerblue;\n",
       "\n",
       "  /* Specific color for light theme */\n",
       "  --sklearn-color-text-on-default-background: var(--sg-text-color, var(--theme-code-foreground, var(--jp-content-font-color1, black)));\n",
       "  --sklearn-color-background: var(--sg-background-color, var(--theme-background, var(--jp-layout-color0, white)));\n",
       "  --sklearn-color-border-box: var(--sg-text-color, var(--theme-code-foreground, var(--jp-content-font-color1, black)));\n",
       "  --sklearn-color-icon: #696969;\n",
       "\n",
       "  @media (prefers-color-scheme: dark) {\n",
       "    /* Redefinition of color scheme for dark theme */\n",
       "    --sklearn-color-text-on-default-background: var(--sg-text-color, var(--theme-code-foreground, var(--jp-content-font-color1, white)));\n",
       "    --sklearn-color-background: var(--sg-background-color, var(--theme-background, var(--jp-layout-color0, #111)));\n",
       "    --sklearn-color-border-box: var(--sg-text-color, var(--theme-code-foreground, var(--jp-content-font-color1, white)));\n",
       "    --sklearn-color-icon: #878787;\n",
       "  }\n",
       "}\n",
       "\n",
       "#sk-container-id-1 {\n",
       "  color: var(--sklearn-color-text);\n",
       "}\n",
       "\n",
       "#sk-container-id-1 pre {\n",
       "  padding: 0;\n",
       "}\n",
       "\n",
       "#sk-container-id-1 input.sk-hidden--visually {\n",
       "  border: 0;\n",
       "  clip: rect(1px 1px 1px 1px);\n",
       "  clip: rect(1px, 1px, 1px, 1px);\n",
       "  height: 1px;\n",
       "  margin: -1px;\n",
       "  overflow: hidden;\n",
       "  padding: 0;\n",
       "  position: absolute;\n",
       "  width: 1px;\n",
       "}\n",
       "\n",
       "#sk-container-id-1 div.sk-dashed-wrapped {\n",
       "  border: 1px dashed var(--sklearn-color-line);\n",
       "  margin: 0 0.4em 0.5em 0.4em;\n",
       "  box-sizing: border-box;\n",
       "  padding-bottom: 0.4em;\n",
       "  background-color: var(--sklearn-color-background);\n",
       "}\n",
       "\n",
       "#sk-container-id-1 div.sk-container {\n",
       "  /* jupyter's `normalize.less` sets `[hidden] { display: none; }`\n",
       "     but bootstrap.min.css set `[hidden] { display: none !important; }`\n",
       "     so we also need the `!important` here to be able to override the\n",
       "     default hidden behavior on the sphinx rendered scikit-learn.org.\n",
       "     See: https://github.com/scikit-learn/scikit-learn/issues/21755 */\n",
       "  display: inline-block !important;\n",
       "  position: relative;\n",
       "}\n",
       "\n",
       "#sk-container-id-1 div.sk-text-repr-fallback {\n",
       "  display: none;\n",
       "}\n",
       "\n",
       "div.sk-parallel-item,\n",
       "div.sk-serial,\n",
       "div.sk-item {\n",
       "  /* draw centered vertical line to link estimators */\n",
       "  background-image: linear-gradient(var(--sklearn-color-text-on-default-background), var(--sklearn-color-text-on-default-background));\n",
       "  background-size: 2px 100%;\n",
       "  background-repeat: no-repeat;\n",
       "  background-position: center center;\n",
       "}\n",
       "\n",
       "/* Parallel-specific style estimator block */\n",
       "\n",
       "#sk-container-id-1 div.sk-parallel-item::after {\n",
       "  content: \"\";\n",
       "  width: 100%;\n",
       "  border-bottom: 2px solid var(--sklearn-color-text-on-default-background);\n",
       "  flex-grow: 1;\n",
       "}\n",
       "\n",
       "#sk-container-id-1 div.sk-parallel {\n",
       "  display: flex;\n",
       "  align-items: stretch;\n",
       "  justify-content: center;\n",
       "  background-color: var(--sklearn-color-background);\n",
       "  position: relative;\n",
       "}\n",
       "\n",
       "#sk-container-id-1 div.sk-parallel-item {\n",
       "  display: flex;\n",
       "  flex-direction: column;\n",
       "}\n",
       "\n",
       "#sk-container-id-1 div.sk-parallel-item:first-child::after {\n",
       "  align-self: flex-end;\n",
       "  width: 50%;\n",
       "}\n",
       "\n",
       "#sk-container-id-1 div.sk-parallel-item:last-child::after {\n",
       "  align-self: flex-start;\n",
       "  width: 50%;\n",
       "}\n",
       "\n",
       "#sk-container-id-1 div.sk-parallel-item:only-child::after {\n",
       "  width: 0;\n",
       "}\n",
       "\n",
       "/* Serial-specific style estimator block */\n",
       "\n",
       "#sk-container-id-1 div.sk-serial {\n",
       "  display: flex;\n",
       "  flex-direction: column;\n",
       "  align-items: center;\n",
       "  background-color: var(--sklearn-color-background);\n",
       "  padding-right: 1em;\n",
       "  padding-left: 1em;\n",
       "}\n",
       "\n",
       "\n",
       "/* Toggleable style: style used for estimator/Pipeline/ColumnTransformer box that is\n",
       "clickable and can be expanded/collapsed.\n",
       "- Pipeline and ColumnTransformer use this feature and define the default style\n",
       "- Estimators will overwrite some part of the style using the `sk-estimator` class\n",
       "*/\n",
       "\n",
       "/* Pipeline and ColumnTransformer style (default) */\n",
       "\n",
       "#sk-container-id-1 div.sk-toggleable {\n",
       "  /* Default theme specific background. It is overwritten whether we have a\n",
       "  specific estimator or a Pipeline/ColumnTransformer */\n",
       "  background-color: var(--sklearn-color-background);\n",
       "}\n",
       "\n",
       "/* Toggleable label */\n",
       "#sk-container-id-1 label.sk-toggleable__label {\n",
       "  cursor: pointer;\n",
       "  display: block;\n",
       "  width: 100%;\n",
       "  margin-bottom: 0;\n",
       "  padding: 0.5em;\n",
       "  box-sizing: border-box;\n",
       "  text-align: center;\n",
       "}\n",
       "\n",
       "#sk-container-id-1 label.sk-toggleable__label-arrow:before {\n",
       "  /* Arrow on the left of the label */\n",
       "  content: \"▸\";\n",
       "  float: left;\n",
       "  margin-right: 0.25em;\n",
       "  color: var(--sklearn-color-icon);\n",
       "}\n",
       "\n",
       "#sk-container-id-1 label.sk-toggleable__label-arrow:hover:before {\n",
       "  color: var(--sklearn-color-text);\n",
       "}\n",
       "\n",
       "/* Toggleable content - dropdown */\n",
       "\n",
       "#sk-container-id-1 div.sk-toggleable__content {\n",
       "  max-height: 0;\n",
       "  max-width: 0;\n",
       "  overflow: hidden;\n",
       "  text-align: left;\n",
       "  /* unfitted */\n",
       "  background-color: var(--sklearn-color-unfitted-level-0);\n",
       "}\n",
       "\n",
       "#sk-container-id-1 div.sk-toggleable__content.fitted {\n",
       "  /* fitted */\n",
       "  background-color: var(--sklearn-color-fitted-level-0);\n",
       "}\n",
       "\n",
       "#sk-container-id-1 div.sk-toggleable__content pre {\n",
       "  margin: 0.2em;\n",
       "  border-radius: 0.25em;\n",
       "  color: var(--sklearn-color-text);\n",
       "  /* unfitted */\n",
       "  background-color: var(--sklearn-color-unfitted-level-0);\n",
       "}\n",
       "\n",
       "#sk-container-id-1 div.sk-toggleable__content.fitted pre {\n",
       "  /* unfitted */\n",
       "  background-color: var(--sklearn-color-fitted-level-0);\n",
       "}\n",
       "\n",
       "#sk-container-id-1 input.sk-toggleable__control:checked~div.sk-toggleable__content {\n",
       "  /* Expand drop-down */\n",
       "  max-height: 200px;\n",
       "  max-width: 100%;\n",
       "  overflow: auto;\n",
       "}\n",
       "\n",
       "#sk-container-id-1 input.sk-toggleable__control:checked~label.sk-toggleable__label-arrow:before {\n",
       "  content: \"▾\";\n",
       "}\n",
       "\n",
       "/* Pipeline/ColumnTransformer-specific style */\n",
       "\n",
       "#sk-container-id-1 div.sk-label input.sk-toggleable__control:checked~label.sk-toggleable__label {\n",
       "  color: var(--sklearn-color-text);\n",
       "  background-color: var(--sklearn-color-unfitted-level-2);\n",
       "}\n",
       "\n",
       "#sk-container-id-1 div.sk-label.fitted input.sk-toggleable__control:checked~label.sk-toggleable__label {\n",
       "  background-color: var(--sklearn-color-fitted-level-2);\n",
       "}\n",
       "\n",
       "/* Estimator-specific style */\n",
       "\n",
       "/* Colorize estimator box */\n",
       "#sk-container-id-1 div.sk-estimator input.sk-toggleable__control:checked~label.sk-toggleable__label {\n",
       "  /* unfitted */\n",
       "  background-color: var(--sklearn-color-unfitted-level-2);\n",
       "}\n",
       "\n",
       "#sk-container-id-1 div.sk-estimator.fitted input.sk-toggleable__control:checked~label.sk-toggleable__label {\n",
       "  /* fitted */\n",
       "  background-color: var(--sklearn-color-fitted-level-2);\n",
       "}\n",
       "\n",
       "#sk-container-id-1 div.sk-label label.sk-toggleable__label,\n",
       "#sk-container-id-1 div.sk-label label {\n",
       "  /* The background is the default theme color */\n",
       "  color: var(--sklearn-color-text-on-default-background);\n",
       "}\n",
       "\n",
       "/* On hover, darken the color of the background */\n",
       "#sk-container-id-1 div.sk-label:hover label.sk-toggleable__label {\n",
       "  color: var(--sklearn-color-text);\n",
       "  background-color: var(--sklearn-color-unfitted-level-2);\n",
       "}\n",
       "\n",
       "/* Label box, darken color on hover, fitted */\n",
       "#sk-container-id-1 div.sk-label.fitted:hover label.sk-toggleable__label.fitted {\n",
       "  color: var(--sklearn-color-text);\n",
       "  background-color: var(--sklearn-color-fitted-level-2);\n",
       "}\n",
       "\n",
       "/* Estimator label */\n",
       "\n",
       "#sk-container-id-1 div.sk-label label {\n",
       "  font-family: monospace;\n",
       "  font-weight: bold;\n",
       "  display: inline-block;\n",
       "  line-height: 1.2em;\n",
       "}\n",
       "\n",
       "#sk-container-id-1 div.sk-label-container {\n",
       "  text-align: center;\n",
       "}\n",
       "\n",
       "/* Estimator-specific */\n",
       "#sk-container-id-1 div.sk-estimator {\n",
       "  font-family: monospace;\n",
       "  border: 1px dotted var(--sklearn-color-border-box);\n",
       "  border-radius: 0.25em;\n",
       "  box-sizing: border-box;\n",
       "  margin-bottom: 0.5em;\n",
       "  /* unfitted */\n",
       "  background-color: var(--sklearn-color-unfitted-level-0);\n",
       "}\n",
       "\n",
       "#sk-container-id-1 div.sk-estimator.fitted {\n",
       "  /* fitted */\n",
       "  background-color: var(--sklearn-color-fitted-level-0);\n",
       "}\n",
       "\n",
       "/* on hover */\n",
       "#sk-container-id-1 div.sk-estimator:hover {\n",
       "  /* unfitted */\n",
       "  background-color: var(--sklearn-color-unfitted-level-2);\n",
       "}\n",
       "\n",
       "#sk-container-id-1 div.sk-estimator.fitted:hover {\n",
       "  /* fitted */\n",
       "  background-color: var(--sklearn-color-fitted-level-2);\n",
       "}\n",
       "\n",
       "/* Specification for estimator info (e.g. \"i\" and \"?\") */\n",
       "\n",
       "/* Common style for \"i\" and \"?\" */\n",
       "\n",
       ".sk-estimator-doc-link,\n",
       "a:link.sk-estimator-doc-link,\n",
       "a:visited.sk-estimator-doc-link {\n",
       "  float: right;\n",
       "  font-size: smaller;\n",
       "  line-height: 1em;\n",
       "  font-family: monospace;\n",
       "  background-color: var(--sklearn-color-background);\n",
       "  border-radius: 1em;\n",
       "  height: 1em;\n",
       "  width: 1em;\n",
       "  text-decoration: none !important;\n",
       "  margin-left: 1ex;\n",
       "  /* unfitted */\n",
       "  border: var(--sklearn-color-unfitted-level-1) 1pt solid;\n",
       "  color: var(--sklearn-color-unfitted-level-1);\n",
       "}\n",
       "\n",
       ".sk-estimator-doc-link.fitted,\n",
       "a:link.sk-estimator-doc-link.fitted,\n",
       "a:visited.sk-estimator-doc-link.fitted {\n",
       "  /* fitted */\n",
       "  border: var(--sklearn-color-fitted-level-1) 1pt solid;\n",
       "  color: var(--sklearn-color-fitted-level-1);\n",
       "}\n",
       "\n",
       "/* On hover */\n",
       "div.sk-estimator:hover .sk-estimator-doc-link:hover,\n",
       ".sk-estimator-doc-link:hover,\n",
       "div.sk-label-container:hover .sk-estimator-doc-link:hover,\n",
       ".sk-estimator-doc-link:hover {\n",
       "  /* unfitted */\n",
       "  background-color: var(--sklearn-color-unfitted-level-3);\n",
       "  color: var(--sklearn-color-background);\n",
       "  text-decoration: none;\n",
       "}\n",
       "\n",
       "div.sk-estimator.fitted:hover .sk-estimator-doc-link.fitted:hover,\n",
       ".sk-estimator-doc-link.fitted:hover,\n",
       "div.sk-label-container:hover .sk-estimator-doc-link.fitted:hover,\n",
       ".sk-estimator-doc-link.fitted:hover {\n",
       "  /* fitted */\n",
       "  background-color: var(--sklearn-color-fitted-level-3);\n",
       "  color: var(--sklearn-color-background);\n",
       "  text-decoration: none;\n",
       "}\n",
       "\n",
       "/* Span, style for the box shown on hovering the info icon */\n",
       ".sk-estimator-doc-link span {\n",
       "  display: none;\n",
       "  z-index: 9999;\n",
       "  position: relative;\n",
       "  font-weight: normal;\n",
       "  right: .2ex;\n",
       "  padding: .5ex;\n",
       "  margin: .5ex;\n",
       "  width: min-content;\n",
       "  min-width: 20ex;\n",
       "  max-width: 50ex;\n",
       "  color: var(--sklearn-color-text);\n",
       "  box-shadow: 2pt 2pt 4pt #999;\n",
       "  /* unfitted */\n",
       "  background: var(--sklearn-color-unfitted-level-0);\n",
       "  border: .5pt solid var(--sklearn-color-unfitted-level-3);\n",
       "}\n",
       "\n",
       ".sk-estimator-doc-link.fitted span {\n",
       "  /* fitted */\n",
       "  background: var(--sklearn-color-fitted-level-0);\n",
       "  border: var(--sklearn-color-fitted-level-3);\n",
       "}\n",
       "\n",
       ".sk-estimator-doc-link:hover span {\n",
       "  display: block;\n",
       "}\n",
       "\n",
       "/* \"?\"-specific style due to the `<a>` HTML tag */\n",
       "\n",
       "#sk-container-id-1 a.estimator_doc_link {\n",
       "  float: right;\n",
       "  font-size: 1rem;\n",
       "  line-height: 1em;\n",
       "  font-family: monospace;\n",
       "  background-color: var(--sklearn-color-background);\n",
       "  border-radius: 1rem;\n",
       "  height: 1rem;\n",
       "  width: 1rem;\n",
       "  text-decoration: none;\n",
       "  /* unfitted */\n",
       "  color: var(--sklearn-color-unfitted-level-1);\n",
       "  border: var(--sklearn-color-unfitted-level-1) 1pt solid;\n",
       "}\n",
       "\n",
       "#sk-container-id-1 a.estimator_doc_link.fitted {\n",
       "  /* fitted */\n",
       "  border: var(--sklearn-color-fitted-level-1) 1pt solid;\n",
       "  color: var(--sklearn-color-fitted-level-1);\n",
       "}\n",
       "\n",
       "/* On hover */\n",
       "#sk-container-id-1 a.estimator_doc_link:hover {\n",
       "  /* unfitted */\n",
       "  background-color: var(--sklearn-color-unfitted-level-3);\n",
       "  color: var(--sklearn-color-background);\n",
       "  text-decoration: none;\n",
       "}\n",
       "\n",
       "#sk-container-id-1 a.estimator_doc_link.fitted:hover {\n",
       "  /* fitted */\n",
       "  background-color: var(--sklearn-color-fitted-level-3);\n",
       "}\n",
       "</style><div id=\"sk-container-id-1\" class=\"sk-top-container\"><div class=\"sk-text-repr-fallback\"><pre>RandomForestClassifier(max_leaf_nodes=16, n_estimators=500, random_state=1213)</pre><b>In a Jupyter environment, please rerun this cell to show the HTML representation or trust the notebook. <br />On GitHub, the HTML representation is unable to render, please try loading this page with nbviewer.org.</b></div><div class=\"sk-container\" hidden><div class=\"sk-item\"><div class=\"sk-estimator fitted sk-toggleable\"><input class=\"sk-toggleable__control sk-hidden--visually\" id=\"sk-estimator-id-1\" type=\"checkbox\" checked><label for=\"sk-estimator-id-1\" class=\"sk-toggleable__label fitted sk-toggleable__label-arrow fitted\">&nbsp;&nbsp;RandomForestClassifier<a class=\"sk-estimator-doc-link fitted\" rel=\"noreferrer\" target=\"_blank\" href=\"https://scikit-learn.org/1.5/modules/generated/sklearn.ensemble.RandomForestClassifier.html\">?<span>Documentation for RandomForestClassifier</span></a><span class=\"sk-estimator-doc-link fitted\">i<span>Fitted</span></span></label><div class=\"sk-toggleable__content fitted\"><pre>RandomForestClassifier(max_leaf_nodes=16, n_estimators=500, random_state=1213)</pre></div> </div></div></div></div>"
      ],
      "text/plain": [
       "RandomForestClassifier(max_leaf_nodes=16, n_estimators=500, random_state=1213)"
      ]
     },
     "execution_count": 16,
     "metadata": {},
     "output_type": "execute_result"
    }
   ],
   "source": [
    "svm_clf.fit(X_train, y_train)\n",
    "rf_clf.fit(X_train, y_train)"
   ]
  },
  {
   "cell_type": "code",
   "execution_count": 17,
   "id": "b19d2592",
   "metadata": {},
   "outputs": [],
   "source": [
    "def plot_decision_boundary_svm(clf, X_test, y_test, axes):\n",
    "    w = clf.coef_[0]      # obtención de parámetros del modelo entrenado\n",
    "    b = clf.intercept_[0]\n",
    "    # At the decision boundary, w0*x0 + w1*x1 + b = 0\n",
    "    # => x1 = -w0/w1 * x0 - b/w1\n",
    "    x0 = np.linspace(np.min(X[:,0]), np.max(X[:,0]), 200)   # crea el dominio y el rango para la frontera de decisión $x1 = f(x0)$\n",
    "    decision_boundary = -w[0] / w[1] * x0 - b / w[1]\n",
    "\n",
    "    # trazar los vectores de soporte y las rectas que los contienen \n",
    "    \n",
    "    margin = 1/w[1]\n",
    "    gutter_up = decision_boundary + margin\n",
    "    gutter_down = decision_boundary - margin\n",
    "    svs = svm_clf.support_vectors_\n",
    "\n",
    "    plt.plot(x0, decision_boundary, \"k-\", linewidth=2, zorder=-2) # traza la frontera de decisión\n",
    "    plt.plot(x0, gutter_up, \"k--\", linewidth=2, zorder=-2)\n",
    "    plt.plot(x0, gutter_down, \"k--\", linewidth=2, zorder=-2)\n",
    "    plt.scatter(svs[:, 0], svs[:, 1], s=180, facecolors='#AAA',\n",
    "                zorder=-1)\n",
    "    plt.xlabel('Temperatura')\n",
    "    plt.ylabel('Presión')\n",
    "    plt.axis(axes) \n",
    "    plt.plot(X_test[:,0][y_test==1], X_test[:,1][y_test==1], 'r^', label = 'Turbo') # clase positiva\n",
    "    plt.plot(X_test[:,0][y_test==0], X_test[:,1][y_test==0], 'bs', label = 'Yarumal') # clase negativa\n"
   ]
  },
  {
   "cell_type": "code",
   "execution_count": 35,
   "id": "97edaff5",
   "metadata": {},
   "outputs": [],
   "source": [
    "def plot_decision_boundary_rf(clf, X_test, y_test, axes):\n",
    "    x1s = np.linspace(axes[0], axes[1], 100)\n",
    "    x2s = np.linspace(axes[2], axes[3], 100)\n",
    "    x1, x2 = np.meshgrid(x1s, x2s) \n",
    "    x_new = np.c_[x1.ravel(), x2.ravel()]\n",
    "    y_pred = clf.predict(x_new).reshape(x1.shape)\n",
    "    plt.contourf(x1, x2, y_pred)\n",
    "    plt.xlabel('Temperatura')\n",
    "    plt.ylabel('Presión')\n",
    "    plt.axis(axes)\n",
    "    plt.plot(X_test[:,0][y_test==1], X_test[:,1][y_test==1], 'r^') # clase positiva\n",
    "    plt.plot(X_test[:,0][y_test==0], X_test[:,1][y_test==0], 'bs') "
   ]
  },
  {
   "cell_type": "code",
   "execution_count": 38,
   "id": "4346dc85",
   "metadata": {},
   "outputs": [],
   "source": [
    "from pathlib import Path\n",
    "\n",
    "IMAGES_PATH = Path() / \"images\" / \"fusion_svm_rf\"\n",
    "IMAGES_PATH.mkdir(parents=True, exist_ok=True)\n",
    "\n",
    "def save_fig(fig_id, tight_layout=True, fig_extension=\"png\", resolution=300):\n",
    "    path = IMAGES_PATH / f\"{fig_id}.{fig_extension}\"\n",
    "    if tight_layout:\n",
    "        plt.tight_layout()\n",
    "    plt.savefig(path, format=fig_extension, dpi=resolution)\n"
   ]
  },
  {
   "cell_type": "code",
   "execution_count": 39,
   "id": "0e8feacc",
   "metadata": {},
   "outputs": [
    {
     "data": {
      "image/png": "[encoded data removed]",
      "text/plain": [
       "<Figure size 1200x800 with 2 Axes>"
      ]
     },
     "metadata": {},
     "output_type": "display_data"
    }
   ],
   "source": [
    "fig, axes = plt.subplots(ncols=2, figsize = (12, 8), sharey=True)\n",
    "\n",
    "plt.sca(axes[0])\n",
    "plot_decision_boundary_svm(svm_clf, X_test, y_test.ravel(), [np.min(X[:,0]), np.max(X[:,0]), np.min(X[:,1]), np.max(X[:,1])])\n",
    "plt.grid()\n",
    "\n",
    "\n",
    "plt.sca(axes[1])\n",
    "plot_decision_boundary_rf(rf_clf, X_test, y_test.ravel(), [np.min(X[:,0]), np.max(X[:,0]), np.min(X[:,1]), np.max(X[:,1])])\n",
    "plt.grid()\n",
    "\n",
    "save_fig('predicción_visual_en_el_conjunto_de_prueba_de_svm_rf')"
   ]
  },
  {
   "cell_type": "code",
   "execution_count": null,
   "id": "e034edc7",
   "metadata": {},
   "outputs": [],
   "source": []
  },
  {
   "cell_type": "markdown",
   "id": "dcc7112d",
   "metadata": {},
   "source": [
    "## Diferencias entre los algoritmos SVM t RF  \n",
    "\n",
    "Las fronteras de decisión de una Máquina de Soporte Vectorial (SVM) y de un Random Forest son notablemente diferentes debido a la naturaleza y el enfoque de cada uno de estos algoritmos de aprendizaje automático. A continuación se presentan las diferencias clave entre las fronteras de decisión de ambos:\n",
    "\n",
    "### 1. Naturaleza de las Fronteras de Decisión\n",
    "- **SVM:**\n",
    "  - Las fronteras de decisión de una SVM son generalmente lineales en el espacio de características original si se usa un SVM lineal.\n",
    "  - Al utilizar kernels no lineales (como el kernel RBF), las fronteras de decisión pueden volverse no lineales y muy complejas, pero aún así tienden a ser suaves y continúas.\n",
    "  - La SVM busca maximizar el margen entre las clases, lo que a menudo resulta en fronteras de decisión más simples y más globales.\n",
    "\n",
    "- **Random Forest:**\n",
    "  - Las fronteras de decisión de un Random Forest son generalmente más irregulares y complejas, ya que se basan en múltiples árboles de decisión que son combinados.\n",
    "  - Cada árbol en el bosque divide el espacio de características en una serie de rectángulos o hipercubos, lo que resulta en fronteras de decisión que son piecewise-constant (por partes constantes).\n",
    "  - Las fronteras resultantes son más fragmentadas y detalladas, adaptándose mejor a los datos locales y específicos.\n",
    "\n",
    "### 2. Interpretabilidad\n",
    "- **SVM:**\n",
    "  - Las fronteras de decisión de una SVM son más fáciles de interpretar, especialmente cuando se usa un SVM lineal, ya que se pueden describir mediante una ecuación lineal.\n",
    "  - Con kernels no lineales, la interpretación se complica, pero aún así es posible visualizar la transformación del espacio de características.\n",
    "\n",
    "- **Random Forest:**\n",
    "  - Las fronteras de decisión de un Random Forest son más difíciles de interpretar debido a la combinación de múltiples árboles con distintas divisiones del espacio.\n",
    "  - Aunque se pueden analizar los árboles individuales, la frontera de decisión global es la media de muchos árboles, lo que complica su interpretación directa.\n",
    "\n",
    "### 3. Robustez y Generalización\n",
    "- **SVM:**\n",
    "  - Las SVM tienden a ser robustas y generalizan bien en muchos contextos, especialmente con un número adecuado de características y una buena selección de parámetros de kernel.\n",
    "  - Sin embargo, pueden ser sensibles a la elección del kernel y de los parámetros de regularización.\n",
    "\n",
    "- **Random Forest:**\n",
    "  - Los Random Forests son conocidos por su robustez y buena capacidad de generalización debido a la combinación de múltiples árboles que reducen el overfitting.\n",
    "  - Son menos sensibles a los parámetros específicos y funcionan bien en una variedad de problemas sin necesidad de ajustes finos.\n",
    "\n",
    "### 4. Eficiencia Computacional\n",
    "- **SVM:**\n",
    "  - El entrenamiento de una SVM puede ser computacionalmente costoso, especialmente con grandes conjuntos de datos y kernels complejos.\n",
    "  - Una vez entrenada, la predicción es generalmente rápida.\n",
    "\n",
    "- **Random Forest:**\n",
    "  - Entrenar un Random Forest puede ser más rápido para grandes conjuntos de datos ya que los árboles individuales se pueden entrenar en paralelo.\n",
    "  - La predicción puede ser más lenta comparada con una SVM, ya que implica la combinación de las predicciones de muchos árboles.\n",
    "\n",
    "### Ejemplo Visual de Fronteras de Decisión\n",
    "Para visualizar estas diferencias, se puede entrenar una SVM y un Random Forest en un conjunto de datos bidimensional y comparar sus fronteras de decisión. A continuación se muestra un ejemplo:\n",
    "\n",
    "1. **SVM Lineal:**\n",
    "   - Frontera de decisión lineal y simple.\n",
    "2. **SVM con Kernel RBF:**\n",
    "   - Frontera de decisión no lineal y suave.\n",
    "3. **Random Forest:**\n",
    "   - Frontera de decisión no lineal y fragmentada.\n",
    "\n",
    "Estas diferencias reflejan cómo cada algoritmo se adapta y clasifica los datos de manera distinta, ofreciendo ventajas y desventajas según el problema específico y los datos disponibles."
   ]
  },
  {
   "cell_type": "code",
   "execution_count": null,
   "id": "b7285fdd",
   "metadata": {},
   "outputs": [],
   "source": []
  },
  {
   "cell_type": "markdown",
   "id": "64ac8d32",
   "metadata": {},
   "source": [
    "# Ejemplo ilutrativo"
   ]
  },
  {
   "cell_type": "markdown",
   "id": "a3e5e6ab",
   "metadata": {},
   "source": [
    "# 10 ejercicios de entenamiento o adquisición de habilidades obtenido a través de ChatGPT para una formación personalizada y centrada en la habilidad que se quiere lograr con la enseñanza del ejemplo anterior: Se quiere lograr que el estudiante obtenda, configure, modele y visualice. "
   ]
  },
  {
   "cell_type": "code",
   "execution_count": null,
   "id": "cc539357",
   "metadata": {},
   "outputs": [],
   "source": []
  },
  {
   "cell_type": "code",
   "execution_count": null,
   "id": "0486a7d8",
   "metadata": {},
   "outputs": [],
   "source": [
    "## Visualización gráfica con plotly 1\n",
    "import numpy as np \n",
    "import pandas as pd \n",
    "import plotly.express as px\n",
    "# datos\n",
    "X = np.array([])\n",
    "\n",
    "Y = np.array([])\n",
    "\n",
    "# tabla de datos\n",
    "tabla = pd.DataFrame({'x':X, 'y':Y})\n",
    "#trazo de diagrama de dispersión o scatter\n",
    "fig = px.scatter(tabla,x = tabla.keys()[0], y = tabla.keys()[1], title='Relación entre x e y')\n",
    "fig.write_image('/home/marco/Documentos/docencia/calculo/images/images_ciencia_datos/temperatura_caucasia_2024.jpg')\n",
    "fig.show()\n",
    "\n",
    "#fig.write_html('relacion_entre_x_e_y.html', auto_open=True)"
   ]
  },
  {
   "cell_type": "code",
   "execution_count": null,
   "id": "1d46390f",
   "metadata": {},
   "outputs": [],
   "source": [
    "# Segunda opción de graficación con plotly\n",
    "\n",
    "from plotly import graph_objects as go \n",
    "\n",
    "fig = go.Figure()  \n",
    "\n",
    "fig.add_trace(go.Scatter(x = tiempos, y = velocidades, mode = 'markers' ))\n",
    "\n",
    "# Título del gráfico\n",
    "fig.update_layout(title='Velocidad en función del Tiempo')\n",
    "\n",
    "# Etiquetas para los ejes\n",
    "fig.update_xaxes(title_text='Tiempo')\n",
    "fig.update_yaxes(title_text='Velocidad')\n",
    "fig.write_image('/home/marco/Documentos/docencia/calculo/images/images_ciencia_datos/temperatura_caucasia_2024.jpg')\n",
    "# Mostrar el gráfico\n",
    "fig.show()"
   ]
  },
  {
   "cell_type": "markdown",
   "id": "2f0141c3",
   "metadata": {},
   "source": [
    "## Tareas para realizar antes de la clase  \n",
    "\n",
    "1. Ver los videos respectivos []()\n",
    "2. Memorizar las definiciones []()\n",
    "3. Sintetizar o resumir la información en mapas conceptuales. []()\n",
    "4. Tareas para incentivar el uso de la calculadora Casio Para ingenieros y licenciados. \n",
    "5. Leer los ejemplos resueltos y repricar la manera de hacerlos"
   ]
  },
  {
   "cell_type": "code",
   "execution_count": null,
   "id": "3db51219",
   "metadata": {},
   "outputs": [],
   "source": [
    "# mapa conceptual para cada clase  \n",
    "from graphviz import Digraph\n",
    "\n",
    "# Crear un nuevo grafo dirigido\n",
    "dot = Digraph()\n",
    "\n",
    "# Añadir nodos y relaciones al grafo\n",
    "main_concept = ''\n",
    "dot.node('A', main_concept)\n",
    "dot.node('B', '')\n",
    "dot.node('C', '')\n",
    "dot.node('D', '')\n",
    "dot.node('E', '')\n",
    "dot.node('F', '')\n",
    "dot.node('G', '')\n",
    "dot.node('H', '')\n",
    "dot.node('I', '')\n",
    "dot.node('J', '')\n",
    "\n",
    "dot.edges(['AB'])\n",
    "dot.edges(['AC'])\n",
    "dot.edges(['CD'])\n",
    "dot.edges(['DJ'])\n",
    "dot.edges(['EF'])\n",
    "dot.edges(['FG'])\n",
    "dot.edges(['GH'])\n",
    "dot.edges(['HI'])\n",
    "dot.edges(['IJ'])\n",
    "\n",
    "# Guardar el grafo como un archivo de imagen\n",
    "dot.render(filename=main_concept, format='png', cleanup=True, \\\n",
    "           directory='/home/marco/Documentos/docencia/calculo/images/0_reales/')\n",
    "\n",
    "dot.view()\n"
   ]
  },
  {
   "cell_type": "code",
   "execution_count": null,
   "metadata": {},
   "outputs": [],
   "source": [
    "# Tarea 1 de lectura de ejemplos y completación de procedimientos\n",
    "# asignación de tarea para realizar antes de clase\n",
    "# Consiste en leer y completar un ejemplo de texto guía\n",
    "\n",
    "import pandas as pd\n",
    "import numpy as np\n",
    "import requests\n",
    "np.random.seed(1213)  # establecer semilla aleatoria para hacer los resultados reproducibles\n",
    "\n",
    "\n",
    "\n",
    "grupo_estudiantes = 'calculo_integral'\n",
    "nombre_texto_guia = 'Purcell'\n",
    "pagina_y_seccion = 'Página_202_Sección_3.8'\n",
    "numero_ejemplos_de_la_seccion = 54\n",
    "numero_de_ejemplos_asignados = 3\n",
    "\n",
    "\n",
    "# Descargar la lista de  estudiantes\n",
    "students_url = \"https://raw.githubusercontent.com/marco-canas/groups_list/main/\" + grupo_estudiantes + \".csv\"\n",
    "examples = list(range(1, numero_ejemplos_de_la_seccion))  \n",
    "\n",
    "students_data = pd.read_csv(students_url)\n",
    "\n",
    "# Crear una lista para almacenar las asignaciones\n",
    "assignments = []\n",
    "\n",
    "# Asignar ejercicios aleatorios a cada estudiante\n",
    "for index, student in students_data.iterrows():\n",
    "    # Seleccionar 5 ejercicios aleatorios sin repetición\n",
    "    random_exercises = np.random.choice(examples, numero_de_ejemplos_asignados, replace = False)+ 1 \n",
    "    assignments.append([students_data[\"Nombre\"][index], *random_exercises])  # Agregar asignación a la lista\n",
    "\n",
    "# Crear un DataFrame con las asignaciones\n",
    "columns = [\"Student\"] + [ \"Example\" + str(i+1) for i in range(numero_de_ejemplos_asignados)]\n",
    "assignment_df = pd.DataFrame(assignments, columns=columns)\n",
    "\n",
    "# Guardar el DataFrame en un archivo CSV\n",
    "assignment_csv = \"tarea\" + \"_\" + nombre_texto_guia + \"_\"+ pagina_y_seccion + \".csv\"\n",
    "assignment_df.to_csv(assignment_csv, index=False)\n",
    "\n",
    "print(\"Tarea 1 de lectura de ejemplos y completación de procedimientos: \", assignment_csv)\n",
    "assignment_df"
   ]
  },
  {
   "cell_type": "markdown",
   "id": "740f3401",
   "metadata": {
    "slideshow": {
     "slide_type": "slide"
    }
   },
   "source": [
    "# Componente de manejo de calculadora Casio asociado al objetivo de aprendizaje de esta clase  \n",
    "\n",
    "## Pasos para lograr el objetivo de aprendizaje con la experimentación en la calculadora casio 570 "
   ]
  },
  {
   "cell_type": "markdown",
   "id": "fccb447c",
   "metadata": {
    "slideshow": {
     "slide_type": "slide"
    }
   },
   "source": [
    "# Tareas para realizar en clase"
   ]
  },
  {
   "cell_type": "code",
   "execution_count": null,
   "metadata": {},
   "outputs": [],
   "source": [
    "# Tarea 2 de solución de problemas \n",
    "# asignación de ejercicios de un seccion del texto guía\n",
    "\n",
    "# numpy.random.choice() obten la documentación de esta función en: \n",
    "# https://numpy.org/doc/stable/reference/random/generated/numpy.random.choice.html\n",
    "\n",
    "import pandas as pd\n",
    "import numpy as np\n",
    "import requests\n",
    "np.random.seed(424)  # establecer semilla aleatoria para hacer los resultados reproducibles\n",
    "\n",
    "\n",
    "\n",
    "grupo_estudiantes = 'calculo_integral'\n",
    "nombre_texto_guia = 'Purcell'\n",
    "pagina_y_seccion = 'Página_202_Sección_3.8'\n",
    "numero_ejercicios_taller = 54\n",
    "numero_de_ejercicios_asignados = 10\n",
    "\n",
    "\n",
    "# Descargar la lista de  estudiantes\n",
    "students_url = \"https://raw.githubusercontent.com/marco-canas/groups_list/main/\" + grupo_estudiantes + \".csv\"\n",
    "exercises = list(range(1, numero_ejercicios_taller))  \n",
    "\n",
    "students_data = pd.read_csv(students_url)\n",
    "\n",
    "# Crear una lista para almacenar las asignaciones\n",
    "assignments = []\n",
    "\n",
    "# Asignar ejercicios aleatorios a cada estudiante\n",
    "for index, student in students_data.iterrows():\n",
    "    # Seleccionar 5 ejercicios aleatorios sin repetición\n",
    "    random_exercises = np.random.choice(exercises, numero_de_ejercicios_asignados, replace = False)+ 1 \n",
    "    assignments.append([students_data[\"Nombre\"][index], *random_exercises])  # Agregar asignación a la lista\n",
    "\n",
    "# Crear un DataFrame con las asignaciones\n",
    "columns = [\"Student\"] + [ \"Exer\" + str(i+1) for i in range(numero_de_ejercicios_asignados)]\n",
    "assignment_df = pd.DataFrame(assignments, columns=columns)\n",
    "\n",
    "# Guardar el DataFrame en un archivo CSV\n",
    "assignment_csv = \"tarea\" + \"_\" + nombre_texto_guia + \"_\"+ pagina_y_seccion + \".csv\"\n",
    "assignment_df.to_csv(assignment_csv, index=False)\n",
    "\n",
    "print(\"Tarea 3 de solución de problemas: \", assignment_csv)\n",
    "assignment_df"
   ]
  },
  {
   "cell_type": "markdown",
   "id": "8b6b0112",
   "metadata": {
    "slideshow": {
     "slide_type": "slide"
    }
   },
   "source": [
    "# Tareas para realizar después de la realización de la clase"
   ]
  },
  {
   "cell_type": "markdown",
   "id": "947460e3",
   "metadata": {
    "slideshow": {
     "slide_type": "slide"
    }
   },
   "source": [
    "* Actividades de memorización: \n",
    "  - escucha reiterada de grabaciones de formulas y resultados científicos. \n",
    "  - relectura de notas. \n",
    "  - ejercicios de mayor complejidad.\n",
    "\n",
    "\n",
    "### No olvide asignar las tareas a los estudiantes a través de Google Colab y compartiendole el cuaderno de asignación a su correo institucional con fecha de entrega. [Google Colab](https://colab.research.google.com/?hl=es)   \n",
    "  "
   ]
  },
  {
   "cell_type": "markdown",
   "id": "d34defb9",
   "metadata": {
    "slideshow": {
     "slide_type": "slide"
    }
   },
   "source": [
    "## Asignación individual de tareas semanales "
   ]
  },
  {
   "cell_type": "code",
   "execution_count": null,
   "id": "0406f442",
   "metadata": {
    "slideshow": {
     "slide_type": "slide"
    }
   },
   "outputs": [],
   "source": [
    "# Tarea 3 de solución de problemas describiendo procedimientos y justificándolos\n",
    "\n",
    "# asignación de ejercicios de un seccion del texto guía\n",
    "\n",
    "# numpy.random.choice() obten la documentación de esta función en: \n",
    "# https://numpy.org/doc/stable/reference/random/generated/numpy.random.choice.html\n",
    "\n",
    "import pandas as pd\n",
    "import numpy as np\n",
    "import requests\n",
    "np.random.seed(126)  # establecer semilla aleatoria para hacer los resultados reproducibles\n",
    "\n",
    "\n",
    "\n",
    "grupo_estudiantes = 'calculo_integral'\n",
    "nombre_texto_guia = 'Purcell'\n",
    "pagina_y_seccion = 'Página_202_Sección_3.8'\n",
    "numero_ejercicios_taller = 54\n",
    "numero_de_ejercicios_asignados = 10\n",
    "\n",
    "\n",
    "# Descargar la lista de  estudiantes\n",
    "students_url = \"https://raw.githubusercontent.com/marco-canas/groups_list/main/\" + grupo_estudiantes + \".csv\"\n",
    "exercises = list(range(1, numero_ejercicios_taller))  \n",
    "\n",
    "students_data = pd.read_csv(students_url)\n",
    "\n",
    "# Crear una lista para almacenar las asignaciones\n",
    "assignments = []\n",
    "\n",
    "# Asignar ejercicios aleatorios a cada estudiante\n",
    "for index, student in students_data.iterrows():\n",
    "    # Seleccionar 5 ejercicios aleatorios sin repetición\n",
    "    random_exercises = np.random.choice(exercises, numero_de_ejercicios_asignados, replace = False)+ 1 \n",
    "    assignments.append([students_data[\"Nombre\"][index], *random_exercises])  # Agregar asignación a la lista\n",
    "\n",
    "# Crear un DataFrame con las asignaciones\n",
    "columns = [\"Student\"] + [ \"Exer\" + str(i+1) for i in range(numero_de_ejercicios_asignados)]\n",
    "assignment_df = pd.DataFrame(assignments, columns=columns)\n",
    "\n",
    "# Guardar el DataFrame en un archivo CSV\n",
    "assignment_csv = \"tarea\" + \"_\" + nombre_texto_guia + \"_\"+ pagina_y_seccion + \".csv\"\n",
    "assignment_df.to_csv(assignment_csv, index=False)\n",
    "\n",
    "print(\"Tarea 3 Solución problemas describiendo y justificando: \", assignment_csv)\n",
    "assignment_df"
   ]
  },
  {
   "cell_type": "markdown",
   "id": "742281f4",
   "metadata": {},
   "source": [
    "# No olvide la tarea de realizar la foda para autoevaluarse\n",
    "\n",
    "Fortalezas: F  \n",
    "Oportuniudades O:  \n",
    "Debilidades: D:   \n",
    "Amenazas: A:     "
   ]
  },
  {
   "cell_type": "markdown",
   "id": "8d41fe58",
   "metadata": {
    "slideshow": {
     "slide_type": "slide"
    }
   },
   "source": [
    "# Horario de clases del profesor Marco\n",
    "\n",
    "* Martes y jueves de 10 a 12: Fundamentos de las matemáticas\n",
    "* Martes y jueves de 2 a 4 PM: Fundamentos de la aritmética\n",
    "\n",
    "* Didáctica de la aritmética: Miércoles de 8 - 12\n",
    "\n"
   ]
  },
  {
   "cell_type": "markdown",
   "id": "ae114e14",
   "metadata": {
    "slideshow": {
     "slide_type": "slide"
    }
   },
   "source": [
    "# Horarios de monitoría y asesoría"
   ]
  },
  {
   "cell_type": "markdown",
   "id": "b1db4b6c",
   "metadata": {
    "slideshow": {
     "slide_type": "slide"
    }
   },
   "source": [
    "## Monitor Manuel"
   ]
  },
  {
   "cell_type": "markdown",
   "id": "39559692",
   "metadata": {
    "slideshow": {
     "slide_type": "slide"
    }
   },
   "source": [
    "Martes y jueves de 8 - 12  \n",
    "Miércoles 10 - 12 y de 2 a 4 PM  \n",
    "Sábado: 8 - 12"
   ]
  },
  {
   "cell_type": "markdown",
   "id": "935a5567",
   "metadata": {
    "slideshow": {
     "slide_type": "slide"
    }
   },
   "source": [
    "## Dificultades de aprendizaje detectados durante la clase"
   ]
  },
  {
   "cell_type": "markdown",
   "id": "3bd7500d",
   "metadata": {
    "slideshow": {
     "slide_type": "slide"
    }
   },
   "source": []
  },
  {
   "cell_type": "markdown",
   "id": "fb9402bb",
   "metadata": {
    "slideshow": {
     "slide_type": "slide"
    }
   },
   "source": [
    "## Estrategias propuestas para la solución de las dificultades de aprendizaje detectadas"
   ]
  },
  {
   "cell_type": "markdown",
   "id": "d437294b",
   "metadata": {
    "slideshow": {
     "slide_type": "slide"
    }
   },
   "source": []
  },
  {
   "cell_type": "markdown",
   "id": "d11570a2",
   "metadata": {
    "slideshow": {
     "slide_type": "slide"
    }
   },
   "source": []
  },
  {
   "cell_type": "markdown",
   "id": "319f2ffa",
   "metadata": {
    "slideshow": {
     "slide_type": "slide"
    }
   },
   "source": [
    "## Grabaciones en audio para fomentar la capacidad de memorizar enunciados de teoremas y resultados científicos y la capacidad de parafrasear estos resultados. Y así desarrollar memoria muscular para los comandos comunes. \n",
    "Se dispondrá de un lugar en Vocaroo para albergar archivos de audio de fomento a la memorización, enunciación y parafraseo de los resultados científicos, propiedades, reglas, etc. \n",
    "\n",
    "[Vocaroo](https://vocaroo.com/)\n",
    "\n"
   ]
  },
  {
   "cell_type": "markdown",
   "id": "564fa59d",
   "metadata": {
    "slideshow": {
     "slide_type": "slide"
    }
   },
   "source": [
    "### Comparta sus cuadernos y videos, evidencias de su aprendizaje [aquí](https://forms.office.com/Pages/ResponsePage.aspx?id=IefhmYRxjkmK_7KtTlPBwkanXIs1i1FEujpsZgO6dXpUMEMwTEZVMzEwVVBPTElWNVg5OVEyWUhMUy4u)"
   ]
  },
  {
   "cell_type": "markdown",
   "id": "1a1a3e41",
   "metadata": {
    "slideshow": {
     "slide_type": "slide"
    }
   },
   "source": []
  },
  {
   "cell_type": "markdown",
   "id": "44be6d93",
   "metadata": {
    "slideshow": {
     "slide_type": "slide"
    }
   },
   "source": [
    "# Vocabulary "
   ]
  },
  {
   "cell_type": "markdown",
   "id": "35e2484a",
   "metadata": {
    "slideshow": {
     "slide_type": "slide"
    }
   },
   "source": [
    "1. \n",
    "2.  \n",
    "3.  \n",
    "4.  \n",
    "5.  "
   ]
  },
  {
   "cell_type": "markdown",
   "id": "94187562",
   "metadata": {},
   "source": [
    "# Colección de verbos irregulares aprendidos\n",
    "\n",
    "|Verbo irregular en presente|en español|Pasado|\n",
    "|---------------------------|----------|------|  \n",
    "|choose|elegir|chose|"
   ]
  },
  {
   "cell_type": "markdown",
   "id": "0266e3c5",
   "metadata": {
    "slideshow": {
     "slide_type": "slide"
    }
   },
   "source": [
    "## Quiz de 20 minutos para ejercitación y adquisición de habilidades "
   ]
  },
  {
   "cell_type": "markdown",
   "id": "3a1b127f",
   "metadata": {
    "slideshow": {
     "slide_type": "slide"
    }
   },
   "source": [
    "* Pregunta 1: \n",
    "* Pregunta 2: \n",
    "* Pregunta 3: "
   ]
  },
  {
   "cell_type": "markdown",
   "id": "10bce0d0",
   "metadata": {
    "slideshow": {
     "slide_type": "slide"
    }
   },
   "source": [
    "## Referentes "
   ]
  },
  {
   "cell_type": "markdown",
   "id": "1db3c468",
   "metadata": {
    "slideshow": {
     "slide_type": "slide"
    }
   },
   "source": [
    "* Chollet, F. (2021). Deep learning with Python. Simon and Schuster.  \n",
    "  \n",
    "* [stewart precálculo](https://udeaeduco-my.sharepoint.com/:b:/g/personal/marco_canas_udea_edu_co/ERHIq62I6qFNrmxy6LZb8ZMBci7kUsyNME1nIh9yCBMJ_w?e=0zMSla)  \n",
    "\n",
    "* [stewart cálculo](https://udeaeduco-my.sharepoint.com/:b:/g/personal/marco_canas_udea_edu_co/EZgXZjAp8QxPqOAim2hs6LcBNPLGjSHf-xwYnUVYkwa04w?e=RZdTCy)  \n",
    "\n",
    "* [larson](https://udeaeduco-my.sharepoint.com/:b:/g/personal/marco_canas_udea_edu_co/ES71ChFeO9ZDhW3TwC5Ijk8BjxUK3Pdqz_fjHxTTFAfIAg?e=VDEjfu)\n",
    "\n",
    "* [uzcategui](https://udeaeduco-my.sharepoint.com/:b:/g/personal/marco_canas_udea_edu_co/ETDikm-lVl1Or8XoEo9oyh0BEti9Zs8le-f0D-dBdtZmbA?e=bBsoyQ)\n",
    "\n",
    "* [Cálculo de Purcell](https://udeaeduco-my.sharepoint.com/:b:/g/personal/marco_canas_udea_edu_co/ES60UB4h-QFFqqRQUFmkpWcBIgoLBJeqTfZjNajWNWSeJA?e=9NxjKJ)\n",
    "\n",
    "* [Recomendación de la UNESCO sobre ciencia abierta](https://unesdoc.unesco.org/ark:/48223/pf0000379949_spa)\n",
    "\n",
    "* [Fórmulas más comunes en latex](https://wiki.geogebra.org/es/C%C3%B3digo_LaTeX_para_las_f%C3%B3rmulas_m%C3%A1s_comunes) \n",
    "\n",
    "* [chatGPT](https://openai.com/blog/chatgpt)  \n",
    "\n",
    "* Géron, A. (2017). Hands-on machine learning with scikit-learn and tensorflow: Concepts. Tools, and Techniques to build intelligent systems.[Geron, Aurelien. Hands on Machine Learning](https://udeaeduco-my.sharepoint.com/:b:/g/personal/marco_canas_udea_edu_co/Ecet27yjQzZIlT1Y_Bc2erkBUhbeYuIe6HG8i1FYZRlZww?e=dlvZ4v)  \n",
    "\n",
    "* McKinney, W. (2012). Python for data analysis: Data wrangling with Pandas, NumPy, and IPython. \" O'Reilly Media, Inc.\".[Wes Mackinney. ](https://udeaeduco-my.sharepoint.com/:b:/g/personal/marco_canas_udea_edu_co/EVbi5JIeBl9ErbiUnZfGe8YBhNTnZ8sxTK5hjIOPK4UpGw?e=fFclah)  \n",
    "\n",
    "* [Ledezma, C., Font, V., & Sala-Sebastià, G. MODELIZACIÓN MATEMÁTICA DESDE UNA ARTICULACIÓN TEÓRICA ENTRE LOS ENFOQUES COGNITIVO Y ONTO-SEMIÓTICO.](https://www.researchgate.net/profile/Carlos-Ledezma-4/publication/376076920_Modelizacion_matematica_desde_una_articulacion_teorica_entre_los_enfoques_cognitivo_y_onto-semiotico/links/6568cb363fa26f66f43b292a/Modelizacion-matematica-desde-una-articulacion-teorica-entre-los-enfoques-cognitivo-y-onto-semiotico.pdf)"
   ]
  },
  {
   "cell_type": "markdown",
   "id": "45c59aa9",
   "metadata": {},
   "source": [
    "[Autoevaluemonos para hacernos concientes de nuestro aprendizaje y en lo que debemos enfocarnos en mejorar]()  \n",
    "\n",
    "Aquí tienes una lista de preguntas de selección múltiple para una autoevaluación en un curso de cálculo con un enfoque pedagógico de aula invertida. Estas preguntas abarcan los objetivos de desarrollo del pensamiento variacional, pensamiento computacional a través de Python, capacidad de comunicación científica con LaTeX, Git y el uso de cuadernos Jupyter, así como la promoción de políticas de ciencia libre. \n",
    "\n",
    "1. **Pensamiento Variacional:**\n",
    "   a. ¿Qué significa el término \"variación\" en el contexto del pensamiento variacional?\n",
    "   b. ¿Cómo se relaciona el cálculo con el pensamiento variacional?\n",
    "   c. ¿Puede proporcionar un ejemplo práctico que ilustre el concepto de variación en un problema de cálculo?\n",
    "\n",
    "2. **Pensamiento Computacional (Python):**\n",
    "   a. ¿Cuál es el propósito principal de utilizar Python en un curso de cálculo?\n",
    "   b. ¿Cómo se puede utilizar Python para resolver problemas matemáticos complejos?\n",
    "   c. Menciona al menos dos ventajas de usar Python en comparación con otros lenguajes de programación en el contexto del cálculo.\n",
    "\n",
    "3. **Comunicación Científica (LaTeX):**\n",
    "   a. ¿Por qué es importante utilizar LaTeX para la comunicación científica en matemáticas y ciencias?\n",
    "   b. Enumera al menos tres comandos básicos de LaTeX utilizados para escribir ecuaciones matemáticas.\n",
    "   c. ¿Cómo mejorarías la presentación visual de una fórmula matemática utilizando LaTeX?\n",
    "\n",
    "4. **Gestión de Versiones (Git):**\n",
    "   a. ¿Cuál es el propósito principal de utilizar Git en el desarrollo de proyectos científicos?\n",
    "   b. Explica el concepto de \"commit\" en Git.\n",
    "   c. ¿Cómo resolverías un conflicto de fusión (merge conflict) en Git?\n",
    "\n",
    "5. **Cuadernos Jupyter:**\n",
    "   a. ¿Cuáles son las ventajas de utilizar cuadernos Jupyter en comparación con otros entornos de desarrollo?\n",
    "   b. Describe cómo se integra el código Python y la documentación en un cuaderno Jupyter.\n",
    "   c. ¿Cómo compartirías un cuaderno Jupyter con tus compañeros de clase utilizando GitHub?\n",
    "\n",
    "6. **Promoción de Políticas de Ciencia Libre:**\n",
    "   a. ¿Cuáles son los beneficios de utilizar plataformas como GitHub y YouTube para compartir recursos científicos?\n",
    "   b. ¿Cómo podrías contribuir a la promoción de la ciencia libre en tu comunidad académica?\n",
    "   c. ¿Por qué es importante la transparencia y accesibilidad en la investigación científica?\n",
    "\n",
    "Estas preguntas están diseñadas para evaluar la comprensión de los estudiantes en diversos aspectos del curso, abarcando desde los conceptos matemáticos hasta las habilidades tecnológicas y la conciencia sobre la ciencia libre."
   ]
  },
  {
   "cell_type": "markdown",
   "id": "8e65d6f9",
   "metadata": {},
   "source": [
    "# Como estudiante, encuentro que...   \n",
    "\n",
    "F: Mis Fortalezas son:     \n",
    "O: Mis Oportunidades son:    \n",
    "D: Mis Debilidades son:    \n",
    "A: Lo que Amenazas mi aprendizaje es:  "
   ]
  },
  {
   "cell_type": "markdown",
   "id": "6b9e56a8",
   "metadata": {
    "slideshow": {
     "slide_type": "slide"
    }
   },
   "source": [
    "### [Evaluamos al profesor Marco Cañas Aquí](https://forms.office.com/Pages/ResponsePage.aspx?id=IefhmYRxjkmK_7KtTlPBwkanXIs1i1FEujpsZgO6dXpUREJPV1kxUk1JV1ozTFJIQVNIQjY5WEY3US4u)"
   ]
  },
  {
   "cell_type": "markdown",
   "id": "050b9508",
   "metadata": {},
   "source": [
    "# Aportes de mis estudiantes a la metodología del curso  \n",
    "1. \n",
    "\n",
    "Sus opiniones y aportes son muy importantes para mi. Pues esta es una investigación educativa y un servicio de enseñanza para ustedes. Ustedes son la razón de ser de mi actividad docente. Dios los bendiga. "
   ]
  },
  {
   "cell_type": "markdown",
   "id": "6c4af91f",
   "metadata": {},
   "source": [
    "# Aportes de mis colegas docentes a la metodología que estoy aplicando en mis cursos. "
   ]
  },
  {
   "cell_type": "markdown",
   "id": "071afa04",
   "metadata": {
    "slideshow": {
     "slide_type": "slide"
    }
   },
   "source": [
    "## [Evaluación luego de alcanzar estos objetivos de aprendizaje]()"
   ]
  },
  {
   "cell_type": "markdown",
   "id": "10f43536",
   "metadata": {
    "slideshow": {
     "slide_type": "slide"
    }
   },
   "source": [
    "### Continue su aprendizaje en la siguiente clase a través del siguiente [vínculo]()"
   ]
  },
  {
   "cell_type": "markdown",
   "id": "af751e30",
   "metadata": {
    "slideshow": {
     "slide_type": "slide"
    }
   },
   "source": [
    "# Conjeturas pedagógicas fruto de la aplicación del modelo de aprendizaje invertido y del enfoque hacia la ciencia de datos con python\n",
    "\n",
    "1. Todo cálculo o resultado debe ser interpretado en una línea markdown del cuaderno Jupyter, inmediatamente después de la enunciación del resultado y después de la presentación de una tabla o gráfico bidimensional, de tal menera que el estudiante explicite la comprensión verbal del resultado y las inferencias o estrategias que este resultado le sugieren.  \n",
    "\n",
    "2. Debo colocar las conjeturas pedagógicas, que el uso en el aula de [ChatGPT](https://openai.com/blog/chatgpt/) traiga para la enseñanza y el aprendizaje de las matemáticas. \n",
    "\n",
    "3. Promover ciencia abierta en clase de matemáticas puede ser pidiendo a los estudiantes, tomar nota en clase pero en cuadernos Jupyter y entregar siempre al final de cada clase su cuaderno con todas las notas y experimentaciones de clase replicadas. \n",
    "4. Profesor Marco, ¿ha contemplado la posibilidad de intercambio de experiencias de aprendizaje y aplicación de Python al día a día con comfama? (Estudio Trabajo Social y allí, en comfama, aprendí los fundamentos, lo básico de Python)\n",
    "\n",
    "¿Conoce si en la Universidad de Antioquia hay medios para poder aprender Swift/XCODE? (Para programar para dispositivos de Apple)\n",
    "5. Debo considerar la metodología ABP, es decir, diseñar las clase bajo la metodología de Aprendizaje Basado en Problemas. \n",
    "\n"
   ]
  },
  {
   "cell_type": "markdown",
   "id": "53cc9115",
   "metadata": {
    "slideshow": {
     "slide_type": "slide"
    }
   },
   "source": [
    "## Agradecimientos  \n",
    "\n",
    "Doy gracias a Dios por la vida de mi Hijo Joseph Cañas Osorio y la madurez que ha alcanzado.\n",
    "\n",
    "Y a mi esposa Yasmira por su apoyo, orientación y acompañamiento. "
   ]
  }
 ],
 "metadata": {
  "celltoolbar": "Slideshow",
  "kernelspec": {
   "display_name": "Python 3 (ipykernel)",
   "language": "python",
   "name": "python3"
  },
  "language_info": {
   "codemirror_mode": {
    "name": "ipython",
    "version": 3
   },
   "file_extension": ".py",
   "mimetype": "text/x-python",
   "name": "python",
   "nbconvert_exporter": "python",
   "pygments_lexer": "ipython3",
   "version": "3.10.12"
  },
  "rise": {
   "enable_chalkboard": true,
   "theme": "sky",
   "transition": "zoom"
  }
 },
 "nbformat": 4,
 "nbformat_minor": 5
}

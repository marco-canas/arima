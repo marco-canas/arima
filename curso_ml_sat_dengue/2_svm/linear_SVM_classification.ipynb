{
 "cells": [
  {
   "cell_type": "markdown",
   "id": "c6cbc446",
   "metadata": {},
   "source": [
    "<table align=\"left\">\n",
    "  <td>\n",
    "    <a href=\"https://colab.research.google.com/github/marco-canas/4_didactica_aritmetica/blob/main/modelo_general_clase_aula_invertida.ipynb\" target=\"_parent\"><img src=\"https://colab.research.google.com/assets/colab-badge.svg\" alt=\"Open In Colab\"/></a>\n",
    "  </td>\n",
    "</table>"
   ]
  },
  {
   "cell_type": "markdown",
   "id": "4c34ff6d-cf73-46b0-9df6-5f28856ee3b3",
   "metadata": {},
   "source": [
    "# Visualización de dos clases linealemente separables, pero mal clasificadas  \n",
    "\n",
    "## Metodología\n",
    "\n",
    "1. obtener datos\n",
    "2. configurar los datos para la clasificación binaria. (predictores y las etiquetas).\n",
    "3. graficamos los datos como scatter\n",
    "4. trazamos tres rectas clasificadoras."
   ]
  },
  {
   "cell_type": "code",
   "execution_count": 6,
   "id": "af0f56ab-ac23-4784-9a29-4074a48315af",
   "metadata": {},
   "outputs": [],
   "source": [
    "from sklearn import datasets                             # importar la librería\n",
    "iris = datasets.load_iris(as_frame = True)               # crear la variable iris\n",
    "X = iris.data[['petal length (cm)', 'petal width (cm)']]\n",
    "y = iris.target                                          # definí o cree la variable objetivo o variable de etiquetas.\n",
    "X = X.loc[:99] # seleccionar solo los datos correspondientes a las dos primeras clases de flores\n",
    "y = y.loc[:99]\n",
    "import numpy as np \n",
    "import pandas as pd \n",
    "df = pd.DataFrame(np.c_[X.values, y.values], \\\n",
    "             columns = [X.keys()[0], X.keys()[1], 'tipo de flor'])"
   ]
  },
  {
   "cell_type": "code",
   "execution_count": 5,
   "id": "8d7e4931-9ff1-472a-ac98-4558c3d0c09e",
   "metadata": {},
   "outputs": [],
   "source": []
  },
  {
   "cell_type": "code",
   "execution_count": null,
   "id": "3f9d3ad8-692f-492a-86de-7c6a16344d0e",
   "metadata": {},
   "outputs": [],
   "source": []
  }
 ],
 "metadata": {
  "kernelspec": {
   "display_name": "Python 3 (ipykernel)",
   "language": "python",
   "name": "python3"
  },
  "language_info": {
   "codemirror_mode": {
    "name": "ipython",
    "version": 3
   },
   "file_extension": ".py",
   "mimetype": "text/x-python",
   "name": "python",
   "nbconvert_exporter": "python",
   "pygments_lexer": "ipython3",
   "version": "3.10.12"
  }
 },
 "nbformat": 4,
 "nbformat_minor": 5
}

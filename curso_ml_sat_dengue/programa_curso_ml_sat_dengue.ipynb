{
 "cells": [
  {
   "cell_type": "markdown",
   "metadata": {},
   "source": [
    "<table align=\"left\">\n",
    "  <td>\n",
    "    <a href=\"https://colab.research.google.com/github/marco-canas/investigacion_dengue/blob/main/machine_learning/1_time_series/6_seminario%206%3A%20time_series_basics/6_seminario_time_series_basics.ipynb\" target=\"_parent\"><img src=\"https://colab.research.google.com/assets/colab-badge.svg\" alt=\"Open In Colab\"/></a>\n",
    "  </td>\n",
    "</table>"
   ]
  },
  {
   "cell_type": "markdown",
   "metadata": {},
   "source": [
    "### [Primer Video de apoyo](https://www.youtube.com/watch?v=TwLQrZB46fI)"
   ]
  },
  {
   "cell_type": "markdown",
   "metadata": {},
   "source": [
    "# Seminario en Machine learning para SAT-dengue"
   ]
  },
  {
   "cell_type": "markdown",
   "metadata": {},
   "source": [
    "## Objetivo\n",
    "\n"
   ]
  },
  {
   "cell_type": "code",
   "execution_count": 1,
   "metadata": {},
   "outputs": [],
   "source": [
    "# Mapa conceptual\n",
    "\n",
    "import networkx as nx \n",
    "\n",
    "lista_conceptos = ['Dengue']\n",
    "\n"
   ]
  },
  {
   "cell_type": "markdown",
   "metadata": {},
   "source": [
    "# Descripción del curso  \n",
    "\n",
    "**Curso: Machine Learning con Python para Series de Tiempo y Diseño Web Científico**\n",
    "\n",
    "**Descripción:**\n",
    "Este curso integral combina la potencia del aprendizaje automático aplicado a series de tiempo con el desarrollo de habilidades prácticas para la comunicación científica a través de la creación de páginas web utilizando Python. A lo largo del curso, los participantes explorarán el fascinante mundo de las series de tiempo, desde técnicas tradicionales como ARIMA hasta modelos más avanzados como Support Vector Machines y Random Forests. Además, aprenderán a presentar sus resultados de manera efectiva mediante la creación de páginas web interactivas y atractivas.\n",
    "\n",
    "**Contenido del Curso:**\n",
    "\n",
    "1. **Introducción a las Series de Tiempo:**\n",
    "   - Conceptos básicos y características de las series de tiempo.\n",
    "   - Importancia en el análisis de datos temporales.\n",
    "\n",
    "2. **ARIMA (Autoregressive Integrated Moving Average):**\n",
    "   - Teoría detrás de ARIMA y su aplicación práctica.\n",
    "   - Implementación en Python con ejemplos prácticos utilizando cuadernos Jupyter.\n",
    "   - Interpretación de resultados y ajuste de modelos.\n",
    "\n",
    "3. **Support Vector Machine (SVM):**\n",
    "   - Fundamentos teóricos de SVM y su aplicación en series de tiempo.\n",
    "   - Ejercicios prácticos para la implementación de SVM en Python.\n",
    "   - Optimización de parámetros y evaluación del rendimiento.\n",
    "\n",
    "4. **Random Forest:**\n",
    "   - Entendimiento de Random Forest y su adaptación a problemas de series de tiempo.\n",
    "   - Implementación paso a paso en Python.\n",
    "   - Estrategias de validación y comparación con otros modelos.\n",
    "\n",
    "5. **Diseño de Páginas Web con Python:**\n",
    "   - Introducción a herramientas y bibliotecas para diseño web con Python (Flask, Django, etc.).\n",
    "   - Creación de visualizaciones interactivas para comunicación científica.\n",
    "   - Integración de resultados de modelos de series de tiempo en la página web.\n",
    "\n",
    "6. **GitHub y Jupyter Notebooks:**\n",
    "   - Uso efectivo de GitHub para gestionar y compartir cuadernos Jupyter.\n",
    "   - Colaboración en proyectos y control de versiones.\n",
    "\n",
    "7. **Clases Virtuales y Recursos:**\n",
    "   - Video-clases alojadas en el canal DIMATHDATA en YouTube para cada módulo.\n",
    "   - Sesiones en vivo para preguntas y discusiones.\n",
    "   - Material adicional, ejercicios y proyectos para práctica independiente.\n",
    "\n",
    "**Requisitos:**\n",
    "- Conocimientos básicos de Python.\n",
    "- Familiaridad con conceptos estadísticos es útil pero no obligatoria.\n",
    "\n",
    "**Metodología:**\n",
    "El curso se imparte a través de video-clases, cuadernos Jupyter alojados en GitHub y sesiones interactivas. Los participantes trabajarán en proyectos prácticos y aplicarán los conceptos aprendidos en casos del mundo real.\n",
    "\n",
    "¡Únete a nosotros para explorar el fascinante mundo de las series de tiempo y llevar tus habilidades de comunicación científica a un nuevo nivel con el poder de Python y el aprendizaje automático!"
   ]
  },
  {
   "cell_type": "markdown",
   "metadata": {},
   "source": []
  },
  {
   "cell_type": "markdown",
   "metadata": {},
   "source": []
  },
  {
   "cell_type": "code",
   "execution_count": null,
   "metadata": {},
   "outputs": [],
   "source": []
  },
  {
   "cell_type": "code",
   "execution_count": null,
   "metadata": {},
   "outputs": [],
   "source": []
  },
  {
   "cell_type": "code",
   "execution_count": null,
   "metadata": {},
   "outputs": [],
   "source": []
  },
  {
   "cell_type": "markdown",
   "metadata": {},
   "source": [
    "# Referencias\n",
    "\n",
    "* [McKinney, W. (2022). Python for data analysis. \" O'Reilly Media, Inc.\".](https://d1wqtxts1xzle7.cloudfront.net/62139307/Python-for-Data-Analysis-2nd-Edition20200219-40214-1of6b7q-libre.pdf?1582110463=&response-content-disposition=inline%3B+filename%3DPython_for_Data_Analysis.pdf&Expires=1694149999&Signature=MH1uVxkUnFgwepQUeb-3OdFgQWj0vmtzC4ra~TZ-xyCstLSCg7uaNeDi4yrXghoJ6UEMCGOJkx2s13vayVVP-IzF8I91v6TeW0ZUeIejbWlrkHxtT01V-fJ6q7C~9buozUwVr~o2BY3llLH5rZVlZF31pPefEm3ejjlW8pO~prbQ8VVfyfXs4HzSIQJ~nbTCZU8LfqYwU3yMLV7IH4TQN9eGd8GZuqHjznUJZU995AwYqQqzl5-Xtoz93-S1Pn2UWuS8SsXmFt1ysr~-M7-6lVQw~E9~MFbdCIQRfp~fRtVtHDfB-mEXNEQ1CX518xUB0xT3JtfZdsGArib9UMwOqg__&Key-Pair-Id=APKAJLOHF5GGSLRBV4ZA)\n",
    "\n",
    "<img src = 'https://wesmckinney.com/images/wes-2017-01-12-small.png'>"
   ]
  },
  {
   "cell_type": "markdown",
   "metadata": {},
   "source": []
  }
 ],
 "metadata": {
  "kernelspec": {
   "display_name": ".venv",
   "language": "python",
   "name": "python3"
  },
  "language_info": {
   "codemirror_mode": {
    "name": "ipython",
    "version": 3
   },
   "file_extension": ".py",
   "mimetype": "text/x-python",
   "name": "python",
   "nbconvert_exporter": "python",
   "pygments_lexer": "ipython3",
   "version": "3.10.12"
  },
  "orig_nbformat": 4
 },
 "nbformat": 4,
 "nbformat_minor": 2
}
